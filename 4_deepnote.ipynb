{
 "cells": [
  {
   "cell_type": "code",
   "metadata": {
    "cell_id": "2e907202-ea86-4fba-81f7-cdd38cecd2b3",
    "tags": [],
    "deepnote_to_be_reexecuted": false,
    "source_hash": "adbe6457",
    "execution_start": 1643020492711,
    "execution_millis": 2216,
    "deepnote_cell_type": "code"
   },
   "source": "import json\nimport pandas as pd\n\nfrom datetime import datetime\nfrom modules.scoring import get_scoring_set, get_features, score, validate\nfrom modules.training import split_data, transform_data",
   "execution_count": 1,
   "outputs": []
  },
  {
   "cell_type": "code",
   "metadata": {
    "tags": [],
    "cell_id": "103aa6bc-980e-44d2-ba16-c4839c2ac078",
    "deepnote_to_be_reexecuted": false,
    "source_hash": "173511cd",
    "execution_start": 1643020494932,
    "execution_millis": 3,
    "deepnote_cell_type": "code"
   },
   "source": "def display_fanta_squad(predictions, teams, index):\n    fanta_team = predictions[predictions['fanta_team'] == teams[index]]\n    return fanta_team, index+1    ",
   "execution_count": 2,
   "outputs": []
  },
  {
   "cell_type": "code",
   "metadata": {
    "cell_id": "d23ee413-9026-4f27-9c72-c2440a754314",
    "tags": [],
    "deepnote_to_be_reexecuted": false,
    "source_hash": "4ed74052",
    "execution_start": 1643020494937,
    "execution_millis": 214224,
    "deepnote_cell_type": "code"
   },
   "source": "try:\n    \n    ###############################################################################################\n    status = 'Loading config ...'\n    print('{} -> {}'.format(datetime.now().strftime('%Y-%m-%d %H:%M:%S'), status))\n    with open('config/config.json') as config:\n        config = json.load(config)\n    status = 'Loading config done!'\n    print('{} -> {}'.format(datetime.now().strftime('%Y-%m-%d %H:%M:%S'), status))\n    ###############################################################################################\n\n    ###############################################################################################\n    status = 'Getting scoring set ...'\n    print('{} -> {}'.format(datetime.now().strftime('%Y-%m-%d %H:%M:%S'), status))\n    scoring_set = get_scoring_set(config['league_name'])\n    scoring_set = get_features(scoring_set, config['league_name'])\n    X_raw, metadata = split_data(scoring_set, metadata_columns=['fanta_team', 'date', 'role', 'player_id', 'player'], production=True)\n    status = 'Getting scoring set done!'\n    print('{} -> {}'.format(datetime.now().strftime('%Y-%m-%d %H:%M:%S'), status))\n    ###############################################################################################\n    \n    ###############################################################################################\n    status = 'Processing features ...'\n    print('{} -> {}'.format(datetime.now().strftime('%Y-%m-%d %H:%M:%S'), status))\n    X = transform_data(X_test_raw=X_raw, categorical_columns=['team', 'opponent', 'is_home', 'position'], production=True)\n    status = 'Processing features done!'\n    print('{} -> {}'.format(datetime.now().strftime('%Y-%m-%d %H:%M:%S'), status))\n    ###############################################################################################\n\n    ###############################################################################################\n    status = 'Scoring ...'\n    print('{} -> {}'.format(datetime.now().strftime('%Y-%m-%d %H:%M:%S'), status))\n    predictions = score(X, scoring_set, config['league_name'], config['gameweek']['current'])\n    status = 'Scoring done!'\n    print('{} -> {}'.format(datetime.now().strftime('%Y-%m-%d %H:%M:%S'), status))\n    ###############################################################################################\n\n    ###############################################################################################\n    status = 'Preparing predictions for display...'\n    print('{} -> {}'.format(datetime.now().strftime('%Y-%m-%d %H:%M:%S'), status))\n    predictions['player'] = predictions['player'].apply(lambda x: x.split(' ')[-1])\n    status = 'Preparing predictions for display done!'\n    print('{} -> {}'.format(datetime.now().strftime('%Y-%m-%d %H:%M:%S'), status))\n    ###############################################################################################\n\n    ###############################################################################################\n    status = 'Updating config ...'\n    print('{} -> {}'.format(datetime.now().strftime('%Y-%m-%d %H:%M:%S'), status))\n    config['gameweek']['current'] = config['gameweek']['current'] + 1\n    with open('config/config.json', 'w') as f:\n        json.dump(config, f, indent=4)\n    status = 'Updating config done!'\n    print('{} -> {}'.format(datetime.now().strftime('%Y-%m-%d %H:%M:%S'), status))\n    ###############################################################################################\n\nexcept Exception as e:\n    print('Exception: {}'.format(e))\n    print('Errored out during: {}'.format(status))",
   "execution_count": 3,
   "outputs": [
    {
     "name": "stdout",
     "text": "2022-01-24 10:34:54 -> Loading config ...\n2022-01-24 10:34:54 -> Loading config done!\n2022-01-24 10:34:54 -> Getting scoring set ...\n100%|██████████| 20/20 [00:14<00:00,  1.39it/s]\n100%|██████████| 176/176 [03:14<00:00,  1.10s/it]\n100%|██████████| 174/174 [00:05<00:00, 30.77it/s]2022-01-24 10:38:29 -> Getting scoring set done!\n2022-01-24 10:38:29 -> Processing features ...\n2022-01-24 10:38:29 -> Processing features done!\n2022-01-24 10:38:29 -> Scoring ...\n2022-01-24 10:38:29 -> Scoring done!\n2022-01-24 10:38:29 -> Preparing predictions for display...\n2022-01-24 10:38:29 -> Preparing predictions for display done!\n2022-01-24 10:38:29 -> Updating config ...\n2022-01-24 10:38:29 -> Updating config done!\n\nTrying to unpickle estimator StandardScaler from version 1.0.2 when using version 1.0.1. This might lead to breaking code or invalid results. Use at your own risk. For more info please refer to:\nhttps://scikit-learn.org/stable/modules/model_persistence.html#security-maintainability-limitations\nTrying to unpickle estimator OneHotEncoder from version 1.0.2 when using version 1.0.1. This might lead to breaking code or invalid results. Use at your own risk. For more info please refer to:\nhttps://scikit-learn.org/stable/modules/model_persistence.html#security-maintainability-limitations\nTrying to unpickle estimator ColumnTransformer from version 1.0.2 when using version 1.0.1. This might lead to breaking code or invalid results. Use at your own risk. For more info please refer to:\nhttps://scikit-learn.org/stable/modules/model_persistence.html#security-maintainability-limitations\n",
     "output_type": "stream"
    }
   ]
  },
  {
   "cell_type": "code",
   "source": "_deepnote_run_altair(predictions, \"\"\"{\"$schema\":\"https://vega.github.io/schema/vega-lite/v4.json\",\"mark\":{\"type\":\"bar\",\"tooltip\":{\"content\":\"data\"}},\"height\":220,\"autosize\":{\"type\":\"fit\"},\"data\":{\"name\":\"placeholder\"},\"encoding\":{\"x\":{\"field\":\"expected_bonus\",\"type\":\"quantitative\",\"sort\":null,\"scale\":{\"type\":\"linear\",\"zero\":false},\"aggregate\":\"sum\"},\"y\":{\"field\":\"fanta_team\",\"type\":\"nominal\",\"sort\":{\"order\":\"descending\",\"encoding\":\"x\"},\"scale\":{\"type\":\"linear\",\"zero\":true}},\"color\":{\"field\":\"fanta_team\",\"type\":\"nominal\",\"sort\":null,\"scale\":{\"type\":\"linear\",\"zero\":false}}}}\"\"\")",
   "metadata": {
    "cell_id": "3f73d722-4f57-4b44-9be4-166196a3d886",
    "deepnote_variable_name": "predictions",
    "deepnote_visualization_spec": {
     "$schema": "https://vega.github.io/schema/vega-lite/v4.json",
     "mark": {
      "type": "bar",
      "tooltip": {
       "content": "data"
      }
     },
     "height": 220,
     "autosize": {
      "type": "fit"
     },
     "data": {
      "name": "placeholder"
     },
     "encoding": {
      "x": {
       "field": "expected_bonus",
       "type": "quantitative",
       "sort": null,
       "scale": {
        "type": "linear",
        "zero": false
       },
       "aggregate": "sum"
      },
      "y": {
       "field": "fanta_team",
       "type": "nominal",
       "sort": {
        "order": "descending",
        "encoding": "x"
       },
       "scale": {
        "type": "linear",
        "zero": true
       }
      },
      "color": {
       "field": "fanta_team",
       "type": "nominal",
       "sort": null,
       "scale": {
        "type": "linear",
        "zero": false
       }
      }
     }
    },
    "deepnote_to_be_reexecuted": false,
    "source_hash": "425094db",
    "execution_start": 1643020709160,
    "execution_millis": 353,
    "deepnote_output_heights": [
     314
    ],
    "allow_embed": "output",
    "deepnote_cell_type": "visualization"
   },
   "outputs": [
    {
     "output_type": "execute_result",
     "execution_count": 4,
     "data": {
      "text/html": "\n<div id=\"altair-viz-3b052cebce2d49cab5ea4ee589dd8bf4\"></div>\n<script type=\"text/javascript\">\n  (function(spec, embedOpt){\n    let outputDiv = document.currentScript.previousElementSibling;\n    if (outputDiv.id !== \"altair-viz-3b052cebce2d49cab5ea4ee589dd8bf4\") {\n      outputDiv = document.getElementById(\"altair-viz-3b052cebce2d49cab5ea4ee589dd8bf4\");\n    }\n    const paths = {\n      \"vega\": \"https://cdn.jsdelivr.net/npm//vega@5?noext\",\n      \"vega-lib\": \"https://cdn.jsdelivr.net/npm//vega-lib?noext\",\n      \"vega-lite\": \"https://cdn.jsdelivr.net/npm//vega-lite@4.8.1?noext\",\n      \"vega-embed\": \"https://cdn.jsdelivr.net/npm//vega-embed@6?noext\",\n    };\n\n    function loadScript(lib) {\n      return new Promise(function(resolve, reject) {\n        var s = document.createElement('script');\n        s.src = paths[lib];\n        s.async = true;\n        s.onload = () => resolve(paths[lib]);\n        s.onerror = () => reject(`Error loading script: ${paths[lib]}`);\n        document.getElementsByTagName(\"head\")[0].appendChild(s);\n      });\n    }\n\n    function showError(err) {\n      outputDiv.innerHTML = `<div class=\"error\" style=\"color:red;\">${err}</div>`;\n      throw err;\n    }\n\n    function displayChart(vegaEmbed) {\n      vegaEmbed(outputDiv, spec, embedOpt)\n        .catch(err => showError(`Javascript Error: ${err.message}<br>This usually means there's a typo in your chart specification. See the javascript console for the full traceback.`));\n    }\n\n    if(typeof define === \"function\" && define.amd) {\n      requirejs.config({paths});\n      require([\"vega-embed\"], displayChart, err => showError(`Error loading script: ${err.message}`));\n    } else if (typeof vegaEmbed === \"function\") {\n      displayChart(vegaEmbed);\n    } else {\n      loadScript(\"vega\")\n        .then(() => loadScript(\"vega-lite\"))\n        .then(() => loadScript(\"vega-embed\"))\n        .catch(showError)\n        .then(() => displayChart(vegaEmbed));\n    }\n  })({\"config\": {\"view\": {\"continuousWidth\": 400, \"continuousHeight\": 300}, \"area\": {\"fill\": \"#51C0E9\"}, \"axis\": {\"labelFont\": \"Inter, sans-serif\", \"labelFontSize\": 12, \"labelFontWeight\": \"normal\", \"labelLimit\": 60, \"labelOverlap\": \"greedy\", \"titleFont\": \"Inter, sans-serif\", \"titleFontSize\": 12, \"titleFontWeight\": \"bold\"}, \"background\": \"#ffffff\", \"legend\": {\"labelFont\": \"Inter, sans-serif\", \"labelFontSize\": 12, \"titleFont\": \"Inter, sans-serif\", \"titleFontSize\": 12, \"titleFontWeight\": \"bold\"}, \"line\": {\"stroke\": \"#51C0E9\", \"strokeWidth\": 2}, \"rect\": {\"fill\": \"#51C0E9\"}, \"title\": {\"anchor\": \"start\", \"color\": \"#000000\", \"font\": \"Inter, sans-serif\", \"fontSize\": 22, \"fontWeight\": \"normal\"}}, \"data\": {\"name\": \"data-9cb27185215b552e0a94d73feaa607dd\"}, \"mark\": {\"type\": \"bar\", \"tooltip\": {\"content\": \"data\"}}, \"autosize\": {\"type\": \"fit\"}, \"encoding\": {\"color\": {\"type\": \"nominal\", \"field\": \"fanta_team\", \"scale\": {\"type\": \"linear\", \"zero\": false}, \"sort\": null}, \"x\": {\"type\": \"quantitative\", \"aggregate\": \"sum\", \"field\": \"expected_bonus\", \"scale\": {\"type\": \"linear\", \"zero\": false}, \"sort\": null}, \"y\": {\"type\": \"nominal\", \"field\": \"fanta_team\", \"scale\": {\"type\": \"linear\", \"zero\": true}, \"sort\": {\"encoding\": \"x\", \"order\": \"descending\"}}}, \"height\": 300, \"width\": \"container\", \"$schema\": \"https://vega.github.io/schema/vega-lite/v4.json\", \"datasets\": {\"data-9cb27185215b552e0a94d73feaa607dd\": [{\"fanta_team\": \"ssc mozzarella\", \"role\": \"D\", \"player\": \"Dumfries\", \"team\": \"Inter\", \"opponent\": \"AC Milan\", \"date\": \"2022-02-06T00:00:00\", \"expected_bonus\": 0.6005409955978394}, {\"fanta_team\": \"ssc mozzarella\", \"role\": \"D\", \"player\": \"Rui\", \"team\": \"Napoli\", \"opponent\": \"Venezia\", \"date\": \"2022-02-06T00:00:00\", \"expected_bonus\": 0.3836822509765625}, {\"fanta_team\": \"ssc mozzarella\", \"role\": \"D\", \"player\": \"Smalling\", \"team\": \"Roma\", \"opponent\": \"Genoa\", \"date\": \"2022-02-06T00:00:00\", \"expected_bonus\": 0.37299731373786926}, {\"fanta_team\": \"ssc mozzarella\", \"role\": \"D\", \"player\": \"Iba\\u00f1ez\", \"team\": \"Roma\", \"opponent\": \"Genoa\", \"date\": \"2022-02-06T00:00:00\", \"expected_bonus\": 0.3584762513637543}, {\"fanta_team\": \"ssc mozzarella\", \"role\": \"D\", \"player\": \"Gjimshiti\", \"team\": \"Atalanta\", \"opponent\": \"Cagliari\", \"date\": \"2022-02-06T00:00:00\", \"expected_bonus\": 0.3317990005016327}, {\"fanta_team\": \"ssc mozzarella\", \"role\": \"D\", \"player\": \"Felipe\", \"team\": \"Lazio\", \"opponent\": \"Fiorentina\", \"date\": \"2022-02-06T00:00:00\", \"expected_bonus\": 0.09974118322134018}, {\"fanta_team\": \"ssc mozzarella\", \"role\": \"D\", \"player\": \"Lazzari\", \"team\": \"Lazio\", \"opponent\": \"Fiorentina\", \"date\": \"2022-02-06T00:00:00\", \"expected_bonus\": 0.09043184667825699}, {\"fanta_team\": \"ssc mozzarella\", \"role\": \"D\", \"player\": \"Tomori\", \"team\": \"AC Milan\", \"opponent\": \"Inter\", \"date\": \"2022-02-06T00:00:00\", \"expected_bonus\": 0.026002204045653343}, {\"fanta_team\": \"ssc mozzarella\", \"role\": \"C\", \"player\": \"Chiesa\", \"team\": \"Juventus\", \"opponent\": \"Verona\", \"date\": \"2022-02-06T00:00:00\", \"expected_bonus\": 1.1011227369308472}, {\"fanta_team\": \"ssc mozzarella\", \"role\": \"C\", \"player\": \"Mkhitaryan\", \"team\": \"Roma\", \"opponent\": \"Genoa\", \"date\": \"2022-02-06T00:00:00\", \"expected_bonus\": 0.9681389331817627}, {\"fanta_team\": \"ssc mozzarella\", \"role\": \"C\", \"player\": \"Fabi\\u00e1n\", \"team\": \"Napoli\", \"opponent\": \"Venezia\", \"date\": \"2022-02-06T00:00:00\", \"expected_bonus\": 0.4854716658592224}, {\"fanta_team\": \"ssc mozzarella\", \"role\": \"C\", \"player\": \"Torreira\", \"team\": \"Fiorentina\", \"opponent\": \"Lazio\", \"date\": \"2022-02-06T00:00:00\", \"expected_bonus\": 0.3435881435871124}, {\"fanta_team\": \"ssc mozzarella\", \"role\": \"C\", \"player\": \"Freuler\", \"team\": \"Atalanta\", \"opponent\": \"Cagliari\", \"date\": \"2022-02-06T00:00:00\", \"expected_bonus\": 0.308956503868103}, {\"fanta_team\": \"ssc mozzarella\", \"role\": \"C\", \"player\": \"Lopez\", \"team\": \"Sassuolo\", \"opponent\": \"Sampdoria\", \"date\": \"2022-02-06T00:00:00\", \"expected_bonus\": 0.23814991116523743}, {\"fanta_team\": \"ssc mozzarella\", \"role\": \"C\", \"player\": \"Pereyra\", \"team\": \"Udinese\", \"opponent\": \"Torino\", \"date\": \"2022-02-06T00:00:00\", \"expected_bonus\": 0.2241310030221939}, {\"fanta_team\": \"ssc mozzarella\", \"role\": \"A\", \"player\": \"Osimhen\", \"team\": \"Napoli\", \"opponent\": \"Venezia\", \"date\": \"2022-02-06T00:00:00\", \"expected_bonus\": 1.5850496292114258}, {\"fanta_team\": \"ssc mozzarella\", \"role\": \"A\", \"player\": \"Bonazzoli\", \"team\": \"Salernitana\", \"opponent\": \"Spezia\", \"date\": \"2022-02-06T00:00:00\", \"expected_bonus\": 1.116824984550476}, {\"fanta_team\": \"ssc mozzarella\", \"role\": \"A\", \"player\": \"Ilicic\", \"team\": \"Atalanta\", \"opponent\": \"Cagliari\", \"date\": \"2022-02-06T00:00:00\", \"expected_bonus\": 1.0306427478790283}, {\"fanta_team\": \"ssc mozzarella\", \"role\": \"A\", \"player\": \"Politano\", \"team\": \"Napoli\", \"opponent\": \"Venezia\", \"date\": \"2022-02-06T00:00:00\", \"expected_bonus\": 0.4743782579898834}, {\"fanta_team\": \"ssc mozzarella\", \"role\": \"A\", \"player\": \"Rib\\u00e9ry\", \"team\": \"Salernitana\", \"opponent\": \"Spezia\", \"date\": \"2022-02-06T00:00:00\", \"expected_bonus\": 0.46379968523979187}, {\"fanta_team\": \"ssc mozzarella\", \"role\": \"A\", \"player\": \"Pavoletti\", \"team\": \"Cagliari\", \"opponent\": \"Atalanta\", \"date\": \"2022-02-06T00:00:00\", \"expected_bonus\": 0.3262117803096771}, {\"fanta_team\": \"Scansuolo \", \"role\": \"D\", \"player\": \"Karsdorp\", \"team\": \"Roma\", \"opponent\": \"Genoa\", \"date\": \"2022-02-06T00:00:00\", \"expected_bonus\": 0.41722774505615234}, {\"fanta_team\": \"Scansuolo \", \"role\": \"D\", \"player\": \"Demiral\", \"team\": \"Atalanta\", \"opponent\": \"Cagliari\", \"date\": \"2022-02-06T00:00:00\", \"expected_bonus\": 0.40876877307891846}, {\"fanta_team\": \"Scansuolo \", \"role\": \"D\", \"player\": \"Vojvoda\", \"team\": \"Torino\", \"opponent\": \"Udinese\", \"date\": \"2022-02-06T00:00:00\", \"expected_bonus\": 0.3307993710041046}, {\"fanta_team\": \"Scansuolo \", \"role\": \"D\", \"player\": \"Koulibaly\", \"team\": \"Napoli\", \"opponent\": \"Venezia\", \"date\": \"2022-02-06T00:00:00\", \"expected_bonus\": 0.27953410148620605}, {\"fanta_team\": \"Scansuolo \", \"role\": \"D\", \"player\": \"Hysaj\", \"team\": \"Lazio\", \"opponent\": \"Fiorentina\", \"date\": \"2022-02-06T00:00:00\", \"expected_bonus\": 0.0967743918299675}, {\"fanta_team\": \"Scansuolo \", \"role\": \"D\", \"player\": \"Ghiglione\", \"team\": \"Genoa\", \"opponent\": \"Roma\", \"date\": \"2022-02-06T00:00:00\", \"expected_bonus\": 0.06694852560758591}, {\"fanta_team\": \"Scansuolo \", \"role\": \"D\", \"player\": \"Maksimovic\", \"team\": \"Genoa\", \"opponent\": \"Roma\", \"date\": \"2022-02-06T00:00:00\", \"expected_bonus\": 0.04373743757605553}, {\"fanta_team\": \"Scansuolo \", \"role\": \"D\", \"player\": \"Zappa\", \"team\": \"Cagliari\", \"opponent\": \"Atalanta\", \"date\": \"2022-02-06T00:00:00\", \"expected_bonus\": -0.06476142257452011}, {\"fanta_team\": \"Scansuolo \", \"role\": \"C\", \"player\": \"Pessina\", \"team\": \"Atalanta\", \"opponent\": \"Cagliari\", \"date\": \"2022-02-06T00:00:00\", \"expected_bonus\": 0.7923232913017273}, {\"fanta_team\": \"Scansuolo \", \"role\": \"C\", \"player\": \"Diaz\", \"team\": \"AC Milan\", \"opponent\": \"Inter\", \"date\": \"2022-02-06T00:00:00\", \"expected_bonus\": 0.4346880614757538}, {\"fanta_team\": \"Scansuolo \", \"role\": \"C\", \"player\": \"Messias\", \"team\": \"AC Milan\", \"opponent\": \"Inter\", \"date\": \"2022-02-06T00:00:00\", \"expected_bonus\": 0.4064529836177826}, {\"fanta_team\": \"Scansuolo \", \"role\": \"C\", \"player\": \"Zaccagni\", \"team\": \"Lazio\", \"opponent\": \"Fiorentina\", \"date\": \"2022-02-06T00:00:00\", \"expected_bonus\": 0.3910810947418213}, {\"fanta_team\": \"Scansuolo \", \"role\": \"C\", \"player\": \"Traore\", \"team\": \"Sassuolo\", \"opponent\": \"Sampdoria\", \"date\": \"2022-02-06T00:00:00\", \"expected_bonus\": 0.14361204206943512}, {\"fanta_team\": \"Scansuolo \", \"role\": \"C\", \"player\": \"Ilic\", \"team\": \"Verona\", \"opponent\": \"Juventus\", \"date\": \"2022-02-06T00:00:00\", \"expected_bonus\": 0.08485637605190277}, {\"fanta_team\": \"Scansuolo \", \"role\": \"C\", \"player\": \"Sigurdsson\", \"team\": \"Venezia\", \"opponent\": \"Napoli\", \"date\": \"2022-02-06T00:00:00\", \"expected_bonus\": 0.06604966521263123}, {\"fanta_team\": \"Scansuolo \", \"role\": \"C\", \"player\": \"Hernani\", \"team\": \"Genoa\", \"opponent\": \"Roma\", \"date\": \"2022-02-06T00:00:00\", \"expected_bonus\": 0.0056663090363144875}, {\"fanta_team\": \"Scansuolo \", \"role\": \"A\", \"player\": \"Immobile\", \"team\": \"Lazio\", \"opponent\": \"Fiorentina\", \"date\": \"2022-02-06T00:00:00\", \"expected_bonus\": 1.6485178470611572}, {\"fanta_team\": \"Scansuolo \", \"role\": \"A\", \"player\": \"Scamacca\", \"team\": \"Sassuolo\", \"opponent\": \"Sampdoria\", \"date\": \"2022-02-06T00:00:00\", \"expected_bonus\": 1.4131101369857788}, {\"fanta_team\": \"Scansuolo \", \"role\": \"A\", \"player\": \"Simy\", \"team\": \"Salernitana\", \"opponent\": \"Spezia\", \"date\": \"2022-02-06T00:00:00\", \"expected_bonus\": 1.0817750692367554}, {\"fanta_team\": \"Scansuolo \", \"role\": \"A\", \"player\": \"Pedro\", \"team\": \"Cagliari\", \"opponent\": \"Atalanta\", \"date\": \"2022-02-06T00:00:00\", \"expected_bonus\": 0.9105079770088196}, {\"fanta_team\": \"Scansuolo \", \"role\": \"A\", \"player\": \"Le\\u00e3o\", \"team\": \"AC Milan\", \"opponent\": \"Inter\", \"date\": \"2022-02-06T00:00:00\", \"expected_bonus\": 0.7239936590194702}, {\"fanta_team\": \"Scansuolo \", \"role\": \"A\", \"player\": \"Caicedo\", \"team\": \"Genoa\", \"opponent\": \"Roma\", \"date\": \"2022-02-06T00:00:00\", \"expected_bonus\": 0.31020811200141907}, {\"fanta_team\": \"Rione Monti\", \"role\": \"D\", \"player\": \"Maehle\", \"team\": \"Atalanta\", \"opponent\": \"Cagliari\", \"date\": \"2022-02-06T00:00:00\", \"expected_bonus\": 0.4537584185600281}, {\"fanta_team\": \"Rione Monti\", \"role\": \"D\", \"player\": \"Biraghi\", \"team\": \"Fiorentina\", \"opponent\": \"Lazio\", \"date\": \"2022-02-06T00:00:00\", \"expected_bonus\": 0.3947066366672516}, {\"fanta_team\": \"Rione Monti\", \"role\": \"D\", \"player\": \"Bremer\", \"team\": \"Torino\", \"opponent\": \"Udinese\", \"date\": \"2022-02-06T00:00:00\", \"expected_bonus\": 0.37777015566825867}, {\"fanta_team\": \"Rione Monti\", \"role\": \"D\", \"player\": \"Vi\\u00f1a\", \"team\": \"Roma\", \"opponent\": \"Genoa\", \"date\": \"2022-02-06T00:00:00\", \"expected_bonus\": 0.3710690140724182}, {\"fanta_team\": \"Rione Monti\", \"role\": \"D\", \"player\": \"Mancini\", \"team\": \"Roma\", \"opponent\": \"Genoa\", \"date\": \"2022-02-06T00:00:00\", \"expected_bonus\": 0.36776217818260193}, {\"fanta_team\": \"Rione Monti\", \"role\": \"D\", \"player\": \"Singo\", \"team\": \"Torino\", \"opponent\": \"Udinese\", \"date\": \"2022-02-06T00:00:00\", \"expected_bonus\": 0.3578048646450043}, {\"fanta_team\": \"Rione Monti\", \"role\": \"D\", \"player\": \"Bastoni\", \"team\": \"Spezia\", \"opponent\": \"Salernitana\", \"date\": \"2022-02-06T00:00:00\", \"expected_bonus\": 0.22859519720077515}, {\"fanta_team\": \"Rione Monti\", \"role\": \"D\", \"player\": \"Udogie\", \"team\": \"Udinese\", \"opponent\": \"Torino\", \"date\": \"2022-02-06T00:00:00\", \"expected_bonus\": 0.12640851736068726}, {\"fanta_team\": \"Rione Monti\", \"role\": \"C\", \"player\": \"Pellegrini\", \"team\": \"Roma\", \"opponent\": \"Genoa\", \"date\": \"2022-02-06T00:00:00\", \"expected_bonus\": 1.122791051864624}, {\"fanta_team\": \"Rione Monti\", \"role\": \"C\", \"player\": \"Zaniolo\", \"team\": \"Roma\", \"opponent\": \"Genoa\", \"date\": \"2022-02-06T00:00:00\", \"expected_bonus\": 0.9296594858169556}, {\"fanta_team\": \"Rione Monti\", \"role\": \"C\", \"player\": \"Frattesi\", \"team\": \"Sassuolo\", \"opponent\": \"Sampdoria\", \"date\": \"2022-02-06T00:00:00\", \"expected_bonus\": 0.5942914485931396}, {\"fanta_team\": \"Rione Monti\", \"role\": \"C\", \"player\": \"Anderson\", \"team\": \"Lazio\", \"opponent\": \"Fiorentina\", \"date\": \"2022-02-06T00:00:00\", \"expected_bonus\": 0.4444437623023987}, {\"fanta_team\": \"Rione Monti\", \"role\": \"C\", \"player\": \"Vidal\", \"team\": \"Inter\", \"opponent\": \"AC Milan\", \"date\": \"2022-02-06T00:00:00\", \"expected_bonus\": 0.3773445785045624}, {\"fanta_team\": \"Rione Monti\", \"role\": \"C\", \"player\": \"Damsgaard\", \"team\": \"Sampdoria\", \"opponent\": \"Sassuolo\", \"date\": \"2022-02-06T00:00:00\", \"expected_bonus\": 0.36265328526496887}, {\"fanta_team\": \"Rione Monti\", \"role\": \"C\", \"player\": \"Kovalenko\", \"team\": \"Spezia\", \"opponent\": \"Salernitana\", \"date\": \"2022-02-06T00:00:00\", \"expected_bonus\": 0.11570324748754501}, {\"fanta_team\": \"Rione Monti\", \"role\": \"C\", \"player\": \"Strootman\", \"team\": \"Cagliari\", \"opponent\": \"Atalanta\", \"date\": \"2022-02-06T00:00:00\", \"expected_bonus\": 0.00035419000778347254}, {\"fanta_team\": \"Rione Monti\", \"role\": \"A\", \"player\": \"Dzeko\", \"team\": \"Inter\", \"opponent\": \"AC Milan\", \"date\": \"2022-02-06T00:00:00\", \"expected_bonus\": 1.5056990385055542}, {\"fanta_team\": \"Rione Monti\", \"role\": \"A\", \"player\": \"Morata\", \"team\": \"Juventus\", \"opponent\": \"Verona\", \"date\": \"2022-02-06T00:00:00\", \"expected_bonus\": 1.1189982891082764}, {\"fanta_team\": \"Rione Monti\", \"role\": \"A\", \"player\": \"Shomurodov\", \"team\": \"Roma\", \"opponent\": \"Genoa\", \"date\": \"2022-02-06T00:00:00\", \"expected_bonus\": 1.0206724405288696}, {\"fanta_team\": \"Rione Monti\", \"role\": \"A\", \"player\": \"Ibrahimovic\", \"team\": \"AC Milan\", \"opponent\": \"Inter\", \"date\": \"2022-02-06T00:00:00\", \"expected_bonus\": 0.9844322800636292}, {\"fanta_team\": \"Rione Monti\", \"role\": \"A\", \"player\": \"Raspadori\", \"team\": \"Sassuolo\", \"opponent\": \"Sampdoria\", \"date\": \"2022-02-06T00:00:00\", \"expected_bonus\": 0.9271450042724609}, {\"fanta_team\": \"Rione Monti\", \"role\": \"A\", \"player\": \"Pedro\", \"team\": \"Lazio\", \"opponent\": \"Fiorentina\", \"date\": \"2022-02-06T00:00:00\", \"expected_bonus\": 0.7648935317993164}, {\"fanta_team\": \"MaiNa Joya_v2.0\", \"role\": \"D\", \"player\": \"Hern\\u00e1ndez\", \"team\": \"AC Milan\", \"opponent\": \"Inter\", \"date\": \"2022-02-06T00:00:00\", \"expected_bonus\": 0.3474601209163666}, {\"fanta_team\": \"MaiNa Joya_v2.0\", \"role\": \"D\", \"player\": \"Toloi\", \"team\": \"Atalanta\", \"opponent\": \"Cagliari\", \"date\": \"2022-02-06T00:00:00\", \"expected_bonus\": 0.3081672191619873}, {\"fanta_team\": \"MaiNa Joya_v2.0\", \"role\": \"D\", \"player\": \"Milenkovic\", \"team\": \"Fiorentina\", \"opponent\": \"Lazio\", \"date\": \"2022-02-06T00:00:00\", \"expected_bonus\": 0.25245851278305054}, {\"fanta_team\": \"MaiNa Joya_v2.0\", \"role\": \"D\", \"player\": \"Ferrari\", \"team\": \"Sassuolo\", \"opponent\": \"Sampdoria\", \"date\": \"2022-02-06T00:00:00\", \"expected_bonus\": 0.22380313277244568}, {\"fanta_team\": \"MaiNa Joya_v2.0\", \"role\": \"D\", \"player\": \"Molina\", \"team\": \"Udinese\", \"opponent\": \"Torino\", \"date\": \"2022-02-06T00:00:00\", \"expected_bonus\": 0.1963881254196167}, {\"fanta_team\": \"MaiNa Joya_v2.0\", \"role\": \"D\", \"player\": \"Ruggeri\", \"team\": \"Salernitana\", \"opponent\": \"Spezia\", \"date\": \"2022-02-06T00:00:00\", \"expected_bonus\": 0.18300798535346985}, {\"fanta_team\": \"MaiNa Joya_v2.0\", \"role\": \"D\", \"player\": \"Stojanovic\", \"team\": \"Empoli\", \"opponent\": \"Bologna\", \"date\": \"2022-02-06T00:00:00\", \"expected_bonus\": 0.17170797288417816}, {\"fanta_team\": \"MaiNa Joya_v2.0\", \"role\": \"D\", \"player\": \"God\\u00edn\", \"team\": \"Cagliari\", \"opponent\": \"Atalanta\", \"date\": \"2022-02-06T00:00:00\", \"expected_bonus\": -0.01859787479043007}, {\"fanta_team\": \"MaiNa Joya_v2.0\", \"role\": \"C\", \"player\": \"Bajrami\", \"team\": \"Empoli\", \"opponent\": \"Bologna\", \"date\": \"2022-02-06T00:00:00\", \"expected_bonus\": 0.8293419480323792}, {\"fanta_team\": \"MaiNa Joya_v2.0\", \"role\": \"C\", \"player\": \"Veretout\", \"team\": \"Roma\", \"opponent\": \"Genoa\", \"date\": \"2022-02-06T00:00:00\", \"expected_bonus\": 0.7477874159812927}, {\"fanta_team\": \"MaiNa Joya_v2.0\", \"role\": \"C\", \"player\": \"Milinkovic-Savic\", \"team\": \"Lazio\", \"opponent\": \"Fiorentina\", \"date\": \"2022-02-06T00:00:00\", \"expected_bonus\": 0.7404285669326782}, {\"fanta_team\": \"MaiNa Joya_v2.0\", \"role\": \"C\", \"player\": \"Djuricic\", \"team\": \"Sassuolo\", \"opponent\": \"Sampdoria\", \"date\": \"2022-02-06T00:00:00\", \"expected_bonus\": 0.6912519931793213}, {\"fanta_team\": \"MaiNa Joya_v2.0\", \"role\": \"C\", \"player\": \"Barella\", \"team\": \"Inter\", \"opponent\": \"AC Milan\", \"date\": \"2022-02-06T00:00:00\", \"expected_bonus\": 0.6720432043075562}, {\"fanta_team\": \"MaiNa Joya_v2.0\", \"role\": \"C\", \"player\": \"Pobega\", \"team\": \"Torino\", \"opponent\": \"Udinese\", \"date\": \"2022-02-06T00:00:00\", \"expected_bonus\": 0.5923832654953003}, {\"fanta_team\": \"MaiNa Joya_v2.0\", \"role\": \"C\", \"player\": \"Maleh\", \"team\": \"Fiorentina\", \"opponent\": \"Lazio\", \"date\": \"2022-02-06T00:00:00\", \"expected_bonus\": 0.429970920085907}, {\"fanta_team\": \"MaiNa Joya_v2.0\", \"role\": \"C\", \"player\": \"Roon\", \"team\": \"Atalanta\", \"opponent\": \"Cagliari\", \"date\": \"2022-02-06T00:00:00\", \"expected_bonus\": 0.308956503868103}, {\"fanta_team\": \"MaiNa Joya_v2.0\", \"role\": \"A\", \"player\": \"Abraham\", \"team\": \"Roma\", \"opponent\": \"Genoa\", \"date\": \"2022-02-06T00:00:00\", \"expected_bonus\": 1.8938307762145996}, {\"fanta_team\": \"MaiNa Joya_v2.0\", \"role\": \"A\", \"player\": \"Insigne\", \"team\": \"Napoli\", \"opponent\": \"Venezia\", \"date\": \"2022-02-06T00:00:00\", \"expected_bonus\": 1.8863590955734253}, {\"fanta_team\": \"MaiNa Joya_v2.0\", \"role\": \"A\", \"player\": \"Arnautovic\", \"team\": \"Bologna\", \"opponent\": \"Empoli\", \"date\": \"2022-02-06T00:00:00\", \"expected_bonus\": 1.2366653680801392}, {\"fanta_team\": \"MaiNa Joya_v2.0\", \"role\": \"A\", \"player\": \"Cutrone\", \"team\": \"Empoli\", \"opponent\": \"Bologna\", \"date\": \"2022-02-06T00:00:00\", \"expected_bonus\": 1.1603566408157349}, {\"fanta_team\": \"MaiNa Joya_v2.0\", \"role\": \"A\", \"player\": \"Brekalo\", \"team\": \"Torino\", \"opponent\": \"Udinese\", \"date\": \"2022-02-06T00:00:00\", \"expected_bonus\": 0.9360732436180115}, {\"fanta_team\": \"MaiNa Joya_v2.0\", \"role\": \"A\", \"player\": \"Pussetto\", \"team\": \"Udinese\", \"opponent\": \"Torino\", \"date\": \"2022-02-06T00:00:00\", \"expected_bonus\": 0.3307020366191864}, {\"fanta_team\": \"MEZAFE\", \"role\": \"D\", \"player\": \"Zappacosta\", \"team\": \"Atalanta\", \"opponent\": \"Cagliari\", \"date\": \"2022-02-06T00:00:00\", \"expected_bonus\": 0.5793812274932861}, {\"fanta_team\": \"MEZAFE\", \"role\": \"D\", \"player\": \"Criscito\", \"team\": \"Genoa\", \"opponent\": \"Roma\", \"date\": \"2022-02-06T00:00:00\", \"expected_bonus\": 0.44970008730888367}, {\"fanta_team\": \"MEZAFE\", \"role\": \"D\", \"player\": \"Bonucci\", \"team\": \"Juventus\", \"opponent\": \"Verona\", \"date\": \"2022-02-06T00:00:00\", \"expected_bonus\": 0.4159676134586334}, {\"fanta_team\": \"MEZAFE\", \"role\": \"D\", \"player\": \"Danilo\", \"team\": \"Juventus\", \"opponent\": \"Verona\", \"date\": \"2022-02-06T00:00:00\", \"expected_bonus\": 0.21612174808979034}, {\"fanta_team\": \"MEZAFE\", \"role\": \"D\", \"player\": \"Chiellini\", \"team\": \"Juventus\", \"opponent\": \"Verona\", \"date\": \"2022-02-06T00:00:00\", \"expected_bonus\": 0.1829792857170105}, {\"fanta_team\": \"MEZAFE\", \"role\": \"D\", \"player\": \"Vrij\", \"team\": \"Inter\", \"opponent\": \"AC Milan\", \"date\": \"2022-02-06T00:00:00\", \"expected_bonus\": 0.1692780703306198}, {\"fanta_team\": \"MEZAFE\", \"role\": \"D\", \"player\": \"Acerbi\", \"team\": \"Lazio\", \"opponent\": \"Fiorentina\", \"date\": \"2022-02-06T00:00:00\", \"expected_bonus\": 0.1412891447544098}, {\"fanta_team\": \"MEZAFE\", \"role\": \"D\", \"player\": \"Nastasic\", \"team\": \"Fiorentina\", \"opponent\": \"Lazio\", \"date\": \"2022-02-06T00:00:00\", \"expected_bonus\": 0.11868999898433685}, {\"fanta_team\": \"MEZAFE\", \"role\": \"C\", \"player\": \"Pasalic\", \"team\": \"Atalanta\", \"opponent\": \"Cagliari\", \"date\": \"2022-02-06T00:00:00\", \"expected_bonus\": 0.9389826059341431}, {\"fanta_team\": \"MEZAFE\", \"role\": \"C\", \"player\": \"Verdi\", \"team\": \"Torino\", \"opponent\": \"Udinese\", \"date\": \"2022-02-06T00:00:00\", \"expected_bonus\": 0.8558139204978943}, {\"fanta_team\": \"MEZAFE\", \"role\": \"C\", \"player\": \"Saelemaekers\", \"team\": \"AC Milan\", \"opponent\": \"Inter\", \"date\": \"2022-02-06T00:00:00\", \"expected_bonus\": 0.40561145544052124}, {\"fanta_team\": \"MEZAFE\", \"role\": \"C\", \"player\": \"Cristante\", \"team\": \"Roma\", \"opponent\": \"Genoa\", \"date\": \"2022-02-06T00:00:00\", \"expected_bonus\": 0.400628924369812}, {\"fanta_team\": \"MEZAFE\", \"role\": \"C\", \"player\": \"McKennie\", \"team\": \"Juventus\", \"opponent\": \"Verona\", \"date\": \"2022-02-06T00:00:00\", \"expected_bonus\": 0.40008121728897095}, {\"fanta_team\": \"MEZAFE\", \"role\": \"C\", \"player\": \"Perisic\", \"team\": \"Inter\", \"opponent\": \"AC Milan\", \"date\": \"2022-02-06T00:00:00\", \"expected_bonus\": 0.3571339249610901}, {\"fanta_team\": \"MEZAFE\", \"role\": \"C\", \"player\": \"Castrovilli\", \"team\": \"Fiorentina\", \"opponent\": \"Lazio\", \"date\": \"2022-02-06T00:00:00\", \"expected_bonus\": 0.24893705546855927}, {\"fanta_team\": \"MEZAFE\", \"role\": \"C\", \"player\": \"Tonali\", \"team\": \"AC Milan\", \"opponent\": \"Inter\", \"date\": \"2022-02-06T00:00:00\", \"expected_bonus\": 0.13725361227989197}, {\"fanta_team\": \"MEZAFE\", \"role\": \"A\", \"player\": \"Dybala\", \"team\": \"Juventus\", \"opponent\": \"Verona\", \"date\": \"2022-02-06T00:00:00\", \"expected_bonus\": 1.541955590248108}, {\"fanta_team\": \"MEZAFE\", \"role\": \"A\", \"player\": \"Correa\", \"team\": \"Inter\", \"opponent\": \"AC Milan\", \"date\": \"2022-02-06T00:00:00\", \"expected_bonus\": 1.0678253173828125}, {\"fanta_team\": \"MEZAFE\", \"role\": \"A\", \"player\": \"Quagliarella\", \"team\": \"Sampdoria\", \"opponent\": \"Sassuolo\", \"date\": \"2022-02-06T00:00:00\", \"expected_bonus\": 0.9384069442749023}, {\"fanta_team\": \"MEZAFE\", \"role\": \"A\", \"player\": \"Simeone\", \"team\": \"Verona\", \"opponent\": \"Juventus\", \"date\": \"2022-02-06T00:00:00\", \"expected_bonus\": 0.7986881136894226}, {\"fanta_team\": \"MEZAFE\", \"role\": \"A\", \"player\": \"Kean\", \"team\": \"Juventus\", \"opponent\": \"Verona\", \"date\": \"2022-02-06T00:00:00\", \"expected_bonus\": 0.3986343443393707}, {\"fanta_team\": \"MEZAFE\", \"role\": \"A\", \"player\": \"Rebic\", \"team\": \"AC Milan\", \"opponent\": \"Inter\", \"date\": \"2022-02-06T00:00:00\", \"expected_bonus\": 0.1273774355649948}, {\"fanta_team\": \"Beverly INPS\", \"role\": \"D\", \"player\": \"Dimarco\", \"team\": \"Inter\", \"opponent\": \"AC Milan\", \"date\": \"2022-02-06T00:00:00\", \"expected_bonus\": 0.4206758439540863}, {\"fanta_team\": \"Beverly INPS\", \"role\": \"D\", \"player\": \"Cuadrado\", \"team\": \"Juventus\", \"opponent\": \"Verona\", \"date\": \"2022-02-06T00:00:00\", \"expected_bonus\": 0.32466208934783936}, {\"fanta_team\": \"Beverly INPS\", \"role\": \"D\", \"player\": \"Lorenzo\", \"team\": \"Napoli\", \"opponent\": \"Venezia\", \"date\": \"2022-02-06T00:00:00\", \"expected_bonus\": 0.2900335490703583}, {\"fanta_team\": \"Beverly INPS\", \"role\": \"D\", \"player\": \"Bastoni\", \"team\": \"Inter\", \"opponent\": \"AC Milan\", \"date\": \"2022-02-06T00:00:00\", \"expected_bonus\": 0.15947769582271576}, {\"fanta_team\": \"Beverly INPS\", \"role\": \"D\", \"player\": \"Nuytinck\", \"team\": \"Udinese\", \"opponent\": \"Torino\", \"date\": \"2022-02-06T00:00:00\", \"expected_bonus\": 0.09269841015338898}, {\"fanta_team\": \"Beverly INPS\", \"role\": \"D\", \"player\": \"Romagnoli\", \"team\": \"AC Milan\", \"opponent\": \"Inter\", \"date\": \"2022-02-06T00:00:00\", \"expected_bonus\": 0.016066400334239006}, {\"fanta_team\": \"Beverly INPS\", \"role\": \"D\", \"player\": \"Kjaer\", \"team\": \"AC Milan\", \"opponent\": \"Inter\", \"date\": \"2022-02-06T00:00:00\", \"expected_bonus\": 0.00017441518139094114}, {\"fanta_team\": \"Beverly INPS\", \"role\": \"C\", \"player\": \"Zielinski\", \"team\": \"Napoli\", \"opponent\": \"Venezia\", \"date\": \"2022-02-06T00:00:00\", \"expected_bonus\": 0.9315305948257446}, {\"fanta_team\": \"Beverly INPS\", \"role\": \"C\", \"player\": \"Praet\", \"team\": \"Torino\", \"opponent\": \"Udinese\", \"date\": \"2022-02-06T00:00:00\", \"expected_bonus\": 0.6227831840515137}, {\"fanta_team\": \"Beverly INPS\", \"role\": \"C\", \"player\": \"Barak\", \"team\": \"Verona\", \"opponent\": \"Juventus\", \"date\": \"2022-02-06T00:00:00\", \"expected_bonus\": 0.5896614789962769}, {\"fanta_team\": \"Beverly INPS\", \"role\": \"C\", \"player\": \"Callej\\u00f3n\", \"team\": \"Fiorentina\", \"opponent\": \"Lazio\", \"date\": \"2022-02-06T00:00:00\", \"expected_bonus\": 0.5088668465614319}, {\"fanta_team\": \"Beverly INPS\", \"role\": \"C\", \"player\": \"Kulusevski\", \"team\": \"Juventus\", \"opponent\": \"Verona\", \"date\": \"2022-02-06T00:00:00\", \"expected_bonus\": 0.502980649471283}, {\"fanta_team\": \"Beverly INPS\", \"role\": \"C\", \"player\": \"Alberto\", \"team\": \"Lazio\", \"opponent\": \"Fiorentina\", \"date\": \"2022-02-06T00:00:00\", \"expected_bonus\": 0.4212792217731476}, {\"fanta_team\": \"Beverly INPS\", \"role\": \"C\", \"player\": \"Kessi\\u00e9\", \"team\": \"AC Milan\", \"opponent\": \"Inter\", \"date\": \"2022-02-06T00:00:00\", \"expected_bonus\": 0.36078324913978577}, {\"fanta_team\": \"Beverly INPS\", \"role\": \"C\", \"player\": \"Elmas\", \"team\": \"Napoli\", \"opponent\": \"Venezia\", \"date\": \"2022-02-06T00:00:00\", \"expected_bonus\": 0.33594703674316406}, {\"fanta_team\": \"Beverly INPS\", \"role\": \"A\", \"player\": \"Mart\\u00ednez\", \"team\": \"Inter\", \"opponent\": \"AC Milan\", \"date\": \"2022-02-06T00:00:00\", \"expected_bonus\": 1.6364636421203613}, {\"fanta_team\": \"Beverly INPS\", \"role\": \"A\", \"player\": \"Berardi\", \"team\": \"Sassuolo\", \"opponent\": \"Sampdoria\", \"date\": \"2022-02-06T00:00:00\", \"expected_bonus\": 1.4518170356750488}, {\"fanta_team\": \"Beverly INPS\", \"role\": \"A\", \"player\": \"Mertens\", \"team\": \"Napoli\", \"opponent\": \"Venezia\", \"date\": \"2022-02-06T00:00:00\", \"expected_bonus\": 1.322053074836731}, {\"fanta_team\": \"Beverly INPS\", \"role\": \"A\", \"player\": \"Barrow\", \"team\": \"Bologna\", \"opponent\": \"Empoli\", \"date\": \"2022-02-06T00:00:00\", \"expected_bonus\": 1.1547521352767944}, {\"fanta_team\": \"Beverly INPS\", \"role\": \"A\", \"player\": \"Nzola\", \"team\": \"Spezia\", \"opponent\": \"Salernitana\", \"date\": \"2022-02-06T00:00:00\", \"expected_bonus\": 1.002860426902771}, {\"fanta_team\": \"Beverly INPS\", \"role\": \"A\", \"player\": \"Gonz\\u00e1lez\", \"team\": \"Fiorentina\", \"opponent\": \"Lazio\", \"date\": \"2022-02-06T00:00:00\", \"expected_bonus\": 0.8554818034172058}, {\"fanta_team\": \"AI sereje ja dejeDe jebe tu de jebere\", \"role\": \"D\", \"player\": \"Gosens\", \"team\": \"Atalanta\", \"opponent\": \"Cagliari\", \"date\": \"2022-02-06T00:00:00\", \"expected_bonus\": 0.76018887758255}, {\"fanta_team\": \"AI sereje ja dejeDe jebe tu de jebere\", \"role\": \"D\", \"player\": \"Rrahmani\", \"team\": \"Napoli\", \"opponent\": \"Venezia\", \"date\": \"2022-02-06T00:00:00\", \"expected_bonus\": 0.31365135312080383}, {\"fanta_team\": \"AI sereje ja dejeDe jebe tu de jebere\", \"role\": \"D\", \"player\": \"Silvestri\", \"team\": \"Bologna\", \"opponent\": \"Empoli\", \"date\": \"2022-02-06T00:00:00\", \"expected_bonus\": 0.2843353748321533}, {\"fanta_team\": \"AI sereje ja dejeDe jebe tu de jebere\", \"role\": \"D\", \"player\": \"Skriniar\", \"team\": \"Inter\", \"opponent\": \"AC Milan\", \"date\": \"2022-02-06T00:00:00\", \"expected_bonus\": 0.2626163363456726}, {\"fanta_team\": \"AI sereje ja dejeDe jebe tu de jebere\", \"role\": \"D\", \"player\": \"Darmian\", \"team\": \"Inter\", \"opponent\": \"AC Milan\", \"date\": \"2022-02-06T00:00:00\", \"expected_bonus\": 0.2171114683151245}, {\"fanta_team\": \"AI sereje ja dejeDe jebe tu de jebere\", \"role\": \"D\", \"player\": \"Manolas\", \"team\": \"Napoli\", \"opponent\": \"Venezia\", \"date\": \"2022-02-06T00:00:00\", \"expected_bonus\": 0.2052934169769287}, {\"fanta_team\": \"AI sereje ja dejeDe jebe tu de jebere\", \"role\": \"D\", \"player\": \"Augello\", \"team\": \"Sampdoria\", \"opponent\": \"Sassuolo\", \"date\": \"2022-02-06T00:00:00\", \"expected_bonus\": 0.14577056467533112}, {\"fanta_team\": \"AI sereje ja dejeDe jebe tu de jebere\", \"role\": \"D\", \"player\": \"Haps\", \"team\": \"Venezia\", \"opponent\": \"Napoli\", \"date\": \"2022-02-06T00:00:00\", \"expected_bonus\": 0.10129750519990921}, {\"fanta_team\": \"AI sereje ja dejeDe jebe tu de jebere\", \"role\": \"C\", \"player\": \"Miranchuk\", \"team\": \"Atalanta\", \"opponent\": \"Cagliari\", \"date\": \"2022-02-06T00:00:00\", \"expected_bonus\": 0.7585000991821289}, {\"fanta_team\": \"AI sereje ja dejeDe jebe tu de jebere\", \"role\": \"C\", \"player\": \"Candreva\", \"team\": \"Sampdoria\", \"opponent\": \"Sassuolo\", \"date\": \"2022-02-06T00:00:00\", \"expected_bonus\": 0.6882874965667725}, {\"fanta_team\": \"AI sereje ja dejeDe jebe tu de jebere\", \"role\": \"C\", \"player\": \"Bonaventura\", \"team\": \"Fiorentina\", \"opponent\": \"Lazio\", \"date\": \"2022-02-06T00:00:00\", \"expected_bonus\": 0.6184835433959961}, {\"fanta_team\": \"AI sereje ja dejeDe jebe tu de jebere\", \"role\": \"C\", \"player\": \"Soriano\", \"team\": \"Bologna\", \"opponent\": \"Empoli\", \"date\": \"2022-02-06T00:00:00\", \"expected_bonus\": 0.4385858178138733}, {\"fanta_team\": \"AI sereje ja dejeDe jebe tu de jebere\", \"role\": \"C\", \"player\": \"Maggiore\", \"team\": \"Spezia\", \"opponent\": \"Salernitana\", \"date\": \"2022-02-06T00:00:00\", \"expected_bonus\": 0.27582940459251404}, {\"fanta_team\": \"AI sereje ja dejeDe jebe tu de jebere\", \"role\": \"C\", \"player\": \"Locatelli\", \"team\": \"Juventus\", \"opponent\": \"Verona\", \"date\": \"2022-02-06T00:00:00\", \"expected_bonus\": 0.2567686140537262}, {\"fanta_team\": \"AI sereje ja dejeDe jebe tu de jebere\", \"role\": \"C\", \"player\": \"Brozovic\", \"team\": \"Inter\", \"opponent\": \"AC Milan\", \"date\": \"2022-02-06T00:00:00\", \"expected_bonus\": 0.21947680413722992}, {\"fanta_team\": \"AI sereje ja dejeDe jebe tu de jebere\", \"role\": \"C\", \"player\": \"Lazovic\", \"team\": \"Verona\", \"opponent\": \"Juventus\", \"date\": \"2022-02-06T00:00:00\", \"expected_bonus\": 0.1899845451116562}, {\"fanta_team\": \"AI sereje ja dejeDe jebe tu de jebere\", \"role\": \"A\", \"player\": \"Zapata\", \"team\": \"Atalanta\", \"opponent\": \"Cagliari\", \"date\": \"2022-02-06T00:00:00\", \"expected_bonus\": 2.0789172649383545}, {\"fanta_team\": \"AI sereje ja dejeDe jebe tu de jebere\", \"role\": \"A\", \"player\": \"Vlahovic\", \"team\": \"Fiorentina\", \"opponent\": \"Lazio\", \"date\": \"2022-02-06T00:00:00\", \"expected_bonus\": 2.007714033126831}, {\"fanta_team\": \"AI sereje ja dejeDe jebe tu de jebere\", \"role\": \"A\", \"player\": \"Lozano\", \"team\": \"Napoli\", \"opponent\": \"Venezia\", \"date\": \"2022-02-06T00:00:00\", \"expected_bonus\": 1.1195173263549805}, {\"fanta_team\": \"AI sereje ja dejeDe jebe tu de jebere\", \"role\": \"A\", \"player\": \"Caputo\", \"team\": \"Sampdoria\", \"opponent\": \"Sassuolo\", \"date\": \"2022-02-06T00:00:00\", \"expected_bonus\": 1.0623278617858887}, {\"fanta_team\": \"AI sereje ja dejeDe jebe tu de jebere\", \"role\": \"A\", \"player\": \"Beto\", \"team\": \"Udinese\", \"opponent\": \"Torino\", \"date\": \"2022-02-06T00:00:00\", \"expected_bonus\": 0.9844925403594971}, {\"fanta_team\": \"AI sereje ja dejeDe jebe tu de jebere\", \"role\": \"A\", \"player\": \"Mancuso\", \"team\": \"Empoli\", \"opponent\": \"Bologna\", \"date\": \"2022-02-06T00:00:00\", \"expected_bonus\": 0.8492406010627747}, {\"fanta_team\": \"AC Picchia\", \"role\": \"D\", \"player\": \"Calabria\", \"team\": \"AC Milan\", \"opponent\": \"Inter\", \"date\": \"2022-02-06T00:00:00\", \"expected_bonus\": 0.37015795707702637}, {\"fanta_team\": \"AC Picchia\", \"role\": \"D\", \"player\": \"Odriozola\", \"team\": \"Fiorentina\", \"opponent\": \"Lazio\", \"date\": \"2022-02-06T00:00:00\", \"expected_bonus\": 0.2829391062259674}, {\"fanta_team\": \"AC Picchia\", \"role\": \"D\", \"player\": \"Ligt\", \"team\": \"Juventus\", \"opponent\": \"Verona\", \"date\": \"2022-02-06T00:00:00\", \"expected_bonus\": 0.27427175641059875}, {\"fanta_team\": \"AC Picchia\", \"role\": \"D\", \"player\": \"Sandro\", \"team\": \"Juventus\", \"opponent\": \"Verona\", \"date\": \"2022-02-06T00:00:00\", \"expected_bonus\": 0.24806010723114014}, {\"fanta_team\": \"AC Picchia\", \"role\": \"D\", \"player\": \"Larsen\", \"team\": \"Udinese\", \"opponent\": \"Torino\", \"date\": \"2022-02-06T00:00:00\", \"expected_bonus\": 0.1734258234500885}, {\"fanta_team\": \"AC Picchia\", \"role\": \"D\", \"player\": \"Florenzi\", \"team\": \"AC Milan\", \"opponent\": \"Inter\", \"date\": \"2022-02-06T00:00:00\", \"expected_bonus\": 0.16470342874526978}, {\"fanta_team\": \"AC Picchia\", \"role\": \"D\", \"player\": \"Faraoni\", \"team\": \"Verona\", \"opponent\": \"Juventus\", \"date\": \"2022-02-06T00:00:00\", \"expected_bonus\": 0.10007645934820175}, {\"fanta_team\": \"AC Picchia\", \"role\": \"D\", \"player\": \"Dalbert\", \"team\": \"Cagliari\", \"opponent\": \"Atalanta\", \"date\": \"2022-02-06T00:00:00\", \"expected_bonus\": 0.07040777057409286}, {\"fanta_team\": \"AC Picchia\", \"role\": \"C\", \"player\": \"Malinovskiy\", \"team\": \"Atalanta\", \"opponent\": \"Cagliari\", \"date\": \"2022-02-06T00:00:00\", \"expected_bonus\": 1.2070229053497314}, {\"fanta_team\": \"AC Picchia\", \"role\": \"C\", \"player\": \"Aramu\", \"team\": \"Venezia\", \"opponent\": \"Napoli\", \"date\": \"2022-02-06T00:00:00\", \"expected_bonus\": 0.8015483617782593}, {\"fanta_team\": \"AC Picchia\", \"role\": \"C\", \"player\": \"Calhanoglu\", \"team\": \"Inter\", \"opponent\": \"AC Milan\", \"date\": \"2022-02-06T00:00:00\", \"expected_bonus\": 0.7317808866500854}, {\"fanta_team\": \"AC Picchia\", \"role\": \"C\", \"player\": \"Orsolini\", \"team\": \"Bologna\", \"opponent\": \"Empoli\", \"date\": \"2022-02-06T00:00:00\", \"expected_bonus\": 0.45497867465019226}, {\"fanta_team\": \"AC Picchia\", \"role\": \"C\", \"player\": \"Thorsby\", \"team\": \"Sampdoria\", \"opponent\": \"Sassuolo\", \"date\": \"2022-02-06T00:00:00\", \"expected_bonus\": 0.3012610673904419}, {\"fanta_team\": \"AC Picchia\", \"role\": \"C\", \"player\": \"Svanberg\", \"team\": \"Bologna\", \"opponent\": \"Empoli\", \"date\": \"2022-02-06T00:00:00\", \"expected_bonus\": 0.29343730211257935}, {\"fanta_team\": \"AC Picchia\", \"role\": \"C\", \"player\": \"N\\u00e1ndez\", \"team\": \"Cagliari\", \"opponent\": \"Atalanta\", \"date\": \"2022-02-06T00:00:00\", \"expected_bonus\": 0.05021224170923233}, {\"fanta_team\": \"AC Picchia\", \"role\": \"C\", \"player\": \"Marin\", \"team\": \"Cagliari\", \"opponent\": \"Atalanta\", \"date\": \"2022-02-06T00:00:00\", \"expected_bonus\": 0.04717453569173813}, {\"fanta_team\": \"AC Picchia\", \"role\": \"A\", \"player\": \"Muriel\", \"team\": \"Atalanta\", \"opponent\": \"Cagliari\", \"date\": \"2022-02-06T00:00:00\", \"expected_bonus\": 1.7575626373291016}, {\"fanta_team\": \"AC Picchia\", \"role\": \"A\", \"player\": \"Belotti\", \"team\": \"Torino\", \"opponent\": \"Udinese\", \"date\": \"2022-02-06T00:00:00\", \"expected_bonus\": 1.1397451162338257}, {\"fanta_team\": \"AC Picchia\", \"role\": \"A\", \"player\": \"Boga\", \"team\": \"Sassuolo\", \"opponent\": \"Sampdoria\", \"date\": \"2022-02-06T00:00:00\", \"expected_bonus\": 0.9224891662597656}, {\"fanta_team\": \"AC Picchia\", \"role\": \"A\", \"player\": \"Henry\", \"team\": \"Venezia\", \"opponent\": \"Napoli\", \"date\": \"2022-02-06T00:00:00\", \"expected_bonus\": 0.9178678393363953}, {\"fanta_team\": \"AC Picchia\", \"role\": \"A\", \"player\": \"Giroud\", \"team\": \"AC Milan\", \"opponent\": \"Inter\", \"date\": \"2022-02-06T00:00:00\", \"expected_bonus\": 0.6725419163703918}, {\"fanta_team\": \"AC Picchia\", \"role\": \"A\", \"player\": \"Verde\", \"team\": \"Spezia\", \"opponent\": \"Salernitana\", \"date\": \"2022-02-06T00:00:00\", \"expected_bonus\": 0.5475215911865234}]}}, {\"actions\": false, \"mode\": \"vega-lite\"});\n</script>",
      "text/plain": "alt.Chart(...)"
     },
     "metadata": {}
    }
   ],
   "execution_count": 4
  },
  {
   "cell_type": "code",
   "metadata": {
    "cell_id": "c757b1dc-1791-4f8f-8d75-1e5fa62fa250",
    "tags": [],
    "deepnote_to_be_reexecuted": false,
    "source_hash": "ac51fc04",
    "execution_start": 1643020709528,
    "execution_millis": 1,
    "deepnote_cell_type": "code"
   },
   "source": "teams = sorted(list(predictions['fanta_team'].unique()))\nindex = 0",
   "execution_count": 5,
   "outputs": []
  },
  {
   "cell_type": "code",
   "metadata": {
    "cell_id": "661bb9dc-37c8-4f24-b69b-ca2aae9a3388",
    "tags": [],
    "deepnote_to_be_reexecuted": false,
    "source_hash": "3f500048",
    "execution_start": 1643020709529,
    "execution_millis": 0,
    "deepnote_cell_type": "code"
   },
   "source": "team, index = display_fanta_squad(predictions, teams, index)",
   "execution_count": 6,
   "outputs": []
  },
  {
   "cell_type": "code",
   "source": "_deepnote_run_altair(team, \"\"\"{\"$schema\":\"https://vega.github.io/schema/vega-lite/v4.json\",\"mark\":{\"type\":\"bar\",\"tooltip\":{\"content\":\"data\"}},\"height\":220,\"autosize\":{\"type\":\"fit\"},\"data\":{\"name\":\"placeholder\"},\"encoding\":{\"x\":{\"field\":\"expected_bonus\",\"type\":\"quantitative\",\"sort\":null,\"scale\":{\"type\":\"linear\",\"zero\":false}},\"y\":{\"field\":\"player\",\"type\":\"nominal\",\"sort\":null,\"scale\":{\"type\":\"linear\",\"zero\":true}},\"color\":{\"field\":\"role\",\"type\":\"nominal\",\"sort\":null,\"scale\":{\"type\":\"linear\",\"zero\":false}}}}\"\"\")",
   "metadata": {
    "cell_id": "2feea2e5-a58f-4290-9ed7-09ad345cef92",
    "deepnote_variable_name": "team",
    "deepnote_visualization_spec": {
     "$schema": "https://vega.github.io/schema/vega-lite/v4.json",
     "mark": {
      "type": "bar",
      "tooltip": {
       "content": "data"
      }
     },
     "height": 220,
     "autosize": {
      "type": "fit"
     },
     "data": {
      "name": "placeholder"
     },
     "encoding": {
      "x": {
       "field": "expected_bonus",
       "type": "quantitative",
       "sort": null,
       "scale": {
        "type": "linear",
        "zero": false
       }
      },
      "y": {
       "field": "player",
       "type": "nominal",
       "sort": null,
       "scale": {
        "type": "linear",
        "zero": true
       }
      },
      "color": {
       "field": "role",
       "type": "nominal",
       "sort": null,
       "scale": {
        "type": "linear",
        "zero": false
       }
      }
     }
    },
    "deepnote_to_be_reexecuted": false,
    "source_hash": "e68de25e",
    "execution_start": 1643020709560,
    "execution_millis": 32,
    "deepnote_output_heights": [
     314
    ],
    "allow_embed": "output",
    "deepnote_cell_type": "visualization"
   },
   "execution_count": 7,
   "outputs": [
    {
     "output_type": "execute_result",
     "execution_count": 7,
     "data": {
      "text/html": "\n<div id=\"altair-viz-e4f1763691594d95859eaf5e579996f6\"></div>\n<script type=\"text/javascript\">\n  (function(spec, embedOpt){\n    let outputDiv = document.currentScript.previousElementSibling;\n    if (outputDiv.id !== \"altair-viz-e4f1763691594d95859eaf5e579996f6\") {\n      outputDiv = document.getElementById(\"altair-viz-e4f1763691594d95859eaf5e579996f6\");\n    }\n    const paths = {\n      \"vega\": \"https://cdn.jsdelivr.net/npm//vega@5?noext\",\n      \"vega-lib\": \"https://cdn.jsdelivr.net/npm//vega-lib?noext\",\n      \"vega-lite\": \"https://cdn.jsdelivr.net/npm//vega-lite@4.8.1?noext\",\n      \"vega-embed\": \"https://cdn.jsdelivr.net/npm//vega-embed@6?noext\",\n    };\n\n    function loadScript(lib) {\n      return new Promise(function(resolve, reject) {\n        var s = document.createElement('script');\n        s.src = paths[lib];\n        s.async = true;\n        s.onload = () => resolve(paths[lib]);\n        s.onerror = () => reject(`Error loading script: ${paths[lib]}`);\n        document.getElementsByTagName(\"head\")[0].appendChild(s);\n      });\n    }\n\n    function showError(err) {\n      outputDiv.innerHTML = `<div class=\"error\" style=\"color:red;\">${err}</div>`;\n      throw err;\n    }\n\n    function displayChart(vegaEmbed) {\n      vegaEmbed(outputDiv, spec, embedOpt)\n        .catch(err => showError(`Javascript Error: ${err.message}<br>This usually means there's a typo in your chart specification. See the javascript console for the full traceback.`));\n    }\n\n    if(typeof define === \"function\" && define.amd) {\n      requirejs.config({paths});\n      require([\"vega-embed\"], displayChart, err => showError(`Error loading script: ${err.message}`));\n    } else if (typeof vegaEmbed === \"function\") {\n      displayChart(vegaEmbed);\n    } else {\n      loadScript(\"vega\")\n        .then(() => loadScript(\"vega-lite\"))\n        .then(() => loadScript(\"vega-embed\"))\n        .catch(showError)\n        .then(() => displayChart(vegaEmbed));\n    }\n  })({\"config\": {\"view\": {\"continuousWidth\": 400, \"continuousHeight\": 300}, \"area\": {\"fill\": \"#51C0E9\"}, \"axis\": {\"labelFont\": \"Inter, sans-serif\", \"labelFontSize\": 12, \"labelFontWeight\": \"normal\", \"labelLimit\": 60, \"labelOverlap\": \"greedy\", \"titleFont\": \"Inter, sans-serif\", \"titleFontSize\": 12, \"titleFontWeight\": \"bold\"}, \"background\": \"#ffffff\", \"legend\": {\"labelFont\": \"Inter, sans-serif\", \"labelFontSize\": 12, \"titleFont\": \"Inter, sans-serif\", \"titleFontSize\": 12, \"titleFontWeight\": \"bold\"}, \"line\": {\"stroke\": \"#51C0E9\", \"strokeWidth\": 2}, \"rect\": {\"fill\": \"#51C0E9\"}, \"title\": {\"anchor\": \"start\", \"color\": \"#000000\", \"font\": \"Inter, sans-serif\", \"fontSize\": 22, \"fontWeight\": \"normal\"}}, \"data\": {\"name\": \"data-dc1ad3839baa8c68dcf32206be46a24a\"}, \"mark\": {\"type\": \"bar\", \"tooltip\": {\"content\": \"data\"}}, \"autosize\": {\"type\": \"fit\"}, \"encoding\": {\"color\": {\"type\": \"nominal\", \"field\": \"role\", \"scale\": {\"type\": \"linear\", \"zero\": false}, \"sort\": null}, \"x\": {\"type\": \"quantitative\", \"field\": \"expected_bonus\", \"scale\": {\"type\": \"linear\", \"zero\": false}, \"sort\": null}, \"y\": {\"type\": \"nominal\", \"field\": \"player\", \"scale\": {\"type\": \"linear\", \"zero\": true}, \"sort\": null}}, \"height\": 300, \"width\": \"container\", \"$schema\": \"https://vega.github.io/schema/vega-lite/v4.json\", \"datasets\": {\"data-dc1ad3839baa8c68dcf32206be46a24a\": [{\"fanta_team\": \"AC Picchia\", \"role\": \"D\", \"player\": \"Calabria\", \"team\": \"AC Milan\", \"opponent\": \"Inter\", \"date\": \"2022-02-06T00:00:00\", \"expected_bonus\": 0.37015795707702637}, {\"fanta_team\": \"AC Picchia\", \"role\": \"D\", \"player\": \"Odriozola\", \"team\": \"Fiorentina\", \"opponent\": \"Lazio\", \"date\": \"2022-02-06T00:00:00\", \"expected_bonus\": 0.2829391062259674}, {\"fanta_team\": \"AC Picchia\", \"role\": \"D\", \"player\": \"Ligt\", \"team\": \"Juventus\", \"opponent\": \"Verona\", \"date\": \"2022-02-06T00:00:00\", \"expected_bonus\": 0.27427175641059875}, {\"fanta_team\": \"AC Picchia\", \"role\": \"D\", \"player\": \"Sandro\", \"team\": \"Juventus\", \"opponent\": \"Verona\", \"date\": \"2022-02-06T00:00:00\", \"expected_bonus\": 0.24806010723114014}, {\"fanta_team\": \"AC Picchia\", \"role\": \"D\", \"player\": \"Larsen\", \"team\": \"Udinese\", \"opponent\": \"Torino\", \"date\": \"2022-02-06T00:00:00\", \"expected_bonus\": 0.1734258234500885}, {\"fanta_team\": \"AC Picchia\", \"role\": \"D\", \"player\": \"Florenzi\", \"team\": \"AC Milan\", \"opponent\": \"Inter\", \"date\": \"2022-02-06T00:00:00\", \"expected_bonus\": 0.16470342874526978}, {\"fanta_team\": \"AC Picchia\", \"role\": \"D\", \"player\": \"Faraoni\", \"team\": \"Verona\", \"opponent\": \"Juventus\", \"date\": \"2022-02-06T00:00:00\", \"expected_bonus\": 0.10007645934820175}, {\"fanta_team\": \"AC Picchia\", \"role\": \"D\", \"player\": \"Dalbert\", \"team\": \"Cagliari\", \"opponent\": \"Atalanta\", \"date\": \"2022-02-06T00:00:00\", \"expected_bonus\": 0.07040777057409286}, {\"fanta_team\": \"AC Picchia\", \"role\": \"C\", \"player\": \"Malinovskiy\", \"team\": \"Atalanta\", \"opponent\": \"Cagliari\", \"date\": \"2022-02-06T00:00:00\", \"expected_bonus\": 1.2070229053497314}, {\"fanta_team\": \"AC Picchia\", \"role\": \"C\", \"player\": \"Aramu\", \"team\": \"Venezia\", \"opponent\": \"Napoli\", \"date\": \"2022-02-06T00:00:00\", \"expected_bonus\": 0.8015483617782593}, {\"fanta_team\": \"AC Picchia\", \"role\": \"C\", \"player\": \"Calhanoglu\", \"team\": \"Inter\", \"opponent\": \"AC Milan\", \"date\": \"2022-02-06T00:00:00\", \"expected_bonus\": 0.7317808866500854}, {\"fanta_team\": \"AC Picchia\", \"role\": \"C\", \"player\": \"Orsolini\", \"team\": \"Bologna\", \"opponent\": \"Empoli\", \"date\": \"2022-02-06T00:00:00\", \"expected_bonus\": 0.45497867465019226}, {\"fanta_team\": \"AC Picchia\", \"role\": \"C\", \"player\": \"Thorsby\", \"team\": \"Sampdoria\", \"opponent\": \"Sassuolo\", \"date\": \"2022-02-06T00:00:00\", \"expected_bonus\": 0.3012610673904419}, {\"fanta_team\": \"AC Picchia\", \"role\": \"C\", \"player\": \"Svanberg\", \"team\": \"Bologna\", \"opponent\": \"Empoli\", \"date\": \"2022-02-06T00:00:00\", \"expected_bonus\": 0.29343730211257935}, {\"fanta_team\": \"AC Picchia\", \"role\": \"C\", \"player\": \"N\\u00e1ndez\", \"team\": \"Cagliari\", \"opponent\": \"Atalanta\", \"date\": \"2022-02-06T00:00:00\", \"expected_bonus\": 0.05021224170923233}, {\"fanta_team\": \"AC Picchia\", \"role\": \"C\", \"player\": \"Marin\", \"team\": \"Cagliari\", \"opponent\": \"Atalanta\", \"date\": \"2022-02-06T00:00:00\", \"expected_bonus\": 0.04717453569173813}, {\"fanta_team\": \"AC Picchia\", \"role\": \"A\", \"player\": \"Muriel\", \"team\": \"Atalanta\", \"opponent\": \"Cagliari\", \"date\": \"2022-02-06T00:00:00\", \"expected_bonus\": 1.7575626373291016}, {\"fanta_team\": \"AC Picchia\", \"role\": \"A\", \"player\": \"Belotti\", \"team\": \"Torino\", \"opponent\": \"Udinese\", \"date\": \"2022-02-06T00:00:00\", \"expected_bonus\": 1.1397451162338257}, {\"fanta_team\": \"AC Picchia\", \"role\": \"A\", \"player\": \"Boga\", \"team\": \"Sassuolo\", \"opponent\": \"Sampdoria\", \"date\": \"2022-02-06T00:00:00\", \"expected_bonus\": 0.9224891662597656}, {\"fanta_team\": \"AC Picchia\", \"role\": \"A\", \"player\": \"Henry\", \"team\": \"Venezia\", \"opponent\": \"Napoli\", \"date\": \"2022-02-06T00:00:00\", \"expected_bonus\": 0.9178678393363953}, {\"fanta_team\": \"AC Picchia\", \"role\": \"A\", \"player\": \"Giroud\", \"team\": \"AC Milan\", \"opponent\": \"Inter\", \"date\": \"2022-02-06T00:00:00\", \"expected_bonus\": 0.6725419163703918}, {\"fanta_team\": \"AC Picchia\", \"role\": \"A\", \"player\": \"Verde\", \"team\": \"Spezia\", \"opponent\": \"Salernitana\", \"date\": \"2022-02-06T00:00:00\", \"expected_bonus\": 0.5475215911865234}]}}, {\"actions\": false, \"mode\": \"vega-lite\"});\n</script>",
      "text/plain": "alt.Chart(...)"
     },
     "metadata": {}
    }
   ]
  },
  {
   "cell_type": "code",
   "metadata": {
    "cell_id": "403f1719-a05c-438b-ab10-6045be82f284",
    "tags": [],
    "deepnote_to_be_reexecuted": false,
    "source_hash": "3f500048",
    "execution_start": 1643020709639,
    "execution_millis": 1,
    "deepnote_cell_type": "code"
   },
   "source": "team, index = display_fanta_squad(predictions, teams, index)",
   "execution_count": 8,
   "outputs": []
  },
  {
   "cell_type": "code",
   "source": "_deepnote_run_altair(team, \"\"\"{\"$schema\":\"https://vega.github.io/schema/vega-lite/v4.json\",\"mark\":{\"type\":\"bar\",\"tooltip\":{\"content\":\"data\"}},\"height\":220,\"autosize\":{\"type\":\"fit\"},\"data\":{\"name\":\"placeholder\"},\"encoding\":{\"x\":{\"field\":\"expected_bonus\",\"type\":\"quantitative\",\"sort\":null,\"scale\":{\"type\":\"linear\",\"zero\":false}},\"y\":{\"field\":\"player\",\"type\":\"nominal\",\"sort\":null,\"scale\":{\"type\":\"linear\",\"zero\":true}},\"color\":{\"field\":\"role\",\"type\":\"nominal\",\"sort\":null,\"scale\":{\"type\":\"linear\",\"zero\":false}}}}\"\"\")",
   "metadata": {
    "cell_id": "4a208803-57f0-497b-a4ea-c00c86e43db9",
    "deepnote_variable_name": "team",
    "deepnote_visualization_spec": {
     "$schema": "https://vega.github.io/schema/vega-lite/v4.json",
     "mark": {
      "type": "bar",
      "tooltip": {
       "content": "data"
      }
     },
     "height": 220,
     "autosize": {
      "type": "fit"
     },
     "data": {
      "name": "placeholder"
     },
     "encoding": {
      "x": {
       "field": "expected_bonus",
       "type": "quantitative",
       "sort": null,
       "scale": {
        "type": "linear",
        "zero": false
       }
      },
      "y": {
       "field": "player",
       "type": "nominal",
       "sort": null,
       "scale": {
        "type": "linear",
        "zero": true
       }
      },
      "color": {
       "field": "role",
       "type": "nominal",
       "sort": null,
       "scale": {
        "type": "linear",
        "zero": false
       }
      }
     }
    },
    "deepnote_to_be_reexecuted": false,
    "source_hash": "e68de25e",
    "execution_start": 1643020709640,
    "execution_millis": 38,
    "deepnote_output_heights": [
     314
    ],
    "allow_embed": "output",
    "deepnote_cell_type": "visualization"
   },
   "execution_count": 9,
   "outputs": [
    {
     "output_type": "execute_result",
     "execution_count": 9,
     "data": {
      "text/html": "\n<div id=\"altair-viz-b6d4727823b548f3b93fbd831ed45403\"></div>\n<script type=\"text/javascript\">\n  (function(spec, embedOpt){\n    let outputDiv = document.currentScript.previousElementSibling;\n    if (outputDiv.id !== \"altair-viz-b6d4727823b548f3b93fbd831ed45403\") {\n      outputDiv = document.getElementById(\"altair-viz-b6d4727823b548f3b93fbd831ed45403\");\n    }\n    const paths = {\n      \"vega\": \"https://cdn.jsdelivr.net/npm//vega@5?noext\",\n      \"vega-lib\": \"https://cdn.jsdelivr.net/npm//vega-lib?noext\",\n      \"vega-lite\": \"https://cdn.jsdelivr.net/npm//vega-lite@4.8.1?noext\",\n      \"vega-embed\": \"https://cdn.jsdelivr.net/npm//vega-embed@6?noext\",\n    };\n\n    function loadScript(lib) {\n      return new Promise(function(resolve, reject) {\n        var s = document.createElement('script');\n        s.src = paths[lib];\n        s.async = true;\n        s.onload = () => resolve(paths[lib]);\n        s.onerror = () => reject(`Error loading script: ${paths[lib]}`);\n        document.getElementsByTagName(\"head\")[0].appendChild(s);\n      });\n    }\n\n    function showError(err) {\n      outputDiv.innerHTML = `<div class=\"error\" style=\"color:red;\">${err}</div>`;\n      throw err;\n    }\n\n    function displayChart(vegaEmbed) {\n      vegaEmbed(outputDiv, spec, embedOpt)\n        .catch(err => showError(`Javascript Error: ${err.message}<br>This usually means there's a typo in your chart specification. See the javascript console for the full traceback.`));\n    }\n\n    if(typeof define === \"function\" && define.amd) {\n      requirejs.config({paths});\n      require([\"vega-embed\"], displayChart, err => showError(`Error loading script: ${err.message}`));\n    } else if (typeof vegaEmbed === \"function\") {\n      displayChart(vegaEmbed);\n    } else {\n      loadScript(\"vega\")\n        .then(() => loadScript(\"vega-lite\"))\n        .then(() => loadScript(\"vega-embed\"))\n        .catch(showError)\n        .then(() => displayChart(vegaEmbed));\n    }\n  })({\"config\": {\"view\": {\"continuousWidth\": 400, \"continuousHeight\": 300}, \"area\": {\"fill\": \"#51C0E9\"}, \"axis\": {\"labelFont\": \"Inter, sans-serif\", \"labelFontSize\": 12, \"labelFontWeight\": \"normal\", \"labelLimit\": 60, \"labelOverlap\": \"greedy\", \"titleFont\": \"Inter, sans-serif\", \"titleFontSize\": 12, \"titleFontWeight\": \"bold\"}, \"background\": \"#ffffff\", \"legend\": {\"labelFont\": \"Inter, sans-serif\", \"labelFontSize\": 12, \"titleFont\": \"Inter, sans-serif\", \"titleFontSize\": 12, \"titleFontWeight\": \"bold\"}, \"line\": {\"stroke\": \"#51C0E9\", \"strokeWidth\": 2}, \"rect\": {\"fill\": \"#51C0E9\"}, \"title\": {\"anchor\": \"start\", \"color\": \"#000000\", \"font\": \"Inter, sans-serif\", \"fontSize\": 22, \"fontWeight\": \"normal\"}}, \"data\": {\"name\": \"data-ff89b93c7cdbfd8f0dddafc9f5a9388e\"}, \"mark\": {\"type\": \"bar\", \"tooltip\": {\"content\": \"data\"}}, \"autosize\": {\"type\": \"fit\"}, \"encoding\": {\"color\": {\"type\": \"nominal\", \"field\": \"role\", \"scale\": {\"type\": \"linear\", \"zero\": false}, \"sort\": null}, \"x\": {\"type\": \"quantitative\", \"field\": \"expected_bonus\", \"scale\": {\"type\": \"linear\", \"zero\": false}, \"sort\": null}, \"y\": {\"type\": \"nominal\", \"field\": \"player\", \"scale\": {\"type\": \"linear\", \"zero\": true}, \"sort\": null}}, \"height\": 300, \"width\": \"container\", \"$schema\": \"https://vega.github.io/schema/vega-lite/v4.json\", \"datasets\": {\"data-ff89b93c7cdbfd8f0dddafc9f5a9388e\": [{\"fanta_team\": \"AI sereje ja dejeDe jebe tu de jebere\", \"role\": \"D\", \"player\": \"Gosens\", \"team\": \"Atalanta\", \"opponent\": \"Cagliari\", \"date\": \"2022-02-06T00:00:00\", \"expected_bonus\": 0.76018887758255}, {\"fanta_team\": \"AI sereje ja dejeDe jebe tu de jebere\", \"role\": \"D\", \"player\": \"Rrahmani\", \"team\": \"Napoli\", \"opponent\": \"Venezia\", \"date\": \"2022-02-06T00:00:00\", \"expected_bonus\": 0.31365135312080383}, {\"fanta_team\": \"AI sereje ja dejeDe jebe tu de jebere\", \"role\": \"D\", \"player\": \"Silvestri\", \"team\": \"Bologna\", \"opponent\": \"Empoli\", \"date\": \"2022-02-06T00:00:00\", \"expected_bonus\": 0.2843353748321533}, {\"fanta_team\": \"AI sereje ja dejeDe jebe tu de jebere\", \"role\": \"D\", \"player\": \"Skriniar\", \"team\": \"Inter\", \"opponent\": \"AC Milan\", \"date\": \"2022-02-06T00:00:00\", \"expected_bonus\": 0.2626163363456726}, {\"fanta_team\": \"AI sereje ja dejeDe jebe tu de jebere\", \"role\": \"D\", \"player\": \"Darmian\", \"team\": \"Inter\", \"opponent\": \"AC Milan\", \"date\": \"2022-02-06T00:00:00\", \"expected_bonus\": 0.2171114683151245}, {\"fanta_team\": \"AI sereje ja dejeDe jebe tu de jebere\", \"role\": \"D\", \"player\": \"Manolas\", \"team\": \"Napoli\", \"opponent\": \"Venezia\", \"date\": \"2022-02-06T00:00:00\", \"expected_bonus\": 0.2052934169769287}, {\"fanta_team\": \"AI sereje ja dejeDe jebe tu de jebere\", \"role\": \"D\", \"player\": \"Augello\", \"team\": \"Sampdoria\", \"opponent\": \"Sassuolo\", \"date\": \"2022-02-06T00:00:00\", \"expected_bonus\": 0.14577056467533112}, {\"fanta_team\": \"AI sereje ja dejeDe jebe tu de jebere\", \"role\": \"D\", \"player\": \"Haps\", \"team\": \"Venezia\", \"opponent\": \"Napoli\", \"date\": \"2022-02-06T00:00:00\", \"expected_bonus\": 0.10129750519990921}, {\"fanta_team\": \"AI sereje ja dejeDe jebe tu de jebere\", \"role\": \"C\", \"player\": \"Miranchuk\", \"team\": \"Atalanta\", \"opponent\": \"Cagliari\", \"date\": \"2022-02-06T00:00:00\", \"expected_bonus\": 0.7585000991821289}, {\"fanta_team\": \"AI sereje ja dejeDe jebe tu de jebere\", \"role\": \"C\", \"player\": \"Candreva\", \"team\": \"Sampdoria\", \"opponent\": \"Sassuolo\", \"date\": \"2022-02-06T00:00:00\", \"expected_bonus\": 0.6882874965667725}, {\"fanta_team\": \"AI sereje ja dejeDe jebe tu de jebere\", \"role\": \"C\", \"player\": \"Bonaventura\", \"team\": \"Fiorentina\", \"opponent\": \"Lazio\", \"date\": \"2022-02-06T00:00:00\", \"expected_bonus\": 0.6184835433959961}, {\"fanta_team\": \"AI sereje ja dejeDe jebe tu de jebere\", \"role\": \"C\", \"player\": \"Soriano\", \"team\": \"Bologna\", \"opponent\": \"Empoli\", \"date\": \"2022-02-06T00:00:00\", \"expected_bonus\": 0.4385858178138733}, {\"fanta_team\": \"AI sereje ja dejeDe jebe tu de jebere\", \"role\": \"C\", \"player\": \"Maggiore\", \"team\": \"Spezia\", \"opponent\": \"Salernitana\", \"date\": \"2022-02-06T00:00:00\", \"expected_bonus\": 0.27582940459251404}, {\"fanta_team\": \"AI sereje ja dejeDe jebe tu de jebere\", \"role\": \"C\", \"player\": \"Locatelli\", \"team\": \"Juventus\", \"opponent\": \"Verona\", \"date\": \"2022-02-06T00:00:00\", \"expected_bonus\": 0.2567686140537262}, {\"fanta_team\": \"AI sereje ja dejeDe jebe tu de jebere\", \"role\": \"C\", \"player\": \"Brozovic\", \"team\": \"Inter\", \"opponent\": \"AC Milan\", \"date\": \"2022-02-06T00:00:00\", \"expected_bonus\": 0.21947680413722992}, {\"fanta_team\": \"AI sereje ja dejeDe jebe tu de jebere\", \"role\": \"C\", \"player\": \"Lazovic\", \"team\": \"Verona\", \"opponent\": \"Juventus\", \"date\": \"2022-02-06T00:00:00\", \"expected_bonus\": 0.1899845451116562}, {\"fanta_team\": \"AI sereje ja dejeDe jebe tu de jebere\", \"role\": \"A\", \"player\": \"Zapata\", \"team\": \"Atalanta\", \"opponent\": \"Cagliari\", \"date\": \"2022-02-06T00:00:00\", \"expected_bonus\": 2.0789172649383545}, {\"fanta_team\": \"AI sereje ja dejeDe jebe tu de jebere\", \"role\": \"A\", \"player\": \"Vlahovic\", \"team\": \"Fiorentina\", \"opponent\": \"Lazio\", \"date\": \"2022-02-06T00:00:00\", \"expected_bonus\": 2.007714033126831}, {\"fanta_team\": \"AI sereje ja dejeDe jebe tu de jebere\", \"role\": \"A\", \"player\": \"Lozano\", \"team\": \"Napoli\", \"opponent\": \"Venezia\", \"date\": \"2022-02-06T00:00:00\", \"expected_bonus\": 1.1195173263549805}, {\"fanta_team\": \"AI sereje ja dejeDe jebe tu de jebere\", \"role\": \"A\", \"player\": \"Caputo\", \"team\": \"Sampdoria\", \"opponent\": \"Sassuolo\", \"date\": \"2022-02-06T00:00:00\", \"expected_bonus\": 1.0623278617858887}, {\"fanta_team\": \"AI sereje ja dejeDe jebe tu de jebere\", \"role\": \"A\", \"player\": \"Beto\", \"team\": \"Udinese\", \"opponent\": \"Torino\", \"date\": \"2022-02-06T00:00:00\", \"expected_bonus\": 0.9844925403594971}, {\"fanta_team\": \"AI sereje ja dejeDe jebe tu de jebere\", \"role\": \"A\", \"player\": \"Mancuso\", \"team\": \"Empoli\", \"opponent\": \"Bologna\", \"date\": \"2022-02-06T00:00:00\", \"expected_bonus\": 0.8492406010627747}]}}, {\"actions\": false, \"mode\": \"vega-lite\"});\n</script>",
      "text/plain": "alt.Chart(...)"
     },
     "metadata": {}
    }
   ]
  },
  {
   "cell_type": "code",
   "metadata": {
    "cell_id": "2e687bc2-7527-4205-938c-991162872c2c",
    "tags": [],
    "deepnote_to_be_reexecuted": false,
    "source_hash": "3f500048",
    "execution_start": 1643020709682,
    "execution_millis": 0,
    "deepnote_cell_type": "code"
   },
   "source": "team, index = display_fanta_squad(predictions, teams, index)",
   "execution_count": 10,
   "outputs": []
  },
  {
   "cell_type": "code",
   "source": "_deepnote_run_altair(team, \"\"\"{\"$schema\":\"https://vega.github.io/schema/vega-lite/v4.json\",\"mark\":{\"type\":\"bar\",\"tooltip\":{\"content\":\"data\"}},\"height\":220,\"autosize\":{\"type\":\"fit\"},\"data\":{\"name\":\"placeholder\"},\"encoding\":{\"x\":{\"field\":\"expected_bonus\",\"type\":\"quantitative\",\"sort\":null,\"scale\":{\"type\":\"linear\",\"zero\":false}},\"y\":{\"field\":\"player\",\"type\":\"nominal\",\"sort\":null,\"scale\":{\"type\":\"linear\",\"zero\":true}},\"color\":{\"field\":\"role\",\"type\":\"nominal\",\"sort\":null,\"scale\":{\"type\":\"linear\",\"zero\":false}}}}\"\"\")",
   "metadata": {
    "cell_id": "f2a82479-5e7d-4027-8358-566cecfd00e7",
    "deepnote_variable_name": "team",
    "deepnote_visualization_spec": {
     "$schema": "https://vega.github.io/schema/vega-lite/v4.json",
     "mark": {
      "type": "bar",
      "tooltip": {
       "content": "data"
      }
     },
     "height": 220,
     "autosize": {
      "type": "fit"
     },
     "data": {
      "name": "placeholder"
     },
     "encoding": {
      "x": {
       "field": "expected_bonus",
       "type": "quantitative",
       "sort": null,
       "scale": {
        "type": "linear",
        "zero": false
       }
      },
      "y": {
       "field": "player",
       "type": "nominal",
       "sort": null,
       "scale": {
        "type": "linear",
        "zero": true
       }
      },
      "color": {
       "field": "role",
       "type": "nominal",
       "sort": null,
       "scale": {
        "type": "linear",
        "zero": false
       }
      }
     }
    },
    "deepnote_to_be_reexecuted": false,
    "source_hash": "e68de25e",
    "execution_start": 1643020709726,
    "execution_millis": 39,
    "deepnote_output_heights": [
     2
    ],
    "allow_embed": "output",
    "deepnote_cell_type": "visualization"
   },
   "execution_count": 11,
   "outputs": [
    {
     "output_type": "execute_result",
     "execution_count": 11,
     "data": {
      "text/html": "\n<div id=\"altair-viz-c23f18d18a8a4a41abeb405e1c051b33\"></div>\n<script type=\"text/javascript\">\n  (function(spec, embedOpt){\n    let outputDiv = document.currentScript.previousElementSibling;\n    if (outputDiv.id !== \"altair-viz-c23f18d18a8a4a41abeb405e1c051b33\") {\n      outputDiv = document.getElementById(\"altair-viz-c23f18d18a8a4a41abeb405e1c051b33\");\n    }\n    const paths = {\n      \"vega\": \"https://cdn.jsdelivr.net/npm//vega@5?noext\",\n      \"vega-lib\": \"https://cdn.jsdelivr.net/npm//vega-lib?noext\",\n      \"vega-lite\": \"https://cdn.jsdelivr.net/npm//vega-lite@4.8.1?noext\",\n      \"vega-embed\": \"https://cdn.jsdelivr.net/npm//vega-embed@6?noext\",\n    };\n\n    function loadScript(lib) {\n      return new Promise(function(resolve, reject) {\n        var s = document.createElement('script');\n        s.src = paths[lib];\n        s.async = true;\n        s.onload = () => resolve(paths[lib]);\n        s.onerror = () => reject(`Error loading script: ${paths[lib]}`);\n        document.getElementsByTagName(\"head\")[0].appendChild(s);\n      });\n    }\n\n    function showError(err) {\n      outputDiv.innerHTML = `<div class=\"error\" style=\"color:red;\">${err}</div>`;\n      throw err;\n    }\n\n    function displayChart(vegaEmbed) {\n      vegaEmbed(outputDiv, spec, embedOpt)\n        .catch(err => showError(`Javascript Error: ${err.message}<br>This usually means there's a typo in your chart specification. See the javascript console for the full traceback.`));\n    }\n\n    if(typeof define === \"function\" && define.amd) {\n      requirejs.config({paths});\n      require([\"vega-embed\"], displayChart, err => showError(`Error loading script: ${err.message}`));\n    } else if (typeof vegaEmbed === \"function\") {\n      displayChart(vegaEmbed);\n    } else {\n      loadScript(\"vega\")\n        .then(() => loadScript(\"vega-lite\"))\n        .then(() => loadScript(\"vega-embed\"))\n        .catch(showError)\n        .then(() => displayChart(vegaEmbed));\n    }\n  })({\"config\": {\"view\": {\"continuousWidth\": 400, \"continuousHeight\": 300}, \"area\": {\"fill\": \"#51C0E9\"}, \"axis\": {\"labelFont\": \"Inter, sans-serif\", \"labelFontSize\": 12, \"labelFontWeight\": \"normal\", \"labelLimit\": 60, \"labelOverlap\": \"greedy\", \"titleFont\": \"Inter, sans-serif\", \"titleFontSize\": 12, \"titleFontWeight\": \"bold\"}, \"background\": \"#ffffff\", \"legend\": {\"labelFont\": \"Inter, sans-serif\", \"labelFontSize\": 12, \"titleFont\": \"Inter, sans-serif\", \"titleFontSize\": 12, \"titleFontWeight\": \"bold\"}, \"line\": {\"stroke\": \"#51C0E9\", \"strokeWidth\": 2}, \"rect\": {\"fill\": \"#51C0E9\"}, \"title\": {\"anchor\": \"start\", \"color\": \"#000000\", \"font\": \"Inter, sans-serif\", \"fontSize\": 22, \"fontWeight\": \"normal\"}}, \"data\": {\"name\": \"data-7b6d7d6670e003ea9f1d49049793bccb\"}, \"mark\": {\"type\": \"bar\", \"tooltip\": {\"content\": \"data\"}}, \"autosize\": {\"type\": \"fit\"}, \"encoding\": {\"color\": {\"type\": \"nominal\", \"field\": \"role\", \"scale\": {\"type\": \"linear\", \"zero\": false}, \"sort\": null}, \"x\": {\"type\": \"quantitative\", \"field\": \"expected_bonus\", \"scale\": {\"type\": \"linear\", \"zero\": false}, \"sort\": null}, \"y\": {\"type\": \"nominal\", \"field\": \"player\", \"scale\": {\"type\": \"linear\", \"zero\": true}, \"sort\": null}}, \"height\": 300, \"width\": \"container\", \"$schema\": \"https://vega.github.io/schema/vega-lite/v4.json\", \"datasets\": {\"data-7b6d7d6670e003ea9f1d49049793bccb\": [{\"fanta_team\": \"Beverly INPS\", \"role\": \"D\", \"player\": \"Dimarco\", \"team\": \"Inter\", \"opponent\": \"AC Milan\", \"date\": \"2022-02-06T00:00:00\", \"expected_bonus\": 0.4206758439540863}, {\"fanta_team\": \"Beverly INPS\", \"role\": \"D\", \"player\": \"Cuadrado\", \"team\": \"Juventus\", \"opponent\": \"Verona\", \"date\": \"2022-02-06T00:00:00\", \"expected_bonus\": 0.32466208934783936}, {\"fanta_team\": \"Beverly INPS\", \"role\": \"D\", \"player\": \"Lorenzo\", \"team\": \"Napoli\", \"opponent\": \"Venezia\", \"date\": \"2022-02-06T00:00:00\", \"expected_bonus\": 0.2900335490703583}, {\"fanta_team\": \"Beverly INPS\", \"role\": \"D\", \"player\": \"Bastoni\", \"team\": \"Inter\", \"opponent\": \"AC Milan\", \"date\": \"2022-02-06T00:00:00\", \"expected_bonus\": 0.15947769582271576}, {\"fanta_team\": \"Beverly INPS\", \"role\": \"D\", \"player\": \"Nuytinck\", \"team\": \"Udinese\", \"opponent\": \"Torino\", \"date\": \"2022-02-06T00:00:00\", \"expected_bonus\": 0.09269841015338898}, {\"fanta_team\": \"Beverly INPS\", \"role\": \"D\", \"player\": \"Romagnoli\", \"team\": \"AC Milan\", \"opponent\": \"Inter\", \"date\": \"2022-02-06T00:00:00\", \"expected_bonus\": 0.016066400334239006}, {\"fanta_team\": \"Beverly INPS\", \"role\": \"D\", \"player\": \"Kjaer\", \"team\": \"AC Milan\", \"opponent\": \"Inter\", \"date\": \"2022-02-06T00:00:00\", \"expected_bonus\": 0.00017441518139094114}, {\"fanta_team\": \"Beverly INPS\", \"role\": \"C\", \"player\": \"Zielinski\", \"team\": \"Napoli\", \"opponent\": \"Venezia\", \"date\": \"2022-02-06T00:00:00\", \"expected_bonus\": 0.9315305948257446}, {\"fanta_team\": \"Beverly INPS\", \"role\": \"C\", \"player\": \"Praet\", \"team\": \"Torino\", \"opponent\": \"Udinese\", \"date\": \"2022-02-06T00:00:00\", \"expected_bonus\": 0.6227831840515137}, {\"fanta_team\": \"Beverly INPS\", \"role\": \"C\", \"player\": \"Barak\", \"team\": \"Verona\", \"opponent\": \"Juventus\", \"date\": \"2022-02-06T00:00:00\", \"expected_bonus\": 0.5896614789962769}, {\"fanta_team\": \"Beverly INPS\", \"role\": \"C\", \"player\": \"Callej\\u00f3n\", \"team\": \"Fiorentina\", \"opponent\": \"Lazio\", \"date\": \"2022-02-06T00:00:00\", \"expected_bonus\": 0.5088668465614319}, {\"fanta_team\": \"Beverly INPS\", \"role\": \"C\", \"player\": \"Kulusevski\", \"team\": \"Juventus\", \"opponent\": \"Verona\", \"date\": \"2022-02-06T00:00:00\", \"expected_bonus\": 0.502980649471283}, {\"fanta_team\": \"Beverly INPS\", \"role\": \"C\", \"player\": \"Alberto\", \"team\": \"Lazio\", \"opponent\": \"Fiorentina\", \"date\": \"2022-02-06T00:00:00\", \"expected_bonus\": 0.4212792217731476}, {\"fanta_team\": \"Beverly INPS\", \"role\": \"C\", \"player\": \"Kessi\\u00e9\", \"team\": \"AC Milan\", \"opponent\": \"Inter\", \"date\": \"2022-02-06T00:00:00\", \"expected_bonus\": 0.36078324913978577}, {\"fanta_team\": \"Beverly INPS\", \"role\": \"C\", \"player\": \"Elmas\", \"team\": \"Napoli\", \"opponent\": \"Venezia\", \"date\": \"2022-02-06T00:00:00\", \"expected_bonus\": 0.33594703674316406}, {\"fanta_team\": \"Beverly INPS\", \"role\": \"A\", \"player\": \"Mart\\u00ednez\", \"team\": \"Inter\", \"opponent\": \"AC Milan\", \"date\": \"2022-02-06T00:00:00\", \"expected_bonus\": 1.6364636421203613}, {\"fanta_team\": \"Beverly INPS\", \"role\": \"A\", \"player\": \"Berardi\", \"team\": \"Sassuolo\", \"opponent\": \"Sampdoria\", \"date\": \"2022-02-06T00:00:00\", \"expected_bonus\": 1.4518170356750488}, {\"fanta_team\": \"Beverly INPS\", \"role\": \"A\", \"player\": \"Mertens\", \"team\": \"Napoli\", \"opponent\": \"Venezia\", \"date\": \"2022-02-06T00:00:00\", \"expected_bonus\": 1.322053074836731}, {\"fanta_team\": \"Beverly INPS\", \"role\": \"A\", \"player\": \"Barrow\", \"team\": \"Bologna\", \"opponent\": \"Empoli\", \"date\": \"2022-02-06T00:00:00\", \"expected_bonus\": 1.1547521352767944}, {\"fanta_team\": \"Beverly INPS\", \"role\": \"A\", \"player\": \"Nzola\", \"team\": \"Spezia\", \"opponent\": \"Salernitana\", \"date\": \"2022-02-06T00:00:00\", \"expected_bonus\": 1.002860426902771}, {\"fanta_team\": \"Beverly INPS\", \"role\": \"A\", \"player\": \"Gonz\\u00e1lez\", \"team\": \"Fiorentina\", \"opponent\": \"Lazio\", \"date\": \"2022-02-06T00:00:00\", \"expected_bonus\": 0.8554818034172058}]}}, {\"actions\": false, \"mode\": \"vega-lite\"});\n</script>",
      "text/plain": "alt.Chart(...)"
     },
     "metadata": {}
    }
   ]
  },
  {
   "cell_type": "code",
   "metadata": {
    "cell_id": "916c19f8-a9c2-4762-8c8c-98800652248f",
    "tags": [],
    "deepnote_to_be_reexecuted": false,
    "source_hash": "3f500048",
    "execution_start": 1643020709767,
    "execution_millis": 2,
    "deepnote_cell_type": "code"
   },
   "source": "team, index = display_fanta_squad(predictions, teams, index)",
   "execution_count": 12,
   "outputs": []
  },
  {
   "cell_type": "code",
   "source": "_deepnote_run_altair(team, \"\"\"{\"$schema\":\"https://vega.github.io/schema/vega-lite/v4.json\",\"mark\":{\"type\":\"bar\",\"tooltip\":{\"content\":\"data\"}},\"height\":220,\"autosize\":{\"type\":\"fit\"},\"data\":{\"name\":\"placeholder\"},\"encoding\":{\"x\":{\"field\":\"expected_bonus\",\"type\":\"quantitative\",\"sort\":null,\"scale\":{\"type\":\"linear\",\"zero\":false}},\"y\":{\"field\":\"player\",\"type\":\"nominal\",\"sort\":null,\"scale\":{\"type\":\"linear\",\"zero\":true}},\"color\":{\"field\":\"role\",\"type\":\"nominal\",\"sort\":null,\"scale\":{\"type\":\"linear\",\"zero\":false}}}}\"\"\")",
   "metadata": {
    "cell_id": "25c33c88-5e5c-405a-a0c8-3800930b7e22",
    "deepnote_variable_name": "team",
    "deepnote_visualization_spec": {
     "$schema": "https://vega.github.io/schema/vega-lite/v4.json",
     "mark": {
      "type": "bar",
      "tooltip": {
       "content": "data"
      }
     },
     "height": 220,
     "autosize": {
      "type": "fit"
     },
     "data": {
      "name": "placeholder"
     },
     "encoding": {
      "x": {
       "field": "expected_bonus",
       "type": "quantitative",
       "sort": null,
       "scale": {
        "type": "linear",
        "zero": false
       }
      },
      "y": {
       "field": "player",
       "type": "nominal",
       "sort": null,
       "scale": {
        "type": "linear",
        "zero": true
       }
      },
      "color": {
       "field": "role",
       "type": "nominal",
       "sort": null,
       "scale": {
        "type": "linear",
        "zero": false
       }
      }
     }
    },
    "deepnote_to_be_reexecuted": false,
    "source_hash": "e68de25e",
    "execution_start": 1643020709814,
    "execution_millis": 41,
    "deepnote_output_heights": [
     2
    ],
    "allow_embed": true,
    "deepnote_cell_type": "visualization"
   },
   "execution_count": 13,
   "outputs": [
    {
     "output_type": "execute_result",
     "execution_count": 13,
     "data": {
      "text/html": "\n<div id=\"altair-viz-73055c4e66034f9c892becce0d2d8a68\"></div>\n<script type=\"text/javascript\">\n  (function(spec, embedOpt){\n    let outputDiv = document.currentScript.previousElementSibling;\n    if (outputDiv.id !== \"altair-viz-73055c4e66034f9c892becce0d2d8a68\") {\n      outputDiv = document.getElementById(\"altair-viz-73055c4e66034f9c892becce0d2d8a68\");\n    }\n    const paths = {\n      \"vega\": \"https://cdn.jsdelivr.net/npm//vega@5?noext\",\n      \"vega-lib\": \"https://cdn.jsdelivr.net/npm//vega-lib?noext\",\n      \"vega-lite\": \"https://cdn.jsdelivr.net/npm//vega-lite@4.8.1?noext\",\n      \"vega-embed\": \"https://cdn.jsdelivr.net/npm//vega-embed@6?noext\",\n    };\n\n    function loadScript(lib) {\n      return new Promise(function(resolve, reject) {\n        var s = document.createElement('script');\n        s.src = paths[lib];\n        s.async = true;\n        s.onload = () => resolve(paths[lib]);\n        s.onerror = () => reject(`Error loading script: ${paths[lib]}`);\n        document.getElementsByTagName(\"head\")[0].appendChild(s);\n      });\n    }\n\n    function showError(err) {\n      outputDiv.innerHTML = `<div class=\"error\" style=\"color:red;\">${err}</div>`;\n      throw err;\n    }\n\n    function displayChart(vegaEmbed) {\n      vegaEmbed(outputDiv, spec, embedOpt)\n        .catch(err => showError(`Javascript Error: ${err.message}<br>This usually means there's a typo in your chart specification. See the javascript console for the full traceback.`));\n    }\n\n    if(typeof define === \"function\" && define.amd) {\n      requirejs.config({paths});\n      require([\"vega-embed\"], displayChart, err => showError(`Error loading script: ${err.message}`));\n    } else if (typeof vegaEmbed === \"function\") {\n      displayChart(vegaEmbed);\n    } else {\n      loadScript(\"vega\")\n        .then(() => loadScript(\"vega-lite\"))\n        .then(() => loadScript(\"vega-embed\"))\n        .catch(showError)\n        .then(() => displayChart(vegaEmbed));\n    }\n  })({\"config\": {\"view\": {\"continuousWidth\": 400, \"continuousHeight\": 300}, \"area\": {\"fill\": \"#51C0E9\"}, \"axis\": {\"labelFont\": \"Inter, sans-serif\", \"labelFontSize\": 12, \"labelFontWeight\": \"normal\", \"labelLimit\": 60, \"labelOverlap\": \"greedy\", \"titleFont\": \"Inter, sans-serif\", \"titleFontSize\": 12, \"titleFontWeight\": \"bold\"}, \"background\": \"#ffffff\", \"legend\": {\"labelFont\": \"Inter, sans-serif\", \"labelFontSize\": 12, \"titleFont\": \"Inter, sans-serif\", \"titleFontSize\": 12, \"titleFontWeight\": \"bold\"}, \"line\": {\"stroke\": \"#51C0E9\", \"strokeWidth\": 2}, \"rect\": {\"fill\": \"#51C0E9\"}, \"title\": {\"anchor\": \"start\", \"color\": \"#000000\", \"font\": \"Inter, sans-serif\", \"fontSize\": 22, \"fontWeight\": \"normal\"}}, \"data\": {\"name\": \"data-1fc7d87aab71fa6a4776abb154caf4d4\"}, \"mark\": {\"type\": \"bar\", \"tooltip\": {\"content\": \"data\"}}, \"autosize\": {\"type\": \"fit\"}, \"encoding\": {\"color\": {\"type\": \"nominal\", \"field\": \"role\", \"scale\": {\"type\": \"linear\", \"zero\": false}, \"sort\": null}, \"x\": {\"type\": \"quantitative\", \"field\": \"expected_bonus\", \"scale\": {\"type\": \"linear\", \"zero\": false}, \"sort\": null}, \"y\": {\"type\": \"nominal\", \"field\": \"player\", \"scale\": {\"type\": \"linear\", \"zero\": true}, \"sort\": null}}, \"height\": 300, \"width\": \"container\", \"$schema\": \"https://vega.github.io/schema/vega-lite/v4.json\", \"datasets\": {\"data-1fc7d87aab71fa6a4776abb154caf4d4\": [{\"fanta_team\": \"MEZAFE\", \"role\": \"D\", \"player\": \"Zappacosta\", \"team\": \"Atalanta\", \"opponent\": \"Cagliari\", \"date\": \"2022-02-06T00:00:00\", \"expected_bonus\": 0.5793812274932861}, {\"fanta_team\": \"MEZAFE\", \"role\": \"D\", \"player\": \"Criscito\", \"team\": \"Genoa\", \"opponent\": \"Roma\", \"date\": \"2022-02-06T00:00:00\", \"expected_bonus\": 0.44970008730888367}, {\"fanta_team\": \"MEZAFE\", \"role\": \"D\", \"player\": \"Bonucci\", \"team\": \"Juventus\", \"opponent\": \"Verona\", \"date\": \"2022-02-06T00:00:00\", \"expected_bonus\": 0.4159676134586334}, {\"fanta_team\": \"MEZAFE\", \"role\": \"D\", \"player\": \"Danilo\", \"team\": \"Juventus\", \"opponent\": \"Verona\", \"date\": \"2022-02-06T00:00:00\", \"expected_bonus\": 0.21612174808979034}, {\"fanta_team\": \"MEZAFE\", \"role\": \"D\", \"player\": \"Chiellini\", \"team\": \"Juventus\", \"opponent\": \"Verona\", \"date\": \"2022-02-06T00:00:00\", \"expected_bonus\": 0.1829792857170105}, {\"fanta_team\": \"MEZAFE\", \"role\": \"D\", \"player\": \"Vrij\", \"team\": \"Inter\", \"opponent\": \"AC Milan\", \"date\": \"2022-02-06T00:00:00\", \"expected_bonus\": 0.1692780703306198}, {\"fanta_team\": \"MEZAFE\", \"role\": \"D\", \"player\": \"Acerbi\", \"team\": \"Lazio\", \"opponent\": \"Fiorentina\", \"date\": \"2022-02-06T00:00:00\", \"expected_bonus\": 0.1412891447544098}, {\"fanta_team\": \"MEZAFE\", \"role\": \"D\", \"player\": \"Nastasic\", \"team\": \"Fiorentina\", \"opponent\": \"Lazio\", \"date\": \"2022-02-06T00:00:00\", \"expected_bonus\": 0.11868999898433685}, {\"fanta_team\": \"MEZAFE\", \"role\": \"C\", \"player\": \"Pasalic\", \"team\": \"Atalanta\", \"opponent\": \"Cagliari\", \"date\": \"2022-02-06T00:00:00\", \"expected_bonus\": 0.9389826059341431}, {\"fanta_team\": \"MEZAFE\", \"role\": \"C\", \"player\": \"Verdi\", \"team\": \"Torino\", \"opponent\": \"Udinese\", \"date\": \"2022-02-06T00:00:00\", \"expected_bonus\": 0.8558139204978943}, {\"fanta_team\": \"MEZAFE\", \"role\": \"C\", \"player\": \"Saelemaekers\", \"team\": \"AC Milan\", \"opponent\": \"Inter\", \"date\": \"2022-02-06T00:00:00\", \"expected_bonus\": 0.40561145544052124}, {\"fanta_team\": \"MEZAFE\", \"role\": \"C\", \"player\": \"Cristante\", \"team\": \"Roma\", \"opponent\": \"Genoa\", \"date\": \"2022-02-06T00:00:00\", \"expected_bonus\": 0.400628924369812}, {\"fanta_team\": \"MEZAFE\", \"role\": \"C\", \"player\": \"McKennie\", \"team\": \"Juventus\", \"opponent\": \"Verona\", \"date\": \"2022-02-06T00:00:00\", \"expected_bonus\": 0.40008121728897095}, {\"fanta_team\": \"MEZAFE\", \"role\": \"C\", \"player\": \"Perisic\", \"team\": \"Inter\", \"opponent\": \"AC Milan\", \"date\": \"2022-02-06T00:00:00\", \"expected_bonus\": 0.3571339249610901}, {\"fanta_team\": \"MEZAFE\", \"role\": \"C\", \"player\": \"Castrovilli\", \"team\": \"Fiorentina\", \"opponent\": \"Lazio\", \"date\": \"2022-02-06T00:00:00\", \"expected_bonus\": 0.24893705546855927}, {\"fanta_team\": \"MEZAFE\", \"role\": \"C\", \"player\": \"Tonali\", \"team\": \"AC Milan\", \"opponent\": \"Inter\", \"date\": \"2022-02-06T00:00:00\", \"expected_bonus\": 0.13725361227989197}, {\"fanta_team\": \"MEZAFE\", \"role\": \"A\", \"player\": \"Dybala\", \"team\": \"Juventus\", \"opponent\": \"Verona\", \"date\": \"2022-02-06T00:00:00\", \"expected_bonus\": 1.541955590248108}, {\"fanta_team\": \"MEZAFE\", \"role\": \"A\", \"player\": \"Correa\", \"team\": \"Inter\", \"opponent\": \"AC Milan\", \"date\": \"2022-02-06T00:00:00\", \"expected_bonus\": 1.0678253173828125}, {\"fanta_team\": \"MEZAFE\", \"role\": \"A\", \"player\": \"Quagliarella\", \"team\": \"Sampdoria\", \"opponent\": \"Sassuolo\", \"date\": \"2022-02-06T00:00:00\", \"expected_bonus\": 0.9384069442749023}, {\"fanta_team\": \"MEZAFE\", \"role\": \"A\", \"player\": \"Simeone\", \"team\": \"Verona\", \"opponent\": \"Juventus\", \"date\": \"2022-02-06T00:00:00\", \"expected_bonus\": 0.7986881136894226}, {\"fanta_team\": \"MEZAFE\", \"role\": \"A\", \"player\": \"Kean\", \"team\": \"Juventus\", \"opponent\": \"Verona\", \"date\": \"2022-02-06T00:00:00\", \"expected_bonus\": 0.3986343443393707}, {\"fanta_team\": \"MEZAFE\", \"role\": \"A\", \"player\": \"Rebic\", \"team\": \"AC Milan\", \"opponent\": \"Inter\", \"date\": \"2022-02-06T00:00:00\", \"expected_bonus\": 0.1273774355649948}]}}, {\"actions\": false, \"mode\": \"vega-lite\"});\n</script>",
      "text/plain": "alt.Chart(...)"
     },
     "metadata": {}
    }
   ]
  },
  {
   "cell_type": "code",
   "metadata": {
    "cell_id": "276bd398-b660-4090-92fd-fb77fc80292b",
    "tags": [],
    "deepnote_to_be_reexecuted": false,
    "source_hash": "3f500048",
    "execution_start": 1643020709856,
    "execution_millis": 4,
    "deepnote_cell_type": "code"
   },
   "source": "team, index = display_fanta_squad(predictions, teams, index)",
   "execution_count": 14,
   "outputs": []
  },
  {
   "cell_type": "code",
   "source": "_deepnote_run_altair(team, \"\"\"{\"$schema\":\"https://vega.github.io/schema/vega-lite/v4.json\",\"mark\":{\"type\":\"bar\",\"tooltip\":{\"content\":\"data\"}},\"height\":220,\"autosize\":{\"type\":\"fit\"},\"data\":{\"name\":\"placeholder\"},\"encoding\":{\"x\":{\"field\":\"expected_bonus\",\"type\":\"quantitative\",\"sort\":null,\"scale\":{\"type\":\"linear\",\"zero\":false}},\"y\":{\"field\":\"player\",\"type\":\"nominal\",\"sort\":null,\"scale\":{\"type\":\"linear\",\"zero\":true}},\"color\":{\"field\":\"role\",\"type\":\"nominal\",\"sort\":null,\"scale\":{\"type\":\"linear\",\"zero\":false}}}}\"\"\")",
   "metadata": {
    "cell_id": "81adbb4a-773d-4067-8e05-9a828af1216c",
    "deepnote_variable_name": "team",
    "deepnote_visualization_spec": {
     "$schema": "https://vega.github.io/schema/vega-lite/v4.json",
     "mark": {
      "type": "bar",
      "tooltip": {
       "content": "data"
      }
     },
     "height": 220,
     "autosize": {
      "type": "fit"
     },
     "data": {
      "name": "placeholder"
     },
     "encoding": {
      "x": {
       "field": "expected_bonus",
       "type": "quantitative",
       "sort": null,
       "scale": {
        "type": "linear",
        "zero": false
       }
      },
      "y": {
       "field": "player",
       "type": "nominal",
       "sort": null,
       "scale": {
        "type": "linear",
        "zero": true
       }
      },
      "color": {
       "field": "role",
       "type": "nominal",
       "sort": null,
       "scale": {
        "type": "linear",
        "zero": false
       }
      }
     }
    },
    "deepnote_to_be_reexecuted": false,
    "source_hash": "e68de25e",
    "execution_start": 1643020709873,
    "execution_millis": 74,
    "deepnote_output_heights": [
     2
    ],
    "allow_embed": "output",
    "deepnote_cell_type": "visualization"
   },
   "execution_count": 15,
   "outputs": [
    {
     "output_type": "execute_result",
     "execution_count": 15,
     "data": {
      "text/html": "\n<div id=\"altair-viz-a6d7b097a9ef4792b64b74486ea6e7a8\"></div>\n<script type=\"text/javascript\">\n  (function(spec, embedOpt){\n    let outputDiv = document.currentScript.previousElementSibling;\n    if (outputDiv.id !== \"altair-viz-a6d7b097a9ef4792b64b74486ea6e7a8\") {\n      outputDiv = document.getElementById(\"altair-viz-a6d7b097a9ef4792b64b74486ea6e7a8\");\n    }\n    const paths = {\n      \"vega\": \"https://cdn.jsdelivr.net/npm//vega@5?noext\",\n      \"vega-lib\": \"https://cdn.jsdelivr.net/npm//vega-lib?noext\",\n      \"vega-lite\": \"https://cdn.jsdelivr.net/npm//vega-lite@4.8.1?noext\",\n      \"vega-embed\": \"https://cdn.jsdelivr.net/npm//vega-embed@6?noext\",\n    };\n\n    function loadScript(lib) {\n      return new Promise(function(resolve, reject) {\n        var s = document.createElement('script');\n        s.src = paths[lib];\n        s.async = true;\n        s.onload = () => resolve(paths[lib]);\n        s.onerror = () => reject(`Error loading script: ${paths[lib]}`);\n        document.getElementsByTagName(\"head\")[0].appendChild(s);\n      });\n    }\n\n    function showError(err) {\n      outputDiv.innerHTML = `<div class=\"error\" style=\"color:red;\">${err}</div>`;\n      throw err;\n    }\n\n    function displayChart(vegaEmbed) {\n      vegaEmbed(outputDiv, spec, embedOpt)\n        .catch(err => showError(`Javascript Error: ${err.message}<br>This usually means there's a typo in your chart specification. See the javascript console for the full traceback.`));\n    }\n\n    if(typeof define === \"function\" && define.amd) {\n      requirejs.config({paths});\n      require([\"vega-embed\"], displayChart, err => showError(`Error loading script: ${err.message}`));\n    } else if (typeof vegaEmbed === \"function\") {\n      displayChart(vegaEmbed);\n    } else {\n      loadScript(\"vega\")\n        .then(() => loadScript(\"vega-lite\"))\n        .then(() => loadScript(\"vega-embed\"))\n        .catch(showError)\n        .then(() => displayChart(vegaEmbed));\n    }\n  })({\"config\": {\"view\": {\"continuousWidth\": 400, \"continuousHeight\": 300}, \"area\": {\"fill\": \"#51C0E9\"}, \"axis\": {\"labelFont\": \"Inter, sans-serif\", \"labelFontSize\": 12, \"labelFontWeight\": \"normal\", \"labelLimit\": 60, \"labelOverlap\": \"greedy\", \"titleFont\": \"Inter, sans-serif\", \"titleFontSize\": 12, \"titleFontWeight\": \"bold\"}, \"background\": \"#ffffff\", \"legend\": {\"labelFont\": \"Inter, sans-serif\", \"labelFontSize\": 12, \"titleFont\": \"Inter, sans-serif\", \"titleFontSize\": 12, \"titleFontWeight\": \"bold\"}, \"line\": {\"stroke\": \"#51C0E9\", \"strokeWidth\": 2}, \"rect\": {\"fill\": \"#51C0E9\"}, \"title\": {\"anchor\": \"start\", \"color\": \"#000000\", \"font\": \"Inter, sans-serif\", \"fontSize\": 22, \"fontWeight\": \"normal\"}}, \"data\": {\"name\": \"data-a77fcd1c65483dac53761752f6b1c428\"}, \"mark\": {\"type\": \"bar\", \"tooltip\": {\"content\": \"data\"}}, \"autosize\": {\"type\": \"fit\"}, \"encoding\": {\"color\": {\"type\": \"nominal\", \"field\": \"role\", \"scale\": {\"type\": \"linear\", \"zero\": false}, \"sort\": null}, \"x\": {\"type\": \"quantitative\", \"field\": \"expected_bonus\", \"scale\": {\"type\": \"linear\", \"zero\": false}, \"sort\": null}, \"y\": {\"type\": \"nominal\", \"field\": \"player\", \"scale\": {\"type\": \"linear\", \"zero\": true}, \"sort\": null}}, \"height\": 300, \"width\": \"container\", \"$schema\": \"https://vega.github.io/schema/vega-lite/v4.json\", \"datasets\": {\"data-a77fcd1c65483dac53761752f6b1c428\": [{\"fanta_team\": \"MaiNa Joya_v2.0\", \"role\": \"D\", \"player\": \"Hern\\u00e1ndez\", \"team\": \"AC Milan\", \"opponent\": \"Inter\", \"date\": \"2022-02-06T00:00:00\", \"expected_bonus\": 0.3474601209163666}, {\"fanta_team\": \"MaiNa Joya_v2.0\", \"role\": \"D\", \"player\": \"Toloi\", \"team\": \"Atalanta\", \"opponent\": \"Cagliari\", \"date\": \"2022-02-06T00:00:00\", \"expected_bonus\": 0.3081672191619873}, {\"fanta_team\": \"MaiNa Joya_v2.0\", \"role\": \"D\", \"player\": \"Milenkovic\", \"team\": \"Fiorentina\", \"opponent\": \"Lazio\", \"date\": \"2022-02-06T00:00:00\", \"expected_bonus\": 0.25245851278305054}, {\"fanta_team\": \"MaiNa Joya_v2.0\", \"role\": \"D\", \"player\": \"Ferrari\", \"team\": \"Sassuolo\", \"opponent\": \"Sampdoria\", \"date\": \"2022-02-06T00:00:00\", \"expected_bonus\": 0.22380313277244568}, {\"fanta_team\": \"MaiNa Joya_v2.0\", \"role\": \"D\", \"player\": \"Molina\", \"team\": \"Udinese\", \"opponent\": \"Torino\", \"date\": \"2022-02-06T00:00:00\", \"expected_bonus\": 0.1963881254196167}, {\"fanta_team\": \"MaiNa Joya_v2.0\", \"role\": \"D\", \"player\": \"Ruggeri\", \"team\": \"Salernitana\", \"opponent\": \"Spezia\", \"date\": \"2022-02-06T00:00:00\", \"expected_bonus\": 0.18300798535346985}, {\"fanta_team\": \"MaiNa Joya_v2.0\", \"role\": \"D\", \"player\": \"Stojanovic\", \"team\": \"Empoli\", \"opponent\": \"Bologna\", \"date\": \"2022-02-06T00:00:00\", \"expected_bonus\": 0.17170797288417816}, {\"fanta_team\": \"MaiNa Joya_v2.0\", \"role\": \"D\", \"player\": \"God\\u00edn\", \"team\": \"Cagliari\", \"opponent\": \"Atalanta\", \"date\": \"2022-02-06T00:00:00\", \"expected_bonus\": -0.01859787479043007}, {\"fanta_team\": \"MaiNa Joya_v2.0\", \"role\": \"C\", \"player\": \"Bajrami\", \"team\": \"Empoli\", \"opponent\": \"Bologna\", \"date\": \"2022-02-06T00:00:00\", \"expected_bonus\": 0.8293419480323792}, {\"fanta_team\": \"MaiNa Joya_v2.0\", \"role\": \"C\", \"player\": \"Veretout\", \"team\": \"Roma\", \"opponent\": \"Genoa\", \"date\": \"2022-02-06T00:00:00\", \"expected_bonus\": 0.7477874159812927}, {\"fanta_team\": \"MaiNa Joya_v2.0\", \"role\": \"C\", \"player\": \"Milinkovic-Savic\", \"team\": \"Lazio\", \"opponent\": \"Fiorentina\", \"date\": \"2022-02-06T00:00:00\", \"expected_bonus\": 0.7404285669326782}, {\"fanta_team\": \"MaiNa Joya_v2.0\", \"role\": \"C\", \"player\": \"Djuricic\", \"team\": \"Sassuolo\", \"opponent\": \"Sampdoria\", \"date\": \"2022-02-06T00:00:00\", \"expected_bonus\": 0.6912519931793213}, {\"fanta_team\": \"MaiNa Joya_v2.0\", \"role\": \"C\", \"player\": \"Barella\", \"team\": \"Inter\", \"opponent\": \"AC Milan\", \"date\": \"2022-02-06T00:00:00\", \"expected_bonus\": 0.6720432043075562}, {\"fanta_team\": \"MaiNa Joya_v2.0\", \"role\": \"C\", \"player\": \"Pobega\", \"team\": \"Torino\", \"opponent\": \"Udinese\", \"date\": \"2022-02-06T00:00:00\", \"expected_bonus\": 0.5923832654953003}, {\"fanta_team\": \"MaiNa Joya_v2.0\", \"role\": \"C\", \"player\": \"Maleh\", \"team\": \"Fiorentina\", \"opponent\": \"Lazio\", \"date\": \"2022-02-06T00:00:00\", \"expected_bonus\": 0.429970920085907}, {\"fanta_team\": \"MaiNa Joya_v2.0\", \"role\": \"C\", \"player\": \"Roon\", \"team\": \"Atalanta\", \"opponent\": \"Cagliari\", \"date\": \"2022-02-06T00:00:00\", \"expected_bonus\": 0.308956503868103}, {\"fanta_team\": \"MaiNa Joya_v2.0\", \"role\": \"A\", \"player\": \"Abraham\", \"team\": \"Roma\", \"opponent\": \"Genoa\", \"date\": \"2022-02-06T00:00:00\", \"expected_bonus\": 1.8938307762145996}, {\"fanta_team\": \"MaiNa Joya_v2.0\", \"role\": \"A\", \"player\": \"Insigne\", \"team\": \"Napoli\", \"opponent\": \"Venezia\", \"date\": \"2022-02-06T00:00:00\", \"expected_bonus\": 1.8863590955734253}, {\"fanta_team\": \"MaiNa Joya_v2.0\", \"role\": \"A\", \"player\": \"Arnautovic\", \"team\": \"Bologna\", \"opponent\": \"Empoli\", \"date\": \"2022-02-06T00:00:00\", \"expected_bonus\": 1.2366653680801392}, {\"fanta_team\": \"MaiNa Joya_v2.0\", \"role\": \"A\", \"player\": \"Cutrone\", \"team\": \"Empoli\", \"opponent\": \"Bologna\", \"date\": \"2022-02-06T00:00:00\", \"expected_bonus\": 1.1603566408157349}, {\"fanta_team\": \"MaiNa Joya_v2.0\", \"role\": \"A\", \"player\": \"Brekalo\", \"team\": \"Torino\", \"opponent\": \"Udinese\", \"date\": \"2022-02-06T00:00:00\", \"expected_bonus\": 0.9360732436180115}, {\"fanta_team\": \"MaiNa Joya_v2.0\", \"role\": \"A\", \"player\": \"Pussetto\", \"team\": \"Udinese\", \"opponent\": \"Torino\", \"date\": \"2022-02-06T00:00:00\", \"expected_bonus\": 0.3307020366191864}]}}, {\"actions\": false, \"mode\": \"vega-lite\"});\n</script>",
      "text/plain": "alt.Chart(...)"
     },
     "metadata": {}
    }
   ]
  },
  {
   "cell_type": "code",
   "metadata": {
    "cell_id": "93a5bb8d-d964-4fc6-b796-3c672a8d7c5d",
    "tags": [],
    "deepnote_to_be_reexecuted": false,
    "source_hash": "3f500048",
    "execution_start": 1643020709951,
    "execution_millis": 4,
    "deepnote_cell_type": "code"
   },
   "source": "team, index = display_fanta_squad(predictions, teams, index)",
   "execution_count": 16,
   "outputs": []
  },
  {
   "cell_type": "code",
   "source": "_deepnote_run_altair(team, \"\"\"{\"$schema\":\"https://vega.github.io/schema/vega-lite/v4.json\",\"mark\":{\"type\":\"bar\",\"tooltip\":{\"content\":\"data\"}},\"height\":220,\"autosize\":{\"type\":\"fit\"},\"data\":{\"name\":\"placeholder\"},\"encoding\":{\"x\":{\"field\":\"expected_bonus\",\"type\":\"quantitative\",\"sort\":null,\"scale\":{\"type\":\"linear\",\"zero\":false}},\"y\":{\"field\":\"player\",\"type\":\"nominal\",\"sort\":null,\"scale\":{\"type\":\"linear\",\"zero\":true}},\"color\":{\"field\":\"role\",\"type\":\"nominal\",\"sort\":null,\"scale\":{\"type\":\"linear\",\"zero\":false}}}}\"\"\")",
   "metadata": {
    "cell_id": "db709fde-6755-4bf6-9963-b66a19b9805d",
    "deepnote_variable_name": "team",
    "deepnote_visualization_spec": {
     "$schema": "https://vega.github.io/schema/vega-lite/v4.json",
     "mark": {
      "type": "bar",
      "tooltip": {
       "content": "data"
      }
     },
     "height": 220,
     "autosize": {
      "type": "fit"
     },
     "data": {
      "name": "placeholder"
     },
     "encoding": {
      "x": {
       "field": "expected_bonus",
       "type": "quantitative",
       "sort": null,
       "scale": {
        "type": "linear",
        "zero": false
       }
      },
      "y": {
       "field": "player",
       "type": "nominal",
       "sort": null,
       "scale": {
        "type": "linear",
        "zero": true
       }
      },
      "color": {
       "field": "role",
       "type": "nominal",
       "sort": null,
       "scale": {
        "type": "linear",
        "zero": false
       }
      }
     }
    },
    "deepnote_to_be_reexecuted": false,
    "source_hash": "e68de25e",
    "execution_start": 1643020710046,
    "execution_millis": 11,
    "deepnote_output_heights": [
     2
    ],
    "allow_embed": "output",
    "deepnote_cell_type": "visualization"
   },
   "execution_count": 17,
   "outputs": [
    {
     "output_type": "execute_result",
     "execution_count": 17,
     "data": {
      "text/html": "\n<div id=\"altair-viz-c1b83995161444a0b69479f02c6d2c0d\"></div>\n<script type=\"text/javascript\">\n  (function(spec, embedOpt){\n    let outputDiv = document.currentScript.previousElementSibling;\n    if (outputDiv.id !== \"altair-viz-c1b83995161444a0b69479f02c6d2c0d\") {\n      outputDiv = document.getElementById(\"altair-viz-c1b83995161444a0b69479f02c6d2c0d\");\n    }\n    const paths = {\n      \"vega\": \"https://cdn.jsdelivr.net/npm//vega@5?noext\",\n      \"vega-lib\": \"https://cdn.jsdelivr.net/npm//vega-lib?noext\",\n      \"vega-lite\": \"https://cdn.jsdelivr.net/npm//vega-lite@4.8.1?noext\",\n      \"vega-embed\": \"https://cdn.jsdelivr.net/npm//vega-embed@6?noext\",\n    };\n\n    function loadScript(lib) {\n      return new Promise(function(resolve, reject) {\n        var s = document.createElement('script');\n        s.src = paths[lib];\n        s.async = true;\n        s.onload = () => resolve(paths[lib]);\n        s.onerror = () => reject(`Error loading script: ${paths[lib]}`);\n        document.getElementsByTagName(\"head\")[0].appendChild(s);\n      });\n    }\n\n    function showError(err) {\n      outputDiv.innerHTML = `<div class=\"error\" style=\"color:red;\">${err}</div>`;\n      throw err;\n    }\n\n    function displayChart(vegaEmbed) {\n      vegaEmbed(outputDiv, spec, embedOpt)\n        .catch(err => showError(`Javascript Error: ${err.message}<br>This usually means there's a typo in your chart specification. See the javascript console for the full traceback.`));\n    }\n\n    if(typeof define === \"function\" && define.amd) {\n      requirejs.config({paths});\n      require([\"vega-embed\"], displayChart, err => showError(`Error loading script: ${err.message}`));\n    } else if (typeof vegaEmbed === \"function\") {\n      displayChart(vegaEmbed);\n    } else {\n      loadScript(\"vega\")\n        .then(() => loadScript(\"vega-lite\"))\n        .then(() => loadScript(\"vega-embed\"))\n        .catch(showError)\n        .then(() => displayChart(vegaEmbed));\n    }\n  })({\"config\": {\"view\": {\"continuousWidth\": 400, \"continuousHeight\": 300}, \"area\": {\"fill\": \"#51C0E9\"}, \"axis\": {\"labelFont\": \"Inter, sans-serif\", \"labelFontSize\": 12, \"labelFontWeight\": \"normal\", \"labelLimit\": 60, \"labelOverlap\": \"greedy\", \"titleFont\": \"Inter, sans-serif\", \"titleFontSize\": 12, \"titleFontWeight\": \"bold\"}, \"background\": \"#ffffff\", \"legend\": {\"labelFont\": \"Inter, sans-serif\", \"labelFontSize\": 12, \"titleFont\": \"Inter, sans-serif\", \"titleFontSize\": 12, \"titleFontWeight\": \"bold\"}, \"line\": {\"stroke\": \"#51C0E9\", \"strokeWidth\": 2}, \"rect\": {\"fill\": \"#51C0E9\"}, \"title\": {\"anchor\": \"start\", \"color\": \"#000000\", \"font\": \"Inter, sans-serif\", \"fontSize\": 22, \"fontWeight\": \"normal\"}}, \"data\": {\"name\": \"data-33992446497c6b0543f4cc2a14db7946\"}, \"mark\": {\"type\": \"bar\", \"tooltip\": {\"content\": \"data\"}}, \"autosize\": {\"type\": \"fit\"}, \"encoding\": {\"color\": {\"type\": \"nominal\", \"field\": \"role\", \"scale\": {\"type\": \"linear\", \"zero\": false}, \"sort\": null}, \"x\": {\"type\": \"quantitative\", \"field\": \"expected_bonus\", \"scale\": {\"type\": \"linear\", \"zero\": false}, \"sort\": null}, \"y\": {\"type\": \"nominal\", \"field\": \"player\", \"scale\": {\"type\": \"linear\", \"zero\": true}, \"sort\": null}}, \"height\": 300, \"width\": \"container\", \"$schema\": \"https://vega.github.io/schema/vega-lite/v4.json\", \"datasets\": {\"data-33992446497c6b0543f4cc2a14db7946\": [{\"fanta_team\": \"Rione Monti\", \"role\": \"D\", \"player\": \"Maehle\", \"team\": \"Atalanta\", \"opponent\": \"Cagliari\", \"date\": \"2022-02-06T00:00:00\", \"expected_bonus\": 0.4537584185600281}, {\"fanta_team\": \"Rione Monti\", \"role\": \"D\", \"player\": \"Biraghi\", \"team\": \"Fiorentina\", \"opponent\": \"Lazio\", \"date\": \"2022-02-06T00:00:00\", \"expected_bonus\": 0.3947066366672516}, {\"fanta_team\": \"Rione Monti\", \"role\": \"D\", \"player\": \"Bremer\", \"team\": \"Torino\", \"opponent\": \"Udinese\", \"date\": \"2022-02-06T00:00:00\", \"expected_bonus\": 0.37777015566825867}, {\"fanta_team\": \"Rione Monti\", \"role\": \"D\", \"player\": \"Vi\\u00f1a\", \"team\": \"Roma\", \"opponent\": \"Genoa\", \"date\": \"2022-02-06T00:00:00\", \"expected_bonus\": 0.3710690140724182}, {\"fanta_team\": \"Rione Monti\", \"role\": \"D\", \"player\": \"Mancini\", \"team\": \"Roma\", \"opponent\": \"Genoa\", \"date\": \"2022-02-06T00:00:00\", \"expected_bonus\": 0.36776217818260193}, {\"fanta_team\": \"Rione Monti\", \"role\": \"D\", \"player\": \"Singo\", \"team\": \"Torino\", \"opponent\": \"Udinese\", \"date\": \"2022-02-06T00:00:00\", \"expected_bonus\": 0.3578048646450043}, {\"fanta_team\": \"Rione Monti\", \"role\": \"D\", \"player\": \"Bastoni\", \"team\": \"Spezia\", \"opponent\": \"Salernitana\", \"date\": \"2022-02-06T00:00:00\", \"expected_bonus\": 0.22859519720077515}, {\"fanta_team\": \"Rione Monti\", \"role\": \"D\", \"player\": \"Udogie\", \"team\": \"Udinese\", \"opponent\": \"Torino\", \"date\": \"2022-02-06T00:00:00\", \"expected_bonus\": 0.12640851736068726}, {\"fanta_team\": \"Rione Monti\", \"role\": \"C\", \"player\": \"Pellegrini\", \"team\": \"Roma\", \"opponent\": \"Genoa\", \"date\": \"2022-02-06T00:00:00\", \"expected_bonus\": 1.122791051864624}, {\"fanta_team\": \"Rione Monti\", \"role\": \"C\", \"player\": \"Zaniolo\", \"team\": \"Roma\", \"opponent\": \"Genoa\", \"date\": \"2022-02-06T00:00:00\", \"expected_bonus\": 0.9296594858169556}, {\"fanta_team\": \"Rione Monti\", \"role\": \"C\", \"player\": \"Frattesi\", \"team\": \"Sassuolo\", \"opponent\": \"Sampdoria\", \"date\": \"2022-02-06T00:00:00\", \"expected_bonus\": 0.5942914485931396}, {\"fanta_team\": \"Rione Monti\", \"role\": \"C\", \"player\": \"Anderson\", \"team\": \"Lazio\", \"opponent\": \"Fiorentina\", \"date\": \"2022-02-06T00:00:00\", \"expected_bonus\": 0.4444437623023987}, {\"fanta_team\": \"Rione Monti\", \"role\": \"C\", \"player\": \"Vidal\", \"team\": \"Inter\", \"opponent\": \"AC Milan\", \"date\": \"2022-02-06T00:00:00\", \"expected_bonus\": 0.3773445785045624}, {\"fanta_team\": \"Rione Monti\", \"role\": \"C\", \"player\": \"Damsgaard\", \"team\": \"Sampdoria\", \"opponent\": \"Sassuolo\", \"date\": \"2022-02-06T00:00:00\", \"expected_bonus\": 0.36265328526496887}, {\"fanta_team\": \"Rione Monti\", \"role\": \"C\", \"player\": \"Kovalenko\", \"team\": \"Spezia\", \"opponent\": \"Salernitana\", \"date\": \"2022-02-06T00:00:00\", \"expected_bonus\": 0.11570324748754501}, {\"fanta_team\": \"Rione Monti\", \"role\": \"C\", \"player\": \"Strootman\", \"team\": \"Cagliari\", \"opponent\": \"Atalanta\", \"date\": \"2022-02-06T00:00:00\", \"expected_bonus\": 0.00035419000778347254}, {\"fanta_team\": \"Rione Monti\", \"role\": \"A\", \"player\": \"Dzeko\", \"team\": \"Inter\", \"opponent\": \"AC Milan\", \"date\": \"2022-02-06T00:00:00\", \"expected_bonus\": 1.5056990385055542}, {\"fanta_team\": \"Rione Monti\", \"role\": \"A\", \"player\": \"Morata\", \"team\": \"Juventus\", \"opponent\": \"Verona\", \"date\": \"2022-02-06T00:00:00\", \"expected_bonus\": 1.1189982891082764}, {\"fanta_team\": \"Rione Monti\", \"role\": \"A\", \"player\": \"Shomurodov\", \"team\": \"Roma\", \"opponent\": \"Genoa\", \"date\": \"2022-02-06T00:00:00\", \"expected_bonus\": 1.0206724405288696}, {\"fanta_team\": \"Rione Monti\", \"role\": \"A\", \"player\": \"Ibrahimovic\", \"team\": \"AC Milan\", \"opponent\": \"Inter\", \"date\": \"2022-02-06T00:00:00\", \"expected_bonus\": 0.9844322800636292}, {\"fanta_team\": \"Rione Monti\", \"role\": \"A\", \"player\": \"Raspadori\", \"team\": \"Sassuolo\", \"opponent\": \"Sampdoria\", \"date\": \"2022-02-06T00:00:00\", \"expected_bonus\": 0.9271450042724609}, {\"fanta_team\": \"Rione Monti\", \"role\": \"A\", \"player\": \"Pedro\", \"team\": \"Lazio\", \"opponent\": \"Fiorentina\", \"date\": \"2022-02-06T00:00:00\", \"expected_bonus\": 0.7648935317993164}]}}, {\"actions\": false, \"mode\": \"vega-lite\"});\n</script>",
      "text/plain": "alt.Chart(...)"
     },
     "metadata": {}
    }
   ]
  },
  {
   "cell_type": "code",
   "metadata": {
    "cell_id": "b4a0c2ea-9f90-4449-a274-c7c2f6a98238",
    "tags": [],
    "deepnote_to_be_reexecuted": false,
    "source_hash": "3f500048",
    "execution_start": 1643020710061,
    "execution_millis": 2,
    "deepnote_cell_type": "code"
   },
   "source": "team, index = display_fanta_squad(predictions, teams, index)",
   "execution_count": 18,
   "outputs": []
  },
  {
   "cell_type": "code",
   "source": "_deepnote_run_altair(team, \"\"\"{\"$schema\":\"https://vega.github.io/schema/vega-lite/v4.json\",\"mark\":{\"type\":\"bar\",\"tooltip\":{\"content\":\"data\"}},\"height\":220,\"autosize\":{\"type\":\"fit\"},\"data\":{\"name\":\"placeholder\"},\"encoding\":{\"x\":{\"field\":\"expected_bonus\",\"type\":\"quantitative\",\"sort\":null,\"scale\":{\"type\":\"linear\",\"zero\":false}},\"y\":{\"field\":\"player\",\"type\":\"nominal\",\"sort\":null,\"scale\":{\"type\":\"linear\",\"zero\":true}},\"color\":{\"field\":\"role\",\"type\":\"nominal\",\"sort\":null,\"scale\":{\"type\":\"linear\",\"zero\":false}}}}\"\"\")",
   "metadata": {
    "cell_id": "136e77e4-8edb-42d6-b134-ceefae4f53ce",
    "deepnote_variable_name": "team",
    "deepnote_visualization_spec": {
     "$schema": "https://vega.github.io/schema/vega-lite/v4.json",
     "mark": {
      "type": "bar",
      "tooltip": {
       "content": "data"
      }
     },
     "height": 220,
     "autosize": {
      "type": "fit"
     },
     "data": {
      "name": "placeholder"
     },
     "encoding": {
      "x": {
       "field": "expected_bonus",
       "type": "quantitative",
       "sort": null,
       "scale": {
        "type": "linear",
        "zero": false
       }
      },
      "y": {
       "field": "player",
       "type": "nominal",
       "sort": null,
       "scale": {
        "type": "linear",
        "zero": true
       }
      },
      "color": {
       "field": "role",
       "type": "nominal",
       "sort": null,
       "scale": {
        "type": "linear",
        "zero": false
       }
      }
     }
    },
    "deepnote_to_be_reexecuted": false,
    "source_hash": "e68de25e",
    "execution_start": 1643020710108,
    "execution_millis": 33,
    "deepnote_output_heights": [
     2
    ],
    "allow_embed": "output",
    "deepnote_cell_type": "visualization"
   },
   "execution_count": 19,
   "outputs": [
    {
     "output_type": "execute_result",
     "execution_count": 19,
     "data": {
      "text/html": "\n<div id=\"altair-viz-1ba827d7a9e0426e827aa70bd6b8334a\"></div>\n<script type=\"text/javascript\">\n  (function(spec, embedOpt){\n    let outputDiv = document.currentScript.previousElementSibling;\n    if (outputDiv.id !== \"altair-viz-1ba827d7a9e0426e827aa70bd6b8334a\") {\n      outputDiv = document.getElementById(\"altair-viz-1ba827d7a9e0426e827aa70bd6b8334a\");\n    }\n    const paths = {\n      \"vega\": \"https://cdn.jsdelivr.net/npm//vega@5?noext\",\n      \"vega-lib\": \"https://cdn.jsdelivr.net/npm//vega-lib?noext\",\n      \"vega-lite\": \"https://cdn.jsdelivr.net/npm//vega-lite@4.8.1?noext\",\n      \"vega-embed\": \"https://cdn.jsdelivr.net/npm//vega-embed@6?noext\",\n    };\n\n    function loadScript(lib) {\n      return new Promise(function(resolve, reject) {\n        var s = document.createElement('script');\n        s.src = paths[lib];\n        s.async = true;\n        s.onload = () => resolve(paths[lib]);\n        s.onerror = () => reject(`Error loading script: ${paths[lib]}`);\n        document.getElementsByTagName(\"head\")[0].appendChild(s);\n      });\n    }\n\n    function showError(err) {\n      outputDiv.innerHTML = `<div class=\"error\" style=\"color:red;\">${err}</div>`;\n      throw err;\n    }\n\n    function displayChart(vegaEmbed) {\n      vegaEmbed(outputDiv, spec, embedOpt)\n        .catch(err => showError(`Javascript Error: ${err.message}<br>This usually means there's a typo in your chart specification. See the javascript console for the full traceback.`));\n    }\n\n    if(typeof define === \"function\" && define.amd) {\n      requirejs.config({paths});\n      require([\"vega-embed\"], displayChart, err => showError(`Error loading script: ${err.message}`));\n    } else if (typeof vegaEmbed === \"function\") {\n      displayChart(vegaEmbed);\n    } else {\n      loadScript(\"vega\")\n        .then(() => loadScript(\"vega-lite\"))\n        .then(() => loadScript(\"vega-embed\"))\n        .catch(showError)\n        .then(() => displayChart(vegaEmbed));\n    }\n  })({\"config\": {\"view\": {\"continuousWidth\": 400, \"continuousHeight\": 300}, \"area\": {\"fill\": \"#51C0E9\"}, \"axis\": {\"labelFont\": \"Inter, sans-serif\", \"labelFontSize\": 12, \"labelFontWeight\": \"normal\", \"labelLimit\": 60, \"labelOverlap\": \"greedy\", \"titleFont\": \"Inter, sans-serif\", \"titleFontSize\": 12, \"titleFontWeight\": \"bold\"}, \"background\": \"#ffffff\", \"legend\": {\"labelFont\": \"Inter, sans-serif\", \"labelFontSize\": 12, \"titleFont\": \"Inter, sans-serif\", \"titleFontSize\": 12, \"titleFontWeight\": \"bold\"}, \"line\": {\"stroke\": \"#51C0E9\", \"strokeWidth\": 2}, \"rect\": {\"fill\": \"#51C0E9\"}, \"title\": {\"anchor\": \"start\", \"color\": \"#000000\", \"font\": \"Inter, sans-serif\", \"fontSize\": 22, \"fontWeight\": \"normal\"}}, \"data\": {\"name\": \"data-dc7e65767ff2f524ac5cd6ea7ab12dcd\"}, \"mark\": {\"type\": \"bar\", \"tooltip\": {\"content\": \"data\"}}, \"autosize\": {\"type\": \"fit\"}, \"encoding\": {\"color\": {\"type\": \"nominal\", \"field\": \"role\", \"scale\": {\"type\": \"linear\", \"zero\": false}, \"sort\": null}, \"x\": {\"type\": \"quantitative\", \"field\": \"expected_bonus\", \"scale\": {\"type\": \"linear\", \"zero\": false}, \"sort\": null}, \"y\": {\"type\": \"nominal\", \"field\": \"player\", \"scale\": {\"type\": \"linear\", \"zero\": true}, \"sort\": null}}, \"height\": 300, \"width\": \"container\", \"$schema\": \"https://vega.github.io/schema/vega-lite/v4.json\", \"datasets\": {\"data-dc7e65767ff2f524ac5cd6ea7ab12dcd\": [{\"fanta_team\": \"Scansuolo \", \"role\": \"D\", \"player\": \"Karsdorp\", \"team\": \"Roma\", \"opponent\": \"Genoa\", \"date\": \"2022-02-06T00:00:00\", \"expected_bonus\": 0.41722774505615234}, {\"fanta_team\": \"Scansuolo \", \"role\": \"D\", \"player\": \"Demiral\", \"team\": \"Atalanta\", \"opponent\": \"Cagliari\", \"date\": \"2022-02-06T00:00:00\", \"expected_bonus\": 0.40876877307891846}, {\"fanta_team\": \"Scansuolo \", \"role\": \"D\", \"player\": \"Vojvoda\", \"team\": \"Torino\", \"opponent\": \"Udinese\", \"date\": \"2022-02-06T00:00:00\", \"expected_bonus\": 0.3307993710041046}, {\"fanta_team\": \"Scansuolo \", \"role\": \"D\", \"player\": \"Koulibaly\", \"team\": \"Napoli\", \"opponent\": \"Venezia\", \"date\": \"2022-02-06T00:00:00\", \"expected_bonus\": 0.27953410148620605}, {\"fanta_team\": \"Scansuolo \", \"role\": \"D\", \"player\": \"Hysaj\", \"team\": \"Lazio\", \"opponent\": \"Fiorentina\", \"date\": \"2022-02-06T00:00:00\", \"expected_bonus\": 0.0967743918299675}, {\"fanta_team\": \"Scansuolo \", \"role\": \"D\", \"player\": \"Ghiglione\", \"team\": \"Genoa\", \"opponent\": \"Roma\", \"date\": \"2022-02-06T00:00:00\", \"expected_bonus\": 0.06694852560758591}, {\"fanta_team\": \"Scansuolo \", \"role\": \"D\", \"player\": \"Maksimovic\", \"team\": \"Genoa\", \"opponent\": \"Roma\", \"date\": \"2022-02-06T00:00:00\", \"expected_bonus\": 0.04373743757605553}, {\"fanta_team\": \"Scansuolo \", \"role\": \"D\", \"player\": \"Zappa\", \"team\": \"Cagliari\", \"opponent\": \"Atalanta\", \"date\": \"2022-02-06T00:00:00\", \"expected_bonus\": -0.06476142257452011}, {\"fanta_team\": \"Scansuolo \", \"role\": \"C\", \"player\": \"Pessina\", \"team\": \"Atalanta\", \"opponent\": \"Cagliari\", \"date\": \"2022-02-06T00:00:00\", \"expected_bonus\": 0.7923232913017273}, {\"fanta_team\": \"Scansuolo \", \"role\": \"C\", \"player\": \"Diaz\", \"team\": \"AC Milan\", \"opponent\": \"Inter\", \"date\": \"2022-02-06T00:00:00\", \"expected_bonus\": 0.4346880614757538}, {\"fanta_team\": \"Scansuolo \", \"role\": \"C\", \"player\": \"Messias\", \"team\": \"AC Milan\", \"opponent\": \"Inter\", \"date\": \"2022-02-06T00:00:00\", \"expected_bonus\": 0.4064529836177826}, {\"fanta_team\": \"Scansuolo \", \"role\": \"C\", \"player\": \"Zaccagni\", \"team\": \"Lazio\", \"opponent\": \"Fiorentina\", \"date\": \"2022-02-06T00:00:00\", \"expected_bonus\": 0.3910810947418213}, {\"fanta_team\": \"Scansuolo \", \"role\": \"C\", \"player\": \"Traore\", \"team\": \"Sassuolo\", \"opponent\": \"Sampdoria\", \"date\": \"2022-02-06T00:00:00\", \"expected_bonus\": 0.14361204206943512}, {\"fanta_team\": \"Scansuolo \", \"role\": \"C\", \"player\": \"Ilic\", \"team\": \"Verona\", \"opponent\": \"Juventus\", \"date\": \"2022-02-06T00:00:00\", \"expected_bonus\": 0.08485637605190277}, {\"fanta_team\": \"Scansuolo \", \"role\": \"C\", \"player\": \"Sigurdsson\", \"team\": \"Venezia\", \"opponent\": \"Napoli\", \"date\": \"2022-02-06T00:00:00\", \"expected_bonus\": 0.06604966521263123}, {\"fanta_team\": \"Scansuolo \", \"role\": \"C\", \"player\": \"Hernani\", \"team\": \"Genoa\", \"opponent\": \"Roma\", \"date\": \"2022-02-06T00:00:00\", \"expected_bonus\": 0.0056663090363144875}, {\"fanta_team\": \"Scansuolo \", \"role\": \"A\", \"player\": \"Immobile\", \"team\": \"Lazio\", \"opponent\": \"Fiorentina\", \"date\": \"2022-02-06T00:00:00\", \"expected_bonus\": 1.6485178470611572}, {\"fanta_team\": \"Scansuolo \", \"role\": \"A\", \"player\": \"Scamacca\", \"team\": \"Sassuolo\", \"opponent\": \"Sampdoria\", \"date\": \"2022-02-06T00:00:00\", \"expected_bonus\": 1.4131101369857788}, {\"fanta_team\": \"Scansuolo \", \"role\": \"A\", \"player\": \"Simy\", \"team\": \"Salernitana\", \"opponent\": \"Spezia\", \"date\": \"2022-02-06T00:00:00\", \"expected_bonus\": 1.0817750692367554}, {\"fanta_team\": \"Scansuolo \", \"role\": \"A\", \"player\": \"Pedro\", \"team\": \"Cagliari\", \"opponent\": \"Atalanta\", \"date\": \"2022-02-06T00:00:00\", \"expected_bonus\": 0.9105079770088196}, {\"fanta_team\": \"Scansuolo \", \"role\": \"A\", \"player\": \"Le\\u00e3o\", \"team\": \"AC Milan\", \"opponent\": \"Inter\", \"date\": \"2022-02-06T00:00:00\", \"expected_bonus\": 0.7239936590194702}, {\"fanta_team\": \"Scansuolo \", \"role\": \"A\", \"player\": \"Caicedo\", \"team\": \"Genoa\", \"opponent\": \"Roma\", \"date\": \"2022-02-06T00:00:00\", \"expected_bonus\": 0.31020811200141907}]}}, {\"actions\": false, \"mode\": \"vega-lite\"});\n</script>",
      "text/plain": "alt.Chart(...)"
     },
     "metadata": {}
    }
   ]
  },
  {
   "cell_type": "code",
   "metadata": {
    "cell_id": "4acdd713-c04b-4f4e-9a1f-ea8c4690c99e",
    "tags": [],
    "deepnote_to_be_reexecuted": false,
    "source_hash": "3f500048",
    "execution_start": 1643020710186,
    "execution_millis": 0,
    "deepnote_cell_type": "code"
   },
   "source": "team, index = display_fanta_squad(predictions, teams, index)",
   "execution_count": 20,
   "outputs": []
  },
  {
   "cell_type": "code",
   "source": "_deepnote_run_altair(team, \"\"\"{\"$schema\":\"https://vega.github.io/schema/vega-lite/v4.json\",\"mark\":{\"type\":\"bar\",\"tooltip\":{\"content\":\"data\"}},\"height\":220,\"autosize\":{\"type\":\"fit\"},\"data\":{\"name\":\"placeholder\"},\"encoding\":{\"x\":{\"field\":\"expected_bonus\",\"type\":\"quantitative\",\"sort\":null,\"scale\":{\"type\":\"linear\",\"zero\":false}},\"y\":{\"field\":\"player\",\"type\":\"nominal\",\"sort\":null,\"scale\":{\"type\":\"linear\",\"zero\":true}},\"color\":{\"field\":\"role\",\"type\":\"nominal\",\"sort\":null,\"scale\":{\"type\":\"linear\",\"zero\":false}}}}\"\"\")",
   "metadata": {
    "cell_id": "04913421-5945-4ac1-a1c7-1bd2f9975384",
    "deepnote_variable_name": "team",
    "deepnote_visualization_spec": {
     "$schema": "https://vega.github.io/schema/vega-lite/v4.json",
     "mark": {
      "type": "bar",
      "tooltip": {
       "content": "data"
      }
     },
     "height": 220,
     "autosize": {
      "type": "fit"
     },
     "data": {
      "name": "placeholder"
     },
     "encoding": {
      "x": {
       "field": "expected_bonus",
       "type": "quantitative",
       "sort": null,
       "scale": {
        "type": "linear",
        "zero": false
       }
      },
      "y": {
       "field": "player",
       "type": "nominal",
       "sort": null,
       "scale": {
        "type": "linear",
        "zero": true
       }
      },
      "color": {
       "field": "role",
       "type": "nominal",
       "sort": null,
       "scale": {
        "type": "linear",
        "zero": false
       }
      }
     }
    },
    "deepnote_to_be_reexecuted": false,
    "source_hash": "e68de25e",
    "execution_start": 1643020710187,
    "execution_millis": 63,
    "deepnote_output_heights": [
     2
    ],
    "allow_embed": "output",
    "deepnote_cell_type": "visualization"
   },
   "execution_count": 21,
   "outputs": [
    {
     "output_type": "execute_result",
     "execution_count": 21,
     "data": {
      "text/html": "\n<div id=\"altair-viz-d915169cbba540ffadcbb733440c0986\"></div>\n<script type=\"text/javascript\">\n  (function(spec, embedOpt){\n    let outputDiv = document.currentScript.previousElementSibling;\n    if (outputDiv.id !== \"altair-viz-d915169cbba540ffadcbb733440c0986\") {\n      outputDiv = document.getElementById(\"altair-viz-d915169cbba540ffadcbb733440c0986\");\n    }\n    const paths = {\n      \"vega\": \"https://cdn.jsdelivr.net/npm//vega@5?noext\",\n      \"vega-lib\": \"https://cdn.jsdelivr.net/npm//vega-lib?noext\",\n      \"vega-lite\": \"https://cdn.jsdelivr.net/npm//vega-lite@4.8.1?noext\",\n      \"vega-embed\": \"https://cdn.jsdelivr.net/npm//vega-embed@6?noext\",\n    };\n\n    function loadScript(lib) {\n      return new Promise(function(resolve, reject) {\n        var s = document.createElement('script');\n        s.src = paths[lib];\n        s.async = true;\n        s.onload = () => resolve(paths[lib]);\n        s.onerror = () => reject(`Error loading script: ${paths[lib]}`);\n        document.getElementsByTagName(\"head\")[0].appendChild(s);\n      });\n    }\n\n    function showError(err) {\n      outputDiv.innerHTML = `<div class=\"error\" style=\"color:red;\">${err}</div>`;\n      throw err;\n    }\n\n    function displayChart(vegaEmbed) {\n      vegaEmbed(outputDiv, spec, embedOpt)\n        .catch(err => showError(`Javascript Error: ${err.message}<br>This usually means there's a typo in your chart specification. See the javascript console for the full traceback.`));\n    }\n\n    if(typeof define === \"function\" && define.amd) {\n      requirejs.config({paths});\n      require([\"vega-embed\"], displayChart, err => showError(`Error loading script: ${err.message}`));\n    } else if (typeof vegaEmbed === \"function\") {\n      displayChart(vegaEmbed);\n    } else {\n      loadScript(\"vega\")\n        .then(() => loadScript(\"vega-lite\"))\n        .then(() => loadScript(\"vega-embed\"))\n        .catch(showError)\n        .then(() => displayChart(vegaEmbed));\n    }\n  })({\"config\": {\"view\": {\"continuousWidth\": 400, \"continuousHeight\": 300}, \"area\": {\"fill\": \"#51C0E9\"}, \"axis\": {\"labelFont\": \"Inter, sans-serif\", \"labelFontSize\": 12, \"labelFontWeight\": \"normal\", \"labelLimit\": 60, \"labelOverlap\": \"greedy\", \"titleFont\": \"Inter, sans-serif\", \"titleFontSize\": 12, \"titleFontWeight\": \"bold\"}, \"background\": \"#ffffff\", \"legend\": {\"labelFont\": \"Inter, sans-serif\", \"labelFontSize\": 12, \"titleFont\": \"Inter, sans-serif\", \"titleFontSize\": 12, \"titleFontWeight\": \"bold\"}, \"line\": {\"stroke\": \"#51C0E9\", \"strokeWidth\": 2}, \"rect\": {\"fill\": \"#51C0E9\"}, \"title\": {\"anchor\": \"start\", \"color\": \"#000000\", \"font\": \"Inter, sans-serif\", \"fontSize\": 22, \"fontWeight\": \"normal\"}}, \"data\": {\"name\": \"data-8bd78d7731c4b537e38865bca582eea8\"}, \"mark\": {\"type\": \"bar\", \"tooltip\": {\"content\": \"data\"}}, \"autosize\": {\"type\": \"fit\"}, \"encoding\": {\"color\": {\"type\": \"nominal\", \"field\": \"role\", \"scale\": {\"type\": \"linear\", \"zero\": false}, \"sort\": null}, \"x\": {\"type\": \"quantitative\", \"field\": \"expected_bonus\", \"scale\": {\"type\": \"linear\", \"zero\": false}, \"sort\": null}, \"y\": {\"type\": \"nominal\", \"field\": \"player\", \"scale\": {\"type\": \"linear\", \"zero\": true}, \"sort\": null}}, \"height\": 300, \"width\": \"container\", \"$schema\": \"https://vega.github.io/schema/vega-lite/v4.json\", \"datasets\": {\"data-8bd78d7731c4b537e38865bca582eea8\": [{\"fanta_team\": \"ssc mozzarella\", \"role\": \"D\", \"player\": \"Dumfries\", \"team\": \"Inter\", \"opponent\": \"AC Milan\", \"date\": \"2022-02-06T00:00:00\", \"expected_bonus\": 0.6005409955978394}, {\"fanta_team\": \"ssc mozzarella\", \"role\": \"D\", \"player\": \"Rui\", \"team\": \"Napoli\", \"opponent\": \"Venezia\", \"date\": \"2022-02-06T00:00:00\", \"expected_bonus\": 0.3836822509765625}, {\"fanta_team\": \"ssc mozzarella\", \"role\": \"D\", \"player\": \"Smalling\", \"team\": \"Roma\", \"opponent\": \"Genoa\", \"date\": \"2022-02-06T00:00:00\", \"expected_bonus\": 0.37299731373786926}, {\"fanta_team\": \"ssc mozzarella\", \"role\": \"D\", \"player\": \"Iba\\u00f1ez\", \"team\": \"Roma\", \"opponent\": \"Genoa\", \"date\": \"2022-02-06T00:00:00\", \"expected_bonus\": 0.3584762513637543}, {\"fanta_team\": \"ssc mozzarella\", \"role\": \"D\", \"player\": \"Gjimshiti\", \"team\": \"Atalanta\", \"opponent\": \"Cagliari\", \"date\": \"2022-02-06T00:00:00\", \"expected_bonus\": 0.3317990005016327}, {\"fanta_team\": \"ssc mozzarella\", \"role\": \"D\", \"player\": \"Felipe\", \"team\": \"Lazio\", \"opponent\": \"Fiorentina\", \"date\": \"2022-02-06T00:00:00\", \"expected_bonus\": 0.09974118322134018}, {\"fanta_team\": \"ssc mozzarella\", \"role\": \"D\", \"player\": \"Lazzari\", \"team\": \"Lazio\", \"opponent\": \"Fiorentina\", \"date\": \"2022-02-06T00:00:00\", \"expected_bonus\": 0.09043184667825699}, {\"fanta_team\": \"ssc mozzarella\", \"role\": \"D\", \"player\": \"Tomori\", \"team\": \"AC Milan\", \"opponent\": \"Inter\", \"date\": \"2022-02-06T00:00:00\", \"expected_bonus\": 0.026002204045653343}, {\"fanta_team\": \"ssc mozzarella\", \"role\": \"C\", \"player\": \"Chiesa\", \"team\": \"Juventus\", \"opponent\": \"Verona\", \"date\": \"2022-02-06T00:00:00\", \"expected_bonus\": 1.1011227369308472}, {\"fanta_team\": \"ssc mozzarella\", \"role\": \"C\", \"player\": \"Mkhitaryan\", \"team\": \"Roma\", \"opponent\": \"Genoa\", \"date\": \"2022-02-06T00:00:00\", \"expected_bonus\": 0.9681389331817627}, {\"fanta_team\": \"ssc mozzarella\", \"role\": \"C\", \"player\": \"Fabi\\u00e1n\", \"team\": \"Napoli\", \"opponent\": \"Venezia\", \"date\": \"2022-02-06T00:00:00\", \"expected_bonus\": 0.4854716658592224}, {\"fanta_team\": \"ssc mozzarella\", \"role\": \"C\", \"player\": \"Torreira\", \"team\": \"Fiorentina\", \"opponent\": \"Lazio\", \"date\": \"2022-02-06T00:00:00\", \"expected_bonus\": 0.3435881435871124}, {\"fanta_team\": \"ssc mozzarella\", \"role\": \"C\", \"player\": \"Freuler\", \"team\": \"Atalanta\", \"opponent\": \"Cagliari\", \"date\": \"2022-02-06T00:00:00\", \"expected_bonus\": 0.308956503868103}, {\"fanta_team\": \"ssc mozzarella\", \"role\": \"C\", \"player\": \"Lopez\", \"team\": \"Sassuolo\", \"opponent\": \"Sampdoria\", \"date\": \"2022-02-06T00:00:00\", \"expected_bonus\": 0.23814991116523743}, {\"fanta_team\": \"ssc mozzarella\", \"role\": \"C\", \"player\": \"Pereyra\", \"team\": \"Udinese\", \"opponent\": \"Torino\", \"date\": \"2022-02-06T00:00:00\", \"expected_bonus\": 0.2241310030221939}, {\"fanta_team\": \"ssc mozzarella\", \"role\": \"A\", \"player\": \"Osimhen\", \"team\": \"Napoli\", \"opponent\": \"Venezia\", \"date\": \"2022-02-06T00:00:00\", \"expected_bonus\": 1.5850496292114258}, {\"fanta_team\": \"ssc mozzarella\", \"role\": \"A\", \"player\": \"Bonazzoli\", \"team\": \"Salernitana\", \"opponent\": \"Spezia\", \"date\": \"2022-02-06T00:00:00\", \"expected_bonus\": 1.116824984550476}, {\"fanta_team\": \"ssc mozzarella\", \"role\": \"A\", \"player\": \"Ilicic\", \"team\": \"Atalanta\", \"opponent\": \"Cagliari\", \"date\": \"2022-02-06T00:00:00\", \"expected_bonus\": 1.0306427478790283}, {\"fanta_team\": \"ssc mozzarella\", \"role\": \"A\", \"player\": \"Politano\", \"team\": \"Napoli\", \"opponent\": \"Venezia\", \"date\": \"2022-02-06T00:00:00\", \"expected_bonus\": 0.4743782579898834}, {\"fanta_team\": \"ssc mozzarella\", \"role\": \"A\", \"player\": \"Rib\\u00e9ry\", \"team\": \"Salernitana\", \"opponent\": \"Spezia\", \"date\": \"2022-02-06T00:00:00\", \"expected_bonus\": 0.46379968523979187}, {\"fanta_team\": \"ssc mozzarella\", \"role\": \"A\", \"player\": \"Pavoletti\", \"team\": \"Cagliari\", \"opponent\": \"Atalanta\", \"date\": \"2022-02-06T00:00:00\", \"expected_bonus\": 0.3262117803096771}]}}, {\"actions\": false, \"mode\": \"vega-lite\"});\n</script>",
      "text/plain": "alt.Chart(...)"
     },
     "metadata": {}
    }
   ]
  },
  {
   "cell_type": "code",
   "metadata": {
    "cell_id": "44571e9e-e8b2-407a-85b9-bcb406b04f31",
    "tags": [],
    "deepnote_to_be_reexecuted": false,
    "source_hash": "de92d3d",
    "execution_start": 1643020710246,
    "execution_millis": 183867,
    "deepnote_cell_type": "code"
   },
   "source": "try:\n    \n    ###############################################################################################\n    status = 'Loading config ...'\n    print('{} -> {}'.format(datetime.now().strftime('%Y-%m-%d %H:%M:%S'), status))\n    with open('config/config.json') as config:\n        config = json.load(config)\n    status = 'Loading config done!'\n    print('{} -> {}'.format(datetime.now().strftime('%Y-%m-%d %H:%M:%S'), status))\n    ###############################################################################################\n\n    ###############################################################################################\n    status = 'Retrieving past week predictions ...'\n    print('{} -> {}'.format(datetime.now().strftime('%Y-%m-%d %H:%M:%S'), status))\n    validation = validate(config['league_name'], config['gameweek']['past'])\n    status = 'Retrieving past week predictions done!'\n    print('{} -> {}'.format(datetime.now().strftime('%Y-%m-%d %H:%M:%S'), status))\n    ###############################################################################################\n\n    ###############################################################################################\n    status = 'Preparing predictions for display...'\n    print('{} -> {}'.format(datetime.now().strftime('%Y-%m-%d %H:%M:%S'), status))\n    validation['player'] = validation['player'].apply(lambda x: x.split(' ')[-1])\n    status = 'Preparing predictions for display done!'\n    print('{} -> {}'.format(datetime.now().strftime('%Y-%m-%d %H:%M:%S'), status))\n    ###############################################################################################\n\n    ###############################################################################################\n    status = 'Updating config ...'\n    print('{} -> {}'.format(datetime.now().strftime('%Y-%m-%d %H:%M:%S'), status))\n    config['gameweek']['past'] = config['gameweek']['past'] + 1\n    with open('config/config.json', 'w') as f:\n        json.dump(config, f, indent=4)\n    status = 'Updating config done!'\n    print('{} -> {}'.format(datetime.now().strftime('%Y-%m-%d %H:%M:%S'), status))\n    ###############################################################################################\n\nexcept Exception as e:\n    print('Exception: {}'.format(e))\n    print('Errored out during: {}'.format(status))",
   "execution_count": 22,
   "outputs": [
    {
     "name": "stdout",
     "text": "2022-01-24 10:38:30 -> Loading config ...\n2022-01-24 10:38:30 -> Loading config done!\n2022-01-24 10:38:30 -> Retrieving past week predictions ...\n100%|██████████| 108/108 [03:03<00:00,  1.70s/it]2022-01-24 10:41:34 -> Retrieving past week predictions done!\n2022-01-24 10:41:34 -> Preparing predictions for display...\n2022-01-24 10:41:34 -> Preparing predictions for display done!\n2022-01-24 10:41:34 -> Updating config ...\n2022-01-24 10:41:34 -> Updating config done!\n\n",
     "output_type": "stream"
    }
   ]
  },
  {
   "cell_type": "code",
   "metadata": {
    "cell_id": "fe5cb744-dcbb-4c2b-b8f4-eee4c37224da",
    "tags": [],
    "deepnote_to_be_reexecuted": false,
    "source_hash": "d3a5413f",
    "execution_start": 1643020894115,
    "execution_millis": 4,
    "deepnote_cell_type": "code"
   },
   "source": "teams = sorted(list(validation['fanta_team'].unique()))\nindex = 0",
   "execution_count": 23,
   "outputs": []
  },
  {
   "cell_type": "code",
   "metadata": {
    "cell_id": "5307f8bd-5ea7-466a-8190-518b8819ea5b",
    "tags": [],
    "deepnote_to_be_reexecuted": false,
    "source_hash": "96119dd1",
    "execution_start": 1643020894121,
    "execution_millis": 4,
    "deepnote_cell_type": "code"
   },
   "source": "team, index = display_fanta_squad(validation, teams, index)",
   "execution_count": 24,
   "outputs": []
  },
  {
   "cell_type": "code",
   "source": "_deepnote_run_altair(team, \"\"\"{\"$schema\":\"https://vega.github.io/schema/vega-lite/v4.json\",\"mark\":{\"type\":\"bar\",\"tooltip\":{\"content\":\"data\"}},\"height\":220,\"autosize\":{\"type\":\"fit\"},\"data\":{\"name\":\"placeholder\"},\"encoding\":{\"x\":{\"field\":\"error\",\"type\":\"quantitative\",\"sort\":null,\"scale\":{\"type\":\"linear\",\"zero\":false}},\"y\":{\"field\":\"player\",\"type\":\"nominal\",\"sort\":null,\"scale\":{\"type\":\"linear\",\"zero\":true}},\"color\":{\"field\":\"error_type\",\"type\":\"nominal\",\"sort\":null,\"scale\":{\"type\":\"linear\",\"zero\":false}}}}\"\"\")",
   "metadata": {
    "cell_id": "d6007c66-f029-409e-aef9-6f052b6748e3",
    "deepnote_variable_name": "team",
    "deepnote_visualization_spec": {
     "$schema": "https://vega.github.io/schema/vega-lite/v4.json",
     "mark": {
      "type": "bar",
      "tooltip": {
       "content": "data"
      }
     },
     "height": 220,
     "autosize": {
      "type": "fit"
     },
     "data": {
      "name": "placeholder"
     },
     "encoding": {
      "x": {
       "field": "error",
       "type": "quantitative",
       "sort": null,
       "scale": {
        "type": "linear",
        "zero": false
       }
      },
      "y": {
       "field": "player",
       "type": "nominal",
       "sort": null,
       "scale": {
        "type": "linear",
        "zero": true
       }
      },
      "color": {
       "field": "error_type",
       "type": "nominal",
       "sort": null,
       "scale": {
        "type": "linear",
        "zero": false
       }
      }
     }
    },
    "deepnote_to_be_reexecuted": false,
    "source_hash": "81b9fc1a",
    "execution_start": 1643020894128,
    "execution_millis": 131,
    "deepnote_output_heights": [
     2
    ],
    "allow_embed": "output",
    "deepnote_cell_type": "visualization"
   },
   "outputs": [
    {
     "output_type": "execute_result",
     "execution_count": 25,
     "data": {
      "text/html": "\n<div id=\"altair-viz-f4ceae30980946e98385c13eb2061088\"></div>\n<script type=\"text/javascript\">\n  (function(spec, embedOpt){\n    let outputDiv = document.currentScript.previousElementSibling;\n    if (outputDiv.id !== \"altair-viz-f4ceae30980946e98385c13eb2061088\") {\n      outputDiv = document.getElementById(\"altair-viz-f4ceae30980946e98385c13eb2061088\");\n    }\n    const paths = {\n      \"vega\": \"https://cdn.jsdelivr.net/npm//vega@5?noext\",\n      \"vega-lib\": \"https://cdn.jsdelivr.net/npm//vega-lib?noext\",\n      \"vega-lite\": \"https://cdn.jsdelivr.net/npm//vega-lite@4.8.1?noext\",\n      \"vega-embed\": \"https://cdn.jsdelivr.net/npm//vega-embed@6?noext\",\n    };\n\n    function loadScript(lib) {\n      return new Promise(function(resolve, reject) {\n        var s = document.createElement('script');\n        s.src = paths[lib];\n        s.async = true;\n        s.onload = () => resolve(paths[lib]);\n        s.onerror = () => reject(`Error loading script: ${paths[lib]}`);\n        document.getElementsByTagName(\"head\")[0].appendChild(s);\n      });\n    }\n\n    function showError(err) {\n      outputDiv.innerHTML = `<div class=\"error\" style=\"color:red;\">${err}</div>`;\n      throw err;\n    }\n\n    function displayChart(vegaEmbed) {\n      vegaEmbed(outputDiv, spec, embedOpt)\n        .catch(err => showError(`Javascript Error: ${err.message}<br>This usually means there's a typo in your chart specification. See the javascript console for the full traceback.`));\n    }\n\n    if(typeof define === \"function\" && define.amd) {\n      requirejs.config({paths});\n      require([\"vega-embed\"], displayChart, err => showError(`Error loading script: ${err.message}`));\n    } else if (typeof vegaEmbed === \"function\") {\n      displayChart(vegaEmbed);\n    } else {\n      loadScript(\"vega\")\n        .then(() => loadScript(\"vega-lite\"))\n        .then(() => loadScript(\"vega-embed\"))\n        .catch(showError)\n        .then(() => displayChart(vegaEmbed));\n    }\n  })({\"config\": {\"view\": {\"continuousWidth\": 400, \"continuousHeight\": 300}, \"area\": {\"fill\": \"#51C0E9\"}, \"axis\": {\"labelFont\": \"Inter, sans-serif\", \"labelFontSize\": 12, \"labelFontWeight\": \"normal\", \"labelLimit\": 60, \"labelOverlap\": \"greedy\", \"titleFont\": \"Inter, sans-serif\", \"titleFontSize\": 12, \"titleFontWeight\": \"bold\"}, \"background\": \"#ffffff\", \"legend\": {\"labelFont\": \"Inter, sans-serif\", \"labelFontSize\": 12, \"titleFont\": \"Inter, sans-serif\", \"titleFontSize\": 12, \"titleFontWeight\": \"bold\"}, \"line\": {\"stroke\": \"#51C0E9\", \"strokeWidth\": 2}, \"rect\": {\"fill\": \"#51C0E9\"}, \"title\": {\"anchor\": \"start\", \"color\": \"#000000\", \"font\": \"Inter, sans-serif\", \"fontSize\": 22, \"fontWeight\": \"normal\"}}, \"data\": {\"name\": \"data-301c79a659a40381fddf232cab9ef081\"}, \"mark\": {\"type\": \"bar\", \"tooltip\": {\"content\": \"data\"}}, \"autosize\": {\"type\": \"fit\"}, \"encoding\": {\"color\": {\"type\": \"nominal\", \"field\": \"error_type\", \"scale\": {\"type\": \"linear\", \"zero\": false}, \"sort\": null}, \"x\": {\"type\": \"quantitative\", \"field\": \"error\", \"scale\": {\"type\": \"linear\", \"zero\": false}, \"sort\": null}, \"y\": {\"type\": \"nominal\", \"field\": \"player\", \"scale\": {\"type\": \"linear\", \"zero\": true}, \"sort\": null}}, \"height\": 300, \"width\": \"container\", \"$schema\": \"https://vega.github.io/schema/vega-lite/v4.json\", \"datasets\": {\"data-301c79a659a40381fddf232cab9ef081\": [{\"fanta_team\": \"AC Picchia\", \"role\": \"D\", \"player\": \"Calabria\", \"home_team\": \"AC Milan\", \"away_team\": \"Juventus\", \"date\": \"2022-01-23T00:00:00\", \"expected_bonus\": 0.45284882, \"true_bonus\": 0.0, \"error\": 0.45284882, \"error_type\": \"overestimated\"}, {\"fanta_team\": \"AC Picchia\", \"role\": \"D\", \"player\": \"Odriozola\", \"home_team\": \"Cagliari\", \"away_team\": \"Fiorentina\", \"date\": \"2022-01-23T00:00:00\", \"expected_bonus\": 0.28170326, \"true_bonus\": 0.0, \"error\": 0.28170326, \"error_type\": \"overestimated\"}, {\"fanta_team\": \"AC Picchia\", \"role\": \"D\", \"player\": \"Florenzi\", \"home_team\": \"AC Milan\", \"away_team\": \"Juventus\", \"date\": \"2022-01-23T00:00:00\", \"expected_bonus\": 0.28162798, \"true_bonus\": 0.0, \"error\": 0.28162798, \"error_type\": \"overestimated\"}, {\"fanta_team\": \"AC Picchia\", \"role\": \"D\", \"player\": \"Sandro\", \"home_team\": \"AC Milan\", \"away_team\": \"Juventus\", \"date\": \"2022-01-23T00:00:00\", \"expected_bonus\": 0.20641759, \"true_bonus\": 0.0, \"error\": 0.20641759, \"error_type\": \"overestimated\"}, {\"fanta_team\": \"AC Picchia\", \"role\": \"D\", \"player\": \"Dalbert\", \"home_team\": \"Cagliari\", \"away_team\": \"Fiorentina\", \"date\": \"2022-01-23T00:00:00\", \"expected_bonus\": 0.13682008, \"true_bonus\": 0.0, \"error\": 0.13682008, \"error_type\": \"overestimated\"}, {\"fanta_team\": \"AC Picchia\", \"role\": \"C\", \"player\": \"Thorsby\", \"home_team\": \"Spezia\", \"away_team\": \"Sampdoria\", \"date\": \"2022-01-23T00:00:00\", \"expected_bonus\": 0.34417894, \"true_bonus\": 0.0, \"error\": 0.34417894, \"error_type\": \"overestimated\"}, {\"fanta_team\": \"AC Picchia\", \"role\": \"C\", \"player\": \"Marin\", \"home_team\": \"Cagliari\", \"away_team\": \"Fiorentina\", \"date\": \"2022-01-23T00:00:00\", \"expected_bonus\": 0.25676227, \"true_bonus\": 0.0, \"error\": 0.25676227, \"error_type\": \"overestimated\"}, {\"fanta_team\": \"AC Picchia\", \"role\": \"A\", \"player\": \"Giroud\", \"home_team\": \"AC Milan\", \"away_team\": \"Juventus\", \"date\": \"2022-01-23T00:00:00\", \"expected_bonus\": 1.2210437, \"true_bonus\": 0.0, \"error\": 1.2210437, \"error_type\": \"overestimated\"}, {\"fanta_team\": \"AC Picchia\", \"role\": \"A\", \"player\": \"Verde\", \"home_team\": \"Spezia\", \"away_team\": \"Sampdoria\", \"date\": \"2022-01-23T00:00:00\", \"expected_bonus\": 0.59050524, \"true_bonus\": 3.0, \"error\": -2.40949476, \"error_type\": \"underestimated\"}]}}, {\"actions\": false, \"mode\": \"vega-lite\"});\n</script>",
      "text/plain": "alt.Chart(...)"
     },
     "metadata": {}
    }
   ],
   "execution_count": 25
  },
  {
   "cell_type": "code",
   "metadata": {
    "cell_id": "7230bd13-cec2-47d3-b394-a7502968a878",
    "tags": [],
    "deepnote_to_be_reexecuted": false,
    "source_hash": "96119dd1",
    "execution_start": 1643020894256,
    "execution_millis": 0,
    "deepnote_cell_type": "code"
   },
   "source": "team, index = display_fanta_squad(validation, teams, index)",
   "execution_count": 26,
   "outputs": []
  },
  {
   "cell_type": "code",
   "source": "_deepnote_run_altair(team, \"\"\"{\"$schema\":\"https://vega.github.io/schema/vega-lite/v4.json\",\"mark\":{\"type\":\"bar\",\"tooltip\":{\"content\":\"data\"}},\"height\":220,\"autosize\":{\"type\":\"fit\"},\"data\":{\"name\":\"placeholder\"},\"encoding\":{\"x\":{\"field\":\"error\",\"type\":\"quantitative\",\"sort\":null,\"scale\":{\"type\":\"linear\",\"zero\":false}},\"y\":{\"field\":\"player\",\"type\":\"nominal\",\"sort\":null,\"scale\":{\"type\":\"linear\",\"zero\":true}},\"color\":{\"field\":\"error_type\",\"type\":\"nominal\",\"sort\":null,\"scale\":{\"type\":\"linear\",\"zero\":false}}}}\"\"\")",
   "metadata": {
    "cell_id": "00025-5835c844-289b-4f92-b154-1d82c629a5b1",
    "deepnote_variable_name": "team",
    "deepnote_visualization_spec": {
     "$schema": "https://vega.github.io/schema/vega-lite/v4.json",
     "mark": {
      "type": "bar",
      "tooltip": {
       "content": "data"
      }
     },
     "height": 220,
     "autosize": {
      "type": "fit"
     },
     "data": {
      "name": "placeholder"
     },
     "encoding": {
      "x": {
       "field": "error",
       "type": "quantitative",
       "sort": null,
       "scale": {
        "type": "linear",
        "zero": false
       }
      },
      "y": {
       "field": "player",
       "type": "nominal",
       "sort": null,
       "scale": {
        "type": "linear",
        "zero": true
       }
      },
      "color": {
       "field": "error_type",
       "type": "nominal",
       "sort": null,
       "scale": {
        "type": "linear",
        "zero": false
       }
      }
     }
    },
    "deepnote_to_be_reexecuted": false,
    "source_hash": "81b9fc1a",
    "deepnote_output_heights": [
     2
    ],
    "allow_embed": "output",
    "execution_start": 1643020894256,
    "execution_millis": 89,
    "deepnote_cell_type": "visualization"
   },
   "outputs": [
    {
     "output_type": "execute_result",
     "execution_count": 27,
     "data": {
      "text/html": "\n<div id=\"altair-viz-a2c91e00a1f145658884f763bf74b274\"></div>\n<script type=\"text/javascript\">\n  (function(spec, embedOpt){\n    let outputDiv = document.currentScript.previousElementSibling;\n    if (outputDiv.id !== \"altair-viz-a2c91e00a1f145658884f763bf74b274\") {\n      outputDiv = document.getElementById(\"altair-viz-a2c91e00a1f145658884f763bf74b274\");\n    }\n    const paths = {\n      \"vega\": \"https://cdn.jsdelivr.net/npm//vega@5?noext\",\n      \"vega-lib\": \"https://cdn.jsdelivr.net/npm//vega-lib?noext\",\n      \"vega-lite\": \"https://cdn.jsdelivr.net/npm//vega-lite@4.8.1?noext\",\n      \"vega-embed\": \"https://cdn.jsdelivr.net/npm//vega-embed@6?noext\",\n    };\n\n    function loadScript(lib) {\n      return new Promise(function(resolve, reject) {\n        var s = document.createElement('script');\n        s.src = paths[lib];\n        s.async = true;\n        s.onload = () => resolve(paths[lib]);\n        s.onerror = () => reject(`Error loading script: ${paths[lib]}`);\n        document.getElementsByTagName(\"head\")[0].appendChild(s);\n      });\n    }\n\n    function showError(err) {\n      outputDiv.innerHTML = `<div class=\"error\" style=\"color:red;\">${err}</div>`;\n      throw err;\n    }\n\n    function displayChart(vegaEmbed) {\n      vegaEmbed(outputDiv, spec, embedOpt)\n        .catch(err => showError(`Javascript Error: ${err.message}<br>This usually means there's a typo in your chart specification. See the javascript console for the full traceback.`));\n    }\n\n    if(typeof define === \"function\" && define.amd) {\n      requirejs.config({paths});\n      require([\"vega-embed\"], displayChart, err => showError(`Error loading script: ${err.message}`));\n    } else if (typeof vegaEmbed === \"function\") {\n      displayChart(vegaEmbed);\n    } else {\n      loadScript(\"vega\")\n        .then(() => loadScript(\"vega-lite\"))\n        .then(() => loadScript(\"vega-embed\"))\n        .catch(showError)\n        .then(() => displayChart(vegaEmbed));\n    }\n  })({\"config\": {\"view\": {\"continuousWidth\": 400, \"continuousHeight\": 300}, \"area\": {\"fill\": \"#51C0E9\"}, \"axis\": {\"labelFont\": \"Inter, sans-serif\", \"labelFontSize\": 12, \"labelFontWeight\": \"normal\", \"labelLimit\": 60, \"labelOverlap\": \"greedy\", \"titleFont\": \"Inter, sans-serif\", \"titleFontSize\": 12, \"titleFontWeight\": \"bold\"}, \"background\": \"#ffffff\", \"legend\": {\"labelFont\": \"Inter, sans-serif\", \"labelFontSize\": 12, \"titleFont\": \"Inter, sans-serif\", \"titleFontSize\": 12, \"titleFontWeight\": \"bold\"}, \"line\": {\"stroke\": \"#51C0E9\", \"strokeWidth\": 2}, \"rect\": {\"fill\": \"#51C0E9\"}, \"title\": {\"anchor\": \"start\", \"color\": \"#000000\", \"font\": \"Inter, sans-serif\", \"fontSize\": 22, \"fontWeight\": \"normal\"}}, \"data\": {\"name\": \"data-6e4ffd3b7dfbe22c0f3f920465027cc4\"}, \"mark\": {\"type\": \"bar\", \"tooltip\": {\"content\": \"data\"}}, \"autosize\": {\"type\": \"fit\"}, \"encoding\": {\"color\": {\"type\": \"nominal\", \"field\": \"error_type\", \"scale\": {\"type\": \"linear\", \"zero\": false}, \"sort\": null}, \"x\": {\"type\": \"quantitative\", \"field\": \"error\", \"scale\": {\"type\": \"linear\", \"zero\": false}, \"sort\": null}, \"y\": {\"type\": \"nominal\", \"field\": \"player\", \"scale\": {\"type\": \"linear\", \"zero\": true}, \"sort\": null}}, \"height\": 300, \"width\": \"container\", \"$schema\": \"https://vega.github.io/schema/vega-lite/v4.json\", \"datasets\": {\"data-6e4ffd3b7dfbe22c0f3f920465027cc4\": [{\"fanta_team\": \"AI sereje ja dejeDe jebe tu de jebere\", \"role\": \"D\", \"player\": \"Rrahmani\", \"home_team\": \"Napoli\", \"away_team\": \"Salernitana\", \"date\": \"2022-01-23T00:00:00\", \"expected_bonus\": 0.3331651, \"true_bonus\": 3.0, \"error\": -2.6668349, \"error_type\": \"underestimated\"}, {\"fanta_team\": \"AI sereje ja dejeDe jebe tu de jebere\", \"role\": \"D\", \"player\": \"Augello\", \"home_team\": \"Spezia\", \"away_team\": \"Sampdoria\", \"date\": \"2022-01-23T00:00:00\", \"expected_bonus\": 0.19156756, \"true_bonus\": 0.0, \"error\": 0.19156756, \"error_type\": \"overestimated\"}, {\"fanta_team\": \"AI sereje ja dejeDe jebe tu de jebere\", \"role\": \"C\", \"player\": \"Candreva\", \"home_team\": \"Spezia\", \"away_team\": \"Sampdoria\", \"date\": \"2022-01-23T00:00:00\", \"expected_bonus\": 0.87948793, \"true_bonus\": 0.0, \"error\": 0.87948793, \"error_type\": \"overestimated\"}, {\"fanta_team\": \"AI sereje ja dejeDe jebe tu de jebere\", \"role\": \"C\", \"player\": \"Bonaventura\", \"home_team\": \"Cagliari\", \"away_team\": \"Fiorentina\", \"date\": \"2022-01-23T00:00:00\", \"expected_bonus\": 0.6431328, \"true_bonus\": 0.0, \"error\": 0.6431328, \"error_type\": \"overestimated\"}, {\"fanta_team\": \"AI sereje ja dejeDe jebe tu de jebere\", \"role\": \"C\", \"player\": \"Locatelli\", \"home_team\": \"AC Milan\", \"away_team\": \"Juventus\", \"date\": \"2022-01-23T00:00:00\", \"expected_bonus\": 0.2625042, \"true_bonus\": 0.0, \"error\": 0.2625042, \"error_type\": \"overestimated\"}, {\"fanta_team\": \"AI sereje ja dejeDe jebe tu de jebere\", \"role\": \"A\", \"player\": \"Caputo\", \"home_team\": \"Spezia\", \"away_team\": \"Sampdoria\", \"date\": \"2022-01-23T00:00:00\", \"expected_bonus\": 1.128565, \"true_bonus\": 0.0, \"error\": 1.128565, \"error_type\": \"overestimated\"}, {\"fanta_team\": \"AI sereje ja dejeDe jebe tu de jebere\", \"role\": \"A\", \"player\": \"Lozano\", \"home_team\": \"Napoli\", \"away_team\": \"Salernitana\", \"date\": \"2022-01-23T00:00:00\", \"expected_bonus\": 1.0457959, \"true_bonus\": 0.0, \"error\": 1.0457959, \"error_type\": \"overestimated\"}]}}, {\"actions\": false, \"mode\": \"vega-lite\"});\n</script>",
      "text/plain": "alt.Chart(...)"
     },
     "metadata": {}
    }
   ],
   "execution_count": 27
  },
  {
   "cell_type": "code",
   "metadata": {
    "cell_id": "4b6caad3-94aa-4a54-be90-216f36213ee1",
    "tags": [],
    "deepnote_to_be_reexecuted": false,
    "source_hash": "96119dd1",
    "execution_start": 1643020894342,
    "execution_millis": 4,
    "deepnote_cell_type": "code"
   },
   "source": "team, index = display_fanta_squad(validation, teams, index)",
   "execution_count": 28,
   "outputs": []
  },
  {
   "cell_type": "code",
   "source": "_deepnote_run_altair(team, \"\"\"{\"$schema\":\"https://vega.github.io/schema/vega-lite/v4.json\",\"mark\":{\"type\":\"bar\",\"tooltip\":{\"content\":\"data\"}},\"height\":220,\"autosize\":{\"type\":\"fit\"},\"data\":{\"name\":\"placeholder\"},\"encoding\":{\"x\":{\"field\":\"error\",\"type\":\"quantitative\",\"sort\":null,\"scale\":{\"type\":\"linear\",\"zero\":false}},\"y\":{\"field\":\"player\",\"type\":\"nominal\",\"sort\":null,\"scale\":{\"type\":\"linear\",\"zero\":true}},\"color\":{\"field\":\"error_type\",\"type\":\"nominal\",\"sort\":null,\"scale\":{\"type\":\"linear\",\"zero\":false}}}}\"\"\")",
   "metadata": {
    "cell_id": "00027-ad487baa-da0c-464f-9f9f-e9a21a67870d",
    "deepnote_variable_name": "team",
    "deepnote_visualization_spec": {
     "$schema": "https://vega.github.io/schema/vega-lite/v4.json",
     "mark": {
      "type": "bar",
      "tooltip": {
       "content": "data"
      }
     },
     "height": 220,
     "autosize": {
      "type": "fit"
     },
     "data": {
      "name": "placeholder"
     },
     "encoding": {
      "x": {
       "field": "error",
       "type": "quantitative",
       "sort": null,
       "scale": {
        "type": "linear",
        "zero": false
       }
      },
      "y": {
       "field": "player",
       "type": "nominal",
       "sort": null,
       "scale": {
        "type": "linear",
        "zero": true
       }
      },
      "color": {
       "field": "error_type",
       "type": "nominal",
       "sort": null,
       "scale": {
        "type": "linear",
        "zero": false
       }
      }
     }
    },
    "deepnote_to_be_reexecuted": false,
    "source_hash": "81b9fc1a",
    "deepnote_output_heights": [
     2
    ],
    "allow_embed": "output",
    "execution_start": 1643020894390,
    "execution_millis": 232,
    "deepnote_cell_type": "visualization"
   },
   "outputs": [
    {
     "output_type": "execute_result",
     "execution_count": 29,
     "data": {
      "text/html": "\n<div id=\"altair-viz-78c5c88dcbd04acaba4e68ea6e0dc55a\"></div>\n<script type=\"text/javascript\">\n  (function(spec, embedOpt){\n    let outputDiv = document.currentScript.previousElementSibling;\n    if (outputDiv.id !== \"altair-viz-78c5c88dcbd04acaba4e68ea6e0dc55a\") {\n      outputDiv = document.getElementById(\"altair-viz-78c5c88dcbd04acaba4e68ea6e0dc55a\");\n    }\n    const paths = {\n      \"vega\": \"https://cdn.jsdelivr.net/npm//vega@5?noext\",\n      \"vega-lib\": \"https://cdn.jsdelivr.net/npm//vega-lib?noext\",\n      \"vega-lite\": \"https://cdn.jsdelivr.net/npm//vega-lite@4.8.1?noext\",\n      \"vega-embed\": \"https://cdn.jsdelivr.net/npm//vega-embed@6?noext\",\n    };\n\n    function loadScript(lib) {\n      return new Promise(function(resolve, reject) {\n        var s = document.createElement('script');\n        s.src = paths[lib];\n        s.async = true;\n        s.onload = () => resolve(paths[lib]);\n        s.onerror = () => reject(`Error loading script: ${paths[lib]}`);\n        document.getElementsByTagName(\"head\")[0].appendChild(s);\n      });\n    }\n\n    function showError(err) {\n      outputDiv.innerHTML = `<div class=\"error\" style=\"color:red;\">${err}</div>`;\n      throw err;\n    }\n\n    function displayChart(vegaEmbed) {\n      vegaEmbed(outputDiv, spec, embedOpt)\n        .catch(err => showError(`Javascript Error: ${err.message}<br>This usually means there's a typo in your chart specification. See the javascript console for the full traceback.`));\n    }\n\n    if(typeof define === \"function\" && define.amd) {\n      requirejs.config({paths});\n      require([\"vega-embed\"], displayChart, err => showError(`Error loading script: ${err.message}`));\n    } else if (typeof vegaEmbed === \"function\") {\n      displayChart(vegaEmbed);\n    } else {\n      loadScript(\"vega\")\n        .then(() => loadScript(\"vega-lite\"))\n        .then(() => loadScript(\"vega-embed\"))\n        .catch(showError)\n        .then(() => displayChart(vegaEmbed));\n    }\n  })({\"config\": {\"view\": {\"continuousWidth\": 400, \"continuousHeight\": 300}, \"area\": {\"fill\": \"#51C0E9\"}, \"axis\": {\"labelFont\": \"Inter, sans-serif\", \"labelFontSize\": 12, \"labelFontWeight\": \"normal\", \"labelLimit\": 60, \"labelOverlap\": \"greedy\", \"titleFont\": \"Inter, sans-serif\", \"titleFontSize\": 12, \"titleFontWeight\": \"bold\"}, \"background\": \"#ffffff\", \"legend\": {\"labelFont\": \"Inter, sans-serif\", \"labelFontSize\": 12, \"titleFont\": \"Inter, sans-serif\", \"titleFontSize\": 12, \"titleFontWeight\": \"bold\"}, \"line\": {\"stroke\": \"#51C0E9\", \"strokeWidth\": 2}, \"rect\": {\"fill\": \"#51C0E9\"}, \"title\": {\"anchor\": \"start\", \"color\": \"#000000\", \"font\": \"Inter, sans-serif\", \"fontSize\": 22, \"fontWeight\": \"normal\"}}, \"data\": {\"name\": \"data-9b3542df71923aebb4907629283285bb\"}, \"mark\": {\"type\": \"bar\", \"tooltip\": {\"content\": \"data\"}}, \"autosize\": {\"type\": \"fit\"}, \"encoding\": {\"color\": {\"type\": \"nominal\", \"field\": \"error_type\", \"scale\": {\"type\": \"linear\", \"zero\": false}, \"sort\": null}, \"x\": {\"type\": \"quantitative\", \"field\": \"error\", \"scale\": {\"type\": \"linear\", \"zero\": false}, \"sort\": null}, \"y\": {\"type\": \"nominal\", \"field\": \"player\", \"scale\": {\"type\": \"linear\", \"zero\": true}, \"sort\": null}}, \"height\": 300, \"width\": \"container\", \"$schema\": \"https://vega.github.io/schema/vega-lite/v4.json\", \"datasets\": {\"data-9b3542df71923aebb4907629283285bb\": [{\"fanta_team\": \"Beverly INPS\", \"role\": \"D\", \"player\": \"Cuadrado\", \"home_team\": \"AC Milan\", \"away_team\": \"Juventus\", \"date\": \"2022-01-23T00:00:00\", \"expected_bonus\": 0.30304924, \"true_bonus\": 0.0, \"error\": 0.30304924, \"error_type\": \"overestimated\"}, {\"fanta_team\": \"Beverly INPS\", \"role\": \"D\", \"player\": \"Lorenzo\", \"home_team\": \"Napoli\", \"away_team\": \"Salernitana\", \"date\": \"2022-01-23T00:00:00\", \"expected_bonus\": 0.28852633, \"true_bonus\": 0.0, \"error\": 0.28852633, \"error_type\": \"overestimated\"}, {\"fanta_team\": \"Beverly INPS\", \"role\": \"D\", \"player\": \"Romagnoli\", \"home_team\": \"AC Milan\", \"away_team\": \"Juventus\", \"date\": \"2022-01-23T00:00:00\", \"expected_bonus\": 0.14774475, \"true_bonus\": 0.0, \"error\": 0.14774475, \"error_type\": \"overestimated\"}, {\"fanta_team\": \"Beverly INPS\", \"role\": \"C\", \"player\": \"Zielinski\", \"home_team\": \"Napoli\", \"away_team\": \"Salernitana\", \"date\": \"2022-01-23T00:00:00\", \"expected_bonus\": 1.3393662, \"true_bonus\": 0.0, \"error\": 1.3393662, \"error_type\": \"overestimated\"}, {\"fanta_team\": \"Beverly INPS\", \"role\": \"C\", \"player\": \"Praet\", \"home_team\": \"Torino\", \"away_team\": \"Sassuolo\", \"date\": \"2022-01-23T00:00:00\", \"expected_bonus\": 0.7462018, \"true_bonus\": 0.0, \"error\": 0.7462018, \"error_type\": \"overestimated\"}, {\"fanta_team\": \"Beverly INPS\", \"role\": \"C\", \"player\": \"Elmas\", \"home_team\": \"Napoli\", \"away_team\": \"Salernitana\", \"date\": \"2022-01-23T00:00:00\", \"expected_bonus\": 0.51189286, \"true_bonus\": 1.0, \"error\": -0.48810714, \"error_type\": \"underestimated\"}, {\"fanta_team\": \"Beverly INPS\", \"role\": \"C\", \"player\": \"Kulusevski\", \"home_team\": \"AC Milan\", \"away_team\": \"Juventus\", \"date\": \"2022-01-23T00:00:00\", \"expected_bonus\": 0.31045, \"true_bonus\": 0.0, \"error\": 0.31045, \"error_type\": \"overestimated\"}, {\"fanta_team\": \"Beverly INPS\", \"role\": \"A\", \"player\": \"Mertens\", \"home_team\": \"Napoli\", \"away_team\": \"Salernitana\", \"date\": \"2022-01-23T00:00:00\", \"expected_bonus\": 1.921598, \"true_bonus\": 4.0, \"error\": -2.078402, \"error_type\": \"underestimated\"}, {\"fanta_team\": \"Beverly INPS\", \"role\": \"A\", \"player\": \"Gonz\\u00e1lez\", \"home_team\": \"Cagliari\", \"away_team\": \"Fiorentina\", \"date\": \"2022-01-23T00:00:00\", \"expected_bonus\": 1.1511587, \"true_bonus\": 0.0, \"error\": 1.1511587, \"error_type\": \"overestimated\"}, {\"fanta_team\": \"Beverly INPS\", \"role\": \"A\", \"player\": \"Berardi\", \"home_team\": \"Torino\", \"away_team\": \"Sassuolo\", \"date\": \"2022-01-23T00:00:00\", \"expected_bonus\": 0.983985, \"true_bonus\": 1.0, \"error\": -0.016015, \"error_type\": \"underestimated\"}, {\"fanta_team\": \"Beverly INPS\", \"role\": \"A\", \"player\": \"Nzola\", \"home_team\": \"Spezia\", \"away_team\": \"Sampdoria\", \"date\": \"2022-01-23T00:00:00\", \"expected_bonus\": 0.9773636, \"true_bonus\": 0.0, \"error\": 0.9773636, \"error_type\": \"overestimated\"}]}}, {\"actions\": false, \"mode\": \"vega-lite\"});\n</script>",
      "text/plain": "alt.Chart(...)"
     },
     "metadata": {}
    }
   ],
   "execution_count": 29
  },
  {
   "cell_type": "code",
   "metadata": {
    "cell_id": "d7f08d19-70ea-42c9-b53f-af37f2745fd5",
    "tags": [],
    "deepnote_to_be_reexecuted": false,
    "source_hash": "96119dd1",
    "execution_start": 1643020894479,
    "execution_millis": 0,
    "deepnote_cell_type": "code"
   },
   "source": "team, index = display_fanta_squad(validation, teams, index)",
   "execution_count": 30,
   "outputs": []
  },
  {
   "cell_type": "code",
   "source": "_deepnote_run_altair(team, \"\"\"{\"$schema\":\"https://vega.github.io/schema/vega-lite/v4.json\",\"mark\":{\"type\":\"bar\",\"tooltip\":{\"content\":\"data\"}},\"height\":220,\"autosize\":{\"type\":\"fit\"},\"data\":{\"name\":\"placeholder\"},\"encoding\":{\"x\":{\"field\":\"error\",\"type\":\"quantitative\",\"sort\":null,\"scale\":{\"type\":\"linear\",\"zero\":false}},\"y\":{\"field\":\"player\",\"type\":\"nominal\",\"sort\":null,\"scale\":{\"type\":\"linear\",\"zero\":true}},\"color\":{\"field\":\"error_type\",\"type\":\"nominal\",\"sort\":null,\"scale\":{\"type\":\"linear\",\"zero\":false}}}}\"\"\")",
   "metadata": {
    "cell_id": "00029-0f50e7b5-72d6-4b55-9d32-91160ff059b5",
    "deepnote_variable_name": "team",
    "deepnote_visualization_spec": {
     "$schema": "https://vega.github.io/schema/vega-lite/v4.json",
     "mark": {
      "type": "bar",
      "tooltip": {
       "content": "data"
      }
     },
     "height": 220,
     "autosize": {
      "type": "fit"
     },
     "data": {
      "name": "placeholder"
     },
     "encoding": {
      "x": {
       "field": "error",
       "type": "quantitative",
       "sort": null,
       "scale": {
        "type": "linear",
        "zero": false
       }
      },
      "y": {
       "field": "player",
       "type": "nominal",
       "sort": null,
       "scale": {
        "type": "linear",
        "zero": true
       }
      },
      "color": {
       "field": "error_type",
       "type": "nominal",
       "sort": null,
       "scale": {
        "type": "linear",
        "zero": false
       }
      }
     }
    },
    "deepnote_to_be_reexecuted": false,
    "source_hash": "81b9fc1a",
    "deepnote_output_heights": [
     2
    ],
    "allow_embed": "output",
    "execution_start": 1643020894480,
    "execution_millis": 192,
    "deepnote_cell_type": "visualization"
   },
   "outputs": [
    {
     "output_type": "execute_result",
     "execution_count": 31,
     "data": {
      "text/html": "\n<div id=\"altair-viz-e509c399bd254e3a8bd80ac4d0c2256f\"></div>\n<script type=\"text/javascript\">\n  (function(spec, embedOpt){\n    let outputDiv = document.currentScript.previousElementSibling;\n    if (outputDiv.id !== \"altair-viz-e509c399bd254e3a8bd80ac4d0c2256f\") {\n      outputDiv = document.getElementById(\"altair-viz-e509c399bd254e3a8bd80ac4d0c2256f\");\n    }\n    const paths = {\n      \"vega\": \"https://cdn.jsdelivr.net/npm//vega@5?noext\",\n      \"vega-lib\": \"https://cdn.jsdelivr.net/npm//vega-lib?noext\",\n      \"vega-lite\": \"https://cdn.jsdelivr.net/npm//vega-lite@4.8.1?noext\",\n      \"vega-embed\": \"https://cdn.jsdelivr.net/npm//vega-embed@6?noext\",\n    };\n\n    function loadScript(lib) {\n      return new Promise(function(resolve, reject) {\n        var s = document.createElement('script');\n        s.src = paths[lib];\n        s.async = true;\n        s.onload = () => resolve(paths[lib]);\n        s.onerror = () => reject(`Error loading script: ${paths[lib]}`);\n        document.getElementsByTagName(\"head\")[0].appendChild(s);\n      });\n    }\n\n    function showError(err) {\n      outputDiv.innerHTML = `<div class=\"error\" style=\"color:red;\">${err}</div>`;\n      throw err;\n    }\n\n    function displayChart(vegaEmbed) {\n      vegaEmbed(outputDiv, spec, embedOpt)\n        .catch(err => showError(`Javascript Error: ${err.message}<br>This usually means there's a typo in your chart specification. See the javascript console for the full traceback.`));\n    }\n\n    if(typeof define === \"function\" && define.amd) {\n      requirejs.config({paths});\n      require([\"vega-embed\"], displayChart, err => showError(`Error loading script: ${err.message}`));\n    } else if (typeof vegaEmbed === \"function\") {\n      displayChart(vegaEmbed);\n    } else {\n      loadScript(\"vega\")\n        .then(() => loadScript(\"vega-lite\"))\n        .then(() => loadScript(\"vega-embed\"))\n        .catch(showError)\n        .then(() => displayChart(vegaEmbed));\n    }\n  })({\"config\": {\"view\": {\"continuousWidth\": 400, \"continuousHeight\": 300}, \"area\": {\"fill\": \"#51C0E9\"}, \"axis\": {\"labelFont\": \"Inter, sans-serif\", \"labelFontSize\": 12, \"labelFontWeight\": \"normal\", \"labelLimit\": 60, \"labelOverlap\": \"greedy\", \"titleFont\": \"Inter, sans-serif\", \"titleFontSize\": 12, \"titleFontWeight\": \"bold\"}, \"background\": \"#ffffff\", \"legend\": {\"labelFont\": \"Inter, sans-serif\", \"labelFontSize\": 12, \"titleFont\": \"Inter, sans-serif\", \"titleFontSize\": 12, \"titleFontWeight\": \"bold\"}, \"line\": {\"stroke\": \"#51C0E9\", \"strokeWidth\": 2}, \"rect\": {\"fill\": \"#51C0E9\"}, \"title\": {\"anchor\": \"start\", \"color\": \"#000000\", \"font\": \"Inter, sans-serif\", \"fontSize\": 22, \"fontWeight\": \"normal\"}}, \"data\": {\"name\": \"data-0063d069526747e69545f44993657429\"}, \"mark\": {\"type\": \"bar\", \"tooltip\": {\"content\": \"data\"}}, \"autosize\": {\"type\": \"fit\"}, \"encoding\": {\"color\": {\"type\": \"nominal\", \"field\": \"error_type\", \"scale\": {\"type\": \"linear\", \"zero\": false}, \"sort\": null}, \"x\": {\"type\": \"quantitative\", \"field\": \"error\", \"scale\": {\"type\": \"linear\", \"zero\": false}, \"sort\": null}, \"y\": {\"type\": \"nominal\", \"field\": \"player\", \"scale\": {\"type\": \"linear\", \"zero\": true}, \"sort\": null}}, \"height\": 300, \"width\": \"container\", \"$schema\": \"https://vega.github.io/schema/vega-lite/v4.json\", \"datasets\": {\"data-0063d069526747e69545f44993657429\": [{\"fanta_team\": \"MEZAFE\", \"role\": \"D\", \"player\": \"Nastasic\", \"home_team\": \"Cagliari\", \"away_team\": \"Fiorentina\", \"date\": \"2022-01-23T00:00:00\", \"expected_bonus\": 0.14664496, \"true_bonus\": 0.0, \"error\": 0.14664496, \"error_type\": \"overestimated\"}, {\"fanta_team\": \"MEZAFE\", \"role\": \"D\", \"player\": \"Chiellini\", \"home_team\": \"AC Milan\", \"away_team\": \"Juventus\", \"date\": \"2022-01-23T00:00:00\", \"expected_bonus\": 0.103733666, \"true_bonus\": 0.0, \"error\": 0.103733666, \"error_type\": \"overestimated\"}, {\"fanta_team\": \"MEZAFE\", \"role\": \"C\", \"player\": \"Saelemaekers\", \"home_team\": \"AC Milan\", \"away_team\": \"Juventus\", \"date\": \"2022-01-23T00:00:00\", \"expected_bonus\": 0.46603757, \"true_bonus\": 0.0, \"error\": 0.46603757, \"error_type\": \"overestimated\"}, {\"fanta_team\": \"MEZAFE\", \"role\": \"C\", \"player\": \"Cristante\", \"home_team\": \"Empoli\", \"away_team\": \"Roma\", \"date\": \"2022-01-23T00:00:00\", \"expected_bonus\": 0.38061848, \"true_bonus\": 0.0, \"error\": 0.38061848, \"error_type\": \"overestimated\"}, {\"fanta_team\": \"MEZAFE\", \"role\": \"C\", \"player\": \"McKennie\", \"home_team\": \"AC Milan\", \"away_team\": \"Juventus\", \"date\": \"2022-01-23T00:00:00\", \"expected_bonus\": 0.34555808, \"true_bonus\": 0.0, \"error\": 0.34555808, \"error_type\": \"overestimated\"}, {\"fanta_team\": \"MEZAFE\", \"role\": \"C\", \"player\": \"Tonali\", \"home_team\": \"AC Milan\", \"away_team\": \"Juventus\", \"date\": \"2022-01-23T00:00:00\", \"expected_bonus\": 0.28234813, \"true_bonus\": 0.0, \"error\": 0.28234813, \"error_type\": \"overestimated\"}, {\"fanta_team\": \"MEZAFE\", \"role\": \"C\", \"player\": \"Castrovilli\", \"home_team\": \"Cagliari\", \"away_team\": \"Fiorentina\", \"date\": \"2022-01-23T00:00:00\", \"expected_bonus\": 0.24080628, \"true_bonus\": 0.0, \"error\": 0.24080628, \"error_type\": \"overestimated\"}, {\"fanta_team\": \"MEZAFE\", \"role\": \"A\", \"player\": \"Dybala\", \"home_team\": \"AC Milan\", \"away_team\": \"Juventus\", \"date\": \"2022-01-23T00:00:00\", \"expected_bonus\": 1.1564357, \"true_bonus\": 0.0, \"error\": 1.1564357, \"error_type\": \"overestimated\"}, {\"fanta_team\": \"MEZAFE\", \"role\": \"A\", \"player\": \"Rebic\", \"home_team\": \"AC Milan\", \"away_team\": \"Juventus\", \"date\": \"2022-01-23T00:00:00\", \"expected_bonus\": 0.33225578, \"true_bonus\": 0.0, \"error\": 0.33225578, \"error_type\": \"overestimated\"}, {\"fanta_team\": \"MEZAFE\", \"role\": \"A\", \"player\": \"Kean\", \"home_team\": \"AC Milan\", \"away_team\": \"Juventus\", \"date\": \"2022-01-23T00:00:00\", \"expected_bonus\": 0.2476354, \"true_bonus\": 0.0, \"error\": 0.2476354, \"error_type\": \"overestimated\"}]}}, {\"actions\": false, \"mode\": \"vega-lite\"});\n</script>",
      "text/plain": "alt.Chart(...)"
     },
     "metadata": {}
    }
   ],
   "execution_count": 31
  },
  {
   "cell_type": "code",
   "metadata": {
    "cell_id": "cc3dc8c6-dc8f-44b0-a37e-c28bcb2bd928",
    "tags": [],
    "deepnote_to_be_reexecuted": false,
    "source_hash": "96119dd1",
    "execution_start": 1643020894524,
    "execution_millis": 2,
    "deepnote_cell_type": "code"
   },
   "source": "team, index = display_fanta_squad(validation, teams, index)",
   "execution_count": 32,
   "outputs": []
  },
  {
   "cell_type": "code",
   "source": "_deepnote_run_altair(team, \"\"\"{\"$schema\":\"https://vega.github.io/schema/vega-lite/v4.json\",\"mark\":{\"type\":\"bar\",\"tooltip\":{\"content\":\"data\"}},\"height\":220,\"autosize\":{\"type\":\"fit\"},\"data\":{\"name\":\"placeholder\"},\"encoding\":{\"x\":{\"field\":\"error\",\"type\":\"quantitative\",\"sort\":null,\"scale\":{\"type\":\"linear\",\"zero\":false}},\"y\":{\"field\":\"player\",\"type\":\"nominal\",\"sort\":null,\"scale\":{\"type\":\"linear\",\"zero\":true}},\"color\":{\"field\":\"error_type\",\"type\":\"nominal\",\"sort\":null,\"scale\":{\"type\":\"linear\",\"zero\":false}}}}\"\"\")",
   "metadata": {
    "cell_id": "00031-fd6a1c71-4f0b-4b0a-a71b-11423045a9e4",
    "deepnote_variable_name": "team",
    "deepnote_visualization_spec": {
     "$schema": "https://vega.github.io/schema/vega-lite/v4.json",
     "mark": {
      "type": "bar",
      "tooltip": {
       "content": "data"
      }
     },
     "height": 220,
     "autosize": {
      "type": "fit"
     },
     "data": {
      "name": "placeholder"
     },
     "encoding": {
      "x": {
       "field": "error",
       "type": "quantitative",
       "sort": null,
       "scale": {
        "type": "linear",
        "zero": false
       }
      },
      "y": {
       "field": "player",
       "type": "nominal",
       "sort": null,
       "scale": {
        "type": "linear",
        "zero": true
       }
      },
      "color": {
       "field": "error_type",
       "type": "nominal",
       "sort": null,
       "scale": {
        "type": "linear",
        "zero": false
       }
      }
     }
    },
    "deepnote_to_be_reexecuted": false,
    "source_hash": "81b9fc1a",
    "deepnote_output_heights": [
     2
    ],
    "allow_embed": "output",
    "execution_start": 1643020894570,
    "execution_millis": 120,
    "deepnote_cell_type": "visualization"
   },
   "outputs": [
    {
     "output_type": "execute_result",
     "execution_count": 33,
     "data": {
      "text/html": "\n<div id=\"altair-viz-79fb4a63fb58446eb1d56014d36da063\"></div>\n<script type=\"text/javascript\">\n  (function(spec, embedOpt){\n    let outputDiv = document.currentScript.previousElementSibling;\n    if (outputDiv.id !== \"altair-viz-79fb4a63fb58446eb1d56014d36da063\") {\n      outputDiv = document.getElementById(\"altair-viz-79fb4a63fb58446eb1d56014d36da063\");\n    }\n    const paths = {\n      \"vega\": \"https://cdn.jsdelivr.net/npm//vega@5?noext\",\n      \"vega-lib\": \"https://cdn.jsdelivr.net/npm//vega-lib?noext\",\n      \"vega-lite\": \"https://cdn.jsdelivr.net/npm//vega-lite@4.8.1?noext\",\n      \"vega-embed\": \"https://cdn.jsdelivr.net/npm//vega-embed@6?noext\",\n    };\n\n    function loadScript(lib) {\n      return new Promise(function(resolve, reject) {\n        var s = document.createElement('script');\n        s.src = paths[lib];\n        s.async = true;\n        s.onload = () => resolve(paths[lib]);\n        s.onerror = () => reject(`Error loading script: ${paths[lib]}`);\n        document.getElementsByTagName(\"head\")[0].appendChild(s);\n      });\n    }\n\n    function showError(err) {\n      outputDiv.innerHTML = `<div class=\"error\" style=\"color:red;\">${err}</div>`;\n      throw err;\n    }\n\n    function displayChart(vegaEmbed) {\n      vegaEmbed(outputDiv, spec, embedOpt)\n        .catch(err => showError(`Javascript Error: ${err.message}<br>This usually means there's a typo in your chart specification. See the javascript console for the full traceback.`));\n    }\n\n    if(typeof define === \"function\" && define.amd) {\n      requirejs.config({paths});\n      require([\"vega-embed\"], displayChart, err => showError(`Error loading script: ${err.message}`));\n    } else if (typeof vegaEmbed === \"function\") {\n      displayChart(vegaEmbed);\n    } else {\n      loadScript(\"vega\")\n        .then(() => loadScript(\"vega-lite\"))\n        .then(() => loadScript(\"vega-embed\"))\n        .catch(showError)\n        .then(() => displayChart(vegaEmbed));\n    }\n  })({\"config\": {\"view\": {\"continuousWidth\": 400, \"continuousHeight\": 300}, \"area\": {\"fill\": \"#51C0E9\"}, \"axis\": {\"labelFont\": \"Inter, sans-serif\", \"labelFontSize\": 12, \"labelFontWeight\": \"normal\", \"labelLimit\": 60, \"labelOverlap\": \"greedy\", \"titleFont\": \"Inter, sans-serif\", \"titleFontSize\": 12, \"titleFontWeight\": \"bold\"}, \"background\": \"#ffffff\", \"legend\": {\"labelFont\": \"Inter, sans-serif\", \"labelFontSize\": 12, \"titleFont\": \"Inter, sans-serif\", \"titleFontSize\": 12, \"titleFontWeight\": \"bold\"}, \"line\": {\"stroke\": \"#51C0E9\", \"strokeWidth\": 2}, \"rect\": {\"fill\": \"#51C0E9\"}, \"title\": {\"anchor\": \"start\", \"color\": \"#000000\", \"font\": \"Inter, sans-serif\", \"fontSize\": 22, \"fontWeight\": \"normal\"}}, \"data\": {\"name\": \"data-d04c1cfe053af11cee1a50f1f783e142\"}, \"mark\": {\"type\": \"bar\", \"tooltip\": {\"content\": \"data\"}}, \"autosize\": {\"type\": \"fit\"}, \"encoding\": {\"color\": {\"type\": \"nominal\", \"field\": \"error_type\", \"scale\": {\"type\": \"linear\", \"zero\": false}, \"sort\": null}, \"x\": {\"type\": \"quantitative\", \"field\": \"error\", \"scale\": {\"type\": \"linear\", \"zero\": false}, \"sort\": null}, \"y\": {\"type\": \"nominal\", \"field\": \"player\", \"scale\": {\"type\": \"linear\", \"zero\": true}, \"sort\": null}}, \"height\": 300, \"width\": \"container\", \"$schema\": \"https://vega.github.io/schema/vega-lite/v4.json\", \"datasets\": {\"data-d04c1cfe053af11cee1a50f1f783e142\": [{\"fanta_team\": \"MaiNa Joya_v2.0\", \"role\": \"D\", \"player\": \"Hern\\u00e1ndez\", \"home_team\": \"AC Milan\", \"away_team\": \"Juventus\", \"date\": \"2022-01-23T00:00:00\", \"expected_bonus\": 0.38406518, \"true_bonus\": 0.0, \"error\": 0.38406518, \"error_type\": \"overestimated\"}, {\"fanta_team\": \"MaiNa Joya_v2.0\", \"role\": \"D\", \"player\": \"Milenkovic\", \"home_team\": \"Cagliari\", \"away_team\": \"Fiorentina\", \"date\": \"2022-01-23T00:00:00\", \"expected_bonus\": 0.22756502, \"true_bonus\": 0.0, \"error\": 0.22756502, \"error_type\": \"overestimated\"}, {\"fanta_team\": \"MaiNa Joya_v2.0\", \"role\": \"D\", \"player\": \"Ferrari\", \"home_team\": \"Torino\", \"away_team\": \"Sassuolo\", \"date\": \"2022-01-23T00:00:00\", \"expected_bonus\": 0.11583654, \"true_bonus\": 0.0, \"error\": 0.11583654, \"error_type\": \"overestimated\"}, {\"fanta_team\": \"MaiNa Joya_v2.0\", \"role\": \"C\", \"player\": \"Veretout\", \"home_team\": \"Empoli\", \"away_team\": \"Roma\", \"date\": \"2022-01-23T00:00:00\", \"expected_bonus\": 0.8520028, \"true_bonus\": 0.0, \"error\": 0.8520028, \"error_type\": \"overestimated\"}, {\"fanta_team\": \"MaiNa Joya_v2.0\", \"role\": \"C\", \"player\": \"Bajrami\", \"home_team\": \"Empoli\", \"away_team\": \"Roma\", \"date\": \"2022-01-23T00:00:00\", \"expected_bonus\": 0.723424, \"true_bonus\": 3.0, \"error\": -2.276576, \"error_type\": \"underestimated\"}, {\"fanta_team\": \"MaiNa Joya_v2.0\", \"role\": \"C\", \"player\": \"Pobega\", \"home_team\": \"Torino\", \"away_team\": \"Sassuolo\", \"date\": \"2022-01-23T00:00:00\", \"expected_bonus\": 0.61422247, \"true_bonus\": 0.0, \"error\": 0.61422247, \"error_type\": \"overestimated\"}, {\"fanta_team\": \"MaiNa Joya_v2.0\", \"role\": \"C\", \"player\": \"Maleh\", \"home_team\": \"Cagliari\", \"away_team\": \"Fiorentina\", \"date\": \"2022-01-23T00:00:00\", \"expected_bonus\": 0.48000926, \"true_bonus\": 1.0, \"error\": -0.51999074, \"error_type\": \"underestimated\"}, {\"fanta_team\": \"MaiNa Joya_v2.0\", \"role\": \"A\", \"player\": \"Insigne\", \"home_team\": \"Napoli\", \"away_team\": \"Salernitana\", \"date\": \"2022-01-23T00:00:00\", \"expected_bonus\": 2.0879505, \"true_bonus\": 3.0, \"error\": -0.9120495000000002, \"error_type\": \"underestimated\"}, {\"fanta_team\": \"MaiNa Joya_v2.0\", \"role\": \"A\", \"player\": \"Abraham\", \"home_team\": \"Empoli\", \"away_team\": \"Roma\", \"date\": \"2022-01-23T00:00:00\", \"expected_bonus\": 2.0528214, \"true_bonus\": 6.0, \"error\": -3.9471786, \"error_type\": \"underestimated\"}, {\"fanta_team\": \"MaiNa Joya_v2.0\", \"role\": \"A\", \"player\": \"Brekalo\", \"home_team\": \"Torino\", \"away_team\": \"Sassuolo\", \"date\": \"2022-01-23T00:00:00\", \"expected_bonus\": 0.9093608, \"true_bonus\": 0.0, \"error\": 0.9093608, \"error_type\": \"overestimated\"}, {\"fanta_team\": \"MaiNa Joya_v2.0\", \"role\": \"A\", \"player\": \"Cutrone\", \"home_team\": \"Empoli\", \"away_team\": \"Roma\", \"date\": \"2022-01-23T00:00:00\", \"expected_bonus\": 0.79538, \"true_bonus\": 0.0, \"error\": 0.79538, \"error_type\": \"overestimated\"}]}}, {\"actions\": false, \"mode\": \"vega-lite\"});\n</script>",
      "text/plain": "alt.Chart(...)"
     },
     "metadata": {}
    }
   ],
   "execution_count": 33
  },
  {
   "cell_type": "code",
   "metadata": {
    "cell_id": "e535efe4-693e-48a8-844c-8094b246c7ae",
    "tags": [],
    "deepnote_to_be_reexecuted": false,
    "source_hash": "96119dd1",
    "execution_start": 1643020894688,
    "execution_millis": 510549,
    "deepnote_cell_type": "code"
   },
   "source": "team, index = display_fanta_squad(validation, teams, index)",
   "execution_count": 34,
   "outputs": []
  },
  {
   "cell_type": "code",
   "source": "_deepnote_run_altair(team, \"\"\"{\"$schema\":\"https://vega.github.io/schema/vega-lite/v4.json\",\"mark\":{\"type\":\"bar\",\"tooltip\":{\"content\":\"data\"}},\"height\":220,\"autosize\":{\"type\":\"fit\"},\"data\":{\"name\":\"placeholder\"},\"encoding\":{\"x\":{\"field\":\"error\",\"type\":\"quantitative\",\"sort\":null,\"scale\":{\"type\":\"linear\",\"zero\":false}},\"y\":{\"field\":\"player\",\"type\":\"nominal\",\"sort\":null,\"scale\":{\"type\":\"linear\",\"zero\":true}},\"color\":{\"field\":\"error_type\",\"type\":\"nominal\",\"sort\":null,\"scale\":{\"type\":\"linear\",\"zero\":false}}}}\"\"\")",
   "metadata": {
    "cell_id": "00033-a031bc55-5807-4595-ad40-c91acb5f58f5",
    "deepnote_variable_name": "team",
    "deepnote_visualization_spec": {
     "$schema": "https://vega.github.io/schema/vega-lite/v4.json",
     "mark": {
      "type": "bar",
      "tooltip": {
       "content": "data"
      }
     },
     "height": 220,
     "autosize": {
      "type": "fit"
     },
     "data": {
      "name": "placeholder"
     },
     "encoding": {
      "x": {
       "field": "error",
       "type": "quantitative",
       "sort": null,
       "scale": {
        "type": "linear",
        "zero": false
       }
      },
      "y": {
       "field": "player",
       "type": "nominal",
       "sort": null,
       "scale": {
        "type": "linear",
        "zero": true
       }
      },
      "color": {
       "field": "error_type",
       "type": "nominal",
       "sort": null,
       "scale": {
        "type": "linear",
        "zero": false
       }
      }
     }
    },
    "deepnote_to_be_reexecuted": false,
    "source_hash": "81b9fc1a",
    "deepnote_output_heights": [
     2
    ],
    "allow_embed": "output",
    "execution_start": 1643020894689,
    "execution_millis": 79,
    "deepnote_cell_type": "visualization"
   },
   "outputs": [
    {
     "output_type": "execute_result",
     "execution_count": 35,
     "data": {
      "text/html": "\n<div id=\"altair-viz-50094a6677e84470a7efaed222a34a4d\"></div>\n<script type=\"text/javascript\">\n  (function(spec, embedOpt){\n    let outputDiv = document.currentScript.previousElementSibling;\n    if (outputDiv.id !== \"altair-viz-50094a6677e84470a7efaed222a34a4d\") {\n      outputDiv = document.getElementById(\"altair-viz-50094a6677e84470a7efaed222a34a4d\");\n    }\n    const paths = {\n      \"vega\": \"https://cdn.jsdelivr.net/npm//vega@5?noext\",\n      \"vega-lib\": \"https://cdn.jsdelivr.net/npm//vega-lib?noext\",\n      \"vega-lite\": \"https://cdn.jsdelivr.net/npm//vega-lite@4.8.1?noext\",\n      \"vega-embed\": \"https://cdn.jsdelivr.net/npm//vega-embed@6?noext\",\n    };\n\n    function loadScript(lib) {\n      return new Promise(function(resolve, reject) {\n        var s = document.createElement('script');\n        s.src = paths[lib];\n        s.async = true;\n        s.onload = () => resolve(paths[lib]);\n        s.onerror = () => reject(`Error loading script: ${paths[lib]}`);\n        document.getElementsByTagName(\"head\")[0].appendChild(s);\n      });\n    }\n\n    function showError(err) {\n      outputDiv.innerHTML = `<div class=\"error\" style=\"color:red;\">${err}</div>`;\n      throw err;\n    }\n\n    function displayChart(vegaEmbed) {\n      vegaEmbed(outputDiv, spec, embedOpt)\n        .catch(err => showError(`Javascript Error: ${err.message}<br>This usually means there's a typo in your chart specification. See the javascript console for the full traceback.`));\n    }\n\n    if(typeof define === \"function\" && define.amd) {\n      requirejs.config({paths});\n      require([\"vega-embed\"], displayChart, err => showError(`Error loading script: ${err.message}`));\n    } else if (typeof vegaEmbed === \"function\") {\n      displayChart(vegaEmbed);\n    } else {\n      loadScript(\"vega\")\n        .then(() => loadScript(\"vega-lite\"))\n        .then(() => loadScript(\"vega-embed\"))\n        .catch(showError)\n        .then(() => displayChart(vegaEmbed));\n    }\n  })({\"config\": {\"view\": {\"continuousWidth\": 400, \"continuousHeight\": 300}, \"area\": {\"fill\": \"#51C0E9\"}, \"axis\": {\"labelFont\": \"Inter, sans-serif\", \"labelFontSize\": 12, \"labelFontWeight\": \"normal\", \"labelLimit\": 60, \"labelOverlap\": \"greedy\", \"titleFont\": \"Inter, sans-serif\", \"titleFontSize\": 12, \"titleFontWeight\": \"bold\"}, \"background\": \"#ffffff\", \"legend\": {\"labelFont\": \"Inter, sans-serif\", \"labelFontSize\": 12, \"titleFont\": \"Inter, sans-serif\", \"titleFontSize\": 12, \"titleFontWeight\": \"bold\"}, \"line\": {\"stroke\": \"#51C0E9\", \"strokeWidth\": 2}, \"rect\": {\"fill\": \"#51C0E9\"}, \"title\": {\"anchor\": \"start\", \"color\": \"#000000\", \"font\": \"Inter, sans-serif\", \"fontSize\": 22, \"fontWeight\": \"normal\"}}, \"data\": {\"name\": \"data-d33558adc1d4aa2bd6f52a202532165d\"}, \"mark\": {\"type\": \"bar\", \"tooltip\": {\"content\": \"data\"}}, \"autosize\": {\"type\": \"fit\"}, \"encoding\": {\"color\": {\"type\": \"nominal\", \"field\": \"error_type\", \"scale\": {\"type\": \"linear\", \"zero\": false}, \"sort\": null}, \"x\": {\"type\": \"quantitative\", \"field\": \"error\", \"scale\": {\"type\": \"linear\", \"zero\": false}, \"sort\": null}, \"y\": {\"type\": \"nominal\", \"field\": \"player\", \"scale\": {\"type\": \"linear\", \"zero\": true}, \"sort\": null}}, \"height\": 300, \"width\": \"container\", \"$schema\": \"https://vega.github.io/schema/vega-lite/v4.json\", \"datasets\": {\"data-d33558adc1d4aa2bd6f52a202532165d\": [{\"fanta_team\": \"Rione Monti\", \"role\": \"D\", \"player\": \"Singo\", \"home_team\": \"Torino\", \"away_team\": \"Sassuolo\", \"date\": \"2022-01-23T00:00:00\", \"expected_bonus\": 0.4567893, \"true_bonus\": 1.0, \"error\": -0.5432106999999999, \"error_type\": \"underestimated\"}, {\"fanta_team\": \"Rione Monti\", \"role\": \"D\", \"player\": \"Biraghi\", \"home_team\": \"Cagliari\", \"away_team\": \"Fiorentina\", \"date\": \"2022-01-23T00:00:00\", \"expected_bonus\": 0.45353407, \"true_bonus\": 0.0, \"error\": 0.45353407, \"error_type\": \"overestimated\"}, {\"fanta_team\": \"Rione Monti\", \"role\": \"D\", \"player\": \"Bremer\", \"home_team\": \"Torino\", \"away_team\": \"Sassuolo\", \"date\": \"2022-01-23T00:00:00\", \"expected_bonus\": 0.31778646, \"true_bonus\": 0.0, \"error\": 0.31778646, \"error_type\": \"overestimated\"}, {\"fanta_team\": \"Rione Monti\", \"role\": \"D\", \"player\": \"Vi\\u00f1a\", \"home_team\": \"Empoli\", \"away_team\": \"Roma\", \"date\": \"2022-01-23T00:00:00\", \"expected_bonus\": 0.22335307, \"true_bonus\": 0.0, \"error\": 0.22335307, \"error_type\": \"overestimated\"}, {\"fanta_team\": \"Rione Monti\", \"role\": \"D\", \"player\": \"Mancini\", \"home_team\": \"Empoli\", \"away_team\": \"Roma\", \"date\": \"2022-01-23T00:00:00\", \"expected_bonus\": 0.19944765, \"true_bonus\": 0.0, \"error\": 0.19944765, \"error_type\": \"overestimated\"}, {\"fanta_team\": \"Rione Monti\", \"role\": \"C\", \"player\": \"Zaniolo\", \"home_team\": \"Empoli\", \"away_team\": \"Roma\", \"date\": \"2022-01-23T00:00:00\", \"expected_bonus\": 1.1186455, \"true_bonus\": 4.0, \"error\": -2.8813545, \"error_type\": \"underestimated\"}, {\"fanta_team\": \"Rione Monti\", \"role\": \"C\", \"player\": \"Frattesi\", \"home_team\": \"Torino\", \"away_team\": \"Sassuolo\", \"date\": \"2022-01-23T00:00:00\", \"expected_bonus\": 0.50829864, \"true_bonus\": 0.0, \"error\": 0.50829864, \"error_type\": \"overestimated\"}, {\"fanta_team\": \"Rione Monti\", \"role\": \"C\", \"player\": \"Kovalenko\", \"home_team\": \"Spezia\", \"away_team\": \"Sampdoria\", \"date\": \"2022-01-23T00:00:00\", \"expected_bonus\": 0.21642454, \"true_bonus\": 0.0, \"error\": 0.21642454, \"error_type\": \"overestimated\"}, {\"fanta_team\": \"Rione Monti\", \"role\": \"A\", \"player\": \"Ibrahimovic\", \"home_team\": \"AC Milan\", \"away_team\": \"Juventus\", \"date\": \"2022-01-23T00:00:00\", \"expected_bonus\": 1.568844, \"true_bonus\": 0.0, \"error\": 1.568844, \"error_type\": \"overestimated\"}, {\"fanta_team\": \"Rione Monti\", \"role\": \"A\", \"player\": \"Morata\", \"home_team\": \"AC Milan\", \"away_team\": \"Juventus\", \"date\": \"2022-01-23T00:00:00\", \"expected_bonus\": 0.88566476, \"true_bonus\": 0.0, \"error\": 0.88566476, \"error_type\": \"overestimated\"}, {\"fanta_team\": \"Rione Monti\", \"role\": \"A\", \"player\": \"Raspadori\", \"home_team\": \"Torino\", \"away_team\": \"Sassuolo\", \"date\": \"2022-01-23T00:00:00\", \"expected_bonus\": 0.7274623, \"true_bonus\": 3.0, \"error\": -2.2725377, \"error_type\": \"underestimated\"}]}}, {\"actions\": false, \"mode\": \"vega-lite\"});\n</script>",
      "text/plain": "alt.Chart(...)"
     },
     "metadata": {}
    }
   ],
   "execution_count": 35
  },
  {
   "cell_type": "code",
   "metadata": {
    "cell_id": "e564bc39-b966-4695-b67e-63287438ee0d",
    "tags": [],
    "deepnote_to_be_reexecuted": false,
    "source_hash": "96119dd1",
    "execution_start": 1643020894771,
    "execution_millis": 5,
    "deepnote_cell_type": "code"
   },
   "source": "team, index = display_fanta_squad(validation, teams, index)",
   "execution_count": 36,
   "outputs": []
  },
  {
   "cell_type": "code",
   "source": "_deepnote_run_altair(team, \"\"\"{\"$schema\":\"https://vega.github.io/schema/vega-lite/v4.json\",\"mark\":{\"type\":\"bar\",\"tooltip\":{\"content\":\"data\"}},\"height\":220,\"autosize\":{\"type\":\"fit\"},\"data\":{\"name\":\"placeholder\"},\"encoding\":{\"x\":{\"field\":\"error\",\"type\":\"quantitative\",\"sort\":null,\"scale\":{\"type\":\"linear\",\"zero\":false}},\"y\":{\"field\":\"player\",\"type\":\"nominal\",\"sort\":null,\"scale\":{\"type\":\"linear\",\"zero\":true}},\"color\":{\"field\":\"error_type\",\"type\":\"nominal\",\"sort\":null,\"scale\":{\"type\":\"linear\",\"zero\":false}}}}\"\"\")",
   "metadata": {
    "cell_id": "00035-6e8061f6-136b-4e33-8405-ebc568f30fab",
    "deepnote_variable_name": "team",
    "deepnote_visualization_spec": {
     "$schema": "https://vega.github.io/schema/vega-lite/v4.json",
     "mark": {
      "type": "bar",
      "tooltip": {
       "content": "data"
      }
     },
     "height": 220,
     "autosize": {
      "type": "fit"
     },
     "data": {
      "name": "placeholder"
     },
     "encoding": {
      "x": {
       "field": "error",
       "type": "quantitative",
       "sort": null,
       "scale": {
        "type": "linear",
        "zero": false
       }
      },
      "y": {
       "field": "player",
       "type": "nominal",
       "sort": null,
       "scale": {
        "type": "linear",
        "zero": true
       }
      },
      "color": {
       "field": "error_type",
       "type": "nominal",
       "sort": null,
       "scale": {
        "type": "linear",
        "zero": false
       }
      }
     }
    },
    "deepnote_to_be_reexecuted": false,
    "source_hash": "81b9fc1a",
    "deepnote_output_heights": [
     2
    ],
    "allow_embed": "output",
    "execution_start": 1643020894787,
    "execution_millis": 71,
    "deepnote_cell_type": "visualization"
   },
   "outputs": [
    {
     "output_type": "execute_result",
     "execution_count": 37,
     "data": {
      "text/html": "\n<div id=\"altair-viz-88eb55af3ae34f07b10772dae2440c6b\"></div>\n<script type=\"text/javascript\">\n  (function(spec, embedOpt){\n    let outputDiv = document.currentScript.previousElementSibling;\n    if (outputDiv.id !== \"altair-viz-88eb55af3ae34f07b10772dae2440c6b\") {\n      outputDiv = document.getElementById(\"altair-viz-88eb55af3ae34f07b10772dae2440c6b\");\n    }\n    const paths = {\n      \"vega\": \"https://cdn.jsdelivr.net/npm//vega@5?noext\",\n      \"vega-lib\": \"https://cdn.jsdelivr.net/npm//vega-lib?noext\",\n      \"vega-lite\": \"https://cdn.jsdelivr.net/npm//vega-lite@4.8.1?noext\",\n      \"vega-embed\": \"https://cdn.jsdelivr.net/npm//vega-embed@6?noext\",\n    };\n\n    function loadScript(lib) {\n      return new Promise(function(resolve, reject) {\n        var s = document.createElement('script');\n        s.src = paths[lib];\n        s.async = true;\n        s.onload = () => resolve(paths[lib]);\n        s.onerror = () => reject(`Error loading script: ${paths[lib]}`);\n        document.getElementsByTagName(\"head\")[0].appendChild(s);\n      });\n    }\n\n    function showError(err) {\n      outputDiv.innerHTML = `<div class=\"error\" style=\"color:red;\">${err}</div>`;\n      throw err;\n    }\n\n    function displayChart(vegaEmbed) {\n      vegaEmbed(outputDiv, spec, embedOpt)\n        .catch(err => showError(`Javascript Error: ${err.message}<br>This usually means there's a typo in your chart specification. See the javascript console for the full traceback.`));\n    }\n\n    if(typeof define === \"function\" && define.amd) {\n      requirejs.config({paths});\n      require([\"vega-embed\"], displayChart, err => showError(`Error loading script: ${err.message}`));\n    } else if (typeof vegaEmbed === \"function\") {\n      displayChart(vegaEmbed);\n    } else {\n      loadScript(\"vega\")\n        .then(() => loadScript(\"vega-lite\"))\n        .then(() => loadScript(\"vega-embed\"))\n        .catch(showError)\n        .then(() => displayChart(vegaEmbed));\n    }\n  })({\"config\": {\"view\": {\"continuousWidth\": 400, \"continuousHeight\": 300}, \"area\": {\"fill\": \"#51C0E9\"}, \"axis\": {\"labelFont\": \"Inter, sans-serif\", \"labelFontSize\": 12, \"labelFontWeight\": \"normal\", \"labelLimit\": 60, \"labelOverlap\": \"greedy\", \"titleFont\": \"Inter, sans-serif\", \"titleFontSize\": 12, \"titleFontWeight\": \"bold\"}, \"background\": \"#ffffff\", \"legend\": {\"labelFont\": \"Inter, sans-serif\", \"labelFontSize\": 12, \"titleFont\": \"Inter, sans-serif\", \"titleFontSize\": 12, \"titleFontWeight\": \"bold\"}, \"line\": {\"stroke\": \"#51C0E9\", \"strokeWidth\": 2}, \"rect\": {\"fill\": \"#51C0E9\"}, \"title\": {\"anchor\": \"start\", \"color\": \"#000000\", \"font\": \"Inter, sans-serif\", \"fontSize\": 22, \"fontWeight\": \"normal\"}}, \"data\": {\"name\": \"data-ef3da57f48d41e2f8ed55a1a4d5bc91c\"}, \"mark\": {\"type\": \"bar\", \"tooltip\": {\"content\": \"data\"}}, \"autosize\": {\"type\": \"fit\"}, \"encoding\": {\"color\": {\"type\": \"nominal\", \"field\": \"error_type\", \"scale\": {\"type\": \"linear\", \"zero\": false}, \"sort\": null}, \"x\": {\"type\": \"quantitative\", \"field\": \"error\", \"scale\": {\"type\": \"linear\", \"zero\": false}, \"sort\": null}, \"y\": {\"type\": \"nominal\", \"field\": \"player\", \"scale\": {\"type\": \"linear\", \"zero\": true}, \"sort\": null}}, \"height\": 300, \"width\": \"container\", \"$schema\": \"https://vega.github.io/schema/vega-lite/v4.json\", \"datasets\": {\"data-ef3da57f48d41e2f8ed55a1a4d5bc91c\": [{\"fanta_team\": \"Scansuolo \", \"role\": \"D\", \"player\": \"Vojvoda\", \"home_team\": \"Torino\", \"away_team\": \"Sassuolo\", \"date\": \"2022-01-23T00:00:00\", \"expected_bonus\": 0.35411367, \"true_bonus\": 0.0, \"error\": 0.35411367, \"error_type\": \"overestimated\"}, {\"fanta_team\": \"Scansuolo \", \"role\": \"D\", \"player\": \"Karsdorp\", \"home_team\": \"Empoli\", \"away_team\": \"Roma\", \"date\": \"2022-01-23T00:00:00\", \"expected_bonus\": 0.22903831, \"true_bonus\": 0.0, \"error\": 0.22903831, \"error_type\": \"overestimated\"}, {\"fanta_team\": \"Scansuolo \", \"role\": \"D\", \"player\": \"Zappa\", \"home_team\": \"Cagliari\", \"away_team\": \"Fiorentina\", \"date\": \"2022-01-23T00:00:00\", \"expected_bonus\": 0.0963953, \"true_bonus\": 0.0, \"error\": 0.0963953, \"error_type\": \"overestimated\"}, {\"fanta_team\": \"Scansuolo \", \"role\": \"C\", \"player\": \"Diaz\", \"home_team\": \"AC Milan\", \"away_team\": \"Juventus\", \"date\": \"2022-01-23T00:00:00\", \"expected_bonus\": 0.5339027, \"true_bonus\": 0.0, \"error\": 0.5339027, \"error_type\": \"overestimated\"}, {\"fanta_team\": \"Scansuolo \", \"role\": \"C\", \"player\": \"Messias\", \"home_team\": \"AC Milan\", \"away_team\": \"Juventus\", \"date\": \"2022-01-23T00:00:00\", \"expected_bonus\": 0.38768864, \"true_bonus\": 0.0, \"error\": 0.38768864, \"error_type\": \"overestimated\"}, {\"fanta_team\": \"Scansuolo \", \"role\": \"A\", \"player\": \"Scamacca\", \"home_team\": \"Torino\", \"away_team\": \"Sassuolo\", \"date\": \"2022-01-23T00:00:00\", \"expected_bonus\": 1.235736, \"true_bonus\": 0.0, \"error\": 1.235736, \"error_type\": \"overestimated\"}, {\"fanta_team\": \"Scansuolo \", \"role\": \"A\", \"player\": \"Pedro\", \"home_team\": \"Cagliari\", \"away_team\": \"Fiorentina\", \"date\": \"2022-01-23T00:00:00\", \"expected_bonus\": 0.9034744, \"true_bonus\": 3.0, \"error\": -2.0965256, \"error_type\": \"underestimated\"}, {\"fanta_team\": \"Scansuolo \", \"role\": \"A\", \"player\": \"Le\\u00e3o\", \"home_team\": \"AC Milan\", \"away_team\": \"Juventus\", \"date\": \"2022-01-23T00:00:00\", \"expected_bonus\": 0.7747714, \"true_bonus\": 0.0, \"error\": 0.7747714, \"error_type\": \"overestimated\"}, {\"fanta_team\": \"Scansuolo \", \"role\": \"A\", \"player\": \"Simy\", \"home_team\": \"Napoli\", \"away_team\": \"Salernitana\", \"date\": \"2022-01-23T00:00:00\", \"expected_bonus\": 0.6954355, \"true_bonus\": 0.0, \"error\": 0.6954355, \"error_type\": \"overestimated\"}]}}, {\"actions\": false, \"mode\": \"vega-lite\"});\n</script>",
      "text/plain": "alt.Chart(...)"
     },
     "metadata": {}
    }
   ],
   "execution_count": 37
  },
  {
   "cell_type": "code",
   "metadata": {
    "cell_id": "7e542268-7db2-427b-aec4-69e65596aecd",
    "tags": [],
    "deepnote_to_be_reexecuted": false,
    "source_hash": "96119dd1",
    "execution_start": 1643020894859,
    "execution_millis": 4,
    "deepnote_cell_type": "code"
   },
   "source": "team, index = display_fanta_squad(validation, teams, index)",
   "execution_count": 38,
   "outputs": []
  },
  {
   "cell_type": "code",
   "source": "_deepnote_run_altair(team, \"\"\"{\"$schema\":\"https://vega.github.io/schema/vega-lite/v4.json\",\"mark\":{\"type\":\"bar\",\"tooltip\":{\"content\":\"data\"}},\"height\":220,\"autosize\":{\"type\":\"fit\"},\"data\":{\"name\":\"placeholder\"},\"encoding\":{\"x\":{\"field\":\"error\",\"type\":\"quantitative\",\"sort\":null,\"scale\":{\"type\":\"linear\",\"zero\":false}},\"y\":{\"field\":\"player\",\"type\":\"nominal\",\"sort\":null,\"scale\":{\"type\":\"linear\",\"zero\":true}},\"color\":{\"field\":\"error_type\",\"type\":\"nominal\",\"sort\":null,\"scale\":{\"type\":\"linear\",\"zero\":false}}}}\"\"\")",
   "metadata": {
    "cell_id": "00037-4755771f-51fc-4587-9023-788197e39785",
    "deepnote_variable_name": "team",
    "deepnote_visualization_spec": {
     "$schema": "https://vega.github.io/schema/vega-lite/v4.json",
     "mark": {
      "type": "bar",
      "tooltip": {
       "content": "data"
      }
     },
     "height": 220,
     "autosize": {
      "type": "fit"
     },
     "data": {
      "name": "placeholder"
     },
     "encoding": {
      "x": {
       "field": "error",
       "type": "quantitative",
       "sort": null,
       "scale": {
        "type": "linear",
        "zero": false
       }
      },
      "y": {
       "field": "player",
       "type": "nominal",
       "sort": null,
       "scale": {
        "type": "linear",
        "zero": true
       }
      },
      "color": {
       "field": "error_type",
       "type": "nominal",
       "sort": null,
       "scale": {
        "type": "linear",
        "zero": false
       }
      }
     }
    },
    "deepnote_to_be_reexecuted": false,
    "source_hash": "81b9fc1a",
    "deepnote_output_heights": [
     314
    ],
    "allow_embed": "output",
    "execution_start": 1643020894893,
    "execution_millis": 60,
    "deepnote_cell_type": "visualization"
   },
   "outputs": [
    {
     "output_type": "execute_result",
     "execution_count": 39,
     "data": {
      "text/html": "\n<div id=\"altair-viz-f1f1c3adba5e411abe0782ca0c6f2d97\"></div>\n<script type=\"text/javascript\">\n  (function(spec, embedOpt){\n    let outputDiv = document.currentScript.previousElementSibling;\n    if (outputDiv.id !== \"altair-viz-f1f1c3adba5e411abe0782ca0c6f2d97\") {\n      outputDiv = document.getElementById(\"altair-viz-f1f1c3adba5e411abe0782ca0c6f2d97\");\n    }\n    const paths = {\n      \"vega\": \"https://cdn.jsdelivr.net/npm//vega@5?noext\",\n      \"vega-lib\": \"https://cdn.jsdelivr.net/npm//vega-lib?noext\",\n      \"vega-lite\": \"https://cdn.jsdelivr.net/npm//vega-lite@4.8.1?noext\",\n      \"vega-embed\": \"https://cdn.jsdelivr.net/npm//vega-embed@6?noext\",\n    };\n\n    function loadScript(lib) {\n      return new Promise(function(resolve, reject) {\n        var s = document.createElement('script');\n        s.src = paths[lib];\n        s.async = true;\n        s.onload = () => resolve(paths[lib]);\n        s.onerror = () => reject(`Error loading script: ${paths[lib]}`);\n        document.getElementsByTagName(\"head\")[0].appendChild(s);\n      });\n    }\n\n    function showError(err) {\n      outputDiv.innerHTML = `<div class=\"error\" style=\"color:red;\">${err}</div>`;\n      throw err;\n    }\n\n    function displayChart(vegaEmbed) {\n      vegaEmbed(outputDiv, spec, embedOpt)\n        .catch(err => showError(`Javascript Error: ${err.message}<br>This usually means there's a typo in your chart specification. See the javascript console for the full traceback.`));\n    }\n\n    if(typeof define === \"function\" && define.amd) {\n      requirejs.config({paths});\n      require([\"vega-embed\"], displayChart, err => showError(`Error loading script: ${err.message}`));\n    } else if (typeof vegaEmbed === \"function\") {\n      displayChart(vegaEmbed);\n    } else {\n      loadScript(\"vega\")\n        .then(() => loadScript(\"vega-lite\"))\n        .then(() => loadScript(\"vega-embed\"))\n        .catch(showError)\n        .then(() => displayChart(vegaEmbed));\n    }\n  })({\"config\": {\"view\": {\"continuousWidth\": 400, \"continuousHeight\": 300}, \"area\": {\"fill\": \"#51C0E9\"}, \"axis\": {\"labelFont\": \"Inter, sans-serif\", \"labelFontSize\": 12, \"labelFontWeight\": \"normal\", \"labelLimit\": 60, \"labelOverlap\": \"greedy\", \"titleFont\": \"Inter, sans-serif\", \"titleFontSize\": 12, \"titleFontWeight\": \"bold\"}, \"background\": \"#ffffff\", \"legend\": {\"labelFont\": \"Inter, sans-serif\", \"labelFontSize\": 12, \"titleFont\": \"Inter, sans-serif\", \"titleFontSize\": 12, \"titleFontWeight\": \"bold\"}, \"line\": {\"stroke\": \"#51C0E9\", \"strokeWidth\": 2}, \"rect\": {\"fill\": \"#51C0E9\"}, \"title\": {\"anchor\": \"start\", \"color\": \"#000000\", \"font\": \"Inter, sans-serif\", \"fontSize\": 22, \"fontWeight\": \"normal\"}}, \"data\": {\"name\": \"data-f1566a668a0f39f9a273a01203e11b0d\"}, \"mark\": {\"type\": \"bar\", \"tooltip\": {\"content\": \"data\"}}, \"autosize\": {\"type\": \"fit\"}, \"encoding\": {\"color\": {\"type\": \"nominal\", \"field\": \"error_type\", \"scale\": {\"type\": \"linear\", \"zero\": false}, \"sort\": null}, \"x\": {\"type\": \"quantitative\", \"field\": \"error\", \"scale\": {\"type\": \"linear\", \"zero\": false}, \"sort\": null}, \"y\": {\"type\": \"nominal\", \"field\": \"player\", \"scale\": {\"type\": \"linear\", \"zero\": true}, \"sort\": null}}, \"height\": 300, \"width\": \"container\", \"$schema\": \"https://vega.github.io/schema/vega-lite/v4.json\", \"datasets\": {\"data-f1566a668a0f39f9a273a01203e11b0d\": [{\"fanta_team\": \"ssc mozzarella\", \"role\": \"D\", \"player\": \"Rui\", \"home_team\": \"Napoli\", \"away_team\": \"Salernitana\", \"date\": \"2022-01-23T00:00:00\", \"expected_bonus\": 0.4376358, \"true_bonus\": 0.0, \"error\": 0.4376358, \"error_type\": \"overestimated\"}, {\"fanta_team\": \"ssc mozzarella\", \"role\": \"D\", \"player\": \"Smalling\", \"home_team\": \"Empoli\", \"away_team\": \"Roma\", \"date\": \"2022-01-23T00:00:00\", \"expected_bonus\": 0.31227422, \"true_bonus\": 0.0, \"error\": 0.31227422, \"error_type\": \"overestimated\"}, {\"fanta_team\": \"ssc mozzarella\", \"role\": \"D\", \"player\": \"Iba\\u00f1ez\", \"home_team\": \"Empoli\", \"away_team\": \"Roma\", \"date\": \"2022-01-23T00:00:00\", \"expected_bonus\": 0.22313726, \"true_bonus\": 0.0, \"error\": 0.22313726, \"error_type\": \"overestimated\"}, {\"fanta_team\": \"ssc mozzarella\", \"role\": \"C\", \"player\": \"Mkhitaryan\", \"home_team\": \"Empoli\", \"away_team\": \"Roma\", \"date\": \"2022-01-23T00:00:00\", \"expected_bonus\": 0.9266317, \"true_bonus\": 1.0, \"error\": -0.07336830000000005, \"error_type\": \"underestimated\"}, {\"fanta_team\": \"ssc mozzarella\", \"role\": \"C\", \"player\": \"Fabi\\u00e1n\", \"home_team\": \"Napoli\", \"away_team\": \"Salernitana\", \"date\": \"2022-01-23T00:00:00\", \"expected_bonus\": 0.6357001, \"true_bonus\": 0.0, \"error\": 0.6357001, \"error_type\": \"overestimated\"}, {\"fanta_team\": \"ssc mozzarella\", \"role\": \"C\", \"player\": \"Torreira\", \"home_team\": \"Cagliari\", \"away_team\": \"Fiorentina\", \"date\": \"2022-01-23T00:00:00\", \"expected_bonus\": 0.3044609, \"true_bonus\": 0.0, \"error\": 0.3044609, \"error_type\": \"overestimated\"}, {\"fanta_team\": \"ssc mozzarella\", \"role\": \"C\", \"player\": \"Lopez\", \"home_team\": \"Torino\", \"away_team\": \"Sassuolo\", \"date\": \"2022-01-23T00:00:00\", \"expected_bonus\": 0.12598231, \"true_bonus\": 0.0, \"error\": 0.12598231, \"error_type\": \"overestimated\"}, {\"fanta_team\": \"ssc mozzarella\", \"role\": \"A\", \"player\": \"Osimhen\", \"home_team\": \"Napoli\", \"away_team\": \"Salernitana\", \"date\": \"2022-01-23T00:00:00\", \"expected_bonus\": 2.841581, \"true_bonus\": 0.0, \"error\": 2.841581, \"error_type\": \"overestimated\"}, {\"fanta_team\": \"ssc mozzarella\", \"role\": \"A\", \"player\": \"Politano\", \"home_team\": \"Napoli\", \"away_team\": \"Salernitana\", \"date\": \"2022-01-23T00:00:00\", \"expected_bonus\": 1.0097755, \"true_bonus\": 0.0, \"error\": 1.0097755, \"error_type\": \"overestimated\"}, {\"fanta_team\": \"ssc mozzarella\", \"role\": \"A\", \"player\": \"Bonazzoli\", \"home_team\": \"Napoli\", \"away_team\": \"Salernitana\", \"date\": \"2022-01-23T00:00:00\", \"expected_bonus\": 0.19838884, \"true_bonus\": 3.0, \"error\": -2.80161116, \"error_type\": \"underestimated\"}]}}, {\"actions\": false, \"mode\": \"vega-lite\"});\n</script>",
      "text/plain": "alt.Chart(...)"
     },
     "metadata": {}
    }
   ],
   "execution_count": 39
  },
  {
   "cell_type": "code",
   "source": "!git add *",
   "metadata": {
    "cell_id": "d16b87cb-3aed-4250-9e4e-9057c5bdbba9",
    "tags": [],
    "deepnote_cell_type": "code"
   },
   "outputs": [],
   "execution_count": null
  },
  {
   "cell_type": "markdown",
   "source": "<a style='text-decoration:none;line-height:16px;display:flex;color:#5B5B62;padding:10px;justify-content:end;' href='https://deepnote.com?utm_source=created-in-deepnote-cell&projectId=82f6a53d-2812-4762-aa0b-0b8fac2a34e3' target=\"_blank\">\n<img alt='Created in deepnote.com' style='display:inline;max-height:16px;margin:0px;margin-right:7.5px;' src='data:image/svg+xml;base64,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' > </img>\nCreated in <span style='font-weight:600;margin-left:4px;'>Deepnote</span></a>",
   "metadata": {
    "tags": [],
    "created_in_deepnote_cell": true,
    "deepnote_cell_type": "markdown"
   }
  }
 ],
 "nbformat": 4,
 "nbformat_minor": 2,
 "metadata": {
  "orig_nbformat": 2,
  "deepnote": {
   "is_reactive": false
  },
  "deepnote_notebook_id": "3f2f3cdc-e7c2-49e4-a3b0-2257581bb9c0",
  "deepnote_execution_queue": []
 }
}