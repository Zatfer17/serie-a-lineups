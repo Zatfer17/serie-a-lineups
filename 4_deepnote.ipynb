{
 "cells": [
  {
   "cell_type": "code",
   "metadata": {
    "cell_id": "2e907202-ea86-4fba-81f7-cdd38cecd2b3",
    "tags": [],
    "deepnote_to_be_reexecuted": false,
    "source_hash": "adbe6457",
    "execution_start": 1642933483984,
    "execution_millis": 3,
    "deepnote_cell_type": "code"
   },
   "source": "import json\nimport pandas as pd\n\nfrom datetime import datetime\nfrom modules.scoring import get_scoring_set, get_features, score, validate\nfrom modules.training import split_data, transform_data",
   "outputs": [],
   "execution_count": 8
  },
  {
   "cell_type": "code",
   "metadata": {
    "tags": [],
    "cell_id": "103aa6bc-980e-44d2-ba16-c4839c2ac078",
    "deepnote_to_be_reexecuted": false,
    "source_hash": "173511cd",
    "execution_start": 1642933483993,
    "execution_millis": 19,
    "deepnote_cell_type": "code"
   },
   "source": "def display_fanta_squad(predictions, teams, index):\n    fanta_team = predictions[predictions['fanta_team'] == teams[index]]\n    return fanta_team, index+1    ",
   "outputs": [],
   "execution_count": 9
  },
  {
   "cell_type": "code",
   "metadata": {
    "cell_id": "d23ee413-9026-4f27-9c72-c2440a754314",
    "tags": [],
    "deepnote_to_be_reexecuted": false,
    "source_hash": "599609a2",
    "execution_start": 1642933484038,
    "execution_millis": 225989,
    "deepnote_cell_type": "code"
   },
   "source": "try:\n    \n    ###############################################################################################\n    status = 'Loading config ...'\n    print('{} -> {}'.format(datetime.now().strftime('%Y-%m-%d %H:%M:%S'), status))\n    with open('config/config.json') as config:\n        config = json.load(config)\n    status = 'Loading config done!'\n    print('{} -> {}'.format(datetime.now().strftime('%Y-%m-%d %H:%M:%S'), status))\n    ###############################################################################################\n\n    ###############################################################################################\n    status = 'Getting scoring set ...'\n    print('{} -> {}'.format(datetime.now().strftime('%Y-%m-%d %H:%M:%S'), status))\n    scoring_set = get_scoring_set(config['league_name'])\n    scoring_set = get_features(scoring_set, config['league_name'])\n    scoring_set = scoring_set[~scoring_set.home_team.isin(['Bologna', 'Verona', 'Lazio', 'Atalanta', 'Genoa', 'Udinese', 'Inter', 'Venezia'])]\n    scoring_set = scoring_set[~scoring_set.away_team.isin(['Bologna', 'Verona', 'Lazio', 'Atalanta', 'Genoa', 'Udinese', 'Inter', 'Venezia'])]\n    X_raw, metadata = split_data(scoring_set, metadata_columns=['fanta_team', 'date', 'role', 'player_id', 'player','team'], production=True)\n    status = 'Getting scoring set done!'\n    print('{} -> {}'.format(datetime.now().strftime('%Y-%m-%d %H:%M:%S'), status))\n    ###############################################################################################\n    \n    ###############################################################################################\n    status = 'Processing features ...'\n    print('{} -> {}'.format(datetime.now().strftime('%Y-%m-%d %H:%M:%S'), status))\n    X = transform_data(X_test_raw=X_raw, categorical_columns=['home_team', 'away_team', 'is_home', 'season', 'month', 'day', 'hour', 'week_day', 'position'], production=True)\n    status = 'Processing features done!'\n    print('{} -> {}'.format(datetime.now().strftime('%Y-%m-%d %H:%M:%S'), status))\n    ###############################################################################################\n\n    ###############################################################################################\n    status = 'Scoring ...'\n    print('{} -> {}'.format(datetime.now().strftime('%Y-%m-%d %H:%M:%S'), status))\n    predictions = score(X, scoring_set, config['league_name'], config['gameweek']['current'])\n    status = 'Scoring done!'\n    print('{} -> {}'.format(datetime.now().strftime('%Y-%m-%d %H:%M:%S'), status))\n    ###############################################################################################\n\n    ###############################################################################################\n    status = 'Preparing predictions for display...'\n    print('{} -> {}'.format(datetime.now().strftime('%Y-%m-%d %H:%M:%S'), status))\n    predictions['player'] = predictions['player'].apply(lambda x: x.split(' ')[-1])\n    status = 'Preparing predictions for display done!'\n    print('{} -> {}'.format(datetime.now().strftime('%Y-%m-%d %H:%M:%S'), status))\n    ###############################################################################################\n\n    ###############################################################################################\n    status = 'Updating config ...'\n    print('{} -> {}'.format(datetime.now().strftime('%Y-%m-%d %H:%M:%S'), status))\n    config['gameweek']['current'] = config['gameweek']['current'] + 1\n    with open('config/config.json', 'w') as f:\n        json.dump(config, f, indent=4)\n    status = 'Updating config done!'\n    print('{} -> {}'.format(datetime.now().strftime('%Y-%m-%d %H:%M:%S'), status))\n    ###############################################################################################\n\nexcept Exception as e:\n    print('Exception: {}'.format(e))\n    print('Errored out during: {}'.format(status))",
   "outputs": [
    {
     "name": "stdout",
     "text": "2022-01-23 10:24:44 -> Loading config ...\n2022-01-23 10:24:44 -> Loading config done!\n2022-01-23 10:24:44 -> Getting scoring set ...\n100%|██████████| 20/20 [00:14<00:00,  1.34it/s]\n100%|██████████| 176/176 [03:20<00:00,  1.14s/it]\n100%|██████████| 174/174 [00:10<00:00, 16.29it/s]2022-01-23 10:28:29 -> Getting scoring set done!\n2022-01-23 10:28:29 -> Processing features ...\n2022-01-23 10:28:29 -> Processing features done!\n2022-01-23 10:28:29 -> Scoring ...\n2022-01-23 10:28:29 -> Scoring done!\n2022-01-23 10:28:29 -> Preparing predictions for display...\n2022-01-23 10:28:29 -> Preparing predictions for display done!\n2022-01-23 10:28:29 -> Updating config ...\n2022-01-23 10:28:29 -> Updating config done!\n\nTrying to unpickle estimator StandardScaler from version 1.0.2 when using version 1.0.1. This might lead to breaking code or invalid results. Use at your own risk. For more info please refer to:\nhttps://scikit-learn.org/stable/modules/model_persistence.html#security-maintainability-limitations\nTrying to unpickle estimator OneHotEncoder from version 1.0.2 when using version 1.0.1. This might lead to breaking code or invalid results. Use at your own risk. For more info please refer to:\nhttps://scikit-learn.org/stable/modules/model_persistence.html#security-maintainability-limitations\nTrying to unpickle estimator ColumnTransformer from version 1.0.2 when using version 1.0.1. This might lead to breaking code or invalid results. Use at your own risk. For more info please refer to:\nhttps://scikit-learn.org/stable/modules/model_persistence.html#security-maintainability-limitations\n",
     "output_type": "stream"
    }
   ],
   "execution_count": 10
  },
  {
   "cell_type": "code",
   "source": "_deepnote_run_altair(predictions, \"\"\"{\"$schema\":\"https://vega.github.io/schema/vega-lite/v4.json\",\"mark\":{\"type\":\"bar\",\"tooltip\":{\"content\":\"data\"}},\"height\":220,\"autosize\":{\"type\":\"fit\"},\"data\":{\"name\":\"placeholder\"},\"encoding\":{\"x\":{\"field\":\"expected_bonus\",\"type\":\"quantitative\",\"sort\":null,\"scale\":{\"type\":\"linear\",\"zero\":false},\"aggregate\":\"sum\"},\"y\":{\"field\":\"fanta_team\",\"type\":\"nominal\",\"sort\":{\"order\":\"descending\",\"encoding\":\"x\"},\"scale\":{\"type\":\"linear\",\"zero\":true}},\"color\":{\"field\":\"fanta_team\",\"type\":\"nominal\",\"sort\":null,\"scale\":{\"type\":\"linear\",\"zero\":false}}}}\"\"\")",
   "metadata": {
    "cell_id": "b7158966-c697-4622-a2fc-24e073ad44b1",
    "deepnote_variable_name": "predictions",
    "deepnote_visualization_spec": {
     "$schema": "https://vega.github.io/schema/vega-lite/v4.json",
     "mark": {
      "type": "bar",
      "tooltip": {
       "content": "data"
      }
     },
     "height": 220,
     "autosize": {
      "type": "fit"
     },
     "data": {
      "name": "placeholder"
     },
     "encoding": {
      "x": {
       "field": "expected_bonus",
       "type": "quantitative",
       "sort": null,
       "scale": {
        "type": "linear",
        "zero": false
       },
       "aggregate": "sum"
      },
      "y": {
       "field": "fanta_team",
       "type": "nominal",
       "sort": {
        "order": "descending",
        "encoding": "x"
       },
       "scale": {
        "type": "linear",
        "zero": true
       }
      },
      "color": {
       "field": "fanta_team",
       "type": "nominal",
       "sort": null,
       "scale": {
        "type": "linear",
        "zero": false
       }
      }
     }
    },
    "deepnote_to_be_reexecuted": false,
    "source_hash": "425094db",
    "execution_start": 1642933710026,
    "execution_millis": 569,
    "deepnote_output_heights": [
     314
    ],
    "allow_embed": "output",
    "deepnote_cell_type": "visualization"
   },
   "outputs": [
    {
     "output_type": "execute_result",
     "execution_count": 11,
     "data": {
      "text/html": "\n<div id=\"altair-viz-6fb275a8c7e5461fbc85796784d01049\"></div>\n<script type=\"text/javascript\">\n  (function(spec, embedOpt){\n    let outputDiv = document.currentScript.previousElementSibling;\n    if (outputDiv.id !== \"altair-viz-6fb275a8c7e5461fbc85796784d01049\") {\n      outputDiv = document.getElementById(\"altair-viz-6fb275a8c7e5461fbc85796784d01049\");\n    }\n    const paths = {\n      \"vega\": \"https://cdn.jsdelivr.net/npm//vega@5?noext\",\n      \"vega-lib\": \"https://cdn.jsdelivr.net/npm//vega-lib?noext\",\n      \"vega-lite\": \"https://cdn.jsdelivr.net/npm//vega-lite@4.8.1?noext\",\n      \"vega-embed\": \"https://cdn.jsdelivr.net/npm//vega-embed@6?noext\",\n    };\n\n    function loadScript(lib) {\n      return new Promise(function(resolve, reject) {\n        var s = document.createElement('script');\n        s.src = paths[lib];\n        s.async = true;\n        s.onload = () => resolve(paths[lib]);\n        s.onerror = () => reject(`Error loading script: ${paths[lib]}`);\n        document.getElementsByTagName(\"head\")[0].appendChild(s);\n      });\n    }\n\n    function showError(err) {\n      outputDiv.innerHTML = `<div class=\"error\" style=\"color:red;\">${err}</div>`;\n      throw err;\n    }\n\n    function displayChart(vegaEmbed) {\n      vegaEmbed(outputDiv, spec, embedOpt)\n        .catch(err => showError(`Javascript Error: ${err.message}<br>This usually means there's a typo in your chart specification. See the javascript console for the full traceback.`));\n    }\n\n    if(typeof define === \"function\" && define.amd) {\n      requirejs.config({paths});\n      require([\"vega-embed\"], displayChart, err => showError(`Error loading script: ${err.message}`));\n    } else if (typeof vegaEmbed === \"function\") {\n      displayChart(vegaEmbed);\n    } else {\n      loadScript(\"vega\")\n        .then(() => loadScript(\"vega-lite\"))\n        .then(() => loadScript(\"vega-embed\"))\n        .catch(showError)\n        .then(() => displayChart(vegaEmbed));\n    }\n  })({\"config\": {\"view\": {\"continuousWidth\": 400, \"continuousHeight\": 300}, \"area\": {\"fill\": \"#51C0E9\"}, \"axis\": {\"labelFont\": \"Inter, sans-serif\", \"labelFontSize\": 12, \"labelFontWeight\": \"normal\", \"labelLimit\": 60, \"labelOverlap\": \"greedy\", \"titleFont\": \"Inter, sans-serif\", \"titleFontSize\": 12, \"titleFontWeight\": \"bold\"}, \"background\": \"#ffffff\", \"legend\": {\"labelFont\": \"Inter, sans-serif\", \"labelFontSize\": 12, \"titleFont\": \"Inter, sans-serif\", \"titleFontSize\": 12, \"titleFontWeight\": \"bold\"}, \"line\": {\"stroke\": \"#51C0E9\", \"strokeWidth\": 2}, \"rect\": {\"fill\": \"#51C0E9\"}, \"title\": {\"anchor\": \"start\", \"color\": \"#000000\", \"font\": \"Inter, sans-serif\", \"fontSize\": 22, \"fontWeight\": \"normal\"}}, \"data\": {\"name\": \"data-70b8ec7ebf9085c8188238b2d2eb2089\"}, \"mark\": {\"type\": \"bar\", \"tooltip\": {\"content\": \"data\"}}, \"autosize\": {\"type\": \"fit\"}, \"encoding\": {\"color\": {\"type\": \"nominal\", \"field\": \"fanta_team\", \"scale\": {\"type\": \"linear\", \"zero\": false}, \"sort\": null}, \"x\": {\"type\": \"quantitative\", \"aggregate\": \"sum\", \"field\": \"expected_bonus\", \"scale\": {\"type\": \"linear\", \"zero\": false}, \"sort\": null}, \"y\": {\"type\": \"nominal\", \"field\": \"fanta_team\", \"scale\": {\"type\": \"linear\", \"zero\": true}, \"sort\": {\"encoding\": \"x\", \"order\": \"descending\"}}}, \"height\": 300, \"width\": \"container\", \"$schema\": \"https://vega.github.io/schema/vega-lite/v4.json\", \"datasets\": {\"data-70b8ec7ebf9085c8188238b2d2eb2089\": [{\"fanta_team\": \"ssc mozzarella\", \"role\": \"D\", \"player\": \"Rui\", \"home_team\": \"Napoli\", \"away_team\": \"Salernitana\", \"date\": \"2022-01-23T00:00:00\", \"expected_bonus\": 0.4376358091831207}, {\"fanta_team\": \"ssc mozzarella\", \"role\": \"D\", \"player\": \"Smalling\", \"home_team\": \"Empoli\", \"away_team\": \"Roma\", \"date\": \"2022-01-23T00:00:00\", \"expected_bonus\": 0.3122742176055908}, {\"fanta_team\": \"ssc mozzarella\", \"role\": \"D\", \"player\": \"Iba\\u00f1ez\", \"home_team\": \"Empoli\", \"away_team\": \"Roma\", \"date\": \"2022-01-23T00:00:00\", \"expected_bonus\": 0.2231372594833374}, {\"fanta_team\": \"ssc mozzarella\", \"role\": \"D\", \"player\": \"Tomori\", \"home_team\": \"AC Milan\", \"away_team\": \"Juventus\", \"date\": \"2022-01-23T00:00:00\", \"expected_bonus\": 0.12300980091094971}, {\"fanta_team\": \"ssc mozzarella\", \"role\": \"C\", \"player\": \"Mkhitaryan\", \"home_team\": \"Empoli\", \"away_team\": \"Roma\", \"date\": \"2022-01-23T00:00:00\", \"expected_bonus\": 0.9266316890716553}, {\"fanta_team\": \"ssc mozzarella\", \"role\": \"C\", \"player\": \"Chiesa\", \"home_team\": \"AC Milan\", \"away_team\": \"Juventus\", \"date\": \"2022-01-23T00:00:00\", \"expected_bonus\": 0.8433988690376282}, {\"fanta_team\": \"ssc mozzarella\", \"role\": \"C\", \"player\": \"Fabi\\u00e1n\", \"home_team\": \"Napoli\", \"away_team\": \"Salernitana\", \"date\": \"2022-01-23T00:00:00\", \"expected_bonus\": 0.6357001066207886}, {\"fanta_team\": \"ssc mozzarella\", \"role\": \"C\", \"player\": \"Torreira\", \"home_team\": \"Cagliari\", \"away_team\": \"Fiorentina\", \"date\": \"2022-01-23T00:00:00\", \"expected_bonus\": 0.30446091294288635}, {\"fanta_team\": \"ssc mozzarella\", \"role\": \"C\", \"player\": \"Lopez\", \"home_team\": \"Torino\", \"away_team\": \"Sassuolo\", \"date\": \"2022-01-23T00:00:00\", \"expected_bonus\": 0.12598231434822083}, {\"fanta_team\": \"ssc mozzarella\", \"role\": \"A\", \"player\": \"Osimhen\", \"home_team\": \"Napoli\", \"away_team\": \"Salernitana\", \"date\": \"2022-01-23T00:00:00\", \"expected_bonus\": 2.841581106185913}, {\"fanta_team\": \"ssc mozzarella\", \"role\": \"A\", \"player\": \"Politano\", \"home_team\": \"Napoli\", \"away_team\": \"Salernitana\", \"date\": \"2022-01-23T00:00:00\", \"expected_bonus\": 1.0097755193710327}, {\"fanta_team\": \"ssc mozzarella\", \"role\": \"A\", \"player\": \"Pavoletti\", \"home_team\": \"Cagliari\", \"away_team\": \"Fiorentina\", \"date\": \"2022-01-23T00:00:00\", \"expected_bonus\": 0.3029923737049103}, {\"fanta_team\": \"ssc mozzarella\", \"role\": \"A\", \"player\": \"Rib\\u00e9ry\", \"home_team\": \"Napoli\", \"away_team\": \"Salernitana\", \"date\": \"2022-01-23T00:00:00\", \"expected_bonus\": 0.23057326674461365}, {\"fanta_team\": \"ssc mozzarella\", \"role\": \"A\", \"player\": \"Bonazzoli\", \"home_team\": \"Napoli\", \"away_team\": \"Salernitana\", \"date\": \"2022-01-23T00:00:00\", \"expected_bonus\": 0.19838884472846985}, {\"fanta_team\": \"Scansuolo \", \"role\": \"D\", \"player\": \"Koulibaly\", \"home_team\": \"Napoli\", \"away_team\": \"Salernitana\", \"date\": \"2022-01-23T00:00:00\", \"expected_bonus\": 0.3666365146636963}, {\"fanta_team\": \"Scansuolo \", \"role\": \"D\", \"player\": \"Vojvoda\", \"home_team\": \"Torino\", \"away_team\": \"Sassuolo\", \"date\": \"2022-01-23T00:00:00\", \"expected_bonus\": 0.3541136682033539}, {\"fanta_team\": \"Scansuolo \", \"role\": \"D\", \"player\": \"Karsdorp\", \"home_team\": \"Empoli\", \"away_team\": \"Roma\", \"date\": \"2022-01-23T00:00:00\", \"expected_bonus\": 0.2290383130311966}, {\"fanta_team\": \"Scansuolo \", \"role\": \"D\", \"player\": \"Zappa\", \"home_team\": \"Cagliari\", \"away_team\": \"Fiorentina\", \"date\": \"2022-01-23T00:00:00\", \"expected_bonus\": 0.09639529883861542}, {\"fanta_team\": \"Scansuolo \", \"role\": \"C\", \"player\": \"Diaz\", \"home_team\": \"AC Milan\", \"away_team\": \"Juventus\", \"date\": \"2022-01-23T00:00:00\", \"expected_bonus\": 0.5339027047157288}, {\"fanta_team\": \"Scansuolo \", \"role\": \"C\", \"player\": \"Messias\", \"home_team\": \"AC Milan\", \"away_team\": \"Juventus\", \"date\": \"2022-01-23T00:00:00\", \"expected_bonus\": 0.38768863677978516}, {\"fanta_team\": \"Scansuolo \", \"role\": \"C\", \"player\": \"Traore\", \"home_team\": \"Torino\", \"away_team\": \"Sassuolo\", \"date\": \"2022-01-23T00:00:00\", \"expected_bonus\": 0.1940181851387024}, {\"fanta_team\": \"Scansuolo \", \"role\": \"A\", \"player\": \"Scamacca\", \"home_team\": \"Torino\", \"away_team\": \"Sassuolo\", \"date\": \"2022-01-23T00:00:00\", \"expected_bonus\": 1.2357360124588013}, {\"fanta_team\": \"Scansuolo \", \"role\": \"A\", \"player\": \"Pedro\", \"home_team\": \"Cagliari\", \"away_team\": \"Fiorentina\", \"date\": \"2022-01-23T00:00:00\", \"expected_bonus\": 0.9034743905067444}, {\"fanta_team\": \"Scansuolo \", \"role\": \"A\", \"player\": \"Le\\u00e3o\", \"home_team\": \"AC Milan\", \"away_team\": \"Juventus\", \"date\": \"2022-01-23T00:00:00\", \"expected_bonus\": 0.7747713923454285}, {\"fanta_team\": \"Scansuolo \", \"role\": \"A\", \"player\": \"Simy\", \"home_team\": \"Napoli\", \"away_team\": \"Salernitana\", \"date\": \"2022-01-23T00:00:00\", \"expected_bonus\": 0.6954355239868164}, {\"fanta_team\": \"Rione Monti\", \"role\": \"D\", \"player\": \"Singo\", \"home_team\": \"Torino\", \"away_team\": \"Sassuolo\", \"date\": \"2022-01-23T00:00:00\", \"expected_bonus\": 0.4567893147468567}, {\"fanta_team\": \"Rione Monti\", \"role\": \"D\", \"player\": \"Biraghi\", \"home_team\": \"Cagliari\", \"away_team\": \"Fiorentina\", \"date\": \"2022-01-23T00:00:00\", \"expected_bonus\": 0.4535340666770935}, {\"fanta_team\": \"Rione Monti\", \"role\": \"D\", \"player\": \"Bastoni\", \"home_team\": \"Spezia\", \"away_team\": \"Sampdoria\", \"date\": \"2022-01-23T00:00:00\", \"expected_bonus\": 0.35125282406806946}, {\"fanta_team\": \"Rione Monti\", \"role\": \"D\", \"player\": \"Bremer\", \"home_team\": \"Torino\", \"away_team\": \"Sassuolo\", \"date\": \"2022-01-23T00:00:00\", \"expected_bonus\": 0.31778645515441895}, {\"fanta_team\": \"Rione Monti\", \"role\": \"D\", \"player\": \"Vi\\u00f1a\", \"home_team\": \"Empoli\", \"away_team\": \"Roma\", \"date\": \"2022-01-23T00:00:00\", \"expected_bonus\": 0.2233530730009079}, {\"fanta_team\": \"Rione Monti\", \"role\": \"D\", \"player\": \"Mancini\", \"home_team\": \"Empoli\", \"away_team\": \"Roma\", \"date\": \"2022-01-23T00:00:00\", \"expected_bonus\": 0.1994476467370987}, {\"fanta_team\": \"Rione Monti\", \"role\": \"C\", \"player\": \"Pellegrini\", \"home_team\": \"Empoli\", \"away_team\": \"Roma\", \"date\": \"2022-01-23T00:00:00\", \"expected_bonus\": 1.7358098030090332}, {\"fanta_team\": \"Rione Monti\", \"role\": \"C\", \"player\": \"Zaniolo\", \"home_team\": \"Empoli\", \"away_team\": \"Roma\", \"date\": \"2022-01-23T00:00:00\", \"expected_bonus\": 1.1186455488204956}, {\"fanta_team\": \"Rione Monti\", \"role\": \"C\", \"player\": \"Frattesi\", \"home_team\": \"Torino\", \"away_team\": \"Sassuolo\", \"date\": \"2022-01-23T00:00:00\", \"expected_bonus\": 0.5082986354827881}, {\"fanta_team\": \"Rione Monti\", \"role\": \"C\", \"player\": \"Damsgaard\", \"home_team\": \"Spezia\", \"away_team\": \"Sampdoria\", \"date\": \"2022-01-23T00:00:00\", \"expected_bonus\": 0.38147079944610596}, {\"fanta_team\": \"Rione Monti\", \"role\": \"C\", \"player\": \"Kovalenko\", \"home_team\": \"Spezia\", \"away_team\": \"Sampdoria\", \"date\": \"2022-01-23T00:00:00\", \"expected_bonus\": 0.21642453968524933}, {\"fanta_team\": \"Rione Monti\", \"role\": \"C\", \"player\": \"Strootman\", \"home_team\": \"Cagliari\", \"away_team\": \"Fiorentina\", \"date\": \"2022-01-23T00:00:00\", \"expected_bonus\": 0.12627211213111877}, {\"fanta_team\": \"Rione Monti\", \"role\": \"A\", \"player\": \"Ibrahimovic\", \"home_team\": \"AC Milan\", \"away_team\": \"Juventus\", \"date\": \"2022-01-23T00:00:00\", \"expected_bonus\": 1.568843960762024}, {\"fanta_team\": \"Rione Monti\", \"role\": \"A\", \"player\": \"Morata\", \"home_team\": \"AC Milan\", \"away_team\": \"Juventus\", \"date\": \"2022-01-23T00:00:00\", \"expected_bonus\": 0.8856647610664368}, {\"fanta_team\": \"Rione Monti\", \"role\": \"A\", \"player\": \"Shomurodov\", \"home_team\": \"Empoli\", \"away_team\": \"Roma\", \"date\": \"2022-01-23T00:00:00\", \"expected_bonus\": 0.8150517344474792}, {\"fanta_team\": \"Rione Monti\", \"role\": \"A\", \"player\": \"Raspadori\", \"home_team\": \"Torino\", \"away_team\": \"Sassuolo\", \"date\": \"2022-01-23T00:00:00\", \"expected_bonus\": 0.7274622917175293}, {\"fanta_team\": \"MaiNa Joya_v2.0\", \"role\": \"D\", \"player\": \"Hern\\u00e1ndez\", \"home_team\": \"AC Milan\", \"away_team\": \"Juventus\", \"date\": \"2022-01-23T00:00:00\", \"expected_bonus\": 0.384065181016922}, {\"fanta_team\": \"MaiNa Joya_v2.0\", \"role\": \"D\", \"player\": \"Milenkovic\", \"home_team\": \"Cagliari\", \"away_team\": \"Fiorentina\", \"date\": \"2022-01-23T00:00:00\", \"expected_bonus\": 0.22756502032279968}, {\"fanta_team\": \"MaiNa Joya_v2.0\", \"role\": \"D\", \"player\": \"Stojanovic\", \"home_team\": \"Empoli\", \"away_team\": \"Roma\", \"date\": \"2022-01-23T00:00:00\", \"expected_bonus\": 0.14432021975517273}, {\"fanta_team\": \"MaiNa Joya_v2.0\", \"role\": \"D\", \"player\": \"God\\u00edn\", \"home_team\": \"Cagliari\", \"away_team\": \"Fiorentina\", \"date\": \"2022-01-23T00:00:00\", \"expected_bonus\": 0.11739544570446014}, {\"fanta_team\": \"MaiNa Joya_v2.0\", \"role\": \"D\", \"player\": \"Ferrari\", \"home_team\": \"Torino\", \"away_team\": \"Sassuolo\", \"date\": \"2022-01-23T00:00:00\", \"expected_bonus\": 0.11583653837442398}, {\"fanta_team\": \"MaiNa Joya_v2.0\", \"role\": \"D\", \"player\": \"Ruggeri\", \"home_team\": \"Napoli\", \"away_team\": \"Salernitana\", \"date\": \"2022-01-23T00:00:00\", \"expected_bonus\": 0.09147123992443085}, {\"fanta_team\": \"MaiNa Joya_v2.0\", \"role\": \"C\", \"player\": \"Veretout\", \"home_team\": \"Empoli\", \"away_team\": \"Roma\", \"date\": \"2022-01-23T00:00:00\", \"expected_bonus\": 0.8520027995109558}, {\"fanta_team\": \"MaiNa Joya_v2.0\", \"role\": \"C\", \"player\": \"Bajrami\", \"home_team\": \"Empoli\", \"away_team\": \"Roma\", \"date\": \"2022-01-23T00:00:00\", \"expected_bonus\": 0.7234240174293518}, {\"fanta_team\": \"MaiNa Joya_v2.0\", \"role\": \"C\", \"player\": \"Djuricic\", \"home_team\": \"Torino\", \"away_team\": \"Sassuolo\", \"date\": \"2022-01-23T00:00:00\", \"expected_bonus\": 0.6519454121589661}, {\"fanta_team\": \"MaiNa Joya_v2.0\", \"role\": \"C\", \"player\": \"Pobega\", \"home_team\": \"Torino\", \"away_team\": \"Sassuolo\", \"date\": \"2022-01-23T00:00:00\", \"expected_bonus\": 0.6142224669456482}, {\"fanta_team\": \"MaiNa Joya_v2.0\", \"role\": \"C\", \"player\": \"Maleh\", \"home_team\": \"Cagliari\", \"away_team\": \"Fiorentina\", \"date\": \"2022-01-23T00:00:00\", \"expected_bonus\": 0.4800092577934265}, {\"fanta_team\": \"MaiNa Joya_v2.0\", \"role\": \"A\", \"player\": \"Insigne\", \"home_team\": \"Napoli\", \"away_team\": \"Salernitana\", \"date\": \"2022-01-23T00:00:00\", \"expected_bonus\": 2.0879504680633545}, {\"fanta_team\": \"MaiNa Joya_v2.0\", \"role\": \"A\", \"player\": \"Abraham\", \"home_team\": \"Empoli\", \"away_team\": \"Roma\", \"date\": \"2022-01-23T00:00:00\", \"expected_bonus\": 2.052821397781372}, {\"fanta_team\": \"MaiNa Joya_v2.0\", \"role\": \"A\", \"player\": \"Brekalo\", \"home_team\": \"Torino\", \"away_team\": \"Sassuolo\", \"date\": \"2022-01-23T00:00:00\", \"expected_bonus\": 0.9093608260154724}, {\"fanta_team\": \"MaiNa Joya_v2.0\", \"role\": \"A\", \"player\": \"Cutrone\", \"home_team\": \"Empoli\", \"away_team\": \"Roma\", \"date\": \"2022-01-23T00:00:00\", \"expected_bonus\": 0.7953799962997437}, {\"fanta_team\": \"MEZAFE\", \"role\": \"D\", \"player\": \"Bonucci\", \"home_team\": \"AC Milan\", \"away_team\": \"Juventus\", \"date\": \"2022-01-23T00:00:00\", \"expected_bonus\": 0.26073384284973145}, {\"fanta_team\": \"MEZAFE\", \"role\": \"D\", \"player\": \"Nastasic\", \"home_team\": \"Cagliari\", \"away_team\": \"Fiorentina\", \"date\": \"2022-01-23T00:00:00\", \"expected_bonus\": 0.1466449648141861}, {\"fanta_team\": \"MEZAFE\", \"role\": \"D\", \"player\": \"Danilo\", \"home_team\": \"AC Milan\", \"away_team\": \"Juventus\", \"date\": \"2022-01-23T00:00:00\", \"expected_bonus\": 0.12400282919406891}, {\"fanta_team\": \"MEZAFE\", \"role\": \"D\", \"player\": \"Chiellini\", \"home_team\": \"AC Milan\", \"away_team\": \"Juventus\", \"date\": \"2022-01-23T00:00:00\", \"expected_bonus\": 0.10373366624116898}, {\"fanta_team\": \"MEZAFE\", \"role\": \"C\", \"player\": \"Verdi\", \"home_team\": \"Torino\", \"away_team\": \"Sassuolo\", \"date\": \"2022-01-23T00:00:00\", \"expected_bonus\": 0.529930830001831}, {\"fanta_team\": \"MEZAFE\", \"role\": \"C\", \"player\": \"Saelemaekers\", \"home_team\": \"AC Milan\", \"away_team\": \"Juventus\", \"date\": \"2022-01-23T00:00:00\", \"expected_bonus\": 0.4660375714302063}, {\"fanta_team\": \"MEZAFE\", \"role\": \"C\", \"player\": \"Cristante\", \"home_team\": \"Empoli\", \"away_team\": \"Roma\", \"date\": \"2022-01-23T00:00:00\", \"expected_bonus\": 0.38061848282814026}, {\"fanta_team\": \"MEZAFE\", \"role\": \"C\", \"player\": \"McKennie\", \"home_team\": \"AC Milan\", \"away_team\": \"Juventus\", \"date\": \"2022-01-23T00:00:00\", \"expected_bonus\": 0.3455580770969391}, {\"fanta_team\": \"MEZAFE\", \"role\": \"C\", \"player\": \"Tonali\", \"home_team\": \"AC Milan\", \"away_team\": \"Juventus\", \"date\": \"2022-01-23T00:00:00\", \"expected_bonus\": 0.2823481261730194}, {\"fanta_team\": \"MEZAFE\", \"role\": \"C\", \"player\": \"Castrovilli\", \"home_team\": \"Cagliari\", \"away_team\": \"Fiorentina\", \"date\": \"2022-01-23T00:00:00\", \"expected_bonus\": 0.24080628156661987}, {\"fanta_team\": \"MEZAFE\", \"role\": \"A\", \"player\": \"Dybala\", \"home_team\": \"AC Milan\", \"away_team\": \"Juventus\", \"date\": \"2022-01-23T00:00:00\", \"expected_bonus\": 1.1564357280731201}, {\"fanta_team\": \"MEZAFE\", \"role\": \"A\", \"player\": \"Quagliarella\", \"home_team\": \"Spezia\", \"away_team\": \"Sampdoria\", \"date\": \"2022-01-23T00:00:00\", \"expected_bonus\": 1.0267826318740845}, {\"fanta_team\": \"MEZAFE\", \"role\": \"A\", \"player\": \"Rebic\", \"home_team\": \"AC Milan\", \"away_team\": \"Juventus\", \"date\": \"2022-01-23T00:00:00\", \"expected_bonus\": 0.3322557806968689}, {\"fanta_team\": \"MEZAFE\", \"role\": \"A\", \"player\": \"Kean\", \"home_team\": \"AC Milan\", \"away_team\": \"Juventus\", \"date\": \"2022-01-23T00:00:00\", \"expected_bonus\": 0.2476353943347931}, {\"fanta_team\": \"Beverly INPS\", \"role\": \"D\", \"player\": \"Cuadrado\", \"home_team\": \"AC Milan\", \"away_team\": \"Juventus\", \"date\": \"2022-01-23T00:00:00\", \"expected_bonus\": 0.303049236536026}, {\"fanta_team\": \"Beverly INPS\", \"role\": \"D\", \"player\": \"Lorenzo\", \"home_team\": \"Napoli\", \"away_team\": \"Salernitana\", \"date\": \"2022-01-23T00:00:00\", \"expected_bonus\": 0.288526326417923}, {\"fanta_team\": \"Beverly INPS\", \"role\": \"D\", \"player\": \"Romagnoli\", \"home_team\": \"AC Milan\", \"away_team\": \"Juventus\", \"date\": \"2022-01-23T00:00:00\", \"expected_bonus\": 0.14774474501609802}, {\"fanta_team\": \"Beverly INPS\", \"role\": \"D\", \"player\": \"Kjaer\", \"home_team\": \"AC Milan\", \"away_team\": \"Juventus\", \"date\": \"2022-01-23T00:00:00\", \"expected_bonus\": 0.12476865947246552}, {\"fanta_team\": \"Beverly INPS\", \"role\": \"C\", \"player\": \"Zielinski\", \"home_team\": \"Napoli\", \"away_team\": \"Salernitana\", \"date\": \"2022-01-23T00:00:00\", \"expected_bonus\": 1.3393661975860596}, {\"fanta_team\": \"Beverly INPS\", \"role\": \"C\", \"player\": \"Praet\", \"home_team\": \"Torino\", \"away_team\": \"Sassuolo\", \"date\": \"2022-01-23T00:00:00\", \"expected_bonus\": 0.7462018132209778}, {\"fanta_team\": \"Beverly INPS\", \"role\": \"C\", \"player\": \"Callej\\u00f3n\", \"home_team\": \"Cagliari\", \"away_team\": \"Fiorentina\", \"date\": \"2022-01-23T00:00:00\", \"expected_bonus\": 0.6757221817970276}, {\"fanta_team\": \"Beverly INPS\", \"role\": \"C\", \"player\": \"Elmas\", \"home_team\": \"Napoli\", \"away_team\": \"Salernitana\", \"date\": \"2022-01-23T00:00:00\", \"expected_bonus\": 0.5118928551673889}, {\"fanta_team\": \"Beverly INPS\", \"role\": \"C\", \"player\": \"Kessi\\u00e9\", \"home_team\": \"AC Milan\", \"away_team\": \"Juventus\", \"date\": \"2022-01-23T00:00:00\", \"expected_bonus\": 0.39295250177383423}, {\"fanta_team\": \"Beverly INPS\", \"role\": \"C\", \"player\": \"Kulusevski\", \"home_team\": \"AC Milan\", \"away_team\": \"Juventus\", \"date\": \"2022-01-23T00:00:00\", \"expected_bonus\": 0.3104499876499176}, {\"fanta_team\": \"Beverly INPS\", \"role\": \"A\", \"player\": \"Mertens\", \"home_team\": \"Napoli\", \"away_team\": \"Salernitana\", \"date\": \"2022-01-23T00:00:00\", \"expected_bonus\": 1.921597957611084}, {\"fanta_team\": \"Beverly INPS\", \"role\": \"A\", \"player\": \"Gonz\\u00e1lez\", \"home_team\": \"Cagliari\", \"away_team\": \"Fiorentina\", \"date\": \"2022-01-23T00:00:00\", \"expected_bonus\": 1.1511586904525757}, {\"fanta_team\": \"Beverly INPS\", \"role\": \"A\", \"player\": \"Berardi\", \"home_team\": \"Torino\", \"away_team\": \"Sassuolo\", \"date\": \"2022-01-23T00:00:00\", \"expected_bonus\": 0.9839850068092346}, {\"fanta_team\": \"Beverly INPS\", \"role\": \"A\", \"player\": \"Nzola\", \"home_team\": \"Spezia\", \"away_team\": \"Sampdoria\", \"date\": \"2022-01-23T00:00:00\", \"expected_bonus\": 0.9773635864257812}, {\"fanta_team\": \"AI sereje ja dejeDe jebe tu de jebere\", \"role\": \"D\", \"player\": \"Rrahmani\", \"home_team\": \"Napoli\", \"away_team\": \"Salernitana\", \"date\": \"2022-01-23T00:00:00\", \"expected_bonus\": 0.33316510915756226}, {\"fanta_team\": \"AI sereje ja dejeDe jebe tu de jebere\", \"role\": \"D\", \"player\": \"Manolas\", \"home_team\": \"Napoli\", \"away_team\": \"Salernitana\", \"date\": \"2022-01-23T00:00:00\", \"expected_bonus\": 0.24067933857440948}, {\"fanta_team\": \"AI sereje ja dejeDe jebe tu de jebere\", \"role\": \"D\", \"player\": \"Augello\", \"home_team\": \"Spezia\", \"away_team\": \"Sampdoria\", \"date\": \"2022-01-23T00:00:00\", \"expected_bonus\": 0.1915675550699234}, {\"fanta_team\": \"AI sereje ja dejeDe jebe tu de jebere\", \"role\": \"C\", \"player\": \"Candreva\", \"home_team\": \"Spezia\", \"away_team\": \"Sampdoria\", \"date\": \"2022-01-23T00:00:00\", \"expected_bonus\": 0.879487931728363}, {\"fanta_team\": \"AI sereje ja dejeDe jebe tu de jebere\", \"role\": \"C\", \"player\": \"Bonaventura\", \"home_team\": \"Cagliari\", \"away_team\": \"Fiorentina\", \"date\": \"2022-01-23T00:00:00\", \"expected_bonus\": 0.6431328058242798}, {\"fanta_team\": \"AI sereje ja dejeDe jebe tu de jebere\", \"role\": \"C\", \"player\": \"Maggiore\", \"home_team\": \"Spezia\", \"away_team\": \"Sampdoria\", \"date\": \"2022-01-23T00:00:00\", \"expected_bonus\": 0.38480016589164734}, {\"fanta_team\": \"AI sereje ja dejeDe jebe tu de jebere\", \"role\": \"C\", \"player\": \"Locatelli\", \"home_team\": \"AC Milan\", \"away_team\": \"Juventus\", \"date\": \"2022-01-23T00:00:00\", \"expected_bonus\": 0.2625041902065277}, {\"fanta_team\": \"AI sereje ja dejeDe jebe tu de jebere\", \"role\": \"A\", \"player\": \"Vlahovic\", \"home_team\": \"Cagliari\", \"away_team\": \"Fiorentina\", \"date\": \"2022-01-23T00:00:00\", \"expected_bonus\": 2.760434150695801}, {\"fanta_team\": \"AI sereje ja dejeDe jebe tu de jebere\", \"role\": \"A\", \"player\": \"Caputo\", \"home_team\": \"Spezia\", \"away_team\": \"Sampdoria\", \"date\": \"2022-01-23T00:00:00\", \"expected_bonus\": 1.1285649538040161}, {\"fanta_team\": \"AI sereje ja dejeDe jebe tu de jebere\", \"role\": \"A\", \"player\": \"Lozano\", \"home_team\": \"Napoli\", \"away_team\": \"Salernitana\", \"date\": \"2022-01-23T00:00:00\", \"expected_bonus\": 1.0457959175109863}, {\"fanta_team\": \"AI sereje ja dejeDe jebe tu de jebere\", \"role\": \"A\", \"player\": \"Mancuso\", \"home_team\": \"Empoli\", \"away_team\": \"Roma\", \"date\": \"2022-01-23T00:00:00\", \"expected_bonus\": 0.6544171571731567}, {\"fanta_team\": \"AC Picchia\", \"role\": \"D\", \"player\": \"Calabria\", \"home_team\": \"AC Milan\", \"away_team\": \"Juventus\", \"date\": \"2022-01-23T00:00:00\", \"expected_bonus\": 0.4528488218784332}, {\"fanta_team\": \"AC Picchia\", \"role\": \"D\", \"player\": \"Odriozola\", \"home_team\": \"Cagliari\", \"away_team\": \"Fiorentina\", \"date\": \"2022-01-23T00:00:00\", \"expected_bonus\": 0.28170326352119446}, {\"fanta_team\": \"AC Picchia\", \"role\": \"D\", \"player\": \"Florenzi\", \"home_team\": \"AC Milan\", \"away_team\": \"Juventus\", \"date\": \"2022-01-23T00:00:00\", \"expected_bonus\": 0.28162798285484314}, {\"fanta_team\": \"AC Picchia\", \"role\": \"D\", \"player\": \"Sandro\", \"home_team\": \"AC Milan\", \"away_team\": \"Juventus\", \"date\": \"2022-01-23T00:00:00\", \"expected_bonus\": 0.20641759037971497}, {\"fanta_team\": \"AC Picchia\", \"role\": \"D\", \"player\": \"Ligt\", \"home_team\": \"AC Milan\", \"away_team\": \"Juventus\", \"date\": \"2022-01-23T00:00:00\", \"expected_bonus\": 0.18057076632976532}, {\"fanta_team\": \"AC Picchia\", \"role\": \"D\", \"player\": \"Dalbert\", \"home_team\": \"Cagliari\", \"away_team\": \"Fiorentina\", \"date\": \"2022-01-23T00:00:00\", \"expected_bonus\": 0.13682007789611816}, {\"fanta_team\": \"AC Picchia\", \"role\": \"C\", \"player\": \"Thorsby\", \"home_team\": \"Spezia\", \"away_team\": \"Sampdoria\", \"date\": \"2022-01-23T00:00:00\", \"expected_bonus\": 0.3441789448261261}, {\"fanta_team\": \"AC Picchia\", \"role\": \"C\", \"player\": \"Marin\", \"home_team\": \"Cagliari\", \"away_team\": \"Fiorentina\", \"date\": \"2022-01-23T00:00:00\", \"expected_bonus\": 0.2567622661590576}, {\"fanta_team\": \"AC Picchia\", \"role\": \"C\", \"player\": \"N\\u00e1ndez\", \"home_team\": \"Cagliari\", \"away_team\": \"Fiorentina\", \"date\": \"2022-01-23T00:00:00\", \"expected_bonus\": 0.23140491545200348}, {\"fanta_team\": \"AC Picchia\", \"role\": \"A\", \"player\": \"Giroud\", \"home_team\": \"AC Milan\", \"away_team\": \"Juventus\", \"date\": \"2022-01-23T00:00:00\", \"expected_bonus\": 1.2210437059402466}, {\"fanta_team\": \"AC Picchia\", \"role\": \"A\", \"player\": \"Belotti\", \"home_team\": \"Torino\", \"away_team\": \"Sassuolo\", \"date\": \"2022-01-23T00:00:00\", \"expected_bonus\": 1.1390948295593262}, {\"fanta_team\": \"AC Picchia\", \"role\": \"A\", \"player\": \"Verde\", \"home_team\": \"Spezia\", \"away_team\": \"Sampdoria\", \"date\": \"2022-01-23T00:00:00\", \"expected_bonus\": 0.5905052423477173}, {\"fanta_team\": \"AC Picchia\", \"role\": \"A\", \"player\": \"Boga\", \"home_team\": \"Torino\", \"away_team\": \"Sassuolo\", \"date\": \"2022-01-23T00:00:00\", \"expected_bonus\": 0.4447855055332184}]}}, {\"actions\": false, \"mode\": \"vega-lite\"});\n</script>",
      "text/plain": "alt.Chart(...)"
     },
     "metadata": {}
    }
   ],
   "execution_count": 11
  },
  {
   "cell_type": "code",
   "metadata": {
    "cell_id": "c757b1dc-1791-4f8f-8d75-1e5fa62fa250",
    "tags": [],
    "deepnote_to_be_reexecuted": false,
    "source_hash": "ac51fc04",
    "execution_start": 1642933710602,
    "execution_millis": 9,
    "deepnote_cell_type": "code"
   },
   "source": "teams = sorted(list(predictions['fanta_team'].unique()))\nindex = 0",
   "outputs": [],
   "execution_count": 12
  },
  {
   "cell_type": "code",
   "metadata": {
    "cell_id": "661bb9dc-37c8-4f24-b69b-ca2aae9a3388",
    "tags": [],
    "deepnote_to_be_reexecuted": false,
    "source_hash": "3f500048",
    "execution_start": 1642933710619,
    "execution_millis": 8,
    "deepnote_cell_type": "code"
   },
   "source": "team, index = display_fanta_squad(predictions, teams, index)",
   "outputs": [],
   "execution_count": 13
  },
  {
   "cell_type": "code",
   "source": "_deepnote_run_altair(team, \"\"\"{\"$schema\":\"https://vega.github.io/schema/vega-lite/v4.json\",\"mark\":{\"type\":\"bar\",\"tooltip\":{\"content\":\"data\"}},\"height\":220,\"autosize\":{\"type\":\"fit\"},\"data\":{\"name\":\"placeholder\"},\"encoding\":{\"x\":{\"field\":\"expected_bonus\",\"type\":\"quantitative\",\"sort\":null,\"scale\":{\"type\":\"linear\",\"zero\":false}},\"y\":{\"field\":\"player\",\"type\":\"nominal\",\"sort\":null,\"scale\":{\"type\":\"linear\",\"zero\":true}},\"color\":{\"field\":\"role\",\"type\":\"nominal\",\"sort\":null,\"scale\":{\"type\":\"linear\",\"zero\":false}}}}\"\"\")",
   "metadata": {
    "cell_id": "2feea2e5-a58f-4290-9ed7-09ad345cef92",
    "deepnote_variable_name": "team",
    "deepnote_visualization_spec": {
     "$schema": "https://vega.github.io/schema/vega-lite/v4.json",
     "mark": {
      "type": "bar",
      "tooltip": {
       "content": "data"
      }
     },
     "height": 220,
     "autosize": {
      "type": "fit"
     },
     "data": {
      "name": "placeholder"
     },
     "encoding": {
      "x": {
       "field": "expected_bonus",
       "type": "quantitative",
       "sort": null,
       "scale": {
        "type": "linear",
        "zero": false
       }
      },
      "y": {
       "field": "player",
       "type": "nominal",
       "sort": null,
       "scale": {
        "type": "linear",
        "zero": true
       }
      },
      "color": {
       "field": "role",
       "type": "nominal",
       "sort": null,
       "scale": {
        "type": "linear",
        "zero": false
       }
      }
     }
    },
    "deepnote_to_be_reexecuted": false,
    "source_hash": "e68de25e",
    "execution_start": 1642933710641,
    "execution_millis": 143,
    "deepnote_output_heights": [
     314
    ],
    "allow_embed": "output",
    "deepnote_cell_type": "visualization"
   },
   "outputs": [
    {
     "output_type": "execute_result",
     "execution_count": 14,
     "data": {
      "text/html": "\n<div id=\"altair-viz-e8e58cabf3604855b4f4a9b40eaf3333\"></div>\n<script type=\"text/javascript\">\n  (function(spec, embedOpt){\n    let outputDiv = document.currentScript.previousElementSibling;\n    if (outputDiv.id !== \"altair-viz-e8e58cabf3604855b4f4a9b40eaf3333\") {\n      outputDiv = document.getElementById(\"altair-viz-e8e58cabf3604855b4f4a9b40eaf3333\");\n    }\n    const paths = {\n      \"vega\": \"https://cdn.jsdelivr.net/npm//vega@5?noext\",\n      \"vega-lib\": \"https://cdn.jsdelivr.net/npm//vega-lib?noext\",\n      \"vega-lite\": \"https://cdn.jsdelivr.net/npm//vega-lite@4.8.1?noext\",\n      \"vega-embed\": \"https://cdn.jsdelivr.net/npm//vega-embed@6?noext\",\n    };\n\n    function loadScript(lib) {\n      return new Promise(function(resolve, reject) {\n        var s = document.createElement('script');\n        s.src = paths[lib];\n        s.async = true;\n        s.onload = () => resolve(paths[lib]);\n        s.onerror = () => reject(`Error loading script: ${paths[lib]}`);\n        document.getElementsByTagName(\"head\")[0].appendChild(s);\n      });\n    }\n\n    function showError(err) {\n      outputDiv.innerHTML = `<div class=\"error\" style=\"color:red;\">${err}</div>`;\n      throw err;\n    }\n\n    function displayChart(vegaEmbed) {\n      vegaEmbed(outputDiv, spec, embedOpt)\n        .catch(err => showError(`Javascript Error: ${err.message}<br>This usually means there's a typo in your chart specification. See the javascript console for the full traceback.`));\n    }\n\n    if(typeof define === \"function\" && define.amd) {\n      requirejs.config({paths});\n      require([\"vega-embed\"], displayChart, err => showError(`Error loading script: ${err.message}`));\n    } else if (typeof vegaEmbed === \"function\") {\n      displayChart(vegaEmbed);\n    } else {\n      loadScript(\"vega\")\n        .then(() => loadScript(\"vega-lite\"))\n        .then(() => loadScript(\"vega-embed\"))\n        .catch(showError)\n        .then(() => displayChart(vegaEmbed));\n    }\n  })({\"config\": {\"view\": {\"continuousWidth\": 400, \"continuousHeight\": 300}, \"area\": {\"fill\": \"#51C0E9\"}, \"axis\": {\"labelFont\": \"Inter, sans-serif\", \"labelFontSize\": 12, \"labelFontWeight\": \"normal\", \"labelLimit\": 60, \"labelOverlap\": \"greedy\", \"titleFont\": \"Inter, sans-serif\", \"titleFontSize\": 12, \"titleFontWeight\": \"bold\"}, \"background\": \"#ffffff\", \"legend\": {\"labelFont\": \"Inter, sans-serif\", \"labelFontSize\": 12, \"titleFont\": \"Inter, sans-serif\", \"titleFontSize\": 12, \"titleFontWeight\": \"bold\"}, \"line\": {\"stroke\": \"#51C0E9\", \"strokeWidth\": 2}, \"rect\": {\"fill\": \"#51C0E9\"}, \"title\": {\"anchor\": \"start\", \"color\": \"#000000\", \"font\": \"Inter, sans-serif\", \"fontSize\": 22, \"fontWeight\": \"normal\"}}, \"data\": {\"name\": \"data-4b0b50a96ce5229268186971fa2f16d2\"}, \"mark\": {\"type\": \"bar\", \"tooltip\": {\"content\": \"data\"}}, \"autosize\": {\"type\": \"fit\"}, \"encoding\": {\"color\": {\"type\": \"nominal\", \"field\": \"role\", \"scale\": {\"type\": \"linear\", \"zero\": false}, \"sort\": null}, \"x\": {\"type\": \"quantitative\", \"field\": \"expected_bonus\", \"scale\": {\"type\": \"linear\", \"zero\": false}, \"sort\": null}, \"y\": {\"type\": \"nominal\", \"field\": \"player\", \"scale\": {\"type\": \"linear\", \"zero\": true}, \"sort\": null}}, \"height\": 300, \"width\": \"container\", \"$schema\": \"https://vega.github.io/schema/vega-lite/v4.json\", \"datasets\": {\"data-4b0b50a96ce5229268186971fa2f16d2\": [{\"fanta_team\": \"AC Picchia\", \"role\": \"D\", \"player\": \"Calabria\", \"home_team\": \"AC Milan\", \"away_team\": \"Juventus\", \"date\": \"2022-01-23T00:00:00\", \"expected_bonus\": 0.4528488218784332}, {\"fanta_team\": \"AC Picchia\", \"role\": \"D\", \"player\": \"Odriozola\", \"home_team\": \"Cagliari\", \"away_team\": \"Fiorentina\", \"date\": \"2022-01-23T00:00:00\", \"expected_bonus\": 0.28170326352119446}, {\"fanta_team\": \"AC Picchia\", \"role\": \"D\", \"player\": \"Florenzi\", \"home_team\": \"AC Milan\", \"away_team\": \"Juventus\", \"date\": \"2022-01-23T00:00:00\", \"expected_bonus\": 0.28162798285484314}, {\"fanta_team\": \"AC Picchia\", \"role\": \"D\", \"player\": \"Sandro\", \"home_team\": \"AC Milan\", \"away_team\": \"Juventus\", \"date\": \"2022-01-23T00:00:00\", \"expected_bonus\": 0.20641759037971497}, {\"fanta_team\": \"AC Picchia\", \"role\": \"D\", \"player\": \"Ligt\", \"home_team\": \"AC Milan\", \"away_team\": \"Juventus\", \"date\": \"2022-01-23T00:00:00\", \"expected_bonus\": 0.18057076632976532}, {\"fanta_team\": \"AC Picchia\", \"role\": \"D\", \"player\": \"Dalbert\", \"home_team\": \"Cagliari\", \"away_team\": \"Fiorentina\", \"date\": \"2022-01-23T00:00:00\", \"expected_bonus\": 0.13682007789611816}, {\"fanta_team\": \"AC Picchia\", \"role\": \"C\", \"player\": \"Thorsby\", \"home_team\": \"Spezia\", \"away_team\": \"Sampdoria\", \"date\": \"2022-01-23T00:00:00\", \"expected_bonus\": 0.3441789448261261}, {\"fanta_team\": \"AC Picchia\", \"role\": \"C\", \"player\": \"Marin\", \"home_team\": \"Cagliari\", \"away_team\": \"Fiorentina\", \"date\": \"2022-01-23T00:00:00\", \"expected_bonus\": 0.2567622661590576}, {\"fanta_team\": \"AC Picchia\", \"role\": \"C\", \"player\": \"N\\u00e1ndez\", \"home_team\": \"Cagliari\", \"away_team\": \"Fiorentina\", \"date\": \"2022-01-23T00:00:00\", \"expected_bonus\": 0.23140491545200348}, {\"fanta_team\": \"AC Picchia\", \"role\": \"A\", \"player\": \"Giroud\", \"home_team\": \"AC Milan\", \"away_team\": \"Juventus\", \"date\": \"2022-01-23T00:00:00\", \"expected_bonus\": 1.2210437059402466}, {\"fanta_team\": \"AC Picchia\", \"role\": \"A\", \"player\": \"Belotti\", \"home_team\": \"Torino\", \"away_team\": \"Sassuolo\", \"date\": \"2022-01-23T00:00:00\", \"expected_bonus\": 1.1390948295593262}, {\"fanta_team\": \"AC Picchia\", \"role\": \"A\", \"player\": \"Verde\", \"home_team\": \"Spezia\", \"away_team\": \"Sampdoria\", \"date\": \"2022-01-23T00:00:00\", \"expected_bonus\": 0.5905052423477173}, {\"fanta_team\": \"AC Picchia\", \"role\": \"A\", \"player\": \"Boga\", \"home_team\": \"Torino\", \"away_team\": \"Sassuolo\", \"date\": \"2022-01-23T00:00:00\", \"expected_bonus\": 0.4447855055332184}]}}, {\"actions\": false, \"mode\": \"vega-lite\"});\n</script>",
      "text/plain": "alt.Chart(...)"
     },
     "metadata": {}
    }
   ],
   "execution_count": 14
  },
  {
   "cell_type": "code",
   "metadata": {
    "cell_id": "403f1719-a05c-438b-ab10-6045be82f284",
    "tags": [],
    "deepnote_to_be_reexecuted": false,
    "source_hash": "3f500048",
    "execution_start": 1642933710796,
    "execution_millis": 0,
    "deepnote_cell_type": "code"
   },
   "source": "team, index = display_fanta_squad(predictions, teams, index)",
   "outputs": [],
   "execution_count": 15
  },
  {
   "cell_type": "code",
   "source": "_deepnote_run_altair(team, \"\"\"{\"$schema\":\"https://vega.github.io/schema/vega-lite/v4.json\",\"mark\":{\"type\":\"bar\",\"tooltip\":{\"content\":\"data\"}},\"height\":220,\"autosize\":{\"type\":\"fit\"},\"data\":{\"name\":\"placeholder\"},\"encoding\":{\"x\":{\"field\":\"expected_bonus\",\"type\":\"quantitative\",\"sort\":null,\"scale\":{\"type\":\"linear\",\"zero\":false}},\"y\":{\"field\":\"player\",\"type\":\"nominal\",\"sort\":null,\"scale\":{\"type\":\"linear\",\"zero\":true}},\"color\":{\"field\":\"role\",\"type\":\"nominal\",\"sort\":null,\"scale\":{\"type\":\"linear\",\"zero\":false}}}}\"\"\")",
   "metadata": {
    "cell_id": "4a208803-57f0-497b-a4ea-c00c86e43db9",
    "deepnote_variable_name": "team",
    "deepnote_visualization_spec": {
     "$schema": "https://vega.github.io/schema/vega-lite/v4.json",
     "mark": {
      "type": "bar",
      "tooltip": {
       "content": "data"
      }
     },
     "height": 220,
     "autosize": {
      "type": "fit"
     },
     "data": {
      "name": "placeholder"
     },
     "encoding": {
      "x": {
       "field": "expected_bonus",
       "type": "quantitative",
       "sort": null,
       "scale": {
        "type": "linear",
        "zero": false
       }
      },
      "y": {
       "field": "player",
       "type": "nominal",
       "sort": null,
       "scale": {
        "type": "linear",
        "zero": true
       }
      },
      "color": {
       "field": "role",
       "type": "nominal",
       "sort": null,
       "scale": {
        "type": "linear",
        "zero": false
       }
      }
     }
    },
    "deepnote_to_be_reexecuted": false,
    "source_hash": "e68de25e",
    "execution_start": 1642933710853,
    "execution_millis": 147,
    "deepnote_output_heights": [
     314
    ],
    "allow_embed": "output",
    "deepnote_cell_type": "visualization"
   },
   "outputs": [
    {
     "output_type": "execute_result",
     "execution_count": 16,
     "data": {
      "text/html": "\n<div id=\"altair-viz-7274bdaa38ec4e0ba878ef0e8f9302f5\"></div>\n<script type=\"text/javascript\">\n  (function(spec, embedOpt){\n    let outputDiv = document.currentScript.previousElementSibling;\n    if (outputDiv.id !== \"altair-viz-7274bdaa38ec4e0ba878ef0e8f9302f5\") {\n      outputDiv = document.getElementById(\"altair-viz-7274bdaa38ec4e0ba878ef0e8f9302f5\");\n    }\n    const paths = {\n      \"vega\": \"https://cdn.jsdelivr.net/npm//vega@5?noext\",\n      \"vega-lib\": \"https://cdn.jsdelivr.net/npm//vega-lib?noext\",\n      \"vega-lite\": \"https://cdn.jsdelivr.net/npm//vega-lite@4.8.1?noext\",\n      \"vega-embed\": \"https://cdn.jsdelivr.net/npm//vega-embed@6?noext\",\n    };\n\n    function loadScript(lib) {\n      return new Promise(function(resolve, reject) {\n        var s = document.createElement('script');\n        s.src = paths[lib];\n        s.async = true;\n        s.onload = () => resolve(paths[lib]);\n        s.onerror = () => reject(`Error loading script: ${paths[lib]}`);\n        document.getElementsByTagName(\"head\")[0].appendChild(s);\n      });\n    }\n\n    function showError(err) {\n      outputDiv.innerHTML = `<div class=\"error\" style=\"color:red;\">${err}</div>`;\n      throw err;\n    }\n\n    function displayChart(vegaEmbed) {\n      vegaEmbed(outputDiv, spec, embedOpt)\n        .catch(err => showError(`Javascript Error: ${err.message}<br>This usually means there's a typo in your chart specification. See the javascript console for the full traceback.`));\n    }\n\n    if(typeof define === \"function\" && define.amd) {\n      requirejs.config({paths});\n      require([\"vega-embed\"], displayChart, err => showError(`Error loading script: ${err.message}`));\n    } else if (typeof vegaEmbed === \"function\") {\n      displayChart(vegaEmbed);\n    } else {\n      loadScript(\"vega\")\n        .then(() => loadScript(\"vega-lite\"))\n        .then(() => loadScript(\"vega-embed\"))\n        .catch(showError)\n        .then(() => displayChart(vegaEmbed));\n    }\n  })({\"config\": {\"view\": {\"continuousWidth\": 400, \"continuousHeight\": 300}, \"area\": {\"fill\": \"#51C0E9\"}, \"axis\": {\"labelFont\": \"Inter, sans-serif\", \"labelFontSize\": 12, \"labelFontWeight\": \"normal\", \"labelLimit\": 60, \"labelOverlap\": \"greedy\", \"titleFont\": \"Inter, sans-serif\", \"titleFontSize\": 12, \"titleFontWeight\": \"bold\"}, \"background\": \"#ffffff\", \"legend\": {\"labelFont\": \"Inter, sans-serif\", \"labelFontSize\": 12, \"titleFont\": \"Inter, sans-serif\", \"titleFontSize\": 12, \"titleFontWeight\": \"bold\"}, \"line\": {\"stroke\": \"#51C0E9\", \"strokeWidth\": 2}, \"rect\": {\"fill\": \"#51C0E9\"}, \"title\": {\"anchor\": \"start\", \"color\": \"#000000\", \"font\": \"Inter, sans-serif\", \"fontSize\": 22, \"fontWeight\": \"normal\"}}, \"data\": {\"name\": \"data-a1f62d7aeea285ed71850933fd5ff717\"}, \"mark\": {\"type\": \"bar\", \"tooltip\": {\"content\": \"data\"}}, \"autosize\": {\"type\": \"fit\"}, \"encoding\": {\"color\": {\"type\": \"nominal\", \"field\": \"role\", \"scale\": {\"type\": \"linear\", \"zero\": false}, \"sort\": null}, \"x\": {\"type\": \"quantitative\", \"field\": \"expected_bonus\", \"scale\": {\"type\": \"linear\", \"zero\": false}, \"sort\": null}, \"y\": {\"type\": \"nominal\", \"field\": \"player\", \"scale\": {\"type\": \"linear\", \"zero\": true}, \"sort\": null}}, \"height\": 300, \"width\": \"container\", \"$schema\": \"https://vega.github.io/schema/vega-lite/v4.json\", \"datasets\": {\"data-a1f62d7aeea285ed71850933fd5ff717\": [{\"fanta_team\": \"AI sereje ja dejeDe jebe tu de jebere\", \"role\": \"D\", \"player\": \"Rrahmani\", \"home_team\": \"Napoli\", \"away_team\": \"Salernitana\", \"date\": \"2022-01-23T00:00:00\", \"expected_bonus\": 0.33316510915756226}, {\"fanta_team\": \"AI sereje ja dejeDe jebe tu de jebere\", \"role\": \"D\", \"player\": \"Manolas\", \"home_team\": \"Napoli\", \"away_team\": \"Salernitana\", \"date\": \"2022-01-23T00:00:00\", \"expected_bonus\": 0.24067933857440948}, {\"fanta_team\": \"AI sereje ja dejeDe jebe tu de jebere\", \"role\": \"D\", \"player\": \"Augello\", \"home_team\": \"Spezia\", \"away_team\": \"Sampdoria\", \"date\": \"2022-01-23T00:00:00\", \"expected_bonus\": 0.1915675550699234}, {\"fanta_team\": \"AI sereje ja dejeDe jebe tu de jebere\", \"role\": \"C\", \"player\": \"Candreva\", \"home_team\": \"Spezia\", \"away_team\": \"Sampdoria\", \"date\": \"2022-01-23T00:00:00\", \"expected_bonus\": 0.879487931728363}, {\"fanta_team\": \"AI sereje ja dejeDe jebe tu de jebere\", \"role\": \"C\", \"player\": \"Bonaventura\", \"home_team\": \"Cagliari\", \"away_team\": \"Fiorentina\", \"date\": \"2022-01-23T00:00:00\", \"expected_bonus\": 0.6431328058242798}, {\"fanta_team\": \"AI sereje ja dejeDe jebe tu de jebere\", \"role\": \"C\", \"player\": \"Maggiore\", \"home_team\": \"Spezia\", \"away_team\": \"Sampdoria\", \"date\": \"2022-01-23T00:00:00\", \"expected_bonus\": 0.38480016589164734}, {\"fanta_team\": \"AI sereje ja dejeDe jebe tu de jebere\", \"role\": \"C\", \"player\": \"Locatelli\", \"home_team\": \"AC Milan\", \"away_team\": \"Juventus\", \"date\": \"2022-01-23T00:00:00\", \"expected_bonus\": 0.2625041902065277}, {\"fanta_team\": \"AI sereje ja dejeDe jebe tu de jebere\", \"role\": \"A\", \"player\": \"Vlahovic\", \"home_team\": \"Cagliari\", \"away_team\": \"Fiorentina\", \"date\": \"2022-01-23T00:00:00\", \"expected_bonus\": 2.760434150695801}, {\"fanta_team\": \"AI sereje ja dejeDe jebe tu de jebere\", \"role\": \"A\", \"player\": \"Caputo\", \"home_team\": \"Spezia\", \"away_team\": \"Sampdoria\", \"date\": \"2022-01-23T00:00:00\", \"expected_bonus\": 1.1285649538040161}, {\"fanta_team\": \"AI sereje ja dejeDe jebe tu de jebere\", \"role\": \"A\", \"player\": \"Lozano\", \"home_team\": \"Napoli\", \"away_team\": \"Salernitana\", \"date\": \"2022-01-23T00:00:00\", \"expected_bonus\": 1.0457959175109863}, {\"fanta_team\": \"AI sereje ja dejeDe jebe tu de jebere\", \"role\": \"A\", \"player\": \"Mancuso\", \"home_team\": \"Empoli\", \"away_team\": \"Roma\", \"date\": \"2022-01-23T00:00:00\", \"expected_bonus\": 0.6544171571731567}]}}, {\"actions\": false, \"mode\": \"vega-lite\"});\n</script>",
      "text/plain": "alt.Chart(...)"
     },
     "metadata": {}
    }
   ],
   "execution_count": 16
  },
  {
   "cell_type": "code",
   "metadata": {
    "cell_id": "2e687bc2-7527-4205-938c-991162872c2c",
    "tags": [],
    "deepnote_to_be_reexecuted": false,
    "source_hash": "3f500048",
    "execution_start": 1642933710978,
    "execution_millis": 0,
    "deepnote_cell_type": "code"
   },
   "source": "team, index = display_fanta_squad(predictions, teams, index)",
   "outputs": [],
   "execution_count": 17
  },
  {
   "cell_type": "code",
   "source": "_deepnote_run_altair(team, \"\"\"{\"$schema\":\"https://vega.github.io/schema/vega-lite/v4.json\",\"mark\":{\"type\":\"bar\",\"tooltip\":{\"content\":\"data\"}},\"height\":220,\"autosize\":{\"type\":\"fit\"},\"data\":{\"name\":\"placeholder\"},\"encoding\":{\"x\":{\"field\":\"expected_bonus\",\"type\":\"quantitative\",\"sort\":null,\"scale\":{\"type\":\"linear\",\"zero\":false}},\"y\":{\"field\":\"player\",\"type\":\"nominal\",\"sort\":null,\"scale\":{\"type\":\"linear\",\"zero\":true}},\"color\":{\"field\":\"role\",\"type\":\"nominal\",\"sort\":null,\"scale\":{\"type\":\"linear\",\"zero\":false}}}}\"\"\")",
   "metadata": {
    "cell_id": "f2a82479-5e7d-4027-8358-566cecfd00e7",
    "deepnote_variable_name": "team",
    "deepnote_visualization_spec": {
     "$schema": "https://vega.github.io/schema/vega-lite/v4.json",
     "mark": {
      "type": "bar",
      "tooltip": {
       "content": "data"
      }
     },
     "height": 220,
     "autosize": {
      "type": "fit"
     },
     "data": {
      "name": "placeholder"
     },
     "encoding": {
      "x": {
       "field": "expected_bonus",
       "type": "quantitative",
       "sort": null,
       "scale": {
        "type": "linear",
        "zero": false
       }
      },
      "y": {
       "field": "player",
       "type": "nominal",
       "sort": null,
       "scale": {
        "type": "linear",
        "zero": true
       }
      },
      "color": {
       "field": "role",
       "type": "nominal",
       "sort": null,
       "scale": {
        "type": "linear",
        "zero": false
       }
      }
     }
    },
    "deepnote_to_be_reexecuted": false,
    "source_hash": "e68de25e",
    "execution_start": 1642933710978,
    "execution_millis": 240,
    "deepnote_output_heights": [
     314
    ],
    "allow_embed": "output",
    "deepnote_cell_type": "visualization"
   },
   "outputs": [
    {
     "output_type": "execute_result",
     "execution_count": 18,
     "data": {
      "text/html": "\n<div id=\"altair-viz-4aa3153e7ca94a8f84d654b43159b76f\"></div>\n<script type=\"text/javascript\">\n  (function(spec, embedOpt){\n    let outputDiv = document.currentScript.previousElementSibling;\n    if (outputDiv.id !== \"altair-viz-4aa3153e7ca94a8f84d654b43159b76f\") {\n      outputDiv = document.getElementById(\"altair-viz-4aa3153e7ca94a8f84d654b43159b76f\");\n    }\n    const paths = {\n      \"vega\": \"https://cdn.jsdelivr.net/npm//vega@5?noext\",\n      \"vega-lib\": \"https://cdn.jsdelivr.net/npm//vega-lib?noext\",\n      \"vega-lite\": \"https://cdn.jsdelivr.net/npm//vega-lite@4.8.1?noext\",\n      \"vega-embed\": \"https://cdn.jsdelivr.net/npm//vega-embed@6?noext\",\n    };\n\n    function loadScript(lib) {\n      return new Promise(function(resolve, reject) {\n        var s = document.createElement('script');\n        s.src = paths[lib];\n        s.async = true;\n        s.onload = () => resolve(paths[lib]);\n        s.onerror = () => reject(`Error loading script: ${paths[lib]}`);\n        document.getElementsByTagName(\"head\")[0].appendChild(s);\n      });\n    }\n\n    function showError(err) {\n      outputDiv.innerHTML = `<div class=\"error\" style=\"color:red;\">${err}</div>`;\n      throw err;\n    }\n\n    function displayChart(vegaEmbed) {\n      vegaEmbed(outputDiv, spec, embedOpt)\n        .catch(err => showError(`Javascript Error: ${err.message}<br>This usually means there's a typo in your chart specification. See the javascript console for the full traceback.`));\n    }\n\n    if(typeof define === \"function\" && define.amd) {\n      requirejs.config({paths});\n      require([\"vega-embed\"], displayChart, err => showError(`Error loading script: ${err.message}`));\n    } else if (typeof vegaEmbed === \"function\") {\n      displayChart(vegaEmbed);\n    } else {\n      loadScript(\"vega\")\n        .then(() => loadScript(\"vega-lite\"))\n        .then(() => loadScript(\"vega-embed\"))\n        .catch(showError)\n        .then(() => displayChart(vegaEmbed));\n    }\n  })({\"config\": {\"view\": {\"continuousWidth\": 400, \"continuousHeight\": 300}, \"area\": {\"fill\": \"#51C0E9\"}, \"axis\": {\"labelFont\": \"Inter, sans-serif\", \"labelFontSize\": 12, \"labelFontWeight\": \"normal\", \"labelLimit\": 60, \"labelOverlap\": \"greedy\", \"titleFont\": \"Inter, sans-serif\", \"titleFontSize\": 12, \"titleFontWeight\": \"bold\"}, \"background\": \"#ffffff\", \"legend\": {\"labelFont\": \"Inter, sans-serif\", \"labelFontSize\": 12, \"titleFont\": \"Inter, sans-serif\", \"titleFontSize\": 12, \"titleFontWeight\": \"bold\"}, \"line\": {\"stroke\": \"#51C0E9\", \"strokeWidth\": 2}, \"rect\": {\"fill\": \"#51C0E9\"}, \"title\": {\"anchor\": \"start\", \"color\": \"#000000\", \"font\": \"Inter, sans-serif\", \"fontSize\": 22, \"fontWeight\": \"normal\"}}, \"data\": {\"name\": \"data-b17237d9a8b31ffdcdfa3cfebb8d5bf1\"}, \"mark\": {\"type\": \"bar\", \"tooltip\": {\"content\": \"data\"}}, \"autosize\": {\"type\": \"fit\"}, \"encoding\": {\"color\": {\"type\": \"nominal\", \"field\": \"role\", \"scale\": {\"type\": \"linear\", \"zero\": false}, \"sort\": null}, \"x\": {\"type\": \"quantitative\", \"field\": \"expected_bonus\", \"scale\": {\"type\": \"linear\", \"zero\": false}, \"sort\": null}, \"y\": {\"type\": \"nominal\", \"field\": \"player\", \"scale\": {\"type\": \"linear\", \"zero\": true}, \"sort\": null}}, \"height\": 300, \"width\": \"container\", \"$schema\": \"https://vega.github.io/schema/vega-lite/v4.json\", \"datasets\": {\"data-b17237d9a8b31ffdcdfa3cfebb8d5bf1\": [{\"fanta_team\": \"Beverly INPS\", \"role\": \"D\", \"player\": \"Cuadrado\", \"home_team\": \"AC Milan\", \"away_team\": \"Juventus\", \"date\": \"2022-01-23T00:00:00\", \"expected_bonus\": 0.303049236536026}, {\"fanta_team\": \"Beverly INPS\", \"role\": \"D\", \"player\": \"Lorenzo\", \"home_team\": \"Napoli\", \"away_team\": \"Salernitana\", \"date\": \"2022-01-23T00:00:00\", \"expected_bonus\": 0.288526326417923}, {\"fanta_team\": \"Beverly INPS\", \"role\": \"D\", \"player\": \"Romagnoli\", \"home_team\": \"AC Milan\", \"away_team\": \"Juventus\", \"date\": \"2022-01-23T00:00:00\", \"expected_bonus\": 0.14774474501609802}, {\"fanta_team\": \"Beverly INPS\", \"role\": \"D\", \"player\": \"Kjaer\", \"home_team\": \"AC Milan\", \"away_team\": \"Juventus\", \"date\": \"2022-01-23T00:00:00\", \"expected_bonus\": 0.12476865947246552}, {\"fanta_team\": \"Beverly INPS\", \"role\": \"C\", \"player\": \"Zielinski\", \"home_team\": \"Napoli\", \"away_team\": \"Salernitana\", \"date\": \"2022-01-23T00:00:00\", \"expected_bonus\": 1.3393661975860596}, {\"fanta_team\": \"Beverly INPS\", \"role\": \"C\", \"player\": \"Praet\", \"home_team\": \"Torino\", \"away_team\": \"Sassuolo\", \"date\": \"2022-01-23T00:00:00\", \"expected_bonus\": 0.7462018132209778}, {\"fanta_team\": \"Beverly INPS\", \"role\": \"C\", \"player\": \"Callej\\u00f3n\", \"home_team\": \"Cagliari\", \"away_team\": \"Fiorentina\", \"date\": \"2022-01-23T00:00:00\", \"expected_bonus\": 0.6757221817970276}, {\"fanta_team\": \"Beverly INPS\", \"role\": \"C\", \"player\": \"Elmas\", \"home_team\": \"Napoli\", \"away_team\": \"Salernitana\", \"date\": \"2022-01-23T00:00:00\", \"expected_bonus\": 0.5118928551673889}, {\"fanta_team\": \"Beverly INPS\", \"role\": \"C\", \"player\": \"Kessi\\u00e9\", \"home_team\": \"AC Milan\", \"away_team\": \"Juventus\", \"date\": \"2022-01-23T00:00:00\", \"expected_bonus\": 0.39295250177383423}, {\"fanta_team\": \"Beverly INPS\", \"role\": \"C\", \"player\": \"Kulusevski\", \"home_team\": \"AC Milan\", \"away_team\": \"Juventus\", \"date\": \"2022-01-23T00:00:00\", \"expected_bonus\": 0.3104499876499176}, {\"fanta_team\": \"Beverly INPS\", \"role\": \"A\", \"player\": \"Mertens\", \"home_team\": \"Napoli\", \"away_team\": \"Salernitana\", \"date\": \"2022-01-23T00:00:00\", \"expected_bonus\": 1.921597957611084}, {\"fanta_team\": \"Beverly INPS\", \"role\": \"A\", \"player\": \"Gonz\\u00e1lez\", \"home_team\": \"Cagliari\", \"away_team\": \"Fiorentina\", \"date\": \"2022-01-23T00:00:00\", \"expected_bonus\": 1.1511586904525757}, {\"fanta_team\": \"Beverly INPS\", \"role\": \"A\", \"player\": \"Berardi\", \"home_team\": \"Torino\", \"away_team\": \"Sassuolo\", \"date\": \"2022-01-23T00:00:00\", \"expected_bonus\": 0.9839850068092346}, {\"fanta_team\": \"Beverly INPS\", \"role\": \"A\", \"player\": \"Nzola\", \"home_team\": \"Spezia\", \"away_team\": \"Sampdoria\", \"date\": \"2022-01-23T00:00:00\", \"expected_bonus\": 0.9773635864257812}]}}, {\"actions\": false, \"mode\": \"vega-lite\"});\n</script>",
      "text/plain": "alt.Chart(...)"
     },
     "metadata": {}
    }
   ],
   "execution_count": 18
  },
  {
   "cell_type": "code",
   "metadata": {
    "cell_id": "916c19f8-a9c2-4762-8c8c-98800652248f",
    "tags": [],
    "deepnote_to_be_reexecuted": false,
    "source_hash": "3f500048",
    "execution_start": 1642933711118,
    "execution_millis": 0,
    "deepnote_cell_type": "code"
   },
   "source": "team, index = display_fanta_squad(predictions, teams, index)",
   "outputs": [],
   "execution_count": 19
  },
  {
   "cell_type": "code",
   "source": "_deepnote_run_altair(team, \"\"\"{\"$schema\":\"https://vega.github.io/schema/vega-lite/v4.json\",\"mark\":{\"type\":\"bar\",\"tooltip\":{\"content\":\"data\"}},\"height\":220,\"autosize\":{\"type\":\"fit\"},\"data\":{\"name\":\"placeholder\"},\"encoding\":{\"x\":{\"field\":\"expected_bonus\",\"type\":\"quantitative\",\"sort\":null,\"scale\":{\"type\":\"linear\",\"zero\":false}},\"y\":{\"field\":\"player\",\"type\":\"nominal\",\"sort\":null,\"scale\":{\"type\":\"linear\",\"zero\":true}},\"color\":{\"field\":\"role\",\"type\":\"nominal\",\"sort\":null,\"scale\":{\"type\":\"linear\",\"zero\":false}}}}\"\"\")",
   "metadata": {
    "cell_id": "25c33c88-5e5c-405a-a0c8-3800930b7e22",
    "deepnote_variable_name": "team",
    "deepnote_visualization_spec": {
     "$schema": "https://vega.github.io/schema/vega-lite/v4.json",
     "mark": {
      "type": "bar",
      "tooltip": {
       "content": "data"
      }
     },
     "height": 220,
     "autosize": {
      "type": "fit"
     },
     "data": {
      "name": "placeholder"
     },
     "encoding": {
      "x": {
       "field": "expected_bonus",
       "type": "quantitative",
       "sort": null,
       "scale": {
        "type": "linear",
        "zero": false
       }
      },
      "y": {
       "field": "player",
       "type": "nominal",
       "sort": null,
       "scale": {
        "type": "linear",
        "zero": true
       }
      },
      "color": {
       "field": "role",
       "type": "nominal",
       "sort": null,
       "scale": {
        "type": "linear",
        "zero": false
       }
      }
     }
    },
    "deepnote_to_be_reexecuted": false,
    "source_hash": "e68de25e",
    "execution_start": 1642933711118,
    "execution_millis": 152,
    "deepnote_output_heights": [
     314
    ],
    "allow_embed": true,
    "deepnote_cell_type": "visualization"
   },
   "outputs": [
    {
     "output_type": "execute_result",
     "execution_count": 20,
     "data": {
      "text/html": "\n<div id=\"altair-viz-0e0581b1aa7d4311876ad81267348d7e\"></div>\n<script type=\"text/javascript\">\n  (function(spec, embedOpt){\n    let outputDiv = document.currentScript.previousElementSibling;\n    if (outputDiv.id !== \"altair-viz-0e0581b1aa7d4311876ad81267348d7e\") {\n      outputDiv = document.getElementById(\"altair-viz-0e0581b1aa7d4311876ad81267348d7e\");\n    }\n    const paths = {\n      \"vega\": \"https://cdn.jsdelivr.net/npm//vega@5?noext\",\n      \"vega-lib\": \"https://cdn.jsdelivr.net/npm//vega-lib?noext\",\n      \"vega-lite\": \"https://cdn.jsdelivr.net/npm//vega-lite@4.8.1?noext\",\n      \"vega-embed\": \"https://cdn.jsdelivr.net/npm//vega-embed@6?noext\",\n    };\n\n    function loadScript(lib) {\n      return new Promise(function(resolve, reject) {\n        var s = document.createElement('script');\n        s.src = paths[lib];\n        s.async = true;\n        s.onload = () => resolve(paths[lib]);\n        s.onerror = () => reject(`Error loading script: ${paths[lib]}`);\n        document.getElementsByTagName(\"head\")[0].appendChild(s);\n      });\n    }\n\n    function showError(err) {\n      outputDiv.innerHTML = `<div class=\"error\" style=\"color:red;\">${err}</div>`;\n      throw err;\n    }\n\n    function displayChart(vegaEmbed) {\n      vegaEmbed(outputDiv, spec, embedOpt)\n        .catch(err => showError(`Javascript Error: ${err.message}<br>This usually means there's a typo in your chart specification. See the javascript console for the full traceback.`));\n    }\n\n    if(typeof define === \"function\" && define.amd) {\n      requirejs.config({paths});\n      require([\"vega-embed\"], displayChart, err => showError(`Error loading script: ${err.message}`));\n    } else if (typeof vegaEmbed === \"function\") {\n      displayChart(vegaEmbed);\n    } else {\n      loadScript(\"vega\")\n        .then(() => loadScript(\"vega-lite\"))\n        .then(() => loadScript(\"vega-embed\"))\n        .catch(showError)\n        .then(() => displayChart(vegaEmbed));\n    }\n  })({\"config\": {\"view\": {\"continuousWidth\": 400, \"continuousHeight\": 300}, \"area\": {\"fill\": \"#51C0E9\"}, \"axis\": {\"labelFont\": \"Inter, sans-serif\", \"labelFontSize\": 12, \"labelFontWeight\": \"normal\", \"labelLimit\": 60, \"labelOverlap\": \"greedy\", \"titleFont\": \"Inter, sans-serif\", \"titleFontSize\": 12, \"titleFontWeight\": \"bold\"}, \"background\": \"#ffffff\", \"legend\": {\"labelFont\": \"Inter, sans-serif\", \"labelFontSize\": 12, \"titleFont\": \"Inter, sans-serif\", \"titleFontSize\": 12, \"titleFontWeight\": \"bold\"}, \"line\": {\"stroke\": \"#51C0E9\", \"strokeWidth\": 2}, \"rect\": {\"fill\": \"#51C0E9\"}, \"title\": {\"anchor\": \"start\", \"color\": \"#000000\", \"font\": \"Inter, sans-serif\", \"fontSize\": 22, \"fontWeight\": \"normal\"}}, \"data\": {\"name\": \"data-0700806ae82bcc63a2a76b171da03f80\"}, \"mark\": {\"type\": \"bar\", \"tooltip\": {\"content\": \"data\"}}, \"autosize\": {\"type\": \"fit\"}, \"encoding\": {\"color\": {\"type\": \"nominal\", \"field\": \"role\", \"scale\": {\"type\": \"linear\", \"zero\": false}, \"sort\": null}, \"x\": {\"type\": \"quantitative\", \"field\": \"expected_bonus\", \"scale\": {\"type\": \"linear\", \"zero\": false}, \"sort\": null}, \"y\": {\"type\": \"nominal\", \"field\": \"player\", \"scale\": {\"type\": \"linear\", \"zero\": true}, \"sort\": null}}, \"height\": 300, \"width\": \"container\", \"$schema\": \"https://vega.github.io/schema/vega-lite/v4.json\", \"datasets\": {\"data-0700806ae82bcc63a2a76b171da03f80\": [{\"fanta_team\": \"MEZAFE\", \"role\": \"D\", \"player\": \"Bonucci\", \"home_team\": \"AC Milan\", \"away_team\": \"Juventus\", \"date\": \"2022-01-23T00:00:00\", \"expected_bonus\": 0.26073384284973145}, {\"fanta_team\": \"MEZAFE\", \"role\": \"D\", \"player\": \"Nastasic\", \"home_team\": \"Cagliari\", \"away_team\": \"Fiorentina\", \"date\": \"2022-01-23T00:00:00\", \"expected_bonus\": 0.1466449648141861}, {\"fanta_team\": \"MEZAFE\", \"role\": \"D\", \"player\": \"Danilo\", \"home_team\": \"AC Milan\", \"away_team\": \"Juventus\", \"date\": \"2022-01-23T00:00:00\", \"expected_bonus\": 0.12400282919406891}, {\"fanta_team\": \"MEZAFE\", \"role\": \"D\", \"player\": \"Chiellini\", \"home_team\": \"AC Milan\", \"away_team\": \"Juventus\", \"date\": \"2022-01-23T00:00:00\", \"expected_bonus\": 0.10373366624116898}, {\"fanta_team\": \"MEZAFE\", \"role\": \"C\", \"player\": \"Verdi\", \"home_team\": \"Torino\", \"away_team\": \"Sassuolo\", \"date\": \"2022-01-23T00:00:00\", \"expected_bonus\": 0.529930830001831}, {\"fanta_team\": \"MEZAFE\", \"role\": \"C\", \"player\": \"Saelemaekers\", \"home_team\": \"AC Milan\", \"away_team\": \"Juventus\", \"date\": \"2022-01-23T00:00:00\", \"expected_bonus\": 0.4660375714302063}, {\"fanta_team\": \"MEZAFE\", \"role\": \"C\", \"player\": \"Cristante\", \"home_team\": \"Empoli\", \"away_team\": \"Roma\", \"date\": \"2022-01-23T00:00:00\", \"expected_bonus\": 0.38061848282814026}, {\"fanta_team\": \"MEZAFE\", \"role\": \"C\", \"player\": \"McKennie\", \"home_team\": \"AC Milan\", \"away_team\": \"Juventus\", \"date\": \"2022-01-23T00:00:00\", \"expected_bonus\": 0.3455580770969391}, {\"fanta_team\": \"MEZAFE\", \"role\": \"C\", \"player\": \"Tonali\", \"home_team\": \"AC Milan\", \"away_team\": \"Juventus\", \"date\": \"2022-01-23T00:00:00\", \"expected_bonus\": 0.2823481261730194}, {\"fanta_team\": \"MEZAFE\", \"role\": \"C\", \"player\": \"Castrovilli\", \"home_team\": \"Cagliari\", \"away_team\": \"Fiorentina\", \"date\": \"2022-01-23T00:00:00\", \"expected_bonus\": 0.24080628156661987}, {\"fanta_team\": \"MEZAFE\", \"role\": \"A\", \"player\": \"Dybala\", \"home_team\": \"AC Milan\", \"away_team\": \"Juventus\", \"date\": \"2022-01-23T00:00:00\", \"expected_bonus\": 1.1564357280731201}, {\"fanta_team\": \"MEZAFE\", \"role\": \"A\", \"player\": \"Quagliarella\", \"home_team\": \"Spezia\", \"away_team\": \"Sampdoria\", \"date\": \"2022-01-23T00:00:00\", \"expected_bonus\": 1.0267826318740845}, {\"fanta_team\": \"MEZAFE\", \"role\": \"A\", \"player\": \"Rebic\", \"home_team\": \"AC Milan\", \"away_team\": \"Juventus\", \"date\": \"2022-01-23T00:00:00\", \"expected_bonus\": 0.3322557806968689}, {\"fanta_team\": \"MEZAFE\", \"role\": \"A\", \"player\": \"Kean\", \"home_team\": \"AC Milan\", \"away_team\": \"Juventus\", \"date\": \"2022-01-23T00:00:00\", \"expected_bonus\": 0.2476353943347931}]}}, {\"actions\": false, \"mode\": \"vega-lite\"});\n</script>",
      "text/plain": "alt.Chart(...)"
     },
     "metadata": {}
    }
   ],
   "execution_count": 20
  },
  {
   "cell_type": "code",
   "metadata": {
    "cell_id": "276bd398-b660-4090-92fd-fb77fc80292b",
    "tags": [],
    "deepnote_to_be_reexecuted": false,
    "source_hash": "3f500048",
    "execution_start": 1642933711225,
    "execution_millis": 8,
    "deepnote_cell_type": "code"
   },
   "source": "team, index = display_fanta_squad(predictions, teams, index)",
   "outputs": [],
   "execution_count": 21
  },
  {
   "cell_type": "code",
   "source": "_deepnote_run_altair(team, \"\"\"{\"$schema\":\"https://vega.github.io/schema/vega-lite/v4.json\",\"mark\":{\"type\":\"bar\",\"tooltip\":{\"content\":\"data\"}},\"height\":220,\"autosize\":{\"type\":\"fit\"},\"data\":{\"name\":\"placeholder\"},\"encoding\":{\"x\":{\"field\":\"expected_bonus\",\"type\":\"quantitative\",\"sort\":null,\"scale\":{\"type\":\"linear\",\"zero\":false}},\"y\":{\"field\":\"player\",\"type\":\"nominal\",\"sort\":null,\"scale\":{\"type\":\"linear\",\"zero\":true}},\"color\":{\"field\":\"role\",\"type\":\"nominal\",\"sort\":null,\"scale\":{\"type\":\"linear\",\"zero\":false}}}}\"\"\")",
   "metadata": {
    "cell_id": "81adbb4a-773d-4067-8e05-9a828af1216c",
    "deepnote_variable_name": "team",
    "deepnote_visualization_spec": {
     "$schema": "https://vega.github.io/schema/vega-lite/v4.json",
     "mark": {
      "type": "bar",
      "tooltip": {
       "content": "data"
      }
     },
     "height": 220,
     "autosize": {
      "type": "fit"
     },
     "data": {
      "name": "placeholder"
     },
     "encoding": {
      "x": {
       "field": "expected_bonus",
       "type": "quantitative",
       "sort": null,
       "scale": {
        "type": "linear",
        "zero": false
       }
      },
      "y": {
       "field": "player",
       "type": "nominal",
       "sort": null,
       "scale": {
        "type": "linear",
        "zero": true
       }
      },
      "color": {
       "field": "role",
       "type": "nominal",
       "sort": null,
       "scale": {
        "type": "linear",
        "zero": false
       }
      }
     }
    },
    "deepnote_to_be_reexecuted": false,
    "source_hash": "e68de25e",
    "execution_start": 1642933711259,
    "execution_millis": 169,
    "deepnote_output_heights": [
     314
    ],
    "allow_embed": "output",
    "deepnote_cell_type": "visualization"
   },
   "outputs": [
    {
     "output_type": "execute_result",
     "execution_count": 22,
     "data": {
      "text/html": "\n<div id=\"altair-viz-1b3f35b15a7846e6b804280697b1de2b\"></div>\n<script type=\"text/javascript\">\n  (function(spec, embedOpt){\n    let outputDiv = document.currentScript.previousElementSibling;\n    if (outputDiv.id !== \"altair-viz-1b3f35b15a7846e6b804280697b1de2b\") {\n      outputDiv = document.getElementById(\"altair-viz-1b3f35b15a7846e6b804280697b1de2b\");\n    }\n    const paths = {\n      \"vega\": \"https://cdn.jsdelivr.net/npm//vega@5?noext\",\n      \"vega-lib\": \"https://cdn.jsdelivr.net/npm//vega-lib?noext\",\n      \"vega-lite\": \"https://cdn.jsdelivr.net/npm//vega-lite@4.8.1?noext\",\n      \"vega-embed\": \"https://cdn.jsdelivr.net/npm//vega-embed@6?noext\",\n    };\n\n    function loadScript(lib) {\n      return new Promise(function(resolve, reject) {\n        var s = document.createElement('script');\n        s.src = paths[lib];\n        s.async = true;\n        s.onload = () => resolve(paths[lib]);\n        s.onerror = () => reject(`Error loading script: ${paths[lib]}`);\n        document.getElementsByTagName(\"head\")[0].appendChild(s);\n      });\n    }\n\n    function showError(err) {\n      outputDiv.innerHTML = `<div class=\"error\" style=\"color:red;\">${err}</div>`;\n      throw err;\n    }\n\n    function displayChart(vegaEmbed) {\n      vegaEmbed(outputDiv, spec, embedOpt)\n        .catch(err => showError(`Javascript Error: ${err.message}<br>This usually means there's a typo in your chart specification. See the javascript console for the full traceback.`));\n    }\n\n    if(typeof define === \"function\" && define.amd) {\n      requirejs.config({paths});\n      require([\"vega-embed\"], displayChart, err => showError(`Error loading script: ${err.message}`));\n    } else if (typeof vegaEmbed === \"function\") {\n      displayChart(vegaEmbed);\n    } else {\n      loadScript(\"vega\")\n        .then(() => loadScript(\"vega-lite\"))\n        .then(() => loadScript(\"vega-embed\"))\n        .catch(showError)\n        .then(() => displayChart(vegaEmbed));\n    }\n  })({\"config\": {\"view\": {\"continuousWidth\": 400, \"continuousHeight\": 300}, \"area\": {\"fill\": \"#51C0E9\"}, \"axis\": {\"labelFont\": \"Inter, sans-serif\", \"labelFontSize\": 12, \"labelFontWeight\": \"normal\", \"labelLimit\": 60, \"labelOverlap\": \"greedy\", \"titleFont\": \"Inter, sans-serif\", \"titleFontSize\": 12, \"titleFontWeight\": \"bold\"}, \"background\": \"#ffffff\", \"legend\": {\"labelFont\": \"Inter, sans-serif\", \"labelFontSize\": 12, \"titleFont\": \"Inter, sans-serif\", \"titleFontSize\": 12, \"titleFontWeight\": \"bold\"}, \"line\": {\"stroke\": \"#51C0E9\", \"strokeWidth\": 2}, \"rect\": {\"fill\": \"#51C0E9\"}, \"title\": {\"anchor\": \"start\", \"color\": \"#000000\", \"font\": \"Inter, sans-serif\", \"fontSize\": 22, \"fontWeight\": \"normal\"}}, \"data\": {\"name\": \"data-70a47906471c688efe9e0ac8b6b5947e\"}, \"mark\": {\"type\": \"bar\", \"tooltip\": {\"content\": \"data\"}}, \"autosize\": {\"type\": \"fit\"}, \"encoding\": {\"color\": {\"type\": \"nominal\", \"field\": \"role\", \"scale\": {\"type\": \"linear\", \"zero\": false}, \"sort\": null}, \"x\": {\"type\": \"quantitative\", \"field\": \"expected_bonus\", \"scale\": {\"type\": \"linear\", \"zero\": false}, \"sort\": null}, \"y\": {\"type\": \"nominal\", \"field\": \"player\", \"scale\": {\"type\": \"linear\", \"zero\": true}, \"sort\": null}}, \"height\": 300, \"width\": \"container\", \"$schema\": \"https://vega.github.io/schema/vega-lite/v4.json\", \"datasets\": {\"data-70a47906471c688efe9e0ac8b6b5947e\": [{\"fanta_team\": \"MaiNa Joya_v2.0\", \"role\": \"D\", \"player\": \"Hern\\u00e1ndez\", \"home_team\": \"AC Milan\", \"away_team\": \"Juventus\", \"date\": \"2022-01-23T00:00:00\", \"expected_bonus\": 0.384065181016922}, {\"fanta_team\": \"MaiNa Joya_v2.0\", \"role\": \"D\", \"player\": \"Milenkovic\", \"home_team\": \"Cagliari\", \"away_team\": \"Fiorentina\", \"date\": \"2022-01-23T00:00:00\", \"expected_bonus\": 0.22756502032279968}, {\"fanta_team\": \"MaiNa Joya_v2.0\", \"role\": \"D\", \"player\": \"Stojanovic\", \"home_team\": \"Empoli\", \"away_team\": \"Roma\", \"date\": \"2022-01-23T00:00:00\", \"expected_bonus\": 0.14432021975517273}, {\"fanta_team\": \"MaiNa Joya_v2.0\", \"role\": \"D\", \"player\": \"God\\u00edn\", \"home_team\": \"Cagliari\", \"away_team\": \"Fiorentina\", \"date\": \"2022-01-23T00:00:00\", \"expected_bonus\": 0.11739544570446014}, {\"fanta_team\": \"MaiNa Joya_v2.0\", \"role\": \"D\", \"player\": \"Ferrari\", \"home_team\": \"Torino\", \"away_team\": \"Sassuolo\", \"date\": \"2022-01-23T00:00:00\", \"expected_bonus\": 0.11583653837442398}, {\"fanta_team\": \"MaiNa Joya_v2.0\", \"role\": \"D\", \"player\": \"Ruggeri\", \"home_team\": \"Napoli\", \"away_team\": \"Salernitana\", \"date\": \"2022-01-23T00:00:00\", \"expected_bonus\": 0.09147123992443085}, {\"fanta_team\": \"MaiNa Joya_v2.0\", \"role\": \"C\", \"player\": \"Veretout\", \"home_team\": \"Empoli\", \"away_team\": \"Roma\", \"date\": \"2022-01-23T00:00:00\", \"expected_bonus\": 0.8520027995109558}, {\"fanta_team\": \"MaiNa Joya_v2.0\", \"role\": \"C\", \"player\": \"Bajrami\", \"home_team\": \"Empoli\", \"away_team\": \"Roma\", \"date\": \"2022-01-23T00:00:00\", \"expected_bonus\": 0.7234240174293518}, {\"fanta_team\": \"MaiNa Joya_v2.0\", \"role\": \"C\", \"player\": \"Djuricic\", \"home_team\": \"Torino\", \"away_team\": \"Sassuolo\", \"date\": \"2022-01-23T00:00:00\", \"expected_bonus\": 0.6519454121589661}, {\"fanta_team\": \"MaiNa Joya_v2.0\", \"role\": \"C\", \"player\": \"Pobega\", \"home_team\": \"Torino\", \"away_team\": \"Sassuolo\", \"date\": \"2022-01-23T00:00:00\", \"expected_bonus\": 0.6142224669456482}, {\"fanta_team\": \"MaiNa Joya_v2.0\", \"role\": \"C\", \"player\": \"Maleh\", \"home_team\": \"Cagliari\", \"away_team\": \"Fiorentina\", \"date\": \"2022-01-23T00:00:00\", \"expected_bonus\": 0.4800092577934265}, {\"fanta_team\": \"MaiNa Joya_v2.0\", \"role\": \"A\", \"player\": \"Insigne\", \"home_team\": \"Napoli\", \"away_team\": \"Salernitana\", \"date\": \"2022-01-23T00:00:00\", \"expected_bonus\": 2.0879504680633545}, {\"fanta_team\": \"MaiNa Joya_v2.0\", \"role\": \"A\", \"player\": \"Abraham\", \"home_team\": \"Empoli\", \"away_team\": \"Roma\", \"date\": \"2022-01-23T00:00:00\", \"expected_bonus\": 2.052821397781372}, {\"fanta_team\": \"MaiNa Joya_v2.0\", \"role\": \"A\", \"player\": \"Brekalo\", \"home_team\": \"Torino\", \"away_team\": \"Sassuolo\", \"date\": \"2022-01-23T00:00:00\", \"expected_bonus\": 0.9093608260154724}, {\"fanta_team\": \"MaiNa Joya_v2.0\", \"role\": \"A\", \"player\": \"Cutrone\", \"home_team\": \"Empoli\", \"away_team\": \"Roma\", \"date\": \"2022-01-23T00:00:00\", \"expected_bonus\": 0.7953799962997437}]}}, {\"actions\": false, \"mode\": \"vega-lite\"});\n</script>",
      "text/plain": "alt.Chart(...)"
     },
     "metadata": {}
    }
   ],
   "execution_count": 22
  },
  {
   "cell_type": "code",
   "metadata": {
    "cell_id": "93a5bb8d-d964-4fc6-b796-3c672a8d7c5d",
    "tags": [],
    "deepnote_to_be_reexecuted": false,
    "source_hash": "3f500048",
    "execution_start": 1642933711427,
    "execution_millis": 43666468,
    "deepnote_cell_type": "code"
   },
   "source": "team, index = display_fanta_squad(predictions, teams, index)",
   "outputs": [],
   "execution_count": 23
  },
  {
   "cell_type": "code",
   "source": "_deepnote_run_altair(team, \"\"\"{\"$schema\":\"https://vega.github.io/schema/vega-lite/v4.json\",\"mark\":{\"type\":\"bar\",\"tooltip\":{\"content\":\"data\"}},\"height\":220,\"autosize\":{\"type\":\"fit\"},\"data\":{\"name\":\"placeholder\"},\"encoding\":{\"x\":{\"field\":\"expected_bonus\",\"type\":\"quantitative\",\"sort\":null,\"scale\":{\"type\":\"linear\",\"zero\":false}},\"y\":{\"field\":\"player\",\"type\":\"nominal\",\"sort\":null,\"scale\":{\"type\":\"linear\",\"zero\":true}},\"color\":{\"field\":\"role\",\"type\":\"nominal\",\"sort\":null,\"scale\":{\"type\":\"linear\",\"zero\":false}}}}\"\"\")",
   "metadata": {
    "cell_id": "db709fde-6755-4bf6-9963-b66a19b9805d",
    "deepnote_variable_name": "team",
    "deepnote_visualization_spec": {
     "$schema": "https://vega.github.io/schema/vega-lite/v4.json",
     "mark": {
      "type": "bar",
      "tooltip": {
       "content": "data"
      }
     },
     "height": 220,
     "autosize": {
      "type": "fit"
     },
     "data": {
      "name": "placeholder"
     },
     "encoding": {
      "x": {
       "field": "expected_bonus",
       "type": "quantitative",
       "sort": null,
       "scale": {
        "type": "linear",
        "zero": false
       }
      },
      "y": {
       "field": "player",
       "type": "nominal",
       "sort": null,
       "scale": {
        "type": "linear",
        "zero": true
       }
      },
      "color": {
       "field": "role",
       "type": "nominal",
       "sort": null,
       "scale": {
        "type": "linear",
        "zero": false
       }
      }
     }
    },
    "deepnote_to_be_reexecuted": false,
    "source_hash": "e68de25e",
    "execution_start": 1642933711428,
    "execution_millis": 203,
    "deepnote_output_heights": [
     314
    ],
    "allow_embed": "output",
    "deepnote_cell_type": "visualization"
   },
   "outputs": [
    {
     "output_type": "execute_result",
     "execution_count": 24,
     "data": {
      "text/html": "\n<div id=\"altair-viz-423c4234e68c4f32a997c65f2ea827fe\"></div>\n<script type=\"text/javascript\">\n  (function(spec, embedOpt){\n    let outputDiv = document.currentScript.previousElementSibling;\n    if (outputDiv.id !== \"altair-viz-423c4234e68c4f32a997c65f2ea827fe\") {\n      outputDiv = document.getElementById(\"altair-viz-423c4234e68c4f32a997c65f2ea827fe\");\n    }\n    const paths = {\n      \"vega\": \"https://cdn.jsdelivr.net/npm//vega@5?noext\",\n      \"vega-lib\": \"https://cdn.jsdelivr.net/npm//vega-lib?noext\",\n      \"vega-lite\": \"https://cdn.jsdelivr.net/npm//vega-lite@4.8.1?noext\",\n      \"vega-embed\": \"https://cdn.jsdelivr.net/npm//vega-embed@6?noext\",\n    };\n\n    function loadScript(lib) {\n      return new Promise(function(resolve, reject) {\n        var s = document.createElement('script');\n        s.src = paths[lib];\n        s.async = true;\n        s.onload = () => resolve(paths[lib]);\n        s.onerror = () => reject(`Error loading script: ${paths[lib]}`);\n        document.getElementsByTagName(\"head\")[0].appendChild(s);\n      });\n    }\n\n    function showError(err) {\n      outputDiv.innerHTML = `<div class=\"error\" style=\"color:red;\">${err}</div>`;\n      throw err;\n    }\n\n    function displayChart(vegaEmbed) {\n      vegaEmbed(outputDiv, spec, embedOpt)\n        .catch(err => showError(`Javascript Error: ${err.message}<br>This usually means there's a typo in your chart specification. See the javascript console for the full traceback.`));\n    }\n\n    if(typeof define === \"function\" && define.amd) {\n      requirejs.config({paths});\n      require([\"vega-embed\"], displayChart, err => showError(`Error loading script: ${err.message}`));\n    } else if (typeof vegaEmbed === \"function\") {\n      displayChart(vegaEmbed);\n    } else {\n      loadScript(\"vega\")\n        .then(() => loadScript(\"vega-lite\"))\n        .then(() => loadScript(\"vega-embed\"))\n        .catch(showError)\n        .then(() => displayChart(vegaEmbed));\n    }\n  })({\"config\": {\"view\": {\"continuousWidth\": 400, \"continuousHeight\": 300}, \"area\": {\"fill\": \"#51C0E9\"}, \"axis\": {\"labelFont\": \"Inter, sans-serif\", \"labelFontSize\": 12, \"labelFontWeight\": \"normal\", \"labelLimit\": 60, \"labelOverlap\": \"greedy\", \"titleFont\": \"Inter, sans-serif\", \"titleFontSize\": 12, \"titleFontWeight\": \"bold\"}, \"background\": \"#ffffff\", \"legend\": {\"labelFont\": \"Inter, sans-serif\", \"labelFontSize\": 12, \"titleFont\": \"Inter, sans-serif\", \"titleFontSize\": 12, \"titleFontWeight\": \"bold\"}, \"line\": {\"stroke\": \"#51C0E9\", \"strokeWidth\": 2}, \"rect\": {\"fill\": \"#51C0E9\"}, \"title\": {\"anchor\": \"start\", \"color\": \"#000000\", \"font\": \"Inter, sans-serif\", \"fontSize\": 22, \"fontWeight\": \"normal\"}}, \"data\": {\"name\": \"data-7075de8be13af772b886adc6084ed5e1\"}, \"mark\": {\"type\": \"bar\", \"tooltip\": {\"content\": \"data\"}}, \"autosize\": {\"type\": \"fit\"}, \"encoding\": {\"color\": {\"type\": \"nominal\", \"field\": \"role\", \"scale\": {\"type\": \"linear\", \"zero\": false}, \"sort\": null}, \"x\": {\"type\": \"quantitative\", \"field\": \"expected_bonus\", \"scale\": {\"type\": \"linear\", \"zero\": false}, \"sort\": null}, \"y\": {\"type\": \"nominal\", \"field\": \"player\", \"scale\": {\"type\": \"linear\", \"zero\": true}, \"sort\": null}}, \"height\": 300, \"width\": \"container\", \"$schema\": \"https://vega.github.io/schema/vega-lite/v4.json\", \"datasets\": {\"data-7075de8be13af772b886adc6084ed5e1\": [{\"fanta_team\": \"Rione Monti\", \"role\": \"D\", \"player\": \"Singo\", \"home_team\": \"Torino\", \"away_team\": \"Sassuolo\", \"date\": \"2022-01-23T00:00:00\", \"expected_bonus\": 0.4567893147468567}, {\"fanta_team\": \"Rione Monti\", \"role\": \"D\", \"player\": \"Biraghi\", \"home_team\": \"Cagliari\", \"away_team\": \"Fiorentina\", \"date\": \"2022-01-23T00:00:00\", \"expected_bonus\": 0.4535340666770935}, {\"fanta_team\": \"Rione Monti\", \"role\": \"D\", \"player\": \"Bastoni\", \"home_team\": \"Spezia\", \"away_team\": \"Sampdoria\", \"date\": \"2022-01-23T00:00:00\", \"expected_bonus\": 0.35125282406806946}, {\"fanta_team\": \"Rione Monti\", \"role\": \"D\", \"player\": \"Bremer\", \"home_team\": \"Torino\", \"away_team\": \"Sassuolo\", \"date\": \"2022-01-23T00:00:00\", \"expected_bonus\": 0.31778645515441895}, {\"fanta_team\": \"Rione Monti\", \"role\": \"D\", \"player\": \"Vi\\u00f1a\", \"home_team\": \"Empoli\", \"away_team\": \"Roma\", \"date\": \"2022-01-23T00:00:00\", \"expected_bonus\": 0.2233530730009079}, {\"fanta_team\": \"Rione Monti\", \"role\": \"D\", \"player\": \"Mancini\", \"home_team\": \"Empoli\", \"away_team\": \"Roma\", \"date\": \"2022-01-23T00:00:00\", \"expected_bonus\": 0.1994476467370987}, {\"fanta_team\": \"Rione Monti\", \"role\": \"C\", \"player\": \"Pellegrini\", \"home_team\": \"Empoli\", \"away_team\": \"Roma\", \"date\": \"2022-01-23T00:00:00\", \"expected_bonus\": 1.7358098030090332}, {\"fanta_team\": \"Rione Monti\", \"role\": \"C\", \"player\": \"Zaniolo\", \"home_team\": \"Empoli\", \"away_team\": \"Roma\", \"date\": \"2022-01-23T00:00:00\", \"expected_bonus\": 1.1186455488204956}, {\"fanta_team\": \"Rione Monti\", \"role\": \"C\", \"player\": \"Frattesi\", \"home_team\": \"Torino\", \"away_team\": \"Sassuolo\", \"date\": \"2022-01-23T00:00:00\", \"expected_bonus\": 0.5082986354827881}, {\"fanta_team\": \"Rione Monti\", \"role\": \"C\", \"player\": \"Damsgaard\", \"home_team\": \"Spezia\", \"away_team\": \"Sampdoria\", \"date\": \"2022-01-23T00:00:00\", \"expected_bonus\": 0.38147079944610596}, {\"fanta_team\": \"Rione Monti\", \"role\": \"C\", \"player\": \"Kovalenko\", \"home_team\": \"Spezia\", \"away_team\": \"Sampdoria\", \"date\": \"2022-01-23T00:00:00\", \"expected_bonus\": 0.21642453968524933}, {\"fanta_team\": \"Rione Monti\", \"role\": \"C\", \"player\": \"Strootman\", \"home_team\": \"Cagliari\", \"away_team\": \"Fiorentina\", \"date\": \"2022-01-23T00:00:00\", \"expected_bonus\": 0.12627211213111877}, {\"fanta_team\": \"Rione Monti\", \"role\": \"A\", \"player\": \"Ibrahimovic\", \"home_team\": \"AC Milan\", \"away_team\": \"Juventus\", \"date\": \"2022-01-23T00:00:00\", \"expected_bonus\": 1.568843960762024}, {\"fanta_team\": \"Rione Monti\", \"role\": \"A\", \"player\": \"Morata\", \"home_team\": \"AC Milan\", \"away_team\": \"Juventus\", \"date\": \"2022-01-23T00:00:00\", \"expected_bonus\": 0.8856647610664368}, {\"fanta_team\": \"Rione Monti\", \"role\": \"A\", \"player\": \"Shomurodov\", \"home_team\": \"Empoli\", \"away_team\": \"Roma\", \"date\": \"2022-01-23T00:00:00\", \"expected_bonus\": 0.8150517344474792}, {\"fanta_team\": \"Rione Monti\", \"role\": \"A\", \"player\": \"Raspadori\", \"home_team\": \"Torino\", \"away_team\": \"Sassuolo\", \"date\": \"2022-01-23T00:00:00\", \"expected_bonus\": 0.7274622917175293}]}}, {\"actions\": false, \"mode\": \"vega-lite\"});\n</script>",
      "text/plain": "alt.Chart(...)"
     },
     "metadata": {}
    }
   ],
   "execution_count": 24
  },
  {
   "cell_type": "code",
   "metadata": {
    "cell_id": "b4a0c2ea-9f90-4449-a274-c7c2f6a98238",
    "tags": [],
    "deepnote_to_be_reexecuted": false,
    "source_hash": "3f500048",
    "execution_start": 1642933711630,
    "execution_millis": 1,
    "deepnote_cell_type": "code"
   },
   "source": "team, index = display_fanta_squad(predictions, teams, index)",
   "outputs": [],
   "execution_count": 25
  },
  {
   "cell_type": "code",
   "source": "_deepnote_run_altair(team, \"\"\"{\"$schema\":\"https://vega.github.io/schema/vega-lite/v4.json\",\"mark\":{\"type\":\"bar\",\"tooltip\":{\"content\":\"data\"}},\"height\":220,\"autosize\":{\"type\":\"fit\"},\"data\":{\"name\":\"placeholder\"},\"encoding\":{\"x\":{\"field\":\"expected_bonus\",\"type\":\"quantitative\",\"sort\":null,\"scale\":{\"type\":\"linear\",\"zero\":false}},\"y\":{\"field\":\"player\",\"type\":\"nominal\",\"sort\":null,\"scale\":{\"type\":\"linear\",\"zero\":true}},\"color\":{\"field\":\"role\",\"type\":\"nominal\",\"sort\":null,\"scale\":{\"type\":\"linear\",\"zero\":false}}}}\"\"\")",
   "metadata": {
    "cell_id": "136e77e4-8edb-42d6-b134-ceefae4f53ce",
    "deepnote_variable_name": "team",
    "deepnote_visualization_spec": {
     "$schema": "https://vega.github.io/schema/vega-lite/v4.json",
     "mark": {
      "type": "bar",
      "tooltip": {
       "content": "data"
      }
     },
     "height": 220,
     "autosize": {
      "type": "fit"
     },
     "data": {
      "name": "placeholder"
     },
     "encoding": {
      "x": {
       "field": "expected_bonus",
       "type": "quantitative",
       "sort": null,
       "scale": {
        "type": "linear",
        "zero": false
       }
      },
      "y": {
       "field": "player",
       "type": "nominal",
       "sort": null,
       "scale": {
        "type": "linear",
        "zero": true
       }
      },
      "color": {
       "field": "role",
       "type": "nominal",
       "sort": null,
       "scale": {
        "type": "linear",
        "zero": false
       }
      }
     }
    },
    "deepnote_to_be_reexecuted": false,
    "source_hash": "e68de25e",
    "execution_start": 1642933711631,
    "execution_millis": 106,
    "deepnote_output_heights": [
     314
    ],
    "allow_embed": "output",
    "deepnote_cell_type": "visualization"
   },
   "outputs": [
    {
     "output_type": "execute_result",
     "execution_count": 26,
     "data": {
      "text/html": "\n<div id=\"altair-viz-5bdfc51c7b314c96b1194a8deb9502e8\"></div>\n<script type=\"text/javascript\">\n  (function(spec, embedOpt){\n    let outputDiv = document.currentScript.previousElementSibling;\n    if (outputDiv.id !== \"altair-viz-5bdfc51c7b314c96b1194a8deb9502e8\") {\n      outputDiv = document.getElementById(\"altair-viz-5bdfc51c7b314c96b1194a8deb9502e8\");\n    }\n    const paths = {\n      \"vega\": \"https://cdn.jsdelivr.net/npm//vega@5?noext\",\n      \"vega-lib\": \"https://cdn.jsdelivr.net/npm//vega-lib?noext\",\n      \"vega-lite\": \"https://cdn.jsdelivr.net/npm//vega-lite@4.8.1?noext\",\n      \"vega-embed\": \"https://cdn.jsdelivr.net/npm//vega-embed@6?noext\",\n    };\n\n    function loadScript(lib) {\n      return new Promise(function(resolve, reject) {\n        var s = document.createElement('script');\n        s.src = paths[lib];\n        s.async = true;\n        s.onload = () => resolve(paths[lib]);\n        s.onerror = () => reject(`Error loading script: ${paths[lib]}`);\n        document.getElementsByTagName(\"head\")[0].appendChild(s);\n      });\n    }\n\n    function showError(err) {\n      outputDiv.innerHTML = `<div class=\"error\" style=\"color:red;\">${err}</div>`;\n      throw err;\n    }\n\n    function displayChart(vegaEmbed) {\n      vegaEmbed(outputDiv, spec, embedOpt)\n        .catch(err => showError(`Javascript Error: ${err.message}<br>This usually means there's a typo in your chart specification. See the javascript console for the full traceback.`));\n    }\n\n    if(typeof define === \"function\" && define.amd) {\n      requirejs.config({paths});\n      require([\"vega-embed\"], displayChart, err => showError(`Error loading script: ${err.message}`));\n    } else if (typeof vegaEmbed === \"function\") {\n      displayChart(vegaEmbed);\n    } else {\n      loadScript(\"vega\")\n        .then(() => loadScript(\"vega-lite\"))\n        .then(() => loadScript(\"vega-embed\"))\n        .catch(showError)\n        .then(() => displayChart(vegaEmbed));\n    }\n  })({\"config\": {\"view\": {\"continuousWidth\": 400, \"continuousHeight\": 300}, \"area\": {\"fill\": \"#51C0E9\"}, \"axis\": {\"labelFont\": \"Inter, sans-serif\", \"labelFontSize\": 12, \"labelFontWeight\": \"normal\", \"labelLimit\": 60, \"labelOverlap\": \"greedy\", \"titleFont\": \"Inter, sans-serif\", \"titleFontSize\": 12, \"titleFontWeight\": \"bold\"}, \"background\": \"#ffffff\", \"legend\": {\"labelFont\": \"Inter, sans-serif\", \"labelFontSize\": 12, \"titleFont\": \"Inter, sans-serif\", \"titleFontSize\": 12, \"titleFontWeight\": \"bold\"}, \"line\": {\"stroke\": \"#51C0E9\", \"strokeWidth\": 2}, \"rect\": {\"fill\": \"#51C0E9\"}, \"title\": {\"anchor\": \"start\", \"color\": \"#000000\", \"font\": \"Inter, sans-serif\", \"fontSize\": 22, \"fontWeight\": \"normal\"}}, \"data\": {\"name\": \"data-24470edad0572416f069e6c641144e51\"}, \"mark\": {\"type\": \"bar\", \"tooltip\": {\"content\": \"data\"}}, \"autosize\": {\"type\": \"fit\"}, \"encoding\": {\"color\": {\"type\": \"nominal\", \"field\": \"role\", \"scale\": {\"type\": \"linear\", \"zero\": false}, \"sort\": null}, \"x\": {\"type\": \"quantitative\", \"field\": \"expected_bonus\", \"scale\": {\"type\": \"linear\", \"zero\": false}, \"sort\": null}, \"y\": {\"type\": \"nominal\", \"field\": \"player\", \"scale\": {\"type\": \"linear\", \"zero\": true}, \"sort\": null}}, \"height\": 300, \"width\": \"container\", \"$schema\": \"https://vega.github.io/schema/vega-lite/v4.json\", \"datasets\": {\"data-24470edad0572416f069e6c641144e51\": [{\"fanta_team\": \"Scansuolo \", \"role\": \"D\", \"player\": \"Koulibaly\", \"home_team\": \"Napoli\", \"away_team\": \"Salernitana\", \"date\": \"2022-01-23T00:00:00\", \"expected_bonus\": 0.3666365146636963}, {\"fanta_team\": \"Scansuolo \", \"role\": \"D\", \"player\": \"Vojvoda\", \"home_team\": \"Torino\", \"away_team\": \"Sassuolo\", \"date\": \"2022-01-23T00:00:00\", \"expected_bonus\": 0.3541136682033539}, {\"fanta_team\": \"Scansuolo \", \"role\": \"D\", \"player\": \"Karsdorp\", \"home_team\": \"Empoli\", \"away_team\": \"Roma\", \"date\": \"2022-01-23T00:00:00\", \"expected_bonus\": 0.2290383130311966}, {\"fanta_team\": \"Scansuolo \", \"role\": \"D\", \"player\": \"Zappa\", \"home_team\": \"Cagliari\", \"away_team\": \"Fiorentina\", \"date\": \"2022-01-23T00:00:00\", \"expected_bonus\": 0.09639529883861542}, {\"fanta_team\": \"Scansuolo \", \"role\": \"C\", \"player\": \"Diaz\", \"home_team\": \"AC Milan\", \"away_team\": \"Juventus\", \"date\": \"2022-01-23T00:00:00\", \"expected_bonus\": 0.5339027047157288}, {\"fanta_team\": \"Scansuolo \", \"role\": \"C\", \"player\": \"Messias\", \"home_team\": \"AC Milan\", \"away_team\": \"Juventus\", \"date\": \"2022-01-23T00:00:00\", \"expected_bonus\": 0.38768863677978516}, {\"fanta_team\": \"Scansuolo \", \"role\": \"C\", \"player\": \"Traore\", \"home_team\": \"Torino\", \"away_team\": \"Sassuolo\", \"date\": \"2022-01-23T00:00:00\", \"expected_bonus\": 0.1940181851387024}, {\"fanta_team\": \"Scansuolo \", \"role\": \"A\", \"player\": \"Scamacca\", \"home_team\": \"Torino\", \"away_team\": \"Sassuolo\", \"date\": \"2022-01-23T00:00:00\", \"expected_bonus\": 1.2357360124588013}, {\"fanta_team\": \"Scansuolo \", \"role\": \"A\", \"player\": \"Pedro\", \"home_team\": \"Cagliari\", \"away_team\": \"Fiorentina\", \"date\": \"2022-01-23T00:00:00\", \"expected_bonus\": 0.9034743905067444}, {\"fanta_team\": \"Scansuolo \", \"role\": \"A\", \"player\": \"Le\\u00e3o\", \"home_team\": \"AC Milan\", \"away_team\": \"Juventus\", \"date\": \"2022-01-23T00:00:00\", \"expected_bonus\": 0.7747713923454285}, {\"fanta_team\": \"Scansuolo \", \"role\": \"A\", \"player\": \"Simy\", \"home_team\": \"Napoli\", \"away_team\": \"Salernitana\", \"date\": \"2022-01-23T00:00:00\", \"expected_bonus\": 0.6954355239868164}]}}, {\"actions\": false, \"mode\": \"vega-lite\"});\n</script>",
      "text/plain": "alt.Chart(...)"
     },
     "metadata": {}
    }
   ],
   "execution_count": 26
  },
  {
   "cell_type": "code",
   "metadata": {
    "cell_id": "4acdd713-c04b-4f4e-9a1f-ea8c4690c99e",
    "tags": [],
    "deepnote_to_be_reexecuted": false,
    "source_hash": "3f500048",
    "execution_start": 1642933711739,
    "execution_millis": 9,
    "deepnote_cell_type": "code"
   },
   "source": "team, index = display_fanta_squad(predictions, teams, index)",
   "outputs": [],
   "execution_count": 27
  },
  {
   "cell_type": "code",
   "source": "_deepnote_run_altair(team, \"\"\"{\"$schema\":\"https://vega.github.io/schema/vega-lite/v4.json\",\"mark\":{\"type\":\"bar\",\"tooltip\":{\"content\":\"data\"}},\"height\":220,\"autosize\":{\"type\":\"fit\"},\"data\":{\"name\":\"placeholder\"},\"encoding\":{\"x\":{\"field\":\"expected_bonus\",\"type\":\"quantitative\",\"sort\":null,\"scale\":{\"type\":\"linear\",\"zero\":false}},\"y\":{\"field\":\"player\",\"type\":\"nominal\",\"sort\":null,\"scale\":{\"type\":\"linear\",\"zero\":true}},\"color\":{\"field\":\"role\",\"type\":\"nominal\",\"sort\":null,\"scale\":{\"type\":\"linear\",\"zero\":false}}}}\"\"\")",
   "metadata": {
    "cell_id": "04913421-5945-4ac1-a1c7-1bd2f9975384",
    "deepnote_variable_name": "team",
    "deepnote_visualization_spec": {
     "$schema": "https://vega.github.io/schema/vega-lite/v4.json",
     "mark": {
      "type": "bar",
      "tooltip": {
       "content": "data"
      }
     },
     "height": 220,
     "autosize": {
      "type": "fit"
     },
     "data": {
      "name": "placeholder"
     },
     "encoding": {
      "x": {
       "field": "expected_bonus",
       "type": "quantitative",
       "sort": null,
       "scale": {
        "type": "linear",
        "zero": false
       }
      },
      "y": {
       "field": "player",
       "type": "nominal",
       "sort": null,
       "scale": {
        "type": "linear",
        "zero": true
       }
      },
      "color": {
       "field": "role",
       "type": "nominal",
       "sort": null,
       "scale": {
        "type": "linear",
        "zero": false
       }
      }
     }
    },
    "deepnote_to_be_reexecuted": false,
    "source_hash": "e68de25e",
    "execution_start": 1642933711754,
    "execution_millis": 130,
    "deepnote_output_heights": [
     314
    ],
    "allow_embed": "output",
    "deepnote_cell_type": "visualization"
   },
   "outputs": [
    {
     "output_type": "execute_result",
     "execution_count": 28,
     "data": {
      "text/html": "\n<div id=\"altair-viz-34eb2c3904d147bebb9f15b6205ea958\"></div>\n<script type=\"text/javascript\">\n  (function(spec, embedOpt){\n    let outputDiv = document.currentScript.previousElementSibling;\n    if (outputDiv.id !== \"altair-viz-34eb2c3904d147bebb9f15b6205ea958\") {\n      outputDiv = document.getElementById(\"altair-viz-34eb2c3904d147bebb9f15b6205ea958\");\n    }\n    const paths = {\n      \"vega\": \"https://cdn.jsdelivr.net/npm//vega@5?noext\",\n      \"vega-lib\": \"https://cdn.jsdelivr.net/npm//vega-lib?noext\",\n      \"vega-lite\": \"https://cdn.jsdelivr.net/npm//vega-lite@4.8.1?noext\",\n      \"vega-embed\": \"https://cdn.jsdelivr.net/npm//vega-embed@6?noext\",\n    };\n\n    function loadScript(lib) {\n      return new Promise(function(resolve, reject) {\n        var s = document.createElement('script');\n        s.src = paths[lib];\n        s.async = true;\n        s.onload = () => resolve(paths[lib]);\n        s.onerror = () => reject(`Error loading script: ${paths[lib]}`);\n        document.getElementsByTagName(\"head\")[0].appendChild(s);\n      });\n    }\n\n    function showError(err) {\n      outputDiv.innerHTML = `<div class=\"error\" style=\"color:red;\">${err}</div>`;\n      throw err;\n    }\n\n    function displayChart(vegaEmbed) {\n      vegaEmbed(outputDiv, spec, embedOpt)\n        .catch(err => showError(`Javascript Error: ${err.message}<br>This usually means there's a typo in your chart specification. See the javascript console for the full traceback.`));\n    }\n\n    if(typeof define === \"function\" && define.amd) {\n      requirejs.config({paths});\n      require([\"vega-embed\"], displayChart, err => showError(`Error loading script: ${err.message}`));\n    } else if (typeof vegaEmbed === \"function\") {\n      displayChart(vegaEmbed);\n    } else {\n      loadScript(\"vega\")\n        .then(() => loadScript(\"vega-lite\"))\n        .then(() => loadScript(\"vega-embed\"))\n        .catch(showError)\n        .then(() => displayChart(vegaEmbed));\n    }\n  })({\"config\": {\"view\": {\"continuousWidth\": 400, \"continuousHeight\": 300}, \"area\": {\"fill\": \"#51C0E9\"}, \"axis\": {\"labelFont\": \"Inter, sans-serif\", \"labelFontSize\": 12, \"labelFontWeight\": \"normal\", \"labelLimit\": 60, \"labelOverlap\": \"greedy\", \"titleFont\": \"Inter, sans-serif\", \"titleFontSize\": 12, \"titleFontWeight\": \"bold\"}, \"background\": \"#ffffff\", \"legend\": {\"labelFont\": \"Inter, sans-serif\", \"labelFontSize\": 12, \"titleFont\": \"Inter, sans-serif\", \"titleFontSize\": 12, \"titleFontWeight\": \"bold\"}, \"line\": {\"stroke\": \"#51C0E9\", \"strokeWidth\": 2}, \"rect\": {\"fill\": \"#51C0E9\"}, \"title\": {\"anchor\": \"start\", \"color\": \"#000000\", \"font\": \"Inter, sans-serif\", \"fontSize\": 22, \"fontWeight\": \"normal\"}}, \"data\": {\"name\": \"data-04cfe2aaad569ecfd1075d62f8aae7de\"}, \"mark\": {\"type\": \"bar\", \"tooltip\": {\"content\": \"data\"}}, \"autosize\": {\"type\": \"fit\"}, \"encoding\": {\"color\": {\"type\": \"nominal\", \"field\": \"role\", \"scale\": {\"type\": \"linear\", \"zero\": false}, \"sort\": null}, \"x\": {\"type\": \"quantitative\", \"field\": \"expected_bonus\", \"scale\": {\"type\": \"linear\", \"zero\": false}, \"sort\": null}, \"y\": {\"type\": \"nominal\", \"field\": \"player\", \"scale\": {\"type\": \"linear\", \"zero\": true}, \"sort\": null}}, \"height\": 300, \"width\": \"container\", \"$schema\": \"https://vega.github.io/schema/vega-lite/v4.json\", \"datasets\": {\"data-04cfe2aaad569ecfd1075d62f8aae7de\": [{\"fanta_team\": \"ssc mozzarella\", \"role\": \"D\", \"player\": \"Rui\", \"home_team\": \"Napoli\", \"away_team\": \"Salernitana\", \"date\": \"2022-01-23T00:00:00\", \"expected_bonus\": 0.4376358091831207}, {\"fanta_team\": \"ssc mozzarella\", \"role\": \"D\", \"player\": \"Smalling\", \"home_team\": \"Empoli\", \"away_team\": \"Roma\", \"date\": \"2022-01-23T00:00:00\", \"expected_bonus\": 0.3122742176055908}, {\"fanta_team\": \"ssc mozzarella\", \"role\": \"D\", \"player\": \"Iba\\u00f1ez\", \"home_team\": \"Empoli\", \"away_team\": \"Roma\", \"date\": \"2022-01-23T00:00:00\", \"expected_bonus\": 0.2231372594833374}, {\"fanta_team\": \"ssc mozzarella\", \"role\": \"D\", \"player\": \"Tomori\", \"home_team\": \"AC Milan\", \"away_team\": \"Juventus\", \"date\": \"2022-01-23T00:00:00\", \"expected_bonus\": 0.12300980091094971}, {\"fanta_team\": \"ssc mozzarella\", \"role\": \"C\", \"player\": \"Mkhitaryan\", \"home_team\": \"Empoli\", \"away_team\": \"Roma\", \"date\": \"2022-01-23T00:00:00\", \"expected_bonus\": 0.9266316890716553}, {\"fanta_team\": \"ssc mozzarella\", \"role\": \"C\", \"player\": \"Chiesa\", \"home_team\": \"AC Milan\", \"away_team\": \"Juventus\", \"date\": \"2022-01-23T00:00:00\", \"expected_bonus\": 0.8433988690376282}, {\"fanta_team\": \"ssc mozzarella\", \"role\": \"C\", \"player\": \"Fabi\\u00e1n\", \"home_team\": \"Napoli\", \"away_team\": \"Salernitana\", \"date\": \"2022-01-23T00:00:00\", \"expected_bonus\": 0.6357001066207886}, {\"fanta_team\": \"ssc mozzarella\", \"role\": \"C\", \"player\": \"Torreira\", \"home_team\": \"Cagliari\", \"away_team\": \"Fiorentina\", \"date\": \"2022-01-23T00:00:00\", \"expected_bonus\": 0.30446091294288635}, {\"fanta_team\": \"ssc mozzarella\", \"role\": \"C\", \"player\": \"Lopez\", \"home_team\": \"Torino\", \"away_team\": \"Sassuolo\", \"date\": \"2022-01-23T00:00:00\", \"expected_bonus\": 0.12598231434822083}, {\"fanta_team\": \"ssc mozzarella\", \"role\": \"A\", \"player\": \"Osimhen\", \"home_team\": \"Napoli\", \"away_team\": \"Salernitana\", \"date\": \"2022-01-23T00:00:00\", \"expected_bonus\": 2.841581106185913}, {\"fanta_team\": \"ssc mozzarella\", \"role\": \"A\", \"player\": \"Politano\", \"home_team\": \"Napoli\", \"away_team\": \"Salernitana\", \"date\": \"2022-01-23T00:00:00\", \"expected_bonus\": 1.0097755193710327}, {\"fanta_team\": \"ssc mozzarella\", \"role\": \"A\", \"player\": \"Pavoletti\", \"home_team\": \"Cagliari\", \"away_team\": \"Fiorentina\", \"date\": \"2022-01-23T00:00:00\", \"expected_bonus\": 0.3029923737049103}, {\"fanta_team\": \"ssc mozzarella\", \"role\": \"A\", \"player\": \"Rib\\u00e9ry\", \"home_team\": \"Napoli\", \"away_team\": \"Salernitana\", \"date\": \"2022-01-23T00:00:00\", \"expected_bonus\": 0.23057326674461365}, {\"fanta_team\": \"ssc mozzarella\", \"role\": \"A\", \"player\": \"Bonazzoli\", \"home_team\": \"Napoli\", \"away_team\": \"Salernitana\", \"date\": \"2022-01-23T00:00:00\", \"expected_bonus\": 0.19838884472846985}]}}, {\"actions\": false, \"mode\": \"vega-lite\"});\n</script>",
      "text/plain": "alt.Chart(...)"
     },
     "metadata": {}
    }
   ],
   "execution_count": 28
  },
  {
   "cell_type": "code",
   "metadata": {
    "cell_id": "44571e9e-e8b2-407a-85b9-bcb406b04f31",
    "tags": [],
    "deepnote_to_be_reexecuted": false,
    "source_hash": "de92d3d",
    "execution_start": 1642933711887,
    "execution_millis": 33,
    "deepnote_cell_type": "code"
   },
   "source": "try:\n    \n    ###############################################################################################\n    status = 'Loading config ...'\n    print('{} -> {}'.format(datetime.now().strftime('%Y-%m-%d %H:%M:%S'), status))\n    with open('config/config.json') as config:\n        config = json.load(config)\n    status = 'Loading config done!'\n    print('{} -> {}'.format(datetime.now().strftime('%Y-%m-%d %H:%M:%S'), status))\n    ###############################################################################################\n\n    ###############################################################################################\n    status = 'Retrieving past week predictions ...'\n    print('{} -> {}'.format(datetime.now().strftime('%Y-%m-%d %H:%M:%S'), status))\n    validation = validate(config['league_name'], config['gameweek']['past'])\n    status = 'Retrieving past week predictions done!'\n    print('{} -> {}'.format(datetime.now().strftime('%Y-%m-%d %H:%M:%S'), status))\n    ###############################################################################################\n\n    ###############################################################################################\n    status = 'Preparing predictions for display...'\n    print('{} -> {}'.format(datetime.now().strftime('%Y-%m-%d %H:%M:%S'), status))\n    validation['player'] = validation['player'].apply(lambda x: x.split(' ')[-1])\n    status = 'Preparing predictions for display done!'\n    print('{} -> {}'.format(datetime.now().strftime('%Y-%m-%d %H:%M:%S'), status))\n    ###############################################################################################\n\n    ###############################################################################################\n    status = 'Updating config ...'\n    print('{} -> {}'.format(datetime.now().strftime('%Y-%m-%d %H:%M:%S'), status))\n    config['gameweek']['past'] = config['gameweek']['past'] + 1\n    with open('config/config.json', 'w') as f:\n        json.dump(config, f, indent=4)\n    status = 'Updating config done!'\n    print('{} -> {}'.format(datetime.now().strftime('%Y-%m-%d %H:%M:%S'), status))\n    ###############################################################################################\n\nexcept Exception as e:\n    print('Exception: {}'.format(e))\n    print('Errored out during: {}'.format(status))",
   "execution_count": 29,
   "outputs": [
    {
     "name": "stdout",
     "text": "2022-01-23 10:28:31 -> Loading config ...\n2022-01-23 10:28:31 -> Loading config done!\n2022-01-23 10:28:31 -> Retrieving past week predictions ...\nException: [Errno 2] No such file or directory: 'data/outputs/prediction/fanta-camplus-citta-studi/gameweek_23.csv'\nErrored out during: Retrieving past week predictions ...\n",
     "output_type": "stream"
    }
   ]
  },
  {
   "cell_type": "code",
   "metadata": {
    "cell_id": "fe5cb744-dcbb-4c2b-b8f4-eee4c37224da",
    "tags": [],
    "deepnote_to_be_reexecuted": false,
    "source_hash": "d3a5413f",
    "execution_start": 1642933711921,
    "execution_millis": 113,
    "deepnote_cell_type": "code"
   },
   "source": "teams = sorted(list(validation['fanta_team'].unique()))\nindex = 0",
   "execution_count": 30,
   "outputs": [
    {
     "output_type": "error",
     "ename": "NameError",
     "evalue": "name 'validation' is not defined",
     "traceback": [
      "\u001b[0;31m---------------------------------------------------------------------------\u001b[0m",
      "\u001b[0;31mNameError\u001b[0m                                 Traceback (most recent call last)",
      "\u001b[0;32m<ipython-input-30-4cb6a42fd1e6>\u001b[0m in \u001b[0;36m<module>\u001b[0;34m\u001b[0m\n\u001b[0;32m----> 1\u001b[0;31m \u001b[0mteams\u001b[0m \u001b[0;34m=\u001b[0m \u001b[0msorted\u001b[0m\u001b[0;34m(\u001b[0m\u001b[0mlist\u001b[0m\u001b[0;34m(\u001b[0m\u001b[0mvalidation\u001b[0m\u001b[0;34m[\u001b[0m\u001b[0;34m'fanta_team'\u001b[0m\u001b[0;34m]\u001b[0m\u001b[0;34m.\u001b[0m\u001b[0munique\u001b[0m\u001b[0;34m(\u001b[0m\u001b[0;34m)\u001b[0m\u001b[0;34m)\u001b[0m\u001b[0;34m)\u001b[0m\u001b[0;34m\u001b[0m\u001b[0;34m\u001b[0m\u001b[0m\n\u001b[0m\u001b[1;32m      2\u001b[0m \u001b[0mindex\u001b[0m \u001b[0;34m=\u001b[0m \u001b[0;36m0\u001b[0m\u001b[0;34m\u001b[0m\u001b[0;34m\u001b[0m\u001b[0m\n",
      "\u001b[0;31mNameError\u001b[0m: name 'validation' is not defined"
     ]
    }
   ]
  },
  {
   "cell_type": "code",
   "metadata": {
    "cell_id": "5307f8bd-5ea7-466a-8190-518b8819ea5b",
    "tags": [],
    "deepnote_cell_type": "code"
   },
   "source": "team, index = display_fanta_squad(validation, teams, index)",
   "execution_count": null,
   "outputs": []
  },
  {
   "cell_type": "code",
   "metadata": {
    "cell_id": "7230bd13-cec2-47d3-b394-a7502968a878",
    "tags": [],
    "deepnote_cell_type": "code"
   },
   "source": "team, index = display_fanta_squad(validation, teams, index)",
   "execution_count": null,
   "outputs": []
  },
  {
   "cell_type": "code",
   "metadata": {
    "cell_id": "4b6caad3-94aa-4a54-be90-216f36213ee1",
    "tags": [],
    "deepnote_cell_type": "code"
   },
   "source": "team, index = display_fanta_squad(validation, teams, index)",
   "execution_count": null,
   "outputs": []
  },
  {
   "cell_type": "code",
   "metadata": {
    "cell_id": "d7f08d19-70ea-42c9-b53f-af37f2745fd5",
    "tags": [],
    "deepnote_cell_type": "code"
   },
   "source": "team, index = display_fanta_squad(validation, teams, index)",
   "execution_count": null,
   "outputs": []
  },
  {
   "cell_type": "code",
   "metadata": {
    "cell_id": "cc3dc8c6-dc8f-44b0-a37e-c28bcb2bd928",
    "tags": [],
    "deepnote_cell_type": "code"
   },
   "source": "team, index = display_fanta_squad(validation, teams, index)",
   "execution_count": null,
   "outputs": []
  },
  {
   "cell_type": "code",
   "metadata": {
    "cell_id": "e535efe4-693e-48a8-844c-8094b246c7ae",
    "tags": [],
    "deepnote_cell_type": "code"
   },
   "source": "team, index = display_fanta_squad(validation, teams, index)",
   "execution_count": null,
   "outputs": []
  },
  {
   "cell_type": "code",
   "metadata": {
    "cell_id": "e564bc39-b966-4695-b67e-63287438ee0d",
    "tags": [],
    "deepnote_cell_type": "code"
   },
   "source": "team, index = display_fanta_squad(validation, teams, index)",
   "execution_count": null,
   "outputs": []
  },
  {
   "cell_type": "code",
   "metadata": {
    "cell_id": "7e542268-7db2-427b-aec4-69e65596aecd",
    "tags": [],
    "deepnote_cell_type": "code"
   },
   "source": "team, index = display_fanta_squad(validation, teams, index)",
   "execution_count": null,
   "outputs": []
  },
  {
   "cell_type": "markdown",
   "source": "<a style='text-decoration:none;line-height:16px;display:flex;color:#5B5B62;padding:10px;justify-content:end;' href='https://deepnote.com?utm_source=created-in-deepnote-cell&projectId=82f6a53d-2812-4762-aa0b-0b8fac2a34e3' target=\"_blank\">\n<img alt='Created in deepnote.com' style='display:inline;max-height:16px;margin:0px;margin-right:7.5px;' src='data:image/svg+xml;base64,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' > </img>\nCreated in <span style='font-weight:600;margin-left:4px;'>Deepnote</span></a>",
   "metadata": {
    "tags": [],
    "created_in_deepnote_cell": true,
    "deepnote_cell_type": "markdown"
   }
  }
 ],
 "nbformat": 4,
 "nbformat_minor": 2,
 "metadata": {
  "orig_nbformat": 2,
  "deepnote": {
   "is_reactive": false
  },
  "deepnote_notebook_id": "3f2f3cdc-e7c2-49e4-a3b0-2257581bb9c0",
  "deepnote_execution_queue": []
 }
}