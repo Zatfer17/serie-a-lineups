{
 "cells": [
  {
   "cell_type": "code",
   "execution_count": 1,
   "id": "035f2139-1f71-407b-b6df-bb323814b2fc",
   "metadata": {},
   "outputs": [],
   "source": [
    "import json\n",
    "\n",
    "from datetime import datetime\n",
    "from modules.population import get_population\n",
    "from modules.features import get_features, get_dataset"
   ]
  },
  {
   "cell_type": "code",
   "execution_count": 3,
   "id": "dd9f8294-55a6-4285-8c05-b2189c61c750",
   "metadata": {},
   "outputs": [
    {
     "name": "stdout",
     "output_type": "stream",
     "text": [
      "2022-01-22 11:38:48 -> Creating population ...\n",
      "Populating season 2014\n"
     ]
    },
    {
     "name": "stderr",
     "output_type": "stream",
     "text": [
      "100%|████████████████████████████████████████████████████████████████████████████| 380/380 [02:05<00:00,  3.02it/s]\n"
     ]
    },
    {
     "name": "stdout",
     "output_type": "stream",
     "text": [
      "Populating season 2015\n"
     ]
    },
    {
     "name": "stderr",
     "output_type": "stream",
     "text": [
      "100%|████████████████████████████████████████████████████████████████████████████| 380/380 [02:04<00:00,  3.06it/s]\n"
     ]
    },
    {
     "name": "stdout",
     "output_type": "stream",
     "text": [
      "Populating season 2016\n"
     ]
    },
    {
     "name": "stderr",
     "output_type": "stream",
     "text": [
      "100%|████████████████████████████████████████████████████████████████████████████| 380/380 [02:04<00:00,  3.06it/s]\n"
     ]
    },
    {
     "name": "stdout",
     "output_type": "stream",
     "text": [
      "Populating season 2017\n"
     ]
    },
    {
     "name": "stderr",
     "output_type": "stream",
     "text": [
      "100%|████████████████████████████████████████████████████████████████████████████| 380/380 [02:05<00:00,  3.04it/s]\n"
     ]
    },
    {
     "name": "stdout",
     "output_type": "stream",
     "text": [
      "Populating season 2018\n"
     ]
    },
    {
     "name": "stderr",
     "output_type": "stream",
     "text": [
      "100%|████████████████████████████████████████████████████████████████████████████| 380/380 [02:03<00:00,  3.08it/s]\n"
     ]
    },
    {
     "name": "stdout",
     "output_type": "stream",
     "text": [
      "Populating season 2019\n"
     ]
    },
    {
     "name": "stderr",
     "output_type": "stream",
     "text": [
      "100%|████████████████████████████████████████████████████████████████████████████| 380/380 [02:05<00:00,  3.04it/s]\n"
     ]
    },
    {
     "name": "stdout",
     "output_type": "stream",
     "text": [
      "Populating season 2020\n"
     ]
    },
    {
     "name": "stderr",
     "output_type": "stream",
     "text": [
      "100%|████████████████████████████████████████████████████████████████████████████| 380/380 [02:03<00:00,  3.08it/s]\n"
     ]
    },
    {
     "name": "stdout",
     "output_type": "stream",
     "text": [
      "Populating season 2021\n"
     ]
    },
    {
     "name": "stderr",
     "output_type": "stream",
     "text": [
      "100%|████████████████████████████████████████████████████████████████████████████| 216/216 [01:10<00:00,  3.05it/s]\n",
      "  0%|                                                                                       | 0/20 [00:00<?, ?it/s]"
     ]
    },
    {
     "name": "stdout",
     "output_type": "stream",
     "text": [
      "2022-01-22 11:54:38 -> Creating population done!\n",
      "2022-01-22 11:54:38 -> Creating features ...\n",
      "Creating features for season 2014 ...\n"
     ]
    },
    {
     "name": "stderr",
     "output_type": "stream",
     "text": [
      "100%|██████████████████████████████████████████████████████████████████████████████| 20/20 [00:15<00:00,  1.32it/s]\n",
      "100%|████████████████████████████████████████████████████████████████████████████| 546/546 [03:24<00:00,  2.67it/s]\n",
      "100%|██████████████████████████████████████████████████████████████████████████| 9660/9660 [05:20<00:00, 30.12it/s]\n",
      "  0%|                                                                                       | 0/20 [00:00<?, ?it/s]"
     ]
    },
    {
     "name": "stdout",
     "output_type": "stream",
     "text": [
      "Creating features for season 2015 ...\n"
     ]
    },
    {
     "name": "stderr",
     "output_type": "stream",
     "text": [
      "100%|██████████████████████████████████████████████████████████████████████████████| 20/20 [00:15<00:00,  1.31it/s]\n",
      "100%|████████████████████████████████████████████████████████████████████████████| 534/534 [03:25<00:00,  2.59it/s]\n",
      "100%|██████████████████████████████████████████████████████████████████████████| 9655/9655 [05:24<00:00, 29.78it/s]\n",
      "  0%|                                                                                       | 0/20 [00:00<?, ?it/s]"
     ]
    },
    {
     "name": "stdout",
     "output_type": "stream",
     "text": [
      "Creating features for season 2016 ...\n"
     ]
    },
    {
     "name": "stderr",
     "output_type": "stream",
     "text": [
      "100%|██████████████████████████████████████████████████████████████████████████████| 20/20 [00:15<00:00,  1.29it/s]\n",
      "100%|████████████████████████████████████████████████████████████████████████████| 528/528 [03:26<00:00,  2.55it/s]\n",
      "100%|██████████████████████████████████████████████████████████████████████████| 9657/9657 [05:25<00:00, 29.64it/s]\n",
      "  0%|                                                                                       | 0/20 [00:00<?, ?it/s]"
     ]
    },
    {
     "name": "stdout",
     "output_type": "stream",
     "text": [
      "Creating features for season 2017 ...\n"
     ]
    },
    {
     "name": "stderr",
     "output_type": "stream",
     "text": [
      "100%|██████████████████████████████████████████████████████████████████████████████| 20/20 [00:15<00:00,  1.26it/s]\n",
      "100%|████████████████████████████████████████████████████████████████████████████| 514/514 [03:22<00:00,  2.54it/s]\n",
      "100%|██████████████████████████████████████████████████████████████████████████| 9619/9619 [05:25<00:00, 29.58it/s]\n",
      "  0%|                                                                                       | 0/20 [00:00<?, ?it/s]"
     ]
    },
    {
     "name": "stdout",
     "output_type": "stream",
     "text": [
      "Creating features for season 2018 ...\n"
     ]
    },
    {
     "name": "stderr",
     "output_type": "stream",
     "text": [
      "100%|██████████████████████████████████████████████████████████████████████████████| 20/20 [00:15<00:00,  1.31it/s]\n",
      "100%|████████████████████████████████████████████████████████████████████████████| 518/518 [03:30<00:00,  2.46it/s]\n",
      "100%|██████████████████████████████████████████████████████████████████████████| 9562/9562 [05:09<00:00, 30.89it/s]\n",
      "  0%|                                                                                       | 0/20 [00:00<?, ?it/s]"
     ]
    },
    {
     "name": "stdout",
     "output_type": "stream",
     "text": [
      "Creating features for season 2019 ...\n"
     ]
    },
    {
     "name": "stderr",
     "output_type": "stream",
     "text": [
      "100%|██████████████████████████████████████████████████████████████████████████████| 20/20 [00:15<00:00,  1.26it/s]\n",
      "100%|████████████████████████████████████████████████████████████████████████████| 536/536 [03:34<00:00,  2.50it/s]\n",
      "100%|██████████████████████████████████████████████████████████████████████████| 9822/9822 [05:12<00:00, 31.46it/s]\n",
      "  0%|                                                                                       | 0/20 [00:00<?, ?it/s]"
     ]
    },
    {
     "name": "stdout",
     "output_type": "stream",
     "text": [
      "Creating features for season 2020 ...\n"
     ]
    },
    {
     "name": "stderr",
     "output_type": "stream",
     "text": [
      "100%|██████████████████████████████████████████████████████████████████████████████| 20/20 [00:16<00:00,  1.25it/s]\n",
      "100%|████████████████████████████████████████████████████████████████████████████| 551/551 [03:33<00:00,  2.58it/s]\n",
      "100%|████████████████████████████████████████████████████████████████████████| 10205/10205 [06:16<00:00, 27.12it/s]\n",
      "  0%|                                                                                       | 0/20 [00:00<?, ?it/s]"
     ]
    },
    {
     "name": "stdout",
     "output_type": "stream",
     "text": [
      "Creating features for season 2021 ...\n"
     ]
    },
    {
     "name": "stderr",
     "output_type": "stream",
     "text": [
      "100%|██████████████████████████████████████████████████████████████████████████████| 20/20 [00:11<00:00,  1.73it/s]\n",
      "100%|████████████████████████████████████████████████████████████████████████████| 504/504 [03:15<00:00,  2.58it/s]\n",
      "100%|██████████████████████████████████████████████████████████████████████████| 5827/5827 [03:30<00:00, 27.72it/s]\n"
     ]
    },
    {
     "name": "stdout",
     "output_type": "stream",
     "text": [
      "2022-01-22 13:05:59 -> Creating features done!\n",
      "2022-01-22 13:05:59 -> Creating dataset ...\n",
      "Merging dataset for each season ...\n",
      "2022-01-22 13:06:06 -> Creating dataset done!\n"
     ]
    }
   ],
   "source": [
    "try:\n",
    "    \n",
    "    ###############################################################################################\n",
    "    status = 'Loading config ...'\n",
    "    print('{} -> {}'.format(datetime.now().strftime('%Y-%m-%d %H:%M:%S'), status))\n",
    "    with open('config/config.json') as config:\n",
    "        config = json.load(config)\n",
    "    status = 'Loading config done!'\n",
    "    print('{} -> {}'.format(datetime.now().strftime('%Y-%m-%d %H:%M:%S'), status))\n",
    "    ###############################################################################################\n",
    "    \n",
    "    ###############################################################################################\n",
    "    status = 'Creating population ...'\n",
    "    print('{} -> {}'.format(datetime.now().strftime('%Y-%m-%d %H:%M:%S'), status))\n",
    "    get_population(config['seasons'])\n",
    "    status = 'Creating population done!'\n",
    "    print('{} -> {}'.format(datetime.now().strftime('%Y-%m-%d %H:%M:%S'), status))\n",
    "    ###############################################################################################\n",
    "    \n",
    "    ###############################################################################################\n",
    "    status = 'Creating features ...'\n",
    "    print('{} -> {}'.format(datetime.now().strftime('%Y-%m-%d %H:%M:%S'), status))\n",
    "    get_features(config['seasons'])\n",
    "    status = 'Creating features done!'\n",
    "    print('{} -> {}'.format(datetime.now().strftime('%Y-%m-%d %H:%M:%S'), status))\n",
    "    ###############################################################################################\n",
    "\n",
    "    ###############################################################################################\n",
    "    status = 'Creating dataset ...'\n",
    "    print('{} -> {}'.format(datetime.now().strftime('%Y-%m-%d %H:%M:%S'), status))\n",
    "    get_dataset(config['seasons'])\n",
    "    status = 'Creating dataset done!'\n",
    "    print('{} -> {}'.format(datetime.now().strftime('%Y-%m-%d %H:%M:%S'), status))\n",
    "    ###############################################################################################\n",
    "    \n",
    "except Exception as e:\n",
    "    print('Exception: {}'.format(e))\n",
    "    print('Errored out during: {}'.format(status))"
   ]
  }
 ],
 "metadata": {
  "kernelspec": {
   "display_name": "Python 3 (ipykernel)",
   "language": "python",
   "name": "python3"
  },
  "language_info": {
   "codemirror_mode": {
    "name": "ipython",
    "version": 3
   },
   "file_extension": ".py",
   "mimetype": "text/x-python",
   "name": "python",
   "nbconvert_exporter": "python",
   "pygments_lexer": "ipython3",
   "version": "3.8.5"
  }
 },
 "nbformat": 4,
 "nbformat_minor": 5
}
