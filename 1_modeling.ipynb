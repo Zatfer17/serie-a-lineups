{
 "cells": [
  {
   "cell_type": "code",
   "execution_count": 4,
   "id": "9ca48a41",
   "metadata": {},
   "outputs": [],
   "source": [
    "import json\n",
    "import pandas as pd\n",
    "\n",
    "from datetime import datetime\n",
    "from modules.training import split_data, transform_data, get_best_parameters, get_model, evaluate_model"
   ]
  },
  {
   "cell_type": "code",
   "execution_count": null,
   "id": "ad2e115a-4c8a-4fb4-a319-9c4919087c3b",
   "metadata": {},
   "outputs": [
    {
     "name": "stdout",
     "output_type": "stream",
     "text": [
      "2022-01-22 13:25:04 -> Loading config ...\n",
      "2022-01-22 13:25:04 -> Loading config done!\n",
      "2022-01-22 13:25:04 -> Getting dataset ...\n",
      "2022-01-22 13:25:05 -> Getting dataset done!\n",
      "2022-01-22 13:25:05 -> Processing features ...\n",
      "2022-01-22 13:25:05 -> Processing features done!\n",
      "2022-01-22 13:25:05 -> Tuning model hyperparameters ...\n",
      "  1%|▎                                         | 1/128 [01:27<3:05:18, 87.55s/trial, best loss: 2.0392186383618274]"
     ]
    }
   ],
   "source": [
    "try:\n",
    "    \n",
    "    ###############################################################################################\n",
    "    status = 'Loading config ...'\n",
    "    print('{} -> {}'.format(datetime.now().strftime('%Y-%m-%d %H:%M:%S'), status))\n",
    "    with open('config/config.json') as config:\n",
    "        config = json.load(config)\n",
    "    status = 'Loading config done!'\n",
    "    print('{} -> {}'.format(datetime.now().strftime('%Y-%m-%d %H:%M:%S'), status))\n",
    "    ###############################################################################################\n",
    "    \n",
    "    ###############################################################################################\n",
    "    status = 'Getting dataset ...'\n",
    "    print('{} -> {}'.format(datetime.now().strftime('%Y-%m-%d %H:%M:%S'), status))\n",
    "    df = pd.read_csv('data/outputs/dataset_{}_{}.csv'.format(config['seasons'][0], config['seasons'][-1]))\n",
    "    X_train_raw, X_test_raw, y_train, y_test, metadata_train, metadata_test = split_data(df, metadata_columns=['match_id', 'date', 'player_id', 'player', 'team'])\n",
    "    status = 'Getting dataset done!'\n",
    "    print('{} -> {}'.format(datetime.now().strftime('%Y-%m-%d %H:%M:%S'), status))\n",
    "    ###############################################################################################\n",
    "    \n",
    "    ###############################################################################################\n",
    "    status = 'Processing features ...'\n",
    "    print('{} -> {}'.format(datetime.now().strftime('%Y-%m-%d %H:%M:%S'), status))\n",
    "    X_train, X_test = transform_data(X_train_raw=X_train_raw, X_test_raw=X_test_raw, categorical_columns=['home_team', 'away_team', 'is_home', 'season', 'month', 'day', 'hour', 'week_day', 'position'])\n",
    "    status = 'Processing features done!'\n",
    "    print('{} -> {}'.format(datetime.now().strftime('%Y-%m-%d %H:%M:%S'), status))\n",
    "    ###############################################################################################\n",
    "\n",
    "    ###############################################################################################\n",
    "    status = 'Tuning model hyperparameters ...'\n",
    "    print('{} -> {}'.format(datetime.now().strftime('%Y-%m-%d %H:%M:%S'), status))\n",
    "    best_params = get_best_parameters(X_train, y_train)\n",
    "    status = 'Tuning model hyperparameters done!'\n",
    "    print('{} -> {}'.format(datetime.now().strftime('%Y-%m-%d %H:%M:%S'), status))\n",
    "    ###############################################################################################\n",
    "    \n",
    "    ###############################################################################################\n",
    "    status = 'Evaluating model ...'\n",
    "    print('{} -> {}'.format(datetime.now().strftime('%Y-%m-%d %H:%M:%S'), status))\n",
    "    model = get_model(best_params, X_train, y_train)\n",
    "    evaluate_model(model, X_test, y_test)\n",
    "    status = 'Evaluating model done!'\n",
    "    print('{} -> {}'.format(datetime.now().strftime('%Y-%m-%d %H:%M:%S'), status))\n",
    "    ###############################################################################################\n",
    "    \n",
    "except Exception as e:\n",
    "    print('Exception: {}'.format(e))\n",
    "    print('Errored out during: {}'.format(status))"
   ]
  }
 ],
 "metadata": {
  "kernelspec": {
   "display_name": "Python 3 (ipykernel)",
   "language": "python",
   "name": "python3"
  },
  "language_info": {
   "codemirror_mode": {
    "name": "ipython",
    "version": 3
   },
   "file_extension": ".py",
   "mimetype": "text/x-python",
   "name": "python",
   "nbconvert_exporter": "python",
   "pygments_lexer": "ipython3",
   "version": "3.8.5"
  }
 },
 "nbformat": 4,
 "nbformat_minor": 5
}
