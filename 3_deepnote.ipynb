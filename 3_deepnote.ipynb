{
 "cells": [
  {
   "cell_type": "code",
   "metadata": {
    "cell_id": "2e907202-ea86-4fba-81f7-cdd38cecd2b3",
    "tags": [],
    "deepnote_to_be_reexecuted": false,
    "source_hash": "adbe6457",
    "execution_start": 1652245258958,
    "execution_millis": 6331,
    "deepnote_cell_type": "code"
   },
   "source": "import json\nimport pandas as pd\n\nfrom datetime import datetime\nfrom modules.scoring import get_scoring_set, get_features, score, validate\nfrom modules.training import split_data, transform_data",
   "execution_count": 1,
   "outputs": [
    {
     "name": "stderr",
     "text": "/shared-libs/python3.7/py/lib/python3.7/site-packages/tqdm/auto.py:22: TqdmWarning: IProgress not found. Please update jupyter and ipywidgets. See https://ipywidgets.readthedocs.io/en/stable/user_install.html\n  from .autonotebook import tqdm as notebook_tqdm\n",
     "output_type": "stream"
    }
   ]
  },
  {
   "cell_type": "code",
   "metadata": {
    "tags": [],
    "cell_id": "103aa6bc-980e-44d2-ba16-c4839c2ac078",
    "deepnote_to_be_reexecuted": false,
    "source_hash": "173511cd",
    "execution_start": 1652245265300,
    "execution_millis": 12,
    "deepnote_cell_type": "code"
   },
   "source": "def display_fanta_squad(predictions, teams, index):\n    fanta_team = predictions[predictions['fanta_team'] == teams[index]]\n    return fanta_team, index+1    ",
   "execution_count": 2,
   "outputs": []
  },
  {
   "cell_type": "code",
   "metadata": {
    "cell_id": "d23ee413-9026-4f27-9c72-c2440a754314",
    "tags": [],
    "deepnote_to_be_reexecuted": false,
    "source_hash": "4ed74052",
    "execution_start": 1652245265354,
    "execution_millis": 268698,
    "deepnote_cell_type": "code"
   },
   "source": "try:\n    \n    ###############################################################################################\n    status = 'Loading config ...'\n    print('{} -> {}'.format(datetime.now().strftime('%Y-%m-%d %H:%M:%S'), status))\n    with open('config/config.json') as config:\n        config = json.load(config)\n    status = 'Loading config done!'\n    print('{} -> {}'.format(datetime.now().strftime('%Y-%m-%d %H:%M:%S'), status))\n    ###############################################################################################\n\n    ###############################################################################################\n    status = 'Getting scoring set ...'\n    print('{} -> {}'.format(datetime.now().strftime('%Y-%m-%d %H:%M:%S'), status))\n    scoring_set = get_scoring_set(config['league_name'])\n    scoring_set = get_features(scoring_set, config['league_name'])\n    X_raw, metadata = split_data(scoring_set, metadata_columns=['fanta_team', 'date', 'role', 'player_id', 'player'], production=True)\n    status = 'Getting scoring set done!'\n    print('{} -> {}'.format(datetime.now().strftime('%Y-%m-%d %H:%M:%S'), status))\n    ###############################################################################################\n    \n    ###############################################################################################\n    status = 'Processing features ...'\n    print('{} -> {}'.format(datetime.now().strftime('%Y-%m-%d %H:%M:%S'), status))\n    X = transform_data(X_test_raw=X_raw, categorical_columns=['team', 'opponent', 'is_home', 'position'], production=True)\n    status = 'Processing features done!'\n    print('{} -> {}'.format(datetime.now().strftime('%Y-%m-%d %H:%M:%S'), status))\n    ###############################################################################################\n\n    ###############################################################################################\n    status = 'Scoring ...'\n    print('{} -> {}'.format(datetime.now().strftime('%Y-%m-%d %H:%M:%S'), status))\n    predictions = score(X, scoring_set, config['league_name'], config['gameweek']['current'])\n    status = 'Scoring done!'\n    print('{} -> {}'.format(datetime.now().strftime('%Y-%m-%d %H:%M:%S'), status))\n    ###############################################################################################\n\n    ###############################################################################################\n    status = 'Preparing predictions for display...'\n    print('{} -> {}'.format(datetime.now().strftime('%Y-%m-%d %H:%M:%S'), status))\n    predictions['player'] = predictions['player'].apply(lambda x: x.split(' ')[-1])\n    status = 'Preparing predictions for display done!'\n    print('{} -> {}'.format(datetime.now().strftime('%Y-%m-%d %H:%M:%S'), status))\n    ###############################################################################################\n\n    ###############################################################################################\n    status = 'Updating config ...'\n    print('{} -> {}'.format(datetime.now().strftime('%Y-%m-%d %H:%M:%S'), status))\n    config['gameweek']['current'] = config['gameweek']['current'] + 1\n    with open('config/config.json', 'w') as f:\n        json.dump(config, f, indent=4)\n    status = 'Updating config done!'\n    print('{} -> {}'.format(datetime.now().strftime('%Y-%m-%d %H:%M:%S'), status))\n    ###############################################################################################\n\nexcept Exception as e:\n    print('Exception: {}'.format(e))\n    print('Errored out during: {}'.format(status))",
   "execution_count": 3,
   "outputs": [
    {
     "name": "stdout",
     "text": "2022-05-11 05:01:05 -> Loading config ...\n2022-05-11 05:01:05 -> Loading config done!\n2022-05-11 05:01:05 -> Getting scoring set ...\n100%|██████████| 20/20 [00:21<00:00,  1.09s/it]\n100%|██████████| 176/176 [03:59<00:00,  1.36s/it]\n100%|██████████| 167/167 [00:06<00:00, 24.52it/s]\n2022-05-11 05:05:33 -> Getting scoring set done!\n2022-05-11 05:05:33 -> Processing features ...\n2022-05-11 05:05:33 -> Processing features done!\n2022-05-11 05:05:33 -> Scoring ...\n2022-05-11 05:05:34 -> Scoring done!\n2022-05-11 05:05:34 -> Preparing predictions for display...\n2022-05-11 05:05:34 -> Preparing predictions for display done!\n2022-05-11 05:05:34 -> Updating config ...\n2022-05-11 05:05:34 -> Updating config done!\n",
     "output_type": "stream"
    }
   ]
  },
  {
   "cell_type": "code",
   "source": "_deepnote_run_altair(predictions, \"\"\"{\"$schema\":\"https://vega.github.io/schema/vega-lite/v4.json\",\"mark\":{\"type\":\"bar\",\"tooltip\":{\"content\":\"data\"}},\"height\":220,\"autosize\":{\"type\":\"fit\"},\"data\":{\"name\":\"placeholder\"},\"encoding\":{\"x\":{\"field\":\"expected_bonus\",\"type\":\"quantitative\",\"sort\":null,\"scale\":{\"type\":\"linear\",\"zero\":false},\"aggregate\":\"sum\"},\"y\":{\"field\":\"fanta_team\",\"type\":\"nominal\",\"sort\":{\"order\":\"descending\",\"encoding\":\"x\"},\"scale\":{\"type\":\"linear\",\"zero\":true}},\"color\":{\"field\":\"fanta_team\",\"type\":\"nominal\",\"sort\":null,\"scale\":{\"type\":\"linear\",\"zero\":false}}}}\"\"\")",
   "metadata": {
    "cell_id": "3f73d722-4f57-4b44-9be4-166196a3d886",
    "deepnote_variable_name": "predictions",
    "deepnote_visualization_spec": {
     "$schema": "https://vega.github.io/schema/vega-lite/v4.json",
     "mark": {
      "type": "bar",
      "tooltip": {
       "content": "data"
      }
     },
     "height": 220,
     "autosize": {
      "type": "fit"
     },
     "data": {
      "name": "placeholder"
     },
     "encoding": {
      "x": {
       "field": "expected_bonus",
       "type": "quantitative",
       "sort": null,
       "scale": {
        "type": "linear",
        "zero": false
       },
       "aggregate": "sum"
      },
      "y": {
       "field": "fanta_team",
       "type": "nominal",
       "sort": {
        "order": "descending",
        "encoding": "x"
       },
       "scale": {
        "type": "linear",
        "zero": true
       }
      },
      "color": {
       "field": "fanta_team",
       "type": "nominal",
       "sort": null,
       "scale": {
        "type": "linear",
        "zero": false
       }
      }
     }
    },
    "deepnote_to_be_reexecuted": false,
    "source_hash": "425094db",
    "execution_start": 1652245534051,
    "execution_millis": 522,
    "allow_embed": "output",
    "deepnote_cell_type": "visualization",
    "deepnote_output_heights": [
     314
    ]
   },
   "execution_count": 4,
   "outputs": [
    {
     "output_type": "execute_result",
     "execution_count": 4,
     "data": {
      "text/html": "\n<div id=\"altair-viz-9a837d8471e34b27af339a430de13309\"></div>\n<script type=\"text/javascript\">\n  (function(spec, embedOpt){\n    let outputDiv = document.currentScript.previousElementSibling;\n    if (outputDiv.id !== \"altair-viz-9a837d8471e34b27af339a430de13309\") {\n      outputDiv = document.getElementById(\"altair-viz-9a837d8471e34b27af339a430de13309\");\n    }\n    const paths = {\n      \"vega\": \"https://cdn.jsdelivr.net/npm//vega@5?noext\",\n      \"vega-lib\": \"https://cdn.jsdelivr.net/npm//vega-lib?noext\",\n      \"vega-lite\": \"https://cdn.jsdelivr.net/npm//vega-lite@4.8.1?noext\",\n      \"vega-embed\": \"https://cdn.jsdelivr.net/npm//vega-embed@6?noext\",\n    };\n\n    function loadScript(lib) {\n      return new Promise(function(resolve, reject) {\n        var s = document.createElement('script');\n        s.src = paths[lib];\n        s.async = true;\n        s.onload = () => resolve(paths[lib]);\n        s.onerror = () => reject(`Error loading script: ${paths[lib]}`);\n        document.getElementsByTagName(\"head\")[0].appendChild(s);\n      });\n    }\n\n    function showError(err) {\n      outputDiv.innerHTML = `<div class=\"error\" style=\"color:red;\">${err}</div>`;\n      throw err;\n    }\n\n    function displayChart(vegaEmbed) {\n      vegaEmbed(outputDiv, spec, embedOpt)\n        .catch(err => showError(`Javascript Error: ${err.message}<br>This usually means there's a typo in your chart specification. See the javascript console for the full traceback.`));\n    }\n\n    if(typeof define === \"function\" && define.amd) {\n      requirejs.config({paths});\n      require([\"vega-embed\"], displayChart, err => showError(`Error loading script: ${err.message}`));\n    } else if (typeof vegaEmbed === \"function\") {\n      displayChart(vegaEmbed);\n    } else {\n      loadScript(\"vega\")\n        .then(() => loadScript(\"vega-lite\"))\n        .then(() => loadScript(\"vega-embed\"))\n        .catch(showError)\n        .then(() => displayChart(vegaEmbed));\n    }\n  })({\"config\": {\"view\": {\"continuousWidth\": 400, \"continuousHeight\": 300}, \"area\": {\"fill\": \"#51C0E9\"}, \"axis\": {\"labelFont\": \"Inter, sans-serif\", \"labelFontSize\": 12, \"labelFontWeight\": \"normal\", \"labelLimit\": 60, \"labelOverlap\": \"greedy\", \"titleFont\": \"Inter, sans-serif\", \"titleFontSize\": 12, \"titleFontWeight\": \"bold\"}, \"background\": \"#ffffff\", \"legend\": {\"labelFont\": \"Inter, sans-serif\", \"labelFontSize\": 12, \"titleFont\": \"Inter, sans-serif\", \"titleFontSize\": 12, \"titleFontWeight\": \"bold\"}, \"line\": {\"stroke\": \"#51C0E9\", \"strokeWidth\": 2}, \"rect\": {\"fill\": \"#51C0E9\"}, \"title\": {\"anchor\": \"start\", \"color\": \"#000000\", \"font\": \"Inter, sans-serif\", \"fontSize\": 22, \"fontWeight\": \"normal\"}}, \"data\": {\"name\": \"data-e683ee65dc328268f8c1e1c677007c40\"}, \"mark\": {\"type\": \"bar\", \"tooltip\": {\"content\": \"data\"}}, \"autosize\": {\"type\": \"fit\"}, \"encoding\": {\"color\": {\"type\": \"nominal\", \"field\": \"fanta_team\", \"scale\": {\"type\": \"linear\", \"zero\": false}, \"sort\": null}, \"x\": {\"type\": \"quantitative\", \"aggregate\": \"sum\", \"field\": \"expected_bonus\", \"scale\": {\"type\": \"linear\", \"zero\": false}, \"sort\": null}, \"y\": {\"type\": \"nominal\", \"field\": \"fanta_team\", \"scale\": {\"type\": \"linear\", \"zero\": true}, \"sort\": {\"encoding\": \"x\", \"order\": \"descending\"}}}, \"height\": 300, \"width\": \"container\", \"$schema\": \"https://vega.github.io/schema/vega-lite/v4.json\", \"datasets\": {\"data-e683ee65dc328268f8c1e1c677007c40\": [{\"fanta_team\": \"ssc mozzarella\", \"role\": \"D\", \"player\": \"Dumfries\", \"team\": \"Inter\", \"opponent\": \"Cagliari\", \"date\": \"2022-05-15T00:00:00\", \"expected_bonus\": 0.8436185717582703}, {\"fanta_team\": \"ssc mozzarella\", \"role\": \"D\", \"player\": \"Rui\", \"team\": \"Napoli\", \"opponent\": \"Genoa\", \"date\": \"2022-05-15T00:00:00\", \"expected_bonus\": 0.4765760004520416}, {\"fanta_team\": \"ssc mozzarella\", \"role\": \"D\", \"player\": \"Smalling\", \"team\": \"Roma\", \"opponent\": \"Venezia\", \"date\": \"2022-05-14T00:00:00\", \"expected_bonus\": 0.3336876630783081}, {\"fanta_team\": \"ssc mozzarella\", \"role\": \"D\", \"player\": \"Iba\\u00f1ez\", \"team\": \"Roma\", \"opponent\": \"Venezia\", \"date\": \"2022-05-14T00:00:00\", \"expected_bonus\": 0.3191666007041931}, {\"fanta_team\": \"ssc mozzarella\", \"role\": \"D\", \"player\": \"Theate\", \"team\": \"Bologna\", \"opponent\": \"Sassuolo\", \"date\": \"2022-05-15T00:00:00\", \"expected_bonus\": 0.17076097428798676}, {\"fanta_team\": \"ssc mozzarella\", \"role\": \"D\", \"player\": \"Gjimshiti\", \"team\": \"Atalanta\", \"opponent\": \"AC Milan\", \"date\": \"2022-05-15T00:00:00\", \"expected_bonus\": 0.13088975846767426}, {\"fanta_team\": \"ssc mozzarella\", \"role\": \"D\", \"player\": \"Tomori\", \"team\": \"AC Milan\", \"opponent\": \"Atalanta\", \"date\": \"2022-05-15T00:00:00\", \"expected_bonus\": 0.0987875908613205}, {\"fanta_team\": \"ssc mozzarella\", \"role\": \"D\", \"player\": \"Felipe\", \"team\": \"Lazio\", \"opponent\": \"Juventus\", \"date\": \"2022-05-16T00:00:00\", \"expected_bonus\": 0.05861598998308182}, {\"fanta_team\": \"ssc mozzarella\", \"role\": \"C\", \"player\": \"Sottil\", \"team\": \"Fiorentina\", \"opponent\": \"Sampdoria\", \"date\": \"2022-05-16T00:00:00\", \"expected_bonus\": 0.970026433467865}, {\"fanta_team\": \"ssc mozzarella\", \"role\": \"C\", \"player\": \"Mkhitaryan\", \"team\": \"Roma\", \"opponent\": \"Venezia\", \"date\": \"2022-05-14T00:00:00\", \"expected_bonus\": 0.9288292527198792}, {\"fanta_team\": \"ssc mozzarella\", \"role\": \"C\", \"player\": \"Fabi\\u00e1n\", \"team\": \"Napoli\", \"opponent\": \"Genoa\", \"date\": \"2022-05-15T00:00:00\", \"expected_bonus\": 0.5783655643463135}, {\"fanta_team\": \"ssc mozzarella\", \"role\": \"C\", \"player\": \"Torreira\", \"team\": \"Fiorentina\", \"opponent\": \"Sampdoria\", \"date\": \"2022-05-16T00:00:00\", \"expected_bonus\": 0.33505958318710327}, {\"fanta_team\": \"ssc mozzarella\", \"role\": \"C\", \"player\": \"Lobotka\", \"team\": \"Napoli\", \"opponent\": \"Genoa\", \"date\": \"2022-05-15T00:00:00\", \"expected_bonus\": 0.3219040334224701}, {\"fanta_team\": \"ssc mozzarella\", \"role\": \"C\", \"player\": \"Pereyra\", \"team\": \"Udinese\", \"opponent\": \"Spezia\", \"date\": \"2022-05-14T00:00:00\", \"expected_bonus\": 0.3101542592048645}, {\"fanta_team\": \"ssc mozzarella\", \"role\": \"C\", \"player\": \"Lopez\", \"team\": \"Sassuolo\", \"opponent\": \"Bologna\", \"date\": \"2022-05-15T00:00:00\", \"expected_bonus\": 0.2039092630147934}, {\"fanta_team\": \"ssc mozzarella\", \"role\": \"C\", \"player\": \"Freuler\", \"team\": \"Atalanta\", \"opponent\": \"AC Milan\", \"date\": \"2022-05-15T00:00:00\", \"expected_bonus\": 0.08160282671451569}, {\"fanta_team\": \"ssc mozzarella\", \"role\": \"A\", \"player\": \"Osimhen\", \"team\": \"Napoli\", \"opponent\": \"Genoa\", \"date\": \"2022-05-15T00:00:00\", \"expected_bonus\": 1.6716997623443604}, {\"fanta_team\": \"ssc mozzarella\", \"role\": \"A\", \"player\": \"Gabbiadini\", \"team\": \"Sampdoria\", \"opponent\": \"Fiorentina\", \"date\": \"2022-05-16T00:00:00\", \"expected_bonus\": 1.0861011743545532}, {\"fanta_team\": \"ssc mozzarella\", \"role\": \"A\", \"player\": \"Bonazzoli\", \"team\": \"Salernitana\", \"opponent\": \"Empoli\", \"date\": \"2022-05-14T00:00:00\", \"expected_bonus\": 1.0245716571807861}, {\"fanta_team\": \"ssc mozzarella\", \"role\": \"A\", \"player\": \"Caprari\", \"team\": \"Verona\", \"opponent\": \"Torino\", \"date\": \"2022-05-14T00:00:00\", \"expected_bonus\": 0.8270431756973267}, {\"fanta_team\": \"ssc mozzarella\", \"role\": \"A\", \"player\": \"Politano\", \"team\": \"Napoli\", \"opponent\": \"Genoa\", \"date\": \"2022-05-15T00:00:00\", \"expected_bonus\": 0.5812510848045349}, {\"fanta_team\": \"ssc mozzarella\", \"role\": \"A\", \"player\": \"Pavoletti\", \"team\": \"Cagliari\", \"opponent\": \"Inter\", \"date\": \"2022-05-15T00:00:00\", \"expected_bonus\": 0.37896186113357544}, {\"fanta_team\": \"Scansuolo \", \"role\": \"D\", \"player\": \"Karsdorp\", \"team\": \"Roma\", \"opponent\": \"Venezia\", \"date\": \"2022-05-14T00:00:00\", \"expected_bonus\": 0.3779180943965912}, {\"fanta_team\": \"Scansuolo \", \"role\": \"D\", \"player\": \"Koulibaly\", \"team\": \"Napoli\", \"opponent\": \"Genoa\", \"date\": \"2022-05-15T00:00:00\", \"expected_bonus\": 0.3724279999732971}, {\"fanta_team\": \"Scansuolo \", \"role\": \"D\", \"player\": \"Vojvoda\", \"team\": \"Torino\", \"opponent\": \"Verona\", \"date\": \"2022-05-14T00:00:00\", \"expected_bonus\": 0.2550218105316162}, {\"fanta_team\": \"Scansuolo \", \"role\": \"D\", \"player\": \"Demiral\", \"team\": \"Atalanta\", \"opponent\": \"AC Milan\", \"date\": \"2022-05-15T00:00:00\", \"expected_bonus\": 0.19584716856479645}, {\"fanta_team\": \"Scansuolo \", \"role\": \"D\", \"player\": \"Hickey\", \"team\": \"Bologna\", \"opponent\": \"Sassuolo\", \"date\": \"2022-05-15T00:00:00\", \"expected_bonus\": 0.14053119719028473}, {\"fanta_team\": \"Scansuolo \", \"role\": \"D\", \"player\": \"Hysaj\", \"team\": \"Lazio\", \"opponent\": \"Juventus\", \"date\": \"2022-05-16T00:00:00\", \"expected_bonus\": 0.05564921349287033}, {\"fanta_team\": \"Scansuolo \", \"role\": \"D\", \"player\": \"Zappa\", \"team\": \"Cagliari\", \"opponent\": \"Inter\", \"date\": \"2022-05-15T00:00:00\", \"expected_bonus\": 0.018620382994413376}, {\"fanta_team\": \"Scansuolo \", \"role\": \"C\", \"player\": \"Pessina\", \"team\": \"Atalanta\", \"opponent\": \"AC Milan\", \"date\": \"2022-05-15T00:00:00\", \"expected_bonus\": 0.5015845894813538}, {\"fanta_team\": \"Scansuolo \", \"role\": \"C\", \"player\": \"Diaz\", \"team\": \"AC Milan\", \"opponent\": \"Atalanta\", \"date\": \"2022-05-15T00:00:00\", \"expected_bonus\": 0.5003827214241028}, {\"fanta_team\": \"Scansuolo \", \"role\": \"C\", \"player\": \"Messias\", \"team\": \"AC Milan\", \"opponent\": \"Atalanta\", \"date\": \"2022-05-15T00:00:00\", \"expected_bonus\": 0.49191606044769287}, {\"fanta_team\": \"Scansuolo \", \"role\": \"C\", \"player\": \"Zurkowski\", \"team\": \"Empoli\", \"opponent\": \"Salernitana\", \"date\": \"2022-05-14T00:00:00\", \"expected_bonus\": 0.46649688482284546}, {\"fanta_team\": \"Scansuolo \", \"role\": \"C\", \"player\": \"Zaccagni\", \"team\": \"Lazio\", \"opponent\": \"Juventus\", \"date\": \"2022-05-16T00:00:00\", \"expected_bonus\": 0.31386592984199524}, {\"fanta_team\": \"Scansuolo \", \"role\": \"C\", \"player\": \"Ilic\", \"team\": \"Verona\", \"opponent\": \"Torino\", \"date\": \"2022-05-14T00:00:00\", \"expected_bonus\": 0.1807337999343872}, {\"fanta_team\": \"Scansuolo \", \"role\": \"C\", \"player\": \"Traore\", \"team\": \"Sassuolo\", \"opponent\": \"Bologna\", \"date\": \"2022-05-15T00:00:00\", \"expected_bonus\": 0.10937133431434631}, {\"fanta_team\": \"Scansuolo \", \"role\": \"C\", \"player\": \"Koopmeiners\", \"team\": \"Atalanta\", \"opponent\": \"AC Milan\", \"date\": \"2022-05-15T00:00:00\", \"expected_bonus\": 0.08868848532438278}, {\"fanta_team\": \"Scansuolo \", \"role\": \"A\", \"player\": \"Scamacca\", \"team\": \"Sassuolo\", \"opponent\": \"Bologna\", \"date\": \"2022-05-15T00:00:00\", \"expected_bonus\": 1.4086225032806396}, {\"fanta_team\": \"Scansuolo \", \"role\": \"A\", \"player\": \"Immobile\", \"team\": \"Lazio\", \"opponent\": \"Juventus\", \"date\": \"2022-05-16T00:00:00\", \"expected_bonus\": 1.3358696699142456}, {\"fanta_team\": \"Scansuolo \", \"role\": \"A\", \"player\": \"Pedro\", \"team\": \"Cagliari\", \"opponent\": \"Inter\", \"date\": \"2022-05-15T00:00:00\", \"expected_bonus\": 0.9770129323005676}, {\"fanta_team\": \"Scansuolo \", \"role\": \"A\", \"player\": \"Le\\u00e3o\", \"team\": \"AC Milan\", \"opponent\": \"Atalanta\", \"date\": \"2022-05-15T00:00:00\", \"expected_bonus\": 0.8225300312042236}, {\"fanta_team\": \"Scansuolo \", \"role\": \"A\", \"player\": \"Mikael\", \"team\": \"Salernitana\", \"opponent\": \"Empoli\", \"date\": \"2022-05-14T00:00:00\", \"expected_bonus\": 0.13830263912677765}, {\"fanta_team\": \"Rione Monti\", \"role\": \"D\", \"player\": \"Biraghi\", \"team\": \"Fiorentina\", \"opponent\": \"Sampdoria\", \"date\": \"2022-05-16T00:00:00\", \"expected_bonus\": 0.38617804646492004}, {\"fanta_team\": \"Rione Monti\", \"role\": \"D\", \"player\": \"Bremer\", \"team\": \"Torino\", \"opponent\": \"Verona\", \"date\": \"2022-05-14T00:00:00\", \"expected_bonus\": 0.3604280948638916}, {\"fanta_team\": \"Rione Monti\", \"role\": \"D\", \"player\": \"Singo\", \"team\": \"Torino\", \"opponent\": \"Verona\", \"date\": \"2022-05-14T00:00:00\", \"expected_bonus\": 0.28202730417251587}, {\"fanta_team\": \"Rione Monti\", \"role\": \"D\", \"player\": \"Maehle\", \"team\": \"Atalanta\", \"opponent\": \"AC Milan\", \"date\": \"2022-05-15T00:00:00\", \"expected_bonus\": 0.2143922746181488}, {\"fanta_team\": \"Rione Monti\", \"role\": \"D\", \"player\": \"Bastoni\", \"team\": \"Spezia\", \"opponent\": \"Udinese\", \"date\": \"2022-05-14T00:00:00\", \"expected_bonus\": 0.2000470757484436}, {\"fanta_team\": \"Rione Monti\", \"role\": \"D\", \"player\": \"Maitland-Niles\", \"team\": \"Roma\", \"opponent\": \"Venezia\", \"date\": \"2022-05-14T00:00:00\", \"expected_bonus\": 0.1785281002521515}, {\"fanta_team\": \"Rione Monti\", \"role\": \"D\", \"player\": \"Lazzari\", \"team\": \"Lazio\", \"opponent\": \"Juventus\", \"date\": \"2022-05-16T00:00:00\", \"expected_bonus\": 0.04930669069290161}, {\"fanta_team\": \"Rione Monti\", \"role\": \"D\", \"player\": \"Pezzella\", \"team\": \"Atalanta\", \"opponent\": \"AC Milan\", \"date\": \"2022-05-15T00:00:00\", \"expected_bonus\": 0.031029297038912773}, {\"fanta_team\": \"Rione Monti\", \"role\": \"C\", \"player\": \"Pellegrini\", \"team\": \"Roma\", \"opponent\": \"Venezia\", \"date\": \"2022-05-14T00:00:00\", \"expected_bonus\": 1.0834813117980957}, {\"fanta_team\": \"Rione Monti\", \"role\": \"C\", \"player\": \"Zaniolo\", \"team\": \"Roma\", \"opponent\": \"Venezia\", \"date\": \"2022-05-14T00:00:00\", \"expected_bonus\": 0.9000829458236694}, {\"fanta_team\": \"Rione Monti\", \"role\": \"C\", \"player\": \"Frattesi\", \"team\": \"Sassuolo\", \"opponent\": \"Bologna\", \"date\": \"2022-05-15T00:00:00\", \"expected_bonus\": 0.5516050457954407}, {\"fanta_team\": \"Rione Monti\", \"role\": \"C\", \"player\": \"Henderson\", \"team\": \"Empoli\", \"opponent\": \"Salernitana\", \"date\": \"2022-05-14T00:00:00\", \"expected_bonus\": 0.5349375009536743}, {\"fanta_team\": \"Rione Monti\", \"role\": \"C\", \"player\": \"Anderson\", \"team\": \"Lazio\", \"opponent\": \"Juventus\", \"date\": \"2022-05-16T00:00:00\", \"expected_bonus\": 0.36722856760025024}, {\"fanta_team\": \"Rione Monti\", \"role\": \"C\", \"player\": \"Tameze\", \"team\": \"Verona\", \"opponent\": \"Torino\", \"date\": \"2022-05-14T00:00:00\", \"expected_bonus\": 0.047564297914505005}, {\"fanta_team\": \"Rione Monti\", \"role\": \"A\", \"player\": \"Dzeko\", \"team\": \"Inter\", \"opponent\": \"Cagliari\", \"date\": \"2022-05-15T00:00:00\", \"expected_bonus\": 2.085942029953003}, {\"fanta_team\": \"Rione Monti\", \"role\": \"A\", \"player\": \"Pinamonti\", \"team\": \"Empoli\", \"opponent\": \"Salernitana\", \"date\": \"2022-05-14T00:00:00\", \"expected_bonus\": 1.7090654373168945}, {\"fanta_team\": \"Rione Monti\", \"role\": \"A\", \"player\": \"Ibrahimovic\", \"team\": \"AC Milan\", \"opponent\": \"Atalanta\", \"date\": \"2022-05-15T00:00:00\", \"expected_bonus\": 1.1341801881790161}, {\"fanta_team\": \"Rione Monti\", \"role\": \"A\", \"player\": \"Raspadori\", \"team\": \"Sassuolo\", \"opponent\": \"Bologna\", \"date\": \"2022-05-15T00:00:00\", \"expected_bonus\": 0.9226573705673218}, {\"fanta_team\": \"Rione Monti\", \"role\": \"A\", \"player\": \"Afena-Gyan\", \"team\": \"Roma\", \"opponent\": \"Venezia\", \"date\": \"2022-05-14T00:00:00\", \"expected_bonus\": 0.7284545302391052}, {\"fanta_team\": \"Rione Monti\", \"role\": \"A\", \"player\": \"Pedro\", \"team\": \"Lazio\", \"opponent\": \"Juventus\", \"date\": \"2022-05-16T00:00:00\", \"expected_bonus\": 0.6876778602600098}, {\"fanta_team\": \"MaiNa Joya_v2.0\", \"role\": \"D\", \"player\": \"Gosens\", \"team\": \"Inter\", \"opponent\": \"Cagliari\", \"date\": \"2022-05-15T00:00:00\", \"expected_bonus\": 0.6865835189819336}, {\"fanta_team\": \"MaiNa Joya_v2.0\", \"role\": \"D\", \"player\": \"Hern\\u00e1ndez\", \"team\": \"AC Milan\", \"opponent\": \"Atalanta\", \"date\": \"2022-05-15T00:00:00\", \"expected_bonus\": 0.45087730884552}, {\"fanta_team\": \"MaiNa Joya_v2.0\", \"role\": \"D\", \"player\": \"Molina\", \"team\": \"Udinese\", \"opponent\": \"Spezia\", \"date\": \"2022-05-14T00:00:00\", \"expected_bonus\": 0.28241145610809326}, {\"fanta_team\": \"MaiNa Joya_v2.0\", \"role\": \"D\", \"player\": \"Milenkovic\", \"team\": \"Fiorentina\", \"opponent\": \"Sampdoria\", \"date\": \"2022-05-16T00:00:00\", \"expected_bonus\": 0.2354506254196167}, {\"fanta_team\": \"MaiNa Joya_v2.0\", \"role\": \"D\", \"player\": \"Stojanovic\", \"team\": \"Empoli\", \"opponent\": \"Salernitana\", \"date\": \"2022-05-14T00:00:00\", \"expected_bonus\": 0.23500533401966095}, {\"fanta_team\": \"MaiNa Joya_v2.0\", \"role\": \"D\", \"player\": \"Ferrari\", \"team\": \"Sassuolo\", \"opponent\": \"Bologna\", \"date\": \"2022-05-15T00:00:00\", \"expected_bonus\": 0.19804172217845917}, {\"fanta_team\": \"MaiNa Joya_v2.0\", \"role\": \"D\", \"player\": \"Toloi\", \"team\": \"Atalanta\", \"opponent\": \"AC Milan\", \"date\": \"2022-05-15T00:00:00\", \"expected_bonus\": 0.08813907951116562}, {\"fanta_team\": \"MaiNa Joya_v2.0\", \"role\": \"C\", \"player\": \"Barella\", \"team\": \"Inter\", \"opponent\": \"Cagliari\", \"date\": \"2022-05-15T00:00:00\", \"expected_bonus\": 0.8975180983543396}, {\"fanta_team\": \"MaiNa Joya_v2.0\", \"role\": \"C\", \"player\": \"Milinkovic-Savic\", \"team\": \"Lazio\", \"opponent\": \"Juventus\", \"date\": \"2022-05-16T00:00:00\", \"expected_bonus\": 0.6632130146026611}, {\"fanta_team\": \"MaiNa Joya_v2.0\", \"role\": \"C\", \"player\": \"Pobega\", \"team\": \"Torino\", \"opponent\": \"Verona\", \"date\": \"2022-05-14T00:00:00\", \"expected_bonus\": 0.5457175970077515}, {\"fanta_team\": \"MaiNa Joya_v2.0\", \"role\": \"C\", \"player\": \"Soriano\", \"team\": \"Bologna\", \"opponent\": \"Sassuolo\", \"date\": \"2022-05-15T00:00:00\", \"expected_bonus\": 0.38617056608200073}, {\"fanta_team\": \"MaiNa Joya_v2.0\", \"role\": \"C\", \"player\": \"Bernardeschi\", \"team\": \"Juventus\", \"opponent\": \"Lazio\", \"date\": \"2022-05-16T00:00:00\", \"expected_bonus\": 0.3709167242050171}, {\"fanta_team\": \"MaiNa Joya_v2.0\", \"role\": \"C\", \"player\": \"Locatelli\", \"team\": \"Juventus\", \"opponent\": \"Lazio\", \"date\": \"2022-05-16T00:00:00\", \"expected_bonus\": 0.2843972444534302}, {\"fanta_team\": \"MaiNa Joya_v2.0\", \"role\": \"C\", \"player\": \"Sensi\", \"team\": \"Sampdoria\", \"opponent\": \"Fiorentina\", \"date\": \"2022-05-16T00:00:00\", \"expected_bonus\": 0.0032843351364135742}, {\"fanta_team\": \"MaiNa Joya_v2.0\", \"role\": \"A\", \"player\": \"Abraham\", \"team\": \"Roma\", \"opponent\": \"Venezia\", \"date\": \"2022-05-14T00:00:00\", \"expected_bonus\": 1.9528590440750122}, {\"fanta_team\": \"MaiNa Joya_v2.0\", \"role\": \"A\", \"player\": \"Insigne\", \"team\": \"Napoli\", \"opponent\": \"Genoa\", \"date\": \"2022-05-15T00:00:00\", \"expected_bonus\": 1.9427224397659302}, {\"fanta_team\": \"MaiNa Joya_v2.0\", \"role\": \"A\", \"player\": \"Morata\", \"team\": \"Juventus\", \"opponent\": \"Lazio\", \"date\": \"2022-05-16T00:00:00\", \"expected_bonus\": 1.1757391691207886}, {\"fanta_team\": \"MaiNa Joya_v2.0\", \"role\": \"A\", \"player\": \"Arnautovic\", \"team\": \"Bologna\", \"opponent\": \"Sassuolo\", \"date\": \"2022-05-15T00:00:00\", \"expected_bonus\": 1.0619381666183472}, {\"fanta_team\": \"MaiNa Joya_v2.0\", \"role\": \"A\", \"player\": \"Brekalo\", \"team\": \"Torino\", \"opponent\": \"Verona\", \"date\": \"2022-05-14T00:00:00\", \"expected_bonus\": 0.8894080519676208}, {\"fanta_team\": \"MaiNa Joya_v2.0\", \"role\": \"A\", \"player\": \"Boga\", \"team\": \"Atalanta\", \"opponent\": \"AC Milan\", \"date\": \"2022-05-15T00:00:00\", \"expected_bonus\": 0.5373132228851318}, {\"fanta_team\": \"MEZAFE\", \"role\": \"D\", \"player\": \"Criscito\", \"team\": \"Genoa\", \"opponent\": \"Napoli\", \"date\": \"2022-05-15T00:00:00\", \"expected_bonus\": 0.41655436158180237}, {\"fanta_team\": \"MEZAFE\", \"role\": \"D\", \"player\": \"Bonucci\", \"team\": \"Juventus\", \"opponent\": \"Lazio\", \"date\": \"2022-05-16T00:00:00\", \"expected_bonus\": 0.4142729640007019}, {\"fanta_team\": \"MEZAFE\", \"role\": \"D\", \"player\": \"Mancini\", \"team\": \"Roma\", \"opponent\": \"Venezia\", \"date\": \"2022-05-14T00:00:00\", \"expected_bonus\": 0.32845252752304077}, {\"fanta_team\": \"MEZAFE\", \"role\": \"D\", \"player\": \"Zappacosta\", \"team\": \"Atalanta\", \"opponent\": \"AC Milan\", \"date\": \"2022-05-15T00:00:00\", \"expected_bonus\": 0.2655637264251709}, {\"fanta_team\": \"MEZAFE\", \"role\": \"D\", \"player\": \"Vrij\", \"team\": \"Inter\", \"opponent\": \"Cagliari\", \"date\": \"2022-05-15T00:00:00\", \"expected_bonus\": 0.24857589602470398}, {\"fanta_team\": \"MEZAFE\", \"role\": \"D\", \"player\": \"Danilo\", \"team\": \"Juventus\", \"opponent\": \"Lazio\", \"date\": \"2022-05-16T00:00:00\", \"expected_bonus\": 0.24375025928020477}, {\"fanta_team\": \"MEZAFE\", \"role\": \"D\", \"player\": \"Silvestri\", \"team\": \"Bologna\", \"opponent\": \"Sassuolo\", \"date\": \"2022-05-15T00:00:00\", \"expected_bonus\": 0.23192007839679718}, {\"fanta_team\": \"MEZAFE\", \"role\": \"D\", \"player\": \"Chiellini\", \"team\": \"Juventus\", \"opponent\": \"Lazio\", \"date\": \"2022-05-16T00:00:00\", \"expected_bonus\": 0.1812846064567566}, {\"fanta_team\": \"MEZAFE\", \"role\": \"C\", \"player\": \"Verdi\", \"team\": \"Salernitana\", \"opponent\": \"Empoli\", \"date\": \"2022-05-14T00:00:00\", \"expected_bonus\": 0.7894868850708008}, {\"fanta_team\": \"MEZAFE\", \"role\": \"C\", \"player\": \"Pasalic\", \"team\": \"Atalanta\", \"opponent\": \"AC Milan\", \"date\": \"2022-05-15T00:00:00\", \"expected_bonus\": 0.644254207611084}, {\"fanta_team\": \"MEZAFE\", \"role\": \"C\", \"player\": \"Saelemaekers\", \"team\": \"AC Milan\", \"opponent\": \"Atalanta\", \"date\": \"2022-05-15T00:00:00\", \"expected_bonus\": 0.49040931463241577}, {\"fanta_team\": \"MEZAFE\", \"role\": \"C\", \"player\": \"Perisic\", \"team\": \"Inter\", \"opponent\": \"Cagliari\", \"date\": \"2022-05-15T00:00:00\", \"expected_bonus\": 0.47488853335380554}, {\"fanta_team\": \"MEZAFE\", \"role\": \"C\", \"player\": \"McKennie\", \"team\": \"Juventus\", \"opponent\": \"Lazio\", \"date\": \"2022-05-16T00:00:00\", \"expected_bonus\": 0.4277098476886749}, {\"fanta_team\": \"MEZAFE\", \"role\": \"C\", \"player\": \"Lazovic\", \"team\": \"Verona\", \"opponent\": \"Torino\", \"date\": \"2022-05-14T00:00:00\", \"expected_bonus\": 0.28586190938949585}, {\"fanta_team\": \"MEZAFE\", \"role\": \"C\", \"player\": \"Castrovilli\", \"team\": \"Fiorentina\", \"opponent\": \"Sampdoria\", \"date\": \"2022-05-16T00:00:00\", \"expected_bonus\": 0.2404085099697113}, {\"fanta_team\": \"MEZAFE\", \"role\": \"C\", \"player\": \"Tonali\", \"team\": \"AC Milan\", \"opponent\": \"Atalanta\", \"date\": \"2022-05-15T00:00:00\", \"expected_bonus\": 0.21003898978233337}, {\"fanta_team\": \"MEZAFE\", \"role\": \"A\", \"player\": \"Dybala\", \"team\": \"Juventus\", \"opponent\": \"Lazio\", \"date\": \"2022-05-16T00:00:00\", \"expected_bonus\": 1.5986964702606201}, {\"fanta_team\": \"MEZAFE\", \"role\": \"A\", \"player\": \"Piatek\", \"team\": \"Fiorentina\", \"opponent\": \"Sampdoria\", \"date\": \"2022-05-16T00:00:00\", \"expected_bonus\": 1.1616783142089844}, {\"fanta_team\": \"MEZAFE\", \"role\": \"A\", \"player\": \"Simeone\", \"team\": \"Verona\", \"opponent\": \"Torino\", \"date\": \"2022-05-14T00:00:00\", \"expected_bonus\": 1.023447036743164}, {\"fanta_team\": \"MEZAFE\", \"role\": \"A\", \"player\": \"Sanabria\", \"team\": \"Torino\", \"opponent\": \"Verona\", \"date\": \"2022-05-14T00:00:00\", \"expected_bonus\": 1.0229253768920898}, {\"fanta_team\": \"MEZAFE\", \"role\": \"A\", \"player\": \"Quagliarella\", \"team\": \"Sampdoria\", \"opponent\": \"Fiorentina\", \"date\": \"2022-05-16T00:00:00\", \"expected_bonus\": 0.9480608701705933}, {\"fanta_team\": \"MEZAFE\", \"role\": \"A\", \"player\": \"Rebic\", \"team\": \"AC Milan\", \"opponent\": \"Atalanta\", \"date\": \"2022-05-15T00:00:00\", \"expected_bonus\": 0.19620609283447266}, {\"fanta_team\": \"Beverly INPS\", \"role\": \"D\", \"player\": \"Dimarco\", \"team\": \"Inter\", \"opponent\": \"Cagliari\", \"date\": \"2022-05-15T00:00:00\", \"expected_bonus\": 0.7239450812339783}, {\"fanta_team\": \"Beverly INPS\", \"role\": \"D\", \"player\": \"Lorenzo\", \"team\": \"Napoli\", \"opponent\": \"Genoa\", \"date\": \"2022-05-15T00:00:00\", \"expected_bonus\": 0.38292741775512695}, {\"fanta_team\": \"Beverly INPS\", \"role\": \"D\", \"player\": \"Cuadrado\", \"team\": \"Juventus\", \"opponent\": \"Lazio\", \"date\": \"2022-05-16T00:00:00\", \"expected_bonus\": 0.3522907495498657}, {\"fanta_team\": \"Beverly INPS\", \"role\": \"D\", \"player\": \"Bastoni\", \"team\": \"Inter\", \"opponent\": \"Cagliari\", \"date\": \"2022-05-15T00:00:00\", \"expected_bonus\": 0.26788774132728577}, {\"fanta_team\": \"Beverly INPS\", \"role\": \"D\", \"player\": \"Spinazzola\", \"team\": \"Roma\", \"opponent\": \"Venezia\", \"date\": \"2022-05-14T00:00:00\", \"expected_bonus\": 0.2277183085680008}, {\"fanta_team\": \"Beverly INPS\", \"role\": \"D\", \"player\": \"Nuytinck\", \"team\": \"Udinese\", \"opponent\": \"Spezia\", \"date\": \"2022-05-14T00:00:00\", \"expected_bonus\": 0.14026498794555664}, {\"fanta_team\": \"Beverly INPS\", \"role\": \"D\", \"player\": \"Romagnoli\", \"team\": \"AC Milan\", \"opponent\": \"Atalanta\", \"date\": \"2022-05-15T00:00:00\", \"expected_bonus\": 0.08885183930397034}, {\"fanta_team\": \"Beverly INPS\", \"role\": \"D\", \"player\": \"Cambiaso\", \"team\": \"Genoa\", \"opponent\": \"Napoli\", \"date\": \"2022-05-15T00:00:00\", \"expected_bonus\": 0.08850645273923874}, {\"fanta_team\": \"Beverly INPS\", \"role\": \"C\", \"player\": \"Zielinski\", \"team\": \"Napoli\", \"opponent\": \"Genoa\", \"date\": \"2022-05-15T00:00:00\", \"expected_bonus\": 1.0400444269180298}, {\"fanta_team\": \"Beverly INPS\", \"role\": \"C\", \"player\": \"Barak\", \"team\": \"Verona\", \"opponent\": \"Torino\", \"date\": \"2022-05-14T00:00:00\", \"expected_bonus\": 0.7177931666374207}, {\"fanta_team\": \"Beverly INPS\", \"role\": \"C\", \"player\": \"Veretout\", \"team\": \"Roma\", \"opponent\": \"Venezia\", \"date\": \"2022-05-14T00:00:00\", \"expected_bonus\": 0.7084778547286987}, {\"fanta_team\": \"Beverly INPS\", \"role\": \"C\", \"player\": \"Praet\", \"team\": \"Torino\", \"opponent\": \"Verona\", \"date\": \"2022-05-14T00:00:00\", \"expected_bonus\": 0.5761178731918335}, {\"fanta_team\": \"Beverly INPS\", \"role\": \"C\", \"player\": \"Kessi\\u00e9\", \"team\": \"AC Milan\", \"opponent\": \"Atalanta\", \"date\": \"2022-05-15T00:00:00\", \"expected_bonus\": 0.4642001986503601}, {\"fanta_team\": \"Beverly INPS\", \"role\": \"C\", \"player\": \"Elmas\", \"team\": \"Napoli\", \"opponent\": \"Genoa\", \"date\": \"2022-05-15T00:00:00\", \"expected_bonus\": 0.4428200423717499}, {\"fanta_team\": \"Beverly INPS\", \"role\": \"C\", \"player\": \"Alberto\", \"team\": \"Lazio\", \"opponent\": \"Juventus\", \"date\": \"2022-05-16T00:00:00\", \"expected_bonus\": 0.3560762405395508}, {\"fanta_team\": \"Beverly INPS\", \"role\": \"A\", \"player\": \"Mart\\u00ednez\", \"team\": \"Inter\", \"opponent\": \"Cagliari\", \"date\": \"2022-05-15T00:00:00\", \"expected_bonus\": 2.185236930847168}, {\"fanta_team\": \"Beverly INPS\", \"role\": \"A\", \"player\": \"Berardi\", \"team\": \"Sassuolo\", \"opponent\": \"Bologna\", \"date\": \"2022-05-15T00:00:00\", \"expected_bonus\": 1.4473294019699097}, {\"fanta_team\": \"Beverly INPS\", \"role\": \"A\", \"player\": \"Mertens\", \"team\": \"Napoli\", \"opponent\": \"Genoa\", \"date\": \"2022-05-15T00:00:00\", \"expected_bonus\": 1.408703327178955}, {\"fanta_team\": \"Beverly INPS\", \"role\": \"A\", \"player\": \"Deulofeu\", \"team\": \"Udinese\", \"opponent\": \"Spezia\", \"date\": \"2022-05-14T00:00:00\", \"expected_bonus\": 1.1689894199371338}, {\"fanta_team\": \"Beverly INPS\", \"role\": \"A\", \"player\": \"Barrow\", \"team\": \"Bologna\", \"opponent\": \"Sassuolo\", \"date\": \"2022-05-15T00:00:00\", \"expected_bonus\": 0.8938981890678406}, {\"fanta_team\": \"Beverly INPS\", \"role\": \"A\", \"player\": \"Gonz\\u00e1lez\", \"team\": \"Fiorentina\", \"opponent\": \"Sampdoria\", \"date\": \"2022-05-16T00:00:00\", \"expected_bonus\": 0.7895247936248779}, {\"fanta_team\": \"AI sereje ja dejeDe jebe tu de jebere\", \"role\": \"D\", \"player\": \"Rrahmani\", \"team\": \"Napoli\", \"opponent\": \"Genoa\", \"date\": \"2022-05-15T00:00:00\", \"expected_bonus\": 0.4065452218055725}, {\"fanta_team\": \"AI sereje ja dejeDe jebe tu de jebere\", \"role\": \"D\", \"player\": \"Skriniar\", \"team\": \"Inter\", \"opponent\": \"Cagliari\", \"date\": \"2022-05-15T00:00:00\", \"expected_bonus\": 0.3539264500141144}, {\"fanta_team\": \"AI sereje ja dejeDe jebe tu de jebere\", \"role\": \"D\", \"player\": \"Darmian\", \"team\": \"Inter\", \"opponent\": \"Cagliari\", \"date\": \"2022-05-15T00:00:00\", \"expected_bonus\": 0.3228536546230316}, {\"fanta_team\": \"AI sereje ja dejeDe jebe tu de jebere\", \"role\": \"D\", \"player\": \"Tuanzebe\", \"team\": \"Napoli\", \"opponent\": \"Genoa\", \"date\": \"2022-05-15T00:00:00\", \"expected_bonus\": 0.2789321839809418}, {\"fanta_team\": \"AI sereje ja dejeDe jebe tu de jebere\", \"role\": \"D\", \"player\": \"Yoshida\", \"team\": \"Sampdoria\", \"opponent\": \"Fiorentina\", \"date\": \"2022-05-16T00:00:00\", \"expected_bonus\": 0.09607110172510147}, {\"fanta_team\": \"AI sereje ja dejeDe jebe tu de jebere\", \"role\": \"D\", \"player\": \"Acerbi\", \"team\": \"Lazio\", \"opponent\": \"Juventus\", \"date\": \"2022-05-16T00:00:00\", \"expected_bonus\": 0.08815164119005203}, {\"fanta_team\": \"AI sereje ja dejeDe jebe tu de jebere\", \"role\": \"D\", \"player\": \"Hateboer\", \"team\": \"Atalanta\", \"opponent\": \"AC Milan\", \"date\": \"2022-05-15T00:00:00\", \"expected_bonus\": 0.08522694557905197}, {\"fanta_team\": \"AI sereje ja dejeDe jebe tu de jebere\", \"role\": \"C\", \"player\": \"Bajrami\", \"team\": \"Empoli\", \"opponent\": \"Salernitana\", \"date\": \"2022-05-14T00:00:00\", \"expected_bonus\": 1.1601049900054932}, {\"fanta_team\": \"AI sereje ja dejeDe jebe tu de jebere\", \"role\": \"C\", \"player\": \"Djuricic\", \"team\": \"Sassuolo\", \"opponent\": \"Bologna\", \"date\": \"2022-05-15T00:00:00\", \"expected_bonus\": 0.6762226819992065}, {\"fanta_team\": \"AI sereje ja dejeDe jebe tu de jebere\", \"role\": \"C\", \"player\": \"Bonaventura\", \"team\": \"Fiorentina\", \"opponent\": \"Sampdoria\", \"date\": \"2022-05-16T00:00:00\", \"expected_bonus\": 0.6184005737304688}, {\"fanta_team\": \"AI sereje ja dejeDe jebe tu de jebere\", \"role\": \"C\", \"player\": \"Candreva\", \"team\": \"Sampdoria\", \"opponent\": \"Fiorentina\", \"date\": \"2022-05-16T00:00:00\", \"expected_bonus\": 0.6134169101715088}, {\"fanta_team\": \"AI sereje ja dejeDe jebe tu de jebere\", \"role\": \"C\", \"player\": \"Lukic\", \"team\": \"Torino\", \"opponent\": \"Verona\", \"date\": \"2022-05-14T00:00:00\", \"expected_bonus\": 0.30737876892089844}, {\"fanta_team\": \"AI sereje ja dejeDe jebe tu de jebere\", \"role\": \"C\", \"player\": \"Svanberg\", \"team\": \"Bologna\", \"opponent\": \"Sassuolo\", \"date\": \"2022-05-15T00:00:00\", \"expected_bonus\": 0.2410220056772232}, {\"fanta_team\": \"AI sereje ja dejeDe jebe tu de jebere\", \"role\": \"C\", \"player\": \"Zakaria\", \"team\": \"Juventus\", \"opponent\": \"Lazio\", \"date\": \"2022-05-16T00:00:00\", \"expected_bonus\": 0.19112278521060944}, {\"fanta_team\": \"AI sereje ja dejeDe jebe tu de jebere\", \"role\": \"A\", \"player\": \"Vlahovic\", \"team\": \"Juventus\", \"opponent\": \"Lazio\", \"date\": \"2022-05-16T00:00:00\", \"expected_bonus\": 2.012423276901245}, {\"fanta_team\": \"AI sereje ja dejeDe jebe tu de jebere\", \"role\": \"A\", \"player\": \"Zapata\", \"team\": \"Atalanta\", \"opponent\": \"AC Milan\", \"date\": \"2022-05-15T00:00:00\", \"expected_bonus\": 1.3013807535171509}, {\"fanta_team\": \"AI sereje ja dejeDe jebe tu de jebere\", \"role\": \"A\", \"player\": \"Lozano\", \"team\": \"Napoli\", \"opponent\": \"Genoa\", \"date\": \"2022-05-15T00:00:00\", \"expected_bonus\": 1.2358561754226685}, {\"fanta_team\": \"AI sereje ja dejeDe jebe tu de jebere\", \"role\": \"A\", \"player\": \"Beto\", \"team\": \"Udinese\", \"opponent\": \"Spezia\", \"date\": \"2022-05-14T00:00:00\", \"expected_bonus\": 1.1314347982406616}, {\"fanta_team\": \"AI sereje ja dejeDe jebe tu de jebere\", \"role\": \"A\", \"player\": \"Destro\", \"team\": \"Genoa\", \"opponent\": \"Napoli\", \"date\": \"2022-05-15T00:00:00\", \"expected_bonus\": 0.7997936010360718}, {\"fanta_team\": \"AI sereje ja dejeDe jebe tu de jebere\", \"role\": \"A\", \"player\": \"Gyasi\", \"team\": \"Spezia\", \"opponent\": \"Udinese\", \"date\": \"2022-05-14T00:00:00\", \"expected_bonus\": 0.5498619079589844}, {\"fanta_team\": \"AC Picchia\", \"role\": \"D\", \"player\": \"Calabria\", \"team\": \"AC Milan\", \"opponent\": \"Atalanta\", \"date\": \"2022-05-15T00:00:00\", \"expected_bonus\": 0.47357526421546936}, {\"fanta_team\": \"AC Picchia\", \"role\": \"D\", \"player\": \"Odriozola\", \"team\": \"Fiorentina\", \"opponent\": \"Sampdoria\", \"date\": \"2022-05-16T00:00:00\", \"expected_bonus\": 0.27441051602363586}, {\"fanta_team\": \"AC Picchia\", \"role\": \"D\", \"player\": \"Ligt\", \"team\": \"Juventus\", \"opponent\": \"Lazio\", \"date\": \"2022-05-16T00:00:00\", \"expected_bonus\": 0.27257710695266724}, {\"fanta_team\": \"AC Picchia\", \"role\": \"D\", \"player\": \"Florenzi\", \"team\": \"AC Milan\", \"opponent\": \"Atalanta\", \"date\": \"2022-05-15T00:00:00\", \"expected_bonus\": 0.23748888075351715}, {\"fanta_team\": \"AC Picchia\", \"role\": \"D\", \"player\": \"Faraoni\", \"team\": \"Verona\", \"opponent\": \"Torino\", \"date\": \"2022-05-14T00:00:00\", \"expected_bonus\": 0.19595392048358917}, {\"fanta_team\": \"AC Picchia\", \"role\": \"D\", \"player\": \"Dalbert\", \"team\": \"Cagliari\", \"opponent\": \"Inter\", \"date\": \"2022-05-15T00:00:00\", \"expected_bonus\": 0.12870413064956665}, {\"fanta_team\": \"AC Picchia\", \"role\": \"D\", \"player\": \"Augello\", \"team\": \"Sampdoria\", \"opponent\": \"Fiorentina\", \"date\": \"2022-05-16T00:00:00\", \"expected_bonus\": 0.10150683671236038}, {\"fanta_team\": \"AC Picchia\", \"role\": \"D\", \"player\": \"Ansaldi\", \"team\": \"Torino\", \"opponent\": \"Verona\", \"date\": \"2022-05-14T00:00:00\", \"expected_bonus\": 0.013457236811518669}, {\"fanta_team\": \"AC Picchia\", \"role\": \"C\", \"player\": \"Calhanoglu\", \"team\": \"Inter\", \"opponent\": \"Cagliari\", \"date\": \"2022-05-15T00:00:00\", \"expected_bonus\": 1.010969877243042}, {\"fanta_team\": \"AC Picchia\", \"role\": \"C\", \"player\": \"Aramu\", \"team\": \"Venezia\", \"opponent\": \"Roma\", \"date\": \"2022-05-14T00:00:00\", \"expected_bonus\": 0.7730761170387268}, {\"fanta_team\": \"AC Picchia\", \"role\": \"C\", \"player\": \"Malinovskiy\", \"team\": \"Atalanta\", \"opponent\": \"AC Milan\", \"date\": \"2022-05-15T00:00:00\", \"expected_bonus\": 0.6994948387145996}, {\"fanta_team\": \"AC Picchia\", \"role\": \"C\", \"player\": \"Orsolini\", \"team\": \"Bologna\", \"opponent\": \"Sassuolo\", \"date\": \"2022-05-15T00:00:00\", \"expected_bonus\": 0.3811130225658417}, {\"fanta_team\": \"AC Picchia\", \"role\": \"C\", \"player\": \"Brozovic\", \"team\": \"Inter\", \"opponent\": \"Cagliari\", \"date\": \"2022-05-15T00:00:00\", \"expected_bonus\": 0.3252190053462982}, {\"fanta_team\": \"AC Picchia\", \"role\": \"C\", \"player\": \"Thorsby\", \"team\": \"Sampdoria\", \"opponent\": \"Fiorentina\", \"date\": \"2022-05-16T00:00:00\", \"expected_bonus\": 0.2569971978664398}, {\"fanta_team\": \"AC Picchia\", \"role\": \"C\", \"player\": \"N\\u00e1ndez\", \"team\": \"Cagliari\", \"opponent\": \"Inter\", \"date\": \"2022-05-15T00:00:00\", \"expected_bonus\": 0.12052083760499954}, {\"fanta_team\": \"AC Picchia\", \"role\": \"C\", \"player\": \"Marin\", \"team\": \"Cagliari\", \"opponent\": \"Inter\", \"date\": \"2022-05-15T00:00:00\", \"expected_bonus\": 0.11748314648866653}, {\"fanta_team\": \"AC Picchia\", \"role\": \"A\", \"player\": \"Muriel\", \"team\": \"Atalanta\", \"opponent\": \"AC Milan\", \"date\": \"2022-05-15T00:00:00\", \"expected_bonus\": 1.0848047733306885}, {\"fanta_team\": \"AC Picchia\", \"role\": \"A\", \"player\": \"Caputo\", \"team\": \"Sampdoria\", \"opponent\": \"Fiorentina\", \"date\": \"2022-05-16T00:00:00\", \"expected_bonus\": 1.041374921798706}, {\"fanta_team\": \"AC Picchia\", \"role\": \"A\", \"player\": \"Henry\", \"team\": \"Venezia\", \"opponent\": \"Roma\", \"date\": \"2022-05-14T00:00:00\", \"expected_bonus\": 0.8644464612007141}, {\"fanta_team\": \"AC Picchia\", \"role\": \"A\", \"player\": \"Giroud\", \"team\": \"AC Milan\", \"opponent\": \"Atalanta\", \"date\": \"2022-05-15T00:00:00\", \"expected_bonus\": 0.8271709680557251}, {\"fanta_team\": \"AC Picchia\", \"role\": \"A\", \"player\": \"Verde\", \"team\": \"Spezia\", \"opponent\": \"Udinese\", \"date\": \"2022-05-14T00:00:00\", \"expected_bonus\": 0.4092394709587097}, {\"fanta_team\": \"AC Picchia\", \"role\": \"A\", \"player\": \"Cabral\", \"team\": \"Fiorentina\", \"opponent\": \"Sampdoria\", \"date\": \"2022-05-16T00:00:00\", \"expected_bonus\": 0.17603668570518494}]}}, {\"actions\": false, \"mode\": \"vega-lite\"});\n</script>",
      "text/plain": "alt.Chart(...)"
     },
     "metadata": {}
    }
   ]
  },
  {
   "cell_type": "code",
   "metadata": {
    "cell_id": "c757b1dc-1791-4f8f-8d75-1e5fa62fa250",
    "tags": [],
    "deepnote_to_be_reexecuted": false,
    "source_hash": "ac51fc04",
    "execution_start": 1652245534575,
    "execution_millis": 604763736,
    "deepnote_cell_type": "code"
   },
   "source": "teams = sorted(list(predictions['fanta_team'].unique()))\nindex = 0",
   "execution_count": 5,
   "outputs": []
  },
  {
   "cell_type": "code",
   "metadata": {
    "cell_id": "661bb9dc-37c8-4f24-b69b-ca2aae9a3388",
    "tags": [],
    "deepnote_to_be_reexecuted": false,
    "source_hash": "3f500048",
    "execution_start": 1652245534622,
    "execution_millis": 604763737,
    "deepnote_cell_type": "code"
   },
   "source": "team, index = display_fanta_squad(predictions, teams, index)",
   "execution_count": 6,
   "outputs": []
  },
  {
   "cell_type": "code",
   "source": "_deepnote_run_altair(team, \"\"\"{\"$schema\":\"https://vega.github.io/schema/vega-lite/v4.json\",\"mark\":{\"type\":\"bar\",\"tooltip\":{\"content\":\"data\"}},\"height\":220,\"autosize\":{\"type\":\"fit\"},\"data\":{\"name\":\"placeholder\"},\"encoding\":{\"x\":{\"field\":\"expected_bonus\",\"type\":\"quantitative\",\"sort\":null,\"scale\":{\"type\":\"linear\",\"zero\":false}},\"y\":{\"field\":\"player\",\"type\":\"nominal\",\"sort\":null,\"scale\":{\"type\":\"linear\",\"zero\":true}},\"color\":{\"field\":\"role\",\"type\":\"nominal\",\"sort\":null,\"scale\":{\"type\":\"linear\",\"zero\":false}}}}\"\"\")",
   "metadata": {
    "cell_id": "2feea2e5-a58f-4290-9ed7-09ad345cef92",
    "deepnote_variable_name": "team",
    "deepnote_visualization_spec": {
     "$schema": "https://vega.github.io/schema/vega-lite/v4.json",
     "mark": {
      "type": "bar",
      "tooltip": {
       "content": "data"
      }
     },
     "height": 220,
     "autosize": {
      "type": "fit"
     },
     "data": {
      "name": "placeholder"
     },
     "encoding": {
      "x": {
       "field": "expected_bonus",
       "type": "quantitative",
       "sort": null,
       "scale": {
        "type": "linear",
        "zero": false
       }
      },
      "y": {
       "field": "player",
       "type": "nominal",
       "sort": null,
       "scale": {
        "type": "linear",
        "zero": true
       }
      },
      "color": {
       "field": "role",
       "type": "nominal",
       "sort": null,
       "scale": {
        "type": "linear",
        "zero": false
       }
      }
     }
    },
    "deepnote_to_be_reexecuted": false,
    "source_hash": "e68de25e",
    "execution_start": 1652245534622,
    "execution_millis": 42,
    "allow_embed": "output",
    "deepnote_cell_type": "visualization",
    "deepnote_output_heights": [
     314
    ]
   },
   "execution_count": 7,
   "outputs": [
    {
     "output_type": "execute_result",
     "execution_count": 7,
     "data": {
      "text/html": "\n<div id=\"altair-viz-9c3bf66885e94f598d2f4b65ed721a3d\"></div>\n<script type=\"text/javascript\">\n  (function(spec, embedOpt){\n    let outputDiv = document.currentScript.previousElementSibling;\n    if (outputDiv.id !== \"altair-viz-9c3bf66885e94f598d2f4b65ed721a3d\") {\n      outputDiv = document.getElementById(\"altair-viz-9c3bf66885e94f598d2f4b65ed721a3d\");\n    }\n    const paths = {\n      \"vega\": \"https://cdn.jsdelivr.net/npm//vega@5?noext\",\n      \"vega-lib\": \"https://cdn.jsdelivr.net/npm//vega-lib?noext\",\n      \"vega-lite\": \"https://cdn.jsdelivr.net/npm//vega-lite@4.8.1?noext\",\n      \"vega-embed\": \"https://cdn.jsdelivr.net/npm//vega-embed@6?noext\",\n    };\n\n    function loadScript(lib) {\n      return new Promise(function(resolve, reject) {\n        var s = document.createElement('script');\n        s.src = paths[lib];\n        s.async = true;\n        s.onload = () => resolve(paths[lib]);\n        s.onerror = () => reject(`Error loading script: ${paths[lib]}`);\n        document.getElementsByTagName(\"head\")[0].appendChild(s);\n      });\n    }\n\n    function showError(err) {\n      outputDiv.innerHTML = `<div class=\"error\" style=\"color:red;\">${err}</div>`;\n      throw err;\n    }\n\n    function displayChart(vegaEmbed) {\n      vegaEmbed(outputDiv, spec, embedOpt)\n        .catch(err => showError(`Javascript Error: ${err.message}<br>This usually means there's a typo in your chart specification. See the javascript console for the full traceback.`));\n    }\n\n    if(typeof define === \"function\" && define.amd) {\n      requirejs.config({paths});\n      require([\"vega-embed\"], displayChart, err => showError(`Error loading script: ${err.message}`));\n    } else if (typeof vegaEmbed === \"function\") {\n      displayChart(vegaEmbed);\n    } else {\n      loadScript(\"vega\")\n        .then(() => loadScript(\"vega-lite\"))\n        .then(() => loadScript(\"vega-embed\"))\n        .catch(showError)\n        .then(() => displayChart(vegaEmbed));\n    }\n  })({\"config\": {\"view\": {\"continuousWidth\": 400, \"continuousHeight\": 300}, \"area\": {\"fill\": \"#51C0E9\"}, \"axis\": {\"labelFont\": \"Inter, sans-serif\", \"labelFontSize\": 12, \"labelFontWeight\": \"normal\", \"labelLimit\": 60, \"labelOverlap\": \"greedy\", \"titleFont\": \"Inter, sans-serif\", \"titleFontSize\": 12, \"titleFontWeight\": \"bold\"}, \"background\": \"#ffffff\", \"legend\": {\"labelFont\": \"Inter, sans-serif\", \"labelFontSize\": 12, \"titleFont\": \"Inter, sans-serif\", \"titleFontSize\": 12, \"titleFontWeight\": \"bold\"}, \"line\": {\"stroke\": \"#51C0E9\", \"strokeWidth\": 2}, \"rect\": {\"fill\": \"#51C0E9\"}, \"title\": {\"anchor\": \"start\", \"color\": \"#000000\", \"font\": \"Inter, sans-serif\", \"fontSize\": 22, \"fontWeight\": \"normal\"}}, \"data\": {\"name\": \"data-1bc453ffd561a2db8809956c0a9ea779\"}, \"mark\": {\"type\": \"bar\", \"tooltip\": {\"content\": \"data\"}}, \"autosize\": {\"type\": \"fit\"}, \"encoding\": {\"color\": {\"type\": \"nominal\", \"field\": \"role\", \"scale\": {\"type\": \"linear\", \"zero\": false}, \"sort\": null}, \"x\": {\"type\": \"quantitative\", \"field\": \"expected_bonus\", \"scale\": {\"type\": \"linear\", \"zero\": false}, \"sort\": null}, \"y\": {\"type\": \"nominal\", \"field\": \"player\", \"scale\": {\"type\": \"linear\", \"zero\": true}, \"sort\": null}}, \"height\": 300, \"width\": \"container\", \"$schema\": \"https://vega.github.io/schema/vega-lite/v4.json\", \"datasets\": {\"data-1bc453ffd561a2db8809956c0a9ea779\": [{\"fanta_team\": \"AC Picchia\", \"role\": \"D\", \"player\": \"Calabria\", \"team\": \"AC Milan\", \"opponent\": \"Atalanta\", \"date\": \"2022-05-15T00:00:00\", \"expected_bonus\": 0.47357526421546936}, {\"fanta_team\": \"AC Picchia\", \"role\": \"D\", \"player\": \"Odriozola\", \"team\": \"Fiorentina\", \"opponent\": \"Sampdoria\", \"date\": \"2022-05-16T00:00:00\", \"expected_bonus\": 0.27441051602363586}, {\"fanta_team\": \"AC Picchia\", \"role\": \"D\", \"player\": \"Ligt\", \"team\": \"Juventus\", \"opponent\": \"Lazio\", \"date\": \"2022-05-16T00:00:00\", \"expected_bonus\": 0.27257710695266724}, {\"fanta_team\": \"AC Picchia\", \"role\": \"D\", \"player\": \"Florenzi\", \"team\": \"AC Milan\", \"opponent\": \"Atalanta\", \"date\": \"2022-05-15T00:00:00\", \"expected_bonus\": 0.23748888075351715}, {\"fanta_team\": \"AC Picchia\", \"role\": \"D\", \"player\": \"Faraoni\", \"team\": \"Verona\", \"opponent\": \"Torino\", \"date\": \"2022-05-14T00:00:00\", \"expected_bonus\": 0.19595392048358917}, {\"fanta_team\": \"AC Picchia\", \"role\": \"D\", \"player\": \"Dalbert\", \"team\": \"Cagliari\", \"opponent\": \"Inter\", \"date\": \"2022-05-15T00:00:00\", \"expected_bonus\": 0.12870413064956665}, {\"fanta_team\": \"AC Picchia\", \"role\": \"D\", \"player\": \"Augello\", \"team\": \"Sampdoria\", \"opponent\": \"Fiorentina\", \"date\": \"2022-05-16T00:00:00\", \"expected_bonus\": 0.10150683671236038}, {\"fanta_team\": \"AC Picchia\", \"role\": \"D\", \"player\": \"Ansaldi\", \"team\": \"Torino\", \"opponent\": \"Verona\", \"date\": \"2022-05-14T00:00:00\", \"expected_bonus\": 0.013457236811518669}, {\"fanta_team\": \"AC Picchia\", \"role\": \"C\", \"player\": \"Calhanoglu\", \"team\": \"Inter\", \"opponent\": \"Cagliari\", \"date\": \"2022-05-15T00:00:00\", \"expected_bonus\": 1.010969877243042}, {\"fanta_team\": \"AC Picchia\", \"role\": \"C\", \"player\": \"Aramu\", \"team\": \"Venezia\", \"opponent\": \"Roma\", \"date\": \"2022-05-14T00:00:00\", \"expected_bonus\": 0.7730761170387268}, {\"fanta_team\": \"AC Picchia\", \"role\": \"C\", \"player\": \"Malinovskiy\", \"team\": \"Atalanta\", \"opponent\": \"AC Milan\", \"date\": \"2022-05-15T00:00:00\", \"expected_bonus\": 0.6994948387145996}, {\"fanta_team\": \"AC Picchia\", \"role\": \"C\", \"player\": \"Orsolini\", \"team\": \"Bologna\", \"opponent\": \"Sassuolo\", \"date\": \"2022-05-15T00:00:00\", \"expected_bonus\": 0.3811130225658417}, {\"fanta_team\": \"AC Picchia\", \"role\": \"C\", \"player\": \"Brozovic\", \"team\": \"Inter\", \"opponent\": \"Cagliari\", \"date\": \"2022-05-15T00:00:00\", \"expected_bonus\": 0.3252190053462982}, {\"fanta_team\": \"AC Picchia\", \"role\": \"C\", \"player\": \"Thorsby\", \"team\": \"Sampdoria\", \"opponent\": \"Fiorentina\", \"date\": \"2022-05-16T00:00:00\", \"expected_bonus\": 0.2569971978664398}, {\"fanta_team\": \"AC Picchia\", \"role\": \"C\", \"player\": \"N\\u00e1ndez\", \"team\": \"Cagliari\", \"opponent\": \"Inter\", \"date\": \"2022-05-15T00:00:00\", \"expected_bonus\": 0.12052083760499954}, {\"fanta_team\": \"AC Picchia\", \"role\": \"C\", \"player\": \"Marin\", \"team\": \"Cagliari\", \"opponent\": \"Inter\", \"date\": \"2022-05-15T00:00:00\", \"expected_bonus\": 0.11748314648866653}, {\"fanta_team\": \"AC Picchia\", \"role\": \"A\", \"player\": \"Muriel\", \"team\": \"Atalanta\", \"opponent\": \"AC Milan\", \"date\": \"2022-05-15T00:00:00\", \"expected_bonus\": 1.0848047733306885}, {\"fanta_team\": \"AC Picchia\", \"role\": \"A\", \"player\": \"Caputo\", \"team\": \"Sampdoria\", \"opponent\": \"Fiorentina\", \"date\": \"2022-05-16T00:00:00\", \"expected_bonus\": 1.041374921798706}, {\"fanta_team\": \"AC Picchia\", \"role\": \"A\", \"player\": \"Henry\", \"team\": \"Venezia\", \"opponent\": \"Roma\", \"date\": \"2022-05-14T00:00:00\", \"expected_bonus\": 0.8644464612007141}, {\"fanta_team\": \"AC Picchia\", \"role\": \"A\", \"player\": \"Giroud\", \"team\": \"AC Milan\", \"opponent\": \"Atalanta\", \"date\": \"2022-05-15T00:00:00\", \"expected_bonus\": 0.8271709680557251}, {\"fanta_team\": \"AC Picchia\", \"role\": \"A\", \"player\": \"Verde\", \"team\": \"Spezia\", \"opponent\": \"Udinese\", \"date\": \"2022-05-14T00:00:00\", \"expected_bonus\": 0.4092394709587097}, {\"fanta_team\": \"AC Picchia\", \"role\": \"A\", \"player\": \"Cabral\", \"team\": \"Fiorentina\", \"opponent\": \"Sampdoria\", \"date\": \"2022-05-16T00:00:00\", \"expected_bonus\": 0.17603668570518494}]}}, {\"actions\": false, \"mode\": \"vega-lite\"});\n</script>",
      "text/plain": "alt.Chart(...)"
     },
     "metadata": {}
    }
   ]
  },
  {
   "cell_type": "code",
   "metadata": {
    "cell_id": "403f1719-a05c-438b-ab10-6045be82f284",
    "tags": [],
    "deepnote_to_be_reexecuted": false,
    "source_hash": "3f500048",
    "execution_start": 1652245534668,
    "execution_millis": 2,
    "deepnote_cell_type": "code"
   },
   "source": "team, index = display_fanta_squad(predictions, teams, index)",
   "execution_count": 8,
   "outputs": []
  },
  {
   "cell_type": "code",
   "source": "_deepnote_run_altair(team, \"\"\"{\"$schema\":\"https://vega.github.io/schema/vega-lite/v4.json\",\"mark\":{\"type\":\"bar\",\"tooltip\":{\"content\":\"data\"}},\"height\":220,\"autosize\":{\"type\":\"fit\"},\"data\":{\"name\":\"placeholder\"},\"encoding\":{\"x\":{\"field\":\"expected_bonus\",\"type\":\"quantitative\",\"sort\":null,\"scale\":{\"type\":\"linear\",\"zero\":false}},\"y\":{\"field\":\"player\",\"type\":\"nominal\",\"sort\":null,\"scale\":{\"type\":\"linear\",\"zero\":true}},\"color\":{\"field\":\"role\",\"type\":\"nominal\",\"sort\":null,\"scale\":{\"type\":\"linear\",\"zero\":false}}}}\"\"\")",
   "metadata": {
    "cell_id": "4a208803-57f0-497b-a4ea-c00c86e43db9",
    "deepnote_variable_name": "team",
    "deepnote_visualization_spec": {
     "$schema": "https://vega.github.io/schema/vega-lite/v4.json",
     "mark": {
      "type": "bar",
      "tooltip": {
       "content": "data"
      }
     },
     "height": 220,
     "autosize": {
      "type": "fit"
     },
     "data": {
      "name": "placeholder"
     },
     "encoding": {
      "x": {
       "field": "expected_bonus",
       "type": "quantitative",
       "sort": null,
       "scale": {
        "type": "linear",
        "zero": false
       }
      },
      "y": {
       "field": "player",
       "type": "nominal",
       "sort": null,
       "scale": {
        "type": "linear",
        "zero": true
       }
      },
      "color": {
       "field": "role",
       "type": "nominal",
       "sort": null,
       "scale": {
        "type": "linear",
        "zero": false
       }
      }
     }
    },
    "deepnote_to_be_reexecuted": false,
    "source_hash": "e68de25e",
    "execution_start": 1652245534713,
    "execution_millis": 44,
    "allow_embed": "output",
    "deepnote_cell_type": "visualization",
    "deepnote_output_heights": [
     314
    ]
   },
   "execution_count": 9,
   "outputs": [
    {
     "output_type": "execute_result",
     "execution_count": 9,
     "data": {
      "text/html": "\n<div id=\"altair-viz-a897ec97952840ed954e7b44f354a71f\"></div>\n<script type=\"text/javascript\">\n  (function(spec, embedOpt){\n    let outputDiv = document.currentScript.previousElementSibling;\n    if (outputDiv.id !== \"altair-viz-a897ec97952840ed954e7b44f354a71f\") {\n      outputDiv = document.getElementById(\"altair-viz-a897ec97952840ed954e7b44f354a71f\");\n    }\n    const paths = {\n      \"vega\": \"https://cdn.jsdelivr.net/npm//vega@5?noext\",\n      \"vega-lib\": \"https://cdn.jsdelivr.net/npm//vega-lib?noext\",\n      \"vega-lite\": \"https://cdn.jsdelivr.net/npm//vega-lite@4.8.1?noext\",\n      \"vega-embed\": \"https://cdn.jsdelivr.net/npm//vega-embed@6?noext\",\n    };\n\n    function loadScript(lib) {\n      return new Promise(function(resolve, reject) {\n        var s = document.createElement('script');\n        s.src = paths[lib];\n        s.async = true;\n        s.onload = () => resolve(paths[lib]);\n        s.onerror = () => reject(`Error loading script: ${paths[lib]}`);\n        document.getElementsByTagName(\"head\")[0].appendChild(s);\n      });\n    }\n\n    function showError(err) {\n      outputDiv.innerHTML = `<div class=\"error\" style=\"color:red;\">${err}</div>`;\n      throw err;\n    }\n\n    function displayChart(vegaEmbed) {\n      vegaEmbed(outputDiv, spec, embedOpt)\n        .catch(err => showError(`Javascript Error: ${err.message}<br>This usually means there's a typo in your chart specification. See the javascript console for the full traceback.`));\n    }\n\n    if(typeof define === \"function\" && define.amd) {\n      requirejs.config({paths});\n      require([\"vega-embed\"], displayChart, err => showError(`Error loading script: ${err.message}`));\n    } else if (typeof vegaEmbed === \"function\") {\n      displayChart(vegaEmbed);\n    } else {\n      loadScript(\"vega\")\n        .then(() => loadScript(\"vega-lite\"))\n        .then(() => loadScript(\"vega-embed\"))\n        .catch(showError)\n        .then(() => displayChart(vegaEmbed));\n    }\n  })({\"config\": {\"view\": {\"continuousWidth\": 400, \"continuousHeight\": 300}, \"area\": {\"fill\": \"#51C0E9\"}, \"axis\": {\"labelFont\": \"Inter, sans-serif\", \"labelFontSize\": 12, \"labelFontWeight\": \"normal\", \"labelLimit\": 60, \"labelOverlap\": \"greedy\", \"titleFont\": \"Inter, sans-serif\", \"titleFontSize\": 12, \"titleFontWeight\": \"bold\"}, \"background\": \"#ffffff\", \"legend\": {\"labelFont\": \"Inter, sans-serif\", \"labelFontSize\": 12, \"titleFont\": \"Inter, sans-serif\", \"titleFontSize\": 12, \"titleFontWeight\": \"bold\"}, \"line\": {\"stroke\": \"#51C0E9\", \"strokeWidth\": 2}, \"rect\": {\"fill\": \"#51C0E9\"}, \"title\": {\"anchor\": \"start\", \"color\": \"#000000\", \"font\": \"Inter, sans-serif\", \"fontSize\": 22, \"fontWeight\": \"normal\"}}, \"data\": {\"name\": \"data-01c7356a56080b97e77810147f237067\"}, \"mark\": {\"type\": \"bar\", \"tooltip\": {\"content\": \"data\"}}, \"autosize\": {\"type\": \"fit\"}, \"encoding\": {\"color\": {\"type\": \"nominal\", \"field\": \"role\", \"scale\": {\"type\": \"linear\", \"zero\": false}, \"sort\": null}, \"x\": {\"type\": \"quantitative\", \"field\": \"expected_bonus\", \"scale\": {\"type\": \"linear\", \"zero\": false}, \"sort\": null}, \"y\": {\"type\": \"nominal\", \"field\": \"player\", \"scale\": {\"type\": \"linear\", \"zero\": true}, \"sort\": null}}, \"height\": 300, \"width\": \"container\", \"$schema\": \"https://vega.github.io/schema/vega-lite/v4.json\", \"datasets\": {\"data-01c7356a56080b97e77810147f237067\": [{\"fanta_team\": \"AI sereje ja dejeDe jebe tu de jebere\", \"role\": \"D\", \"player\": \"Rrahmani\", \"team\": \"Napoli\", \"opponent\": \"Genoa\", \"date\": \"2022-05-15T00:00:00\", \"expected_bonus\": 0.4065452218055725}, {\"fanta_team\": \"AI sereje ja dejeDe jebe tu de jebere\", \"role\": \"D\", \"player\": \"Skriniar\", \"team\": \"Inter\", \"opponent\": \"Cagliari\", \"date\": \"2022-05-15T00:00:00\", \"expected_bonus\": 0.3539264500141144}, {\"fanta_team\": \"AI sereje ja dejeDe jebe tu de jebere\", \"role\": \"D\", \"player\": \"Darmian\", \"team\": \"Inter\", \"opponent\": \"Cagliari\", \"date\": \"2022-05-15T00:00:00\", \"expected_bonus\": 0.3228536546230316}, {\"fanta_team\": \"AI sereje ja dejeDe jebe tu de jebere\", \"role\": \"D\", \"player\": \"Tuanzebe\", \"team\": \"Napoli\", \"opponent\": \"Genoa\", \"date\": \"2022-05-15T00:00:00\", \"expected_bonus\": 0.2789321839809418}, {\"fanta_team\": \"AI sereje ja dejeDe jebe tu de jebere\", \"role\": \"D\", \"player\": \"Yoshida\", \"team\": \"Sampdoria\", \"opponent\": \"Fiorentina\", \"date\": \"2022-05-16T00:00:00\", \"expected_bonus\": 0.09607110172510147}, {\"fanta_team\": \"AI sereje ja dejeDe jebe tu de jebere\", \"role\": \"D\", \"player\": \"Acerbi\", \"team\": \"Lazio\", \"opponent\": \"Juventus\", \"date\": \"2022-05-16T00:00:00\", \"expected_bonus\": 0.08815164119005203}, {\"fanta_team\": \"AI sereje ja dejeDe jebe tu de jebere\", \"role\": \"D\", \"player\": \"Hateboer\", \"team\": \"Atalanta\", \"opponent\": \"AC Milan\", \"date\": \"2022-05-15T00:00:00\", \"expected_bonus\": 0.08522694557905197}, {\"fanta_team\": \"AI sereje ja dejeDe jebe tu de jebere\", \"role\": \"C\", \"player\": \"Bajrami\", \"team\": \"Empoli\", \"opponent\": \"Salernitana\", \"date\": \"2022-05-14T00:00:00\", \"expected_bonus\": 1.1601049900054932}, {\"fanta_team\": \"AI sereje ja dejeDe jebe tu de jebere\", \"role\": \"C\", \"player\": \"Djuricic\", \"team\": \"Sassuolo\", \"opponent\": \"Bologna\", \"date\": \"2022-05-15T00:00:00\", \"expected_bonus\": 0.6762226819992065}, {\"fanta_team\": \"AI sereje ja dejeDe jebe tu de jebere\", \"role\": \"C\", \"player\": \"Bonaventura\", \"team\": \"Fiorentina\", \"opponent\": \"Sampdoria\", \"date\": \"2022-05-16T00:00:00\", \"expected_bonus\": 0.6184005737304688}, {\"fanta_team\": \"AI sereje ja dejeDe jebe tu de jebere\", \"role\": \"C\", \"player\": \"Candreva\", \"team\": \"Sampdoria\", \"opponent\": \"Fiorentina\", \"date\": \"2022-05-16T00:00:00\", \"expected_bonus\": 0.6134169101715088}, {\"fanta_team\": \"AI sereje ja dejeDe jebe tu de jebere\", \"role\": \"C\", \"player\": \"Lukic\", \"team\": \"Torino\", \"opponent\": \"Verona\", \"date\": \"2022-05-14T00:00:00\", \"expected_bonus\": 0.30737876892089844}, {\"fanta_team\": \"AI sereje ja dejeDe jebe tu de jebere\", \"role\": \"C\", \"player\": \"Svanberg\", \"team\": \"Bologna\", \"opponent\": \"Sassuolo\", \"date\": \"2022-05-15T00:00:00\", \"expected_bonus\": 0.2410220056772232}, {\"fanta_team\": \"AI sereje ja dejeDe jebe tu de jebere\", \"role\": \"C\", \"player\": \"Zakaria\", \"team\": \"Juventus\", \"opponent\": \"Lazio\", \"date\": \"2022-05-16T00:00:00\", \"expected_bonus\": 0.19112278521060944}, {\"fanta_team\": \"AI sereje ja dejeDe jebe tu de jebere\", \"role\": \"A\", \"player\": \"Vlahovic\", \"team\": \"Juventus\", \"opponent\": \"Lazio\", \"date\": \"2022-05-16T00:00:00\", \"expected_bonus\": 2.012423276901245}, {\"fanta_team\": \"AI sereje ja dejeDe jebe tu de jebere\", \"role\": \"A\", \"player\": \"Zapata\", \"team\": \"Atalanta\", \"opponent\": \"AC Milan\", \"date\": \"2022-05-15T00:00:00\", \"expected_bonus\": 1.3013807535171509}, {\"fanta_team\": \"AI sereje ja dejeDe jebe tu de jebere\", \"role\": \"A\", \"player\": \"Lozano\", \"team\": \"Napoli\", \"opponent\": \"Genoa\", \"date\": \"2022-05-15T00:00:00\", \"expected_bonus\": 1.2358561754226685}, {\"fanta_team\": \"AI sereje ja dejeDe jebe tu de jebere\", \"role\": \"A\", \"player\": \"Beto\", \"team\": \"Udinese\", \"opponent\": \"Spezia\", \"date\": \"2022-05-14T00:00:00\", \"expected_bonus\": 1.1314347982406616}, {\"fanta_team\": \"AI sereje ja dejeDe jebe tu de jebere\", \"role\": \"A\", \"player\": \"Destro\", \"team\": \"Genoa\", \"opponent\": \"Napoli\", \"date\": \"2022-05-15T00:00:00\", \"expected_bonus\": 0.7997936010360718}, {\"fanta_team\": \"AI sereje ja dejeDe jebe tu de jebere\", \"role\": \"A\", \"player\": \"Gyasi\", \"team\": \"Spezia\", \"opponent\": \"Udinese\", \"date\": \"2022-05-14T00:00:00\", \"expected_bonus\": 0.5498619079589844}]}}, {\"actions\": false, \"mode\": \"vega-lite\"});\n</script>",
      "text/plain": "alt.Chart(...)"
     },
     "metadata": {}
    }
   ]
  },
  {
   "cell_type": "code",
   "metadata": {
    "cell_id": "2e687bc2-7527-4205-938c-991162872c2c",
    "tags": [],
    "deepnote_to_be_reexecuted": false,
    "source_hash": "3f500048",
    "execution_start": 1652245534760,
    "execution_millis": 4,
    "deepnote_cell_type": "code"
   },
   "source": "team, index = display_fanta_squad(predictions, teams, index)",
   "execution_count": 10,
   "outputs": []
  },
  {
   "cell_type": "code",
   "source": "_deepnote_run_altair(team, \"\"\"{\"$schema\":\"https://vega.github.io/schema/vega-lite/v4.json\",\"mark\":{\"type\":\"bar\",\"tooltip\":{\"content\":\"data\"}},\"height\":220,\"autosize\":{\"type\":\"fit\"},\"data\":{\"name\":\"placeholder\"},\"encoding\":{\"x\":{\"field\":\"expected_bonus\",\"type\":\"quantitative\",\"sort\":null,\"scale\":{\"type\":\"linear\",\"zero\":false}},\"y\":{\"field\":\"player\",\"type\":\"nominal\",\"sort\":null,\"scale\":{\"type\":\"linear\",\"zero\":true}},\"color\":{\"field\":\"role\",\"type\":\"nominal\",\"sort\":null,\"scale\":{\"type\":\"linear\",\"zero\":false}}}}\"\"\")",
   "metadata": {
    "cell_id": "f2a82479-5e7d-4027-8358-566cecfd00e7",
    "deepnote_variable_name": "team",
    "deepnote_visualization_spec": {
     "$schema": "https://vega.github.io/schema/vega-lite/v4.json",
     "mark": {
      "type": "bar",
      "tooltip": {
       "content": "data"
      }
     },
     "height": 220,
     "autosize": {
      "type": "fit"
     },
     "data": {
      "name": "placeholder"
     },
     "encoding": {
      "x": {
       "field": "expected_bonus",
       "type": "quantitative",
       "sort": null,
       "scale": {
        "type": "linear",
        "zero": false
       }
      },
      "y": {
       "field": "player",
       "type": "nominal",
       "sort": null,
       "scale": {
        "type": "linear",
        "zero": true
       }
      },
      "color": {
       "field": "role",
       "type": "nominal",
       "sort": null,
       "scale": {
        "type": "linear",
        "zero": false
       }
      }
     }
    },
    "deepnote_to_be_reexecuted": false,
    "source_hash": "e68de25e",
    "execution_start": 1652245534767,
    "execution_millis": 118,
    "allow_embed": "output",
    "deepnote_cell_type": "visualization",
    "deepnote_output_heights": [
     314
    ]
   },
   "execution_count": 11,
   "outputs": [
    {
     "output_type": "execute_result",
     "execution_count": 11,
     "data": {
      "text/html": "\n<div id=\"altair-viz-a6d3a66d78214cb2834b458390126083\"></div>\n<script type=\"text/javascript\">\n  (function(spec, embedOpt){\n    let outputDiv = document.currentScript.previousElementSibling;\n    if (outputDiv.id !== \"altair-viz-a6d3a66d78214cb2834b458390126083\") {\n      outputDiv = document.getElementById(\"altair-viz-a6d3a66d78214cb2834b458390126083\");\n    }\n    const paths = {\n      \"vega\": \"https://cdn.jsdelivr.net/npm//vega@5?noext\",\n      \"vega-lib\": \"https://cdn.jsdelivr.net/npm//vega-lib?noext\",\n      \"vega-lite\": \"https://cdn.jsdelivr.net/npm//vega-lite@4.8.1?noext\",\n      \"vega-embed\": \"https://cdn.jsdelivr.net/npm//vega-embed@6?noext\",\n    };\n\n    function loadScript(lib) {\n      return new Promise(function(resolve, reject) {\n        var s = document.createElement('script');\n        s.src = paths[lib];\n        s.async = true;\n        s.onload = () => resolve(paths[lib]);\n        s.onerror = () => reject(`Error loading script: ${paths[lib]}`);\n        document.getElementsByTagName(\"head\")[0].appendChild(s);\n      });\n    }\n\n    function showError(err) {\n      outputDiv.innerHTML = `<div class=\"error\" style=\"color:red;\">${err}</div>`;\n      throw err;\n    }\n\n    function displayChart(vegaEmbed) {\n      vegaEmbed(outputDiv, spec, embedOpt)\n        .catch(err => showError(`Javascript Error: ${err.message}<br>This usually means there's a typo in your chart specification. See the javascript console for the full traceback.`));\n    }\n\n    if(typeof define === \"function\" && define.amd) {\n      requirejs.config({paths});\n      require([\"vega-embed\"], displayChart, err => showError(`Error loading script: ${err.message}`));\n    } else if (typeof vegaEmbed === \"function\") {\n      displayChart(vegaEmbed);\n    } else {\n      loadScript(\"vega\")\n        .then(() => loadScript(\"vega-lite\"))\n        .then(() => loadScript(\"vega-embed\"))\n        .catch(showError)\n        .then(() => displayChart(vegaEmbed));\n    }\n  })({\"config\": {\"view\": {\"continuousWidth\": 400, \"continuousHeight\": 300}, \"area\": {\"fill\": \"#51C0E9\"}, \"axis\": {\"labelFont\": \"Inter, sans-serif\", \"labelFontSize\": 12, \"labelFontWeight\": \"normal\", \"labelLimit\": 60, \"labelOverlap\": \"greedy\", \"titleFont\": \"Inter, sans-serif\", \"titleFontSize\": 12, \"titleFontWeight\": \"bold\"}, \"background\": \"#ffffff\", \"legend\": {\"labelFont\": \"Inter, sans-serif\", \"labelFontSize\": 12, \"titleFont\": \"Inter, sans-serif\", \"titleFontSize\": 12, \"titleFontWeight\": \"bold\"}, \"line\": {\"stroke\": \"#51C0E9\", \"strokeWidth\": 2}, \"rect\": {\"fill\": \"#51C0E9\"}, \"title\": {\"anchor\": \"start\", \"color\": \"#000000\", \"font\": \"Inter, sans-serif\", \"fontSize\": 22, \"fontWeight\": \"normal\"}}, \"data\": {\"name\": \"data-18f0e82494a63cc2d02e75eb4ec31924\"}, \"mark\": {\"type\": \"bar\", \"tooltip\": {\"content\": \"data\"}}, \"autosize\": {\"type\": \"fit\"}, \"encoding\": {\"color\": {\"type\": \"nominal\", \"field\": \"role\", \"scale\": {\"type\": \"linear\", \"zero\": false}, \"sort\": null}, \"x\": {\"type\": \"quantitative\", \"field\": \"expected_bonus\", \"scale\": {\"type\": \"linear\", \"zero\": false}, \"sort\": null}, \"y\": {\"type\": \"nominal\", \"field\": \"player\", \"scale\": {\"type\": \"linear\", \"zero\": true}, \"sort\": null}}, \"height\": 300, \"width\": \"container\", \"$schema\": \"https://vega.github.io/schema/vega-lite/v4.json\", \"datasets\": {\"data-18f0e82494a63cc2d02e75eb4ec31924\": [{\"fanta_team\": \"Beverly INPS\", \"role\": \"D\", \"player\": \"Dimarco\", \"team\": \"Inter\", \"opponent\": \"Cagliari\", \"date\": \"2022-05-15T00:00:00\", \"expected_bonus\": 0.7239450812339783}, {\"fanta_team\": \"Beverly INPS\", \"role\": \"D\", \"player\": \"Lorenzo\", \"team\": \"Napoli\", \"opponent\": \"Genoa\", \"date\": \"2022-05-15T00:00:00\", \"expected_bonus\": 0.38292741775512695}, {\"fanta_team\": \"Beverly INPS\", \"role\": \"D\", \"player\": \"Cuadrado\", \"team\": \"Juventus\", \"opponent\": \"Lazio\", \"date\": \"2022-05-16T00:00:00\", \"expected_bonus\": 0.3522907495498657}, {\"fanta_team\": \"Beverly INPS\", \"role\": \"D\", \"player\": \"Bastoni\", \"team\": \"Inter\", \"opponent\": \"Cagliari\", \"date\": \"2022-05-15T00:00:00\", \"expected_bonus\": 0.26788774132728577}, {\"fanta_team\": \"Beverly INPS\", \"role\": \"D\", \"player\": \"Spinazzola\", \"team\": \"Roma\", \"opponent\": \"Venezia\", \"date\": \"2022-05-14T00:00:00\", \"expected_bonus\": 0.2277183085680008}, {\"fanta_team\": \"Beverly INPS\", \"role\": \"D\", \"player\": \"Nuytinck\", \"team\": \"Udinese\", \"opponent\": \"Spezia\", \"date\": \"2022-05-14T00:00:00\", \"expected_bonus\": 0.14026498794555664}, {\"fanta_team\": \"Beverly INPS\", \"role\": \"D\", \"player\": \"Romagnoli\", \"team\": \"AC Milan\", \"opponent\": \"Atalanta\", \"date\": \"2022-05-15T00:00:00\", \"expected_bonus\": 0.08885183930397034}, {\"fanta_team\": \"Beverly INPS\", \"role\": \"D\", \"player\": \"Cambiaso\", \"team\": \"Genoa\", \"opponent\": \"Napoli\", \"date\": \"2022-05-15T00:00:00\", \"expected_bonus\": 0.08850645273923874}, {\"fanta_team\": \"Beverly INPS\", \"role\": \"C\", \"player\": \"Zielinski\", \"team\": \"Napoli\", \"opponent\": \"Genoa\", \"date\": \"2022-05-15T00:00:00\", \"expected_bonus\": 1.0400444269180298}, {\"fanta_team\": \"Beverly INPS\", \"role\": \"C\", \"player\": \"Barak\", \"team\": \"Verona\", \"opponent\": \"Torino\", \"date\": \"2022-05-14T00:00:00\", \"expected_bonus\": 0.7177931666374207}, {\"fanta_team\": \"Beverly INPS\", \"role\": \"C\", \"player\": \"Veretout\", \"team\": \"Roma\", \"opponent\": \"Venezia\", \"date\": \"2022-05-14T00:00:00\", \"expected_bonus\": 0.7084778547286987}, {\"fanta_team\": \"Beverly INPS\", \"role\": \"C\", \"player\": \"Praet\", \"team\": \"Torino\", \"opponent\": \"Verona\", \"date\": \"2022-05-14T00:00:00\", \"expected_bonus\": 0.5761178731918335}, {\"fanta_team\": \"Beverly INPS\", \"role\": \"C\", \"player\": \"Kessi\\u00e9\", \"team\": \"AC Milan\", \"opponent\": \"Atalanta\", \"date\": \"2022-05-15T00:00:00\", \"expected_bonus\": 0.4642001986503601}, {\"fanta_team\": \"Beverly INPS\", \"role\": \"C\", \"player\": \"Elmas\", \"team\": \"Napoli\", \"opponent\": \"Genoa\", \"date\": \"2022-05-15T00:00:00\", \"expected_bonus\": 0.4428200423717499}, {\"fanta_team\": \"Beverly INPS\", \"role\": \"C\", \"player\": \"Alberto\", \"team\": \"Lazio\", \"opponent\": \"Juventus\", \"date\": \"2022-05-16T00:00:00\", \"expected_bonus\": 0.3560762405395508}, {\"fanta_team\": \"Beverly INPS\", \"role\": \"A\", \"player\": \"Mart\\u00ednez\", \"team\": \"Inter\", \"opponent\": \"Cagliari\", \"date\": \"2022-05-15T00:00:00\", \"expected_bonus\": 2.185236930847168}, {\"fanta_team\": \"Beverly INPS\", \"role\": \"A\", \"player\": \"Berardi\", \"team\": \"Sassuolo\", \"opponent\": \"Bologna\", \"date\": \"2022-05-15T00:00:00\", \"expected_bonus\": 1.4473294019699097}, {\"fanta_team\": \"Beverly INPS\", \"role\": \"A\", \"player\": \"Mertens\", \"team\": \"Napoli\", \"opponent\": \"Genoa\", \"date\": \"2022-05-15T00:00:00\", \"expected_bonus\": 1.408703327178955}, {\"fanta_team\": \"Beverly INPS\", \"role\": \"A\", \"player\": \"Deulofeu\", \"team\": \"Udinese\", \"opponent\": \"Spezia\", \"date\": \"2022-05-14T00:00:00\", \"expected_bonus\": 1.1689894199371338}, {\"fanta_team\": \"Beverly INPS\", \"role\": \"A\", \"player\": \"Barrow\", \"team\": \"Bologna\", \"opponent\": \"Sassuolo\", \"date\": \"2022-05-15T00:00:00\", \"expected_bonus\": 0.8938981890678406}, {\"fanta_team\": \"Beverly INPS\", \"role\": \"A\", \"player\": \"Gonz\\u00e1lez\", \"team\": \"Fiorentina\", \"opponent\": \"Sampdoria\", \"date\": \"2022-05-16T00:00:00\", \"expected_bonus\": 0.7895247936248779}]}}, {\"actions\": false, \"mode\": \"vega-lite\"});\n</script>",
      "text/plain": "alt.Chart(...)"
     },
     "metadata": {}
    }
   ]
  },
  {
   "cell_type": "code",
   "metadata": {
    "cell_id": "916c19f8-a9c2-4762-8c8c-98800652248f",
    "tags": [],
    "deepnote_to_be_reexecuted": false,
    "source_hash": "3f500048",
    "execution_start": 1652245534930,
    "execution_millis": 0,
    "deepnote_cell_type": "code"
   },
   "source": "team, index = display_fanta_squad(predictions, teams, index)",
   "execution_count": 12,
   "outputs": []
  },
  {
   "cell_type": "code",
   "source": "_deepnote_run_altair(team, \"\"\"{\"$schema\":\"https://vega.github.io/schema/vega-lite/v4.json\",\"mark\":{\"type\":\"bar\",\"tooltip\":{\"content\":\"data\"}},\"height\":220,\"autosize\":{\"type\":\"fit\"},\"data\":{\"name\":\"placeholder\"},\"encoding\":{\"x\":{\"field\":\"expected_bonus\",\"type\":\"quantitative\",\"sort\":null,\"scale\":{\"type\":\"linear\",\"zero\":false}},\"y\":{\"field\":\"player\",\"type\":\"nominal\",\"sort\":null,\"scale\":{\"type\":\"linear\",\"zero\":true}},\"color\":{\"field\":\"role\",\"type\":\"nominal\",\"sort\":null,\"scale\":{\"type\":\"linear\",\"zero\":false}}}}\"\"\")",
   "metadata": {
    "cell_id": "25c33c88-5e5c-405a-a0c8-3800930b7e22",
    "deepnote_variable_name": "team",
    "deepnote_visualization_spec": {
     "$schema": "https://vega.github.io/schema/vega-lite/v4.json",
     "mark": {
      "type": "bar",
      "tooltip": {
       "content": "data"
      }
     },
     "height": 220,
     "autosize": {
      "type": "fit"
     },
     "data": {
      "name": "placeholder"
     },
     "encoding": {
      "x": {
       "field": "expected_bonus",
       "type": "quantitative",
       "sort": null,
       "scale": {
        "type": "linear",
        "zero": false
       }
      },
      "y": {
       "field": "player",
       "type": "nominal",
       "sort": null,
       "scale": {
        "type": "linear",
        "zero": true
       }
      },
      "color": {
       "field": "role",
       "type": "nominal",
       "sort": null,
       "scale": {
        "type": "linear",
        "zero": false
       }
      }
     }
    },
    "deepnote_to_be_reexecuted": false,
    "source_hash": "e68de25e",
    "execution_start": 1652245534931,
    "execution_millis": 109,
    "allow_embed": true,
    "deepnote_cell_type": "visualization",
    "deepnote_output_heights": [
     314
    ]
   },
   "execution_count": 13,
   "outputs": [
    {
     "output_type": "execute_result",
     "execution_count": 13,
     "data": {
      "text/html": "\n<div id=\"altair-viz-ac2b7c36482f4f0395ffd0ce30486f56\"></div>\n<script type=\"text/javascript\">\n  (function(spec, embedOpt){\n    let outputDiv = document.currentScript.previousElementSibling;\n    if (outputDiv.id !== \"altair-viz-ac2b7c36482f4f0395ffd0ce30486f56\") {\n      outputDiv = document.getElementById(\"altair-viz-ac2b7c36482f4f0395ffd0ce30486f56\");\n    }\n    const paths = {\n      \"vega\": \"https://cdn.jsdelivr.net/npm//vega@5?noext\",\n      \"vega-lib\": \"https://cdn.jsdelivr.net/npm//vega-lib?noext\",\n      \"vega-lite\": \"https://cdn.jsdelivr.net/npm//vega-lite@4.8.1?noext\",\n      \"vega-embed\": \"https://cdn.jsdelivr.net/npm//vega-embed@6?noext\",\n    };\n\n    function loadScript(lib) {\n      return new Promise(function(resolve, reject) {\n        var s = document.createElement('script');\n        s.src = paths[lib];\n        s.async = true;\n        s.onload = () => resolve(paths[lib]);\n        s.onerror = () => reject(`Error loading script: ${paths[lib]}`);\n        document.getElementsByTagName(\"head\")[0].appendChild(s);\n      });\n    }\n\n    function showError(err) {\n      outputDiv.innerHTML = `<div class=\"error\" style=\"color:red;\">${err}</div>`;\n      throw err;\n    }\n\n    function displayChart(vegaEmbed) {\n      vegaEmbed(outputDiv, spec, embedOpt)\n        .catch(err => showError(`Javascript Error: ${err.message}<br>This usually means there's a typo in your chart specification. See the javascript console for the full traceback.`));\n    }\n\n    if(typeof define === \"function\" && define.amd) {\n      requirejs.config({paths});\n      require([\"vega-embed\"], displayChart, err => showError(`Error loading script: ${err.message}`));\n    } else if (typeof vegaEmbed === \"function\") {\n      displayChart(vegaEmbed);\n    } else {\n      loadScript(\"vega\")\n        .then(() => loadScript(\"vega-lite\"))\n        .then(() => loadScript(\"vega-embed\"))\n        .catch(showError)\n        .then(() => displayChart(vegaEmbed));\n    }\n  })({\"config\": {\"view\": {\"continuousWidth\": 400, \"continuousHeight\": 300}, \"area\": {\"fill\": \"#51C0E9\"}, \"axis\": {\"labelFont\": \"Inter, sans-serif\", \"labelFontSize\": 12, \"labelFontWeight\": \"normal\", \"labelLimit\": 60, \"labelOverlap\": \"greedy\", \"titleFont\": \"Inter, sans-serif\", \"titleFontSize\": 12, \"titleFontWeight\": \"bold\"}, \"background\": \"#ffffff\", \"legend\": {\"labelFont\": \"Inter, sans-serif\", \"labelFontSize\": 12, \"titleFont\": \"Inter, sans-serif\", \"titleFontSize\": 12, \"titleFontWeight\": \"bold\"}, \"line\": {\"stroke\": \"#51C0E9\", \"strokeWidth\": 2}, \"rect\": {\"fill\": \"#51C0E9\"}, \"title\": {\"anchor\": \"start\", \"color\": \"#000000\", \"font\": \"Inter, sans-serif\", \"fontSize\": 22, \"fontWeight\": \"normal\"}}, \"data\": {\"name\": \"data-a9cd940f63fe3a5a7edb06e22cf0a48a\"}, \"mark\": {\"type\": \"bar\", \"tooltip\": {\"content\": \"data\"}}, \"autosize\": {\"type\": \"fit\"}, \"encoding\": {\"color\": {\"type\": \"nominal\", \"field\": \"role\", \"scale\": {\"type\": \"linear\", \"zero\": false}, \"sort\": null}, \"x\": {\"type\": \"quantitative\", \"field\": \"expected_bonus\", \"scale\": {\"type\": \"linear\", \"zero\": false}, \"sort\": null}, \"y\": {\"type\": \"nominal\", \"field\": \"player\", \"scale\": {\"type\": \"linear\", \"zero\": true}, \"sort\": null}}, \"height\": 300, \"width\": \"container\", \"$schema\": \"https://vega.github.io/schema/vega-lite/v4.json\", \"datasets\": {\"data-a9cd940f63fe3a5a7edb06e22cf0a48a\": [{\"fanta_team\": \"MEZAFE\", \"role\": \"D\", \"player\": \"Criscito\", \"team\": \"Genoa\", \"opponent\": \"Napoli\", \"date\": \"2022-05-15T00:00:00\", \"expected_bonus\": 0.41655436158180237}, {\"fanta_team\": \"MEZAFE\", \"role\": \"D\", \"player\": \"Bonucci\", \"team\": \"Juventus\", \"opponent\": \"Lazio\", \"date\": \"2022-05-16T00:00:00\", \"expected_bonus\": 0.4142729640007019}, {\"fanta_team\": \"MEZAFE\", \"role\": \"D\", \"player\": \"Mancini\", \"team\": \"Roma\", \"opponent\": \"Venezia\", \"date\": \"2022-05-14T00:00:00\", \"expected_bonus\": 0.32845252752304077}, {\"fanta_team\": \"MEZAFE\", \"role\": \"D\", \"player\": \"Zappacosta\", \"team\": \"Atalanta\", \"opponent\": \"AC Milan\", \"date\": \"2022-05-15T00:00:00\", \"expected_bonus\": 0.2655637264251709}, {\"fanta_team\": \"MEZAFE\", \"role\": \"D\", \"player\": \"Vrij\", \"team\": \"Inter\", \"opponent\": \"Cagliari\", \"date\": \"2022-05-15T00:00:00\", \"expected_bonus\": 0.24857589602470398}, {\"fanta_team\": \"MEZAFE\", \"role\": \"D\", \"player\": \"Danilo\", \"team\": \"Juventus\", \"opponent\": \"Lazio\", \"date\": \"2022-05-16T00:00:00\", \"expected_bonus\": 0.24375025928020477}, {\"fanta_team\": \"MEZAFE\", \"role\": \"D\", \"player\": \"Silvestri\", \"team\": \"Bologna\", \"opponent\": \"Sassuolo\", \"date\": \"2022-05-15T00:00:00\", \"expected_bonus\": 0.23192007839679718}, {\"fanta_team\": \"MEZAFE\", \"role\": \"D\", \"player\": \"Chiellini\", \"team\": \"Juventus\", \"opponent\": \"Lazio\", \"date\": \"2022-05-16T00:00:00\", \"expected_bonus\": 0.1812846064567566}, {\"fanta_team\": \"MEZAFE\", \"role\": \"C\", \"player\": \"Verdi\", \"team\": \"Salernitana\", \"opponent\": \"Empoli\", \"date\": \"2022-05-14T00:00:00\", \"expected_bonus\": 0.7894868850708008}, {\"fanta_team\": \"MEZAFE\", \"role\": \"C\", \"player\": \"Pasalic\", \"team\": \"Atalanta\", \"opponent\": \"AC Milan\", \"date\": \"2022-05-15T00:00:00\", \"expected_bonus\": 0.644254207611084}, {\"fanta_team\": \"MEZAFE\", \"role\": \"C\", \"player\": \"Saelemaekers\", \"team\": \"AC Milan\", \"opponent\": \"Atalanta\", \"date\": \"2022-05-15T00:00:00\", \"expected_bonus\": 0.49040931463241577}, {\"fanta_team\": \"MEZAFE\", \"role\": \"C\", \"player\": \"Perisic\", \"team\": \"Inter\", \"opponent\": \"Cagliari\", \"date\": \"2022-05-15T00:00:00\", \"expected_bonus\": 0.47488853335380554}, {\"fanta_team\": \"MEZAFE\", \"role\": \"C\", \"player\": \"McKennie\", \"team\": \"Juventus\", \"opponent\": \"Lazio\", \"date\": \"2022-05-16T00:00:00\", \"expected_bonus\": 0.4277098476886749}, {\"fanta_team\": \"MEZAFE\", \"role\": \"C\", \"player\": \"Lazovic\", \"team\": \"Verona\", \"opponent\": \"Torino\", \"date\": \"2022-05-14T00:00:00\", \"expected_bonus\": 0.28586190938949585}, {\"fanta_team\": \"MEZAFE\", \"role\": \"C\", \"player\": \"Castrovilli\", \"team\": \"Fiorentina\", \"opponent\": \"Sampdoria\", \"date\": \"2022-05-16T00:00:00\", \"expected_bonus\": 0.2404085099697113}, {\"fanta_team\": \"MEZAFE\", \"role\": \"C\", \"player\": \"Tonali\", \"team\": \"AC Milan\", \"opponent\": \"Atalanta\", \"date\": \"2022-05-15T00:00:00\", \"expected_bonus\": 0.21003898978233337}, {\"fanta_team\": \"MEZAFE\", \"role\": \"A\", \"player\": \"Dybala\", \"team\": \"Juventus\", \"opponent\": \"Lazio\", \"date\": \"2022-05-16T00:00:00\", \"expected_bonus\": 1.5986964702606201}, {\"fanta_team\": \"MEZAFE\", \"role\": \"A\", \"player\": \"Piatek\", \"team\": \"Fiorentina\", \"opponent\": \"Sampdoria\", \"date\": \"2022-05-16T00:00:00\", \"expected_bonus\": 1.1616783142089844}, {\"fanta_team\": \"MEZAFE\", \"role\": \"A\", \"player\": \"Simeone\", \"team\": \"Verona\", \"opponent\": \"Torino\", \"date\": \"2022-05-14T00:00:00\", \"expected_bonus\": 1.023447036743164}, {\"fanta_team\": \"MEZAFE\", \"role\": \"A\", \"player\": \"Sanabria\", \"team\": \"Torino\", \"opponent\": \"Verona\", \"date\": \"2022-05-14T00:00:00\", \"expected_bonus\": 1.0229253768920898}, {\"fanta_team\": \"MEZAFE\", \"role\": \"A\", \"player\": \"Quagliarella\", \"team\": \"Sampdoria\", \"opponent\": \"Fiorentina\", \"date\": \"2022-05-16T00:00:00\", \"expected_bonus\": 0.9480608701705933}, {\"fanta_team\": \"MEZAFE\", \"role\": \"A\", \"player\": \"Rebic\", \"team\": \"AC Milan\", \"opponent\": \"Atalanta\", \"date\": \"2022-05-15T00:00:00\", \"expected_bonus\": 0.19620609283447266}]}}, {\"actions\": false, \"mode\": \"vega-lite\"});\n</script>",
      "text/plain": "alt.Chart(...)"
     },
     "metadata": {}
    }
   ]
  },
  {
   "cell_type": "code",
   "metadata": {
    "cell_id": "276bd398-b660-4090-92fd-fb77fc80292b",
    "tags": [],
    "deepnote_to_be_reexecuted": false,
    "source_hash": "3f500048",
    "execution_start": 1652245535039,
    "execution_millis": 0,
    "deepnote_cell_type": "code"
   },
   "source": "team, index = display_fanta_squad(predictions, teams, index)",
   "execution_count": 14,
   "outputs": []
  },
  {
   "cell_type": "code",
   "source": "_deepnote_run_altair(team, \"\"\"{\"$schema\":\"https://vega.github.io/schema/vega-lite/v4.json\",\"mark\":{\"type\":\"bar\",\"tooltip\":{\"content\":\"data\"}},\"height\":220,\"autosize\":{\"type\":\"fit\"},\"data\":{\"name\":\"placeholder\"},\"encoding\":{\"x\":{\"field\":\"expected_bonus\",\"type\":\"quantitative\",\"sort\":null,\"scale\":{\"type\":\"linear\",\"zero\":false}},\"y\":{\"field\":\"player\",\"type\":\"nominal\",\"sort\":null,\"scale\":{\"type\":\"linear\",\"zero\":true}},\"color\":{\"field\":\"role\",\"type\":\"nominal\",\"sort\":null,\"scale\":{\"type\":\"linear\",\"zero\":false}}}}\"\"\")",
   "metadata": {
    "cell_id": "81adbb4a-773d-4067-8e05-9a828af1216c",
    "deepnote_variable_name": "team",
    "deepnote_visualization_spec": {
     "$schema": "https://vega.github.io/schema/vega-lite/v4.json",
     "mark": {
      "type": "bar",
      "tooltip": {
       "content": "data"
      }
     },
     "height": 220,
     "autosize": {
      "type": "fit"
     },
     "data": {
      "name": "placeholder"
     },
     "encoding": {
      "x": {
       "field": "expected_bonus",
       "type": "quantitative",
       "sort": null,
       "scale": {
        "type": "linear",
        "zero": false
       }
      },
      "y": {
       "field": "player",
       "type": "nominal",
       "sort": null,
       "scale": {
        "type": "linear",
        "zero": true
       }
      },
      "color": {
       "field": "role",
       "type": "nominal",
       "sort": null,
       "scale": {
        "type": "linear",
        "zero": false
       }
      }
     }
    },
    "deepnote_to_be_reexecuted": false,
    "source_hash": "e68de25e",
    "execution_start": 1652245535053,
    "execution_millis": 54,
    "allow_embed": "output",
    "deepnote_cell_type": "visualization",
    "deepnote_output_heights": [
     314
    ]
   },
   "execution_count": 15,
   "outputs": [
    {
     "output_type": "execute_result",
     "execution_count": 15,
     "data": {
      "text/html": "\n<div id=\"altair-viz-d23050cc27de486ba1f885fe848f2d9f\"></div>\n<script type=\"text/javascript\">\n  (function(spec, embedOpt){\n    let outputDiv = document.currentScript.previousElementSibling;\n    if (outputDiv.id !== \"altair-viz-d23050cc27de486ba1f885fe848f2d9f\") {\n      outputDiv = document.getElementById(\"altair-viz-d23050cc27de486ba1f885fe848f2d9f\");\n    }\n    const paths = {\n      \"vega\": \"https://cdn.jsdelivr.net/npm//vega@5?noext\",\n      \"vega-lib\": \"https://cdn.jsdelivr.net/npm//vega-lib?noext\",\n      \"vega-lite\": \"https://cdn.jsdelivr.net/npm//vega-lite@4.8.1?noext\",\n      \"vega-embed\": \"https://cdn.jsdelivr.net/npm//vega-embed@6?noext\",\n    };\n\n    function loadScript(lib) {\n      return new Promise(function(resolve, reject) {\n        var s = document.createElement('script');\n        s.src = paths[lib];\n        s.async = true;\n        s.onload = () => resolve(paths[lib]);\n        s.onerror = () => reject(`Error loading script: ${paths[lib]}`);\n        document.getElementsByTagName(\"head\")[0].appendChild(s);\n      });\n    }\n\n    function showError(err) {\n      outputDiv.innerHTML = `<div class=\"error\" style=\"color:red;\">${err}</div>`;\n      throw err;\n    }\n\n    function displayChart(vegaEmbed) {\n      vegaEmbed(outputDiv, spec, embedOpt)\n        .catch(err => showError(`Javascript Error: ${err.message}<br>This usually means there's a typo in your chart specification. See the javascript console for the full traceback.`));\n    }\n\n    if(typeof define === \"function\" && define.amd) {\n      requirejs.config({paths});\n      require([\"vega-embed\"], displayChart, err => showError(`Error loading script: ${err.message}`));\n    } else if (typeof vegaEmbed === \"function\") {\n      displayChart(vegaEmbed);\n    } else {\n      loadScript(\"vega\")\n        .then(() => loadScript(\"vega-lite\"))\n        .then(() => loadScript(\"vega-embed\"))\n        .catch(showError)\n        .then(() => displayChart(vegaEmbed));\n    }\n  })({\"config\": {\"view\": {\"continuousWidth\": 400, \"continuousHeight\": 300}, \"area\": {\"fill\": \"#51C0E9\"}, \"axis\": {\"labelFont\": \"Inter, sans-serif\", \"labelFontSize\": 12, \"labelFontWeight\": \"normal\", \"labelLimit\": 60, \"labelOverlap\": \"greedy\", \"titleFont\": \"Inter, sans-serif\", \"titleFontSize\": 12, \"titleFontWeight\": \"bold\"}, \"background\": \"#ffffff\", \"legend\": {\"labelFont\": \"Inter, sans-serif\", \"labelFontSize\": 12, \"titleFont\": \"Inter, sans-serif\", \"titleFontSize\": 12, \"titleFontWeight\": \"bold\"}, \"line\": {\"stroke\": \"#51C0E9\", \"strokeWidth\": 2}, \"rect\": {\"fill\": \"#51C0E9\"}, \"title\": {\"anchor\": \"start\", \"color\": \"#000000\", \"font\": \"Inter, sans-serif\", \"fontSize\": 22, \"fontWeight\": \"normal\"}}, \"data\": {\"name\": \"data-3c7a1b5604737e777af347e63035409c\"}, \"mark\": {\"type\": \"bar\", \"tooltip\": {\"content\": \"data\"}}, \"autosize\": {\"type\": \"fit\"}, \"encoding\": {\"color\": {\"type\": \"nominal\", \"field\": \"role\", \"scale\": {\"type\": \"linear\", \"zero\": false}, \"sort\": null}, \"x\": {\"type\": \"quantitative\", \"field\": \"expected_bonus\", \"scale\": {\"type\": \"linear\", \"zero\": false}, \"sort\": null}, \"y\": {\"type\": \"nominal\", \"field\": \"player\", \"scale\": {\"type\": \"linear\", \"zero\": true}, \"sort\": null}}, \"height\": 300, \"width\": \"container\", \"$schema\": \"https://vega.github.io/schema/vega-lite/v4.json\", \"datasets\": {\"data-3c7a1b5604737e777af347e63035409c\": [{\"fanta_team\": \"MaiNa Joya_v2.0\", \"role\": \"D\", \"player\": \"Gosens\", \"team\": \"Inter\", \"opponent\": \"Cagliari\", \"date\": \"2022-05-15T00:00:00\", \"expected_bonus\": 0.6865835189819336}, {\"fanta_team\": \"MaiNa Joya_v2.0\", \"role\": \"D\", \"player\": \"Hern\\u00e1ndez\", \"team\": \"AC Milan\", \"opponent\": \"Atalanta\", \"date\": \"2022-05-15T00:00:00\", \"expected_bonus\": 0.45087730884552}, {\"fanta_team\": \"MaiNa Joya_v2.0\", \"role\": \"D\", \"player\": \"Molina\", \"team\": \"Udinese\", \"opponent\": \"Spezia\", \"date\": \"2022-05-14T00:00:00\", \"expected_bonus\": 0.28241145610809326}, {\"fanta_team\": \"MaiNa Joya_v2.0\", \"role\": \"D\", \"player\": \"Milenkovic\", \"team\": \"Fiorentina\", \"opponent\": \"Sampdoria\", \"date\": \"2022-05-16T00:00:00\", \"expected_bonus\": 0.2354506254196167}, {\"fanta_team\": \"MaiNa Joya_v2.0\", \"role\": \"D\", \"player\": \"Stojanovic\", \"team\": \"Empoli\", \"opponent\": \"Salernitana\", \"date\": \"2022-05-14T00:00:00\", \"expected_bonus\": 0.23500533401966095}, {\"fanta_team\": \"MaiNa Joya_v2.0\", \"role\": \"D\", \"player\": \"Ferrari\", \"team\": \"Sassuolo\", \"opponent\": \"Bologna\", \"date\": \"2022-05-15T00:00:00\", \"expected_bonus\": 0.19804172217845917}, {\"fanta_team\": \"MaiNa Joya_v2.0\", \"role\": \"D\", \"player\": \"Toloi\", \"team\": \"Atalanta\", \"opponent\": \"AC Milan\", \"date\": \"2022-05-15T00:00:00\", \"expected_bonus\": 0.08813907951116562}, {\"fanta_team\": \"MaiNa Joya_v2.0\", \"role\": \"C\", \"player\": \"Barella\", \"team\": \"Inter\", \"opponent\": \"Cagliari\", \"date\": \"2022-05-15T00:00:00\", \"expected_bonus\": 0.8975180983543396}, {\"fanta_team\": \"MaiNa Joya_v2.0\", \"role\": \"C\", \"player\": \"Milinkovic-Savic\", \"team\": \"Lazio\", \"opponent\": \"Juventus\", \"date\": \"2022-05-16T00:00:00\", \"expected_bonus\": 0.6632130146026611}, {\"fanta_team\": \"MaiNa Joya_v2.0\", \"role\": \"C\", \"player\": \"Pobega\", \"team\": \"Torino\", \"opponent\": \"Verona\", \"date\": \"2022-05-14T00:00:00\", \"expected_bonus\": 0.5457175970077515}, {\"fanta_team\": \"MaiNa Joya_v2.0\", \"role\": \"C\", \"player\": \"Soriano\", \"team\": \"Bologna\", \"opponent\": \"Sassuolo\", \"date\": \"2022-05-15T00:00:00\", \"expected_bonus\": 0.38617056608200073}, {\"fanta_team\": \"MaiNa Joya_v2.0\", \"role\": \"C\", \"player\": \"Bernardeschi\", \"team\": \"Juventus\", \"opponent\": \"Lazio\", \"date\": \"2022-05-16T00:00:00\", \"expected_bonus\": 0.3709167242050171}, {\"fanta_team\": \"MaiNa Joya_v2.0\", \"role\": \"C\", \"player\": \"Locatelli\", \"team\": \"Juventus\", \"opponent\": \"Lazio\", \"date\": \"2022-05-16T00:00:00\", \"expected_bonus\": 0.2843972444534302}, {\"fanta_team\": \"MaiNa Joya_v2.0\", \"role\": \"C\", \"player\": \"Sensi\", \"team\": \"Sampdoria\", \"opponent\": \"Fiorentina\", \"date\": \"2022-05-16T00:00:00\", \"expected_bonus\": 0.0032843351364135742}, {\"fanta_team\": \"MaiNa Joya_v2.0\", \"role\": \"A\", \"player\": \"Abraham\", \"team\": \"Roma\", \"opponent\": \"Venezia\", \"date\": \"2022-05-14T00:00:00\", \"expected_bonus\": 1.9528590440750122}, {\"fanta_team\": \"MaiNa Joya_v2.0\", \"role\": \"A\", \"player\": \"Insigne\", \"team\": \"Napoli\", \"opponent\": \"Genoa\", \"date\": \"2022-05-15T00:00:00\", \"expected_bonus\": 1.9427224397659302}, {\"fanta_team\": \"MaiNa Joya_v2.0\", \"role\": \"A\", \"player\": \"Morata\", \"team\": \"Juventus\", \"opponent\": \"Lazio\", \"date\": \"2022-05-16T00:00:00\", \"expected_bonus\": 1.1757391691207886}, {\"fanta_team\": \"MaiNa Joya_v2.0\", \"role\": \"A\", \"player\": \"Arnautovic\", \"team\": \"Bologna\", \"opponent\": \"Sassuolo\", \"date\": \"2022-05-15T00:00:00\", \"expected_bonus\": 1.0619381666183472}, {\"fanta_team\": \"MaiNa Joya_v2.0\", \"role\": \"A\", \"player\": \"Brekalo\", \"team\": \"Torino\", \"opponent\": \"Verona\", \"date\": \"2022-05-14T00:00:00\", \"expected_bonus\": 0.8894080519676208}, {\"fanta_team\": \"MaiNa Joya_v2.0\", \"role\": \"A\", \"player\": \"Boga\", \"team\": \"Atalanta\", \"opponent\": \"AC Milan\", \"date\": \"2022-05-15T00:00:00\", \"expected_bonus\": 0.5373132228851318}]}}, {\"actions\": false, \"mode\": \"vega-lite\"});\n</script>",
      "text/plain": "alt.Chart(...)"
     },
     "metadata": {}
    }
   ]
  },
  {
   "cell_type": "code",
   "metadata": {
    "cell_id": "93a5bb8d-d964-4fc6-b796-3c672a8d7c5d",
    "tags": [],
    "deepnote_to_be_reexecuted": false,
    "source_hash": "3f500048",
    "execution_start": 1652245535109,
    "execution_millis": 3,
    "deepnote_cell_type": "code"
   },
   "source": "team, index = display_fanta_squad(predictions, teams, index)",
   "execution_count": 16,
   "outputs": []
  },
  {
   "cell_type": "code",
   "source": "_deepnote_run_altair(team, \"\"\"{\"$schema\":\"https://vega.github.io/schema/vega-lite/v4.json\",\"mark\":{\"type\":\"bar\",\"tooltip\":{\"content\":\"data\"}},\"height\":220,\"autosize\":{\"type\":\"fit\"},\"data\":{\"name\":\"placeholder\"},\"encoding\":{\"x\":{\"field\":\"expected_bonus\",\"type\":\"quantitative\",\"sort\":null,\"scale\":{\"type\":\"linear\",\"zero\":false}},\"y\":{\"field\":\"player\",\"type\":\"nominal\",\"sort\":null,\"scale\":{\"type\":\"linear\",\"zero\":true}},\"color\":{\"field\":\"role\",\"type\":\"nominal\",\"sort\":null,\"scale\":{\"type\":\"linear\",\"zero\":false}}}}\"\"\")",
   "metadata": {
    "cell_id": "db709fde-6755-4bf6-9963-b66a19b9805d",
    "deepnote_variable_name": "team",
    "deepnote_visualization_spec": {
     "$schema": "https://vega.github.io/schema/vega-lite/v4.json",
     "mark": {
      "type": "bar",
      "tooltip": {
       "content": "data"
      }
     },
     "height": 220,
     "autosize": {
      "type": "fit"
     },
     "data": {
      "name": "placeholder"
     },
     "encoding": {
      "x": {
       "field": "expected_bonus",
       "type": "quantitative",
       "sort": null,
       "scale": {
        "type": "linear",
        "zero": false
       }
      },
      "y": {
       "field": "player",
       "type": "nominal",
       "sort": null,
       "scale": {
        "type": "linear",
        "zero": true
       }
      },
      "color": {
       "field": "role",
       "type": "nominal",
       "sort": null,
       "scale": {
        "type": "linear",
        "zero": false
       }
      }
     }
    },
    "deepnote_to_be_reexecuted": false,
    "source_hash": "e68de25e",
    "execution_start": 1652245535157,
    "execution_millis": 115,
    "allow_embed": "output",
    "deepnote_cell_type": "visualization",
    "deepnote_output_heights": [
     314
    ]
   },
   "execution_count": 17,
   "outputs": [
    {
     "output_type": "execute_result",
     "execution_count": 17,
     "data": {
      "text/html": "\n<div id=\"altair-viz-4622140615c34a6e9ddd2fff954527eb\"></div>\n<script type=\"text/javascript\">\n  (function(spec, embedOpt){\n    let outputDiv = document.currentScript.previousElementSibling;\n    if (outputDiv.id !== \"altair-viz-4622140615c34a6e9ddd2fff954527eb\") {\n      outputDiv = document.getElementById(\"altair-viz-4622140615c34a6e9ddd2fff954527eb\");\n    }\n    const paths = {\n      \"vega\": \"https://cdn.jsdelivr.net/npm//vega@5?noext\",\n      \"vega-lib\": \"https://cdn.jsdelivr.net/npm//vega-lib?noext\",\n      \"vega-lite\": \"https://cdn.jsdelivr.net/npm//vega-lite@4.8.1?noext\",\n      \"vega-embed\": \"https://cdn.jsdelivr.net/npm//vega-embed@6?noext\",\n    };\n\n    function loadScript(lib) {\n      return new Promise(function(resolve, reject) {\n        var s = document.createElement('script');\n        s.src = paths[lib];\n        s.async = true;\n        s.onload = () => resolve(paths[lib]);\n        s.onerror = () => reject(`Error loading script: ${paths[lib]}`);\n        document.getElementsByTagName(\"head\")[0].appendChild(s);\n      });\n    }\n\n    function showError(err) {\n      outputDiv.innerHTML = `<div class=\"error\" style=\"color:red;\">${err}</div>`;\n      throw err;\n    }\n\n    function displayChart(vegaEmbed) {\n      vegaEmbed(outputDiv, spec, embedOpt)\n        .catch(err => showError(`Javascript Error: ${err.message}<br>This usually means there's a typo in your chart specification. See the javascript console for the full traceback.`));\n    }\n\n    if(typeof define === \"function\" && define.amd) {\n      requirejs.config({paths});\n      require([\"vega-embed\"], displayChart, err => showError(`Error loading script: ${err.message}`));\n    } else if (typeof vegaEmbed === \"function\") {\n      displayChart(vegaEmbed);\n    } else {\n      loadScript(\"vega\")\n        .then(() => loadScript(\"vega-lite\"))\n        .then(() => loadScript(\"vega-embed\"))\n        .catch(showError)\n        .then(() => displayChart(vegaEmbed));\n    }\n  })({\"config\": {\"view\": {\"continuousWidth\": 400, \"continuousHeight\": 300}, \"area\": {\"fill\": \"#51C0E9\"}, \"axis\": {\"labelFont\": \"Inter, sans-serif\", \"labelFontSize\": 12, \"labelFontWeight\": \"normal\", \"labelLimit\": 60, \"labelOverlap\": \"greedy\", \"titleFont\": \"Inter, sans-serif\", \"titleFontSize\": 12, \"titleFontWeight\": \"bold\"}, \"background\": \"#ffffff\", \"legend\": {\"labelFont\": \"Inter, sans-serif\", \"labelFontSize\": 12, \"titleFont\": \"Inter, sans-serif\", \"titleFontSize\": 12, \"titleFontWeight\": \"bold\"}, \"line\": {\"stroke\": \"#51C0E9\", \"strokeWidth\": 2}, \"rect\": {\"fill\": \"#51C0E9\"}, \"title\": {\"anchor\": \"start\", \"color\": \"#000000\", \"font\": \"Inter, sans-serif\", \"fontSize\": 22, \"fontWeight\": \"normal\"}}, \"data\": {\"name\": \"data-f08d626495571c756fb4d27df9ed45ed\"}, \"mark\": {\"type\": \"bar\", \"tooltip\": {\"content\": \"data\"}}, \"autosize\": {\"type\": \"fit\"}, \"encoding\": {\"color\": {\"type\": \"nominal\", \"field\": \"role\", \"scale\": {\"type\": \"linear\", \"zero\": false}, \"sort\": null}, \"x\": {\"type\": \"quantitative\", \"field\": \"expected_bonus\", \"scale\": {\"type\": \"linear\", \"zero\": false}, \"sort\": null}, \"y\": {\"type\": \"nominal\", \"field\": \"player\", \"scale\": {\"type\": \"linear\", \"zero\": true}, \"sort\": null}}, \"height\": 300, \"width\": \"container\", \"$schema\": \"https://vega.github.io/schema/vega-lite/v4.json\", \"datasets\": {\"data-f08d626495571c756fb4d27df9ed45ed\": [{\"fanta_team\": \"Rione Monti\", \"role\": \"D\", \"player\": \"Biraghi\", \"team\": \"Fiorentina\", \"opponent\": \"Sampdoria\", \"date\": \"2022-05-16T00:00:00\", \"expected_bonus\": 0.38617804646492004}, {\"fanta_team\": \"Rione Monti\", \"role\": \"D\", \"player\": \"Bremer\", \"team\": \"Torino\", \"opponent\": \"Verona\", \"date\": \"2022-05-14T00:00:00\", \"expected_bonus\": 0.3604280948638916}, {\"fanta_team\": \"Rione Monti\", \"role\": \"D\", \"player\": \"Singo\", \"team\": \"Torino\", \"opponent\": \"Verona\", \"date\": \"2022-05-14T00:00:00\", \"expected_bonus\": 0.28202730417251587}, {\"fanta_team\": \"Rione Monti\", \"role\": \"D\", \"player\": \"Maehle\", \"team\": \"Atalanta\", \"opponent\": \"AC Milan\", \"date\": \"2022-05-15T00:00:00\", \"expected_bonus\": 0.2143922746181488}, {\"fanta_team\": \"Rione Monti\", \"role\": \"D\", \"player\": \"Bastoni\", \"team\": \"Spezia\", \"opponent\": \"Udinese\", \"date\": \"2022-05-14T00:00:00\", \"expected_bonus\": 0.2000470757484436}, {\"fanta_team\": \"Rione Monti\", \"role\": \"D\", \"player\": \"Maitland-Niles\", \"team\": \"Roma\", \"opponent\": \"Venezia\", \"date\": \"2022-05-14T00:00:00\", \"expected_bonus\": 0.1785281002521515}, {\"fanta_team\": \"Rione Monti\", \"role\": \"D\", \"player\": \"Lazzari\", \"team\": \"Lazio\", \"opponent\": \"Juventus\", \"date\": \"2022-05-16T00:00:00\", \"expected_bonus\": 0.04930669069290161}, {\"fanta_team\": \"Rione Monti\", \"role\": \"D\", \"player\": \"Pezzella\", \"team\": \"Atalanta\", \"opponent\": \"AC Milan\", \"date\": \"2022-05-15T00:00:00\", \"expected_bonus\": 0.031029297038912773}, {\"fanta_team\": \"Rione Monti\", \"role\": \"C\", \"player\": \"Pellegrini\", \"team\": \"Roma\", \"opponent\": \"Venezia\", \"date\": \"2022-05-14T00:00:00\", \"expected_bonus\": 1.0834813117980957}, {\"fanta_team\": \"Rione Monti\", \"role\": \"C\", \"player\": \"Zaniolo\", \"team\": \"Roma\", \"opponent\": \"Venezia\", \"date\": \"2022-05-14T00:00:00\", \"expected_bonus\": 0.9000829458236694}, {\"fanta_team\": \"Rione Monti\", \"role\": \"C\", \"player\": \"Frattesi\", \"team\": \"Sassuolo\", \"opponent\": \"Bologna\", \"date\": \"2022-05-15T00:00:00\", \"expected_bonus\": 0.5516050457954407}, {\"fanta_team\": \"Rione Monti\", \"role\": \"C\", \"player\": \"Henderson\", \"team\": \"Empoli\", \"opponent\": \"Salernitana\", \"date\": \"2022-05-14T00:00:00\", \"expected_bonus\": 0.5349375009536743}, {\"fanta_team\": \"Rione Monti\", \"role\": \"C\", \"player\": \"Anderson\", \"team\": \"Lazio\", \"opponent\": \"Juventus\", \"date\": \"2022-05-16T00:00:00\", \"expected_bonus\": 0.36722856760025024}, {\"fanta_team\": \"Rione Monti\", \"role\": \"C\", \"player\": \"Tameze\", \"team\": \"Verona\", \"opponent\": \"Torino\", \"date\": \"2022-05-14T00:00:00\", \"expected_bonus\": 0.047564297914505005}, {\"fanta_team\": \"Rione Monti\", \"role\": \"A\", \"player\": \"Dzeko\", \"team\": \"Inter\", \"opponent\": \"Cagliari\", \"date\": \"2022-05-15T00:00:00\", \"expected_bonus\": 2.085942029953003}, {\"fanta_team\": \"Rione Monti\", \"role\": \"A\", \"player\": \"Pinamonti\", \"team\": \"Empoli\", \"opponent\": \"Salernitana\", \"date\": \"2022-05-14T00:00:00\", \"expected_bonus\": 1.7090654373168945}, {\"fanta_team\": \"Rione Monti\", \"role\": \"A\", \"player\": \"Ibrahimovic\", \"team\": \"AC Milan\", \"opponent\": \"Atalanta\", \"date\": \"2022-05-15T00:00:00\", \"expected_bonus\": 1.1341801881790161}, {\"fanta_team\": \"Rione Monti\", \"role\": \"A\", \"player\": \"Raspadori\", \"team\": \"Sassuolo\", \"opponent\": \"Bologna\", \"date\": \"2022-05-15T00:00:00\", \"expected_bonus\": 0.9226573705673218}, {\"fanta_team\": \"Rione Monti\", \"role\": \"A\", \"player\": \"Afena-Gyan\", \"team\": \"Roma\", \"opponent\": \"Venezia\", \"date\": \"2022-05-14T00:00:00\", \"expected_bonus\": 0.7284545302391052}, {\"fanta_team\": \"Rione Monti\", \"role\": \"A\", \"player\": \"Pedro\", \"team\": \"Lazio\", \"opponent\": \"Juventus\", \"date\": \"2022-05-16T00:00:00\", \"expected_bonus\": 0.6876778602600098}]}}, {\"actions\": false, \"mode\": \"vega-lite\"});\n</script>",
      "text/plain": "alt.Chart(...)"
     },
     "metadata": {}
    }
   ]
  },
  {
   "cell_type": "code",
   "metadata": {
    "cell_id": "b4a0c2ea-9f90-4449-a274-c7c2f6a98238",
    "tags": [],
    "deepnote_to_be_reexecuted": false,
    "source_hash": "3f500048",
    "execution_start": 1652245535247,
    "execution_millis": 0,
    "deepnote_cell_type": "code"
   },
   "source": "team, index = display_fanta_squad(predictions, teams, index)",
   "execution_count": 18,
   "outputs": []
  },
  {
   "cell_type": "code",
   "source": "_deepnote_run_altair(team, \"\"\"{\"$schema\":\"https://vega.github.io/schema/vega-lite/v4.json\",\"mark\":{\"type\":\"bar\",\"tooltip\":{\"content\":\"data\"}},\"height\":220,\"autosize\":{\"type\":\"fit\"},\"data\":{\"name\":\"placeholder\"},\"encoding\":{\"x\":{\"field\":\"expected_bonus\",\"type\":\"quantitative\",\"sort\":null,\"scale\":{\"type\":\"linear\",\"zero\":false}},\"y\":{\"field\":\"player\",\"type\":\"nominal\",\"sort\":null,\"scale\":{\"type\":\"linear\",\"zero\":true}},\"color\":{\"field\":\"role\",\"type\":\"nominal\",\"sort\":null,\"scale\":{\"type\":\"linear\",\"zero\":false}}}}\"\"\")",
   "metadata": {
    "cell_id": "136e77e4-8edb-42d6-b134-ceefae4f53ce",
    "deepnote_variable_name": "team",
    "deepnote_visualization_spec": {
     "$schema": "https://vega.github.io/schema/vega-lite/v4.json",
     "mark": {
      "type": "bar",
      "tooltip": {
       "content": "data"
      }
     },
     "height": 220,
     "autosize": {
      "type": "fit"
     },
     "data": {
      "name": "placeholder"
     },
     "encoding": {
      "x": {
       "field": "expected_bonus",
       "type": "quantitative",
       "sort": null,
       "scale": {
        "type": "linear",
        "zero": false
       }
      },
      "y": {
       "field": "player",
       "type": "nominal",
       "sort": null,
       "scale": {
        "type": "linear",
        "zero": true
       }
      },
      "color": {
       "field": "role",
       "type": "nominal",
       "sort": null,
       "scale": {
        "type": "linear",
        "zero": false
       }
      }
     }
    },
    "deepnote_to_be_reexecuted": false,
    "source_hash": "e68de25e",
    "execution_start": 1652245535248,
    "execution_millis": 60,
    "allow_embed": "output",
    "deepnote_cell_type": "visualization",
    "deepnote_output_heights": [
     314
    ]
   },
   "execution_count": 19,
   "outputs": [
    {
     "output_type": "execute_result",
     "execution_count": 19,
     "data": {
      "text/html": "\n<div id=\"altair-viz-b90270b976ff4aa6ad819a4288b973b2\"></div>\n<script type=\"text/javascript\">\n  (function(spec, embedOpt){\n    let outputDiv = document.currentScript.previousElementSibling;\n    if (outputDiv.id !== \"altair-viz-b90270b976ff4aa6ad819a4288b973b2\") {\n      outputDiv = document.getElementById(\"altair-viz-b90270b976ff4aa6ad819a4288b973b2\");\n    }\n    const paths = {\n      \"vega\": \"https://cdn.jsdelivr.net/npm//vega@5?noext\",\n      \"vega-lib\": \"https://cdn.jsdelivr.net/npm//vega-lib?noext\",\n      \"vega-lite\": \"https://cdn.jsdelivr.net/npm//vega-lite@4.8.1?noext\",\n      \"vega-embed\": \"https://cdn.jsdelivr.net/npm//vega-embed@6?noext\",\n    };\n\n    function loadScript(lib) {\n      return new Promise(function(resolve, reject) {\n        var s = document.createElement('script');\n        s.src = paths[lib];\n        s.async = true;\n        s.onload = () => resolve(paths[lib]);\n        s.onerror = () => reject(`Error loading script: ${paths[lib]}`);\n        document.getElementsByTagName(\"head\")[0].appendChild(s);\n      });\n    }\n\n    function showError(err) {\n      outputDiv.innerHTML = `<div class=\"error\" style=\"color:red;\">${err}</div>`;\n      throw err;\n    }\n\n    function displayChart(vegaEmbed) {\n      vegaEmbed(outputDiv, spec, embedOpt)\n        .catch(err => showError(`Javascript Error: ${err.message}<br>This usually means there's a typo in your chart specification. See the javascript console for the full traceback.`));\n    }\n\n    if(typeof define === \"function\" && define.amd) {\n      requirejs.config({paths});\n      require([\"vega-embed\"], displayChart, err => showError(`Error loading script: ${err.message}`));\n    } else if (typeof vegaEmbed === \"function\") {\n      displayChart(vegaEmbed);\n    } else {\n      loadScript(\"vega\")\n        .then(() => loadScript(\"vega-lite\"))\n        .then(() => loadScript(\"vega-embed\"))\n        .catch(showError)\n        .then(() => displayChart(vegaEmbed));\n    }\n  })({\"config\": {\"view\": {\"continuousWidth\": 400, \"continuousHeight\": 300}, \"area\": {\"fill\": \"#51C0E9\"}, \"axis\": {\"labelFont\": \"Inter, sans-serif\", \"labelFontSize\": 12, \"labelFontWeight\": \"normal\", \"labelLimit\": 60, \"labelOverlap\": \"greedy\", \"titleFont\": \"Inter, sans-serif\", \"titleFontSize\": 12, \"titleFontWeight\": \"bold\"}, \"background\": \"#ffffff\", \"legend\": {\"labelFont\": \"Inter, sans-serif\", \"labelFontSize\": 12, \"titleFont\": \"Inter, sans-serif\", \"titleFontSize\": 12, \"titleFontWeight\": \"bold\"}, \"line\": {\"stroke\": \"#51C0E9\", \"strokeWidth\": 2}, \"rect\": {\"fill\": \"#51C0E9\"}, \"title\": {\"anchor\": \"start\", \"color\": \"#000000\", \"font\": \"Inter, sans-serif\", \"fontSize\": 22, \"fontWeight\": \"normal\"}}, \"data\": {\"name\": \"data-65bee7103845d34b255d81a6ab692742\"}, \"mark\": {\"type\": \"bar\", \"tooltip\": {\"content\": \"data\"}}, \"autosize\": {\"type\": \"fit\"}, \"encoding\": {\"color\": {\"type\": \"nominal\", \"field\": \"role\", \"scale\": {\"type\": \"linear\", \"zero\": false}, \"sort\": null}, \"x\": {\"type\": \"quantitative\", \"field\": \"expected_bonus\", \"scale\": {\"type\": \"linear\", \"zero\": false}, \"sort\": null}, \"y\": {\"type\": \"nominal\", \"field\": \"player\", \"scale\": {\"type\": \"linear\", \"zero\": true}, \"sort\": null}}, \"height\": 300, \"width\": \"container\", \"$schema\": \"https://vega.github.io/schema/vega-lite/v4.json\", \"datasets\": {\"data-65bee7103845d34b255d81a6ab692742\": [{\"fanta_team\": \"Scansuolo \", \"role\": \"D\", \"player\": \"Karsdorp\", \"team\": \"Roma\", \"opponent\": \"Venezia\", \"date\": \"2022-05-14T00:00:00\", \"expected_bonus\": 0.3779180943965912}, {\"fanta_team\": \"Scansuolo \", \"role\": \"D\", \"player\": \"Koulibaly\", \"team\": \"Napoli\", \"opponent\": \"Genoa\", \"date\": \"2022-05-15T00:00:00\", \"expected_bonus\": 0.3724279999732971}, {\"fanta_team\": \"Scansuolo \", \"role\": \"D\", \"player\": \"Vojvoda\", \"team\": \"Torino\", \"opponent\": \"Verona\", \"date\": \"2022-05-14T00:00:00\", \"expected_bonus\": 0.2550218105316162}, {\"fanta_team\": \"Scansuolo \", \"role\": \"D\", \"player\": \"Demiral\", \"team\": \"Atalanta\", \"opponent\": \"AC Milan\", \"date\": \"2022-05-15T00:00:00\", \"expected_bonus\": 0.19584716856479645}, {\"fanta_team\": \"Scansuolo \", \"role\": \"D\", \"player\": \"Hickey\", \"team\": \"Bologna\", \"opponent\": \"Sassuolo\", \"date\": \"2022-05-15T00:00:00\", \"expected_bonus\": 0.14053119719028473}, {\"fanta_team\": \"Scansuolo \", \"role\": \"D\", \"player\": \"Hysaj\", \"team\": \"Lazio\", \"opponent\": \"Juventus\", \"date\": \"2022-05-16T00:00:00\", \"expected_bonus\": 0.05564921349287033}, {\"fanta_team\": \"Scansuolo \", \"role\": \"D\", \"player\": \"Zappa\", \"team\": \"Cagliari\", \"opponent\": \"Inter\", \"date\": \"2022-05-15T00:00:00\", \"expected_bonus\": 0.018620382994413376}, {\"fanta_team\": \"Scansuolo \", \"role\": \"C\", \"player\": \"Pessina\", \"team\": \"Atalanta\", \"opponent\": \"AC Milan\", \"date\": \"2022-05-15T00:00:00\", \"expected_bonus\": 0.5015845894813538}, {\"fanta_team\": \"Scansuolo \", \"role\": \"C\", \"player\": \"Diaz\", \"team\": \"AC Milan\", \"opponent\": \"Atalanta\", \"date\": \"2022-05-15T00:00:00\", \"expected_bonus\": 0.5003827214241028}, {\"fanta_team\": \"Scansuolo \", \"role\": \"C\", \"player\": \"Messias\", \"team\": \"AC Milan\", \"opponent\": \"Atalanta\", \"date\": \"2022-05-15T00:00:00\", \"expected_bonus\": 0.49191606044769287}, {\"fanta_team\": \"Scansuolo \", \"role\": \"C\", \"player\": \"Zurkowski\", \"team\": \"Empoli\", \"opponent\": \"Salernitana\", \"date\": \"2022-05-14T00:00:00\", \"expected_bonus\": 0.46649688482284546}, {\"fanta_team\": \"Scansuolo \", \"role\": \"C\", \"player\": \"Zaccagni\", \"team\": \"Lazio\", \"opponent\": \"Juventus\", \"date\": \"2022-05-16T00:00:00\", \"expected_bonus\": 0.31386592984199524}, {\"fanta_team\": \"Scansuolo \", \"role\": \"C\", \"player\": \"Ilic\", \"team\": \"Verona\", \"opponent\": \"Torino\", \"date\": \"2022-05-14T00:00:00\", \"expected_bonus\": 0.1807337999343872}, {\"fanta_team\": \"Scansuolo \", \"role\": \"C\", \"player\": \"Traore\", \"team\": \"Sassuolo\", \"opponent\": \"Bologna\", \"date\": \"2022-05-15T00:00:00\", \"expected_bonus\": 0.10937133431434631}, {\"fanta_team\": \"Scansuolo \", \"role\": \"C\", \"player\": \"Koopmeiners\", \"team\": \"Atalanta\", \"opponent\": \"AC Milan\", \"date\": \"2022-05-15T00:00:00\", \"expected_bonus\": 0.08868848532438278}, {\"fanta_team\": \"Scansuolo \", \"role\": \"A\", \"player\": \"Scamacca\", \"team\": \"Sassuolo\", \"opponent\": \"Bologna\", \"date\": \"2022-05-15T00:00:00\", \"expected_bonus\": 1.4086225032806396}, {\"fanta_team\": \"Scansuolo \", \"role\": \"A\", \"player\": \"Immobile\", \"team\": \"Lazio\", \"opponent\": \"Juventus\", \"date\": \"2022-05-16T00:00:00\", \"expected_bonus\": 1.3358696699142456}, {\"fanta_team\": \"Scansuolo \", \"role\": \"A\", \"player\": \"Pedro\", \"team\": \"Cagliari\", \"opponent\": \"Inter\", \"date\": \"2022-05-15T00:00:00\", \"expected_bonus\": 0.9770129323005676}, {\"fanta_team\": \"Scansuolo \", \"role\": \"A\", \"player\": \"Le\\u00e3o\", \"team\": \"AC Milan\", \"opponent\": \"Atalanta\", \"date\": \"2022-05-15T00:00:00\", \"expected_bonus\": 0.8225300312042236}, {\"fanta_team\": \"Scansuolo \", \"role\": \"A\", \"player\": \"Mikael\", \"team\": \"Salernitana\", \"opponent\": \"Empoli\", \"date\": \"2022-05-14T00:00:00\", \"expected_bonus\": 0.13830263912677765}]}}, {\"actions\": false, \"mode\": \"vega-lite\"});\n</script>",
      "text/plain": "alt.Chart(...)"
     },
     "metadata": {}
    }
   ]
  },
  {
   "cell_type": "code",
   "metadata": {
    "cell_id": "4acdd713-c04b-4f4e-9a1f-ea8c4690c99e",
    "tags": [],
    "deepnote_to_be_reexecuted": false,
    "source_hash": "3f500048",
    "execution_start": 1652245535354,
    "execution_millis": 0,
    "deepnote_cell_type": "code"
   },
   "source": "team, index = display_fanta_squad(predictions, teams, index)",
   "execution_count": 20,
   "outputs": []
  },
  {
   "cell_type": "code",
   "source": "_deepnote_run_altair(team, \"\"\"{\"$schema\":\"https://vega.github.io/schema/vega-lite/v4.json\",\"mark\":{\"type\":\"bar\",\"tooltip\":{\"content\":\"data\"}},\"height\":220,\"autosize\":{\"type\":\"fit\"},\"data\":{\"name\":\"placeholder\"},\"encoding\":{\"x\":{\"field\":\"expected_bonus\",\"type\":\"quantitative\",\"sort\":null,\"scale\":{\"type\":\"linear\",\"zero\":false}},\"y\":{\"field\":\"player\",\"type\":\"nominal\",\"sort\":null,\"scale\":{\"type\":\"linear\",\"zero\":true}},\"color\":{\"field\":\"role\",\"type\":\"nominal\",\"sort\":null,\"scale\":{\"type\":\"linear\",\"zero\":false}}}}\"\"\")",
   "metadata": {
    "cell_id": "04913421-5945-4ac1-a1c7-1bd2f9975384",
    "deepnote_variable_name": "team",
    "deepnote_visualization_spec": {
     "$schema": "https://vega.github.io/schema/vega-lite/v4.json",
     "mark": {
      "type": "bar",
      "tooltip": {
       "content": "data"
      }
     },
     "height": 220,
     "autosize": {
      "type": "fit"
     },
     "data": {
      "name": "placeholder"
     },
     "encoding": {
      "x": {
       "field": "expected_bonus",
       "type": "quantitative",
       "sort": null,
       "scale": {
        "type": "linear",
        "zero": false
       }
      },
      "y": {
       "field": "player",
       "type": "nominal",
       "sort": null,
       "scale": {
        "type": "linear",
        "zero": true
       }
      },
      "color": {
       "field": "role",
       "type": "nominal",
       "sort": null,
       "scale": {
        "type": "linear",
        "zero": false
       }
      }
     }
    },
    "deepnote_to_be_reexecuted": false,
    "source_hash": "e68de25e",
    "execution_start": 1652245535355,
    "execution_millis": 105,
    "allow_embed": "output",
    "deepnote_cell_type": "visualization",
    "deepnote_output_heights": [
     314
    ]
   },
   "execution_count": 21,
   "outputs": [
    {
     "output_type": "execute_result",
     "execution_count": 21,
     "data": {
      "text/html": "\n<div id=\"altair-viz-23ceef2ec90340cfae4fc84568f780b3\"></div>\n<script type=\"text/javascript\">\n  (function(spec, embedOpt){\n    let outputDiv = document.currentScript.previousElementSibling;\n    if (outputDiv.id !== \"altair-viz-23ceef2ec90340cfae4fc84568f780b3\") {\n      outputDiv = document.getElementById(\"altair-viz-23ceef2ec90340cfae4fc84568f780b3\");\n    }\n    const paths = {\n      \"vega\": \"https://cdn.jsdelivr.net/npm//vega@5?noext\",\n      \"vega-lib\": \"https://cdn.jsdelivr.net/npm//vega-lib?noext\",\n      \"vega-lite\": \"https://cdn.jsdelivr.net/npm//vega-lite@4.8.1?noext\",\n      \"vega-embed\": \"https://cdn.jsdelivr.net/npm//vega-embed@6?noext\",\n    };\n\n    function loadScript(lib) {\n      return new Promise(function(resolve, reject) {\n        var s = document.createElement('script');\n        s.src = paths[lib];\n        s.async = true;\n        s.onload = () => resolve(paths[lib]);\n        s.onerror = () => reject(`Error loading script: ${paths[lib]}`);\n        document.getElementsByTagName(\"head\")[0].appendChild(s);\n      });\n    }\n\n    function showError(err) {\n      outputDiv.innerHTML = `<div class=\"error\" style=\"color:red;\">${err}</div>`;\n      throw err;\n    }\n\n    function displayChart(vegaEmbed) {\n      vegaEmbed(outputDiv, spec, embedOpt)\n        .catch(err => showError(`Javascript Error: ${err.message}<br>This usually means there's a typo in your chart specification. See the javascript console for the full traceback.`));\n    }\n\n    if(typeof define === \"function\" && define.amd) {\n      requirejs.config({paths});\n      require([\"vega-embed\"], displayChart, err => showError(`Error loading script: ${err.message}`));\n    } else if (typeof vegaEmbed === \"function\") {\n      displayChart(vegaEmbed);\n    } else {\n      loadScript(\"vega\")\n        .then(() => loadScript(\"vega-lite\"))\n        .then(() => loadScript(\"vega-embed\"))\n        .catch(showError)\n        .then(() => displayChart(vegaEmbed));\n    }\n  })({\"config\": {\"view\": {\"continuousWidth\": 400, \"continuousHeight\": 300}, \"area\": {\"fill\": \"#51C0E9\"}, \"axis\": {\"labelFont\": \"Inter, sans-serif\", \"labelFontSize\": 12, \"labelFontWeight\": \"normal\", \"labelLimit\": 60, \"labelOverlap\": \"greedy\", \"titleFont\": \"Inter, sans-serif\", \"titleFontSize\": 12, \"titleFontWeight\": \"bold\"}, \"background\": \"#ffffff\", \"legend\": {\"labelFont\": \"Inter, sans-serif\", \"labelFontSize\": 12, \"titleFont\": \"Inter, sans-serif\", \"titleFontSize\": 12, \"titleFontWeight\": \"bold\"}, \"line\": {\"stroke\": \"#51C0E9\", \"strokeWidth\": 2}, \"rect\": {\"fill\": \"#51C0E9\"}, \"title\": {\"anchor\": \"start\", \"color\": \"#000000\", \"font\": \"Inter, sans-serif\", \"fontSize\": 22, \"fontWeight\": \"normal\"}}, \"data\": {\"name\": \"data-d7ebe3f9951d0199692219990c46d536\"}, \"mark\": {\"type\": \"bar\", \"tooltip\": {\"content\": \"data\"}}, \"autosize\": {\"type\": \"fit\"}, \"encoding\": {\"color\": {\"type\": \"nominal\", \"field\": \"role\", \"scale\": {\"type\": \"linear\", \"zero\": false}, \"sort\": null}, \"x\": {\"type\": \"quantitative\", \"field\": \"expected_bonus\", \"scale\": {\"type\": \"linear\", \"zero\": false}, \"sort\": null}, \"y\": {\"type\": \"nominal\", \"field\": \"player\", \"scale\": {\"type\": \"linear\", \"zero\": true}, \"sort\": null}}, \"height\": 300, \"width\": \"container\", \"$schema\": \"https://vega.github.io/schema/vega-lite/v4.json\", \"datasets\": {\"data-d7ebe3f9951d0199692219990c46d536\": [{\"fanta_team\": \"ssc mozzarella\", \"role\": \"D\", \"player\": \"Dumfries\", \"team\": \"Inter\", \"opponent\": \"Cagliari\", \"date\": \"2022-05-15T00:00:00\", \"expected_bonus\": 0.8436185717582703}, {\"fanta_team\": \"ssc mozzarella\", \"role\": \"D\", \"player\": \"Rui\", \"team\": \"Napoli\", \"opponent\": \"Genoa\", \"date\": \"2022-05-15T00:00:00\", \"expected_bonus\": 0.4765760004520416}, {\"fanta_team\": \"ssc mozzarella\", \"role\": \"D\", \"player\": \"Smalling\", \"team\": \"Roma\", \"opponent\": \"Venezia\", \"date\": \"2022-05-14T00:00:00\", \"expected_bonus\": 0.3336876630783081}, {\"fanta_team\": \"ssc mozzarella\", \"role\": \"D\", \"player\": \"Iba\\u00f1ez\", \"team\": \"Roma\", \"opponent\": \"Venezia\", \"date\": \"2022-05-14T00:00:00\", \"expected_bonus\": 0.3191666007041931}, {\"fanta_team\": \"ssc mozzarella\", \"role\": \"D\", \"player\": \"Theate\", \"team\": \"Bologna\", \"opponent\": \"Sassuolo\", \"date\": \"2022-05-15T00:00:00\", \"expected_bonus\": 0.17076097428798676}, {\"fanta_team\": \"ssc mozzarella\", \"role\": \"D\", \"player\": \"Gjimshiti\", \"team\": \"Atalanta\", \"opponent\": \"AC Milan\", \"date\": \"2022-05-15T00:00:00\", \"expected_bonus\": 0.13088975846767426}, {\"fanta_team\": \"ssc mozzarella\", \"role\": \"D\", \"player\": \"Tomori\", \"team\": \"AC Milan\", \"opponent\": \"Atalanta\", \"date\": \"2022-05-15T00:00:00\", \"expected_bonus\": 0.0987875908613205}, {\"fanta_team\": \"ssc mozzarella\", \"role\": \"D\", \"player\": \"Felipe\", \"team\": \"Lazio\", \"opponent\": \"Juventus\", \"date\": \"2022-05-16T00:00:00\", \"expected_bonus\": 0.05861598998308182}, {\"fanta_team\": \"ssc mozzarella\", \"role\": \"C\", \"player\": \"Sottil\", \"team\": \"Fiorentina\", \"opponent\": \"Sampdoria\", \"date\": \"2022-05-16T00:00:00\", \"expected_bonus\": 0.970026433467865}, {\"fanta_team\": \"ssc mozzarella\", \"role\": \"C\", \"player\": \"Mkhitaryan\", \"team\": \"Roma\", \"opponent\": \"Venezia\", \"date\": \"2022-05-14T00:00:00\", \"expected_bonus\": 0.9288292527198792}, {\"fanta_team\": \"ssc mozzarella\", \"role\": \"C\", \"player\": \"Fabi\\u00e1n\", \"team\": \"Napoli\", \"opponent\": \"Genoa\", \"date\": \"2022-05-15T00:00:00\", \"expected_bonus\": 0.5783655643463135}, {\"fanta_team\": \"ssc mozzarella\", \"role\": \"C\", \"player\": \"Torreira\", \"team\": \"Fiorentina\", \"opponent\": \"Sampdoria\", \"date\": \"2022-05-16T00:00:00\", \"expected_bonus\": 0.33505958318710327}, {\"fanta_team\": \"ssc mozzarella\", \"role\": \"C\", \"player\": \"Lobotka\", \"team\": \"Napoli\", \"opponent\": \"Genoa\", \"date\": \"2022-05-15T00:00:00\", \"expected_bonus\": 0.3219040334224701}, {\"fanta_team\": \"ssc mozzarella\", \"role\": \"C\", \"player\": \"Pereyra\", \"team\": \"Udinese\", \"opponent\": \"Spezia\", \"date\": \"2022-05-14T00:00:00\", \"expected_bonus\": 0.3101542592048645}, {\"fanta_team\": \"ssc mozzarella\", \"role\": \"C\", \"player\": \"Lopez\", \"team\": \"Sassuolo\", \"opponent\": \"Bologna\", \"date\": \"2022-05-15T00:00:00\", \"expected_bonus\": 0.2039092630147934}, {\"fanta_team\": \"ssc mozzarella\", \"role\": \"C\", \"player\": \"Freuler\", \"team\": \"Atalanta\", \"opponent\": \"AC Milan\", \"date\": \"2022-05-15T00:00:00\", \"expected_bonus\": 0.08160282671451569}, {\"fanta_team\": \"ssc mozzarella\", \"role\": \"A\", \"player\": \"Osimhen\", \"team\": \"Napoli\", \"opponent\": \"Genoa\", \"date\": \"2022-05-15T00:00:00\", \"expected_bonus\": 1.6716997623443604}, {\"fanta_team\": \"ssc mozzarella\", \"role\": \"A\", \"player\": \"Gabbiadini\", \"team\": \"Sampdoria\", \"opponent\": \"Fiorentina\", \"date\": \"2022-05-16T00:00:00\", \"expected_bonus\": 1.0861011743545532}, {\"fanta_team\": \"ssc mozzarella\", \"role\": \"A\", \"player\": \"Bonazzoli\", \"team\": \"Salernitana\", \"opponent\": \"Empoli\", \"date\": \"2022-05-14T00:00:00\", \"expected_bonus\": 1.0245716571807861}, {\"fanta_team\": \"ssc mozzarella\", \"role\": \"A\", \"player\": \"Caprari\", \"team\": \"Verona\", \"opponent\": \"Torino\", \"date\": \"2022-05-14T00:00:00\", \"expected_bonus\": 0.8270431756973267}, {\"fanta_team\": \"ssc mozzarella\", \"role\": \"A\", \"player\": \"Politano\", \"team\": \"Napoli\", \"opponent\": \"Genoa\", \"date\": \"2022-05-15T00:00:00\", \"expected_bonus\": 0.5812510848045349}, {\"fanta_team\": \"ssc mozzarella\", \"role\": \"A\", \"player\": \"Pavoletti\", \"team\": \"Cagliari\", \"opponent\": \"Inter\", \"date\": \"2022-05-15T00:00:00\", \"expected_bonus\": 0.37896186113357544}]}}, {\"actions\": false, \"mode\": \"vega-lite\"});\n</script>",
      "text/plain": "alt.Chart(...)"
     },
     "metadata": {}
    }
   ]
  },
  {
   "cell_type": "code",
   "metadata": {
    "cell_id": "44571e9e-e8b2-407a-85b9-bcb406b04f31",
    "tags": [],
    "deepnote_to_be_reexecuted": false,
    "source_hash": "de92d3d",
    "execution_start": 1652245535459,
    "execution_millis": 326561,
    "deepnote_cell_type": "code"
   },
   "source": "try:\n    \n    ###############################################################################################\n    status = 'Loading config ...'\n    print('{} -> {}'.format(datetime.now().strftime('%Y-%m-%d %H:%M:%S'), status))\n    with open('config/config.json') as config:\n        config = json.load(config)\n    status = 'Loading config done!'\n    print('{} -> {}'.format(datetime.now().strftime('%Y-%m-%d %H:%M:%S'), status))\n    ###############################################################################################\n\n    ###############################################################################################\n    status = 'Retrieving past week predictions ...'\n    print('{} -> {}'.format(datetime.now().strftime('%Y-%m-%d %H:%M:%S'), status))\n    validation = validate(config['league_name'], config['gameweek']['past'])\n    status = 'Retrieving past week predictions done!'\n    print('{} -> {}'.format(datetime.now().strftime('%Y-%m-%d %H:%M:%S'), status))\n    ###############################################################################################\n\n    ###############################################################################################\n    status = 'Preparing predictions for display...'\n    print('{} -> {}'.format(datetime.now().strftime('%Y-%m-%d %H:%M:%S'), status))\n    validation['player'] = validation['player'].apply(lambda x: x.split(' ')[-1])\n    status = 'Preparing predictions for display done!'\n    print('{} -> {}'.format(datetime.now().strftime('%Y-%m-%d %H:%M:%S'), status))\n    ###############################################################################################\n\n    ###############################################################################################\n    status = 'Updating config ...'\n    print('{} -> {}'.format(datetime.now().strftime('%Y-%m-%d %H:%M:%S'), status))\n    config['gameweek']['past'] = config['gameweek']['past'] + 1\n    with open('config/config.json', 'w') as f:\n        json.dump(config, f, indent=4)\n    status = 'Updating config done!'\n    print('{} -> {}'.format(datetime.now().strftime('%Y-%m-%d %H:%M:%S'), status))\n    ###############################################################################################\n\nexcept Exception as e:\n    print('Exception: {}'.format(e))\n    print('Errored out during: {}'.format(status))",
   "execution_count": 22,
   "outputs": [
    {
     "name": "stdout",
     "text": "2022-05-11 05:05:35 -> Loading config ...\n2022-05-11 05:05:35 -> Loading config done!\n2022-05-11 05:05:35 -> Retrieving past week predictions ...\n100%|██████████| 166/166 [05:26<00:00,  1.97s/it]2022-05-11 05:11:02 -> Retrieving past week predictions done!\n2022-05-11 05:11:02 -> Preparing predictions for display...\n2022-05-11 05:11:02 -> Preparing predictions for display done!\n2022-05-11 05:11:02 -> Updating config ...\n2022-05-11 05:11:02 -> Updating config done!\n\n",
     "output_type": "stream"
    }
   ]
  },
  {
   "cell_type": "code",
   "metadata": {
    "cell_id": "fe5cb744-dcbb-4c2b-b8f4-eee4c37224da",
    "tags": [],
    "deepnote_to_be_reexecuted": false,
    "source_hash": "d3a5413f",
    "execution_start": 1652245862027,
    "execution_millis": 4,
    "deepnote_cell_type": "code"
   },
   "source": "teams = sorted(list(validation['fanta_team'].unique()))\nindex = 0",
   "execution_count": 23,
   "outputs": []
  },
  {
   "cell_type": "code",
   "metadata": {
    "cell_id": "5307f8bd-5ea7-466a-8190-518b8819ea5b",
    "tags": [],
    "deepnote_to_be_reexecuted": false,
    "source_hash": "96119dd1",
    "execution_start": 1652245862035,
    "execution_millis": 3,
    "deepnote_cell_type": "code"
   },
   "source": "team, index = display_fanta_squad(validation, teams, index)",
   "execution_count": 24,
   "outputs": []
  },
  {
   "cell_type": "code",
   "source": "_deepnote_run_altair(team, \"\"\"{\"$schema\":\"https://vega.github.io/schema/vega-lite/v4.json\",\"mark\":{\"type\":\"bar\",\"tooltip\":{\"content\":\"data\"}},\"height\":220,\"autosize\":{\"type\":\"fit\"},\"data\":{\"name\":\"placeholder\"},\"encoding\":{\"x\":{\"field\":\"error\",\"type\":\"quantitative\",\"sort\":null,\"scale\":{\"type\":\"linear\",\"zero\":false}},\"y\":{\"field\":\"player\",\"type\":\"nominal\",\"sort\":null,\"scale\":{\"type\":\"linear\",\"zero\":true}},\"color\":{\"field\":\"error_type\",\"type\":\"nominal\",\"sort\":null,\"scale\":{\"type\":\"linear\",\"zero\":false}}}}\"\"\")",
   "metadata": {
    "cell_id": "d6007c66-f029-409e-aef9-6f052b6748e3",
    "deepnote_variable_name": "team",
    "deepnote_visualization_spec": {
     "$schema": "https://vega.github.io/schema/vega-lite/v4.json",
     "mark": {
      "type": "bar",
      "tooltip": {
       "content": "data"
      }
     },
     "height": 220,
     "autosize": {
      "type": "fit"
     },
     "data": {
      "name": "placeholder"
     },
     "encoding": {
      "x": {
       "field": "error",
       "type": "quantitative",
       "sort": null,
       "scale": {
        "type": "linear",
        "zero": false
       }
      },
      "y": {
       "field": "player",
       "type": "nominal",
       "sort": null,
       "scale": {
        "type": "linear",
        "zero": true
       }
      },
      "color": {
       "field": "error_type",
       "type": "nominal",
       "sort": null,
       "scale": {
        "type": "linear",
        "zero": false
       }
      }
     }
    },
    "deepnote_to_be_reexecuted": false,
    "source_hash": "81b9fc1a",
    "execution_start": 1652245862073,
    "execution_millis": 68,
    "allow_embed": "output",
    "deepnote_cell_type": "visualization",
    "deepnote_output_heights": [
     314
    ]
   },
   "execution_count": 25,
   "outputs": [
    {
     "output_type": "execute_result",
     "execution_count": 25,
     "data": {
      "text/html": "\n<div id=\"altair-viz-a1e6536ee52f4bb9a6bde6c61b4b536c\"></div>\n<script type=\"text/javascript\">\n  (function(spec, embedOpt){\n    let outputDiv = document.currentScript.previousElementSibling;\n    if (outputDiv.id !== \"altair-viz-a1e6536ee52f4bb9a6bde6c61b4b536c\") {\n      outputDiv = document.getElementById(\"altair-viz-a1e6536ee52f4bb9a6bde6c61b4b536c\");\n    }\n    const paths = {\n      \"vega\": \"https://cdn.jsdelivr.net/npm//vega@5?noext\",\n      \"vega-lib\": \"https://cdn.jsdelivr.net/npm//vega-lib?noext\",\n      \"vega-lite\": \"https://cdn.jsdelivr.net/npm//vega-lite@4.8.1?noext\",\n      \"vega-embed\": \"https://cdn.jsdelivr.net/npm//vega-embed@6?noext\",\n    };\n\n    function loadScript(lib) {\n      return new Promise(function(resolve, reject) {\n        var s = document.createElement('script');\n        s.src = paths[lib];\n        s.async = true;\n        s.onload = () => resolve(paths[lib]);\n        s.onerror = () => reject(`Error loading script: ${paths[lib]}`);\n        document.getElementsByTagName(\"head\")[0].appendChild(s);\n      });\n    }\n\n    function showError(err) {\n      outputDiv.innerHTML = `<div class=\"error\" style=\"color:red;\">${err}</div>`;\n      throw err;\n    }\n\n    function displayChart(vegaEmbed) {\n      vegaEmbed(outputDiv, spec, embedOpt)\n        .catch(err => showError(`Javascript Error: ${err.message}<br>This usually means there's a typo in your chart specification. See the javascript console for the full traceback.`));\n    }\n\n    if(typeof define === \"function\" && define.amd) {\n      requirejs.config({paths});\n      require([\"vega-embed\"], displayChart, err => showError(`Error loading script: ${err.message}`));\n    } else if (typeof vegaEmbed === \"function\") {\n      displayChart(vegaEmbed);\n    } else {\n      loadScript(\"vega\")\n        .then(() => loadScript(\"vega-lite\"))\n        .then(() => loadScript(\"vega-embed\"))\n        .catch(showError)\n        .then(() => displayChart(vegaEmbed));\n    }\n  })({\"config\": {\"view\": {\"continuousWidth\": 400, \"continuousHeight\": 300}, \"area\": {\"fill\": \"#51C0E9\"}, \"axis\": {\"labelFont\": \"Inter, sans-serif\", \"labelFontSize\": 12, \"labelFontWeight\": \"normal\", \"labelLimit\": 60, \"labelOverlap\": \"greedy\", \"titleFont\": \"Inter, sans-serif\", \"titleFontSize\": 12, \"titleFontWeight\": \"bold\"}, \"background\": \"#ffffff\", \"legend\": {\"labelFont\": \"Inter, sans-serif\", \"labelFontSize\": 12, \"titleFont\": \"Inter, sans-serif\", \"titleFontSize\": 12, \"titleFontWeight\": \"bold\"}, \"line\": {\"stroke\": \"#51C0E9\", \"strokeWidth\": 2}, \"rect\": {\"fill\": \"#51C0E9\"}, \"title\": {\"anchor\": \"start\", \"color\": \"#000000\", \"font\": \"Inter, sans-serif\", \"fontSize\": 22, \"fontWeight\": \"normal\"}}, \"data\": {\"name\": \"data-c1b34490057bd129feb23adf70322311\"}, \"mark\": {\"type\": \"bar\", \"tooltip\": {\"content\": \"data\"}}, \"autosize\": {\"type\": \"fit\"}, \"encoding\": {\"color\": {\"type\": \"nominal\", \"field\": \"error_type\", \"scale\": {\"type\": \"linear\", \"zero\": false}, \"sort\": null}, \"x\": {\"type\": \"quantitative\", \"field\": \"error\", \"scale\": {\"type\": \"linear\", \"zero\": false}, \"sort\": null}, \"y\": {\"type\": \"nominal\", \"field\": \"player\", \"scale\": {\"type\": \"linear\", \"zero\": true}, \"sort\": null}}, \"height\": 300, \"width\": \"container\", \"$schema\": \"https://vega.github.io/schema/vega-lite/v4.json\", \"datasets\": {\"data-c1b34490057bd129feb23adf70322311\": [{\"fanta_team\": \"AC Picchia\", \"role\": \"D\", \"player\": \"Calabria\", \"team\": \"AC Milan\", \"opponent\": \"Verona\", \"date\": \"2022-05-08T00:00:00\", \"expected_bonus\": 0.4810575, \"true_bonus\": 0.0, \"error\": 0.4810575, \"error_type\": \"overestimated\"}, {\"fanta_team\": \"AC Picchia\", \"role\": \"D\", \"player\": \"Florenzi\", \"team\": \"AC Milan\", \"opponent\": \"Verona\", \"date\": \"2022-05-08T00:00:00\", \"expected_bonus\": 0.2635904, \"true_bonus\": 3.0, \"error\": -2.7364096, \"error_type\": \"underestimated\"}, {\"fanta_team\": \"AC Picchia\", \"role\": \"D\", \"player\": \"Faraoni\", \"team\": \"Verona\", \"opponent\": \"AC Milan\", \"date\": \"2022-05-08T00:00:00\", \"expected_bonus\": 0.1722681, \"true_bonus\": 3.0, \"error\": -2.8277319, \"error_type\": \"underestimated\"}, {\"fanta_team\": \"AC Picchia\", \"role\": \"D\", \"player\": \"Augello\", \"team\": \"Sampdoria\", \"opponent\": \"Lazio\", \"date\": \"2022-05-07T00:00:00\", \"expected_bonus\": 0.10404778, \"true_bonus\": 0.0, \"error\": 0.10404778, \"error_type\": \"overestimated\"}, {\"fanta_team\": \"AC Picchia\", \"role\": \"D\", \"player\": \"Ansaldi\", \"team\": \"Torino\", \"opponent\": \"Napoli\", \"date\": \"2022-05-07T00:00:00\", \"expected_bonus\": 0.03193356, \"true_bonus\": 0.0, \"error\": 0.03193356, \"error_type\": \"overestimated\"}, {\"fanta_team\": \"AC Picchia\", \"role\": \"C\", \"player\": \"Calhanoglu\", \"team\": \"Inter\", \"opponent\": \"Empoli\", \"date\": \"2022-05-06T00:00:00\", \"expected_bonus\": 1.1576896, \"true_bonus\": 1.0, \"error\": 0.1576896000000001, \"error_type\": \"overestimated\"}, {\"fanta_team\": \"AC Picchia\", \"role\": \"C\", \"player\": \"Malinovskiy\", \"team\": \"Atalanta\", \"opponent\": \"Spezia\", \"date\": \"2022-05-08T00:00:00\", \"expected_bonus\": 1.1475537, \"true_bonus\": 1.0, \"error\": 0.1475537, \"error_type\": \"overestimated\"}, {\"fanta_team\": \"AC Picchia\", \"role\": \"C\", \"player\": \"Aramu\", \"team\": \"Venezia\", \"opponent\": \"Salernitana\", \"date\": \"2022-05-05T00:00:00\", \"expected_bonus\": 1.0236338, \"true_bonus\": 0.0, \"error\": 1.0236338, \"error_type\": \"overestimated\"}, {\"fanta_team\": \"AC Picchia\", \"role\": \"C\", \"player\": \"Brozovic\", \"team\": \"Inter\", \"opponent\": \"Empoli\", \"date\": \"2022-05-06T00:00:00\", \"expected_bonus\": 0.39976835, \"true_bonus\": 0.0, \"error\": 0.39976835, \"error_type\": \"overestimated\"}, {\"fanta_team\": \"AC Picchia\", \"role\": \"C\", \"player\": \"Orsolini\", \"team\": \"Bologna\", \"opponent\": \"Venezia\", \"date\": \"2022-05-08T00:00:00\", \"expected_bonus\": 0.39242998, \"true_bonus\": 3.0, \"error\": -2.60757002, \"error_type\": \"underestimated\"}, {\"fanta_team\": \"AC Picchia\", \"role\": \"C\", \"player\": \"Thorsby\", \"team\": \"Sampdoria\", \"opponent\": \"Lazio\", \"date\": \"2022-05-07T00:00:00\", \"expected_bonus\": 0.25953826, \"true_bonus\": 0.0, \"error\": 0.25953826, \"error_type\": \"overestimated\"}, {\"fanta_team\": \"AC Picchia\", \"role\": \"C\", \"player\": \"Marin\", \"team\": \"Cagliari\", \"opponent\": \"Salernitana\", \"date\": \"2022-05-08T00:00:00\", \"expected_bonus\": 0.213577, \"true_bonus\": 0.0, \"error\": 0.213577, \"error_type\": \"overestimated\"}, {\"fanta_team\": \"AC Picchia\", \"role\": \"A\", \"player\": \"Muriel\", \"team\": \"Atalanta\", \"opponent\": \"Spezia\", \"date\": \"2022-05-08T00:00:00\", \"expected_bonus\": 1.5837644, \"true_bonus\": 4.0, \"error\": -2.4162356000000003, \"error_type\": \"underestimated\"}, {\"fanta_team\": \"AC Picchia\", \"role\": \"A\", \"player\": \"Henry\", \"team\": \"Venezia\", \"opponent\": \"Salernitana\", \"date\": \"2022-05-05T00:00:00\", \"expected_bonus\": 1.2085758, \"true_bonus\": 3.0, \"error\": -1.7914242, \"error_type\": \"underestimated\"}, {\"fanta_team\": \"AC Picchia\", \"role\": \"A\", \"player\": \"Caputo\", \"team\": \"Sampdoria\", \"opponent\": \"Lazio\", \"date\": \"2022-05-07T00:00:00\", \"expected_bonus\": 1.0263982, \"true_bonus\": 0.0, \"error\": 1.0263982, \"error_type\": \"overestimated\"}, {\"fanta_team\": \"AC Picchia\", \"role\": \"A\", \"player\": \"Giroud\", \"team\": \"AC Milan\", \"opponent\": \"Verona\", \"date\": \"2022-05-08T00:00:00\", \"expected_bonus\": 0.9943981, \"true_bonus\": 0.0, \"error\": 0.9943981, \"error_type\": \"overestimated\"}, {\"fanta_team\": \"AC Picchia\", \"role\": \"A\", \"player\": \"Verde\", \"team\": \"Spezia\", \"opponent\": \"Atalanta\", \"date\": \"2022-05-08T00:00:00\", \"expected_bonus\": 0.34099382, \"true_bonus\": 3.0, \"error\": -2.65900618, \"error_type\": \"underestimated\"}, {\"fanta_team\": \"AC Picchia\", \"role\": \"A\", \"player\": \"Cabral\", \"team\": \"Fiorentina\", \"opponent\": \"Roma\", \"date\": \"2022-05-09T00:00:00\", \"expected_bonus\": 0.13832499, \"true_bonus\": 1.0, \"error\": -0.86167501, \"error_type\": \"underestimated\"}]}}, {\"actions\": false, \"mode\": \"vega-lite\"});\n</script>",
      "text/plain": "alt.Chart(...)"
     },
     "metadata": {}
    }
   ]
  },
  {
   "cell_type": "code",
   "metadata": {
    "cell_id": "7230bd13-cec2-47d3-b394-a7502968a878",
    "tags": [],
    "deepnote_to_be_reexecuted": false,
    "source_hash": "96119dd1",
    "execution_start": 1652245862141,
    "execution_millis": 45,
    "deepnote_cell_type": "code"
   },
   "source": "team, index = display_fanta_squad(validation, teams, index)",
   "execution_count": 26,
   "outputs": []
  },
  {
   "cell_type": "code",
   "source": "_deepnote_run_altair(team, \"\"\"{\"$schema\":\"https://vega.github.io/schema/vega-lite/v4.json\",\"mark\":{\"type\":\"bar\",\"tooltip\":{\"content\":\"data\"}},\"height\":220,\"autosize\":{\"type\":\"fit\"},\"data\":{\"name\":\"placeholder\"},\"encoding\":{\"x\":{\"field\":\"error\",\"type\":\"quantitative\",\"sort\":null,\"scale\":{\"type\":\"linear\",\"zero\":false}},\"y\":{\"field\":\"player\",\"type\":\"nominal\",\"sort\":null,\"scale\":{\"type\":\"linear\",\"zero\":true}},\"color\":{\"field\":\"error_type\",\"type\":\"nominal\",\"sort\":null,\"scale\":{\"type\":\"linear\",\"zero\":false}}}}\"\"\")",
   "metadata": {
    "cell_id": "00025-5835c844-289b-4f92-b154-1d82c629a5b1",
    "deepnote_variable_name": "team",
    "deepnote_visualization_spec": {
     "$schema": "https://vega.github.io/schema/vega-lite/v4.json",
     "mark": {
      "type": "bar",
      "tooltip": {
       "content": "data"
      }
     },
     "height": 220,
     "autosize": {
      "type": "fit"
     },
     "data": {
      "name": "placeholder"
     },
     "encoding": {
      "x": {
       "field": "error",
       "type": "quantitative",
       "sort": null,
       "scale": {
        "type": "linear",
        "zero": false
       }
      },
      "y": {
       "field": "player",
       "type": "nominal",
       "sort": null,
       "scale": {
        "type": "linear",
        "zero": true
       }
      },
      "color": {
       "field": "error_type",
       "type": "nominal",
       "sort": null,
       "scale": {
        "type": "linear",
        "zero": false
       }
      }
     }
    },
    "deepnote_to_be_reexecuted": false,
    "source_hash": "81b9fc1a",
    "allow_embed": "output",
    "execution_start": 1652245862186,
    "execution_millis": 98,
    "deepnote_cell_type": "visualization",
    "deepnote_output_heights": [
     314
    ]
   },
   "execution_count": 27,
   "outputs": [
    {
     "output_type": "execute_result",
     "execution_count": 27,
     "data": {
      "text/html": "\n<div id=\"altair-viz-4cb8780a42074c53962c897129a0d56d\"></div>\n<script type=\"text/javascript\">\n  (function(spec, embedOpt){\n    let outputDiv = document.currentScript.previousElementSibling;\n    if (outputDiv.id !== \"altair-viz-4cb8780a42074c53962c897129a0d56d\") {\n      outputDiv = document.getElementById(\"altair-viz-4cb8780a42074c53962c897129a0d56d\");\n    }\n    const paths = {\n      \"vega\": \"https://cdn.jsdelivr.net/npm//vega@5?noext\",\n      \"vega-lib\": \"https://cdn.jsdelivr.net/npm//vega-lib?noext\",\n      \"vega-lite\": \"https://cdn.jsdelivr.net/npm//vega-lite@4.8.1?noext\",\n      \"vega-embed\": \"https://cdn.jsdelivr.net/npm//vega-embed@6?noext\",\n    };\n\n    function loadScript(lib) {\n      return new Promise(function(resolve, reject) {\n        var s = document.createElement('script');\n        s.src = paths[lib];\n        s.async = true;\n        s.onload = () => resolve(paths[lib]);\n        s.onerror = () => reject(`Error loading script: ${paths[lib]}`);\n        document.getElementsByTagName(\"head\")[0].appendChild(s);\n      });\n    }\n\n    function showError(err) {\n      outputDiv.innerHTML = `<div class=\"error\" style=\"color:red;\">${err}</div>`;\n      throw err;\n    }\n\n    function displayChart(vegaEmbed) {\n      vegaEmbed(outputDiv, spec, embedOpt)\n        .catch(err => showError(`Javascript Error: ${err.message}<br>This usually means there's a typo in your chart specification. See the javascript console for the full traceback.`));\n    }\n\n    if(typeof define === \"function\" && define.amd) {\n      requirejs.config({paths});\n      require([\"vega-embed\"], displayChart, err => showError(`Error loading script: ${err.message}`));\n    } else if (typeof vegaEmbed === \"function\") {\n      displayChart(vegaEmbed);\n    } else {\n      loadScript(\"vega\")\n        .then(() => loadScript(\"vega-lite\"))\n        .then(() => loadScript(\"vega-embed\"))\n        .catch(showError)\n        .then(() => displayChart(vegaEmbed));\n    }\n  })({\"config\": {\"view\": {\"continuousWidth\": 400, \"continuousHeight\": 300}, \"area\": {\"fill\": \"#51C0E9\"}, \"axis\": {\"labelFont\": \"Inter, sans-serif\", \"labelFontSize\": 12, \"labelFontWeight\": \"normal\", \"labelLimit\": 60, \"labelOverlap\": \"greedy\", \"titleFont\": \"Inter, sans-serif\", \"titleFontSize\": 12, \"titleFontWeight\": \"bold\"}, \"background\": \"#ffffff\", \"legend\": {\"labelFont\": \"Inter, sans-serif\", \"labelFontSize\": 12, \"titleFont\": \"Inter, sans-serif\", \"titleFontSize\": 12, \"titleFontWeight\": \"bold\"}, \"line\": {\"stroke\": \"#51C0E9\", \"strokeWidth\": 2}, \"rect\": {\"fill\": \"#51C0E9\"}, \"title\": {\"anchor\": \"start\", \"color\": \"#000000\", \"font\": \"Inter, sans-serif\", \"fontSize\": 22, \"fontWeight\": \"normal\"}}, \"data\": {\"name\": \"data-a45bec8471cede8598a3d0f7d29d15e1\"}, \"mark\": {\"type\": \"bar\", \"tooltip\": {\"content\": \"data\"}}, \"autosize\": {\"type\": \"fit\"}, \"encoding\": {\"color\": {\"type\": \"nominal\", \"field\": \"error_type\", \"scale\": {\"type\": \"linear\", \"zero\": false}, \"sort\": null}, \"x\": {\"type\": \"quantitative\", \"field\": \"error\", \"scale\": {\"type\": \"linear\", \"zero\": false}, \"sort\": null}, \"y\": {\"type\": \"nominal\", \"field\": \"player\", \"scale\": {\"type\": \"linear\", \"zero\": true}, \"sort\": null}}, \"height\": 300, \"width\": \"container\", \"$schema\": \"https://vega.github.io/schema/vega-lite/v4.json\", \"datasets\": {\"data-a45bec8471cede8598a3d0f7d29d15e1\": [{\"fanta_team\": \"AI sereje ja dejeDe jebe tu de jebere\", \"role\": \"D\", \"player\": \"Skriniar\", \"team\": \"Inter\", \"opponent\": \"Empoli\", \"date\": \"2022-05-06T00:00:00\", \"expected_bonus\": 0.4284758, \"true_bonus\": 0.0, \"error\": 0.4284758, \"error_type\": \"overestimated\"}, {\"fanta_team\": \"AI sereje ja dejeDe jebe tu de jebere\", \"role\": \"D\", \"player\": \"Darmian\", \"team\": \"Inter\", \"opponent\": \"Empoli\", \"date\": \"2022-05-06T00:00:00\", \"expected_bonus\": 0.397403, \"true_bonus\": 0.0, \"error\": 0.397403, \"error_type\": \"overestimated\"}, {\"fanta_team\": \"AI sereje ja dejeDe jebe tu de jebere\", \"role\": \"D\", \"player\": \"Acerbi\", \"team\": \"Lazio\", \"opponent\": \"Sampdoria\", \"date\": \"2022-05-07T00:00:00\", \"expected_bonus\": 0.30165, \"true_bonus\": 0.0, \"error\": 0.30165, \"error_type\": \"overestimated\"}, {\"fanta_team\": \"AI sereje ja dejeDe jebe tu de jebere\", \"role\": \"D\", \"player\": \"Hateboer\", \"team\": \"Atalanta\", \"opponent\": \"Spezia\", \"date\": \"2022-05-08T00:00:00\", \"expected_bonus\": 0.26028505, \"true_bonus\": 0.0, \"error\": 0.26028505, \"error_type\": \"overestimated\"}, {\"fanta_team\": \"AI sereje ja dejeDe jebe tu de jebere\", \"role\": \"D\", \"player\": \"Rrahmani\", \"team\": \"Napoli\", \"opponent\": \"Torino\", \"date\": \"2022-05-07T00:00:00\", \"expected_bonus\": 0.21868636, \"true_bonus\": 0.0, \"error\": 0.21868636, \"error_type\": \"overestimated\"}, {\"fanta_team\": \"AI sereje ja dejeDe jebe tu de jebere\", \"role\": \"C\", \"player\": \"Bajrami\", \"team\": \"Empoli\", \"opponent\": \"Inter\", \"date\": \"2022-05-06T00:00:00\", \"expected_bonus\": 0.7737714, \"true_bonus\": 0.0, \"error\": 0.7737714, \"error_type\": \"overestimated\"}, {\"fanta_team\": \"AI sereje ja dejeDe jebe tu de jebere\", \"role\": \"C\", \"player\": \"Candreva\", \"team\": \"Sampdoria\", \"opponent\": \"Lazio\", \"date\": \"2022-05-07T00:00:00\", \"expected_bonus\": 0.6540944, \"true_bonus\": 0.0, \"error\": 0.6540944, \"error_type\": \"overestimated\"}, {\"fanta_team\": \"AI sereje ja dejeDe jebe tu de jebere\", \"role\": \"C\", \"player\": \"Bonaventura\", \"team\": \"Fiorentina\", \"opponent\": \"Roma\", \"date\": \"2022-05-09T00:00:00\", \"expected_bonus\": 0.5240814, \"true_bonus\": 3.0, \"error\": -2.4759186, \"error_type\": \"underestimated\"}, {\"fanta_team\": \"AI sereje ja dejeDe jebe tu de jebere\", \"role\": \"C\", \"player\": \"Svanberg\", \"team\": \"Bologna\", \"opponent\": \"Venezia\", \"date\": \"2022-05-08T00:00:00\", \"expected_bonus\": 0.2364219, \"true_bonus\": 0.0, \"error\": 0.2364219, \"error_type\": \"overestimated\"}, {\"fanta_team\": \"AI sereje ja dejeDe jebe tu de jebere\", \"role\": \"C\", \"player\": \"Zakaria\", \"team\": \"Juventus\", \"opponent\": \"Genoa\", \"date\": \"2022-05-06T00:00:00\", \"expected_bonus\": 0.20123607, \"true_bonus\": 0.0, \"error\": 0.20123607, \"error_type\": \"overestimated\"}, {\"fanta_team\": \"AI sereje ja dejeDe jebe tu de jebere\", \"role\": \"A\", \"player\": \"Vlahovic\", \"team\": \"Juventus\", \"opponent\": \"Genoa\", \"date\": \"2022-05-06T00:00:00\", \"expected_bonus\": 2.176927, \"true_bonus\": 0.0, \"error\": 2.176927, \"error_type\": \"overestimated\"}, {\"fanta_team\": \"AI sereje ja dejeDe jebe tu de jebere\", \"role\": \"A\", \"player\": \"Lozano\", \"team\": \"Napoli\", \"opponent\": \"Torino\", \"date\": \"2022-05-07T00:00:00\", \"expected_bonus\": 0.82610977, \"true_bonus\": 0.0, \"error\": 0.82610977, \"error_type\": \"overestimated\"}, {\"fanta_team\": \"AI sereje ja dejeDe jebe tu de jebere\", \"role\": \"A\", \"player\": \"Destro\", \"team\": \"Genoa\", \"opponent\": \"Juventus\", \"date\": \"2022-05-06T00:00:00\", \"expected_bonus\": 0.7926911, \"true_bonus\": 0.0, \"error\": 0.7926911, \"error_type\": \"overestimated\"}, {\"fanta_team\": \"AI sereje ja dejeDe jebe tu de jebere\", \"role\": \"A\", \"player\": \"Gyasi\", \"team\": \"Spezia\", \"opponent\": \"Atalanta\", \"date\": \"2022-05-08T00:00:00\", \"expected_bonus\": 0.31863922, \"true_bonus\": 0.0, \"error\": 0.31863922, \"error_type\": \"overestimated\"}]}}, {\"actions\": false, \"mode\": \"vega-lite\"});\n</script>",
      "text/plain": "alt.Chart(...)"
     },
     "metadata": {}
    }
   ]
  },
  {
   "cell_type": "code",
   "metadata": {
    "cell_id": "4b6caad3-94aa-4a54-be90-216f36213ee1",
    "tags": [],
    "deepnote_to_be_reexecuted": false,
    "source_hash": "96119dd1",
    "execution_start": 1652245862280,
    "execution_millis": 1,
    "deepnote_cell_type": "code"
   },
   "source": "team, index = display_fanta_squad(validation, teams, index)",
   "execution_count": 28,
   "outputs": []
  },
  {
   "cell_type": "code",
   "source": "_deepnote_run_altair(team, \"\"\"{\"$schema\":\"https://vega.github.io/schema/vega-lite/v4.json\",\"mark\":{\"type\":\"bar\",\"tooltip\":{\"content\":\"data\"}},\"height\":220,\"autosize\":{\"type\":\"fit\"},\"data\":{\"name\":\"placeholder\"},\"encoding\":{\"x\":{\"field\":\"error\",\"type\":\"quantitative\",\"sort\":null,\"scale\":{\"type\":\"linear\",\"zero\":false}},\"y\":{\"field\":\"player\",\"type\":\"nominal\",\"sort\":null,\"scale\":{\"type\":\"linear\",\"zero\":true}},\"color\":{\"field\":\"error_type\",\"type\":\"nominal\",\"sort\":null,\"scale\":{\"type\":\"linear\",\"zero\":false}}}}\"\"\")",
   "metadata": {
    "cell_id": "00027-ad487baa-da0c-464f-9f9f-e9a21a67870d",
    "deepnote_variable_name": "team",
    "deepnote_visualization_spec": {
     "$schema": "https://vega.github.io/schema/vega-lite/v4.json",
     "mark": {
      "type": "bar",
      "tooltip": {
       "content": "data"
      }
     },
     "height": 220,
     "autosize": {
      "type": "fit"
     },
     "data": {
      "name": "placeholder"
     },
     "encoding": {
      "x": {
       "field": "error",
       "type": "quantitative",
       "sort": null,
       "scale": {
        "type": "linear",
        "zero": false
       }
      },
      "y": {
       "field": "player",
       "type": "nominal",
       "sort": null,
       "scale": {
        "type": "linear",
        "zero": true
       }
      },
      "color": {
       "field": "error_type",
       "type": "nominal",
       "sort": null,
       "scale": {
        "type": "linear",
        "zero": false
       }
      }
     }
    },
    "deepnote_to_be_reexecuted": false,
    "source_hash": "81b9fc1a",
    "allow_embed": "output",
    "execution_start": 1652245862282,
    "execution_millis": 58,
    "deepnote_cell_type": "visualization",
    "deepnote_output_heights": [
     314
    ]
   },
   "execution_count": 29,
   "outputs": [
    {
     "output_type": "execute_result",
     "execution_count": 29,
     "data": {
      "text/html": "\n<div id=\"altair-viz-53e39068bd33472d80fbd44ff41ffefb\"></div>\n<script type=\"text/javascript\">\n  (function(spec, embedOpt){\n    let outputDiv = document.currentScript.previousElementSibling;\n    if (outputDiv.id !== \"altair-viz-53e39068bd33472d80fbd44ff41ffefb\") {\n      outputDiv = document.getElementById(\"altair-viz-53e39068bd33472d80fbd44ff41ffefb\");\n    }\n    const paths = {\n      \"vega\": \"https://cdn.jsdelivr.net/npm//vega@5?noext\",\n      \"vega-lib\": \"https://cdn.jsdelivr.net/npm//vega-lib?noext\",\n      \"vega-lite\": \"https://cdn.jsdelivr.net/npm//vega-lite@4.8.1?noext\",\n      \"vega-embed\": \"https://cdn.jsdelivr.net/npm//vega-embed@6?noext\",\n    };\n\n    function loadScript(lib) {\n      return new Promise(function(resolve, reject) {\n        var s = document.createElement('script');\n        s.src = paths[lib];\n        s.async = true;\n        s.onload = () => resolve(paths[lib]);\n        s.onerror = () => reject(`Error loading script: ${paths[lib]}`);\n        document.getElementsByTagName(\"head\")[0].appendChild(s);\n      });\n    }\n\n    function showError(err) {\n      outputDiv.innerHTML = `<div class=\"error\" style=\"color:red;\">${err}</div>`;\n      throw err;\n    }\n\n    function displayChart(vegaEmbed) {\n      vegaEmbed(outputDiv, spec, embedOpt)\n        .catch(err => showError(`Javascript Error: ${err.message}<br>This usually means there's a typo in your chart specification. See the javascript console for the full traceback.`));\n    }\n\n    if(typeof define === \"function\" && define.amd) {\n      requirejs.config({paths});\n      require([\"vega-embed\"], displayChart, err => showError(`Error loading script: ${err.message}`));\n    } else if (typeof vegaEmbed === \"function\") {\n      displayChart(vegaEmbed);\n    } else {\n      loadScript(\"vega\")\n        .then(() => loadScript(\"vega-lite\"))\n        .then(() => loadScript(\"vega-embed\"))\n        .catch(showError)\n        .then(() => displayChart(vegaEmbed));\n    }\n  })({\"config\": {\"view\": {\"continuousWidth\": 400, \"continuousHeight\": 300}, \"area\": {\"fill\": \"#51C0E9\"}, \"axis\": {\"labelFont\": \"Inter, sans-serif\", \"labelFontSize\": 12, \"labelFontWeight\": \"normal\", \"labelLimit\": 60, \"labelOverlap\": \"greedy\", \"titleFont\": \"Inter, sans-serif\", \"titleFontSize\": 12, \"titleFontWeight\": \"bold\"}, \"background\": \"#ffffff\", \"legend\": {\"labelFont\": \"Inter, sans-serif\", \"labelFontSize\": 12, \"titleFont\": \"Inter, sans-serif\", \"titleFontSize\": 12, \"titleFontWeight\": \"bold\"}, \"line\": {\"stroke\": \"#51C0E9\", \"strokeWidth\": 2}, \"rect\": {\"fill\": \"#51C0E9\"}, \"title\": {\"anchor\": \"start\", \"color\": \"#000000\", \"font\": \"Inter, sans-serif\", \"fontSize\": 22, \"fontWeight\": \"normal\"}}, \"data\": {\"name\": \"data-6a80eb1e87052ced9093fa6a298c3a01\"}, \"mark\": {\"type\": \"bar\", \"tooltip\": {\"content\": \"data\"}}, \"autosize\": {\"type\": \"fit\"}, \"encoding\": {\"color\": {\"type\": \"nominal\", \"field\": \"error_type\", \"scale\": {\"type\": \"linear\", \"zero\": false}, \"sort\": null}, \"x\": {\"type\": \"quantitative\", \"field\": \"error\", \"scale\": {\"type\": \"linear\", \"zero\": false}, \"sort\": null}, \"y\": {\"type\": \"nominal\", \"field\": \"player\", \"scale\": {\"type\": \"linear\", \"zero\": true}, \"sort\": null}}, \"height\": 300, \"width\": \"container\", \"$schema\": \"https://vega.github.io/schema/vega-lite/v4.json\", \"datasets\": {\"data-6a80eb1e87052ced9093fa6a298c3a01\": [{\"fanta_team\": \"Beverly INPS\", \"role\": \"D\", \"player\": \"Dimarco\", \"team\": \"Inter\", \"opponent\": \"Empoli\", \"date\": \"2022-05-06T00:00:00\", \"expected_bonus\": 0.8655252, \"true_bonus\": 0.0, \"error\": 0.8655252, \"error_type\": \"overestimated\"}, {\"fanta_team\": \"Beverly INPS\", \"role\": \"D\", \"player\": \"Cuadrado\", \"team\": \"Juventus\", \"opponent\": \"Genoa\", \"date\": \"2022-05-06T00:00:00\", \"expected_bonus\": 0.3670498, \"true_bonus\": 0.0, \"error\": 0.3670498, \"error_type\": \"overestimated\"}, {\"fanta_team\": \"Beverly INPS\", \"role\": \"D\", \"player\": \"Lorenzo\", \"team\": \"Napoli\", \"opponent\": \"Torino\", \"date\": \"2022-05-07T00:00:00\", \"expected_bonus\": 0.18063644, \"true_bonus\": 0.0, \"error\": 0.18063644, \"error_type\": \"overestimated\"}, {\"fanta_team\": \"Beverly INPS\", \"role\": \"D\", \"player\": \"Nuytinck\", \"team\": \"Udinese\", \"opponent\": \"Sassuolo\", \"date\": \"2022-05-07T00:00:00\", \"expected_bonus\": 0.053073253, \"true_bonus\": 3.0, \"error\": -2.946926747, \"error_type\": \"underestimated\"}, {\"fanta_team\": \"Beverly INPS\", \"role\": \"C\", \"player\": \"Barak\", \"team\": \"Verona\", \"opponent\": \"AC Milan\", \"date\": \"2022-05-08T00:00:00\", \"expected_bonus\": 0.6941075, \"true_bonus\": 0.0, \"error\": 0.6941075, \"error_type\": \"overestimated\"}, {\"fanta_team\": \"Beverly INPS\", \"role\": \"C\", \"player\": \"Zielinski\", \"team\": \"Napoli\", \"opponent\": \"Torino\", \"date\": \"2022-05-07T00:00:00\", \"expected_bonus\": 0.6802283, \"true_bonus\": 0.0, \"error\": 0.6802283, \"error_type\": \"overestimated\"}, {\"fanta_team\": \"Beverly INPS\", \"role\": \"C\", \"player\": \"Alberto\", \"team\": \"Lazio\", \"opponent\": \"Sampdoria\", \"date\": \"2022-05-07T00:00:00\", \"expected_bonus\": 0.6290079, \"true_bonus\": 4.0, \"error\": -3.3709921, \"error_type\": \"underestimated\"}, {\"fanta_team\": \"Beverly INPS\", \"role\": \"C\", \"player\": \"Praet\", \"team\": \"Torino\", \"opponent\": \"Napoli\", \"date\": \"2022-05-07T00:00:00\", \"expected_bonus\": 0.55670726, \"true_bonus\": 0.0, \"error\": 0.55670726, \"error_type\": \"overestimated\"}, {\"fanta_team\": \"Beverly INPS\", \"role\": \"C\", \"player\": \"Kessi\\u00e9\", \"team\": \"AC Milan\", \"opponent\": \"Verona\", \"date\": \"2022-05-08T00:00:00\", \"expected_bonus\": 0.4640723, \"true_bonus\": 0.0, \"error\": 0.4640723, \"error_type\": \"overestimated\"}, {\"fanta_team\": \"Beverly INPS\", \"role\": \"C\", \"player\": \"Veretout\", \"team\": \"Roma\", \"opponent\": \"Fiorentina\", \"date\": \"2022-05-09T00:00:00\", \"expected_bonus\": 0.40430495, \"true_bonus\": 0.0, \"error\": 0.40430495, \"error_type\": \"overestimated\"}, {\"fanta_team\": \"Beverly INPS\", \"role\": \"C\", \"player\": \"Elmas\", \"team\": \"Napoli\", \"opponent\": \"Torino\", \"date\": \"2022-05-07T00:00:00\", \"expected_bonus\": 0.18307966, \"true_bonus\": 0.0, \"error\": 0.18307966, \"error_type\": \"overestimated\"}, {\"fanta_team\": \"Beverly INPS\", \"role\": \"A\", \"player\": \"Mart\\u00ednez\", \"team\": \"Inter\", \"opponent\": \"Empoli\", \"date\": \"2022-05-06T00:00:00\", \"expected_bonus\": 2.3203857, \"true_bonus\": 6.0, \"error\": -3.6796143, \"error_type\": \"underestimated\"}, {\"fanta_team\": \"Beverly INPS\", \"role\": \"A\", \"player\": \"Berardi\", \"team\": \"Sassuolo\", \"opponent\": \"Udinese\", \"date\": \"2022-05-07T00:00:00\", \"expected_bonus\": 1.4925011, \"true_bonus\": 0.0, \"error\": 1.4925011, \"error_type\": \"overestimated\"}, {\"fanta_team\": \"Beverly INPS\", \"role\": \"A\", \"player\": \"Deulofeu\", \"team\": \"Udinese\", \"opponent\": \"Sassuolo\", \"date\": \"2022-05-07T00:00:00\", \"expected_bonus\": 1.0027299, \"true_bonus\": 0.0, \"error\": 1.0027299, \"error_type\": \"overestimated\"}, {\"fanta_team\": \"Beverly INPS\", \"role\": \"A\", \"player\": \"Barrow\", \"team\": \"Bologna\", \"opponent\": \"Venezia\", \"date\": \"2022-05-08T00:00:00\", \"expected_bonus\": 0.9851236, \"true_bonus\": 1.0, \"error\": -0.014876400000000012, \"error_type\": \"underestimated\"}, {\"fanta_team\": \"Beverly INPS\", \"role\": \"A\", \"player\": \"Mertens\", \"team\": \"Napoli\", \"opponent\": \"Torino\", \"date\": \"2022-05-07T00:00:00\", \"expected_bonus\": 0.9807102, \"true_bonus\": 0.0, \"error\": 0.9807102, \"error_type\": \"overestimated\"}, {\"fanta_team\": \"Beverly INPS\", \"role\": \"A\", \"player\": \"Gonz\\u00e1lez\", \"team\": \"Fiorentina\", \"opponent\": \"Roma\", \"date\": \"2022-05-09T00:00:00\", \"expected_bonus\": 0.7610799, \"true_bonus\": 3.0, \"error\": -2.2389201, \"error_type\": \"underestimated\"}]}}, {\"actions\": false, \"mode\": \"vega-lite\"});\n</script>",
      "text/plain": "alt.Chart(...)"
     },
     "metadata": {}
    }
   ]
  },
  {
   "cell_type": "code",
   "metadata": {
    "cell_id": "d7f08d19-70ea-42c9-b53f-af37f2745fd5",
    "tags": [],
    "deepnote_to_be_reexecuted": false,
    "source_hash": "96119dd1",
    "execution_start": 1652245862390,
    "execution_millis": 0,
    "deepnote_cell_type": "code"
   },
   "source": "team, index = display_fanta_squad(validation, teams, index)",
   "execution_count": 30,
   "outputs": []
  },
  {
   "cell_type": "code",
   "source": "_deepnote_run_altair(team, \"\"\"{\"$schema\":\"https://vega.github.io/schema/vega-lite/v4.json\",\"mark\":{\"type\":\"bar\",\"tooltip\":{\"content\":\"data\"}},\"height\":220,\"autosize\":{\"type\":\"fit\"},\"data\":{\"name\":\"placeholder\"},\"encoding\":{\"x\":{\"field\":\"error\",\"type\":\"quantitative\",\"sort\":null,\"scale\":{\"type\":\"linear\",\"zero\":false}},\"y\":{\"field\":\"player\",\"type\":\"nominal\",\"sort\":null,\"scale\":{\"type\":\"linear\",\"zero\":true}},\"color\":{\"field\":\"error_type\",\"type\":\"nominal\",\"sort\":null,\"scale\":{\"type\":\"linear\",\"zero\":false}}}}\"\"\")",
   "metadata": {
    "cell_id": "00029-0f50e7b5-72d6-4b55-9d32-91160ff059b5",
    "deepnote_variable_name": "team",
    "deepnote_visualization_spec": {
     "$schema": "https://vega.github.io/schema/vega-lite/v4.json",
     "mark": {
      "type": "bar",
      "tooltip": {
       "content": "data"
      }
     },
     "height": 220,
     "autosize": {
      "type": "fit"
     },
     "data": {
      "name": "placeholder"
     },
     "encoding": {
      "x": {
       "field": "error",
       "type": "quantitative",
       "sort": null,
       "scale": {
        "type": "linear",
        "zero": false
       }
      },
      "y": {
       "field": "player",
       "type": "nominal",
       "sort": null,
       "scale": {
        "type": "linear",
        "zero": true
       }
      },
      "color": {
       "field": "error_type",
       "type": "nominal",
       "sort": null,
       "scale": {
        "type": "linear",
        "zero": false
       }
      }
     }
    },
    "deepnote_to_be_reexecuted": false,
    "source_hash": "81b9fc1a",
    "allow_embed": "output",
    "execution_start": 1652245862391,
    "execution_millis": 98,
    "deepnote_cell_type": "visualization",
    "deepnote_output_heights": [
     314
    ]
   },
   "execution_count": 31,
   "outputs": [
    {
     "output_type": "execute_result",
     "execution_count": 31,
     "data": {
      "text/html": "\n<div id=\"altair-viz-26c999610d3e4ce7b8815c15f85b7f37\"></div>\n<script type=\"text/javascript\">\n  (function(spec, embedOpt){\n    let outputDiv = document.currentScript.previousElementSibling;\n    if (outputDiv.id !== \"altair-viz-26c999610d3e4ce7b8815c15f85b7f37\") {\n      outputDiv = document.getElementById(\"altair-viz-26c999610d3e4ce7b8815c15f85b7f37\");\n    }\n    const paths = {\n      \"vega\": \"https://cdn.jsdelivr.net/npm//vega@5?noext\",\n      \"vega-lib\": \"https://cdn.jsdelivr.net/npm//vega-lib?noext\",\n      \"vega-lite\": \"https://cdn.jsdelivr.net/npm//vega-lite@4.8.1?noext\",\n      \"vega-embed\": \"https://cdn.jsdelivr.net/npm//vega-embed@6?noext\",\n    };\n\n    function loadScript(lib) {\n      return new Promise(function(resolve, reject) {\n        var s = document.createElement('script');\n        s.src = paths[lib];\n        s.async = true;\n        s.onload = () => resolve(paths[lib]);\n        s.onerror = () => reject(`Error loading script: ${paths[lib]}`);\n        document.getElementsByTagName(\"head\")[0].appendChild(s);\n      });\n    }\n\n    function showError(err) {\n      outputDiv.innerHTML = `<div class=\"error\" style=\"color:red;\">${err}</div>`;\n      throw err;\n    }\n\n    function displayChart(vegaEmbed) {\n      vegaEmbed(outputDiv, spec, embedOpt)\n        .catch(err => showError(`Javascript Error: ${err.message}<br>This usually means there's a typo in your chart specification. See the javascript console for the full traceback.`));\n    }\n\n    if(typeof define === \"function\" && define.amd) {\n      requirejs.config({paths});\n      require([\"vega-embed\"], displayChart, err => showError(`Error loading script: ${err.message}`));\n    } else if (typeof vegaEmbed === \"function\") {\n      displayChart(vegaEmbed);\n    } else {\n      loadScript(\"vega\")\n        .then(() => loadScript(\"vega-lite\"))\n        .then(() => loadScript(\"vega-embed\"))\n        .catch(showError)\n        .then(() => displayChart(vegaEmbed));\n    }\n  })({\"config\": {\"view\": {\"continuousWidth\": 400, \"continuousHeight\": 300}, \"area\": {\"fill\": \"#51C0E9\"}, \"axis\": {\"labelFont\": \"Inter, sans-serif\", \"labelFontSize\": 12, \"labelFontWeight\": \"normal\", \"labelLimit\": 60, \"labelOverlap\": \"greedy\", \"titleFont\": \"Inter, sans-serif\", \"titleFontSize\": 12, \"titleFontWeight\": \"bold\"}, \"background\": \"#ffffff\", \"legend\": {\"labelFont\": \"Inter, sans-serif\", \"labelFontSize\": 12, \"titleFont\": \"Inter, sans-serif\", \"titleFontSize\": 12, \"titleFontWeight\": \"bold\"}, \"line\": {\"stroke\": \"#51C0E9\", \"strokeWidth\": 2}, \"rect\": {\"fill\": \"#51C0E9\"}, \"title\": {\"anchor\": \"start\", \"color\": \"#000000\", \"font\": \"Inter, sans-serif\", \"fontSize\": 22, \"fontWeight\": \"normal\"}}, \"data\": {\"name\": \"data-03ea8f992e18b9f6b677a1e3e2bfb49b\"}, \"mark\": {\"type\": \"bar\", \"tooltip\": {\"content\": \"data\"}}, \"autosize\": {\"type\": \"fit\"}, \"encoding\": {\"color\": {\"type\": \"nominal\", \"field\": \"error_type\", \"scale\": {\"type\": \"linear\", \"zero\": false}, \"sort\": null}, \"x\": {\"type\": \"quantitative\", \"field\": \"error\", \"scale\": {\"type\": \"linear\", \"zero\": false}, \"sort\": null}, \"y\": {\"type\": \"nominal\", \"field\": \"player\", \"scale\": {\"type\": \"linear\", \"zero\": true}, \"sort\": null}}, \"height\": 300, \"width\": \"container\", \"$schema\": \"https://vega.github.io/schema/vega-lite/v4.json\", \"datasets\": {\"data-03ea8f992e18b9f6b677a1e3e2bfb49b\": [{\"fanta_team\": \"MEZAFE\", \"role\": \"D\", \"player\": \"Zappacosta\", \"team\": \"Atalanta\", \"opponent\": \"Spezia\", \"date\": \"2022-05-08T00:00:00\", \"expected_bonus\": 0.54372, \"true_bonus\": 0.0, \"error\": 0.54372, \"error_type\": \"overestimated\"}, {\"fanta_team\": \"MEZAFE\", \"role\": \"D\", \"player\": \"Criscito\", \"team\": \"Genoa\", \"opponent\": \"Juventus\", \"date\": \"2022-05-06T00:00:00\", \"expected_bonus\": 0.45289865, \"true_bonus\": 3.0, \"error\": -2.54710135, \"error_type\": \"underestimated\"}, {\"fanta_team\": \"MEZAFE\", \"role\": \"D\", \"player\": \"Bonucci\", \"team\": \"Juventus\", \"opponent\": \"Genoa\", \"date\": \"2022-05-06T00:00:00\", \"expected_bonus\": 0.4205528, \"true_bonus\": 0.0, \"error\": 0.4205528, \"error_type\": \"overestimated\"}, {\"fanta_team\": \"MEZAFE\", \"role\": \"D\", \"player\": \"Vrij\", \"team\": \"Inter\", \"opponent\": \"Empoli\", \"date\": \"2022-05-06T00:00:00\", \"expected_bonus\": 0.32312524, \"true_bonus\": 0.0, \"error\": 0.32312524, \"error_type\": \"overestimated\"}, {\"fanta_team\": \"MEZAFE\", \"role\": \"D\", \"player\": \"Silvestri\", \"team\": \"Bologna\", \"opponent\": \"Venezia\", \"date\": \"2022-05-08T00:00:00\", \"expected_bonus\": 0.22731999, \"true_bonus\": 1.0, \"error\": -0.77268001, \"error_type\": \"underestimated\"}, {\"fanta_team\": \"MEZAFE\", \"role\": \"D\", \"player\": \"Mancini\", \"team\": \"Roma\", \"opponent\": \"Fiorentina\", \"date\": \"2022-05-09T00:00:00\", \"expected_bonus\": 0.13912737, \"true_bonus\": 0.0, \"error\": 0.13912737, \"error_type\": \"overestimated\"}, {\"fanta_team\": \"MEZAFE\", \"role\": \"C\", \"player\": \"Verdi\", \"team\": \"Salernitana\", \"opponent\": \"Venezia\", \"date\": \"2022-05-05T00:00:00\", \"expected_bonus\": 0.8892149, \"true_bonus\": 3.0, \"error\": -2.1107851, \"error_type\": \"underestimated\"}, {\"fanta_team\": \"MEZAFE\", \"role\": \"C\", \"player\": \"Pasalic\", \"team\": \"Atalanta\", \"opponent\": \"Spezia\", \"date\": \"2022-05-08T00:00:00\", \"expected_bonus\": 0.8587696, \"true_bonus\": 3.0, \"error\": -2.1412304, \"error_type\": \"underestimated\"}, {\"fanta_team\": \"MEZAFE\", \"role\": \"C\", \"player\": \"Perisic\", \"team\": \"Inter\", \"opponent\": \"Empoli\", \"date\": \"2022-05-06T00:00:00\", \"expected_bonus\": 0.54943806, \"true_bonus\": 0.0, \"error\": 0.54943806, \"error_type\": \"overestimated\"}, {\"fanta_team\": \"MEZAFE\", \"role\": \"C\", \"player\": \"Saelemaekers\", \"team\": \"AC Milan\", \"opponent\": \"Verona\", \"date\": \"2022-05-08T00:00:00\", \"expected_bonus\": 0.5405886, \"true_bonus\": 0.0, \"error\": 0.5405886, \"error_type\": \"overestimated\"}, {\"fanta_team\": \"MEZAFE\", \"role\": \"C\", \"player\": \"Lazovic\", \"team\": \"Verona\", \"opponent\": \"AC Milan\", \"date\": \"2022-05-08T00:00:00\", \"expected_bonus\": 0.26217607, \"true_bonus\": 1.0, \"error\": -0.73782393, \"error_type\": \"underestimated\"}, {\"fanta_team\": \"MEZAFE\", \"role\": \"C\", \"player\": \"Tonali\", \"team\": \"AC Milan\", \"opponent\": \"Verona\", \"date\": \"2022-05-08T00:00:00\", \"expected_bonus\": 0.23614071, \"true_bonus\": 6.0, \"error\": -5.76385929, \"error_type\": \"underestimated\"}, {\"fanta_team\": \"MEZAFE\", \"role\": \"A\", \"player\": \"Dybala\", \"team\": \"Juventus\", \"opponent\": \"Genoa\", \"date\": \"2022-05-06T00:00:00\", \"expected_bonus\": 1.737809, \"true_bonus\": 3.0, \"error\": -1.262191, \"error_type\": \"underestimated\"}, {\"fanta_team\": \"MEZAFE\", \"role\": \"A\", \"player\": \"Piatek\", \"team\": \"Fiorentina\", \"opponent\": \"Roma\", \"date\": \"2022-05-09T00:00:00\", \"expected_bonus\": 1.1398906, \"true_bonus\": 0.0, \"error\": 1.1398906, \"error_type\": \"overestimated\"}, {\"fanta_team\": \"MEZAFE\", \"role\": \"A\", \"player\": \"Simeone\", \"team\": \"Verona\", \"opponent\": \"AC Milan\", \"date\": \"2022-05-08T00:00:00\", \"expected_bonus\": 0.9923668, \"true_bonus\": 0.0, \"error\": 0.9923668, \"error_type\": \"overestimated\"}, {\"fanta_team\": \"MEZAFE\", \"role\": \"A\", \"player\": \"Quagliarella\", \"team\": \"Sampdoria\", \"opponent\": \"Lazio\", \"date\": \"2022-05-07T00:00:00\", \"expected_bonus\": 0.9406943, \"true_bonus\": 0.0, \"error\": 0.9406943, \"error_type\": \"overestimated\"}, {\"fanta_team\": \"MEZAFE\", \"role\": \"A\", \"player\": \"Rebic\", \"team\": \"AC Milan\", \"opponent\": \"Verona\", \"date\": \"2022-05-08T00:00:00\", \"expected_bonus\": 0.26690993, \"true_bonus\": 0.0, \"error\": 0.26690993, \"error_type\": \"overestimated\"}]}}, {\"actions\": false, \"mode\": \"vega-lite\"});\n</script>",
      "text/plain": "alt.Chart(...)"
     },
     "metadata": {}
    }
   ]
  },
  {
   "cell_type": "code",
   "metadata": {
    "cell_id": "cc3dc8c6-dc8f-44b0-a37e-c28bcb2bd928",
    "tags": [],
    "deepnote_to_be_reexecuted": false,
    "source_hash": "96119dd1",
    "execution_start": 1652245862487,
    "execution_millis": 1,
    "deepnote_cell_type": "code"
   },
   "source": "team, index = display_fanta_squad(validation, teams, index)",
   "execution_count": 32,
   "outputs": []
  },
  {
   "cell_type": "code",
   "source": "_deepnote_run_altair(team, \"\"\"{\"$schema\":\"https://vega.github.io/schema/vega-lite/v4.json\",\"mark\":{\"type\":\"bar\",\"tooltip\":{\"content\":\"data\"}},\"height\":220,\"autosize\":{\"type\":\"fit\"},\"data\":{\"name\":\"placeholder\"},\"encoding\":{\"x\":{\"field\":\"error\",\"type\":\"quantitative\",\"sort\":null,\"scale\":{\"type\":\"linear\",\"zero\":false}},\"y\":{\"field\":\"player\",\"type\":\"nominal\",\"sort\":null,\"scale\":{\"type\":\"linear\",\"zero\":true}},\"color\":{\"field\":\"error_type\",\"type\":\"nominal\",\"sort\":null,\"scale\":{\"type\":\"linear\",\"zero\":false}}}}\"\"\")",
   "metadata": {
    "cell_id": "00031-fd6a1c71-4f0b-4b0a-a71b-11423045a9e4",
    "deepnote_variable_name": "team",
    "deepnote_visualization_spec": {
     "$schema": "https://vega.github.io/schema/vega-lite/v4.json",
     "mark": {
      "type": "bar",
      "tooltip": {
       "content": "data"
      }
     },
     "height": 220,
     "autosize": {
      "type": "fit"
     },
     "data": {
      "name": "placeholder"
     },
     "encoding": {
      "x": {
       "field": "error",
       "type": "quantitative",
       "sort": null,
       "scale": {
        "type": "linear",
        "zero": false
       }
      },
      "y": {
       "field": "player",
       "type": "nominal",
       "sort": null,
       "scale": {
        "type": "linear",
        "zero": true
       }
      },
      "color": {
       "field": "error_type",
       "type": "nominal",
       "sort": null,
       "scale": {
        "type": "linear",
        "zero": false
       }
      }
     }
    },
    "deepnote_to_be_reexecuted": false,
    "source_hash": "81b9fc1a",
    "allow_embed": "output",
    "execution_start": 1652245862488,
    "execution_millis": 62,
    "deepnote_cell_type": "visualization",
    "deepnote_output_heights": [
     314
    ]
   },
   "execution_count": 33,
   "outputs": [
    {
     "output_type": "execute_result",
     "execution_count": 33,
     "data": {
      "text/html": "\n<div id=\"altair-viz-90cd7ac5c15249e09d844633c772d61c\"></div>\n<script type=\"text/javascript\">\n  (function(spec, embedOpt){\n    let outputDiv = document.currentScript.previousElementSibling;\n    if (outputDiv.id !== \"altair-viz-90cd7ac5c15249e09d844633c772d61c\") {\n      outputDiv = document.getElementById(\"altair-viz-90cd7ac5c15249e09d844633c772d61c\");\n    }\n    const paths = {\n      \"vega\": \"https://cdn.jsdelivr.net/npm//vega@5?noext\",\n      \"vega-lib\": \"https://cdn.jsdelivr.net/npm//vega-lib?noext\",\n      \"vega-lite\": \"https://cdn.jsdelivr.net/npm//vega-lite@4.8.1?noext\",\n      \"vega-embed\": \"https://cdn.jsdelivr.net/npm//vega-embed@6?noext\",\n    };\n\n    function loadScript(lib) {\n      return new Promise(function(resolve, reject) {\n        var s = document.createElement('script');\n        s.src = paths[lib];\n        s.async = true;\n        s.onload = () => resolve(paths[lib]);\n        s.onerror = () => reject(`Error loading script: ${paths[lib]}`);\n        document.getElementsByTagName(\"head\")[0].appendChild(s);\n      });\n    }\n\n    function showError(err) {\n      outputDiv.innerHTML = `<div class=\"error\" style=\"color:red;\">${err}</div>`;\n      throw err;\n    }\n\n    function displayChart(vegaEmbed) {\n      vegaEmbed(outputDiv, spec, embedOpt)\n        .catch(err => showError(`Javascript Error: ${err.message}<br>This usually means there's a typo in your chart specification. See the javascript console for the full traceback.`));\n    }\n\n    if(typeof define === \"function\" && define.amd) {\n      requirejs.config({paths});\n      require([\"vega-embed\"], displayChart, err => showError(`Error loading script: ${err.message}`));\n    } else if (typeof vegaEmbed === \"function\") {\n      displayChart(vegaEmbed);\n    } else {\n      loadScript(\"vega\")\n        .then(() => loadScript(\"vega-lite\"))\n        .then(() => loadScript(\"vega-embed\"))\n        .catch(showError)\n        .then(() => displayChart(vegaEmbed));\n    }\n  })({\"config\": {\"view\": {\"continuousWidth\": 400, \"continuousHeight\": 300}, \"area\": {\"fill\": \"#51C0E9\"}, \"axis\": {\"labelFont\": \"Inter, sans-serif\", \"labelFontSize\": 12, \"labelFontWeight\": \"normal\", \"labelLimit\": 60, \"labelOverlap\": \"greedy\", \"titleFont\": \"Inter, sans-serif\", \"titleFontSize\": 12, \"titleFontWeight\": \"bold\"}, \"background\": \"#ffffff\", \"legend\": {\"labelFont\": \"Inter, sans-serif\", \"labelFontSize\": 12, \"titleFont\": \"Inter, sans-serif\", \"titleFontSize\": 12, \"titleFontWeight\": \"bold\"}, \"line\": {\"stroke\": \"#51C0E9\", \"strokeWidth\": 2}, \"rect\": {\"fill\": \"#51C0E9\"}, \"title\": {\"anchor\": \"start\", \"color\": \"#000000\", \"font\": \"Inter, sans-serif\", \"fontSize\": 22, \"fontWeight\": \"normal\"}}, \"data\": {\"name\": \"data-33258ab18a14a47e8aa4deb298248cc1\"}, \"mark\": {\"type\": \"bar\", \"tooltip\": {\"content\": \"data\"}}, \"autosize\": {\"type\": \"fit\"}, \"encoding\": {\"color\": {\"type\": \"nominal\", \"field\": \"error_type\", \"scale\": {\"type\": \"linear\", \"zero\": false}, \"sort\": null}, \"x\": {\"type\": \"quantitative\", \"field\": \"error\", \"scale\": {\"type\": \"linear\", \"zero\": false}, \"sort\": null}, \"y\": {\"type\": \"nominal\", \"field\": \"player\", \"scale\": {\"type\": \"linear\", \"zero\": true}, \"sort\": null}}, \"height\": 300, \"width\": \"container\", \"$schema\": \"https://vega.github.io/schema/vega-lite/v4.json\", \"datasets\": {\"data-33258ab18a14a47e8aa4deb298248cc1\": [{\"fanta_team\": \"MaiNa Joya_v2.0\", \"role\": \"D\", \"player\": \"Hern\\u00e1ndez\", \"team\": \"AC Milan\", \"opponent\": \"Verona\", \"date\": \"2022-05-08T00:00:00\", \"expected_bonus\": 0.47482732, \"true_bonus\": 0.0, \"error\": 0.47482732, \"error_type\": \"overestimated\"}, {\"fanta_team\": \"MaiNa Joya_v2.0\", \"role\": \"D\", \"player\": \"Ferrari\", \"team\": \"Sassuolo\", \"opponent\": \"Udinese\", \"date\": \"2022-05-07T00:00:00\", \"expected_bonus\": 0.25984773, \"true_bonus\": 0.0, \"error\": 0.25984773, \"error_type\": \"overestimated\"}, {\"fanta_team\": \"MaiNa Joya_v2.0\", \"role\": \"D\", \"player\": \"Milenkovic\", \"team\": \"Fiorentina\", \"opponent\": \"Roma\", \"date\": \"2022-05-09T00:00:00\", \"expected_bonus\": 0.20513383, \"true_bonus\": 0.0, \"error\": 0.20513383, \"error_type\": \"overestimated\"}, {\"fanta_team\": \"MaiNa Joya_v2.0\", \"role\": \"D\", \"player\": \"Molina\", \"team\": \"Udinese\", \"opponent\": \"Sassuolo\", \"date\": \"2022-05-07T00:00:00\", \"expected_bonus\": 0.19521965, \"true_bonus\": 0.0, \"error\": 0.19521965, \"error_type\": \"overestimated\"}, {\"fanta_team\": \"MaiNa Joya_v2.0\", \"role\": \"C\", \"player\": \"Milinkovic-Savic\", \"team\": \"Lazio\", \"opponent\": \"Sampdoria\", \"date\": \"2022-05-07T00:00:00\", \"expected_bonus\": 0.9632157, \"true_bonus\": 0.0, \"error\": 0.9632157, \"error_type\": \"overestimated\"}, {\"fanta_team\": \"MaiNa Joya_v2.0\", \"role\": \"C\", \"player\": \"Barella\", \"team\": \"Inter\", \"opponent\": \"Empoli\", \"date\": \"2022-05-06T00:00:00\", \"expected_bonus\": 0.955433, \"true_bonus\": 0.0, \"error\": 0.955433, \"error_type\": \"overestimated\"}, {\"fanta_team\": \"MaiNa Joya_v2.0\", \"role\": \"C\", \"player\": \"Pobega\", \"team\": \"Torino\", \"opponent\": \"Napoli\", \"date\": \"2022-05-07T00:00:00\", \"expected_bonus\": 0.54237556, \"true_bonus\": 0.0, \"error\": 0.54237556, \"error_type\": \"overestimated\"}, {\"fanta_team\": \"MaiNa Joya_v2.0\", \"role\": \"C\", \"player\": \"Bernardeschi\", \"team\": \"Juventus\", \"opponent\": \"Genoa\", \"date\": \"2022-05-06T00:00:00\", \"expected_bonus\": 0.38645974, \"true_bonus\": 0.0, \"error\": 0.38645974, \"error_type\": \"overestimated\"}, {\"fanta_team\": \"MaiNa Joya_v2.0\", \"role\": \"C\", \"player\": \"Soriano\", \"team\": \"Bologna\", \"opponent\": \"Venezia\", \"date\": \"2022-05-08T00:00:00\", \"expected_bonus\": 0.3493162, \"true_bonus\": 0.0, \"error\": 0.3493162, \"error_type\": \"overestimated\"}, {\"fanta_team\": \"MaiNa Joya_v2.0\", \"role\": \"A\", \"player\": \"Abraham\", \"team\": \"Roma\", \"opponent\": \"Fiorentina\", \"date\": \"2022-05-09T00:00:00\", \"expected_bonus\": 1.4604268, \"true_bonus\": 0.0, \"error\": 1.4604268, \"error_type\": \"overestimated\"}, {\"fanta_team\": \"MaiNa Joya_v2.0\", \"role\": \"A\", \"player\": \"Morata\", \"team\": \"Juventus\", \"opponent\": \"Genoa\", \"date\": \"2022-05-06T00:00:00\", \"expected_bonus\": 1.1638309, \"true_bonus\": 0.0, \"error\": 1.1638309, \"error_type\": \"overestimated\"}, {\"fanta_team\": \"MaiNa Joya_v2.0\", \"role\": \"A\", \"player\": \"Insigne\", \"team\": \"Napoli\", \"opponent\": \"Torino\", \"date\": \"2022-05-07T00:00:00\", \"expected_bonus\": 1.0842408, \"true_bonus\": 0.0, \"error\": 1.0842408, \"error_type\": \"overestimated\"}, {\"fanta_team\": \"MaiNa Joya_v2.0\", \"role\": \"A\", \"player\": \"Arnautovic\", \"team\": \"Bologna\", \"opponent\": \"Venezia\", \"date\": \"2022-05-08T00:00:00\", \"expected_bonus\": 1.0673122, \"true_bonus\": 3.0, \"error\": -1.9326878, \"error_type\": \"underestimated\"}, {\"fanta_team\": \"MaiNa Joya_v2.0\", \"role\": \"A\", \"player\": \"Boga\", \"team\": \"Atalanta\", \"opponent\": \"Spezia\", \"date\": \"2022-05-08T00:00:00\", \"expected_bonus\": 0.9397444, \"true_bonus\": 0.0, \"error\": 0.9397444, \"error_type\": \"overestimated\"}, {\"fanta_team\": \"MaiNa Joya_v2.0\", \"role\": \"A\", \"player\": \"Brekalo\", \"team\": \"Torino\", \"opponent\": \"Napoli\", \"date\": \"2022-05-07T00:00:00\", \"expected_bonus\": 0.8942422, \"true_bonus\": 0.0, \"error\": 0.8942422, \"error_type\": \"overestimated\"}]}}, {\"actions\": false, \"mode\": \"vega-lite\"});\n</script>",
      "text/plain": "alt.Chart(...)"
     },
     "metadata": {}
    }
   ]
  },
  {
   "cell_type": "code",
   "metadata": {
    "cell_id": "e535efe4-693e-48a8-844c-8094b246c7ae",
    "tags": [],
    "deepnote_to_be_reexecuted": false,
    "source_hash": "96119dd1",
    "execution_start": 1652245862551,
    "execution_millis": 2,
    "deepnote_cell_type": "code"
   },
   "source": "team, index = display_fanta_squad(validation, teams, index)",
   "execution_count": 34,
   "outputs": []
  },
  {
   "cell_type": "code",
   "source": "_deepnote_run_altair(team, \"\"\"{\"$schema\":\"https://vega.github.io/schema/vega-lite/v4.json\",\"mark\":{\"type\":\"bar\",\"tooltip\":{\"content\":\"data\"}},\"height\":220,\"autosize\":{\"type\":\"fit\"},\"data\":{\"name\":\"placeholder\"},\"encoding\":{\"x\":{\"field\":\"error\",\"type\":\"quantitative\",\"sort\":null,\"scale\":{\"type\":\"linear\",\"zero\":false}},\"y\":{\"field\":\"player\",\"type\":\"nominal\",\"sort\":null,\"scale\":{\"type\":\"linear\",\"zero\":true}},\"color\":{\"field\":\"error_type\",\"type\":\"nominal\",\"sort\":null,\"scale\":{\"type\":\"linear\",\"zero\":false}}}}\"\"\")",
   "metadata": {
    "cell_id": "00033-a031bc55-5807-4595-ad40-c91acb5f58f5",
    "deepnote_variable_name": "team",
    "deepnote_visualization_spec": {
     "$schema": "https://vega.github.io/schema/vega-lite/v4.json",
     "mark": {
      "type": "bar",
      "tooltip": {
       "content": "data"
      }
     },
     "height": 220,
     "autosize": {
      "type": "fit"
     },
     "data": {
      "name": "placeholder"
     },
     "encoding": {
      "x": {
       "field": "error",
       "type": "quantitative",
       "sort": null,
       "scale": {
        "type": "linear",
        "zero": false
       }
      },
      "y": {
       "field": "player",
       "type": "nominal",
       "sort": null,
       "scale": {
        "type": "linear",
        "zero": true
       }
      },
      "color": {
       "field": "error_type",
       "type": "nominal",
       "sort": null,
       "scale": {
        "type": "linear",
        "zero": false
       }
      }
     }
    },
    "deepnote_to_be_reexecuted": false,
    "source_hash": "81b9fc1a",
    "allow_embed": "output",
    "execution_start": 1652245862558,
    "execution_millis": 88,
    "deepnote_cell_type": "visualization",
    "deepnote_output_heights": [
     314
    ]
   },
   "execution_count": 35,
   "outputs": [
    {
     "output_type": "execute_result",
     "execution_count": 35,
     "data": {
      "text/html": "\n<div id=\"altair-viz-1d06c6d135cc4b38974ab1b020272acf\"></div>\n<script type=\"text/javascript\">\n  (function(spec, embedOpt){\n    let outputDiv = document.currentScript.previousElementSibling;\n    if (outputDiv.id !== \"altair-viz-1d06c6d135cc4b38974ab1b020272acf\") {\n      outputDiv = document.getElementById(\"altair-viz-1d06c6d135cc4b38974ab1b020272acf\");\n    }\n    const paths = {\n      \"vega\": \"https://cdn.jsdelivr.net/npm//vega@5?noext\",\n      \"vega-lib\": \"https://cdn.jsdelivr.net/npm//vega-lib?noext\",\n      \"vega-lite\": \"https://cdn.jsdelivr.net/npm//vega-lite@4.8.1?noext\",\n      \"vega-embed\": \"https://cdn.jsdelivr.net/npm//vega-embed@6?noext\",\n    };\n\n    function loadScript(lib) {\n      return new Promise(function(resolve, reject) {\n        var s = document.createElement('script');\n        s.src = paths[lib];\n        s.async = true;\n        s.onload = () => resolve(paths[lib]);\n        s.onerror = () => reject(`Error loading script: ${paths[lib]}`);\n        document.getElementsByTagName(\"head\")[0].appendChild(s);\n      });\n    }\n\n    function showError(err) {\n      outputDiv.innerHTML = `<div class=\"error\" style=\"color:red;\">${err}</div>`;\n      throw err;\n    }\n\n    function displayChart(vegaEmbed) {\n      vegaEmbed(outputDiv, spec, embedOpt)\n        .catch(err => showError(`Javascript Error: ${err.message}<br>This usually means there's a typo in your chart specification. See the javascript console for the full traceback.`));\n    }\n\n    if(typeof define === \"function\" && define.amd) {\n      requirejs.config({paths});\n      require([\"vega-embed\"], displayChart, err => showError(`Error loading script: ${err.message}`));\n    } else if (typeof vegaEmbed === \"function\") {\n      displayChart(vegaEmbed);\n    } else {\n      loadScript(\"vega\")\n        .then(() => loadScript(\"vega-lite\"))\n        .then(() => loadScript(\"vega-embed\"))\n        .catch(showError)\n        .then(() => displayChart(vegaEmbed));\n    }\n  })({\"config\": {\"view\": {\"continuousWidth\": 400, \"continuousHeight\": 300}, \"area\": {\"fill\": \"#51C0E9\"}, \"axis\": {\"labelFont\": \"Inter, sans-serif\", \"labelFontSize\": 12, \"labelFontWeight\": \"normal\", \"labelLimit\": 60, \"labelOverlap\": \"greedy\", \"titleFont\": \"Inter, sans-serif\", \"titleFontSize\": 12, \"titleFontWeight\": \"bold\"}, \"background\": \"#ffffff\", \"legend\": {\"labelFont\": \"Inter, sans-serif\", \"labelFontSize\": 12, \"titleFont\": \"Inter, sans-serif\", \"titleFontSize\": 12, \"titleFontWeight\": \"bold\"}, \"line\": {\"stroke\": \"#51C0E9\", \"strokeWidth\": 2}, \"rect\": {\"fill\": \"#51C0E9\"}, \"title\": {\"anchor\": \"start\", \"color\": \"#000000\", \"font\": \"Inter, sans-serif\", \"fontSize\": 22, \"fontWeight\": \"normal\"}}, \"data\": {\"name\": \"data-06f4d44033770a956c29398d9574b1e7\"}, \"mark\": {\"type\": \"bar\", \"tooltip\": {\"content\": \"data\"}}, \"autosize\": {\"type\": \"fit\"}, \"encoding\": {\"color\": {\"type\": \"nominal\", \"field\": \"error_type\", \"scale\": {\"type\": \"linear\", \"zero\": false}, \"sort\": null}, \"x\": {\"type\": \"quantitative\", \"field\": \"error\", \"scale\": {\"type\": \"linear\", \"zero\": false}, \"sort\": null}, \"y\": {\"type\": \"nominal\", \"field\": \"player\", \"scale\": {\"type\": \"linear\", \"zero\": true}, \"sort\": null}}, \"height\": 300, \"width\": \"container\", \"$schema\": \"https://vega.github.io/schema/vega-lite/v4.json\", \"datasets\": {\"data-06f4d44033770a956c29398d9574b1e7\": [{\"fanta_team\": \"Rione Monti\", \"role\": \"D\", \"player\": \"Maehle\", \"team\": \"Atalanta\", \"opponent\": \"Spezia\", \"date\": \"2022-05-08T00:00:00\", \"expected_bonus\": 0.40146273, \"true_bonus\": 0.0, \"error\": 0.40146273, \"error_type\": \"overestimated\"}, {\"fanta_team\": \"Rione Monti\", \"role\": \"D\", \"player\": \"Bremer\", \"team\": \"Torino\", \"opponent\": \"Napoli\", \"date\": \"2022-05-07T00:00:00\", \"expected_bonus\": 0.3381177, \"true_bonus\": 0.0, \"error\": 0.3381177, \"error_type\": \"overestimated\"}, {\"fanta_team\": \"Rione Monti\", \"role\": \"D\", \"player\": \"Biraghi\", \"team\": \"Fiorentina\", \"opponent\": \"Roma\", \"date\": \"2022-05-09T00:00:00\", \"expected_bonus\": 0.3294168, \"true_bonus\": 0.0, \"error\": 0.3294168, \"error_type\": \"overestimated\"}, {\"fanta_team\": \"Rione Monti\", \"role\": \"D\", \"player\": \"Lazzari\", \"team\": \"Lazio\", \"opponent\": \"Sampdoria\", \"date\": \"2022-05-07T00:00:00\", \"expected_bonus\": 0.28879425, \"true_bonus\": 1.0, \"error\": -0.71120575, \"error_type\": \"underestimated\"}, {\"fanta_team\": \"Rione Monti\", \"role\": \"D\", \"player\": \"Singo\", \"team\": \"Torino\", \"opponent\": \"Napoli\", \"date\": \"2022-05-07T00:00:00\", \"expected_bonus\": 0.27107504, \"true_bonus\": 0.0, \"error\": 0.27107504, \"error_type\": \"overestimated\"}, {\"fanta_team\": \"Rione Monti\", \"role\": \"D\", \"player\": \"Bastoni\", \"team\": \"Spezia\", \"opponent\": \"Atalanta\", \"date\": \"2022-05-08T00:00:00\", \"expected_bonus\": 0.11563448, \"true_bonus\": 0.0, \"error\": 0.11563448, \"error_type\": \"overestimated\"}, {\"fanta_team\": \"Rione Monti\", \"role\": \"C\", \"player\": \"Anderson\", \"team\": \"Lazio\", \"opponent\": \"Sampdoria\", \"date\": \"2022-05-07T00:00:00\", \"expected_bonus\": 0.6794837, \"true_bonus\": 0.0, \"error\": 0.6794837, \"error_type\": \"overestimated\"}, {\"fanta_team\": \"Rione Monti\", \"role\": \"C\", \"player\": \"Pellegrini\", \"team\": \"Roma\", \"opponent\": \"Fiorentina\", \"date\": \"2022-05-09T00:00:00\", \"expected_bonus\": 0.6468411, \"true_bonus\": 0.0, \"error\": 0.6468411, \"error_type\": \"overestimated\"}, {\"fanta_team\": \"Rione Monti\", \"role\": \"C\", \"player\": \"Zaniolo\", \"team\": \"Roma\", \"opponent\": \"Fiorentina\", \"date\": \"2022-05-09T00:00:00\", \"expected_bonus\": 0.62863725, \"true_bonus\": 0.0, \"error\": 0.62863725, \"error_type\": \"overestimated\"}, {\"fanta_team\": \"Rione Monti\", \"role\": \"C\", \"player\": \"Frattesi\", \"team\": \"Sassuolo\", \"opponent\": \"Udinese\", \"date\": \"2022-05-07T00:00:00\", \"expected_bonus\": 0.613411, \"true_bonus\": 0.0, \"error\": 0.613411, \"error_type\": \"overestimated\"}, {\"fanta_team\": \"Rione Monti\", \"role\": \"C\", \"player\": \"Henderson\", \"team\": \"Empoli\", \"opponent\": \"Inter\", \"date\": \"2022-05-06T00:00:00\", \"expected_bonus\": 0.26773834, \"true_bonus\": 0.0, \"error\": 0.26773834, \"error_type\": \"overestimated\"}, {\"fanta_team\": \"Rione Monti\", \"role\": \"C\", \"player\": \"Tameze\", \"team\": \"Verona\", \"opponent\": \"AC Milan\", \"date\": \"2022-05-08T00:00:00\", \"expected_bonus\": 0.036951713, \"true_bonus\": 0.0, \"error\": 0.036951713, \"error_type\": \"overestimated\"}, {\"fanta_team\": \"Rione Monti\", \"role\": \"A\", \"player\": \"Dzeko\", \"team\": \"Inter\", \"opponent\": \"Empoli\", \"date\": \"2022-05-06T00:00:00\", \"expected_bonus\": 2.139283, \"true_bonus\": 0.0, \"error\": 2.139283, \"error_type\": \"overestimated\"}, {\"fanta_team\": \"Rione Monti\", \"role\": \"A\", \"player\": \"Ibrahimovic\", \"team\": \"AC Milan\", \"opponent\": \"Verona\", \"date\": \"2022-05-08T00:00:00\", \"expected_bonus\": 1.3188882, \"true_bonus\": 0.0, \"error\": 1.3188882, \"error_type\": \"overestimated\"}, {\"fanta_team\": \"Rione Monti\", \"role\": \"A\", \"player\": \"Pinamonti\", \"team\": \"Empoli\", \"opponent\": \"Inter\", \"date\": \"2022-05-06T00:00:00\", \"expected_bonus\": 1.0824628, \"true_bonus\": 3.0, \"error\": -1.9175372, \"error_type\": \"underestimated\"}, {\"fanta_team\": \"Rione Monti\", \"role\": \"A\", \"player\": \"Raspadori\", \"team\": \"Sassuolo\", \"opponent\": \"Udinese\", \"date\": \"2022-05-07T00:00:00\", \"expected_bonus\": 1.0167176, \"true_bonus\": 1.0, \"error\": 0.0167176, \"error_type\": \"overestimated\"}]}}, {\"actions\": false, \"mode\": \"vega-lite\"});\n</script>",
      "text/plain": "alt.Chart(...)"
     },
     "metadata": {}
    }
   ]
  },
  {
   "cell_type": "code",
   "metadata": {
    "cell_id": "e564bc39-b966-4695-b67e-63287438ee0d",
    "tags": [],
    "deepnote_to_be_reexecuted": false,
    "source_hash": "96119dd1",
    "execution_start": 1652245862647,
    "execution_millis": 2,
    "deepnote_cell_type": "code"
   },
   "source": "team, index = display_fanta_squad(validation, teams, index)",
   "execution_count": 36,
   "outputs": []
  },
  {
   "cell_type": "code",
   "source": "_deepnote_run_altair(team, \"\"\"{\"$schema\":\"https://vega.github.io/schema/vega-lite/v4.json\",\"mark\":{\"type\":\"bar\",\"tooltip\":{\"content\":\"data\"}},\"height\":220,\"autosize\":{\"type\":\"fit\"},\"data\":{\"name\":\"placeholder\"},\"encoding\":{\"x\":{\"field\":\"error\",\"type\":\"quantitative\",\"sort\":null,\"scale\":{\"type\":\"linear\",\"zero\":false}},\"y\":{\"field\":\"player\",\"type\":\"nominal\",\"sort\":null,\"scale\":{\"type\":\"linear\",\"zero\":true}},\"color\":{\"field\":\"error_type\",\"type\":\"nominal\",\"sort\":null,\"scale\":{\"type\":\"linear\",\"zero\":false}}}}\"\"\")",
   "metadata": {
    "cell_id": "00035-6e8061f6-136b-4e33-8405-ebc568f30fab",
    "deepnote_variable_name": "team",
    "deepnote_visualization_spec": {
     "$schema": "https://vega.github.io/schema/vega-lite/v4.json",
     "mark": {
      "type": "bar",
      "tooltip": {
       "content": "data"
      }
     },
     "height": 220,
     "autosize": {
      "type": "fit"
     },
     "data": {
      "name": "placeholder"
     },
     "encoding": {
      "x": {
       "field": "error",
       "type": "quantitative",
       "sort": null,
       "scale": {
        "type": "linear",
        "zero": false
       }
      },
      "y": {
       "field": "player",
       "type": "nominal",
       "sort": null,
       "scale": {
        "type": "linear",
        "zero": true
       }
      },
      "color": {
       "field": "error_type",
       "type": "nominal",
       "sort": null,
       "scale": {
        "type": "linear",
        "zero": false
       }
      }
     }
    },
    "deepnote_to_be_reexecuted": false,
    "source_hash": "81b9fc1a",
    "allow_embed": "output",
    "execution_start": 1652245862654,
    "execution_millis": 220,
    "deepnote_cell_type": "visualization",
    "deepnote_output_heights": [
     314
    ]
   },
   "execution_count": null,
   "outputs": []
  },
  {
   "cell_type": "code",
   "metadata": {
    "cell_id": "7e542268-7db2-427b-aec4-69e65596aecd",
    "tags": [],
    "deepnote_to_be_reexecuted": true,
    "source_hash": "96119dd1",
    "execution_start": 1651641145988,
    "execution_millis": 604881905,
    "deepnote_cell_type": "code"
   },
   "source": "team, index = display_fanta_squad(validation, teams, index)",
   "execution_count": null,
   "outputs": []
  },
  {
   "cell_type": "code",
   "source": "_deepnote_run_altair(team, \"\"\"{\"$schema\":\"https://vega.github.io/schema/vega-lite/v4.json\",\"mark\":{\"type\":\"bar\",\"tooltip\":{\"content\":\"data\"}},\"height\":220,\"autosize\":{\"type\":\"fit\"},\"data\":{\"name\":\"placeholder\"},\"encoding\":{\"x\":{\"field\":\"error\",\"type\":\"quantitative\",\"sort\":null,\"scale\":{\"type\":\"linear\",\"zero\":false}},\"y\":{\"field\":\"player\",\"type\":\"nominal\",\"sort\":null,\"scale\":{\"type\":\"linear\",\"zero\":true}},\"color\":{\"field\":\"error_type\",\"type\":\"nominal\",\"sort\":null,\"scale\":{\"type\":\"linear\",\"zero\":false}}}}\"\"\")",
   "metadata": {
    "cell_id": "00037-4755771f-51fc-4587-9023-788197e39785",
    "deepnote_variable_name": "team",
    "deepnote_visualization_spec": {
     "$schema": "https://vega.github.io/schema/vega-lite/v4.json",
     "mark": {
      "type": "bar",
      "tooltip": {
       "content": "data"
      }
     },
     "height": 220,
     "autosize": {
      "type": "fit"
     },
     "data": {
      "name": "placeholder"
     },
     "encoding": {
      "x": {
       "field": "error",
       "type": "quantitative",
       "sort": null,
       "scale": {
        "type": "linear",
        "zero": false
       }
      },
      "y": {
       "field": "player",
       "type": "nominal",
       "sort": null,
       "scale": {
        "type": "linear",
        "zero": true
       }
      },
      "color": {
       "field": "error_type",
       "type": "nominal",
       "sort": null,
       "scale": {
        "type": "linear",
        "zero": false
       }
      }
     }
    },
    "deepnote_to_be_reexecuted": true,
    "source_hash": "81b9fc1a",
    "allow_embed": "output",
    "execution_start": 1651641146060,
    "execution_millis": 166,
    "deepnote_cell_type": "visualization",
    "deepnote_output_heights": [
     314
    ]
   },
   "execution_count": null,
   "outputs": [
    {
     "output_type": "execute_result",
     "execution_count": 39,
     "data": {
      "text/html": "\n<div id=\"altair-viz-16fffd3a113a464396592f83fc356102\"></div>\n<script type=\"text/javascript\">\n  (function(spec, embedOpt){\n    let outputDiv = document.currentScript.previousElementSibling;\n    if (outputDiv.id !== \"altair-viz-16fffd3a113a464396592f83fc356102\") {\n      outputDiv = document.getElementById(\"altair-viz-16fffd3a113a464396592f83fc356102\");\n    }\n    const paths = {\n      \"vega\": \"https://cdn.jsdelivr.net/npm//vega@5?noext\",\n      \"vega-lib\": \"https://cdn.jsdelivr.net/npm//vega-lib?noext\",\n      \"vega-lite\": \"https://cdn.jsdelivr.net/npm//vega-lite@4.8.1?noext\",\n      \"vega-embed\": \"https://cdn.jsdelivr.net/npm//vega-embed@6?noext\",\n    };\n\n    function loadScript(lib) {\n      return new Promise(function(resolve, reject) {\n        var s = document.createElement('script');\n        s.src = paths[lib];\n        s.async = true;\n        s.onload = () => resolve(paths[lib]);\n        s.onerror = () => reject(`Error loading script: ${paths[lib]}`);\n        document.getElementsByTagName(\"head\")[0].appendChild(s);\n      });\n    }\n\n    function showError(err) {\n      outputDiv.innerHTML = `<div class=\"error\" style=\"color:red;\">${err}</div>`;\n      throw err;\n    }\n\n    function displayChart(vegaEmbed) {\n      vegaEmbed(outputDiv, spec, embedOpt)\n        .catch(err => showError(`Javascript Error: ${err.message}<br>This usually means there's a typo in your chart specification. See the javascript console for the full traceback.`));\n    }\n\n    if(typeof define === \"function\" && define.amd) {\n      requirejs.config({paths});\n      require([\"vega-embed\"], displayChart, err => showError(`Error loading script: ${err.message}`));\n    } else if (typeof vegaEmbed === \"function\") {\n      displayChart(vegaEmbed);\n    } else {\n      loadScript(\"vega\")\n        .then(() => loadScript(\"vega-lite\"))\n        .then(() => loadScript(\"vega-embed\"))\n        .catch(showError)\n        .then(() => displayChart(vegaEmbed));\n    }\n  })({\"config\": {\"view\": {\"continuousWidth\": 400, \"continuousHeight\": 300}, \"area\": {\"fill\": \"#51C0E9\"}, \"axis\": {\"labelFont\": \"Inter, sans-serif\", \"labelFontSize\": 12, \"labelFontWeight\": \"normal\", \"labelLimit\": 60, \"labelOverlap\": \"greedy\", \"titleFont\": \"Inter, sans-serif\", \"titleFontSize\": 12, \"titleFontWeight\": \"bold\"}, \"background\": \"#ffffff\", \"legend\": {\"labelFont\": \"Inter, sans-serif\", \"labelFontSize\": 12, \"titleFont\": \"Inter, sans-serif\", \"titleFontSize\": 12, \"titleFontWeight\": \"bold\"}, \"line\": {\"stroke\": \"#51C0E9\", \"strokeWidth\": 2}, \"rect\": {\"fill\": \"#51C0E9\"}, \"title\": {\"anchor\": \"start\", \"color\": \"#000000\", \"font\": \"Inter, sans-serif\", \"fontSize\": 22, \"fontWeight\": \"normal\"}}, \"data\": {\"name\": \"data-e4367c0aae59fd5f5f2c1db5ac97054d\"}, \"mark\": {\"type\": \"bar\", \"tooltip\": {\"content\": \"data\"}}, \"autosize\": {\"type\": \"fit\"}, \"encoding\": {\"color\": {\"type\": \"nominal\", \"field\": \"error_type\", \"scale\": {\"type\": \"linear\", \"zero\": false}, \"sort\": null}, \"x\": {\"type\": \"quantitative\", \"field\": \"error\", \"scale\": {\"type\": \"linear\", \"zero\": false}, \"sort\": null}, \"y\": {\"type\": \"nominal\", \"field\": \"player\", \"scale\": {\"type\": \"linear\", \"zero\": true}, \"sort\": null}}, \"height\": 300, \"width\": \"container\", \"$schema\": \"https://vega.github.io/schema/vega-lite/v4.json\", \"datasets\": {\"data-e4367c0aae59fd5f5f2c1db5ac97054d\": [{\"fanta_team\": \"ssc mozzarella\", \"role\": \"D\", \"player\": \"Dumfries\", \"team\": \"Inter\", \"opponent\": \"Bologna\", \"date\": \"2022-04-27T00:00:00\", \"expected_bonus\": 0.74058706, \"true_bonus\": 0.0, \"error\": 0.74058706, \"error_type\": \"overestimated\"}, {\"fanta_team\": \"ssc mozzarella\", \"role\": \"D\", \"player\": \"Rui\", \"team\": \"Napoli\", \"opponent\": \"Sassuolo\", \"date\": \"2022-04-30T00:00:00\", \"expected_bonus\": 0.40487817, \"true_bonus\": 1.0, \"error\": -0.5951218300000001, \"error_type\": \"underestimated\"}, {\"fanta_team\": \"ssc mozzarella\", \"role\": \"D\", \"player\": \"Iba\\u00f1ez\", \"team\": \"Roma\", \"opponent\": \"Bologna\", \"date\": \"2022-05-01T00:00:00\", \"expected_bonus\": 0.3177817, \"true_bonus\": 0.0, \"error\": 0.3177817, \"error_type\": \"overestimated\"}, {\"fanta_team\": \"ssc mozzarella\", \"role\": \"D\", \"player\": \"Gjimshiti\", \"team\": \"Atalanta\", \"opponent\": \"Torino\", \"date\": \"2022-04-27T00:00:00\", \"expected_bonus\": 0.22395901, \"true_bonus\": 0.0, \"error\": 0.22395901, \"error_type\": \"overestimated\"}, {\"fanta_team\": \"ssc mozzarella\", \"role\": \"D\", \"player\": \"Felipe\", \"team\": \"Lazio\", \"opponent\": \"Spezia\", \"date\": \"2022-04-30T00:00:00\", \"expected_bonus\": 0.18349338, \"true_bonus\": 0.0, \"error\": 0.18349338, \"error_type\": \"overestimated\"}, {\"fanta_team\": \"ssc mozzarella\", \"role\": \"D\", \"player\": \"Tomori\", \"team\": \"AC Milan\", \"opponent\": \"Fiorentina\", \"date\": \"2022-05-01T00:00:00\", \"expected_bonus\": 0.1375446, \"true_bonus\": 0.0, \"error\": 0.1375446, \"error_type\": \"overestimated\"}, {\"fanta_team\": \"ssc mozzarella\", \"role\": \"D\", \"player\": \"Theate\", \"team\": \"Bologna\", \"opponent\": \"Inter\", \"date\": \"2022-04-27T00:00:00\", \"expected_bonus\": 0.13105147, \"true_bonus\": 0.0, \"error\": 0.13105147, \"error_type\": \"overestimated\"}, {\"fanta_team\": \"ssc mozzarella\", \"role\": \"C\", \"player\": \"Sottil\", \"team\": \"Fiorentina\", \"opponent\": \"Udinese\", \"date\": \"2022-04-27T00:00:00\", \"expected_bonus\": 1.0273451, \"true_bonus\": 0.0, \"error\": 1.0273451, \"error_type\": \"overestimated\"}, {\"fanta_team\": \"ssc mozzarella\", \"role\": \"C\", \"player\": \"Fabi\\u00e1n\", \"team\": \"Napoli\", \"opponent\": \"Sassuolo\", \"date\": \"2022-04-30T00:00:00\", \"expected_bonus\": 0.47755566, \"true_bonus\": 1.0, \"error\": -0.5224443400000001, \"error_type\": \"underestimated\"}, {\"fanta_team\": \"ssc mozzarella\", \"role\": \"C\", \"player\": \"Torreira\", \"team\": \"Fiorentina\", \"opponent\": \"Udinese\", \"date\": \"2022-04-27T00:00:00\", \"expected_bonus\": 0.3626249, \"true_bonus\": 0.0, \"error\": 0.3626249, \"error_type\": \"overestimated\"}, {\"fanta_team\": \"ssc mozzarella\", \"role\": \"C\", \"player\": \"Freuler\", \"team\": \"Atalanta\", \"opponent\": \"Torino\", \"date\": \"2022-04-27T00:00:00\", \"expected_bonus\": 0.17467214, \"true_bonus\": 0.0, \"error\": 0.17467214, \"error_type\": \"overestimated\"}, {\"fanta_team\": \"ssc mozzarella\", \"role\": \"C\", \"player\": \"Lopez\", \"team\": \"Sassuolo\", \"opponent\": \"Napoli\", \"date\": \"2022-04-30T00:00:00\", \"expected_bonus\": 0.08739274, \"true_bonus\": 3.0, \"error\": -2.91260726, \"error_type\": \"underestimated\"}, {\"fanta_team\": \"ssc mozzarella\", \"role\": \"A\", \"player\": \"Osimhen\", \"team\": \"Napoli\", \"opponent\": \"Sassuolo\", \"date\": \"2022-04-30T00:00:00\", \"expected_bonus\": 1.336678, \"true_bonus\": 4.0, \"error\": -2.663322, \"error_type\": \"underestimated\"}, {\"fanta_team\": \"ssc mozzarella\", \"role\": \"A\", \"player\": \"Caprari\", \"team\": \"Verona\", \"opponent\": \"Cagliari\", \"date\": \"2022-04-30T00:00:00\", \"expected_bonus\": 0.9772559, \"true_bonus\": 3.0, \"error\": -2.0227441, \"error_type\": \"underestimated\"}, {\"fanta_team\": \"ssc mozzarella\", \"role\": \"A\", \"player\": \"Pavoletti\", \"team\": \"Cagliari\", \"opponent\": \"Verona\", \"date\": \"2022-04-30T00:00:00\", \"expected_bonus\": 0.46901447, \"true_bonus\": 0.0, \"error\": 0.46901447, \"error_type\": \"overestimated\"}, {\"fanta_team\": \"ssc mozzarella\", \"role\": \"A\", \"player\": \"Politano\", \"team\": \"Napoli\", \"opponent\": \"Sassuolo\", \"date\": \"2022-04-30T00:00:00\", \"expected_bonus\": 0.4053906, \"true_bonus\": 0.0, \"error\": 0.4053906, \"error_type\": \"overestimated\"}]}}, {\"actions\": false, \"mode\": \"vega-lite\"});\n</script>",
      "text/plain": "alt.Chart(...)"
     },
     "metadata": {}
    }
   ]
  },
  {
   "cell_type": "code",
   "metadata": {
    "cell_id": "d16b87cb-3aed-4250-9e4e-9057c5bdbba9",
    "tags": [],
    "deepnote_to_be_reexecuted": true,
    "source_hash": "1e932bb3",
    "execution_start": 1651641146225,
    "execution_millis": 988,
    "deepnote_cell_type": "code"
   },
   "source": "!git add *",
   "execution_count": null,
   "outputs": []
  },
  {
   "cell_type": "code",
   "metadata": {
    "cell_id": "55dad338-ddad-4d97-aa50-d8b65c93b7dc",
    "tags": [],
    "deepnote_to_be_reexecuted": true,
    "source_hash": "5c664a09",
    "execution_start": 1651641147224,
    "execution_millis": 729,
    "deepnote_cell_type": "code"
   },
   "source": "!git commit -m 'Add gameweek results'",
   "execution_count": null,
   "outputs": [
    {
     "name": "stdout",
     "text": "[master 75d295d] Add gameweek results\n Committer: root <root@p-82f6a53d-2812-4762-aa0b-0b8fac2a34e3.projects-domain.projects.svc.cluster.local>\nYour name and email address were configured automatically based\non your username and hostname. Please check that they are accurate.\nYou can suppress this message by setting them explicitly. Run the\nfollowing command and follow the instructions in your editor to edit\nyour configuration file:\n\n    git config --global --edit\n\nAfter doing this, you may fix the identity used for this commit with:\n\n    git commit --amend --reset-author\n\n 24 files changed, 492 insertions(+), 213 deletions(-)\n create mode 100644 data/outputs/prediction/fanta-camplus-citta-studi/gameweek_35.csv\n create mode 100644 data/outputs/validation/fanta-camplus-citta-studi/gameweek_34.csv\n",
     "output_type": "stream"
    }
   ]
  },
  {
   "cell_type": "code",
   "metadata": {
    "cell_id": "b9faaae9-52a5-4af2-81e3-f6775c6857d0",
    "tags": [],
    "deepnote_to_be_reexecuted": true,
    "source_hash": "83d9be73",
    "execution_start": 1651641147971,
    "execution_millis": 3178,
    "deepnote_cell_type": "code"
   },
   "source": "!git push -u origin master",
   "execution_count": null,
   "outputs": [
    {
     "name": "stdout",
     "text": "Enumerating objects: 68, done.\nCounting objects: 100% (68/68), done.\nDelta compression using up to 2 threads\nCompressing objects: 100% (34/34), done.\nWriting objects: 100% (36/36), 18.88 KiB | 1.72 MiB/s, done.\nTotal 36 (delta 26), reused 0 (delta 0)\nremote: Resolving deltas: 100% (26/26), completed with 26 local objects.\u001b[K\nTo https://github.com/Zatfer17/serie-a-lineups.git\n   d9d459d..75d295d  master -> master\nBranch 'master' set up to track remote branch 'master' from 'origin'.\n",
     "output_type": "stream"
    }
   ]
  },
  {
   "cell_type": "markdown",
   "source": "<a style='text-decoration:none;line-height:16px;display:flex;color:#5B5B62;padding:10px;justify-content:end;' href='https://deepnote.com?utm_source=created-in-deepnote-cell&projectId=82f6a53d-2812-4762-aa0b-0b8fac2a34e3' target=\"_blank\">\n<img alt='Created in deepnote.com' style='display:inline;max-height:16px;margin:0px;margin-right:7.5px;' src='data:image/svg+xml;base64,PD94bWwgdmVyc2lvbj0iMS4wIiBlbmNvZGluZz0iVVRGLTgiPz4KPHN2ZyB3aWR0aD0iODBweCIgaGVpZ2h0PSI4MHB4IiB2aWV3Qm94PSIwIDAgODAgODAiIHZlcnNpb249IjEuMSIgeG1sbnM9Imh0dHA6Ly93d3cudzMub3JnLzIwMDAvc3ZnIiB4bWxuczp4bGluaz0iaHR0cDovL3d3dy53My5vcmcvMTk5OS94bGluayI+CiAgICA8IS0tIEdlbmVyYXRvcjogU2tldGNoIDU0LjEgKDc2NDkwKSAtIGh0dHBzOi8vc2tldGNoYXBwLmNvbSAtLT4KICAgIDx0aXRsZT5Hcm91cCAzPC90aXRsZT4KICAgIDxkZXNjPkNyZWF0ZWQgd2l0aCBTa2V0Y2guPC9kZXNjPgogICAgPGcgaWQ9IkxhbmRpbmciIHN0cm9rZT0ibm9uZSIgc3Ryb2tlLXdpZHRoPSIxIiBmaWxsPSJub25lIiBmaWxsLXJ1bGU9ImV2ZW5vZGQiPgogICAgICAgIDxnIGlkPSJBcnRib2FyZCIgdHJhbnNmb3JtPSJ0cmFuc2xhdGUoLTEyMzUuMDAwMDAwLCAtNzkuMDAwMDAwKSI+CiAgICAgICAgICAgIDxnIGlkPSJHcm91cC0zIiB0cmFuc2Zvcm09InRyYW5zbGF0ZSgxMjM1LjAwMDAwMCwgNzkuMDAwMDAwKSI+CiAgICAgICAgICAgICAgICA8cG9seWdvbiBpZD0iUGF0aC0yMCIgZmlsbD0iIzAyNjVCNCIgcG9pbnRzPSIyLjM3NjIzNzYyIDgwIDM4LjA0NzY2NjcgODAgNTcuODIxNzgyMiA3My44MDU3NTkyIDU3LjgyMTc4MjIgMzIuNzU5MjczOSAzOS4xNDAyMjc4IDMxLjY4MzE2ODMiPjwvcG9seWdvbj4KICAgICAgICAgICAgICAgIDxwYXRoIGQ9Ik0zNS4wMDc3MTgsODAgQzQyLjkwNjIwMDcsNzYuNDU0OTM1OCA0Ny41NjQ5MTY3LDcxLjU0MjI2NzEgNDguOTgzODY2LDY1LjI2MTk5MzkgQzUxLjExMjI4OTksNTUuODQxNTg0MiA0MS42NzcxNzk1LDQ5LjIxMjIyODQgMjUuNjIzOTg0Niw0OS4yMTIyMjg0IEMyNS40ODQ5Mjg5LDQ5LjEyNjg0NDggMjkuODI2MTI5Niw0My4yODM4MjQ4IDM4LjY0NzU4NjksMzEuNjgzMTY4MyBMNzIuODcxMjg3MSwzMi41NTQ0MjUgTDY1LjI4MDk3Myw2Ny42NzYzNDIxIEw1MS4xMTIyODk5LDc3LjM3NjE0NCBMMzUuMDA3NzE4LDgwIFoiIGlkPSJQYXRoLTIyIiBmaWxsPSIjMDAyODY4Ij48L3BhdGg+CiAgICAgICAgICAgICAgICA8cGF0aCBkPSJNMCwzNy43MzA0NDA1IEwyNy4xMTQ1MzcsMC4yNTcxMTE0MzYgQzYyLjM3MTUxMjMsLTEuOTkwNzE3MDEgODAsMTAuNTAwMzkyNyA4MCwzNy43MzA0NDA1IEM4MCw2NC45NjA0ODgyIDY0Ljc3NjUwMzgsNzkuMDUwMzQxNCAzNC4zMjk1MTEzLDgwIEM0Ny4wNTUzNDg5LDc3LjU2NzA4MDggNTMuNDE4MjY3Nyw3MC4zMTM2MTAzIDUzLjQxODI2NzcsNTguMjM5NTg4NSBDNTMuNDE4MjY3Nyw0MC4xMjg1NTU3IDM2LjMwMzk1NDQsMzcuNzMwNDQwNSAyNS4yMjc0MTcsMzcuNzMwNDQwNSBDMTcuODQzMDU4NiwzNy43MzA0NDA1IDkuNDMzOTE5NjYsMzcuNzMwNDQwNSAwLDM3LjczMDQ0MDUgWiIgaWQ9IlBhdGgtMTkiIGZpbGw9IiMzNzkzRUYiPjwvcGF0aD4KICAgICAgICAgICAgPC9nPgogICAgICAgIDwvZz4KICAgIDwvZz4KPC9zdmc+' > </img>\nCreated in <span style='font-weight:600;margin-left:4px;'>Deepnote</span></a>",
   "metadata": {
    "tags": [],
    "created_in_deepnote_cell": true,
    "deepnote_cell_type": "markdown"
   }
  }
 ],
 "nbformat": 4,
 "nbformat_minor": 2,
 "metadata": {
  "orig_nbformat": 2,
  "deepnote": {
   "is_reactive": false
  },
  "deepnote_notebook_id": "3f2f3cdc-e7c2-49e4-a3b0-2257581bb9c0",
  "deepnote_execution_queue": [
   {
    "cellId": "00035-6e8061f6-136b-4e33-8405-ebc568f30fab",
    "msgId": "1722da8f-d531-44a6-aae7-32681e334962"
   },
   {
    "cellId": "7e542268-7db2-427b-aec4-69e65596aecd",
    "msgId": "e123aebc-56a2-4d2f-a793-f29d4f4c8cfb"
   },
   {
    "cellId": "00037-4755771f-51fc-4587-9023-788197e39785",
    "msgId": "ff7e65ac-fd26-4285-823e-b6d0f49fed10"
   },
   {
    "cellId": "d16b87cb-3aed-4250-9e4e-9057c5bdbba9",
    "msgId": "1ea135b0-080b-4f5d-a575-0db0326f00b7"
   },
   {
    "cellId": "55dad338-ddad-4d97-aa50-d8b65c93b7dc",
    "msgId": "59df9328-b71a-47c9-8239-2008361f493c"
   },
   {
    "cellId": "b9faaae9-52a5-4af2-81e3-f6775c6857d0",
    "msgId": "01678a93-0317-4a60-94da-0b7a0f6db7eb",
    "scheduledRun": {
     "submitted": "Wed May 11 2022 05:00:58 GMT+0000 (Coordinated Universal Time)"
    }
   }
  ]
 }
}