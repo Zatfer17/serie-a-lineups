{
 "cells": [
  {
   "cell_type": "code",
   "metadata": {
    "cell_id": "2e907202-ea86-4fba-81f7-cdd38cecd2b3",
    "tags": [],
    "deepnote_to_be_reexecuted": false,
    "source_hash": "adbe6457",
    "execution_start": 1651640489426,
    "execution_millis": 4912,
    "deepnote_cell_type": "code"
   },
   "source": "import json\nimport pandas as pd\n\nfrom datetime import datetime\nfrom modules.scoring import get_scoring_set, get_features, score, validate\nfrom modules.training import split_data, transform_data",
   "execution_count": 1,
   "outputs": [
    {
     "name": "stderr",
     "text": "/shared-libs/python3.7/py/lib/python3.7/site-packages/tqdm/auto.py:22: TqdmWarning: IProgress not found. Please update jupyter and ipywidgets. See https://ipywidgets.readthedocs.io/en/stable/user_install.html\n  from .autonotebook import tqdm as notebook_tqdm\n",
     "output_type": "stream"
    }
   ]
  },
  {
   "cell_type": "code",
   "metadata": {
    "tags": [],
    "cell_id": "103aa6bc-980e-44d2-ba16-c4839c2ac078",
    "deepnote_to_be_reexecuted": false,
    "source_hash": "173511cd",
    "execution_start": 1651640494346,
    "execution_millis": 6,
    "deepnote_cell_type": "code"
   },
   "source": "def display_fanta_squad(predictions, teams, index):\n    fanta_team = predictions[predictions['fanta_team'] == teams[index]]\n    return fanta_team, index+1    ",
   "execution_count": 2,
   "outputs": []
  },
  {
   "cell_type": "code",
   "metadata": {
    "cell_id": "d23ee413-9026-4f27-9c72-c2440a754314",
    "tags": [],
    "deepnote_to_be_reexecuted": false,
    "source_hash": "4ed74052",
    "execution_start": 1651640494363,
    "execution_millis": 276104,
    "deepnote_cell_type": "code"
   },
   "source": "try:\n    \n    ###############################################################################################\n    status = 'Loading config ...'\n    print('{} -> {}'.format(datetime.now().strftime('%Y-%m-%d %H:%M:%S'), status))\n    with open('config/config.json') as config:\n        config = json.load(config)\n    status = 'Loading config done!'\n    print('{} -> {}'.format(datetime.now().strftime('%Y-%m-%d %H:%M:%S'), status))\n    ###############################################################################################\n\n    ###############################################################################################\n    status = 'Getting scoring set ...'\n    print('{} -> {}'.format(datetime.now().strftime('%Y-%m-%d %H:%M:%S'), status))\n    scoring_set = get_scoring_set(config['league_name'])\n    scoring_set = get_features(scoring_set, config['league_name'])\n    X_raw, metadata = split_data(scoring_set, metadata_columns=['fanta_team', 'date', 'role', 'player_id', 'player'], production=True)\n    status = 'Getting scoring set done!'\n    print('{} -> {}'.format(datetime.now().strftime('%Y-%m-%d %H:%M:%S'), status))\n    ###############################################################################################\n    \n    ###############################################################################################\n    status = 'Processing features ...'\n    print('{} -> {}'.format(datetime.now().strftime('%Y-%m-%d %H:%M:%S'), status))\n    X = transform_data(X_test_raw=X_raw, categorical_columns=['team', 'opponent', 'is_home', 'position'], production=True)\n    status = 'Processing features done!'\n    print('{} -> {}'.format(datetime.now().strftime('%Y-%m-%d %H:%M:%S'), status))\n    ###############################################################################################\n\n    ###############################################################################################\n    status = 'Scoring ...'\n    print('{} -> {}'.format(datetime.now().strftime('%Y-%m-%d %H:%M:%S'), status))\n    predictions = score(X, scoring_set, config['league_name'], config['gameweek']['current'])\n    status = 'Scoring done!'\n    print('{} -> {}'.format(datetime.now().strftime('%Y-%m-%d %H:%M:%S'), status))\n    ###############################################################################################\n\n    ###############################################################################################\n    status = 'Preparing predictions for display...'\n    print('{} -> {}'.format(datetime.now().strftime('%Y-%m-%d %H:%M:%S'), status))\n    predictions['player'] = predictions['player'].apply(lambda x: x.split(' ')[-1])\n    status = 'Preparing predictions for display done!'\n    print('{} -> {}'.format(datetime.now().strftime('%Y-%m-%d %H:%M:%S'), status))\n    ###############################################################################################\n\n    ###############################################################################################\n    status = 'Updating config ...'\n    print('{} -> {}'.format(datetime.now().strftime('%Y-%m-%d %H:%M:%S'), status))\n    config['gameweek']['current'] = config['gameweek']['current'] + 1\n    with open('config/config.json', 'w') as f:\n        json.dump(config, f, indent=4)\n    status = 'Updating config done!'\n    print('{} -> {}'.format(datetime.now().strftime('%Y-%m-%d %H:%M:%S'), status))\n    ###############################################################################################\n\nexcept Exception as e:\n    print('Exception: {}'.format(e))\n    print('Errored out during: {}'.format(status))",
   "execution_count": 3,
   "outputs": [
    {
     "name": "stdout",
     "text": "2022-05-04 05:01:34 -> Loading config ...\n2022-05-04 05:01:34 -> Loading config done!\n2022-05-04 05:01:34 -> Getting scoring set ...\n100%|██████████| 20/20 [00:20<00:00,  1.03s/it]\n100%|██████████| 176/176 [04:03<00:00,  1.38s/it]\n100%|██████████| 166/166 [00:11<00:00, 14.57it/s]\n2022-05-04 05:06:09 -> Getting scoring set done!\n2022-05-04 05:06:09 -> Processing features ...\n2022-05-04 05:06:09 -> Processing features done!\n2022-05-04 05:06:09 -> Scoring ...\n2022-05-04 05:06:10 -> Scoring done!\n2022-05-04 05:06:10 -> Preparing predictions for display...\n2022-05-04 05:06:10 -> Preparing predictions for display done!\n2022-05-04 05:06:10 -> Updating config ...\n2022-05-04 05:06:10 -> Updating config done!\n",
     "output_type": "stream"
    }
   ]
  },
  {
   "cell_type": "code",
   "source": "_deepnote_run_altair(predictions, \"\"\"{\"$schema\":\"https://vega.github.io/schema/vega-lite/v4.json\",\"mark\":{\"type\":\"bar\",\"tooltip\":{\"content\":\"data\"}},\"height\":220,\"autosize\":{\"type\":\"fit\"},\"data\":{\"name\":\"placeholder\"},\"encoding\":{\"x\":{\"field\":\"expected_bonus\",\"type\":\"quantitative\",\"sort\":null,\"scale\":{\"type\":\"linear\",\"zero\":false},\"aggregate\":\"sum\"},\"y\":{\"field\":\"fanta_team\",\"type\":\"nominal\",\"sort\":{\"order\":\"descending\",\"encoding\":\"x\"},\"scale\":{\"type\":\"linear\",\"zero\":true}},\"color\":{\"field\":\"fanta_team\",\"type\":\"nominal\",\"sort\":null,\"scale\":{\"type\":\"linear\",\"zero\":false}}}}\"\"\")",
   "metadata": {
    "cell_id": "3f73d722-4f57-4b44-9be4-166196a3d886",
    "deepnote_variable_name": "predictions",
    "deepnote_visualization_spec": {
     "$schema": "https://vega.github.io/schema/vega-lite/v4.json",
     "mark": {
      "type": "bar",
      "tooltip": {
       "content": "data"
      }
     },
     "height": 220,
     "autosize": {
      "type": "fit"
     },
     "data": {
      "name": "placeholder"
     },
     "encoding": {
      "x": {
       "field": "expected_bonus",
       "type": "quantitative",
       "sort": null,
       "scale": {
        "type": "linear",
        "zero": false
       },
       "aggregate": "sum"
      },
      "y": {
       "field": "fanta_team",
       "type": "nominal",
       "sort": {
        "order": "descending",
        "encoding": "x"
       },
       "scale": {
        "type": "linear",
        "zero": true
       }
      },
      "color": {
       "field": "fanta_team",
       "type": "nominal",
       "sort": null,
       "scale": {
        "type": "linear",
        "zero": false
       }
      }
     }
    },
    "deepnote_to_be_reexecuted": false,
    "source_hash": "425094db",
    "execution_start": 1651640770065,
    "execution_millis": 721,
    "allow_embed": "output",
    "deepnote_cell_type": "visualization",
    "deepnote_output_heights": [
     314
    ]
   },
   "execution_count": 4,
   "outputs": [
    {
     "output_type": "execute_result",
     "execution_count": 4,
     "data": {
      "text/html": "\n<div id=\"altair-viz-dd5793f86b6143d4bb54dfe39801e61b\"></div>\n<script type=\"text/javascript\">\n  (function(spec, embedOpt){\n    let outputDiv = document.currentScript.previousElementSibling;\n    if (outputDiv.id !== \"altair-viz-dd5793f86b6143d4bb54dfe39801e61b\") {\n      outputDiv = document.getElementById(\"altair-viz-dd5793f86b6143d4bb54dfe39801e61b\");\n    }\n    const paths = {\n      \"vega\": \"https://cdn.jsdelivr.net/npm//vega@5?noext\",\n      \"vega-lib\": \"https://cdn.jsdelivr.net/npm//vega-lib?noext\",\n      \"vega-lite\": \"https://cdn.jsdelivr.net/npm//vega-lite@4.8.1?noext\",\n      \"vega-embed\": \"https://cdn.jsdelivr.net/npm//vega-embed@6?noext\",\n    };\n\n    function loadScript(lib) {\n      return new Promise(function(resolve, reject) {\n        var s = document.createElement('script');\n        s.src = paths[lib];\n        s.async = true;\n        s.onload = () => resolve(paths[lib]);\n        s.onerror = () => reject(`Error loading script: ${paths[lib]}`);\n        document.getElementsByTagName(\"head\")[0].appendChild(s);\n      });\n    }\n\n    function showError(err) {\n      outputDiv.innerHTML = `<div class=\"error\" style=\"color:red;\">${err}</div>`;\n      throw err;\n    }\n\n    function displayChart(vegaEmbed) {\n      vegaEmbed(outputDiv, spec, embedOpt)\n        .catch(err => showError(`Javascript Error: ${err.message}<br>This usually means there's a typo in your chart specification. See the javascript console for the full traceback.`));\n    }\n\n    if(typeof define === \"function\" && define.amd) {\n      requirejs.config({paths});\n      require([\"vega-embed\"], displayChart, err => showError(`Error loading script: ${err.message}`));\n    } else if (typeof vegaEmbed === \"function\") {\n      displayChart(vegaEmbed);\n    } else {\n      loadScript(\"vega\")\n        .then(() => loadScript(\"vega-lite\"))\n        .then(() => loadScript(\"vega-embed\"))\n        .catch(showError)\n        .then(() => displayChart(vegaEmbed));\n    }\n  })({\"config\": {\"view\": {\"continuousWidth\": 400, \"continuousHeight\": 300}, \"area\": {\"fill\": \"#51C0E9\"}, \"axis\": {\"labelFont\": \"Inter, sans-serif\", \"labelFontSize\": 12, \"labelFontWeight\": \"normal\", \"labelLimit\": 60, \"labelOverlap\": \"greedy\", \"titleFont\": \"Inter, sans-serif\", \"titleFontSize\": 12, \"titleFontWeight\": \"bold\"}, \"background\": \"#ffffff\", \"legend\": {\"labelFont\": \"Inter, sans-serif\", \"labelFontSize\": 12, \"titleFont\": \"Inter, sans-serif\", \"titleFontSize\": 12, \"titleFontWeight\": \"bold\"}, \"line\": {\"stroke\": \"#51C0E9\", \"strokeWidth\": 2}, \"rect\": {\"fill\": \"#51C0E9\"}, \"title\": {\"anchor\": \"start\", \"color\": \"#000000\", \"font\": \"Inter, sans-serif\", \"fontSize\": 22, \"fontWeight\": \"normal\"}}, \"data\": {\"name\": \"data-63b53812475bb752d91ebc1ce9e364cd\"}, \"mark\": {\"type\": \"bar\", \"tooltip\": {\"content\": \"data\"}}, \"autosize\": {\"type\": \"fit\"}, \"encoding\": {\"color\": {\"type\": \"nominal\", \"field\": \"fanta_team\", \"scale\": {\"type\": \"linear\", \"zero\": false}, \"sort\": null}, \"x\": {\"type\": \"quantitative\", \"aggregate\": \"sum\", \"field\": \"expected_bonus\", \"scale\": {\"type\": \"linear\", \"zero\": false}, \"sort\": null}, \"y\": {\"type\": \"nominal\", \"field\": \"fanta_team\", \"scale\": {\"type\": \"linear\", \"zero\": true}, \"sort\": {\"encoding\": \"x\", \"order\": \"descending\"}}}, \"height\": 300, \"width\": \"container\", \"$schema\": \"https://vega.github.io/schema/vega-lite/v4.json\", \"datasets\": {\"data-63b53812475bb752d91ebc1ce9e364cd\": [{\"fanta_team\": \"ssc mozzarella\", \"role\": \"D\", \"player\": \"Dumfries\", \"team\": \"Inter\", \"opponent\": \"Empoli\", \"date\": \"2022-05-06T00:00:00\", \"expected_bonus\": 0.9851986765861511}, {\"fanta_team\": \"ssc mozzarella\", \"role\": \"D\", \"player\": \"Gjimshiti\", \"team\": \"Atalanta\", \"opponent\": \"Spezia\", \"date\": \"2022-05-08T00:00:00\", \"expected_bonus\": 0.27950340509414673}, {\"fanta_team\": \"ssc mozzarella\", \"role\": \"D\", \"player\": \"Rui\", \"team\": \"Napoli\", \"opponent\": \"Torino\", \"date\": \"2022-05-07T00:00:00\", \"expected_bonus\": 0.2742851674556732}, {\"fanta_team\": \"ssc mozzarella\", \"role\": \"D\", \"player\": \"Felipe\", \"team\": \"Lazio\", \"opponent\": \"Sampdoria\", \"date\": \"2022-05-07T00:00:00\", \"expected_bonus\": 0.2601020634174347}, {\"fanta_team\": \"ssc mozzarella\", \"role\": \"D\", \"player\": \"Theate\", \"team\": \"Bologna\", \"opponent\": \"Venezia\", \"date\": \"2022-05-08T00:00:00\", \"expected_bonus\": 0.1661607027053833}, {\"fanta_team\": \"ssc mozzarella\", \"role\": \"D\", \"player\": \"Smalling\", \"team\": \"Roma\", \"opponent\": \"Fiorentina\", \"date\": \"2022-05-09T00:00:00\", \"expected_bonus\": 0.14436258375644684}, {\"fanta_team\": \"ssc mozzarella\", \"role\": \"D\", \"player\": \"Tomori\", \"team\": \"AC Milan\", \"opponent\": \"Verona\", \"date\": \"2022-05-08T00:00:00\", \"expected_bonus\": 0.13624747097492218}, {\"fanta_team\": \"ssc mozzarella\", \"role\": \"D\", \"player\": \"Iba\\u00f1ez\", \"team\": \"Roma\", \"opponent\": \"Fiorentina\", \"date\": \"2022-05-09T00:00:00\", \"expected_bonus\": 0.12984146177768707}, {\"fanta_team\": \"ssc mozzarella\", \"role\": \"C\", \"player\": \"Sottil\", \"team\": \"Fiorentina\", \"opponent\": \"Roma\", \"date\": \"2022-05-09T00:00:00\", \"expected_bonus\": 0.921516478061676}, {\"fanta_team\": \"ssc mozzarella\", \"role\": \"C\", \"player\": \"Mkhitaryan\", \"team\": \"Roma\", \"opponent\": \"Fiorentina\", \"date\": \"2022-05-09T00:00:00\", \"expected_bonus\": 0.49016737937927246}, {\"fanta_team\": \"ssc mozzarella\", \"role\": \"C\", \"player\": \"Fabi\\u00e1n\", \"team\": \"Napoli\", \"opponent\": \"Torino\", \"date\": \"2022-05-07T00:00:00\", \"expected_bonus\": 0.2922779321670532}, {\"fanta_team\": \"ssc mozzarella\", \"role\": \"C\", \"player\": \"Torreira\", \"team\": \"Fiorentina\", \"opponent\": \"Roma\", \"date\": \"2022-05-09T00:00:00\", \"expected_bonus\": 0.2782984673976898}, {\"fanta_team\": \"ssc mozzarella\", \"role\": \"C\", \"player\": \"Lopez\", \"team\": \"Sassuolo\", \"opponent\": \"Udinese\", \"date\": \"2022-05-07T00:00:00\", \"expected_bonus\": 0.26571524143218994}, {\"fanta_team\": \"ssc mozzarella\", \"role\": \"C\", \"player\": \"Freuler\", \"team\": \"Atalanta\", \"opponent\": \"Spezia\", \"date\": \"2022-05-08T00:00:00\", \"expected_bonus\": 0.25666090846061707}, {\"fanta_team\": \"ssc mozzarella\", \"role\": \"C\", \"player\": \"Pereyra\", \"team\": \"Udinese\", \"opponent\": \"Sassuolo\", \"date\": \"2022-05-07T00:00:00\", \"expected_bonus\": 0.22296233475208282}, {\"fanta_team\": \"ssc mozzarella\", \"role\": \"C\", \"player\": \"Lobotka\", \"team\": \"Napoli\", \"opponent\": \"Torino\", \"date\": \"2022-05-07T00:00:00\", \"expected_bonus\": 0.11961296945810318}, {\"fanta_team\": \"ssc mozzarella\", \"role\": \"A\", \"player\": \"Bonazzoli\", \"team\": \"Salernitana\", \"opponent\": \"Venezia\", \"date\": \"2022-05-05T00:00:00\", \"expected_bonus\": 1.123694658279419}, {\"fanta_team\": \"ssc mozzarella\", \"role\": \"A\", \"player\": \"Gabbiadini\", \"team\": \"Sampdoria\", \"opponent\": \"Lazio\", \"date\": \"2022-05-07T00:00:00\", \"expected_bonus\": 1.0839427709579468}, {\"fanta_team\": \"ssc mozzarella\", \"role\": \"A\", \"player\": \"Osimhen\", \"team\": \"Napoli\", \"opponent\": \"Torino\", \"date\": \"2022-05-07T00:00:00\", \"expected_bonus\": 1.0675709247589111}, {\"fanta_team\": \"ssc mozzarella\", \"role\": \"A\", \"player\": \"Caprari\", \"team\": \"Verona\", \"opponent\": \"AC Milan\", \"date\": \"2022-05-08T00:00:00\", \"expected_bonus\": 0.8033574819564819}, {\"fanta_team\": \"ssc mozzarella\", \"role\": \"A\", \"player\": \"Pavoletti\", \"team\": \"Cagliari\", \"opponent\": \"Salernitana\", \"date\": \"2022-05-08T00:00:00\", \"expected_bonus\": 0.6199770569801331}, {\"fanta_team\": \"ssc mozzarella\", \"role\": \"A\", \"player\": \"Politano\", \"team\": \"Napoli\", \"opponent\": \"Torino\", \"date\": \"2022-05-07T00:00:00\", \"expected_bonus\": 0.221078559756279}, {\"fanta_team\": \"Scansuolo \", \"role\": \"D\", \"player\": \"Demiral\", \"team\": \"Atalanta\", \"opponent\": \"Spezia\", \"date\": \"2022-05-08T00:00:00\", \"expected_bonus\": 0.3564731776714325}, {\"fanta_team\": \"Scansuolo \", \"role\": \"D\", \"player\": \"Hysaj\", \"team\": \"Lazio\", \"opponent\": \"Sampdoria\", \"date\": \"2022-05-07T00:00:00\", \"expected_bonus\": 0.28357958793640137}, {\"fanta_team\": \"Scansuolo \", \"role\": \"D\", \"player\": \"Vojvoda\", \"team\": \"Torino\", \"opponent\": \"Napoli\", \"date\": \"2022-05-07T00:00:00\", \"expected_bonus\": 0.23200398683547974}, {\"fanta_team\": \"Scansuolo \", \"role\": \"D\", \"player\": \"Koulibaly\", \"team\": \"Napoli\", \"opponent\": \"Torino\", \"date\": \"2022-05-07T00:00:00\", \"expected_bonus\": 0.1845690906047821}, {\"fanta_team\": \"Scansuolo \", \"role\": \"D\", \"player\": \"Karsdorp\", \"team\": \"Roma\", \"opponent\": \"Fiorentina\", \"date\": \"2022-05-09T00:00:00\", \"expected_bonus\": 0.1621485948562622}, {\"fanta_team\": \"Scansuolo \", \"role\": \"D\", \"player\": \"Hickey\", \"team\": \"Bologna\", \"opponent\": \"Venezia\", \"date\": \"2022-05-08T00:00:00\", \"expected_bonus\": 0.13593098521232605}, {\"fanta_team\": \"Scansuolo \", \"role\": \"D\", \"player\": \"Zappa\", \"team\": \"Cagliari\", \"opponent\": \"Salernitana\", \"date\": \"2022-05-08T00:00:00\", \"expected_bonus\": 0.028564324602484703}, {\"fanta_team\": \"Scansuolo \", \"role\": \"C\", \"player\": \"Pessina\", \"team\": \"Atalanta\", \"opponent\": \"Spezia\", \"date\": \"2022-05-08T00:00:00\", \"expected_bonus\": 0.6971004605293274}, {\"fanta_team\": \"Scansuolo \", \"role\": \"C\", \"player\": \"Zaccagni\", \"team\": \"Lazio\", \"opponent\": \"Sampdoria\", \"date\": \"2022-05-07T00:00:00\", \"expected_bonus\": 0.5471466779708862}, {\"fanta_team\": \"Scansuolo \", \"role\": \"C\", \"player\": \"Messias\", \"team\": \"AC Milan\", \"opponent\": \"Verona\", \"date\": \"2022-05-08T00:00:00\", \"expected_bonus\": 0.514297604560852}, {\"fanta_team\": \"Scansuolo \", \"role\": \"C\", \"player\": \"Diaz\", \"team\": \"AC Milan\", \"opponent\": \"Verona\", \"date\": \"2022-05-08T00:00:00\", \"expected_bonus\": 0.4942302703857422}, {\"fanta_team\": \"Scansuolo \", \"role\": \"C\", \"player\": \"Koopmeiners\", \"team\": \"Atalanta\", \"opponent\": \"Spezia\", \"date\": \"2022-05-08T00:00:00\", \"expected_bonus\": 0.32572001218795776}, {\"fanta_team\": \"Scansuolo \", \"role\": \"C\", \"player\": \"Zurkowski\", \"team\": \"Empoli\", \"opponent\": \"Inter\", \"date\": \"2022-05-06T00:00:00\", \"expected_bonus\": 0.30402636528015137}, {\"fanta_team\": \"Scansuolo \", \"role\": \"C\", \"player\": \"Ilic\", \"team\": \"Verona\", \"opponent\": \"AC Milan\", \"date\": \"2022-05-08T00:00:00\", \"expected_bonus\": 0.15704800188541412}, {\"fanta_team\": \"Scansuolo \", \"role\": \"C\", \"player\": \"Traore\", \"team\": \"Sassuolo\", \"opponent\": \"Udinese\", \"date\": \"2022-05-07T00:00:00\", \"expected_bonus\": 0.15454284846782684}, {\"fanta_team\": \"Scansuolo \", \"role\": \"A\", \"player\": \"Immobile\", \"team\": \"Lazio\", \"opponent\": \"Sampdoria\", \"date\": \"2022-05-07T00:00:00\", \"expected_bonus\": 2.021925210952759}, {\"fanta_team\": \"Scansuolo \", \"role\": \"A\", \"player\": \"Scamacca\", \"team\": \"Sassuolo\", \"opponent\": \"Udinese\", \"date\": \"2022-05-07T00:00:00\", \"expected_bonus\": 1.5094482898712158}, {\"fanta_team\": \"Scansuolo \", \"role\": \"A\", \"player\": \"Pedro\", \"team\": \"Cagliari\", \"opponent\": \"Salernitana\", \"date\": \"2022-05-08T00:00:00\", \"expected_bonus\": 1.2540032863616943}, {\"fanta_team\": \"Scansuolo \", \"role\": \"A\", \"player\": \"Le\\u00e3o\", \"team\": \"AC Milan\", \"opponent\": \"Verona\", \"date\": \"2022-05-08T00:00:00\", \"expected_bonus\": 0.8805072903633118}, {\"fanta_team\": \"Scansuolo \", \"role\": \"A\", \"player\": \"Mikael\", \"team\": \"Salernitana\", \"opponent\": \"Venezia\", \"date\": \"2022-05-05T00:00:00\", \"expected_bonus\": 0.16596972942352295}, {\"fanta_team\": \"Rione Monti\", \"role\": \"D\", \"player\": \"Maehle\", \"team\": \"Atalanta\", \"opponent\": \"Spezia\", \"date\": \"2022-05-08T00:00:00\", \"expected_bonus\": 0.40146273374557495}, {\"fanta_team\": \"Rione Monti\", \"role\": \"D\", \"player\": \"Bremer\", \"team\": \"Torino\", \"opponent\": \"Napoli\", \"date\": \"2022-05-07T00:00:00\", \"expected_bonus\": 0.33811768889427185}, {\"fanta_team\": \"Rione Monti\", \"role\": \"D\", \"player\": \"Biraghi\", \"team\": \"Fiorentina\", \"opponent\": \"Roma\", \"date\": \"2022-05-09T00:00:00\", \"expected_bonus\": 0.32941681146621704}, {\"fanta_team\": \"Rione Monti\", \"role\": \"D\", \"player\": \"Lazzari\", \"team\": \"Lazio\", \"opponent\": \"Sampdoria\", \"date\": \"2022-05-07T00:00:00\", \"expected_bonus\": 0.28879424929618835}, {\"fanta_team\": \"Rione Monti\", \"role\": \"D\", \"player\": \"Singo\", \"team\": \"Torino\", \"opponent\": \"Napoli\", \"date\": \"2022-05-07T00:00:00\", \"expected_bonus\": 0.271075040102005}, {\"fanta_team\": \"Rione Monti\", \"role\": \"D\", \"player\": \"Pezzella\", \"team\": \"Atalanta\", \"opponent\": \"Spezia\", \"date\": \"2022-05-08T00:00:00\", \"expected_bonus\": 0.2030767798423767}, {\"fanta_team\": \"Rione Monti\", \"role\": \"D\", \"player\": \"Bastoni\", \"team\": \"Spezia\", \"opponent\": \"Atalanta\", \"date\": \"2022-05-08T00:00:00\", \"expected_bonus\": 0.1156344786286354}, {\"fanta_team\": \"Rione Monti\", \"role\": \"D\", \"player\": \"Maitland-Niles\", \"team\": \"Roma\", \"opponent\": \"Fiorentina\", \"date\": \"2022-05-09T00:00:00\", \"expected_bonus\": -0.018191853538155556}, {\"fanta_team\": \"Rione Monti\", \"role\": \"C\", \"player\": \"Anderson\", \"team\": \"Lazio\", \"opponent\": \"Sampdoria\", \"date\": \"2022-05-07T00:00:00\", \"expected_bonus\": 0.6794837117195129}, {\"fanta_team\": \"Rione Monti\", \"role\": \"C\", \"player\": \"Pellegrini\", \"team\": \"Roma\", \"opponent\": \"Fiorentina\", \"date\": \"2022-05-09T00:00:00\", \"expected_bonus\": 0.6468411087989807}, {\"fanta_team\": \"Rione Monti\", \"role\": \"C\", \"player\": \"Zaniolo\", \"team\": \"Roma\", \"opponent\": \"Fiorentina\", \"date\": \"2022-05-09T00:00:00\", \"expected_bonus\": 0.6286372542381287}, {\"fanta_team\": \"Rione Monti\", \"role\": \"C\", \"player\": \"Frattesi\", \"team\": \"Sassuolo\", \"opponent\": \"Udinese\", \"date\": \"2022-05-07T00:00:00\", \"expected_bonus\": 0.613411009311676}, {\"fanta_team\": \"Rione Monti\", \"role\": \"C\", \"player\": \"Henderson\", \"team\": \"Empoli\", \"opponent\": \"Inter\", \"date\": \"2022-05-06T00:00:00\", \"expected_bonus\": 0.26773834228515625}, {\"fanta_team\": \"Rione Monti\", \"role\": \"C\", \"player\": \"Tameze\", \"team\": \"Verona\", \"opponent\": \"AC Milan\", \"date\": \"2022-05-08T00:00:00\", \"expected_bonus\": 0.036951713263988495}, {\"fanta_team\": \"Rione Monti\", \"role\": \"A\", \"player\": \"Dzeko\", \"team\": \"Inter\", \"opponent\": \"Empoli\", \"date\": \"2022-05-06T00:00:00\", \"expected_bonus\": 2.1392829418182373}, {\"fanta_team\": \"Rione Monti\", \"role\": \"A\", \"player\": \"Ibrahimovic\", \"team\": \"AC Milan\", \"opponent\": \"Verona\", \"date\": \"2022-05-08T00:00:00\", \"expected_bonus\": 1.3188881874084473}, {\"fanta_team\": \"Rione Monti\", \"role\": \"A\", \"player\": \"Pinamonti\", \"team\": \"Empoli\", \"opponent\": \"Inter\", \"date\": \"2022-05-06T00:00:00\", \"expected_bonus\": 1.0824627876281738}, {\"fanta_team\": \"Rione Monti\", \"role\": \"A\", \"player\": \"Raspadori\", \"team\": \"Sassuolo\", \"opponent\": \"Udinese\", \"date\": \"2022-05-07T00:00:00\", \"expected_bonus\": 1.016717553138733}, {\"fanta_team\": \"Rione Monti\", \"role\": \"A\", \"player\": \"Pedro\", \"team\": \"Lazio\", \"opponent\": \"Sampdoria\", \"date\": \"2022-05-07T00:00:00\", \"expected_bonus\": 1.0008759498596191}, {\"fanta_team\": \"Rione Monti\", \"role\": \"A\", \"player\": \"Afena-Gyan\", \"team\": \"Roma\", \"opponent\": \"Fiorentina\", \"date\": \"2022-05-09T00:00:00\", \"expected_bonus\": 0.47235921025276184}, {\"fanta_team\": \"MaiNa Joya_v2.0\", \"role\": \"D\", \"player\": \"Gosens\", \"team\": \"Inter\", \"opponent\": \"Empoli\", \"date\": \"2022-05-06T00:00:00\", \"expected_bonus\": 0.8308190703392029}, {\"fanta_team\": \"MaiNa Joya_v2.0\", \"role\": \"D\", \"player\": \"Hern\\u00e1ndez\", \"team\": \"AC Milan\", \"opponent\": \"Verona\", \"date\": \"2022-05-08T00:00:00\", \"expected_bonus\": 0.4748273193836212}, {\"fanta_team\": \"MaiNa Joya_v2.0\", \"role\": \"D\", \"player\": \"Ferrari\", \"team\": \"Sassuolo\", \"opponent\": \"Udinese\", \"date\": \"2022-05-07T00:00:00\", \"expected_bonus\": 0.2598477303981781}, {\"fanta_team\": \"MaiNa Joya_v2.0\", \"role\": \"D\", \"player\": \"Toloi\", \"team\": \"Atalanta\", \"opponent\": \"Spezia\", \"date\": \"2022-05-08T00:00:00\", \"expected_bonus\": 0.23675282299518585}, {\"fanta_team\": \"MaiNa Joya_v2.0\", \"role\": \"D\", \"player\": \"Milenkovic\", \"team\": \"Fiorentina\", \"opponent\": \"Roma\", \"date\": \"2022-05-09T00:00:00\", \"expected_bonus\": 0.2051338255405426}, {\"fanta_team\": \"MaiNa Joya_v2.0\", \"role\": \"D\", \"player\": \"Molina\", \"team\": \"Udinese\", \"opponent\": \"Sassuolo\", \"date\": \"2022-05-07T00:00:00\", \"expected_bonus\": 0.19521965086460114}, {\"fanta_team\": \"MaiNa Joya_v2.0\", \"role\": \"D\", \"player\": \"Stojanovic\", \"team\": \"Empoli\", \"opponent\": \"Inter\", \"date\": \"2022-05-06T00:00:00\", \"expected_bonus\": 0.06374181061983109}, {\"fanta_team\": \"MaiNa Joya_v2.0\", \"role\": \"C\", \"player\": \"Milinkovic-Savic\", \"team\": \"Lazio\", \"opponent\": \"Sampdoria\", \"date\": \"2022-05-07T00:00:00\", \"expected_bonus\": 0.963215708732605}, {\"fanta_team\": \"MaiNa Joya_v2.0\", \"role\": \"C\", \"player\": \"Barella\", \"team\": \"Inter\", \"opponent\": \"Empoli\", \"date\": \"2022-05-06T00:00:00\", \"expected_bonus\": 0.9554330110549927}, {\"fanta_team\": \"MaiNa Joya_v2.0\", \"role\": \"C\", \"player\": \"Pobega\", \"team\": \"Torino\", \"opponent\": \"Napoli\", \"date\": \"2022-05-07T00:00:00\", \"expected_bonus\": 0.5423755645751953}, {\"fanta_team\": \"MaiNa Joya_v2.0\", \"role\": \"C\", \"player\": \"Bernardeschi\", \"team\": \"Juventus\", \"opponent\": \"Genoa\", \"date\": \"2022-05-06T00:00:00\", \"expected_bonus\": 0.38645973801612854}, {\"fanta_team\": \"MaiNa Joya_v2.0\", \"role\": \"C\", \"player\": \"Soriano\", \"team\": \"Bologna\", \"opponent\": \"Venezia\", \"date\": \"2022-05-08T00:00:00\", \"expected_bonus\": 0.34931620955467224}, {\"fanta_team\": \"MaiNa Joya_v2.0\", \"role\": \"C\", \"player\": \"Locatelli\", \"team\": \"Juventus\", \"opponent\": \"Genoa\", \"date\": \"2022-05-06T00:00:00\", \"expected_bonus\": 0.2991563081741333}, {\"fanta_team\": \"MaiNa Joya_v2.0\", \"role\": \"C\", \"player\": \"Sensi\", \"team\": \"Sampdoria\", \"opponent\": \"Lazio\", \"date\": \"2022-05-07T00:00:00\", \"expected_bonus\": -0.013224020600318909}, {\"fanta_team\": \"MaiNa Joya_v2.0\", \"role\": \"A\", \"player\": \"Abraham\", \"team\": \"Roma\", \"opponent\": \"Fiorentina\", \"date\": \"2022-05-09T00:00:00\", \"expected_bonus\": 1.4604268074035645}, {\"fanta_team\": \"MaiNa Joya_v2.0\", \"role\": \"A\", \"player\": \"Morata\", \"team\": \"Juventus\", \"opponent\": \"Genoa\", \"date\": \"2022-05-06T00:00:00\", \"expected_bonus\": 1.1638308763504028}, {\"fanta_team\": \"MaiNa Joya_v2.0\", \"role\": \"A\", \"player\": \"Insigne\", \"team\": \"Napoli\", \"opponent\": \"Torino\", \"date\": \"2022-05-07T00:00:00\", \"expected_bonus\": 1.0842407941818237}, {\"fanta_team\": \"MaiNa Joya_v2.0\", \"role\": \"A\", \"player\": \"Arnautovic\", \"team\": \"Bologna\", \"opponent\": \"Venezia\", \"date\": \"2022-05-08T00:00:00\", \"expected_bonus\": 1.067312240600586}, {\"fanta_team\": \"MaiNa Joya_v2.0\", \"role\": \"A\", \"player\": \"Boga\", \"team\": \"Atalanta\", \"opponent\": \"Spezia\", \"date\": \"2022-05-08T00:00:00\", \"expected_bonus\": 0.9397444128990173}, {\"fanta_team\": \"MaiNa Joya_v2.0\", \"role\": \"A\", \"player\": \"Brekalo\", \"team\": \"Torino\", \"opponent\": \"Napoli\", \"date\": \"2022-05-07T00:00:00\", \"expected_bonus\": 0.8942422270774841}, {\"fanta_team\": \"MEZAFE\", \"role\": \"D\", \"player\": \"Zappacosta\", \"team\": \"Atalanta\", \"opponent\": \"Spezia\", \"date\": \"2022-05-08T00:00:00\", \"expected_bonus\": 0.543720006942749}, {\"fanta_team\": \"MEZAFE\", \"role\": \"D\", \"player\": \"Criscito\", \"team\": \"Genoa\", \"opponent\": \"Juventus\", \"date\": \"2022-05-06T00:00:00\", \"expected_bonus\": 0.45289865136146545}, {\"fanta_team\": \"MEZAFE\", \"role\": \"D\", \"player\": \"Bonucci\", \"team\": \"Juventus\", \"opponent\": \"Genoa\", \"date\": \"2022-05-06T00:00:00\", \"expected_bonus\": 0.4205527901649475}, {\"fanta_team\": \"MEZAFE\", \"role\": \"D\", \"player\": \"Vrij\", \"team\": \"Inter\", \"opponent\": \"Empoli\", \"date\": \"2022-05-06T00:00:00\", \"expected_bonus\": 0.3231252431869507}, {\"fanta_team\": \"MEZAFE\", \"role\": \"D\", \"player\": \"Danilo\", \"team\": \"Juventus\", \"opponent\": \"Genoa\", \"date\": \"2022-05-06T00:00:00\", \"expected_bonus\": 0.2585093080997467}, {\"fanta_team\": \"MEZAFE\", \"role\": \"D\", \"player\": \"Silvestri\", \"team\": \"Bologna\", \"opponent\": \"Venezia\", \"date\": \"2022-05-08T00:00:00\", \"expected_bonus\": 0.22731998562812805}, {\"fanta_team\": \"MEZAFE\", \"role\": \"D\", \"player\": \"Chiellini\", \"team\": \"Juventus\", \"opponent\": \"Genoa\", \"date\": \"2022-05-06T00:00:00\", \"expected_bonus\": 0.18756423890590668}, {\"fanta_team\": \"MEZAFE\", \"role\": \"D\", \"player\": \"Mancini\", \"team\": \"Roma\", \"opponent\": \"Fiorentina\", \"date\": \"2022-05-09T00:00:00\", \"expected_bonus\": 0.13912737369537354}, {\"fanta_team\": \"MEZAFE\", \"role\": \"C\", \"player\": \"Verdi\", \"team\": \"Salernitana\", \"opponent\": \"Venezia\", \"date\": \"2022-05-05T00:00:00\", \"expected_bonus\": 0.8892148733139038}, {\"fanta_team\": \"MEZAFE\", \"role\": \"C\", \"player\": \"Pasalic\", \"team\": \"Atalanta\", \"opponent\": \"Spezia\", \"date\": \"2022-05-08T00:00:00\", \"expected_bonus\": 0.8587695956230164}, {\"fanta_team\": \"MEZAFE\", \"role\": \"C\", \"player\": \"Perisic\", \"team\": \"Inter\", \"opponent\": \"Empoli\", \"date\": \"2022-05-06T00:00:00\", \"expected_bonus\": 0.5494380593299866}, {\"fanta_team\": \"MEZAFE\", \"role\": \"C\", \"player\": \"Saelemaekers\", \"team\": \"AC Milan\", \"opponent\": \"Verona\", \"date\": \"2022-05-08T00:00:00\", \"expected_bonus\": 0.5405886173248291}, {\"fanta_team\": \"MEZAFE\", \"role\": \"C\", \"player\": \"McKennie\", \"team\": \"Juventus\", \"opponent\": \"Genoa\", \"date\": \"2022-05-06T00:00:00\", \"expected_bonus\": 0.44246891140937805}, {\"fanta_team\": \"MEZAFE\", \"role\": \"C\", \"player\": \"Lazovic\", \"team\": \"Verona\", \"opponent\": \"AC Milan\", \"date\": \"2022-05-08T00:00:00\", \"expected_bonus\": 0.2621760666370392}, {\"fanta_team\": \"MEZAFE\", \"role\": \"C\", \"player\": \"Tonali\", \"team\": \"AC Milan\", \"opponent\": \"Verona\", \"date\": \"2022-05-08T00:00:00\", \"expected_bonus\": 0.23614071309566498}, {\"fanta_team\": \"MEZAFE\", \"role\": \"C\", \"player\": \"Castrovilli\", \"team\": \"Fiorentina\", \"opponent\": \"Roma\", \"date\": \"2022-05-09T00:00:00\", \"expected_bonus\": 0.1836472451686859}, {\"fanta_team\": \"MEZAFE\", \"role\": \"A\", \"player\": \"Dybala\", \"team\": \"Juventus\", \"opponent\": \"Genoa\", \"date\": \"2022-05-06T00:00:00\", \"expected_bonus\": 1.7378089427947998}, {\"fanta_team\": \"MEZAFE\", \"role\": \"A\", \"player\": \"Piatek\", \"team\": \"Fiorentina\", \"opponent\": \"Roma\", \"date\": \"2022-05-09T00:00:00\", \"expected_bonus\": 1.1398905515670776}, {\"fanta_team\": \"MEZAFE\", \"role\": \"A\", \"player\": \"Simeone\", \"team\": \"Verona\", \"opponent\": \"AC Milan\", \"date\": \"2022-05-08T00:00:00\", \"expected_bonus\": 0.9923667907714844}, {\"fanta_team\": \"MEZAFE\", \"role\": \"A\", \"player\": \"Quagliarella\", \"team\": \"Sampdoria\", \"opponent\": \"Lazio\", \"date\": \"2022-05-07T00:00:00\", \"expected_bonus\": 0.940694272518158}, {\"fanta_team\": \"MEZAFE\", \"role\": \"A\", \"player\": \"Sanabria\", \"team\": \"Torino\", \"opponent\": \"Napoli\", \"date\": \"2022-05-07T00:00:00\", \"expected_bonus\": 0.8815584182739258}, {\"fanta_team\": \"MEZAFE\", \"role\": \"A\", \"player\": \"Rebic\", \"team\": \"AC Milan\", \"opponent\": \"Verona\", \"date\": \"2022-05-08T00:00:00\", \"expected_bonus\": 0.2669099271297455}, {\"fanta_team\": \"Beverly INPS\", \"role\": \"D\", \"player\": \"Dimarco\", \"team\": \"Inter\", \"opponent\": \"Empoli\", \"date\": \"2022-05-06T00:00:00\", \"expected_bonus\": 0.8655251860618591}, {\"fanta_team\": \"Beverly INPS\", \"role\": \"D\", \"player\": \"Cuadrado\", \"team\": \"Juventus\", \"opponent\": \"Genoa\", \"date\": \"2022-05-06T00:00:00\", \"expected_bonus\": 0.36704981327056885}, {\"fanta_team\": \"Beverly INPS\", \"role\": \"D\", \"player\": \"Bastoni\", \"team\": \"Inter\", \"opponent\": \"Empoli\", \"date\": \"2022-05-06T00:00:00\", \"expected_bonus\": 0.34243708848953247}, {\"fanta_team\": \"Beverly INPS\", \"role\": \"D\", \"player\": \"Lorenzo\", \"team\": \"Napoli\", \"opponent\": \"Torino\", \"date\": \"2022-05-07T00:00:00\", \"expected_bonus\": 0.1806364357471466}, {\"fanta_team\": \"Beverly INPS\", \"role\": \"D\", \"player\": \"Romagnoli\", \"team\": \"AC Milan\", \"opponent\": \"Verona\", \"date\": \"2022-05-08T00:00:00\", \"expected_bonus\": 0.12631171941757202}, {\"fanta_team\": \"Beverly INPS\", \"role\": \"D\", \"player\": \"Cambiaso\", \"team\": \"Genoa\", \"opponent\": \"Juventus\", \"date\": \"2022-05-06T00:00:00\", \"expected_bonus\": 0.1248505488038063}, {\"fanta_team\": \"Beverly INPS\", \"role\": \"D\", \"player\": \"Nuytinck\", \"team\": \"Udinese\", \"opponent\": \"Sassuolo\", \"date\": \"2022-05-07T00:00:00\", \"expected_bonus\": 0.053073253482580185}, {\"fanta_team\": \"Beverly INPS\", \"role\": \"C\", \"player\": \"Barak\", \"team\": \"Verona\", \"opponent\": \"AC Milan\", \"date\": \"2022-05-08T00:00:00\", \"expected_bonus\": 0.6941074728965759}, {\"fanta_team\": \"Beverly INPS\", \"role\": \"C\", \"player\": \"Zielinski\", \"team\": \"Napoli\", \"opponent\": \"Torino\", \"date\": \"2022-05-07T00:00:00\", \"expected_bonus\": 0.6802282929420471}, {\"fanta_team\": \"Beverly INPS\", \"role\": \"C\", \"player\": \"Alberto\", \"team\": \"Lazio\", \"opponent\": \"Sampdoria\", \"date\": \"2022-05-07T00:00:00\", \"expected_bonus\": 0.629007875919342}, {\"fanta_team\": \"Beverly INPS\", \"role\": \"C\", \"player\": \"Praet\", \"team\": \"Torino\", \"opponent\": \"Napoli\", \"date\": \"2022-05-07T00:00:00\", \"expected_bonus\": 0.5567072629928589}, {\"fanta_team\": \"Beverly INPS\", \"role\": \"C\", \"player\": \"Kessi\\u00e9\", \"team\": \"AC Milan\", \"opponent\": \"Verona\", \"date\": \"2022-05-08T00:00:00\", \"expected_bonus\": 0.4640722870826721}, {\"fanta_team\": \"Beverly INPS\", \"role\": \"C\", \"player\": \"Veretout\", \"team\": \"Roma\", \"opponent\": \"Fiorentina\", \"date\": \"2022-05-09T00:00:00\", \"expected_bonus\": 0.40430495142936707}, {\"fanta_team\": \"Beverly INPS\", \"role\": \"C\", \"player\": \"Elmas\", \"team\": \"Napoli\", \"opponent\": \"Torino\", \"date\": \"2022-05-07T00:00:00\", \"expected_bonus\": 0.18307965993881226}, {\"fanta_team\": \"Beverly INPS\", \"role\": \"A\", \"player\": \"Mart\\u00ednez\", \"team\": \"Inter\", \"opponent\": \"Empoli\", \"date\": \"2022-05-06T00:00:00\", \"expected_bonus\": 2.320385694503784}, {\"fanta_team\": \"Beverly INPS\", \"role\": \"A\", \"player\": \"Berardi\", \"team\": \"Sassuolo\", \"opponent\": \"Udinese\", \"date\": \"2022-05-07T00:00:00\", \"expected_bonus\": 1.492501139640808}, {\"fanta_team\": \"Beverly INPS\", \"role\": \"A\", \"player\": \"Deulofeu\", \"team\": \"Udinese\", \"opponent\": \"Sassuolo\", \"date\": \"2022-05-07T00:00:00\", \"expected_bonus\": 1.002729892730713}, {\"fanta_team\": \"Beverly INPS\", \"role\": \"A\", \"player\": \"Barrow\", \"team\": \"Bologna\", \"opponent\": \"Venezia\", \"date\": \"2022-05-08T00:00:00\", \"expected_bonus\": 0.9851235747337341}, {\"fanta_team\": \"Beverly INPS\", \"role\": \"A\", \"player\": \"Mertens\", \"team\": \"Napoli\", \"opponent\": \"Torino\", \"date\": \"2022-05-07T00:00:00\", \"expected_bonus\": 0.9807102084159851}, {\"fanta_team\": \"Beverly INPS\", \"role\": \"A\", \"player\": \"Gonz\\u00e1lez\", \"team\": \"Fiorentina\", \"opponent\": \"Roma\", \"date\": \"2022-05-09T00:00:00\", \"expected_bonus\": 0.7610799074172974}, {\"fanta_team\": \"AI sereje ja dejeDe jebe tu de jebere\", \"role\": \"D\", \"player\": \"Skriniar\", \"team\": \"Inter\", \"opponent\": \"Empoli\", \"date\": \"2022-05-06T00:00:00\", \"expected_bonus\": 0.4284757971763611}, {\"fanta_team\": \"AI sereje ja dejeDe jebe tu de jebere\", \"role\": \"D\", \"player\": \"Darmian\", \"team\": \"Inter\", \"opponent\": \"Empoli\", \"date\": \"2022-05-06T00:00:00\", \"expected_bonus\": 0.3974030017852783}, {\"fanta_team\": \"AI sereje ja dejeDe jebe tu de jebere\", \"role\": \"D\", \"player\": \"Acerbi\", \"team\": \"Lazio\", \"opponent\": \"Sampdoria\", \"date\": \"2022-05-07T00:00:00\", \"expected_bonus\": 0.3016499876976013}, {\"fanta_team\": \"AI sereje ja dejeDe jebe tu de jebere\", \"role\": \"D\", \"player\": \"Hateboer\", \"team\": \"Atalanta\", \"opponent\": \"Spezia\", \"date\": \"2022-05-08T00:00:00\", \"expected_bonus\": 0.26028504967689514}, {\"fanta_team\": \"AI sereje ja dejeDe jebe tu de jebere\", \"role\": \"D\", \"player\": \"Rrahmani\", \"team\": \"Napoli\", \"opponent\": \"Torino\", \"date\": \"2022-05-07T00:00:00\", \"expected_bonus\": 0.21868635714054108}, {\"fanta_team\": \"AI sereje ja dejeDe jebe tu de jebere\", \"role\": \"D\", \"player\": \"Tuanzebe\", \"team\": \"Napoli\", \"opponent\": \"Torino\", \"date\": \"2022-05-07T00:00:00\", \"expected_bonus\": 0.10033636540174484}, {\"fanta_team\": \"AI sereje ja dejeDe jebe tu de jebere\", \"role\": \"D\", \"player\": \"Yoshida\", \"team\": \"Sampdoria\", \"opponent\": \"Lazio\", \"date\": \"2022-05-07T00:00:00\", \"expected_bonus\": 0.08064699918031693}, {\"fanta_team\": \"AI sereje ja dejeDe jebe tu de jebere\", \"role\": \"C\", \"player\": \"Bajrami\", \"team\": \"Empoli\", \"opponent\": \"Inter\", \"date\": \"2022-05-06T00:00:00\", \"expected_bonus\": 0.7737714052200317}, {\"fanta_team\": \"AI sereje ja dejeDe jebe tu de jebere\", \"role\": \"C\", \"player\": \"Djuricic\", \"team\": \"Sassuolo\", \"opponent\": \"Udinese\", \"date\": \"2022-05-07T00:00:00\", \"expected_bonus\": 0.7536483407020569}, {\"fanta_team\": \"AI sereje ja dejeDe jebe tu de jebere\", \"role\": \"C\", \"player\": \"Candreva\", \"team\": \"Sampdoria\", \"opponent\": \"Lazio\", \"date\": \"2022-05-07T00:00:00\", \"expected_bonus\": 0.654094398021698}, {\"fanta_team\": \"AI sereje ja dejeDe jebe tu de jebere\", \"role\": \"C\", \"player\": \"Bonaventura\", \"team\": \"Fiorentina\", \"opponent\": \"Roma\", \"date\": \"2022-05-09T00:00:00\", \"expected_bonus\": 0.5240814089775085}, {\"fanta_team\": \"AI sereje ja dejeDe jebe tu de jebere\", \"role\": \"C\", \"player\": \"Lukic\", \"team\": \"Torino\", \"opponent\": \"Napoli\", \"date\": \"2022-05-07T00:00:00\", \"expected_bonus\": 0.27234867215156555}, {\"fanta_team\": \"AI sereje ja dejeDe jebe tu de jebere\", \"role\": \"C\", \"player\": \"Svanberg\", \"team\": \"Bologna\", \"opponent\": \"Venezia\", \"date\": \"2022-05-08T00:00:00\", \"expected_bonus\": 0.23642189800739288}, {\"fanta_team\": \"AI sereje ja dejeDe jebe tu de jebere\", \"role\": \"C\", \"player\": \"Zakaria\", \"team\": \"Juventus\", \"opponent\": \"Genoa\", \"date\": \"2022-05-06T00:00:00\", \"expected_bonus\": 0.2012360692024231}, {\"fanta_team\": \"AI sereje ja dejeDe jebe tu de jebere\", \"role\": \"A\", \"player\": \"Vlahovic\", \"team\": \"Juventus\", \"opponent\": \"Genoa\", \"date\": \"2022-05-06T00:00:00\", \"expected_bonus\": 2.176927089691162}, {\"fanta_team\": \"AI sereje ja dejeDe jebe tu de jebere\", \"role\": \"A\", \"player\": \"Zapata\", \"team\": \"Atalanta\", \"opponent\": \"Spezia\", \"date\": \"2022-05-08T00:00:00\", \"expected_bonus\": 1.934037446975708}, {\"fanta_team\": \"AI sereje ja dejeDe jebe tu de jebere\", \"role\": \"A\", \"player\": \"Beto\", \"team\": \"Udinese\", \"opponent\": \"Sassuolo\", \"date\": \"2022-05-07T00:00:00\", \"expected_bonus\": 0.9864363670349121}, {\"fanta_team\": \"AI sereje ja dejeDe jebe tu de jebere\", \"role\": \"A\", \"player\": \"Lozano\", \"team\": \"Napoli\", \"opponent\": \"Torino\", \"date\": \"2022-05-07T00:00:00\", \"expected_bonus\": 0.826109766960144}, {\"fanta_team\": \"AI sereje ja dejeDe jebe tu de jebere\", \"role\": \"A\", \"player\": \"Destro\", \"team\": \"Genoa\", \"opponent\": \"Juventus\", \"date\": \"2022-05-06T00:00:00\", \"expected_bonus\": 0.7926911115646362}, {\"fanta_team\": \"AI sereje ja dejeDe jebe tu de jebere\", \"role\": \"A\", \"player\": \"Gyasi\", \"team\": \"Spezia\", \"opponent\": \"Atalanta\", \"date\": \"2022-05-08T00:00:00\", \"expected_bonus\": 0.31863921880722046}, {\"fanta_team\": \"AC Picchia\", \"role\": \"D\", \"player\": \"Calabria\", \"team\": \"AC Milan\", \"opponent\": \"Verona\", \"date\": \"2022-05-08T00:00:00\", \"expected_bonus\": 0.4810574948787689}, {\"fanta_team\": \"AC Picchia\", \"role\": \"D\", \"player\": \"Ligt\", \"team\": \"Juventus\", \"opponent\": \"Genoa\", \"date\": \"2022-05-06T00:00:00\", \"expected_bonus\": 0.27885696291923523}, {\"fanta_team\": \"AC Picchia\", \"role\": \"D\", \"player\": \"Florenzi\", \"team\": \"AC Milan\", \"opponent\": \"Verona\", \"date\": \"2022-05-08T00:00:00\", \"expected_bonus\": 0.26359039545059204}, {\"fanta_team\": \"AC Picchia\", \"role\": \"D\", \"player\": \"Odriozola\", \"team\": \"Fiorentina\", \"opponent\": \"Roma\", \"date\": \"2022-05-09T00:00:00\", \"expected_bonus\": 0.2176494002342224}, {\"fanta_team\": \"AC Picchia\", \"role\": \"D\", \"player\": \"Faraoni\", \"team\": \"Verona\", \"opponent\": \"AC Milan\", \"date\": \"2022-05-08T00:00:00\", \"expected_bonus\": 0.1722680926322937}, {\"fanta_team\": \"AC Picchia\", \"role\": \"D\", \"player\": \"Dalbert\", \"team\": \"Cagliari\", \"opponent\": \"Salernitana\", \"date\": \"2022-05-08T00:00:00\", \"expected_bonus\": 0.16880401968955994}, {\"fanta_team\": \"AC Picchia\", \"role\": \"D\", \"player\": \"Augello\", \"team\": \"Sampdoria\", \"opponent\": \"Lazio\", \"date\": \"2022-05-07T00:00:00\", \"expected_bonus\": 0.10404778271913528}, {\"fanta_team\": \"AC Picchia\", \"role\": \"D\", \"player\": \"Ansaldi\", \"team\": \"Torino\", \"opponent\": \"Napoli\", \"date\": \"2022-05-07T00:00:00\", \"expected_bonus\": 0.031933560967445374}, {\"fanta_team\": \"AC Picchia\", \"role\": \"C\", \"player\": \"Calhanoglu\", \"team\": \"Inter\", \"opponent\": \"Empoli\", \"date\": \"2022-05-06T00:00:00\", \"expected_bonus\": 1.1576895713806152}, {\"fanta_team\": \"AC Picchia\", \"role\": \"C\", \"player\": \"Malinovskiy\", \"team\": \"Atalanta\", \"opponent\": \"Spezia\", \"date\": \"2022-05-08T00:00:00\", \"expected_bonus\": 1.1475536823272705}, {\"fanta_team\": \"AC Picchia\", \"role\": \"C\", \"player\": \"Aramu\", \"team\": \"Venezia\", \"opponent\": \"Salernitana\", \"date\": \"2022-05-05T00:00:00\", \"expected_bonus\": 1.0236338376998901}, {\"fanta_team\": \"AC Picchia\", \"role\": \"C\", \"player\": \"Brozovic\", \"team\": \"Inter\", \"opponent\": \"Empoli\", \"date\": \"2022-05-06T00:00:00\", \"expected_bonus\": 0.3997683525085449}, {\"fanta_team\": \"AC Picchia\", \"role\": \"C\", \"player\": \"Orsolini\", \"team\": \"Bologna\", \"opponent\": \"Venezia\", \"date\": \"2022-05-08T00:00:00\", \"expected_bonus\": 0.39242997765541077}, {\"fanta_team\": \"AC Picchia\", \"role\": \"C\", \"player\": \"Thorsby\", \"team\": \"Sampdoria\", \"opponent\": \"Lazio\", \"date\": \"2022-05-07T00:00:00\", \"expected_bonus\": 0.2595382630825043}, {\"fanta_team\": \"AC Picchia\", \"role\": \"C\", \"player\": \"N\\u00e1ndez\", \"team\": \"Cagliari\", \"opponent\": \"Salernitana\", \"date\": \"2022-05-08T00:00:00\", \"expected_bonus\": 0.21661469340324402}, {\"fanta_team\": \"AC Picchia\", \"role\": \"C\", \"player\": \"Marin\", \"team\": \"Cagliari\", \"opponent\": \"Salernitana\", \"date\": \"2022-05-08T00:00:00\", \"expected_bonus\": 0.213577002286911}, {\"fanta_team\": \"AC Picchia\", \"role\": \"A\", \"player\": \"Muriel\", \"team\": \"Atalanta\", \"opponent\": \"Spezia\", \"date\": \"2022-05-08T00:00:00\", \"expected_bonus\": 1.5837644338607788}, {\"fanta_team\": \"AC Picchia\", \"role\": \"A\", \"player\": \"Henry\", \"team\": \"Venezia\", \"opponent\": \"Salernitana\", \"date\": \"2022-05-05T00:00:00\", \"expected_bonus\": 1.2085758447647095}, {\"fanta_team\": \"AC Picchia\", \"role\": \"A\", \"player\": \"Caputo\", \"team\": \"Sampdoria\", \"opponent\": \"Lazio\", \"date\": \"2022-05-07T00:00:00\", \"expected_bonus\": 1.0263981819152832}, {\"fanta_team\": \"AC Picchia\", \"role\": \"A\", \"player\": \"Giroud\", \"team\": \"AC Milan\", \"opponent\": \"Verona\", \"date\": \"2022-05-08T00:00:00\", \"expected_bonus\": 0.9943981170654297}, {\"fanta_team\": \"AC Picchia\", \"role\": \"A\", \"player\": \"Verde\", \"team\": \"Spezia\", \"opponent\": \"Atalanta\", \"date\": \"2022-05-08T00:00:00\", \"expected_bonus\": 0.34099382162094116}, {\"fanta_team\": \"AC Picchia\", \"role\": \"A\", \"player\": \"Cabral\", \"team\": \"Fiorentina\", \"opponent\": \"Roma\", \"date\": \"2022-05-09T00:00:00\", \"expected_bonus\": 0.13832499086856842}]}}, {\"actions\": false, \"mode\": \"vega-lite\"});\n</script>",
      "text/plain": "alt.Chart(...)"
     },
     "metadata": {}
    }
   ]
  },
  {
   "cell_type": "code",
   "metadata": {
    "cell_id": "c757b1dc-1791-4f8f-8d75-1e5fa62fa250",
    "tags": [],
    "deepnote_to_be_reexecuted": false,
    "source_hash": "ac51fc04",
    "execution_start": 1651640770839,
    "execution_millis": 1,
    "deepnote_cell_type": "code"
   },
   "source": "teams = sorted(list(predictions['fanta_team'].unique()))\nindex = 0",
   "execution_count": 5,
   "outputs": []
  },
  {
   "cell_type": "code",
   "metadata": {
    "cell_id": "661bb9dc-37c8-4f24-b69b-ca2aae9a3388",
    "tags": [],
    "deepnote_to_be_reexecuted": false,
    "source_hash": "3f500048",
    "execution_start": 1651640770840,
    "execution_millis": 1,
    "deepnote_cell_type": "code"
   },
   "source": "team, index = display_fanta_squad(predictions, teams, index)",
   "execution_count": 6,
   "outputs": []
  },
  {
   "cell_type": "code",
   "source": "_deepnote_run_altair(team, \"\"\"{\"$schema\":\"https://vega.github.io/schema/vega-lite/v4.json\",\"mark\":{\"type\":\"bar\",\"tooltip\":{\"content\":\"data\"}},\"height\":220,\"autosize\":{\"type\":\"fit\"},\"data\":{\"name\":\"placeholder\"},\"encoding\":{\"x\":{\"field\":\"expected_bonus\",\"type\":\"quantitative\",\"sort\":null,\"scale\":{\"type\":\"linear\",\"zero\":false}},\"y\":{\"field\":\"player\",\"type\":\"nominal\",\"sort\":null,\"scale\":{\"type\":\"linear\",\"zero\":true}},\"color\":{\"field\":\"role\",\"type\":\"nominal\",\"sort\":null,\"scale\":{\"type\":\"linear\",\"zero\":false}}}}\"\"\")",
   "metadata": {
    "cell_id": "2feea2e5-a58f-4290-9ed7-09ad345cef92",
    "deepnote_variable_name": "team",
    "deepnote_visualization_spec": {
     "$schema": "https://vega.github.io/schema/vega-lite/v4.json",
     "mark": {
      "type": "bar",
      "tooltip": {
       "content": "data"
      }
     },
     "height": 220,
     "autosize": {
      "type": "fit"
     },
     "data": {
      "name": "placeholder"
     },
     "encoding": {
      "x": {
       "field": "expected_bonus",
       "type": "quantitative",
       "sort": null,
       "scale": {
        "type": "linear",
        "zero": false
       }
      },
      "y": {
       "field": "player",
       "type": "nominal",
       "sort": null,
       "scale": {
        "type": "linear",
        "zero": true
       }
      },
      "color": {
       "field": "role",
       "type": "nominal",
       "sort": null,
       "scale": {
        "type": "linear",
        "zero": false
       }
      }
     }
    },
    "deepnote_to_be_reexecuted": false,
    "source_hash": "e68de25e",
    "execution_start": 1651640770883,
    "execution_millis": 174,
    "allow_embed": "output",
    "deepnote_cell_type": "visualization",
    "deepnote_output_heights": [
     314
    ]
   },
   "execution_count": 7,
   "outputs": [
    {
     "output_type": "execute_result",
     "execution_count": 7,
     "data": {
      "text/html": "\n<div id=\"altair-viz-eb6d5daefd0d4226a37cceaaaeb2f62d\"></div>\n<script type=\"text/javascript\">\n  (function(spec, embedOpt){\n    let outputDiv = document.currentScript.previousElementSibling;\n    if (outputDiv.id !== \"altair-viz-eb6d5daefd0d4226a37cceaaaeb2f62d\") {\n      outputDiv = document.getElementById(\"altair-viz-eb6d5daefd0d4226a37cceaaaeb2f62d\");\n    }\n    const paths = {\n      \"vega\": \"https://cdn.jsdelivr.net/npm//vega@5?noext\",\n      \"vega-lib\": \"https://cdn.jsdelivr.net/npm//vega-lib?noext\",\n      \"vega-lite\": \"https://cdn.jsdelivr.net/npm//vega-lite@4.8.1?noext\",\n      \"vega-embed\": \"https://cdn.jsdelivr.net/npm//vega-embed@6?noext\",\n    };\n\n    function loadScript(lib) {\n      return new Promise(function(resolve, reject) {\n        var s = document.createElement('script');\n        s.src = paths[lib];\n        s.async = true;\n        s.onload = () => resolve(paths[lib]);\n        s.onerror = () => reject(`Error loading script: ${paths[lib]}`);\n        document.getElementsByTagName(\"head\")[0].appendChild(s);\n      });\n    }\n\n    function showError(err) {\n      outputDiv.innerHTML = `<div class=\"error\" style=\"color:red;\">${err}</div>`;\n      throw err;\n    }\n\n    function displayChart(vegaEmbed) {\n      vegaEmbed(outputDiv, spec, embedOpt)\n        .catch(err => showError(`Javascript Error: ${err.message}<br>This usually means there's a typo in your chart specification. See the javascript console for the full traceback.`));\n    }\n\n    if(typeof define === \"function\" && define.amd) {\n      requirejs.config({paths});\n      require([\"vega-embed\"], displayChart, err => showError(`Error loading script: ${err.message}`));\n    } else if (typeof vegaEmbed === \"function\") {\n      displayChart(vegaEmbed);\n    } else {\n      loadScript(\"vega\")\n        .then(() => loadScript(\"vega-lite\"))\n        .then(() => loadScript(\"vega-embed\"))\n        .catch(showError)\n        .then(() => displayChart(vegaEmbed));\n    }\n  })({\"config\": {\"view\": {\"continuousWidth\": 400, \"continuousHeight\": 300}, \"area\": {\"fill\": \"#51C0E9\"}, \"axis\": {\"labelFont\": \"Inter, sans-serif\", \"labelFontSize\": 12, \"labelFontWeight\": \"normal\", \"labelLimit\": 60, \"labelOverlap\": \"greedy\", \"titleFont\": \"Inter, sans-serif\", \"titleFontSize\": 12, \"titleFontWeight\": \"bold\"}, \"background\": \"#ffffff\", \"legend\": {\"labelFont\": \"Inter, sans-serif\", \"labelFontSize\": 12, \"titleFont\": \"Inter, sans-serif\", \"titleFontSize\": 12, \"titleFontWeight\": \"bold\"}, \"line\": {\"stroke\": \"#51C0E9\", \"strokeWidth\": 2}, \"rect\": {\"fill\": \"#51C0E9\"}, \"title\": {\"anchor\": \"start\", \"color\": \"#000000\", \"font\": \"Inter, sans-serif\", \"fontSize\": 22, \"fontWeight\": \"normal\"}}, \"data\": {\"name\": \"data-cba2a3a24265ddb9534359304aabab96\"}, \"mark\": {\"type\": \"bar\", \"tooltip\": {\"content\": \"data\"}}, \"autosize\": {\"type\": \"fit\"}, \"encoding\": {\"color\": {\"type\": \"nominal\", \"field\": \"role\", \"scale\": {\"type\": \"linear\", \"zero\": false}, \"sort\": null}, \"x\": {\"type\": \"quantitative\", \"field\": \"expected_bonus\", \"scale\": {\"type\": \"linear\", \"zero\": false}, \"sort\": null}, \"y\": {\"type\": \"nominal\", \"field\": \"player\", \"scale\": {\"type\": \"linear\", \"zero\": true}, \"sort\": null}}, \"height\": 300, \"width\": \"container\", \"$schema\": \"https://vega.github.io/schema/vega-lite/v4.json\", \"datasets\": {\"data-cba2a3a24265ddb9534359304aabab96\": [{\"fanta_team\": \"AC Picchia\", \"role\": \"D\", \"player\": \"Calabria\", \"team\": \"AC Milan\", \"opponent\": \"Verona\", \"date\": \"2022-05-08T00:00:00\", \"expected_bonus\": 0.4810574948787689}, {\"fanta_team\": \"AC Picchia\", \"role\": \"D\", \"player\": \"Ligt\", \"team\": \"Juventus\", \"opponent\": \"Genoa\", \"date\": \"2022-05-06T00:00:00\", \"expected_bonus\": 0.27885696291923523}, {\"fanta_team\": \"AC Picchia\", \"role\": \"D\", \"player\": \"Florenzi\", \"team\": \"AC Milan\", \"opponent\": \"Verona\", \"date\": \"2022-05-08T00:00:00\", \"expected_bonus\": 0.26359039545059204}, {\"fanta_team\": \"AC Picchia\", \"role\": \"D\", \"player\": \"Odriozola\", \"team\": \"Fiorentina\", \"opponent\": \"Roma\", \"date\": \"2022-05-09T00:00:00\", \"expected_bonus\": 0.2176494002342224}, {\"fanta_team\": \"AC Picchia\", \"role\": \"D\", \"player\": \"Faraoni\", \"team\": \"Verona\", \"opponent\": \"AC Milan\", \"date\": \"2022-05-08T00:00:00\", \"expected_bonus\": 0.1722680926322937}, {\"fanta_team\": \"AC Picchia\", \"role\": \"D\", \"player\": \"Dalbert\", \"team\": \"Cagliari\", \"opponent\": \"Salernitana\", \"date\": \"2022-05-08T00:00:00\", \"expected_bonus\": 0.16880401968955994}, {\"fanta_team\": \"AC Picchia\", \"role\": \"D\", \"player\": \"Augello\", \"team\": \"Sampdoria\", \"opponent\": \"Lazio\", \"date\": \"2022-05-07T00:00:00\", \"expected_bonus\": 0.10404778271913528}, {\"fanta_team\": \"AC Picchia\", \"role\": \"D\", \"player\": \"Ansaldi\", \"team\": \"Torino\", \"opponent\": \"Napoli\", \"date\": \"2022-05-07T00:00:00\", \"expected_bonus\": 0.031933560967445374}, {\"fanta_team\": \"AC Picchia\", \"role\": \"C\", \"player\": \"Calhanoglu\", \"team\": \"Inter\", \"opponent\": \"Empoli\", \"date\": \"2022-05-06T00:00:00\", \"expected_bonus\": 1.1576895713806152}, {\"fanta_team\": \"AC Picchia\", \"role\": \"C\", \"player\": \"Malinovskiy\", \"team\": \"Atalanta\", \"opponent\": \"Spezia\", \"date\": \"2022-05-08T00:00:00\", \"expected_bonus\": 1.1475536823272705}, {\"fanta_team\": \"AC Picchia\", \"role\": \"C\", \"player\": \"Aramu\", \"team\": \"Venezia\", \"opponent\": \"Salernitana\", \"date\": \"2022-05-05T00:00:00\", \"expected_bonus\": 1.0236338376998901}, {\"fanta_team\": \"AC Picchia\", \"role\": \"C\", \"player\": \"Brozovic\", \"team\": \"Inter\", \"opponent\": \"Empoli\", \"date\": \"2022-05-06T00:00:00\", \"expected_bonus\": 0.3997683525085449}, {\"fanta_team\": \"AC Picchia\", \"role\": \"C\", \"player\": \"Orsolini\", \"team\": \"Bologna\", \"opponent\": \"Venezia\", \"date\": \"2022-05-08T00:00:00\", \"expected_bonus\": 0.39242997765541077}, {\"fanta_team\": \"AC Picchia\", \"role\": \"C\", \"player\": \"Thorsby\", \"team\": \"Sampdoria\", \"opponent\": \"Lazio\", \"date\": \"2022-05-07T00:00:00\", \"expected_bonus\": 0.2595382630825043}, {\"fanta_team\": \"AC Picchia\", \"role\": \"C\", \"player\": \"N\\u00e1ndez\", \"team\": \"Cagliari\", \"opponent\": \"Salernitana\", \"date\": \"2022-05-08T00:00:00\", \"expected_bonus\": 0.21661469340324402}, {\"fanta_team\": \"AC Picchia\", \"role\": \"C\", \"player\": \"Marin\", \"team\": \"Cagliari\", \"opponent\": \"Salernitana\", \"date\": \"2022-05-08T00:00:00\", \"expected_bonus\": 0.213577002286911}, {\"fanta_team\": \"AC Picchia\", \"role\": \"A\", \"player\": \"Muriel\", \"team\": \"Atalanta\", \"opponent\": \"Spezia\", \"date\": \"2022-05-08T00:00:00\", \"expected_bonus\": 1.5837644338607788}, {\"fanta_team\": \"AC Picchia\", \"role\": \"A\", \"player\": \"Henry\", \"team\": \"Venezia\", \"opponent\": \"Salernitana\", \"date\": \"2022-05-05T00:00:00\", \"expected_bonus\": 1.2085758447647095}, {\"fanta_team\": \"AC Picchia\", \"role\": \"A\", \"player\": \"Caputo\", \"team\": \"Sampdoria\", \"opponent\": \"Lazio\", \"date\": \"2022-05-07T00:00:00\", \"expected_bonus\": 1.0263981819152832}, {\"fanta_team\": \"AC Picchia\", \"role\": \"A\", \"player\": \"Giroud\", \"team\": \"AC Milan\", \"opponent\": \"Verona\", \"date\": \"2022-05-08T00:00:00\", \"expected_bonus\": 0.9943981170654297}, {\"fanta_team\": \"AC Picchia\", \"role\": \"A\", \"player\": \"Verde\", \"team\": \"Spezia\", \"opponent\": \"Atalanta\", \"date\": \"2022-05-08T00:00:00\", \"expected_bonus\": 0.34099382162094116}, {\"fanta_team\": \"AC Picchia\", \"role\": \"A\", \"player\": \"Cabral\", \"team\": \"Fiorentina\", \"opponent\": \"Roma\", \"date\": \"2022-05-09T00:00:00\", \"expected_bonus\": 0.13832499086856842}]}}, {\"actions\": false, \"mode\": \"vega-lite\"});\n</script>",
      "text/plain": "alt.Chart(...)"
     },
     "metadata": {}
    }
   ]
  },
  {
   "cell_type": "code",
   "metadata": {
    "cell_id": "403f1719-a05c-438b-ab10-6045be82f284",
    "tags": [],
    "deepnote_to_be_reexecuted": false,
    "source_hash": "3f500048",
    "execution_start": 1651640771056,
    "execution_millis": 0,
    "deepnote_cell_type": "code"
   },
   "source": "team, index = display_fanta_squad(predictions, teams, index)",
   "execution_count": 8,
   "outputs": []
  },
  {
   "cell_type": "code",
   "source": "_deepnote_run_altair(team, \"\"\"{\"$schema\":\"https://vega.github.io/schema/vega-lite/v4.json\",\"mark\":{\"type\":\"bar\",\"tooltip\":{\"content\":\"data\"}},\"height\":220,\"autosize\":{\"type\":\"fit\"},\"data\":{\"name\":\"placeholder\"},\"encoding\":{\"x\":{\"field\":\"expected_bonus\",\"type\":\"quantitative\",\"sort\":null,\"scale\":{\"type\":\"linear\",\"zero\":false}},\"y\":{\"field\":\"player\",\"type\":\"nominal\",\"sort\":null,\"scale\":{\"type\":\"linear\",\"zero\":true}},\"color\":{\"field\":\"role\",\"type\":\"nominal\",\"sort\":null,\"scale\":{\"type\":\"linear\",\"zero\":false}}}}\"\"\")",
   "metadata": {
    "cell_id": "4a208803-57f0-497b-a4ea-c00c86e43db9",
    "deepnote_variable_name": "team",
    "deepnote_visualization_spec": {
     "$schema": "https://vega.github.io/schema/vega-lite/v4.json",
     "mark": {
      "type": "bar",
      "tooltip": {
       "content": "data"
      }
     },
     "height": 220,
     "autosize": {
      "type": "fit"
     },
     "data": {
      "name": "placeholder"
     },
     "encoding": {
      "x": {
       "field": "expected_bonus",
       "type": "quantitative",
       "sort": null,
       "scale": {
        "type": "linear",
        "zero": false
       }
      },
      "y": {
       "field": "player",
       "type": "nominal",
       "sort": null,
       "scale": {
        "type": "linear",
        "zero": true
       }
      },
      "color": {
       "field": "role",
       "type": "nominal",
       "sort": null,
       "scale": {
        "type": "linear",
        "zero": false
       }
      }
     }
    },
    "deepnote_to_be_reexecuted": false,
    "source_hash": "e68de25e",
    "execution_start": 1651640771057,
    "execution_millis": 153,
    "allow_embed": "output",
    "deepnote_cell_type": "visualization",
    "deepnote_output_heights": [
     314
    ]
   },
   "execution_count": 9,
   "outputs": [
    {
     "output_type": "execute_result",
     "execution_count": 9,
     "data": {
      "text/html": "\n<div id=\"altair-viz-65d58a1d41ae4cf391e11a80ed334bc7\"></div>\n<script type=\"text/javascript\">\n  (function(spec, embedOpt){\n    let outputDiv = document.currentScript.previousElementSibling;\n    if (outputDiv.id !== \"altair-viz-65d58a1d41ae4cf391e11a80ed334bc7\") {\n      outputDiv = document.getElementById(\"altair-viz-65d58a1d41ae4cf391e11a80ed334bc7\");\n    }\n    const paths = {\n      \"vega\": \"https://cdn.jsdelivr.net/npm//vega@5?noext\",\n      \"vega-lib\": \"https://cdn.jsdelivr.net/npm//vega-lib?noext\",\n      \"vega-lite\": \"https://cdn.jsdelivr.net/npm//vega-lite@4.8.1?noext\",\n      \"vega-embed\": \"https://cdn.jsdelivr.net/npm//vega-embed@6?noext\",\n    };\n\n    function loadScript(lib) {\n      return new Promise(function(resolve, reject) {\n        var s = document.createElement('script');\n        s.src = paths[lib];\n        s.async = true;\n        s.onload = () => resolve(paths[lib]);\n        s.onerror = () => reject(`Error loading script: ${paths[lib]}`);\n        document.getElementsByTagName(\"head\")[0].appendChild(s);\n      });\n    }\n\n    function showError(err) {\n      outputDiv.innerHTML = `<div class=\"error\" style=\"color:red;\">${err}</div>`;\n      throw err;\n    }\n\n    function displayChart(vegaEmbed) {\n      vegaEmbed(outputDiv, spec, embedOpt)\n        .catch(err => showError(`Javascript Error: ${err.message}<br>This usually means there's a typo in your chart specification. See the javascript console for the full traceback.`));\n    }\n\n    if(typeof define === \"function\" && define.amd) {\n      requirejs.config({paths});\n      require([\"vega-embed\"], displayChart, err => showError(`Error loading script: ${err.message}`));\n    } else if (typeof vegaEmbed === \"function\") {\n      displayChart(vegaEmbed);\n    } else {\n      loadScript(\"vega\")\n        .then(() => loadScript(\"vega-lite\"))\n        .then(() => loadScript(\"vega-embed\"))\n        .catch(showError)\n        .then(() => displayChart(vegaEmbed));\n    }\n  })({\"config\": {\"view\": {\"continuousWidth\": 400, \"continuousHeight\": 300}, \"area\": {\"fill\": \"#51C0E9\"}, \"axis\": {\"labelFont\": \"Inter, sans-serif\", \"labelFontSize\": 12, \"labelFontWeight\": \"normal\", \"labelLimit\": 60, \"labelOverlap\": \"greedy\", \"titleFont\": \"Inter, sans-serif\", \"titleFontSize\": 12, \"titleFontWeight\": \"bold\"}, \"background\": \"#ffffff\", \"legend\": {\"labelFont\": \"Inter, sans-serif\", \"labelFontSize\": 12, \"titleFont\": \"Inter, sans-serif\", \"titleFontSize\": 12, \"titleFontWeight\": \"bold\"}, \"line\": {\"stroke\": \"#51C0E9\", \"strokeWidth\": 2}, \"rect\": {\"fill\": \"#51C0E9\"}, \"title\": {\"anchor\": \"start\", \"color\": \"#000000\", \"font\": \"Inter, sans-serif\", \"fontSize\": 22, \"fontWeight\": \"normal\"}}, \"data\": {\"name\": \"data-1541c95b5908f77ca2febfeff6c99a15\"}, \"mark\": {\"type\": \"bar\", \"tooltip\": {\"content\": \"data\"}}, \"autosize\": {\"type\": \"fit\"}, \"encoding\": {\"color\": {\"type\": \"nominal\", \"field\": \"role\", \"scale\": {\"type\": \"linear\", \"zero\": false}, \"sort\": null}, \"x\": {\"type\": \"quantitative\", \"field\": \"expected_bonus\", \"scale\": {\"type\": \"linear\", \"zero\": false}, \"sort\": null}, \"y\": {\"type\": \"nominal\", \"field\": \"player\", \"scale\": {\"type\": \"linear\", \"zero\": true}, \"sort\": null}}, \"height\": 300, \"width\": \"container\", \"$schema\": \"https://vega.github.io/schema/vega-lite/v4.json\", \"datasets\": {\"data-1541c95b5908f77ca2febfeff6c99a15\": [{\"fanta_team\": \"AI sereje ja dejeDe jebe tu de jebere\", \"role\": \"D\", \"player\": \"Skriniar\", \"team\": \"Inter\", \"opponent\": \"Empoli\", \"date\": \"2022-05-06T00:00:00\", \"expected_bonus\": 0.4284757971763611}, {\"fanta_team\": \"AI sereje ja dejeDe jebe tu de jebere\", \"role\": \"D\", \"player\": \"Darmian\", \"team\": \"Inter\", \"opponent\": \"Empoli\", \"date\": \"2022-05-06T00:00:00\", \"expected_bonus\": 0.3974030017852783}, {\"fanta_team\": \"AI sereje ja dejeDe jebe tu de jebere\", \"role\": \"D\", \"player\": \"Acerbi\", \"team\": \"Lazio\", \"opponent\": \"Sampdoria\", \"date\": \"2022-05-07T00:00:00\", \"expected_bonus\": 0.3016499876976013}, {\"fanta_team\": \"AI sereje ja dejeDe jebe tu de jebere\", \"role\": \"D\", \"player\": \"Hateboer\", \"team\": \"Atalanta\", \"opponent\": \"Spezia\", \"date\": \"2022-05-08T00:00:00\", \"expected_bonus\": 0.26028504967689514}, {\"fanta_team\": \"AI sereje ja dejeDe jebe tu de jebere\", \"role\": \"D\", \"player\": \"Rrahmani\", \"team\": \"Napoli\", \"opponent\": \"Torino\", \"date\": \"2022-05-07T00:00:00\", \"expected_bonus\": 0.21868635714054108}, {\"fanta_team\": \"AI sereje ja dejeDe jebe tu de jebere\", \"role\": \"D\", \"player\": \"Tuanzebe\", \"team\": \"Napoli\", \"opponent\": \"Torino\", \"date\": \"2022-05-07T00:00:00\", \"expected_bonus\": 0.10033636540174484}, {\"fanta_team\": \"AI sereje ja dejeDe jebe tu de jebere\", \"role\": \"D\", \"player\": \"Yoshida\", \"team\": \"Sampdoria\", \"opponent\": \"Lazio\", \"date\": \"2022-05-07T00:00:00\", \"expected_bonus\": 0.08064699918031693}, {\"fanta_team\": \"AI sereje ja dejeDe jebe tu de jebere\", \"role\": \"C\", \"player\": \"Bajrami\", \"team\": \"Empoli\", \"opponent\": \"Inter\", \"date\": \"2022-05-06T00:00:00\", \"expected_bonus\": 0.7737714052200317}, {\"fanta_team\": \"AI sereje ja dejeDe jebe tu de jebere\", \"role\": \"C\", \"player\": \"Djuricic\", \"team\": \"Sassuolo\", \"opponent\": \"Udinese\", \"date\": \"2022-05-07T00:00:00\", \"expected_bonus\": 0.7536483407020569}, {\"fanta_team\": \"AI sereje ja dejeDe jebe tu de jebere\", \"role\": \"C\", \"player\": \"Candreva\", \"team\": \"Sampdoria\", \"opponent\": \"Lazio\", \"date\": \"2022-05-07T00:00:00\", \"expected_bonus\": 0.654094398021698}, {\"fanta_team\": \"AI sereje ja dejeDe jebe tu de jebere\", \"role\": \"C\", \"player\": \"Bonaventura\", \"team\": \"Fiorentina\", \"opponent\": \"Roma\", \"date\": \"2022-05-09T00:00:00\", \"expected_bonus\": 0.5240814089775085}, {\"fanta_team\": \"AI sereje ja dejeDe jebe tu de jebere\", \"role\": \"C\", \"player\": \"Lukic\", \"team\": \"Torino\", \"opponent\": \"Napoli\", \"date\": \"2022-05-07T00:00:00\", \"expected_bonus\": 0.27234867215156555}, {\"fanta_team\": \"AI sereje ja dejeDe jebe tu de jebere\", \"role\": \"C\", \"player\": \"Svanberg\", \"team\": \"Bologna\", \"opponent\": \"Venezia\", \"date\": \"2022-05-08T00:00:00\", \"expected_bonus\": 0.23642189800739288}, {\"fanta_team\": \"AI sereje ja dejeDe jebe tu de jebere\", \"role\": \"C\", \"player\": \"Zakaria\", \"team\": \"Juventus\", \"opponent\": \"Genoa\", \"date\": \"2022-05-06T00:00:00\", \"expected_bonus\": 0.2012360692024231}, {\"fanta_team\": \"AI sereje ja dejeDe jebe tu de jebere\", \"role\": \"A\", \"player\": \"Vlahovic\", \"team\": \"Juventus\", \"opponent\": \"Genoa\", \"date\": \"2022-05-06T00:00:00\", \"expected_bonus\": 2.176927089691162}, {\"fanta_team\": \"AI sereje ja dejeDe jebe tu de jebere\", \"role\": \"A\", \"player\": \"Zapata\", \"team\": \"Atalanta\", \"opponent\": \"Spezia\", \"date\": \"2022-05-08T00:00:00\", \"expected_bonus\": 1.934037446975708}, {\"fanta_team\": \"AI sereje ja dejeDe jebe tu de jebere\", \"role\": \"A\", \"player\": \"Beto\", \"team\": \"Udinese\", \"opponent\": \"Sassuolo\", \"date\": \"2022-05-07T00:00:00\", \"expected_bonus\": 0.9864363670349121}, {\"fanta_team\": \"AI sereje ja dejeDe jebe tu de jebere\", \"role\": \"A\", \"player\": \"Lozano\", \"team\": \"Napoli\", \"opponent\": \"Torino\", \"date\": \"2022-05-07T00:00:00\", \"expected_bonus\": 0.826109766960144}, {\"fanta_team\": \"AI sereje ja dejeDe jebe tu de jebere\", \"role\": \"A\", \"player\": \"Destro\", \"team\": \"Genoa\", \"opponent\": \"Juventus\", \"date\": \"2022-05-06T00:00:00\", \"expected_bonus\": 0.7926911115646362}, {\"fanta_team\": \"AI sereje ja dejeDe jebe tu de jebere\", \"role\": \"A\", \"player\": \"Gyasi\", \"team\": \"Spezia\", \"opponent\": \"Atalanta\", \"date\": \"2022-05-08T00:00:00\", \"expected_bonus\": 0.31863921880722046}]}}, {\"actions\": false, \"mode\": \"vega-lite\"});\n</script>",
      "text/plain": "alt.Chart(...)"
     },
     "metadata": {}
    }
   ]
  },
  {
   "cell_type": "code",
   "metadata": {
    "cell_id": "2e687bc2-7527-4205-938c-991162872c2c",
    "tags": [],
    "deepnote_to_be_reexecuted": false,
    "source_hash": "3f500048",
    "execution_start": 1651640771208,
    "execution_millis": 1,
    "deepnote_cell_type": "code"
   },
   "source": "team, index = display_fanta_squad(predictions, teams, index)",
   "execution_count": 10,
   "outputs": []
  },
  {
   "cell_type": "code",
   "source": "_deepnote_run_altair(team, \"\"\"{\"$schema\":\"https://vega.github.io/schema/vega-lite/v4.json\",\"mark\":{\"type\":\"bar\",\"tooltip\":{\"content\":\"data\"}},\"height\":220,\"autosize\":{\"type\":\"fit\"},\"data\":{\"name\":\"placeholder\"},\"encoding\":{\"x\":{\"field\":\"expected_bonus\",\"type\":\"quantitative\",\"sort\":null,\"scale\":{\"type\":\"linear\",\"zero\":false}},\"y\":{\"field\":\"player\",\"type\":\"nominal\",\"sort\":null,\"scale\":{\"type\":\"linear\",\"zero\":true}},\"color\":{\"field\":\"role\",\"type\":\"nominal\",\"sort\":null,\"scale\":{\"type\":\"linear\",\"zero\":false}}}}\"\"\")",
   "metadata": {
    "cell_id": "f2a82479-5e7d-4027-8358-566cecfd00e7",
    "deepnote_variable_name": "team",
    "deepnote_visualization_spec": {
     "$schema": "https://vega.github.io/schema/vega-lite/v4.json",
     "mark": {
      "type": "bar",
      "tooltip": {
       "content": "data"
      }
     },
     "height": 220,
     "autosize": {
      "type": "fit"
     },
     "data": {
      "name": "placeholder"
     },
     "encoding": {
      "x": {
       "field": "expected_bonus",
       "type": "quantitative",
       "sort": null,
       "scale": {
        "type": "linear",
        "zero": false
       }
      },
      "y": {
       "field": "player",
       "type": "nominal",
       "sort": null,
       "scale": {
        "type": "linear",
        "zero": true
       }
      },
      "color": {
       "field": "role",
       "type": "nominal",
       "sort": null,
       "scale": {
        "type": "linear",
        "zero": false
       }
      }
     }
    },
    "deepnote_to_be_reexecuted": false,
    "source_hash": "e68de25e",
    "execution_start": 1651640771209,
    "execution_millis": 154,
    "allow_embed": "output",
    "deepnote_cell_type": "visualization",
    "deepnote_output_heights": [
     314
    ]
   },
   "execution_count": 11,
   "outputs": [
    {
     "output_type": "execute_result",
     "execution_count": 11,
     "data": {
      "text/html": "\n<div id=\"altair-viz-5e249daf8e2641b28bab6a8c13f82ab7\"></div>\n<script type=\"text/javascript\">\n  (function(spec, embedOpt){\n    let outputDiv = document.currentScript.previousElementSibling;\n    if (outputDiv.id !== \"altair-viz-5e249daf8e2641b28bab6a8c13f82ab7\") {\n      outputDiv = document.getElementById(\"altair-viz-5e249daf8e2641b28bab6a8c13f82ab7\");\n    }\n    const paths = {\n      \"vega\": \"https://cdn.jsdelivr.net/npm//vega@5?noext\",\n      \"vega-lib\": \"https://cdn.jsdelivr.net/npm//vega-lib?noext\",\n      \"vega-lite\": \"https://cdn.jsdelivr.net/npm//vega-lite@4.8.1?noext\",\n      \"vega-embed\": \"https://cdn.jsdelivr.net/npm//vega-embed@6?noext\",\n    };\n\n    function loadScript(lib) {\n      return new Promise(function(resolve, reject) {\n        var s = document.createElement('script');\n        s.src = paths[lib];\n        s.async = true;\n        s.onload = () => resolve(paths[lib]);\n        s.onerror = () => reject(`Error loading script: ${paths[lib]}`);\n        document.getElementsByTagName(\"head\")[0].appendChild(s);\n      });\n    }\n\n    function showError(err) {\n      outputDiv.innerHTML = `<div class=\"error\" style=\"color:red;\">${err}</div>`;\n      throw err;\n    }\n\n    function displayChart(vegaEmbed) {\n      vegaEmbed(outputDiv, spec, embedOpt)\n        .catch(err => showError(`Javascript Error: ${err.message}<br>This usually means there's a typo in your chart specification. See the javascript console for the full traceback.`));\n    }\n\n    if(typeof define === \"function\" && define.amd) {\n      requirejs.config({paths});\n      require([\"vega-embed\"], displayChart, err => showError(`Error loading script: ${err.message}`));\n    } else if (typeof vegaEmbed === \"function\") {\n      displayChart(vegaEmbed);\n    } else {\n      loadScript(\"vega\")\n        .then(() => loadScript(\"vega-lite\"))\n        .then(() => loadScript(\"vega-embed\"))\n        .catch(showError)\n        .then(() => displayChart(vegaEmbed));\n    }\n  })({\"config\": {\"view\": {\"continuousWidth\": 400, \"continuousHeight\": 300}, \"area\": {\"fill\": \"#51C0E9\"}, \"axis\": {\"labelFont\": \"Inter, sans-serif\", \"labelFontSize\": 12, \"labelFontWeight\": \"normal\", \"labelLimit\": 60, \"labelOverlap\": \"greedy\", \"titleFont\": \"Inter, sans-serif\", \"titleFontSize\": 12, \"titleFontWeight\": \"bold\"}, \"background\": \"#ffffff\", \"legend\": {\"labelFont\": \"Inter, sans-serif\", \"labelFontSize\": 12, \"titleFont\": \"Inter, sans-serif\", \"titleFontSize\": 12, \"titleFontWeight\": \"bold\"}, \"line\": {\"stroke\": \"#51C0E9\", \"strokeWidth\": 2}, \"rect\": {\"fill\": \"#51C0E9\"}, \"title\": {\"anchor\": \"start\", \"color\": \"#000000\", \"font\": \"Inter, sans-serif\", \"fontSize\": 22, \"fontWeight\": \"normal\"}}, \"data\": {\"name\": \"data-44ee8e8de2eb195ef2dd3983573ba1a0\"}, \"mark\": {\"type\": \"bar\", \"tooltip\": {\"content\": \"data\"}}, \"autosize\": {\"type\": \"fit\"}, \"encoding\": {\"color\": {\"type\": \"nominal\", \"field\": \"role\", \"scale\": {\"type\": \"linear\", \"zero\": false}, \"sort\": null}, \"x\": {\"type\": \"quantitative\", \"field\": \"expected_bonus\", \"scale\": {\"type\": \"linear\", \"zero\": false}, \"sort\": null}, \"y\": {\"type\": \"nominal\", \"field\": \"player\", \"scale\": {\"type\": \"linear\", \"zero\": true}, \"sort\": null}}, \"height\": 300, \"width\": \"container\", \"$schema\": \"https://vega.github.io/schema/vega-lite/v4.json\", \"datasets\": {\"data-44ee8e8de2eb195ef2dd3983573ba1a0\": [{\"fanta_team\": \"Beverly INPS\", \"role\": \"D\", \"player\": \"Dimarco\", \"team\": \"Inter\", \"opponent\": \"Empoli\", \"date\": \"2022-05-06T00:00:00\", \"expected_bonus\": 0.8655251860618591}, {\"fanta_team\": \"Beverly INPS\", \"role\": \"D\", \"player\": \"Cuadrado\", \"team\": \"Juventus\", \"opponent\": \"Genoa\", \"date\": \"2022-05-06T00:00:00\", \"expected_bonus\": 0.36704981327056885}, {\"fanta_team\": \"Beverly INPS\", \"role\": \"D\", \"player\": \"Bastoni\", \"team\": \"Inter\", \"opponent\": \"Empoli\", \"date\": \"2022-05-06T00:00:00\", \"expected_bonus\": 0.34243708848953247}, {\"fanta_team\": \"Beverly INPS\", \"role\": \"D\", \"player\": \"Lorenzo\", \"team\": \"Napoli\", \"opponent\": \"Torino\", \"date\": \"2022-05-07T00:00:00\", \"expected_bonus\": 0.1806364357471466}, {\"fanta_team\": \"Beverly INPS\", \"role\": \"D\", \"player\": \"Romagnoli\", \"team\": \"AC Milan\", \"opponent\": \"Verona\", \"date\": \"2022-05-08T00:00:00\", \"expected_bonus\": 0.12631171941757202}, {\"fanta_team\": \"Beverly INPS\", \"role\": \"D\", \"player\": \"Cambiaso\", \"team\": \"Genoa\", \"opponent\": \"Juventus\", \"date\": \"2022-05-06T00:00:00\", \"expected_bonus\": 0.1248505488038063}, {\"fanta_team\": \"Beverly INPS\", \"role\": \"D\", \"player\": \"Nuytinck\", \"team\": \"Udinese\", \"opponent\": \"Sassuolo\", \"date\": \"2022-05-07T00:00:00\", \"expected_bonus\": 0.053073253482580185}, {\"fanta_team\": \"Beverly INPS\", \"role\": \"C\", \"player\": \"Barak\", \"team\": \"Verona\", \"opponent\": \"AC Milan\", \"date\": \"2022-05-08T00:00:00\", \"expected_bonus\": 0.6941074728965759}, {\"fanta_team\": \"Beverly INPS\", \"role\": \"C\", \"player\": \"Zielinski\", \"team\": \"Napoli\", \"opponent\": \"Torino\", \"date\": \"2022-05-07T00:00:00\", \"expected_bonus\": 0.6802282929420471}, {\"fanta_team\": \"Beverly INPS\", \"role\": \"C\", \"player\": \"Alberto\", \"team\": \"Lazio\", \"opponent\": \"Sampdoria\", \"date\": \"2022-05-07T00:00:00\", \"expected_bonus\": 0.629007875919342}, {\"fanta_team\": \"Beverly INPS\", \"role\": \"C\", \"player\": \"Praet\", \"team\": \"Torino\", \"opponent\": \"Napoli\", \"date\": \"2022-05-07T00:00:00\", \"expected_bonus\": 0.5567072629928589}, {\"fanta_team\": \"Beverly INPS\", \"role\": \"C\", \"player\": \"Kessi\\u00e9\", \"team\": \"AC Milan\", \"opponent\": \"Verona\", \"date\": \"2022-05-08T00:00:00\", \"expected_bonus\": 0.4640722870826721}, {\"fanta_team\": \"Beverly INPS\", \"role\": \"C\", \"player\": \"Veretout\", \"team\": \"Roma\", \"opponent\": \"Fiorentina\", \"date\": \"2022-05-09T00:00:00\", \"expected_bonus\": 0.40430495142936707}, {\"fanta_team\": \"Beverly INPS\", \"role\": \"C\", \"player\": \"Elmas\", \"team\": \"Napoli\", \"opponent\": \"Torino\", \"date\": \"2022-05-07T00:00:00\", \"expected_bonus\": 0.18307965993881226}, {\"fanta_team\": \"Beverly INPS\", \"role\": \"A\", \"player\": \"Mart\\u00ednez\", \"team\": \"Inter\", \"opponent\": \"Empoli\", \"date\": \"2022-05-06T00:00:00\", \"expected_bonus\": 2.320385694503784}, {\"fanta_team\": \"Beverly INPS\", \"role\": \"A\", \"player\": \"Berardi\", \"team\": \"Sassuolo\", \"opponent\": \"Udinese\", \"date\": \"2022-05-07T00:00:00\", \"expected_bonus\": 1.492501139640808}, {\"fanta_team\": \"Beverly INPS\", \"role\": \"A\", \"player\": \"Deulofeu\", \"team\": \"Udinese\", \"opponent\": \"Sassuolo\", \"date\": \"2022-05-07T00:00:00\", \"expected_bonus\": 1.002729892730713}, {\"fanta_team\": \"Beverly INPS\", \"role\": \"A\", \"player\": \"Barrow\", \"team\": \"Bologna\", \"opponent\": \"Venezia\", \"date\": \"2022-05-08T00:00:00\", \"expected_bonus\": 0.9851235747337341}, {\"fanta_team\": \"Beverly INPS\", \"role\": \"A\", \"player\": \"Mertens\", \"team\": \"Napoli\", \"opponent\": \"Torino\", \"date\": \"2022-05-07T00:00:00\", \"expected_bonus\": 0.9807102084159851}, {\"fanta_team\": \"Beverly INPS\", \"role\": \"A\", \"player\": \"Gonz\\u00e1lez\", \"team\": \"Fiorentina\", \"opponent\": \"Roma\", \"date\": \"2022-05-09T00:00:00\", \"expected_bonus\": 0.7610799074172974}]}}, {\"actions\": false, \"mode\": \"vega-lite\"});\n</script>",
      "text/plain": "alt.Chart(...)"
     },
     "metadata": {}
    }
   ]
  },
  {
   "cell_type": "code",
   "metadata": {
    "cell_id": "916c19f8-a9c2-4762-8c8c-98800652248f",
    "tags": [],
    "deepnote_to_be_reexecuted": false,
    "source_hash": "3f500048",
    "execution_start": 1651640771371,
    "execution_millis": 604832063,
    "deepnote_cell_type": "code"
   },
   "source": "team, index = display_fanta_squad(predictions, teams, index)",
   "execution_count": 12,
   "outputs": []
  },
  {
   "cell_type": "code",
   "source": "_deepnote_run_altair(team, \"\"\"{\"$schema\":\"https://vega.github.io/schema/vega-lite/v4.json\",\"mark\":{\"type\":\"bar\",\"tooltip\":{\"content\":\"data\"}},\"height\":220,\"autosize\":{\"type\":\"fit\"},\"data\":{\"name\":\"placeholder\"},\"encoding\":{\"x\":{\"field\":\"expected_bonus\",\"type\":\"quantitative\",\"sort\":null,\"scale\":{\"type\":\"linear\",\"zero\":false}},\"y\":{\"field\":\"player\",\"type\":\"nominal\",\"sort\":null,\"scale\":{\"type\":\"linear\",\"zero\":true}},\"color\":{\"field\":\"role\",\"type\":\"nominal\",\"sort\":null,\"scale\":{\"type\":\"linear\",\"zero\":false}}}}\"\"\")",
   "metadata": {
    "cell_id": "25c33c88-5e5c-405a-a0c8-3800930b7e22",
    "deepnote_variable_name": "team",
    "deepnote_visualization_spec": {
     "$schema": "https://vega.github.io/schema/vega-lite/v4.json",
     "mark": {
      "type": "bar",
      "tooltip": {
       "content": "data"
      }
     },
     "height": 220,
     "autosize": {
      "type": "fit"
     },
     "data": {
      "name": "placeholder"
     },
     "encoding": {
      "x": {
       "field": "expected_bonus",
       "type": "quantitative",
       "sort": null,
       "scale": {
        "type": "linear",
        "zero": false
       }
      },
      "y": {
       "field": "player",
       "type": "nominal",
       "sort": null,
       "scale": {
        "type": "linear",
        "zero": true
       }
      },
      "color": {
       "field": "role",
       "type": "nominal",
       "sort": null,
       "scale": {
        "type": "linear",
        "zero": false
       }
      }
     }
    },
    "deepnote_to_be_reexecuted": false,
    "source_hash": "e68de25e",
    "execution_start": 1651640771384,
    "execution_millis": 163,
    "allow_embed": true,
    "deepnote_cell_type": "visualization",
    "deepnote_output_heights": [
     314
    ]
   },
   "execution_count": 13,
   "outputs": [
    {
     "output_type": "execute_result",
     "execution_count": 13,
     "data": {
      "text/html": "\n<div id=\"altair-viz-8926a102b67c48068cd4e5032b4a2f58\"></div>\n<script type=\"text/javascript\">\n  (function(spec, embedOpt){\n    let outputDiv = document.currentScript.previousElementSibling;\n    if (outputDiv.id !== \"altair-viz-8926a102b67c48068cd4e5032b4a2f58\") {\n      outputDiv = document.getElementById(\"altair-viz-8926a102b67c48068cd4e5032b4a2f58\");\n    }\n    const paths = {\n      \"vega\": \"https://cdn.jsdelivr.net/npm//vega@5?noext\",\n      \"vega-lib\": \"https://cdn.jsdelivr.net/npm//vega-lib?noext\",\n      \"vega-lite\": \"https://cdn.jsdelivr.net/npm//vega-lite@4.8.1?noext\",\n      \"vega-embed\": \"https://cdn.jsdelivr.net/npm//vega-embed@6?noext\",\n    };\n\n    function loadScript(lib) {\n      return new Promise(function(resolve, reject) {\n        var s = document.createElement('script');\n        s.src = paths[lib];\n        s.async = true;\n        s.onload = () => resolve(paths[lib]);\n        s.onerror = () => reject(`Error loading script: ${paths[lib]}`);\n        document.getElementsByTagName(\"head\")[0].appendChild(s);\n      });\n    }\n\n    function showError(err) {\n      outputDiv.innerHTML = `<div class=\"error\" style=\"color:red;\">${err}</div>`;\n      throw err;\n    }\n\n    function displayChart(vegaEmbed) {\n      vegaEmbed(outputDiv, spec, embedOpt)\n        .catch(err => showError(`Javascript Error: ${err.message}<br>This usually means there's a typo in your chart specification. See the javascript console for the full traceback.`));\n    }\n\n    if(typeof define === \"function\" && define.amd) {\n      requirejs.config({paths});\n      require([\"vega-embed\"], displayChart, err => showError(`Error loading script: ${err.message}`));\n    } else if (typeof vegaEmbed === \"function\") {\n      displayChart(vegaEmbed);\n    } else {\n      loadScript(\"vega\")\n        .then(() => loadScript(\"vega-lite\"))\n        .then(() => loadScript(\"vega-embed\"))\n        .catch(showError)\n        .then(() => displayChart(vegaEmbed));\n    }\n  })({\"config\": {\"view\": {\"continuousWidth\": 400, \"continuousHeight\": 300}, \"area\": {\"fill\": \"#51C0E9\"}, \"axis\": {\"labelFont\": \"Inter, sans-serif\", \"labelFontSize\": 12, \"labelFontWeight\": \"normal\", \"labelLimit\": 60, \"labelOverlap\": \"greedy\", \"titleFont\": \"Inter, sans-serif\", \"titleFontSize\": 12, \"titleFontWeight\": \"bold\"}, \"background\": \"#ffffff\", \"legend\": {\"labelFont\": \"Inter, sans-serif\", \"labelFontSize\": 12, \"titleFont\": \"Inter, sans-serif\", \"titleFontSize\": 12, \"titleFontWeight\": \"bold\"}, \"line\": {\"stroke\": \"#51C0E9\", \"strokeWidth\": 2}, \"rect\": {\"fill\": \"#51C0E9\"}, \"title\": {\"anchor\": \"start\", \"color\": \"#000000\", \"font\": \"Inter, sans-serif\", \"fontSize\": 22, \"fontWeight\": \"normal\"}}, \"data\": {\"name\": \"data-4bc360792a5c9861dfeefdb83eebf222\"}, \"mark\": {\"type\": \"bar\", \"tooltip\": {\"content\": \"data\"}}, \"autosize\": {\"type\": \"fit\"}, \"encoding\": {\"color\": {\"type\": \"nominal\", \"field\": \"role\", \"scale\": {\"type\": \"linear\", \"zero\": false}, \"sort\": null}, \"x\": {\"type\": \"quantitative\", \"field\": \"expected_bonus\", \"scale\": {\"type\": \"linear\", \"zero\": false}, \"sort\": null}, \"y\": {\"type\": \"nominal\", \"field\": \"player\", \"scale\": {\"type\": \"linear\", \"zero\": true}, \"sort\": null}}, \"height\": 300, \"width\": \"container\", \"$schema\": \"https://vega.github.io/schema/vega-lite/v4.json\", \"datasets\": {\"data-4bc360792a5c9861dfeefdb83eebf222\": [{\"fanta_team\": \"MEZAFE\", \"role\": \"D\", \"player\": \"Zappacosta\", \"team\": \"Atalanta\", \"opponent\": \"Spezia\", \"date\": \"2022-05-08T00:00:00\", \"expected_bonus\": 0.543720006942749}, {\"fanta_team\": \"MEZAFE\", \"role\": \"D\", \"player\": \"Criscito\", \"team\": \"Genoa\", \"opponent\": \"Juventus\", \"date\": \"2022-05-06T00:00:00\", \"expected_bonus\": 0.45289865136146545}, {\"fanta_team\": \"MEZAFE\", \"role\": \"D\", \"player\": \"Bonucci\", \"team\": \"Juventus\", \"opponent\": \"Genoa\", \"date\": \"2022-05-06T00:00:00\", \"expected_bonus\": 0.4205527901649475}, {\"fanta_team\": \"MEZAFE\", \"role\": \"D\", \"player\": \"Vrij\", \"team\": \"Inter\", \"opponent\": \"Empoli\", \"date\": \"2022-05-06T00:00:00\", \"expected_bonus\": 0.3231252431869507}, {\"fanta_team\": \"MEZAFE\", \"role\": \"D\", \"player\": \"Danilo\", \"team\": \"Juventus\", \"opponent\": \"Genoa\", \"date\": \"2022-05-06T00:00:00\", \"expected_bonus\": 0.2585093080997467}, {\"fanta_team\": \"MEZAFE\", \"role\": \"D\", \"player\": \"Silvestri\", \"team\": \"Bologna\", \"opponent\": \"Venezia\", \"date\": \"2022-05-08T00:00:00\", \"expected_bonus\": 0.22731998562812805}, {\"fanta_team\": \"MEZAFE\", \"role\": \"D\", \"player\": \"Chiellini\", \"team\": \"Juventus\", \"opponent\": \"Genoa\", \"date\": \"2022-05-06T00:00:00\", \"expected_bonus\": 0.18756423890590668}, {\"fanta_team\": \"MEZAFE\", \"role\": \"D\", \"player\": \"Mancini\", \"team\": \"Roma\", \"opponent\": \"Fiorentina\", \"date\": \"2022-05-09T00:00:00\", \"expected_bonus\": 0.13912737369537354}, {\"fanta_team\": \"MEZAFE\", \"role\": \"C\", \"player\": \"Verdi\", \"team\": \"Salernitana\", \"opponent\": \"Venezia\", \"date\": \"2022-05-05T00:00:00\", \"expected_bonus\": 0.8892148733139038}, {\"fanta_team\": \"MEZAFE\", \"role\": \"C\", \"player\": \"Pasalic\", \"team\": \"Atalanta\", \"opponent\": \"Spezia\", \"date\": \"2022-05-08T00:00:00\", \"expected_bonus\": 0.8587695956230164}, {\"fanta_team\": \"MEZAFE\", \"role\": \"C\", \"player\": \"Perisic\", \"team\": \"Inter\", \"opponent\": \"Empoli\", \"date\": \"2022-05-06T00:00:00\", \"expected_bonus\": 0.5494380593299866}, {\"fanta_team\": \"MEZAFE\", \"role\": \"C\", \"player\": \"Saelemaekers\", \"team\": \"AC Milan\", \"opponent\": \"Verona\", \"date\": \"2022-05-08T00:00:00\", \"expected_bonus\": 0.5405886173248291}, {\"fanta_team\": \"MEZAFE\", \"role\": \"C\", \"player\": \"McKennie\", \"team\": \"Juventus\", \"opponent\": \"Genoa\", \"date\": \"2022-05-06T00:00:00\", \"expected_bonus\": 0.44246891140937805}, {\"fanta_team\": \"MEZAFE\", \"role\": \"C\", \"player\": \"Lazovic\", \"team\": \"Verona\", \"opponent\": \"AC Milan\", \"date\": \"2022-05-08T00:00:00\", \"expected_bonus\": 0.2621760666370392}, {\"fanta_team\": \"MEZAFE\", \"role\": \"C\", \"player\": \"Tonali\", \"team\": \"AC Milan\", \"opponent\": \"Verona\", \"date\": \"2022-05-08T00:00:00\", \"expected_bonus\": 0.23614071309566498}, {\"fanta_team\": \"MEZAFE\", \"role\": \"C\", \"player\": \"Castrovilli\", \"team\": \"Fiorentina\", \"opponent\": \"Roma\", \"date\": \"2022-05-09T00:00:00\", \"expected_bonus\": 0.1836472451686859}, {\"fanta_team\": \"MEZAFE\", \"role\": \"A\", \"player\": \"Dybala\", \"team\": \"Juventus\", \"opponent\": \"Genoa\", \"date\": \"2022-05-06T00:00:00\", \"expected_bonus\": 1.7378089427947998}, {\"fanta_team\": \"MEZAFE\", \"role\": \"A\", \"player\": \"Piatek\", \"team\": \"Fiorentina\", \"opponent\": \"Roma\", \"date\": \"2022-05-09T00:00:00\", \"expected_bonus\": 1.1398905515670776}, {\"fanta_team\": \"MEZAFE\", \"role\": \"A\", \"player\": \"Simeone\", \"team\": \"Verona\", \"opponent\": \"AC Milan\", \"date\": \"2022-05-08T00:00:00\", \"expected_bonus\": 0.9923667907714844}, {\"fanta_team\": \"MEZAFE\", \"role\": \"A\", \"player\": \"Quagliarella\", \"team\": \"Sampdoria\", \"opponent\": \"Lazio\", \"date\": \"2022-05-07T00:00:00\", \"expected_bonus\": 0.940694272518158}, {\"fanta_team\": \"MEZAFE\", \"role\": \"A\", \"player\": \"Sanabria\", \"team\": \"Torino\", \"opponent\": \"Napoli\", \"date\": \"2022-05-07T00:00:00\", \"expected_bonus\": 0.8815584182739258}, {\"fanta_team\": \"MEZAFE\", \"role\": \"A\", \"player\": \"Rebic\", \"team\": \"AC Milan\", \"opponent\": \"Verona\", \"date\": \"2022-05-08T00:00:00\", \"expected_bonus\": 0.2669099271297455}]}}, {\"actions\": false, \"mode\": \"vega-lite\"});\n</script>",
      "text/plain": "alt.Chart(...)"
     },
     "metadata": {}
    }
   ]
  },
  {
   "cell_type": "code",
   "metadata": {
    "cell_id": "276bd398-b660-4090-92fd-fb77fc80292b",
    "tags": [],
    "deepnote_to_be_reexecuted": false,
    "source_hash": "3f500048",
    "execution_start": 1651640771583,
    "execution_millis": 604832200,
    "deepnote_cell_type": "code"
   },
   "source": "team, index = display_fanta_squad(predictions, teams, index)",
   "execution_count": 14,
   "outputs": []
  },
  {
   "cell_type": "code",
   "source": "_deepnote_run_altair(team, \"\"\"{\"$schema\":\"https://vega.github.io/schema/vega-lite/v4.json\",\"mark\":{\"type\":\"bar\",\"tooltip\":{\"content\":\"data\"}},\"height\":220,\"autosize\":{\"type\":\"fit\"},\"data\":{\"name\":\"placeholder\"},\"encoding\":{\"x\":{\"field\":\"expected_bonus\",\"type\":\"quantitative\",\"sort\":null,\"scale\":{\"type\":\"linear\",\"zero\":false}},\"y\":{\"field\":\"player\",\"type\":\"nominal\",\"sort\":null,\"scale\":{\"type\":\"linear\",\"zero\":true}},\"color\":{\"field\":\"role\",\"type\":\"nominal\",\"sort\":null,\"scale\":{\"type\":\"linear\",\"zero\":false}}}}\"\"\")",
   "metadata": {
    "cell_id": "81adbb4a-773d-4067-8e05-9a828af1216c",
    "deepnote_variable_name": "team",
    "deepnote_visualization_spec": {
     "$schema": "https://vega.github.io/schema/vega-lite/v4.json",
     "mark": {
      "type": "bar",
      "tooltip": {
       "content": "data"
      }
     },
     "height": 220,
     "autosize": {
      "type": "fit"
     },
     "data": {
      "name": "placeholder"
     },
     "encoding": {
      "x": {
       "field": "expected_bonus",
       "type": "quantitative",
       "sort": null,
       "scale": {
        "type": "linear",
        "zero": false
       }
      },
      "y": {
       "field": "player",
       "type": "nominal",
       "sort": null,
       "scale": {
        "type": "linear",
        "zero": true
       }
      },
      "color": {
       "field": "role",
       "type": "nominal",
       "sort": null,
       "scale": {
        "type": "linear",
        "zero": false
       }
      }
     }
    },
    "deepnote_to_be_reexecuted": false,
    "source_hash": "e68de25e",
    "execution_start": 1651640771634,
    "execution_millis": 236,
    "allow_embed": "output",
    "deepnote_cell_type": "visualization",
    "deepnote_output_heights": [
     314
    ]
   },
   "execution_count": 15,
   "outputs": [
    {
     "output_type": "execute_result",
     "execution_count": 15,
     "data": {
      "text/html": "\n<div id=\"altair-viz-14fbe3b8484f498c9077f9f049209b56\"></div>\n<script type=\"text/javascript\">\n  (function(spec, embedOpt){\n    let outputDiv = document.currentScript.previousElementSibling;\n    if (outputDiv.id !== \"altair-viz-14fbe3b8484f498c9077f9f049209b56\") {\n      outputDiv = document.getElementById(\"altair-viz-14fbe3b8484f498c9077f9f049209b56\");\n    }\n    const paths = {\n      \"vega\": \"https://cdn.jsdelivr.net/npm//vega@5?noext\",\n      \"vega-lib\": \"https://cdn.jsdelivr.net/npm//vega-lib?noext\",\n      \"vega-lite\": \"https://cdn.jsdelivr.net/npm//vega-lite@4.8.1?noext\",\n      \"vega-embed\": \"https://cdn.jsdelivr.net/npm//vega-embed@6?noext\",\n    };\n\n    function loadScript(lib) {\n      return new Promise(function(resolve, reject) {\n        var s = document.createElement('script');\n        s.src = paths[lib];\n        s.async = true;\n        s.onload = () => resolve(paths[lib]);\n        s.onerror = () => reject(`Error loading script: ${paths[lib]}`);\n        document.getElementsByTagName(\"head\")[0].appendChild(s);\n      });\n    }\n\n    function showError(err) {\n      outputDiv.innerHTML = `<div class=\"error\" style=\"color:red;\">${err}</div>`;\n      throw err;\n    }\n\n    function displayChart(vegaEmbed) {\n      vegaEmbed(outputDiv, spec, embedOpt)\n        .catch(err => showError(`Javascript Error: ${err.message}<br>This usually means there's a typo in your chart specification. See the javascript console for the full traceback.`));\n    }\n\n    if(typeof define === \"function\" && define.amd) {\n      requirejs.config({paths});\n      require([\"vega-embed\"], displayChart, err => showError(`Error loading script: ${err.message}`));\n    } else if (typeof vegaEmbed === \"function\") {\n      displayChart(vegaEmbed);\n    } else {\n      loadScript(\"vega\")\n        .then(() => loadScript(\"vega-lite\"))\n        .then(() => loadScript(\"vega-embed\"))\n        .catch(showError)\n        .then(() => displayChart(vegaEmbed));\n    }\n  })({\"config\": {\"view\": {\"continuousWidth\": 400, \"continuousHeight\": 300}, \"area\": {\"fill\": \"#51C0E9\"}, \"axis\": {\"labelFont\": \"Inter, sans-serif\", \"labelFontSize\": 12, \"labelFontWeight\": \"normal\", \"labelLimit\": 60, \"labelOverlap\": \"greedy\", \"titleFont\": \"Inter, sans-serif\", \"titleFontSize\": 12, \"titleFontWeight\": \"bold\"}, \"background\": \"#ffffff\", \"legend\": {\"labelFont\": \"Inter, sans-serif\", \"labelFontSize\": 12, \"titleFont\": \"Inter, sans-serif\", \"titleFontSize\": 12, \"titleFontWeight\": \"bold\"}, \"line\": {\"stroke\": \"#51C0E9\", \"strokeWidth\": 2}, \"rect\": {\"fill\": \"#51C0E9\"}, \"title\": {\"anchor\": \"start\", \"color\": \"#000000\", \"font\": \"Inter, sans-serif\", \"fontSize\": 22, \"fontWeight\": \"normal\"}}, \"data\": {\"name\": \"data-5d8e99cb76deabd38157695e680380c5\"}, \"mark\": {\"type\": \"bar\", \"tooltip\": {\"content\": \"data\"}}, \"autosize\": {\"type\": \"fit\"}, \"encoding\": {\"color\": {\"type\": \"nominal\", \"field\": \"role\", \"scale\": {\"type\": \"linear\", \"zero\": false}, \"sort\": null}, \"x\": {\"type\": \"quantitative\", \"field\": \"expected_bonus\", \"scale\": {\"type\": \"linear\", \"zero\": false}, \"sort\": null}, \"y\": {\"type\": \"nominal\", \"field\": \"player\", \"scale\": {\"type\": \"linear\", \"zero\": true}, \"sort\": null}}, \"height\": 300, \"width\": \"container\", \"$schema\": \"https://vega.github.io/schema/vega-lite/v4.json\", \"datasets\": {\"data-5d8e99cb76deabd38157695e680380c5\": [{\"fanta_team\": \"MaiNa Joya_v2.0\", \"role\": \"D\", \"player\": \"Gosens\", \"team\": \"Inter\", \"opponent\": \"Empoli\", \"date\": \"2022-05-06T00:00:00\", \"expected_bonus\": 0.8308190703392029}, {\"fanta_team\": \"MaiNa Joya_v2.0\", \"role\": \"D\", \"player\": \"Hern\\u00e1ndez\", \"team\": \"AC Milan\", \"opponent\": \"Verona\", \"date\": \"2022-05-08T00:00:00\", \"expected_bonus\": 0.4748273193836212}, {\"fanta_team\": \"MaiNa Joya_v2.0\", \"role\": \"D\", \"player\": \"Ferrari\", \"team\": \"Sassuolo\", \"opponent\": \"Udinese\", \"date\": \"2022-05-07T00:00:00\", \"expected_bonus\": 0.2598477303981781}, {\"fanta_team\": \"MaiNa Joya_v2.0\", \"role\": \"D\", \"player\": \"Toloi\", \"team\": \"Atalanta\", \"opponent\": \"Spezia\", \"date\": \"2022-05-08T00:00:00\", \"expected_bonus\": 0.23675282299518585}, {\"fanta_team\": \"MaiNa Joya_v2.0\", \"role\": \"D\", \"player\": \"Milenkovic\", \"team\": \"Fiorentina\", \"opponent\": \"Roma\", \"date\": \"2022-05-09T00:00:00\", \"expected_bonus\": 0.2051338255405426}, {\"fanta_team\": \"MaiNa Joya_v2.0\", \"role\": \"D\", \"player\": \"Molina\", \"team\": \"Udinese\", \"opponent\": \"Sassuolo\", \"date\": \"2022-05-07T00:00:00\", \"expected_bonus\": 0.19521965086460114}, {\"fanta_team\": \"MaiNa Joya_v2.0\", \"role\": \"D\", \"player\": \"Stojanovic\", \"team\": \"Empoli\", \"opponent\": \"Inter\", \"date\": \"2022-05-06T00:00:00\", \"expected_bonus\": 0.06374181061983109}, {\"fanta_team\": \"MaiNa Joya_v2.0\", \"role\": \"C\", \"player\": \"Milinkovic-Savic\", \"team\": \"Lazio\", \"opponent\": \"Sampdoria\", \"date\": \"2022-05-07T00:00:00\", \"expected_bonus\": 0.963215708732605}, {\"fanta_team\": \"MaiNa Joya_v2.0\", \"role\": \"C\", \"player\": \"Barella\", \"team\": \"Inter\", \"opponent\": \"Empoli\", \"date\": \"2022-05-06T00:00:00\", \"expected_bonus\": 0.9554330110549927}, {\"fanta_team\": \"MaiNa Joya_v2.0\", \"role\": \"C\", \"player\": \"Pobega\", \"team\": \"Torino\", \"opponent\": \"Napoli\", \"date\": \"2022-05-07T00:00:00\", \"expected_bonus\": 0.5423755645751953}, {\"fanta_team\": \"MaiNa Joya_v2.0\", \"role\": \"C\", \"player\": \"Bernardeschi\", \"team\": \"Juventus\", \"opponent\": \"Genoa\", \"date\": \"2022-05-06T00:00:00\", \"expected_bonus\": 0.38645973801612854}, {\"fanta_team\": \"MaiNa Joya_v2.0\", \"role\": \"C\", \"player\": \"Soriano\", \"team\": \"Bologna\", \"opponent\": \"Venezia\", \"date\": \"2022-05-08T00:00:00\", \"expected_bonus\": 0.34931620955467224}, {\"fanta_team\": \"MaiNa Joya_v2.0\", \"role\": \"C\", \"player\": \"Locatelli\", \"team\": \"Juventus\", \"opponent\": \"Genoa\", \"date\": \"2022-05-06T00:00:00\", \"expected_bonus\": 0.2991563081741333}, {\"fanta_team\": \"MaiNa Joya_v2.0\", \"role\": \"C\", \"player\": \"Sensi\", \"team\": \"Sampdoria\", \"opponent\": \"Lazio\", \"date\": \"2022-05-07T00:00:00\", \"expected_bonus\": -0.013224020600318909}, {\"fanta_team\": \"MaiNa Joya_v2.0\", \"role\": \"A\", \"player\": \"Abraham\", \"team\": \"Roma\", \"opponent\": \"Fiorentina\", \"date\": \"2022-05-09T00:00:00\", \"expected_bonus\": 1.4604268074035645}, {\"fanta_team\": \"MaiNa Joya_v2.0\", \"role\": \"A\", \"player\": \"Morata\", \"team\": \"Juventus\", \"opponent\": \"Genoa\", \"date\": \"2022-05-06T00:00:00\", \"expected_bonus\": 1.1638308763504028}, {\"fanta_team\": \"MaiNa Joya_v2.0\", \"role\": \"A\", \"player\": \"Insigne\", \"team\": \"Napoli\", \"opponent\": \"Torino\", \"date\": \"2022-05-07T00:00:00\", \"expected_bonus\": 1.0842407941818237}, {\"fanta_team\": \"MaiNa Joya_v2.0\", \"role\": \"A\", \"player\": \"Arnautovic\", \"team\": \"Bologna\", \"opponent\": \"Venezia\", \"date\": \"2022-05-08T00:00:00\", \"expected_bonus\": 1.067312240600586}, {\"fanta_team\": \"MaiNa Joya_v2.0\", \"role\": \"A\", \"player\": \"Boga\", \"team\": \"Atalanta\", \"opponent\": \"Spezia\", \"date\": \"2022-05-08T00:00:00\", \"expected_bonus\": 0.9397444128990173}, {\"fanta_team\": \"MaiNa Joya_v2.0\", \"role\": \"A\", \"player\": \"Brekalo\", \"team\": \"Torino\", \"opponent\": \"Napoli\", \"date\": \"2022-05-07T00:00:00\", \"expected_bonus\": 0.8942422270774841}]}}, {\"actions\": false, \"mode\": \"vega-lite\"});\n</script>",
      "text/plain": "alt.Chart(...)"
     },
     "metadata": {}
    }
   ]
  },
  {
   "cell_type": "code",
   "metadata": {
    "cell_id": "93a5bb8d-d964-4fc6-b796-3c672a8d7c5d",
    "tags": [],
    "deepnote_to_be_reexecuted": false,
    "source_hash": "3f500048",
    "execution_start": 1651640771867,
    "execution_millis": 1,
    "deepnote_cell_type": "code"
   },
   "source": "team, index = display_fanta_squad(predictions, teams, index)",
   "execution_count": 16,
   "outputs": []
  },
  {
   "cell_type": "code",
   "source": "_deepnote_run_altair(team, \"\"\"{\"$schema\":\"https://vega.github.io/schema/vega-lite/v4.json\",\"mark\":{\"type\":\"bar\",\"tooltip\":{\"content\":\"data\"}},\"height\":220,\"autosize\":{\"type\":\"fit\"},\"data\":{\"name\":\"placeholder\"},\"encoding\":{\"x\":{\"field\":\"expected_bonus\",\"type\":\"quantitative\",\"sort\":null,\"scale\":{\"type\":\"linear\",\"zero\":false}},\"y\":{\"field\":\"player\",\"type\":\"nominal\",\"sort\":null,\"scale\":{\"type\":\"linear\",\"zero\":true}},\"color\":{\"field\":\"role\",\"type\":\"nominal\",\"sort\":null,\"scale\":{\"type\":\"linear\",\"zero\":false}}}}\"\"\")",
   "metadata": {
    "cell_id": "db709fde-6755-4bf6-9963-b66a19b9805d",
    "deepnote_variable_name": "team",
    "deepnote_visualization_spec": {
     "$schema": "https://vega.github.io/schema/vega-lite/v4.json",
     "mark": {
      "type": "bar",
      "tooltip": {
       "content": "data"
      }
     },
     "height": 220,
     "autosize": {
      "type": "fit"
     },
     "data": {
      "name": "placeholder"
     },
     "encoding": {
      "x": {
       "field": "expected_bonus",
       "type": "quantitative",
       "sort": null,
       "scale": {
        "type": "linear",
        "zero": false
       }
      },
      "y": {
       "field": "player",
       "type": "nominal",
       "sort": null,
       "scale": {
        "type": "linear",
        "zero": true
       }
      },
      "color": {
       "field": "role",
       "type": "nominal",
       "sort": null,
       "scale": {
        "type": "linear",
        "zero": false
       }
      }
     }
    },
    "deepnote_to_be_reexecuted": false,
    "source_hash": "e68de25e",
    "execution_start": 1651640771868,
    "execution_millis": 188,
    "allow_embed": "output",
    "deepnote_cell_type": "visualization",
    "deepnote_output_heights": [
     314
    ]
   },
   "execution_count": 17,
   "outputs": [
    {
     "output_type": "execute_result",
     "execution_count": 17,
     "data": {
      "text/html": "\n<div id=\"altair-viz-92342a0088694d558bfa63201b8286c1\"></div>\n<script type=\"text/javascript\">\n  (function(spec, embedOpt){\n    let outputDiv = document.currentScript.previousElementSibling;\n    if (outputDiv.id !== \"altair-viz-92342a0088694d558bfa63201b8286c1\") {\n      outputDiv = document.getElementById(\"altair-viz-92342a0088694d558bfa63201b8286c1\");\n    }\n    const paths = {\n      \"vega\": \"https://cdn.jsdelivr.net/npm//vega@5?noext\",\n      \"vega-lib\": \"https://cdn.jsdelivr.net/npm//vega-lib?noext\",\n      \"vega-lite\": \"https://cdn.jsdelivr.net/npm//vega-lite@4.8.1?noext\",\n      \"vega-embed\": \"https://cdn.jsdelivr.net/npm//vega-embed@6?noext\",\n    };\n\n    function loadScript(lib) {\n      return new Promise(function(resolve, reject) {\n        var s = document.createElement('script');\n        s.src = paths[lib];\n        s.async = true;\n        s.onload = () => resolve(paths[lib]);\n        s.onerror = () => reject(`Error loading script: ${paths[lib]}`);\n        document.getElementsByTagName(\"head\")[0].appendChild(s);\n      });\n    }\n\n    function showError(err) {\n      outputDiv.innerHTML = `<div class=\"error\" style=\"color:red;\">${err}</div>`;\n      throw err;\n    }\n\n    function displayChart(vegaEmbed) {\n      vegaEmbed(outputDiv, spec, embedOpt)\n        .catch(err => showError(`Javascript Error: ${err.message}<br>This usually means there's a typo in your chart specification. See the javascript console for the full traceback.`));\n    }\n\n    if(typeof define === \"function\" && define.amd) {\n      requirejs.config({paths});\n      require([\"vega-embed\"], displayChart, err => showError(`Error loading script: ${err.message}`));\n    } else if (typeof vegaEmbed === \"function\") {\n      displayChart(vegaEmbed);\n    } else {\n      loadScript(\"vega\")\n        .then(() => loadScript(\"vega-lite\"))\n        .then(() => loadScript(\"vega-embed\"))\n        .catch(showError)\n        .then(() => displayChart(vegaEmbed));\n    }\n  })({\"config\": {\"view\": {\"continuousWidth\": 400, \"continuousHeight\": 300}, \"area\": {\"fill\": \"#51C0E9\"}, \"axis\": {\"labelFont\": \"Inter, sans-serif\", \"labelFontSize\": 12, \"labelFontWeight\": \"normal\", \"labelLimit\": 60, \"labelOverlap\": \"greedy\", \"titleFont\": \"Inter, sans-serif\", \"titleFontSize\": 12, \"titleFontWeight\": \"bold\"}, \"background\": \"#ffffff\", \"legend\": {\"labelFont\": \"Inter, sans-serif\", \"labelFontSize\": 12, \"titleFont\": \"Inter, sans-serif\", \"titleFontSize\": 12, \"titleFontWeight\": \"bold\"}, \"line\": {\"stroke\": \"#51C0E9\", \"strokeWidth\": 2}, \"rect\": {\"fill\": \"#51C0E9\"}, \"title\": {\"anchor\": \"start\", \"color\": \"#000000\", \"font\": \"Inter, sans-serif\", \"fontSize\": 22, \"fontWeight\": \"normal\"}}, \"data\": {\"name\": \"data-000b232e50948e684803958ea8a0c71b\"}, \"mark\": {\"type\": \"bar\", \"tooltip\": {\"content\": \"data\"}}, \"autosize\": {\"type\": \"fit\"}, \"encoding\": {\"color\": {\"type\": \"nominal\", \"field\": \"role\", \"scale\": {\"type\": \"linear\", \"zero\": false}, \"sort\": null}, \"x\": {\"type\": \"quantitative\", \"field\": \"expected_bonus\", \"scale\": {\"type\": \"linear\", \"zero\": false}, \"sort\": null}, \"y\": {\"type\": \"nominal\", \"field\": \"player\", \"scale\": {\"type\": \"linear\", \"zero\": true}, \"sort\": null}}, \"height\": 300, \"width\": \"container\", \"$schema\": \"https://vega.github.io/schema/vega-lite/v4.json\", \"datasets\": {\"data-000b232e50948e684803958ea8a0c71b\": [{\"fanta_team\": \"Rione Monti\", \"role\": \"D\", \"player\": \"Maehle\", \"team\": \"Atalanta\", \"opponent\": \"Spezia\", \"date\": \"2022-05-08T00:00:00\", \"expected_bonus\": 0.40146273374557495}, {\"fanta_team\": \"Rione Monti\", \"role\": \"D\", \"player\": \"Bremer\", \"team\": \"Torino\", \"opponent\": \"Napoli\", \"date\": \"2022-05-07T00:00:00\", \"expected_bonus\": 0.33811768889427185}, {\"fanta_team\": \"Rione Monti\", \"role\": \"D\", \"player\": \"Biraghi\", \"team\": \"Fiorentina\", \"opponent\": \"Roma\", \"date\": \"2022-05-09T00:00:00\", \"expected_bonus\": 0.32941681146621704}, {\"fanta_team\": \"Rione Monti\", \"role\": \"D\", \"player\": \"Lazzari\", \"team\": \"Lazio\", \"opponent\": \"Sampdoria\", \"date\": \"2022-05-07T00:00:00\", \"expected_bonus\": 0.28879424929618835}, {\"fanta_team\": \"Rione Monti\", \"role\": \"D\", \"player\": \"Singo\", \"team\": \"Torino\", \"opponent\": \"Napoli\", \"date\": \"2022-05-07T00:00:00\", \"expected_bonus\": 0.271075040102005}, {\"fanta_team\": \"Rione Monti\", \"role\": \"D\", \"player\": \"Pezzella\", \"team\": \"Atalanta\", \"opponent\": \"Spezia\", \"date\": \"2022-05-08T00:00:00\", \"expected_bonus\": 0.2030767798423767}, {\"fanta_team\": \"Rione Monti\", \"role\": \"D\", \"player\": \"Bastoni\", \"team\": \"Spezia\", \"opponent\": \"Atalanta\", \"date\": \"2022-05-08T00:00:00\", \"expected_bonus\": 0.1156344786286354}, {\"fanta_team\": \"Rione Monti\", \"role\": \"D\", \"player\": \"Maitland-Niles\", \"team\": \"Roma\", \"opponent\": \"Fiorentina\", \"date\": \"2022-05-09T00:00:00\", \"expected_bonus\": -0.018191853538155556}, {\"fanta_team\": \"Rione Monti\", \"role\": \"C\", \"player\": \"Anderson\", \"team\": \"Lazio\", \"opponent\": \"Sampdoria\", \"date\": \"2022-05-07T00:00:00\", \"expected_bonus\": 0.6794837117195129}, {\"fanta_team\": \"Rione Monti\", \"role\": \"C\", \"player\": \"Pellegrini\", \"team\": \"Roma\", \"opponent\": \"Fiorentina\", \"date\": \"2022-05-09T00:00:00\", \"expected_bonus\": 0.6468411087989807}, {\"fanta_team\": \"Rione Monti\", \"role\": \"C\", \"player\": \"Zaniolo\", \"team\": \"Roma\", \"opponent\": \"Fiorentina\", \"date\": \"2022-05-09T00:00:00\", \"expected_bonus\": 0.6286372542381287}, {\"fanta_team\": \"Rione Monti\", \"role\": \"C\", \"player\": \"Frattesi\", \"team\": \"Sassuolo\", \"opponent\": \"Udinese\", \"date\": \"2022-05-07T00:00:00\", \"expected_bonus\": 0.613411009311676}, {\"fanta_team\": \"Rione Monti\", \"role\": \"C\", \"player\": \"Henderson\", \"team\": \"Empoli\", \"opponent\": \"Inter\", \"date\": \"2022-05-06T00:00:00\", \"expected_bonus\": 0.26773834228515625}, {\"fanta_team\": \"Rione Monti\", \"role\": \"C\", \"player\": \"Tameze\", \"team\": \"Verona\", \"opponent\": \"AC Milan\", \"date\": \"2022-05-08T00:00:00\", \"expected_bonus\": 0.036951713263988495}, {\"fanta_team\": \"Rione Monti\", \"role\": \"A\", \"player\": \"Dzeko\", \"team\": \"Inter\", \"opponent\": \"Empoli\", \"date\": \"2022-05-06T00:00:00\", \"expected_bonus\": 2.1392829418182373}, {\"fanta_team\": \"Rione Monti\", \"role\": \"A\", \"player\": \"Ibrahimovic\", \"team\": \"AC Milan\", \"opponent\": \"Verona\", \"date\": \"2022-05-08T00:00:00\", \"expected_bonus\": 1.3188881874084473}, {\"fanta_team\": \"Rione Monti\", \"role\": \"A\", \"player\": \"Pinamonti\", \"team\": \"Empoli\", \"opponent\": \"Inter\", \"date\": \"2022-05-06T00:00:00\", \"expected_bonus\": 1.0824627876281738}, {\"fanta_team\": \"Rione Monti\", \"role\": \"A\", \"player\": \"Raspadori\", \"team\": \"Sassuolo\", \"opponent\": \"Udinese\", \"date\": \"2022-05-07T00:00:00\", \"expected_bonus\": 1.016717553138733}, {\"fanta_team\": \"Rione Monti\", \"role\": \"A\", \"player\": \"Pedro\", \"team\": \"Lazio\", \"opponent\": \"Sampdoria\", \"date\": \"2022-05-07T00:00:00\", \"expected_bonus\": 1.0008759498596191}, {\"fanta_team\": \"Rione Monti\", \"role\": \"A\", \"player\": \"Afena-Gyan\", \"team\": \"Roma\", \"opponent\": \"Fiorentina\", \"date\": \"2022-05-09T00:00:00\", \"expected_bonus\": 0.47235921025276184}]}}, {\"actions\": false, \"mode\": \"vega-lite\"});\n</script>",
      "text/plain": "alt.Chart(...)"
     },
     "metadata": {}
    }
   ]
  },
  {
   "cell_type": "code",
   "metadata": {
    "cell_id": "b4a0c2ea-9f90-4449-a274-c7c2f6a98238",
    "tags": [],
    "deepnote_to_be_reexecuted": false,
    "source_hash": "3f500048",
    "execution_start": 1651640772115,
    "execution_millis": 0,
    "deepnote_cell_type": "code"
   },
   "source": "team, index = display_fanta_squad(predictions, teams, index)",
   "execution_count": 18,
   "outputs": []
  },
  {
   "cell_type": "code",
   "source": "_deepnote_run_altair(team, \"\"\"{\"$schema\":\"https://vega.github.io/schema/vega-lite/v4.json\",\"mark\":{\"type\":\"bar\",\"tooltip\":{\"content\":\"data\"}},\"height\":220,\"autosize\":{\"type\":\"fit\"},\"data\":{\"name\":\"placeholder\"},\"encoding\":{\"x\":{\"field\":\"expected_bonus\",\"type\":\"quantitative\",\"sort\":null,\"scale\":{\"type\":\"linear\",\"zero\":false}},\"y\":{\"field\":\"player\",\"type\":\"nominal\",\"sort\":null,\"scale\":{\"type\":\"linear\",\"zero\":true}},\"color\":{\"field\":\"role\",\"type\":\"nominal\",\"sort\":null,\"scale\":{\"type\":\"linear\",\"zero\":false}}}}\"\"\")",
   "metadata": {
    "cell_id": "136e77e4-8edb-42d6-b134-ceefae4f53ce",
    "deepnote_variable_name": "team",
    "deepnote_visualization_spec": {
     "$schema": "https://vega.github.io/schema/vega-lite/v4.json",
     "mark": {
      "type": "bar",
      "tooltip": {
       "content": "data"
      }
     },
     "height": 220,
     "autosize": {
      "type": "fit"
     },
     "data": {
      "name": "placeholder"
     },
     "encoding": {
      "x": {
       "field": "expected_bonus",
       "type": "quantitative",
       "sort": null,
       "scale": {
        "type": "linear",
        "zero": false
       }
      },
      "y": {
       "field": "player",
       "type": "nominal",
       "sort": null,
       "scale": {
        "type": "linear",
        "zero": true
       }
      },
      "color": {
       "field": "role",
       "type": "nominal",
       "sort": null,
       "scale": {
        "type": "linear",
        "zero": false
       }
      }
     }
    },
    "deepnote_to_be_reexecuted": false,
    "source_hash": "e68de25e",
    "execution_start": 1651640772115,
    "execution_millis": 235,
    "allow_embed": "output",
    "deepnote_cell_type": "visualization",
    "deepnote_output_heights": [
     314
    ]
   },
   "execution_count": 19,
   "outputs": [
    {
     "output_type": "execute_result",
     "execution_count": 19,
     "data": {
      "text/html": "\n<div id=\"altair-viz-a0ca5a7efa4e423dbfecc4ca9386a58d\"></div>\n<script type=\"text/javascript\">\n  (function(spec, embedOpt){\n    let outputDiv = document.currentScript.previousElementSibling;\n    if (outputDiv.id !== \"altair-viz-a0ca5a7efa4e423dbfecc4ca9386a58d\") {\n      outputDiv = document.getElementById(\"altair-viz-a0ca5a7efa4e423dbfecc4ca9386a58d\");\n    }\n    const paths = {\n      \"vega\": \"https://cdn.jsdelivr.net/npm//vega@5?noext\",\n      \"vega-lib\": \"https://cdn.jsdelivr.net/npm//vega-lib?noext\",\n      \"vega-lite\": \"https://cdn.jsdelivr.net/npm//vega-lite@4.8.1?noext\",\n      \"vega-embed\": \"https://cdn.jsdelivr.net/npm//vega-embed@6?noext\",\n    };\n\n    function loadScript(lib) {\n      return new Promise(function(resolve, reject) {\n        var s = document.createElement('script');\n        s.src = paths[lib];\n        s.async = true;\n        s.onload = () => resolve(paths[lib]);\n        s.onerror = () => reject(`Error loading script: ${paths[lib]}`);\n        document.getElementsByTagName(\"head\")[0].appendChild(s);\n      });\n    }\n\n    function showError(err) {\n      outputDiv.innerHTML = `<div class=\"error\" style=\"color:red;\">${err}</div>`;\n      throw err;\n    }\n\n    function displayChart(vegaEmbed) {\n      vegaEmbed(outputDiv, spec, embedOpt)\n        .catch(err => showError(`Javascript Error: ${err.message}<br>This usually means there's a typo in your chart specification. See the javascript console for the full traceback.`));\n    }\n\n    if(typeof define === \"function\" && define.amd) {\n      requirejs.config({paths});\n      require([\"vega-embed\"], displayChart, err => showError(`Error loading script: ${err.message}`));\n    } else if (typeof vegaEmbed === \"function\") {\n      displayChart(vegaEmbed);\n    } else {\n      loadScript(\"vega\")\n        .then(() => loadScript(\"vega-lite\"))\n        .then(() => loadScript(\"vega-embed\"))\n        .catch(showError)\n        .then(() => displayChart(vegaEmbed));\n    }\n  })({\"config\": {\"view\": {\"continuousWidth\": 400, \"continuousHeight\": 300}, \"area\": {\"fill\": \"#51C0E9\"}, \"axis\": {\"labelFont\": \"Inter, sans-serif\", \"labelFontSize\": 12, \"labelFontWeight\": \"normal\", \"labelLimit\": 60, \"labelOverlap\": \"greedy\", \"titleFont\": \"Inter, sans-serif\", \"titleFontSize\": 12, \"titleFontWeight\": \"bold\"}, \"background\": \"#ffffff\", \"legend\": {\"labelFont\": \"Inter, sans-serif\", \"labelFontSize\": 12, \"titleFont\": \"Inter, sans-serif\", \"titleFontSize\": 12, \"titleFontWeight\": \"bold\"}, \"line\": {\"stroke\": \"#51C0E9\", \"strokeWidth\": 2}, \"rect\": {\"fill\": \"#51C0E9\"}, \"title\": {\"anchor\": \"start\", \"color\": \"#000000\", \"font\": \"Inter, sans-serif\", \"fontSize\": 22, \"fontWeight\": \"normal\"}}, \"data\": {\"name\": \"data-423f88fa4b661de98ca99a3f27905ec3\"}, \"mark\": {\"type\": \"bar\", \"tooltip\": {\"content\": \"data\"}}, \"autosize\": {\"type\": \"fit\"}, \"encoding\": {\"color\": {\"type\": \"nominal\", \"field\": \"role\", \"scale\": {\"type\": \"linear\", \"zero\": false}, \"sort\": null}, \"x\": {\"type\": \"quantitative\", \"field\": \"expected_bonus\", \"scale\": {\"type\": \"linear\", \"zero\": false}, \"sort\": null}, \"y\": {\"type\": \"nominal\", \"field\": \"player\", \"scale\": {\"type\": \"linear\", \"zero\": true}, \"sort\": null}}, \"height\": 300, \"width\": \"container\", \"$schema\": \"https://vega.github.io/schema/vega-lite/v4.json\", \"datasets\": {\"data-423f88fa4b661de98ca99a3f27905ec3\": [{\"fanta_team\": \"Scansuolo \", \"role\": \"D\", \"player\": \"Demiral\", \"team\": \"Atalanta\", \"opponent\": \"Spezia\", \"date\": \"2022-05-08T00:00:00\", \"expected_bonus\": 0.3564731776714325}, {\"fanta_team\": \"Scansuolo \", \"role\": \"D\", \"player\": \"Hysaj\", \"team\": \"Lazio\", \"opponent\": \"Sampdoria\", \"date\": \"2022-05-07T00:00:00\", \"expected_bonus\": 0.28357958793640137}, {\"fanta_team\": \"Scansuolo \", \"role\": \"D\", \"player\": \"Vojvoda\", \"team\": \"Torino\", \"opponent\": \"Napoli\", \"date\": \"2022-05-07T00:00:00\", \"expected_bonus\": 0.23200398683547974}, {\"fanta_team\": \"Scansuolo \", \"role\": \"D\", \"player\": \"Koulibaly\", \"team\": \"Napoli\", \"opponent\": \"Torino\", \"date\": \"2022-05-07T00:00:00\", \"expected_bonus\": 0.1845690906047821}, {\"fanta_team\": \"Scansuolo \", \"role\": \"D\", \"player\": \"Karsdorp\", \"team\": \"Roma\", \"opponent\": \"Fiorentina\", \"date\": \"2022-05-09T00:00:00\", \"expected_bonus\": 0.1621485948562622}, {\"fanta_team\": \"Scansuolo \", \"role\": \"D\", \"player\": \"Hickey\", \"team\": \"Bologna\", \"opponent\": \"Venezia\", \"date\": \"2022-05-08T00:00:00\", \"expected_bonus\": 0.13593098521232605}, {\"fanta_team\": \"Scansuolo \", \"role\": \"D\", \"player\": \"Zappa\", \"team\": \"Cagliari\", \"opponent\": \"Salernitana\", \"date\": \"2022-05-08T00:00:00\", \"expected_bonus\": 0.028564324602484703}, {\"fanta_team\": \"Scansuolo \", \"role\": \"C\", \"player\": \"Pessina\", \"team\": \"Atalanta\", \"opponent\": \"Spezia\", \"date\": \"2022-05-08T00:00:00\", \"expected_bonus\": 0.6971004605293274}, {\"fanta_team\": \"Scansuolo \", \"role\": \"C\", \"player\": \"Zaccagni\", \"team\": \"Lazio\", \"opponent\": \"Sampdoria\", \"date\": \"2022-05-07T00:00:00\", \"expected_bonus\": 0.5471466779708862}, {\"fanta_team\": \"Scansuolo \", \"role\": \"C\", \"player\": \"Messias\", \"team\": \"AC Milan\", \"opponent\": \"Verona\", \"date\": \"2022-05-08T00:00:00\", \"expected_bonus\": 0.514297604560852}, {\"fanta_team\": \"Scansuolo \", \"role\": \"C\", \"player\": \"Diaz\", \"team\": \"AC Milan\", \"opponent\": \"Verona\", \"date\": \"2022-05-08T00:00:00\", \"expected_bonus\": 0.4942302703857422}, {\"fanta_team\": \"Scansuolo \", \"role\": \"C\", \"player\": \"Koopmeiners\", \"team\": \"Atalanta\", \"opponent\": \"Spezia\", \"date\": \"2022-05-08T00:00:00\", \"expected_bonus\": 0.32572001218795776}, {\"fanta_team\": \"Scansuolo \", \"role\": \"C\", \"player\": \"Zurkowski\", \"team\": \"Empoli\", \"opponent\": \"Inter\", \"date\": \"2022-05-06T00:00:00\", \"expected_bonus\": 0.30402636528015137}, {\"fanta_team\": \"Scansuolo \", \"role\": \"C\", \"player\": \"Ilic\", \"team\": \"Verona\", \"opponent\": \"AC Milan\", \"date\": \"2022-05-08T00:00:00\", \"expected_bonus\": 0.15704800188541412}, {\"fanta_team\": \"Scansuolo \", \"role\": \"C\", \"player\": \"Traore\", \"team\": \"Sassuolo\", \"opponent\": \"Udinese\", \"date\": \"2022-05-07T00:00:00\", \"expected_bonus\": 0.15454284846782684}, {\"fanta_team\": \"Scansuolo \", \"role\": \"A\", \"player\": \"Immobile\", \"team\": \"Lazio\", \"opponent\": \"Sampdoria\", \"date\": \"2022-05-07T00:00:00\", \"expected_bonus\": 2.021925210952759}, {\"fanta_team\": \"Scansuolo \", \"role\": \"A\", \"player\": \"Scamacca\", \"team\": \"Sassuolo\", \"opponent\": \"Udinese\", \"date\": \"2022-05-07T00:00:00\", \"expected_bonus\": 1.5094482898712158}, {\"fanta_team\": \"Scansuolo \", \"role\": \"A\", \"player\": \"Pedro\", \"team\": \"Cagliari\", \"opponent\": \"Salernitana\", \"date\": \"2022-05-08T00:00:00\", \"expected_bonus\": 1.2540032863616943}, {\"fanta_team\": \"Scansuolo \", \"role\": \"A\", \"player\": \"Le\\u00e3o\", \"team\": \"AC Milan\", \"opponent\": \"Verona\", \"date\": \"2022-05-08T00:00:00\", \"expected_bonus\": 0.8805072903633118}, {\"fanta_team\": \"Scansuolo \", \"role\": \"A\", \"player\": \"Mikael\", \"team\": \"Salernitana\", \"opponent\": \"Venezia\", \"date\": \"2022-05-05T00:00:00\", \"expected_bonus\": 0.16596972942352295}]}}, {\"actions\": false, \"mode\": \"vega-lite\"});\n</script>",
      "text/plain": "alt.Chart(...)"
     },
     "metadata": {}
    }
   ]
  },
  {
   "cell_type": "code",
   "metadata": {
    "cell_id": "4acdd713-c04b-4f4e-9a1f-ea8c4690c99e",
    "tags": [],
    "deepnote_to_be_reexecuted": false,
    "source_hash": "3f500048",
    "execution_start": 1651640772348,
    "execution_millis": 0,
    "deepnote_cell_type": "code"
   },
   "source": "team, index = display_fanta_squad(predictions, teams, index)",
   "execution_count": 20,
   "outputs": []
  },
  {
   "cell_type": "code",
   "source": "_deepnote_run_altair(team, \"\"\"{\"$schema\":\"https://vega.github.io/schema/vega-lite/v4.json\",\"mark\":{\"type\":\"bar\",\"tooltip\":{\"content\":\"data\"}},\"height\":220,\"autosize\":{\"type\":\"fit\"},\"data\":{\"name\":\"placeholder\"},\"encoding\":{\"x\":{\"field\":\"expected_bonus\",\"type\":\"quantitative\",\"sort\":null,\"scale\":{\"type\":\"linear\",\"zero\":false}},\"y\":{\"field\":\"player\",\"type\":\"nominal\",\"sort\":null,\"scale\":{\"type\":\"linear\",\"zero\":true}},\"color\":{\"field\":\"role\",\"type\":\"nominal\",\"sort\":null,\"scale\":{\"type\":\"linear\",\"zero\":false}}}}\"\"\")",
   "metadata": {
    "cell_id": "04913421-5945-4ac1-a1c7-1bd2f9975384",
    "deepnote_variable_name": "team",
    "deepnote_visualization_spec": {
     "$schema": "https://vega.github.io/schema/vega-lite/v4.json",
     "mark": {
      "type": "bar",
      "tooltip": {
       "content": "data"
      }
     },
     "height": 220,
     "autosize": {
      "type": "fit"
     },
     "data": {
      "name": "placeholder"
     },
     "encoding": {
      "x": {
       "field": "expected_bonus",
       "type": "quantitative",
       "sort": null,
       "scale": {
        "type": "linear",
        "zero": false
       }
      },
      "y": {
       "field": "player",
       "type": "nominal",
       "sort": null,
       "scale": {
        "type": "linear",
        "zero": true
       }
      },
      "color": {
       "field": "role",
       "type": "nominal",
       "sort": null,
       "scale": {
        "type": "linear",
        "zero": false
       }
      }
     }
    },
    "deepnote_to_be_reexecuted": false,
    "source_hash": "e68de25e",
    "execution_start": 1651640772348,
    "execution_millis": 43,
    "allow_embed": "output",
    "deepnote_cell_type": "visualization",
    "deepnote_output_heights": [
     314
    ]
   },
   "execution_count": null,
   "outputs": [
    {
     "output_type": "execute_result",
     "execution_count": 21,
     "data": {
      "text/html": "\n<div id=\"altair-viz-6f67d9fabfbe46c897783e3050a5e829\"></div>\n<script type=\"text/javascript\">\n  (function(spec, embedOpt){\n    let outputDiv = document.currentScript.previousElementSibling;\n    if (outputDiv.id !== \"altair-viz-6f67d9fabfbe46c897783e3050a5e829\") {\n      outputDiv = document.getElementById(\"altair-viz-6f67d9fabfbe46c897783e3050a5e829\");\n    }\n    const paths = {\n      \"vega\": \"https://cdn.jsdelivr.net/npm//vega@5?noext\",\n      \"vega-lib\": \"https://cdn.jsdelivr.net/npm//vega-lib?noext\",\n      \"vega-lite\": \"https://cdn.jsdelivr.net/npm//vega-lite@4.8.1?noext\",\n      \"vega-embed\": \"https://cdn.jsdelivr.net/npm//vega-embed@6?noext\",\n    };\n\n    function loadScript(lib) {\n      return new Promise(function(resolve, reject) {\n        var s = document.createElement('script');\n        s.src = paths[lib];\n        s.async = true;\n        s.onload = () => resolve(paths[lib]);\n        s.onerror = () => reject(`Error loading script: ${paths[lib]}`);\n        document.getElementsByTagName(\"head\")[0].appendChild(s);\n      });\n    }\n\n    function showError(err) {\n      outputDiv.innerHTML = `<div class=\"error\" style=\"color:red;\">${err}</div>`;\n      throw err;\n    }\n\n    function displayChart(vegaEmbed) {\n      vegaEmbed(outputDiv, spec, embedOpt)\n        .catch(err => showError(`Javascript Error: ${err.message}<br>This usually means there's a typo in your chart specification. See the javascript console for the full traceback.`));\n    }\n\n    if(typeof define === \"function\" && define.amd) {\n      requirejs.config({paths});\n      require([\"vega-embed\"], displayChart, err => showError(`Error loading script: ${err.message}`));\n    } else if (typeof vegaEmbed === \"function\") {\n      displayChart(vegaEmbed);\n    } else {\n      loadScript(\"vega\")\n        .then(() => loadScript(\"vega-lite\"))\n        .then(() => loadScript(\"vega-embed\"))\n        .catch(showError)\n        .then(() => displayChart(vegaEmbed));\n    }\n  })({\"config\": {\"view\": {\"continuousWidth\": 400, \"continuousHeight\": 300}, \"area\": {\"fill\": \"#51C0E9\"}, \"axis\": {\"labelFont\": \"Inter, sans-serif\", \"labelFontSize\": 12, \"labelFontWeight\": \"normal\", \"labelLimit\": 60, \"labelOverlap\": \"greedy\", \"titleFont\": \"Inter, sans-serif\", \"titleFontSize\": 12, \"titleFontWeight\": \"bold\"}, \"background\": \"#ffffff\", \"legend\": {\"labelFont\": \"Inter, sans-serif\", \"labelFontSize\": 12, \"titleFont\": \"Inter, sans-serif\", \"titleFontSize\": 12, \"titleFontWeight\": \"bold\"}, \"line\": {\"stroke\": \"#51C0E9\", \"strokeWidth\": 2}, \"rect\": {\"fill\": \"#51C0E9\"}, \"title\": {\"anchor\": \"start\", \"color\": \"#000000\", \"font\": \"Inter, sans-serif\", \"fontSize\": 22, \"fontWeight\": \"normal\"}}, \"data\": {\"name\": \"data-a1716a843a4d87f927bb90f58047b9fc\"}, \"mark\": {\"type\": \"bar\", \"tooltip\": {\"content\": \"data\"}}, \"autosize\": {\"type\": \"fit\"}, \"encoding\": {\"color\": {\"type\": \"nominal\", \"field\": \"role\", \"scale\": {\"type\": \"linear\", \"zero\": false}, \"sort\": null}, \"x\": {\"type\": \"quantitative\", \"field\": \"expected_bonus\", \"scale\": {\"type\": \"linear\", \"zero\": false}, \"sort\": null}, \"y\": {\"type\": \"nominal\", \"field\": \"player\", \"scale\": {\"type\": \"linear\", \"zero\": true}, \"sort\": null}}, \"height\": 300, \"width\": \"container\", \"$schema\": \"https://vega.github.io/schema/vega-lite/v4.json\", \"datasets\": {\"data-a1716a843a4d87f927bb90f58047b9fc\": [{\"fanta_team\": \"ssc mozzarella\", \"role\": \"D\", \"player\": \"Dumfries\", \"team\": \"Inter\", \"opponent\": \"Empoli\", \"date\": \"2022-05-06T00:00:00\", \"expected_bonus\": 0.9851986765861511}, {\"fanta_team\": \"ssc mozzarella\", \"role\": \"D\", \"player\": \"Gjimshiti\", \"team\": \"Atalanta\", \"opponent\": \"Spezia\", \"date\": \"2022-05-08T00:00:00\", \"expected_bonus\": 0.27950340509414673}, {\"fanta_team\": \"ssc mozzarella\", \"role\": \"D\", \"player\": \"Rui\", \"team\": \"Napoli\", \"opponent\": \"Torino\", \"date\": \"2022-05-07T00:00:00\", \"expected_bonus\": 0.2742851674556732}, {\"fanta_team\": \"ssc mozzarella\", \"role\": \"D\", \"player\": \"Felipe\", \"team\": \"Lazio\", \"opponent\": \"Sampdoria\", \"date\": \"2022-05-07T00:00:00\", \"expected_bonus\": 0.2601020634174347}, {\"fanta_team\": \"ssc mozzarella\", \"role\": \"D\", \"player\": \"Theate\", \"team\": \"Bologna\", \"opponent\": \"Venezia\", \"date\": \"2022-05-08T00:00:00\", \"expected_bonus\": 0.1661607027053833}, {\"fanta_team\": \"ssc mozzarella\", \"role\": \"D\", \"player\": \"Smalling\", \"team\": \"Roma\", \"opponent\": \"Fiorentina\", \"date\": \"2022-05-09T00:00:00\", \"expected_bonus\": 0.14436258375644684}, {\"fanta_team\": \"ssc mozzarella\", \"role\": \"D\", \"player\": \"Tomori\", \"team\": \"AC Milan\", \"opponent\": \"Verona\", \"date\": \"2022-05-08T00:00:00\", \"expected_bonus\": 0.13624747097492218}, {\"fanta_team\": \"ssc mozzarella\", \"role\": \"D\", \"player\": \"Iba\\u00f1ez\", \"team\": \"Roma\", \"opponent\": \"Fiorentina\", \"date\": \"2022-05-09T00:00:00\", \"expected_bonus\": 0.12984146177768707}, {\"fanta_team\": \"ssc mozzarella\", \"role\": \"C\", \"player\": \"Sottil\", \"team\": \"Fiorentina\", \"opponent\": \"Roma\", \"date\": \"2022-05-09T00:00:00\", \"expected_bonus\": 0.921516478061676}, {\"fanta_team\": \"ssc mozzarella\", \"role\": \"C\", \"player\": \"Mkhitaryan\", \"team\": \"Roma\", \"opponent\": \"Fiorentina\", \"date\": \"2022-05-09T00:00:00\", \"expected_bonus\": 0.49016737937927246}, {\"fanta_team\": \"ssc mozzarella\", \"role\": \"C\", \"player\": \"Fabi\\u00e1n\", \"team\": \"Napoli\", \"opponent\": \"Torino\", \"date\": \"2022-05-07T00:00:00\", \"expected_bonus\": 0.2922779321670532}, {\"fanta_team\": \"ssc mozzarella\", \"role\": \"C\", \"player\": \"Torreira\", \"team\": \"Fiorentina\", \"opponent\": \"Roma\", \"date\": \"2022-05-09T00:00:00\", \"expected_bonus\": 0.2782984673976898}, {\"fanta_team\": \"ssc mozzarella\", \"role\": \"C\", \"player\": \"Lopez\", \"team\": \"Sassuolo\", \"opponent\": \"Udinese\", \"date\": \"2022-05-07T00:00:00\", \"expected_bonus\": 0.26571524143218994}, {\"fanta_team\": \"ssc mozzarella\", \"role\": \"C\", \"player\": \"Freuler\", \"team\": \"Atalanta\", \"opponent\": \"Spezia\", \"date\": \"2022-05-08T00:00:00\", \"expected_bonus\": 0.25666090846061707}, {\"fanta_team\": \"ssc mozzarella\", \"role\": \"C\", \"player\": \"Pereyra\", \"team\": \"Udinese\", \"opponent\": \"Sassuolo\", \"date\": \"2022-05-07T00:00:00\", \"expected_bonus\": 0.22296233475208282}, {\"fanta_team\": \"ssc mozzarella\", \"role\": \"C\", \"player\": \"Lobotka\", \"team\": \"Napoli\", \"opponent\": \"Torino\", \"date\": \"2022-05-07T00:00:00\", \"expected_bonus\": 0.11961296945810318}, {\"fanta_team\": \"ssc mozzarella\", \"role\": \"A\", \"player\": \"Bonazzoli\", \"team\": \"Salernitana\", \"opponent\": \"Venezia\", \"date\": \"2022-05-05T00:00:00\", \"expected_bonus\": 1.123694658279419}, {\"fanta_team\": \"ssc mozzarella\", \"role\": \"A\", \"player\": \"Gabbiadini\", \"team\": \"Sampdoria\", \"opponent\": \"Lazio\", \"date\": \"2022-05-07T00:00:00\", \"expected_bonus\": 1.0839427709579468}, {\"fanta_team\": \"ssc mozzarella\", \"role\": \"A\", \"player\": \"Osimhen\", \"team\": \"Napoli\", \"opponent\": \"Torino\", \"date\": \"2022-05-07T00:00:00\", \"expected_bonus\": 1.0675709247589111}, {\"fanta_team\": \"ssc mozzarella\", \"role\": \"A\", \"player\": \"Caprari\", \"team\": \"Verona\", \"opponent\": \"AC Milan\", \"date\": \"2022-05-08T00:00:00\", \"expected_bonus\": 0.8033574819564819}, {\"fanta_team\": \"ssc mozzarella\", \"role\": \"A\", \"player\": \"Pavoletti\", \"team\": \"Cagliari\", \"opponent\": \"Salernitana\", \"date\": \"2022-05-08T00:00:00\", \"expected_bonus\": 0.6199770569801331}, {\"fanta_team\": \"ssc mozzarella\", \"role\": \"A\", \"player\": \"Politano\", \"team\": \"Napoli\", \"opponent\": \"Torino\", \"date\": \"2022-05-07T00:00:00\", \"expected_bonus\": 0.221078559756279}]}}, {\"actions\": false, \"mode\": \"vega-lite\"});\n</script>",
      "text/plain": "alt.Chart(...)"
     },
     "metadata": {}
    }
   ]
  },
  {
   "cell_type": "code",
   "metadata": {
    "cell_id": "44571e9e-e8b2-407a-85b9-bcb406b04f31",
    "tags": [],
    "deepnote_to_be_reexecuted": false,
    "source_hash": "de92d3d",
    "execution_start": 1651640772580,
    "execution_millis": 323618,
    "deepnote_cell_type": "code"
   },
   "source": "try:\n    \n    ###############################################################################################\n    status = 'Loading config ...'\n    print('{} -> {}'.format(datetime.now().strftime('%Y-%m-%d %H:%M:%S'), status))\n    with open('config/config.json') as config:\n        config = json.load(config)\n    status = 'Loading config done!'\n    print('{} -> {}'.format(datetime.now().strftime('%Y-%m-%d %H:%M:%S'), status))\n    ###############################################################################################\n\n    ###############################################################################################\n    status = 'Retrieving past week predictions ...'\n    print('{} -> {}'.format(datetime.now().strftime('%Y-%m-%d %H:%M:%S'), status))\n    validation = validate(config['league_name'], config['gameweek']['past'])\n    status = 'Retrieving past week predictions done!'\n    print('{} -> {}'.format(datetime.now().strftime('%Y-%m-%d %H:%M:%S'), status))\n    ###############################################################################################\n\n    ###############################################################################################\n    status = 'Preparing predictions for display...'\n    print('{} -> {}'.format(datetime.now().strftime('%Y-%m-%d %H:%M:%S'), status))\n    validation['player'] = validation['player'].apply(lambda x: x.split(' ')[-1])\n    status = 'Preparing predictions for display done!'\n    print('{} -> {}'.format(datetime.now().strftime('%Y-%m-%d %H:%M:%S'), status))\n    ###############################################################################################\n\n    ###############################################################################################\n    status = 'Updating config ...'\n    print('{} -> {}'.format(datetime.now().strftime('%Y-%m-%d %H:%M:%S'), status))\n    config['gameweek']['past'] = config['gameweek']['past'] + 1\n    with open('config/config.json', 'w') as f:\n        json.dump(config, f, indent=4)\n    status = 'Updating config done!'\n    print('{} -> {}'.format(datetime.now().strftime('%Y-%m-%d %H:%M:%S'), status))\n    ###############################################################################################\n\nexcept Exception as e:\n    print('Exception: {}'.format(e))\n    print('Errored out during: {}'.format(status))",
   "execution_count": null,
   "outputs": [
    {
     "name": "stdout",
     "text": "2022-05-04 05:06:12 -> Loading config ...\n2022-05-04 05:06:12 -> Loading config done!\n2022-05-04 05:06:12 -> Retrieving past week predictions ...\n  0%|          | 0/166 [00:00<?, ?it/s]",
     "output_type": "stream"
    }
   ]
  },
  {
   "cell_type": "code",
   "metadata": {
    "cell_id": "fe5cb744-dcbb-4c2b-b8f4-eee4c37224da",
    "tags": [],
    "deepnote_to_be_reexecuted": true,
    "source_hash": "d3a5413f",
    "execution_start": 1651036263373,
    "execution_millis": 5,
    "deepnote_cell_type": "code"
   },
   "source": "teams = sorted(list(validation['fanta_team'].unique()))\nindex = 0",
   "execution_count": null,
   "outputs": []
  },
  {
   "cell_type": "code",
   "metadata": {
    "cell_id": "5307f8bd-5ea7-466a-8190-518b8819ea5b",
    "tags": [],
    "deepnote_to_be_reexecuted": true,
    "source_hash": "96119dd1",
    "execution_start": 1651036263383,
    "execution_millis": 6,
    "deepnote_cell_type": "code"
   },
   "source": "team, index = display_fanta_squad(validation, teams, index)",
   "execution_count": null,
   "outputs": []
  },
  {
   "cell_type": "code",
   "source": "_deepnote_run_altair(team, \"\"\"{\"$schema\":\"https://vega.github.io/schema/vega-lite/v4.json\",\"mark\":{\"type\":\"bar\",\"tooltip\":{\"content\":\"data\"}},\"height\":220,\"autosize\":{\"type\":\"fit\"},\"data\":{\"name\":\"placeholder\"},\"encoding\":{\"x\":{\"field\":\"error\",\"type\":\"quantitative\",\"sort\":null,\"scale\":{\"type\":\"linear\",\"zero\":false}},\"y\":{\"field\":\"player\",\"type\":\"nominal\",\"sort\":null,\"scale\":{\"type\":\"linear\",\"zero\":true}},\"color\":{\"field\":\"error_type\",\"type\":\"nominal\",\"sort\":null,\"scale\":{\"type\":\"linear\",\"zero\":false}}}}\"\"\")",
   "metadata": {
    "cell_id": "d6007c66-f029-409e-aef9-6f052b6748e3",
    "deepnote_variable_name": "team",
    "deepnote_visualization_spec": {
     "$schema": "https://vega.github.io/schema/vega-lite/v4.json",
     "mark": {
      "type": "bar",
      "tooltip": {
       "content": "data"
      }
     },
     "height": 220,
     "autosize": {
      "type": "fit"
     },
     "data": {
      "name": "placeholder"
     },
     "encoding": {
      "x": {
       "field": "error",
       "type": "quantitative",
       "sort": null,
       "scale": {
        "type": "linear",
        "zero": false
       }
      },
      "y": {
       "field": "player",
       "type": "nominal",
       "sort": null,
       "scale": {
        "type": "linear",
        "zero": true
       }
      },
      "color": {
       "field": "error_type",
       "type": "nominal",
       "sort": null,
       "scale": {
        "type": "linear",
        "zero": false
       }
      }
     }
    },
    "deepnote_to_be_reexecuted": true,
    "source_hash": "81b9fc1a",
    "execution_start": 1651036263390,
    "execution_millis": 143,
    "allow_embed": "output",
    "deepnote_cell_type": "visualization",
    "deepnote_output_heights": [
     314
    ]
   },
   "execution_count": null,
   "outputs": [
    {
     "output_type": "execute_result",
     "execution_count": 25,
     "data": {
      "text/html": "\n<div id=\"altair-viz-3f51c2f65efd49efab584405abf9a270\"></div>\n<script type=\"text/javascript\">\n  (function(spec, embedOpt){\n    let outputDiv = document.currentScript.previousElementSibling;\n    if (outputDiv.id !== \"altair-viz-3f51c2f65efd49efab584405abf9a270\") {\n      outputDiv = document.getElementById(\"altair-viz-3f51c2f65efd49efab584405abf9a270\");\n    }\n    const paths = {\n      \"vega\": \"https://cdn.jsdelivr.net/npm//vega@5?noext\",\n      \"vega-lib\": \"https://cdn.jsdelivr.net/npm//vega-lib?noext\",\n      \"vega-lite\": \"https://cdn.jsdelivr.net/npm//vega-lite@4.8.1?noext\",\n      \"vega-embed\": \"https://cdn.jsdelivr.net/npm//vega-embed@6?noext\",\n    };\n\n    function loadScript(lib) {\n      return new Promise(function(resolve, reject) {\n        var s = document.createElement('script');\n        s.src = paths[lib];\n        s.async = true;\n        s.onload = () => resolve(paths[lib]);\n        s.onerror = () => reject(`Error loading script: ${paths[lib]}`);\n        document.getElementsByTagName(\"head\")[0].appendChild(s);\n      });\n    }\n\n    function showError(err) {\n      outputDiv.innerHTML = `<div class=\"error\" style=\"color:red;\">${err}</div>`;\n      throw err;\n    }\n\n    function displayChart(vegaEmbed) {\n      vegaEmbed(outputDiv, spec, embedOpt)\n        .catch(err => showError(`Javascript Error: ${err.message}<br>This usually means there's a typo in your chart specification. See the javascript console for the full traceback.`));\n    }\n\n    if(typeof define === \"function\" && define.amd) {\n      requirejs.config({paths});\n      require([\"vega-embed\"], displayChart, err => showError(`Error loading script: ${err.message}`));\n    } else if (typeof vegaEmbed === \"function\") {\n      displayChart(vegaEmbed);\n    } else {\n      loadScript(\"vega\")\n        .then(() => loadScript(\"vega-lite\"))\n        .then(() => loadScript(\"vega-embed\"))\n        .catch(showError)\n        .then(() => displayChart(vegaEmbed));\n    }\n  })({\"config\": {\"view\": {\"continuousWidth\": 400, \"continuousHeight\": 300}, \"area\": {\"fill\": \"#51C0E9\"}, \"axis\": {\"labelFont\": \"Inter, sans-serif\", \"labelFontSize\": 12, \"labelFontWeight\": \"normal\", \"labelLimit\": 60, \"labelOverlap\": \"greedy\", \"titleFont\": \"Inter, sans-serif\", \"titleFontSize\": 12, \"titleFontWeight\": \"bold\"}, \"background\": \"#ffffff\", \"legend\": {\"labelFont\": \"Inter, sans-serif\", \"labelFontSize\": 12, \"titleFont\": \"Inter, sans-serif\", \"titleFontSize\": 12, \"titleFontWeight\": \"bold\"}, \"line\": {\"stroke\": \"#51C0E9\", \"strokeWidth\": 2}, \"rect\": {\"fill\": \"#51C0E9\"}, \"title\": {\"anchor\": \"start\", \"color\": \"#000000\", \"font\": \"Inter, sans-serif\", \"fontSize\": 22, \"fontWeight\": \"normal\"}}, \"data\": {\"name\": \"data-c95348cfa35043dc7751b96a3431b853\"}, \"mark\": {\"type\": \"bar\", \"tooltip\": {\"content\": \"data\"}}, \"autosize\": {\"type\": \"fit\"}, \"encoding\": {\"color\": {\"type\": \"nominal\", \"field\": \"error_type\", \"scale\": {\"type\": \"linear\", \"zero\": false}, \"sort\": null}, \"x\": {\"type\": \"quantitative\", \"field\": \"error\", \"scale\": {\"type\": \"linear\", \"zero\": false}, \"sort\": null}, \"y\": {\"type\": \"nominal\", \"field\": \"player\", \"scale\": {\"type\": \"linear\", \"zero\": true}, \"sort\": null}}, \"height\": 300, \"width\": \"container\", \"$schema\": \"https://vega.github.io/schema/vega-lite/v4.json\", \"datasets\": {\"data-c95348cfa35043dc7751b96a3431b853\": [{\"fanta_team\": \"AC Picchia\", \"role\": \"D\", \"player\": \"Calabria\", \"team\": \"AC Milan\", \"opponent\": \"Lazio\", \"date\": \"2022-04-24T00:00:00\", \"expected_bonus\": 0.52615577, \"true_bonus\": 0.0, \"error\": 0.52615577, \"error_type\": \"overestimated\"}, {\"fanta_team\": \"AC Picchia\", \"role\": \"D\", \"player\": \"Dalbert\", \"team\": \"Cagliari\", \"opponent\": \"Genoa\", \"date\": \"2022-04-24T00:00:00\", \"expected_bonus\": 0.24157977, \"true_bonus\": 0.0, \"error\": 0.24157977, \"error_type\": \"overestimated\"}, {\"fanta_team\": \"AC Picchia\", \"role\": \"D\", \"player\": \"Odriozola\", \"team\": \"Fiorentina\", \"opponent\": \"Salernitana\", \"date\": \"2022-04-24T00:00:00\", \"expected_bonus\": 0.2247897, \"true_bonus\": 0.0, \"error\": 0.2247897, \"error_type\": \"overestimated\"}, {\"fanta_team\": \"AC Picchia\", \"role\": \"C\", \"player\": \"Orsolini\", \"team\": \"Bologna\", \"opponent\": \"Udinese\", \"date\": \"2022-04-24T00:00:00\", \"expected_bonus\": 0.402764, \"true_bonus\": 1.0, \"error\": -0.597236, \"error_type\": \"underestimated\"}, {\"fanta_team\": \"AC Picchia\", \"role\": \"C\", \"player\": \"N\\u00e1ndez\", \"team\": \"Cagliari\", \"opponent\": \"Genoa\", \"date\": \"2022-04-24T00:00:00\", \"expected_bonus\": 0.24546205, \"true_bonus\": 0.0, \"error\": 0.24546205, \"error_type\": \"overestimated\"}, {\"fanta_team\": \"AC Picchia\", \"role\": \"C\", \"player\": \"Marin\", \"team\": \"Cagliari\", \"opponent\": \"Genoa\", \"date\": \"2022-04-24T00:00:00\", \"expected_bonus\": 0.24242435, \"true_bonus\": 0.0, \"error\": 0.24242435, \"error_type\": \"overestimated\"}, {\"fanta_team\": \"AC Picchia\", \"role\": \"A\", \"player\": \"Giroud\", \"team\": \"AC Milan\", \"opponent\": \"Lazio\", \"date\": \"2022-04-24T00:00:00\", \"expected_bonus\": 1.0394969, \"true_bonus\": 3.0, \"error\": -1.9605031, \"error_type\": \"underestimated\"}, {\"fanta_team\": \"AC Picchia\", \"role\": \"A\", \"player\": \"Cabral\", \"team\": \"Fiorentina\", \"opponent\": \"Salernitana\", \"date\": \"2022-04-24T00:00:00\", \"expected_bonus\": 0.12177009, \"true_bonus\": 0.0, \"error\": 0.12177009, \"error_type\": \"overestimated\"}]}}, {\"actions\": false, \"mode\": \"vega-lite\"});\n</script>",
      "text/plain": "alt.Chart(...)"
     },
     "metadata": {}
    }
   ]
  },
  {
   "cell_type": "code",
   "metadata": {
    "cell_id": "7230bd13-cec2-47d3-b394-a7502968a878",
    "tags": [],
    "deepnote_to_be_reexecuted": true,
    "source_hash": "96119dd1",
    "execution_start": 1651036263530,
    "execution_millis": 1,
    "deepnote_cell_type": "code"
   },
   "source": "team, index = display_fanta_squad(validation, teams, index)",
   "execution_count": null,
   "outputs": []
  },
  {
   "cell_type": "code",
   "source": "_deepnote_run_altair(team, \"\"\"{\"$schema\":\"https://vega.github.io/schema/vega-lite/v4.json\",\"mark\":{\"type\":\"bar\",\"tooltip\":{\"content\":\"data\"}},\"height\":220,\"autosize\":{\"type\":\"fit\"},\"data\":{\"name\":\"placeholder\"},\"encoding\":{\"x\":{\"field\":\"error\",\"type\":\"quantitative\",\"sort\":null,\"scale\":{\"type\":\"linear\",\"zero\":false}},\"y\":{\"field\":\"player\",\"type\":\"nominal\",\"sort\":null,\"scale\":{\"type\":\"linear\",\"zero\":true}},\"color\":{\"field\":\"error_type\",\"type\":\"nominal\",\"sort\":null,\"scale\":{\"type\":\"linear\",\"zero\":false}}}}\"\"\")",
   "metadata": {
    "cell_id": "00025-5835c844-289b-4f92-b154-1d82c629a5b1",
    "deepnote_variable_name": "team",
    "deepnote_visualization_spec": {
     "$schema": "https://vega.github.io/schema/vega-lite/v4.json",
     "mark": {
      "type": "bar",
      "tooltip": {
       "content": "data"
      }
     },
     "height": 220,
     "autosize": {
      "type": "fit"
     },
     "data": {
      "name": "placeholder"
     },
     "encoding": {
      "x": {
       "field": "error",
       "type": "quantitative",
       "sort": null,
       "scale": {
        "type": "linear",
        "zero": false
       }
      },
      "y": {
       "field": "player",
       "type": "nominal",
       "sort": null,
       "scale": {
        "type": "linear",
        "zero": true
       }
      },
      "color": {
       "field": "error_type",
       "type": "nominal",
       "sort": null,
       "scale": {
        "type": "linear",
        "zero": false
       }
      }
     }
    },
    "deepnote_to_be_reexecuted": true,
    "source_hash": "81b9fc1a",
    "allow_embed": "output",
    "execution_start": 1651036263531,
    "execution_millis": 64,
    "deepnote_cell_type": "visualization",
    "deepnote_output_heights": [
     314
    ]
   },
   "execution_count": null,
   "outputs": [
    {
     "output_type": "execute_result",
     "execution_count": 27,
     "data": {
      "text/html": "\n<div id=\"altair-viz-584d4ebff4344c4a961424a5257e7704\"></div>\n<script type=\"text/javascript\">\n  (function(spec, embedOpt){\n    let outputDiv = document.currentScript.previousElementSibling;\n    if (outputDiv.id !== \"altair-viz-584d4ebff4344c4a961424a5257e7704\") {\n      outputDiv = document.getElementById(\"altair-viz-584d4ebff4344c4a961424a5257e7704\");\n    }\n    const paths = {\n      \"vega\": \"https://cdn.jsdelivr.net/npm//vega@5?noext\",\n      \"vega-lib\": \"https://cdn.jsdelivr.net/npm//vega-lib?noext\",\n      \"vega-lite\": \"https://cdn.jsdelivr.net/npm//vega-lite@4.8.1?noext\",\n      \"vega-embed\": \"https://cdn.jsdelivr.net/npm//vega-embed@6?noext\",\n    };\n\n    function loadScript(lib) {\n      return new Promise(function(resolve, reject) {\n        var s = document.createElement('script');\n        s.src = paths[lib];\n        s.async = true;\n        s.onload = () => resolve(paths[lib]);\n        s.onerror = () => reject(`Error loading script: ${paths[lib]}`);\n        document.getElementsByTagName(\"head\")[0].appendChild(s);\n      });\n    }\n\n    function showError(err) {\n      outputDiv.innerHTML = `<div class=\"error\" style=\"color:red;\">${err}</div>`;\n      throw err;\n    }\n\n    function displayChart(vegaEmbed) {\n      vegaEmbed(outputDiv, spec, embedOpt)\n        .catch(err => showError(`Javascript Error: ${err.message}<br>This usually means there's a typo in your chart specification. See the javascript console for the full traceback.`));\n    }\n\n    if(typeof define === \"function\" && define.amd) {\n      requirejs.config({paths});\n      require([\"vega-embed\"], displayChart, err => showError(`Error loading script: ${err.message}`));\n    } else if (typeof vegaEmbed === \"function\") {\n      displayChart(vegaEmbed);\n    } else {\n      loadScript(\"vega\")\n        .then(() => loadScript(\"vega-lite\"))\n        .then(() => loadScript(\"vega-embed\"))\n        .catch(showError)\n        .then(() => displayChart(vegaEmbed));\n    }\n  })({\"config\": {\"view\": {\"continuousWidth\": 400, \"continuousHeight\": 300}, \"area\": {\"fill\": \"#51C0E9\"}, \"axis\": {\"labelFont\": \"Inter, sans-serif\", \"labelFontSize\": 12, \"labelFontWeight\": \"normal\", \"labelLimit\": 60, \"labelOverlap\": \"greedy\", \"titleFont\": \"Inter, sans-serif\", \"titleFontSize\": 12, \"titleFontWeight\": \"bold\"}, \"background\": \"#ffffff\", \"legend\": {\"labelFont\": \"Inter, sans-serif\", \"labelFontSize\": 12, \"titleFont\": \"Inter, sans-serif\", \"titleFontSize\": 12, \"titleFontWeight\": \"bold\"}, \"line\": {\"stroke\": \"#51C0E9\", \"strokeWidth\": 2}, \"rect\": {\"fill\": \"#51C0E9\"}, \"title\": {\"anchor\": \"start\", \"color\": \"#000000\", \"font\": \"Inter, sans-serif\", \"fontSize\": 22, \"fontWeight\": \"normal\"}}, \"data\": {\"name\": \"data-87a9921cff0b1c8856b011f00286da1b\"}, \"mark\": {\"type\": \"bar\", \"tooltip\": {\"content\": \"data\"}}, \"autosize\": {\"type\": \"fit\"}, \"encoding\": {\"color\": {\"type\": \"nominal\", \"field\": \"error_type\", \"scale\": {\"type\": \"linear\", \"zero\": false}, \"sort\": null}, \"x\": {\"type\": \"quantitative\", \"field\": \"error\", \"scale\": {\"type\": \"linear\", \"zero\": false}, \"sort\": null}, \"y\": {\"type\": \"nominal\", \"field\": \"player\", \"scale\": {\"type\": \"linear\", \"zero\": true}, \"sort\": null}}, \"height\": 300, \"width\": \"container\", \"$schema\": \"https://vega.github.io/schema/vega-lite/v4.json\", \"datasets\": {\"data-87a9921cff0b1c8856b011f00286da1b\": [{\"fanta_team\": \"AI sereje ja dejeDe jebe tu de jebere\", \"role\": \"D\", \"player\": \"Rrahmani\", \"team\": \"Napoli\", \"opponent\": \"Empoli\", \"date\": \"2022-04-24T00:00:00\", \"expected_bonus\": 0.31722504, \"true_bonus\": 0.0, \"error\": 0.31722504, \"error_type\": \"overestimated\"}, {\"fanta_team\": \"AI sereje ja dejeDe jebe tu de jebere\", \"role\": \"D\", \"player\": \"Acerbi\", \"team\": \"Lazio\", \"opponent\": \"AC Milan\", \"date\": \"2022-04-24T00:00:00\", \"expected_bonus\": 0.16034326, \"true_bonus\": 0.0, \"error\": 0.16034326, \"error_type\": \"overestimated\"}, {\"fanta_team\": \"AI sereje ja dejeDe jebe tu de jebere\", \"role\": \"C\", \"player\": \"Bajrami\", \"team\": \"Empoli\", \"opponent\": \"Napoli\", \"date\": \"2022-04-24T00:00:00\", \"expected_bonus\": 0.808759, \"true_bonus\": 1.0, \"error\": -0.191241, \"error_type\": \"underestimated\"}, {\"fanta_team\": \"AI sereje ja dejeDe jebe tu de jebere\", \"role\": \"C\", \"player\": \"Svanberg\", \"team\": \"Bologna\", \"opponent\": \"Udinese\", \"date\": \"2022-04-24T00:00:00\", \"expected_bonus\": 0.27177772, \"true_bonus\": 1.0, \"error\": -0.72822228, \"error_type\": \"underestimated\"}, {\"fanta_team\": \"AI sereje ja dejeDe jebe tu de jebere\", \"role\": \"A\", \"player\": \"Lozano\", \"team\": \"Napoli\", \"opponent\": \"Empoli\", \"date\": \"2022-04-24T00:00:00\", \"expected_bonus\": 1.2268946, \"true_bonus\": 1.0, \"error\": 0.22689460000000006, \"error_type\": \"overestimated\"}, {\"fanta_team\": \"AI sereje ja dejeDe jebe tu de jebere\", \"role\": \"A\", \"player\": \"Destro\", \"team\": \"Genoa\", \"opponent\": \"Cagliari\", \"date\": \"2022-04-24T00:00:00\", \"expected_bonus\": 1.152447, \"true_bonus\": 0.0, \"error\": 1.152447, \"error_type\": \"overestimated\"}]}}, {\"actions\": false, \"mode\": \"vega-lite\"});\n</script>",
      "text/plain": "alt.Chart(...)"
     },
     "metadata": {}
    }
   ]
  },
  {
   "cell_type": "code",
   "metadata": {
    "cell_id": "4b6caad3-94aa-4a54-be90-216f36213ee1",
    "tags": [],
    "deepnote_to_be_reexecuted": true,
    "source_hash": "96119dd1",
    "execution_start": 1651036263598,
    "execution_millis": 12,
    "deepnote_cell_type": "code"
   },
   "source": "team, index = display_fanta_squad(validation, teams, index)",
   "execution_count": null,
   "outputs": []
  },
  {
   "cell_type": "code",
   "source": "_deepnote_run_altair(team, \"\"\"{\"$schema\":\"https://vega.github.io/schema/vega-lite/v4.json\",\"mark\":{\"type\":\"bar\",\"tooltip\":{\"content\":\"data\"}},\"height\":220,\"autosize\":{\"type\":\"fit\"},\"data\":{\"name\":\"placeholder\"},\"encoding\":{\"x\":{\"field\":\"error\",\"type\":\"quantitative\",\"sort\":null,\"scale\":{\"type\":\"linear\",\"zero\":false}},\"y\":{\"field\":\"player\",\"type\":\"nominal\",\"sort\":null,\"scale\":{\"type\":\"linear\",\"zero\":true}},\"color\":{\"field\":\"error_type\",\"type\":\"nominal\",\"sort\":null,\"scale\":{\"type\":\"linear\",\"zero\":false}}}}\"\"\")",
   "metadata": {
    "cell_id": "00027-ad487baa-da0c-464f-9f9f-e9a21a67870d",
    "deepnote_variable_name": "team",
    "deepnote_visualization_spec": {
     "$schema": "https://vega.github.io/schema/vega-lite/v4.json",
     "mark": {
      "type": "bar",
      "tooltip": {
       "content": "data"
      }
     },
     "height": 220,
     "autosize": {
      "type": "fit"
     },
     "data": {
      "name": "placeholder"
     },
     "encoding": {
      "x": {
       "field": "error",
       "type": "quantitative",
       "sort": null,
       "scale": {
        "type": "linear",
        "zero": false
       }
      },
      "y": {
       "field": "player",
       "type": "nominal",
       "sort": null,
       "scale": {
        "type": "linear",
        "zero": true
       }
      },
      "color": {
       "field": "error_type",
       "type": "nominal",
       "sort": null,
       "scale": {
        "type": "linear",
        "zero": false
       }
      }
     }
    },
    "deepnote_to_be_reexecuted": true,
    "source_hash": "81b9fc1a",
    "allow_embed": "output",
    "execution_start": 1651036263611,
    "execution_millis": 103,
    "deepnote_cell_type": "visualization",
    "deepnote_output_heights": [
     314
    ]
   },
   "execution_count": null,
   "outputs": [
    {
     "output_type": "execute_result",
     "execution_count": 29,
     "data": {
      "text/html": "\n<div id=\"altair-viz-eaa9c2fafb70462684b774513ad1e684\"></div>\n<script type=\"text/javascript\">\n  (function(spec, embedOpt){\n    let outputDiv = document.currentScript.previousElementSibling;\n    if (outputDiv.id !== \"altair-viz-eaa9c2fafb70462684b774513ad1e684\") {\n      outputDiv = document.getElementById(\"altair-viz-eaa9c2fafb70462684b774513ad1e684\");\n    }\n    const paths = {\n      \"vega\": \"https://cdn.jsdelivr.net/npm//vega@5?noext\",\n      \"vega-lib\": \"https://cdn.jsdelivr.net/npm//vega-lib?noext\",\n      \"vega-lite\": \"https://cdn.jsdelivr.net/npm//vega-lite@4.8.1?noext\",\n      \"vega-embed\": \"https://cdn.jsdelivr.net/npm//vega-embed@6?noext\",\n    };\n\n    function loadScript(lib) {\n      return new Promise(function(resolve, reject) {\n        var s = document.createElement('script');\n        s.src = paths[lib];\n        s.async = true;\n        s.onload = () => resolve(paths[lib]);\n        s.onerror = () => reject(`Error loading script: ${paths[lib]}`);\n        document.getElementsByTagName(\"head\")[0].appendChild(s);\n      });\n    }\n\n    function showError(err) {\n      outputDiv.innerHTML = `<div class=\"error\" style=\"color:red;\">${err}</div>`;\n      throw err;\n    }\n\n    function displayChart(vegaEmbed) {\n      vegaEmbed(outputDiv, spec, embedOpt)\n        .catch(err => showError(`Javascript Error: ${err.message}<br>This usually means there's a typo in your chart specification. See the javascript console for the full traceback.`));\n    }\n\n    if(typeof define === \"function\" && define.amd) {\n      requirejs.config({paths});\n      require([\"vega-embed\"], displayChart, err => showError(`Error loading script: ${err.message}`));\n    } else if (typeof vegaEmbed === \"function\") {\n      displayChart(vegaEmbed);\n    } else {\n      loadScript(\"vega\")\n        .then(() => loadScript(\"vega-lite\"))\n        .then(() => loadScript(\"vega-embed\"))\n        .catch(showError)\n        .then(() => displayChart(vegaEmbed));\n    }\n  })({\"config\": {\"view\": {\"continuousWidth\": 400, \"continuousHeight\": 300}, \"area\": {\"fill\": \"#51C0E9\"}, \"axis\": {\"labelFont\": \"Inter, sans-serif\", \"labelFontSize\": 12, \"labelFontWeight\": \"normal\", \"labelLimit\": 60, \"labelOverlap\": \"greedy\", \"titleFont\": \"Inter, sans-serif\", \"titleFontSize\": 12, \"titleFontWeight\": \"bold\"}, \"background\": \"#ffffff\", \"legend\": {\"labelFont\": \"Inter, sans-serif\", \"labelFontSize\": 12, \"titleFont\": \"Inter, sans-serif\", \"titleFontSize\": 12, \"titleFontWeight\": \"bold\"}, \"line\": {\"stroke\": \"#51C0E9\", \"strokeWidth\": 2}, \"rect\": {\"fill\": \"#51C0E9\"}, \"title\": {\"anchor\": \"start\", \"color\": \"#000000\", \"font\": \"Inter, sans-serif\", \"fontSize\": 22, \"fontWeight\": \"normal\"}}, \"data\": {\"name\": \"data-1105b2353ad6d6c8a5f659e54c288d65\"}, \"mark\": {\"type\": \"bar\", \"tooltip\": {\"content\": \"data\"}}, \"autosize\": {\"type\": \"fit\"}, \"encoding\": {\"color\": {\"type\": \"nominal\", \"field\": \"error_type\", \"scale\": {\"type\": \"linear\", \"zero\": false}, \"sort\": null}, \"x\": {\"type\": \"quantitative\", \"field\": \"error\", \"scale\": {\"type\": \"linear\", \"zero\": false}, \"sort\": null}, \"y\": {\"type\": \"nominal\", \"field\": \"player\", \"scale\": {\"type\": \"linear\", \"zero\": true}, \"sort\": null}}, \"height\": 300, \"width\": \"container\", \"$schema\": \"https://vega.github.io/schema/vega-lite/v4.json\", \"datasets\": {\"data-1105b2353ad6d6c8a5f659e54c288d65\": [{\"fanta_team\": \"Beverly INPS\", \"role\": \"C\", \"player\": \"Zielinski\", \"team\": \"Napoli\", \"opponent\": \"Empoli\", \"date\": \"2022-04-24T00:00:00\", \"expected_bonus\": 0.90526336, \"true_bonus\": 0.0, \"error\": 0.90526336, \"error_type\": \"overestimated\"}, {\"fanta_team\": \"Beverly INPS\", \"role\": \"C\", \"player\": \"Kessi\\u00e9\", \"team\": \"AC Milan\", \"opponent\": \"Lazio\", \"date\": \"2022-04-24T00:00:00\", \"expected_bonus\": 0.5091707, \"true_bonus\": 0.0, \"error\": 0.5091707, \"error_type\": \"overestimated\"}, {\"fanta_team\": \"Beverly INPS\", \"role\": \"C\", \"player\": \"Alberto\", \"team\": \"Lazio\", \"opponent\": \"AC Milan\", \"date\": \"2022-04-24T00:00:00\", \"expected_bonus\": 0.4116333, \"true_bonus\": 0.0, \"error\": 0.4116333, \"error_type\": \"overestimated\"}, {\"fanta_team\": \"Beverly INPS\", \"role\": \"A\", \"player\": \"Mertens\", \"team\": \"Napoli\", \"opponent\": \"Empoli\", \"date\": \"2022-04-24T00:00:00\", \"expected_bonus\": 1.4670151, \"true_bonus\": 3.0, \"error\": -1.5329849, \"error_type\": \"underestimated\"}, {\"fanta_team\": \"Beverly INPS\", \"role\": \"A\", \"player\": \"Deulofeu\", \"team\": \"Udinese\", \"opponent\": \"Bologna\", \"date\": \"2022-04-24T00:00:00\", \"expected_bonus\": 1.0272499, \"true_bonus\": 1.0, \"error\": 0.027249899999999938, \"error_type\": \"overestimated\"}, {\"fanta_team\": \"Beverly INPS\", \"role\": \"A\", \"player\": \"Barrow\", \"team\": \"Bologna\", \"opponent\": \"Udinese\", \"date\": \"2022-04-24T00:00:00\", \"expected_bonus\": 0.91554886, \"true_bonus\": 0.0, \"error\": 0.91554886, \"error_type\": \"overestimated\"}, {\"fanta_team\": \"Beverly INPS\", \"role\": \"A\", \"player\": \"Gonz\\u00e1lez\", \"team\": \"Fiorentina\", \"opponent\": \"Salernitana\", \"date\": \"2022-04-24T00:00:00\", \"expected_bonus\": 0.8371265, \"true_bonus\": 0.0, \"error\": 0.8371265, \"error_type\": \"overestimated\"}]}}, {\"actions\": false, \"mode\": \"vega-lite\"});\n</script>",
      "text/plain": "alt.Chart(...)"
     },
     "metadata": {}
    }
   ]
  },
  {
   "cell_type": "code",
   "metadata": {
    "cell_id": "d7f08d19-70ea-42c9-b53f-af37f2745fd5",
    "tags": [],
    "deepnote_to_be_reexecuted": true,
    "source_hash": "96119dd1",
    "execution_start": 1651036263709,
    "execution_millis": 1,
    "deepnote_cell_type": "code"
   },
   "source": "team, index = display_fanta_squad(validation, teams, index)",
   "execution_count": null,
   "outputs": []
  },
  {
   "cell_type": "code",
   "source": "_deepnote_run_altair(team, \"\"\"{\"$schema\":\"https://vega.github.io/schema/vega-lite/v4.json\",\"mark\":{\"type\":\"bar\",\"tooltip\":{\"content\":\"data\"}},\"height\":220,\"autosize\":{\"type\":\"fit\"},\"data\":{\"name\":\"placeholder\"},\"encoding\":{\"x\":{\"field\":\"error\",\"type\":\"quantitative\",\"sort\":null,\"scale\":{\"type\":\"linear\",\"zero\":false}},\"y\":{\"field\":\"player\",\"type\":\"nominal\",\"sort\":null,\"scale\":{\"type\":\"linear\",\"zero\":true}},\"color\":{\"field\":\"error_type\",\"type\":\"nominal\",\"sort\":null,\"scale\":{\"type\":\"linear\",\"zero\":false}}}}\"\"\")",
   "metadata": {
    "cell_id": "00029-0f50e7b5-72d6-4b55-9d32-91160ff059b5",
    "deepnote_variable_name": "team",
    "deepnote_visualization_spec": {
     "$schema": "https://vega.github.io/schema/vega-lite/v4.json",
     "mark": {
      "type": "bar",
      "tooltip": {
       "content": "data"
      }
     },
     "height": 220,
     "autosize": {
      "type": "fit"
     },
     "data": {
      "name": "placeholder"
     },
     "encoding": {
      "x": {
       "field": "error",
       "type": "quantitative",
       "sort": null,
       "scale": {
        "type": "linear",
        "zero": false
       }
      },
      "y": {
       "field": "player",
       "type": "nominal",
       "sort": null,
       "scale": {
        "type": "linear",
        "zero": true
       }
      },
      "color": {
       "field": "error_type",
       "type": "nominal",
       "sort": null,
       "scale": {
        "type": "linear",
        "zero": false
       }
      }
     }
    },
    "deepnote_to_be_reexecuted": true,
    "source_hash": "81b9fc1a",
    "allow_embed": "output",
    "execution_start": 1651036263710,
    "execution_millis": 64,
    "deepnote_cell_type": "visualization",
    "deepnote_output_heights": [
     314
    ]
   },
   "execution_count": null,
   "outputs": [
    {
     "output_type": "execute_result",
     "execution_count": 31,
     "data": {
      "text/html": "\n<div id=\"altair-viz-67f0a92a8553417a817851a6f30cc79e\"></div>\n<script type=\"text/javascript\">\n  (function(spec, embedOpt){\n    let outputDiv = document.currentScript.previousElementSibling;\n    if (outputDiv.id !== \"altair-viz-67f0a92a8553417a817851a6f30cc79e\") {\n      outputDiv = document.getElementById(\"altair-viz-67f0a92a8553417a817851a6f30cc79e\");\n    }\n    const paths = {\n      \"vega\": \"https://cdn.jsdelivr.net/npm//vega@5?noext\",\n      \"vega-lib\": \"https://cdn.jsdelivr.net/npm//vega-lib?noext\",\n      \"vega-lite\": \"https://cdn.jsdelivr.net/npm//vega-lite@4.8.1?noext\",\n      \"vega-embed\": \"https://cdn.jsdelivr.net/npm//vega-embed@6?noext\",\n    };\n\n    function loadScript(lib) {\n      return new Promise(function(resolve, reject) {\n        var s = document.createElement('script');\n        s.src = paths[lib];\n        s.async = true;\n        s.onload = () => resolve(paths[lib]);\n        s.onerror = () => reject(`Error loading script: ${paths[lib]}`);\n        document.getElementsByTagName(\"head\")[0].appendChild(s);\n      });\n    }\n\n    function showError(err) {\n      outputDiv.innerHTML = `<div class=\"error\" style=\"color:red;\">${err}</div>`;\n      throw err;\n    }\n\n    function displayChart(vegaEmbed) {\n      vegaEmbed(outputDiv, spec, embedOpt)\n        .catch(err => showError(`Javascript Error: ${err.message}<br>This usually means there's a typo in your chart specification. See the javascript console for the full traceback.`));\n    }\n\n    if(typeof define === \"function\" && define.amd) {\n      requirejs.config({paths});\n      require([\"vega-embed\"], displayChart, err => showError(`Error loading script: ${err.message}`));\n    } else if (typeof vegaEmbed === \"function\") {\n      displayChart(vegaEmbed);\n    } else {\n      loadScript(\"vega\")\n        .then(() => loadScript(\"vega-lite\"))\n        .then(() => loadScript(\"vega-embed\"))\n        .catch(showError)\n        .then(() => displayChart(vegaEmbed));\n    }\n  })({\"config\": {\"view\": {\"continuousWidth\": 400, \"continuousHeight\": 300}, \"area\": {\"fill\": \"#51C0E9\"}, \"axis\": {\"labelFont\": \"Inter, sans-serif\", \"labelFontSize\": 12, \"labelFontWeight\": \"normal\", \"labelLimit\": 60, \"labelOverlap\": \"greedy\", \"titleFont\": \"Inter, sans-serif\", \"titleFontSize\": 12, \"titleFontWeight\": \"bold\"}, \"background\": \"#ffffff\", \"legend\": {\"labelFont\": \"Inter, sans-serif\", \"labelFontSize\": 12, \"titleFont\": \"Inter, sans-serif\", \"titleFontSize\": 12, \"titleFontWeight\": \"bold\"}, \"line\": {\"stroke\": \"#51C0E9\", \"strokeWidth\": 2}, \"rect\": {\"fill\": \"#51C0E9\"}, \"title\": {\"anchor\": \"start\", \"color\": \"#000000\", \"font\": \"Inter, sans-serif\", \"fontSize\": 22, \"fontWeight\": \"normal\"}}, \"data\": {\"name\": \"data-e8dd334f6fad25c54bc117f750d79416\"}, \"mark\": {\"type\": \"bar\", \"tooltip\": {\"content\": \"data\"}}, \"autosize\": {\"type\": \"fit\"}, \"encoding\": {\"color\": {\"type\": \"nominal\", \"field\": \"error_type\", \"scale\": {\"type\": \"linear\", \"zero\": false}, \"sort\": null}, \"x\": {\"type\": \"quantitative\", \"field\": \"error\", \"scale\": {\"type\": \"linear\", \"zero\": false}, \"sort\": null}, \"y\": {\"type\": \"nominal\", \"field\": \"player\", \"scale\": {\"type\": \"linear\", \"zero\": true}, \"sort\": null}}, \"height\": 300, \"width\": \"container\", \"$schema\": \"https://vega.github.io/schema/vega-lite/v4.json\", \"datasets\": {\"data-e8dd334f6fad25c54bc117f750d79416\": [{\"fanta_team\": \"MEZAFE\", \"role\": \"D\", \"player\": \"Silvestri\", \"team\": \"Bologna\", \"opponent\": \"Udinese\", \"date\": \"2022-04-24T00:00:00\", \"expected_bonus\": 0.2626758, \"true_bonus\": 0.0, \"error\": 0.2626758, \"error_type\": \"overestimated\"}, {\"fanta_team\": \"MEZAFE\", \"role\": \"C\", \"player\": \"Saelemaekers\", \"team\": \"AC Milan\", \"opponent\": \"Lazio\", \"date\": \"2022-04-24T00:00:00\", \"expected_bonus\": 0.6147989, \"true_bonus\": 0.0, \"error\": 0.6147989, \"error_type\": \"overestimated\"}, {\"fanta_team\": \"MEZAFE\", \"role\": \"C\", \"player\": \"Verdi\", \"team\": \"Salernitana\", \"opponent\": \"Fiorentina\", \"date\": \"2022-04-24T00:00:00\", \"expected_bonus\": 0.54525775, \"true_bonus\": 0.0, \"error\": 0.54525775, \"error_type\": \"overestimated\"}, {\"fanta_team\": \"MEZAFE\", \"role\": \"C\", \"player\": \"Tonali\", \"team\": \"AC Milan\", \"opponent\": \"Lazio\", \"date\": \"2022-04-24T00:00:00\", \"expected_bonus\": 0.28123882, \"true_bonus\": 3.0, \"error\": -2.71876118, \"error_type\": \"underestimated\"}, {\"fanta_team\": \"MEZAFE\", \"role\": \"A\", \"player\": \"Piatek\", \"team\": \"Fiorentina\", \"opponent\": \"Salernitana\", \"date\": \"2022-04-24T00:00:00\", \"expected_bonus\": 1.333675, \"true_bonus\": 0.0, \"error\": 1.333675, \"error_type\": \"overestimated\"}, {\"fanta_team\": \"MEZAFE\", \"role\": \"A\", \"player\": \"Rebic\", \"team\": \"AC Milan\", \"opponent\": \"Lazio\", \"date\": \"2022-04-24T00:00:00\", \"expected_bonus\": 0.34112033, \"true_bonus\": 0.0, \"error\": 0.34112033, \"error_type\": \"overestimated\"}]}}, {\"actions\": false, \"mode\": \"vega-lite\"});\n</script>",
      "text/plain": "alt.Chart(...)"
     },
     "metadata": {}
    }
   ]
  },
  {
   "cell_type": "code",
   "metadata": {
    "cell_id": "cc3dc8c6-dc8f-44b0-a37e-c28bcb2bd928",
    "tags": [],
    "deepnote_to_be_reexecuted": true,
    "source_hash": "96119dd1",
    "execution_start": 1651036263774,
    "execution_millis": 2,
    "deepnote_cell_type": "code"
   },
   "source": "team, index = display_fanta_squad(validation, teams, index)",
   "execution_count": null,
   "outputs": []
  },
  {
   "cell_type": "code",
   "source": "_deepnote_run_altair(team, \"\"\"{\"$schema\":\"https://vega.github.io/schema/vega-lite/v4.json\",\"mark\":{\"type\":\"bar\",\"tooltip\":{\"content\":\"data\"}},\"height\":220,\"autosize\":{\"type\":\"fit\"},\"data\":{\"name\":\"placeholder\"},\"encoding\":{\"x\":{\"field\":\"error\",\"type\":\"quantitative\",\"sort\":null,\"scale\":{\"type\":\"linear\",\"zero\":false}},\"y\":{\"field\":\"player\",\"type\":\"nominal\",\"sort\":null,\"scale\":{\"type\":\"linear\",\"zero\":true}},\"color\":{\"field\":\"error_type\",\"type\":\"nominal\",\"sort\":null,\"scale\":{\"type\":\"linear\",\"zero\":false}}}}\"\"\")",
   "metadata": {
    "cell_id": "00031-fd6a1c71-4f0b-4b0a-a71b-11423045a9e4",
    "deepnote_variable_name": "team",
    "deepnote_visualization_spec": {
     "$schema": "https://vega.github.io/schema/vega-lite/v4.json",
     "mark": {
      "type": "bar",
      "tooltip": {
       "content": "data"
      }
     },
     "height": 220,
     "autosize": {
      "type": "fit"
     },
     "data": {
      "name": "placeholder"
     },
     "encoding": {
      "x": {
       "field": "error",
       "type": "quantitative",
       "sort": null,
       "scale": {
        "type": "linear",
        "zero": false
       }
      },
      "y": {
       "field": "player",
       "type": "nominal",
       "sort": null,
       "scale": {
        "type": "linear",
        "zero": true
       }
      },
      "color": {
       "field": "error_type",
       "type": "nominal",
       "sort": null,
       "scale": {
        "type": "linear",
        "zero": false
       }
      }
     }
    },
    "deepnote_to_be_reexecuted": true,
    "source_hash": "81b9fc1a",
    "allow_embed": "output",
    "execution_start": 1651036263778,
    "execution_millis": 77,
    "deepnote_cell_type": "visualization",
    "deepnote_output_heights": [
     314
    ]
   },
   "execution_count": null,
   "outputs": [
    {
     "output_type": "execute_result",
     "execution_count": 33,
     "data": {
      "text/html": "\n<div id=\"altair-viz-55a9227255df422294e901917b3a9174\"></div>\n<script type=\"text/javascript\">\n  (function(spec, embedOpt){\n    let outputDiv = document.currentScript.previousElementSibling;\n    if (outputDiv.id !== \"altair-viz-55a9227255df422294e901917b3a9174\") {\n      outputDiv = document.getElementById(\"altair-viz-55a9227255df422294e901917b3a9174\");\n    }\n    const paths = {\n      \"vega\": \"https://cdn.jsdelivr.net/npm//vega@5?noext\",\n      \"vega-lib\": \"https://cdn.jsdelivr.net/npm//vega-lib?noext\",\n      \"vega-lite\": \"https://cdn.jsdelivr.net/npm//vega-lite@4.8.1?noext\",\n      \"vega-embed\": \"https://cdn.jsdelivr.net/npm//vega-embed@6?noext\",\n    };\n\n    function loadScript(lib) {\n      return new Promise(function(resolve, reject) {\n        var s = document.createElement('script');\n        s.src = paths[lib];\n        s.async = true;\n        s.onload = () => resolve(paths[lib]);\n        s.onerror = () => reject(`Error loading script: ${paths[lib]}`);\n        document.getElementsByTagName(\"head\")[0].appendChild(s);\n      });\n    }\n\n    function showError(err) {\n      outputDiv.innerHTML = `<div class=\"error\" style=\"color:red;\">${err}</div>`;\n      throw err;\n    }\n\n    function displayChart(vegaEmbed) {\n      vegaEmbed(outputDiv, spec, embedOpt)\n        .catch(err => showError(`Javascript Error: ${err.message}<br>This usually means there's a typo in your chart specification. See the javascript console for the full traceback.`));\n    }\n\n    if(typeof define === \"function\" && define.amd) {\n      requirejs.config({paths});\n      require([\"vega-embed\"], displayChart, err => showError(`Error loading script: ${err.message}`));\n    } else if (typeof vegaEmbed === \"function\") {\n      displayChart(vegaEmbed);\n    } else {\n      loadScript(\"vega\")\n        .then(() => loadScript(\"vega-lite\"))\n        .then(() => loadScript(\"vega-embed\"))\n        .catch(showError)\n        .then(() => displayChart(vegaEmbed));\n    }\n  })({\"config\": {\"view\": {\"continuousWidth\": 400, \"continuousHeight\": 300}, \"area\": {\"fill\": \"#51C0E9\"}, \"axis\": {\"labelFont\": \"Inter, sans-serif\", \"labelFontSize\": 12, \"labelFontWeight\": \"normal\", \"labelLimit\": 60, \"labelOverlap\": \"greedy\", \"titleFont\": \"Inter, sans-serif\", \"titleFontSize\": 12, \"titleFontWeight\": \"bold\"}, \"background\": \"#ffffff\", \"legend\": {\"labelFont\": \"Inter, sans-serif\", \"labelFontSize\": 12, \"titleFont\": \"Inter, sans-serif\", \"titleFontSize\": 12, \"titleFontWeight\": \"bold\"}, \"line\": {\"stroke\": \"#51C0E9\", \"strokeWidth\": 2}, \"rect\": {\"fill\": \"#51C0E9\"}, \"title\": {\"anchor\": \"start\", \"color\": \"#000000\", \"font\": \"Inter, sans-serif\", \"fontSize\": 22, \"fontWeight\": \"normal\"}}, \"data\": {\"name\": \"data-616e0e37051dfd71ccfb8df2d4202bc7\"}, \"mark\": {\"type\": \"bar\", \"tooltip\": {\"content\": \"data\"}}, \"autosize\": {\"type\": \"fit\"}, \"encoding\": {\"color\": {\"type\": \"nominal\", \"field\": \"error_type\", \"scale\": {\"type\": \"linear\", \"zero\": false}, \"sort\": null}, \"x\": {\"type\": \"quantitative\", \"field\": \"error\", \"scale\": {\"type\": \"linear\", \"zero\": false}, \"sort\": null}, \"y\": {\"type\": \"nominal\", \"field\": \"player\", \"scale\": {\"type\": \"linear\", \"zero\": true}, \"sort\": null}}, \"height\": 300, \"width\": \"container\", \"$schema\": \"https://vega.github.io/schema/vega-lite/v4.json\", \"datasets\": {\"data-616e0e37051dfd71ccfb8df2d4202bc7\": [{\"fanta_team\": \"MaiNa Joya_v2.0\", \"role\": \"D\", \"player\": \"Hern\\u00e1ndez\", \"team\": \"AC Milan\", \"opponent\": \"Lazio\", \"date\": \"2022-04-24T00:00:00\", \"expected_bonus\": 0.54903775, \"true_bonus\": 0.0, \"error\": 0.54903775, \"error_type\": \"overestimated\"}, {\"fanta_team\": \"MaiNa Joya_v2.0\", \"role\": \"D\", \"player\": \"Molina\", \"team\": \"Udinese\", \"opponent\": \"Bologna\", \"date\": \"2022-04-24T00:00:00\", \"expected_bonus\": 0.2259753, \"true_bonus\": 0.0, \"error\": 0.2259753, \"error_type\": \"overestimated\"}, {\"fanta_team\": \"MaiNa Joya_v2.0\", \"role\": \"D\", \"player\": \"Milenkovic\", \"team\": \"Fiorentina\", \"opponent\": \"Salernitana\", \"date\": \"2022-04-24T00:00:00\", \"expected_bonus\": 0.18582983, \"true_bonus\": 0.0, \"error\": 0.18582983, \"error_type\": \"overestimated\"}, {\"fanta_team\": \"MaiNa Joya_v2.0\", \"role\": \"D\", \"player\": \"Stojanovic\", \"team\": \"Empoli\", \"opponent\": \"Napoli\", \"date\": \"2022-04-24T00:00:00\", \"expected_bonus\": 0.13446696, \"true_bonus\": 0.0, \"error\": 0.13446696, \"error_type\": \"overestimated\"}, {\"fanta_team\": \"MaiNa Joya_v2.0\", \"role\": \"C\", \"player\": \"Milinkovic-Savic\", \"team\": \"Lazio\", \"opponent\": \"AC Milan\", \"date\": \"2022-04-24T00:00:00\", \"expected_bonus\": 0.7354048, \"true_bonus\": 1.0, \"error\": -0.26459520000000003, \"error_type\": \"underestimated\"}, {\"fanta_team\": \"MaiNa Joya_v2.0\", \"role\": \"C\", \"player\": \"Soriano\", \"team\": \"Bologna\", \"opponent\": \"Udinese\", \"date\": \"2022-04-24T00:00:00\", \"expected_bonus\": 0.41692623, \"true_bonus\": 0.0, \"error\": 0.41692623, \"error_type\": \"overestimated\"}, {\"fanta_team\": \"MaiNa Joya_v2.0\", \"role\": \"A\", \"player\": \"Insigne\", \"team\": \"Napoli\", \"opponent\": \"Empoli\", \"date\": \"2022-04-24T00:00:00\", \"expected_bonus\": 1.5956905, \"true_bonus\": 3.0, \"error\": -1.4043095, \"error_type\": \"underestimated\"}]}}, {\"actions\": false, \"mode\": \"vega-lite\"});\n</script>",
      "text/plain": "alt.Chart(...)"
     },
     "metadata": {}
    }
   ]
  },
  {
   "cell_type": "code",
   "metadata": {
    "cell_id": "e535efe4-693e-48a8-844c-8094b246c7ae",
    "tags": [],
    "deepnote_to_be_reexecuted": true,
    "source_hash": "96119dd1",
    "execution_start": 1651036263858,
    "execution_millis": 4,
    "deepnote_cell_type": "code"
   },
   "source": "team, index = display_fanta_squad(validation, teams, index)",
   "execution_count": null,
   "outputs": []
  },
  {
   "cell_type": "code",
   "source": "_deepnote_run_altair(team, \"\"\"{\"$schema\":\"https://vega.github.io/schema/vega-lite/v4.json\",\"mark\":{\"type\":\"bar\",\"tooltip\":{\"content\":\"data\"}},\"height\":220,\"autosize\":{\"type\":\"fit\"},\"data\":{\"name\":\"placeholder\"},\"encoding\":{\"x\":{\"field\":\"error\",\"type\":\"quantitative\",\"sort\":null,\"scale\":{\"type\":\"linear\",\"zero\":false}},\"y\":{\"field\":\"player\",\"type\":\"nominal\",\"sort\":null,\"scale\":{\"type\":\"linear\",\"zero\":true}},\"color\":{\"field\":\"error_type\",\"type\":\"nominal\",\"sort\":null,\"scale\":{\"type\":\"linear\",\"zero\":false}}}}\"\"\")",
   "metadata": {
    "cell_id": "00033-a031bc55-5807-4595-ad40-c91acb5f58f5",
    "deepnote_variable_name": "team",
    "deepnote_visualization_spec": {
     "$schema": "https://vega.github.io/schema/vega-lite/v4.json",
     "mark": {
      "type": "bar",
      "tooltip": {
       "content": "data"
      }
     },
     "height": 220,
     "autosize": {
      "type": "fit"
     },
     "data": {
      "name": "placeholder"
     },
     "encoding": {
      "x": {
       "field": "error",
       "type": "quantitative",
       "sort": null,
       "scale": {
        "type": "linear",
        "zero": false
       }
      },
      "y": {
       "field": "player",
       "type": "nominal",
       "sort": null,
       "scale": {
        "type": "linear",
        "zero": true
       }
      },
      "color": {
       "field": "error_type",
       "type": "nominal",
       "sort": null,
       "scale": {
        "type": "linear",
        "zero": false
       }
      }
     }
    },
    "deepnote_to_be_reexecuted": true,
    "source_hash": "81b9fc1a",
    "allow_embed": "output",
    "execution_start": 1651036263877,
    "execution_millis": 89,
    "deepnote_cell_type": "visualization",
    "deepnote_output_heights": [
     314
    ]
   },
   "execution_count": null,
   "outputs": [
    {
     "output_type": "execute_result",
     "execution_count": 35,
     "data": {
      "text/html": "\n<div id=\"altair-viz-ef1862a4bac647b58898de2ae5648f06\"></div>\n<script type=\"text/javascript\">\n  (function(spec, embedOpt){\n    let outputDiv = document.currentScript.previousElementSibling;\n    if (outputDiv.id !== \"altair-viz-ef1862a4bac647b58898de2ae5648f06\") {\n      outputDiv = document.getElementById(\"altair-viz-ef1862a4bac647b58898de2ae5648f06\");\n    }\n    const paths = {\n      \"vega\": \"https://cdn.jsdelivr.net/npm//vega@5?noext\",\n      \"vega-lib\": \"https://cdn.jsdelivr.net/npm//vega-lib?noext\",\n      \"vega-lite\": \"https://cdn.jsdelivr.net/npm//vega-lite@4.8.1?noext\",\n      \"vega-embed\": \"https://cdn.jsdelivr.net/npm//vega-embed@6?noext\",\n    };\n\n    function loadScript(lib) {\n      return new Promise(function(resolve, reject) {\n        var s = document.createElement('script');\n        s.src = paths[lib];\n        s.async = true;\n        s.onload = () => resolve(paths[lib]);\n        s.onerror = () => reject(`Error loading script: ${paths[lib]}`);\n        document.getElementsByTagName(\"head\")[0].appendChild(s);\n      });\n    }\n\n    function showError(err) {\n      outputDiv.innerHTML = `<div class=\"error\" style=\"color:red;\">${err}</div>`;\n      throw err;\n    }\n\n    function displayChart(vegaEmbed) {\n      vegaEmbed(outputDiv, spec, embedOpt)\n        .catch(err => showError(`Javascript Error: ${err.message}<br>This usually means there's a typo in your chart specification. See the javascript console for the full traceback.`));\n    }\n\n    if(typeof define === \"function\" && define.amd) {\n      requirejs.config({paths});\n      require([\"vega-embed\"], displayChart, err => showError(`Error loading script: ${err.message}`));\n    } else if (typeof vegaEmbed === \"function\") {\n      displayChart(vegaEmbed);\n    } else {\n      loadScript(\"vega\")\n        .then(() => loadScript(\"vega-lite\"))\n        .then(() => loadScript(\"vega-embed\"))\n        .catch(showError)\n        .then(() => displayChart(vegaEmbed));\n    }\n  })({\"config\": {\"view\": {\"continuousWidth\": 400, \"continuousHeight\": 300}, \"area\": {\"fill\": \"#51C0E9\"}, \"axis\": {\"labelFont\": \"Inter, sans-serif\", \"labelFontSize\": 12, \"labelFontWeight\": \"normal\", \"labelLimit\": 60, \"labelOverlap\": \"greedy\", \"titleFont\": \"Inter, sans-serif\", \"titleFontSize\": 12, \"titleFontWeight\": \"bold\"}, \"background\": \"#ffffff\", \"legend\": {\"labelFont\": \"Inter, sans-serif\", \"labelFontSize\": 12, \"titleFont\": \"Inter, sans-serif\", \"titleFontSize\": 12, \"titleFontWeight\": \"bold\"}, \"line\": {\"stroke\": \"#51C0E9\", \"strokeWidth\": 2}, \"rect\": {\"fill\": \"#51C0E9\"}, \"title\": {\"anchor\": \"start\", \"color\": \"#000000\", \"font\": \"Inter, sans-serif\", \"fontSize\": 22, \"fontWeight\": \"normal\"}}, \"data\": {\"name\": \"data-706759227061669ef38c4fbe53506a8d\"}, \"mark\": {\"type\": \"bar\", \"tooltip\": {\"content\": \"data\"}}, \"autosize\": {\"type\": \"fit\"}, \"encoding\": {\"color\": {\"type\": \"nominal\", \"field\": \"error_type\", \"scale\": {\"type\": \"linear\", \"zero\": false}, \"sort\": null}, \"x\": {\"type\": \"quantitative\", \"field\": \"error\", \"scale\": {\"type\": \"linear\", \"zero\": false}, \"sort\": null}, \"y\": {\"type\": \"nominal\", \"field\": \"player\", \"scale\": {\"type\": \"linear\", \"zero\": true}, \"sort\": null}}, \"height\": 300, \"width\": \"container\", \"$schema\": \"https://vega.github.io/schema/vega-lite/v4.json\", \"datasets\": {\"data-706759227061669ef38c4fbe53506a8d\": [{\"fanta_team\": \"Rione Monti\", \"role\": \"D\", \"player\": \"Biraghi\", \"team\": \"Fiorentina\", \"opponent\": \"Salernitana\", \"date\": \"2022-04-24T00:00:00\", \"expected_bonus\": 0.3365572, \"true_bonus\": 0.0, \"error\": 0.3365572, \"error_type\": \"overestimated\"}, {\"fanta_team\": \"Rione Monti\", \"role\": \"D\", \"player\": \"Lazzari\", \"team\": \"Lazio\", \"opponent\": \"AC Milan\", \"date\": \"2022-04-24T00:00:00\", \"expected_bonus\": 0.13457154, \"true_bonus\": 0.0, \"error\": 0.13457154, \"error_type\": \"overestimated\"}, {\"fanta_team\": \"Rione Monti\", \"role\": \"C\", \"player\": \"Anderson\", \"team\": \"Lazio\", \"opponent\": \"AC Milan\", \"date\": \"2022-04-24T00:00:00\", \"expected_bonus\": 0.43942004, \"true_bonus\": 0.0, \"error\": 0.43942004, \"error_type\": \"overestimated\"}, {\"fanta_team\": \"Rione Monti\", \"role\": \"C\", \"player\": \"Henderson\", \"team\": \"Empoli\", \"opponent\": \"Napoli\", \"date\": \"2022-04-24T00:00:00\", \"expected_bonus\": 0.33846354, \"true_bonus\": 3.0, \"error\": -2.6615364599999998, \"error_type\": \"underestimated\"}, {\"fanta_team\": \"Rione Monti\", \"role\": \"A\", \"player\": \"Ibrahimovic\", \"team\": \"AC Milan\", \"opponent\": \"Lazio\", \"date\": \"2022-04-24T00:00:00\", \"expected_bonus\": 1.3639864, \"true_bonus\": 1.0, \"error\": 0.36398639999999993, \"error_type\": \"overestimated\"}, {\"fanta_team\": \"Rione Monti\", \"role\": \"A\", \"player\": \"Pinamonti\", \"team\": \"Empoli\", \"opponent\": \"Napoli\", \"date\": \"2022-04-24T00:00:00\", \"expected_bonus\": 1.2043997, \"true_bonus\": 6.0, \"error\": -4.7956003, \"error_type\": \"underestimated\"}]}}, {\"actions\": false, \"mode\": \"vega-lite\"});\n</script>",
      "text/plain": "alt.Chart(...)"
     },
     "metadata": {}
    }
   ]
  },
  {
   "cell_type": "code",
   "metadata": {
    "cell_id": "e564bc39-b966-4695-b67e-63287438ee0d",
    "tags": [],
    "deepnote_to_be_reexecuted": true,
    "source_hash": "96119dd1",
    "execution_start": 1651036263960,
    "execution_millis": 7,
    "deepnote_cell_type": "code"
   },
   "source": "team, index = display_fanta_squad(validation, teams, index)",
   "execution_count": null,
   "outputs": []
  },
  {
   "cell_type": "code",
   "source": "_deepnote_run_altair(team, \"\"\"{\"$schema\":\"https://vega.github.io/schema/vega-lite/v4.json\",\"mark\":{\"type\":\"bar\",\"tooltip\":{\"content\":\"data\"}},\"height\":220,\"autosize\":{\"type\":\"fit\"},\"data\":{\"name\":\"placeholder\"},\"encoding\":{\"x\":{\"field\":\"error\",\"type\":\"quantitative\",\"sort\":null,\"scale\":{\"type\":\"linear\",\"zero\":false}},\"y\":{\"field\":\"player\",\"type\":\"nominal\",\"sort\":null,\"scale\":{\"type\":\"linear\",\"zero\":true}},\"color\":{\"field\":\"error_type\",\"type\":\"nominal\",\"sort\":null,\"scale\":{\"type\":\"linear\",\"zero\":false}}}}\"\"\")",
   "metadata": {
    "cell_id": "00035-6e8061f6-136b-4e33-8405-ebc568f30fab",
    "deepnote_variable_name": "team",
    "deepnote_visualization_spec": {
     "$schema": "https://vega.github.io/schema/vega-lite/v4.json",
     "mark": {
      "type": "bar",
      "tooltip": {
       "content": "data"
      }
     },
     "height": 220,
     "autosize": {
      "type": "fit"
     },
     "data": {
      "name": "placeholder"
     },
     "encoding": {
      "x": {
       "field": "error",
       "type": "quantitative",
       "sort": null,
       "scale": {
        "type": "linear",
        "zero": false
       }
      },
      "y": {
       "field": "player",
       "type": "nominal",
       "sort": null,
       "scale": {
        "type": "linear",
        "zero": true
       }
      },
      "color": {
       "field": "error_type",
       "type": "nominal",
       "sort": null,
       "scale": {
        "type": "linear",
        "zero": false
       }
      }
     }
    },
    "deepnote_to_be_reexecuted": true,
    "source_hash": "81b9fc1a",
    "allow_embed": "output",
    "execution_start": 1651036263969,
    "execution_millis": 115,
    "deepnote_cell_type": "visualization",
    "deepnote_output_heights": [
     314
    ]
   },
   "execution_count": null,
   "outputs": [
    {
     "output_type": "execute_result",
     "execution_count": 37,
     "data": {
      "text/html": "\n<div id=\"altair-viz-b565b6dbf8fb41ee9ba053863813ff1d\"></div>\n<script type=\"text/javascript\">\n  (function(spec, embedOpt){\n    let outputDiv = document.currentScript.previousElementSibling;\n    if (outputDiv.id !== \"altair-viz-b565b6dbf8fb41ee9ba053863813ff1d\") {\n      outputDiv = document.getElementById(\"altair-viz-b565b6dbf8fb41ee9ba053863813ff1d\");\n    }\n    const paths = {\n      \"vega\": \"https://cdn.jsdelivr.net/npm//vega@5?noext\",\n      \"vega-lib\": \"https://cdn.jsdelivr.net/npm//vega-lib?noext\",\n      \"vega-lite\": \"https://cdn.jsdelivr.net/npm//vega-lite@4.8.1?noext\",\n      \"vega-embed\": \"https://cdn.jsdelivr.net/npm//vega-embed@6?noext\",\n    };\n\n    function loadScript(lib) {\n      return new Promise(function(resolve, reject) {\n        var s = document.createElement('script');\n        s.src = paths[lib];\n        s.async = true;\n        s.onload = () => resolve(paths[lib]);\n        s.onerror = () => reject(`Error loading script: ${paths[lib]}`);\n        document.getElementsByTagName(\"head\")[0].appendChild(s);\n      });\n    }\n\n    function showError(err) {\n      outputDiv.innerHTML = `<div class=\"error\" style=\"color:red;\">${err}</div>`;\n      throw err;\n    }\n\n    function displayChart(vegaEmbed) {\n      vegaEmbed(outputDiv, spec, embedOpt)\n        .catch(err => showError(`Javascript Error: ${err.message}<br>This usually means there's a typo in your chart specification. See the javascript console for the full traceback.`));\n    }\n\n    if(typeof define === \"function\" && define.amd) {\n      requirejs.config({paths});\n      require([\"vega-embed\"], displayChart, err => showError(`Error loading script: ${err.message}`));\n    } else if (typeof vegaEmbed === \"function\") {\n      displayChart(vegaEmbed);\n    } else {\n      loadScript(\"vega\")\n        .then(() => loadScript(\"vega-lite\"))\n        .then(() => loadScript(\"vega-embed\"))\n        .catch(showError)\n        .then(() => displayChart(vegaEmbed));\n    }\n  })({\"config\": {\"view\": {\"continuousWidth\": 400, \"continuousHeight\": 300}, \"area\": {\"fill\": \"#51C0E9\"}, \"axis\": {\"labelFont\": \"Inter, sans-serif\", \"labelFontSize\": 12, \"labelFontWeight\": \"normal\", \"labelLimit\": 60, \"labelOverlap\": \"greedy\", \"titleFont\": \"Inter, sans-serif\", \"titleFontSize\": 12, \"titleFontWeight\": \"bold\"}, \"background\": \"#ffffff\", \"legend\": {\"labelFont\": \"Inter, sans-serif\", \"labelFontSize\": 12, \"titleFont\": \"Inter, sans-serif\", \"titleFontSize\": 12, \"titleFontWeight\": \"bold\"}, \"line\": {\"stroke\": \"#51C0E9\", \"strokeWidth\": 2}, \"rect\": {\"fill\": \"#51C0E9\"}, \"title\": {\"anchor\": \"start\", \"color\": \"#000000\", \"font\": \"Inter, sans-serif\", \"fontSize\": 22, \"fontWeight\": \"normal\"}}, \"data\": {\"name\": \"data-5e527688e5bfca39702c5702003c6ab6\"}, \"mark\": {\"type\": \"bar\", \"tooltip\": {\"content\": \"data\"}}, \"autosize\": {\"type\": \"fit\"}, \"encoding\": {\"color\": {\"type\": \"nominal\", \"field\": \"error_type\", \"scale\": {\"type\": \"linear\", \"zero\": false}, \"sort\": null}, \"x\": {\"type\": \"quantitative\", \"field\": \"error\", \"scale\": {\"type\": \"linear\", \"zero\": false}, \"sort\": null}, \"y\": {\"type\": \"nominal\", \"field\": \"player\", \"scale\": {\"type\": \"linear\", \"zero\": true}, \"sort\": null}}, \"height\": 300, \"width\": \"container\", \"$schema\": \"https://vega.github.io/schema/vega-lite/v4.json\", \"datasets\": {\"data-5e527688e5bfca39702c5702003c6ab6\": [{\"fanta_team\": \"Scansuolo \", \"role\": \"D\", \"player\": \"Hickey\", \"team\": \"Bologna\", \"opponent\": \"Udinese\", \"date\": \"2022-04-24T00:00:00\", \"expected_bonus\": 0.17128682, \"true_bonus\": 3.0, \"error\": -2.82871318, \"error_type\": \"underestimated\"}, {\"fanta_team\": \"Scansuolo \", \"role\": \"D\", \"player\": \"Hysaj\", \"team\": \"Lazio\", \"opponent\": \"AC Milan\", \"date\": \"2022-04-24T00:00:00\", \"expected_bonus\": 0.12784083, \"true_bonus\": 0.0, \"error\": 0.12784083, \"error_type\": \"overestimated\"}, {\"fanta_team\": \"Scansuolo \", \"role\": \"C\", \"player\": \"Diaz\", \"team\": \"AC Milan\", \"opponent\": \"Lazio\", \"date\": \"2022-04-24T00:00:00\", \"expected_bonus\": 0.5684408, \"true_bonus\": 0.0, \"error\": 0.5684408, \"error_type\": \"overestimated\"}, {\"fanta_team\": \"Scansuolo \", \"role\": \"C\", \"player\": \"Messias\", \"team\": \"AC Milan\", \"opponent\": \"Lazio\", \"date\": \"2022-04-24T00:00:00\", \"expected_bonus\": 0.55939597, \"true_bonus\": 0.0, \"error\": 0.55939597, \"error_type\": \"overestimated\"}, {\"fanta_team\": \"Scansuolo \", \"role\": \"C\", \"player\": \"Zaccagni\", \"team\": \"Lazio\", \"opponent\": \"AC Milan\", \"date\": \"2022-04-24T00:00:00\", \"expected_bonus\": 0.38249615, \"true_bonus\": 0.0, \"error\": 0.38249615, \"error_type\": \"overestimated\"}, {\"fanta_team\": \"Scansuolo \", \"role\": \"C\", \"player\": \"Zurkowski\", \"team\": \"Empoli\", \"opponent\": \"Napoli\", \"date\": \"2022-04-24T00:00:00\", \"expected_bonus\": 0.37475154, \"true_bonus\": 0.0, \"error\": 0.37475154, \"error_type\": \"overestimated\"}, {\"fanta_team\": \"Scansuolo \", \"role\": \"A\", \"player\": \"Immobile\", \"team\": \"Lazio\", \"opponent\": \"AC Milan\", \"date\": \"2022-04-24T00:00:00\", \"expected_bonus\": 1.5295475, \"true_bonus\": 3.0, \"error\": -1.4704525, \"error_type\": \"underestimated\"}, {\"fanta_team\": \"Scansuolo \", \"role\": \"A\", \"player\": \"Pedro\", \"team\": \"Cagliari\", \"opponent\": \"Genoa\", \"date\": \"2022-04-24T00:00:00\", \"expected_bonus\": 1.1152226, \"true_bonus\": 0.0, \"error\": 1.1152226, \"error_type\": \"overestimated\"}, {\"fanta_team\": \"Scansuolo \", \"role\": \"A\", \"player\": \"Le\\u00e3o\", \"team\": \"AC Milan\", \"opponent\": \"Lazio\", \"date\": \"2022-04-24T00:00:00\", \"expected_bonus\": 0.95471746, \"true_bonus\": 1.0, \"error\": -0.04528253999999998, \"error_type\": \"underestimated\"}]}}, {\"actions\": false, \"mode\": \"vega-lite\"});\n</script>",
      "text/plain": "alt.Chart(...)"
     },
     "metadata": {}
    }
   ]
  },
  {
   "cell_type": "code",
   "metadata": {
    "cell_id": "7e542268-7db2-427b-aec4-69e65596aecd",
    "tags": [],
    "deepnote_to_be_reexecuted": true,
    "source_hash": "96119dd1",
    "execution_start": 1651036264083,
    "execution_millis": 604761946,
    "deepnote_cell_type": "code"
   },
   "source": "team, index = display_fanta_squad(validation, teams, index)",
   "execution_count": null,
   "outputs": []
  },
  {
   "cell_type": "code",
   "source": "_deepnote_run_altair(team, \"\"\"{\"$schema\":\"https://vega.github.io/schema/vega-lite/v4.json\",\"mark\":{\"type\":\"bar\",\"tooltip\":{\"content\":\"data\"}},\"height\":220,\"autosize\":{\"type\":\"fit\"},\"data\":{\"name\":\"placeholder\"},\"encoding\":{\"x\":{\"field\":\"error\",\"type\":\"quantitative\",\"sort\":null,\"scale\":{\"type\":\"linear\",\"zero\":false}},\"y\":{\"field\":\"player\",\"type\":\"nominal\",\"sort\":null,\"scale\":{\"type\":\"linear\",\"zero\":true}},\"color\":{\"field\":\"error_type\",\"type\":\"nominal\",\"sort\":null,\"scale\":{\"type\":\"linear\",\"zero\":false}}}}\"\"\")",
   "metadata": {
    "cell_id": "00037-4755771f-51fc-4587-9023-788197e39785",
    "deepnote_variable_name": "team",
    "deepnote_visualization_spec": {
     "$schema": "https://vega.github.io/schema/vega-lite/v4.json",
     "mark": {
      "type": "bar",
      "tooltip": {
       "content": "data"
      }
     },
     "height": 220,
     "autosize": {
      "type": "fit"
     },
     "data": {
      "name": "placeholder"
     },
     "encoding": {
      "x": {
       "field": "error",
       "type": "quantitative",
       "sort": null,
       "scale": {
        "type": "linear",
        "zero": false
       }
      },
      "y": {
       "field": "player",
       "type": "nominal",
       "sort": null,
       "scale": {
        "type": "linear",
        "zero": true
       }
      },
      "color": {
       "field": "error_type",
       "type": "nominal",
       "sort": null,
       "scale": {
        "type": "linear",
        "zero": false
       }
      }
     }
    },
    "deepnote_to_be_reexecuted": true,
    "source_hash": "81b9fc1a",
    "allow_embed": "output",
    "execution_start": 1651036264083,
    "execution_millis": 72,
    "deepnote_cell_type": "visualization",
    "deepnote_output_heights": [
     314
    ]
   },
   "execution_count": null,
   "outputs": [
    {
     "output_type": "execute_result",
     "execution_count": 39,
     "data": {
      "text/html": "\n<div id=\"altair-viz-50cb15d6520043cf8e3d6d6b0e4afda4\"></div>\n<script type=\"text/javascript\">\n  (function(spec, embedOpt){\n    let outputDiv = document.currentScript.previousElementSibling;\n    if (outputDiv.id !== \"altair-viz-50cb15d6520043cf8e3d6d6b0e4afda4\") {\n      outputDiv = document.getElementById(\"altair-viz-50cb15d6520043cf8e3d6d6b0e4afda4\");\n    }\n    const paths = {\n      \"vega\": \"https://cdn.jsdelivr.net/npm//vega@5?noext\",\n      \"vega-lib\": \"https://cdn.jsdelivr.net/npm//vega-lib?noext\",\n      \"vega-lite\": \"https://cdn.jsdelivr.net/npm//vega-lite@4.8.1?noext\",\n      \"vega-embed\": \"https://cdn.jsdelivr.net/npm//vega-embed@6?noext\",\n    };\n\n    function loadScript(lib) {\n      return new Promise(function(resolve, reject) {\n        var s = document.createElement('script');\n        s.src = paths[lib];\n        s.async = true;\n        s.onload = () => resolve(paths[lib]);\n        s.onerror = () => reject(`Error loading script: ${paths[lib]}`);\n        document.getElementsByTagName(\"head\")[0].appendChild(s);\n      });\n    }\n\n    function showError(err) {\n      outputDiv.innerHTML = `<div class=\"error\" style=\"color:red;\">${err}</div>`;\n      throw err;\n    }\n\n    function displayChart(vegaEmbed) {\n      vegaEmbed(outputDiv, spec, embedOpt)\n        .catch(err => showError(`Javascript Error: ${err.message}<br>This usually means there's a typo in your chart specification. See the javascript console for the full traceback.`));\n    }\n\n    if(typeof define === \"function\" && define.amd) {\n      requirejs.config({paths});\n      require([\"vega-embed\"], displayChart, err => showError(`Error loading script: ${err.message}`));\n    } else if (typeof vegaEmbed === \"function\") {\n      displayChart(vegaEmbed);\n    } else {\n      loadScript(\"vega\")\n        .then(() => loadScript(\"vega-lite\"))\n        .then(() => loadScript(\"vega-embed\"))\n        .catch(showError)\n        .then(() => displayChart(vegaEmbed));\n    }\n  })({\"config\": {\"view\": {\"continuousWidth\": 400, \"continuousHeight\": 300}, \"area\": {\"fill\": \"#51C0E9\"}, \"axis\": {\"labelFont\": \"Inter, sans-serif\", \"labelFontSize\": 12, \"labelFontWeight\": \"normal\", \"labelLimit\": 60, \"labelOverlap\": \"greedy\", \"titleFont\": \"Inter, sans-serif\", \"titleFontSize\": 12, \"titleFontWeight\": \"bold\"}, \"background\": \"#ffffff\", \"legend\": {\"labelFont\": \"Inter, sans-serif\", \"labelFontSize\": 12, \"titleFont\": \"Inter, sans-serif\", \"titleFontSize\": 12, \"titleFontWeight\": \"bold\"}, \"line\": {\"stroke\": \"#51C0E9\", \"strokeWidth\": 2}, \"rect\": {\"fill\": \"#51C0E9\"}, \"title\": {\"anchor\": \"start\", \"color\": \"#000000\", \"font\": \"Inter, sans-serif\", \"fontSize\": 22, \"fontWeight\": \"normal\"}}, \"data\": {\"name\": \"data-e6fe9a68d2fbcca4a19e5e8b8db9e9b5\"}, \"mark\": {\"type\": \"bar\", \"tooltip\": {\"content\": \"data\"}}, \"autosize\": {\"type\": \"fit\"}, \"encoding\": {\"color\": {\"type\": \"nominal\", \"field\": \"error_type\", \"scale\": {\"type\": \"linear\", \"zero\": false}, \"sort\": null}, \"x\": {\"type\": \"quantitative\", \"field\": \"error\", \"scale\": {\"type\": \"linear\", \"zero\": false}, \"sort\": null}, \"y\": {\"type\": \"nominal\", \"field\": \"player\", \"scale\": {\"type\": \"linear\", \"zero\": true}, \"sort\": null}}, \"height\": 300, \"width\": \"container\", \"$schema\": \"https://vega.github.io/schema/vega-lite/v4.json\", \"datasets\": {\"data-e6fe9a68d2fbcca4a19e5e8b8db9e9b5\": [{\"fanta_team\": \"ssc mozzarella\", \"role\": \"D\", \"player\": \"Rui\", \"team\": \"Napoli\", \"opponent\": \"Empoli\", \"date\": \"2022-04-24T00:00:00\", \"expected_bonus\": 0.3872559, \"true_bonus\": 0.0, \"error\": 0.3872559, \"error_type\": \"overestimated\"}, {\"fanta_team\": \"ssc mozzarella\", \"role\": \"D\", \"player\": \"Theate\", \"team\": \"Bologna\", \"opponent\": \"Udinese\", \"date\": \"2022-04-24T00:00:00\", \"expected_bonus\": 0.2099958, \"true_bonus\": 0.0, \"error\": 0.2099958, \"error_type\": \"overestimated\"}, {\"fanta_team\": \"ssc mozzarella\", \"role\": \"D\", \"player\": \"Tomori\", \"team\": \"AC Milan\", \"opponent\": \"Lazio\", \"date\": \"2022-04-24T00:00:00\", \"expected_bonus\": 0.15202235, \"true_bonus\": 0.0, \"error\": 0.15202235, \"error_type\": \"overestimated\"}, {\"fanta_team\": \"ssc mozzarella\", \"role\": \"D\", \"player\": \"Felipe\", \"team\": \"Lazio\", \"opponent\": \"AC Milan\", \"date\": \"2022-04-24T00:00:00\", \"expected_bonus\": 0.13080762, \"true_bonus\": 0.0, \"error\": 0.13080762, \"error_type\": \"overestimated\"}, {\"fanta_team\": \"ssc mozzarella\", \"role\": \"C\", \"player\": \"Fabi\\u00e1n\", \"team\": \"Napoli\", \"opponent\": \"Empoli\", \"date\": \"2022-04-24T00:00:00\", \"expected_bonus\": 0.4890455, \"true_bonus\": 0.0, \"error\": 0.4890455, \"error_type\": \"overestimated\"}, {\"fanta_team\": \"ssc mozzarella\", \"role\": \"A\", \"player\": \"Osimhen\", \"team\": \"Napoli\", \"opponent\": \"Empoli\", \"date\": \"2022-04-24T00:00:00\", \"expected_bonus\": 1.582036, \"true_bonus\": 0.0, \"error\": 1.582036, \"error_type\": \"overestimated\"}, {\"fanta_team\": \"ssc mozzarella\", \"role\": \"A\", \"player\": \"Bonazzoli\", \"team\": \"Salernitana\", \"opponent\": \"Fiorentina\", \"date\": \"2022-04-24T00:00:00\", \"expected_bonus\": 1.0688957, \"true_bonus\": 3.0, \"error\": -1.9311043, \"error_type\": \"underestimated\"}, {\"fanta_team\": \"ssc mozzarella\", \"role\": \"A\", \"player\": \"Pavoletti\", \"team\": \"Cagliari\", \"opponent\": \"Genoa\", \"date\": \"2022-04-24T00:00:00\", \"expected_bonus\": 0.62201977, \"true_bonus\": 0.0, \"error\": 0.62201977, \"error_type\": \"overestimated\"}, {\"fanta_team\": \"ssc mozzarella\", \"role\": \"A\", \"player\": \"Politano\", \"team\": \"Napoli\", \"opponent\": \"Empoli\", \"date\": \"2022-04-24T00:00:00\", \"expected_bonus\": 0.5722901, \"true_bonus\": 0.0, \"error\": 0.5722901, \"error_type\": \"overestimated\"}]}}, {\"actions\": false, \"mode\": \"vega-lite\"});\n</script>",
      "text/plain": "alt.Chart(...)"
     },
     "metadata": {}
    }
   ]
  },
  {
   "cell_type": "code",
   "metadata": {
    "cell_id": "d16b87cb-3aed-4250-9e4e-9057c5bdbba9",
    "tags": [],
    "deepnote_to_be_reexecuted": true,
    "source_hash": "1e932bb3",
    "execution_start": 1651036264191,
    "execution_millis": 1232,
    "deepnote_cell_type": "code"
   },
   "source": "!git add *",
   "execution_count": null,
   "outputs": []
  },
  {
   "cell_type": "code",
   "metadata": {
    "cell_id": "55dad338-ddad-4d97-aa50-d8b65c93b7dc",
    "tags": [],
    "deepnote_to_be_reexecuted": true,
    "source_hash": "5c664a09",
    "execution_start": 1651036265425,
    "execution_millis": 1016,
    "deepnote_cell_type": "code"
   },
   "source": "!git commit -m 'Add gameweek results'",
   "execution_count": null,
   "outputs": [
    {
     "name": "stdout",
     "text": "[master d9d459d] Add gameweek results\r\n Committer: root <root@p-82f6a53d-2812-4762-aa0b-0b8fac2a34e3.projects-domain.projects.svc.cluster.local>\r\nYour name and email address were configured automatically based\r\non your username and hostname. Please check that they are accurate.\r\nYou can suppress this message by setting them explicitly. Run the\r\nfollowing command and follow the instructions in your editor to edit\r\nyour configuration file:\r\n\r\n    git config --global --edit\r\n\r\nAfter doing this, you may fix the identity used for this commit with:\r\n\r\n    git commit --amend --reset-author\r\n\r\n 24 files changed, 439 insertions(+), 235 deletions(-)\r\n create mode 100644 data/outputs/prediction/fanta-camplus-citta-studi/gameweek_34.csv\r\n create mode 100644 data/outputs/validation/fanta-camplus-citta-studi/gameweek_33.csv\r\n",
     "output_type": "stream"
    }
   ]
  },
  {
   "cell_type": "code",
   "metadata": {
    "cell_id": "b9faaae9-52a5-4af2-81e3-f6775c6857d0",
    "tags": [],
    "deepnote_to_be_reexecuted": true,
    "source_hash": "83d9be73",
    "execution_start": 1651036266442,
    "execution_millis": 3144,
    "deepnote_cell_type": "code"
   },
   "source": "!git push -u origin master",
   "execution_count": null,
   "outputs": [
    {
     "name": "stdout",
     "text": "Enumerating objects: 68, done.\nCounting objects: 100% (68/68), done.\nDelta compression using up to 2 threads\nCompressing objects: 100% (34/34), done.\nWriting objects: 100% (36/36), 18.18 KiB | 3.03 MiB/s, done.\nTotal 36 (delta 26), reused 0 (delta 0)\nremote: Resolving deltas: 100% (26/26), completed with 26 local objects.\u001b[K\nTo https://github.com/Zatfer17/serie-a-lineups.git\n   9cb6c09..d9d459d  master -> master\nBranch 'master' set up to track remote branch 'master' from 'origin'.\n",
     "output_type": "stream"
    }
   ]
  },
  {
   "cell_type": "markdown",
   "source": "<a style='text-decoration:none;line-height:16px;display:flex;color:#5B5B62;padding:10px;justify-content:end;' href='https://deepnote.com?utm_source=created-in-deepnote-cell&projectId=82f6a53d-2812-4762-aa0b-0b8fac2a34e3' target=\"_blank\">\n<img alt='Created in deepnote.com' style='display:inline;max-height:16px;margin:0px;margin-right:7.5px;' src='data:image/svg+xml;base64,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' > </img>\nCreated in <span style='font-weight:600;margin-left:4px;'>Deepnote</span></a>",
   "metadata": {
    "tags": [],
    "created_in_deepnote_cell": true,
    "deepnote_cell_type": "markdown"
   }
  }
 ],
 "nbformat": 4,
 "nbformat_minor": 2,
 "metadata": {
  "orig_nbformat": 2,
  "deepnote": {
   "is_reactive": false
  },
  "deepnote_notebook_id": "3f2f3cdc-e7c2-49e4-a3b0-2257581bb9c0",
  "deepnote_execution_queue": [
   {
    "cellId": "04913421-5945-4ac1-a1c7-1bd2f9975384",
    "msgId": "78e286d8-d3a1-437f-ba8d-f4a2cfffb93d"
   },
   {
    "cellId": "44571e9e-e8b2-407a-85b9-bcb406b04f31",
    "msgId": "4a6eefb2-c1a3-4850-b37a-74a6402d2a6b"
   },
   {
    "cellId": "fe5cb744-dcbb-4c2b-b8f4-eee4c37224da",
    "msgId": "78643a50-1867-474c-97dc-39000996833f"
   },
   {
    "cellId": "5307f8bd-5ea7-466a-8190-518b8819ea5b",
    "msgId": "d9ecf350-6865-47b5-8217-d634823f90c2"
   },
   {
    "cellId": "d6007c66-f029-409e-aef9-6f052b6748e3",
    "msgId": "df3b4653-51ce-4cf3-a8ee-93b252d64845"
   },
   {
    "cellId": "7230bd13-cec2-47d3-b394-a7502968a878",
    "msgId": "2c88c557-9931-4d81-86eb-89b6cebe5883"
   },
   {
    "cellId": "00025-5835c844-289b-4f92-b154-1d82c629a5b1",
    "msgId": "a2c3ffce-08ad-4f98-9efe-a11f3a391341"
   },
   {
    "cellId": "4b6caad3-94aa-4a54-be90-216f36213ee1",
    "msgId": "8323bf54-8bc3-4da0-85a9-aca117c1a9a5"
   },
   {
    "cellId": "00027-ad487baa-da0c-464f-9f9f-e9a21a67870d",
    "msgId": "38b11453-1702-4f8f-9464-71f1679754af"
   },
   {
    "cellId": "d7f08d19-70ea-42c9-b53f-af37f2745fd5",
    "msgId": "9e3e5d86-24fc-4493-a8ab-d2a938bc21fb"
   },
   {
    "cellId": "00029-0f50e7b5-72d6-4b55-9d32-91160ff059b5",
    "msgId": "728c4690-152a-44be-9496-d8fc843302a4"
   },
   {
    "cellId": "cc3dc8c6-dc8f-44b0-a37e-c28bcb2bd928",
    "msgId": "937cd9ec-dae2-475d-9c06-3877464dfd60"
   },
   {
    "cellId": "00031-fd6a1c71-4f0b-4b0a-a71b-11423045a9e4",
    "msgId": "b2dfb42f-795a-4622-a019-4b16f07fde02"
   },
   {
    "cellId": "e535efe4-693e-48a8-844c-8094b246c7ae",
    "msgId": "05721605-a3de-4213-b4a2-d38ce15ef34c"
   },
   {
    "cellId": "00033-a031bc55-5807-4595-ad40-c91acb5f58f5",
    "msgId": "0e82ae29-eae4-4366-8ee0-c026ac6ae80c"
   },
   {
    "cellId": "e564bc39-b966-4695-b67e-63287438ee0d",
    "msgId": "1669cde2-5eec-42a4-a960-2851b06c654e"
   },
   {
    "cellId": "00035-6e8061f6-136b-4e33-8405-ebc568f30fab",
    "msgId": "4c25b55c-4a75-4556-b44b-32d09fd12304"
   },
   {
    "cellId": "7e542268-7db2-427b-aec4-69e65596aecd",
    "msgId": "1283f2d5-7b3f-48fd-85b6-bf0c163ca8be"
   },
   {
    "cellId": "00037-4755771f-51fc-4587-9023-788197e39785",
    "msgId": "95a63812-58f3-4f3e-9d1e-b263093ecf23"
   },
   {
    "cellId": "d16b87cb-3aed-4250-9e4e-9057c5bdbba9",
    "msgId": "1640d753-7c65-4a4a-bf59-eb4b2f5b0240"
   },
   {
    "cellId": "55dad338-ddad-4d97-aa50-d8b65c93b7dc",
    "msgId": "7f9736b0-b13d-44b8-88fe-b919c6aabd04"
   },
   {
    "cellId": "b9faaae9-52a5-4af2-81e3-f6775c6857d0",
    "msgId": "5d3fcfc6-ae15-46b0-aecb-6449e79568e3",
    "scheduledRun": {
     "submitted": "Wed May 04 2022 05:01:29 GMT+0000 (Coordinated Universal Time)"
    }
   }
  ]
 }
}