{
 "cells": [
  {
   "cell_type": "code",
   "metadata": {
    "cell_id": "2e907202-ea86-4fba-81f7-cdd38cecd2b3",
    "tags": [],
    "deepnote_to_be_reexecuted": false,
    "source_hash": "adbe6457",
    "execution_start": 1650430906615,
    "execution_millis": 6527,
    "deepnote_cell_type": "code"
   },
   "source": "import json\nimport pandas as pd\n\nfrom datetime import datetime\nfrom modules.scoring import get_scoring_set, get_features, score, validate\nfrom modules.training import split_data, transform_data",
   "execution_count": 1,
   "outputs": [
    {
     "name": "stderr",
     "text": "/shared-libs/python3.7/py/lib/python3.7/site-packages/tqdm/auto.py:22: TqdmWarning: IProgress not found. Please update jupyter and ipywidgets. See https://ipywidgets.readthedocs.io/en/stable/user_install.html\n  from .autonotebook import tqdm as notebook_tqdm\n",
     "output_type": "stream"
    }
   ]
  },
  {
   "cell_type": "code",
   "metadata": {
    "tags": [],
    "cell_id": "103aa6bc-980e-44d2-ba16-c4839c2ac078",
    "deepnote_to_be_reexecuted": false,
    "source_hash": "173511cd",
    "execution_start": 1650430913144,
    "execution_millis": 10,
    "deepnote_cell_type": "code"
   },
   "source": "def display_fanta_squad(predictions, teams, index):\n    fanta_team = predictions[predictions['fanta_team'] == teams[index]]\n    return fanta_team, index+1    ",
   "execution_count": 2,
   "outputs": []
  },
  {
   "cell_type": "code",
   "metadata": {
    "cell_id": "d23ee413-9026-4f27-9c72-c2440a754314",
    "tags": [],
    "deepnote_to_be_reexecuted": false,
    "source_hash": "4ed74052",
    "execution_start": 1650430913158,
    "execution_millis": 262491,
    "deepnote_cell_type": "code"
   },
   "source": "try:\n    \n    ###############################################################################################\n    status = 'Loading config ...'\n    print('{} -> {}'.format(datetime.now().strftime('%Y-%m-%d %H:%M:%S'), status))\n    with open('config/config.json') as config:\n        config = json.load(config)\n    status = 'Loading config done!'\n    print('{} -> {}'.format(datetime.now().strftime('%Y-%m-%d %H:%M:%S'), status))\n    ###############################################################################################\n\n    ###############################################################################################\n    status = 'Getting scoring set ...'\n    print('{} -> {}'.format(datetime.now().strftime('%Y-%m-%d %H:%M:%S'), status))\n    scoring_set = get_scoring_set(config['league_name'])\n    scoring_set = get_features(scoring_set, config['league_name'])\n    X_raw, metadata = split_data(scoring_set, metadata_columns=['fanta_team', 'date', 'role', 'player_id', 'player'], production=True)\n    status = 'Getting scoring set done!'\n    print('{} -> {}'.format(datetime.now().strftime('%Y-%m-%d %H:%M:%S'), status))\n    ###############################################################################################\n    \n    ###############################################################################################\n    status = 'Processing features ...'\n    print('{} -> {}'.format(datetime.now().strftime('%Y-%m-%d %H:%M:%S'), status))\n    X = transform_data(X_test_raw=X_raw, categorical_columns=['team', 'opponent', 'is_home', 'position'], production=True)\n    status = 'Processing features done!'\n    print('{} -> {}'.format(datetime.now().strftime('%Y-%m-%d %H:%M:%S'), status))\n    ###############################################################################################\n\n    ###############################################################################################\n    status = 'Scoring ...'\n    print('{} -> {}'.format(datetime.now().strftime('%Y-%m-%d %H:%M:%S'), status))\n    predictions = score(X, scoring_set, config['league_name'], config['gameweek']['current'])\n    status = 'Scoring done!'\n    print('{} -> {}'.format(datetime.now().strftime('%Y-%m-%d %H:%M:%S'), status))\n    ###############################################################################################\n\n    ###############################################################################################\n    status = 'Preparing predictions for display...'\n    print('{} -> {}'.format(datetime.now().strftime('%Y-%m-%d %H:%M:%S'), status))\n    predictions['player'] = predictions['player'].apply(lambda x: x.split(' ')[-1])\n    status = 'Preparing predictions for display done!'\n    print('{} -> {}'.format(datetime.now().strftime('%Y-%m-%d %H:%M:%S'), status))\n    ###############################################################################################\n\n    ###############################################################################################\n    status = 'Updating config ...'\n    print('{} -> {}'.format(datetime.now().strftime('%Y-%m-%d %H:%M:%S'), status))\n    config['gameweek']['current'] = config['gameweek']['current'] + 1\n    with open('config/config.json', 'w') as f:\n        json.dump(config, f, indent=4)\n    status = 'Updating config done!'\n    print('{} -> {}'.format(datetime.now().strftime('%Y-%m-%d %H:%M:%S'), status))\n    ###############################################################################################\n\nexcept Exception as e:\n    print('Exception: {}'.format(e))\n    print('Errored out during: {}'.format(status))",
   "execution_count": 3,
   "outputs": [
    {
     "name": "stdout",
     "text": "2022-04-20 05:01:53 -> Loading config ...\n2022-04-20 05:01:53 -> Loading config done!\n2022-04-20 05:01:53 -> Getting scoring set ...\n100%|██████████| 20/20 [00:18<00:00,  1.08it/s]\n100%|██████████| 176/176 [03:53<00:00,  1.33s/it]\n100%|██████████| 166/166 [00:09<00:00, 17.05it/s]\n2022-04-20 05:06:15 -> Getting scoring set done!\n2022-04-20 05:06:15 -> Processing features ...\n2022-04-20 05:06:15 -> Processing features done!\n2022-04-20 05:06:15 -> Scoring ...\n2022-04-20 05:06:15 -> Scoring done!\n2022-04-20 05:06:15 -> Preparing predictions for display...\n2022-04-20 05:06:15 -> Preparing predictions for display done!\n2022-04-20 05:06:15 -> Updating config ...\n2022-04-20 05:06:15 -> Updating config done!\n",
     "output_type": "stream"
    }
   ]
  },
  {
   "cell_type": "code",
   "source": "_deepnote_run_altair(predictions, \"\"\"{\"$schema\":\"https://vega.github.io/schema/vega-lite/v4.json\",\"mark\":{\"type\":\"bar\",\"tooltip\":{\"content\":\"data\"}},\"height\":220,\"autosize\":{\"type\":\"fit\"},\"data\":{\"name\":\"placeholder\"},\"encoding\":{\"x\":{\"field\":\"expected_bonus\",\"type\":\"quantitative\",\"sort\":null,\"scale\":{\"type\":\"linear\",\"zero\":false},\"aggregate\":\"sum\"},\"y\":{\"field\":\"fanta_team\",\"type\":\"nominal\",\"sort\":{\"order\":\"descending\",\"encoding\":\"x\"},\"scale\":{\"type\":\"linear\",\"zero\":true}},\"color\":{\"field\":\"fanta_team\",\"type\":\"nominal\",\"sort\":null,\"scale\":{\"type\":\"linear\",\"zero\":false}}}}\"\"\")",
   "metadata": {
    "cell_id": "3f73d722-4f57-4b44-9be4-166196a3d886",
    "deepnote_variable_name": "predictions",
    "deepnote_visualization_spec": {
     "$schema": "https://vega.github.io/schema/vega-lite/v4.json",
     "mark": {
      "type": "bar",
      "tooltip": {
       "content": "data"
      }
     },
     "height": 220,
     "autosize": {
      "type": "fit"
     },
     "data": {
      "name": "placeholder"
     },
     "encoding": {
      "x": {
       "field": "expected_bonus",
       "type": "quantitative",
       "sort": null,
       "scale": {
        "type": "linear",
        "zero": false
       },
       "aggregate": "sum"
      },
      "y": {
       "field": "fanta_team",
       "type": "nominal",
       "sort": {
        "order": "descending",
        "encoding": "x"
       },
       "scale": {
        "type": "linear",
        "zero": true
       }
      },
      "color": {
       "field": "fanta_team",
       "type": "nominal",
       "sort": null,
       "scale": {
        "type": "linear",
        "zero": false
       }
      }
     }
    },
    "deepnote_to_be_reexecuted": false,
    "source_hash": "425094db",
    "execution_start": 1650431175648,
    "execution_millis": 557,
    "allow_embed": "output",
    "deepnote_cell_type": "visualization",
    "deepnote_output_heights": [
     314
    ]
   },
   "execution_count": 4,
   "outputs": [
    {
     "output_type": "execute_result",
     "execution_count": 4,
     "data": {
      "text/html": "\n<div id=\"altair-viz-d714a74fbec94160acef771d418dc223\"></div>\n<script type=\"text/javascript\">\n  (function(spec, embedOpt){\n    let outputDiv = document.currentScript.previousElementSibling;\n    if (outputDiv.id !== \"altair-viz-d714a74fbec94160acef771d418dc223\") {\n      outputDiv = document.getElementById(\"altair-viz-d714a74fbec94160acef771d418dc223\");\n    }\n    const paths = {\n      \"vega\": \"https://cdn.jsdelivr.net/npm//vega@5?noext\",\n      \"vega-lib\": \"https://cdn.jsdelivr.net/npm//vega-lib?noext\",\n      \"vega-lite\": \"https://cdn.jsdelivr.net/npm//vega-lite@4.8.1?noext\",\n      \"vega-embed\": \"https://cdn.jsdelivr.net/npm//vega-embed@6?noext\",\n    };\n\n    function loadScript(lib) {\n      return new Promise(function(resolve, reject) {\n        var s = document.createElement('script');\n        s.src = paths[lib];\n        s.async = true;\n        s.onload = () => resolve(paths[lib]);\n        s.onerror = () => reject(`Error loading script: ${paths[lib]}`);\n        document.getElementsByTagName(\"head\")[0].appendChild(s);\n      });\n    }\n\n    function showError(err) {\n      outputDiv.innerHTML = `<div class=\"error\" style=\"color:red;\">${err}</div>`;\n      throw err;\n    }\n\n    function displayChart(vegaEmbed) {\n      vegaEmbed(outputDiv, spec, embedOpt)\n        .catch(err => showError(`Javascript Error: ${err.message}<br>This usually means there's a typo in your chart specification. See the javascript console for the full traceback.`));\n    }\n\n    if(typeof define === \"function\" && define.amd) {\n      requirejs.config({paths});\n      require([\"vega-embed\"], displayChart, err => showError(`Error loading script: ${err.message}`));\n    } else if (typeof vegaEmbed === \"function\") {\n      displayChart(vegaEmbed);\n    } else {\n      loadScript(\"vega\")\n        .then(() => loadScript(\"vega-lite\"))\n        .then(() => loadScript(\"vega-embed\"))\n        .catch(showError)\n        .then(() => displayChart(vegaEmbed));\n    }\n  })({\"config\": {\"view\": {\"continuousWidth\": 400, \"continuousHeight\": 300}, \"area\": {\"fill\": \"#51C0E9\"}, \"axis\": {\"labelFont\": \"Inter, sans-serif\", \"labelFontSize\": 12, \"labelFontWeight\": \"normal\", \"labelLimit\": 60, \"labelOverlap\": \"greedy\", \"titleFont\": \"Inter, sans-serif\", \"titleFontSize\": 12, \"titleFontWeight\": \"bold\"}, \"background\": \"#ffffff\", \"legend\": {\"labelFont\": \"Inter, sans-serif\", \"labelFontSize\": 12, \"titleFont\": \"Inter, sans-serif\", \"titleFontSize\": 12, \"titleFontWeight\": \"bold\"}, \"line\": {\"stroke\": \"#51C0E9\", \"strokeWidth\": 2}, \"rect\": {\"fill\": \"#51C0E9\"}, \"title\": {\"anchor\": \"start\", \"color\": \"#000000\", \"font\": \"Inter, sans-serif\", \"fontSize\": 22, \"fontWeight\": \"normal\"}}, \"data\": {\"name\": \"data-74ab9fbb2c148d4574ffa2e0d3735350\"}, \"mark\": {\"type\": \"bar\", \"tooltip\": {\"content\": \"data\"}}, \"autosize\": {\"type\": \"fit\"}, \"encoding\": {\"color\": {\"type\": \"nominal\", \"field\": \"fanta_team\", \"scale\": {\"type\": \"linear\", \"zero\": false}, \"sort\": null}, \"x\": {\"type\": \"quantitative\", \"aggregate\": \"sum\", \"field\": \"expected_bonus\", \"scale\": {\"type\": \"linear\", \"zero\": false}, \"sort\": null}, \"y\": {\"type\": \"nominal\", \"field\": \"fanta_team\", \"scale\": {\"type\": \"linear\", \"zero\": true}, \"sort\": {\"encoding\": \"x\", \"order\": \"descending\"}}}, \"height\": 300, \"width\": \"container\", \"$schema\": \"https://vega.github.io/schema/vega-lite/v4.json\", \"datasets\": {\"data-74ab9fbb2c148d4574ffa2e0d3735350\": [{\"fanta_team\": \"ssc mozzarella\", \"role\": \"D\", \"player\": \"Dumfries\", \"team\": \"Inter\", \"opponent\": \"Roma\", \"date\": \"2022-04-24T00:00:00\", \"expected_bonus\": 0.690119206905365}, {\"fanta_team\": \"ssc mozzarella\", \"role\": \"D\", \"player\": \"Rui\", \"team\": \"Napoli\", \"opponent\": \"Empoli\", \"date\": \"2022-04-24T00:00:00\", \"expected_bonus\": 0.3872559070587158}, {\"fanta_team\": \"ssc mozzarella\", \"role\": \"D\", \"player\": \"Gjimshiti\", \"team\": \"Atalanta\", \"opponent\": \"Venezia\", \"date\": \"2022-04-24T00:00:00\", \"expected_bonus\": 0.2863730192184448}, {\"fanta_team\": \"ssc mozzarella\", \"role\": \"D\", \"player\": \"Theate\", \"team\": \"Bologna\", \"opponent\": \"Udinese\", \"date\": \"2022-04-24T00:00:00\", \"expected_bonus\": 0.2099958062171936}, {\"fanta_team\": \"ssc mozzarella\", \"role\": \"D\", \"player\": \"Tomori\", \"team\": \"AC Milan\", \"opponent\": \"Lazio\", \"date\": \"2022-04-24T00:00:00\", \"expected_bonus\": 0.1520223468542099}, {\"fanta_team\": \"ssc mozzarella\", \"role\": \"D\", \"player\": \"Felipe\", \"team\": \"Lazio\", \"opponent\": \"AC Milan\", \"date\": \"2022-04-24T00:00:00\", \"expected_bonus\": 0.13080762326717377}, {\"fanta_team\": \"ssc mozzarella\", \"role\": \"D\", \"player\": \"Smalling\", \"team\": \"Roma\", \"opponent\": \"Inter\", \"date\": \"2022-04-24T00:00:00\", \"expected_bonus\": 0.09940356761217117}, {\"fanta_team\": \"ssc mozzarella\", \"role\": \"D\", \"player\": \"Iba\\u00f1ez\", \"team\": \"Roma\", \"opponent\": \"Inter\", \"date\": \"2022-04-24T00:00:00\", \"expected_bonus\": 0.09689471870660782}, {\"fanta_team\": \"ssc mozzarella\", \"role\": \"C\", \"player\": \"Sottil\", \"team\": \"Fiorentina\", \"opponent\": \"Salernitana\", \"date\": \"2022-04-24T00:00:00\", \"expected_bonus\": 1.0989028215408325}, {\"fanta_team\": \"ssc mozzarella\", \"role\": \"C\", \"player\": \"Fabi\\u00e1n\", \"team\": \"Napoli\", \"opponent\": \"Empoli\", \"date\": \"2022-04-24T00:00:00\", \"expected_bonus\": 0.48904550075531006}, {\"fanta_team\": \"ssc mozzarella\", \"role\": \"C\", \"player\": \"Mkhitaryan\", \"team\": \"Roma\", \"opponent\": \"Inter\", \"date\": \"2022-04-24T00:00:00\", \"expected_bonus\": 0.4286620616912842}, {\"fanta_team\": \"ssc mozzarella\", \"role\": \"C\", \"player\": \"Torreira\", \"team\": \"Fiorentina\", \"opponent\": \"Salernitana\", \"date\": \"2022-04-24T00:00:00\", \"expected_bonus\": 0.28543874621391296}, {\"fanta_team\": \"ssc mozzarella\", \"role\": \"C\", \"player\": \"Freuler\", \"team\": \"Atalanta\", \"opponent\": \"Venezia\", \"date\": \"2022-04-24T00:00:00\", \"expected_bonus\": 0.26353052258491516}, {\"fanta_team\": \"ssc mozzarella\", \"role\": \"C\", \"player\": \"Pereyra\", \"team\": \"Udinese\", \"opponent\": \"Bologna\", \"date\": \"2022-04-24T00:00:00\", \"expected_bonus\": 0.2537180185317993}, {\"fanta_team\": \"ssc mozzarella\", \"role\": \"C\", \"player\": \"Lobotka\", \"team\": \"Napoli\", \"opponent\": \"Empoli\", \"date\": \"2022-04-24T00:00:00\", \"expected_bonus\": 0.23258379101753235}, {\"fanta_team\": \"ssc mozzarella\", \"role\": \"C\", \"player\": \"Lopez\", \"team\": \"Sassuolo\", \"opponent\": \"Juventus\", \"date\": \"2022-04-24T00:00:00\", \"expected_bonus\": 0.13210110366344452}, {\"fanta_team\": \"ssc mozzarella\", \"role\": \"A\", \"player\": \"Osimhen\", \"team\": \"Napoli\", \"opponent\": \"Empoli\", \"date\": \"2022-04-24T00:00:00\", \"expected_bonus\": 1.582036018371582}, {\"fanta_team\": \"ssc mozzarella\", \"role\": \"A\", \"player\": \"Bonazzoli\", \"team\": \"Salernitana\", \"opponent\": \"Fiorentina\", \"date\": \"2022-04-24T00:00:00\", \"expected_bonus\": 1.068895697593689}, {\"fanta_team\": \"ssc mozzarella\", \"role\": \"A\", \"player\": \"Gabbiadini\", \"team\": \"Sampdoria\", \"opponent\": \"Verona\", \"date\": \"2022-04-24T00:00:00\", \"expected_bonus\": 1.0563139915466309}, {\"fanta_team\": \"ssc mozzarella\", \"role\": \"A\", \"player\": \"Caprari\", \"team\": \"Verona\", \"opponent\": \"Sampdoria\", \"date\": \"2022-04-24T00:00:00\", \"expected_bonus\": 0.9804438352584839}, {\"fanta_team\": \"ssc mozzarella\", \"role\": \"A\", \"player\": \"Pavoletti\", \"team\": \"Cagliari\", \"opponent\": \"Genoa\", \"date\": \"2022-04-24T00:00:00\", \"expected_bonus\": 0.6220197677612305}, {\"fanta_team\": \"ssc mozzarella\", \"role\": \"A\", \"player\": \"Politano\", \"team\": \"Napoli\", \"opponent\": \"Empoli\", \"date\": \"2022-04-24T00:00:00\", \"expected_bonus\": 0.5722901225090027}, {\"fanta_team\": \"Scansuolo \", \"role\": \"D\", \"player\": \"Vojvoda\", \"team\": \"Torino\", \"opponent\": \"Spezia\", \"date\": \"2022-04-24T00:00:00\", \"expected_bonus\": 0.3790040910243988}, {\"fanta_team\": \"Scansuolo \", \"role\": \"D\", \"player\": \"Demiral\", \"team\": \"Atalanta\", \"opponent\": \"Venezia\", \"date\": \"2022-04-24T00:00:00\", \"expected_bonus\": 0.3633427917957306}, {\"fanta_team\": \"Scansuolo \", \"role\": \"D\", \"player\": \"Koulibaly\", \"team\": \"Napoli\", \"opponent\": \"Empoli\", \"date\": \"2022-04-24T00:00:00\", \"expected_bonus\": 0.2831077575683594}, {\"fanta_team\": \"Scansuolo \", \"role\": \"D\", \"player\": \"Hickey\", \"team\": \"Bologna\", \"opponent\": \"Udinese\", \"date\": \"2022-04-24T00:00:00\", \"expected_bonus\": 0.17128682136535645}, {\"fanta_team\": \"Scansuolo \", \"role\": \"D\", \"player\": \"Karsdorp\", \"team\": \"Roma\", \"opponent\": \"Inter\", \"date\": \"2022-04-24T00:00:00\", \"expected_bonus\": 0.12920191884040833}, {\"fanta_team\": \"Scansuolo \", \"role\": \"D\", \"player\": \"Hysaj\", \"team\": \"Lazio\", \"opponent\": \"AC Milan\", \"date\": \"2022-04-24T00:00:00\", \"expected_bonus\": 0.1278408318758011}, {\"fanta_team\": \"Scansuolo \", \"role\": \"D\", \"player\": \"Zappa\", \"team\": \"Cagliari\", \"opponent\": \"Genoa\", \"date\": \"2022-04-24T00:00:00\", \"expected_bonus\": 0.1013401672244072}, {\"fanta_team\": \"Scansuolo \", \"role\": \"C\", \"player\": \"Pessina\", \"team\": \"Atalanta\", \"opponent\": \"Venezia\", \"date\": \"2022-04-24T00:00:00\", \"expected_bonus\": 0.7039701342582703}, {\"fanta_team\": \"Scansuolo \", \"role\": \"C\", \"player\": \"Diaz\", \"team\": \"AC Milan\", \"opponent\": \"Lazio\", \"date\": \"2022-04-24T00:00:00\", \"expected_bonus\": 0.5684407949447632}, {\"fanta_team\": \"Scansuolo \", \"role\": \"C\", \"player\": \"Messias\", \"team\": \"AC Milan\", \"opponent\": \"Lazio\", \"date\": \"2022-04-24T00:00:00\", \"expected_bonus\": 0.559395968914032}, {\"fanta_team\": \"Scansuolo \", \"role\": \"C\", \"player\": \"Zaccagni\", \"team\": \"Lazio\", \"opponent\": \"AC Milan\", \"date\": \"2022-04-24T00:00:00\", \"expected_bonus\": 0.3824961483478546}, {\"fanta_team\": \"Scansuolo \", \"role\": \"C\", \"player\": \"Zurkowski\", \"team\": \"Empoli\", \"opponent\": \"Napoli\", \"date\": \"2022-04-24T00:00:00\", \"expected_bonus\": 0.3747515380382538}, {\"fanta_team\": \"Scansuolo \", \"role\": \"C\", \"player\": \"Ilic\", \"team\": \"Verona\", \"opponent\": \"Sampdoria\", \"date\": \"2022-04-24T00:00:00\", \"expected_bonus\": 0.34741994738578796}, {\"fanta_team\": \"Scansuolo \", \"role\": \"C\", \"player\": \"Koopmeiners\", \"team\": \"Atalanta\", \"opponent\": \"Venezia\", \"date\": \"2022-04-24T00:00:00\", \"expected_bonus\": 0.3325898051261902}, {\"fanta_team\": \"Scansuolo \", \"role\": \"C\", \"player\": \"Traore\", \"team\": \"Sassuolo\", \"opponent\": \"Juventus\", \"date\": \"2022-04-24T00:00:00\", \"expected_bonus\": 0.0038879578933119774}, {\"fanta_team\": \"Scansuolo \", \"role\": \"A\", \"player\": \"Immobile\", \"team\": \"Lazio\", \"opponent\": \"AC Milan\", \"date\": \"2022-04-24T00:00:00\", \"expected_bonus\": 1.5295474529266357}, {\"fanta_team\": \"Scansuolo \", \"role\": \"A\", \"player\": \"Pedro\", \"team\": \"Cagliari\", \"opponent\": \"Genoa\", \"date\": \"2022-04-24T00:00:00\", \"expected_bonus\": 1.1152225732803345}, {\"fanta_team\": \"Scansuolo \", \"role\": \"A\", \"player\": \"Scamacca\", \"team\": \"Sassuolo\", \"opponent\": \"Juventus\", \"date\": \"2022-04-24T00:00:00\", \"expected_bonus\": 0.986504852771759}, {\"fanta_team\": \"Scansuolo \", \"role\": \"A\", \"player\": \"Le\\u00e3o\", \"team\": \"AC Milan\", \"opponent\": \"Lazio\", \"date\": \"2022-04-24T00:00:00\", \"expected_bonus\": 0.9547174572944641}, {\"fanta_team\": \"Scansuolo \", \"role\": \"A\", \"player\": \"Mikael\", \"team\": \"Salernitana\", \"opponent\": \"Fiorentina\", \"date\": \"2022-04-24T00:00:00\", \"expected_bonus\": 0.14432068169116974}, {\"fanta_team\": \"Rione Monti\", \"role\": \"D\", \"player\": \"Bremer\", \"team\": \"Torino\", \"opponent\": \"Spezia\", \"date\": \"2022-04-24T00:00:00\", \"expected_bonus\": 0.4174956977367401}, {\"fanta_team\": \"Rione Monti\", \"role\": \"D\", \"player\": \"Maehle\", \"team\": \"Atalanta\", \"opponent\": \"Venezia\", \"date\": \"2022-04-24T00:00:00\", \"expected_bonus\": 0.40833234786987305}, {\"fanta_team\": \"Rione Monti\", \"role\": \"D\", \"player\": \"Singo\", \"team\": \"Torino\", \"opponent\": \"Spezia\", \"date\": \"2022-04-24T00:00:00\", \"expected_bonus\": 0.4060095548629761}, {\"fanta_team\": \"Rione Monti\", \"role\": \"D\", \"player\": \"Biraghi\", \"team\": \"Fiorentina\", \"opponent\": \"Salernitana\", \"date\": \"2022-04-24T00:00:00\", \"expected_bonus\": 0.33655720949172974}, {\"fanta_team\": \"Rione Monti\", \"role\": \"D\", \"player\": \"Pezzella\", \"team\": \"Atalanta\", \"opponent\": \"Venezia\", \"date\": \"2022-04-24T00:00:00\", \"expected_bonus\": 0.20994645357131958}, {\"fanta_team\": \"Rione Monti\", \"role\": \"D\", \"player\": \"Lazzari\", \"team\": \"Lazio\", \"opponent\": \"AC Milan\", \"date\": \"2022-04-24T00:00:00\", \"expected_bonus\": 0.13457153737545013}, {\"fanta_team\": \"Rione Monti\", \"role\": \"D\", \"player\": \"Bastoni\", \"team\": \"Spezia\", \"opponent\": \"Torino\", \"date\": \"2022-04-24T00:00:00\", \"expected_bonus\": 0.1049526035785675}, {\"fanta_team\": \"Rione Monti\", \"role\": \"D\", \"player\": \"Maitland-Niles\", \"team\": \"Roma\", \"opponent\": \"Inter\", \"date\": \"2022-04-24T00:00:00\", \"expected_bonus\": -0.03806540369987488}, {\"fanta_team\": \"Rione Monti\", \"role\": \"C\", \"player\": \"Pellegrini\", \"team\": \"Roma\", \"opponent\": \"Inter\", \"date\": \"2022-04-24T00:00:00\", \"expected_bonus\": 0.5924835205078125}, {\"fanta_team\": \"Rione Monti\", \"role\": \"C\", \"player\": \"Zaniolo\", \"team\": \"Roma\", \"opponent\": \"Inter\", \"date\": \"2022-04-24T00:00:00\", \"expected_bonus\": 0.5470001101493835}, {\"fanta_team\": \"Rione Monti\", \"role\": \"C\", \"player\": \"Frattesi\", \"team\": \"Sassuolo\", \"opponent\": \"Juventus\", \"date\": \"2022-04-24T00:00:00\", \"expected_bonus\": 0.46778473258018494}, {\"fanta_team\": \"Rione Monti\", \"role\": \"C\", \"player\": \"Anderson\", \"team\": \"Lazio\", \"opponent\": \"AC Milan\", \"date\": \"2022-04-24T00:00:00\", \"expected_bonus\": 0.43942004442214966}, {\"fanta_team\": \"Rione Monti\", \"role\": \"C\", \"player\": \"Henderson\", \"team\": \"Empoli\", \"opponent\": \"Napoli\", \"date\": \"2022-04-24T00:00:00\", \"expected_bonus\": 0.33846354484558105}, {\"fanta_team\": \"Rione Monti\", \"role\": \"C\", \"player\": \"Tameze\", \"team\": \"Verona\", \"opponent\": \"Sampdoria\", \"date\": \"2022-04-24T00:00:00\", \"expected_bonus\": 0.15407642722129822}, {\"fanta_team\": \"Rione Monti\", \"role\": \"A\", \"player\": \"Dzeko\", \"team\": \"Inter\", \"opponent\": \"Roma\", \"date\": \"2022-04-24T00:00:00\", \"expected_bonus\": 1.6027668714523315}, {\"fanta_team\": \"Rione Monti\", \"role\": \"A\", \"player\": \"Ibrahimovic\", \"team\": \"AC Milan\", \"opponent\": \"Lazio\", \"date\": \"2022-04-24T00:00:00\", \"expected_bonus\": 1.3639863729476929}, {\"fanta_team\": \"Rione Monti\", \"role\": \"A\", \"player\": \"Pinamonti\", \"team\": \"Empoli\", \"opponent\": \"Napoli\", \"date\": \"2022-04-24T00:00:00\", \"expected_bonus\": 1.2043997049331665}, {\"fanta_team\": \"Rione Monti\", \"role\": \"A\", \"player\": \"Raspadori\", \"team\": \"Sassuolo\", \"opponent\": \"Juventus\", \"date\": \"2022-04-24T00:00:00\", \"expected_bonus\": 0.8495890498161316}, {\"fanta_team\": \"Rione Monti\", \"role\": \"A\", \"player\": \"Pedro\", \"team\": \"Lazio\", \"opponent\": \"AC Milan\", \"date\": \"2022-04-24T00:00:00\", \"expected_bonus\": 0.7598697543144226}, {\"fanta_team\": \"Rione Monti\", \"role\": \"A\", \"player\": \"Afena-Gyan\", \"team\": \"Roma\", \"opponent\": \"Inter\", \"date\": \"2022-04-24T00:00:00\", \"expected_bonus\": 0.4459139108657837}, {\"fanta_team\": \"MaiNa Joya_v2.0\", \"role\": \"D\", \"player\": \"Gosens\", \"team\": \"Inter\", \"opponent\": \"Roma\", \"date\": \"2022-04-24T00:00:00\", \"expected_bonus\": 0.57565838098526}, {\"fanta_team\": \"MaiNa Joya_v2.0\", \"role\": \"D\", \"player\": \"Hern\\u00e1ndez\", \"team\": \"AC Milan\", \"opponent\": \"Lazio\", \"date\": \"2022-04-24T00:00:00\", \"expected_bonus\": 0.549037754535675}, {\"fanta_team\": \"MaiNa Joya_v2.0\", \"role\": \"D\", \"player\": \"Toloi\", \"team\": \"Atalanta\", \"opponent\": \"Venezia\", \"date\": \"2022-04-24T00:00:00\", \"expected_bonus\": 0.24362249672412872}, {\"fanta_team\": \"MaiNa Joya_v2.0\", \"role\": \"D\", \"player\": \"Molina\", \"team\": \"Udinese\", \"opponent\": \"Bologna\", \"date\": \"2022-04-24T00:00:00\", \"expected_bonus\": 0.22597530484199524}, {\"fanta_team\": \"MaiNa Joya_v2.0\", \"role\": \"D\", \"player\": \"Milenkovic\", \"team\": \"Fiorentina\", \"opponent\": \"Salernitana\", \"date\": \"2022-04-24T00:00:00\", \"expected_bonus\": 0.18582983314990997}, {\"fanta_team\": \"MaiNa Joya_v2.0\", \"role\": \"D\", \"player\": \"Ferrari\", \"team\": \"Sassuolo\", \"opponent\": \"Juventus\", \"date\": \"2022-04-24T00:00:00\", \"expected_bonus\": 0.1441987007856369}, {\"fanta_team\": \"MaiNa Joya_v2.0\", \"role\": \"D\", \"player\": \"Stojanovic\", \"team\": \"Empoli\", \"opponent\": \"Napoli\", \"date\": \"2022-04-24T00:00:00\", \"expected_bonus\": 0.1344669610261917}, {\"fanta_team\": \"MaiNa Joya_v2.0\", \"role\": \"C\", \"player\": \"Barella\", \"team\": \"Inter\", \"opponent\": \"Roma\", \"date\": \"2022-04-24T00:00:00\", \"expected_bonus\": 0.7746947407722473}, {\"fanta_team\": \"MaiNa Joya_v2.0\", \"role\": \"C\", \"player\": \"Milinkovic-Savic\", \"team\": \"Lazio\", \"opponent\": \"AC Milan\", \"date\": \"2022-04-24T00:00:00\", \"expected_bonus\": 0.7354047894477844}, {\"fanta_team\": \"MaiNa Joya_v2.0\", \"role\": \"C\", \"player\": \"Pobega\", \"team\": \"Torino\", \"opponent\": \"Spezia\", \"date\": \"2022-04-24T00:00:00\", \"expected_bonus\": 0.6490335464477539}, {\"fanta_team\": \"MaiNa Joya_v2.0\", \"role\": \"C\", \"player\": \"Soriano\", \"team\": \"Bologna\", \"opponent\": \"Udinese\", \"date\": \"2022-04-24T00:00:00\", \"expected_bonus\": 0.41692623496055603}, {\"fanta_team\": \"MaiNa Joya_v2.0\", \"role\": \"C\", \"player\": \"Bernardeschi\", \"team\": \"Juventus\", \"opponent\": \"Sassuolo\", \"date\": \"2022-04-24T00:00:00\", \"expected_bonus\": 0.276643842458725}, {\"fanta_team\": \"MaiNa Joya_v2.0\", \"role\": \"C\", \"player\": \"Locatelli\", \"team\": \"Juventus\", \"opponent\": \"Sassuolo\", \"date\": \"2022-04-24T00:00:00\", \"expected_bonus\": 0.2192365974187851}, {\"fanta_team\": \"MaiNa Joya_v2.0\", \"role\": \"C\", \"player\": \"Sensi\", \"team\": \"Sampdoria\", \"opponent\": \"Verona\", \"date\": \"2022-04-24T00:00:00\", \"expected_bonus\": -0.040852636098861694}, {\"fanta_team\": \"MaiNa Joya_v2.0\", \"role\": \"A\", \"player\": \"Insigne\", \"team\": \"Napoli\", \"opponent\": \"Empoli\", \"date\": \"2022-04-24T00:00:00\", \"expected_bonus\": 1.5956904888153076}, {\"fanta_team\": \"MaiNa Joya_v2.0\", \"role\": \"A\", \"player\": \"Abraham\", \"team\": \"Roma\", \"opponent\": \"Inter\", \"date\": \"2022-04-24T00:00:00\", \"expected_bonus\": 1.226231575012207}, {\"fanta_team\": \"MaiNa Joya_v2.0\", \"role\": \"A\", \"player\": \"Arnautovic\", \"team\": \"Bologna\", \"opponent\": \"Udinese\", \"date\": \"2022-04-24T00:00:00\", \"expected_bonus\": 1.0864582061767578}, {\"fanta_team\": \"MaiNa Joya_v2.0\", \"role\": \"A\", \"player\": \"Brekalo\", \"team\": \"Torino\", \"opponent\": \"Spezia\", \"date\": \"2022-04-24T00:00:00\", \"expected_bonus\": 1.0794498920440674}, {\"fanta_team\": \"MaiNa Joya_v2.0\", \"role\": \"A\", \"player\": \"Morata\", \"team\": \"Juventus\", \"opponent\": \"Sassuolo\", \"date\": \"2022-04-24T00:00:00\", \"expected_bonus\": 1.0433800220489502}, {\"fanta_team\": \"MaiNa Joya_v2.0\", \"role\": \"A\", \"player\": \"Boga\", \"team\": \"Atalanta\", \"opponent\": \"Venezia\", \"date\": \"2022-04-24T00:00:00\", \"expected_bonus\": 0.9466140866279602}, {\"fanta_team\": \"MEZAFE\", \"role\": \"D\", \"player\": \"Criscito\", \"team\": \"Genoa\", \"opponent\": \"Cagliari\", \"date\": \"2022-04-24T00:00:00\", \"expected_bonus\": 0.5819709897041321}, {\"fanta_team\": \"MEZAFE\", \"role\": \"D\", \"player\": \"Zappacosta\", \"team\": \"Atalanta\", \"opponent\": \"Venezia\", \"date\": \"2022-04-24T00:00:00\", \"expected_bonus\": 0.5505896806716919}, {\"fanta_team\": \"MEZAFE\", \"role\": \"D\", \"player\": \"Bonucci\", \"team\": \"Juventus\", \"opponent\": \"Sassuolo\", \"date\": \"2022-04-24T00:00:00\", \"expected_bonus\": 0.3406330645084381}, {\"fanta_team\": \"MEZAFE\", \"role\": \"D\", \"player\": \"Silvestri\", \"team\": \"Bologna\", \"opponent\": \"Udinese\", \"date\": \"2022-04-24T00:00:00\", \"expected_bonus\": 0.26267579197883606}, {\"fanta_team\": \"MEZAFE\", \"role\": \"D\", \"player\": \"Vrij\", \"team\": \"Inter\", \"opponent\": \"Roma\", \"date\": \"2022-04-24T00:00:00\", \"expected_bonus\": 0.2358393520116806}, {\"fanta_team\": \"MEZAFE\", \"role\": \"D\", \"player\": \"Danilo\", \"team\": \"Juventus\", \"opponent\": \"Sassuolo\", \"date\": \"2022-04-24T00:00:00\", \"expected_bonus\": 0.17858965694904327}, {\"fanta_team\": \"MEZAFE\", \"role\": \"D\", \"player\": \"Chiellini\", \"team\": \"Juventus\", \"opponent\": \"Sassuolo\", \"date\": \"2022-04-24T00:00:00\", \"expected_bonus\": 0.1076447069644928}, {\"fanta_team\": \"MEZAFE\", \"role\": \"D\", \"player\": \"Mancini\", \"team\": \"Roma\", \"opponent\": \"Inter\", \"date\": \"2022-04-24T00:00:00\", \"expected_bonus\": 0.10618065297603607}, {\"fanta_team\": \"MEZAFE\", \"role\": \"C\", \"player\": \"Pasalic\", \"team\": \"Atalanta\", \"opponent\": \"Venezia\", \"date\": \"2022-04-24T00:00:00\", \"expected_bonus\": 0.9400321841239929}, {\"fanta_team\": \"MEZAFE\", \"role\": \"C\", \"player\": \"Saelemaekers\", \"team\": \"AC Milan\", \"opponent\": \"Lazio\", \"date\": \"2022-04-24T00:00:00\", \"expected_bonus\": 0.614798903465271}, {\"fanta_team\": \"MEZAFE\", \"role\": \"C\", \"player\": \"Verdi\", \"team\": \"Salernitana\", \"opponent\": \"Fiorentina\", \"date\": \"2022-04-24T00:00:00\", \"expected_bonus\": 0.5452577471733093}, {\"fanta_team\": \"MEZAFE\", \"role\": \"C\", \"player\": \"Lazovic\", \"team\": \"Verona\", \"opponent\": \"Sampdoria\", \"date\": \"2022-04-24T00:00:00\", \"expected_bonus\": 0.48507165908813477}, {\"fanta_team\": \"MEZAFE\", \"role\": \"C\", \"player\": \"Perisic\", \"team\": \"Inter\", \"opponent\": \"Roma\", \"date\": \"2022-04-24T00:00:00\", \"expected_bonus\": 0.4357074797153473}, {\"fanta_team\": \"MEZAFE\", \"role\": \"C\", \"player\": \"McKennie\", \"team\": \"Juventus\", \"opponent\": \"Sassuolo\", \"date\": \"2022-04-24T00:00:00\", \"expected_bonus\": 0.36254915595054626}, {\"fanta_team\": \"MEZAFE\", \"role\": \"C\", \"player\": \"Tonali\", \"team\": \"AC Milan\", \"opponent\": \"Lazio\", \"date\": \"2022-04-24T00:00:00\", \"expected_bonus\": 0.2812388241291046}, {\"fanta_team\": \"MEZAFE\", \"role\": \"C\", \"player\": \"Castrovilli\", \"team\": \"Fiorentina\", \"opponent\": \"Salernitana\", \"date\": \"2022-04-24T00:00:00\", \"expected_bonus\": 0.19078762829303741}, {\"fanta_team\": \"MEZAFE\", \"role\": \"A\", \"player\": \"Dybala\", \"team\": \"Juventus\", \"opponent\": \"Sassuolo\", \"date\": \"2022-04-24T00:00:00\", \"expected_bonus\": 1.4074803590774536}, {\"fanta_team\": \"MEZAFE\", \"role\": \"A\", \"player\": \"Piatek\", \"team\": \"Fiorentina\", \"opponent\": \"Salernitana\", \"date\": \"2022-04-24T00:00:00\", \"expected_bonus\": 1.3336750268936157}, {\"fanta_team\": \"MEZAFE\", \"role\": \"A\", \"player\": \"Sanabria\", \"team\": \"Torino\", \"opponent\": \"Spezia\", \"date\": \"2022-04-24T00:00:00\", \"expected_bonus\": 1.2643753290176392}, {\"fanta_team\": \"MEZAFE\", \"role\": \"A\", \"player\": \"Simeone\", \"team\": \"Verona\", \"opponent\": \"Sampdoria\", \"date\": \"2022-04-24T00:00:00\", \"expected_bonus\": 1.2382073402404785}, {\"fanta_team\": \"MEZAFE\", \"role\": \"A\", \"player\": \"Quagliarella\", \"team\": \"Sampdoria\", \"opponent\": \"Verona\", \"date\": \"2022-04-24T00:00:00\", \"expected_bonus\": 0.8839535713195801}, {\"fanta_team\": \"MEZAFE\", \"role\": \"A\", \"player\": \"Rebic\", \"team\": \"AC Milan\", \"opponent\": \"Lazio\", \"date\": \"2022-04-24T00:00:00\", \"expected_bonus\": 0.34112033247947693}, {\"fanta_team\": \"Beverly INPS\", \"role\": \"D\", \"player\": \"Dimarco\", \"team\": \"Inter\", \"opponent\": \"Roma\", \"date\": \"2022-04-24T00:00:00\", \"expected_bonus\": 0.5469322204589844}, {\"fanta_team\": \"Beverly INPS\", \"role\": \"D\", \"player\": \"Lorenzo\", \"team\": \"Napoli\", \"opponent\": \"Empoli\", \"date\": \"2022-04-24T00:00:00\", \"expected_bonus\": 0.293607234954834}, {\"fanta_team\": \"Beverly INPS\", \"role\": \"D\", \"player\": \"Cuadrado\", \"team\": \"Juventus\", \"opponent\": \"Sassuolo\", \"date\": \"2022-04-24T00:00:00\", \"expected_bonus\": 0.28713005781173706}, {\"fanta_team\": \"Beverly INPS\", \"role\": \"D\", \"player\": \"Cambiaso\", \"team\": \"Genoa\", \"opponent\": \"Cagliari\", \"date\": \"2022-04-24T00:00:00\", \"expected_bonus\": 0.2668604850769043}, {\"fanta_team\": \"Beverly INPS\", \"role\": \"D\", \"player\": \"Bastoni\", \"team\": \"Inter\", \"opponent\": \"Roma\", \"date\": \"2022-04-24T00:00:00\", \"expected_bonus\": 0.22603897750377655}, {\"fanta_team\": \"Beverly INPS\", \"role\": \"D\", \"player\": \"Romagnoli\", \"team\": \"AC Milan\", \"opponent\": \"Lazio\", \"date\": \"2022-04-24T00:00:00\", \"expected_bonus\": 0.14208656549453735}, {\"fanta_team\": \"Beverly INPS\", \"role\": \"D\", \"player\": \"Nuytinck\", \"team\": \"Udinese\", \"opponent\": \"Bologna\", \"date\": \"2022-04-24T00:00:00\", \"expected_bonus\": 0.09230806678533554}, {\"fanta_team\": \"Beverly INPS\", \"role\": \"C\", \"player\": \"Barak\", \"team\": \"Verona\", \"opponent\": \"Sampdoria\", \"date\": \"2022-04-24T00:00:00\", \"expected_bonus\": 1.0271636247634888}, {\"fanta_team\": \"Beverly INPS\", \"role\": \"C\", \"player\": \"Zielinski\", \"team\": \"Napoli\", \"opponent\": \"Empoli\", \"date\": \"2022-04-24T00:00:00\", \"expected_bonus\": 0.905263364315033}, {\"fanta_team\": \"Beverly INPS\", \"role\": \"C\", \"player\": \"Praet\", \"team\": \"Torino\", \"opponent\": \"Spezia\", \"date\": \"2022-04-24T00:00:00\", \"expected_bonus\": 0.7245032787322998}, {\"fanta_team\": \"Beverly INPS\", \"role\": \"C\", \"player\": \"Kessi\\u00e9\", \"team\": \"AC Milan\", \"opponent\": \"Lazio\", \"date\": \"2022-04-24T00:00:00\", \"expected_bonus\": 0.5091707110404968}, {\"fanta_team\": \"Beverly INPS\", \"role\": \"C\", \"player\": \"Alberto\", \"team\": \"Lazio\", \"opponent\": \"AC Milan\", \"date\": \"2022-04-24T00:00:00\", \"expected_bonus\": 0.41163331270217896}, {\"fanta_team\": \"Beverly INPS\", \"role\": \"C\", \"player\": \"Veretout\", \"team\": \"Roma\", \"opponent\": \"Inter\", \"date\": \"2022-04-24T00:00:00\", \"expected_bonus\": 0.33526813983917236}, {\"fanta_team\": \"Beverly INPS\", \"role\": \"C\", \"player\": \"Elmas\", \"team\": \"Napoli\", \"opponent\": \"Empoli\", \"date\": \"2022-04-24T00:00:00\", \"expected_bonus\": 0.33210453391075134}, {\"fanta_team\": \"Beverly INPS\", \"role\": \"A\", \"player\": \"Mart\\u00ednez\", \"team\": \"Inter\", \"opponent\": \"Roma\", \"date\": \"2022-04-24T00:00:00\", \"expected_bonus\": 1.757609248161316}, {\"fanta_team\": \"Beverly INPS\", \"role\": \"A\", \"player\": \"Mertens\", \"team\": \"Napoli\", \"opponent\": \"Empoli\", \"date\": \"2022-04-24T00:00:00\", \"expected_bonus\": 1.4670151472091675}, {\"fanta_team\": \"Beverly INPS\", \"role\": \"A\", \"player\": \"Berardi\", \"team\": \"Sassuolo\", \"opponent\": \"Juventus\", \"date\": \"2022-04-24T00:00:00\", \"expected_bonus\": 1.1865355968475342}, {\"fanta_team\": \"Beverly INPS\", \"role\": \"A\", \"player\": \"Deulofeu\", \"team\": \"Udinese\", \"opponent\": \"Bologna\", \"date\": \"2022-04-24T00:00:00\", \"expected_bonus\": 1.0272499322891235}, {\"fanta_team\": \"Beverly INPS\", \"role\": \"A\", \"player\": \"Barrow\", \"team\": \"Bologna\", \"opponent\": \"Udinese\", \"date\": \"2022-04-24T00:00:00\", \"expected_bonus\": 0.9155488610267639}, {\"fanta_team\": \"Beverly INPS\", \"role\": \"A\", \"player\": \"Gonz\\u00e1lez\", \"team\": \"Fiorentina\", \"opponent\": \"Salernitana\", \"date\": \"2022-04-24T00:00:00\", \"expected_bonus\": 0.8371264934539795}, {\"fanta_team\": \"AI sereje ja dejeDe jebe tu de jebere\", \"role\": \"D\", \"player\": \"Skriniar\", \"team\": \"Inter\", \"opponent\": \"Roma\", \"date\": \"2022-04-24T00:00:00\", \"expected_bonus\": 0.34118980169296265}, {\"fanta_team\": \"AI sereje ja dejeDe jebe tu de jebere\", \"role\": \"D\", \"player\": \"Rrahmani\", \"team\": \"Napoli\", \"opponent\": \"Empoli\", \"date\": \"2022-04-24T00:00:00\", \"expected_bonus\": 0.31722503900527954}, {\"fanta_team\": \"AI sereje ja dejeDe jebe tu de jebere\", \"role\": \"D\", \"player\": \"Darmian\", \"team\": \"Inter\", \"opponent\": \"Roma\", \"date\": \"2022-04-24T00:00:00\", \"expected_bonus\": 0.2836727201938629}, {\"fanta_team\": \"AI sereje ja dejeDe jebe tu de jebere\", \"role\": \"D\", \"player\": \"Hateboer\", \"team\": \"Atalanta\", \"opponent\": \"Venezia\", \"date\": \"2022-04-24T00:00:00\", \"expected_bonus\": 0.26715466380119324}, {\"fanta_team\": \"AI sereje ja dejeDe jebe tu de jebere\", \"role\": \"D\", \"player\": \"Tuanzebe\", \"team\": \"Napoli\", \"opponent\": \"Empoli\", \"date\": \"2022-04-24T00:00:00\", \"expected_bonus\": 0.18961197137832642}, {\"fanta_team\": \"AI sereje ja dejeDe jebe tu de jebere\", \"role\": \"D\", \"player\": \"Acerbi\", \"team\": \"Lazio\", \"opponent\": \"AC Milan\", \"date\": \"2022-04-24T00:00:00\", \"expected_bonus\": 0.1603432595729828}, {\"fanta_team\": \"AI sereje ja dejeDe jebe tu de jebere\", \"role\": \"D\", \"player\": \"Yoshida\", \"team\": \"Sampdoria\", \"opponent\": \"Verona\", \"date\": \"2022-04-24T00:00:00\", \"expected_bonus\": 0.08234169334173203}, {\"fanta_team\": \"AI sereje ja dejeDe jebe tu de jebere\", \"role\": \"C\", \"player\": \"Bajrami\", \"team\": \"Empoli\", \"opponent\": \"Napoli\", \"date\": \"2022-04-24T00:00:00\", \"expected_bonus\": 0.8087589740753174}, {\"fanta_team\": \"AI sereje ja dejeDe jebe tu de jebere\", \"role\": \"C\", \"player\": \"Candreva\", \"team\": \"Sampdoria\", \"opponent\": \"Verona\", \"date\": \"2022-04-24T00:00:00\", \"expected_bonus\": 0.5973536968231201}, {\"fanta_team\": \"AI sereje ja dejeDe jebe tu de jebere\", \"role\": \"C\", \"player\": \"Djuricic\", \"team\": \"Sassuolo\", \"opponent\": \"Juventus\", \"date\": \"2022-04-24T00:00:00\", \"expected_bonus\": 0.5915541648864746}, {\"fanta_team\": \"AI sereje ja dejeDe jebe tu de jebere\", \"role\": \"C\", \"player\": \"Bonaventura\", \"team\": \"Fiorentina\", \"opponent\": \"Salernitana\", \"date\": \"2022-04-24T00:00:00\", \"expected_bonus\": 0.5687797665596008}, {\"fanta_team\": \"AI sereje ja dejeDe jebe tu de jebere\", \"role\": \"C\", \"player\": \"Lukic\", \"team\": \"Torino\", \"opponent\": \"Spezia\", \"date\": \"2022-04-24T00:00:00\", \"expected_bonus\": 0.4313611686229706}, {\"fanta_team\": \"AI sereje ja dejeDe jebe tu de jebere\", \"role\": \"C\", \"player\": \"Svanberg\", \"team\": \"Bologna\", \"opponent\": \"Udinese\", \"date\": \"2022-04-24T00:00:00\", \"expected_bonus\": 0.2717777192592621}, {\"fanta_team\": \"AI sereje ja dejeDe jebe tu de jebere\", \"role\": \"C\", \"player\": \"Zakaria\", \"team\": \"Juventus\", \"opponent\": \"Sassuolo\", \"date\": \"2022-04-24T00:00:00\", \"expected_bonus\": 0.12596210837364197}, {\"fanta_team\": \"AI sereje ja dejeDe jebe tu de jebere\", \"role\": \"A\", \"player\": \"Zapata\", \"team\": \"Atalanta\", \"opponent\": \"Venezia\", \"date\": \"2022-04-24T00:00:00\", \"expected_bonus\": 2.0153000354766846}, {\"fanta_team\": \"AI sereje ja dejeDe jebe tu de jebere\", \"role\": \"A\", \"player\": \"Vlahovic\", \"team\": \"Juventus\", \"opponent\": \"Sassuolo\", \"date\": \"2022-04-24T00:00:00\", \"expected_bonus\": 1.833685040473938}, {\"fanta_team\": \"AI sereje ja dejeDe jebe tu de jebere\", \"role\": \"A\", \"player\": \"Lozano\", \"team\": \"Napoli\", \"opponent\": \"Empoli\", \"date\": \"2022-04-24T00:00:00\", \"expected_bonus\": 1.2268946170806885}, {\"fanta_team\": \"AI sereje ja dejeDe jebe tu de jebere\", \"role\": \"A\", \"player\": \"Destro\", \"team\": \"Genoa\", \"opponent\": \"Cagliari\", \"date\": \"2022-04-24T00:00:00\", \"expected_bonus\": 1.152446985244751}, {\"fanta_team\": \"AI sereje ja dejeDe jebe tu de jebere\", \"role\": \"A\", \"player\": \"Beto\", \"team\": \"Udinese\", \"opponent\": \"Bologna\", \"date\": \"2022-04-24T00:00:00\", \"expected_bonus\": 1.0109567642211914}, {\"fanta_team\": \"AI sereje ja dejeDe jebe tu de jebere\", \"role\": \"A\", \"player\": \"Gyasi\", \"team\": \"Spezia\", \"opponent\": \"Torino\", \"date\": \"2022-04-24T00:00:00\", \"expected_bonus\": 0.2773256003856659}, {\"fanta_team\": \"AC Picchia\", \"role\": \"D\", \"player\": \"Calabria\", \"team\": \"AC Milan\", \"opponent\": \"Lazio\", \"date\": \"2022-04-24T00:00:00\", \"expected_bonus\": 0.5261557698249817}, {\"fanta_team\": \"AC Picchia\", \"role\": \"D\", \"player\": \"Faraoni\", \"team\": \"Verona\", \"opponent\": \"Sampdoria\", \"date\": \"2022-04-24T00:00:00\", \"expected_bonus\": 0.35062769055366516}, {\"fanta_team\": \"AC Picchia\", \"role\": \"D\", \"player\": \"Florenzi\", \"team\": \"AC Milan\", \"opponent\": \"Lazio\", \"date\": \"2022-04-24T00:00:00\", \"expected_bonus\": 0.30868858098983765}, {\"fanta_team\": \"AC Picchia\", \"role\": \"D\", \"player\": \"Dalbert\", \"team\": \"Cagliari\", \"opponent\": \"Genoa\", \"date\": \"2022-04-24T00:00:00\", \"expected_bonus\": 0.24157977104187012}, {\"fanta_team\": \"AC Picchia\", \"role\": \"D\", \"player\": \"Odriozola\", \"team\": \"Fiorentina\", \"opponent\": \"Salernitana\", \"date\": \"2022-04-24T00:00:00\", \"expected_bonus\": 0.22478969395160675}, {\"fanta_team\": \"AC Picchia\", \"role\": \"D\", \"player\": \"Ligt\", \"team\": \"Juventus\", \"opponent\": \"Sassuolo\", \"date\": \"2022-04-24T00:00:00\", \"expected_bonus\": 0.19893726706504822}, {\"fanta_team\": \"AC Picchia\", \"role\": \"D\", \"player\": \"Ansaldi\", \"team\": \"Torino\", \"opponent\": \"Spezia\", \"date\": \"2022-04-24T00:00:00\", \"expected_bonus\": 0.15870080888271332}, {\"fanta_team\": \"AC Picchia\", \"role\": \"D\", \"player\": \"Augello\", \"team\": \"Sampdoria\", \"opponent\": \"Verona\", \"date\": \"2022-04-24T00:00:00\", \"expected_bonus\": 0.07641925662755966}, {\"fanta_team\": \"AC Picchia\", \"role\": \"C\", \"player\": \"Malinovskiy\", \"team\": \"Atalanta\", \"opponent\": \"Venezia\", \"date\": \"2022-04-24T00:00:00\", \"expected_bonus\": 1.1544232368469238}, {\"fanta_team\": \"AC Picchia\", \"role\": \"C\", \"player\": \"Aramu\", \"team\": \"Venezia\", \"opponent\": \"Atalanta\", \"date\": \"2022-04-24T00:00:00\", \"expected_bonus\": 0.8063941597938538}, {\"fanta_team\": \"AC Picchia\", \"role\": \"C\", \"player\": \"Calhanoglu\", \"team\": \"Inter\", \"opponent\": \"Roma\", \"date\": \"2022-04-24T00:00:00\", \"expected_bonus\": 0.804914116859436}, {\"fanta_team\": \"AC Picchia\", \"role\": \"C\", \"player\": \"Orsolini\", \"team\": \"Bologna\", \"opponent\": \"Udinese\", \"date\": \"2022-04-24T00:00:00\", \"expected_bonus\": 0.4027639925479889}, {\"fanta_team\": \"AC Picchia\", \"role\": \"C\", \"player\": \"Brozovic\", \"team\": \"Inter\", \"opponent\": \"Roma\", \"date\": \"2022-04-24T00:00:00\", \"expected_bonus\": 0.2860381305217743}, {\"fanta_team\": \"AC Picchia\", \"role\": \"C\", \"player\": \"N\\u00e1ndez\", \"team\": \"Cagliari\", \"opponent\": \"Genoa\", \"date\": \"2022-04-24T00:00:00\", \"expected_bonus\": 0.24546204507350922}, {\"fanta_team\": \"AC Picchia\", \"role\": \"C\", \"player\": \"Marin\", \"team\": \"Cagliari\", \"opponent\": \"Genoa\", \"date\": \"2022-04-24T00:00:00\", \"expected_bonus\": 0.2424243539571762}, {\"fanta_team\": \"AC Picchia\", \"role\": \"C\", \"player\": \"Thorsby\", \"team\": \"Sampdoria\", \"opponent\": \"Verona\", \"date\": \"2022-04-24T00:00:00\", \"expected_bonus\": 0.23190970718860626}, {\"fanta_team\": \"AC Picchia\", \"role\": \"A\", \"player\": \"Muriel\", \"team\": \"Atalanta\", \"opponent\": \"Venezia\", \"date\": \"2022-04-24T00:00:00\", \"expected_bonus\": 1.6120294332504272}, {\"fanta_team\": \"AC Picchia\", \"role\": \"A\", \"player\": \"Giroud\", \"team\": \"AC Milan\", \"opponent\": \"Lazio\", \"date\": \"2022-04-24T00:00:00\", \"expected_bonus\": 1.039496898651123}, {\"fanta_team\": \"AC Picchia\", \"role\": \"A\", \"player\": \"Caputo\", \"team\": \"Sampdoria\", \"opponent\": \"Verona\", \"date\": \"2022-04-24T00:00:00\", \"expected_bonus\": 0.9696575999259949}, {\"fanta_team\": \"AC Picchia\", \"role\": \"A\", \"player\": \"Henry\", \"team\": \"Venezia\", \"opponent\": \"Atalanta\", \"date\": \"2022-04-24T00:00:00\", \"expected_bonus\": 0.9227136373519897}, {\"fanta_team\": \"AC Picchia\", \"role\": \"A\", \"player\": \"Verde\", \"team\": \"Spezia\", \"opponent\": \"Torino\", \"date\": \"2022-04-24T00:00:00\", \"expected_bonus\": 0.3291985094547272}, {\"fanta_team\": \"AC Picchia\", \"role\": \"A\", \"player\": \"Cabral\", \"team\": \"Fiorentina\", \"opponent\": \"Salernitana\", \"date\": \"2022-04-24T00:00:00\", \"expected_bonus\": 0.12177009135484695}]}}, {\"actions\": false, \"mode\": \"vega-lite\"});\n</script>",
      "text/plain": "alt.Chart(...)"
     },
     "metadata": {}
    }
   ]
  },
  {
   "cell_type": "code",
   "metadata": {
    "cell_id": "c757b1dc-1791-4f8f-8d75-1e5fa62fa250",
    "tags": [],
    "deepnote_to_be_reexecuted": false,
    "source_hash": "ac51fc04",
    "execution_start": 1650431176210,
    "execution_millis": 4,
    "deepnote_cell_type": "code"
   },
   "source": "teams = sorted(list(predictions['fanta_team'].unique()))\nindex = 0",
   "execution_count": 5,
   "outputs": []
  },
  {
   "cell_type": "code",
   "metadata": {
    "cell_id": "661bb9dc-37c8-4f24-b69b-ca2aae9a3388",
    "tags": [],
    "deepnote_to_be_reexecuted": false,
    "source_hash": "3f500048",
    "execution_start": 1650431176263,
    "execution_millis": 604822619,
    "deepnote_cell_type": "code"
   },
   "source": "team, index = display_fanta_squad(predictions, teams, index)",
   "execution_count": 6,
   "outputs": []
  },
  {
   "cell_type": "code",
   "source": "_deepnote_run_altair(team, \"\"\"{\"$schema\":\"https://vega.github.io/schema/vega-lite/v4.json\",\"mark\":{\"type\":\"bar\",\"tooltip\":{\"content\":\"data\"}},\"height\":220,\"autosize\":{\"type\":\"fit\"},\"data\":{\"name\":\"placeholder\"},\"encoding\":{\"x\":{\"field\":\"expected_bonus\",\"type\":\"quantitative\",\"sort\":null,\"scale\":{\"type\":\"linear\",\"zero\":false}},\"y\":{\"field\":\"player\",\"type\":\"nominal\",\"sort\":null,\"scale\":{\"type\":\"linear\",\"zero\":true}},\"color\":{\"field\":\"role\",\"type\":\"nominal\",\"sort\":null,\"scale\":{\"type\":\"linear\",\"zero\":false}}}}\"\"\")",
   "metadata": {
    "cell_id": "2feea2e5-a58f-4290-9ed7-09ad345cef92",
    "deepnote_variable_name": "team",
    "deepnote_visualization_spec": {
     "$schema": "https://vega.github.io/schema/vega-lite/v4.json",
     "mark": {
      "type": "bar",
      "tooltip": {
       "content": "data"
      }
     },
     "height": 220,
     "autosize": {
      "type": "fit"
     },
     "data": {
      "name": "placeholder"
     },
     "encoding": {
      "x": {
       "field": "expected_bonus",
       "type": "quantitative",
       "sort": null,
       "scale": {
        "type": "linear",
        "zero": false
       }
      },
      "y": {
       "field": "player",
       "type": "nominal",
       "sort": null,
       "scale": {
        "type": "linear",
        "zero": true
       }
      },
      "color": {
       "field": "role",
       "type": "nominal",
       "sort": null,
       "scale": {
        "type": "linear",
        "zero": false
       }
      }
     }
    },
    "deepnote_to_be_reexecuted": false,
    "source_hash": "e68de25e",
    "execution_start": 1650431176264,
    "execution_millis": 142,
    "allow_embed": "output",
    "deepnote_cell_type": "visualization",
    "deepnote_output_heights": [
     314
    ]
   },
   "execution_count": 7,
   "outputs": [
    {
     "output_type": "execute_result",
     "execution_count": 7,
     "data": {
      "text/html": "\n<div id=\"altair-viz-559d2d325ded4a35adc794db7f0a56b3\"></div>\n<script type=\"text/javascript\">\n  (function(spec, embedOpt){\n    let outputDiv = document.currentScript.previousElementSibling;\n    if (outputDiv.id !== \"altair-viz-559d2d325ded4a35adc794db7f0a56b3\") {\n      outputDiv = document.getElementById(\"altair-viz-559d2d325ded4a35adc794db7f0a56b3\");\n    }\n    const paths = {\n      \"vega\": \"https://cdn.jsdelivr.net/npm//vega@5?noext\",\n      \"vega-lib\": \"https://cdn.jsdelivr.net/npm//vega-lib?noext\",\n      \"vega-lite\": \"https://cdn.jsdelivr.net/npm//vega-lite@4.8.1?noext\",\n      \"vega-embed\": \"https://cdn.jsdelivr.net/npm//vega-embed@6?noext\",\n    };\n\n    function loadScript(lib) {\n      return new Promise(function(resolve, reject) {\n        var s = document.createElement('script');\n        s.src = paths[lib];\n        s.async = true;\n        s.onload = () => resolve(paths[lib]);\n        s.onerror = () => reject(`Error loading script: ${paths[lib]}`);\n        document.getElementsByTagName(\"head\")[0].appendChild(s);\n      });\n    }\n\n    function showError(err) {\n      outputDiv.innerHTML = `<div class=\"error\" style=\"color:red;\">${err}</div>`;\n      throw err;\n    }\n\n    function displayChart(vegaEmbed) {\n      vegaEmbed(outputDiv, spec, embedOpt)\n        .catch(err => showError(`Javascript Error: ${err.message}<br>This usually means there's a typo in your chart specification. See the javascript console for the full traceback.`));\n    }\n\n    if(typeof define === \"function\" && define.amd) {\n      requirejs.config({paths});\n      require([\"vega-embed\"], displayChart, err => showError(`Error loading script: ${err.message}`));\n    } else if (typeof vegaEmbed === \"function\") {\n      displayChart(vegaEmbed);\n    } else {\n      loadScript(\"vega\")\n        .then(() => loadScript(\"vega-lite\"))\n        .then(() => loadScript(\"vega-embed\"))\n        .catch(showError)\n        .then(() => displayChart(vegaEmbed));\n    }\n  })({\"config\": {\"view\": {\"continuousWidth\": 400, \"continuousHeight\": 300}, \"area\": {\"fill\": \"#51C0E9\"}, \"axis\": {\"labelFont\": \"Inter, sans-serif\", \"labelFontSize\": 12, \"labelFontWeight\": \"normal\", \"labelLimit\": 60, \"labelOverlap\": \"greedy\", \"titleFont\": \"Inter, sans-serif\", \"titleFontSize\": 12, \"titleFontWeight\": \"bold\"}, \"background\": \"#ffffff\", \"legend\": {\"labelFont\": \"Inter, sans-serif\", \"labelFontSize\": 12, \"titleFont\": \"Inter, sans-serif\", \"titleFontSize\": 12, \"titleFontWeight\": \"bold\"}, \"line\": {\"stroke\": \"#51C0E9\", \"strokeWidth\": 2}, \"rect\": {\"fill\": \"#51C0E9\"}, \"title\": {\"anchor\": \"start\", \"color\": \"#000000\", \"font\": \"Inter, sans-serif\", \"fontSize\": 22, \"fontWeight\": \"normal\"}}, \"data\": {\"name\": \"data-a8d938f228e0c5d083fa4f08beb7b187\"}, \"mark\": {\"type\": \"bar\", \"tooltip\": {\"content\": \"data\"}}, \"autosize\": {\"type\": \"fit\"}, \"encoding\": {\"color\": {\"type\": \"nominal\", \"field\": \"role\", \"scale\": {\"type\": \"linear\", \"zero\": false}, \"sort\": null}, \"x\": {\"type\": \"quantitative\", \"field\": \"expected_bonus\", \"scale\": {\"type\": \"linear\", \"zero\": false}, \"sort\": null}, \"y\": {\"type\": \"nominal\", \"field\": \"player\", \"scale\": {\"type\": \"linear\", \"zero\": true}, \"sort\": null}}, \"height\": 300, \"width\": \"container\", \"$schema\": \"https://vega.github.io/schema/vega-lite/v4.json\", \"datasets\": {\"data-a8d938f228e0c5d083fa4f08beb7b187\": [{\"fanta_team\": \"AC Picchia\", \"role\": \"D\", \"player\": \"Calabria\", \"team\": \"AC Milan\", \"opponent\": \"Lazio\", \"date\": \"2022-04-24T00:00:00\", \"expected_bonus\": 0.5261557698249817}, {\"fanta_team\": \"AC Picchia\", \"role\": \"D\", \"player\": \"Faraoni\", \"team\": \"Verona\", \"opponent\": \"Sampdoria\", \"date\": \"2022-04-24T00:00:00\", \"expected_bonus\": 0.35062769055366516}, {\"fanta_team\": \"AC Picchia\", \"role\": \"D\", \"player\": \"Florenzi\", \"team\": \"AC Milan\", \"opponent\": \"Lazio\", \"date\": \"2022-04-24T00:00:00\", \"expected_bonus\": 0.30868858098983765}, {\"fanta_team\": \"AC Picchia\", \"role\": \"D\", \"player\": \"Dalbert\", \"team\": \"Cagliari\", \"opponent\": \"Genoa\", \"date\": \"2022-04-24T00:00:00\", \"expected_bonus\": 0.24157977104187012}, {\"fanta_team\": \"AC Picchia\", \"role\": \"D\", \"player\": \"Odriozola\", \"team\": \"Fiorentina\", \"opponent\": \"Salernitana\", \"date\": \"2022-04-24T00:00:00\", \"expected_bonus\": 0.22478969395160675}, {\"fanta_team\": \"AC Picchia\", \"role\": \"D\", \"player\": \"Ligt\", \"team\": \"Juventus\", \"opponent\": \"Sassuolo\", \"date\": \"2022-04-24T00:00:00\", \"expected_bonus\": 0.19893726706504822}, {\"fanta_team\": \"AC Picchia\", \"role\": \"D\", \"player\": \"Ansaldi\", \"team\": \"Torino\", \"opponent\": \"Spezia\", \"date\": \"2022-04-24T00:00:00\", \"expected_bonus\": 0.15870080888271332}, {\"fanta_team\": \"AC Picchia\", \"role\": \"D\", \"player\": \"Augello\", \"team\": \"Sampdoria\", \"opponent\": \"Verona\", \"date\": \"2022-04-24T00:00:00\", \"expected_bonus\": 0.07641925662755966}, {\"fanta_team\": \"AC Picchia\", \"role\": \"C\", \"player\": \"Malinovskiy\", \"team\": \"Atalanta\", \"opponent\": \"Venezia\", \"date\": \"2022-04-24T00:00:00\", \"expected_bonus\": 1.1544232368469238}, {\"fanta_team\": \"AC Picchia\", \"role\": \"C\", \"player\": \"Aramu\", \"team\": \"Venezia\", \"opponent\": \"Atalanta\", \"date\": \"2022-04-24T00:00:00\", \"expected_bonus\": 0.8063941597938538}, {\"fanta_team\": \"AC Picchia\", \"role\": \"C\", \"player\": \"Calhanoglu\", \"team\": \"Inter\", \"opponent\": \"Roma\", \"date\": \"2022-04-24T00:00:00\", \"expected_bonus\": 0.804914116859436}, {\"fanta_team\": \"AC Picchia\", \"role\": \"C\", \"player\": \"Orsolini\", \"team\": \"Bologna\", \"opponent\": \"Udinese\", \"date\": \"2022-04-24T00:00:00\", \"expected_bonus\": 0.4027639925479889}, {\"fanta_team\": \"AC Picchia\", \"role\": \"C\", \"player\": \"Brozovic\", \"team\": \"Inter\", \"opponent\": \"Roma\", \"date\": \"2022-04-24T00:00:00\", \"expected_bonus\": 0.2860381305217743}, {\"fanta_team\": \"AC Picchia\", \"role\": \"C\", \"player\": \"N\\u00e1ndez\", \"team\": \"Cagliari\", \"opponent\": \"Genoa\", \"date\": \"2022-04-24T00:00:00\", \"expected_bonus\": 0.24546204507350922}, {\"fanta_team\": \"AC Picchia\", \"role\": \"C\", \"player\": \"Marin\", \"team\": \"Cagliari\", \"opponent\": \"Genoa\", \"date\": \"2022-04-24T00:00:00\", \"expected_bonus\": 0.2424243539571762}, {\"fanta_team\": \"AC Picchia\", \"role\": \"C\", \"player\": \"Thorsby\", \"team\": \"Sampdoria\", \"opponent\": \"Verona\", \"date\": \"2022-04-24T00:00:00\", \"expected_bonus\": 0.23190970718860626}, {\"fanta_team\": \"AC Picchia\", \"role\": \"A\", \"player\": \"Muriel\", \"team\": \"Atalanta\", \"opponent\": \"Venezia\", \"date\": \"2022-04-24T00:00:00\", \"expected_bonus\": 1.6120294332504272}, {\"fanta_team\": \"AC Picchia\", \"role\": \"A\", \"player\": \"Giroud\", \"team\": \"AC Milan\", \"opponent\": \"Lazio\", \"date\": \"2022-04-24T00:00:00\", \"expected_bonus\": 1.039496898651123}, {\"fanta_team\": \"AC Picchia\", \"role\": \"A\", \"player\": \"Caputo\", \"team\": \"Sampdoria\", \"opponent\": \"Verona\", \"date\": \"2022-04-24T00:00:00\", \"expected_bonus\": 0.9696575999259949}, {\"fanta_team\": \"AC Picchia\", \"role\": \"A\", \"player\": \"Henry\", \"team\": \"Venezia\", \"opponent\": \"Atalanta\", \"date\": \"2022-04-24T00:00:00\", \"expected_bonus\": 0.9227136373519897}, {\"fanta_team\": \"AC Picchia\", \"role\": \"A\", \"player\": \"Verde\", \"team\": \"Spezia\", \"opponent\": \"Torino\", \"date\": \"2022-04-24T00:00:00\", \"expected_bonus\": 0.3291985094547272}, {\"fanta_team\": \"AC Picchia\", \"role\": \"A\", \"player\": \"Cabral\", \"team\": \"Fiorentina\", \"opponent\": \"Salernitana\", \"date\": \"2022-04-24T00:00:00\", \"expected_bonus\": 0.12177009135484695}]}}, {\"actions\": false, \"mode\": \"vega-lite\"});\n</script>",
      "text/plain": "alt.Chart(...)"
     },
     "metadata": {}
    }
   ]
  },
  {
   "cell_type": "code",
   "metadata": {
    "cell_id": "403f1719-a05c-438b-ab10-6045be82f284",
    "tags": [],
    "deepnote_to_be_reexecuted": false,
    "source_hash": "3f500048",
    "execution_start": 1650431176404,
    "execution_millis": 1,
    "deepnote_cell_type": "code"
   },
   "source": "team, index = display_fanta_squad(predictions, teams, index)",
   "execution_count": 8,
   "outputs": []
  },
  {
   "cell_type": "code",
   "source": "_deepnote_run_altair(team, \"\"\"{\"$schema\":\"https://vega.github.io/schema/vega-lite/v4.json\",\"mark\":{\"type\":\"bar\",\"tooltip\":{\"content\":\"data\"}},\"height\":220,\"autosize\":{\"type\":\"fit\"},\"data\":{\"name\":\"placeholder\"},\"encoding\":{\"x\":{\"field\":\"expected_bonus\",\"type\":\"quantitative\",\"sort\":null,\"scale\":{\"type\":\"linear\",\"zero\":false}},\"y\":{\"field\":\"player\",\"type\":\"nominal\",\"sort\":null,\"scale\":{\"type\":\"linear\",\"zero\":true}},\"color\":{\"field\":\"role\",\"type\":\"nominal\",\"sort\":null,\"scale\":{\"type\":\"linear\",\"zero\":false}}}}\"\"\")",
   "metadata": {
    "cell_id": "4a208803-57f0-497b-a4ea-c00c86e43db9",
    "deepnote_variable_name": "team",
    "deepnote_visualization_spec": {
     "$schema": "https://vega.github.io/schema/vega-lite/v4.json",
     "mark": {
      "type": "bar",
      "tooltip": {
       "content": "data"
      }
     },
     "height": 220,
     "autosize": {
      "type": "fit"
     },
     "data": {
      "name": "placeholder"
     },
     "encoding": {
      "x": {
       "field": "expected_bonus",
       "type": "quantitative",
       "sort": null,
       "scale": {
        "type": "linear",
        "zero": false
       }
      },
      "y": {
       "field": "player",
       "type": "nominal",
       "sort": null,
       "scale": {
        "type": "linear",
        "zero": true
       }
      },
      "color": {
       "field": "role",
       "type": "nominal",
       "sort": null,
       "scale": {
        "type": "linear",
        "zero": false
       }
      }
     }
    },
    "deepnote_to_be_reexecuted": false,
    "source_hash": "e68de25e",
    "execution_start": 1650431176405,
    "execution_millis": 154,
    "allow_embed": "output",
    "deepnote_cell_type": "visualization",
    "deepnote_output_heights": [
     314
    ]
   },
   "execution_count": 9,
   "outputs": [
    {
     "output_type": "execute_result",
     "execution_count": 9,
     "data": {
      "text/html": "\n<div id=\"altair-viz-5e0f32443a7e41068a2f2b4e6832c3c3\"></div>\n<script type=\"text/javascript\">\n  (function(spec, embedOpt){\n    let outputDiv = document.currentScript.previousElementSibling;\n    if (outputDiv.id !== \"altair-viz-5e0f32443a7e41068a2f2b4e6832c3c3\") {\n      outputDiv = document.getElementById(\"altair-viz-5e0f32443a7e41068a2f2b4e6832c3c3\");\n    }\n    const paths = {\n      \"vega\": \"https://cdn.jsdelivr.net/npm//vega@5?noext\",\n      \"vega-lib\": \"https://cdn.jsdelivr.net/npm//vega-lib?noext\",\n      \"vega-lite\": \"https://cdn.jsdelivr.net/npm//vega-lite@4.8.1?noext\",\n      \"vega-embed\": \"https://cdn.jsdelivr.net/npm//vega-embed@6?noext\",\n    };\n\n    function loadScript(lib) {\n      return new Promise(function(resolve, reject) {\n        var s = document.createElement('script');\n        s.src = paths[lib];\n        s.async = true;\n        s.onload = () => resolve(paths[lib]);\n        s.onerror = () => reject(`Error loading script: ${paths[lib]}`);\n        document.getElementsByTagName(\"head\")[0].appendChild(s);\n      });\n    }\n\n    function showError(err) {\n      outputDiv.innerHTML = `<div class=\"error\" style=\"color:red;\">${err}</div>`;\n      throw err;\n    }\n\n    function displayChart(vegaEmbed) {\n      vegaEmbed(outputDiv, spec, embedOpt)\n        .catch(err => showError(`Javascript Error: ${err.message}<br>This usually means there's a typo in your chart specification. See the javascript console for the full traceback.`));\n    }\n\n    if(typeof define === \"function\" && define.amd) {\n      requirejs.config({paths});\n      require([\"vega-embed\"], displayChart, err => showError(`Error loading script: ${err.message}`));\n    } else if (typeof vegaEmbed === \"function\") {\n      displayChart(vegaEmbed);\n    } else {\n      loadScript(\"vega\")\n        .then(() => loadScript(\"vega-lite\"))\n        .then(() => loadScript(\"vega-embed\"))\n        .catch(showError)\n        .then(() => displayChart(vegaEmbed));\n    }\n  })({\"config\": {\"view\": {\"continuousWidth\": 400, \"continuousHeight\": 300}, \"area\": {\"fill\": \"#51C0E9\"}, \"axis\": {\"labelFont\": \"Inter, sans-serif\", \"labelFontSize\": 12, \"labelFontWeight\": \"normal\", \"labelLimit\": 60, \"labelOverlap\": \"greedy\", \"titleFont\": \"Inter, sans-serif\", \"titleFontSize\": 12, \"titleFontWeight\": \"bold\"}, \"background\": \"#ffffff\", \"legend\": {\"labelFont\": \"Inter, sans-serif\", \"labelFontSize\": 12, \"titleFont\": \"Inter, sans-serif\", \"titleFontSize\": 12, \"titleFontWeight\": \"bold\"}, \"line\": {\"stroke\": \"#51C0E9\", \"strokeWidth\": 2}, \"rect\": {\"fill\": \"#51C0E9\"}, \"title\": {\"anchor\": \"start\", \"color\": \"#000000\", \"font\": \"Inter, sans-serif\", \"fontSize\": 22, \"fontWeight\": \"normal\"}}, \"data\": {\"name\": \"data-b6fd0817e101c1e9368a402f17c91557\"}, \"mark\": {\"type\": \"bar\", \"tooltip\": {\"content\": \"data\"}}, \"autosize\": {\"type\": \"fit\"}, \"encoding\": {\"color\": {\"type\": \"nominal\", \"field\": \"role\", \"scale\": {\"type\": \"linear\", \"zero\": false}, \"sort\": null}, \"x\": {\"type\": \"quantitative\", \"field\": \"expected_bonus\", \"scale\": {\"type\": \"linear\", \"zero\": false}, \"sort\": null}, \"y\": {\"type\": \"nominal\", \"field\": \"player\", \"scale\": {\"type\": \"linear\", \"zero\": true}, \"sort\": null}}, \"height\": 300, \"width\": \"container\", \"$schema\": \"https://vega.github.io/schema/vega-lite/v4.json\", \"datasets\": {\"data-b6fd0817e101c1e9368a402f17c91557\": [{\"fanta_team\": \"AI sereje ja dejeDe jebe tu de jebere\", \"role\": \"D\", \"player\": \"Skriniar\", \"team\": \"Inter\", \"opponent\": \"Roma\", \"date\": \"2022-04-24T00:00:00\", \"expected_bonus\": 0.34118980169296265}, {\"fanta_team\": \"AI sereje ja dejeDe jebe tu de jebere\", \"role\": \"D\", \"player\": \"Rrahmani\", \"team\": \"Napoli\", \"opponent\": \"Empoli\", \"date\": \"2022-04-24T00:00:00\", \"expected_bonus\": 0.31722503900527954}, {\"fanta_team\": \"AI sereje ja dejeDe jebe tu de jebere\", \"role\": \"D\", \"player\": \"Darmian\", \"team\": \"Inter\", \"opponent\": \"Roma\", \"date\": \"2022-04-24T00:00:00\", \"expected_bonus\": 0.2836727201938629}, {\"fanta_team\": \"AI sereje ja dejeDe jebe tu de jebere\", \"role\": \"D\", \"player\": \"Hateboer\", \"team\": \"Atalanta\", \"opponent\": \"Venezia\", \"date\": \"2022-04-24T00:00:00\", \"expected_bonus\": 0.26715466380119324}, {\"fanta_team\": \"AI sereje ja dejeDe jebe tu de jebere\", \"role\": \"D\", \"player\": \"Tuanzebe\", \"team\": \"Napoli\", \"opponent\": \"Empoli\", \"date\": \"2022-04-24T00:00:00\", \"expected_bonus\": 0.18961197137832642}, {\"fanta_team\": \"AI sereje ja dejeDe jebe tu de jebere\", \"role\": \"D\", \"player\": \"Acerbi\", \"team\": \"Lazio\", \"opponent\": \"AC Milan\", \"date\": \"2022-04-24T00:00:00\", \"expected_bonus\": 0.1603432595729828}, {\"fanta_team\": \"AI sereje ja dejeDe jebe tu de jebere\", \"role\": \"D\", \"player\": \"Yoshida\", \"team\": \"Sampdoria\", \"opponent\": \"Verona\", \"date\": \"2022-04-24T00:00:00\", \"expected_bonus\": 0.08234169334173203}, {\"fanta_team\": \"AI sereje ja dejeDe jebe tu de jebere\", \"role\": \"C\", \"player\": \"Bajrami\", \"team\": \"Empoli\", \"opponent\": \"Napoli\", \"date\": \"2022-04-24T00:00:00\", \"expected_bonus\": 0.8087589740753174}, {\"fanta_team\": \"AI sereje ja dejeDe jebe tu de jebere\", \"role\": \"C\", \"player\": \"Candreva\", \"team\": \"Sampdoria\", \"opponent\": \"Verona\", \"date\": \"2022-04-24T00:00:00\", \"expected_bonus\": 0.5973536968231201}, {\"fanta_team\": \"AI sereje ja dejeDe jebe tu de jebere\", \"role\": \"C\", \"player\": \"Djuricic\", \"team\": \"Sassuolo\", \"opponent\": \"Juventus\", \"date\": \"2022-04-24T00:00:00\", \"expected_bonus\": 0.5915541648864746}, {\"fanta_team\": \"AI sereje ja dejeDe jebe tu de jebere\", \"role\": \"C\", \"player\": \"Bonaventura\", \"team\": \"Fiorentina\", \"opponent\": \"Salernitana\", \"date\": \"2022-04-24T00:00:00\", \"expected_bonus\": 0.5687797665596008}, {\"fanta_team\": \"AI sereje ja dejeDe jebe tu de jebere\", \"role\": \"C\", \"player\": \"Lukic\", \"team\": \"Torino\", \"opponent\": \"Spezia\", \"date\": \"2022-04-24T00:00:00\", \"expected_bonus\": 0.4313611686229706}, {\"fanta_team\": \"AI sereje ja dejeDe jebe tu de jebere\", \"role\": \"C\", \"player\": \"Svanberg\", \"team\": \"Bologna\", \"opponent\": \"Udinese\", \"date\": \"2022-04-24T00:00:00\", \"expected_bonus\": 0.2717777192592621}, {\"fanta_team\": \"AI sereje ja dejeDe jebe tu de jebere\", \"role\": \"C\", \"player\": \"Zakaria\", \"team\": \"Juventus\", \"opponent\": \"Sassuolo\", \"date\": \"2022-04-24T00:00:00\", \"expected_bonus\": 0.12596210837364197}, {\"fanta_team\": \"AI sereje ja dejeDe jebe tu de jebere\", \"role\": \"A\", \"player\": \"Zapata\", \"team\": \"Atalanta\", \"opponent\": \"Venezia\", \"date\": \"2022-04-24T00:00:00\", \"expected_bonus\": 2.0153000354766846}, {\"fanta_team\": \"AI sereje ja dejeDe jebe tu de jebere\", \"role\": \"A\", \"player\": \"Vlahovic\", \"team\": \"Juventus\", \"opponent\": \"Sassuolo\", \"date\": \"2022-04-24T00:00:00\", \"expected_bonus\": 1.833685040473938}, {\"fanta_team\": \"AI sereje ja dejeDe jebe tu de jebere\", \"role\": \"A\", \"player\": \"Lozano\", \"team\": \"Napoli\", \"opponent\": \"Empoli\", \"date\": \"2022-04-24T00:00:00\", \"expected_bonus\": 1.2268946170806885}, {\"fanta_team\": \"AI sereje ja dejeDe jebe tu de jebere\", \"role\": \"A\", \"player\": \"Destro\", \"team\": \"Genoa\", \"opponent\": \"Cagliari\", \"date\": \"2022-04-24T00:00:00\", \"expected_bonus\": 1.152446985244751}, {\"fanta_team\": \"AI sereje ja dejeDe jebe tu de jebere\", \"role\": \"A\", \"player\": \"Beto\", \"team\": \"Udinese\", \"opponent\": \"Bologna\", \"date\": \"2022-04-24T00:00:00\", \"expected_bonus\": 1.0109567642211914}, {\"fanta_team\": \"AI sereje ja dejeDe jebe tu de jebere\", \"role\": \"A\", \"player\": \"Gyasi\", \"team\": \"Spezia\", \"opponent\": \"Torino\", \"date\": \"2022-04-24T00:00:00\", \"expected_bonus\": 0.2773256003856659}]}}, {\"actions\": false, \"mode\": \"vega-lite\"});\n</script>",
      "text/plain": "alt.Chart(...)"
     },
     "metadata": {}
    }
   ]
  },
  {
   "cell_type": "code",
   "metadata": {
    "cell_id": "2e687bc2-7527-4205-938c-991162872c2c",
    "tags": [],
    "deepnote_to_be_reexecuted": false,
    "source_hash": "3f500048",
    "execution_start": 1650431176549,
    "execution_millis": 1,
    "deepnote_cell_type": "code"
   },
   "source": "team, index = display_fanta_squad(predictions, teams, index)",
   "execution_count": 10,
   "outputs": []
  },
  {
   "cell_type": "code",
   "source": "_deepnote_run_altair(team, \"\"\"{\"$schema\":\"https://vega.github.io/schema/vega-lite/v4.json\",\"mark\":{\"type\":\"bar\",\"tooltip\":{\"content\":\"data\"}},\"height\":220,\"autosize\":{\"type\":\"fit\"},\"data\":{\"name\":\"placeholder\"},\"encoding\":{\"x\":{\"field\":\"expected_bonus\",\"type\":\"quantitative\",\"sort\":null,\"scale\":{\"type\":\"linear\",\"zero\":false}},\"y\":{\"field\":\"player\",\"type\":\"nominal\",\"sort\":null,\"scale\":{\"type\":\"linear\",\"zero\":true}},\"color\":{\"field\":\"role\",\"type\":\"nominal\",\"sort\":null,\"scale\":{\"type\":\"linear\",\"zero\":false}}}}\"\"\")",
   "metadata": {
    "cell_id": "f2a82479-5e7d-4027-8358-566cecfd00e7",
    "deepnote_variable_name": "team",
    "deepnote_visualization_spec": {
     "$schema": "https://vega.github.io/schema/vega-lite/v4.json",
     "mark": {
      "type": "bar",
      "tooltip": {
       "content": "data"
      }
     },
     "height": 220,
     "autosize": {
      "type": "fit"
     },
     "data": {
      "name": "placeholder"
     },
     "encoding": {
      "x": {
       "field": "expected_bonus",
       "type": "quantitative",
       "sort": null,
       "scale": {
        "type": "linear",
        "zero": false
       }
      },
      "y": {
       "field": "player",
       "type": "nominal",
       "sort": null,
       "scale": {
        "type": "linear",
        "zero": true
       }
      },
      "color": {
       "field": "role",
       "type": "nominal",
       "sort": null,
       "scale": {
        "type": "linear",
        "zero": false
       }
      }
     }
    },
    "deepnote_to_be_reexecuted": false,
    "source_hash": "e68de25e",
    "execution_start": 1650431176550,
    "execution_millis": 131,
    "allow_embed": "output",
    "deepnote_cell_type": "visualization",
    "deepnote_output_heights": [
     314
    ]
   },
   "execution_count": 11,
   "outputs": [
    {
     "output_type": "execute_result",
     "execution_count": 11,
     "data": {
      "text/html": "\n<div id=\"altair-viz-d89f2e506f0a415d865736344fbd7b20\"></div>\n<script type=\"text/javascript\">\n  (function(spec, embedOpt){\n    let outputDiv = document.currentScript.previousElementSibling;\n    if (outputDiv.id !== \"altair-viz-d89f2e506f0a415d865736344fbd7b20\") {\n      outputDiv = document.getElementById(\"altair-viz-d89f2e506f0a415d865736344fbd7b20\");\n    }\n    const paths = {\n      \"vega\": \"https://cdn.jsdelivr.net/npm//vega@5?noext\",\n      \"vega-lib\": \"https://cdn.jsdelivr.net/npm//vega-lib?noext\",\n      \"vega-lite\": \"https://cdn.jsdelivr.net/npm//vega-lite@4.8.1?noext\",\n      \"vega-embed\": \"https://cdn.jsdelivr.net/npm//vega-embed@6?noext\",\n    };\n\n    function loadScript(lib) {\n      return new Promise(function(resolve, reject) {\n        var s = document.createElement('script');\n        s.src = paths[lib];\n        s.async = true;\n        s.onload = () => resolve(paths[lib]);\n        s.onerror = () => reject(`Error loading script: ${paths[lib]}`);\n        document.getElementsByTagName(\"head\")[0].appendChild(s);\n      });\n    }\n\n    function showError(err) {\n      outputDiv.innerHTML = `<div class=\"error\" style=\"color:red;\">${err}</div>`;\n      throw err;\n    }\n\n    function displayChart(vegaEmbed) {\n      vegaEmbed(outputDiv, spec, embedOpt)\n        .catch(err => showError(`Javascript Error: ${err.message}<br>This usually means there's a typo in your chart specification. See the javascript console for the full traceback.`));\n    }\n\n    if(typeof define === \"function\" && define.amd) {\n      requirejs.config({paths});\n      require([\"vega-embed\"], displayChart, err => showError(`Error loading script: ${err.message}`));\n    } else if (typeof vegaEmbed === \"function\") {\n      displayChart(vegaEmbed);\n    } else {\n      loadScript(\"vega\")\n        .then(() => loadScript(\"vega-lite\"))\n        .then(() => loadScript(\"vega-embed\"))\n        .catch(showError)\n        .then(() => displayChart(vegaEmbed));\n    }\n  })({\"config\": {\"view\": {\"continuousWidth\": 400, \"continuousHeight\": 300}, \"area\": {\"fill\": \"#51C0E9\"}, \"axis\": {\"labelFont\": \"Inter, sans-serif\", \"labelFontSize\": 12, \"labelFontWeight\": \"normal\", \"labelLimit\": 60, \"labelOverlap\": \"greedy\", \"titleFont\": \"Inter, sans-serif\", \"titleFontSize\": 12, \"titleFontWeight\": \"bold\"}, \"background\": \"#ffffff\", \"legend\": {\"labelFont\": \"Inter, sans-serif\", \"labelFontSize\": 12, \"titleFont\": \"Inter, sans-serif\", \"titleFontSize\": 12, \"titleFontWeight\": \"bold\"}, \"line\": {\"stroke\": \"#51C0E9\", \"strokeWidth\": 2}, \"rect\": {\"fill\": \"#51C0E9\"}, \"title\": {\"anchor\": \"start\", \"color\": \"#000000\", \"font\": \"Inter, sans-serif\", \"fontSize\": 22, \"fontWeight\": \"normal\"}}, \"data\": {\"name\": \"data-5bb87051ce658583ae5d351801ce7643\"}, \"mark\": {\"type\": \"bar\", \"tooltip\": {\"content\": \"data\"}}, \"autosize\": {\"type\": \"fit\"}, \"encoding\": {\"color\": {\"type\": \"nominal\", \"field\": \"role\", \"scale\": {\"type\": \"linear\", \"zero\": false}, \"sort\": null}, \"x\": {\"type\": \"quantitative\", \"field\": \"expected_bonus\", \"scale\": {\"type\": \"linear\", \"zero\": false}, \"sort\": null}, \"y\": {\"type\": \"nominal\", \"field\": \"player\", \"scale\": {\"type\": \"linear\", \"zero\": true}, \"sort\": null}}, \"height\": 300, \"width\": \"container\", \"$schema\": \"https://vega.github.io/schema/vega-lite/v4.json\", \"datasets\": {\"data-5bb87051ce658583ae5d351801ce7643\": [{\"fanta_team\": \"Beverly INPS\", \"role\": \"D\", \"player\": \"Dimarco\", \"team\": \"Inter\", \"opponent\": \"Roma\", \"date\": \"2022-04-24T00:00:00\", \"expected_bonus\": 0.5469322204589844}, {\"fanta_team\": \"Beverly INPS\", \"role\": \"D\", \"player\": \"Lorenzo\", \"team\": \"Napoli\", \"opponent\": \"Empoli\", \"date\": \"2022-04-24T00:00:00\", \"expected_bonus\": 0.293607234954834}, {\"fanta_team\": \"Beverly INPS\", \"role\": \"D\", \"player\": \"Cuadrado\", \"team\": \"Juventus\", \"opponent\": \"Sassuolo\", \"date\": \"2022-04-24T00:00:00\", \"expected_bonus\": 0.28713005781173706}, {\"fanta_team\": \"Beverly INPS\", \"role\": \"D\", \"player\": \"Cambiaso\", \"team\": \"Genoa\", \"opponent\": \"Cagliari\", \"date\": \"2022-04-24T00:00:00\", \"expected_bonus\": 0.2668604850769043}, {\"fanta_team\": \"Beverly INPS\", \"role\": \"D\", \"player\": \"Bastoni\", \"team\": \"Inter\", \"opponent\": \"Roma\", \"date\": \"2022-04-24T00:00:00\", \"expected_bonus\": 0.22603897750377655}, {\"fanta_team\": \"Beverly INPS\", \"role\": \"D\", \"player\": \"Romagnoli\", \"team\": \"AC Milan\", \"opponent\": \"Lazio\", \"date\": \"2022-04-24T00:00:00\", \"expected_bonus\": 0.14208656549453735}, {\"fanta_team\": \"Beverly INPS\", \"role\": \"D\", \"player\": \"Nuytinck\", \"team\": \"Udinese\", \"opponent\": \"Bologna\", \"date\": \"2022-04-24T00:00:00\", \"expected_bonus\": 0.09230806678533554}, {\"fanta_team\": \"Beverly INPS\", \"role\": \"C\", \"player\": \"Barak\", \"team\": \"Verona\", \"opponent\": \"Sampdoria\", \"date\": \"2022-04-24T00:00:00\", \"expected_bonus\": 1.0271636247634888}, {\"fanta_team\": \"Beverly INPS\", \"role\": \"C\", \"player\": \"Zielinski\", \"team\": \"Napoli\", \"opponent\": \"Empoli\", \"date\": \"2022-04-24T00:00:00\", \"expected_bonus\": 0.905263364315033}, {\"fanta_team\": \"Beverly INPS\", \"role\": \"C\", \"player\": \"Praet\", \"team\": \"Torino\", \"opponent\": \"Spezia\", \"date\": \"2022-04-24T00:00:00\", \"expected_bonus\": 0.7245032787322998}, {\"fanta_team\": \"Beverly INPS\", \"role\": \"C\", \"player\": \"Kessi\\u00e9\", \"team\": \"AC Milan\", \"opponent\": \"Lazio\", \"date\": \"2022-04-24T00:00:00\", \"expected_bonus\": 0.5091707110404968}, {\"fanta_team\": \"Beverly INPS\", \"role\": \"C\", \"player\": \"Alberto\", \"team\": \"Lazio\", \"opponent\": \"AC Milan\", \"date\": \"2022-04-24T00:00:00\", \"expected_bonus\": 0.41163331270217896}, {\"fanta_team\": \"Beverly INPS\", \"role\": \"C\", \"player\": \"Veretout\", \"team\": \"Roma\", \"opponent\": \"Inter\", \"date\": \"2022-04-24T00:00:00\", \"expected_bonus\": 0.33526813983917236}, {\"fanta_team\": \"Beverly INPS\", \"role\": \"C\", \"player\": \"Elmas\", \"team\": \"Napoli\", \"opponent\": \"Empoli\", \"date\": \"2022-04-24T00:00:00\", \"expected_bonus\": 0.33210453391075134}, {\"fanta_team\": \"Beverly INPS\", \"role\": \"A\", \"player\": \"Mart\\u00ednez\", \"team\": \"Inter\", \"opponent\": \"Roma\", \"date\": \"2022-04-24T00:00:00\", \"expected_bonus\": 1.757609248161316}, {\"fanta_team\": \"Beverly INPS\", \"role\": \"A\", \"player\": \"Mertens\", \"team\": \"Napoli\", \"opponent\": \"Empoli\", \"date\": \"2022-04-24T00:00:00\", \"expected_bonus\": 1.4670151472091675}, {\"fanta_team\": \"Beverly INPS\", \"role\": \"A\", \"player\": \"Berardi\", \"team\": \"Sassuolo\", \"opponent\": \"Juventus\", \"date\": \"2022-04-24T00:00:00\", \"expected_bonus\": 1.1865355968475342}, {\"fanta_team\": \"Beverly INPS\", \"role\": \"A\", \"player\": \"Deulofeu\", \"team\": \"Udinese\", \"opponent\": \"Bologna\", \"date\": \"2022-04-24T00:00:00\", \"expected_bonus\": 1.0272499322891235}, {\"fanta_team\": \"Beverly INPS\", \"role\": \"A\", \"player\": \"Barrow\", \"team\": \"Bologna\", \"opponent\": \"Udinese\", \"date\": \"2022-04-24T00:00:00\", \"expected_bonus\": 0.9155488610267639}, {\"fanta_team\": \"Beverly INPS\", \"role\": \"A\", \"player\": \"Gonz\\u00e1lez\", \"team\": \"Fiorentina\", \"opponent\": \"Salernitana\", \"date\": \"2022-04-24T00:00:00\", \"expected_bonus\": 0.8371264934539795}]}}, {\"actions\": false, \"mode\": \"vega-lite\"});\n</script>",
      "text/plain": "alt.Chart(...)"
     },
     "metadata": {}
    }
   ]
  },
  {
   "cell_type": "code",
   "metadata": {
    "cell_id": "916c19f8-a9c2-4762-8c8c-98800652248f",
    "tags": [],
    "deepnote_to_be_reexecuted": false,
    "source_hash": "3f500048",
    "execution_start": 1650431176679,
    "execution_millis": 4,
    "deepnote_cell_type": "code"
   },
   "source": "team, index = display_fanta_squad(predictions, teams, index)",
   "execution_count": 12,
   "outputs": []
  },
  {
   "cell_type": "code",
   "source": "_deepnote_run_altair(team, \"\"\"{\"$schema\":\"https://vega.github.io/schema/vega-lite/v4.json\",\"mark\":{\"type\":\"bar\",\"tooltip\":{\"content\":\"data\"}},\"height\":220,\"autosize\":{\"type\":\"fit\"},\"data\":{\"name\":\"placeholder\"},\"encoding\":{\"x\":{\"field\":\"expected_bonus\",\"type\":\"quantitative\",\"sort\":null,\"scale\":{\"type\":\"linear\",\"zero\":false}},\"y\":{\"field\":\"player\",\"type\":\"nominal\",\"sort\":null,\"scale\":{\"type\":\"linear\",\"zero\":true}},\"color\":{\"field\":\"role\",\"type\":\"nominal\",\"sort\":null,\"scale\":{\"type\":\"linear\",\"zero\":false}}}}\"\"\")",
   "metadata": {
    "cell_id": "25c33c88-5e5c-405a-a0c8-3800930b7e22",
    "deepnote_variable_name": "team",
    "deepnote_visualization_spec": {
     "$schema": "https://vega.github.io/schema/vega-lite/v4.json",
     "mark": {
      "type": "bar",
      "tooltip": {
       "content": "data"
      }
     },
     "height": 220,
     "autosize": {
      "type": "fit"
     },
     "data": {
      "name": "placeholder"
     },
     "encoding": {
      "x": {
       "field": "expected_bonus",
       "type": "quantitative",
       "sort": null,
       "scale": {
        "type": "linear",
        "zero": false
       }
      },
      "y": {
       "field": "player",
       "type": "nominal",
       "sort": null,
       "scale": {
        "type": "linear",
        "zero": true
       }
      },
      "color": {
       "field": "role",
       "type": "nominal",
       "sort": null,
       "scale": {
        "type": "linear",
        "zero": false
       }
      }
     }
    },
    "deepnote_to_be_reexecuted": false,
    "source_hash": "e68de25e",
    "execution_start": 1650431176743,
    "execution_millis": 131,
    "allow_embed": true,
    "deepnote_cell_type": "visualization",
    "deepnote_output_heights": [
     314
    ]
   },
   "execution_count": 13,
   "outputs": [
    {
     "output_type": "execute_result",
     "execution_count": 13,
     "data": {
      "text/html": "\n<div id=\"altair-viz-9eacfe63660f4491aef46ed0c08dc79d\"></div>\n<script type=\"text/javascript\">\n  (function(spec, embedOpt){\n    let outputDiv = document.currentScript.previousElementSibling;\n    if (outputDiv.id !== \"altair-viz-9eacfe63660f4491aef46ed0c08dc79d\") {\n      outputDiv = document.getElementById(\"altair-viz-9eacfe63660f4491aef46ed0c08dc79d\");\n    }\n    const paths = {\n      \"vega\": \"https://cdn.jsdelivr.net/npm//vega@5?noext\",\n      \"vega-lib\": \"https://cdn.jsdelivr.net/npm//vega-lib?noext\",\n      \"vega-lite\": \"https://cdn.jsdelivr.net/npm//vega-lite@4.8.1?noext\",\n      \"vega-embed\": \"https://cdn.jsdelivr.net/npm//vega-embed@6?noext\",\n    };\n\n    function loadScript(lib) {\n      return new Promise(function(resolve, reject) {\n        var s = document.createElement('script');\n        s.src = paths[lib];\n        s.async = true;\n        s.onload = () => resolve(paths[lib]);\n        s.onerror = () => reject(`Error loading script: ${paths[lib]}`);\n        document.getElementsByTagName(\"head\")[0].appendChild(s);\n      });\n    }\n\n    function showError(err) {\n      outputDiv.innerHTML = `<div class=\"error\" style=\"color:red;\">${err}</div>`;\n      throw err;\n    }\n\n    function displayChart(vegaEmbed) {\n      vegaEmbed(outputDiv, spec, embedOpt)\n        .catch(err => showError(`Javascript Error: ${err.message}<br>This usually means there's a typo in your chart specification. See the javascript console for the full traceback.`));\n    }\n\n    if(typeof define === \"function\" && define.amd) {\n      requirejs.config({paths});\n      require([\"vega-embed\"], displayChart, err => showError(`Error loading script: ${err.message}`));\n    } else if (typeof vegaEmbed === \"function\") {\n      displayChart(vegaEmbed);\n    } else {\n      loadScript(\"vega\")\n        .then(() => loadScript(\"vega-lite\"))\n        .then(() => loadScript(\"vega-embed\"))\n        .catch(showError)\n        .then(() => displayChart(vegaEmbed));\n    }\n  })({\"config\": {\"view\": {\"continuousWidth\": 400, \"continuousHeight\": 300}, \"area\": {\"fill\": \"#51C0E9\"}, \"axis\": {\"labelFont\": \"Inter, sans-serif\", \"labelFontSize\": 12, \"labelFontWeight\": \"normal\", \"labelLimit\": 60, \"labelOverlap\": \"greedy\", \"titleFont\": \"Inter, sans-serif\", \"titleFontSize\": 12, \"titleFontWeight\": \"bold\"}, \"background\": \"#ffffff\", \"legend\": {\"labelFont\": \"Inter, sans-serif\", \"labelFontSize\": 12, \"titleFont\": \"Inter, sans-serif\", \"titleFontSize\": 12, \"titleFontWeight\": \"bold\"}, \"line\": {\"stroke\": \"#51C0E9\", \"strokeWidth\": 2}, \"rect\": {\"fill\": \"#51C0E9\"}, \"title\": {\"anchor\": \"start\", \"color\": \"#000000\", \"font\": \"Inter, sans-serif\", \"fontSize\": 22, \"fontWeight\": \"normal\"}}, \"data\": {\"name\": \"data-3e3726821ada4b807c0b1ed7df0b74f6\"}, \"mark\": {\"type\": \"bar\", \"tooltip\": {\"content\": \"data\"}}, \"autosize\": {\"type\": \"fit\"}, \"encoding\": {\"color\": {\"type\": \"nominal\", \"field\": \"role\", \"scale\": {\"type\": \"linear\", \"zero\": false}, \"sort\": null}, \"x\": {\"type\": \"quantitative\", \"field\": \"expected_bonus\", \"scale\": {\"type\": \"linear\", \"zero\": false}, \"sort\": null}, \"y\": {\"type\": \"nominal\", \"field\": \"player\", \"scale\": {\"type\": \"linear\", \"zero\": true}, \"sort\": null}}, \"height\": 300, \"width\": \"container\", \"$schema\": \"https://vega.github.io/schema/vega-lite/v4.json\", \"datasets\": {\"data-3e3726821ada4b807c0b1ed7df0b74f6\": [{\"fanta_team\": \"MEZAFE\", \"role\": \"D\", \"player\": \"Criscito\", \"team\": \"Genoa\", \"opponent\": \"Cagliari\", \"date\": \"2022-04-24T00:00:00\", \"expected_bonus\": 0.5819709897041321}, {\"fanta_team\": \"MEZAFE\", \"role\": \"D\", \"player\": \"Zappacosta\", \"team\": \"Atalanta\", \"opponent\": \"Venezia\", \"date\": \"2022-04-24T00:00:00\", \"expected_bonus\": 0.5505896806716919}, {\"fanta_team\": \"MEZAFE\", \"role\": \"D\", \"player\": \"Bonucci\", \"team\": \"Juventus\", \"opponent\": \"Sassuolo\", \"date\": \"2022-04-24T00:00:00\", \"expected_bonus\": 0.3406330645084381}, {\"fanta_team\": \"MEZAFE\", \"role\": \"D\", \"player\": \"Silvestri\", \"team\": \"Bologna\", \"opponent\": \"Udinese\", \"date\": \"2022-04-24T00:00:00\", \"expected_bonus\": 0.26267579197883606}, {\"fanta_team\": \"MEZAFE\", \"role\": \"D\", \"player\": \"Vrij\", \"team\": \"Inter\", \"opponent\": \"Roma\", \"date\": \"2022-04-24T00:00:00\", \"expected_bonus\": 0.2358393520116806}, {\"fanta_team\": \"MEZAFE\", \"role\": \"D\", \"player\": \"Danilo\", \"team\": \"Juventus\", \"opponent\": \"Sassuolo\", \"date\": \"2022-04-24T00:00:00\", \"expected_bonus\": 0.17858965694904327}, {\"fanta_team\": \"MEZAFE\", \"role\": \"D\", \"player\": \"Chiellini\", \"team\": \"Juventus\", \"opponent\": \"Sassuolo\", \"date\": \"2022-04-24T00:00:00\", \"expected_bonus\": 0.1076447069644928}, {\"fanta_team\": \"MEZAFE\", \"role\": \"D\", \"player\": \"Mancini\", \"team\": \"Roma\", \"opponent\": \"Inter\", \"date\": \"2022-04-24T00:00:00\", \"expected_bonus\": 0.10618065297603607}, {\"fanta_team\": \"MEZAFE\", \"role\": \"C\", \"player\": \"Pasalic\", \"team\": \"Atalanta\", \"opponent\": \"Venezia\", \"date\": \"2022-04-24T00:00:00\", \"expected_bonus\": 0.9400321841239929}, {\"fanta_team\": \"MEZAFE\", \"role\": \"C\", \"player\": \"Saelemaekers\", \"team\": \"AC Milan\", \"opponent\": \"Lazio\", \"date\": \"2022-04-24T00:00:00\", \"expected_bonus\": 0.614798903465271}, {\"fanta_team\": \"MEZAFE\", \"role\": \"C\", \"player\": \"Verdi\", \"team\": \"Salernitana\", \"opponent\": \"Fiorentina\", \"date\": \"2022-04-24T00:00:00\", \"expected_bonus\": 0.5452577471733093}, {\"fanta_team\": \"MEZAFE\", \"role\": \"C\", \"player\": \"Lazovic\", \"team\": \"Verona\", \"opponent\": \"Sampdoria\", \"date\": \"2022-04-24T00:00:00\", \"expected_bonus\": 0.48507165908813477}, {\"fanta_team\": \"MEZAFE\", \"role\": \"C\", \"player\": \"Perisic\", \"team\": \"Inter\", \"opponent\": \"Roma\", \"date\": \"2022-04-24T00:00:00\", \"expected_bonus\": 0.4357074797153473}, {\"fanta_team\": \"MEZAFE\", \"role\": \"C\", \"player\": \"McKennie\", \"team\": \"Juventus\", \"opponent\": \"Sassuolo\", \"date\": \"2022-04-24T00:00:00\", \"expected_bonus\": 0.36254915595054626}, {\"fanta_team\": \"MEZAFE\", \"role\": \"C\", \"player\": \"Tonali\", \"team\": \"AC Milan\", \"opponent\": \"Lazio\", \"date\": \"2022-04-24T00:00:00\", \"expected_bonus\": 0.2812388241291046}, {\"fanta_team\": \"MEZAFE\", \"role\": \"C\", \"player\": \"Castrovilli\", \"team\": \"Fiorentina\", \"opponent\": \"Salernitana\", \"date\": \"2022-04-24T00:00:00\", \"expected_bonus\": 0.19078762829303741}, {\"fanta_team\": \"MEZAFE\", \"role\": \"A\", \"player\": \"Dybala\", \"team\": \"Juventus\", \"opponent\": \"Sassuolo\", \"date\": \"2022-04-24T00:00:00\", \"expected_bonus\": 1.4074803590774536}, {\"fanta_team\": \"MEZAFE\", \"role\": \"A\", \"player\": \"Piatek\", \"team\": \"Fiorentina\", \"opponent\": \"Salernitana\", \"date\": \"2022-04-24T00:00:00\", \"expected_bonus\": 1.3336750268936157}, {\"fanta_team\": \"MEZAFE\", \"role\": \"A\", \"player\": \"Sanabria\", \"team\": \"Torino\", \"opponent\": \"Spezia\", \"date\": \"2022-04-24T00:00:00\", \"expected_bonus\": 1.2643753290176392}, {\"fanta_team\": \"MEZAFE\", \"role\": \"A\", \"player\": \"Simeone\", \"team\": \"Verona\", \"opponent\": \"Sampdoria\", \"date\": \"2022-04-24T00:00:00\", \"expected_bonus\": 1.2382073402404785}, {\"fanta_team\": \"MEZAFE\", \"role\": \"A\", \"player\": \"Quagliarella\", \"team\": \"Sampdoria\", \"opponent\": \"Verona\", \"date\": \"2022-04-24T00:00:00\", \"expected_bonus\": 0.8839535713195801}, {\"fanta_team\": \"MEZAFE\", \"role\": \"A\", \"player\": \"Rebic\", \"team\": \"AC Milan\", \"opponent\": \"Lazio\", \"date\": \"2022-04-24T00:00:00\", \"expected_bonus\": 0.34112033247947693}]}}, {\"actions\": false, \"mode\": \"vega-lite\"});\n</script>",
      "text/plain": "alt.Chart(...)"
     },
     "metadata": {}
    }
   ]
  },
  {
   "cell_type": "code",
   "metadata": {
    "cell_id": "276bd398-b660-4090-92fd-fb77fc80292b",
    "tags": [],
    "deepnote_to_be_reexecuted": false,
    "source_hash": "3f500048",
    "execution_start": 1650431176872,
    "execution_millis": 0,
    "deepnote_cell_type": "code"
   },
   "source": "team, index = display_fanta_squad(predictions, teams, index)",
   "execution_count": 14,
   "outputs": []
  },
  {
   "cell_type": "code",
   "source": "_deepnote_run_altair(team, \"\"\"{\"$schema\":\"https://vega.github.io/schema/vega-lite/v4.json\",\"mark\":{\"type\":\"bar\",\"tooltip\":{\"content\":\"data\"}},\"height\":220,\"autosize\":{\"type\":\"fit\"},\"data\":{\"name\":\"placeholder\"},\"encoding\":{\"x\":{\"field\":\"expected_bonus\",\"type\":\"quantitative\",\"sort\":null,\"scale\":{\"type\":\"linear\",\"zero\":false}},\"y\":{\"field\":\"player\",\"type\":\"nominal\",\"sort\":null,\"scale\":{\"type\":\"linear\",\"zero\":true}},\"color\":{\"field\":\"role\",\"type\":\"nominal\",\"sort\":null,\"scale\":{\"type\":\"linear\",\"zero\":false}}}}\"\"\")",
   "metadata": {
    "cell_id": "81adbb4a-773d-4067-8e05-9a828af1216c",
    "deepnote_variable_name": "team",
    "deepnote_visualization_spec": {
     "$schema": "https://vega.github.io/schema/vega-lite/v4.json",
     "mark": {
      "type": "bar",
      "tooltip": {
       "content": "data"
      }
     },
     "height": 220,
     "autosize": {
      "type": "fit"
     },
     "data": {
      "name": "placeholder"
     },
     "encoding": {
      "x": {
       "field": "expected_bonus",
       "type": "quantitative",
       "sort": null,
       "scale": {
        "type": "linear",
        "zero": false
       }
      },
      "y": {
       "field": "player",
       "type": "nominal",
       "sort": null,
       "scale": {
        "type": "linear",
        "zero": true
       }
      },
      "color": {
       "field": "role",
       "type": "nominal",
       "sort": null,
       "scale": {
        "type": "linear",
        "zero": false
       }
      }
     }
    },
    "deepnote_to_be_reexecuted": false,
    "source_hash": "e68de25e",
    "execution_start": 1650431176873,
    "execution_millis": 105,
    "allow_embed": "output",
    "deepnote_cell_type": "visualization",
    "deepnote_output_heights": [
     314
    ]
   },
   "execution_count": 15,
   "outputs": [
    {
     "output_type": "execute_result",
     "execution_count": 15,
     "data": {
      "text/html": "\n<div id=\"altair-viz-31e14d26a0fc4163ba1e9967f1aea564\"></div>\n<script type=\"text/javascript\">\n  (function(spec, embedOpt){\n    let outputDiv = document.currentScript.previousElementSibling;\n    if (outputDiv.id !== \"altair-viz-31e14d26a0fc4163ba1e9967f1aea564\") {\n      outputDiv = document.getElementById(\"altair-viz-31e14d26a0fc4163ba1e9967f1aea564\");\n    }\n    const paths = {\n      \"vega\": \"https://cdn.jsdelivr.net/npm//vega@5?noext\",\n      \"vega-lib\": \"https://cdn.jsdelivr.net/npm//vega-lib?noext\",\n      \"vega-lite\": \"https://cdn.jsdelivr.net/npm//vega-lite@4.8.1?noext\",\n      \"vega-embed\": \"https://cdn.jsdelivr.net/npm//vega-embed@6?noext\",\n    };\n\n    function loadScript(lib) {\n      return new Promise(function(resolve, reject) {\n        var s = document.createElement('script');\n        s.src = paths[lib];\n        s.async = true;\n        s.onload = () => resolve(paths[lib]);\n        s.onerror = () => reject(`Error loading script: ${paths[lib]}`);\n        document.getElementsByTagName(\"head\")[0].appendChild(s);\n      });\n    }\n\n    function showError(err) {\n      outputDiv.innerHTML = `<div class=\"error\" style=\"color:red;\">${err}</div>`;\n      throw err;\n    }\n\n    function displayChart(vegaEmbed) {\n      vegaEmbed(outputDiv, spec, embedOpt)\n        .catch(err => showError(`Javascript Error: ${err.message}<br>This usually means there's a typo in your chart specification. See the javascript console for the full traceback.`));\n    }\n\n    if(typeof define === \"function\" && define.amd) {\n      requirejs.config({paths});\n      require([\"vega-embed\"], displayChart, err => showError(`Error loading script: ${err.message}`));\n    } else if (typeof vegaEmbed === \"function\") {\n      displayChart(vegaEmbed);\n    } else {\n      loadScript(\"vega\")\n        .then(() => loadScript(\"vega-lite\"))\n        .then(() => loadScript(\"vega-embed\"))\n        .catch(showError)\n        .then(() => displayChart(vegaEmbed));\n    }\n  })({\"config\": {\"view\": {\"continuousWidth\": 400, \"continuousHeight\": 300}, \"area\": {\"fill\": \"#51C0E9\"}, \"axis\": {\"labelFont\": \"Inter, sans-serif\", \"labelFontSize\": 12, \"labelFontWeight\": \"normal\", \"labelLimit\": 60, \"labelOverlap\": \"greedy\", \"titleFont\": \"Inter, sans-serif\", \"titleFontSize\": 12, \"titleFontWeight\": \"bold\"}, \"background\": \"#ffffff\", \"legend\": {\"labelFont\": \"Inter, sans-serif\", \"labelFontSize\": 12, \"titleFont\": \"Inter, sans-serif\", \"titleFontSize\": 12, \"titleFontWeight\": \"bold\"}, \"line\": {\"stroke\": \"#51C0E9\", \"strokeWidth\": 2}, \"rect\": {\"fill\": \"#51C0E9\"}, \"title\": {\"anchor\": \"start\", \"color\": \"#000000\", \"font\": \"Inter, sans-serif\", \"fontSize\": 22, \"fontWeight\": \"normal\"}}, \"data\": {\"name\": \"data-c5318da1f0eb5dd6fb1ebf4707eff959\"}, \"mark\": {\"type\": \"bar\", \"tooltip\": {\"content\": \"data\"}}, \"autosize\": {\"type\": \"fit\"}, \"encoding\": {\"color\": {\"type\": \"nominal\", \"field\": \"role\", \"scale\": {\"type\": \"linear\", \"zero\": false}, \"sort\": null}, \"x\": {\"type\": \"quantitative\", \"field\": \"expected_bonus\", \"scale\": {\"type\": \"linear\", \"zero\": false}, \"sort\": null}, \"y\": {\"type\": \"nominal\", \"field\": \"player\", \"scale\": {\"type\": \"linear\", \"zero\": true}, \"sort\": null}}, \"height\": 300, \"width\": \"container\", \"$schema\": \"https://vega.github.io/schema/vega-lite/v4.json\", \"datasets\": {\"data-c5318da1f0eb5dd6fb1ebf4707eff959\": [{\"fanta_team\": \"MaiNa Joya_v2.0\", \"role\": \"D\", \"player\": \"Gosens\", \"team\": \"Inter\", \"opponent\": \"Roma\", \"date\": \"2022-04-24T00:00:00\", \"expected_bonus\": 0.57565838098526}, {\"fanta_team\": \"MaiNa Joya_v2.0\", \"role\": \"D\", \"player\": \"Hern\\u00e1ndez\", \"team\": \"AC Milan\", \"opponent\": \"Lazio\", \"date\": \"2022-04-24T00:00:00\", \"expected_bonus\": 0.549037754535675}, {\"fanta_team\": \"MaiNa Joya_v2.0\", \"role\": \"D\", \"player\": \"Toloi\", \"team\": \"Atalanta\", \"opponent\": \"Venezia\", \"date\": \"2022-04-24T00:00:00\", \"expected_bonus\": 0.24362249672412872}, {\"fanta_team\": \"MaiNa Joya_v2.0\", \"role\": \"D\", \"player\": \"Molina\", \"team\": \"Udinese\", \"opponent\": \"Bologna\", \"date\": \"2022-04-24T00:00:00\", \"expected_bonus\": 0.22597530484199524}, {\"fanta_team\": \"MaiNa Joya_v2.0\", \"role\": \"D\", \"player\": \"Milenkovic\", \"team\": \"Fiorentina\", \"opponent\": \"Salernitana\", \"date\": \"2022-04-24T00:00:00\", \"expected_bonus\": 0.18582983314990997}, {\"fanta_team\": \"MaiNa Joya_v2.0\", \"role\": \"D\", \"player\": \"Ferrari\", \"team\": \"Sassuolo\", \"opponent\": \"Juventus\", \"date\": \"2022-04-24T00:00:00\", \"expected_bonus\": 0.1441987007856369}, {\"fanta_team\": \"MaiNa Joya_v2.0\", \"role\": \"D\", \"player\": \"Stojanovic\", \"team\": \"Empoli\", \"opponent\": \"Napoli\", \"date\": \"2022-04-24T00:00:00\", \"expected_bonus\": 0.1344669610261917}, {\"fanta_team\": \"MaiNa Joya_v2.0\", \"role\": \"C\", \"player\": \"Barella\", \"team\": \"Inter\", \"opponent\": \"Roma\", \"date\": \"2022-04-24T00:00:00\", \"expected_bonus\": 0.7746947407722473}, {\"fanta_team\": \"MaiNa Joya_v2.0\", \"role\": \"C\", \"player\": \"Milinkovic-Savic\", \"team\": \"Lazio\", \"opponent\": \"AC Milan\", \"date\": \"2022-04-24T00:00:00\", \"expected_bonus\": 0.7354047894477844}, {\"fanta_team\": \"MaiNa Joya_v2.0\", \"role\": \"C\", \"player\": \"Pobega\", \"team\": \"Torino\", \"opponent\": \"Spezia\", \"date\": \"2022-04-24T00:00:00\", \"expected_bonus\": 0.6490335464477539}, {\"fanta_team\": \"MaiNa Joya_v2.0\", \"role\": \"C\", \"player\": \"Soriano\", \"team\": \"Bologna\", \"opponent\": \"Udinese\", \"date\": \"2022-04-24T00:00:00\", \"expected_bonus\": 0.41692623496055603}, {\"fanta_team\": \"MaiNa Joya_v2.0\", \"role\": \"C\", \"player\": \"Bernardeschi\", \"team\": \"Juventus\", \"opponent\": \"Sassuolo\", \"date\": \"2022-04-24T00:00:00\", \"expected_bonus\": 0.276643842458725}, {\"fanta_team\": \"MaiNa Joya_v2.0\", \"role\": \"C\", \"player\": \"Locatelli\", \"team\": \"Juventus\", \"opponent\": \"Sassuolo\", \"date\": \"2022-04-24T00:00:00\", \"expected_bonus\": 0.2192365974187851}, {\"fanta_team\": \"MaiNa Joya_v2.0\", \"role\": \"C\", \"player\": \"Sensi\", \"team\": \"Sampdoria\", \"opponent\": \"Verona\", \"date\": \"2022-04-24T00:00:00\", \"expected_bonus\": -0.040852636098861694}, {\"fanta_team\": \"MaiNa Joya_v2.0\", \"role\": \"A\", \"player\": \"Insigne\", \"team\": \"Napoli\", \"opponent\": \"Empoli\", \"date\": \"2022-04-24T00:00:00\", \"expected_bonus\": 1.5956904888153076}, {\"fanta_team\": \"MaiNa Joya_v2.0\", \"role\": \"A\", \"player\": \"Abraham\", \"team\": \"Roma\", \"opponent\": \"Inter\", \"date\": \"2022-04-24T00:00:00\", \"expected_bonus\": 1.226231575012207}, {\"fanta_team\": \"MaiNa Joya_v2.0\", \"role\": \"A\", \"player\": \"Arnautovic\", \"team\": \"Bologna\", \"opponent\": \"Udinese\", \"date\": \"2022-04-24T00:00:00\", \"expected_bonus\": 1.0864582061767578}, {\"fanta_team\": \"MaiNa Joya_v2.0\", \"role\": \"A\", \"player\": \"Brekalo\", \"team\": \"Torino\", \"opponent\": \"Spezia\", \"date\": \"2022-04-24T00:00:00\", \"expected_bonus\": 1.0794498920440674}, {\"fanta_team\": \"MaiNa Joya_v2.0\", \"role\": \"A\", \"player\": \"Morata\", \"team\": \"Juventus\", \"opponent\": \"Sassuolo\", \"date\": \"2022-04-24T00:00:00\", \"expected_bonus\": 1.0433800220489502}, {\"fanta_team\": \"MaiNa Joya_v2.0\", \"role\": \"A\", \"player\": \"Boga\", \"team\": \"Atalanta\", \"opponent\": \"Venezia\", \"date\": \"2022-04-24T00:00:00\", \"expected_bonus\": 0.9466140866279602}]}}, {\"actions\": false, \"mode\": \"vega-lite\"});\n</script>",
      "text/plain": "alt.Chart(...)"
     },
     "metadata": {}
    }
   ]
  },
  {
   "cell_type": "code",
   "metadata": {
    "cell_id": "93a5bb8d-d964-4fc6-b796-3c672a8d7c5d",
    "tags": [],
    "deepnote_to_be_reexecuted": false,
    "source_hash": "3f500048",
    "execution_start": 1650431176982,
    "execution_millis": 2,
    "deepnote_cell_type": "code"
   },
   "source": "team, index = display_fanta_squad(predictions, teams, index)",
   "execution_count": 16,
   "outputs": []
  },
  {
   "cell_type": "code",
   "source": "_deepnote_run_altair(team, \"\"\"{\"$schema\":\"https://vega.github.io/schema/vega-lite/v4.json\",\"mark\":{\"type\":\"bar\",\"tooltip\":{\"content\":\"data\"}},\"height\":220,\"autosize\":{\"type\":\"fit\"},\"data\":{\"name\":\"placeholder\"},\"encoding\":{\"x\":{\"field\":\"expected_bonus\",\"type\":\"quantitative\",\"sort\":null,\"scale\":{\"type\":\"linear\",\"zero\":false}},\"y\":{\"field\":\"player\",\"type\":\"nominal\",\"sort\":null,\"scale\":{\"type\":\"linear\",\"zero\":true}},\"color\":{\"field\":\"role\",\"type\":\"nominal\",\"sort\":null,\"scale\":{\"type\":\"linear\",\"zero\":false}}}}\"\"\")",
   "metadata": {
    "cell_id": "db709fde-6755-4bf6-9963-b66a19b9805d",
    "deepnote_variable_name": "team",
    "deepnote_visualization_spec": {
     "$schema": "https://vega.github.io/schema/vega-lite/v4.json",
     "mark": {
      "type": "bar",
      "tooltip": {
       "content": "data"
      }
     },
     "height": 220,
     "autosize": {
      "type": "fit"
     },
     "data": {
      "name": "placeholder"
     },
     "encoding": {
      "x": {
       "field": "expected_bonus",
       "type": "quantitative",
       "sort": null,
       "scale": {
        "type": "linear",
        "zero": false
       }
      },
      "y": {
       "field": "player",
       "type": "nominal",
       "sort": null,
       "scale": {
        "type": "linear",
        "zero": true
       }
      },
      "color": {
       "field": "role",
       "type": "nominal",
       "sort": null,
       "scale": {
        "type": "linear",
        "zero": false
       }
      }
     }
    },
    "deepnote_to_be_reexecuted": false,
    "source_hash": "e68de25e",
    "execution_start": 1650431177031,
    "execution_millis": 123,
    "allow_embed": "output",
    "deepnote_cell_type": "visualization",
    "deepnote_output_heights": [
     314
    ]
   },
   "execution_count": 17,
   "outputs": [
    {
     "output_type": "execute_result",
     "execution_count": 17,
     "data": {
      "text/html": "\n<div id=\"altair-viz-d537d070f8db4cba916efa65fc1348b8\"></div>\n<script type=\"text/javascript\">\n  (function(spec, embedOpt){\n    let outputDiv = document.currentScript.previousElementSibling;\n    if (outputDiv.id !== \"altair-viz-d537d070f8db4cba916efa65fc1348b8\") {\n      outputDiv = document.getElementById(\"altair-viz-d537d070f8db4cba916efa65fc1348b8\");\n    }\n    const paths = {\n      \"vega\": \"https://cdn.jsdelivr.net/npm//vega@5?noext\",\n      \"vega-lib\": \"https://cdn.jsdelivr.net/npm//vega-lib?noext\",\n      \"vega-lite\": \"https://cdn.jsdelivr.net/npm//vega-lite@4.8.1?noext\",\n      \"vega-embed\": \"https://cdn.jsdelivr.net/npm//vega-embed@6?noext\",\n    };\n\n    function loadScript(lib) {\n      return new Promise(function(resolve, reject) {\n        var s = document.createElement('script');\n        s.src = paths[lib];\n        s.async = true;\n        s.onload = () => resolve(paths[lib]);\n        s.onerror = () => reject(`Error loading script: ${paths[lib]}`);\n        document.getElementsByTagName(\"head\")[0].appendChild(s);\n      });\n    }\n\n    function showError(err) {\n      outputDiv.innerHTML = `<div class=\"error\" style=\"color:red;\">${err}</div>`;\n      throw err;\n    }\n\n    function displayChart(vegaEmbed) {\n      vegaEmbed(outputDiv, spec, embedOpt)\n        .catch(err => showError(`Javascript Error: ${err.message}<br>This usually means there's a typo in your chart specification. See the javascript console for the full traceback.`));\n    }\n\n    if(typeof define === \"function\" && define.amd) {\n      requirejs.config({paths});\n      require([\"vega-embed\"], displayChart, err => showError(`Error loading script: ${err.message}`));\n    } else if (typeof vegaEmbed === \"function\") {\n      displayChart(vegaEmbed);\n    } else {\n      loadScript(\"vega\")\n        .then(() => loadScript(\"vega-lite\"))\n        .then(() => loadScript(\"vega-embed\"))\n        .catch(showError)\n        .then(() => displayChart(vegaEmbed));\n    }\n  })({\"config\": {\"view\": {\"continuousWidth\": 400, \"continuousHeight\": 300}, \"area\": {\"fill\": \"#51C0E9\"}, \"axis\": {\"labelFont\": \"Inter, sans-serif\", \"labelFontSize\": 12, \"labelFontWeight\": \"normal\", \"labelLimit\": 60, \"labelOverlap\": \"greedy\", \"titleFont\": \"Inter, sans-serif\", \"titleFontSize\": 12, \"titleFontWeight\": \"bold\"}, \"background\": \"#ffffff\", \"legend\": {\"labelFont\": \"Inter, sans-serif\", \"labelFontSize\": 12, \"titleFont\": \"Inter, sans-serif\", \"titleFontSize\": 12, \"titleFontWeight\": \"bold\"}, \"line\": {\"stroke\": \"#51C0E9\", \"strokeWidth\": 2}, \"rect\": {\"fill\": \"#51C0E9\"}, \"title\": {\"anchor\": \"start\", \"color\": \"#000000\", \"font\": \"Inter, sans-serif\", \"fontSize\": 22, \"fontWeight\": \"normal\"}}, \"data\": {\"name\": \"data-a71405aff89b3a42eb3e2c935e4d7da4\"}, \"mark\": {\"type\": \"bar\", \"tooltip\": {\"content\": \"data\"}}, \"autosize\": {\"type\": \"fit\"}, \"encoding\": {\"color\": {\"type\": \"nominal\", \"field\": \"role\", \"scale\": {\"type\": \"linear\", \"zero\": false}, \"sort\": null}, \"x\": {\"type\": \"quantitative\", \"field\": \"expected_bonus\", \"scale\": {\"type\": \"linear\", \"zero\": false}, \"sort\": null}, \"y\": {\"type\": \"nominal\", \"field\": \"player\", \"scale\": {\"type\": \"linear\", \"zero\": true}, \"sort\": null}}, \"height\": 300, \"width\": \"container\", \"$schema\": \"https://vega.github.io/schema/vega-lite/v4.json\", \"datasets\": {\"data-a71405aff89b3a42eb3e2c935e4d7da4\": [{\"fanta_team\": \"Rione Monti\", \"role\": \"D\", \"player\": \"Bremer\", \"team\": \"Torino\", \"opponent\": \"Spezia\", \"date\": \"2022-04-24T00:00:00\", \"expected_bonus\": 0.4174956977367401}, {\"fanta_team\": \"Rione Monti\", \"role\": \"D\", \"player\": \"Maehle\", \"team\": \"Atalanta\", \"opponent\": \"Venezia\", \"date\": \"2022-04-24T00:00:00\", \"expected_bonus\": 0.40833234786987305}, {\"fanta_team\": \"Rione Monti\", \"role\": \"D\", \"player\": \"Singo\", \"team\": \"Torino\", \"opponent\": \"Spezia\", \"date\": \"2022-04-24T00:00:00\", \"expected_bonus\": 0.4060095548629761}, {\"fanta_team\": \"Rione Monti\", \"role\": \"D\", \"player\": \"Biraghi\", \"team\": \"Fiorentina\", \"opponent\": \"Salernitana\", \"date\": \"2022-04-24T00:00:00\", \"expected_bonus\": 0.33655720949172974}, {\"fanta_team\": \"Rione Monti\", \"role\": \"D\", \"player\": \"Pezzella\", \"team\": \"Atalanta\", \"opponent\": \"Venezia\", \"date\": \"2022-04-24T00:00:00\", \"expected_bonus\": 0.20994645357131958}, {\"fanta_team\": \"Rione Monti\", \"role\": \"D\", \"player\": \"Lazzari\", \"team\": \"Lazio\", \"opponent\": \"AC Milan\", \"date\": \"2022-04-24T00:00:00\", \"expected_bonus\": 0.13457153737545013}, {\"fanta_team\": \"Rione Monti\", \"role\": \"D\", \"player\": \"Bastoni\", \"team\": \"Spezia\", \"opponent\": \"Torino\", \"date\": \"2022-04-24T00:00:00\", \"expected_bonus\": 0.1049526035785675}, {\"fanta_team\": \"Rione Monti\", \"role\": \"D\", \"player\": \"Maitland-Niles\", \"team\": \"Roma\", \"opponent\": \"Inter\", \"date\": \"2022-04-24T00:00:00\", \"expected_bonus\": -0.03806540369987488}, {\"fanta_team\": \"Rione Monti\", \"role\": \"C\", \"player\": \"Pellegrini\", \"team\": \"Roma\", \"opponent\": \"Inter\", \"date\": \"2022-04-24T00:00:00\", \"expected_bonus\": 0.5924835205078125}, {\"fanta_team\": \"Rione Monti\", \"role\": \"C\", \"player\": \"Zaniolo\", \"team\": \"Roma\", \"opponent\": \"Inter\", \"date\": \"2022-04-24T00:00:00\", \"expected_bonus\": 0.5470001101493835}, {\"fanta_team\": \"Rione Monti\", \"role\": \"C\", \"player\": \"Frattesi\", \"team\": \"Sassuolo\", \"opponent\": \"Juventus\", \"date\": \"2022-04-24T00:00:00\", \"expected_bonus\": 0.46778473258018494}, {\"fanta_team\": \"Rione Monti\", \"role\": \"C\", \"player\": \"Anderson\", \"team\": \"Lazio\", \"opponent\": \"AC Milan\", \"date\": \"2022-04-24T00:00:00\", \"expected_bonus\": 0.43942004442214966}, {\"fanta_team\": \"Rione Monti\", \"role\": \"C\", \"player\": \"Henderson\", \"team\": \"Empoli\", \"opponent\": \"Napoli\", \"date\": \"2022-04-24T00:00:00\", \"expected_bonus\": 0.33846354484558105}, {\"fanta_team\": \"Rione Monti\", \"role\": \"C\", \"player\": \"Tameze\", \"team\": \"Verona\", \"opponent\": \"Sampdoria\", \"date\": \"2022-04-24T00:00:00\", \"expected_bonus\": 0.15407642722129822}, {\"fanta_team\": \"Rione Monti\", \"role\": \"A\", \"player\": \"Dzeko\", \"team\": \"Inter\", \"opponent\": \"Roma\", \"date\": \"2022-04-24T00:00:00\", \"expected_bonus\": 1.6027668714523315}, {\"fanta_team\": \"Rione Monti\", \"role\": \"A\", \"player\": \"Ibrahimovic\", \"team\": \"AC Milan\", \"opponent\": \"Lazio\", \"date\": \"2022-04-24T00:00:00\", \"expected_bonus\": 1.3639863729476929}, {\"fanta_team\": \"Rione Monti\", \"role\": \"A\", \"player\": \"Pinamonti\", \"team\": \"Empoli\", \"opponent\": \"Napoli\", \"date\": \"2022-04-24T00:00:00\", \"expected_bonus\": 1.2043997049331665}, {\"fanta_team\": \"Rione Monti\", \"role\": \"A\", \"player\": \"Raspadori\", \"team\": \"Sassuolo\", \"opponent\": \"Juventus\", \"date\": \"2022-04-24T00:00:00\", \"expected_bonus\": 0.8495890498161316}, {\"fanta_team\": \"Rione Monti\", \"role\": \"A\", \"player\": \"Pedro\", \"team\": \"Lazio\", \"opponent\": \"AC Milan\", \"date\": \"2022-04-24T00:00:00\", \"expected_bonus\": 0.7598697543144226}, {\"fanta_team\": \"Rione Monti\", \"role\": \"A\", \"player\": \"Afena-Gyan\", \"team\": \"Roma\", \"opponent\": \"Inter\", \"date\": \"2022-04-24T00:00:00\", \"expected_bonus\": 0.4459139108657837}]}}, {\"actions\": false, \"mode\": \"vega-lite\"});\n</script>",
      "text/plain": "alt.Chart(...)"
     },
     "metadata": {}
    }
   ]
  },
  {
   "cell_type": "code",
   "metadata": {
    "cell_id": "b4a0c2ea-9f90-4449-a274-c7c2f6a98238",
    "tags": [],
    "deepnote_to_be_reexecuted": false,
    "source_hash": "3f500048",
    "execution_start": 1650431177152,
    "execution_millis": 1,
    "deepnote_cell_type": "code"
   },
   "source": "team, index = display_fanta_squad(predictions, teams, index)",
   "execution_count": 18,
   "outputs": []
  },
  {
   "cell_type": "code",
   "source": "_deepnote_run_altair(team, \"\"\"{\"$schema\":\"https://vega.github.io/schema/vega-lite/v4.json\",\"mark\":{\"type\":\"bar\",\"tooltip\":{\"content\":\"data\"}},\"height\":220,\"autosize\":{\"type\":\"fit\"},\"data\":{\"name\":\"placeholder\"},\"encoding\":{\"x\":{\"field\":\"expected_bonus\",\"type\":\"quantitative\",\"sort\":null,\"scale\":{\"type\":\"linear\",\"zero\":false}},\"y\":{\"field\":\"player\",\"type\":\"nominal\",\"sort\":null,\"scale\":{\"type\":\"linear\",\"zero\":true}},\"color\":{\"field\":\"role\",\"type\":\"nominal\",\"sort\":null,\"scale\":{\"type\":\"linear\",\"zero\":false}}}}\"\"\")",
   "metadata": {
    "cell_id": "136e77e4-8edb-42d6-b134-ceefae4f53ce",
    "deepnote_variable_name": "team",
    "deepnote_visualization_spec": {
     "$schema": "https://vega.github.io/schema/vega-lite/v4.json",
     "mark": {
      "type": "bar",
      "tooltip": {
       "content": "data"
      }
     },
     "height": 220,
     "autosize": {
      "type": "fit"
     },
     "data": {
      "name": "placeholder"
     },
     "encoding": {
      "x": {
       "field": "expected_bonus",
       "type": "quantitative",
       "sort": null,
       "scale": {
        "type": "linear",
        "zero": false
       }
      },
      "y": {
       "field": "player",
       "type": "nominal",
       "sort": null,
       "scale": {
        "type": "linear",
        "zero": true
       }
      },
      "color": {
       "field": "role",
       "type": "nominal",
       "sort": null,
       "scale": {
        "type": "linear",
        "zero": false
       }
      }
     }
    },
    "deepnote_to_be_reexecuted": false,
    "source_hash": "e68de25e",
    "execution_start": 1650431177153,
    "execution_millis": 102,
    "allow_embed": "output",
    "deepnote_cell_type": "visualization",
    "deepnote_output_heights": [
     314
    ]
   },
   "execution_count": 19,
   "outputs": [
    {
     "output_type": "execute_result",
     "execution_count": 19,
     "data": {
      "text/html": "\n<div id=\"altair-viz-740e2c73aba7453fbaf3ee254b1fa225\"></div>\n<script type=\"text/javascript\">\n  (function(spec, embedOpt){\n    let outputDiv = document.currentScript.previousElementSibling;\n    if (outputDiv.id !== \"altair-viz-740e2c73aba7453fbaf3ee254b1fa225\") {\n      outputDiv = document.getElementById(\"altair-viz-740e2c73aba7453fbaf3ee254b1fa225\");\n    }\n    const paths = {\n      \"vega\": \"https://cdn.jsdelivr.net/npm//vega@5?noext\",\n      \"vega-lib\": \"https://cdn.jsdelivr.net/npm//vega-lib?noext\",\n      \"vega-lite\": \"https://cdn.jsdelivr.net/npm//vega-lite@4.8.1?noext\",\n      \"vega-embed\": \"https://cdn.jsdelivr.net/npm//vega-embed@6?noext\",\n    };\n\n    function loadScript(lib) {\n      return new Promise(function(resolve, reject) {\n        var s = document.createElement('script');\n        s.src = paths[lib];\n        s.async = true;\n        s.onload = () => resolve(paths[lib]);\n        s.onerror = () => reject(`Error loading script: ${paths[lib]}`);\n        document.getElementsByTagName(\"head\")[0].appendChild(s);\n      });\n    }\n\n    function showError(err) {\n      outputDiv.innerHTML = `<div class=\"error\" style=\"color:red;\">${err}</div>`;\n      throw err;\n    }\n\n    function displayChart(vegaEmbed) {\n      vegaEmbed(outputDiv, spec, embedOpt)\n        .catch(err => showError(`Javascript Error: ${err.message}<br>This usually means there's a typo in your chart specification. See the javascript console for the full traceback.`));\n    }\n\n    if(typeof define === \"function\" && define.amd) {\n      requirejs.config({paths});\n      require([\"vega-embed\"], displayChart, err => showError(`Error loading script: ${err.message}`));\n    } else if (typeof vegaEmbed === \"function\") {\n      displayChart(vegaEmbed);\n    } else {\n      loadScript(\"vega\")\n        .then(() => loadScript(\"vega-lite\"))\n        .then(() => loadScript(\"vega-embed\"))\n        .catch(showError)\n        .then(() => displayChart(vegaEmbed));\n    }\n  })({\"config\": {\"view\": {\"continuousWidth\": 400, \"continuousHeight\": 300}, \"area\": {\"fill\": \"#51C0E9\"}, \"axis\": {\"labelFont\": \"Inter, sans-serif\", \"labelFontSize\": 12, \"labelFontWeight\": \"normal\", \"labelLimit\": 60, \"labelOverlap\": \"greedy\", \"titleFont\": \"Inter, sans-serif\", \"titleFontSize\": 12, \"titleFontWeight\": \"bold\"}, \"background\": \"#ffffff\", \"legend\": {\"labelFont\": \"Inter, sans-serif\", \"labelFontSize\": 12, \"titleFont\": \"Inter, sans-serif\", \"titleFontSize\": 12, \"titleFontWeight\": \"bold\"}, \"line\": {\"stroke\": \"#51C0E9\", \"strokeWidth\": 2}, \"rect\": {\"fill\": \"#51C0E9\"}, \"title\": {\"anchor\": \"start\", \"color\": \"#000000\", \"font\": \"Inter, sans-serif\", \"fontSize\": 22, \"fontWeight\": \"normal\"}}, \"data\": {\"name\": \"data-a53df92f9f8b76b329a6c64e7e8ee05b\"}, \"mark\": {\"type\": \"bar\", \"tooltip\": {\"content\": \"data\"}}, \"autosize\": {\"type\": \"fit\"}, \"encoding\": {\"color\": {\"type\": \"nominal\", \"field\": \"role\", \"scale\": {\"type\": \"linear\", \"zero\": false}, \"sort\": null}, \"x\": {\"type\": \"quantitative\", \"field\": \"expected_bonus\", \"scale\": {\"type\": \"linear\", \"zero\": false}, \"sort\": null}, \"y\": {\"type\": \"nominal\", \"field\": \"player\", \"scale\": {\"type\": \"linear\", \"zero\": true}, \"sort\": null}}, \"height\": 300, \"width\": \"container\", \"$schema\": \"https://vega.github.io/schema/vega-lite/v4.json\", \"datasets\": {\"data-a53df92f9f8b76b329a6c64e7e8ee05b\": [{\"fanta_team\": \"Scansuolo \", \"role\": \"D\", \"player\": \"Vojvoda\", \"team\": \"Torino\", \"opponent\": \"Spezia\", \"date\": \"2022-04-24T00:00:00\", \"expected_bonus\": 0.3790040910243988}, {\"fanta_team\": \"Scansuolo \", \"role\": \"D\", \"player\": \"Demiral\", \"team\": \"Atalanta\", \"opponent\": \"Venezia\", \"date\": \"2022-04-24T00:00:00\", \"expected_bonus\": 0.3633427917957306}, {\"fanta_team\": \"Scansuolo \", \"role\": \"D\", \"player\": \"Koulibaly\", \"team\": \"Napoli\", \"opponent\": \"Empoli\", \"date\": \"2022-04-24T00:00:00\", \"expected_bonus\": 0.2831077575683594}, {\"fanta_team\": \"Scansuolo \", \"role\": \"D\", \"player\": \"Hickey\", \"team\": \"Bologna\", \"opponent\": \"Udinese\", \"date\": \"2022-04-24T00:00:00\", \"expected_bonus\": 0.17128682136535645}, {\"fanta_team\": \"Scansuolo \", \"role\": \"D\", \"player\": \"Karsdorp\", \"team\": \"Roma\", \"opponent\": \"Inter\", \"date\": \"2022-04-24T00:00:00\", \"expected_bonus\": 0.12920191884040833}, {\"fanta_team\": \"Scansuolo \", \"role\": \"D\", \"player\": \"Hysaj\", \"team\": \"Lazio\", \"opponent\": \"AC Milan\", \"date\": \"2022-04-24T00:00:00\", \"expected_bonus\": 0.1278408318758011}, {\"fanta_team\": \"Scansuolo \", \"role\": \"D\", \"player\": \"Zappa\", \"team\": \"Cagliari\", \"opponent\": \"Genoa\", \"date\": \"2022-04-24T00:00:00\", \"expected_bonus\": 0.1013401672244072}, {\"fanta_team\": \"Scansuolo \", \"role\": \"C\", \"player\": \"Pessina\", \"team\": \"Atalanta\", \"opponent\": \"Venezia\", \"date\": \"2022-04-24T00:00:00\", \"expected_bonus\": 0.7039701342582703}, {\"fanta_team\": \"Scansuolo \", \"role\": \"C\", \"player\": \"Diaz\", \"team\": \"AC Milan\", \"opponent\": \"Lazio\", \"date\": \"2022-04-24T00:00:00\", \"expected_bonus\": 0.5684407949447632}, {\"fanta_team\": \"Scansuolo \", \"role\": \"C\", \"player\": \"Messias\", \"team\": \"AC Milan\", \"opponent\": \"Lazio\", \"date\": \"2022-04-24T00:00:00\", \"expected_bonus\": 0.559395968914032}, {\"fanta_team\": \"Scansuolo \", \"role\": \"C\", \"player\": \"Zaccagni\", \"team\": \"Lazio\", \"opponent\": \"AC Milan\", \"date\": \"2022-04-24T00:00:00\", \"expected_bonus\": 0.3824961483478546}, {\"fanta_team\": \"Scansuolo \", \"role\": \"C\", \"player\": \"Zurkowski\", \"team\": \"Empoli\", \"opponent\": \"Napoli\", \"date\": \"2022-04-24T00:00:00\", \"expected_bonus\": 0.3747515380382538}, {\"fanta_team\": \"Scansuolo \", \"role\": \"C\", \"player\": \"Ilic\", \"team\": \"Verona\", \"opponent\": \"Sampdoria\", \"date\": \"2022-04-24T00:00:00\", \"expected_bonus\": 0.34741994738578796}, {\"fanta_team\": \"Scansuolo \", \"role\": \"C\", \"player\": \"Koopmeiners\", \"team\": \"Atalanta\", \"opponent\": \"Venezia\", \"date\": \"2022-04-24T00:00:00\", \"expected_bonus\": 0.3325898051261902}, {\"fanta_team\": \"Scansuolo \", \"role\": \"C\", \"player\": \"Traore\", \"team\": \"Sassuolo\", \"opponent\": \"Juventus\", \"date\": \"2022-04-24T00:00:00\", \"expected_bonus\": 0.0038879578933119774}, {\"fanta_team\": \"Scansuolo \", \"role\": \"A\", \"player\": \"Immobile\", \"team\": \"Lazio\", \"opponent\": \"AC Milan\", \"date\": \"2022-04-24T00:00:00\", \"expected_bonus\": 1.5295474529266357}, {\"fanta_team\": \"Scansuolo \", \"role\": \"A\", \"player\": \"Pedro\", \"team\": \"Cagliari\", \"opponent\": \"Genoa\", \"date\": \"2022-04-24T00:00:00\", \"expected_bonus\": 1.1152225732803345}, {\"fanta_team\": \"Scansuolo \", \"role\": \"A\", \"player\": \"Scamacca\", \"team\": \"Sassuolo\", \"opponent\": \"Juventus\", \"date\": \"2022-04-24T00:00:00\", \"expected_bonus\": 0.986504852771759}, {\"fanta_team\": \"Scansuolo \", \"role\": \"A\", \"player\": \"Le\\u00e3o\", \"team\": \"AC Milan\", \"opponent\": \"Lazio\", \"date\": \"2022-04-24T00:00:00\", \"expected_bonus\": 0.9547174572944641}, {\"fanta_team\": \"Scansuolo \", \"role\": \"A\", \"player\": \"Mikael\", \"team\": \"Salernitana\", \"opponent\": \"Fiorentina\", \"date\": \"2022-04-24T00:00:00\", \"expected_bonus\": 0.14432068169116974}]}}, {\"actions\": false, \"mode\": \"vega-lite\"});\n</script>",
      "text/plain": "alt.Chart(...)"
     },
     "metadata": {}
    }
   ]
  },
  {
   "cell_type": "code",
   "metadata": {
    "cell_id": "4acdd713-c04b-4f4e-9a1f-ea8c4690c99e",
    "tags": [],
    "deepnote_to_be_reexecuted": false,
    "source_hash": "3f500048",
    "execution_start": 1650431177323,
    "execution_millis": 2,
    "deepnote_cell_type": "code"
   },
   "source": "team, index = display_fanta_squad(predictions, teams, index)",
   "execution_count": 20,
   "outputs": []
  },
  {
   "cell_type": "code",
   "source": "_deepnote_run_altair(team, \"\"\"{\"$schema\":\"https://vega.github.io/schema/vega-lite/v4.json\",\"mark\":{\"type\":\"bar\",\"tooltip\":{\"content\":\"data\"}},\"height\":220,\"autosize\":{\"type\":\"fit\"},\"data\":{\"name\":\"placeholder\"},\"encoding\":{\"x\":{\"field\":\"expected_bonus\",\"type\":\"quantitative\",\"sort\":null,\"scale\":{\"type\":\"linear\",\"zero\":false}},\"y\":{\"field\":\"player\",\"type\":\"nominal\",\"sort\":null,\"scale\":{\"type\":\"linear\",\"zero\":true}},\"color\":{\"field\":\"role\",\"type\":\"nominal\",\"sort\":null,\"scale\":{\"type\":\"linear\",\"zero\":false}}}}\"\"\")",
   "metadata": {
    "cell_id": "04913421-5945-4ac1-a1c7-1bd2f9975384",
    "deepnote_variable_name": "team",
    "deepnote_visualization_spec": {
     "$schema": "https://vega.github.io/schema/vega-lite/v4.json",
     "mark": {
      "type": "bar",
      "tooltip": {
       "content": "data"
      }
     },
     "height": 220,
     "autosize": {
      "type": "fit"
     },
     "data": {
      "name": "placeholder"
     },
     "encoding": {
      "x": {
       "field": "expected_bonus",
       "type": "quantitative",
       "sort": null,
       "scale": {
        "type": "linear",
        "zero": false
       }
      },
      "y": {
       "field": "player",
       "type": "nominal",
       "sort": null,
       "scale": {
        "type": "linear",
        "zero": true
       }
      },
      "color": {
       "field": "role",
       "type": "nominal",
       "sort": null,
       "scale": {
        "type": "linear",
        "zero": false
       }
      }
     }
    },
    "deepnote_to_be_reexecuted": false,
    "source_hash": "e68de25e",
    "execution_start": 1650431177324,
    "execution_millis": 127,
    "allow_embed": "output",
    "deepnote_cell_type": "visualization",
    "deepnote_output_heights": [
     314
    ]
   },
   "execution_count": 21,
   "outputs": [
    {
     "output_type": "execute_result",
     "execution_count": 21,
     "data": {
      "text/html": "\n<div id=\"altair-viz-77a9e4d8a8c94fa1a6287b82ebe67958\"></div>\n<script type=\"text/javascript\">\n  (function(spec, embedOpt){\n    let outputDiv = document.currentScript.previousElementSibling;\n    if (outputDiv.id !== \"altair-viz-77a9e4d8a8c94fa1a6287b82ebe67958\") {\n      outputDiv = document.getElementById(\"altair-viz-77a9e4d8a8c94fa1a6287b82ebe67958\");\n    }\n    const paths = {\n      \"vega\": \"https://cdn.jsdelivr.net/npm//vega@5?noext\",\n      \"vega-lib\": \"https://cdn.jsdelivr.net/npm//vega-lib?noext\",\n      \"vega-lite\": \"https://cdn.jsdelivr.net/npm//vega-lite@4.8.1?noext\",\n      \"vega-embed\": \"https://cdn.jsdelivr.net/npm//vega-embed@6?noext\",\n    };\n\n    function loadScript(lib) {\n      return new Promise(function(resolve, reject) {\n        var s = document.createElement('script');\n        s.src = paths[lib];\n        s.async = true;\n        s.onload = () => resolve(paths[lib]);\n        s.onerror = () => reject(`Error loading script: ${paths[lib]}`);\n        document.getElementsByTagName(\"head\")[0].appendChild(s);\n      });\n    }\n\n    function showError(err) {\n      outputDiv.innerHTML = `<div class=\"error\" style=\"color:red;\">${err}</div>`;\n      throw err;\n    }\n\n    function displayChart(vegaEmbed) {\n      vegaEmbed(outputDiv, spec, embedOpt)\n        .catch(err => showError(`Javascript Error: ${err.message}<br>This usually means there's a typo in your chart specification. See the javascript console for the full traceback.`));\n    }\n\n    if(typeof define === \"function\" && define.amd) {\n      requirejs.config({paths});\n      require([\"vega-embed\"], displayChart, err => showError(`Error loading script: ${err.message}`));\n    } else if (typeof vegaEmbed === \"function\") {\n      displayChart(vegaEmbed);\n    } else {\n      loadScript(\"vega\")\n        .then(() => loadScript(\"vega-lite\"))\n        .then(() => loadScript(\"vega-embed\"))\n        .catch(showError)\n        .then(() => displayChart(vegaEmbed));\n    }\n  })({\"config\": {\"view\": {\"continuousWidth\": 400, \"continuousHeight\": 300}, \"area\": {\"fill\": \"#51C0E9\"}, \"axis\": {\"labelFont\": \"Inter, sans-serif\", \"labelFontSize\": 12, \"labelFontWeight\": \"normal\", \"labelLimit\": 60, \"labelOverlap\": \"greedy\", \"titleFont\": \"Inter, sans-serif\", \"titleFontSize\": 12, \"titleFontWeight\": \"bold\"}, \"background\": \"#ffffff\", \"legend\": {\"labelFont\": \"Inter, sans-serif\", \"labelFontSize\": 12, \"titleFont\": \"Inter, sans-serif\", \"titleFontSize\": 12, \"titleFontWeight\": \"bold\"}, \"line\": {\"stroke\": \"#51C0E9\", \"strokeWidth\": 2}, \"rect\": {\"fill\": \"#51C0E9\"}, \"title\": {\"anchor\": \"start\", \"color\": \"#000000\", \"font\": \"Inter, sans-serif\", \"fontSize\": 22, \"fontWeight\": \"normal\"}}, \"data\": {\"name\": \"data-f66eb454de2b35bbbbdbfebcb7d1ec9d\"}, \"mark\": {\"type\": \"bar\", \"tooltip\": {\"content\": \"data\"}}, \"autosize\": {\"type\": \"fit\"}, \"encoding\": {\"color\": {\"type\": \"nominal\", \"field\": \"role\", \"scale\": {\"type\": \"linear\", \"zero\": false}, \"sort\": null}, \"x\": {\"type\": \"quantitative\", \"field\": \"expected_bonus\", \"scale\": {\"type\": \"linear\", \"zero\": false}, \"sort\": null}, \"y\": {\"type\": \"nominal\", \"field\": \"player\", \"scale\": {\"type\": \"linear\", \"zero\": true}, \"sort\": null}}, \"height\": 300, \"width\": \"container\", \"$schema\": \"https://vega.github.io/schema/vega-lite/v4.json\", \"datasets\": {\"data-f66eb454de2b35bbbbdbfebcb7d1ec9d\": [{\"fanta_team\": \"ssc mozzarella\", \"role\": \"D\", \"player\": \"Dumfries\", \"team\": \"Inter\", \"opponent\": \"Roma\", \"date\": \"2022-04-24T00:00:00\", \"expected_bonus\": 0.690119206905365}, {\"fanta_team\": \"ssc mozzarella\", \"role\": \"D\", \"player\": \"Rui\", \"team\": \"Napoli\", \"opponent\": \"Empoli\", \"date\": \"2022-04-24T00:00:00\", \"expected_bonus\": 0.3872559070587158}, {\"fanta_team\": \"ssc mozzarella\", \"role\": \"D\", \"player\": \"Gjimshiti\", \"team\": \"Atalanta\", \"opponent\": \"Venezia\", \"date\": \"2022-04-24T00:00:00\", \"expected_bonus\": 0.2863730192184448}, {\"fanta_team\": \"ssc mozzarella\", \"role\": \"D\", \"player\": \"Theate\", \"team\": \"Bologna\", \"opponent\": \"Udinese\", \"date\": \"2022-04-24T00:00:00\", \"expected_bonus\": 0.2099958062171936}, {\"fanta_team\": \"ssc mozzarella\", \"role\": \"D\", \"player\": \"Tomori\", \"team\": \"AC Milan\", \"opponent\": \"Lazio\", \"date\": \"2022-04-24T00:00:00\", \"expected_bonus\": 0.1520223468542099}, {\"fanta_team\": \"ssc mozzarella\", \"role\": \"D\", \"player\": \"Felipe\", \"team\": \"Lazio\", \"opponent\": \"AC Milan\", \"date\": \"2022-04-24T00:00:00\", \"expected_bonus\": 0.13080762326717377}, {\"fanta_team\": \"ssc mozzarella\", \"role\": \"D\", \"player\": \"Smalling\", \"team\": \"Roma\", \"opponent\": \"Inter\", \"date\": \"2022-04-24T00:00:00\", \"expected_bonus\": 0.09940356761217117}, {\"fanta_team\": \"ssc mozzarella\", \"role\": \"D\", \"player\": \"Iba\\u00f1ez\", \"team\": \"Roma\", \"opponent\": \"Inter\", \"date\": \"2022-04-24T00:00:00\", \"expected_bonus\": 0.09689471870660782}, {\"fanta_team\": \"ssc mozzarella\", \"role\": \"C\", \"player\": \"Sottil\", \"team\": \"Fiorentina\", \"opponent\": \"Salernitana\", \"date\": \"2022-04-24T00:00:00\", \"expected_bonus\": 1.0989028215408325}, {\"fanta_team\": \"ssc mozzarella\", \"role\": \"C\", \"player\": \"Fabi\\u00e1n\", \"team\": \"Napoli\", \"opponent\": \"Empoli\", \"date\": \"2022-04-24T00:00:00\", \"expected_bonus\": 0.48904550075531006}, {\"fanta_team\": \"ssc mozzarella\", \"role\": \"C\", \"player\": \"Mkhitaryan\", \"team\": \"Roma\", \"opponent\": \"Inter\", \"date\": \"2022-04-24T00:00:00\", \"expected_bonus\": 0.4286620616912842}, {\"fanta_team\": \"ssc mozzarella\", \"role\": \"C\", \"player\": \"Torreira\", \"team\": \"Fiorentina\", \"opponent\": \"Salernitana\", \"date\": \"2022-04-24T00:00:00\", \"expected_bonus\": 0.28543874621391296}, {\"fanta_team\": \"ssc mozzarella\", \"role\": \"C\", \"player\": \"Freuler\", \"team\": \"Atalanta\", \"opponent\": \"Venezia\", \"date\": \"2022-04-24T00:00:00\", \"expected_bonus\": 0.26353052258491516}, {\"fanta_team\": \"ssc mozzarella\", \"role\": \"C\", \"player\": \"Pereyra\", \"team\": \"Udinese\", \"opponent\": \"Bologna\", \"date\": \"2022-04-24T00:00:00\", \"expected_bonus\": 0.2537180185317993}, {\"fanta_team\": \"ssc mozzarella\", \"role\": \"C\", \"player\": \"Lobotka\", \"team\": \"Napoli\", \"opponent\": \"Empoli\", \"date\": \"2022-04-24T00:00:00\", \"expected_bonus\": 0.23258379101753235}, {\"fanta_team\": \"ssc mozzarella\", \"role\": \"C\", \"player\": \"Lopez\", \"team\": \"Sassuolo\", \"opponent\": \"Juventus\", \"date\": \"2022-04-24T00:00:00\", \"expected_bonus\": 0.13210110366344452}, {\"fanta_team\": \"ssc mozzarella\", \"role\": \"A\", \"player\": \"Osimhen\", \"team\": \"Napoli\", \"opponent\": \"Empoli\", \"date\": \"2022-04-24T00:00:00\", \"expected_bonus\": 1.582036018371582}, {\"fanta_team\": \"ssc mozzarella\", \"role\": \"A\", \"player\": \"Bonazzoli\", \"team\": \"Salernitana\", \"opponent\": \"Fiorentina\", \"date\": \"2022-04-24T00:00:00\", \"expected_bonus\": 1.068895697593689}, {\"fanta_team\": \"ssc mozzarella\", \"role\": \"A\", \"player\": \"Gabbiadini\", \"team\": \"Sampdoria\", \"opponent\": \"Verona\", \"date\": \"2022-04-24T00:00:00\", \"expected_bonus\": 1.0563139915466309}, {\"fanta_team\": \"ssc mozzarella\", \"role\": \"A\", \"player\": \"Caprari\", \"team\": \"Verona\", \"opponent\": \"Sampdoria\", \"date\": \"2022-04-24T00:00:00\", \"expected_bonus\": 0.9804438352584839}, {\"fanta_team\": \"ssc mozzarella\", \"role\": \"A\", \"player\": \"Pavoletti\", \"team\": \"Cagliari\", \"opponent\": \"Genoa\", \"date\": \"2022-04-24T00:00:00\", \"expected_bonus\": 0.6220197677612305}, {\"fanta_team\": \"ssc mozzarella\", \"role\": \"A\", \"player\": \"Politano\", \"team\": \"Napoli\", \"opponent\": \"Empoli\", \"date\": \"2022-04-24T00:00:00\", \"expected_bonus\": 0.5722901225090027}]}}, {\"actions\": false, \"mode\": \"vega-lite\"});\n</script>",
      "text/plain": "alt.Chart(...)"
     },
     "metadata": {}
    }
   ]
  },
  {
   "cell_type": "code",
   "metadata": {
    "cell_id": "44571e9e-e8b2-407a-85b9-bcb406b04f31",
    "tags": [],
    "deepnote_to_be_reexecuted": false,
    "source_hash": "de92d3d",
    "execution_start": 1650431177452,
    "execution_millis": 315697,
    "deepnote_cell_type": "code"
   },
   "source": "try:\n    \n    ###############################################################################################\n    status = 'Loading config ...'\n    print('{} -> {}'.format(datetime.now().strftime('%Y-%m-%d %H:%M:%S'), status))\n    with open('config/config.json') as config:\n        config = json.load(config)\n    status = 'Loading config done!'\n    print('{} -> {}'.format(datetime.now().strftime('%Y-%m-%d %H:%M:%S'), status))\n    ###############################################################################################\n\n    ###############################################################################################\n    status = 'Retrieving past week predictions ...'\n    print('{} -> {}'.format(datetime.now().strftime('%Y-%m-%d %H:%M:%S'), status))\n    validation = validate(config['league_name'], config['gameweek']['past'])\n    status = 'Retrieving past week predictions done!'\n    print('{} -> {}'.format(datetime.now().strftime('%Y-%m-%d %H:%M:%S'), status))\n    ###############################################################################################\n\n    ###############################################################################################\n    status = 'Preparing predictions for display...'\n    print('{} -> {}'.format(datetime.now().strftime('%Y-%m-%d %H:%M:%S'), status))\n    validation['player'] = validation['player'].apply(lambda x: x.split(' ')[-1])\n    status = 'Preparing predictions for display done!'\n    print('{} -> {}'.format(datetime.now().strftime('%Y-%m-%d %H:%M:%S'), status))\n    ###############################################################################################\n\n    ###############################################################################################\n    status = 'Updating config ...'\n    print('{} -> {}'.format(datetime.now().strftime('%Y-%m-%d %H:%M:%S'), status))\n    config['gameweek']['past'] = config['gameweek']['past'] + 1\n    with open('config/config.json', 'w') as f:\n        json.dump(config, f, indent=4)\n    status = 'Updating config done!'\n    print('{} -> {}'.format(datetime.now().strftime('%Y-%m-%d %H:%M:%S'), status))\n    ###############################################################################################\n\nexcept Exception as e:\n    print('Exception: {}'.format(e))\n    print('Errored out during: {}'.format(status))",
   "execution_count": null,
   "outputs": [
    {
     "name": "stdout",
     "text": "2022-04-20 05:06:17 -> Loading config ...\n2022-04-20 05:06:17 -> Loading config done!\n2022-04-20 05:06:17 -> Retrieving past week predictions ...\n  1%|          | 1/166 [00:01<04:43,  1.72s/it]",
     "output_type": "stream"
    }
   ]
  },
  {
   "cell_type": "code",
   "metadata": {
    "cell_id": "fe5cb744-dcbb-4c2b-b8f4-eee4c37224da",
    "tags": [],
    "deepnote_to_be_reexecuted": true,
    "source_hash": "d3a5413f",
    "execution_start": 1649826670167,
    "execution_millis": 3,
    "deepnote_cell_type": "code"
   },
   "source": "teams = sorted(list(validation['fanta_team'].unique()))\nindex = 0",
   "execution_count": null,
   "outputs": []
  },
  {
   "cell_type": "code",
   "metadata": {
    "cell_id": "5307f8bd-5ea7-466a-8190-518b8819ea5b",
    "tags": [],
    "deepnote_to_be_reexecuted": true,
    "source_hash": "96119dd1",
    "execution_start": 1649826670173,
    "execution_millis": 5,
    "deepnote_cell_type": "code"
   },
   "source": "team, index = display_fanta_squad(validation, teams, index)",
   "execution_count": null,
   "outputs": []
  },
  {
   "cell_type": "code",
   "source": "_deepnote_run_altair(team, \"\"\"{\"$schema\":\"https://vega.github.io/schema/vega-lite/v4.json\",\"mark\":{\"type\":\"bar\",\"tooltip\":{\"content\":\"data\"}},\"height\":220,\"autosize\":{\"type\":\"fit\"},\"data\":{\"name\":\"placeholder\"},\"encoding\":{\"x\":{\"field\":\"error\",\"type\":\"quantitative\",\"sort\":null,\"scale\":{\"type\":\"linear\",\"zero\":false}},\"y\":{\"field\":\"player\",\"type\":\"nominal\",\"sort\":null,\"scale\":{\"type\":\"linear\",\"zero\":true}},\"color\":{\"field\":\"error_type\",\"type\":\"nominal\",\"sort\":null,\"scale\":{\"type\":\"linear\",\"zero\":false}}}}\"\"\")",
   "metadata": {
    "cell_id": "d6007c66-f029-409e-aef9-6f052b6748e3",
    "deepnote_variable_name": "team",
    "deepnote_visualization_spec": {
     "$schema": "https://vega.github.io/schema/vega-lite/v4.json",
     "mark": {
      "type": "bar",
      "tooltip": {
       "content": "data"
      }
     },
     "height": 220,
     "autosize": {
      "type": "fit"
     },
     "data": {
      "name": "placeholder"
     },
     "encoding": {
      "x": {
       "field": "error",
       "type": "quantitative",
       "sort": null,
       "scale": {
        "type": "linear",
        "zero": false
       }
      },
      "y": {
       "field": "player",
       "type": "nominal",
       "sort": null,
       "scale": {
        "type": "linear",
        "zero": true
       }
      },
      "color": {
       "field": "error_type",
       "type": "nominal",
       "sort": null,
       "scale": {
        "type": "linear",
        "zero": false
       }
      }
     }
    },
    "deepnote_to_be_reexecuted": true,
    "source_hash": "81b9fc1a",
    "execution_start": 1649826670216,
    "execution_millis": 513,
    "allow_embed": "output",
    "deepnote_cell_type": "visualization",
    "deepnote_output_heights": [
     314
    ]
   },
   "execution_count": null,
   "outputs": [
    {
     "output_type": "execute_result",
     "execution_count": 25,
     "data": {
      "text/html": "\n<div id=\"altair-viz-409329ea3d5a49b79e458b2ee107b585\"></div>\n<script type=\"text/javascript\">\n  (function(spec, embedOpt){\n    let outputDiv = document.currentScript.previousElementSibling;\n    if (outputDiv.id !== \"altair-viz-409329ea3d5a49b79e458b2ee107b585\") {\n      outputDiv = document.getElementById(\"altair-viz-409329ea3d5a49b79e458b2ee107b585\");\n    }\n    const paths = {\n      \"vega\": \"https://cdn.jsdelivr.net/npm//vega@5?noext\",\n      \"vega-lib\": \"https://cdn.jsdelivr.net/npm//vega-lib?noext\",\n      \"vega-lite\": \"https://cdn.jsdelivr.net/npm//vega-lite@4.8.1?noext\",\n      \"vega-embed\": \"https://cdn.jsdelivr.net/npm//vega-embed@6?noext\",\n    };\n\n    function loadScript(lib) {\n      return new Promise(function(resolve, reject) {\n        var s = document.createElement('script');\n        s.src = paths[lib];\n        s.async = true;\n        s.onload = () => resolve(paths[lib]);\n        s.onerror = () => reject(`Error loading script: ${paths[lib]}`);\n        document.getElementsByTagName(\"head\")[0].appendChild(s);\n      });\n    }\n\n    function showError(err) {\n      outputDiv.innerHTML = `<div class=\"error\" style=\"color:red;\">${err}</div>`;\n      throw err;\n    }\n\n    function displayChart(vegaEmbed) {\n      vegaEmbed(outputDiv, spec, embedOpt)\n        .catch(err => showError(`Javascript Error: ${err.message}<br>This usually means there's a typo in your chart specification. See the javascript console for the full traceback.`));\n    }\n\n    if(typeof define === \"function\" && define.amd) {\n      requirejs.config({paths});\n      require([\"vega-embed\"], displayChart, err => showError(`Error loading script: ${err.message}`));\n    } else if (typeof vegaEmbed === \"function\") {\n      displayChart(vegaEmbed);\n    } else {\n      loadScript(\"vega\")\n        .then(() => loadScript(\"vega-lite\"))\n        .then(() => loadScript(\"vega-embed\"))\n        .catch(showError)\n        .then(() => displayChart(vegaEmbed));\n    }\n  })({\"config\": {\"view\": {\"continuousWidth\": 400, \"continuousHeight\": 300}, \"area\": {\"fill\": \"#51C0E9\"}, \"axis\": {\"labelFont\": \"Inter, sans-serif\", \"labelFontSize\": 12, \"labelFontWeight\": \"normal\", \"labelLimit\": 60, \"labelOverlap\": \"greedy\", \"titleFont\": \"Inter, sans-serif\", \"titleFontSize\": 12, \"titleFontWeight\": \"bold\"}, \"background\": \"#ffffff\", \"legend\": {\"labelFont\": \"Inter, sans-serif\", \"labelFontSize\": 12, \"titleFont\": \"Inter, sans-serif\", \"titleFontSize\": 12, \"titleFontWeight\": \"bold\"}, \"line\": {\"stroke\": \"#51C0E9\", \"strokeWidth\": 2}, \"rect\": {\"fill\": \"#51C0E9\"}, \"title\": {\"anchor\": \"start\", \"color\": \"#000000\", \"font\": \"Inter, sans-serif\", \"fontSize\": 22, \"fontWeight\": \"normal\"}}, \"data\": {\"name\": \"data-ffb5f25f383672abcafee6d8a7a0dbdd\"}, \"mark\": {\"type\": \"bar\", \"tooltip\": {\"content\": \"data\"}}, \"autosize\": {\"type\": \"fit\"}, \"encoding\": {\"color\": {\"type\": \"nominal\", \"field\": \"error_type\", \"scale\": {\"type\": \"linear\", \"zero\": false}, \"sort\": null}, \"x\": {\"type\": \"quantitative\", \"field\": \"error\", \"scale\": {\"type\": \"linear\", \"zero\": false}, \"sort\": null}, \"y\": {\"type\": \"nominal\", \"field\": \"player\", \"scale\": {\"type\": \"linear\", \"zero\": true}, \"sort\": null}}, \"height\": 300, \"width\": \"container\", \"$schema\": \"https://vega.github.io/schema/vega-lite/v4.json\", \"datasets\": {\"data-ffb5f25f383672abcafee6d8a7a0dbdd\": [{\"fanta_team\": \"AC Picchia\", \"role\": \"D\", \"player\": \"Calabria\", \"team\": \"AC Milan\", \"opponent\": \"Torino\", \"date\": \"2022-04-10T00:00:00\", \"expected_bonus\": 0.42652196, \"true_bonus\": 0.0, \"error\": 0.42652196, \"error_type\": \"overestimated\"}, {\"fanta_team\": \"AC Picchia\", \"role\": \"D\", \"player\": \"Ligt\", \"team\": \"Juventus\", \"opponent\": \"Cagliari\", \"date\": \"2022-04-09T00:00:00\", \"expected_bonus\": 0.23749278, \"true_bonus\": 3.0, \"error\": -2.76250722, \"error_type\": \"underestimated\"}, {\"fanta_team\": \"AC Picchia\", \"role\": \"D\", \"player\": \"Augello\", \"team\": \"Sampdoria\", \"opponent\": \"Bologna\", \"date\": \"2022-04-11T00:00:00\", \"expected_bonus\": 0.12308451, \"true_bonus\": 0.0, \"error\": 0.12308451, \"error_type\": \"overestimated\"}, {\"fanta_team\": \"AC Picchia\", \"role\": \"D\", \"player\": \"Dalbert\", \"team\": \"Cagliari\", \"opponent\": \"Juventus\", \"date\": \"2022-04-09T00:00:00\", \"expected_bonus\": 0.12052557, \"true_bonus\": 0.0, \"error\": 0.12052557, \"error_type\": \"overestimated\"}, {\"fanta_team\": \"AC Picchia\", \"role\": \"D\", \"player\": \"Faraoni\", \"team\": \"Verona\", \"opponent\": \"Inter\", \"date\": \"2022-04-09T00:00:00\", \"expected_bonus\": 0.10825498, \"true_bonus\": 0.0, \"error\": 0.10825498, \"error_type\": \"overestimated\"}, {\"fanta_team\": \"AC Picchia\", \"role\": \"C\", \"player\": \"Malinovskiy\", \"team\": \"Atalanta\", \"opponent\": \"Sassuolo\", \"date\": \"2022-04-10T00:00:00\", \"expected_bonus\": 0.9513027, \"true_bonus\": 0.0, \"error\": 0.9513027, \"error_type\": \"overestimated\"}, {\"fanta_team\": \"AC Picchia\", \"role\": \"C\", \"player\": \"Aramu\", \"team\": \"Venezia\", \"opponent\": \"Udinese\", \"date\": \"2022-04-10T00:00:00\", \"expected_bonus\": 0.9471308, \"true_bonus\": 0.0, \"error\": 0.9471308, \"error_type\": \"overestimated\"}, {\"fanta_team\": \"AC Picchia\", \"role\": \"C\", \"player\": \"Calhanoglu\", \"team\": \"Inter\", \"opponent\": \"Verona\", \"date\": \"2022-04-09T00:00:00\", \"expected_bonus\": 0.8106329, \"true_bonus\": 0.0, \"error\": 0.8106329, \"error_type\": \"overestimated\"}, {\"fanta_team\": \"AC Picchia\", \"role\": \"C\", \"player\": \"Brozovic\", \"team\": \"Inter\", \"opponent\": \"Verona\", \"date\": \"2022-04-09T00:00:00\", \"expected_bonus\": 0.299367, \"true_bonus\": 0.0, \"error\": 0.299367, \"error_type\": \"overestimated\"}, {\"fanta_team\": \"AC Picchia\", \"role\": \"C\", \"player\": \"Thorsby\", \"team\": \"Sampdoria\", \"opponent\": \"Bologna\", \"date\": \"2022-04-11T00:00:00\", \"expected_bonus\": 0.27857497, \"true_bonus\": 0.0, \"error\": 0.27857497, \"error_type\": \"overestimated\"}, {\"fanta_team\": \"AC Picchia\", \"role\": \"C\", \"player\": \"Marin\", \"team\": \"Cagliari\", \"opponent\": \"Juventus\", \"date\": \"2022-04-09T00:00:00\", \"expected_bonus\": 0.10930468, \"true_bonus\": 1.0, \"error\": -0.89069532, \"error_type\": \"underestimated\"}, {\"fanta_team\": \"AC Picchia\", \"role\": \"A\", \"player\": \"Muriel\", \"team\": \"Atalanta\", \"opponent\": \"Sassuolo\", \"date\": \"2022-04-10T00:00:00\", \"expected_bonus\": 1.3555322, \"true_bonus\": 3.0, \"error\": -1.6444678, \"error_type\": \"underestimated\"}, {\"fanta_team\": \"AC Picchia\", \"role\": \"A\", \"player\": \"Henry\", \"team\": \"Venezia\", \"opponent\": \"Udinese\", \"date\": \"2022-04-10T00:00:00\", \"expected_bonus\": 1.1143521, \"true_bonus\": 3.0, \"error\": -1.8856479, \"error_type\": \"underestimated\"}, {\"fanta_team\": \"AC Picchia\", \"role\": \"A\", \"player\": \"Caputo\", \"team\": \"Sampdoria\", \"opponent\": \"Bologna\", \"date\": \"2022-04-11T00:00:00\", \"expected_bonus\": 1.0234985, \"true_bonus\": 0.0, \"error\": 1.0234985, \"error_type\": \"overestimated\"}, {\"fanta_team\": \"AC Picchia\", \"role\": \"A\", \"player\": \"Giroud\", \"team\": \"AC Milan\", \"opponent\": \"Torino\", \"date\": \"2022-04-10T00:00:00\", \"expected_bonus\": 0.7484923, \"true_bonus\": 0.0, \"error\": 0.7484923, \"error_type\": \"overestimated\"}, {\"fanta_team\": \"AC Picchia\", \"role\": \"A\", \"player\": \"Verde\", \"team\": \"Spezia\", \"opponent\": \"Empoli\", \"date\": \"2022-04-09T00:00:00\", \"expected_bonus\": 0.5502591, \"true_bonus\": 0.0, \"error\": 0.5502591, \"error_type\": \"overestimated\"}, {\"fanta_team\": \"AC Picchia\", \"role\": \"A\", \"player\": \"Cabral\", \"team\": \"Fiorentina\", \"opponent\": \"Napoli\", \"date\": \"2022-04-10T00:00:00\", \"expected_bonus\": 0.04432899, \"true_bonus\": 3.0, \"error\": -2.95567101, \"error_type\": \"underestimated\"}]}}, {\"actions\": false, \"mode\": \"vega-lite\"});\n</script>",
      "text/plain": "alt.Chart(...)"
     },
     "metadata": {}
    }
   ]
  },
  {
   "cell_type": "code",
   "metadata": {
    "cell_id": "7230bd13-cec2-47d3-b394-a7502968a878",
    "tags": [],
    "deepnote_to_be_reexecuted": true,
    "source_hash": "96119dd1",
    "execution_start": 1649826670324,
    "execution_millis": 1,
    "deepnote_cell_type": "code"
   },
   "source": "team, index = display_fanta_squad(validation, teams, index)",
   "execution_count": null,
   "outputs": []
  },
  {
   "cell_type": "code",
   "source": "_deepnote_run_altair(team, \"\"\"{\"$schema\":\"https://vega.github.io/schema/vega-lite/v4.json\",\"mark\":{\"type\":\"bar\",\"tooltip\":{\"content\":\"data\"}},\"height\":220,\"autosize\":{\"type\":\"fit\"},\"data\":{\"name\":\"placeholder\"},\"encoding\":{\"x\":{\"field\":\"error\",\"type\":\"quantitative\",\"sort\":null,\"scale\":{\"type\":\"linear\",\"zero\":false}},\"y\":{\"field\":\"player\",\"type\":\"nominal\",\"sort\":null,\"scale\":{\"type\":\"linear\",\"zero\":true}},\"color\":{\"field\":\"error_type\",\"type\":\"nominal\",\"sort\":null,\"scale\":{\"type\":\"linear\",\"zero\":false}}}}\"\"\")",
   "metadata": {
    "cell_id": "00025-5835c844-289b-4f92-b154-1d82c629a5b1",
    "deepnote_variable_name": "team",
    "deepnote_visualization_spec": {
     "$schema": "https://vega.github.io/schema/vega-lite/v4.json",
     "mark": {
      "type": "bar",
      "tooltip": {
       "content": "data"
      }
     },
     "height": 220,
     "autosize": {
      "type": "fit"
     },
     "data": {
      "name": "placeholder"
     },
     "encoding": {
      "x": {
       "field": "error",
       "type": "quantitative",
       "sort": null,
       "scale": {
        "type": "linear",
        "zero": false
       }
      },
      "y": {
       "field": "player",
       "type": "nominal",
       "sort": null,
       "scale": {
        "type": "linear",
        "zero": true
       }
      },
      "color": {
       "field": "error_type",
       "type": "nominal",
       "sort": null,
       "scale": {
        "type": "linear",
        "zero": false
       }
      }
     }
    },
    "deepnote_to_be_reexecuted": true,
    "source_hash": "81b9fc1a",
    "allow_embed": "output",
    "execution_start": 1649826670325,
    "execution_millis": 408,
    "deepnote_cell_type": "visualization",
    "deepnote_output_heights": [
     314
    ]
   },
   "execution_count": null,
   "outputs": [
    {
     "output_type": "execute_result",
     "execution_count": 27,
     "data": {
      "text/html": "\n<div id=\"altair-viz-0633714c0b334d7cb020f3bcf91fec7d\"></div>\n<script type=\"text/javascript\">\n  (function(spec, embedOpt){\n    let outputDiv = document.currentScript.previousElementSibling;\n    if (outputDiv.id !== \"altair-viz-0633714c0b334d7cb020f3bcf91fec7d\") {\n      outputDiv = document.getElementById(\"altair-viz-0633714c0b334d7cb020f3bcf91fec7d\");\n    }\n    const paths = {\n      \"vega\": \"https://cdn.jsdelivr.net/npm//vega@5?noext\",\n      \"vega-lib\": \"https://cdn.jsdelivr.net/npm//vega-lib?noext\",\n      \"vega-lite\": \"https://cdn.jsdelivr.net/npm//vega-lite@4.8.1?noext\",\n      \"vega-embed\": \"https://cdn.jsdelivr.net/npm//vega-embed@6?noext\",\n    };\n\n    function loadScript(lib) {\n      return new Promise(function(resolve, reject) {\n        var s = document.createElement('script');\n        s.src = paths[lib];\n        s.async = true;\n        s.onload = () => resolve(paths[lib]);\n        s.onerror = () => reject(`Error loading script: ${paths[lib]}`);\n        document.getElementsByTagName(\"head\")[0].appendChild(s);\n      });\n    }\n\n    function showError(err) {\n      outputDiv.innerHTML = `<div class=\"error\" style=\"color:red;\">${err}</div>`;\n      throw err;\n    }\n\n    function displayChart(vegaEmbed) {\n      vegaEmbed(outputDiv, spec, embedOpt)\n        .catch(err => showError(`Javascript Error: ${err.message}<br>This usually means there's a typo in your chart specification. See the javascript console for the full traceback.`));\n    }\n\n    if(typeof define === \"function\" && define.amd) {\n      requirejs.config({paths});\n      require([\"vega-embed\"], displayChart, err => showError(`Error loading script: ${err.message}`));\n    } else if (typeof vegaEmbed === \"function\") {\n      displayChart(vegaEmbed);\n    } else {\n      loadScript(\"vega\")\n        .then(() => loadScript(\"vega-lite\"))\n        .then(() => loadScript(\"vega-embed\"))\n        .catch(showError)\n        .then(() => displayChart(vegaEmbed));\n    }\n  })({\"config\": {\"view\": {\"continuousWidth\": 400, \"continuousHeight\": 300}, \"area\": {\"fill\": \"#51C0E9\"}, \"axis\": {\"labelFont\": \"Inter, sans-serif\", \"labelFontSize\": 12, \"labelFontWeight\": \"normal\", \"labelLimit\": 60, \"labelOverlap\": \"greedy\", \"titleFont\": \"Inter, sans-serif\", \"titleFontSize\": 12, \"titleFontWeight\": \"bold\"}, \"background\": \"#ffffff\", \"legend\": {\"labelFont\": \"Inter, sans-serif\", \"labelFontSize\": 12, \"titleFont\": \"Inter, sans-serif\", \"titleFontSize\": 12, \"titleFontWeight\": \"bold\"}, \"line\": {\"stroke\": \"#51C0E9\", \"strokeWidth\": 2}, \"rect\": {\"fill\": \"#51C0E9\"}, \"title\": {\"anchor\": \"start\", \"color\": \"#000000\", \"font\": \"Inter, sans-serif\", \"fontSize\": 22, \"fontWeight\": \"normal\"}}, \"data\": {\"name\": \"data-4a1b5615dcb2ecbd75e796919c9fc1da\"}, \"mark\": {\"type\": \"bar\", \"tooltip\": {\"content\": \"data\"}}, \"autosize\": {\"type\": \"fit\"}, \"encoding\": {\"color\": {\"type\": \"nominal\", \"field\": \"error_type\", \"scale\": {\"type\": \"linear\", \"zero\": false}, \"sort\": null}, \"x\": {\"type\": \"quantitative\", \"field\": \"error\", \"scale\": {\"type\": \"linear\", \"zero\": false}, \"sort\": null}, \"y\": {\"type\": \"nominal\", \"field\": \"player\", \"scale\": {\"type\": \"linear\", \"zero\": true}, \"sort\": null}}, \"height\": 300, \"width\": \"container\", \"$schema\": \"https://vega.github.io/schema/vega-lite/v4.json\", \"datasets\": {\"data-4a1b5615dcb2ecbd75e796919c9fc1da\": [{\"fanta_team\": \"AI sereje ja dejeDe jebe tu de jebere\", \"role\": \"D\", \"player\": \"Skriniar\", \"team\": \"Inter\", \"opponent\": \"Verona\", \"date\": \"2022-04-09T00:00:00\", \"expected_bonus\": 0.3658769, \"true_bonus\": 0.0, \"error\": 0.3658769, \"error_type\": \"overestimated\"}, {\"fanta_team\": \"AI sereje ja dejeDe jebe tu de jebere\", \"role\": \"D\", \"player\": \"Rrahmani\", \"team\": \"Napoli\", \"opponent\": \"Fiorentina\", \"date\": \"2022-04-10T00:00:00\", \"expected_bonus\": 0.27876168, \"true_bonus\": 0.0, \"error\": 0.27876168, \"error_type\": \"overestimated\"}, {\"fanta_team\": \"AI sereje ja dejeDe jebe tu de jebere\", \"role\": \"D\", \"player\": \"Acerbi\", \"team\": \"Lazio\", \"opponent\": \"Genoa\", \"date\": \"2022-04-10T00:00:00\", \"expected_bonus\": 0.27122065, \"true_bonus\": 0.0, \"error\": 0.27122065, \"error_type\": \"overestimated\"}, {\"fanta_team\": \"AI sereje ja dejeDe jebe tu de jebere\", \"role\": \"D\", \"player\": \"Hateboer\", \"team\": \"Atalanta\", \"opponent\": \"Sassuolo\", \"date\": \"2022-04-10T00:00:00\", \"expected_bonus\": 0.23365977, \"true_bonus\": 0.0, \"error\": 0.23365977, \"error_type\": \"overestimated\"}, {\"fanta_team\": \"AI sereje ja dejeDe jebe tu de jebere\", \"role\": \"D\", \"player\": \"Yoshida\", \"team\": \"Sampdoria\", \"opponent\": \"Bologna\", \"date\": \"2022-04-11T00:00:00\", \"expected_bonus\": 0.09968368, \"true_bonus\": 0.0, \"error\": 0.09968368, \"error_type\": \"overestimated\"}, {\"fanta_team\": \"AI sereje ja dejeDe jebe tu de jebere\", \"role\": \"C\", \"player\": \"Bajrami\", \"team\": \"Empoli\", \"opponent\": \"Spezia\", \"date\": \"2022-04-09T00:00:00\", \"expected_bonus\": 1.0469466, \"true_bonus\": 0.0, \"error\": 1.0469466, \"error_type\": \"overestimated\"}, {\"fanta_team\": \"AI sereje ja dejeDe jebe tu de jebere\", \"role\": \"C\", \"player\": \"Candreva\", \"team\": \"Sampdoria\", \"opponent\": \"Bologna\", \"date\": \"2022-04-11T00:00:00\", \"expected_bonus\": 0.673131, \"true_bonus\": 0.0, \"error\": 0.673131, \"error_type\": \"overestimated\"}, {\"fanta_team\": \"AI sereje ja dejeDe jebe tu de jebere\", \"role\": \"C\", \"player\": \"Svanberg\", \"team\": \"Bologna\", \"opponent\": \"Sampdoria\", \"date\": \"2022-04-11T00:00:00\", \"expected_bonus\": 0.2977966, \"true_bonus\": 0.0, \"error\": 0.2977966, \"error_type\": \"overestimated\"}, {\"fanta_team\": \"AI sereje ja dejeDe jebe tu de jebere\", \"role\": \"C\", \"player\": \"Lukic\", \"team\": \"Torino\", \"opponent\": \"AC Milan\", \"date\": \"2022-04-10T00:00:00\", \"expected_bonus\": 0.26563668, \"true_bonus\": 0.0, \"error\": 0.26563668, \"error_type\": \"overestimated\"}, {\"fanta_team\": \"AI sereje ja dejeDe jebe tu de jebere\", \"role\": \"C\", \"player\": \"Zakaria\", \"team\": \"Juventus\", \"opponent\": \"Cagliari\", \"date\": \"2022-04-09T00:00:00\", \"expected_bonus\": 0.16501167, \"true_bonus\": 0.0, \"error\": 0.16501167, \"error_type\": \"overestimated\"}, {\"fanta_team\": \"AI sereje ja dejeDe jebe tu de jebere\", \"role\": \"A\", \"player\": \"Vlahovic\", \"team\": \"Juventus\", \"opponent\": \"Cagliari\", \"date\": \"2022-04-09T00:00:00\", \"expected_bonus\": 2.2344673, \"true_bonus\": 3.0, \"error\": -0.7655327000000001, \"error_type\": \"underestimated\"}, {\"fanta_team\": \"AI sereje ja dejeDe jebe tu de jebere\", \"role\": \"A\", \"player\": \"Zapata\", \"team\": \"Atalanta\", \"opponent\": \"Sassuolo\", \"date\": \"2022-04-10T00:00:00\", \"expected_bonus\": 1.6227106, \"true_bonus\": 0.0, \"error\": 1.6227106, \"error_type\": \"overestimated\"}, {\"fanta_team\": \"AI sereje ja dejeDe jebe tu de jebere\", \"role\": \"A\", \"player\": \"Beto\", \"team\": \"Udinese\", \"opponent\": \"Venezia\", \"date\": \"2022-04-10T00:00:00\", \"expected_bonus\": 1.0540648, \"true_bonus\": 0.0, \"error\": 1.0540648, \"error_type\": \"overestimated\"}, {\"fanta_team\": \"AI sereje ja dejeDe jebe tu de jebere\", \"role\": \"A\", \"player\": \"Lozano\", \"team\": \"Napoli\", \"opponent\": \"Fiorentina\", \"date\": \"2022-04-10T00:00:00\", \"expected_bonus\": 0.9228632, \"true_bonus\": 0.0, \"error\": 0.9228632, \"error_type\": \"overestimated\"}, {\"fanta_team\": \"AI sereje ja dejeDe jebe tu de jebere\", \"role\": \"A\", \"player\": \"Gyasi\", \"team\": \"Spezia\", \"opponent\": \"Empoli\", \"date\": \"2022-04-09T00:00:00\", \"expected_bonus\": 0.3744826, \"true_bonus\": 0.0, \"error\": 0.3744826, \"error_type\": \"overestimated\"}]}}, {\"actions\": false, \"mode\": \"vega-lite\"});\n</script>",
      "text/plain": "alt.Chart(...)"
     },
     "metadata": {}
    }
   ]
  },
  {
   "cell_type": "code",
   "metadata": {
    "cell_id": "4b6caad3-94aa-4a54-be90-216f36213ee1",
    "tags": [],
    "deepnote_to_be_reexecuted": true,
    "source_hash": "96119dd1",
    "execution_start": 1649826670427,
    "execution_millis": 0,
    "deepnote_cell_type": "code"
   },
   "source": "team, index = display_fanta_squad(validation, teams, index)",
   "execution_count": null,
   "outputs": []
  },
  {
   "cell_type": "code",
   "source": "_deepnote_run_altair(team, \"\"\"{\"$schema\":\"https://vega.github.io/schema/vega-lite/v4.json\",\"mark\":{\"type\":\"bar\",\"tooltip\":{\"content\":\"data\"}},\"height\":220,\"autosize\":{\"type\":\"fit\"},\"data\":{\"name\":\"placeholder\"},\"encoding\":{\"x\":{\"field\":\"error\",\"type\":\"quantitative\",\"sort\":null,\"scale\":{\"type\":\"linear\",\"zero\":false}},\"y\":{\"field\":\"player\",\"type\":\"nominal\",\"sort\":null,\"scale\":{\"type\":\"linear\",\"zero\":true}},\"color\":{\"field\":\"error_type\",\"type\":\"nominal\",\"sort\":null,\"scale\":{\"type\":\"linear\",\"zero\":false}}}}\"\"\")",
   "metadata": {
    "cell_id": "00027-ad487baa-da0c-464f-9f9f-e9a21a67870d",
    "deepnote_variable_name": "team",
    "deepnote_visualization_spec": {
     "$schema": "https://vega.github.io/schema/vega-lite/v4.json",
     "mark": {
      "type": "bar",
      "tooltip": {
       "content": "data"
      }
     },
     "height": 220,
     "autosize": {
      "type": "fit"
     },
     "data": {
      "name": "placeholder"
     },
     "encoding": {
      "x": {
       "field": "error",
       "type": "quantitative",
       "sort": null,
       "scale": {
        "type": "linear",
        "zero": false
       }
      },
      "y": {
       "field": "player",
       "type": "nominal",
       "sort": null,
       "scale": {
        "type": "linear",
        "zero": true
       }
      },
      "color": {
       "field": "error_type",
       "type": "nominal",
       "sort": null,
       "scale": {
        "type": "linear",
        "zero": false
       }
      }
     }
    },
    "deepnote_to_be_reexecuted": true,
    "source_hash": "81b9fc1a",
    "allow_embed": "output",
    "execution_start": 1649826670471,
    "execution_millis": 263,
    "deepnote_cell_type": "visualization",
    "deepnote_output_heights": [
     314
    ]
   },
   "execution_count": null,
   "outputs": [
    {
     "output_type": "execute_result",
     "execution_count": 29,
     "data": {
      "text/html": "\n<div id=\"altair-viz-53e2f627041c473185f0e8909de15ab5\"></div>\n<script type=\"text/javascript\">\n  (function(spec, embedOpt){\n    let outputDiv = document.currentScript.previousElementSibling;\n    if (outputDiv.id !== \"altair-viz-53e2f627041c473185f0e8909de15ab5\") {\n      outputDiv = document.getElementById(\"altair-viz-53e2f627041c473185f0e8909de15ab5\");\n    }\n    const paths = {\n      \"vega\": \"https://cdn.jsdelivr.net/npm//vega@5?noext\",\n      \"vega-lib\": \"https://cdn.jsdelivr.net/npm//vega-lib?noext\",\n      \"vega-lite\": \"https://cdn.jsdelivr.net/npm//vega-lite@4.8.1?noext\",\n      \"vega-embed\": \"https://cdn.jsdelivr.net/npm//vega-embed@6?noext\",\n    };\n\n    function loadScript(lib) {\n      return new Promise(function(resolve, reject) {\n        var s = document.createElement('script');\n        s.src = paths[lib];\n        s.async = true;\n        s.onload = () => resolve(paths[lib]);\n        s.onerror = () => reject(`Error loading script: ${paths[lib]}`);\n        document.getElementsByTagName(\"head\")[0].appendChild(s);\n      });\n    }\n\n    function showError(err) {\n      outputDiv.innerHTML = `<div class=\"error\" style=\"color:red;\">${err}</div>`;\n      throw err;\n    }\n\n    function displayChart(vegaEmbed) {\n      vegaEmbed(outputDiv, spec, embedOpt)\n        .catch(err => showError(`Javascript Error: ${err.message}<br>This usually means there's a typo in your chart specification. See the javascript console for the full traceback.`));\n    }\n\n    if(typeof define === \"function\" && define.amd) {\n      requirejs.config({paths});\n      require([\"vega-embed\"], displayChart, err => showError(`Error loading script: ${err.message}`));\n    } else if (typeof vegaEmbed === \"function\") {\n      displayChart(vegaEmbed);\n    } else {\n      loadScript(\"vega\")\n        .then(() => loadScript(\"vega-lite\"))\n        .then(() => loadScript(\"vega-embed\"))\n        .catch(showError)\n        .then(() => displayChart(vegaEmbed));\n    }\n  })({\"config\": {\"view\": {\"continuousWidth\": 400, \"continuousHeight\": 300}, \"area\": {\"fill\": \"#51C0E9\"}, \"axis\": {\"labelFont\": \"Inter, sans-serif\", \"labelFontSize\": 12, \"labelFontWeight\": \"normal\", \"labelLimit\": 60, \"labelOverlap\": \"greedy\", \"titleFont\": \"Inter, sans-serif\", \"titleFontSize\": 12, \"titleFontWeight\": \"bold\"}, \"background\": \"#ffffff\", \"legend\": {\"labelFont\": \"Inter, sans-serif\", \"labelFontSize\": 12, \"titleFont\": \"Inter, sans-serif\", \"titleFontSize\": 12, \"titleFontWeight\": \"bold\"}, \"line\": {\"stroke\": \"#51C0E9\", \"strokeWidth\": 2}, \"rect\": {\"fill\": \"#51C0E9\"}, \"title\": {\"anchor\": \"start\", \"color\": \"#000000\", \"font\": \"Inter, sans-serif\", \"fontSize\": 22, \"fontWeight\": \"normal\"}}, \"data\": {\"name\": \"data-6588ad40cc1e4def333707e69ee4bb67\"}, \"mark\": {\"type\": \"bar\", \"tooltip\": {\"content\": \"data\"}}, \"autosize\": {\"type\": \"fit\"}, \"encoding\": {\"color\": {\"type\": \"nominal\", \"field\": \"error_type\", \"scale\": {\"type\": \"linear\", \"zero\": false}, \"sort\": null}, \"x\": {\"type\": \"quantitative\", \"field\": \"error\", \"scale\": {\"type\": \"linear\", \"zero\": false}, \"sort\": null}, \"y\": {\"type\": \"nominal\", \"field\": \"player\", \"scale\": {\"type\": \"linear\", \"zero\": true}, \"sort\": null}}, \"height\": 300, \"width\": \"container\", \"$schema\": \"https://vega.github.io/schema/vega-lite/v4.json\", \"datasets\": {\"data-6588ad40cc1e4def333707e69ee4bb67\": [{\"fanta_team\": \"Beverly INPS\", \"role\": \"D\", \"player\": \"Dimarco\", \"team\": \"Inter\", \"opponent\": \"Verona\", \"date\": \"2022-04-09T00:00:00\", \"expected_bonus\": 0.5336015, \"true_bonus\": 0.0, \"error\": 0.5336015, \"error_type\": \"overestimated\"}, {\"fanta_team\": \"Beverly INPS\", \"role\": \"D\", \"player\": \"Cuadrado\", \"team\": \"Juventus\", \"opponent\": \"Cagliari\", \"date\": \"2022-04-09T00:00:00\", \"expected_bonus\": 0.32568568, \"true_bonus\": 1.0, \"error\": -0.67431432, \"error_type\": \"underestimated\"}, {\"fanta_team\": \"Beverly INPS\", \"role\": \"D\", \"player\": \"Bastoni\", \"team\": \"Inter\", \"opponent\": \"Verona\", \"date\": \"2022-04-09T00:00:00\", \"expected_bonus\": 0.25072607, \"true_bonus\": 0.0, \"error\": 0.25072607, \"error_type\": \"overestimated\"}, {\"fanta_team\": \"Beverly INPS\", \"role\": \"C\", \"player\": \"Zielinski\", \"team\": \"Napoli\", \"opponent\": \"Fiorentina\", \"date\": \"2022-04-10T00:00:00\", \"expected_bonus\": 0.7800015, \"true_bonus\": 0.0, \"error\": 0.7800015, \"error_type\": \"overestimated\"}, {\"fanta_team\": \"Beverly INPS\", \"role\": \"C\", \"player\": \"Veretout\", \"team\": \"Roma\", \"opponent\": \"Salernitana\", \"date\": \"2022-04-10T00:00:00\", \"expected_bonus\": 0.74403346, \"true_bonus\": 1.0, \"error\": -0.25596653999999996, \"error_type\": \"underestimated\"}, {\"fanta_team\": \"Beverly INPS\", \"role\": \"C\", \"player\": \"Alberto\", \"team\": \"Lazio\", \"opponent\": \"Genoa\", \"date\": \"2022-04-10T00:00:00\", \"expected_bonus\": 0.6745042, \"true_bonus\": 0.0, \"error\": 0.6745042, \"error_type\": \"overestimated\"}, {\"fanta_team\": \"Beverly INPS\", \"role\": \"C\", \"player\": \"Kessi\\u00e9\", \"team\": \"AC Milan\", \"opponent\": \"Torino\", \"date\": \"2022-04-10T00:00:00\", \"expected_bonus\": 0.41714728, \"true_bonus\": 0.0, \"error\": 0.41714728, \"error_type\": \"overestimated\"}, {\"fanta_team\": \"Beverly INPS\", \"role\": \"C\", \"player\": \"Elmas\", \"team\": \"Napoli\", \"opponent\": \"Fiorentina\", \"date\": \"2022-04-10T00:00:00\", \"expected_bonus\": 0.24315514, \"true_bonus\": 0.0, \"error\": 0.24315514, \"error_type\": \"overestimated\"}, {\"fanta_team\": \"Beverly INPS\", \"role\": \"A\", \"player\": \"Berardi\", \"team\": \"Sassuolo\", \"opponent\": \"Atalanta\", \"date\": \"2022-04-10T00:00:00\", \"expected_bonus\": 1.2146548, \"true_bonus\": 0.0, \"error\": 1.2146548, \"error_type\": \"overestimated\"}, {\"fanta_team\": \"Beverly INPS\", \"role\": \"A\", \"player\": \"Mertens\", \"team\": \"Napoli\", \"opponent\": \"Fiorentina\", \"date\": \"2022-04-10T00:00:00\", \"expected_bonus\": 1.2060043, \"true_bonus\": 3.0, \"error\": -1.7939957, \"error_type\": \"underestimated\"}, {\"fanta_team\": \"Beverly INPS\", \"role\": \"A\", \"player\": \"Deulofeu\", \"team\": \"Udinese\", \"opponent\": \"Venezia\", \"date\": \"2022-04-10T00:00:00\", \"expected_bonus\": 1.1082538, \"true_bonus\": 3.0, \"error\": -1.8917462, \"error_type\": \"underestimated\"}, {\"fanta_team\": \"Beverly INPS\", \"role\": \"A\", \"player\": \"Barrow\", \"team\": \"Bologna\", \"opponent\": \"Sampdoria\", \"date\": \"2022-04-11T00:00:00\", \"expected_bonus\": 0.9560479, \"true_bonus\": 0.0, \"error\": 0.9560479, \"error_type\": \"overestimated\"}, {\"fanta_team\": \"Beverly INPS\", \"role\": \"A\", \"player\": \"Gonz\\u00e1lez\", \"team\": \"Fiorentina\", \"opponent\": \"Napoli\", \"date\": \"2022-04-10T00:00:00\", \"expected_bonus\": 0.6309936, \"true_bonus\": 4.0, \"error\": -3.3690064, \"error_type\": \"underestimated\"}]}}, {\"actions\": false, \"mode\": \"vega-lite\"});\n</script>",
      "text/plain": "alt.Chart(...)"
     },
     "metadata": {}
    }
   ]
  },
  {
   "cell_type": "code",
   "metadata": {
    "cell_id": "d7f08d19-70ea-42c9-b53f-af37f2745fd5",
    "tags": [],
    "deepnote_to_be_reexecuted": true,
    "source_hash": "96119dd1",
    "execution_start": 1649826670550,
    "execution_millis": 0,
    "deepnote_cell_type": "code"
   },
   "source": "team, index = display_fanta_squad(validation, teams, index)",
   "execution_count": null,
   "outputs": []
  },
  {
   "cell_type": "code",
   "source": "_deepnote_run_altair(team, \"\"\"{\"$schema\":\"https://vega.github.io/schema/vega-lite/v4.json\",\"mark\":{\"type\":\"bar\",\"tooltip\":{\"content\":\"data\"}},\"height\":220,\"autosize\":{\"type\":\"fit\"},\"data\":{\"name\":\"placeholder\"},\"encoding\":{\"x\":{\"field\":\"error\",\"type\":\"quantitative\",\"sort\":null,\"scale\":{\"type\":\"linear\",\"zero\":false}},\"y\":{\"field\":\"player\",\"type\":\"nominal\",\"sort\":null,\"scale\":{\"type\":\"linear\",\"zero\":true}},\"color\":{\"field\":\"error_type\",\"type\":\"nominal\",\"sort\":null,\"scale\":{\"type\":\"linear\",\"zero\":false}}}}\"\"\")",
   "metadata": {
    "cell_id": "00029-0f50e7b5-72d6-4b55-9d32-91160ff059b5",
    "deepnote_variable_name": "team",
    "deepnote_visualization_spec": {
     "$schema": "https://vega.github.io/schema/vega-lite/v4.json",
     "mark": {
      "type": "bar",
      "tooltip": {
       "content": "data"
      }
     },
     "height": 220,
     "autosize": {
      "type": "fit"
     },
     "data": {
      "name": "placeholder"
     },
     "encoding": {
      "x": {
       "field": "error",
       "type": "quantitative",
       "sort": null,
       "scale": {
        "type": "linear",
        "zero": false
       }
      },
      "y": {
       "field": "player",
       "type": "nominal",
       "sort": null,
       "scale": {
        "type": "linear",
        "zero": true
       }
      },
      "color": {
       "field": "error_type",
       "type": "nominal",
       "sort": null,
       "scale": {
        "type": "linear",
        "zero": false
       }
      }
     }
    },
    "deepnote_to_be_reexecuted": true,
    "source_hash": "81b9fc1a",
    "allow_embed": "output",
    "execution_start": 1649826670551,
    "execution_millis": 184,
    "deepnote_cell_type": "visualization",
    "deepnote_output_heights": [
     314
    ]
   },
   "execution_count": null,
   "outputs": [
    {
     "output_type": "execute_result",
     "execution_count": 31,
     "data": {
      "text/html": "\n<div id=\"altair-viz-cd25137c932f4af7866d9570868e1b3f\"></div>\n<script type=\"text/javascript\">\n  (function(spec, embedOpt){\n    let outputDiv = document.currentScript.previousElementSibling;\n    if (outputDiv.id !== \"altair-viz-cd25137c932f4af7866d9570868e1b3f\") {\n      outputDiv = document.getElementById(\"altair-viz-cd25137c932f4af7866d9570868e1b3f\");\n    }\n    const paths = {\n      \"vega\": \"https://cdn.jsdelivr.net/npm//vega@5?noext\",\n      \"vega-lib\": \"https://cdn.jsdelivr.net/npm//vega-lib?noext\",\n      \"vega-lite\": \"https://cdn.jsdelivr.net/npm//vega-lite@4.8.1?noext\",\n      \"vega-embed\": \"https://cdn.jsdelivr.net/npm//vega-embed@6?noext\",\n    };\n\n    function loadScript(lib) {\n      return new Promise(function(resolve, reject) {\n        var s = document.createElement('script');\n        s.src = paths[lib];\n        s.async = true;\n        s.onload = () => resolve(paths[lib]);\n        s.onerror = () => reject(`Error loading script: ${paths[lib]}`);\n        document.getElementsByTagName(\"head\")[0].appendChild(s);\n      });\n    }\n\n    function showError(err) {\n      outputDiv.innerHTML = `<div class=\"error\" style=\"color:red;\">${err}</div>`;\n      throw err;\n    }\n\n    function displayChart(vegaEmbed) {\n      vegaEmbed(outputDiv, spec, embedOpt)\n        .catch(err => showError(`Javascript Error: ${err.message}<br>This usually means there's a typo in your chart specification. See the javascript console for the full traceback.`));\n    }\n\n    if(typeof define === \"function\" && define.amd) {\n      requirejs.config({paths});\n      require([\"vega-embed\"], displayChart, err => showError(`Error loading script: ${err.message}`));\n    } else if (typeof vegaEmbed === \"function\") {\n      displayChart(vegaEmbed);\n    } else {\n      loadScript(\"vega\")\n        .then(() => loadScript(\"vega-lite\"))\n        .then(() => loadScript(\"vega-embed\"))\n        .catch(showError)\n        .then(() => displayChart(vegaEmbed));\n    }\n  })({\"config\": {\"view\": {\"continuousWidth\": 400, \"continuousHeight\": 300}, \"area\": {\"fill\": \"#51C0E9\"}, \"axis\": {\"labelFont\": \"Inter, sans-serif\", \"labelFontSize\": 12, \"labelFontWeight\": \"normal\", \"labelLimit\": 60, \"labelOverlap\": \"greedy\", \"titleFont\": \"Inter, sans-serif\", \"titleFontSize\": 12, \"titleFontWeight\": \"bold\"}, \"background\": \"#ffffff\", \"legend\": {\"labelFont\": \"Inter, sans-serif\", \"labelFontSize\": 12, \"titleFont\": \"Inter, sans-serif\", \"titleFontSize\": 12, \"titleFontWeight\": \"bold\"}, \"line\": {\"stroke\": \"#51C0E9\", \"strokeWidth\": 2}, \"rect\": {\"fill\": \"#51C0E9\"}, \"title\": {\"anchor\": \"start\", \"color\": \"#000000\", \"font\": \"Inter, sans-serif\", \"fontSize\": 22, \"fontWeight\": \"normal\"}}, \"data\": {\"name\": \"data-0553db02a33ebbcd7d35b5ef1f4d2b90\"}, \"mark\": {\"type\": \"bar\", \"tooltip\": {\"content\": \"data\"}}, \"autosize\": {\"type\": \"fit\"}, \"encoding\": {\"color\": {\"type\": \"nominal\", \"field\": \"error_type\", \"scale\": {\"type\": \"linear\", \"zero\": false}, \"sort\": null}, \"x\": {\"type\": \"quantitative\", \"field\": \"error\", \"scale\": {\"type\": \"linear\", \"zero\": false}, \"sort\": null}, \"y\": {\"type\": \"nominal\", \"field\": \"player\", \"scale\": {\"type\": \"linear\", \"zero\": true}, \"sort\": null}}, \"height\": 300, \"width\": \"container\", \"$schema\": \"https://vega.github.io/schema/vega-lite/v4.json\", \"datasets\": {\"data-0553db02a33ebbcd7d35b5ef1f4d2b90\": [{\"fanta_team\": \"MEZAFE\", \"role\": \"D\", \"player\": \"Criscito\", \"team\": \"Genoa\", \"opponent\": \"Lazio\", \"date\": \"2022-04-10T00:00:00\", \"expected_bonus\": 0.525387, \"true_bonus\": 0.0, \"error\": 0.525387, \"error_type\": \"overestimated\"}, {\"fanta_team\": \"MEZAFE\", \"role\": \"D\", \"player\": \"Zappacosta\", \"team\": \"Atalanta\", \"opponent\": \"Sassuolo\", \"date\": \"2022-04-10T00:00:00\", \"expected_bonus\": 0.45008686, \"true_bonus\": 0.0, \"error\": 0.45008686, \"error_type\": \"overestimated\"}, {\"fanta_team\": \"MEZAFE\", \"role\": \"D\", \"player\": \"Bonucci\", \"team\": \"Juventus\", \"opponent\": \"Cagliari\", \"date\": \"2022-04-09T00:00:00\", \"expected_bonus\": 0.3791887, \"true_bonus\": 0.0, \"error\": 0.3791887, \"error_type\": \"overestimated\"}, {\"fanta_team\": \"MEZAFE\", \"role\": \"D\", \"player\": \"Vrij\", \"team\": \"Inter\", \"opponent\": \"Verona\", \"date\": \"2022-04-09T00:00:00\", \"expected_bonus\": 0.26052645, \"true_bonus\": 0.0, \"error\": 0.26052645, \"error_type\": \"overestimated\"}, {\"fanta_team\": \"MEZAFE\", \"role\": \"D\", \"player\": \"Danilo\", \"team\": \"Juventus\", \"opponent\": \"Cagliari\", \"date\": \"2022-04-09T00:00:00\", \"expected_bonus\": 0.23626386, \"true_bonus\": 0.0, \"error\": 0.23626386, \"error_type\": \"overestimated\"}, {\"fanta_team\": \"MEZAFE\", \"role\": \"D\", \"player\": \"Chiellini\", \"team\": \"Juventus\", \"opponent\": \"Cagliari\", \"date\": \"2022-04-09T00:00:00\", \"expected_bonus\": 0.16531901, \"true_bonus\": 0.0, \"error\": 0.16531901, \"error_type\": \"overestimated\"}, {\"fanta_team\": \"MEZAFE\", \"role\": \"C\", \"player\": \"Pasalic\", \"team\": \"Atalanta\", \"opponent\": \"Sassuolo\", \"date\": \"2022-04-10T00:00:00\", \"expected_bonus\": 0.8691922, \"true_bonus\": 0.0, \"error\": 0.8691922, \"error_type\": \"overestimated\"}, {\"fanta_team\": \"MEZAFE\", \"role\": \"C\", \"player\": \"Verdi\", \"team\": \"Salernitana\", \"opponent\": \"Roma\", \"date\": \"2022-04-10T00:00:00\", \"expected_bonus\": 0.4999784, \"true_bonus\": 0.0, \"error\": 0.4999784, \"error_type\": \"overestimated\"}, {\"fanta_team\": \"MEZAFE\", \"role\": \"C\", \"player\": \"Saelemaekers\", \"team\": \"AC Milan\", \"opponent\": \"Torino\", \"date\": \"2022-04-10T00:00:00\", \"expected_bonus\": 0.46197546, \"true_bonus\": 0.0, \"error\": 0.46197546, \"error_type\": \"overestimated\"}, {\"fanta_team\": \"MEZAFE\", \"role\": \"C\", \"player\": \"Perisic\", \"team\": \"Inter\", \"opponent\": \"Verona\", \"date\": \"2022-04-09T00:00:00\", \"expected_bonus\": 0.44903645, \"true_bonus\": 2.0, \"error\": -1.55096355, \"error_type\": \"underestimated\"}, {\"fanta_team\": \"MEZAFE\", \"role\": \"C\", \"player\": \"Lazovic\", \"team\": \"Verona\", \"opponent\": \"Inter\", \"date\": \"2022-04-09T00:00:00\", \"expected_bonus\": 0.19816302, \"true_bonus\": 0.0, \"error\": 0.19816302, \"error_type\": \"overestimated\"}, {\"fanta_team\": \"MEZAFE\", \"role\": \"C\", \"player\": \"Tonali\", \"team\": \"AC Milan\", \"opponent\": \"Torino\", \"date\": \"2022-04-10T00:00:00\", \"expected_bonus\": 0.19361764, \"true_bonus\": 0.0, \"error\": 0.19361764, \"error_type\": \"overestimated\"}, {\"fanta_team\": \"MEZAFE\", \"role\": \"C\", \"player\": \"Castrovilli\", \"team\": \"Fiorentina\", \"opponent\": \"Napoli\", \"date\": \"2022-04-10T00:00:00\", \"expected_bonus\": 0.07763887, \"true_bonus\": 0.0, \"error\": 0.07763887, \"error_type\": \"overestimated\"}, {\"fanta_team\": \"MEZAFE\", \"role\": \"A\", \"player\": \"Dybala\", \"team\": \"Juventus\", \"opponent\": \"Cagliari\", \"date\": \"2022-04-09T00:00:00\", \"expected_bonus\": 1.8548845, \"true_bonus\": 0.0, \"error\": 1.8548845, \"error_type\": \"overestimated\"}, {\"fanta_team\": \"MEZAFE\", \"role\": \"A\", \"player\": \"Quagliarella\", \"team\": \"Sampdoria\", \"opponent\": \"Bologna\", \"date\": \"2022-04-11T00:00:00\", \"expected_bonus\": 0.9377948, \"true_bonus\": 0.0, \"error\": 0.9377948, \"error_type\": \"overestimated\"}, {\"fanta_team\": \"MEZAFE\", \"role\": \"A\", \"player\": \"Simeone\", \"team\": \"Verona\", \"opponent\": \"Inter\", \"date\": \"2022-04-09T00:00:00\", \"expected_bonus\": 0.8771407, \"true_bonus\": 0.0, \"error\": 0.8771407, \"error_type\": \"overestimated\"}]}}, {\"actions\": false, \"mode\": \"vega-lite\"});\n</script>",
      "text/plain": "alt.Chart(...)"
     },
     "metadata": {}
    }
   ]
  },
  {
   "cell_type": "code",
   "metadata": {
    "cell_id": "cc3dc8c6-dc8f-44b0-a37e-c28bcb2bd928",
    "tags": [],
    "deepnote_to_be_reexecuted": true,
    "source_hash": "96119dd1",
    "execution_start": 1649826670674,
    "execution_millis": 1,
    "deepnote_cell_type": "code"
   },
   "source": "team, index = display_fanta_squad(validation, teams, index)",
   "execution_count": null,
   "outputs": []
  },
  {
   "cell_type": "code",
   "source": "_deepnote_run_altair(team, \"\"\"{\"$schema\":\"https://vega.github.io/schema/vega-lite/v4.json\",\"mark\":{\"type\":\"bar\",\"tooltip\":{\"content\":\"data\"}},\"height\":220,\"autosize\":{\"type\":\"fit\"},\"data\":{\"name\":\"placeholder\"},\"encoding\":{\"x\":{\"field\":\"error\",\"type\":\"quantitative\",\"sort\":null,\"scale\":{\"type\":\"linear\",\"zero\":false}},\"y\":{\"field\":\"player\",\"type\":\"nominal\",\"sort\":null,\"scale\":{\"type\":\"linear\",\"zero\":true}},\"color\":{\"field\":\"error_type\",\"type\":\"nominal\",\"sort\":null,\"scale\":{\"type\":\"linear\",\"zero\":false}}}}\"\"\")",
   "metadata": {
    "cell_id": "00031-fd6a1c71-4f0b-4b0a-a71b-11423045a9e4",
    "deepnote_variable_name": "team",
    "deepnote_visualization_spec": {
     "$schema": "https://vega.github.io/schema/vega-lite/v4.json",
     "mark": {
      "type": "bar",
      "tooltip": {
       "content": "data"
      }
     },
     "height": 220,
     "autosize": {
      "type": "fit"
     },
     "data": {
      "name": "placeholder"
     },
     "encoding": {
      "x": {
       "field": "error",
       "type": "quantitative",
       "sort": null,
       "scale": {
        "type": "linear",
        "zero": false
       }
      },
      "y": {
       "field": "player",
       "type": "nominal",
       "sort": null,
       "scale": {
        "type": "linear",
        "zero": true
       }
      },
      "color": {
       "field": "error_type",
       "type": "nominal",
       "sort": null,
       "scale": {
        "type": "linear",
        "zero": false
       }
      }
     }
    },
    "deepnote_to_be_reexecuted": true,
    "source_hash": "81b9fc1a",
    "allow_embed": "output",
    "execution_start": 1649826670675,
    "execution_millis": 73,
    "deepnote_cell_type": "visualization",
    "deepnote_output_heights": [
     314
    ]
   },
   "execution_count": null,
   "outputs": [
    {
     "output_type": "execute_result",
     "execution_count": 33,
     "data": {
      "text/html": "\n<div id=\"altair-viz-33bbede4907c4046a85bf5425abce252\"></div>\n<script type=\"text/javascript\">\n  (function(spec, embedOpt){\n    let outputDiv = document.currentScript.previousElementSibling;\n    if (outputDiv.id !== \"altair-viz-33bbede4907c4046a85bf5425abce252\") {\n      outputDiv = document.getElementById(\"altair-viz-33bbede4907c4046a85bf5425abce252\");\n    }\n    const paths = {\n      \"vega\": \"https://cdn.jsdelivr.net/npm//vega@5?noext\",\n      \"vega-lib\": \"https://cdn.jsdelivr.net/npm//vega-lib?noext\",\n      \"vega-lite\": \"https://cdn.jsdelivr.net/npm//vega-lite@4.8.1?noext\",\n      \"vega-embed\": \"https://cdn.jsdelivr.net/npm//vega-embed@6?noext\",\n    };\n\n    function loadScript(lib) {\n      return new Promise(function(resolve, reject) {\n        var s = document.createElement('script');\n        s.src = paths[lib];\n        s.async = true;\n        s.onload = () => resolve(paths[lib]);\n        s.onerror = () => reject(`Error loading script: ${paths[lib]}`);\n        document.getElementsByTagName(\"head\")[0].appendChild(s);\n      });\n    }\n\n    function showError(err) {\n      outputDiv.innerHTML = `<div class=\"error\" style=\"color:red;\">${err}</div>`;\n      throw err;\n    }\n\n    function displayChart(vegaEmbed) {\n      vegaEmbed(outputDiv, spec, embedOpt)\n        .catch(err => showError(`Javascript Error: ${err.message}<br>This usually means there's a typo in your chart specification. See the javascript console for the full traceback.`));\n    }\n\n    if(typeof define === \"function\" && define.amd) {\n      requirejs.config({paths});\n      require([\"vega-embed\"], displayChart, err => showError(`Error loading script: ${err.message}`));\n    } else if (typeof vegaEmbed === \"function\") {\n      displayChart(vegaEmbed);\n    } else {\n      loadScript(\"vega\")\n        .then(() => loadScript(\"vega-lite\"))\n        .then(() => loadScript(\"vega-embed\"))\n        .catch(showError)\n        .then(() => displayChart(vegaEmbed));\n    }\n  })({\"config\": {\"view\": {\"continuousWidth\": 400, \"continuousHeight\": 300}, \"area\": {\"fill\": \"#51C0E9\"}, \"axis\": {\"labelFont\": \"Inter, sans-serif\", \"labelFontSize\": 12, \"labelFontWeight\": \"normal\", \"labelLimit\": 60, \"labelOverlap\": \"greedy\", \"titleFont\": \"Inter, sans-serif\", \"titleFontSize\": 12, \"titleFontWeight\": \"bold\"}, \"background\": \"#ffffff\", \"legend\": {\"labelFont\": \"Inter, sans-serif\", \"labelFontSize\": 12, \"titleFont\": \"Inter, sans-serif\", \"titleFontSize\": 12, \"titleFontWeight\": \"bold\"}, \"line\": {\"stroke\": \"#51C0E9\", \"strokeWidth\": 2}, \"rect\": {\"fill\": \"#51C0E9\"}, \"title\": {\"anchor\": \"start\", \"color\": \"#000000\", \"font\": \"Inter, sans-serif\", \"fontSize\": 22, \"fontWeight\": \"normal\"}}, \"data\": {\"name\": \"data-eaf47575bd75756fd47930094f39c567\"}, \"mark\": {\"type\": \"bar\", \"tooltip\": {\"content\": \"data\"}}, \"autosize\": {\"type\": \"fit\"}, \"encoding\": {\"color\": {\"type\": \"nominal\", \"field\": \"error_type\", \"scale\": {\"type\": \"linear\", \"zero\": false}, \"sort\": null}, \"x\": {\"type\": \"quantitative\", \"field\": \"error\", \"scale\": {\"type\": \"linear\", \"zero\": false}, \"sort\": null}, \"y\": {\"type\": \"nominal\", \"field\": \"player\", \"scale\": {\"type\": \"linear\", \"zero\": true}, \"sort\": null}}, \"height\": 300, \"width\": \"container\", \"$schema\": \"https://vega.github.io/schema/vega-lite/v4.json\", \"datasets\": {\"data-eaf47575bd75756fd47930094f39c567\": [{\"fanta_team\": \"MaiNa Joya_v2.0\", \"role\": \"D\", \"player\": \"Gosens\", \"team\": \"Inter\", \"opponent\": \"Verona\", \"date\": \"2022-04-09T00:00:00\", \"expected_bonus\": 0.58898735, \"true_bonus\": 0.0, \"error\": 0.58898735, \"error_type\": \"overestimated\"}, {\"fanta_team\": \"MaiNa Joya_v2.0\", \"role\": \"D\", \"player\": \"Hern\\u00e1ndez\", \"team\": \"AC Milan\", \"opponent\": \"Torino\", \"date\": \"2022-04-10T00:00:00\", \"expected_bonus\": 0.40382418, \"true_bonus\": 0.0, \"error\": 0.40382418, \"error_type\": \"overestimated\"}, {\"fanta_team\": \"MaiNa Joya_v2.0\", \"role\": \"D\", \"player\": \"Molina\", \"team\": \"Udinese\", \"opponent\": \"Venezia\", \"date\": \"2022-04-10T00:00:00\", \"expected_bonus\": 0.24406114, \"true_bonus\": 0.0, \"error\": 0.24406114, \"error_type\": \"overestimated\"}, {\"fanta_team\": \"MaiNa Joya_v2.0\", \"role\": \"D\", \"player\": \"Stojanovic\", \"team\": \"Empoli\", \"opponent\": \"Spezia\", \"date\": \"2022-04-09T00:00:00\", \"expected_bonus\": 0.23650847, \"true_bonus\": 0.0, \"error\": 0.23650847, \"error_type\": \"overestimated\"}, {\"fanta_team\": \"MaiNa Joya_v2.0\", \"role\": \"D\", \"player\": \"Toloi\", \"team\": \"Atalanta\", \"opponent\": \"Sassuolo\", \"date\": \"2022-04-10T00:00:00\", \"expected_bonus\": 0.2101276, \"true_bonus\": 0.0, \"error\": 0.2101276, \"error_type\": \"overestimated\"}, {\"fanta_team\": \"MaiNa Joya_v2.0\", \"role\": \"D\", \"player\": \"Ferrari\", \"team\": \"Sassuolo\", \"opponent\": \"Atalanta\", \"date\": \"2022-04-10T00:00:00\", \"expected_bonus\": 0.14656691, \"true_bonus\": 0.0, \"error\": 0.14656691, \"error_type\": \"overestimated\"}, {\"fanta_team\": \"MaiNa Joya_v2.0\", \"role\": \"D\", \"player\": \"Milenkovic\", \"team\": \"Fiorentina\", \"opponent\": \"Napoli\", \"date\": \"2022-04-10T00:00:00\", \"expected_bonus\": 0.1111378, \"true_bonus\": 0.0, \"error\": 0.1111378, \"error_type\": \"overestimated\"}, {\"fanta_team\": \"MaiNa Joya_v2.0\", \"role\": \"C\", \"player\": \"Milinkovic-Savic\", \"team\": \"Lazio\", \"opponent\": \"Genoa\", \"date\": \"2022-04-10T00:00:00\", \"expected_bonus\": 0.9647234, \"true_bonus\": 0.0, \"error\": 0.9647234, \"error_type\": \"overestimated\"}, {\"fanta_team\": \"MaiNa Joya_v2.0\", \"role\": \"C\", \"player\": \"Barella\", \"team\": \"Inter\", \"opponent\": \"Verona\", \"date\": \"2022-04-09T00:00:00\", \"expected_bonus\": 0.7880237, \"true_bonus\": 3.0, \"error\": -2.2119763, \"error_type\": \"underestimated\"}, {\"fanta_team\": \"MaiNa Joya_v2.0\", \"role\": \"C\", \"player\": \"Pobega\", \"team\": \"Torino\", \"opponent\": \"AC Milan\", \"date\": \"2022-04-10T00:00:00\", \"expected_bonus\": 0.5356636, \"true_bonus\": 0.0, \"error\": 0.5356636, \"error_type\": \"overestimated\"}, {\"fanta_team\": \"MaiNa Joya_v2.0\", \"role\": \"C\", \"player\": \"Soriano\", \"team\": \"Bologna\", \"opponent\": \"Sampdoria\", \"date\": \"2022-04-11T00:00:00\", \"expected_bonus\": 0.44294518, \"true_bonus\": 0.0, \"error\": 0.44294518, \"error_type\": \"overestimated\"}, {\"fanta_team\": \"MaiNa Joya_v2.0\", \"role\": \"C\", \"player\": \"Bernardeschi\", \"team\": \"Juventus\", \"opponent\": \"Cagliari\", \"date\": \"2022-04-09T00:00:00\", \"expected_bonus\": 0.32267073, \"true_bonus\": 0.0, \"error\": 0.32267073, \"error_type\": \"overestimated\"}, {\"fanta_team\": \"MaiNa Joya_v2.0\", \"role\": \"C\", \"player\": \"Sensi\", \"team\": \"Sampdoria\", \"opponent\": \"Bologna\", \"date\": \"2022-04-11T00:00:00\", \"expected_bonus\": 0.0058125984, \"true_bonus\": 0.0, \"error\": 0.0058125984, \"error_type\": \"overestimated\"}, {\"fanta_team\": \"MaiNa Joya_v2.0\", \"role\": \"A\", \"player\": \"Abraham\", \"team\": \"Roma\", \"opponent\": \"Salernitana\", \"date\": \"2022-04-10T00:00:00\", \"expected_bonus\": 2.0577042, \"true_bonus\": 0.0, \"error\": 2.0577042, \"error_type\": \"overestimated\"}, {\"fanta_team\": \"MaiNa Joya_v2.0\", \"role\": \"A\", \"player\": \"Insigne\", \"team\": \"Napoli\", \"opponent\": \"Fiorentina\", \"date\": \"2022-04-10T00:00:00\", \"expected_bonus\": 1.2484349, \"true_bonus\": 0.0, \"error\": 1.2484349, \"error_type\": \"overestimated\"}, {\"fanta_team\": \"MaiNa Joya_v2.0\", \"role\": \"A\", \"player\": \"Arnautovic\", \"team\": \"Bologna\", \"opponent\": \"Sampdoria\", \"date\": \"2022-04-11T00:00:00\", \"expected_bonus\": 1.0827242, \"true_bonus\": 6.0, \"error\": -4.9172758000000005, \"error_type\": \"underestimated\"}, {\"fanta_team\": \"MaiNa Joya_v2.0\", \"role\": \"A\", \"player\": \"Brekalo\", \"team\": \"Torino\", \"opponent\": \"AC Milan\", \"date\": \"2022-04-10T00:00:00\", \"expected_bonus\": 0.88753027, \"true_bonus\": 0.0, \"error\": 0.88753027, \"error_type\": \"overestimated\"}, {\"fanta_team\": \"MaiNa Joya_v2.0\", \"role\": \"A\", \"player\": \"Boga\", \"team\": \"Atalanta\", \"opponent\": \"Sassuolo\", \"date\": \"2022-04-10T00:00:00\", \"expected_bonus\": 0.69022727, \"true_bonus\": 0.0, \"error\": 0.69022727, \"error_type\": \"overestimated\"}]}}, {\"actions\": false, \"mode\": \"vega-lite\"});\n</script>",
      "text/plain": "alt.Chart(...)"
     },
     "metadata": {}
    }
   ]
  },
  {
   "cell_type": "code",
   "metadata": {
    "cell_id": "e535efe4-693e-48a8-844c-8094b246c7ae",
    "tags": [],
    "deepnote_to_be_reexecuted": true,
    "source_hash": "96119dd1",
    "execution_start": 1649826670791,
    "execution_millis": 0,
    "deepnote_cell_type": "code"
   },
   "source": "team, index = display_fanta_squad(validation, teams, index)",
   "execution_count": null,
   "outputs": []
  },
  {
   "cell_type": "code",
   "source": "_deepnote_run_altair(team, \"\"\"{\"$schema\":\"https://vega.github.io/schema/vega-lite/v4.json\",\"mark\":{\"type\":\"bar\",\"tooltip\":{\"content\":\"data\"}},\"height\":220,\"autosize\":{\"type\":\"fit\"},\"data\":{\"name\":\"placeholder\"},\"encoding\":{\"x\":{\"field\":\"error\",\"type\":\"quantitative\",\"sort\":null,\"scale\":{\"type\":\"linear\",\"zero\":false}},\"y\":{\"field\":\"player\",\"type\":\"nominal\",\"sort\":null,\"scale\":{\"type\":\"linear\",\"zero\":true}},\"color\":{\"field\":\"error_type\",\"type\":\"nominal\",\"sort\":null,\"scale\":{\"type\":\"linear\",\"zero\":false}}}}\"\"\")",
   "metadata": {
    "cell_id": "00033-a031bc55-5807-4595-ad40-c91acb5f58f5",
    "deepnote_variable_name": "team",
    "deepnote_visualization_spec": {
     "$schema": "https://vega.github.io/schema/vega-lite/v4.json",
     "mark": {
      "type": "bar",
      "tooltip": {
       "content": "data"
      }
     },
     "height": 220,
     "autosize": {
      "type": "fit"
     },
     "data": {
      "name": "placeholder"
     },
     "encoding": {
      "x": {
       "field": "error",
       "type": "quantitative",
       "sort": null,
       "scale": {
        "type": "linear",
        "zero": false
       }
      },
      "y": {
       "field": "player",
       "type": "nominal",
       "sort": null,
       "scale": {
        "type": "linear",
        "zero": true
       }
      },
      "color": {
       "field": "error_type",
       "type": "nominal",
       "sort": null,
       "scale": {
        "type": "linear",
        "zero": false
       }
      }
     }
    },
    "deepnote_to_be_reexecuted": true,
    "source_hash": "81b9fc1a",
    "allow_embed": "output",
    "execution_start": 1649826670843,
    "execution_millis": 45,
    "deepnote_cell_type": "visualization",
    "deepnote_output_heights": [
     314
    ]
   },
   "execution_count": null,
   "outputs": [
    {
     "output_type": "execute_result",
     "execution_count": 35,
     "data": {
      "text/html": "\n<div id=\"altair-viz-53b9c26bde804240856dee53d1f62f18\"></div>\n<script type=\"text/javascript\">\n  (function(spec, embedOpt){\n    let outputDiv = document.currentScript.previousElementSibling;\n    if (outputDiv.id !== \"altair-viz-53b9c26bde804240856dee53d1f62f18\") {\n      outputDiv = document.getElementById(\"altair-viz-53b9c26bde804240856dee53d1f62f18\");\n    }\n    const paths = {\n      \"vega\": \"https://cdn.jsdelivr.net/npm//vega@5?noext\",\n      \"vega-lib\": \"https://cdn.jsdelivr.net/npm//vega-lib?noext\",\n      \"vega-lite\": \"https://cdn.jsdelivr.net/npm//vega-lite@4.8.1?noext\",\n      \"vega-embed\": \"https://cdn.jsdelivr.net/npm//vega-embed@6?noext\",\n    };\n\n    function loadScript(lib) {\n      return new Promise(function(resolve, reject) {\n        var s = document.createElement('script');\n        s.src = paths[lib];\n        s.async = true;\n        s.onload = () => resolve(paths[lib]);\n        s.onerror = () => reject(`Error loading script: ${paths[lib]}`);\n        document.getElementsByTagName(\"head\")[0].appendChild(s);\n      });\n    }\n\n    function showError(err) {\n      outputDiv.innerHTML = `<div class=\"error\" style=\"color:red;\">${err}</div>`;\n      throw err;\n    }\n\n    function displayChart(vegaEmbed) {\n      vegaEmbed(outputDiv, spec, embedOpt)\n        .catch(err => showError(`Javascript Error: ${err.message}<br>This usually means there's a typo in your chart specification. See the javascript console for the full traceback.`));\n    }\n\n    if(typeof define === \"function\" && define.amd) {\n      requirejs.config({paths});\n      require([\"vega-embed\"], displayChart, err => showError(`Error loading script: ${err.message}`));\n    } else if (typeof vegaEmbed === \"function\") {\n      displayChart(vegaEmbed);\n    } else {\n      loadScript(\"vega\")\n        .then(() => loadScript(\"vega-lite\"))\n        .then(() => loadScript(\"vega-embed\"))\n        .catch(showError)\n        .then(() => displayChart(vegaEmbed));\n    }\n  })({\"config\": {\"view\": {\"continuousWidth\": 400, \"continuousHeight\": 300}, \"area\": {\"fill\": \"#51C0E9\"}, \"axis\": {\"labelFont\": \"Inter, sans-serif\", \"labelFontSize\": 12, \"labelFontWeight\": \"normal\", \"labelLimit\": 60, \"labelOverlap\": \"greedy\", \"titleFont\": \"Inter, sans-serif\", \"titleFontSize\": 12, \"titleFontWeight\": \"bold\"}, \"background\": \"#ffffff\", \"legend\": {\"labelFont\": \"Inter, sans-serif\", \"labelFontSize\": 12, \"titleFont\": \"Inter, sans-serif\", \"titleFontSize\": 12, \"titleFontWeight\": \"bold\"}, \"line\": {\"stroke\": \"#51C0E9\", \"strokeWidth\": 2}, \"rect\": {\"fill\": \"#51C0E9\"}, \"title\": {\"anchor\": \"start\", \"color\": \"#000000\", \"font\": \"Inter, sans-serif\", \"fontSize\": 22, \"fontWeight\": \"normal\"}}, \"data\": {\"name\": \"data-de7f11382d1c5424f122300f384ea768\"}, \"mark\": {\"type\": \"bar\", \"tooltip\": {\"content\": \"data\"}}, \"autosize\": {\"type\": \"fit\"}, \"encoding\": {\"color\": {\"type\": \"nominal\", \"field\": \"error_type\", \"scale\": {\"type\": \"linear\", \"zero\": false}, \"sort\": null}, \"x\": {\"type\": \"quantitative\", \"field\": \"error\", \"scale\": {\"type\": \"linear\", \"zero\": false}, \"sort\": null}, \"y\": {\"type\": \"nominal\", \"field\": \"player\", \"scale\": {\"type\": \"linear\", \"zero\": true}, \"sort\": null}}, \"height\": 300, \"width\": \"container\", \"$schema\": \"https://vega.github.io/schema/vega-lite/v4.json\", \"datasets\": {\"data-de7f11382d1c5424f122300f384ea768\": [{\"fanta_team\": \"Rione Monti\", \"role\": \"D\", \"player\": \"Bremer\", \"team\": \"Torino\", \"opponent\": \"AC Milan\", \"date\": \"2022-04-10T00:00:00\", \"expected_bonus\": 0.33140564, \"true_bonus\": 0.0, \"error\": 0.33140564, \"error_type\": \"overestimated\"}, {\"fanta_team\": \"Rione Monti\", \"role\": \"D\", \"player\": \"Lazzari\", \"team\": \"Lazio\", \"opponent\": \"Genoa\", \"date\": \"2022-04-10T00:00:00\", \"expected_bonus\": 0.2723441, \"true_bonus\": 1.0, \"error\": -0.7276559, \"error_type\": \"underestimated\"}, {\"fanta_team\": \"Rione Monti\", \"role\": \"D\", \"player\": \"Singo\", \"team\": \"Torino\", \"opponent\": \"AC Milan\", \"date\": \"2022-04-10T00:00:00\", \"expected_bonus\": 0.26436302, \"true_bonus\": 0.0, \"error\": 0.26436302, \"error_type\": \"overestimated\"}, {\"fanta_team\": \"Rione Monti\", \"role\": \"D\", \"player\": \"Biraghi\", \"team\": \"Fiorentina\", \"opponent\": \"Napoli\", \"date\": \"2022-04-10T00:00:00\", \"expected_bonus\": 0.22340855, \"true_bonus\": 0.0, \"error\": 0.22340855, \"error_type\": \"overestimated\"}, {\"fanta_team\": \"Rione Monti\", \"role\": \"D\", \"player\": \"Bastoni\", \"team\": \"Spezia\", \"opponent\": \"Empoli\", \"date\": \"2022-04-09T00:00:00\", \"expected_bonus\": 0.2217067, \"true_bonus\": 0.0, \"error\": 0.2217067, \"error_type\": \"overestimated\"}, {\"fanta_team\": \"Rione Monti\", \"role\": \"D\", \"player\": \"Pezzella\", \"team\": \"Atalanta\", \"opponent\": \"Sassuolo\", \"date\": \"2022-04-10T00:00:00\", \"expected_bonus\": 0.14733951, \"true_bonus\": 0.0, \"error\": 0.14733951, \"error_type\": \"overestimated\"}, {\"fanta_team\": \"Rione Monti\", \"role\": \"C\", \"player\": \"Zaniolo\", \"team\": \"Roma\", \"opponent\": \"Salernitana\", \"date\": \"2022-04-10T00:00:00\", \"expected_bonus\": 0.8819771, \"true_bonus\": 0.0, \"error\": 0.8819771, \"error_type\": \"overestimated\"}, {\"fanta_team\": \"Rione Monti\", \"role\": \"C\", \"player\": \"Anderson\", \"team\": \"Lazio\", \"opponent\": \"Genoa\", \"date\": \"2022-04-10T00:00:00\", \"expected_bonus\": 0.67044955, \"true_bonus\": 0.0, \"error\": 0.67044955, \"error_type\": \"overestimated\"}, {\"fanta_team\": \"Rione Monti\", \"role\": \"C\", \"player\": \"Henderson\", \"team\": \"Empoli\", \"opponent\": \"Spezia\", \"date\": \"2022-04-09T00:00:00\", \"expected_bonus\": 0.4925124, \"true_bonus\": 0.0, \"error\": 0.4925124, \"error_type\": \"overestimated\"}, {\"fanta_team\": \"Rione Monti\", \"role\": \"C\", \"player\": \"Tameze\", \"team\": \"Verona\", \"opponent\": \"Inter\", \"date\": \"2022-04-09T00:00:00\", \"expected_bonus\": -0.02706142, \"true_bonus\": 0.0, \"error\": -0.02706142, \"error_type\": \"underestimated\"}, {\"fanta_team\": \"Rione Monti\", \"role\": \"A\", \"player\": \"Dzeko\", \"team\": \"Inter\", \"opponent\": \"Verona\", \"date\": \"2022-04-09T00:00:00\", \"expected_bonus\": 1.8089664, \"true_bonus\": 3.0, \"error\": -1.1910336, \"error_type\": \"underestimated\"}, {\"fanta_team\": \"Rione Monti\", \"role\": \"A\", \"player\": \"Pinamonti\", \"team\": \"Empoli\", \"opponent\": \"Spezia\", \"date\": \"2022-04-09T00:00:00\", \"expected_bonus\": 1.5442754, \"true_bonus\": 0.0, \"error\": 1.5442754, \"error_type\": \"overestimated\"}, {\"fanta_team\": \"Rione Monti\", \"role\": \"A\", \"player\": \"Pedro\", \"team\": \"Lazio\", \"opponent\": \"Genoa\", \"date\": \"2022-04-10T00:00:00\", \"expected_bonus\": 0.99004936, \"true_bonus\": 1.0, \"error\": -0.00995064000000001, \"error_type\": \"underestimated\"}, {\"fanta_team\": \"Rione Monti\", \"role\": \"A\", \"player\": \"Raspadori\", \"team\": \"Sassuolo\", \"opponent\": \"Atalanta\", \"date\": \"2022-04-10T00:00:00\", \"expected_bonus\": 0.8825892, \"true_bonus\": 0.0, \"error\": 0.8825892, \"error_type\": \"overestimated\"}, {\"fanta_team\": \"Rione Monti\", \"role\": \"A\", \"player\": \"Afena-Gyan\", \"team\": \"Roma\", \"opponent\": \"Salernitana\", \"date\": \"2022-04-10T00:00:00\", \"expected_bonus\": 0.8487222, \"true_bonus\": 0.0, \"error\": 0.8487222, \"error_type\": \"overestimated\"}]}}, {\"actions\": false, \"mode\": \"vega-lite\"});\n</script>",
      "text/plain": "alt.Chart(...)"
     },
     "metadata": {}
    }
   ]
  },
  {
   "cell_type": "code",
   "metadata": {
    "cell_id": "e564bc39-b966-4695-b67e-63287438ee0d",
    "tags": [],
    "deepnote_to_be_reexecuted": true,
    "source_hash": "96119dd1",
    "execution_start": 1649826670888,
    "execution_millis": 1,
    "deepnote_cell_type": "code"
   },
   "source": "team, index = display_fanta_squad(validation, teams, index)",
   "execution_count": null,
   "outputs": []
  },
  {
   "cell_type": "code",
   "source": "_deepnote_run_altair(team, \"\"\"{\"$schema\":\"https://vega.github.io/schema/vega-lite/v4.json\",\"mark\":{\"type\":\"bar\",\"tooltip\":{\"content\":\"data\"}},\"height\":220,\"autosize\":{\"type\":\"fit\"},\"data\":{\"name\":\"placeholder\"},\"encoding\":{\"x\":{\"field\":\"error\",\"type\":\"quantitative\",\"sort\":null,\"scale\":{\"type\":\"linear\",\"zero\":false}},\"y\":{\"field\":\"player\",\"type\":\"nominal\",\"sort\":null,\"scale\":{\"type\":\"linear\",\"zero\":true}},\"color\":{\"field\":\"error_type\",\"type\":\"nominal\",\"sort\":null,\"scale\":{\"type\":\"linear\",\"zero\":false}}}}\"\"\")",
   "metadata": {
    "cell_id": "00035-6e8061f6-136b-4e33-8405-ebc568f30fab",
    "deepnote_variable_name": "team",
    "deepnote_visualization_spec": {
     "$schema": "https://vega.github.io/schema/vega-lite/v4.json",
     "mark": {
      "type": "bar",
      "tooltip": {
       "content": "data"
      }
     },
     "height": 220,
     "autosize": {
      "type": "fit"
     },
     "data": {
      "name": "placeholder"
     },
     "encoding": {
      "x": {
       "field": "error",
       "type": "quantitative",
       "sort": null,
       "scale": {
        "type": "linear",
        "zero": false
       }
      },
      "y": {
       "field": "player",
       "type": "nominal",
       "sort": null,
       "scale": {
        "type": "linear",
        "zero": true
       }
      },
      "color": {
       "field": "error_type",
       "type": "nominal",
       "sort": null,
       "scale": {
        "type": "linear",
        "zero": false
       }
      }
     }
    },
    "deepnote_to_be_reexecuted": true,
    "source_hash": "81b9fc1a",
    "allow_embed": "output",
    "execution_start": 1649826670889,
    "execution_millis": 53,
    "deepnote_cell_type": "visualization",
    "deepnote_output_heights": [
     314
    ]
   },
   "execution_count": null,
   "outputs": [
    {
     "output_type": "execute_result",
     "execution_count": 37,
     "data": {
      "text/html": "\n<div id=\"altair-viz-427a0186c0344b44be9730f671170d7e\"></div>\n<script type=\"text/javascript\">\n  (function(spec, embedOpt){\n    let outputDiv = document.currentScript.previousElementSibling;\n    if (outputDiv.id !== \"altair-viz-427a0186c0344b44be9730f671170d7e\") {\n      outputDiv = document.getElementById(\"altair-viz-427a0186c0344b44be9730f671170d7e\");\n    }\n    const paths = {\n      \"vega\": \"https://cdn.jsdelivr.net/npm//vega@5?noext\",\n      \"vega-lib\": \"https://cdn.jsdelivr.net/npm//vega-lib?noext\",\n      \"vega-lite\": \"https://cdn.jsdelivr.net/npm//vega-lite@4.8.1?noext\",\n      \"vega-embed\": \"https://cdn.jsdelivr.net/npm//vega-embed@6?noext\",\n    };\n\n    function loadScript(lib) {\n      return new Promise(function(resolve, reject) {\n        var s = document.createElement('script');\n        s.src = paths[lib];\n        s.async = true;\n        s.onload = () => resolve(paths[lib]);\n        s.onerror = () => reject(`Error loading script: ${paths[lib]}`);\n        document.getElementsByTagName(\"head\")[0].appendChild(s);\n      });\n    }\n\n    function showError(err) {\n      outputDiv.innerHTML = `<div class=\"error\" style=\"color:red;\">${err}</div>`;\n      throw err;\n    }\n\n    function displayChart(vegaEmbed) {\n      vegaEmbed(outputDiv, spec, embedOpt)\n        .catch(err => showError(`Javascript Error: ${err.message}<br>This usually means there's a typo in your chart specification. See the javascript console for the full traceback.`));\n    }\n\n    if(typeof define === \"function\" && define.amd) {\n      requirejs.config({paths});\n      require([\"vega-embed\"], displayChart, err => showError(`Error loading script: ${err.message}`));\n    } else if (typeof vegaEmbed === \"function\") {\n      displayChart(vegaEmbed);\n    } else {\n      loadScript(\"vega\")\n        .then(() => loadScript(\"vega-lite\"))\n        .then(() => loadScript(\"vega-embed\"))\n        .catch(showError)\n        .then(() => displayChart(vegaEmbed));\n    }\n  })({\"config\": {\"view\": {\"continuousWidth\": 400, \"continuousHeight\": 300}, \"area\": {\"fill\": \"#51C0E9\"}, \"axis\": {\"labelFont\": \"Inter, sans-serif\", \"labelFontSize\": 12, \"labelFontWeight\": \"normal\", \"labelLimit\": 60, \"labelOverlap\": \"greedy\", \"titleFont\": \"Inter, sans-serif\", \"titleFontSize\": 12, \"titleFontWeight\": \"bold\"}, \"background\": \"#ffffff\", \"legend\": {\"labelFont\": \"Inter, sans-serif\", \"labelFontSize\": 12, \"titleFont\": \"Inter, sans-serif\", \"titleFontSize\": 12, \"titleFontWeight\": \"bold\"}, \"line\": {\"stroke\": \"#51C0E9\", \"strokeWidth\": 2}, \"rect\": {\"fill\": \"#51C0E9\"}, \"title\": {\"anchor\": \"start\", \"color\": \"#000000\", \"font\": \"Inter, sans-serif\", \"fontSize\": 22, \"fontWeight\": \"normal\"}}, \"data\": {\"name\": \"data-3d978f15b17ab7d45a1acf5a2447b86f\"}, \"mark\": {\"type\": \"bar\", \"tooltip\": {\"content\": \"data\"}}, \"autosize\": {\"type\": \"fit\"}, \"encoding\": {\"color\": {\"type\": \"nominal\", \"field\": \"error_type\", \"scale\": {\"type\": \"linear\", \"zero\": false}, \"sort\": null}, \"x\": {\"type\": \"quantitative\", \"field\": \"error\", \"scale\": {\"type\": \"linear\", \"zero\": false}, \"sort\": null}, \"y\": {\"type\": \"nominal\", \"field\": \"player\", \"scale\": {\"type\": \"linear\", \"zero\": true}, \"sort\": null}}, \"height\": 300, \"width\": \"container\", \"$schema\": \"https://vega.github.io/schema/vega-lite/v4.json\", \"datasets\": {\"data-3d978f15b17ab7d45a1acf5a2447b86f\": [{\"fanta_team\": \"Scansuolo \", \"role\": \"D\", \"player\": \"Karsdorp\", \"team\": \"Roma\", \"opponent\": \"Salernitana\", \"date\": \"2022-04-10T00:00:00\", \"expected_bonus\": 0.3695453, \"true_bonus\": 0.0, \"error\": 0.3695453, \"error_type\": \"overestimated\"}, {\"fanta_team\": \"Scansuolo \", \"role\": \"D\", \"player\": \"Demiral\", \"team\": \"Atalanta\", \"opponent\": \"Sassuolo\", \"date\": \"2022-04-10T00:00:00\", \"expected_bonus\": 0.3298479, \"true_bonus\": 0.0, \"error\": 0.3298479, \"error_type\": \"overestimated\"}, {\"fanta_team\": \"Scansuolo \", \"role\": \"D\", \"player\": \"Hysaj\", \"team\": \"Lazio\", \"opponent\": \"Genoa\", \"date\": \"2022-04-10T00:00:00\", \"expected_bonus\": 0.25315022, \"true_bonus\": 0.0, \"error\": 0.25315022, \"error_type\": \"overestimated\"}, {\"fanta_team\": \"Scansuolo \", \"role\": \"D\", \"player\": \"Koulibaly\", \"team\": \"Napoli\", \"opponent\": \"Fiorentina\", \"date\": \"2022-04-10T00:00:00\", \"expected_bonus\": 0.24464457, \"true_bonus\": 0.0, \"error\": 0.24464457, \"error_type\": \"overestimated\"}, {\"fanta_team\": \"Scansuolo \", \"role\": \"D\", \"player\": \"Vojvoda\", \"team\": \"Torino\", \"opponent\": \"AC Milan\", \"date\": \"2022-04-10T00:00:00\", \"expected_bonus\": 0.225292, \"true_bonus\": 0.0, \"error\": 0.225292, \"error_type\": \"overestimated\"}, {\"fanta_team\": \"Scansuolo \", \"role\": \"D\", \"player\": \"Hickey\", \"team\": \"Bologna\", \"opponent\": \"Sampdoria\", \"date\": \"2022-04-11T00:00:00\", \"expected_bonus\": 0.19730568, \"true_bonus\": 0.0, \"error\": 0.19730568, \"error_type\": \"overestimated\"}, {\"fanta_team\": \"Scansuolo \", \"role\": \"C\", \"player\": \"Pessina\", \"team\": \"Atalanta\", \"opponent\": \"Sassuolo\", \"date\": \"2022-04-10T00:00:00\", \"expected_bonus\": 0.6620297, \"true_bonus\": 0.0, \"error\": 0.6620297, \"error_type\": \"overestimated\"}, {\"fanta_team\": \"Scansuolo \", \"role\": \"C\", \"player\": \"Zaccagni\", \"team\": \"Lazio\", \"opponent\": \"Genoa\", \"date\": \"2022-04-10T00:00:00\", \"expected_bonus\": 0.6613969, \"true_bonus\": 0.0, \"error\": 0.6613969, \"error_type\": \"overestimated\"}, {\"fanta_team\": \"Scansuolo \", \"role\": \"C\", \"player\": \"Zurkowski\", \"team\": \"Empoli\", \"opponent\": \"Spezia\", \"date\": \"2022-04-09T00:00:00\", \"expected_bonus\": 0.46800008, \"true_bonus\": 0.0, \"error\": 0.46800008, \"error_type\": \"overestimated\"}, {\"fanta_team\": \"Scansuolo \", \"role\": \"C\", \"player\": \"Messias\", \"team\": \"AC Milan\", \"opponent\": \"Torino\", \"date\": \"2022-04-10T00:00:00\", \"expected_bonus\": 0.44974378, \"true_bonus\": 0.0, \"error\": 0.44974378, \"error_type\": \"overestimated\"}, {\"fanta_team\": \"Scansuolo \", \"role\": \"C\", \"player\": \"Diaz\", \"team\": \"AC Milan\", \"opponent\": \"Torino\", \"date\": \"2022-04-10T00:00:00\", \"expected_bonus\": 0.4396949, \"true_bonus\": 0.0, \"error\": 0.4396949, \"error_type\": \"overestimated\"}, {\"fanta_team\": \"Scansuolo \", \"role\": \"C\", \"player\": \"Koopmeiners\", \"team\": \"Atalanta\", \"opponent\": \"Sassuolo\", \"date\": \"2022-04-10T00:00:00\", \"expected_bonus\": 0.26119906, \"true_bonus\": 0.0, \"error\": 0.26119906, \"error_type\": \"overestimated\"}, {\"fanta_team\": \"Scansuolo \", \"role\": \"C\", \"player\": \"Ilic\", \"team\": \"Verona\", \"opponent\": \"Inter\", \"date\": \"2022-04-09T00:00:00\", \"expected_bonus\": 0.093034826, \"true_bonus\": 0.0, \"error\": 0.093034826, \"error_type\": \"overestimated\"}, {\"fanta_team\": \"Scansuolo \", \"role\": \"C\", \"player\": \"Traore\", \"team\": \"Sassuolo\", \"opponent\": \"Atalanta\", \"date\": \"2022-04-10T00:00:00\", \"expected_bonus\": 0.018268468, \"true_bonus\": 6.0, \"error\": -5.981731532, \"error_type\": \"underestimated\"}, {\"fanta_team\": \"Scansuolo \", \"role\": \"A\", \"player\": \"Immobile\", \"team\": \"Lazio\", \"opponent\": \"Genoa\", \"date\": \"2022-04-10T00:00:00\", \"expected_bonus\": 2.0335038, \"true_bonus\": 9.0, \"error\": -6.9664962, \"error_type\": \"underestimated\"}, {\"fanta_team\": \"Scansuolo \", \"role\": \"A\", \"player\": \"Scamacca\", \"team\": \"Sassuolo\", \"opponent\": \"Atalanta\", \"date\": \"2022-04-10T00:00:00\", \"expected_bonus\": 1.0970907, \"true_bonus\": 0.0, \"error\": 1.0970907, \"error_type\": \"overestimated\"}, {\"fanta_team\": \"Scansuolo \", \"role\": \"A\", \"player\": \"Pedro\", \"team\": \"Cagliari\", \"opponent\": \"Juventus\", \"date\": \"2022-04-09T00:00:00\", \"expected_bonus\": 0.8985598, \"true_bonus\": 3.0, \"error\": -2.1014402, \"error_type\": \"underestimated\"}, {\"fanta_team\": \"Scansuolo \", \"role\": \"A\", \"player\": \"Le\\u00e3o\", \"team\": \"AC Milan\", \"opponent\": \"Torino\", \"date\": \"2022-04-10T00:00:00\", \"expected_bonus\": 0.7803576, \"true_bonus\": 0.0, \"error\": 0.7803576, \"error_type\": \"overestimated\"}]}}, {\"actions\": false, \"mode\": \"vega-lite\"});\n</script>",
      "text/plain": "alt.Chart(...)"
     },
     "metadata": {}
    }
   ]
  },
  {
   "cell_type": "code",
   "metadata": {
    "cell_id": "7e542268-7db2-427b-aec4-69e65596aecd",
    "tags": [],
    "deepnote_to_be_reexecuted": true,
    "source_hash": "96119dd1",
    "execution_start": 1649826670943,
    "execution_millis": 6,
    "deepnote_cell_type": "code"
   },
   "source": "team, index = display_fanta_squad(validation, teams, index)",
   "execution_count": null,
   "outputs": []
  },
  {
   "cell_type": "code",
   "source": "_deepnote_run_altair(team, \"\"\"{\"$schema\":\"https://vega.github.io/schema/vega-lite/v4.json\",\"mark\":{\"type\":\"bar\",\"tooltip\":{\"content\":\"data\"}},\"height\":220,\"autosize\":{\"type\":\"fit\"},\"data\":{\"name\":\"placeholder\"},\"encoding\":{\"x\":{\"field\":\"error\",\"type\":\"quantitative\",\"sort\":null,\"scale\":{\"type\":\"linear\",\"zero\":false}},\"y\":{\"field\":\"player\",\"type\":\"nominal\",\"sort\":null,\"scale\":{\"type\":\"linear\",\"zero\":true}},\"color\":{\"field\":\"error_type\",\"type\":\"nominal\",\"sort\":null,\"scale\":{\"type\":\"linear\",\"zero\":false}}}}\"\"\")",
   "metadata": {
    "cell_id": "00037-4755771f-51fc-4587-9023-788197e39785",
    "deepnote_variable_name": "team",
    "deepnote_visualization_spec": {
     "$schema": "https://vega.github.io/schema/vega-lite/v4.json",
     "mark": {
      "type": "bar",
      "tooltip": {
       "content": "data"
      }
     },
     "height": 220,
     "autosize": {
      "type": "fit"
     },
     "data": {
      "name": "placeholder"
     },
     "encoding": {
      "x": {
       "field": "error",
       "type": "quantitative",
       "sort": null,
       "scale": {
        "type": "linear",
        "zero": false
       }
      },
      "y": {
       "field": "player",
       "type": "nominal",
       "sort": null,
       "scale": {
        "type": "linear",
        "zero": true
       }
      },
      "color": {
       "field": "error_type",
       "type": "nominal",
       "sort": null,
       "scale": {
        "type": "linear",
        "zero": false
       }
      }
     }
    },
    "deepnote_to_be_reexecuted": true,
    "source_hash": "81b9fc1a",
    "allow_embed": "output",
    "execution_start": 1649826670974,
    "execution_millis": 55,
    "deepnote_cell_type": "visualization",
    "deepnote_output_heights": [
     314
    ]
   },
   "execution_count": null,
   "outputs": [
    {
     "output_type": "execute_result",
     "execution_count": 39,
     "data": {
      "text/html": "\n<div id=\"altair-viz-aac6aad1221349de9e72d9bfe68e45c6\"></div>\n<script type=\"text/javascript\">\n  (function(spec, embedOpt){\n    let outputDiv = document.currentScript.previousElementSibling;\n    if (outputDiv.id !== \"altair-viz-aac6aad1221349de9e72d9bfe68e45c6\") {\n      outputDiv = document.getElementById(\"altair-viz-aac6aad1221349de9e72d9bfe68e45c6\");\n    }\n    const paths = {\n      \"vega\": \"https://cdn.jsdelivr.net/npm//vega@5?noext\",\n      \"vega-lib\": \"https://cdn.jsdelivr.net/npm//vega-lib?noext\",\n      \"vega-lite\": \"https://cdn.jsdelivr.net/npm//vega-lite@4.8.1?noext\",\n      \"vega-embed\": \"https://cdn.jsdelivr.net/npm//vega-embed@6?noext\",\n    };\n\n    function loadScript(lib) {\n      return new Promise(function(resolve, reject) {\n        var s = document.createElement('script');\n        s.src = paths[lib];\n        s.async = true;\n        s.onload = () => resolve(paths[lib]);\n        s.onerror = () => reject(`Error loading script: ${paths[lib]}`);\n        document.getElementsByTagName(\"head\")[0].appendChild(s);\n      });\n    }\n\n    function showError(err) {\n      outputDiv.innerHTML = `<div class=\"error\" style=\"color:red;\">${err}</div>`;\n      throw err;\n    }\n\n    function displayChart(vegaEmbed) {\n      vegaEmbed(outputDiv, spec, embedOpt)\n        .catch(err => showError(`Javascript Error: ${err.message}<br>This usually means there's a typo in your chart specification. See the javascript console for the full traceback.`));\n    }\n\n    if(typeof define === \"function\" && define.amd) {\n      requirejs.config({paths});\n      require([\"vega-embed\"], displayChart, err => showError(`Error loading script: ${err.message}`));\n    } else if (typeof vegaEmbed === \"function\") {\n      displayChart(vegaEmbed);\n    } else {\n      loadScript(\"vega\")\n        .then(() => loadScript(\"vega-lite\"))\n        .then(() => loadScript(\"vega-embed\"))\n        .catch(showError)\n        .then(() => displayChart(vegaEmbed));\n    }\n  })({\"config\": {\"view\": {\"continuousWidth\": 400, \"continuousHeight\": 300}, \"area\": {\"fill\": \"#51C0E9\"}, \"axis\": {\"labelFont\": \"Inter, sans-serif\", \"labelFontSize\": 12, \"labelFontWeight\": \"normal\", \"labelLimit\": 60, \"labelOverlap\": \"greedy\", \"titleFont\": \"Inter, sans-serif\", \"titleFontSize\": 12, \"titleFontWeight\": \"bold\"}, \"background\": \"#ffffff\", \"legend\": {\"labelFont\": \"Inter, sans-serif\", \"labelFontSize\": 12, \"titleFont\": \"Inter, sans-serif\", \"titleFontSize\": 12, \"titleFontWeight\": \"bold\"}, \"line\": {\"stroke\": \"#51C0E9\", \"strokeWidth\": 2}, \"rect\": {\"fill\": \"#51C0E9\"}, \"title\": {\"anchor\": \"start\", \"color\": \"#000000\", \"font\": \"Inter, sans-serif\", \"fontSize\": 22, \"fontWeight\": \"normal\"}}, \"data\": {\"name\": \"data-5ae9ffe01963a1696f8e62cf93c8a9fd\"}, \"mark\": {\"type\": \"bar\", \"tooltip\": {\"content\": \"data\"}}, \"autosize\": {\"type\": \"fit\"}, \"encoding\": {\"color\": {\"type\": \"nominal\", \"field\": \"error_type\", \"scale\": {\"type\": \"linear\", \"zero\": false}, \"sort\": null}, \"x\": {\"type\": \"quantitative\", \"field\": \"error\", \"scale\": {\"type\": \"linear\", \"zero\": false}, \"sort\": null}, \"y\": {\"type\": \"nominal\", \"field\": \"player\", \"scale\": {\"type\": \"linear\", \"zero\": true}, \"sort\": null}}, \"height\": 300, \"width\": \"container\", \"$schema\": \"https://vega.github.io/schema/vega-lite/v4.json\", \"datasets\": {\"data-5ae9ffe01963a1696f8e62cf93c8a9fd\": [{\"fanta_team\": \"ssc mozzarella\", \"role\": \"D\", \"player\": \"Dumfries\", \"team\": \"Inter\", \"opponent\": \"Verona\", \"date\": \"2022-04-09T00:00:00\", \"expected_bonus\": 0.6767885, \"true_bonus\": 0.0, \"error\": 0.6767885, \"error_type\": \"overestimated\"}, {\"fanta_team\": \"ssc mozzarella\", \"role\": \"D\", \"player\": \"Smalling\", \"team\": \"Roma\", \"opponent\": \"Salernitana\", \"date\": \"2022-04-10T00:00:00\", \"expected_bonus\": 0.32531488, \"true_bonus\": 3.0, \"error\": -2.67468512, \"error_type\": \"underestimated\"}, {\"fanta_team\": \"ssc mozzarella\", \"role\": \"D\", \"player\": \"Rui\", \"team\": \"Napoli\", \"opponent\": \"Fiorentina\", \"date\": \"2022-04-10T00:00:00\", \"expected_bonus\": 0.3223483, \"true_bonus\": 1.0, \"error\": -0.6776517, \"error_type\": \"underestimated\"}, {\"fanta_team\": \"ssc mozzarella\", \"role\": \"D\", \"player\": \"Iba\\u00f1ez\", \"team\": \"Roma\", \"opponent\": \"Salernitana\", \"date\": \"2022-04-10T00:00:00\", \"expected_bonus\": 0.31079382, \"true_bonus\": 0.0, \"error\": 0.31079382, \"error_type\": \"overestimated\"}, {\"fanta_team\": \"ssc mozzarella\", \"role\": \"D\", \"player\": \"Theate\", \"team\": \"Bologna\", \"opponent\": \"Sampdoria\", \"date\": \"2022-04-11T00:00:00\", \"expected_bonus\": 0.22753543, \"true_bonus\": 0.0, \"error\": 0.22753543, \"error_type\": \"overestimated\"}, {\"fanta_team\": \"ssc mozzarella\", \"role\": \"D\", \"player\": \"Tomori\", \"team\": \"AC Milan\", \"opponent\": \"Torino\", \"date\": \"2022-04-10T00:00:00\", \"expected_bonus\": 0.08236616, \"true_bonus\": 0.0, \"error\": 0.08236616, \"error_type\": \"overestimated\"}, {\"fanta_team\": \"ssc mozzarella\", \"role\": \"C\", \"player\": \"Mkhitaryan\", \"team\": \"Roma\", \"opponent\": \"Salernitana\", \"date\": \"2022-04-10T00:00:00\", \"expected_bonus\": 0.964385, \"true_bonus\": 1.0, \"error\": -0.03561499999999995, \"error_type\": \"underestimated\"}, {\"fanta_team\": \"ssc mozzarella\", \"role\": \"C\", \"player\": \"Fabi\\u00e1n\", \"team\": \"Napoli\", \"opponent\": \"Fiorentina\", \"date\": \"2022-04-10T00:00:00\", \"expected_bonus\": 0.36441895, \"true_bonus\": 0.0, \"error\": 0.36441895, \"error_type\": \"overestimated\"}, {\"fanta_team\": \"ssc mozzarella\", \"role\": \"C\", \"player\": \"Lobotka\", \"team\": \"Napoli\", \"opponent\": \"Fiorentina\", \"date\": \"2022-04-10T00:00:00\", \"expected_bonus\": 0.16767621, \"true_bonus\": 0.0, \"error\": 0.16767621, \"error_type\": \"overestimated\"}, {\"fanta_team\": \"ssc mozzarella\", \"role\": \"C\", \"player\": \"Lopez\", \"team\": \"Sassuolo\", \"opponent\": \"Atalanta\", \"date\": \"2022-04-10T00:00:00\", \"expected_bonus\": 0.13446933, \"true_bonus\": 1.0, \"error\": -0.8655306700000001, \"error_type\": \"underestimated\"}, {\"fanta_team\": \"ssc mozzarella\", \"role\": \"A\", \"player\": \"Osimhen\", \"team\": \"Napoli\", \"opponent\": \"Fiorentina\", \"date\": \"2022-04-10T00:00:00\", \"expected_bonus\": 1.3363161, \"true_bonus\": 4.0, \"error\": -2.6636839, \"error_type\": \"underestimated\"}, {\"fanta_team\": \"ssc mozzarella\", \"role\": \"A\", \"player\": \"Caprari\", \"team\": \"Verona\", \"opponent\": \"Inter\", \"date\": \"2022-04-09T00:00:00\", \"expected_bonus\": 0.7750819, \"true_bonus\": 0.0, \"error\": 0.7750819, \"error_type\": \"overestimated\"}, {\"fanta_team\": \"ssc mozzarella\", \"role\": \"A\", \"player\": \"Pavoletti\", \"team\": \"Cagliari\", \"opponent\": \"Juventus\", \"date\": \"2022-04-09T00:00:00\", \"expected_bonus\": 0.3577103, \"true_bonus\": 0.0, \"error\": 0.3577103, \"error_type\": \"overestimated\"}, {\"fanta_team\": \"ssc mozzarella\", \"role\": \"A\", \"player\": \"Politano\", \"team\": \"Napoli\", \"opponent\": \"Fiorentina\", \"date\": \"2022-04-10T00:00:00\", \"expected_bonus\": 0.34190986, \"true_bonus\": 0.0, \"error\": 0.34190986, \"error_type\": \"overestimated\"}]}}, {\"actions\": false, \"mode\": \"vega-lite\"});\n</script>",
      "text/plain": "alt.Chart(...)"
     },
     "metadata": {}
    }
   ]
  },
  {
   "cell_type": "code",
   "metadata": {
    "cell_id": "d16b87cb-3aed-4250-9e4e-9057c5bdbba9",
    "tags": [],
    "deepnote_to_be_reexecuted": true,
    "source_hash": "1e932bb3",
    "execution_start": 1649826671031,
    "execution_millis": 1360,
    "deepnote_cell_type": "code"
   },
   "source": "!git add *",
   "execution_count": null,
   "outputs": []
  },
  {
   "cell_type": "code",
   "metadata": {
    "cell_id": "55dad338-ddad-4d97-aa50-d8b65c93b7dc",
    "tags": [],
    "deepnote_to_be_reexecuted": true,
    "source_hash": "5c664a09",
    "execution_start": 1649826672406,
    "execution_millis": 1262,
    "deepnote_cell_type": "code"
   },
   "source": "!git commit -m 'Add gameweek results'",
   "execution_count": null,
   "outputs": [
    {
     "name": "stdout",
     "text": "[master ea93437] Add gameweek results\n Committer: root <root@p-82f6a53d-2812-4762-aa0b-0b8fac2a34e3.projects-domain.projects.svc.cluster.local>\nYour name and email address were configured automatically based\non your username and hostname. Please check that they are accurate.\nYou can suppress this message by setting them explicitly. Run the\nfollowing command and follow the instructions in your editor to edit\nyour configuration file:\n\n    git config --global --edit\n\nAfter doing this, you may fix the identity used for this commit with:\n\n    git commit --amend --reset-author\n\n 24 files changed, 446 insertions(+), 235 deletions(-)\n create mode 100644 data/outputs/prediction/fanta-camplus-citta-studi/gameweek_32.csv\n create mode 100644 data/outputs/validation/fanta-camplus-citta-studi/gameweek_31.csv\n",
     "output_type": "stream"
    }
   ]
  },
  {
   "cell_type": "code",
   "metadata": {
    "cell_id": "b9faaae9-52a5-4af2-81e3-f6775c6857d0",
    "tags": [],
    "deepnote_to_be_reexecuted": true,
    "source_hash": "83d9be73",
    "execution_start": 1649826673472,
    "execution_millis": 3262,
    "deepnote_cell_type": "code"
   },
   "source": "!git push -u origin master",
   "execution_count": null,
   "outputs": [
    {
     "name": "stdout",
     "text": "Enumerating objects: 104, done.\nCounting objects: 100% (104/104), done.\nDelta compression using up to 4 threads\nCompressing objects: 100% (68/68), done.\nWriting objects: 100% (72/72), 34.55 KiB | 2.88 MiB/s, done.\nTotal 72 (delta 55), reused 0 (delta 0)\nremote: Resolving deltas: 100% (55/55), completed with 26 local objects.\u001b[K\nTo https://github.com/Zatfer17/serie-a-lineups.git\n   43de69b..ea93437  master -> master\nBranch 'master' set up to track remote branch 'master' from 'origin'.\n",
     "output_type": "stream"
    }
   ]
  },
  {
   "cell_type": "markdown",
   "source": "<a style='text-decoration:none;line-height:16px;display:flex;color:#5B5B62;padding:10px;justify-content:end;' href='https://deepnote.com?utm_source=created-in-deepnote-cell&projectId=82f6a53d-2812-4762-aa0b-0b8fac2a34e3' target=\"_blank\">\n<img alt='Created in deepnote.com' style='display:inline;max-height:16px;margin:0px;margin-right:7.5px;' src='data:image/svg+xml;base64,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' > </img>\nCreated in <span style='font-weight:600;margin-left:4px;'>Deepnote</span></a>",
   "metadata": {
    "tags": [],
    "created_in_deepnote_cell": true,
    "deepnote_cell_type": "markdown"
   }
  }
 ],
 "nbformat": 4,
 "nbformat_minor": 2,
 "metadata": {
  "orig_nbformat": 2,
  "deepnote": {
   "is_reactive": false
  },
  "deepnote_notebook_id": "3f2f3cdc-e7c2-49e4-a3b0-2257581bb9c0",
  "deepnote_execution_queue": [
   {
    "cellId": "44571e9e-e8b2-407a-85b9-bcb406b04f31",
    "msgId": "3d72c759-fb38-4595-9072-622bad420cd0"
   },
   {
    "cellId": "fe5cb744-dcbb-4c2b-b8f4-eee4c37224da",
    "msgId": "8d25f47b-608b-47fc-a436-786f019e6469"
   },
   {
    "cellId": "5307f8bd-5ea7-466a-8190-518b8819ea5b",
    "msgId": "541ce87b-def1-4af0-a81e-cfd36382aeb6"
   },
   {
    "cellId": "d6007c66-f029-409e-aef9-6f052b6748e3",
    "msgId": "0b1c073f-958b-4d9e-ab01-7f519bfa0aff"
   },
   {
    "cellId": "7230bd13-cec2-47d3-b394-a7502968a878",
    "msgId": "cafaf096-ad40-45f4-bc34-cabadcb1e401"
   },
   {
    "cellId": "00025-5835c844-289b-4f92-b154-1d82c629a5b1",
    "msgId": "97e04358-8b88-4146-a170-463d933e0f8e"
   },
   {
    "cellId": "4b6caad3-94aa-4a54-be90-216f36213ee1",
    "msgId": "cdd4249a-4e95-442d-b9d4-ba9b9d45b0f9"
   },
   {
    "cellId": "00027-ad487baa-da0c-464f-9f9f-e9a21a67870d",
    "msgId": "727ab9ee-95d4-40fe-bbba-7444af3054cb"
   },
   {
    "cellId": "d7f08d19-70ea-42c9-b53f-af37f2745fd5",
    "msgId": "14866968-eeb4-4d8c-b731-b468cfa131df"
   },
   {
    "cellId": "00029-0f50e7b5-72d6-4b55-9d32-91160ff059b5",
    "msgId": "1e452386-cea4-4594-b599-6ed9b8885cbb"
   },
   {
    "cellId": "cc3dc8c6-dc8f-44b0-a37e-c28bcb2bd928",
    "msgId": "3fe6b11d-d81a-4d7a-b6c0-88b398d87471"
   },
   {
    "cellId": "00031-fd6a1c71-4f0b-4b0a-a71b-11423045a9e4",
    "msgId": "146a00e5-75db-475d-9ab8-6bf520c62429"
   },
   {
    "cellId": "e535efe4-693e-48a8-844c-8094b246c7ae",
    "msgId": "b10e0a20-ddc4-4c09-a74b-0f9222f11414"
   },
   {
    "cellId": "00033-a031bc55-5807-4595-ad40-c91acb5f58f5",
    "msgId": "77f4226c-f6d9-43d5-b7f0-12afdc9df4b6"
   },
   {
    "cellId": "e564bc39-b966-4695-b67e-63287438ee0d",
    "msgId": "174977cd-f4e6-4159-9d30-a17632cb2f3f"
   },
   {
    "cellId": "00035-6e8061f6-136b-4e33-8405-ebc568f30fab",
    "msgId": "d2203e39-f9ee-40d4-8038-83c410f41392"
   },
   {
    "cellId": "7e542268-7db2-427b-aec4-69e65596aecd",
    "msgId": "6e233492-92bc-4665-abaa-cde278005f6a"
   },
   {
    "cellId": "00037-4755771f-51fc-4587-9023-788197e39785",
    "msgId": "a542bec0-013a-44ea-903f-17c260b22986"
   },
   {
    "cellId": "d16b87cb-3aed-4250-9e4e-9057c5bdbba9",
    "msgId": "be45a67c-fdad-433d-b1ad-fed85a8a074b"
   },
   {
    "cellId": "55dad338-ddad-4d97-aa50-d8b65c93b7dc",
    "msgId": "58ccdeba-49bc-4a29-a92e-ad07f26621b2"
   },
   {
    "cellId": "b9faaae9-52a5-4af2-81e3-f6775c6857d0",
    "msgId": "10ba98c5-c325-4bd9-814d-aa64c8a7f3ca",
    "scheduledRun": {
     "submitted": "Wed Apr 20 2022 05:01:46 GMT+0000 (Coordinated Universal Time)"
    }
   }
  ]
 }
}