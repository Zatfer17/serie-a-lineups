{
 "cells": [
  {
   "cell_type": "code",
   "metadata": {
    "cell_id": "2e907202-ea86-4fba-81f7-cdd38cecd2b3",
    "tags": [],
    "deepnote_to_be_reexecuted": false,
    "source_hash": "adbe6457",
    "execution_start": 1645596103713,
    "execution_millis": 5867,
    "deepnote_cell_type": "code"
   },
   "source": "import json\nimport pandas as pd\n\nfrom datetime import datetime\nfrom modules.scoring import get_scoring_set, get_features, score, validate\nfrom modules.training import split_data, transform_data",
   "execution_count": 1,
   "outputs": []
  },
  {
   "cell_type": "code",
   "metadata": {
    "tags": [],
    "cell_id": "103aa6bc-980e-44d2-ba16-c4839c2ac078",
    "deepnote_to_be_reexecuted": false,
    "source_hash": "173511cd",
    "execution_start": 1645596109589,
    "execution_millis": 8,
    "deepnote_cell_type": "code"
   },
   "source": "def display_fanta_squad(predictions, teams, index):\n    fanta_team = predictions[predictions['fanta_team'] == teams[index]]\n    return fanta_team, index+1    ",
   "execution_count": 2,
   "outputs": []
  },
  {
   "cell_type": "code",
   "metadata": {
    "cell_id": "d23ee413-9026-4f27-9c72-c2440a754314",
    "tags": [],
    "deepnote_to_be_reexecuted": false,
    "source_hash": "4ed74052",
    "execution_start": 1645596109613,
    "execution_millis": 219207,
    "deepnote_cell_type": "code"
   },
   "source": "try:\n    \n    ###############################################################################################\n    status = 'Loading config ...'\n    print('{} -> {}'.format(datetime.now().strftime('%Y-%m-%d %H:%M:%S'), status))\n    with open('config/config.json') as config:\n        config = json.load(config)\n    status = 'Loading config done!'\n    print('{} -> {}'.format(datetime.now().strftime('%Y-%m-%d %H:%M:%S'), status))\n    ###############################################################################################\n\n    ###############################################################################################\n    status = 'Getting scoring set ...'\n    print('{} -> {}'.format(datetime.now().strftime('%Y-%m-%d %H:%M:%S'), status))\n    scoring_set = get_scoring_set(config['league_name'])\n    scoring_set = get_features(scoring_set, config['league_name'])\n    X_raw, metadata = split_data(scoring_set, metadata_columns=['fanta_team', 'date', 'role', 'player_id', 'player'], production=True)\n    status = 'Getting scoring set done!'\n    print('{} -> {}'.format(datetime.now().strftime('%Y-%m-%d %H:%M:%S'), status))\n    ###############################################################################################\n    \n    ###############################################################################################\n    status = 'Processing features ...'\n    print('{} -> {}'.format(datetime.now().strftime('%Y-%m-%d %H:%M:%S'), status))\n    X = transform_data(X_test_raw=X_raw, categorical_columns=['team', 'opponent', 'is_home', 'position'], production=True)\n    status = 'Processing features done!'\n    print('{} -> {}'.format(datetime.now().strftime('%Y-%m-%d %H:%M:%S'), status))\n    ###############################################################################################\n\n    ###############################################################################################\n    status = 'Scoring ...'\n    print('{} -> {}'.format(datetime.now().strftime('%Y-%m-%d %H:%M:%S'), status))\n    predictions = score(X, scoring_set, config['league_name'], config['gameweek']['current'])\n    status = 'Scoring done!'\n    print('{} -> {}'.format(datetime.now().strftime('%Y-%m-%d %H:%M:%S'), status))\n    ###############################################################################################\n\n    ###############################################################################################\n    status = 'Preparing predictions for display...'\n    print('{} -> {}'.format(datetime.now().strftime('%Y-%m-%d %H:%M:%S'), status))\n    predictions['player'] = predictions['player'].apply(lambda x: x.split(' ')[-1])\n    status = 'Preparing predictions for display done!'\n    print('{} -> {}'.format(datetime.now().strftime('%Y-%m-%d %H:%M:%S'), status))\n    ###############################################################################################\n\n    ###############################################################################################\n    status = 'Updating config ...'\n    print('{} -> {}'.format(datetime.now().strftime('%Y-%m-%d %H:%M:%S'), status))\n    config['gameweek']['current'] = config['gameweek']['current'] + 1\n    with open('config/config.json', 'w') as f:\n        json.dump(config, f, indent=4)\n    status = 'Updating config done!'\n    print('{} -> {}'.format(datetime.now().strftime('%Y-%m-%d %H:%M:%S'), status))\n    ###############################################################################################\n\nexcept Exception as e:\n    print('Exception: {}'.format(e))\n    print('Errored out during: {}'.format(status))",
   "execution_count": 3,
   "outputs": [
    {
     "name": "stdout",
     "text": "2022-02-23 06:01:49 -> Loading config ...\n2022-02-23 06:01:49 -> Loading config done!\n2022-02-23 06:01:49 -> Getting scoring set ...\n100%|██████████| 20/20 [00:15<00:00,  1.30it/s]\n100%|██████████| 176/176 [03:14<00:00,  1.11s/it]\n100%|██████████| 166/166 [00:08<00:00, 19.13it/s]\n2022-02-23 06:05:28 -> Getting scoring set done!\n2022-02-23 06:05:28 -> Processing features ...\n2022-02-23 06:05:28 -> Processing features done!\n2022-02-23 06:05:28 -> Scoring ...\n2022-02-23 06:05:28 -> Scoring done!\n2022-02-23 06:05:28 -> Preparing predictions for display...\n2022-02-23 06:05:28 -> Preparing predictions for display done!\n2022-02-23 06:05:28 -> Updating config ...\n2022-02-23 06:05:28 -> Updating config done!\n",
     "output_type": "stream"
    }
   ]
  },
  {
   "cell_type": "code",
   "source": "_deepnote_run_altair(predictions, \"\"\"{\"$schema\":\"https://vega.github.io/schema/vega-lite/v4.json\",\"mark\":{\"type\":\"bar\",\"tooltip\":{\"content\":\"data\"}},\"height\":220,\"autosize\":{\"type\":\"fit\"},\"data\":{\"name\":\"placeholder\"},\"encoding\":{\"x\":{\"field\":\"expected_bonus\",\"type\":\"quantitative\",\"sort\":null,\"scale\":{\"type\":\"linear\",\"zero\":false},\"aggregate\":\"sum\"},\"y\":{\"field\":\"fanta_team\",\"type\":\"nominal\",\"sort\":{\"order\":\"descending\",\"encoding\":\"x\"},\"scale\":{\"type\":\"linear\",\"zero\":true}},\"color\":{\"field\":\"fanta_team\",\"type\":\"nominal\",\"sort\":null,\"scale\":{\"type\":\"linear\",\"zero\":false}}}}\"\"\")",
   "metadata": {
    "cell_id": "3f73d722-4f57-4b44-9be4-166196a3d886",
    "deepnote_variable_name": "predictions",
    "deepnote_visualization_spec": {
     "$schema": "https://vega.github.io/schema/vega-lite/v4.json",
     "mark": {
      "type": "bar",
      "tooltip": {
       "content": "data"
      }
     },
     "height": 220,
     "autosize": {
      "type": "fit"
     },
     "data": {
      "name": "placeholder"
     },
     "encoding": {
      "x": {
       "field": "expected_bonus",
       "type": "quantitative",
       "sort": null,
       "scale": {
        "type": "linear",
        "zero": false
       },
       "aggregate": "sum"
      },
      "y": {
       "field": "fanta_team",
       "type": "nominal",
       "sort": {
        "order": "descending",
        "encoding": "x"
       },
       "scale": {
        "type": "linear",
        "zero": true
       }
      },
      "color": {
       "field": "fanta_team",
       "type": "nominal",
       "sort": null,
       "scale": {
        "type": "linear",
        "zero": false
       }
      }
     }
    },
    "deepnote_to_be_reexecuted": false,
    "source_hash": "425094db",
    "execution_start": 1645596328816,
    "execution_millis": 539,
    "deepnote_output_heights": [
     314
    ],
    "allow_embed": "output",
    "deepnote_cell_type": "visualization"
   },
   "execution_count": 4,
   "outputs": [
    {
     "output_type": "execute_result",
     "execution_count": 4,
     "data": {
      "text/html": "\n<div id=\"altair-viz-a3015114edfc44b291c4880a404d2793\"></div>\n<script type=\"text/javascript\">\n  (function(spec, embedOpt){\n    let outputDiv = document.currentScript.previousElementSibling;\n    if (outputDiv.id !== \"altair-viz-a3015114edfc44b291c4880a404d2793\") {\n      outputDiv = document.getElementById(\"altair-viz-a3015114edfc44b291c4880a404d2793\");\n    }\n    const paths = {\n      \"vega\": \"https://cdn.jsdelivr.net/npm//vega@5?noext\",\n      \"vega-lib\": \"https://cdn.jsdelivr.net/npm//vega-lib?noext\",\n      \"vega-lite\": \"https://cdn.jsdelivr.net/npm//vega-lite@4.8.1?noext\",\n      \"vega-embed\": \"https://cdn.jsdelivr.net/npm//vega-embed@6?noext\",\n    };\n\n    function loadScript(lib) {\n      return new Promise(function(resolve, reject) {\n        var s = document.createElement('script');\n        s.src = paths[lib];\n        s.async = true;\n        s.onload = () => resolve(paths[lib]);\n        s.onerror = () => reject(`Error loading script: ${paths[lib]}`);\n        document.getElementsByTagName(\"head\")[0].appendChild(s);\n      });\n    }\n\n    function showError(err) {\n      outputDiv.innerHTML = `<div class=\"error\" style=\"color:red;\">${err}</div>`;\n      throw err;\n    }\n\n    function displayChart(vegaEmbed) {\n      vegaEmbed(outputDiv, spec, embedOpt)\n        .catch(err => showError(`Javascript Error: ${err.message}<br>This usually means there's a typo in your chart specification. See the javascript console for the full traceback.`));\n    }\n\n    if(typeof define === \"function\" && define.amd) {\n      requirejs.config({paths});\n      require([\"vega-embed\"], displayChart, err => showError(`Error loading script: ${err.message}`));\n    } else if (typeof vegaEmbed === \"function\") {\n      displayChart(vegaEmbed);\n    } else {\n      loadScript(\"vega\")\n        .then(() => loadScript(\"vega-lite\"))\n        .then(() => loadScript(\"vega-embed\"))\n        .catch(showError)\n        .then(() => displayChart(vegaEmbed));\n    }\n  })({\"config\": {\"view\": {\"continuousWidth\": 400, \"continuousHeight\": 300}, \"area\": {\"fill\": \"#51C0E9\"}, \"axis\": {\"labelFont\": \"Inter, sans-serif\", \"labelFontSize\": 12, \"labelFontWeight\": \"normal\", \"labelLimit\": 60, \"labelOverlap\": \"greedy\", \"titleFont\": \"Inter, sans-serif\", \"titleFontSize\": 12, \"titleFontWeight\": \"bold\"}, \"background\": \"#ffffff\", \"legend\": {\"labelFont\": \"Inter, sans-serif\", \"labelFontSize\": 12, \"titleFont\": \"Inter, sans-serif\", \"titleFontSize\": 12, \"titleFontWeight\": \"bold\"}, \"line\": {\"stroke\": \"#51C0E9\", \"strokeWidth\": 2}, \"rect\": {\"fill\": \"#51C0E9\"}, \"title\": {\"anchor\": \"start\", \"color\": \"#000000\", \"font\": \"Inter, sans-serif\", \"fontSize\": 22, \"fontWeight\": \"normal\"}}, \"data\": {\"name\": \"data-dc6c82e04597fa4beb4c14222eeb0457\"}, \"mark\": {\"type\": \"bar\", \"tooltip\": {\"content\": \"data\"}}, \"autosize\": {\"type\": \"fit\"}, \"encoding\": {\"color\": {\"type\": \"nominal\", \"field\": \"fanta_team\", \"scale\": {\"type\": \"linear\", \"zero\": false}, \"sort\": null}, \"x\": {\"type\": \"quantitative\", \"aggregate\": \"sum\", \"field\": \"expected_bonus\", \"scale\": {\"type\": \"linear\", \"zero\": false}, \"sort\": null}, \"y\": {\"type\": \"nominal\", \"field\": \"fanta_team\", \"scale\": {\"type\": \"linear\", \"zero\": true}, \"sort\": {\"encoding\": \"x\", \"order\": \"descending\"}}}, \"height\": 300, \"width\": \"container\", \"$schema\": \"https://vega.github.io/schema/vega-lite/v4.json\", \"datasets\": {\"data-dc6c82e04597fa4beb4c14222eeb0457\": [{\"fanta_team\": \"ssc mozzarella\", \"role\": \"D\", \"player\": \"Dumfries\", \"team\": \"Inter\", \"opponent\": \"Genoa\", \"date\": \"2022-02-27T00:00:00\", \"expected_bonus\": 0.8798429369926453}, {\"fanta_team\": \"ssc mozzarella\", \"role\": \"D\", \"player\": \"Rui\", \"team\": \"Napoli\", \"opponent\": \"Lazio\", \"date\": \"2022-02-27T00:00:00\", \"expected_bonus\": 0.3547911047935486}, {\"fanta_team\": \"ssc mozzarella\", \"role\": \"D\", \"player\": \"Gjimshiti\", \"team\": \"Atalanta\", \"opponent\": \"Sampdoria\", \"date\": \"2022-02-27T00:00:00\", \"expected_bonus\": 0.3500082194805145}, {\"fanta_team\": \"ssc mozzarella\", \"role\": \"D\", \"player\": \"Smalling\", \"team\": \"Roma\", \"opponent\": \"Spezia\", \"date\": \"2022-02-27T00:00:00\", \"expected_bonus\": 0.24241995811462402}, {\"fanta_team\": \"ssc mozzarella\", \"role\": \"D\", \"player\": \"Iba\\u00f1ez\", \"team\": \"Roma\", \"opponent\": \"Spezia\", \"date\": \"2022-02-27T00:00:00\", \"expected_bonus\": 0.22789882123470306}, {\"fanta_team\": \"ssc mozzarella\", \"role\": \"D\", \"player\": \"Tomori\", \"team\": \"AC Milan\", \"opponent\": \"Udinese\", \"date\": \"2022-02-27T00:00:00\", \"expected_bonus\": 0.22574971616268158}, {\"fanta_team\": \"ssc mozzarella\", \"role\": \"D\", \"player\": \"Felipe\", \"team\": \"Lazio\", \"opponent\": \"Napoli\", \"date\": \"2022-02-27T00:00:00\", \"expected_bonus\": 0.13751964271068573}, {\"fanta_team\": \"ssc mozzarella\", \"role\": \"D\", \"player\": \"Theate\", \"team\": \"Bologna\", \"opponent\": \"Salernitana\", \"date\": \"2022-02-27T00:00:00\", \"expected_bonus\": 0.13269463181495667}, {\"fanta_team\": \"ssc mozzarella\", \"role\": \"C\", \"player\": \"Sottil\", \"team\": \"Fiorentina\", \"opponent\": \"Sassuolo\", \"date\": \"2022-02-27T00:00:00\", \"expected_bonus\": 0.9529491066932678}, {\"fanta_team\": \"ssc mozzarella\", \"role\": \"C\", \"player\": \"Mkhitaryan\", \"team\": \"Roma\", \"opponent\": \"Spezia\", \"date\": \"2022-02-27T00:00:00\", \"expected_bonus\": 0.8375615477561951}, {\"fanta_team\": \"ssc mozzarella\", \"role\": \"C\", \"player\": \"Fabi\\u00e1n\", \"team\": \"Napoli\", \"opponent\": \"Lazio\", \"date\": \"2022-02-27T00:00:00\", \"expected_bonus\": 0.4183637797832489}, {\"fanta_team\": \"ssc mozzarella\", \"role\": \"C\", \"player\": \"Freuler\", \"team\": \"Atalanta\", \"opponent\": \"Sampdoria\", \"date\": \"2022-02-27T00:00:00\", \"expected_bonus\": 0.32716572284698486}, {\"fanta_team\": \"ssc mozzarella\", \"role\": \"C\", \"player\": \"Torreira\", \"team\": \"Fiorentina\", \"opponent\": \"Sassuolo\", \"date\": \"2022-02-27T00:00:00\", \"expected_bonus\": 0.27006322145462036}, {\"fanta_team\": \"ssc mozzarella\", \"role\": \"C\", \"player\": \"Lobotka\", \"team\": \"Napoli\", \"opponent\": \"Lazio\", \"date\": \"2022-02-27T00:00:00\", \"expected_bonus\": 0.20011906325817108}, {\"fanta_team\": \"ssc mozzarella\", \"role\": \"C\", \"player\": \"Lopez\", \"team\": \"Sassuolo\", \"opponent\": \"Fiorentina\", \"date\": \"2022-02-27T00:00:00\", \"expected_bonus\": 0.1732262820005417}, {\"fanta_team\": \"ssc mozzarella\", \"role\": \"C\", \"player\": \"Pereyra\", \"team\": \"Udinese\", \"opponent\": \"AC Milan\", \"date\": \"2022-02-27T00:00:00\", \"expected_bonus\": 0.1470033973455429}, {\"fanta_team\": \"ssc mozzarella\", \"role\": \"A\", \"player\": \"Osimhen\", \"team\": \"Napoli\", \"opponent\": \"Lazio\", \"date\": \"2022-02-27T00:00:00\", \"expected_bonus\": 1.3221290111541748}, {\"fanta_team\": \"ssc mozzarella\", \"role\": \"A\", \"player\": \"Bonazzoli\", \"team\": \"Salernitana\", \"opponent\": \"Bologna\", \"date\": \"2022-02-27T00:00:00\", \"expected_bonus\": 1.0888086557388306}, {\"fanta_team\": \"ssc mozzarella\", \"role\": \"A\", \"player\": \"Caprari\", \"team\": \"Verona\", \"opponent\": \"Venezia\", \"date\": \"2022-02-27T00:00:00\", \"expected_bonus\": 1.0569603443145752}, {\"fanta_team\": \"ssc mozzarella\", \"role\": \"A\", \"player\": \"Gabbiadini\", \"team\": \"Sampdoria\", \"opponent\": \"Atalanta\", \"date\": \"2022-02-27T00:00:00\", \"expected_bonus\": 0.8591058850288391}, {\"fanta_team\": \"ssc mozzarella\", \"role\": \"A\", \"player\": \"Politano\", \"team\": \"Napoli\", \"opponent\": \"Lazio\", \"date\": \"2022-02-27T00:00:00\", \"expected_bonus\": 0.3844155967235565}, {\"fanta_team\": \"ssc mozzarella\", \"role\": \"A\", \"player\": \"Pavoletti\", \"team\": \"Cagliari\", \"opponent\": \"Torino\", \"date\": \"2022-02-27T00:00:00\", \"expected_bonus\": 0.3383398950099945}, {\"fanta_team\": \"Scansuolo \", \"role\": \"D\", \"player\": \"Demiral\", \"team\": \"Atalanta\", \"opponent\": \"Sampdoria\", \"date\": \"2022-02-27T00:00:00\", \"expected_bonus\": 0.4269779920578003}, {\"fanta_team\": \"Scansuolo \", \"role\": \"D\", \"player\": \"Vojvoda\", \"team\": \"Torino\", \"opponent\": \"Cagliari\", \"date\": \"2022-02-27T00:00:00\", \"expected_bonus\": 0.40293803811073303}, {\"fanta_team\": \"Scansuolo \", \"role\": \"D\", \"player\": \"Karsdorp\", \"team\": \"Roma\", \"opponent\": \"Spezia\", \"date\": \"2022-02-27T00:00:00\", \"expected_bonus\": 0.28665032982826233}, {\"fanta_team\": \"Scansuolo \", \"role\": \"D\", \"player\": \"Koulibaly\", \"team\": \"Napoli\", \"opponent\": \"Lazio\", \"date\": \"2022-02-27T00:00:00\", \"expected_bonus\": 0.25912216305732727}, {\"fanta_team\": \"Scansuolo \", \"role\": \"D\", \"player\": \"Hysaj\", \"team\": \"Lazio\", \"opponent\": \"Napoli\", \"date\": \"2022-02-27T00:00:00\", \"expected_bonus\": 0.13455286622047424}, {\"fanta_team\": \"Scansuolo \", \"role\": \"D\", \"player\": \"Hickey\", \"team\": \"Bologna\", \"opponent\": \"Salernitana\", \"date\": \"2022-02-27T00:00:00\", \"expected_bonus\": 0.10246492177248001}, {\"fanta_team\": \"Scansuolo \", \"role\": \"D\", \"player\": \"Zappa\", \"team\": \"Cagliari\", \"opponent\": \"Torino\", \"date\": \"2022-02-27T00:00:00\", \"expected_bonus\": -0.022001581266522408}, {\"fanta_team\": \"Scansuolo \", \"role\": \"C\", \"player\": \"Pessina\", \"team\": \"Atalanta\", \"opponent\": \"Sampdoria\", \"date\": \"2022-02-27T00:00:00\", \"expected_bonus\": 0.7998595833778381}, {\"fanta_team\": \"Scansuolo \", \"role\": \"C\", \"player\": \"Diaz\", \"team\": \"AC Milan\", \"opponent\": \"Udinese\", \"date\": \"2022-02-27T00:00:00\", \"expected_bonus\": 0.6744223237037659}, {\"fanta_team\": \"Scansuolo \", \"role\": \"C\", \"player\": \"Messias\", \"team\": \"AC Milan\", \"opponent\": \"Udinese\", \"date\": \"2022-02-27T00:00:00\", \"expected_bonus\": 0.6530482769012451}, {\"fanta_team\": \"Scansuolo \", \"role\": \"C\", \"player\": \"Zaccagni\", \"team\": \"Lazio\", \"opponent\": \"Napoli\", \"date\": \"2022-02-27T00:00:00\", \"expected_bonus\": 0.3761349618434906}, {\"fanta_team\": \"Scansuolo \", \"role\": \"C\", \"player\": \"Koopmeiners\", \"team\": \"Atalanta\", \"opponent\": \"Sampdoria\", \"date\": \"2022-02-27T00:00:00\", \"expected_bonus\": 0.3583291172981262}, {\"fanta_team\": \"Scansuolo \", \"role\": \"C\", \"player\": \"Zurkowski\", \"team\": \"Empoli\", \"opponent\": \"Juventus\", \"date\": \"2022-02-27T00:00:00\", \"expected_bonus\": 0.35765400528907776}, {\"fanta_team\": \"Scansuolo \", \"role\": \"C\", \"player\": \"Ilic\", \"team\": \"Verona\", \"opponent\": \"Venezia\", \"date\": \"2022-02-27T00:00:00\", \"expected_bonus\": 0.3312652111053467}, {\"fanta_team\": \"Scansuolo \", \"role\": \"C\", \"player\": \"Traore\", \"team\": \"Sassuolo\", \"opponent\": \"Fiorentina\", \"date\": \"2022-02-27T00:00:00\", \"expected_bonus\": 0.08110325038433075}, {\"fanta_team\": \"Scansuolo \", \"role\": \"A\", \"player\": \"Immobile\", \"team\": \"Lazio\", \"opponent\": \"Napoli\", \"date\": \"2022-02-27T00:00:00\", \"expected_bonus\": 1.5362595319747925}, {\"fanta_team\": \"Scansuolo \", \"role\": \"A\", \"player\": \"Scamacca\", \"team\": \"Sassuolo\", \"opponent\": \"Fiorentina\", \"date\": \"2022-02-27T00:00:00\", \"expected_bonus\": 1.2991535663604736}, {\"fanta_team\": \"Scansuolo \", \"role\": \"A\", \"player\": \"Le\\u00e3o\", \"team\": \"AC Milan\", \"opponent\": \"Udinese\", \"date\": \"2022-02-27T00:00:00\", \"expected_bonus\": 1.2670300006866455}, {\"fanta_team\": \"Scansuolo \", \"role\": \"A\", \"player\": \"Pedro\", \"team\": \"Cagliari\", \"opponent\": \"Torino\", \"date\": \"2022-02-27T00:00:00\", \"expected_bonus\": 0.9300307035446167}, {\"fanta_team\": \"Scansuolo \", \"role\": \"A\", \"player\": \"Mikael\", \"team\": \"Salernitana\", \"opponent\": \"Bologna\", \"date\": \"2022-02-27T00:00:00\", \"expected_bonus\": 0.17473042011260986}, {\"fanta_team\": \"Rione Monti\", \"role\": \"D\", \"player\": \"Maehle\", \"team\": \"Atalanta\", \"opponent\": \"Sampdoria\", \"date\": \"2022-02-27T00:00:00\", \"expected_bonus\": 0.47196751832962036}, {\"fanta_team\": \"Rione Monti\", \"role\": \"D\", \"player\": \"Bremer\", \"team\": \"Torino\", \"opponent\": \"Cagliari\", \"date\": \"2022-02-27T00:00:00\", \"expected_bonus\": 0.42231088876724243}, {\"fanta_team\": \"Rione Monti\", \"role\": \"D\", \"player\": \"Singo\", \"team\": \"Torino\", \"opponent\": \"Cagliari\", \"date\": \"2022-02-27T00:00:00\", \"expected_bonus\": 0.4108247756958008}, {\"fanta_team\": \"Rione Monti\", \"role\": \"D\", \"player\": \"Biraghi\", \"team\": \"Fiorentina\", \"opponent\": \"Sassuolo\", \"date\": \"2022-02-27T00:00:00\", \"expected_bonus\": 0.32118168473243713}, {\"fanta_team\": \"Rione Monti\", \"role\": \"D\", \"player\": \"Pezzella\", \"team\": \"Atalanta\", \"opponent\": \"Sampdoria\", \"date\": \"2022-02-27T00:00:00\", \"expected_bonus\": 0.2735816538333893}, {\"fanta_team\": \"Rione Monti\", \"role\": \"D\", \"player\": \"Bastoni\", \"team\": \"Spezia\", \"opponent\": \"Roma\", \"date\": \"2022-02-27T00:00:00\", \"expected_bonus\": 0.18663181364536285}, {\"fanta_team\": \"Rione Monti\", \"role\": \"D\", \"player\": \"Lazzari\", \"team\": \"Lazio\", \"opponent\": \"Napoli\", \"date\": \"2022-02-27T00:00:00\", \"expected_bonus\": 0.12821029126644135}, {\"fanta_team\": \"Rione Monti\", \"role\": \"D\", \"player\": \"Maitland-Niles\", \"team\": \"Roma\", \"opponent\": \"Spezia\", \"date\": \"2022-02-27T00:00:00\", \"expected_bonus\": 0.08726037293672562}, {\"fanta_team\": \"Rione Monti\", \"role\": \"C\", \"player\": \"Pellegrini\", \"team\": \"Roma\", \"opponent\": \"Spezia\", \"date\": \"2022-02-27T00:00:00\", \"expected_bonus\": 0.9765936732292175}, {\"fanta_team\": \"Rione Monti\", \"role\": \"C\", \"player\": \"Zaniolo\", \"team\": \"Roma\", \"opponent\": \"Spezia\", \"date\": \"2022-02-27T00:00:00\", \"expected_bonus\": 0.8088152408599854}, {\"fanta_team\": \"Rione Monti\", \"role\": \"C\", \"player\": \"Frattesi\", \"team\": \"Sassuolo\", \"opponent\": \"Fiorentina\", \"date\": \"2022-02-27T00:00:00\", \"expected_bonus\": 0.5209221839904785}, {\"fanta_team\": \"Rione Monti\", \"role\": \"C\", \"player\": \"Anderson\", \"team\": \"Lazio\", \"opponent\": \"Napoli\", \"date\": \"2022-02-27T00:00:00\", \"expected_bonus\": 0.4461320638656616}, {\"fanta_team\": \"Rione Monti\", \"role\": \"C\", \"player\": \"Henderson\", \"team\": \"Empoli\", \"opponent\": \"Juventus\", \"date\": \"2022-02-27T00:00:00\", \"expected_bonus\": 0.32136601209640503}, {\"fanta_team\": \"Rione Monti\", \"role\": \"C\", \"player\": \"Tameze\", \"team\": \"Verona\", \"opponent\": \"Venezia\", \"date\": \"2022-02-27T00:00:00\", \"expected_bonus\": 0.13792160153388977}, {\"fanta_team\": \"Rione Monti\", \"role\": \"A\", \"player\": \"Dzeko\", \"team\": \"Inter\", \"opponent\": \"Genoa\", \"date\": \"2022-02-27T00:00:00\", \"expected_bonus\": 2.0284011363983154}, {\"fanta_team\": \"Rione Monti\", \"role\": \"A\", \"player\": \"Ibrahimovic\", \"team\": \"AC Milan\", \"opponent\": \"Udinese\", \"date\": \"2022-02-27T00:00:00\", \"expected_bonus\": 1.5602190494537354}, {\"fanta_team\": \"Rione Monti\", \"role\": \"A\", \"player\": \"Pinamonti\", \"team\": \"Empoli\", \"opponent\": \"Juventus\", \"date\": \"2022-02-27T00:00:00\", \"expected_bonus\": 1.1048357486724854}, {\"fanta_team\": \"Rione Monti\", \"role\": \"A\", \"player\": \"Raspadori\", \"team\": \"Sassuolo\", \"opponent\": \"Fiorentina\", \"date\": \"2022-02-27T00:00:00\", \"expected_bonus\": 0.9027267694473267}, {\"fanta_team\": \"Rione Monti\", \"role\": \"A\", \"player\": \"Pedro\", \"team\": \"Lazio\", \"opponent\": \"Napoli\", \"date\": \"2022-02-27T00:00:00\", \"expected_bonus\": 0.7665817737579346}, {\"fanta_team\": \"Rione Monti\", \"role\": \"A\", \"player\": \"Afena-Gyan\", \"team\": \"Roma\", \"opponent\": \"Spezia\", \"date\": \"2022-02-27T00:00:00\", \"expected_bonus\": 0.5841891169548035}, {\"fanta_team\": \"MaiNa Joya_v2.0\", \"role\": \"D\", \"player\": \"Gosens\", \"team\": \"Inter\", \"opponent\": \"Genoa\", \"date\": \"2022-02-27T00:00:00\", \"expected_bonus\": 0.7172746658325195}, {\"fanta_team\": \"MaiNa Joya_v2.0\", \"role\": \"D\", \"player\": \"Hern\\u00e1ndez\", \"team\": \"AC Milan\", \"opponent\": \"Udinese\", \"date\": \"2022-02-27T00:00:00\", \"expected_bonus\": 0.6227651238441467}, {\"fanta_team\": \"MaiNa Joya_v2.0\", \"role\": \"D\", \"player\": \"Toloi\", \"team\": \"Atalanta\", \"opponent\": \"Sampdoria\", \"date\": \"2022-02-27T00:00:00\", \"expected_bonus\": 0.30725762248039246}, {\"fanta_team\": \"MaiNa Joya_v2.0\", \"role\": \"D\", \"player\": \"Ferrari\", \"team\": \"Sassuolo\", \"opponent\": \"Fiorentina\", \"date\": \"2022-02-27T00:00:00\", \"expected_bonus\": 0.18532390892505646}, {\"fanta_team\": \"MaiNa Joya_v2.0\", \"role\": \"D\", \"player\": \"Milenkovic\", \"team\": \"Fiorentina\", \"opponent\": \"Sassuolo\", \"date\": \"2022-02-27T00:00:00\", \"expected_bonus\": 0.17045433819293976}, {\"fanta_team\": \"MaiNa Joya_v2.0\", \"role\": \"D\", \"player\": \"Molina\", \"team\": \"Udinese\", \"opponent\": \"AC Milan\", \"date\": \"2022-02-27T00:00:00\", \"expected_bonus\": 0.11926057189702988}, {\"fanta_team\": \"MaiNa Joya_v2.0\", \"role\": \"D\", \"player\": \"Stojanovic\", \"team\": \"Empoli\", \"opponent\": \"Juventus\", \"date\": \"2022-02-27T00:00:00\", \"expected_bonus\": 0.11736933887004852}, {\"fanta_team\": \"MaiNa Joya_v2.0\", \"role\": \"C\", \"player\": \"Barella\", \"team\": \"Inter\", \"opponent\": \"Genoa\", \"date\": \"2022-02-27T00:00:00\", \"expected_bonus\": 0.9687232971191406}, {\"fanta_team\": \"MaiNa Joya_v2.0\", \"role\": \"C\", \"player\": \"Milinkovic-Savic\", \"team\": \"Lazio\", \"opponent\": \"Napoli\", \"date\": \"2022-02-27T00:00:00\", \"expected_bonus\": 0.7421167492866516}, {\"fanta_team\": \"MaiNa Joya_v2.0\", \"role\": \"C\", \"player\": \"Pobega\", \"team\": \"Torino\", \"opponent\": \"Cagliari\", \"date\": \"2022-02-27T00:00:00\", \"expected_bonus\": 0.6454030275344849}, {\"fanta_team\": \"MaiNa Joya_v2.0\", \"role\": \"C\", \"player\": \"Bernardeschi\", \"team\": \"Juventus\", \"opponent\": \"Empoli\", \"date\": \"2022-02-27T00:00:00\", \"expected_bonus\": 0.34227797389030457}, {\"fanta_team\": \"MaiNa Joya_v2.0\", \"role\": \"C\", \"player\": \"Soriano\", \"team\": \"Bologna\", \"opponent\": \"Salernitana\", \"date\": \"2022-02-27T00:00:00\", \"expected_bonus\": 0.3158501088619232}, {\"fanta_team\": \"MaiNa Joya_v2.0\", \"role\": \"C\", \"player\": \"Locatelli\", \"team\": \"Juventus\", \"opponent\": \"Empoli\", \"date\": \"2022-02-27T00:00:00\", \"expected_bonus\": 0.26342034339904785}, {\"fanta_team\": \"MaiNa Joya_v2.0\", \"role\": \"C\", \"player\": \"Sensi\", \"team\": \"Sampdoria\", \"opponent\": \"Atalanta\", \"date\": \"2022-02-27T00:00:00\", \"expected_bonus\": -0.08891434967517853}, {\"fanta_team\": \"MaiNa Joya_v2.0\", \"role\": \"A\", \"player\": \"Abraham\", \"team\": \"Roma\", \"opponent\": \"Spezia\", \"date\": \"2022-02-27T00:00:00\", \"expected_bonus\": 1.822571039199829}, {\"fanta_team\": \"MaiNa Joya_v2.0\", \"role\": \"A\", \"player\": \"Insigne\", \"team\": \"Napoli\", \"opponent\": \"Lazio\", \"date\": \"2022-02-27T00:00:00\", \"expected_bonus\": 1.319014072418213}, {\"fanta_team\": \"MaiNa Joya_v2.0\", \"role\": \"A\", \"player\": \"Morata\", \"team\": \"Juventus\", \"opponent\": \"Empoli\", \"date\": \"2022-02-27T00:00:00\", \"expected_bonus\": 1.276883840560913}, {\"fanta_team\": \"MaiNa Joya_v2.0\", \"role\": \"A\", \"player\": \"Arnautovic\", \"team\": \"Bologna\", \"opponent\": \"Salernitana\", \"date\": \"2022-02-27T00:00:00\", \"expected_bonus\": 1.200139045715332}, {\"fanta_team\": \"MaiNa Joya_v2.0\", \"role\": \"A\", \"player\": \"Brekalo\", \"team\": \"Torino\", \"opponent\": \"Cagliari\", \"date\": \"2022-02-27T00:00:00\", \"expected_bonus\": 1.0758191347122192}, {\"fanta_team\": \"MaiNa Joya_v2.0\", \"role\": \"A\", \"player\": \"Boga\", \"team\": \"Atalanta\", \"opponent\": \"Sampdoria\", \"date\": \"2022-02-27T00:00:00\", \"expected_bonus\": 1.02195405960083}, {\"fanta_team\": \"MEZAFE\", \"role\": \"D\", \"player\": \"Zappacosta\", \"team\": \"Atalanta\", \"opponent\": \"Sampdoria\", \"date\": \"2022-02-27T00:00:00\", \"expected_bonus\": 0.5596944093704224}, {\"fanta_team\": \"MEZAFE\", \"role\": \"D\", \"player\": \"Bonucci\", \"team\": \"Juventus\", \"opponent\": \"Empoli\", \"date\": \"2022-02-27T00:00:00\", \"expected_bonus\": 0.4736216366291046}, {\"fanta_team\": \"MEZAFE\", \"role\": \"D\", \"player\": \"Criscito\", \"team\": \"Genoa\", \"opponent\": \"Inter\", \"date\": \"2022-02-27T00:00:00\", \"expected_bonus\": 0.4610768258571625}, {\"fanta_team\": \"MEZAFE\", \"role\": \"D\", \"player\": \"Vrij\", \"team\": \"Inter\", \"opponent\": \"Genoa\", \"date\": \"2022-02-27T00:00:00\", \"expected_bonus\": 0.2899400293827057}, {\"fanta_team\": \"MEZAFE\", \"role\": \"D\", \"player\": \"Mancini\", \"team\": \"Roma\", \"opponent\": \"Spezia\", \"date\": \"2022-02-27T00:00:00\", \"expected_bonus\": 0.2371847778558731}, {\"fanta_team\": \"MEZAFE\", \"role\": \"D\", \"player\": \"Danilo\", \"team\": \"Juventus\", \"opponent\": \"Empoli\", \"date\": \"2022-02-27T00:00:00\", \"expected_bonus\": 0.2227732092142105}, {\"fanta_team\": \"MEZAFE\", \"role\": \"D\", \"player\": \"Silvestri\", \"team\": \"Bologna\", \"opponent\": \"Salernitana\", \"date\": \"2022-02-27T00:00:00\", \"expected_bonus\": 0.1938539445400238}, {\"fanta_team\": \"MEZAFE\", \"role\": \"D\", \"player\": \"Chiellini\", \"team\": \"Juventus\", \"opponent\": \"Empoli\", \"date\": \"2022-02-27T00:00:00\", \"expected_bonus\": 0.1518283635377884}, {\"fanta_team\": \"MEZAFE\", \"role\": \"C\", \"player\": \"Pasalic\", \"team\": \"Atalanta\", \"opponent\": \"Sampdoria\", \"date\": \"2022-02-27T00:00:00\", \"expected_bonus\": 0.9108297824859619}, {\"fanta_team\": \"MEZAFE\", \"role\": \"C\", \"player\": \"Verdi\", \"team\": \"Salernitana\", \"opponent\": \"Bologna\", \"date\": \"2022-02-27T00:00:00\", \"expected_bonus\": 0.6864994168281555}, {\"fanta_team\": \"MEZAFE\", \"role\": \"C\", \"player\": \"Saelemaekers\", \"team\": \"AC Milan\", \"opponent\": \"Udinese\", \"date\": \"2022-02-27T00:00:00\", \"expected_bonus\": 0.6831313967704773}, {\"fanta_team\": \"MEZAFE\", \"role\": \"C\", \"player\": \"Perisic\", \"team\": \"Inter\", \"opponent\": \"Genoa\", \"date\": \"2022-02-27T00:00:00\", \"expected_bonus\": 0.5162525773048401}, {\"fanta_team\": \"MEZAFE\", \"role\": \"C\", \"player\": \"Lazovic\", \"team\": \"Verona\", \"opponent\": \"Venezia\", \"date\": \"2022-02-27T00:00:00\", \"expected_bonus\": 0.4689169228076935}, {\"fanta_team\": \"MEZAFE\", \"role\": \"C\", \"player\": \"McKennie\", \"team\": \"Juventus\", \"opponent\": \"Empoli\", \"date\": \"2022-02-27T00:00:00\", \"expected_bonus\": 0.4067329466342926}, {\"fanta_team\": \"MEZAFE\", \"role\": \"C\", \"player\": \"Tonali\", \"team\": \"AC Milan\", \"opponent\": \"Udinese\", \"date\": \"2022-02-27T00:00:00\", \"expected_bonus\": 0.35496634244918823}, {\"fanta_team\": \"MEZAFE\", \"role\": \"C\", \"player\": \"Castrovilli\", \"team\": \"Fiorentina\", \"opponent\": \"Sassuolo\", \"date\": \"2022-02-27T00:00:00\", \"expected_bonus\": 0.1754121631383896}, {\"fanta_team\": \"MEZAFE\", \"role\": \"A\", \"player\": \"Dybala\", \"team\": \"Juventus\", \"opponent\": \"Empoli\", \"date\": \"2022-02-27T00:00:00\", \"expected_bonus\": 1.8206723928451538}, {\"fanta_team\": \"MEZAFE\", \"role\": \"A\", \"player\": \"Sanabria\", \"team\": \"Torino\", \"opponent\": \"Cagliari\", \"date\": \"2022-02-27T00:00:00\", \"expected_bonus\": 1.3521591424942017}, {\"fanta_team\": \"MEZAFE\", \"role\": \"A\", \"player\": \"Simeone\", \"team\": \"Verona\", \"opponent\": \"Venezia\", \"date\": \"2022-02-27T00:00:00\", \"expected_bonus\": 1.2389646768569946}, {\"fanta_team\": \"MEZAFE\", \"role\": \"A\", \"player\": \"Piatek\", \"team\": \"Fiorentina\", \"opponent\": \"Sassuolo\", \"date\": \"2022-02-27T00:00:00\", \"expected_bonus\": 1.1221284866333008}, {\"fanta_team\": \"MEZAFE\", \"role\": \"A\", \"player\": \"Quagliarella\", \"team\": \"Sampdoria\", \"opponent\": \"Atalanta\", \"date\": \"2022-02-27T00:00:00\", \"expected_bonus\": 0.7024461030960083}, {\"fanta_team\": \"MEZAFE\", \"role\": \"A\", \"player\": \"Rebic\", \"team\": \"AC Milan\", \"opponent\": \"Udinese\", \"date\": \"2022-02-27T00:00:00\", \"expected_bonus\": 0.4181382954120636}, {\"fanta_team\": \"Beverly INPS\", \"role\": \"D\", \"player\": \"Dimarco\", \"team\": \"Inter\", \"opponent\": \"Genoa\", \"date\": \"2022-02-27T00:00:00\", \"expected_bonus\": 0.7686153054237366}, {\"fanta_team\": \"Beverly INPS\", \"role\": \"D\", \"player\": \"Cuadrado\", \"team\": \"Juventus\", \"opponent\": \"Empoli\", \"date\": \"2022-02-27T00:00:00\", \"expected_bonus\": 0.3313138484954834}, {\"fanta_team\": \"Beverly INPS\", \"role\": \"D\", \"player\": \"Bastoni\", \"team\": \"Inter\", \"opponent\": \"Genoa\", \"date\": \"2022-02-27T00:00:00\", \"expected_bonus\": 0.3092518746852875}, {\"fanta_team\": \"Beverly INPS\", \"role\": \"D\", \"player\": \"Lorenzo\", \"team\": \"Napoli\", \"opponent\": \"Lazio\", \"date\": \"2022-02-27T00:00:00\", \"expected_bonus\": 0.26114240288734436}, {\"fanta_team\": \"Beverly INPS\", \"role\": \"D\", \"player\": \"Romagnoli\", \"team\": \"AC Milan\", \"opponent\": \"Udinese\", \"date\": \"2022-02-27T00:00:00\", \"expected_bonus\": 0.21581397950649261}, {\"fanta_team\": \"Beverly INPS\", \"role\": \"D\", \"player\": \"Cambiaso\", \"team\": \"Genoa\", \"opponent\": \"Inter\", \"date\": \"2022-02-27T00:00:00\", \"expected_bonus\": 0.1330289989709854}, {\"fanta_team\": \"Beverly INPS\", \"role\": \"D\", \"player\": \"Nuytinck\", \"team\": \"Udinese\", \"opponent\": \"AC Milan\", \"date\": \"2022-02-27T00:00:00\", \"expected_bonus\": 0.015570899471640587}, {\"fanta_team\": \"Beverly INPS\", \"role\": \"C\", \"player\": \"Barak\", \"team\": \"Verona\", \"opponent\": \"Venezia\", \"date\": \"2022-02-27T00:00:00\", \"expected_bonus\": 1.095991611480713}, {\"fanta_team\": \"Beverly INPS\", \"role\": \"C\", \"player\": \"Zielinski\", \"team\": \"Napoli\", \"opponent\": \"Lazio\", \"date\": \"2022-02-27T00:00:00\", \"expected_bonus\": 0.8183265924453735}, {\"fanta_team\": \"Beverly INPS\", \"role\": \"C\", \"player\": \"Praet\", \"team\": \"Torino\", \"opponent\": \"Cagliari\", \"date\": \"2022-02-27T00:00:00\", \"expected_bonus\": 0.7484372854232788}, {\"fanta_team\": \"Beverly INPS\", \"role\": \"C\", \"player\": \"Veretout\", \"team\": \"Roma\", \"opponent\": \"Spezia\", \"date\": \"2022-02-27T00:00:00\", \"expected_bonus\": 0.5958148837089539}, {\"fanta_team\": \"Beverly INPS\", \"role\": \"C\", \"player\": \"Kessi\\u00e9\", \"team\": \"AC Milan\", \"opponent\": \"Udinese\", \"date\": \"2022-02-27T00:00:00\", \"expected_bonus\": 0.5828981995582581}, {\"fanta_team\": \"Beverly INPS\", \"role\": \"C\", \"player\": \"Alberto\", \"team\": \"Lazio\", \"opponent\": \"Napoli\", \"date\": \"2022-02-27T00:00:00\", \"expected_bonus\": 0.41834527254104614}, {\"fanta_team\": \"Beverly INPS\", \"role\": \"C\", \"player\": \"Elmas\", \"team\": \"Napoli\", \"opponent\": \"Lazio\", \"date\": \"2022-02-27T00:00:00\", \"expected_bonus\": 0.28566062450408936}, {\"fanta_team\": \"Beverly INPS\", \"role\": \"A\", \"player\": \"Mart\\u00ednez\", \"team\": \"Inter\", \"opponent\": \"Genoa\", \"date\": \"2022-02-27T00:00:00\", \"expected_bonus\": 2.1276957988739014}, {\"fanta_team\": \"Beverly INPS\", \"role\": \"A\", \"player\": \"Berardi\", \"team\": \"Sassuolo\", \"opponent\": \"Fiorentina\", \"date\": \"2022-02-27T00:00:00\", \"expected_bonus\": 1.300428867340088}, {\"fanta_team\": \"Beverly INPS\", \"role\": \"A\", \"player\": \"Mertens\", \"team\": \"Napoli\", \"opponent\": \"Lazio\", \"date\": \"2022-02-27T00:00:00\", \"expected_bonus\": 1.2337476015090942}, {\"fanta_team\": \"Beverly INPS\", \"role\": \"A\", \"player\": \"Barrow\", \"team\": \"Bologna\", \"opponent\": \"Salernitana\", \"date\": \"2022-02-27T00:00:00\", \"expected_bonus\": 1.0663186311721802}, {\"fanta_team\": \"Beverly INPS\", \"role\": \"A\", \"player\": \"Deulofeu\", \"team\": \"Udinese\", \"opponent\": \"AC Milan\", \"date\": \"2022-02-27T00:00:00\", \"expected_bonus\": 0.8826842308044434}, {\"fanta_team\": \"Beverly INPS\", \"role\": \"A\", \"player\": \"Gonz\\u00e1lez\", \"team\": \"Fiorentina\", \"opponent\": \"Sassuolo\", \"date\": \"2022-02-27T00:00:00\", \"expected_bonus\": 0.7619057893753052}, {\"fanta_team\": \"AI sereje ja dejeDe jebe tu de jebere\", \"role\": \"D\", \"player\": \"Skriniar\", \"team\": \"Inter\", \"opponent\": \"Genoa\", \"date\": \"2022-02-27T00:00:00\", \"expected_bonus\": 0.3952905237674713}, {\"fanta_team\": \"AI sereje ja dejeDe jebe tu de jebere\", \"role\": \"D\", \"player\": \"Darmian\", \"team\": \"Inter\", \"opponent\": \"Genoa\", \"date\": \"2022-02-27T00:00:00\", \"expected_bonus\": 0.36421772837638855}, {\"fanta_team\": \"AI sereje ja dejeDe jebe tu de jebere\", \"role\": \"D\", \"player\": \"Hateboer\", \"team\": \"Atalanta\", \"opponent\": \"Sampdoria\", \"date\": \"2022-02-27T00:00:00\", \"expected_bonus\": 0.33078986406326294}, {\"fanta_team\": \"AI sereje ja dejeDe jebe tu de jebere\", \"role\": \"D\", \"player\": \"Rrahmani\", \"team\": \"Napoli\", \"opponent\": \"Lazio\", \"date\": \"2022-02-27T00:00:00\", \"expected_bonus\": 0.29323938488960266}, {\"fanta_team\": \"AI sereje ja dejeDe jebe tu de jebere\", \"role\": \"D\", \"player\": \"Acerbi\", \"team\": \"Lazio\", \"opponent\": \"Napoli\", \"date\": \"2022-02-27T00:00:00\", \"expected_bonus\": 0.16705523431301117}, {\"fanta_team\": \"AI sereje ja dejeDe jebe tu de jebere\", \"role\": \"D\", \"player\": \"Tuanzebe\", \"team\": \"Napoli\", \"opponent\": \"Lazio\", \"date\": \"2022-02-27T00:00:00\", \"expected_bonus\": 0.16179291903972626}, {\"fanta_team\": \"AI sereje ja dejeDe jebe tu de jebere\", \"role\": \"D\", \"player\": \"Yoshida\", \"team\": \"Sampdoria\", \"opponent\": \"Atalanta\", \"date\": \"2022-02-27T00:00:00\", \"expected_bonus\": 0.0038724755868315697}, {\"fanta_team\": \"AI sereje ja dejeDe jebe tu de jebere\", \"role\": \"C\", \"player\": \"Bajrami\", \"team\": \"Empoli\", \"opponent\": \"Juventus\", \"date\": \"2022-02-27T00:00:00\", \"expected_bonus\": 0.791661262512207}, {\"fanta_team\": \"AI sereje ja dejeDe jebe tu de jebere\", \"role\": \"C\", \"player\": \"Djuricic\", \"team\": \"Sassuolo\", \"opponent\": \"Fiorentina\", \"date\": \"2022-02-27T00:00:00\", \"expected_bonus\": 0.6687697172164917}, {\"fanta_team\": \"AI sereje ja dejeDe jebe tu de jebere\", \"role\": \"C\", \"player\": \"Candreva\", \"team\": \"Sampdoria\", \"opponent\": \"Atalanta\", \"date\": \"2022-02-27T00:00:00\", \"expected_bonus\": 0.5323943495750427}, {\"fanta_team\": \"AI sereje ja dejeDe jebe tu de jebere\", \"role\": \"C\", \"player\": \"Bonaventura\", \"team\": \"Fiorentina\", \"opponent\": \"Sassuolo\", \"date\": \"2022-02-27T00:00:00\", \"expected_bonus\": 0.515846312046051}, {\"fanta_team\": \"AI sereje ja dejeDe jebe tu de jebere\", \"role\": \"C\", \"player\": \"Lukic\", \"team\": \"Torino\", \"opponent\": \"Cagliari\", \"date\": \"2022-02-27T00:00:00\", \"expected_bonus\": 0.43617624044418335}, {\"fanta_team\": \"AI sereje ja dejeDe jebe tu de jebere\", \"role\": \"C\", \"player\": \"Svanberg\", \"team\": \"Bologna\", \"opponent\": \"Salernitana\", \"date\": \"2022-02-27T00:00:00\", \"expected_bonus\": 0.20295578241348267}, {\"fanta_team\": \"AI sereje ja dejeDe jebe tu de jebere\", \"role\": \"C\", \"player\": \"Zakaria\", \"team\": \"Juventus\", \"opponent\": \"Empoli\", \"date\": \"2022-02-27T00:00:00\", \"expected_bonus\": 0.16550013422966003}, {\"fanta_team\": \"AI sereje ja dejeDe jebe tu de jebere\", \"role\": \"A\", \"player\": \"Vlahovic\", \"team\": \"Juventus\", \"opponent\": \"Empoli\", \"date\": \"2022-02-27T00:00:00\", \"expected_bonus\": 2.1798675060272217}, {\"fanta_team\": \"AI sereje ja dejeDe jebe tu de jebere\", \"role\": \"A\", \"player\": \"Zapata\", \"team\": \"Atalanta\", \"opponent\": \"Sampdoria\", \"date\": \"2022-02-27T00:00:00\", \"expected_bonus\": 2.0047035217285156}, {\"fanta_team\": \"AI sereje ja dejeDe jebe tu de jebere\", \"role\": \"A\", \"player\": \"Lozano\", \"team\": \"Napoli\", \"opponent\": \"Lazio\", \"date\": \"2022-02-27T00:00:00\", \"expected_bonus\": 0.9768078923225403}, {\"fanta_team\": \"AI sereje ja dejeDe jebe tu de jebere\", \"role\": \"A\", \"player\": \"Destro\", \"team\": \"Genoa\", \"opponent\": \"Inter\", \"date\": \"2022-02-27T00:00:00\", \"expected_bonus\": 0.8711439371109009}, {\"fanta_team\": \"AI sereje ja dejeDe jebe tu de jebere\", \"role\": \"A\", \"player\": \"Beto\", \"team\": \"Udinese\", \"opponent\": \"AC Milan\", \"date\": \"2022-02-27T00:00:00\", \"expected_bonus\": 0.8609507083892822}, {\"fanta_team\": \"AI sereje ja dejeDe jebe tu de jebere\", \"role\": \"A\", \"player\": \"Gyasi\", \"team\": \"Spezia\", \"opponent\": \"Roma\", \"date\": \"2022-02-27T00:00:00\", \"expected_bonus\": 0.33940771222114563}, {\"fanta_team\": \"AC Picchia\", \"role\": \"D\", \"player\": \"Calabria\", \"team\": \"AC Milan\", \"opponent\": \"Udinese\", \"date\": \"2022-02-27T00:00:00\", \"expected_bonus\": 0.5998831391334534}, {\"fanta_team\": \"AC Picchia\", \"role\": \"D\", \"player\": \"Florenzi\", \"team\": \"AC Milan\", \"opponent\": \"Udinese\", \"date\": \"2022-02-27T00:00:00\", \"expected_bonus\": 0.38241609930992126}, {\"fanta_team\": \"AC Picchia\", \"role\": \"D\", \"player\": \"Faraoni\", \"team\": \"Verona\", \"opponent\": \"Venezia\", \"date\": \"2022-02-27T00:00:00\", \"expected_bonus\": 0.3344729542732239}, {\"fanta_team\": \"AC Picchia\", \"role\": \"D\", \"player\": \"Ligt\", \"team\": \"Juventus\", \"opponent\": \"Empoli\", \"date\": \"2022-02-27T00:00:00\", \"expected_bonus\": 0.2431209832429886}, {\"fanta_team\": \"AC Picchia\", \"role\": \"D\", \"player\": \"Odriozola\", \"team\": \"Fiorentina\", \"opponent\": \"Sassuolo\", \"date\": \"2022-02-27T00:00:00\", \"expected_bonus\": 0.2094142585992813}, {\"fanta_team\": \"AC Picchia\", \"role\": \"D\", \"player\": \"Ansaldi\", \"team\": \"Torino\", \"opponent\": \"Cagliari\", \"date\": \"2022-02-27T00:00:00\", \"expected_bonus\": 0.18263481557369232}, {\"fanta_team\": \"AC Picchia\", \"role\": \"D\", \"player\": \"Dalbert\", \"team\": \"Cagliari\", \"opponent\": \"Torino\", \"date\": \"2022-02-27T00:00:00\", \"expected_bonus\": 0.1011553555727005}, {\"fanta_team\": \"AC Picchia\", \"role\": \"D\", \"player\": \"Augello\", \"team\": \"Sampdoria\", \"opponent\": \"Atalanta\", \"date\": \"2022-02-27T00:00:00\", \"expected_bonus\": 0.009308123029768467}, {\"fanta_team\": \"AC Picchia\", \"role\": \"C\", \"player\": \"Malinovskiy\", \"team\": \"Atalanta\", \"opponent\": \"Sampdoria\", \"date\": \"2022-02-27T00:00:00\", \"expected_bonus\": 1.1109734773635864}, {\"fanta_team\": \"AC Picchia\", \"role\": \"C\", \"player\": \"Calhanoglu\", \"team\": \"Inter\", \"opponent\": \"Genoa\", \"date\": \"2022-02-27T00:00:00\", \"expected_bonus\": 1.0821751356124878}, {\"fanta_team\": \"AC Picchia\", \"role\": \"C\", \"player\": \"Aramu\", \"team\": \"Venezia\", \"opponent\": \"Verona\", \"date\": \"2022-02-27T00:00:00\", \"expected_bonus\": 0.7856575846672058}, {\"fanta_team\": \"AC Picchia\", \"role\": \"C\", \"player\": \"Orsolini\", \"team\": \"Bologna\", \"opponent\": \"Salernitana\", \"date\": \"2022-02-27T00:00:00\", \"expected_bonus\": 0.44367605447769165}, {\"fanta_team\": \"AC Picchia\", \"role\": \"C\", \"player\": \"Brozovic\", \"team\": \"Inter\", \"opponent\": \"Genoa\", \"date\": \"2022-02-27T00:00:00\", \"expected_bonus\": 0.3665831387042999}, {\"fanta_team\": \"AC Picchia\", \"role\": \"C\", \"player\": \"Thorsby\", \"team\": \"Sampdoria\", \"opponent\": \"Atalanta\", \"date\": \"2022-02-27T00:00:00\", \"expected_bonus\": 0.16479863226413727}, {\"fanta_team\": \"AC Picchia\", \"role\": \"C\", \"player\": \"N\\u00e1ndez\", \"team\": \"Cagliari\", \"opponent\": \"Torino\", \"date\": \"2022-02-27T00:00:00\", \"expected_bonus\": 0.09297209978103638}, {\"fanta_team\": \"AC Picchia\", \"role\": \"C\", \"player\": \"Marin\", \"team\": \"Cagliari\", \"opponent\": \"Torino\", \"date\": \"2022-02-27T00:00:00\", \"expected_bonus\": 0.08993440866470337}, {\"fanta_team\": \"AC Picchia\", \"role\": \"A\", \"player\": \"Muriel\", \"team\": \"Atalanta\", \"opponent\": \"Sampdoria\", \"date\": \"2022-02-27T00:00:00\", \"expected_bonus\": 1.5097172260284424}, {\"fanta_team\": \"AC Picchia\", \"role\": \"A\", \"player\": \"Giroud\", \"team\": \"AC Milan\", \"opponent\": \"Udinese\", \"date\": \"2022-02-27T00:00:00\", \"expected_bonus\": 1.1303077936172485}, {\"fanta_team\": \"AC Picchia\", \"role\": \"A\", \"player\": \"Henry\", \"team\": \"Venezia\", \"opponent\": \"Verona\", \"date\": \"2022-02-27T00:00:00\", \"expected_bonus\": 0.9680493474006653}, {\"fanta_team\": \"AC Picchia\", \"role\": \"A\", \"player\": \"Caputo\", \"team\": \"Sampdoria\", \"opponent\": \"Atalanta\", \"date\": \"2022-02-27T00:00:00\", \"expected_bonus\": 0.831860363483429}, {\"fanta_team\": \"AC Picchia\", \"role\": \"A\", \"player\": \"Verde\", \"team\": \"Spezia\", \"opponent\": \"Roma\", \"date\": \"2022-02-27T00:00:00\", \"expected_bonus\": 0.39337158203125}, {\"fanta_team\": \"AC Picchia\", \"role\": \"A\", \"player\": \"Cabral\", \"team\": \"Fiorentina\", \"opponent\": \"Sassuolo\", \"date\": \"2022-02-27T00:00:00\", \"expected_bonus\": 0.1110403835773468}]}}, {\"actions\": false, \"mode\": \"vega-lite\"});\n</script>",
      "text/plain": "alt.Chart(...)"
     },
     "metadata": {}
    }
   ]
  },
  {
   "cell_type": "code",
   "metadata": {
    "cell_id": "c757b1dc-1791-4f8f-8d75-1e5fa62fa250",
    "tags": [],
    "deepnote_to_be_reexecuted": false,
    "source_hash": "ac51fc04",
    "execution_start": 1645596329400,
    "execution_millis": 1,
    "deepnote_cell_type": "code"
   },
   "source": "teams = sorted(list(predictions['fanta_team'].unique()))\nindex = 0",
   "execution_count": 5,
   "outputs": []
  },
  {
   "cell_type": "code",
   "metadata": {
    "cell_id": "661bb9dc-37c8-4f24-b69b-ca2aae9a3388",
    "tags": [],
    "deepnote_to_be_reexecuted": false,
    "source_hash": "3f500048",
    "execution_start": 1645596329401,
    "execution_millis": 1,
    "deepnote_cell_type": "code"
   },
   "source": "team, index = display_fanta_squad(predictions, teams, index)",
   "execution_count": 6,
   "outputs": []
  },
  {
   "cell_type": "code",
   "source": "_deepnote_run_altair(team, \"\"\"{\"$schema\":\"https://vega.github.io/schema/vega-lite/v4.json\",\"mark\":{\"type\":\"bar\",\"tooltip\":{\"content\":\"data\"}},\"height\":220,\"autosize\":{\"type\":\"fit\"},\"data\":{\"name\":\"placeholder\"},\"encoding\":{\"x\":{\"field\":\"expected_bonus\",\"type\":\"quantitative\",\"sort\":null,\"scale\":{\"type\":\"linear\",\"zero\":false}},\"y\":{\"field\":\"player\",\"type\":\"nominal\",\"sort\":null,\"scale\":{\"type\":\"linear\",\"zero\":true}},\"color\":{\"field\":\"role\",\"type\":\"nominal\",\"sort\":null,\"scale\":{\"type\":\"linear\",\"zero\":false}}}}\"\"\")",
   "metadata": {
    "cell_id": "2feea2e5-a58f-4290-9ed7-09ad345cef92",
    "deepnote_variable_name": "team",
    "deepnote_visualization_spec": {
     "$schema": "https://vega.github.io/schema/vega-lite/v4.json",
     "mark": {
      "type": "bar",
      "tooltip": {
       "content": "data"
      }
     },
     "height": 220,
     "autosize": {
      "type": "fit"
     },
     "data": {
      "name": "placeholder"
     },
     "encoding": {
      "x": {
       "field": "expected_bonus",
       "type": "quantitative",
       "sort": null,
       "scale": {
        "type": "linear",
        "zero": false
       }
      },
      "y": {
       "field": "player",
       "type": "nominal",
       "sort": null,
       "scale": {
        "type": "linear",
        "zero": true
       }
      },
      "color": {
       "field": "role",
       "type": "nominal",
       "sort": null,
       "scale": {
        "type": "linear",
        "zero": false
       }
      }
     }
    },
    "deepnote_to_be_reexecuted": false,
    "source_hash": "e68de25e",
    "execution_start": 1645596329402,
    "execution_millis": 133,
    "deepnote_output_heights": [
     314
    ],
    "allow_embed": "output",
    "deepnote_cell_type": "visualization"
   },
   "execution_count": 7,
   "outputs": [
    {
     "output_type": "execute_result",
     "execution_count": 7,
     "data": {
      "text/html": "\n<div id=\"altair-viz-ec462e1c9b0e4e8199c8e342cd134e57\"></div>\n<script type=\"text/javascript\">\n  (function(spec, embedOpt){\n    let outputDiv = document.currentScript.previousElementSibling;\n    if (outputDiv.id !== \"altair-viz-ec462e1c9b0e4e8199c8e342cd134e57\") {\n      outputDiv = document.getElementById(\"altair-viz-ec462e1c9b0e4e8199c8e342cd134e57\");\n    }\n    const paths = {\n      \"vega\": \"https://cdn.jsdelivr.net/npm//vega@5?noext\",\n      \"vega-lib\": \"https://cdn.jsdelivr.net/npm//vega-lib?noext\",\n      \"vega-lite\": \"https://cdn.jsdelivr.net/npm//vega-lite@4.8.1?noext\",\n      \"vega-embed\": \"https://cdn.jsdelivr.net/npm//vega-embed@6?noext\",\n    };\n\n    function loadScript(lib) {\n      return new Promise(function(resolve, reject) {\n        var s = document.createElement('script');\n        s.src = paths[lib];\n        s.async = true;\n        s.onload = () => resolve(paths[lib]);\n        s.onerror = () => reject(`Error loading script: ${paths[lib]}`);\n        document.getElementsByTagName(\"head\")[0].appendChild(s);\n      });\n    }\n\n    function showError(err) {\n      outputDiv.innerHTML = `<div class=\"error\" style=\"color:red;\">${err}</div>`;\n      throw err;\n    }\n\n    function displayChart(vegaEmbed) {\n      vegaEmbed(outputDiv, spec, embedOpt)\n        .catch(err => showError(`Javascript Error: ${err.message}<br>This usually means there's a typo in your chart specification. See the javascript console for the full traceback.`));\n    }\n\n    if(typeof define === \"function\" && define.amd) {\n      requirejs.config({paths});\n      require([\"vega-embed\"], displayChart, err => showError(`Error loading script: ${err.message}`));\n    } else if (typeof vegaEmbed === \"function\") {\n      displayChart(vegaEmbed);\n    } else {\n      loadScript(\"vega\")\n        .then(() => loadScript(\"vega-lite\"))\n        .then(() => loadScript(\"vega-embed\"))\n        .catch(showError)\n        .then(() => displayChart(vegaEmbed));\n    }\n  })({\"config\": {\"view\": {\"continuousWidth\": 400, \"continuousHeight\": 300}, \"area\": {\"fill\": \"#51C0E9\"}, \"axis\": {\"labelFont\": \"Inter, sans-serif\", \"labelFontSize\": 12, \"labelFontWeight\": \"normal\", \"labelLimit\": 60, \"labelOverlap\": \"greedy\", \"titleFont\": \"Inter, sans-serif\", \"titleFontSize\": 12, \"titleFontWeight\": \"bold\"}, \"background\": \"#ffffff\", \"legend\": {\"labelFont\": \"Inter, sans-serif\", \"labelFontSize\": 12, \"titleFont\": \"Inter, sans-serif\", \"titleFontSize\": 12, \"titleFontWeight\": \"bold\"}, \"line\": {\"stroke\": \"#51C0E9\", \"strokeWidth\": 2}, \"rect\": {\"fill\": \"#51C0E9\"}, \"title\": {\"anchor\": \"start\", \"color\": \"#000000\", \"font\": \"Inter, sans-serif\", \"fontSize\": 22, \"fontWeight\": \"normal\"}}, \"data\": {\"name\": \"data-f954c50cf4139d209a5519a32c25f047\"}, \"mark\": {\"type\": \"bar\", \"tooltip\": {\"content\": \"data\"}}, \"autosize\": {\"type\": \"fit\"}, \"encoding\": {\"color\": {\"type\": \"nominal\", \"field\": \"role\", \"scale\": {\"type\": \"linear\", \"zero\": false}, \"sort\": null}, \"x\": {\"type\": \"quantitative\", \"field\": \"expected_bonus\", \"scale\": {\"type\": \"linear\", \"zero\": false}, \"sort\": null}, \"y\": {\"type\": \"nominal\", \"field\": \"player\", \"scale\": {\"type\": \"linear\", \"zero\": true}, \"sort\": null}}, \"height\": 300, \"width\": \"container\", \"$schema\": \"https://vega.github.io/schema/vega-lite/v4.json\", \"datasets\": {\"data-f954c50cf4139d209a5519a32c25f047\": [{\"fanta_team\": \"AC Picchia\", \"role\": \"D\", \"player\": \"Calabria\", \"team\": \"AC Milan\", \"opponent\": \"Udinese\", \"date\": \"2022-02-27T00:00:00\", \"expected_bonus\": 0.5998831391334534}, {\"fanta_team\": \"AC Picchia\", \"role\": \"D\", \"player\": \"Florenzi\", \"team\": \"AC Milan\", \"opponent\": \"Udinese\", \"date\": \"2022-02-27T00:00:00\", \"expected_bonus\": 0.38241609930992126}, {\"fanta_team\": \"AC Picchia\", \"role\": \"D\", \"player\": \"Faraoni\", \"team\": \"Verona\", \"opponent\": \"Venezia\", \"date\": \"2022-02-27T00:00:00\", \"expected_bonus\": 0.3344729542732239}, {\"fanta_team\": \"AC Picchia\", \"role\": \"D\", \"player\": \"Ligt\", \"team\": \"Juventus\", \"opponent\": \"Empoli\", \"date\": \"2022-02-27T00:00:00\", \"expected_bonus\": 0.2431209832429886}, {\"fanta_team\": \"AC Picchia\", \"role\": \"D\", \"player\": \"Odriozola\", \"team\": \"Fiorentina\", \"opponent\": \"Sassuolo\", \"date\": \"2022-02-27T00:00:00\", \"expected_bonus\": 0.2094142585992813}, {\"fanta_team\": \"AC Picchia\", \"role\": \"D\", \"player\": \"Ansaldi\", \"team\": \"Torino\", \"opponent\": \"Cagliari\", \"date\": \"2022-02-27T00:00:00\", \"expected_bonus\": 0.18263481557369232}, {\"fanta_team\": \"AC Picchia\", \"role\": \"D\", \"player\": \"Dalbert\", \"team\": \"Cagliari\", \"opponent\": \"Torino\", \"date\": \"2022-02-27T00:00:00\", \"expected_bonus\": 0.1011553555727005}, {\"fanta_team\": \"AC Picchia\", \"role\": \"D\", \"player\": \"Augello\", \"team\": \"Sampdoria\", \"opponent\": \"Atalanta\", \"date\": \"2022-02-27T00:00:00\", \"expected_bonus\": 0.009308123029768467}, {\"fanta_team\": \"AC Picchia\", \"role\": \"C\", \"player\": \"Malinovskiy\", \"team\": \"Atalanta\", \"opponent\": \"Sampdoria\", \"date\": \"2022-02-27T00:00:00\", \"expected_bonus\": 1.1109734773635864}, {\"fanta_team\": \"AC Picchia\", \"role\": \"C\", \"player\": \"Calhanoglu\", \"team\": \"Inter\", \"opponent\": \"Genoa\", \"date\": \"2022-02-27T00:00:00\", \"expected_bonus\": 1.0821751356124878}, {\"fanta_team\": \"AC Picchia\", \"role\": \"C\", \"player\": \"Aramu\", \"team\": \"Venezia\", \"opponent\": \"Verona\", \"date\": \"2022-02-27T00:00:00\", \"expected_bonus\": 0.7856575846672058}, {\"fanta_team\": \"AC Picchia\", \"role\": \"C\", \"player\": \"Orsolini\", \"team\": \"Bologna\", \"opponent\": \"Salernitana\", \"date\": \"2022-02-27T00:00:00\", \"expected_bonus\": 0.44367605447769165}, {\"fanta_team\": \"AC Picchia\", \"role\": \"C\", \"player\": \"Brozovic\", \"team\": \"Inter\", \"opponent\": \"Genoa\", \"date\": \"2022-02-27T00:00:00\", \"expected_bonus\": 0.3665831387042999}, {\"fanta_team\": \"AC Picchia\", \"role\": \"C\", \"player\": \"Thorsby\", \"team\": \"Sampdoria\", \"opponent\": \"Atalanta\", \"date\": \"2022-02-27T00:00:00\", \"expected_bonus\": 0.16479863226413727}, {\"fanta_team\": \"AC Picchia\", \"role\": \"C\", \"player\": \"N\\u00e1ndez\", \"team\": \"Cagliari\", \"opponent\": \"Torino\", \"date\": \"2022-02-27T00:00:00\", \"expected_bonus\": 0.09297209978103638}, {\"fanta_team\": \"AC Picchia\", \"role\": \"C\", \"player\": \"Marin\", \"team\": \"Cagliari\", \"opponent\": \"Torino\", \"date\": \"2022-02-27T00:00:00\", \"expected_bonus\": 0.08993440866470337}, {\"fanta_team\": \"AC Picchia\", \"role\": \"A\", \"player\": \"Muriel\", \"team\": \"Atalanta\", \"opponent\": \"Sampdoria\", \"date\": \"2022-02-27T00:00:00\", \"expected_bonus\": 1.5097172260284424}, {\"fanta_team\": \"AC Picchia\", \"role\": \"A\", \"player\": \"Giroud\", \"team\": \"AC Milan\", \"opponent\": \"Udinese\", \"date\": \"2022-02-27T00:00:00\", \"expected_bonus\": 1.1303077936172485}, {\"fanta_team\": \"AC Picchia\", \"role\": \"A\", \"player\": \"Henry\", \"team\": \"Venezia\", \"opponent\": \"Verona\", \"date\": \"2022-02-27T00:00:00\", \"expected_bonus\": 0.9680493474006653}, {\"fanta_team\": \"AC Picchia\", \"role\": \"A\", \"player\": \"Caputo\", \"team\": \"Sampdoria\", \"opponent\": \"Atalanta\", \"date\": \"2022-02-27T00:00:00\", \"expected_bonus\": 0.831860363483429}, {\"fanta_team\": \"AC Picchia\", \"role\": \"A\", \"player\": \"Verde\", \"team\": \"Spezia\", \"opponent\": \"Roma\", \"date\": \"2022-02-27T00:00:00\", \"expected_bonus\": 0.39337158203125}, {\"fanta_team\": \"AC Picchia\", \"role\": \"A\", \"player\": \"Cabral\", \"team\": \"Fiorentina\", \"opponent\": \"Sassuolo\", \"date\": \"2022-02-27T00:00:00\", \"expected_bonus\": 0.1110403835773468}]}}, {\"actions\": false, \"mode\": \"vega-lite\"});\n</script>",
      "text/plain": "alt.Chart(...)"
     },
     "metadata": {}
    }
   ]
  },
  {
   "cell_type": "code",
   "metadata": {
    "cell_id": "403f1719-a05c-438b-ab10-6045be82f284",
    "tags": [],
    "deepnote_to_be_reexecuted": false,
    "source_hash": "3f500048",
    "execution_start": 1645596329533,
    "execution_millis": 1,
    "deepnote_cell_type": "code"
   },
   "source": "team, index = display_fanta_squad(predictions, teams, index)",
   "execution_count": 8,
   "outputs": []
  },
  {
   "cell_type": "code",
   "source": "_deepnote_run_altair(team, \"\"\"{\"$schema\":\"https://vega.github.io/schema/vega-lite/v4.json\",\"mark\":{\"type\":\"bar\",\"tooltip\":{\"content\":\"data\"}},\"height\":220,\"autosize\":{\"type\":\"fit\"},\"data\":{\"name\":\"placeholder\"},\"encoding\":{\"x\":{\"field\":\"expected_bonus\",\"type\":\"quantitative\",\"sort\":null,\"scale\":{\"type\":\"linear\",\"zero\":false}},\"y\":{\"field\":\"player\",\"type\":\"nominal\",\"sort\":null,\"scale\":{\"type\":\"linear\",\"zero\":true}},\"color\":{\"field\":\"role\",\"type\":\"nominal\",\"sort\":null,\"scale\":{\"type\":\"linear\",\"zero\":false}}}}\"\"\")",
   "metadata": {
    "cell_id": "4a208803-57f0-497b-a4ea-c00c86e43db9",
    "deepnote_variable_name": "team",
    "deepnote_visualization_spec": {
     "$schema": "https://vega.github.io/schema/vega-lite/v4.json",
     "mark": {
      "type": "bar",
      "tooltip": {
       "content": "data"
      }
     },
     "height": 220,
     "autosize": {
      "type": "fit"
     },
     "data": {
      "name": "placeholder"
     },
     "encoding": {
      "x": {
       "field": "expected_bonus",
       "type": "quantitative",
       "sort": null,
       "scale": {
        "type": "linear",
        "zero": false
       }
      },
      "y": {
       "field": "player",
       "type": "nominal",
       "sort": null,
       "scale": {
        "type": "linear",
        "zero": true
       }
      },
      "color": {
       "field": "role",
       "type": "nominal",
       "sort": null,
       "scale": {
        "type": "linear",
        "zero": false
       }
      }
     }
    },
    "deepnote_to_be_reexecuted": false,
    "source_hash": "e68de25e",
    "execution_start": 1645596329534,
    "execution_millis": 132,
    "deepnote_output_heights": [
     314
    ],
    "allow_embed": "output",
    "deepnote_cell_type": "visualization"
   },
   "execution_count": 9,
   "outputs": [
    {
     "output_type": "execute_result",
     "execution_count": 9,
     "data": {
      "text/html": "\n<div id=\"altair-viz-aba723d11196465d917899d440be490b\"></div>\n<script type=\"text/javascript\">\n  (function(spec, embedOpt){\n    let outputDiv = document.currentScript.previousElementSibling;\n    if (outputDiv.id !== \"altair-viz-aba723d11196465d917899d440be490b\") {\n      outputDiv = document.getElementById(\"altair-viz-aba723d11196465d917899d440be490b\");\n    }\n    const paths = {\n      \"vega\": \"https://cdn.jsdelivr.net/npm//vega@5?noext\",\n      \"vega-lib\": \"https://cdn.jsdelivr.net/npm//vega-lib?noext\",\n      \"vega-lite\": \"https://cdn.jsdelivr.net/npm//vega-lite@4.8.1?noext\",\n      \"vega-embed\": \"https://cdn.jsdelivr.net/npm//vega-embed@6?noext\",\n    };\n\n    function loadScript(lib) {\n      return new Promise(function(resolve, reject) {\n        var s = document.createElement('script');\n        s.src = paths[lib];\n        s.async = true;\n        s.onload = () => resolve(paths[lib]);\n        s.onerror = () => reject(`Error loading script: ${paths[lib]}`);\n        document.getElementsByTagName(\"head\")[0].appendChild(s);\n      });\n    }\n\n    function showError(err) {\n      outputDiv.innerHTML = `<div class=\"error\" style=\"color:red;\">${err}</div>`;\n      throw err;\n    }\n\n    function displayChart(vegaEmbed) {\n      vegaEmbed(outputDiv, spec, embedOpt)\n        .catch(err => showError(`Javascript Error: ${err.message}<br>This usually means there's a typo in your chart specification. See the javascript console for the full traceback.`));\n    }\n\n    if(typeof define === \"function\" && define.amd) {\n      requirejs.config({paths});\n      require([\"vega-embed\"], displayChart, err => showError(`Error loading script: ${err.message}`));\n    } else if (typeof vegaEmbed === \"function\") {\n      displayChart(vegaEmbed);\n    } else {\n      loadScript(\"vega\")\n        .then(() => loadScript(\"vega-lite\"))\n        .then(() => loadScript(\"vega-embed\"))\n        .catch(showError)\n        .then(() => displayChart(vegaEmbed));\n    }\n  })({\"config\": {\"view\": {\"continuousWidth\": 400, \"continuousHeight\": 300}, \"area\": {\"fill\": \"#51C0E9\"}, \"axis\": {\"labelFont\": \"Inter, sans-serif\", \"labelFontSize\": 12, \"labelFontWeight\": \"normal\", \"labelLimit\": 60, \"labelOverlap\": \"greedy\", \"titleFont\": \"Inter, sans-serif\", \"titleFontSize\": 12, \"titleFontWeight\": \"bold\"}, \"background\": \"#ffffff\", \"legend\": {\"labelFont\": \"Inter, sans-serif\", \"labelFontSize\": 12, \"titleFont\": \"Inter, sans-serif\", \"titleFontSize\": 12, \"titleFontWeight\": \"bold\"}, \"line\": {\"stroke\": \"#51C0E9\", \"strokeWidth\": 2}, \"rect\": {\"fill\": \"#51C0E9\"}, \"title\": {\"anchor\": \"start\", \"color\": \"#000000\", \"font\": \"Inter, sans-serif\", \"fontSize\": 22, \"fontWeight\": \"normal\"}}, \"data\": {\"name\": \"data-17b75cd40d1394e1c9e41c74aabbe839\"}, \"mark\": {\"type\": \"bar\", \"tooltip\": {\"content\": \"data\"}}, \"autosize\": {\"type\": \"fit\"}, \"encoding\": {\"color\": {\"type\": \"nominal\", \"field\": \"role\", \"scale\": {\"type\": \"linear\", \"zero\": false}, \"sort\": null}, \"x\": {\"type\": \"quantitative\", \"field\": \"expected_bonus\", \"scale\": {\"type\": \"linear\", \"zero\": false}, \"sort\": null}, \"y\": {\"type\": \"nominal\", \"field\": \"player\", \"scale\": {\"type\": \"linear\", \"zero\": true}, \"sort\": null}}, \"height\": 300, \"width\": \"container\", \"$schema\": \"https://vega.github.io/schema/vega-lite/v4.json\", \"datasets\": {\"data-17b75cd40d1394e1c9e41c74aabbe839\": [{\"fanta_team\": \"AI sereje ja dejeDe jebe tu de jebere\", \"role\": \"D\", \"player\": \"Skriniar\", \"team\": \"Inter\", \"opponent\": \"Genoa\", \"date\": \"2022-02-27T00:00:00\", \"expected_bonus\": 0.3952905237674713}, {\"fanta_team\": \"AI sereje ja dejeDe jebe tu de jebere\", \"role\": \"D\", \"player\": \"Darmian\", \"team\": \"Inter\", \"opponent\": \"Genoa\", \"date\": \"2022-02-27T00:00:00\", \"expected_bonus\": 0.36421772837638855}, {\"fanta_team\": \"AI sereje ja dejeDe jebe tu de jebere\", \"role\": \"D\", \"player\": \"Hateboer\", \"team\": \"Atalanta\", \"opponent\": \"Sampdoria\", \"date\": \"2022-02-27T00:00:00\", \"expected_bonus\": 0.33078986406326294}, {\"fanta_team\": \"AI sereje ja dejeDe jebe tu de jebere\", \"role\": \"D\", \"player\": \"Rrahmani\", \"team\": \"Napoli\", \"opponent\": \"Lazio\", \"date\": \"2022-02-27T00:00:00\", \"expected_bonus\": 0.29323938488960266}, {\"fanta_team\": \"AI sereje ja dejeDe jebe tu de jebere\", \"role\": \"D\", \"player\": \"Acerbi\", \"team\": \"Lazio\", \"opponent\": \"Napoli\", \"date\": \"2022-02-27T00:00:00\", \"expected_bonus\": 0.16705523431301117}, {\"fanta_team\": \"AI sereje ja dejeDe jebe tu de jebere\", \"role\": \"D\", \"player\": \"Tuanzebe\", \"team\": \"Napoli\", \"opponent\": \"Lazio\", \"date\": \"2022-02-27T00:00:00\", \"expected_bonus\": 0.16179291903972626}, {\"fanta_team\": \"AI sereje ja dejeDe jebe tu de jebere\", \"role\": \"D\", \"player\": \"Yoshida\", \"team\": \"Sampdoria\", \"opponent\": \"Atalanta\", \"date\": \"2022-02-27T00:00:00\", \"expected_bonus\": 0.0038724755868315697}, {\"fanta_team\": \"AI sereje ja dejeDe jebe tu de jebere\", \"role\": \"C\", \"player\": \"Bajrami\", \"team\": \"Empoli\", \"opponent\": \"Juventus\", \"date\": \"2022-02-27T00:00:00\", \"expected_bonus\": 0.791661262512207}, {\"fanta_team\": \"AI sereje ja dejeDe jebe tu de jebere\", \"role\": \"C\", \"player\": \"Djuricic\", \"team\": \"Sassuolo\", \"opponent\": \"Fiorentina\", \"date\": \"2022-02-27T00:00:00\", \"expected_bonus\": 0.6687697172164917}, {\"fanta_team\": \"AI sereje ja dejeDe jebe tu de jebere\", \"role\": \"C\", \"player\": \"Candreva\", \"team\": \"Sampdoria\", \"opponent\": \"Atalanta\", \"date\": \"2022-02-27T00:00:00\", \"expected_bonus\": 0.5323943495750427}, {\"fanta_team\": \"AI sereje ja dejeDe jebe tu de jebere\", \"role\": \"C\", \"player\": \"Bonaventura\", \"team\": \"Fiorentina\", \"opponent\": \"Sassuolo\", \"date\": \"2022-02-27T00:00:00\", \"expected_bonus\": 0.515846312046051}, {\"fanta_team\": \"AI sereje ja dejeDe jebe tu de jebere\", \"role\": \"C\", \"player\": \"Lukic\", \"team\": \"Torino\", \"opponent\": \"Cagliari\", \"date\": \"2022-02-27T00:00:00\", \"expected_bonus\": 0.43617624044418335}, {\"fanta_team\": \"AI sereje ja dejeDe jebe tu de jebere\", \"role\": \"C\", \"player\": \"Svanberg\", \"team\": \"Bologna\", \"opponent\": \"Salernitana\", \"date\": \"2022-02-27T00:00:00\", \"expected_bonus\": 0.20295578241348267}, {\"fanta_team\": \"AI sereje ja dejeDe jebe tu de jebere\", \"role\": \"C\", \"player\": \"Zakaria\", \"team\": \"Juventus\", \"opponent\": \"Empoli\", \"date\": \"2022-02-27T00:00:00\", \"expected_bonus\": 0.16550013422966003}, {\"fanta_team\": \"AI sereje ja dejeDe jebe tu de jebere\", \"role\": \"A\", \"player\": \"Vlahovic\", \"team\": \"Juventus\", \"opponent\": \"Empoli\", \"date\": \"2022-02-27T00:00:00\", \"expected_bonus\": 2.1798675060272217}, {\"fanta_team\": \"AI sereje ja dejeDe jebe tu de jebere\", \"role\": \"A\", \"player\": \"Zapata\", \"team\": \"Atalanta\", \"opponent\": \"Sampdoria\", \"date\": \"2022-02-27T00:00:00\", \"expected_bonus\": 2.0047035217285156}, {\"fanta_team\": \"AI sereje ja dejeDe jebe tu de jebere\", \"role\": \"A\", \"player\": \"Lozano\", \"team\": \"Napoli\", \"opponent\": \"Lazio\", \"date\": \"2022-02-27T00:00:00\", \"expected_bonus\": 0.9768078923225403}, {\"fanta_team\": \"AI sereje ja dejeDe jebe tu de jebere\", \"role\": \"A\", \"player\": \"Destro\", \"team\": \"Genoa\", \"opponent\": \"Inter\", \"date\": \"2022-02-27T00:00:00\", \"expected_bonus\": 0.8711439371109009}, {\"fanta_team\": \"AI sereje ja dejeDe jebe tu de jebere\", \"role\": \"A\", \"player\": \"Beto\", \"team\": \"Udinese\", \"opponent\": \"AC Milan\", \"date\": \"2022-02-27T00:00:00\", \"expected_bonus\": 0.8609507083892822}, {\"fanta_team\": \"AI sereje ja dejeDe jebe tu de jebere\", \"role\": \"A\", \"player\": \"Gyasi\", \"team\": \"Spezia\", \"opponent\": \"Roma\", \"date\": \"2022-02-27T00:00:00\", \"expected_bonus\": 0.33940771222114563}]}}, {\"actions\": false, \"mode\": \"vega-lite\"});\n</script>",
      "text/plain": "alt.Chart(...)"
     },
     "metadata": {}
    }
   ]
  },
  {
   "cell_type": "code",
   "metadata": {
    "cell_id": "2e687bc2-7527-4205-938c-991162872c2c",
    "tags": [],
    "deepnote_to_be_reexecuted": false,
    "source_hash": "3f500048",
    "execution_start": 1645596329662,
    "execution_millis": 1,
    "deepnote_cell_type": "code"
   },
   "source": "team, index = display_fanta_squad(predictions, teams, index)",
   "execution_count": 10,
   "outputs": []
  },
  {
   "cell_type": "code",
   "source": "_deepnote_run_altair(team, \"\"\"{\"$schema\":\"https://vega.github.io/schema/vega-lite/v4.json\",\"mark\":{\"type\":\"bar\",\"tooltip\":{\"content\":\"data\"}},\"height\":220,\"autosize\":{\"type\":\"fit\"},\"data\":{\"name\":\"placeholder\"},\"encoding\":{\"x\":{\"field\":\"expected_bonus\",\"type\":\"quantitative\",\"sort\":null,\"scale\":{\"type\":\"linear\",\"zero\":false}},\"y\":{\"field\":\"player\",\"type\":\"nominal\",\"sort\":null,\"scale\":{\"type\":\"linear\",\"zero\":true}},\"color\":{\"field\":\"role\",\"type\":\"nominal\",\"sort\":null,\"scale\":{\"type\":\"linear\",\"zero\":false}}}}\"\"\")",
   "metadata": {
    "cell_id": "f2a82479-5e7d-4027-8358-566cecfd00e7",
    "deepnote_variable_name": "team",
    "deepnote_visualization_spec": {
     "$schema": "https://vega.github.io/schema/vega-lite/v4.json",
     "mark": {
      "type": "bar",
      "tooltip": {
       "content": "data"
      }
     },
     "height": 220,
     "autosize": {
      "type": "fit"
     },
     "data": {
      "name": "placeholder"
     },
     "encoding": {
      "x": {
       "field": "expected_bonus",
       "type": "quantitative",
       "sort": null,
       "scale": {
        "type": "linear",
        "zero": false
       }
      },
      "y": {
       "field": "player",
       "type": "nominal",
       "sort": null,
       "scale": {
        "type": "linear",
        "zero": true
       }
      },
      "color": {
       "field": "role",
       "type": "nominal",
       "sort": null,
       "scale": {
        "type": "linear",
        "zero": false
       }
      }
     }
    },
    "deepnote_to_be_reexecuted": false,
    "source_hash": "e68de25e",
    "execution_start": 1645596329663,
    "execution_millis": 106,
    "deepnote_output_heights": [
     314
    ],
    "allow_embed": "output",
    "deepnote_cell_type": "visualization"
   },
   "execution_count": 11,
   "outputs": [
    {
     "output_type": "execute_result",
     "execution_count": 11,
     "data": {
      "text/html": "\n<div id=\"altair-viz-689cd2dc90104f658074fee8b5a5de77\"></div>\n<script type=\"text/javascript\">\n  (function(spec, embedOpt){\n    let outputDiv = document.currentScript.previousElementSibling;\n    if (outputDiv.id !== \"altair-viz-689cd2dc90104f658074fee8b5a5de77\") {\n      outputDiv = document.getElementById(\"altair-viz-689cd2dc90104f658074fee8b5a5de77\");\n    }\n    const paths = {\n      \"vega\": \"https://cdn.jsdelivr.net/npm//vega@5?noext\",\n      \"vega-lib\": \"https://cdn.jsdelivr.net/npm//vega-lib?noext\",\n      \"vega-lite\": \"https://cdn.jsdelivr.net/npm//vega-lite@4.8.1?noext\",\n      \"vega-embed\": \"https://cdn.jsdelivr.net/npm//vega-embed@6?noext\",\n    };\n\n    function loadScript(lib) {\n      return new Promise(function(resolve, reject) {\n        var s = document.createElement('script');\n        s.src = paths[lib];\n        s.async = true;\n        s.onload = () => resolve(paths[lib]);\n        s.onerror = () => reject(`Error loading script: ${paths[lib]}`);\n        document.getElementsByTagName(\"head\")[0].appendChild(s);\n      });\n    }\n\n    function showError(err) {\n      outputDiv.innerHTML = `<div class=\"error\" style=\"color:red;\">${err}</div>`;\n      throw err;\n    }\n\n    function displayChart(vegaEmbed) {\n      vegaEmbed(outputDiv, spec, embedOpt)\n        .catch(err => showError(`Javascript Error: ${err.message}<br>This usually means there's a typo in your chart specification. See the javascript console for the full traceback.`));\n    }\n\n    if(typeof define === \"function\" && define.amd) {\n      requirejs.config({paths});\n      require([\"vega-embed\"], displayChart, err => showError(`Error loading script: ${err.message}`));\n    } else if (typeof vegaEmbed === \"function\") {\n      displayChart(vegaEmbed);\n    } else {\n      loadScript(\"vega\")\n        .then(() => loadScript(\"vega-lite\"))\n        .then(() => loadScript(\"vega-embed\"))\n        .catch(showError)\n        .then(() => displayChart(vegaEmbed));\n    }\n  })({\"config\": {\"view\": {\"continuousWidth\": 400, \"continuousHeight\": 300}, \"area\": {\"fill\": \"#51C0E9\"}, \"axis\": {\"labelFont\": \"Inter, sans-serif\", \"labelFontSize\": 12, \"labelFontWeight\": \"normal\", \"labelLimit\": 60, \"labelOverlap\": \"greedy\", \"titleFont\": \"Inter, sans-serif\", \"titleFontSize\": 12, \"titleFontWeight\": \"bold\"}, \"background\": \"#ffffff\", \"legend\": {\"labelFont\": \"Inter, sans-serif\", \"labelFontSize\": 12, \"titleFont\": \"Inter, sans-serif\", \"titleFontSize\": 12, \"titleFontWeight\": \"bold\"}, \"line\": {\"stroke\": \"#51C0E9\", \"strokeWidth\": 2}, \"rect\": {\"fill\": \"#51C0E9\"}, \"title\": {\"anchor\": \"start\", \"color\": \"#000000\", \"font\": \"Inter, sans-serif\", \"fontSize\": 22, \"fontWeight\": \"normal\"}}, \"data\": {\"name\": \"data-ac6c49a04b18abd4529daed921485ce4\"}, \"mark\": {\"type\": \"bar\", \"tooltip\": {\"content\": \"data\"}}, \"autosize\": {\"type\": \"fit\"}, \"encoding\": {\"color\": {\"type\": \"nominal\", \"field\": \"role\", \"scale\": {\"type\": \"linear\", \"zero\": false}, \"sort\": null}, \"x\": {\"type\": \"quantitative\", \"field\": \"expected_bonus\", \"scale\": {\"type\": \"linear\", \"zero\": false}, \"sort\": null}, \"y\": {\"type\": \"nominal\", \"field\": \"player\", \"scale\": {\"type\": \"linear\", \"zero\": true}, \"sort\": null}}, \"height\": 300, \"width\": \"container\", \"$schema\": \"https://vega.github.io/schema/vega-lite/v4.json\", \"datasets\": {\"data-ac6c49a04b18abd4529daed921485ce4\": [{\"fanta_team\": \"Beverly INPS\", \"role\": \"D\", \"player\": \"Dimarco\", \"team\": \"Inter\", \"opponent\": \"Genoa\", \"date\": \"2022-02-27T00:00:00\", \"expected_bonus\": 0.7686153054237366}, {\"fanta_team\": \"Beverly INPS\", \"role\": \"D\", \"player\": \"Cuadrado\", \"team\": \"Juventus\", \"opponent\": \"Empoli\", \"date\": \"2022-02-27T00:00:00\", \"expected_bonus\": 0.3313138484954834}, {\"fanta_team\": \"Beverly INPS\", \"role\": \"D\", \"player\": \"Bastoni\", \"team\": \"Inter\", \"opponent\": \"Genoa\", \"date\": \"2022-02-27T00:00:00\", \"expected_bonus\": 0.3092518746852875}, {\"fanta_team\": \"Beverly INPS\", \"role\": \"D\", \"player\": \"Lorenzo\", \"team\": \"Napoli\", \"opponent\": \"Lazio\", \"date\": \"2022-02-27T00:00:00\", \"expected_bonus\": 0.26114240288734436}, {\"fanta_team\": \"Beverly INPS\", \"role\": \"D\", \"player\": \"Romagnoli\", \"team\": \"AC Milan\", \"opponent\": \"Udinese\", \"date\": \"2022-02-27T00:00:00\", \"expected_bonus\": 0.21581397950649261}, {\"fanta_team\": \"Beverly INPS\", \"role\": \"D\", \"player\": \"Cambiaso\", \"team\": \"Genoa\", \"opponent\": \"Inter\", \"date\": \"2022-02-27T00:00:00\", \"expected_bonus\": 0.1330289989709854}, {\"fanta_team\": \"Beverly INPS\", \"role\": \"D\", \"player\": \"Nuytinck\", \"team\": \"Udinese\", \"opponent\": \"AC Milan\", \"date\": \"2022-02-27T00:00:00\", \"expected_bonus\": 0.015570899471640587}, {\"fanta_team\": \"Beverly INPS\", \"role\": \"C\", \"player\": \"Barak\", \"team\": \"Verona\", \"opponent\": \"Venezia\", \"date\": \"2022-02-27T00:00:00\", \"expected_bonus\": 1.095991611480713}, {\"fanta_team\": \"Beverly INPS\", \"role\": \"C\", \"player\": \"Zielinski\", \"team\": \"Napoli\", \"opponent\": \"Lazio\", \"date\": \"2022-02-27T00:00:00\", \"expected_bonus\": 0.8183265924453735}, {\"fanta_team\": \"Beverly INPS\", \"role\": \"C\", \"player\": \"Praet\", \"team\": \"Torino\", \"opponent\": \"Cagliari\", \"date\": \"2022-02-27T00:00:00\", \"expected_bonus\": 0.7484372854232788}, {\"fanta_team\": \"Beverly INPS\", \"role\": \"C\", \"player\": \"Veretout\", \"team\": \"Roma\", \"opponent\": \"Spezia\", \"date\": \"2022-02-27T00:00:00\", \"expected_bonus\": 0.5958148837089539}, {\"fanta_team\": \"Beverly INPS\", \"role\": \"C\", \"player\": \"Kessi\\u00e9\", \"team\": \"AC Milan\", \"opponent\": \"Udinese\", \"date\": \"2022-02-27T00:00:00\", \"expected_bonus\": 0.5828981995582581}, {\"fanta_team\": \"Beverly INPS\", \"role\": \"C\", \"player\": \"Alberto\", \"team\": \"Lazio\", \"opponent\": \"Napoli\", \"date\": \"2022-02-27T00:00:00\", \"expected_bonus\": 0.41834527254104614}, {\"fanta_team\": \"Beverly INPS\", \"role\": \"C\", \"player\": \"Elmas\", \"team\": \"Napoli\", \"opponent\": \"Lazio\", \"date\": \"2022-02-27T00:00:00\", \"expected_bonus\": 0.28566062450408936}, {\"fanta_team\": \"Beverly INPS\", \"role\": \"A\", \"player\": \"Mart\\u00ednez\", \"team\": \"Inter\", \"opponent\": \"Genoa\", \"date\": \"2022-02-27T00:00:00\", \"expected_bonus\": 2.1276957988739014}, {\"fanta_team\": \"Beverly INPS\", \"role\": \"A\", \"player\": \"Berardi\", \"team\": \"Sassuolo\", \"opponent\": \"Fiorentina\", \"date\": \"2022-02-27T00:00:00\", \"expected_bonus\": 1.300428867340088}, {\"fanta_team\": \"Beverly INPS\", \"role\": \"A\", \"player\": \"Mertens\", \"team\": \"Napoli\", \"opponent\": \"Lazio\", \"date\": \"2022-02-27T00:00:00\", \"expected_bonus\": 1.2337476015090942}, {\"fanta_team\": \"Beverly INPS\", \"role\": \"A\", \"player\": \"Barrow\", \"team\": \"Bologna\", \"opponent\": \"Salernitana\", \"date\": \"2022-02-27T00:00:00\", \"expected_bonus\": 1.0663186311721802}, {\"fanta_team\": \"Beverly INPS\", \"role\": \"A\", \"player\": \"Deulofeu\", \"team\": \"Udinese\", \"opponent\": \"AC Milan\", \"date\": \"2022-02-27T00:00:00\", \"expected_bonus\": 0.8826842308044434}, {\"fanta_team\": \"Beverly INPS\", \"role\": \"A\", \"player\": \"Gonz\\u00e1lez\", \"team\": \"Fiorentina\", \"opponent\": \"Sassuolo\", \"date\": \"2022-02-27T00:00:00\", \"expected_bonus\": 0.7619057893753052}]}}, {\"actions\": false, \"mode\": \"vega-lite\"});\n</script>",
      "text/plain": "alt.Chart(...)"
     },
     "metadata": {}
    }
   ]
  },
  {
   "cell_type": "code",
   "metadata": {
    "cell_id": "916c19f8-a9c2-4762-8c8c-98800652248f",
    "tags": [],
    "deepnote_to_be_reexecuted": false,
    "source_hash": "3f500048",
    "execution_start": 1645596329775,
    "execution_millis": 1,
    "deepnote_cell_type": "code"
   },
   "source": "team, index = display_fanta_squad(predictions, teams, index)",
   "execution_count": 12,
   "outputs": []
  },
  {
   "cell_type": "code",
   "source": "_deepnote_run_altair(team, \"\"\"{\"$schema\":\"https://vega.github.io/schema/vega-lite/v4.json\",\"mark\":{\"type\":\"bar\",\"tooltip\":{\"content\":\"data\"}},\"height\":220,\"autosize\":{\"type\":\"fit\"},\"data\":{\"name\":\"placeholder\"},\"encoding\":{\"x\":{\"field\":\"expected_bonus\",\"type\":\"quantitative\",\"sort\":null,\"scale\":{\"type\":\"linear\",\"zero\":false}},\"y\":{\"field\":\"player\",\"type\":\"nominal\",\"sort\":null,\"scale\":{\"type\":\"linear\",\"zero\":true}},\"color\":{\"field\":\"role\",\"type\":\"nominal\",\"sort\":null,\"scale\":{\"type\":\"linear\",\"zero\":false}}}}\"\"\")",
   "metadata": {
    "cell_id": "25c33c88-5e5c-405a-a0c8-3800930b7e22",
    "deepnote_variable_name": "team",
    "deepnote_visualization_spec": {
     "$schema": "https://vega.github.io/schema/vega-lite/v4.json",
     "mark": {
      "type": "bar",
      "tooltip": {
       "content": "data"
      }
     },
     "height": 220,
     "autosize": {
      "type": "fit"
     },
     "data": {
      "name": "placeholder"
     },
     "encoding": {
      "x": {
       "field": "expected_bonus",
       "type": "quantitative",
       "sort": null,
       "scale": {
        "type": "linear",
        "zero": false
       }
      },
      "y": {
       "field": "player",
       "type": "nominal",
       "sort": null,
       "scale": {
        "type": "linear",
        "zero": true
       }
      },
      "color": {
       "field": "role",
       "type": "nominal",
       "sort": null,
       "scale": {
        "type": "linear",
        "zero": false
       }
      }
     }
    },
    "deepnote_to_be_reexecuted": false,
    "source_hash": "e68de25e",
    "execution_start": 1645596329824,
    "execution_millis": 115,
    "deepnote_output_heights": [
     314
    ],
    "allow_embed": true,
    "deepnote_cell_type": "visualization"
   },
   "execution_count": 13,
   "outputs": [
    {
     "output_type": "execute_result",
     "execution_count": 13,
     "data": {
      "text/html": "\n<div id=\"altair-viz-8999af95ad8a4373ab627c4fd652d167\"></div>\n<script type=\"text/javascript\">\n  (function(spec, embedOpt){\n    let outputDiv = document.currentScript.previousElementSibling;\n    if (outputDiv.id !== \"altair-viz-8999af95ad8a4373ab627c4fd652d167\") {\n      outputDiv = document.getElementById(\"altair-viz-8999af95ad8a4373ab627c4fd652d167\");\n    }\n    const paths = {\n      \"vega\": \"https://cdn.jsdelivr.net/npm//vega@5?noext\",\n      \"vega-lib\": \"https://cdn.jsdelivr.net/npm//vega-lib?noext\",\n      \"vega-lite\": \"https://cdn.jsdelivr.net/npm//vega-lite@4.8.1?noext\",\n      \"vega-embed\": \"https://cdn.jsdelivr.net/npm//vega-embed@6?noext\",\n    };\n\n    function loadScript(lib) {\n      return new Promise(function(resolve, reject) {\n        var s = document.createElement('script');\n        s.src = paths[lib];\n        s.async = true;\n        s.onload = () => resolve(paths[lib]);\n        s.onerror = () => reject(`Error loading script: ${paths[lib]}`);\n        document.getElementsByTagName(\"head\")[0].appendChild(s);\n      });\n    }\n\n    function showError(err) {\n      outputDiv.innerHTML = `<div class=\"error\" style=\"color:red;\">${err}</div>`;\n      throw err;\n    }\n\n    function displayChart(vegaEmbed) {\n      vegaEmbed(outputDiv, spec, embedOpt)\n        .catch(err => showError(`Javascript Error: ${err.message}<br>This usually means there's a typo in your chart specification. See the javascript console for the full traceback.`));\n    }\n\n    if(typeof define === \"function\" && define.amd) {\n      requirejs.config({paths});\n      require([\"vega-embed\"], displayChart, err => showError(`Error loading script: ${err.message}`));\n    } else if (typeof vegaEmbed === \"function\") {\n      displayChart(vegaEmbed);\n    } else {\n      loadScript(\"vega\")\n        .then(() => loadScript(\"vega-lite\"))\n        .then(() => loadScript(\"vega-embed\"))\n        .catch(showError)\n        .then(() => displayChart(vegaEmbed));\n    }\n  })({\"config\": {\"view\": {\"continuousWidth\": 400, \"continuousHeight\": 300}, \"area\": {\"fill\": \"#51C0E9\"}, \"axis\": {\"labelFont\": \"Inter, sans-serif\", \"labelFontSize\": 12, \"labelFontWeight\": \"normal\", \"labelLimit\": 60, \"labelOverlap\": \"greedy\", \"titleFont\": \"Inter, sans-serif\", \"titleFontSize\": 12, \"titleFontWeight\": \"bold\"}, \"background\": \"#ffffff\", \"legend\": {\"labelFont\": \"Inter, sans-serif\", \"labelFontSize\": 12, \"titleFont\": \"Inter, sans-serif\", \"titleFontSize\": 12, \"titleFontWeight\": \"bold\"}, \"line\": {\"stroke\": \"#51C0E9\", \"strokeWidth\": 2}, \"rect\": {\"fill\": \"#51C0E9\"}, \"title\": {\"anchor\": \"start\", \"color\": \"#000000\", \"font\": \"Inter, sans-serif\", \"fontSize\": 22, \"fontWeight\": \"normal\"}}, \"data\": {\"name\": \"data-5edb9c8fd6ba5871ac5262bf534fb7f8\"}, \"mark\": {\"type\": \"bar\", \"tooltip\": {\"content\": \"data\"}}, \"autosize\": {\"type\": \"fit\"}, \"encoding\": {\"color\": {\"type\": \"nominal\", \"field\": \"role\", \"scale\": {\"type\": \"linear\", \"zero\": false}, \"sort\": null}, \"x\": {\"type\": \"quantitative\", \"field\": \"expected_bonus\", \"scale\": {\"type\": \"linear\", \"zero\": false}, \"sort\": null}, \"y\": {\"type\": \"nominal\", \"field\": \"player\", \"scale\": {\"type\": \"linear\", \"zero\": true}, \"sort\": null}}, \"height\": 300, \"width\": \"container\", \"$schema\": \"https://vega.github.io/schema/vega-lite/v4.json\", \"datasets\": {\"data-5edb9c8fd6ba5871ac5262bf534fb7f8\": [{\"fanta_team\": \"MEZAFE\", \"role\": \"D\", \"player\": \"Zappacosta\", \"team\": \"Atalanta\", \"opponent\": \"Sampdoria\", \"date\": \"2022-02-27T00:00:00\", \"expected_bonus\": 0.5596944093704224}, {\"fanta_team\": \"MEZAFE\", \"role\": \"D\", \"player\": \"Bonucci\", \"team\": \"Juventus\", \"opponent\": \"Empoli\", \"date\": \"2022-02-27T00:00:00\", \"expected_bonus\": 0.4736216366291046}, {\"fanta_team\": \"MEZAFE\", \"role\": \"D\", \"player\": \"Criscito\", \"team\": \"Genoa\", \"opponent\": \"Inter\", \"date\": \"2022-02-27T00:00:00\", \"expected_bonus\": 0.4610768258571625}, {\"fanta_team\": \"MEZAFE\", \"role\": \"D\", \"player\": \"Vrij\", \"team\": \"Inter\", \"opponent\": \"Genoa\", \"date\": \"2022-02-27T00:00:00\", \"expected_bonus\": 0.2899400293827057}, {\"fanta_team\": \"MEZAFE\", \"role\": \"D\", \"player\": \"Mancini\", \"team\": \"Roma\", \"opponent\": \"Spezia\", \"date\": \"2022-02-27T00:00:00\", \"expected_bonus\": 0.2371847778558731}, {\"fanta_team\": \"MEZAFE\", \"role\": \"D\", \"player\": \"Danilo\", \"team\": \"Juventus\", \"opponent\": \"Empoli\", \"date\": \"2022-02-27T00:00:00\", \"expected_bonus\": 0.2227732092142105}, {\"fanta_team\": \"MEZAFE\", \"role\": \"D\", \"player\": \"Silvestri\", \"team\": \"Bologna\", \"opponent\": \"Salernitana\", \"date\": \"2022-02-27T00:00:00\", \"expected_bonus\": 0.1938539445400238}, {\"fanta_team\": \"MEZAFE\", \"role\": \"D\", \"player\": \"Chiellini\", \"team\": \"Juventus\", \"opponent\": \"Empoli\", \"date\": \"2022-02-27T00:00:00\", \"expected_bonus\": 0.1518283635377884}, {\"fanta_team\": \"MEZAFE\", \"role\": \"C\", \"player\": \"Pasalic\", \"team\": \"Atalanta\", \"opponent\": \"Sampdoria\", \"date\": \"2022-02-27T00:00:00\", \"expected_bonus\": 0.9108297824859619}, {\"fanta_team\": \"MEZAFE\", \"role\": \"C\", \"player\": \"Verdi\", \"team\": \"Salernitana\", \"opponent\": \"Bologna\", \"date\": \"2022-02-27T00:00:00\", \"expected_bonus\": 0.6864994168281555}, {\"fanta_team\": \"MEZAFE\", \"role\": \"C\", \"player\": \"Saelemaekers\", \"team\": \"AC Milan\", \"opponent\": \"Udinese\", \"date\": \"2022-02-27T00:00:00\", \"expected_bonus\": 0.6831313967704773}, {\"fanta_team\": \"MEZAFE\", \"role\": \"C\", \"player\": \"Perisic\", \"team\": \"Inter\", \"opponent\": \"Genoa\", \"date\": \"2022-02-27T00:00:00\", \"expected_bonus\": 0.5162525773048401}, {\"fanta_team\": \"MEZAFE\", \"role\": \"C\", \"player\": \"Lazovic\", \"team\": \"Verona\", \"opponent\": \"Venezia\", \"date\": \"2022-02-27T00:00:00\", \"expected_bonus\": 0.4689169228076935}, {\"fanta_team\": \"MEZAFE\", \"role\": \"C\", \"player\": \"McKennie\", \"team\": \"Juventus\", \"opponent\": \"Empoli\", \"date\": \"2022-02-27T00:00:00\", \"expected_bonus\": 0.4067329466342926}, {\"fanta_team\": \"MEZAFE\", \"role\": \"C\", \"player\": \"Tonali\", \"team\": \"AC Milan\", \"opponent\": \"Udinese\", \"date\": \"2022-02-27T00:00:00\", \"expected_bonus\": 0.35496634244918823}, {\"fanta_team\": \"MEZAFE\", \"role\": \"C\", \"player\": \"Castrovilli\", \"team\": \"Fiorentina\", \"opponent\": \"Sassuolo\", \"date\": \"2022-02-27T00:00:00\", \"expected_bonus\": 0.1754121631383896}, {\"fanta_team\": \"MEZAFE\", \"role\": \"A\", \"player\": \"Dybala\", \"team\": \"Juventus\", \"opponent\": \"Empoli\", \"date\": \"2022-02-27T00:00:00\", \"expected_bonus\": 1.8206723928451538}, {\"fanta_team\": \"MEZAFE\", \"role\": \"A\", \"player\": \"Sanabria\", \"team\": \"Torino\", \"opponent\": \"Cagliari\", \"date\": \"2022-02-27T00:00:00\", \"expected_bonus\": 1.3521591424942017}, {\"fanta_team\": \"MEZAFE\", \"role\": \"A\", \"player\": \"Simeone\", \"team\": \"Verona\", \"opponent\": \"Venezia\", \"date\": \"2022-02-27T00:00:00\", \"expected_bonus\": 1.2389646768569946}, {\"fanta_team\": \"MEZAFE\", \"role\": \"A\", \"player\": \"Piatek\", \"team\": \"Fiorentina\", \"opponent\": \"Sassuolo\", \"date\": \"2022-02-27T00:00:00\", \"expected_bonus\": 1.1221284866333008}, {\"fanta_team\": \"MEZAFE\", \"role\": \"A\", \"player\": \"Quagliarella\", \"team\": \"Sampdoria\", \"opponent\": \"Atalanta\", \"date\": \"2022-02-27T00:00:00\", \"expected_bonus\": 0.7024461030960083}, {\"fanta_team\": \"MEZAFE\", \"role\": \"A\", \"player\": \"Rebic\", \"team\": \"AC Milan\", \"opponent\": \"Udinese\", \"date\": \"2022-02-27T00:00:00\", \"expected_bonus\": 0.4181382954120636}]}}, {\"actions\": false, \"mode\": \"vega-lite\"});\n</script>",
      "text/plain": "alt.Chart(...)"
     },
     "metadata": {}
    }
   ]
  },
  {
   "cell_type": "code",
   "metadata": {
    "cell_id": "276bd398-b660-4090-92fd-fb77fc80292b",
    "tags": [],
    "deepnote_to_be_reexecuted": false,
    "source_hash": "3f500048",
    "execution_start": 1645596329937,
    "execution_millis": 1,
    "deepnote_cell_type": "code"
   },
   "source": "team, index = display_fanta_squad(predictions, teams, index)",
   "execution_count": 14,
   "outputs": []
  },
  {
   "cell_type": "code",
   "source": "_deepnote_run_altair(team, \"\"\"{\"$schema\":\"https://vega.github.io/schema/vega-lite/v4.json\",\"mark\":{\"type\":\"bar\",\"tooltip\":{\"content\":\"data\"}},\"height\":220,\"autosize\":{\"type\":\"fit\"},\"data\":{\"name\":\"placeholder\"},\"encoding\":{\"x\":{\"field\":\"expected_bonus\",\"type\":\"quantitative\",\"sort\":null,\"scale\":{\"type\":\"linear\",\"zero\":false}},\"y\":{\"field\":\"player\",\"type\":\"nominal\",\"sort\":null,\"scale\":{\"type\":\"linear\",\"zero\":true}},\"color\":{\"field\":\"role\",\"type\":\"nominal\",\"sort\":null,\"scale\":{\"type\":\"linear\",\"zero\":false}}}}\"\"\")",
   "metadata": {
    "cell_id": "81adbb4a-773d-4067-8e05-9a828af1216c",
    "deepnote_variable_name": "team",
    "deepnote_visualization_spec": {
     "$schema": "https://vega.github.io/schema/vega-lite/v4.json",
     "mark": {
      "type": "bar",
      "tooltip": {
       "content": "data"
      }
     },
     "height": 220,
     "autosize": {
      "type": "fit"
     },
     "data": {
      "name": "placeholder"
     },
     "encoding": {
      "x": {
       "field": "expected_bonus",
       "type": "quantitative",
       "sort": null,
       "scale": {
        "type": "linear",
        "zero": false
       }
      },
      "y": {
       "field": "player",
       "type": "nominal",
       "sort": null,
       "scale": {
        "type": "linear",
        "zero": true
       }
      },
      "color": {
       "field": "role",
       "type": "nominal",
       "sort": null,
       "scale": {
        "type": "linear",
        "zero": false
       }
      }
     }
    },
    "deepnote_to_be_reexecuted": false,
    "source_hash": "e68de25e",
    "execution_start": 1645596329938,
    "execution_millis": 90,
    "deepnote_output_heights": [
     314
    ],
    "allow_embed": "output",
    "deepnote_cell_type": "visualization"
   },
   "execution_count": 15,
   "outputs": [
    {
     "output_type": "execute_result",
     "execution_count": 15,
     "data": {
      "text/html": "\n<div id=\"altair-viz-0e790e2a94df48ddbbe94001d1612e92\"></div>\n<script type=\"text/javascript\">\n  (function(spec, embedOpt){\n    let outputDiv = document.currentScript.previousElementSibling;\n    if (outputDiv.id !== \"altair-viz-0e790e2a94df48ddbbe94001d1612e92\") {\n      outputDiv = document.getElementById(\"altair-viz-0e790e2a94df48ddbbe94001d1612e92\");\n    }\n    const paths = {\n      \"vega\": \"https://cdn.jsdelivr.net/npm//vega@5?noext\",\n      \"vega-lib\": \"https://cdn.jsdelivr.net/npm//vega-lib?noext\",\n      \"vega-lite\": \"https://cdn.jsdelivr.net/npm//vega-lite@4.8.1?noext\",\n      \"vega-embed\": \"https://cdn.jsdelivr.net/npm//vega-embed@6?noext\",\n    };\n\n    function loadScript(lib) {\n      return new Promise(function(resolve, reject) {\n        var s = document.createElement('script');\n        s.src = paths[lib];\n        s.async = true;\n        s.onload = () => resolve(paths[lib]);\n        s.onerror = () => reject(`Error loading script: ${paths[lib]}`);\n        document.getElementsByTagName(\"head\")[0].appendChild(s);\n      });\n    }\n\n    function showError(err) {\n      outputDiv.innerHTML = `<div class=\"error\" style=\"color:red;\">${err}</div>`;\n      throw err;\n    }\n\n    function displayChart(vegaEmbed) {\n      vegaEmbed(outputDiv, spec, embedOpt)\n        .catch(err => showError(`Javascript Error: ${err.message}<br>This usually means there's a typo in your chart specification. See the javascript console for the full traceback.`));\n    }\n\n    if(typeof define === \"function\" && define.amd) {\n      requirejs.config({paths});\n      require([\"vega-embed\"], displayChart, err => showError(`Error loading script: ${err.message}`));\n    } else if (typeof vegaEmbed === \"function\") {\n      displayChart(vegaEmbed);\n    } else {\n      loadScript(\"vega\")\n        .then(() => loadScript(\"vega-lite\"))\n        .then(() => loadScript(\"vega-embed\"))\n        .catch(showError)\n        .then(() => displayChart(vegaEmbed));\n    }\n  })({\"config\": {\"view\": {\"continuousWidth\": 400, \"continuousHeight\": 300}, \"area\": {\"fill\": \"#51C0E9\"}, \"axis\": {\"labelFont\": \"Inter, sans-serif\", \"labelFontSize\": 12, \"labelFontWeight\": \"normal\", \"labelLimit\": 60, \"labelOverlap\": \"greedy\", \"titleFont\": \"Inter, sans-serif\", \"titleFontSize\": 12, \"titleFontWeight\": \"bold\"}, \"background\": \"#ffffff\", \"legend\": {\"labelFont\": \"Inter, sans-serif\", \"labelFontSize\": 12, \"titleFont\": \"Inter, sans-serif\", \"titleFontSize\": 12, \"titleFontWeight\": \"bold\"}, \"line\": {\"stroke\": \"#51C0E9\", \"strokeWidth\": 2}, \"rect\": {\"fill\": \"#51C0E9\"}, \"title\": {\"anchor\": \"start\", \"color\": \"#000000\", \"font\": \"Inter, sans-serif\", \"fontSize\": 22, \"fontWeight\": \"normal\"}}, \"data\": {\"name\": \"data-9572232b41f7a8324871f7ff871b1ff6\"}, \"mark\": {\"type\": \"bar\", \"tooltip\": {\"content\": \"data\"}}, \"autosize\": {\"type\": \"fit\"}, \"encoding\": {\"color\": {\"type\": \"nominal\", \"field\": \"role\", \"scale\": {\"type\": \"linear\", \"zero\": false}, \"sort\": null}, \"x\": {\"type\": \"quantitative\", \"field\": \"expected_bonus\", \"scale\": {\"type\": \"linear\", \"zero\": false}, \"sort\": null}, \"y\": {\"type\": \"nominal\", \"field\": \"player\", \"scale\": {\"type\": \"linear\", \"zero\": true}, \"sort\": null}}, \"height\": 300, \"width\": \"container\", \"$schema\": \"https://vega.github.io/schema/vega-lite/v4.json\", \"datasets\": {\"data-9572232b41f7a8324871f7ff871b1ff6\": [{\"fanta_team\": \"MaiNa Joya_v2.0\", \"role\": \"D\", \"player\": \"Gosens\", \"team\": \"Inter\", \"opponent\": \"Genoa\", \"date\": \"2022-02-27T00:00:00\", \"expected_bonus\": 0.7172746658325195}, {\"fanta_team\": \"MaiNa Joya_v2.0\", \"role\": \"D\", \"player\": \"Hern\\u00e1ndez\", \"team\": \"AC Milan\", \"opponent\": \"Udinese\", \"date\": \"2022-02-27T00:00:00\", \"expected_bonus\": 0.6227651238441467}, {\"fanta_team\": \"MaiNa Joya_v2.0\", \"role\": \"D\", \"player\": \"Toloi\", \"team\": \"Atalanta\", \"opponent\": \"Sampdoria\", \"date\": \"2022-02-27T00:00:00\", \"expected_bonus\": 0.30725762248039246}, {\"fanta_team\": \"MaiNa Joya_v2.0\", \"role\": \"D\", \"player\": \"Ferrari\", \"team\": \"Sassuolo\", \"opponent\": \"Fiorentina\", \"date\": \"2022-02-27T00:00:00\", \"expected_bonus\": 0.18532390892505646}, {\"fanta_team\": \"MaiNa Joya_v2.0\", \"role\": \"D\", \"player\": \"Milenkovic\", \"team\": \"Fiorentina\", \"opponent\": \"Sassuolo\", \"date\": \"2022-02-27T00:00:00\", \"expected_bonus\": 0.17045433819293976}, {\"fanta_team\": \"MaiNa Joya_v2.0\", \"role\": \"D\", \"player\": \"Molina\", \"team\": \"Udinese\", \"opponent\": \"AC Milan\", \"date\": \"2022-02-27T00:00:00\", \"expected_bonus\": 0.11926057189702988}, {\"fanta_team\": \"MaiNa Joya_v2.0\", \"role\": \"D\", \"player\": \"Stojanovic\", \"team\": \"Empoli\", \"opponent\": \"Juventus\", \"date\": \"2022-02-27T00:00:00\", \"expected_bonus\": 0.11736933887004852}, {\"fanta_team\": \"MaiNa Joya_v2.0\", \"role\": \"C\", \"player\": \"Barella\", \"team\": \"Inter\", \"opponent\": \"Genoa\", \"date\": \"2022-02-27T00:00:00\", \"expected_bonus\": 0.9687232971191406}, {\"fanta_team\": \"MaiNa Joya_v2.0\", \"role\": \"C\", \"player\": \"Milinkovic-Savic\", \"team\": \"Lazio\", \"opponent\": \"Napoli\", \"date\": \"2022-02-27T00:00:00\", \"expected_bonus\": 0.7421167492866516}, {\"fanta_team\": \"MaiNa Joya_v2.0\", \"role\": \"C\", \"player\": \"Pobega\", \"team\": \"Torino\", \"opponent\": \"Cagliari\", \"date\": \"2022-02-27T00:00:00\", \"expected_bonus\": 0.6454030275344849}, {\"fanta_team\": \"MaiNa Joya_v2.0\", \"role\": \"C\", \"player\": \"Bernardeschi\", \"team\": \"Juventus\", \"opponent\": \"Empoli\", \"date\": \"2022-02-27T00:00:00\", \"expected_bonus\": 0.34227797389030457}, {\"fanta_team\": \"MaiNa Joya_v2.0\", \"role\": \"C\", \"player\": \"Soriano\", \"team\": \"Bologna\", \"opponent\": \"Salernitana\", \"date\": \"2022-02-27T00:00:00\", \"expected_bonus\": 0.3158501088619232}, {\"fanta_team\": \"MaiNa Joya_v2.0\", \"role\": \"C\", \"player\": \"Locatelli\", \"team\": \"Juventus\", \"opponent\": \"Empoli\", \"date\": \"2022-02-27T00:00:00\", \"expected_bonus\": 0.26342034339904785}, {\"fanta_team\": \"MaiNa Joya_v2.0\", \"role\": \"C\", \"player\": \"Sensi\", \"team\": \"Sampdoria\", \"opponent\": \"Atalanta\", \"date\": \"2022-02-27T00:00:00\", \"expected_bonus\": -0.08891434967517853}, {\"fanta_team\": \"MaiNa Joya_v2.0\", \"role\": \"A\", \"player\": \"Abraham\", \"team\": \"Roma\", \"opponent\": \"Spezia\", \"date\": \"2022-02-27T00:00:00\", \"expected_bonus\": 1.822571039199829}, {\"fanta_team\": \"MaiNa Joya_v2.0\", \"role\": \"A\", \"player\": \"Insigne\", \"team\": \"Napoli\", \"opponent\": \"Lazio\", \"date\": \"2022-02-27T00:00:00\", \"expected_bonus\": 1.319014072418213}, {\"fanta_team\": \"MaiNa Joya_v2.0\", \"role\": \"A\", \"player\": \"Morata\", \"team\": \"Juventus\", \"opponent\": \"Empoli\", \"date\": \"2022-02-27T00:00:00\", \"expected_bonus\": 1.276883840560913}, {\"fanta_team\": \"MaiNa Joya_v2.0\", \"role\": \"A\", \"player\": \"Arnautovic\", \"team\": \"Bologna\", \"opponent\": \"Salernitana\", \"date\": \"2022-02-27T00:00:00\", \"expected_bonus\": 1.200139045715332}, {\"fanta_team\": \"MaiNa Joya_v2.0\", \"role\": \"A\", \"player\": \"Brekalo\", \"team\": \"Torino\", \"opponent\": \"Cagliari\", \"date\": \"2022-02-27T00:00:00\", \"expected_bonus\": 1.0758191347122192}, {\"fanta_team\": \"MaiNa Joya_v2.0\", \"role\": \"A\", \"player\": \"Boga\", \"team\": \"Atalanta\", \"opponent\": \"Sampdoria\", \"date\": \"2022-02-27T00:00:00\", \"expected_bonus\": 1.02195405960083}]}}, {\"actions\": false, \"mode\": \"vega-lite\"});\n</script>",
      "text/plain": "alt.Chart(...)"
     },
     "metadata": {}
    }
   ]
  },
  {
   "cell_type": "code",
   "metadata": {
    "cell_id": "93a5bb8d-d964-4fc6-b796-3c672a8d7c5d",
    "tags": [],
    "deepnote_to_be_reexecuted": false,
    "source_hash": "3f500048",
    "execution_start": 1645596330031,
    "execution_millis": 2,
    "deepnote_cell_type": "code"
   },
   "source": "team, index = display_fanta_squad(predictions, teams, index)",
   "execution_count": 16,
   "outputs": []
  },
  {
   "cell_type": "code",
   "source": "_deepnote_run_altair(team, \"\"\"{\"$schema\":\"https://vega.github.io/schema/vega-lite/v4.json\",\"mark\":{\"type\":\"bar\",\"tooltip\":{\"content\":\"data\"}},\"height\":220,\"autosize\":{\"type\":\"fit\"},\"data\":{\"name\":\"placeholder\"},\"encoding\":{\"x\":{\"field\":\"expected_bonus\",\"type\":\"quantitative\",\"sort\":null,\"scale\":{\"type\":\"linear\",\"zero\":false}},\"y\":{\"field\":\"player\",\"type\":\"nominal\",\"sort\":null,\"scale\":{\"type\":\"linear\",\"zero\":true}},\"color\":{\"field\":\"role\",\"type\":\"nominal\",\"sort\":null,\"scale\":{\"type\":\"linear\",\"zero\":false}}}}\"\"\")",
   "metadata": {
    "cell_id": "db709fde-6755-4bf6-9963-b66a19b9805d",
    "deepnote_variable_name": "team",
    "deepnote_visualization_spec": {
     "$schema": "https://vega.github.io/schema/vega-lite/v4.json",
     "mark": {
      "type": "bar",
      "tooltip": {
       "content": "data"
      }
     },
     "height": 220,
     "autosize": {
      "type": "fit"
     },
     "data": {
      "name": "placeholder"
     },
     "encoding": {
      "x": {
       "field": "expected_bonus",
       "type": "quantitative",
       "sort": null,
       "scale": {
        "type": "linear",
        "zero": false
       }
      },
      "y": {
       "field": "player",
       "type": "nominal",
       "sort": null,
       "scale": {
        "type": "linear",
        "zero": true
       }
      },
      "color": {
       "field": "role",
       "type": "nominal",
       "sort": null,
       "scale": {
        "type": "linear",
        "zero": false
       }
      }
     }
    },
    "deepnote_to_be_reexecuted": false,
    "source_hash": "e68de25e",
    "execution_start": 1645596330092,
    "execution_millis": 125,
    "deepnote_output_heights": [
     314
    ],
    "allow_embed": "output",
    "deepnote_cell_type": "visualization"
   },
   "execution_count": 17,
   "outputs": [
    {
     "output_type": "execute_result",
     "execution_count": 17,
     "data": {
      "text/html": "\n<div id=\"altair-viz-4e27b096745a4de59fbdffa5ec3caa23\"></div>\n<script type=\"text/javascript\">\n  (function(spec, embedOpt){\n    let outputDiv = document.currentScript.previousElementSibling;\n    if (outputDiv.id !== \"altair-viz-4e27b096745a4de59fbdffa5ec3caa23\") {\n      outputDiv = document.getElementById(\"altair-viz-4e27b096745a4de59fbdffa5ec3caa23\");\n    }\n    const paths = {\n      \"vega\": \"https://cdn.jsdelivr.net/npm//vega@5?noext\",\n      \"vega-lib\": \"https://cdn.jsdelivr.net/npm//vega-lib?noext\",\n      \"vega-lite\": \"https://cdn.jsdelivr.net/npm//vega-lite@4.8.1?noext\",\n      \"vega-embed\": \"https://cdn.jsdelivr.net/npm//vega-embed@6?noext\",\n    };\n\n    function loadScript(lib) {\n      return new Promise(function(resolve, reject) {\n        var s = document.createElement('script');\n        s.src = paths[lib];\n        s.async = true;\n        s.onload = () => resolve(paths[lib]);\n        s.onerror = () => reject(`Error loading script: ${paths[lib]}`);\n        document.getElementsByTagName(\"head\")[0].appendChild(s);\n      });\n    }\n\n    function showError(err) {\n      outputDiv.innerHTML = `<div class=\"error\" style=\"color:red;\">${err}</div>`;\n      throw err;\n    }\n\n    function displayChart(vegaEmbed) {\n      vegaEmbed(outputDiv, spec, embedOpt)\n        .catch(err => showError(`Javascript Error: ${err.message}<br>This usually means there's a typo in your chart specification. See the javascript console for the full traceback.`));\n    }\n\n    if(typeof define === \"function\" && define.amd) {\n      requirejs.config({paths});\n      require([\"vega-embed\"], displayChart, err => showError(`Error loading script: ${err.message}`));\n    } else if (typeof vegaEmbed === \"function\") {\n      displayChart(vegaEmbed);\n    } else {\n      loadScript(\"vega\")\n        .then(() => loadScript(\"vega-lite\"))\n        .then(() => loadScript(\"vega-embed\"))\n        .catch(showError)\n        .then(() => displayChart(vegaEmbed));\n    }\n  })({\"config\": {\"view\": {\"continuousWidth\": 400, \"continuousHeight\": 300}, \"area\": {\"fill\": \"#51C0E9\"}, \"axis\": {\"labelFont\": \"Inter, sans-serif\", \"labelFontSize\": 12, \"labelFontWeight\": \"normal\", \"labelLimit\": 60, \"labelOverlap\": \"greedy\", \"titleFont\": \"Inter, sans-serif\", \"titleFontSize\": 12, \"titleFontWeight\": \"bold\"}, \"background\": \"#ffffff\", \"legend\": {\"labelFont\": \"Inter, sans-serif\", \"labelFontSize\": 12, \"titleFont\": \"Inter, sans-serif\", \"titleFontSize\": 12, \"titleFontWeight\": \"bold\"}, \"line\": {\"stroke\": \"#51C0E9\", \"strokeWidth\": 2}, \"rect\": {\"fill\": \"#51C0E9\"}, \"title\": {\"anchor\": \"start\", \"color\": \"#000000\", \"font\": \"Inter, sans-serif\", \"fontSize\": 22, \"fontWeight\": \"normal\"}}, \"data\": {\"name\": \"data-b08e4862be4f54271ce54111c5259e67\"}, \"mark\": {\"type\": \"bar\", \"tooltip\": {\"content\": \"data\"}}, \"autosize\": {\"type\": \"fit\"}, \"encoding\": {\"color\": {\"type\": \"nominal\", \"field\": \"role\", \"scale\": {\"type\": \"linear\", \"zero\": false}, \"sort\": null}, \"x\": {\"type\": \"quantitative\", \"field\": \"expected_bonus\", \"scale\": {\"type\": \"linear\", \"zero\": false}, \"sort\": null}, \"y\": {\"type\": \"nominal\", \"field\": \"player\", \"scale\": {\"type\": \"linear\", \"zero\": true}, \"sort\": null}}, \"height\": 300, \"width\": \"container\", \"$schema\": \"https://vega.github.io/schema/vega-lite/v4.json\", \"datasets\": {\"data-b08e4862be4f54271ce54111c5259e67\": [{\"fanta_team\": \"Rione Monti\", \"role\": \"D\", \"player\": \"Maehle\", \"team\": \"Atalanta\", \"opponent\": \"Sampdoria\", \"date\": \"2022-02-27T00:00:00\", \"expected_bonus\": 0.47196751832962036}, {\"fanta_team\": \"Rione Monti\", \"role\": \"D\", \"player\": \"Bremer\", \"team\": \"Torino\", \"opponent\": \"Cagliari\", \"date\": \"2022-02-27T00:00:00\", \"expected_bonus\": 0.42231088876724243}, {\"fanta_team\": \"Rione Monti\", \"role\": \"D\", \"player\": \"Singo\", \"team\": \"Torino\", \"opponent\": \"Cagliari\", \"date\": \"2022-02-27T00:00:00\", \"expected_bonus\": 0.4108247756958008}, {\"fanta_team\": \"Rione Monti\", \"role\": \"D\", \"player\": \"Biraghi\", \"team\": \"Fiorentina\", \"opponent\": \"Sassuolo\", \"date\": \"2022-02-27T00:00:00\", \"expected_bonus\": 0.32118168473243713}, {\"fanta_team\": \"Rione Monti\", \"role\": \"D\", \"player\": \"Pezzella\", \"team\": \"Atalanta\", \"opponent\": \"Sampdoria\", \"date\": \"2022-02-27T00:00:00\", \"expected_bonus\": 0.2735816538333893}, {\"fanta_team\": \"Rione Monti\", \"role\": \"D\", \"player\": \"Bastoni\", \"team\": \"Spezia\", \"opponent\": \"Roma\", \"date\": \"2022-02-27T00:00:00\", \"expected_bonus\": 0.18663181364536285}, {\"fanta_team\": \"Rione Monti\", \"role\": \"D\", \"player\": \"Lazzari\", \"team\": \"Lazio\", \"opponent\": \"Napoli\", \"date\": \"2022-02-27T00:00:00\", \"expected_bonus\": 0.12821029126644135}, {\"fanta_team\": \"Rione Monti\", \"role\": \"D\", \"player\": \"Maitland-Niles\", \"team\": \"Roma\", \"opponent\": \"Spezia\", \"date\": \"2022-02-27T00:00:00\", \"expected_bonus\": 0.08726037293672562}, {\"fanta_team\": \"Rione Monti\", \"role\": \"C\", \"player\": \"Pellegrini\", \"team\": \"Roma\", \"opponent\": \"Spezia\", \"date\": \"2022-02-27T00:00:00\", \"expected_bonus\": 0.9765936732292175}, {\"fanta_team\": \"Rione Monti\", \"role\": \"C\", \"player\": \"Zaniolo\", \"team\": \"Roma\", \"opponent\": \"Spezia\", \"date\": \"2022-02-27T00:00:00\", \"expected_bonus\": 0.8088152408599854}, {\"fanta_team\": \"Rione Monti\", \"role\": \"C\", \"player\": \"Frattesi\", \"team\": \"Sassuolo\", \"opponent\": \"Fiorentina\", \"date\": \"2022-02-27T00:00:00\", \"expected_bonus\": 0.5209221839904785}, {\"fanta_team\": \"Rione Monti\", \"role\": \"C\", \"player\": \"Anderson\", \"team\": \"Lazio\", \"opponent\": \"Napoli\", \"date\": \"2022-02-27T00:00:00\", \"expected_bonus\": 0.4461320638656616}, {\"fanta_team\": \"Rione Monti\", \"role\": \"C\", \"player\": \"Henderson\", \"team\": \"Empoli\", \"opponent\": \"Juventus\", \"date\": \"2022-02-27T00:00:00\", \"expected_bonus\": 0.32136601209640503}, {\"fanta_team\": \"Rione Monti\", \"role\": \"C\", \"player\": \"Tameze\", \"team\": \"Verona\", \"opponent\": \"Venezia\", \"date\": \"2022-02-27T00:00:00\", \"expected_bonus\": 0.13792160153388977}, {\"fanta_team\": \"Rione Monti\", \"role\": \"A\", \"player\": \"Dzeko\", \"team\": \"Inter\", \"opponent\": \"Genoa\", \"date\": \"2022-02-27T00:00:00\", \"expected_bonus\": 2.0284011363983154}, {\"fanta_team\": \"Rione Monti\", \"role\": \"A\", \"player\": \"Ibrahimovic\", \"team\": \"AC Milan\", \"opponent\": \"Udinese\", \"date\": \"2022-02-27T00:00:00\", \"expected_bonus\": 1.5602190494537354}, {\"fanta_team\": \"Rione Monti\", \"role\": \"A\", \"player\": \"Pinamonti\", \"team\": \"Empoli\", \"opponent\": \"Juventus\", \"date\": \"2022-02-27T00:00:00\", \"expected_bonus\": 1.1048357486724854}, {\"fanta_team\": \"Rione Monti\", \"role\": \"A\", \"player\": \"Raspadori\", \"team\": \"Sassuolo\", \"opponent\": \"Fiorentina\", \"date\": \"2022-02-27T00:00:00\", \"expected_bonus\": 0.9027267694473267}, {\"fanta_team\": \"Rione Monti\", \"role\": \"A\", \"player\": \"Pedro\", \"team\": \"Lazio\", \"opponent\": \"Napoli\", \"date\": \"2022-02-27T00:00:00\", \"expected_bonus\": 0.7665817737579346}, {\"fanta_team\": \"Rione Monti\", \"role\": \"A\", \"player\": \"Afena-Gyan\", \"team\": \"Roma\", \"opponent\": \"Spezia\", \"date\": \"2022-02-27T00:00:00\", \"expected_bonus\": 0.5841891169548035}]}}, {\"actions\": false, \"mode\": \"vega-lite\"});\n</script>",
      "text/plain": "alt.Chart(...)"
     },
     "metadata": {}
    }
   ]
  },
  {
   "cell_type": "code",
   "metadata": {
    "cell_id": "b4a0c2ea-9f90-4449-a274-c7c2f6a98238",
    "tags": [],
    "deepnote_to_be_reexecuted": false,
    "source_hash": "3f500048",
    "execution_start": 1645596330213,
    "execution_millis": 1,
    "deepnote_cell_type": "code"
   },
   "source": "team, index = display_fanta_squad(predictions, teams, index)",
   "execution_count": 18,
   "outputs": []
  },
  {
   "cell_type": "code",
   "source": "_deepnote_run_altair(team, \"\"\"{\"$schema\":\"https://vega.github.io/schema/vega-lite/v4.json\",\"mark\":{\"type\":\"bar\",\"tooltip\":{\"content\":\"data\"}},\"height\":220,\"autosize\":{\"type\":\"fit\"},\"data\":{\"name\":\"placeholder\"},\"encoding\":{\"x\":{\"field\":\"expected_bonus\",\"type\":\"quantitative\",\"sort\":null,\"scale\":{\"type\":\"linear\",\"zero\":false}},\"y\":{\"field\":\"player\",\"type\":\"nominal\",\"sort\":null,\"scale\":{\"type\":\"linear\",\"zero\":true}},\"color\":{\"field\":\"role\",\"type\":\"nominal\",\"sort\":null,\"scale\":{\"type\":\"linear\",\"zero\":false}}}}\"\"\")",
   "metadata": {
    "cell_id": "136e77e4-8edb-42d6-b134-ceefae4f53ce",
    "deepnote_variable_name": "team",
    "deepnote_visualization_spec": {
     "$schema": "https://vega.github.io/schema/vega-lite/v4.json",
     "mark": {
      "type": "bar",
      "tooltip": {
       "content": "data"
      }
     },
     "height": 220,
     "autosize": {
      "type": "fit"
     },
     "data": {
      "name": "placeholder"
     },
     "encoding": {
      "x": {
       "field": "expected_bonus",
       "type": "quantitative",
       "sort": null,
       "scale": {
        "type": "linear",
        "zero": false
       }
      },
      "y": {
       "field": "player",
       "type": "nominal",
       "sort": null,
       "scale": {
        "type": "linear",
        "zero": true
       }
      },
      "color": {
       "field": "role",
       "type": "nominal",
       "sort": null,
       "scale": {
        "type": "linear",
        "zero": false
       }
      }
     }
    },
    "deepnote_to_be_reexecuted": false,
    "source_hash": "e68de25e",
    "execution_start": 1645596330214,
    "execution_millis": 95,
    "deepnote_output_heights": [
     314
    ],
    "allow_embed": "output",
    "deepnote_cell_type": "visualization"
   },
   "execution_count": 19,
   "outputs": [
    {
     "output_type": "execute_result",
     "execution_count": 19,
     "data": {
      "text/html": "\n<div id=\"altair-viz-70fa912a84624abe8d94cad148038967\"></div>\n<script type=\"text/javascript\">\n  (function(spec, embedOpt){\n    let outputDiv = document.currentScript.previousElementSibling;\n    if (outputDiv.id !== \"altair-viz-70fa912a84624abe8d94cad148038967\") {\n      outputDiv = document.getElementById(\"altair-viz-70fa912a84624abe8d94cad148038967\");\n    }\n    const paths = {\n      \"vega\": \"https://cdn.jsdelivr.net/npm//vega@5?noext\",\n      \"vega-lib\": \"https://cdn.jsdelivr.net/npm//vega-lib?noext\",\n      \"vega-lite\": \"https://cdn.jsdelivr.net/npm//vega-lite@4.8.1?noext\",\n      \"vega-embed\": \"https://cdn.jsdelivr.net/npm//vega-embed@6?noext\",\n    };\n\n    function loadScript(lib) {\n      return new Promise(function(resolve, reject) {\n        var s = document.createElement('script');\n        s.src = paths[lib];\n        s.async = true;\n        s.onload = () => resolve(paths[lib]);\n        s.onerror = () => reject(`Error loading script: ${paths[lib]}`);\n        document.getElementsByTagName(\"head\")[0].appendChild(s);\n      });\n    }\n\n    function showError(err) {\n      outputDiv.innerHTML = `<div class=\"error\" style=\"color:red;\">${err}</div>`;\n      throw err;\n    }\n\n    function displayChart(vegaEmbed) {\n      vegaEmbed(outputDiv, spec, embedOpt)\n        .catch(err => showError(`Javascript Error: ${err.message}<br>This usually means there's a typo in your chart specification. See the javascript console for the full traceback.`));\n    }\n\n    if(typeof define === \"function\" && define.amd) {\n      requirejs.config({paths});\n      require([\"vega-embed\"], displayChart, err => showError(`Error loading script: ${err.message}`));\n    } else if (typeof vegaEmbed === \"function\") {\n      displayChart(vegaEmbed);\n    } else {\n      loadScript(\"vega\")\n        .then(() => loadScript(\"vega-lite\"))\n        .then(() => loadScript(\"vega-embed\"))\n        .catch(showError)\n        .then(() => displayChart(vegaEmbed));\n    }\n  })({\"config\": {\"view\": {\"continuousWidth\": 400, \"continuousHeight\": 300}, \"area\": {\"fill\": \"#51C0E9\"}, \"axis\": {\"labelFont\": \"Inter, sans-serif\", \"labelFontSize\": 12, \"labelFontWeight\": \"normal\", \"labelLimit\": 60, \"labelOverlap\": \"greedy\", \"titleFont\": \"Inter, sans-serif\", \"titleFontSize\": 12, \"titleFontWeight\": \"bold\"}, \"background\": \"#ffffff\", \"legend\": {\"labelFont\": \"Inter, sans-serif\", \"labelFontSize\": 12, \"titleFont\": \"Inter, sans-serif\", \"titleFontSize\": 12, \"titleFontWeight\": \"bold\"}, \"line\": {\"stroke\": \"#51C0E9\", \"strokeWidth\": 2}, \"rect\": {\"fill\": \"#51C0E9\"}, \"title\": {\"anchor\": \"start\", \"color\": \"#000000\", \"font\": \"Inter, sans-serif\", \"fontSize\": 22, \"fontWeight\": \"normal\"}}, \"data\": {\"name\": \"data-ed6f5fe77c68d8dcf7bc3ff5c9305e0c\"}, \"mark\": {\"type\": \"bar\", \"tooltip\": {\"content\": \"data\"}}, \"autosize\": {\"type\": \"fit\"}, \"encoding\": {\"color\": {\"type\": \"nominal\", \"field\": \"role\", \"scale\": {\"type\": \"linear\", \"zero\": false}, \"sort\": null}, \"x\": {\"type\": \"quantitative\", \"field\": \"expected_bonus\", \"scale\": {\"type\": \"linear\", \"zero\": false}, \"sort\": null}, \"y\": {\"type\": \"nominal\", \"field\": \"player\", \"scale\": {\"type\": \"linear\", \"zero\": true}, \"sort\": null}}, \"height\": 300, \"width\": \"container\", \"$schema\": \"https://vega.github.io/schema/vega-lite/v4.json\", \"datasets\": {\"data-ed6f5fe77c68d8dcf7bc3ff5c9305e0c\": [{\"fanta_team\": \"Scansuolo \", \"role\": \"D\", \"player\": \"Demiral\", \"team\": \"Atalanta\", \"opponent\": \"Sampdoria\", \"date\": \"2022-02-27T00:00:00\", \"expected_bonus\": 0.4269779920578003}, {\"fanta_team\": \"Scansuolo \", \"role\": \"D\", \"player\": \"Vojvoda\", \"team\": \"Torino\", \"opponent\": \"Cagliari\", \"date\": \"2022-02-27T00:00:00\", \"expected_bonus\": 0.40293803811073303}, {\"fanta_team\": \"Scansuolo \", \"role\": \"D\", \"player\": \"Karsdorp\", \"team\": \"Roma\", \"opponent\": \"Spezia\", \"date\": \"2022-02-27T00:00:00\", \"expected_bonus\": 0.28665032982826233}, {\"fanta_team\": \"Scansuolo \", \"role\": \"D\", \"player\": \"Koulibaly\", \"team\": \"Napoli\", \"opponent\": \"Lazio\", \"date\": \"2022-02-27T00:00:00\", \"expected_bonus\": 0.25912216305732727}, {\"fanta_team\": \"Scansuolo \", \"role\": \"D\", \"player\": \"Hysaj\", \"team\": \"Lazio\", \"opponent\": \"Napoli\", \"date\": \"2022-02-27T00:00:00\", \"expected_bonus\": 0.13455286622047424}, {\"fanta_team\": \"Scansuolo \", \"role\": \"D\", \"player\": \"Hickey\", \"team\": \"Bologna\", \"opponent\": \"Salernitana\", \"date\": \"2022-02-27T00:00:00\", \"expected_bonus\": 0.10246492177248001}, {\"fanta_team\": \"Scansuolo \", \"role\": \"D\", \"player\": \"Zappa\", \"team\": \"Cagliari\", \"opponent\": \"Torino\", \"date\": \"2022-02-27T00:00:00\", \"expected_bonus\": -0.022001581266522408}, {\"fanta_team\": \"Scansuolo \", \"role\": \"C\", \"player\": \"Pessina\", \"team\": \"Atalanta\", \"opponent\": \"Sampdoria\", \"date\": \"2022-02-27T00:00:00\", \"expected_bonus\": 0.7998595833778381}, {\"fanta_team\": \"Scansuolo \", \"role\": \"C\", \"player\": \"Diaz\", \"team\": \"AC Milan\", \"opponent\": \"Udinese\", \"date\": \"2022-02-27T00:00:00\", \"expected_bonus\": 0.6744223237037659}, {\"fanta_team\": \"Scansuolo \", \"role\": \"C\", \"player\": \"Messias\", \"team\": \"AC Milan\", \"opponent\": \"Udinese\", \"date\": \"2022-02-27T00:00:00\", \"expected_bonus\": 0.6530482769012451}, {\"fanta_team\": \"Scansuolo \", \"role\": \"C\", \"player\": \"Zaccagni\", \"team\": \"Lazio\", \"opponent\": \"Napoli\", \"date\": \"2022-02-27T00:00:00\", \"expected_bonus\": 0.3761349618434906}, {\"fanta_team\": \"Scansuolo \", \"role\": \"C\", \"player\": \"Koopmeiners\", \"team\": \"Atalanta\", \"opponent\": \"Sampdoria\", \"date\": \"2022-02-27T00:00:00\", \"expected_bonus\": 0.3583291172981262}, {\"fanta_team\": \"Scansuolo \", \"role\": \"C\", \"player\": \"Zurkowski\", \"team\": \"Empoli\", \"opponent\": \"Juventus\", \"date\": \"2022-02-27T00:00:00\", \"expected_bonus\": 0.35765400528907776}, {\"fanta_team\": \"Scansuolo \", \"role\": \"C\", \"player\": \"Ilic\", \"team\": \"Verona\", \"opponent\": \"Venezia\", \"date\": \"2022-02-27T00:00:00\", \"expected_bonus\": 0.3312652111053467}, {\"fanta_team\": \"Scansuolo \", \"role\": \"C\", \"player\": \"Traore\", \"team\": \"Sassuolo\", \"opponent\": \"Fiorentina\", \"date\": \"2022-02-27T00:00:00\", \"expected_bonus\": 0.08110325038433075}, {\"fanta_team\": \"Scansuolo \", \"role\": \"A\", \"player\": \"Immobile\", \"team\": \"Lazio\", \"opponent\": \"Napoli\", \"date\": \"2022-02-27T00:00:00\", \"expected_bonus\": 1.5362595319747925}, {\"fanta_team\": \"Scansuolo \", \"role\": \"A\", \"player\": \"Scamacca\", \"team\": \"Sassuolo\", \"opponent\": \"Fiorentina\", \"date\": \"2022-02-27T00:00:00\", \"expected_bonus\": 1.2991535663604736}, {\"fanta_team\": \"Scansuolo \", \"role\": \"A\", \"player\": \"Le\\u00e3o\", \"team\": \"AC Milan\", \"opponent\": \"Udinese\", \"date\": \"2022-02-27T00:00:00\", \"expected_bonus\": 1.2670300006866455}, {\"fanta_team\": \"Scansuolo \", \"role\": \"A\", \"player\": \"Pedro\", \"team\": \"Cagliari\", \"opponent\": \"Torino\", \"date\": \"2022-02-27T00:00:00\", \"expected_bonus\": 0.9300307035446167}, {\"fanta_team\": \"Scansuolo \", \"role\": \"A\", \"player\": \"Mikael\", \"team\": \"Salernitana\", \"opponent\": \"Bologna\", \"date\": \"2022-02-27T00:00:00\", \"expected_bonus\": 0.17473042011260986}]}}, {\"actions\": false, \"mode\": \"vega-lite\"});\n</script>",
      "text/plain": "alt.Chart(...)"
     },
     "metadata": {}
    }
   ]
  },
  {
   "cell_type": "code",
   "metadata": {
    "cell_id": "4acdd713-c04b-4f4e-9a1f-ea8c4690c99e",
    "tags": [],
    "deepnote_to_be_reexecuted": false,
    "source_hash": "3f500048",
    "execution_start": 1645596330353,
    "execution_millis": 1,
    "deepnote_cell_type": "code"
   },
   "source": "team, index = display_fanta_squad(predictions, teams, index)",
   "execution_count": 20,
   "outputs": []
  },
  {
   "cell_type": "code",
   "source": "_deepnote_run_altair(team, \"\"\"{\"$schema\":\"https://vega.github.io/schema/vega-lite/v4.json\",\"mark\":{\"type\":\"bar\",\"tooltip\":{\"content\":\"data\"}},\"height\":220,\"autosize\":{\"type\":\"fit\"},\"data\":{\"name\":\"placeholder\"},\"encoding\":{\"x\":{\"field\":\"expected_bonus\",\"type\":\"quantitative\",\"sort\":null,\"scale\":{\"type\":\"linear\",\"zero\":false}},\"y\":{\"field\":\"player\",\"type\":\"nominal\",\"sort\":null,\"scale\":{\"type\":\"linear\",\"zero\":true}},\"color\":{\"field\":\"role\",\"type\":\"nominal\",\"sort\":null,\"scale\":{\"type\":\"linear\",\"zero\":false}}}}\"\"\")",
   "metadata": {
    "cell_id": "04913421-5945-4ac1-a1c7-1bd2f9975384",
    "deepnote_variable_name": "team",
    "deepnote_visualization_spec": {
     "$schema": "https://vega.github.io/schema/vega-lite/v4.json",
     "mark": {
      "type": "bar",
      "tooltip": {
       "content": "data"
      }
     },
     "height": 220,
     "autosize": {
      "type": "fit"
     },
     "data": {
      "name": "placeholder"
     },
     "encoding": {
      "x": {
       "field": "expected_bonus",
       "type": "quantitative",
       "sort": null,
       "scale": {
        "type": "linear",
        "zero": false
       }
      },
      "y": {
       "field": "player",
       "type": "nominal",
       "sort": null,
       "scale": {
        "type": "linear",
        "zero": true
       }
      },
      "color": {
       "field": "role",
       "type": "nominal",
       "sort": null,
       "scale": {
        "type": "linear",
        "zero": false
       }
      }
     }
    },
    "deepnote_to_be_reexecuted": false,
    "source_hash": "e68de25e",
    "execution_start": 1645596330354,
    "execution_millis": 120,
    "deepnote_output_heights": [
     314
    ],
    "allow_embed": "output",
    "deepnote_cell_type": "visualization"
   },
   "execution_count": 21,
   "outputs": [
    {
     "output_type": "execute_result",
     "execution_count": 21,
     "data": {
      "text/html": "\n<div id=\"altair-viz-212576dd08924c38a4098d09a255202e\"></div>\n<script type=\"text/javascript\">\n  (function(spec, embedOpt){\n    let outputDiv = document.currentScript.previousElementSibling;\n    if (outputDiv.id !== \"altair-viz-212576dd08924c38a4098d09a255202e\") {\n      outputDiv = document.getElementById(\"altair-viz-212576dd08924c38a4098d09a255202e\");\n    }\n    const paths = {\n      \"vega\": \"https://cdn.jsdelivr.net/npm//vega@5?noext\",\n      \"vega-lib\": \"https://cdn.jsdelivr.net/npm//vega-lib?noext\",\n      \"vega-lite\": \"https://cdn.jsdelivr.net/npm//vega-lite@4.8.1?noext\",\n      \"vega-embed\": \"https://cdn.jsdelivr.net/npm//vega-embed@6?noext\",\n    };\n\n    function loadScript(lib) {\n      return new Promise(function(resolve, reject) {\n        var s = document.createElement('script');\n        s.src = paths[lib];\n        s.async = true;\n        s.onload = () => resolve(paths[lib]);\n        s.onerror = () => reject(`Error loading script: ${paths[lib]}`);\n        document.getElementsByTagName(\"head\")[0].appendChild(s);\n      });\n    }\n\n    function showError(err) {\n      outputDiv.innerHTML = `<div class=\"error\" style=\"color:red;\">${err}</div>`;\n      throw err;\n    }\n\n    function displayChart(vegaEmbed) {\n      vegaEmbed(outputDiv, spec, embedOpt)\n        .catch(err => showError(`Javascript Error: ${err.message}<br>This usually means there's a typo in your chart specification. See the javascript console for the full traceback.`));\n    }\n\n    if(typeof define === \"function\" && define.amd) {\n      requirejs.config({paths});\n      require([\"vega-embed\"], displayChart, err => showError(`Error loading script: ${err.message}`));\n    } else if (typeof vegaEmbed === \"function\") {\n      displayChart(vegaEmbed);\n    } else {\n      loadScript(\"vega\")\n        .then(() => loadScript(\"vega-lite\"))\n        .then(() => loadScript(\"vega-embed\"))\n        .catch(showError)\n        .then(() => displayChart(vegaEmbed));\n    }\n  })({\"config\": {\"view\": {\"continuousWidth\": 400, \"continuousHeight\": 300}, \"area\": {\"fill\": \"#51C0E9\"}, \"axis\": {\"labelFont\": \"Inter, sans-serif\", \"labelFontSize\": 12, \"labelFontWeight\": \"normal\", \"labelLimit\": 60, \"labelOverlap\": \"greedy\", \"titleFont\": \"Inter, sans-serif\", \"titleFontSize\": 12, \"titleFontWeight\": \"bold\"}, \"background\": \"#ffffff\", \"legend\": {\"labelFont\": \"Inter, sans-serif\", \"labelFontSize\": 12, \"titleFont\": \"Inter, sans-serif\", \"titleFontSize\": 12, \"titleFontWeight\": \"bold\"}, \"line\": {\"stroke\": \"#51C0E9\", \"strokeWidth\": 2}, \"rect\": {\"fill\": \"#51C0E9\"}, \"title\": {\"anchor\": \"start\", \"color\": \"#000000\", \"font\": \"Inter, sans-serif\", \"fontSize\": 22, \"fontWeight\": \"normal\"}}, \"data\": {\"name\": \"data-993bdcffe2a07833007a016a7754426c\"}, \"mark\": {\"type\": \"bar\", \"tooltip\": {\"content\": \"data\"}}, \"autosize\": {\"type\": \"fit\"}, \"encoding\": {\"color\": {\"type\": \"nominal\", \"field\": \"role\", \"scale\": {\"type\": \"linear\", \"zero\": false}, \"sort\": null}, \"x\": {\"type\": \"quantitative\", \"field\": \"expected_bonus\", \"scale\": {\"type\": \"linear\", \"zero\": false}, \"sort\": null}, \"y\": {\"type\": \"nominal\", \"field\": \"player\", \"scale\": {\"type\": \"linear\", \"zero\": true}, \"sort\": null}}, \"height\": 300, \"width\": \"container\", \"$schema\": \"https://vega.github.io/schema/vega-lite/v4.json\", \"datasets\": {\"data-993bdcffe2a07833007a016a7754426c\": [{\"fanta_team\": \"ssc mozzarella\", \"role\": \"D\", \"player\": \"Dumfries\", \"team\": \"Inter\", \"opponent\": \"Genoa\", \"date\": \"2022-02-27T00:00:00\", \"expected_bonus\": 0.8798429369926453}, {\"fanta_team\": \"ssc mozzarella\", \"role\": \"D\", \"player\": \"Rui\", \"team\": \"Napoli\", \"opponent\": \"Lazio\", \"date\": \"2022-02-27T00:00:00\", \"expected_bonus\": 0.3547911047935486}, {\"fanta_team\": \"ssc mozzarella\", \"role\": \"D\", \"player\": \"Gjimshiti\", \"team\": \"Atalanta\", \"opponent\": \"Sampdoria\", \"date\": \"2022-02-27T00:00:00\", \"expected_bonus\": 0.3500082194805145}, {\"fanta_team\": \"ssc mozzarella\", \"role\": \"D\", \"player\": \"Smalling\", \"team\": \"Roma\", \"opponent\": \"Spezia\", \"date\": \"2022-02-27T00:00:00\", \"expected_bonus\": 0.24241995811462402}, {\"fanta_team\": \"ssc mozzarella\", \"role\": \"D\", \"player\": \"Iba\\u00f1ez\", \"team\": \"Roma\", \"opponent\": \"Spezia\", \"date\": \"2022-02-27T00:00:00\", \"expected_bonus\": 0.22789882123470306}, {\"fanta_team\": \"ssc mozzarella\", \"role\": \"D\", \"player\": \"Tomori\", \"team\": \"AC Milan\", \"opponent\": \"Udinese\", \"date\": \"2022-02-27T00:00:00\", \"expected_bonus\": 0.22574971616268158}, {\"fanta_team\": \"ssc mozzarella\", \"role\": \"D\", \"player\": \"Felipe\", \"team\": \"Lazio\", \"opponent\": \"Napoli\", \"date\": \"2022-02-27T00:00:00\", \"expected_bonus\": 0.13751964271068573}, {\"fanta_team\": \"ssc mozzarella\", \"role\": \"D\", \"player\": \"Theate\", \"team\": \"Bologna\", \"opponent\": \"Salernitana\", \"date\": \"2022-02-27T00:00:00\", \"expected_bonus\": 0.13269463181495667}, {\"fanta_team\": \"ssc mozzarella\", \"role\": \"C\", \"player\": \"Sottil\", \"team\": \"Fiorentina\", \"opponent\": \"Sassuolo\", \"date\": \"2022-02-27T00:00:00\", \"expected_bonus\": 0.9529491066932678}, {\"fanta_team\": \"ssc mozzarella\", \"role\": \"C\", \"player\": \"Mkhitaryan\", \"team\": \"Roma\", \"opponent\": \"Spezia\", \"date\": \"2022-02-27T00:00:00\", \"expected_bonus\": 0.8375615477561951}, {\"fanta_team\": \"ssc mozzarella\", \"role\": \"C\", \"player\": \"Fabi\\u00e1n\", \"team\": \"Napoli\", \"opponent\": \"Lazio\", \"date\": \"2022-02-27T00:00:00\", \"expected_bonus\": 0.4183637797832489}, {\"fanta_team\": \"ssc mozzarella\", \"role\": \"C\", \"player\": \"Freuler\", \"team\": \"Atalanta\", \"opponent\": \"Sampdoria\", \"date\": \"2022-02-27T00:00:00\", \"expected_bonus\": 0.32716572284698486}, {\"fanta_team\": \"ssc mozzarella\", \"role\": \"C\", \"player\": \"Torreira\", \"team\": \"Fiorentina\", \"opponent\": \"Sassuolo\", \"date\": \"2022-02-27T00:00:00\", \"expected_bonus\": 0.27006322145462036}, {\"fanta_team\": \"ssc mozzarella\", \"role\": \"C\", \"player\": \"Lobotka\", \"team\": \"Napoli\", \"opponent\": \"Lazio\", \"date\": \"2022-02-27T00:00:00\", \"expected_bonus\": 0.20011906325817108}, {\"fanta_team\": \"ssc mozzarella\", \"role\": \"C\", \"player\": \"Lopez\", \"team\": \"Sassuolo\", \"opponent\": \"Fiorentina\", \"date\": \"2022-02-27T00:00:00\", \"expected_bonus\": 0.1732262820005417}, {\"fanta_team\": \"ssc mozzarella\", \"role\": \"C\", \"player\": \"Pereyra\", \"team\": \"Udinese\", \"opponent\": \"AC Milan\", \"date\": \"2022-02-27T00:00:00\", \"expected_bonus\": 0.1470033973455429}, {\"fanta_team\": \"ssc mozzarella\", \"role\": \"A\", \"player\": \"Osimhen\", \"team\": \"Napoli\", \"opponent\": \"Lazio\", \"date\": \"2022-02-27T00:00:00\", \"expected_bonus\": 1.3221290111541748}, {\"fanta_team\": \"ssc mozzarella\", \"role\": \"A\", \"player\": \"Bonazzoli\", \"team\": \"Salernitana\", \"opponent\": \"Bologna\", \"date\": \"2022-02-27T00:00:00\", \"expected_bonus\": 1.0888086557388306}, {\"fanta_team\": \"ssc mozzarella\", \"role\": \"A\", \"player\": \"Caprari\", \"team\": \"Verona\", \"opponent\": \"Venezia\", \"date\": \"2022-02-27T00:00:00\", \"expected_bonus\": 1.0569603443145752}, {\"fanta_team\": \"ssc mozzarella\", \"role\": \"A\", \"player\": \"Gabbiadini\", \"team\": \"Sampdoria\", \"opponent\": \"Atalanta\", \"date\": \"2022-02-27T00:00:00\", \"expected_bonus\": 0.8591058850288391}, {\"fanta_team\": \"ssc mozzarella\", \"role\": \"A\", \"player\": \"Politano\", \"team\": \"Napoli\", \"opponent\": \"Lazio\", \"date\": \"2022-02-27T00:00:00\", \"expected_bonus\": 0.3844155967235565}, {\"fanta_team\": \"ssc mozzarella\", \"role\": \"A\", \"player\": \"Pavoletti\", \"team\": \"Cagliari\", \"opponent\": \"Torino\", \"date\": \"2022-02-27T00:00:00\", \"expected_bonus\": 0.3383398950099945}]}}, {\"actions\": false, \"mode\": \"vega-lite\"});\n</script>",
      "text/plain": "alt.Chart(...)"
     },
     "metadata": {}
    }
   ]
  },
  {
   "cell_type": "code",
   "metadata": {
    "cell_id": "44571e9e-e8b2-407a-85b9-bcb406b04f31",
    "tags": [],
    "deepnote_to_be_reexecuted": false,
    "source_hash": "de92d3d",
    "execution_start": 1645596330473,
    "execution_millis": 274916,
    "deepnote_cell_type": "code"
   },
   "source": "try:\n    \n    ###############################################################################################\n    status = 'Loading config ...'\n    print('{} -> {}'.format(datetime.now().strftime('%Y-%m-%d %H:%M:%S'), status))\n    with open('config/config.json') as config:\n        config = json.load(config)\n    status = 'Loading config done!'\n    print('{} -> {}'.format(datetime.now().strftime('%Y-%m-%d %H:%M:%S'), status))\n    ###############################################################################################\n\n    ###############################################################################################\n    status = 'Retrieving past week predictions ...'\n    print('{} -> {}'.format(datetime.now().strftime('%Y-%m-%d %H:%M:%S'), status))\n    validation = validate(config['league_name'], config['gameweek']['past'])\n    status = 'Retrieving past week predictions done!'\n    print('{} -> {}'.format(datetime.now().strftime('%Y-%m-%d %H:%M:%S'), status))\n    ###############################################################################################\n\n    ###############################################################################################\n    status = 'Preparing predictions for display...'\n    print('{} -> {}'.format(datetime.now().strftime('%Y-%m-%d %H:%M:%S'), status))\n    validation['player'] = validation['player'].apply(lambda x: x.split(' ')[-1])\n    status = 'Preparing predictions for display done!'\n    print('{} -> {}'.format(datetime.now().strftime('%Y-%m-%d %H:%M:%S'), status))\n    ###############################################################################################\n\n    ###############################################################################################\n    status = 'Updating config ...'\n    print('{} -> {}'.format(datetime.now().strftime('%Y-%m-%d %H:%M:%S'), status))\n    config['gameweek']['past'] = config['gameweek']['past'] + 1\n    with open('config/config.json', 'w') as f:\n        json.dump(config, f, indent=4)\n    status = 'Updating config done!'\n    print('{} -> {}'.format(datetime.now().strftime('%Y-%m-%d %H:%M:%S'), status))\n    ###############################################################################################\n\nexcept Exception as e:\n    print('Exception: {}'.format(e))\n    print('Errored out during: {}'.format(status))",
   "execution_count": 22,
   "outputs": [
    {
     "name": "stdout",
     "text": "2022-02-23 06:05:30 -> Loading config ...\n2022-02-23 06:05:30 -> Loading config done!\n2022-02-23 06:05:30 -> Retrieving past week predictions ...\n100%|██████████| 166/166 [04:34<00:00,  1.66s/it]2022-02-23 06:10:05 -> Retrieving past week predictions done!\n2022-02-23 06:10:05 -> Preparing predictions for display...\n2022-02-23 06:10:05 -> Preparing predictions for display done!\n2022-02-23 06:10:05 -> Updating config ...\n2022-02-23 06:10:05 -> Updating config done!\n\n",
     "output_type": "stream"
    }
   ]
  },
  {
   "cell_type": "code",
   "metadata": {
    "cell_id": "fe5cb744-dcbb-4c2b-b8f4-eee4c37224da",
    "tags": [],
    "deepnote_to_be_reexecuted": false,
    "source_hash": "d3a5413f",
    "execution_start": 1645596605395,
    "execution_millis": 9,
    "deepnote_cell_type": "code"
   },
   "source": "teams = sorted(list(validation['fanta_team'].unique()))\nindex = 0",
   "execution_count": 23,
   "outputs": []
  },
  {
   "cell_type": "code",
   "metadata": {
    "cell_id": "5307f8bd-5ea7-466a-8190-518b8819ea5b",
    "tags": [],
    "deepnote_to_be_reexecuted": false,
    "source_hash": "96119dd1",
    "execution_start": 1645596605410,
    "execution_millis": 4,
    "deepnote_cell_type": "code"
   },
   "source": "team, index = display_fanta_squad(validation, teams, index)",
   "execution_count": 24,
   "outputs": []
  },
  {
   "cell_type": "code",
   "source": "_deepnote_run_altair(team, \"\"\"{\"$schema\":\"https://vega.github.io/schema/vega-lite/v4.json\",\"mark\":{\"type\":\"bar\",\"tooltip\":{\"content\":\"data\"}},\"height\":220,\"autosize\":{\"type\":\"fit\"},\"data\":{\"name\":\"placeholder\"},\"encoding\":{\"x\":{\"field\":\"error\",\"type\":\"quantitative\",\"sort\":null,\"scale\":{\"type\":\"linear\",\"zero\":false}},\"y\":{\"field\":\"player\",\"type\":\"nominal\",\"sort\":null,\"scale\":{\"type\":\"linear\",\"zero\":true}},\"color\":{\"field\":\"error_type\",\"type\":\"nominal\",\"sort\":null,\"scale\":{\"type\":\"linear\",\"zero\":false}}}}\"\"\")",
   "metadata": {
    "cell_id": "d6007c66-f029-409e-aef9-6f052b6748e3",
    "deepnote_variable_name": "team",
    "deepnote_visualization_spec": {
     "$schema": "https://vega.github.io/schema/vega-lite/v4.json",
     "mark": {
      "type": "bar",
      "tooltip": {
       "content": "data"
      }
     },
     "height": 220,
     "autosize": {
      "type": "fit"
     },
     "data": {
      "name": "placeholder"
     },
     "encoding": {
      "x": {
       "field": "error",
       "type": "quantitative",
       "sort": null,
       "scale": {
        "type": "linear",
        "zero": false
       }
      },
      "y": {
       "field": "player",
       "type": "nominal",
       "sort": null,
       "scale": {
        "type": "linear",
        "zero": true
       }
      },
      "color": {
       "field": "error_type",
       "type": "nominal",
       "sort": null,
       "scale": {
        "type": "linear",
        "zero": false
       }
      }
     }
    },
    "deepnote_to_be_reexecuted": false,
    "source_hash": "81b9fc1a",
    "execution_start": 1645596605442,
    "execution_millis": 100,
    "deepnote_output_heights": [
     314
    ],
    "allow_embed": "output",
    "deepnote_cell_type": "visualization"
   },
   "execution_count": 25,
   "outputs": [
    {
     "output_type": "execute_result",
     "execution_count": 25,
     "data": {
      "text/html": "\n<div id=\"altair-viz-4d280c1f5e644b79bbb727e393d10216\"></div>\n<script type=\"text/javascript\">\n  (function(spec, embedOpt){\n    let outputDiv = document.currentScript.previousElementSibling;\n    if (outputDiv.id !== \"altair-viz-4d280c1f5e644b79bbb727e393d10216\") {\n      outputDiv = document.getElementById(\"altair-viz-4d280c1f5e644b79bbb727e393d10216\");\n    }\n    const paths = {\n      \"vega\": \"https://cdn.jsdelivr.net/npm//vega@5?noext\",\n      \"vega-lib\": \"https://cdn.jsdelivr.net/npm//vega-lib?noext\",\n      \"vega-lite\": \"https://cdn.jsdelivr.net/npm//vega-lite@4.8.1?noext\",\n      \"vega-embed\": \"https://cdn.jsdelivr.net/npm//vega-embed@6?noext\",\n    };\n\n    function loadScript(lib) {\n      return new Promise(function(resolve, reject) {\n        var s = document.createElement('script');\n        s.src = paths[lib];\n        s.async = true;\n        s.onload = () => resolve(paths[lib]);\n        s.onerror = () => reject(`Error loading script: ${paths[lib]}`);\n        document.getElementsByTagName(\"head\")[0].appendChild(s);\n      });\n    }\n\n    function showError(err) {\n      outputDiv.innerHTML = `<div class=\"error\" style=\"color:red;\">${err}</div>`;\n      throw err;\n    }\n\n    function displayChart(vegaEmbed) {\n      vegaEmbed(outputDiv, spec, embedOpt)\n        .catch(err => showError(`Javascript Error: ${err.message}<br>This usually means there's a typo in your chart specification. See the javascript console for the full traceback.`));\n    }\n\n    if(typeof define === \"function\" && define.amd) {\n      requirejs.config({paths});\n      require([\"vega-embed\"], displayChart, err => showError(`Error loading script: ${err.message}`));\n    } else if (typeof vegaEmbed === \"function\") {\n      displayChart(vegaEmbed);\n    } else {\n      loadScript(\"vega\")\n        .then(() => loadScript(\"vega-lite\"))\n        .then(() => loadScript(\"vega-embed\"))\n        .catch(showError)\n        .then(() => displayChart(vegaEmbed));\n    }\n  })({\"config\": {\"view\": {\"continuousWidth\": 400, \"continuousHeight\": 300}, \"area\": {\"fill\": \"#51C0E9\"}, \"axis\": {\"labelFont\": \"Inter, sans-serif\", \"labelFontSize\": 12, \"labelFontWeight\": \"normal\", \"labelLimit\": 60, \"labelOverlap\": \"greedy\", \"titleFont\": \"Inter, sans-serif\", \"titleFontSize\": 12, \"titleFontWeight\": \"bold\"}, \"background\": \"#ffffff\", \"legend\": {\"labelFont\": \"Inter, sans-serif\", \"labelFontSize\": 12, \"titleFont\": \"Inter, sans-serif\", \"titleFontSize\": 12, \"titleFontWeight\": \"bold\"}, \"line\": {\"stroke\": \"#51C0E9\", \"strokeWidth\": 2}, \"rect\": {\"fill\": \"#51C0E9\"}, \"title\": {\"anchor\": \"start\", \"color\": \"#000000\", \"font\": \"Inter, sans-serif\", \"fontSize\": 22, \"fontWeight\": \"normal\"}}, \"data\": {\"name\": \"data-d1424ae46c5416b91ec4c09bc8c33e6b\"}, \"mark\": {\"type\": \"bar\", \"tooltip\": {\"content\": \"data\"}}, \"autosize\": {\"type\": \"fit\"}, \"encoding\": {\"color\": {\"type\": \"nominal\", \"field\": \"error_type\", \"scale\": {\"type\": \"linear\", \"zero\": false}, \"sort\": null}, \"x\": {\"type\": \"quantitative\", \"field\": \"error\", \"scale\": {\"type\": \"linear\", \"zero\": false}, \"sort\": null}, \"y\": {\"type\": \"nominal\", \"field\": \"player\", \"scale\": {\"type\": \"linear\", \"zero\": true}, \"sort\": null}}, \"height\": 300, \"width\": \"container\", \"$schema\": \"https://vega.github.io/schema/vega-lite/v4.json\", \"datasets\": {\"data-d1424ae46c5416b91ec4c09bc8c33e6b\": [{\"fanta_team\": \"AC Picchia\", \"role\": \"D\", \"player\": \"Calabria\", \"team\": \"AC Milan\", \"opponent\": \"Salernitana\", \"date\": \"2022-02-19T00:00:00\", \"expected_bonus\": 0.52291125, \"true_bonus\": 0.0, \"error\": 0.52291125, \"error_type\": \"overestimated\"}, {\"fanta_team\": \"AC Picchia\", \"role\": \"D\", \"player\": \"Florenzi\", \"team\": \"AC Milan\", \"opponent\": \"Salernitana\", \"date\": \"2022-02-19T00:00:00\", \"expected_bonus\": 0.3054442, \"true_bonus\": 0.0, \"error\": 0.3054442, \"error_type\": \"overestimated\"}, {\"fanta_team\": \"AC Picchia\", \"role\": \"D\", \"player\": \"Ligt\", \"team\": \"Juventus\", \"opponent\": \"Torino\", \"date\": \"2022-02-18T00:00:00\", \"expected_bonus\": 0.21549352, \"true_bonus\": 3.0, \"error\": -2.78450648, \"error_type\": \"underestimated\"}, {\"fanta_team\": \"AC Picchia\", \"role\": \"D\", \"player\": \"Augello\", \"team\": \"Sampdoria\", \"opponent\": \"Empoli\", \"date\": \"2022-02-19T00:00:00\", \"expected_bonus\": 0.19818579, \"true_bonus\": 0.0, \"error\": 0.19818579, \"error_type\": \"overestimated\"}, {\"fanta_team\": \"AC Picchia\", \"role\": \"D\", \"player\": \"Odriozola\", \"team\": \"Fiorentina\", \"opponent\": \"Atalanta\", \"date\": \"2022-02-20T00:00:00\", \"expected_bonus\": 0.17072992, \"true_bonus\": 0.0, \"error\": 0.17072992, \"error_type\": \"overestimated\"}, {\"fanta_team\": \"AC Picchia\", \"role\": \"D\", \"player\": \"Faraoni\", \"team\": \"Verona\", \"opponent\": \"Roma\", \"date\": \"2022-02-19T00:00:00\", \"expected_bonus\": 0.14936419, \"true_bonus\": 0.0, \"error\": 0.14936419, \"error_type\": \"overestimated\"}, {\"fanta_team\": \"AC Picchia\", \"role\": \"D\", \"player\": \"Dalbert\", \"team\": \"Cagliari\", \"opponent\": \"Napoli\", \"date\": \"2022-02-21T00:00:00\", \"expected_bonus\": 0.13762328, \"true_bonus\": 0.0, \"error\": 0.13762328, \"error_type\": \"overestimated\"}, {\"fanta_team\": \"AC Picchia\", \"role\": \"D\", \"player\": \"Ansaldi\", \"team\": \"Torino\", \"opponent\": \"Juventus\", \"date\": \"2022-02-18T00:00:00\", \"expected_bonus\": -0.061050497, \"true_bonus\": 0.0, \"error\": -0.061050497, \"error_type\": \"underestimated\"}, {\"fanta_team\": \"AC Picchia\", \"role\": \"C\", \"player\": \"Aramu\", \"team\": \"Venezia\", \"opponent\": \"Genoa\", \"date\": \"2022-02-20T00:00:00\", \"expected_bonus\": 1.0592226, \"true_bonus\": 0.0, \"error\": 1.0592226, \"error_type\": \"overestimated\"}, {\"fanta_team\": \"AC Picchia\", \"role\": \"C\", \"player\": \"Calhanoglu\", \"team\": \"Inter\", \"opponent\": \"Sassuolo\", \"date\": \"2022-02-20T00:00:00\", \"expected_bonus\": 0.88222903, \"true_bonus\": 0.0, \"error\": 0.88222903, \"error_type\": \"overestimated\"}, {\"fanta_team\": \"AC Picchia\", \"role\": \"C\", \"player\": \"Malinovskiy\", \"team\": \"Atalanta\", \"opponent\": \"Fiorentina\", \"date\": \"2022-02-20T00:00:00\", \"expected_bonus\": 0.83816606, \"true_bonus\": 0.0, \"error\": 0.83816606, \"error_type\": \"overestimated\"}, {\"fanta_team\": \"AC Picchia\", \"role\": \"C\", \"player\": \"Orsolini\", \"team\": \"Bologna\", \"opponent\": \"Spezia\", \"date\": \"2022-02-21T00:00:00\", \"expected_bonus\": 0.43078056, \"true_bonus\": 0.0, \"error\": 0.43078056, \"error_type\": \"overestimated\"}, {\"fanta_team\": \"AC Picchia\", \"role\": \"C\", \"player\": \"Thorsby\", \"team\": \"Sampdoria\", \"opponent\": \"Empoli\", \"date\": \"2022-02-19T00:00:00\", \"expected_bonus\": 0.35367632, \"true_bonus\": 0.0, \"error\": 0.35367632, \"error_type\": \"overestimated\"}, {\"fanta_team\": \"AC Picchia\", \"role\": \"C\", \"player\": \"Marin\", \"team\": \"Cagliari\", \"opponent\": \"Napoli\", \"date\": \"2022-02-21T00:00:00\", \"expected_bonus\": 0.12640232, \"true_bonus\": 0.0, \"error\": 0.12640232, \"error_type\": \"overestimated\"}, {\"fanta_team\": \"AC Picchia\", \"role\": \"A\", \"player\": \"Giroud\", \"team\": \"AC Milan\", \"opponent\": \"Salernitana\", \"date\": \"2022-02-19T00:00:00\", \"expected_bonus\": 1.3512262, \"true_bonus\": 1.0, \"error\": 0.35122619999999993, \"error_type\": \"overestimated\"}, {\"fanta_team\": \"AC Picchia\", \"role\": \"A\", \"player\": \"Caputo\", \"team\": \"Sampdoria\", \"opponent\": \"Empoli\", \"date\": \"2022-02-19T00:00:00\", \"expected_bonus\": 1.2546307, \"true_bonus\": 0.0, \"error\": 1.2546307, \"error_type\": \"overestimated\"}, {\"fanta_team\": \"AC Picchia\", \"role\": \"A\", \"player\": \"Henry\", \"team\": \"Venezia\", \"opponent\": \"Genoa\", \"date\": \"2022-02-20T00:00:00\", \"expected_bonus\": 1.1101066, \"true_bonus\": 3.0, \"error\": -1.8898934, \"error_type\": \"underestimated\"}, {\"fanta_team\": \"AC Picchia\", \"role\": \"A\", \"player\": \"Verde\", \"team\": \"Spezia\", \"opponent\": \"Bologna\", \"date\": \"2022-02-21T00:00:00\", \"expected_bonus\": 0.40923947, \"true_bonus\": 0.0, \"error\": 0.40923947, \"error_type\": \"overestimated\"}]}}, {\"actions\": false, \"mode\": \"vega-lite\"});\n</script>",
      "text/plain": "alt.Chart(...)"
     },
     "metadata": {}
    }
   ]
  },
  {
   "cell_type": "code",
   "metadata": {
    "cell_id": "7230bd13-cec2-47d3-b394-a7502968a878",
    "tags": [],
    "deepnote_to_be_reexecuted": false,
    "source_hash": "96119dd1",
    "execution_start": 1645596605544,
    "execution_millis": 5,
    "deepnote_cell_type": "code"
   },
   "source": "team, index = display_fanta_squad(validation, teams, index)",
   "execution_count": 26,
   "outputs": []
  },
  {
   "cell_type": "code",
   "source": "_deepnote_run_altair(team, \"\"\"{\"$schema\":\"https://vega.github.io/schema/vega-lite/v4.json\",\"mark\":{\"type\":\"bar\",\"tooltip\":{\"content\":\"data\"}},\"height\":220,\"autosize\":{\"type\":\"fit\"},\"data\":{\"name\":\"placeholder\"},\"encoding\":{\"x\":{\"field\":\"error\",\"type\":\"quantitative\",\"sort\":null,\"scale\":{\"type\":\"linear\",\"zero\":false}},\"y\":{\"field\":\"player\",\"type\":\"nominal\",\"sort\":null,\"scale\":{\"type\":\"linear\",\"zero\":true}},\"color\":{\"field\":\"error_type\",\"type\":\"nominal\",\"sort\":null,\"scale\":{\"type\":\"linear\",\"zero\":false}}}}\"\"\")",
   "metadata": {
    "cell_id": "00025-5835c844-289b-4f92-b154-1d82c629a5b1",
    "deepnote_variable_name": "team",
    "deepnote_visualization_spec": {
     "$schema": "https://vega.github.io/schema/vega-lite/v4.json",
     "mark": {
      "type": "bar",
      "tooltip": {
       "content": "data"
      }
     },
     "height": 220,
     "autosize": {
      "type": "fit"
     },
     "data": {
      "name": "placeholder"
     },
     "encoding": {
      "x": {
       "field": "error",
       "type": "quantitative",
       "sort": null,
       "scale": {
        "type": "linear",
        "zero": false
       }
      },
      "y": {
       "field": "player",
       "type": "nominal",
       "sort": null,
       "scale": {
        "type": "linear",
        "zero": true
       }
      },
      "color": {
       "field": "error_type",
       "type": "nominal",
       "sort": null,
       "scale": {
        "type": "linear",
        "zero": false
       }
      }
     }
    },
    "deepnote_to_be_reexecuted": false,
    "source_hash": "81b9fc1a",
    "deepnote_output_heights": [
     314
    ],
    "allow_embed": "output",
    "execution_start": 1645596605552,
    "execution_millis": 226,
    "deepnote_cell_type": "visualization"
   },
   "execution_count": 27,
   "outputs": [
    {
     "output_type": "execute_result",
     "execution_count": 27,
     "data": {
      "text/html": "\n<div id=\"altair-viz-d0e2fe820c9d4248b23211435d4e4a84\"></div>\n<script type=\"text/javascript\">\n  (function(spec, embedOpt){\n    let outputDiv = document.currentScript.previousElementSibling;\n    if (outputDiv.id !== \"altair-viz-d0e2fe820c9d4248b23211435d4e4a84\") {\n      outputDiv = document.getElementById(\"altair-viz-d0e2fe820c9d4248b23211435d4e4a84\");\n    }\n    const paths = {\n      \"vega\": \"https://cdn.jsdelivr.net/npm//vega@5?noext\",\n      \"vega-lib\": \"https://cdn.jsdelivr.net/npm//vega-lib?noext\",\n      \"vega-lite\": \"https://cdn.jsdelivr.net/npm//vega-lite@4.8.1?noext\",\n      \"vega-embed\": \"https://cdn.jsdelivr.net/npm//vega-embed@6?noext\",\n    };\n\n    function loadScript(lib) {\n      return new Promise(function(resolve, reject) {\n        var s = document.createElement('script');\n        s.src = paths[lib];\n        s.async = true;\n        s.onload = () => resolve(paths[lib]);\n        s.onerror = () => reject(`Error loading script: ${paths[lib]}`);\n        document.getElementsByTagName(\"head\")[0].appendChild(s);\n      });\n    }\n\n    function showError(err) {\n      outputDiv.innerHTML = `<div class=\"error\" style=\"color:red;\">${err}</div>`;\n      throw err;\n    }\n\n    function displayChart(vegaEmbed) {\n      vegaEmbed(outputDiv, spec, embedOpt)\n        .catch(err => showError(`Javascript Error: ${err.message}<br>This usually means there's a typo in your chart specification. See the javascript console for the full traceback.`));\n    }\n\n    if(typeof define === \"function\" && define.amd) {\n      requirejs.config({paths});\n      require([\"vega-embed\"], displayChart, err => showError(`Error loading script: ${err.message}`));\n    } else if (typeof vegaEmbed === \"function\") {\n      displayChart(vegaEmbed);\n    } else {\n      loadScript(\"vega\")\n        .then(() => loadScript(\"vega-lite\"))\n        .then(() => loadScript(\"vega-embed\"))\n        .catch(showError)\n        .then(() => displayChart(vegaEmbed));\n    }\n  })({\"config\": {\"view\": {\"continuousWidth\": 400, \"continuousHeight\": 300}, \"area\": {\"fill\": \"#51C0E9\"}, \"axis\": {\"labelFont\": \"Inter, sans-serif\", \"labelFontSize\": 12, \"labelFontWeight\": \"normal\", \"labelLimit\": 60, \"labelOverlap\": \"greedy\", \"titleFont\": \"Inter, sans-serif\", \"titleFontSize\": 12, \"titleFontWeight\": \"bold\"}, \"background\": \"#ffffff\", \"legend\": {\"labelFont\": \"Inter, sans-serif\", \"labelFontSize\": 12, \"titleFont\": \"Inter, sans-serif\", \"titleFontSize\": 12, \"titleFontWeight\": \"bold\"}, \"line\": {\"stroke\": \"#51C0E9\", \"strokeWidth\": 2}, \"rect\": {\"fill\": \"#51C0E9\"}, \"title\": {\"anchor\": \"start\", \"color\": \"#000000\", \"font\": \"Inter, sans-serif\", \"fontSize\": 22, \"fontWeight\": \"normal\"}}, \"data\": {\"name\": \"data-861410cb58abb95f3acdbb9e1b6e523e\"}, \"mark\": {\"type\": \"bar\", \"tooltip\": {\"content\": \"data\"}}, \"autosize\": {\"type\": \"fit\"}, \"encoding\": {\"color\": {\"type\": \"nominal\", \"field\": \"error_type\", \"scale\": {\"type\": \"linear\", \"zero\": false}, \"sort\": null}, \"x\": {\"type\": \"quantitative\", \"field\": \"error\", \"scale\": {\"type\": \"linear\", \"zero\": false}, \"sort\": null}, \"y\": {\"type\": \"nominal\", \"field\": \"player\", \"scale\": {\"type\": \"linear\", \"zero\": true}, \"sort\": null}}, \"height\": 300, \"width\": \"container\", \"$schema\": \"https://vega.github.io/schema/vega-lite/v4.json\", \"datasets\": {\"data-861410cb58abb95f3acdbb9e1b6e523e\": [{\"fanta_team\": \"AI sereje ja dejeDe jebe tu de jebere\", \"role\": \"D\", \"player\": \"Skriniar\", \"team\": \"Inter\", \"opponent\": \"Sassuolo\", \"date\": \"2022-02-20T00:00:00\", \"expected_bonus\": 0.3614536, \"true_bonus\": 0.0, \"error\": 0.3614536, \"error_type\": \"overestimated\"}, {\"fanta_team\": \"AI sereje ja dejeDe jebe tu de jebere\", \"role\": \"D\", \"player\": \"Darmian\", \"team\": \"Inter\", \"opponent\": \"Sassuolo\", \"date\": \"2022-02-20T00:00:00\", \"expected_bonus\": 0.3303808, \"true_bonus\": 0.0, \"error\": 0.3303808, \"error_type\": \"overestimated\"}, {\"fanta_team\": \"AI sereje ja dejeDe jebe tu de jebere\", \"role\": \"D\", \"player\": \"Rrahmani\", \"team\": \"Napoli\", \"opponent\": \"Cagliari\", \"date\": \"2022-02-21T00:00:00\", \"expected_bonus\": 0.31159687, \"true_bonus\": 0.0, \"error\": 0.31159687, \"error_type\": \"overestimated\"}, {\"fanta_team\": \"AI sereje ja dejeDe jebe tu de jebere\", \"role\": \"D\", \"player\": \"Hateboer\", \"team\": \"Atalanta\", \"opponent\": \"Fiorentina\", \"date\": \"2022-02-20T00:00:00\", \"expected_bonus\": 0.15112999, \"true_bonus\": 0.0, \"error\": 0.15112999, \"error_type\": \"overestimated\"}, {\"fanta_team\": \"AI sereje ja dejeDe jebe tu de jebere\", \"role\": \"C\", \"player\": \"Bajrami\", \"team\": \"Empoli\", \"opponent\": \"Sampdoria\", \"date\": \"2022-02-19T00:00:00\", \"expected_bonus\": 0.8338296, \"true_bonus\": 0.0, \"error\": 0.8338296, \"error_type\": \"overestimated\"}, {\"fanta_team\": \"AI sereje ja dejeDe jebe tu de jebere\", \"role\": \"C\", \"player\": \"Candreva\", \"team\": \"Sampdoria\", \"opponent\": \"Empoli\", \"date\": \"2022-02-19T00:00:00\", \"expected_bonus\": 0.7860698, \"true_bonus\": 1.0, \"error\": -0.21393019999999996, \"error_type\": \"underestimated\"}, {\"fanta_team\": \"AI sereje ja dejeDe jebe tu de jebere\", \"role\": \"C\", \"player\": \"Bonaventura\", \"team\": \"Fiorentina\", \"opponent\": \"Atalanta\", \"date\": \"2022-02-20T00:00:00\", \"expected_bonus\": 0.47716188, \"true_bonus\": 0.0, \"error\": 0.47716188, \"error_type\": \"overestimated\"}, {\"fanta_team\": \"AI sereje ja dejeDe jebe tu de jebere\", \"role\": \"C\", \"player\": \"Lukic\", \"team\": \"Torino\", \"opponent\": \"Juventus\", \"date\": \"2022-02-18T00:00:00\", \"expected_bonus\": 0.20180935, \"true_bonus\": 0.0, \"error\": 0.20180935, \"error_type\": \"overestimated\"}, {\"fanta_team\": \"AI sereje ja dejeDe jebe tu de jebere\", \"role\": \"C\", \"player\": \"Zakaria\", \"team\": \"Juventus\", \"opponent\": \"Torino\", \"date\": \"2022-02-18T00:00:00\", \"expected_bonus\": 0.14713569, \"true_bonus\": 0.0, \"error\": 0.14713569, \"error_type\": \"overestimated\"}, {\"fanta_team\": \"AI sereje ja dejeDe jebe tu de jebere\", \"role\": \"A\", \"player\": \"Vlahovic\", \"team\": \"Juventus\", \"opponent\": \"Torino\", \"date\": \"2022-02-18T00:00:00\", \"expected_bonus\": 1.7334042, \"true_bonus\": 0.0, \"error\": 1.7334042, \"error_type\": \"overestimated\"}, {\"fanta_team\": \"AI sereje ja dejeDe jebe tu de jebere\", \"role\": \"A\", \"player\": \"Beto\", \"team\": \"Udinese\", \"opponent\": \"Lazio\", \"date\": \"2022-02-20T00:00:00\", \"expected_bonus\": 1.1063179, \"true_bonus\": 0.0, \"error\": 1.1063179, \"error_type\": \"overestimated\"}, {\"fanta_team\": \"AI sereje ja dejeDe jebe tu de jebere\", \"role\": \"A\", \"player\": \"Destro\", \"team\": \"Genoa\", \"opponent\": \"Venezia\", \"date\": \"2022-02-20T00:00:00\", \"expected_bonus\": 0.99026346, \"true_bonus\": 1.0, \"error\": -0.009736540000000016, \"error_type\": \"underestimated\"}, {\"fanta_team\": \"AI sereje ja dejeDe jebe tu de jebere\", \"role\": \"A\", \"player\": \"Gyasi\", \"team\": \"Spezia\", \"opponent\": \"Bologna\", \"date\": \"2022-02-21T00:00:00\", \"expected_bonus\": 0.5498619, \"true_bonus\": 0.0, \"error\": 0.5498619, \"error_type\": \"overestimated\"}]}}, {\"actions\": false, \"mode\": \"vega-lite\"});\n</script>",
      "text/plain": "alt.Chart(...)"
     },
     "metadata": {}
    }
   ]
  },
  {
   "cell_type": "code",
   "metadata": {
    "cell_id": "4b6caad3-94aa-4a54-be90-216f36213ee1",
    "tags": [],
    "deepnote_to_be_reexecuted": false,
    "source_hash": "96119dd1",
    "execution_start": 1645596605673,
    "execution_millis": 5,
    "deepnote_cell_type": "code"
   },
   "source": "team, index = display_fanta_squad(validation, teams, index)",
   "execution_count": 28,
   "outputs": []
  },
  {
   "cell_type": "code",
   "source": "_deepnote_run_altair(team, \"\"\"{\"$schema\":\"https://vega.github.io/schema/vega-lite/v4.json\",\"mark\":{\"type\":\"bar\",\"tooltip\":{\"content\":\"data\"}},\"height\":220,\"autosize\":{\"type\":\"fit\"},\"data\":{\"name\":\"placeholder\"},\"encoding\":{\"x\":{\"field\":\"error\",\"type\":\"quantitative\",\"sort\":null,\"scale\":{\"type\":\"linear\",\"zero\":false}},\"y\":{\"field\":\"player\",\"type\":\"nominal\",\"sort\":null,\"scale\":{\"type\":\"linear\",\"zero\":true}},\"color\":{\"field\":\"error_type\",\"type\":\"nominal\",\"sort\":null,\"scale\":{\"type\":\"linear\",\"zero\":false}}}}\"\"\")",
   "metadata": {
    "cell_id": "00027-ad487baa-da0c-464f-9f9f-e9a21a67870d",
    "deepnote_variable_name": "team",
    "deepnote_visualization_spec": {
     "$schema": "https://vega.github.io/schema/vega-lite/v4.json",
     "mark": {
      "type": "bar",
      "tooltip": {
       "content": "data"
      }
     },
     "height": 220,
     "autosize": {
      "type": "fit"
     },
     "data": {
      "name": "placeholder"
     },
     "encoding": {
      "x": {
       "field": "error",
       "type": "quantitative",
       "sort": null,
       "scale": {
        "type": "linear",
        "zero": false
       }
      },
      "y": {
       "field": "player",
       "type": "nominal",
       "sort": null,
       "scale": {
        "type": "linear",
        "zero": true
       }
      },
      "color": {
       "field": "error_type",
       "type": "nominal",
       "sort": null,
       "scale": {
        "type": "linear",
        "zero": false
       }
      }
     }
    },
    "deepnote_to_be_reexecuted": false,
    "source_hash": "81b9fc1a",
    "deepnote_output_heights": [
     314
    ],
    "allow_embed": "output",
    "execution_start": 1645596605736,
    "execution_millis": 400,
    "deepnote_cell_type": "visualization"
   },
   "execution_count": 29,
   "outputs": [
    {
     "output_type": "execute_result",
     "execution_count": 29,
     "data": {
      "text/html": "\n<div id=\"altair-viz-dcb3c19f3ced4b548993a50f6abe3583\"></div>\n<script type=\"text/javascript\">\n  (function(spec, embedOpt){\n    let outputDiv = document.currentScript.previousElementSibling;\n    if (outputDiv.id !== \"altair-viz-dcb3c19f3ced4b548993a50f6abe3583\") {\n      outputDiv = document.getElementById(\"altair-viz-dcb3c19f3ced4b548993a50f6abe3583\");\n    }\n    const paths = {\n      \"vega\": \"https://cdn.jsdelivr.net/npm//vega@5?noext\",\n      \"vega-lib\": \"https://cdn.jsdelivr.net/npm//vega-lib?noext\",\n      \"vega-lite\": \"https://cdn.jsdelivr.net/npm//vega-lite@4.8.1?noext\",\n      \"vega-embed\": \"https://cdn.jsdelivr.net/npm//vega-embed@6?noext\",\n    };\n\n    function loadScript(lib) {\n      return new Promise(function(resolve, reject) {\n        var s = document.createElement('script');\n        s.src = paths[lib];\n        s.async = true;\n        s.onload = () => resolve(paths[lib]);\n        s.onerror = () => reject(`Error loading script: ${paths[lib]}`);\n        document.getElementsByTagName(\"head\")[0].appendChild(s);\n      });\n    }\n\n    function showError(err) {\n      outputDiv.innerHTML = `<div class=\"error\" style=\"color:red;\">${err}</div>`;\n      throw err;\n    }\n\n    function displayChart(vegaEmbed) {\n      vegaEmbed(outputDiv, spec, embedOpt)\n        .catch(err => showError(`Javascript Error: ${err.message}<br>This usually means there's a typo in your chart specification. See the javascript console for the full traceback.`));\n    }\n\n    if(typeof define === \"function\" && define.amd) {\n      requirejs.config({paths});\n      require([\"vega-embed\"], displayChart, err => showError(`Error loading script: ${err.message}`));\n    } else if (typeof vegaEmbed === \"function\") {\n      displayChart(vegaEmbed);\n    } else {\n      loadScript(\"vega\")\n        .then(() => loadScript(\"vega-lite\"))\n        .then(() => loadScript(\"vega-embed\"))\n        .catch(showError)\n        .then(() => displayChart(vegaEmbed));\n    }\n  })({\"config\": {\"view\": {\"continuousWidth\": 400, \"continuousHeight\": 300}, \"area\": {\"fill\": \"#51C0E9\"}, \"axis\": {\"labelFont\": \"Inter, sans-serif\", \"labelFontSize\": 12, \"labelFontWeight\": \"normal\", \"labelLimit\": 60, \"labelOverlap\": \"greedy\", \"titleFont\": \"Inter, sans-serif\", \"titleFontSize\": 12, \"titleFontWeight\": \"bold\"}, \"background\": \"#ffffff\", \"legend\": {\"labelFont\": \"Inter, sans-serif\", \"labelFontSize\": 12, \"titleFont\": \"Inter, sans-serif\", \"titleFontSize\": 12, \"titleFontWeight\": \"bold\"}, \"line\": {\"stroke\": \"#51C0E9\", \"strokeWidth\": 2}, \"rect\": {\"fill\": \"#51C0E9\"}, \"title\": {\"anchor\": \"start\", \"color\": \"#000000\", \"font\": \"Inter, sans-serif\", \"fontSize\": 22, \"fontWeight\": \"normal\"}}, \"data\": {\"name\": \"data-bf50df0e924621ccaa5f8a0fccec8a61\"}, \"mark\": {\"type\": \"bar\", \"tooltip\": {\"content\": \"data\"}}, \"autosize\": {\"type\": \"fit\"}, \"encoding\": {\"color\": {\"type\": \"nominal\", \"field\": \"error_type\", \"scale\": {\"type\": \"linear\", \"zero\": false}, \"sort\": null}, \"x\": {\"type\": \"quantitative\", \"field\": \"error\", \"scale\": {\"type\": \"linear\", \"zero\": false}, \"sort\": null}, \"y\": {\"type\": \"nominal\", \"field\": \"player\", \"scale\": {\"type\": \"linear\", \"zero\": true}, \"sort\": null}}, \"height\": 300, \"width\": \"container\", \"$schema\": \"https://vega.github.io/schema/vega-lite/v4.json\", \"datasets\": {\"data-bf50df0e924621ccaa5f8a0fccec8a61\": [{\"fanta_team\": \"Beverly INPS\", \"role\": \"D\", \"player\": \"Dimarco\", \"team\": \"Inter\", \"opponent\": \"Sassuolo\", \"date\": \"2022-02-20T00:00:00\", \"expected_bonus\": 0.60519767, \"true_bonus\": 0.0, \"error\": 0.60519767, \"error_type\": \"overestimated\"}, {\"fanta_team\": \"Beverly INPS\", \"role\": \"D\", \"player\": \"Lorenzo\", \"team\": \"Napoli\", \"opponent\": \"Cagliari\", \"date\": \"2022-02-21T00:00:00\", \"expected_bonus\": 0.28797907, \"true_bonus\": 0.0, \"error\": 0.28797907, \"error_type\": \"overestimated\"}, {\"fanta_team\": \"Beverly INPS\", \"role\": \"D\", \"player\": \"Cuadrado\", \"team\": \"Juventus\", \"opponent\": \"Torino\", \"date\": \"2022-02-18T00:00:00\", \"expected_bonus\": 0.25316414, \"true_bonus\": 1.0, \"error\": -0.74683586, \"error_type\": \"underestimated\"}, {\"fanta_team\": \"Beverly INPS\", \"role\": \"D\", \"player\": \"Cambiaso\", \"team\": \"Genoa\", \"opponent\": \"Venezia\", \"date\": \"2022-02-20T00:00:00\", \"expected_bonus\": 0.22369492, \"true_bonus\": 0.0, \"error\": 0.22369492, \"error_type\": \"overestimated\"}, {\"fanta_team\": \"Beverly INPS\", \"role\": \"D\", \"player\": \"Romagnoli\", \"team\": \"AC Milan\", \"opponent\": \"Salernitana\", \"date\": \"2022-02-19T00:00:00\", \"expected_bonus\": 0.12191697, \"true_bonus\": 0.0, \"error\": 0.12191697, \"error_type\": \"overestimated\"}, {\"fanta_team\": \"Beverly INPS\", \"role\": \"C\", \"player\": \"Zielinski\", \"team\": \"Napoli\", \"opponent\": \"Cagliari\", \"date\": \"2022-02-21T00:00:00\", \"expected_bonus\": 0.89963514, \"true_bonus\": 0.0, \"error\": 0.89963514, \"error_type\": \"overestimated\"}, {\"fanta_team\": \"Beverly INPS\", \"role\": \"C\", \"player\": \"Barak\", \"team\": \"Verona\", \"opponent\": \"Roma\", \"date\": \"2022-02-19T00:00:00\", \"expected_bonus\": 0.6750395, \"true_bonus\": 3.0, \"error\": -2.3249605, \"error_type\": \"underestimated\"}, {\"fanta_team\": \"Beverly INPS\", \"role\": \"C\", \"player\": \"Kessi\\u00e9\", \"team\": \"AC Milan\", \"opponent\": \"Salernitana\", \"date\": \"2022-02-19T00:00:00\", \"expected_bonus\": 0.60643035, \"true_bonus\": 0.0, \"error\": 0.60643035, \"error_type\": \"overestimated\"}, {\"fanta_team\": \"Beverly INPS\", \"role\": \"C\", \"player\": \"Veretout\", \"team\": \"Roma\", \"opponent\": \"Verona\", \"date\": \"2022-02-19T00:00:00\", \"expected_bonus\": 0.54607564, \"true_bonus\": 0.0, \"error\": 0.54607564, \"error_type\": \"overestimated\"}, {\"fanta_team\": \"Beverly INPS\", \"role\": \"C\", \"player\": \"Elmas\", \"team\": \"Napoli\", \"opponent\": \"Cagliari\", \"date\": \"2022-02-21T00:00:00\", \"expected_bonus\": 0.3124973, \"true_bonus\": 0.0, \"error\": 0.3124973, \"error_type\": \"overestimated\"}, {\"fanta_team\": \"Beverly INPS\", \"role\": \"A\", \"player\": \"Mart\\u00ednez\", \"team\": \"Inter\", \"opponent\": \"Sassuolo\", \"date\": \"2022-02-20T00:00:00\", \"expected_bonus\": 1.9226303, \"true_bonus\": 0.0, \"error\": 1.9226303, \"error_type\": \"overestimated\"}, {\"fanta_team\": \"Beverly INPS\", \"role\": \"A\", \"player\": \"Mertens\", \"team\": \"Napoli\", \"opponent\": \"Cagliari\", \"date\": \"2022-02-21T00:00:00\", \"expected_bonus\": 1.4522936, \"true_bonus\": 0.0, \"error\": 1.4522936, \"error_type\": \"overestimated\"}, {\"fanta_team\": \"Beverly INPS\", \"role\": \"A\", \"player\": \"Berardi\", \"team\": \"Sassuolo\", \"opponent\": \"Inter\", \"date\": \"2022-02-20T00:00:00\", \"expected_bonus\": 1.1495426, \"true_bonus\": 1.0, \"error\": 0.14954259999999997, \"error_type\": \"overestimated\"}, {\"fanta_team\": \"Beverly INPS\", \"role\": \"A\", \"player\": \"Deulofeu\", \"team\": \"Udinese\", \"opponent\": \"Lazio\", \"date\": \"2022-02-20T00:00:00\", \"expected_bonus\": 1.1059767, \"true_bonus\": 3.0, \"error\": -1.8940233, \"error_type\": \"underestimated\"}, {\"fanta_team\": \"Beverly INPS\", \"role\": \"A\", \"player\": \"Barrow\", \"team\": \"Bologna\", \"opponent\": \"Spezia\", \"date\": \"2022-02-21T00:00:00\", \"expected_bonus\": 1.055728, \"true_bonus\": 1.0, \"error\": 0.055728, \"error_type\": \"overestimated\"}, {\"fanta_team\": \"Beverly INPS\", \"role\": \"A\", \"player\": \"Gonz\\u00e1lez\", \"team\": \"Fiorentina\", \"opponent\": \"Atalanta\", \"date\": \"2022-02-20T00:00:00\", \"expected_bonus\": 0.69008255, \"true_bonus\": 1.0, \"error\": -0.30991745000000004, \"error_type\": \"underestimated\"}]}}, {\"actions\": false, \"mode\": \"vega-lite\"});\n</script>",
      "text/plain": "alt.Chart(...)"
     },
     "metadata": {}
    }
   ]
  },
  {
   "cell_type": "code",
   "metadata": {
    "cell_id": "d7f08d19-70ea-42c9-b53f-af37f2745fd5",
    "tags": [],
    "deepnote_to_be_reexecuted": false,
    "source_hash": "96119dd1",
    "execution_start": 1645596605845,
    "execution_millis": 1,
    "deepnote_cell_type": "code"
   },
   "source": "team, index = display_fanta_squad(validation, teams, index)",
   "execution_count": 30,
   "outputs": []
  },
  {
   "cell_type": "code",
   "source": "_deepnote_run_altair(team, \"\"\"{\"$schema\":\"https://vega.github.io/schema/vega-lite/v4.json\",\"mark\":{\"type\":\"bar\",\"tooltip\":{\"content\":\"data\"}},\"height\":220,\"autosize\":{\"type\":\"fit\"},\"data\":{\"name\":\"placeholder\"},\"encoding\":{\"x\":{\"field\":\"error\",\"type\":\"quantitative\",\"sort\":null,\"scale\":{\"type\":\"linear\",\"zero\":false}},\"y\":{\"field\":\"player\",\"type\":\"nominal\",\"sort\":null,\"scale\":{\"type\":\"linear\",\"zero\":true}},\"color\":{\"field\":\"error_type\",\"type\":\"nominal\",\"sort\":null,\"scale\":{\"type\":\"linear\",\"zero\":false}}}}\"\"\")",
   "metadata": {
    "cell_id": "00029-0f50e7b5-72d6-4b55-9d32-91160ff059b5",
    "deepnote_variable_name": "team",
    "deepnote_visualization_spec": {
     "$schema": "https://vega.github.io/schema/vega-lite/v4.json",
     "mark": {
      "type": "bar",
      "tooltip": {
       "content": "data"
      }
     },
     "height": 220,
     "autosize": {
      "type": "fit"
     },
     "data": {
      "name": "placeholder"
     },
     "encoding": {
      "x": {
       "field": "error",
       "type": "quantitative",
       "sort": null,
       "scale": {
        "type": "linear",
        "zero": false
       }
      },
      "y": {
       "field": "player",
       "type": "nominal",
       "sort": null,
       "scale": {
        "type": "linear",
        "zero": true
       }
      },
      "color": {
       "field": "error_type",
       "type": "nominal",
       "sort": null,
       "scale": {
        "type": "linear",
        "zero": false
       }
      }
     }
    },
    "deepnote_to_be_reexecuted": false,
    "source_hash": "81b9fc1a",
    "deepnote_output_heights": [
     314
    ],
    "allow_embed": "output",
    "execution_start": 1645596605846,
    "execution_millis": 293,
    "deepnote_cell_type": "visualization"
   },
   "execution_count": 31,
   "outputs": [
    {
     "output_type": "execute_result",
     "execution_count": 31,
     "data": {
      "text/html": "\n<div id=\"altair-viz-d732f5b535ac47a5a0deda11aa22b0fe\"></div>\n<script type=\"text/javascript\">\n  (function(spec, embedOpt){\n    let outputDiv = document.currentScript.previousElementSibling;\n    if (outputDiv.id !== \"altair-viz-d732f5b535ac47a5a0deda11aa22b0fe\") {\n      outputDiv = document.getElementById(\"altair-viz-d732f5b535ac47a5a0deda11aa22b0fe\");\n    }\n    const paths = {\n      \"vega\": \"https://cdn.jsdelivr.net/npm//vega@5?noext\",\n      \"vega-lib\": \"https://cdn.jsdelivr.net/npm//vega-lib?noext\",\n      \"vega-lite\": \"https://cdn.jsdelivr.net/npm//vega-lite@4.8.1?noext\",\n      \"vega-embed\": \"https://cdn.jsdelivr.net/npm//vega-embed@6?noext\",\n    };\n\n    function loadScript(lib) {\n      return new Promise(function(resolve, reject) {\n        var s = document.createElement('script');\n        s.src = paths[lib];\n        s.async = true;\n        s.onload = () => resolve(paths[lib]);\n        s.onerror = () => reject(`Error loading script: ${paths[lib]}`);\n        document.getElementsByTagName(\"head\")[0].appendChild(s);\n      });\n    }\n\n    function showError(err) {\n      outputDiv.innerHTML = `<div class=\"error\" style=\"color:red;\">${err}</div>`;\n      throw err;\n    }\n\n    function displayChart(vegaEmbed) {\n      vegaEmbed(outputDiv, spec, embedOpt)\n        .catch(err => showError(`Javascript Error: ${err.message}<br>This usually means there's a typo in your chart specification. See the javascript console for the full traceback.`));\n    }\n\n    if(typeof define === \"function\" && define.amd) {\n      requirejs.config({paths});\n      require([\"vega-embed\"], displayChart, err => showError(`Error loading script: ${err.message}`));\n    } else if (typeof vegaEmbed === \"function\") {\n      displayChart(vegaEmbed);\n    } else {\n      loadScript(\"vega\")\n        .then(() => loadScript(\"vega-lite\"))\n        .then(() => loadScript(\"vega-embed\"))\n        .catch(showError)\n        .then(() => displayChart(vegaEmbed));\n    }\n  })({\"config\": {\"view\": {\"continuousWidth\": 400, \"continuousHeight\": 300}, \"area\": {\"fill\": \"#51C0E9\"}, \"axis\": {\"labelFont\": \"Inter, sans-serif\", \"labelFontSize\": 12, \"labelFontWeight\": \"normal\", \"labelLimit\": 60, \"labelOverlap\": \"greedy\", \"titleFont\": \"Inter, sans-serif\", \"titleFontSize\": 12, \"titleFontWeight\": \"bold\"}, \"background\": \"#ffffff\", \"legend\": {\"labelFont\": \"Inter, sans-serif\", \"labelFontSize\": 12, \"titleFont\": \"Inter, sans-serif\", \"titleFontSize\": 12, \"titleFontWeight\": \"bold\"}, \"line\": {\"stroke\": \"#51C0E9\", \"strokeWidth\": 2}, \"rect\": {\"fill\": \"#51C0E9\"}, \"title\": {\"anchor\": \"start\", \"color\": \"#000000\", \"font\": \"Inter, sans-serif\", \"fontSize\": 22, \"fontWeight\": \"normal\"}}, \"data\": {\"name\": \"data-696d0c52163448ac16f9baae56a11b8d\"}, \"mark\": {\"type\": \"bar\", \"tooltip\": {\"content\": \"data\"}}, \"autosize\": {\"type\": \"fit\"}, \"encoding\": {\"color\": {\"type\": \"nominal\", \"field\": \"error_type\", \"scale\": {\"type\": \"linear\", \"zero\": false}, \"sort\": null}, \"x\": {\"type\": \"quantitative\", \"field\": \"error\", \"scale\": {\"type\": \"linear\", \"zero\": false}, \"sort\": null}, \"y\": {\"type\": \"nominal\", \"field\": \"player\", \"scale\": {\"type\": \"linear\", \"zero\": true}, \"sort\": null}}, \"height\": 300, \"width\": \"container\", \"$schema\": \"https://vega.github.io/schema/vega-lite/v4.json\", \"datasets\": {\"data-696d0c52163448ac16f9baae56a11b8d\": [{\"fanta_team\": \"MEZAFE\", \"role\": \"D\", \"player\": \"Zappacosta\", \"team\": \"Atalanta\", \"opponent\": \"Fiorentina\", \"date\": \"2022-02-20T00:00:00\", \"expected_bonus\": 0.36755684, \"true_bonus\": 0.0, \"error\": 0.36755684, \"error_type\": \"overestimated\"}, {\"fanta_team\": \"MEZAFE\", \"role\": \"D\", \"player\": \"Silvestri\", \"team\": \"Bologna\", \"opponent\": \"Spezia\", \"date\": \"2022-02-21T00:00:00\", \"expected_bonus\": 0.2656703, \"true_bonus\": 0.0, \"error\": 0.2656703, \"error_type\": \"overestimated\"}, {\"fanta_team\": \"MEZAFE\", \"role\": \"D\", \"player\": \"Vrij\", \"team\": \"Inter\", \"opponent\": \"Sassuolo\", \"date\": \"2022-02-20T00:00:00\", \"expected_bonus\": 0.25610307, \"true_bonus\": 0.0, \"error\": 0.25610307, \"error_type\": \"overestimated\"}, {\"fanta_team\": \"MEZAFE\", \"role\": \"C\", \"player\": \"Pasalic\", \"team\": \"Atalanta\", \"opponent\": \"Fiorentina\", \"date\": \"2022-02-20T00:00:00\", \"expected_bonus\": 0.73317426, \"true_bonus\": 0.0, \"error\": 0.73317426, \"error_type\": \"overestimated\"}, {\"fanta_team\": \"MEZAFE\", \"role\": \"C\", \"player\": \"Saelemaekers\", \"team\": \"AC Milan\", \"opponent\": \"Salernitana\", \"date\": \"2022-02-19T00:00:00\", \"expected_bonus\": 0.6403549, \"true_bonus\": 0.0, \"error\": 0.6403549, \"error_type\": \"overestimated\"}, {\"fanta_team\": \"MEZAFE\", \"role\": \"C\", \"player\": \"Perisic\", \"team\": \"Inter\", \"opponent\": \"Sassuolo\", \"date\": \"2022-02-20T00:00:00\", \"expected_bonus\": 0.48241565, \"true_bonus\": 0.0, \"error\": 0.48241565, \"error_type\": \"overestimated\"}, {\"fanta_team\": \"MEZAFE\", \"role\": \"C\", \"player\": \"McKennie\", \"team\": \"Juventus\", \"opponent\": \"Torino\", \"date\": \"2022-02-18T00:00:00\", \"expected_bonus\": 0.35266107, \"true_bonus\": 0.0, \"error\": 0.35266107, \"error_type\": \"overestimated\"}, {\"fanta_team\": \"MEZAFE\", \"role\": \"C\", \"player\": \"Lazovic\", \"team\": \"Verona\", \"opponent\": \"Roma\", \"date\": \"2022-02-19T00:00:00\", \"expected_bonus\": 0.27536222, \"true_bonus\": 0.0, \"error\": 0.27536222, \"error_type\": \"overestimated\"}, {\"fanta_team\": \"MEZAFE\", \"role\": \"C\", \"player\": \"Tonali\", \"team\": \"AC Milan\", \"opponent\": \"Salernitana\", \"date\": \"2022-02-19T00:00:00\", \"expected_bonus\": 0.26954868, \"true_bonus\": 0.0, \"error\": 0.26954868, \"error_type\": \"overestimated\"}, {\"fanta_team\": \"MEZAFE\", \"role\": \"C\", \"player\": \"Castrovilli\", \"team\": \"Fiorentina\", \"opponent\": \"Atalanta\", \"date\": \"2022-02-20T00:00:00\", \"expected_bonus\": 0.13672777, \"true_bonus\": 0.0, \"error\": 0.13672777, \"error_type\": \"overestimated\"}, {\"fanta_team\": \"MEZAFE\", \"role\": \"A\", \"player\": \"Dybala\", \"team\": \"Juventus\", \"opponent\": \"Torino\", \"date\": \"2022-02-18T00:00:00\", \"expected_bonus\": 1.3340162, \"true_bonus\": 0.0, \"error\": 1.3340162, \"error_type\": \"overestimated\"}, {\"fanta_team\": \"MEZAFE\", \"role\": \"A\", \"player\": \"Piatek\", \"team\": \"Fiorentina\", \"opponent\": \"Atalanta\", \"date\": \"2022-02-20T00:00:00\", \"expected_bonus\": 1.1056963, \"true_bonus\": 3.0, \"error\": -1.8943037, \"error_type\": \"underestimated\"}, {\"fanta_team\": \"MEZAFE\", \"role\": \"A\", \"player\": \"Quagliarella\", \"team\": \"Sampdoria\", \"opponent\": \"Empoli\", \"date\": \"2022-02-19T00:00:00\", \"expected_bonus\": 1.0945308, \"true_bonus\": 6.0, \"error\": -4.9054692, \"error_type\": \"underestimated\"}, {\"fanta_team\": \"MEZAFE\", \"role\": \"A\", \"player\": \"Simeone\", \"team\": \"Verona\", \"opponent\": \"Roma\", \"date\": \"2022-02-19T00:00:00\", \"expected_bonus\": 0.9242713, \"true_bonus\": 0.0, \"error\": 0.9242713, \"error_type\": \"overestimated\"}, {\"fanta_team\": \"MEZAFE\", \"role\": \"A\", \"player\": \"Sanabria\", \"team\": \"Torino\", \"opponent\": \"Juventus\", \"date\": \"2022-02-18T00:00:00\", \"expected_bonus\": 0.689533, \"true_bonus\": 0.0, \"error\": 0.689533, \"error_type\": \"overestimated\"}, {\"fanta_team\": \"MEZAFE\", \"role\": \"A\", \"player\": \"Rebic\", \"team\": \"AC Milan\", \"opponent\": \"Salernitana\", \"date\": \"2022-02-19T00:00:00\", \"expected_bonus\": 0.5276252, \"true_bonus\": 3.0, \"error\": -2.4723748, \"error_type\": \"underestimated\"}]}}, {\"actions\": false, \"mode\": \"vega-lite\"});\n</script>",
      "text/plain": "alt.Chart(...)"
     },
     "metadata": {}
    }
   ]
  },
  {
   "cell_type": "code",
   "metadata": {
    "cell_id": "cc3dc8c6-dc8f-44b0-a37e-c28bcb2bd928",
    "tags": [],
    "deepnote_to_be_reexecuted": false,
    "source_hash": "96119dd1",
    "execution_start": 1645596605946,
    "execution_millis": 2,
    "deepnote_cell_type": "code"
   },
   "source": "team, index = display_fanta_squad(validation, teams, index)",
   "execution_count": 32,
   "outputs": []
  },
  {
   "cell_type": "code",
   "source": "_deepnote_run_altair(team, \"\"\"{\"$schema\":\"https://vega.github.io/schema/vega-lite/v4.json\",\"mark\":{\"type\":\"bar\",\"tooltip\":{\"content\":\"data\"}},\"height\":220,\"autosize\":{\"type\":\"fit\"},\"data\":{\"name\":\"placeholder\"},\"encoding\":{\"x\":{\"field\":\"error\",\"type\":\"quantitative\",\"sort\":null,\"scale\":{\"type\":\"linear\",\"zero\":false}},\"y\":{\"field\":\"player\",\"type\":\"nominal\",\"sort\":null,\"scale\":{\"type\":\"linear\",\"zero\":true}},\"color\":{\"field\":\"error_type\",\"type\":\"nominal\",\"sort\":null,\"scale\":{\"type\":\"linear\",\"zero\":false}}}}\"\"\")",
   "metadata": {
    "cell_id": "00031-fd6a1c71-4f0b-4b0a-a71b-11423045a9e4",
    "deepnote_variable_name": "team",
    "deepnote_visualization_spec": {
     "$schema": "https://vega.github.io/schema/vega-lite/v4.json",
     "mark": {
      "type": "bar",
      "tooltip": {
       "content": "data"
      }
     },
     "height": 220,
     "autosize": {
      "type": "fit"
     },
     "data": {
      "name": "placeholder"
     },
     "encoding": {
      "x": {
       "field": "error",
       "type": "quantitative",
       "sort": null,
       "scale": {
        "type": "linear",
        "zero": false
       }
      },
      "y": {
       "field": "player",
       "type": "nominal",
       "sort": null,
       "scale": {
        "type": "linear",
        "zero": true
       }
      },
      "color": {
       "field": "error_type",
       "type": "nominal",
       "sort": null,
       "scale": {
        "type": "linear",
        "zero": false
       }
      }
     }
    },
    "deepnote_to_be_reexecuted": false,
    "source_hash": "81b9fc1a",
    "deepnote_output_heights": [
     314
    ],
    "allow_embed": "output",
    "execution_start": 1645596605969,
    "execution_millis": 183,
    "deepnote_cell_type": "visualization"
   },
   "execution_count": 33,
   "outputs": [
    {
     "output_type": "execute_result",
     "execution_count": 33,
     "data": {
      "text/html": "\n<div id=\"altair-viz-81346e0ba8084f68a07a28eb1f239c31\"></div>\n<script type=\"text/javascript\">\n  (function(spec, embedOpt){\n    let outputDiv = document.currentScript.previousElementSibling;\n    if (outputDiv.id !== \"altair-viz-81346e0ba8084f68a07a28eb1f239c31\") {\n      outputDiv = document.getElementById(\"altair-viz-81346e0ba8084f68a07a28eb1f239c31\");\n    }\n    const paths = {\n      \"vega\": \"https://cdn.jsdelivr.net/npm//vega@5?noext\",\n      \"vega-lib\": \"https://cdn.jsdelivr.net/npm//vega-lib?noext\",\n      \"vega-lite\": \"https://cdn.jsdelivr.net/npm//vega-lite@4.8.1?noext\",\n      \"vega-embed\": \"https://cdn.jsdelivr.net/npm//vega-embed@6?noext\",\n    };\n\n    function loadScript(lib) {\n      return new Promise(function(resolve, reject) {\n        var s = document.createElement('script');\n        s.src = paths[lib];\n        s.async = true;\n        s.onload = () => resolve(paths[lib]);\n        s.onerror = () => reject(`Error loading script: ${paths[lib]}`);\n        document.getElementsByTagName(\"head\")[0].appendChild(s);\n      });\n    }\n\n    function showError(err) {\n      outputDiv.innerHTML = `<div class=\"error\" style=\"color:red;\">${err}</div>`;\n      throw err;\n    }\n\n    function displayChart(vegaEmbed) {\n      vegaEmbed(outputDiv, spec, embedOpt)\n        .catch(err => showError(`Javascript Error: ${err.message}<br>This usually means there's a typo in your chart specification. See the javascript console for the full traceback.`));\n    }\n\n    if(typeof define === \"function\" && define.amd) {\n      requirejs.config({paths});\n      require([\"vega-embed\"], displayChart, err => showError(`Error loading script: ${err.message}`));\n    } else if (typeof vegaEmbed === \"function\") {\n      displayChart(vegaEmbed);\n    } else {\n      loadScript(\"vega\")\n        .then(() => loadScript(\"vega-lite\"))\n        .then(() => loadScript(\"vega-embed\"))\n        .catch(showError)\n        .then(() => displayChart(vegaEmbed));\n    }\n  })({\"config\": {\"view\": {\"continuousWidth\": 400, \"continuousHeight\": 300}, \"area\": {\"fill\": \"#51C0E9\"}, \"axis\": {\"labelFont\": \"Inter, sans-serif\", \"labelFontSize\": 12, \"labelFontWeight\": \"normal\", \"labelLimit\": 60, \"labelOverlap\": \"greedy\", \"titleFont\": \"Inter, sans-serif\", \"titleFontSize\": 12, \"titleFontWeight\": \"bold\"}, \"background\": \"#ffffff\", \"legend\": {\"labelFont\": \"Inter, sans-serif\", \"labelFontSize\": 12, \"titleFont\": \"Inter, sans-serif\", \"titleFontSize\": 12, \"titleFontWeight\": \"bold\"}, \"line\": {\"stroke\": \"#51C0E9\", \"strokeWidth\": 2}, \"rect\": {\"fill\": \"#51C0E9\"}, \"title\": {\"anchor\": \"start\", \"color\": \"#000000\", \"font\": \"Inter, sans-serif\", \"fontSize\": 22, \"fontWeight\": \"normal\"}}, \"data\": {\"name\": \"data-0adfd38b18801a8780a03e8cb0efb91c\"}, \"mark\": {\"type\": \"bar\", \"tooltip\": {\"content\": \"data\"}}, \"autosize\": {\"type\": \"fit\"}, \"encoding\": {\"color\": {\"type\": \"nominal\", \"field\": \"error_type\", \"scale\": {\"type\": \"linear\", \"zero\": false}, \"sort\": null}, \"x\": {\"type\": \"quantitative\", \"field\": \"error\", \"scale\": {\"type\": \"linear\", \"zero\": false}, \"sort\": null}, \"y\": {\"type\": \"nominal\", \"field\": \"player\", \"scale\": {\"type\": \"linear\", \"zero\": true}, \"sort\": null}}, \"height\": 300, \"width\": \"container\", \"$schema\": \"https://vega.github.io/schema/vega-lite/v4.json\", \"datasets\": {\"data-0adfd38b18801a8780a03e8cb0efb91c\": [{\"fanta_team\": \"MaiNa Joya_v2.0\", \"role\": \"D\", \"player\": \"Hern\\u00e1ndez\", \"team\": \"AC Milan\", \"opponent\": \"Salernitana\", \"date\": \"2022-02-19T00:00:00\", \"expected_bonus\": 0.6026711, \"true_bonus\": 1.0, \"error\": -0.3973289, \"error_type\": \"underestimated\"}, {\"fanta_team\": \"MaiNa Joya_v2.0\", \"role\": \"D\", \"player\": \"Molina\", \"team\": \"Udinese\", \"opponent\": \"Lazio\", \"date\": \"2022-02-20T00:00:00\", \"expected_bonus\": 0.2603802, \"true_bonus\": 0.0, \"error\": 0.2603802, \"error_type\": \"overestimated\"}, {\"fanta_team\": \"MaiNa Joya_v2.0\", \"role\": \"D\", \"player\": \"Stojanovic\", \"team\": \"Empoli\", \"opponent\": \"Sampdoria\", \"date\": \"2022-02-19T00:00:00\", \"expected_bonus\": 0.20594862, \"true_bonus\": 0.0, \"error\": 0.20594862, \"error_type\": \"overestimated\"}, {\"fanta_team\": \"MaiNa Joya_v2.0\", \"role\": \"D\", \"player\": \"Milenkovic\", \"team\": \"Fiorentina\", \"opponent\": \"Atalanta\", \"date\": \"2022-02-20T00:00:00\", \"expected_bonus\": 0.15821438, \"true_bonus\": 0.0, \"error\": 0.15821438, \"error_type\": \"overestimated\"}, {\"fanta_team\": \"MaiNa Joya_v2.0\", \"role\": \"D\", \"player\": \"Toloi\", \"team\": \"Atalanta\", \"opponent\": \"Fiorentina\", \"date\": \"2022-02-20T00:00:00\", \"expected_bonus\": 0.15404212, \"true_bonus\": 0.0, \"error\": 0.15404212, \"error_type\": \"overestimated\"}, {\"fanta_team\": \"MaiNa Joya_v2.0\", \"role\": \"C\", \"player\": \"Milinkovic-Savic\", \"team\": \"Lazio\", \"opponent\": \"Udinese\", \"date\": \"2022-02-20T00:00:00\", \"expected_bonus\": 0.8609108, \"true_bonus\": 0.0, \"error\": 0.8609108, \"error_type\": \"overestimated\"}, {\"fanta_team\": \"MaiNa Joya_v2.0\", \"role\": \"C\", \"player\": \"Barella\", \"team\": \"Inter\", \"opponent\": \"Sassuolo\", \"date\": \"2022-02-20T00:00:00\", \"expected_bonus\": 0.8214029, \"true_bonus\": 0.0, \"error\": 0.8214029, \"error_type\": \"overestimated\"}, {\"fanta_team\": \"MaiNa Joya_v2.0\", \"role\": \"C\", \"player\": \"Pobega\", \"team\": \"Torino\", \"opponent\": \"Juventus\", \"date\": \"2022-02-18T00:00:00\", \"expected_bonus\": 0.4718363, \"true_bonus\": 0.0, \"error\": 0.4718363, \"error_type\": \"overestimated\"}, {\"fanta_team\": \"MaiNa Joya_v2.0\", \"role\": \"C\", \"player\": \"Soriano\", \"team\": \"Bologna\", \"opponent\": \"Spezia\", \"date\": \"2022-02-21T00:00:00\", \"expected_bonus\": 0.41992077, \"true_bonus\": 0.0, \"error\": 0.41992077, \"error_type\": \"overestimated\"}, {\"fanta_team\": \"MaiNa Joya_v2.0\", \"role\": \"C\", \"player\": \"Locatelli\", \"team\": \"Juventus\", \"opponent\": \"Torino\", \"date\": \"2022-02-18T00:00:00\", \"expected_bonus\": 0.20934844, \"true_bonus\": 0.0, \"error\": 0.20934844, \"error_type\": \"overestimated\"}, {\"fanta_team\": \"MaiNa Joya_v2.0\", \"role\": \"A\", \"player\": \"Abraham\", \"team\": \"Roma\", \"opponent\": \"Verona\", \"date\": \"2022-02-19T00:00:00\", \"expected_bonus\": 1.633607, \"true_bonus\": 0.0, \"error\": 1.633607, \"error_type\": \"overestimated\"}, {\"fanta_team\": \"MaiNa Joya_v2.0\", \"role\": \"A\", \"player\": \"Arnautovic\", \"team\": \"Bologna\", \"opponent\": \"Spezia\", \"date\": \"2022-02-21T00:00:00\", \"expected_bonus\": 1.1446823, \"true_bonus\": 6.0, \"error\": -4.8553177000000005, \"error_type\": \"underestimated\"}, {\"fanta_team\": \"MaiNa Joya_v2.0\", \"role\": \"A\", \"player\": \"Morata\", \"team\": \"Juventus\", \"opponent\": \"Torino\", \"date\": \"2022-02-18T00:00:00\", \"expected_bonus\": 0.9896677, \"true_bonus\": 0.0, \"error\": 0.9896677, \"error_type\": \"overestimated\"}, {\"fanta_team\": \"MaiNa Joya_v2.0\", \"role\": \"A\", \"player\": \"Brekalo\", \"team\": \"Torino\", \"opponent\": \"Juventus\", \"date\": \"2022-02-18T00:00:00\", \"expected_bonus\": 0.79144853, \"true_bonus\": 1.0, \"error\": -0.20855146999999996, \"error_type\": \"underestimated\"}, {\"fanta_team\": \"MaiNa Joya_v2.0\", \"role\": \"A\", \"player\": \"Boga\", \"team\": \"Atalanta\", \"opponent\": \"Fiorentina\", \"date\": \"2022-02-20T00:00:00\", \"expected_bonus\": 0.6076972, \"true_bonus\": 0.0, \"error\": 0.6076972, \"error_type\": \"overestimated\"}]}}, {\"actions\": false, \"mode\": \"vega-lite\"});\n</script>",
      "text/plain": "alt.Chart(...)"
     },
     "metadata": {}
    }
   ]
  },
  {
   "cell_type": "code",
   "metadata": {
    "cell_id": "e535efe4-693e-48a8-844c-8094b246c7ae",
    "tags": [],
    "deepnote_to_be_reexecuted": false,
    "source_hash": "96119dd1",
    "execution_start": 1645596606087,
    "execution_millis": 5,
    "deepnote_cell_type": "code"
   },
   "source": "team, index = display_fanta_squad(validation, teams, index)",
   "execution_count": 34,
   "outputs": []
  },
  {
   "cell_type": "code",
   "source": "_deepnote_run_altair(team, \"\"\"{\"$schema\":\"https://vega.github.io/schema/vega-lite/v4.json\",\"mark\":{\"type\":\"bar\",\"tooltip\":{\"content\":\"data\"}},\"height\":220,\"autosize\":{\"type\":\"fit\"},\"data\":{\"name\":\"placeholder\"},\"encoding\":{\"x\":{\"field\":\"error\",\"type\":\"quantitative\",\"sort\":null,\"scale\":{\"type\":\"linear\",\"zero\":false}},\"y\":{\"field\":\"player\",\"type\":\"nominal\",\"sort\":null,\"scale\":{\"type\":\"linear\",\"zero\":true}},\"color\":{\"field\":\"error_type\",\"type\":\"nominal\",\"sort\":null,\"scale\":{\"type\":\"linear\",\"zero\":false}}}}\"\"\")",
   "metadata": {
    "cell_id": "00033-a031bc55-5807-4595-ad40-c91acb5f58f5",
    "deepnote_variable_name": "team",
    "deepnote_visualization_spec": {
     "$schema": "https://vega.github.io/schema/vega-lite/v4.json",
     "mark": {
      "type": "bar",
      "tooltip": {
       "content": "data"
      }
     },
     "height": 220,
     "autosize": {
      "type": "fit"
     },
     "data": {
      "name": "placeholder"
     },
     "encoding": {
      "x": {
       "field": "error",
       "type": "quantitative",
       "sort": null,
       "scale": {
        "type": "linear",
        "zero": false
       }
      },
      "y": {
       "field": "player",
       "type": "nominal",
       "sort": null,
       "scale": {
        "type": "linear",
        "zero": true
       }
      },
      "color": {
       "field": "error_type",
       "type": "nominal",
       "sort": null,
       "scale": {
        "type": "linear",
        "zero": false
       }
      }
     }
    },
    "deepnote_to_be_reexecuted": false,
    "source_hash": "81b9fc1a",
    "deepnote_output_heights": [
     314
    ],
    "allow_embed": "output",
    "execution_start": 1645596606102,
    "execution_millis": 132,
    "deepnote_cell_type": "visualization"
   },
   "execution_count": 35,
   "outputs": [
    {
     "output_type": "execute_result",
     "execution_count": 35,
     "data": {
      "text/html": "\n<div id=\"altair-viz-95ce9c3ba7a647ff93373712f5de63c2\"></div>\n<script type=\"text/javascript\">\n  (function(spec, embedOpt){\n    let outputDiv = document.currentScript.previousElementSibling;\n    if (outputDiv.id !== \"altair-viz-95ce9c3ba7a647ff93373712f5de63c2\") {\n      outputDiv = document.getElementById(\"altair-viz-95ce9c3ba7a647ff93373712f5de63c2\");\n    }\n    const paths = {\n      \"vega\": \"https://cdn.jsdelivr.net/npm//vega@5?noext\",\n      \"vega-lib\": \"https://cdn.jsdelivr.net/npm//vega-lib?noext\",\n      \"vega-lite\": \"https://cdn.jsdelivr.net/npm//vega-lite@4.8.1?noext\",\n      \"vega-embed\": \"https://cdn.jsdelivr.net/npm//vega-embed@6?noext\",\n    };\n\n    function loadScript(lib) {\n      return new Promise(function(resolve, reject) {\n        var s = document.createElement('script');\n        s.src = paths[lib];\n        s.async = true;\n        s.onload = () => resolve(paths[lib]);\n        s.onerror = () => reject(`Error loading script: ${paths[lib]}`);\n        document.getElementsByTagName(\"head\")[0].appendChild(s);\n      });\n    }\n\n    function showError(err) {\n      outputDiv.innerHTML = `<div class=\"error\" style=\"color:red;\">${err}</div>`;\n      throw err;\n    }\n\n    function displayChart(vegaEmbed) {\n      vegaEmbed(outputDiv, spec, embedOpt)\n        .catch(err => showError(`Javascript Error: ${err.message}<br>This usually means there's a typo in your chart specification. See the javascript console for the full traceback.`));\n    }\n\n    if(typeof define === \"function\" && define.amd) {\n      requirejs.config({paths});\n      require([\"vega-embed\"], displayChart, err => showError(`Error loading script: ${err.message}`));\n    } else if (typeof vegaEmbed === \"function\") {\n      displayChart(vegaEmbed);\n    } else {\n      loadScript(\"vega\")\n        .then(() => loadScript(\"vega-lite\"))\n        .then(() => loadScript(\"vega-embed\"))\n        .catch(showError)\n        .then(() => displayChart(vegaEmbed));\n    }\n  })({\"config\": {\"view\": {\"continuousWidth\": 400, \"continuousHeight\": 300}, \"area\": {\"fill\": \"#51C0E9\"}, \"axis\": {\"labelFont\": \"Inter, sans-serif\", \"labelFontSize\": 12, \"labelFontWeight\": \"normal\", \"labelLimit\": 60, \"labelOverlap\": \"greedy\", \"titleFont\": \"Inter, sans-serif\", \"titleFontSize\": 12, \"titleFontWeight\": \"bold\"}, \"background\": \"#ffffff\", \"legend\": {\"labelFont\": \"Inter, sans-serif\", \"labelFontSize\": 12, \"titleFont\": \"Inter, sans-serif\", \"titleFontSize\": 12, \"titleFontWeight\": \"bold\"}, \"line\": {\"stroke\": \"#51C0E9\", \"strokeWidth\": 2}, \"rect\": {\"fill\": \"#51C0E9\"}, \"title\": {\"anchor\": \"start\", \"color\": \"#000000\", \"font\": \"Inter, sans-serif\", \"fontSize\": 22, \"fontWeight\": \"normal\"}}, \"data\": {\"name\": \"data-2e7da0a3e3979616e7819decdb3adcaa\"}, \"mark\": {\"type\": \"bar\", \"tooltip\": {\"content\": \"data\"}}, \"autosize\": {\"type\": \"fit\"}, \"encoding\": {\"color\": {\"type\": \"nominal\", \"field\": \"error_type\", \"scale\": {\"type\": \"linear\", \"zero\": false}, \"sort\": null}, \"x\": {\"type\": \"quantitative\", \"field\": \"error\", \"scale\": {\"type\": \"linear\", \"zero\": false}, \"sort\": null}, \"y\": {\"type\": \"nominal\", \"field\": \"player\", \"scale\": {\"type\": \"linear\", \"zero\": true}, \"sort\": null}}, \"height\": 300, \"width\": \"container\", \"$schema\": \"https://vega.github.io/schema/vega-lite/v4.json\", \"datasets\": {\"data-2e7da0a3e3979616e7819decdb3adcaa\": [{\"fanta_team\": \"Rione Monti\", \"role\": \"D\", \"player\": \"Biraghi\", \"team\": \"Fiorentina\", \"opponent\": \"Atalanta\", \"date\": \"2022-02-20T00:00:00\", \"expected_bonus\": 0.30111685, \"true_bonus\": 0.0, \"error\": 0.30111685, \"error_type\": \"overestimated\"}, {\"fanta_team\": \"Rione Monti\", \"role\": \"D\", \"player\": \"Bremer\", \"team\": \"Torino\", \"opponent\": \"Juventus\", \"date\": \"2022-02-18T00:00:00\", \"expected_bonus\": 0.26757842, \"true_bonus\": 0.0, \"error\": 0.26757842, \"error_type\": \"overestimated\"}, {\"fanta_team\": \"Rione Monti\", \"role\": \"D\", \"player\": \"Singo\", \"team\": \"Torino\", \"opponent\": \"Juventus\", \"date\": \"2022-02-18T00:00:00\", \"expected_bonus\": 0.20053573, \"true_bonus\": 0.0, \"error\": 0.20053573, \"error_type\": \"overestimated\"}, {\"fanta_team\": \"Rione Monti\", \"role\": \"D\", \"player\": \"Bastoni\", \"team\": \"Spezia\", \"opponent\": \"Bologna\", \"date\": \"2022-02-21T00:00:00\", \"expected_bonus\": 0.20004708, \"true_bonus\": 0.0, \"error\": 0.20004708, \"error_type\": \"overestimated\"}, {\"fanta_team\": \"Rione Monti\", \"role\": \"D\", \"player\": \"Maitland-Niles\", \"team\": \"Roma\", \"opponent\": \"Verona\", \"date\": \"2022-02-19T00:00:00\", \"expected_bonus\": 0.10452928, \"true_bonus\": 0.0, \"error\": 0.10452928, \"error_type\": \"overestimated\"}, {\"fanta_team\": \"Rione Monti\", \"role\": \"D\", \"player\": \"Pezzella\", \"team\": \"Atalanta\", \"opponent\": \"Fiorentina\", \"date\": \"2022-02-20T00:00:00\", \"expected_bonus\": 0.0838591, \"true_bonus\": 0.0, \"error\": 0.0838591, \"error_type\": \"overestimated\"}, {\"fanta_team\": \"Rione Monti\", \"role\": \"C\", \"player\": \"Pellegrini\", \"team\": \"Roma\", \"opponent\": \"Verona\", \"date\": \"2022-02-19T00:00:00\", \"expected_bonus\": 0.79662114, \"true_bonus\": 0.0, \"error\": 0.79662114, \"error_type\": \"overestimated\"}, {\"fanta_team\": \"Rione Monti\", \"role\": \"C\", \"player\": \"Anderson\", \"team\": \"Lazio\", \"opponent\": \"Udinese\", \"date\": \"2022-02-20T00:00:00\", \"expected_bonus\": 0.5916588, \"true_bonus\": 3.0, \"error\": -2.4083411999999997, \"error_type\": \"underestimated\"}, {\"fanta_team\": \"Rione Monti\", \"role\": \"C\", \"player\": \"Henderson\", \"team\": \"Empoli\", \"opponent\": \"Sampdoria\", \"date\": \"2022-02-19T00:00:00\", \"expected_bonus\": 0.46195242, \"true_bonus\": 0.0, \"error\": 0.46195242, \"error_type\": \"overestimated\"}, {\"fanta_team\": \"Rione Monti\", \"role\": \"C\", \"player\": \"Frattesi\", \"team\": \"Sassuolo\", \"opponent\": \"Inter\", \"date\": \"2022-02-20T00:00:00\", \"expected_bonus\": 0.41415712, \"true_bonus\": 0.0, \"error\": 0.41415712, \"error_type\": \"overestimated\"}, {\"fanta_team\": \"Rione Monti\", \"role\": \"C\", \"player\": \"Tameze\", \"team\": \"Verona\", \"opponent\": \"Roma\", \"date\": \"2022-02-19T00:00:00\", \"expected_bonus\": 0.00097458775, \"true_bonus\": 3.0, \"error\": -2.99902541225, \"error_type\": \"underestimated\"}, {\"fanta_team\": \"Rione Monti\", \"role\": \"A\", \"player\": \"Dzeko\", \"team\": \"Inter\", \"opponent\": \"Sassuolo\", \"date\": \"2022-02-20T00:00:00\", \"expected_bonus\": 1.8266448, \"true_bonus\": 0.0, \"error\": 1.8266448, \"error_type\": \"overestimated\"}, {\"fanta_team\": \"Rione Monti\", \"role\": \"A\", \"player\": \"Pinamonti\", \"team\": \"Empoli\", \"opponent\": \"Sampdoria\", \"date\": \"2022-02-19T00:00:00\", \"expected_bonus\": 1.4045113, \"true_bonus\": 0.0, \"error\": 1.4045113, \"error_type\": \"overestimated\"}, {\"fanta_team\": \"Rione Monti\", \"role\": \"A\", \"player\": \"Pedro\", \"team\": \"Lazio\", \"opponent\": \"Udinese\", \"date\": \"2022-02-20T00:00:00\", \"expected_bonus\": 0.8853758, \"true_bonus\": 0.0, \"error\": 0.8853758, \"error_type\": \"overestimated\"}, {\"fanta_team\": \"Rione Monti\", \"role\": \"A\", \"player\": \"Raspadori\", \"team\": \"Sassuolo\", \"opponent\": \"Inter\", \"date\": \"2022-02-20T00:00:00\", \"expected_bonus\": 0.81506467, \"true_bonus\": 3.0, \"error\": -2.18493533, \"error_type\": \"underestimated\"}, {\"fanta_team\": \"Rione Monti\", \"role\": \"A\", \"player\": \"Afena-Gyan\", \"team\": \"Roma\", \"opponent\": \"Verona\", \"date\": \"2022-02-19T00:00:00\", \"expected_bonus\": 0.6294009, \"true_bonus\": 0.0, \"error\": 0.6294009, \"error_type\": \"overestimated\"}]}}, {\"actions\": false, \"mode\": \"vega-lite\"});\n</script>",
      "text/plain": "alt.Chart(...)"
     },
     "metadata": {}
    }
   ]
  },
  {
   "cell_type": "code",
   "metadata": {
    "cell_id": "e564bc39-b966-4695-b67e-63287438ee0d",
    "tags": [],
    "deepnote_to_be_reexecuted": false,
    "source_hash": "96119dd1",
    "execution_start": 1645596606239,
    "execution_millis": 2,
    "deepnote_cell_type": "code"
   },
   "source": "team, index = display_fanta_squad(validation, teams, index)",
   "execution_count": 36,
   "outputs": []
  },
  {
   "cell_type": "code",
   "source": "_deepnote_run_altair(team, \"\"\"{\"$schema\":\"https://vega.github.io/schema/vega-lite/v4.json\",\"mark\":{\"type\":\"bar\",\"tooltip\":{\"content\":\"data\"}},\"height\":220,\"autosize\":{\"type\":\"fit\"},\"data\":{\"name\":\"placeholder\"},\"encoding\":{\"x\":{\"field\":\"error\",\"type\":\"quantitative\",\"sort\":null,\"scale\":{\"type\":\"linear\",\"zero\":false}},\"y\":{\"field\":\"player\",\"type\":\"nominal\",\"sort\":null,\"scale\":{\"type\":\"linear\",\"zero\":true}},\"color\":{\"field\":\"error_type\",\"type\":\"nominal\",\"sort\":null,\"scale\":{\"type\":\"linear\",\"zero\":false}}}}\"\"\")",
   "metadata": {
    "cell_id": "00035-6e8061f6-136b-4e33-8405-ebc568f30fab",
    "deepnote_variable_name": "team",
    "deepnote_visualization_spec": {
     "$schema": "https://vega.github.io/schema/vega-lite/v4.json",
     "mark": {
      "type": "bar",
      "tooltip": {
       "content": "data"
      }
     },
     "height": 220,
     "autosize": {
      "type": "fit"
     },
     "data": {
      "name": "placeholder"
     },
     "encoding": {
      "x": {
       "field": "error",
       "type": "quantitative",
       "sort": null,
       "scale": {
        "type": "linear",
        "zero": false
       }
      },
      "y": {
       "field": "player",
       "type": "nominal",
       "sort": null,
       "scale": {
        "type": "linear",
        "zero": true
       }
      },
      "color": {
       "field": "error_type",
       "type": "nominal",
       "sort": null,
       "scale": {
        "type": "linear",
        "zero": false
       }
      }
     }
    },
    "deepnote_to_be_reexecuted": false,
    "source_hash": "81b9fc1a",
    "deepnote_output_heights": [
     314
    ],
    "allow_embed": "output",
    "execution_start": 1645596606304,
    "execution_millis": 65,
    "deepnote_cell_type": "visualization"
   },
   "execution_count": 37,
   "outputs": [
    {
     "output_type": "execute_result",
     "execution_count": 37,
     "data": {
      "text/html": "\n<div id=\"altair-viz-3b62c7e8adef4a018358980c922bced4\"></div>\n<script type=\"text/javascript\">\n  (function(spec, embedOpt){\n    let outputDiv = document.currentScript.previousElementSibling;\n    if (outputDiv.id !== \"altair-viz-3b62c7e8adef4a018358980c922bced4\") {\n      outputDiv = document.getElementById(\"altair-viz-3b62c7e8adef4a018358980c922bced4\");\n    }\n    const paths = {\n      \"vega\": \"https://cdn.jsdelivr.net/npm//vega@5?noext\",\n      \"vega-lib\": \"https://cdn.jsdelivr.net/npm//vega-lib?noext\",\n      \"vega-lite\": \"https://cdn.jsdelivr.net/npm//vega-lite@4.8.1?noext\",\n      \"vega-embed\": \"https://cdn.jsdelivr.net/npm//vega-embed@6?noext\",\n    };\n\n    function loadScript(lib) {\n      return new Promise(function(resolve, reject) {\n        var s = document.createElement('script');\n        s.src = paths[lib];\n        s.async = true;\n        s.onload = () => resolve(paths[lib]);\n        s.onerror = () => reject(`Error loading script: ${paths[lib]}`);\n        document.getElementsByTagName(\"head\")[0].appendChild(s);\n      });\n    }\n\n    function showError(err) {\n      outputDiv.innerHTML = `<div class=\"error\" style=\"color:red;\">${err}</div>`;\n      throw err;\n    }\n\n    function displayChart(vegaEmbed) {\n      vegaEmbed(outputDiv, spec, embedOpt)\n        .catch(err => showError(`Javascript Error: ${err.message}<br>This usually means there's a typo in your chart specification. See the javascript console for the full traceback.`));\n    }\n\n    if(typeof define === \"function\" && define.amd) {\n      requirejs.config({paths});\n      require([\"vega-embed\"], displayChart, err => showError(`Error loading script: ${err.message}`));\n    } else if (typeof vegaEmbed === \"function\") {\n      displayChart(vegaEmbed);\n    } else {\n      loadScript(\"vega\")\n        .then(() => loadScript(\"vega-lite\"))\n        .then(() => loadScript(\"vega-embed\"))\n        .catch(showError)\n        .then(() => displayChart(vegaEmbed));\n    }\n  })({\"config\": {\"view\": {\"continuousWidth\": 400, \"continuousHeight\": 300}, \"area\": {\"fill\": \"#51C0E9\"}, \"axis\": {\"labelFont\": \"Inter, sans-serif\", \"labelFontSize\": 12, \"labelFontWeight\": \"normal\", \"labelLimit\": 60, \"labelOverlap\": \"greedy\", \"titleFont\": \"Inter, sans-serif\", \"titleFontSize\": 12, \"titleFontWeight\": \"bold\"}, \"background\": \"#ffffff\", \"legend\": {\"labelFont\": \"Inter, sans-serif\", \"labelFontSize\": 12, \"titleFont\": \"Inter, sans-serif\", \"titleFontSize\": 12, \"titleFontWeight\": \"bold\"}, \"line\": {\"stroke\": \"#51C0E9\", \"strokeWidth\": 2}, \"rect\": {\"fill\": \"#51C0E9\"}, \"title\": {\"anchor\": \"start\", \"color\": \"#000000\", \"font\": \"Inter, sans-serif\", \"fontSize\": 22, \"fontWeight\": \"normal\"}}, \"data\": {\"name\": \"data-bacc87c16194d9c648a7fd00aef85cb7\"}, \"mark\": {\"type\": \"bar\", \"tooltip\": {\"content\": \"data\"}}, \"autosize\": {\"type\": \"fit\"}, \"encoding\": {\"color\": {\"type\": \"nominal\", \"field\": \"error_type\", \"scale\": {\"type\": \"linear\", \"zero\": false}, \"sort\": null}, \"x\": {\"type\": \"quantitative\", \"field\": \"error\", \"scale\": {\"type\": \"linear\", \"zero\": false}, \"sort\": null}, \"y\": {\"type\": \"nominal\", \"field\": \"player\", \"scale\": {\"type\": \"linear\", \"zero\": true}, \"sort\": null}}, \"height\": 300, \"width\": \"container\", \"$schema\": \"https://vega.github.io/schema/vega-lite/v4.json\", \"datasets\": {\"data-bacc87c16194d9c648a7fd00aef85cb7\": [{\"fanta_team\": \"Scansuolo \", \"role\": \"D\", \"player\": \"Karsdorp\", \"team\": \"Roma\", \"opponent\": \"Verona\", \"date\": \"2022-02-19T00:00:00\", \"expected_bonus\": 0.30391902, \"true_bonus\": 0.0, \"error\": 0.30391902, \"error_type\": \"overestimated\"}, {\"fanta_team\": \"Scansuolo \", \"role\": \"D\", \"player\": \"Koulibaly\", \"team\": \"Napoli\", \"opponent\": \"Cagliari\", \"date\": \"2022-02-21T00:00:00\", \"expected_bonus\": 0.27747965, \"true_bonus\": 0.0, \"error\": 0.27747965, \"error_type\": \"overestimated\"}, {\"fanta_team\": \"Scansuolo \", \"role\": \"D\", \"player\": \"Demiral\", \"team\": \"Atalanta\", \"opponent\": \"Fiorentina\", \"date\": \"2022-02-20T00:00:00\", \"expected_bonus\": 0.2737624, \"true_bonus\": 0.0, \"error\": 0.2737624, \"error_type\": \"overestimated\"}, {\"fanta_team\": \"Scansuolo \", \"role\": \"D\", \"player\": \"Hysaj\", \"team\": \"Lazio\", \"opponent\": \"Udinese\", \"date\": \"2022-02-20T00:00:00\", \"expected_bonus\": 0.19575477, \"true_bonus\": 0.0, \"error\": 0.19575477, \"error_type\": \"overestimated\"}, {\"fanta_team\": \"Scansuolo \", \"role\": \"D\", \"player\": \"Hickey\", \"team\": \"Bologna\", \"opponent\": \"Spezia\", \"date\": \"2022-02-21T00:00:00\", \"expected_bonus\": 0.17428139, \"true_bonus\": 0.0, \"error\": 0.17428139, \"error_type\": \"overestimated\"}, {\"fanta_team\": \"Scansuolo \", \"role\": \"D\", \"player\": \"Vojvoda\", \"team\": \"Torino\", \"opponent\": \"Juventus\", \"date\": \"2022-02-18T00:00:00\", \"expected_bonus\": 0.1614647, \"true_bonus\": 0.0, \"error\": 0.1614647, \"error_type\": \"overestimated\"}, {\"fanta_team\": \"Scansuolo \", \"role\": \"D\", \"player\": \"Zappa\", \"team\": \"Cagliari\", \"opponent\": \"Napoli\", \"date\": \"2022-02-21T00:00:00\", \"expected_bonus\": 0.014466331, \"true_bonus\": 0.0, \"error\": 0.014466331, \"error_type\": \"overestimated\"}, {\"fanta_team\": \"Scansuolo \", \"role\": \"C\", \"player\": \"Messias\", \"team\": \"AC Milan\", \"opponent\": \"Salernitana\", \"date\": \"2022-02-19T00:00:00\", \"expected_bonus\": 0.7516311, \"true_bonus\": 3.0, \"error\": -2.2483689, \"error_type\": \"underestimated\"}, {\"fanta_team\": \"Scansuolo \", \"role\": \"C\", \"player\": \"Pessina\", \"team\": \"Atalanta\", \"opponent\": \"Fiorentina\", \"date\": \"2022-02-20T00:00:00\", \"expected_bonus\": 0.5794997, \"true_bonus\": 0.0, \"error\": 0.5794997, \"error_type\": \"overestimated\"}, {\"fanta_team\": \"Scansuolo \", \"role\": \"C\", \"player\": \"Diaz\", \"team\": \"AC Milan\", \"opponent\": \"Salernitana\", \"date\": \"2022-02-19T00:00:00\", \"expected_bonus\": 0.55675036, \"true_bonus\": 0.0, \"error\": 0.55675036, \"error_type\": \"overestimated\"}, {\"fanta_team\": \"Scansuolo \", \"role\": \"C\", \"player\": \"Zaccagni\", \"team\": \"Lazio\", \"opponent\": \"Udinese\", \"date\": \"2022-02-20T00:00:00\", \"expected_bonus\": 0.4925141, \"true_bonus\": 1.0, \"error\": -0.5074859, \"error_type\": \"underestimated\"}, {\"fanta_team\": \"Scansuolo \", \"role\": \"C\", \"player\": \"Zurkowski\", \"team\": \"Empoli\", \"opponent\": \"Sampdoria\", \"date\": \"2022-02-19T00:00:00\", \"expected_bonus\": 0.43744022, \"true_bonus\": 0.0, \"error\": 0.43744022, \"error_type\": \"overestimated\"}, {\"fanta_team\": \"Scansuolo \", \"role\": \"C\", \"player\": \"Koopmeiners\", \"team\": \"Atalanta\", \"opponent\": \"Fiorentina\", \"date\": \"2022-02-20T00:00:00\", \"expected_bonus\": 0.17866929, \"true_bonus\": 0.0, \"error\": 0.17866929, \"error_type\": \"overestimated\"}, {\"fanta_team\": \"Scansuolo \", \"role\": \"C\", \"player\": \"Ilic\", \"team\": \"Verona\", \"opponent\": \"Roma\", \"date\": \"2022-02-19T00:00:00\", \"expected_bonus\": 0.14615636, \"true_bonus\": 0.0, \"error\": 0.14615636, \"error_type\": \"overestimated\"}, {\"fanta_team\": \"Scansuolo \", \"role\": \"C\", \"player\": \"Traore\", \"team\": \"Sassuolo\", \"opponent\": \"Inter\", \"date\": \"2022-02-20T00:00:00\", \"expected_bonus\": -0.020031832, \"true_bonus\": 1.0, \"error\": -1.020031832, \"error_type\": \"underestimated\"}, {\"fanta_team\": \"Scansuolo \", \"role\": \"A\", \"player\": \"Le\\u00e3o\", \"team\": \"AC Milan\", \"opponent\": \"Salernitana\", \"date\": \"2022-02-19T00:00:00\", \"expected_bonus\": 1.3838575, \"true_bonus\": 0.0, \"error\": 1.3838575, \"error_type\": \"overestimated\"}, {\"fanta_team\": \"Scansuolo \", \"role\": \"A\", \"player\": \"Pedro\", \"team\": \"Cagliari\", \"opponent\": \"Napoli\", \"date\": \"2022-02-21T00:00:00\", \"expected_bonus\": 0.998124, \"true_bonus\": 0.0, \"error\": 0.998124, \"error_type\": \"overestimated\"}, {\"fanta_team\": \"Scansuolo \", \"role\": \"A\", \"player\": \"Scamacca\", \"team\": \"Sassuolo\", \"opponent\": \"Inter\", \"date\": \"2022-02-20T00:00:00\", \"expected_bonus\": 0.96413165, \"true_bonus\": 3.0, \"error\": -2.03586835, \"error_type\": \"underestimated\"}, {\"fanta_team\": \"Scansuolo \", \"role\": \"A\", \"player\": \"Mikael\", \"team\": \"Salernitana\", \"opponent\": \"AC Milan\", \"date\": \"2022-02-19T00:00:00\", \"expected_bonus\": 0.13771091, \"true_bonus\": 0.0, \"error\": 0.13771091, \"error_type\": \"overestimated\"}]}}, {\"actions\": false, \"mode\": \"vega-lite\"});\n</script>",
      "text/plain": "alt.Chart(...)"
     },
     "metadata": {}
    }
   ]
  },
  {
   "cell_type": "code",
   "metadata": {
    "cell_id": "7e542268-7db2-427b-aec4-69e65596aecd",
    "tags": [],
    "deepnote_to_be_reexecuted": false,
    "source_hash": "96119dd1",
    "execution_start": 1645596606412,
    "execution_millis": 1,
    "deepnote_cell_type": "code"
   },
   "source": "team, index = display_fanta_squad(validation, teams, index)",
   "execution_count": 38,
   "outputs": []
  },
  {
   "cell_type": "code",
   "source": "_deepnote_run_altair(team, \"\"\"{\"$schema\":\"https://vega.github.io/schema/vega-lite/v4.json\",\"mark\":{\"type\":\"bar\",\"tooltip\":{\"content\":\"data\"}},\"height\":220,\"autosize\":{\"type\":\"fit\"},\"data\":{\"name\":\"placeholder\"},\"encoding\":{\"x\":{\"field\":\"error\",\"type\":\"quantitative\",\"sort\":null,\"scale\":{\"type\":\"linear\",\"zero\":false}},\"y\":{\"field\":\"player\",\"type\":\"nominal\",\"sort\":null,\"scale\":{\"type\":\"linear\",\"zero\":true}},\"color\":{\"field\":\"error_type\",\"type\":\"nominal\",\"sort\":null,\"scale\":{\"type\":\"linear\",\"zero\":false}}}}\"\"\")",
   "metadata": {
    "cell_id": "00037-4755771f-51fc-4587-9023-788197e39785",
    "deepnote_variable_name": "team",
    "deepnote_visualization_spec": {
     "$schema": "https://vega.github.io/schema/vega-lite/v4.json",
     "mark": {
      "type": "bar",
      "tooltip": {
       "content": "data"
      }
     },
     "height": 220,
     "autosize": {
      "type": "fit"
     },
     "data": {
      "name": "placeholder"
     },
     "encoding": {
      "x": {
       "field": "error",
       "type": "quantitative",
       "sort": null,
       "scale": {
        "type": "linear",
        "zero": false
       }
      },
      "y": {
       "field": "player",
       "type": "nominal",
       "sort": null,
       "scale": {
        "type": "linear",
        "zero": true
       }
      },
      "color": {
       "field": "error_type",
       "type": "nominal",
       "sort": null,
       "scale": {
        "type": "linear",
        "zero": false
       }
      }
     }
    },
    "deepnote_to_be_reexecuted": false,
    "source_hash": "81b9fc1a",
    "deepnote_output_heights": [
     314
    ],
    "allow_embed": "output",
    "execution_start": 1645596606413,
    "execution_millis": 98,
    "deepnote_cell_type": "visualization"
   },
   "execution_count": 39,
   "outputs": [
    {
     "output_type": "execute_result",
     "execution_count": 39,
     "data": {
      "text/html": "\n<div id=\"altair-viz-8b22fd4fba5944bcbefb96f09d4e2476\"></div>\n<script type=\"text/javascript\">\n  (function(spec, embedOpt){\n    let outputDiv = document.currentScript.previousElementSibling;\n    if (outputDiv.id !== \"altair-viz-8b22fd4fba5944bcbefb96f09d4e2476\") {\n      outputDiv = document.getElementById(\"altair-viz-8b22fd4fba5944bcbefb96f09d4e2476\");\n    }\n    const paths = {\n      \"vega\": \"https://cdn.jsdelivr.net/npm//vega@5?noext\",\n      \"vega-lib\": \"https://cdn.jsdelivr.net/npm//vega-lib?noext\",\n      \"vega-lite\": \"https://cdn.jsdelivr.net/npm//vega-lite@4.8.1?noext\",\n      \"vega-embed\": \"https://cdn.jsdelivr.net/npm//vega-embed@6?noext\",\n    };\n\n    function loadScript(lib) {\n      return new Promise(function(resolve, reject) {\n        var s = document.createElement('script');\n        s.src = paths[lib];\n        s.async = true;\n        s.onload = () => resolve(paths[lib]);\n        s.onerror = () => reject(`Error loading script: ${paths[lib]}`);\n        document.getElementsByTagName(\"head\")[0].appendChild(s);\n      });\n    }\n\n    function showError(err) {\n      outputDiv.innerHTML = `<div class=\"error\" style=\"color:red;\">${err}</div>`;\n      throw err;\n    }\n\n    function displayChart(vegaEmbed) {\n      vegaEmbed(outputDiv, spec, embedOpt)\n        .catch(err => showError(`Javascript Error: ${err.message}<br>This usually means there's a typo in your chart specification. See the javascript console for the full traceback.`));\n    }\n\n    if(typeof define === \"function\" && define.amd) {\n      requirejs.config({paths});\n      require([\"vega-embed\"], displayChart, err => showError(`Error loading script: ${err.message}`));\n    } else if (typeof vegaEmbed === \"function\") {\n      displayChart(vegaEmbed);\n    } else {\n      loadScript(\"vega\")\n        .then(() => loadScript(\"vega-lite\"))\n        .then(() => loadScript(\"vega-embed\"))\n        .catch(showError)\n        .then(() => displayChart(vegaEmbed));\n    }\n  })({\"config\": {\"view\": {\"continuousWidth\": 400, \"continuousHeight\": 300}, \"area\": {\"fill\": \"#51C0E9\"}, \"axis\": {\"labelFont\": \"Inter, sans-serif\", \"labelFontSize\": 12, \"labelFontWeight\": \"normal\", \"labelLimit\": 60, \"labelOverlap\": \"greedy\", \"titleFont\": \"Inter, sans-serif\", \"titleFontSize\": 12, \"titleFontWeight\": \"bold\"}, \"background\": \"#ffffff\", \"legend\": {\"labelFont\": \"Inter, sans-serif\", \"labelFontSize\": 12, \"titleFont\": \"Inter, sans-serif\", \"titleFontSize\": 12, \"titleFontWeight\": \"bold\"}, \"line\": {\"stroke\": \"#51C0E9\", \"strokeWidth\": 2}, \"rect\": {\"fill\": \"#51C0E9\"}, \"title\": {\"anchor\": \"start\", \"color\": \"#000000\", \"font\": \"Inter, sans-serif\", \"fontSize\": 22, \"fontWeight\": \"normal\"}}, \"data\": {\"name\": \"data-21780291757820a8d05a3413d3febabd\"}, \"mark\": {\"type\": \"bar\", \"tooltip\": {\"content\": \"data\"}}, \"autosize\": {\"type\": \"fit\"}, \"encoding\": {\"color\": {\"type\": \"nominal\", \"field\": \"error_type\", \"scale\": {\"type\": \"linear\", \"zero\": false}, \"sort\": null}, \"x\": {\"type\": \"quantitative\", \"field\": \"error\", \"scale\": {\"type\": \"linear\", \"zero\": false}, \"sort\": null}, \"y\": {\"type\": \"nominal\", \"field\": \"player\", \"scale\": {\"type\": \"linear\", \"zero\": true}, \"sort\": null}}, \"height\": 300, \"width\": \"container\", \"$schema\": \"https://vega.github.io/schema/vega-lite/v4.json\", \"datasets\": {\"data-21780291757820a8d05a3413d3febabd\": [{\"fanta_team\": \"ssc mozzarella\", \"role\": \"D\", \"player\": \"Dumfries\", \"team\": \"Inter\", \"opponent\": \"Sassuolo\", \"date\": \"2022-02-20T00:00:00\", \"expected_bonus\": 0.74838465, \"true_bonus\": 0.0, \"error\": 0.74838465, \"error_type\": \"overestimated\"}, {\"fanta_team\": \"ssc mozzarella\", \"role\": \"D\", \"player\": \"Rui\", \"team\": \"Napoli\", \"opponent\": \"Cagliari\", \"date\": \"2022-02-21T00:00:00\", \"expected_bonus\": 0.38162774, \"true_bonus\": 1.0, \"error\": -0.61837226, \"error_type\": \"underestimated\"}, {\"fanta_team\": \"ssc mozzarella\", \"role\": \"D\", \"player\": \"Smalling\", \"team\": \"Roma\", \"opponent\": \"Verona\", \"date\": \"2022-02-19T00:00:00\", \"expected_bonus\": 0.2974911, \"true_bonus\": 0.0, \"error\": 0.2974911, \"error_type\": \"overestimated\"}, {\"fanta_team\": \"ssc mozzarella\", \"role\": \"D\", \"player\": \"Theate\", \"team\": \"Bologna\", \"opponent\": \"Spezia\", \"date\": \"2022-02-21T00:00:00\", \"expected_bonus\": 0.20451108, \"true_bonus\": 0.0, \"error\": 0.20451108, \"error_type\": \"overestimated\"}, {\"fanta_team\": \"ssc mozzarella\", \"role\": \"D\", \"player\": \"Gjimshiti\", \"team\": \"Atalanta\", \"opponent\": \"Fiorentina\", \"date\": \"2022-02-20T00:00:00\", \"expected_bonus\": 0.19679272, \"true_bonus\": 0.0, \"error\": 0.19679272, \"error_type\": \"overestimated\"}, {\"fanta_team\": \"ssc mozzarella\", \"role\": \"D\", \"player\": \"Felipe\", \"team\": \"Lazio\", \"opponent\": \"Udinese\", \"date\": \"2022-02-20T00:00:00\", \"expected_bonus\": 0.18075639, \"true_bonus\": 0.0, \"error\": 0.18075639, \"error_type\": \"overestimated\"}, {\"fanta_team\": \"ssc mozzarella\", \"role\": \"D\", \"player\": \"Tomori\", \"team\": \"AC Milan\", \"opponent\": \"Salernitana\", \"date\": \"2022-02-19T00:00:00\", \"expected_bonus\": 0.1318527, \"true_bonus\": 0.0, \"error\": 0.1318527, \"error_type\": \"overestimated\"}, {\"fanta_team\": \"ssc mozzarella\", \"role\": \"C\", \"player\": \"Sottil\", \"team\": \"Fiorentina\", \"opponent\": \"Atalanta\", \"date\": \"2022-02-20T00:00:00\", \"expected_bonus\": 0.8691386, \"true_bonus\": 0.0, \"error\": 0.8691386, \"error_type\": \"overestimated\"}, {\"fanta_team\": \"ssc mozzarella\", \"role\": \"C\", \"player\": \"Fabi\\u00e1n\", \"team\": \"Napoli\", \"opponent\": \"Cagliari\", \"date\": \"2022-02-21T00:00:00\", \"expected_bonus\": 0.48341745, \"true_bonus\": 0.0, \"error\": 0.48341745, \"error_type\": \"overestimated\"}, {\"fanta_team\": \"ssc mozzarella\", \"role\": \"C\", \"player\": \"Pereyra\", \"team\": \"Udinese\", \"opponent\": \"Lazio\", \"date\": \"2022-02-20T00:00:00\", \"expected_bonus\": 0.288123, \"true_bonus\": 0.0, \"error\": 0.288123, \"error_type\": \"overestimated\"}, {\"fanta_team\": \"ssc mozzarella\", \"role\": \"C\", \"player\": \"Torreira\", \"team\": \"Fiorentina\", \"opponent\": \"Atalanta\", \"date\": \"2022-02-20T00:00:00\", \"expected_bonus\": 0.23137902, \"true_bonus\": 0.0, \"error\": 0.23137902, \"error_type\": \"overestimated\"}, {\"fanta_team\": \"ssc mozzarella\", \"role\": \"C\", \"player\": \"Freuler\", \"team\": \"Atalanta\", \"opponent\": \"Fiorentina\", \"date\": \"2022-02-20T00:00:00\", \"expected_bonus\": 0.14750585, \"true_bonus\": 0.0, \"error\": 0.14750585, \"error_type\": \"overestimated\"}, {\"fanta_team\": \"ssc mozzarella\", \"role\": \"C\", \"player\": \"Lopez\", \"team\": \"Sassuolo\", \"opponent\": \"Inter\", \"date\": \"2022-02-20T00:00:00\", \"expected_bonus\": 0.07847356, \"true_bonus\": 0.0, \"error\": 0.07847356, \"error_type\": \"overestimated\"}, {\"fanta_team\": \"ssc mozzarella\", \"role\": \"A\", \"player\": \"Osimhen\", \"team\": \"Napoli\", \"opponent\": \"Cagliari\", \"date\": \"2022-02-21T00:00:00\", \"expected_bonus\": 1.6557552, \"true_bonus\": 3.0, \"error\": -1.3442448, \"error_type\": \"underestimated\"}, {\"fanta_team\": \"ssc mozzarella\", \"role\": \"A\", \"player\": \"Bonazzoli\", \"team\": \"Salernitana\", \"opponent\": \"AC Milan\", \"date\": \"2022-02-19T00:00:00\", \"expected_bonus\": 0.96436274, \"true_bonus\": 3.0, \"error\": -2.03563726, \"error_type\": \"underestimated\"}, {\"fanta_team\": \"ssc mozzarella\", \"role\": \"A\", \"player\": \"Caprari\", \"team\": \"Verona\", \"opponent\": \"Roma\", \"date\": \"2022-02-19T00:00:00\", \"expected_bonus\": 0.8009241, \"true_bonus\": 1.0, \"error\": -0.19907589999999997, \"error_type\": \"underestimated\"}, {\"fanta_team\": \"ssc mozzarella\", \"role\": \"A\", \"player\": \"Pavoletti\", \"team\": \"Cagliari\", \"opponent\": \"Napoli\", \"date\": \"2022-02-21T00:00:00\", \"expected_bonus\": 0.3748078, \"true_bonus\": 0.0, \"error\": 0.3748078, \"error_type\": \"overestimated\"}]}}, {\"actions\": false, \"mode\": \"vega-lite\"});\n</script>",
      "text/plain": "alt.Chart(...)"
     },
     "metadata": {}
    }
   ]
  },
  {
   "cell_type": "code",
   "metadata": {
    "cell_id": "d16b87cb-3aed-4250-9e4e-9057c5bdbba9",
    "tags": [],
    "deepnote_to_be_reexecuted": false,
    "source_hash": "1e932bb3",
    "execution_start": 1645596606576,
    "execution_millis": 857,
    "deepnote_cell_type": "code"
   },
   "source": "!git add *",
   "execution_count": null,
   "outputs": []
  },
  {
   "cell_type": "code",
   "metadata": {
    "cell_id": "55dad338-ddad-4d97-aa50-d8b65c93b7dc",
    "tags": [],
    "deepnote_to_be_reexecuted": true,
    "source_hash": "5c664a09",
    "execution_start": 1644991780126,
    "execution_millis": 696,
    "deepnote_cell_type": "code"
   },
   "source": "!git commit -m 'Add gameweek results'",
   "execution_count": null,
   "outputs": [
    {
     "name": "stdout",
     "text": "[master 0f2c1cf] Add gameweek results\r\n Committer: root <root@p-82f6a53d-2812-4762-aa0b-0b8fac2a34e3.projects-domain.projects.svc.cluster.local>\r\nYour name and email address were configured automatically based\r\non your username and hostname. Please check that they are accurate.\r\nYou can suppress this message by setting them explicitly. Run the\r\nfollowing command and follow the instructions in your editor to edit\r\nyour configuration file:\r\n\r\n    git config --global --edit\r\n\r\nAfter doing this, you may fix the identity used for this commit with:\r\n\r\n    git commit --amend --reset-author\r\n\r\n 24 files changed, 447 insertions(+), 238 deletions(-)\r\n create mode 100644 data/outputs/prediction/fanta-camplus-citta-studi/gameweek_26.csv\r\n create mode 100644 data/outputs/validation/fanta-camplus-citta-studi/gameweek_25.csv\r\n",
     "output_type": "stream"
    }
   ]
  },
  {
   "cell_type": "code",
   "metadata": {
    "cell_id": "b9faaae9-52a5-4af2-81e3-f6775c6857d0",
    "tags": [],
    "deepnote_to_be_reexecuted": true,
    "source_hash": "83d9be73",
    "execution_start": 1644991780753,
    "execution_millis": 2702,
    "deepnote_cell_type": "code"
   },
   "source": "!git push -u origin master",
   "execution_count": null,
   "outputs": [
    {
     "name": "stdout",
     "text": "Enumerating objects: 68, done.\nCounting objects: 100% (68/68), done.\nDelta compression using up to 2 threads\nCompressing objects: 100% (34/34), done.\nWriting objects: 100% (36/36), 18.37 KiB | 2.30 MiB/s, done.\nTotal 36 (delta 26), reused 0 (delta 0)\nremote: Resolving deltas: 100% (26/26), completed with 26 local objects.\u001b[K\nTo https://github.com/Zatfer17/serie-a-lineups.git\n   770ca29..0f2c1cf  master -> master\nBranch 'master' set up to track remote branch 'master' from 'origin'.\n",
     "output_type": "stream"
    }
   ]
  },
  {
   "cell_type": "markdown",
   "source": "<a style='text-decoration:none;line-height:16px;display:flex;color:#5B5B62;padding:10px;justify-content:end;' href='https://deepnote.com?utm_source=created-in-deepnote-cell&projectId=82f6a53d-2812-4762-aa0b-0b8fac2a34e3' target=\"_blank\">\n<img alt='Created in deepnote.com' style='display:inline;max-height:16px;margin:0px;margin-right:7.5px;' src='data:image/svg+xml;base64,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' > </img>\nCreated in <span style='font-weight:600;margin-left:4px;'>Deepnote</span></a>",
   "metadata": {
    "tags": [],
    "created_in_deepnote_cell": true,
    "deepnote_cell_type": "markdown"
   }
  }
 ],
 "nbformat": 4,
 "nbformat_minor": 2,
 "metadata": {
  "orig_nbformat": 2,
  "deepnote": {
   "is_reactive": false
  },
  "deepnote_notebook_id": "3f2f3cdc-e7c2-49e4-a3b0-2257581bb9c0",
  "deepnote_execution_queue": [
   {
    "cellId": "d16b87cb-3aed-4250-9e4e-9057c5bdbba9",
    "msgId": "2f072a00-b977-4006-98e9-47ad428a3d09"
   },
   {
    "cellId": "55dad338-ddad-4d97-aa50-d8b65c93b7dc",
    "msgId": "372e6060-990b-4ee3-8945-edcb59d07589"
   },
   {
    "cellId": "b9faaae9-52a5-4af2-81e3-f6775c6857d0",
    "msgId": "1a94f301-b6b1-4134-a5f3-df37033ef2de",
    "scheduledRun": {
     "submitted": "Wed Feb 23 2022 06:01:43 GMT+0000 (Coordinated Universal Time)"
    }
   }
  ]
 }
}