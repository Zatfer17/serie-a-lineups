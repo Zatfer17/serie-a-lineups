{
 "cells": [
  {
   "cell_type": "code",
   "metadata": {
    "cell_id": "c4903b31-7a7e-4488-a25d-25ed0ed0a931",
    "deepnote_to_be_reexecuted": false,
    "source_hash": "57da8c0c",
    "execution_start": 1642858975255,
    "execution_millis": 4432,
    "deepnote_cell_type": "code"
   },
   "source": "import json\nimport pandas as pd\n\nfrom datetime import datetime\nfrom modules.scoring import get_scoring_set, get_features, score\nfrom modules.training import split_data, transform_data",
   "execution_count": null,
   "outputs": []
  },
  {
   "cell_type": "code",
   "metadata": {
    "cell_id": "00001-0a436633-c7d2-4b26-be2d-7654d021102b",
    "deepnote_to_be_reexecuted": false,
    "source_hash": "8e4d0298",
    "execution_start": 1642858979687,
    "execution_millis": 242399,
    "deepnote_cell_type": "code"
   },
   "source": "try:\n    \n    ###############################################################################################\n    status = 'Loading config ...'\n    print('{} -> {}'.format(datetime.now().strftime('%Y-%m-%d %H:%M:%S'), status))\n    with open('config/config.json') as config:\n        config = json.load(config)\n    status = 'Loading config done!'\n    print('{} -> {}'.format(datetime.now().strftime('%Y-%m-%d %H:%M:%S'), status))\n    ###############################################################################################\n    \n    ###############################################################################################\n    status = 'Getting scoring set ...'\n    print('{} -> {}'.format(datetime.now().strftime('%Y-%m-%d %H:%M:%S'), status))\n    scoring_set = get_scoring_set(config['league_name'])\n    scoring_set = get_features(scoring_set, config['league_name'])\n    scoring_set = scoring_set[~scoring_set.home_team.isin(['Bologna', 'Verona'])]\n    scoring_set = scoring_set[~scoring_set.away_team.isin(['Bologna', 'Verona'])]\n    X_raw, metadata = split_data(scoring_set, metadata_columns=['fanta_team', 'date', 'role', 'player_id', 'player','team'], production=True)\n    status = 'Getting scoring set done!'\n    print('{} -> {}'.format(datetime.now().strftime('%Y-%m-%d %H:%M:%S'), status))\n    ###############################################################################################\n    \n    ###############################################################################################\n    status = 'Processing features ...'\n    print('{} -> {}'.format(datetime.now().strftime('%Y-%m-%d %H:%M:%S'), status))\n    X = transform_data(X_test_raw=X_raw, categorical_columns=['home_team', 'away_team', 'is_home', 'season', 'month', 'day', 'hour', 'week_day', 'position'], production=True)\n    status = 'Processing features done!'\n    print('{} -> {}'.format(datetime.now().strftime('%Y-%m-%d %H:%M:%S'), status))\n    ###############################################################################################\n\n    ###############################################################################################\n    status = 'Scoring ...'\n    print('{} -> {}'.format(datetime.now().strftime('%Y-%m-%d %H:%M:%S'), status))\n    final = score(X, scoring_set, config['league_name'])\n    status = 'Scoring done!'\n    print('{} -> {}'.format(datetime.now().strftime('%Y-%m-%d %H:%M:%S'), status))\n    ###############################################################################################\n    \nexcept Exception as e:\n    print('Exception: {}'.format(e))\n    print('Errored out during: {}'.format(status))",
   "execution_count": null,
   "outputs": [
    {
     "name": "stdout",
     "text": "2022-01-22 13:42:59 -> Loading config ...\n2022-01-22 13:42:59 -> Loading config done!\n2022-01-22 13:42:59 -> Getting scoring set ...\n100%|██████████| 20/20 [00:15<00:00,  1.33it/s]\n100%|██████████| 176/176 [03:33<00:00,  1.21s/it]\n100%|██████████| 174/174 [00:13<00:00, 12.69it/s]\nTrying to unpickle estimator StandardScaler from version 0.24.2 when using version 1.0.1. This might lead to breaking code or invalid results. Use at your own risk. For more info please refer to:\nhttps://scikit-learn.org/stable/modules/model_persistence.html#security-maintainability-limitations\nTrying to unpickle estimator OneHotEncoder from version 0.24.2 when using version 1.0.1. This might lead to breaking code or invalid results. Use at your own risk. For more info please refer to:\nhttps://scikit-learn.org/stable/modules/model_persistence.html#security-maintainability-limitations\nTrying to unpickle estimator ColumnTransformer from version 0.24.2 when using version 1.0.1. This might lead to breaking code or invalid results. Use at your own risk. For more info please refer to:\nhttps://scikit-learn.org/stable/modules/model_persistence.html#security-maintainability-limitations\nX has feature names, but StandardScaler was fitted without feature names\nX has feature names, but OneHotEncoder was fitted without feature names\nFunction get_feature_names is deprecated; get_feature_names is deprecated in 1.0 and will be removed in 1.2. Please use get_feature_names_out instead.\n2022-01-22 13:47:01 -> Getting scoring set done!\n2022-01-22 13:47:01 -> Processing features ...\n2022-01-22 13:47:01 -> Processing features done!\n2022-01-22 13:47:01 -> Scoring ...\n2022-01-22 13:47:01 -> Scoring done!\n",
     "output_type": "stream"
    }
   ]
  },
  {
   "cell_type": "code",
   "source": "_deepnote_run_altair(final, \"\"\"{\"$schema\":\"https://vega.github.io/schema/vega-lite/v4.json\",\"mark\":{\"type\":\"bar\",\"tooltip\":{\"content\":\"data\"}},\"height\":220,\"autosize\":{\"type\":\"fit\"},\"data\":{\"name\":\"placeholder\"},\"encoding\":{\"x\":{\"field\":\"expected_bonus\",\"type\":\"quantitative\",\"sort\":{\"order\":\"ascending\",\"encoding\":\"x\"},\"scale\":{\"type\":\"linear\",\"zero\":false},\"aggregate\":\"sum\",\"bin\":false},\"y\":{\"field\":\"fanta_team\",\"type\":\"nominal\",\"sort\":{\"order\":\"ascending\",\"encoding\":\"x\"},\"scale\":{\"type\":\"linear\",\"zero\":true},\"bin\":false},\"color\":{\"field\":\"fanta_team\",\"type\":\"nominal\",\"sort\":null,\"scale\":{\"type\":\"linear\",\"zero\":false}}}}\"\"\")",
   "metadata": {
    "cell_id": "00689701-3616-46fe-a950-62b3eced05ad",
    "deepnote_variable_name": "final",
    "deepnote_visualization_spec": {
     "$schema": "https://vega.github.io/schema/vega-lite/v4.json",
     "mark": {
      "type": "bar",
      "tooltip": {
       "content": "data"
      }
     },
     "height": 220,
     "autosize": {
      "type": "fit"
     },
     "data": {
      "name": "placeholder"
     },
     "encoding": {
      "x": {
       "field": "expected_bonus",
       "type": "quantitative",
       "sort": {
        "order": "ascending",
        "encoding": "x"
       },
       "scale": {
        "type": "linear",
        "zero": false
       },
       "aggregate": "sum",
       "bin": false
      },
      "y": {
       "field": "fanta_team",
       "type": "nominal",
       "sort": {
        "order": "ascending",
        "encoding": "x"
       },
       "scale": {
        "type": "linear",
        "zero": true
       },
       "bin": false
      },
      "color": {
       "field": "fanta_team",
       "type": "nominal",
       "sort": null,
       "scale": {
        "type": "linear",
        "zero": false
       }
      }
     }
    },
    "deepnote_to_be_reexecuted": false,
    "source_hash": "46e80d1d",
    "execution_start": 1642859597804,
    "execution_millis": 175,
    "deepnote_output_heights": [
     314
    ],
    "allow_embed": true,
    "deepnote_cell_type": "visualization"
   },
   "execution_count": null,
   "outputs": [
    {
     "output_type": "execute_result",
     "execution_count": 39,
     "data": {
      "text/html": "\n<div id=\"altair-viz-78a1f9bbc0ba4e64bc82487aa0e5dcb6\"></div>\n<script type=\"text/javascript\">\n  (function(spec, embedOpt){\n    let outputDiv = document.currentScript.previousElementSibling;\n    if (outputDiv.id !== \"altair-viz-78a1f9bbc0ba4e64bc82487aa0e5dcb6\") {\n      outputDiv = document.getElementById(\"altair-viz-78a1f9bbc0ba4e64bc82487aa0e5dcb6\");\n    }\n    const paths = {\n      \"vega\": \"https://cdn.jsdelivr.net/npm//vega@5?noext\",\n      \"vega-lib\": \"https://cdn.jsdelivr.net/npm//vega-lib?noext\",\n      \"vega-lite\": \"https://cdn.jsdelivr.net/npm//vega-lite@4.8.1?noext\",\n      \"vega-embed\": \"https://cdn.jsdelivr.net/npm//vega-embed@6?noext\",\n    };\n\n    function loadScript(lib) {\n      return new Promise(function(resolve, reject) {\n        var s = document.createElement('script');\n        s.src = paths[lib];\n        s.async = true;\n        s.onload = () => resolve(paths[lib]);\n        s.onerror = () => reject(`Error loading script: ${paths[lib]}`);\n        document.getElementsByTagName(\"head\")[0].appendChild(s);\n      });\n    }\n\n    function showError(err) {\n      outputDiv.innerHTML = `<div class=\"error\" style=\"color:red;\">${err}</div>`;\n      throw err;\n    }\n\n    function displayChart(vegaEmbed) {\n      vegaEmbed(outputDiv, spec, embedOpt)\n        .catch(err => showError(`Javascript Error: ${err.message}<br>This usually means there's a typo in your chart specification. See the javascript console for the full traceback.`));\n    }\n\n    if(typeof define === \"function\" && define.amd) {\n      requirejs.config({paths});\n      require([\"vega-embed\"], displayChart, err => showError(`Error loading script: ${err.message}`));\n    } else if (typeof vegaEmbed === \"function\") {\n      displayChart(vegaEmbed);\n    } else {\n      loadScript(\"vega\")\n        .then(() => loadScript(\"vega-lite\"))\n        .then(() => loadScript(\"vega-embed\"))\n        .catch(showError)\n        .then(() => displayChart(vegaEmbed));\n    }\n  })({\"config\": {\"view\": {\"continuousWidth\": 400, \"continuousHeight\": 300}, \"area\": {\"fill\": \"#51C0E9\"}, \"axis\": {\"labelFont\": \"Inter, sans-serif\", \"labelFontSize\": 12, \"labelFontWeight\": \"normal\", \"labelLimit\": 60, \"labelOverlap\": \"greedy\", \"titleFont\": \"Inter, sans-serif\", \"titleFontSize\": 12, \"titleFontWeight\": \"bold\"}, \"background\": \"#ffffff\", \"legend\": {\"labelFont\": \"Inter, sans-serif\", \"labelFontSize\": 12, \"titleFont\": \"Inter, sans-serif\", \"titleFontSize\": 12, \"titleFontWeight\": \"bold\"}, \"line\": {\"stroke\": \"#51C0E9\", \"strokeWidth\": 2}, \"rect\": {\"fill\": \"#51C0E9\"}, \"title\": {\"anchor\": \"start\", \"color\": \"#000000\", \"font\": \"Inter, sans-serif\", \"fontSize\": 22, \"fontWeight\": \"normal\"}}, \"data\": {\"name\": \"data-b237be57d9b42734e6345dd0beb72a31\"}, \"mark\": {\"type\": \"bar\", \"tooltip\": {\"content\": \"data\"}}, \"autosize\": {\"type\": \"fit\"}, \"encoding\": {\"color\": {\"type\": \"nominal\", \"field\": \"fanta_team\", \"scale\": {\"type\": \"linear\", \"zero\": false}, \"sort\": null}, \"x\": {\"type\": \"quantitative\", \"aggregate\": \"sum\", \"bin\": false, \"field\": \"expected_bonus\", \"scale\": {\"type\": \"linear\", \"zero\": false}, \"sort\": {\"encoding\": \"x\", \"order\": \"ascending\"}}, \"y\": {\"type\": \"nominal\", \"bin\": false, \"field\": \"fanta_team\", \"scale\": {\"type\": \"linear\", \"zero\": true}, \"sort\": {\"encoding\": \"x\", \"order\": \"ascending\"}}}, \"height\": 300, \"width\": \"container\", \"$schema\": \"https://vega.github.io/schema/vega-lite/v4.json\", \"datasets\": {\"data-b237be57d9b42734e6345dd0beb72a31\": [{\"fanta_team\": \"ssc mozzarella\", \"role\": \"D\", \"player\": \"Berat Gjimshiti\", \"home_team\": \"Lazio\", \"away_team\": \"Atalanta\", \"expected_bonus\": 0.6641607880592346}, {\"fanta_team\": \"ssc mozzarella\", \"role\": \"D\", \"player\": \"Fikayo Tomori\", \"home_team\": \"AC Milan\", \"away_team\": \"Juventus\", \"expected_bonus\": 0.6325387358665466}, {\"fanta_team\": \"ssc mozzarella\", \"role\": \"D\", \"player\": \"Luiz Felipe\", \"home_team\": \"Lazio\", \"away_team\": \"Atalanta\", \"expected_bonus\": 0.41820624470710754}, {\"fanta_team\": \"ssc mozzarella\", \"role\": \"D\", \"player\": \"M\\u00e1rio Rui\", \"home_team\": \"Napoli\", \"away_team\": \"Salernitana\", \"expected_bonus\": 0.3537508547306061}, {\"fanta_team\": \"ssc mozzarella\", \"role\": \"D\", \"player\": \"Denzel Dumfries\", \"home_team\": \"Inter\", \"away_team\": \"Venezia\", \"expected_bonus\": 0.302652508020401}, {\"fanta_team\": \"ssc mozzarella\", \"role\": \"D\", \"player\": \"Iba\\u00f1ez\", \"home_team\": \"Empoli\", \"away_team\": \"Roma\", \"expected_bonus\": 0.1624433398246765}, {\"fanta_team\": \"ssc mozzarella\", \"role\": \"D\", \"player\": \"Manuel Lazzari\", \"home_team\": \"Lazio\", \"away_team\": \"Atalanta\", \"expected_bonus\": 0.09277738630771637}, {\"fanta_team\": \"ssc mozzarella\", \"role\": \"D\", \"player\": \"Chris Smalling\", \"home_team\": \"Empoli\", \"away_team\": \"Roma\", \"expected_bonus\": 0.09063220769166946}, {\"fanta_team\": \"ssc mozzarella\", \"role\": \"C\", \"player\": \"Henrikh Mkhitaryan\", \"home_team\": \"Empoli\", \"away_team\": \"Roma\", \"expected_bonus\": 0.985738217830658}, {\"fanta_team\": \"ssc mozzarella\", \"role\": \"C\", \"player\": \"Lucas Torreira\", \"home_team\": \"Cagliari\", \"away_team\": \"Fiorentina\", \"expected_bonus\": 0.9848358035087585}, {\"fanta_team\": \"ssc mozzarella\", \"role\": \"C\", \"player\": \"Federico Chiesa\", \"home_team\": \"AC Milan\", \"away_team\": \"Juventus\", \"expected_bonus\": 0.6876211762428284}, {\"fanta_team\": \"ssc mozzarella\", \"role\": \"C\", \"player\": \"Fabi\\u00e1n\", \"home_team\": \"Napoli\", \"away_team\": \"Salernitana\", \"expected_bonus\": 0.36647266149520874}, {\"fanta_team\": \"ssc mozzarella\", \"role\": \"C\", \"player\": \"Roberto Pereyra\", \"home_team\": \"Genoa\", \"away_team\": \"Udinese\", \"expected_bonus\": 0.33188602328300476}, {\"fanta_team\": \"ssc mozzarella\", \"role\": \"C\", \"player\": \"Maxime Lopez\", \"home_team\": \"Torino\", \"away_team\": \"Sassuolo\", \"expected_bonus\": 0.3292502760887146}, {\"fanta_team\": \"ssc mozzarella\", \"role\": \"C\", \"player\": \"Remo Freuler\", \"home_team\": \"Lazio\", \"away_team\": \"Atalanta\", \"expected_bonus\": 0.1425045281648636}, {\"fanta_team\": \"ssc mozzarella\", \"role\": \"A\", \"player\": \"Victor Osimhen\", \"home_team\": \"Napoli\", \"away_team\": \"Salernitana\", \"expected_bonus\": 1.4971483945846558}, {\"fanta_team\": \"ssc mozzarella\", \"role\": \"A\", \"player\": \"Federico Bonazzoli\", \"home_team\": \"Napoli\", \"away_team\": \"Salernitana\", \"expected_bonus\": 1.2538243532180786}, {\"fanta_team\": \"ssc mozzarella\", \"role\": \"A\", \"player\": \"Franck Rib\\u00e9ry\", \"home_team\": \"Napoli\", \"away_team\": \"Salernitana\", \"expected_bonus\": 0.500808835029602}, {\"fanta_team\": \"ssc mozzarella\", \"role\": \"A\", \"player\": \"Josip Ilicic\", \"home_team\": \"Lazio\", \"away_team\": \"Atalanta\", \"expected_bonus\": 0.36247920989990234}, {\"fanta_team\": \"ssc mozzarella\", \"role\": \"A\", \"player\": \"Matteo Politano\", \"home_team\": \"Napoli\", \"away_team\": \"Salernitana\", \"expected_bonus\": 0.27746444940567017}, {\"fanta_team\": \"ssc mozzarella\", \"role\": \"A\", \"player\": \"Leonardo Pavoletti\", \"home_team\": \"Cagliari\", \"away_team\": \"Fiorentina\", \"expected_bonus\": 0.19769147038459778}, {\"fanta_team\": \"Scansuolo \", \"role\": \"D\", \"player\": \"Kalidou Koulibaly\", \"home_team\": \"Napoli\", \"away_team\": \"Salernitana\", \"expected_bonus\": 0.3754033148288727}, {\"fanta_team\": \"Scansuolo \", \"role\": \"D\", \"player\": \"Mergim Vojvoda\", \"home_team\": \"Torino\", \"away_team\": \"Sassuolo\", \"expected_bonus\": 0.3749156892299652}, {\"fanta_team\": \"Scansuolo \", \"role\": \"D\", \"player\": \"Merih Demiral\", \"home_team\": \"Lazio\", \"away_team\": \"Atalanta\", \"expected_bonus\": 0.24888396263122559}, {\"fanta_team\": \"Scansuolo \", \"role\": \"D\", \"player\": \"Rick Karsdorp\", \"home_team\": \"Empoli\", \"away_team\": \"Roma\", \"expected_bonus\": 0.22465300559997559}, {\"fanta_team\": \"Scansuolo \", \"role\": \"D\", \"player\": \"Elseid Hysaj\", \"home_team\": \"Lazio\", \"away_team\": \"Atalanta\", \"expected_bonus\": 0.18797650933265686}, {\"fanta_team\": \"Scansuolo \", \"role\": \"D\", \"player\": \"Paolo Ghiglione\", \"home_team\": \"Genoa\", \"away_team\": \"Udinese\", \"expected_bonus\": 0.1560533493757248}, {\"fanta_team\": \"Scansuolo \", \"role\": \"D\", \"player\": \"Gabriele Zappa\", \"home_team\": \"Cagliari\", \"away_team\": \"Fiorentina\", \"expected_bonus\": 0.15053898096084595}, {\"fanta_team\": \"Scansuolo \", \"role\": \"D\", \"player\": \"Nikola Maksimovic\", \"home_team\": \"Genoa\", \"away_team\": \"Udinese\", \"expected_bonus\": 0.08796397596597672}, {\"fanta_team\": \"Scansuolo \", \"role\": \"C\", \"player\": \"Brahim Diaz\", \"home_team\": \"AC Milan\", \"away_team\": \"Juventus\", \"expected_bonus\": 0.6400080919265747}, {\"fanta_team\": \"Scansuolo \", \"role\": \"C\", \"player\": \"Matteo Pessina\", \"home_team\": \"Lazio\", \"away_team\": \"Atalanta\", \"expected_bonus\": 0.588080883026123}, {\"fanta_team\": \"Scansuolo \", \"role\": \"C\", \"player\": \"Mattia Zaccagni\", \"home_team\": \"Lazio\", \"away_team\": \"Atalanta\", \"expected_bonus\": 0.3143397867679596}, {\"fanta_team\": \"Scansuolo \", \"role\": \"C\", \"player\": \"Junior Messias\", \"home_team\": \"AC Milan\", \"away_team\": \"Juventus\", \"expected_bonus\": 0.3097139596939087}, {\"fanta_team\": \"Scansuolo \", \"role\": \"C\", \"player\": \"Hamed Junior Traore\", \"home_team\": \"Torino\", \"away_team\": \"Sassuolo\", \"expected_bonus\": 0.15302318334579468}, {\"fanta_team\": \"Scansuolo \", \"role\": \"C\", \"player\": \"Hernani\", \"home_team\": \"Genoa\", \"away_team\": \"Udinese\", \"expected_bonus\": 0.10016010701656342}, {\"fanta_team\": \"Scansuolo \", \"role\": \"C\", \"player\": \"Arn\\u00f3r Sigurdsson\", \"home_team\": \"Inter\", \"away_team\": \"Venezia\", \"expected_bonus\": -0.00043594781891442835}, {\"fanta_team\": \"Scansuolo \", \"role\": \"A\", \"player\": \"Ciro Immobile\", \"home_team\": \"Lazio\", \"away_team\": \"Atalanta\", \"expected_bonus\": 2.235358238220215}, {\"fanta_team\": \"Scansuolo \", \"role\": \"A\", \"player\": \"Gianluca Scamacca\", \"home_team\": \"Torino\", \"away_team\": \"Sassuolo\", \"expected_bonus\": 1.2342476844787598}, {\"fanta_team\": \"Scansuolo \", \"role\": \"A\", \"player\": \"Jo\\u00e3o Pedro\", \"home_team\": \"Cagliari\", \"away_team\": \"Fiorentina\", \"expected_bonus\": 1.0665740966796875}, {\"fanta_team\": \"Scansuolo \", \"role\": \"A\", \"player\": \"Rafael Le\\u00e3o\", \"home_team\": \"AC Milan\", \"away_team\": \"Juventus\", \"expected_bonus\": 0.741421639919281}, {\"fanta_team\": \"Scansuolo \", \"role\": \"A\", \"player\": \"Simy\", \"home_team\": \"Napoli\", \"away_team\": \"Salernitana\", \"expected_bonus\": 0.6147742867469788}, {\"fanta_team\": \"Scansuolo \", \"role\": \"A\", \"player\": \"Felipe Caicedo\", \"home_team\": \"Genoa\", \"away_team\": \"Udinese\", \"expected_bonus\": 0.34999769926071167}, {\"fanta_team\": \"Rione Monti\", \"role\": \"D\", \"player\": \"Cristiano Biraghi\", \"home_team\": \"Cagliari\", \"away_team\": \"Fiorentina\", \"expected_bonus\": 0.5233888626098633}, {\"fanta_team\": \"Rione Monti\", \"role\": \"D\", \"player\": \"Wilfried Stephane Singo\", \"home_team\": \"Torino\", \"away_team\": \"Sassuolo\", \"expected_bonus\": 0.46215060353279114}, {\"fanta_team\": \"Rione Monti\", \"role\": \"D\", \"player\": \"Bremer\", \"home_team\": \"Torino\", \"away_team\": \"Sassuolo\", \"expected_bonus\": 0.418840616941452}, {\"fanta_team\": \"Rione Monti\", \"role\": \"D\", \"player\": \"Simone Bastoni\", \"home_team\": \"Spezia\", \"away_team\": \"Sampdoria\", \"expected_bonus\": 0.3487822115421295}, {\"fanta_team\": \"Rione Monti\", \"role\": \"D\", \"player\": \"Joakim Maehle\", \"home_team\": \"Lazio\", \"away_team\": \"Atalanta\", \"expected_bonus\": 0.32265838980674744}, {\"fanta_team\": \"Rione Monti\", \"role\": \"D\", \"player\": \"Matias Vi\\u00f1a\", \"home_team\": \"Empoli\", \"away_team\": \"Roma\", \"expected_bonus\": 0.2416878640651703}, {\"fanta_team\": \"Rione Monti\", \"role\": \"D\", \"player\": \"Gianluca Mancini\", \"home_team\": \"Empoli\", \"away_team\": \"Roma\", \"expected_bonus\": 0.22618639469146729}, {\"fanta_team\": \"Rione Monti\", \"role\": \"D\", \"player\": \"Iyenoma Destiny Udogie\", \"home_team\": \"Genoa\", \"away_team\": \"Udinese\", \"expected_bonus\": 0.1413959562778473}, {\"fanta_team\": \"Rione Monti\", \"role\": \"C\", \"player\": \"Lorenzo Pellegrini\", \"home_team\": \"Empoli\", \"away_team\": \"Roma\", \"expected_bonus\": 1.3343018293380737}, {\"fanta_team\": \"Rione Monti\", \"role\": \"C\", \"player\": \"Nicolo Zaniolo\", \"home_team\": \"Empoli\", \"away_team\": \"Roma\", \"expected_bonus\": 0.9121341109275818}, {\"fanta_team\": \"Rione Monti\", \"role\": \"C\", \"player\": \"Felipe Anderson\", \"home_team\": \"Lazio\", \"away_team\": \"Atalanta\", \"expected_bonus\": 0.5589703321456909}, {\"fanta_team\": \"Rione Monti\", \"role\": \"C\", \"player\": \"Arturo Vidal\", \"home_team\": \"Inter\", \"away_team\": \"Venezia\", \"expected_bonus\": 0.5495327115058899}, {\"fanta_team\": \"Rione Monti\", \"role\": \"C\", \"player\": \"Davide Frattesi\", \"home_team\": \"Torino\", \"away_team\": \"Sassuolo\", \"expected_bonus\": 0.4837909936904907}, {\"fanta_team\": \"Rione Monti\", \"role\": \"C\", \"player\": \"Mikkel Damsgaard\", \"home_team\": \"Spezia\", \"away_team\": \"Sampdoria\", \"expected_bonus\": 0.2647736072540283}, {\"fanta_team\": \"Rione Monti\", \"role\": \"C\", \"player\": \"Viktor Kovalenko\", \"home_team\": \"Spezia\", \"away_team\": \"Sampdoria\", \"expected_bonus\": 0.2503216564655304}, {\"fanta_team\": \"Rione Monti\", \"role\": \"C\", \"player\": \"Kevin Strootman\", \"home_team\": \"Cagliari\", \"away_team\": \"Fiorentina\", \"expected_bonus\": 0.18302597105503082}, {\"fanta_team\": \"Rione Monti\", \"role\": \"A\", \"player\": \"Edin Dzeko\", \"home_team\": \"Inter\", \"away_team\": \"Venezia\", \"expected_bonus\": 2.2372617721557617}, {\"fanta_team\": \"Rione Monti\", \"role\": \"A\", \"player\": \"Zlatan Ibrahimovic\", \"home_team\": \"AC Milan\", \"away_team\": \"Juventus\", \"expected_bonus\": 1.445559024810791}, {\"fanta_team\": \"Rione Monti\", \"role\": \"A\", \"player\": \"\\u00c1lvaro Morata\", \"home_team\": \"AC Milan\", \"away_team\": \"Juventus\", \"expected_bonus\": 0.9456921219825745}, {\"fanta_team\": \"Rione Monti\", \"role\": \"A\", \"player\": \"Giacomo Raspadori\", \"home_team\": \"Torino\", \"away_team\": \"Sassuolo\", \"expected_bonus\": 0.7814487218856812}, {\"fanta_team\": \"Rione Monti\", \"role\": \"A\", \"player\": \"Pedro\", \"home_team\": \"Lazio\", \"away_team\": \"Atalanta\", \"expected_bonus\": 0.7209830284118652}, {\"fanta_team\": \"Rione Monti\", \"role\": \"A\", \"player\": \"Eldor Shomurodov\", \"home_team\": \"Empoli\", \"away_team\": \"Roma\", \"expected_bonus\": 0.5386471748352051}, {\"fanta_team\": \"MaiNa Joya_v2.0\", \"role\": \"D\", \"player\": \"Theo Hern\\u00e1ndez\", \"home_team\": \"AC Milan\", \"away_team\": \"Juventus\", \"expected_bonus\": 0.4735173285007477}, {\"fanta_team\": \"MaiNa Joya_v2.0\", \"role\": \"D\", \"player\": \"Nahuel Molina\", \"home_team\": \"Genoa\", \"away_team\": \"Udinese\", \"expected_bonus\": 0.4105371832847595}, {\"fanta_team\": \"MaiNa Joya_v2.0\", \"role\": \"D\", \"player\": \"Nikola Milenkovic\", \"home_team\": \"Cagliari\", \"away_team\": \"Fiorentina\", \"expected_bonus\": 0.26641005277633667}, {\"fanta_team\": \"MaiNa Joya_v2.0\", \"role\": \"D\", \"player\": \"Petar Stojanovic\", \"home_team\": \"Empoli\", \"away_team\": \"Roma\", \"expected_bonus\": 0.17812439799308777}, {\"fanta_team\": \"MaiNa Joya_v2.0\", \"role\": \"D\", \"player\": \"Rafael Toloi\", \"home_team\": \"Lazio\", \"away_team\": \"Atalanta\", \"expected_bonus\": 0.15591266751289368}, {\"fanta_team\": \"MaiNa Joya_v2.0\", \"role\": \"D\", \"player\": \"Gianmarco Ferrari\", \"home_team\": \"Torino\", \"away_team\": \"Sassuolo\", \"expected_bonus\": 0.15398868918418884}, {\"fanta_team\": \"MaiNa Joya_v2.0\", \"role\": \"D\", \"player\": \"Diego God\\u00edn\", \"home_team\": \"Cagliari\", \"away_team\": \"Fiorentina\", \"expected_bonus\": 0.15079927444458008}, {\"fanta_team\": \"MaiNa Joya_v2.0\", \"role\": \"D\", \"player\": \"Matteo Ruggeri\", \"home_team\": \"Napoli\", \"away_team\": \"Salernitana\", \"expected_bonus\": 0.06932523846626282}, {\"fanta_team\": \"MaiNa Joya_v2.0\", \"role\": \"C\", \"player\": \"Sergej Milinkovic-Savic\", \"home_team\": \"Lazio\", \"away_team\": \"Atalanta\", \"expected_bonus\": 0.7720431685447693}, {\"fanta_team\": \"MaiNa Joya_v2.0\", \"role\": \"C\", \"player\": \"Jordan Veretout\", \"home_team\": \"Empoli\", \"away_team\": \"Roma\", \"expected_bonus\": 0.765505313873291}, {\"fanta_team\": \"MaiNa Joya_v2.0\", \"role\": \"C\", \"player\": \"Nedim Bajrami\", \"home_team\": \"Empoli\", \"away_team\": \"Roma\", \"expected_bonus\": 0.7482807636260986}, {\"fanta_team\": \"MaiNa Joya_v2.0\", \"role\": \"C\", \"player\": \"Nicol\\u00f2 Barella\", \"home_team\": \"Inter\", \"away_team\": \"Venezia\", \"expected_bonus\": 0.706283450126648}, {\"fanta_team\": \"MaiNa Joya_v2.0\", \"role\": \"C\", \"player\": \"Filip Djuricic\", \"home_team\": \"Torino\", \"away_team\": \"Sassuolo\", \"expected_bonus\": 0.7060574889183044}, {\"fanta_team\": \"MaiNa Joya_v2.0\", \"role\": \"C\", \"player\": \"Tommaso Pobega\", \"home_team\": \"Torino\", \"away_team\": \"Sassuolo\", \"expected_bonus\": 0.5300190448760986}, {\"fanta_team\": \"MaiNa Joya_v2.0\", \"role\": \"C\", \"player\": \"Youssef Maleh\", \"home_team\": \"Cagliari\", \"away_team\": \"Fiorentina\", \"expected_bonus\": 0.41046208143234253}, {\"fanta_team\": \"MaiNa Joya_v2.0\", \"role\": \"C\", \"player\": \"Marten de Roon\", \"home_team\": \"Lazio\", \"away_team\": \"Atalanta\", \"expected_bonus\": 0.16787774860858917}, {\"fanta_team\": \"MaiNa Joya_v2.0\", \"role\": \"A\", \"player\": \"Lorenzo Insigne\", \"home_team\": \"Napoli\", \"away_team\": \"Salernitana\", \"expected_bonus\": 2.191857099533081}, {\"fanta_team\": \"MaiNa Joya_v2.0\", \"role\": \"A\", \"player\": \"Tammy Abraham\", \"home_team\": \"Empoli\", \"away_team\": \"Roma\", \"expected_bonus\": 2.0169875621795654}, {\"fanta_team\": \"MaiNa Joya_v2.0\", \"role\": \"A\", \"player\": \"Josip Brekalo\", \"home_team\": \"Torino\", \"away_team\": \"Sassuolo\", \"expected_bonus\": 0.8626707196235657}, {\"fanta_team\": \"MaiNa Joya_v2.0\", \"role\": \"A\", \"player\": \"Patrick Cutrone\", \"home_team\": \"Empoli\", \"away_team\": \"Roma\", \"expected_bonus\": 0.8421030640602112}, {\"fanta_team\": \"MaiNa Joya_v2.0\", \"role\": \"A\", \"player\": \"Ignacio Pussetto\", \"home_team\": \"Genoa\", \"away_team\": \"Udinese\", \"expected_bonus\": 0.30733832716941833}, {\"fanta_team\": \"MEZAFE\", \"role\": \"D\", \"player\": \"Matija Nastasic\", \"home_team\": \"Cagliari\", \"away_team\": \"Fiorentina\", \"expected_bonus\": 0.44843441247940063}, {\"fanta_team\": \"MEZAFE\", \"role\": \"D\", \"player\": \"Francesco Acerbi\", \"home_team\": \"Lazio\", \"away_team\": \"Atalanta\", \"expected_bonus\": 0.3752361834049225}, {\"fanta_team\": \"MEZAFE\", \"role\": \"D\", \"player\": \"Giorgio Chiellini\", \"home_team\": \"AC Milan\", \"away_team\": \"Juventus\", \"expected_bonus\": 0.3504130244255066}, {\"fanta_team\": \"MEZAFE\", \"role\": \"D\", \"player\": \"Davide Zappacosta\", \"home_team\": \"Lazio\", \"away_team\": \"Atalanta\", \"expected_bonus\": 0.28292563557624817}, {\"fanta_team\": \"MEZAFE\", \"role\": \"D\", \"player\": \"Domenico Criscito\", \"home_team\": \"Genoa\", \"away_team\": \"Udinese\", \"expected_bonus\": 0.23811796307563782}, {\"fanta_team\": \"MEZAFE\", \"role\": \"D\", \"player\": \"Stefan de Vrij\", \"home_team\": \"Inter\", \"away_team\": \"Venezia\", \"expected_bonus\": 0.21557514369487762}, {\"fanta_team\": \"MEZAFE\", \"role\": \"D\", \"player\": \"Leonardo Bonucci\", \"home_team\": \"AC Milan\", \"away_team\": \"Juventus\", \"expected_bonus\": 0.21246403455734253}, {\"fanta_team\": \"MEZAFE\", \"role\": \"D\", \"player\": \"Danilo\", \"home_team\": \"AC Milan\", \"away_team\": \"Juventus\", \"expected_bonus\": 0.1833137422800064}, {\"fanta_team\": \"MEZAFE\", \"role\": \"C\", \"player\": \"Weston McKennie\", \"home_team\": \"AC Milan\", \"away_team\": \"Juventus\", \"expected_bonus\": 0.7623729109764099}, {\"fanta_team\": \"MEZAFE\", \"role\": \"C\", \"player\": \"Simone Verdi\", \"home_team\": \"Torino\", \"away_team\": \"Sassuolo\", \"expected_bonus\": 0.7184188365936279}, {\"fanta_team\": \"MEZAFE\", \"role\": \"C\", \"player\": \"Sandro Tonali\", \"home_team\": \"AC Milan\", \"away_team\": \"Juventus\", \"expected_bonus\": 0.4755006730556488}, {\"fanta_team\": \"MEZAFE\", \"role\": \"C\", \"player\": \"Gaetano Castrovilli\", \"home_team\": \"Cagliari\", \"away_team\": \"Fiorentina\", \"expected_bonus\": 0.45193159580230713}, {\"fanta_team\": \"MEZAFE\", \"role\": \"C\", \"player\": \"Bryan Cristante\", \"home_team\": \"Empoli\", \"away_team\": \"Roma\", \"expected_bonus\": 0.4480248689651489}, {\"fanta_team\": \"MEZAFE\", \"role\": \"C\", \"player\": \"Alexis Saelemaekers\", \"home_team\": \"AC Milan\", \"away_team\": \"Juventus\", \"expected_bonus\": 0.4010366201400757}, {\"fanta_team\": \"MEZAFE\", \"role\": \"C\", \"player\": \"Mario Pasalic\", \"home_team\": \"Lazio\", \"away_team\": \"Atalanta\", \"expected_bonus\": 0.38650625944137573}, {\"fanta_team\": \"MEZAFE\", \"role\": \"C\", \"player\": \"Ivan Perisic\", \"home_team\": \"Inter\", \"away_team\": \"Venezia\", \"expected_bonus\": 0.36193740367889404}, {\"fanta_team\": \"MEZAFE\", \"role\": \"A\", \"player\": \"Joaqu\\u00edn Correa\", \"home_team\": \"Inter\", \"away_team\": \"Venezia\", \"expected_bonus\": 1.4870262145996094}, {\"fanta_team\": \"MEZAFE\", \"role\": \"A\", \"player\": \"Paulo Dybala\", \"home_team\": \"AC Milan\", \"away_team\": \"Juventus\", \"expected_bonus\": 0.9357787370681763}, {\"fanta_team\": \"MEZAFE\", \"role\": \"A\", \"player\": \"Fabio Quagliarella\", \"home_team\": \"Spezia\", \"away_team\": \"Sampdoria\", \"expected_bonus\": 0.8916912078857422}, {\"fanta_team\": \"MEZAFE\", \"role\": \"A\", \"player\": \"Moise Kean\", \"home_team\": \"AC Milan\", \"away_team\": \"Juventus\", \"expected_bonus\": 0.32371777296066284}, {\"fanta_team\": \"MEZAFE\", \"role\": \"A\", \"player\": \"Ante Rebic\", \"home_team\": \"AC Milan\", \"away_team\": \"Juventus\", \"expected_bonus\": 0.21905207633972168}, {\"fanta_team\": \"Beverly INPS\", \"role\": \"D\", \"player\": \"Federico Dimarco\", \"home_team\": \"Inter\", \"away_team\": \"Venezia\", \"expected_bonus\": 0.5619069933891296}, {\"fanta_team\": \"Beverly INPS\", \"role\": \"D\", \"player\": \"Juan Cuadrado\", \"home_team\": \"AC Milan\", \"away_team\": \"Juventus\", \"expected_bonus\": 0.419509619474411}, {\"fanta_team\": \"Beverly INPS\", \"role\": \"D\", \"player\": \"Giovanni Di Lorenzo\", \"home_team\": \"Napoli\", \"away_team\": \"Salernitana\", \"expected_bonus\": 0.36023077368736267}, {\"fanta_team\": \"Beverly INPS\", \"role\": \"D\", \"player\": \"Alessandro Bastoni\", \"home_team\": \"Inter\", \"away_team\": \"Venezia\", \"expected_bonus\": 0.28993478417396545}, {\"fanta_team\": \"Beverly INPS\", \"role\": \"D\", \"player\": \"Alessio Romagnoli\", \"home_team\": \"AC Milan\", \"away_team\": \"Juventus\", \"expected_bonus\": 0.14226672053337097}, {\"fanta_team\": \"Beverly INPS\", \"role\": \"D\", \"player\": \"Simon Kjaer\", \"home_team\": \"AC Milan\", \"away_team\": \"Juventus\", \"expected_bonus\": 0.11540741473436356}, {\"fanta_team\": \"Beverly INPS\", \"role\": \"D\", \"player\": \"Bram Nuytinck\", \"home_team\": \"Genoa\", \"away_team\": \"Udinese\", \"expected_bonus\": 0.09354344010353088}, {\"fanta_team\": \"Beverly INPS\", \"role\": \"C\", \"player\": \"Piotr Zielinski\", \"home_team\": \"Napoli\", \"away_team\": \"Salernitana\", \"expected_bonus\": 1.3872019052505493}, {\"fanta_team\": \"Beverly INPS\", \"role\": \"C\", \"player\": \"Dennis Praet\", \"home_team\": \"Torino\", \"away_team\": \"Sassuolo\", \"expected_bonus\": 1.3280516862869263}, {\"fanta_team\": \"Beverly INPS\", \"role\": \"C\", \"player\": \"Jos\\u00e9 Callej\\u00f3n\", \"home_team\": \"Cagliari\", \"away_team\": \"Fiorentina\", \"expected_bonus\": 0.9479858875274658}, {\"fanta_team\": \"Beverly INPS\", \"role\": \"C\", \"player\": \"Franck Kessi\\u00e9\", \"home_team\": \"AC Milan\", \"away_team\": \"Juventus\", \"expected_bonus\": 0.7218831181526184}, {\"fanta_team\": \"Beverly INPS\", \"role\": \"C\", \"player\": \"Luis Alberto\", \"home_team\": \"Lazio\", \"away_team\": \"Atalanta\", \"expected_bonus\": 0.6074389219284058}, {\"fanta_team\": \"Beverly INPS\", \"role\": \"C\", \"player\": \"Eljif Elmas\", \"home_team\": \"Napoli\", \"away_team\": \"Salernitana\", \"expected_bonus\": 0.2808399796485901}, {\"fanta_team\": \"Beverly INPS\", \"role\": \"C\", \"player\": \"Dejan Kulusevski\", \"home_team\": \"AC Milan\", \"away_team\": \"Juventus\", \"expected_bonus\": 0.23312683403491974}, {\"fanta_team\": \"Beverly INPS\", \"role\": \"A\", \"player\": \"Nicol\\u00e1s Gonz\\u00e1lez\", \"home_team\": \"Cagliari\", \"away_team\": \"Fiorentina\", \"expected_bonus\": 2.116549015045166}, {\"fanta_team\": \"Beverly INPS\", \"role\": \"A\", \"player\": \"Lautaro Mart\\u00ednez\", \"home_team\": \"Inter\", \"away_team\": \"Venezia\", \"expected_bonus\": 1.9500982761383057}, {\"fanta_team\": \"Beverly INPS\", \"role\": \"A\", \"player\": \"Domenico Berardi\", \"home_team\": \"Torino\", \"away_team\": \"Sassuolo\", \"expected_bonus\": 0.9792872667312622}, {\"fanta_team\": \"Beverly INPS\", \"role\": \"A\", \"player\": \"Dries Mertens\", \"home_team\": \"Napoli\", \"away_team\": \"Salernitana\", \"expected_bonus\": 0.8834396004676819}, {\"fanta_team\": \"Beverly INPS\", \"role\": \"A\", \"player\": \"M&#039;Bala Nzola\", \"home_team\": \"Spezia\", \"away_team\": \"Sampdoria\", \"expected_bonus\": 0.5402315855026245}, {\"fanta_team\": \"AI sereje ja dejeDe jebe tu de jebere\", \"role\": \"D\", \"player\": \"Robin Gosens\", \"home_team\": \"Lazio\", \"away_team\": \"Atalanta\", \"expected_bonus\": 0.6031079292297363}, {\"fanta_team\": \"AI sereje ja dejeDe jebe tu de jebere\", \"role\": \"D\", \"player\": \"Amir Rrahmani\", \"home_team\": \"Napoli\", \"away_team\": \"Salernitana\", \"expected_bonus\": 0.39615482091903687}, {\"fanta_team\": \"AI sereje ja dejeDe jebe tu de jebere\", \"role\": \"D\", \"player\": \"Matteo Darmian\", \"home_team\": \"Inter\", \"away_team\": \"Venezia\", \"expected_bonus\": 0.37486445903778076}, {\"fanta_team\": \"AI sereje ja dejeDe jebe tu de jebere\", \"role\": \"D\", \"player\": \"Milan Skriniar\", \"home_team\": \"Inter\", \"away_team\": \"Venezia\", \"expected_bonus\": 0.35966867208480835}, {\"fanta_team\": \"AI sereje ja dejeDe jebe tu de jebere\", \"role\": \"D\", \"player\": \"Kostas Manolas\", \"home_team\": \"Napoli\", \"away_team\": \"Salernitana\", \"expected_bonus\": 0.2642872929573059}, {\"fanta_team\": \"AI sereje ja dejeDe jebe tu de jebere\", \"role\": \"D\", \"player\": \"Tommaso Augello\", \"home_team\": \"Spezia\", \"away_team\": \"Sampdoria\", \"expected_bonus\": 0.14619265496730804}, {\"fanta_team\": \"AI sereje ja dejeDe jebe tu de jebere\", \"role\": \"D\", \"player\": \"Ridgeciano Haps\", \"home_team\": \"Inter\", \"away_team\": \"Venezia\", \"expected_bonus\": 0.05608595162630081}, {\"fanta_team\": \"AI sereje ja dejeDe jebe tu de jebere\", \"role\": \"C\", \"player\": \"Antonio Candreva\", \"home_team\": \"Spezia\", \"away_team\": \"Sampdoria\", \"expected_bonus\": 0.6557035446166992}, {\"fanta_team\": \"AI sereje ja dejeDe jebe tu de jebere\", \"role\": \"C\", \"player\": \"Giacomo Bonaventura\", \"home_team\": \"Cagliari\", \"away_team\": \"Fiorentina\", \"expected_bonus\": 0.63484126329422}, {\"fanta_team\": \"AI sereje ja dejeDe jebe tu de jebere\", \"role\": \"C\", \"player\": \"Marcelo Brozovic\", \"home_team\": \"Inter\", \"away_team\": \"Venezia\", \"expected_bonus\": 0.3730717897415161}, {\"fanta_team\": \"AI sereje ja dejeDe jebe tu de jebere\", \"role\": \"C\", \"player\": \"Manuel Locatelli\", \"home_team\": \"AC Milan\", \"away_team\": \"Juventus\", \"expected_bonus\": 0.37138789892196655}, {\"fanta_team\": \"AI sereje ja dejeDe jebe tu de jebere\", \"role\": \"C\", \"player\": \"Giulio Maggiore\", \"home_team\": \"Spezia\", \"away_team\": \"Sampdoria\", \"expected_bonus\": 0.35120126605033875}, {\"fanta_team\": \"AI sereje ja dejeDe jebe tu de jebere\", \"role\": \"C\", \"player\": \"Aleksey Miranchuk\", \"home_team\": \"Lazio\", \"away_team\": \"Atalanta\", \"expected_bonus\": 0.3411710262298584}, {\"fanta_team\": \"AI sereje ja dejeDe jebe tu de jebere\", \"role\": \"A\", \"player\": \"Dusan Vlahovic\", \"home_team\": \"Cagliari\", \"away_team\": \"Fiorentina\", \"expected_bonus\": 2.1284537315368652}, {\"fanta_team\": \"AI sereje ja dejeDe jebe tu de jebere\", \"role\": \"A\", \"player\": \"Duv\\u00e1n Zapata\", \"home_team\": \"Lazio\", \"away_team\": \"Atalanta\", \"expected_bonus\": 2.0470025539398193}, {\"fanta_team\": \"AI sereje ja dejeDe jebe tu de jebere\", \"role\": \"A\", \"player\": \"Beto\", \"home_team\": \"Genoa\", \"away_team\": \"Udinese\", \"expected_bonus\": 1.0631210803985596}, {\"fanta_team\": \"AI sereje ja dejeDe jebe tu de jebere\", \"role\": \"A\", \"player\": \"Francesco Caputo\", \"home_team\": \"Spezia\", \"away_team\": \"Sampdoria\", \"expected_bonus\": 1.0228075981140137}, {\"fanta_team\": \"AI sereje ja dejeDe jebe tu de jebere\", \"role\": \"A\", \"player\": \"Hirving Lozano\", \"home_team\": \"Napoli\", \"away_team\": \"Salernitana\", \"expected_bonus\": 0.8597063422203064}, {\"fanta_team\": \"AI sereje ja dejeDe jebe tu de jebere\", \"role\": \"A\", \"player\": \"Leonardo Mancuso\", \"home_team\": \"Empoli\", \"away_team\": \"Roma\", \"expected_bonus\": 0.6889322400093079}, {\"fanta_team\": \"AC Picchia\", \"role\": \"D\", \"player\": \"Davide Calabria\", \"home_team\": \"AC Milan\", \"away_team\": \"Juventus\", \"expected_bonus\": 0.4306632876396179}, {\"fanta_team\": \"AC Picchia\", \"role\": \"D\", \"player\": \"Alex Sandro\", \"home_team\": \"AC Milan\", \"away_team\": \"Juventus\", \"expected_bonus\": 0.31981348991394043}, {\"fanta_team\": \"AC Picchia\", \"role\": \"D\", \"player\": \"Matthijs de Ligt\", \"home_team\": \"AC Milan\", \"away_team\": \"Juventus\", \"expected_bonus\": 0.3063674569129944}, {\"fanta_team\": \"AC Picchia\", \"role\": \"D\", \"player\": \"\\u00c1lvaro Odriozola\", \"home_team\": \"Cagliari\", \"away_team\": \"Fiorentina\", \"expected_bonus\": 0.29637810587882996}, {\"fanta_team\": \"AC Picchia\", \"role\": \"D\", \"player\": \"Alessandro Florenzi\", \"home_team\": \"AC Milan\", \"away_team\": \"Juventus\", \"expected_bonus\": 0.26762378215789795}, {\"fanta_team\": \"AC Picchia\", \"role\": \"D\", \"player\": \"Jens Stryger Larsen\", \"home_team\": \"Genoa\", \"away_team\": \"Udinese\", \"expected_bonus\": 0.25069040060043335}, {\"fanta_team\": \"AC Picchia\", \"role\": \"D\", \"player\": \"Dalbert\", \"home_team\": \"Cagliari\", \"away_team\": \"Fiorentina\", \"expected_bonus\": 0.1862601935863495}, {\"fanta_team\": \"AC Picchia\", \"role\": \"C\", \"player\": \"Hakan Calhanoglu\", \"home_team\": \"Inter\", \"away_team\": \"Venezia\", \"expected_bonus\": 0.9552688598632812}, {\"fanta_team\": \"AC Picchia\", \"role\": \"C\", \"player\": \"Ruslan Malinovskiy\", \"home_team\": \"Lazio\", \"away_team\": \"Atalanta\", \"expected_bonus\": 0.935515820980072}, {\"fanta_team\": \"AC Picchia\", \"role\": \"C\", \"player\": \"Mattia Aramu\", \"home_team\": \"Inter\", \"away_team\": \"Venezia\", \"expected_bonus\": 0.5752679705619812}, {\"fanta_team\": \"AC Picchia\", \"role\": \"C\", \"player\": \"Morten Thorsby\", \"home_team\": \"Spezia\", \"away_team\": \"Sampdoria\", \"expected_bonus\": 0.3463541865348816}, {\"fanta_team\": \"AC Picchia\", \"role\": \"C\", \"player\": \"Razvan Marin\", \"home_team\": \"Cagliari\", \"away_team\": \"Fiorentina\", \"expected_bonus\": 0.3241105377674103}, {\"fanta_team\": \"AC Picchia\", \"role\": \"C\", \"player\": \"Nahitan N\\u00e1ndez\", \"home_team\": \"Cagliari\", \"away_team\": \"Fiorentina\", \"expected_bonus\": 0.2615000903606415}, {\"fanta_team\": \"AC Picchia\", \"role\": \"A\", \"player\": \"Luis Muriel\", \"home_team\": \"Lazio\", \"away_team\": \"Atalanta\", \"expected_bonus\": 1.4515697956085205}, {\"fanta_team\": \"AC Picchia\", \"role\": \"A\", \"player\": \"Olivier Giroud\", \"home_team\": \"AC Milan\", \"away_team\": \"Juventus\", \"expected_bonus\": 1.1373100280761719}, {\"fanta_team\": \"AC Picchia\", \"role\": \"A\", \"player\": \"Andrea Belotti\", \"home_team\": \"Torino\", \"away_team\": \"Sassuolo\", \"expected_bonus\": 1.020117998123169}, {\"fanta_team\": \"AC Picchia\", \"role\": \"A\", \"player\": \"Thomas Henry\", \"home_team\": \"Inter\", \"away_team\": \"Venezia\", \"expected_bonus\": 0.5887283682823181}, {\"fanta_team\": \"AC Picchia\", \"role\": \"A\", \"player\": \"Daniele Verde\", \"home_team\": \"Spezia\", \"away_team\": \"Sampdoria\", \"expected_bonus\": 0.562435507774353}, {\"fanta_team\": \"AC Picchia\", \"role\": \"A\", \"player\": \"Jeremie Boga\", \"home_team\": \"Torino\", \"away_team\": \"Sassuolo\", \"expected_bonus\": 0.46787381172180176}]}}, {\"actions\": false, \"mode\": \"vega-lite\"});\n</script>",
      "text/plain": "alt.Chart(...)"
     },
     "metadata": {}
    }
   ]
  },
  {
   "cell_type": "code",
   "metadata": {
    "cell_id": "dd988580-2d0a-4bf9-9237-f2f68d8d9741",
    "tags": [],
    "deepnote_to_be_reexecuted": false,
    "source_hash": "91c57bed",
    "execution_start": 1642861401186,
    "execution_millis": 11,
    "deepnote_cell_type": "code"
   },
   "source": "def display_fanta_squad(final, fanta_squads, index):\n    fanta_team = final[final.fanta_team == fanta_squads[index]]\n    fanta_team['player'] = fanta_team['player'].apply(lambda x: x.split(' ')[-1])\n    fanta_team = fanta_team[['role', 'player', 'home_team', 'away_team', 'expected_bonus']].sort_values(by=['role', 'expected_bonus'], ascending=False)\n    return fanta_team, index+1    ",
   "execution_count": null,
   "outputs": []
  },
  {
   "cell_type": "code",
   "metadata": {
    "cell_id": "1b22036b-7ae9-4e49-b715-f460c8dd0832",
    "tags": [],
    "deepnote_to_be_reexecuted": false,
    "source_hash": "1505f81f",
    "execution_start": 1642861420633,
    "execution_millis": 8,
    "allow_embed": "output",
    "deepnote_table_state": {
     "pageSize": 25,
     "pageIndex": 0,
     "filters": [],
     "sortBy": [
      {
       "id": "expected_bonus",
       "type": "desc"
      }
     ]
    },
    "deepnote_table_loading": false,
    "deepnote_output_heights": [
     155.5
    ],
    "deepnote_cell_type": "code"
   },
   "source": "fanta_squads = sorted(final.fanta_team.unique())\nindex = 0\n",
   "execution_count": null,
   "outputs": []
  },
  {
   "cell_type": "code",
   "metadata": {
    "cell_id": "1864d1f2-8558-4b21-a7d1-c322a7d73fef",
    "tags": [],
    "deepnote_to_be_reexecuted": false,
    "source_hash": "364e1920",
    "execution_start": 1642861422356,
    "execution_millis": 7,
    "deepnote_table_state": {
     "pageSize": 25,
     "pageIndex": 0,
     "filters": [],
     "sortBy": []
    },
    "deepnote_table_loading": false,
    "allow_embed": "output",
    "deepnote_cell_type": "code"
   },
   "source": "fanta_team, index = display_fanta_squad(final, fanta_squads, index)",
   "execution_count": null,
   "outputs": [
    {
     "name": "stderr",
     "text": "\nA value is trying to be set on a copy of a slice from a DataFrame.\nTry using .loc[row_indexer,col_indexer] = value instead\n\nSee the caveats in the documentation: https://pandas.pydata.org/pandas-docs/stable/user_guide/indexing.html#returning-a-view-versus-a-copy\n",
     "output_type": "stream"
    }
   ]
  },
  {
   "cell_type": "code",
   "source": "_deepnote_run_altair(fanta_team, \"\"\"{\"$schema\":\"https://vega.github.io/schema/vega-lite/v4.json\",\"mark\":{\"type\":\"bar\",\"tooltip\":{\"content\":\"data\"}},\"height\":220,\"autosize\":{\"type\":\"fit\"},\"data\":{\"name\":\"placeholder\"},\"encoding\":{\"x\":{\"field\":\"expected_bonus\",\"type\":\"quantitative\",\"sort\":null,\"scale\":{\"type\":\"linear\",\"zero\":false}},\"y\":{\"field\":\"player\",\"type\":\"nominal\",\"sort\":null,\"scale\":{\"type\":\"linear\",\"zero\":true}},\"color\":{\"field\":\"role\",\"type\":\"nominal\",\"sort\":null,\"scale\":{\"type\":\"linear\",\"zero\":false}}}}\"\"\")",
   "metadata": {
    "cell_id": "cc28855c-ed4d-4d54-9bc1-c4a4d208a3aa",
    "deepnote_variable_name": "fanta_team",
    "deepnote_visualization_spec": {
     "$schema": "https://vega.github.io/schema/vega-lite/v4.json",
     "mark": {
      "type": "bar",
      "tooltip": {
       "content": "data"
      }
     },
     "height": 220,
     "autosize": {
      "type": "fit"
     },
     "data": {
      "name": "placeholder"
     },
     "encoding": {
      "x": {
       "field": "expected_bonus",
       "type": "quantitative",
       "sort": null,
       "scale": {
        "type": "linear",
        "zero": false
       }
      },
      "y": {
       "field": "player",
       "type": "nominal",
       "sort": null,
       "scale": {
        "type": "linear",
        "zero": true
       }
      },
      "color": {
       "field": "role",
       "type": "nominal",
       "sort": null,
       "scale": {
        "type": "linear",
        "zero": false
       }
      }
     }
    },
    "deepnote_to_be_reexecuted": false,
    "source_hash": "c7286491",
    "execution_start": 1642861438262,
    "execution_millis": 191,
    "deepnote_output_heights": [
     314
    ],
    "allow_embed": "output",
    "deepnote_cell_type": "visualization"
   },
   "execution_count": null,
   "outputs": [
    {
     "output_type": "execute_result",
     "execution_count": 120,
     "data": {
      "text/html": "\n<div id=\"altair-viz-3dacc564bbe741b28d381b6fcba1bbf8\"></div>\n<script type=\"text/javascript\">\n  (function(spec, embedOpt){\n    let outputDiv = document.currentScript.previousElementSibling;\n    if (outputDiv.id !== \"altair-viz-3dacc564bbe741b28d381b6fcba1bbf8\") {\n      outputDiv = document.getElementById(\"altair-viz-3dacc564bbe741b28d381b6fcba1bbf8\");\n    }\n    const paths = {\n      \"vega\": \"https://cdn.jsdelivr.net/npm//vega@5?noext\",\n      \"vega-lib\": \"https://cdn.jsdelivr.net/npm//vega-lib?noext\",\n      \"vega-lite\": \"https://cdn.jsdelivr.net/npm//vega-lite@4.8.1?noext\",\n      \"vega-embed\": \"https://cdn.jsdelivr.net/npm//vega-embed@6?noext\",\n    };\n\n    function loadScript(lib) {\n      return new Promise(function(resolve, reject) {\n        var s = document.createElement('script');\n        s.src = paths[lib];\n        s.async = true;\n        s.onload = () => resolve(paths[lib]);\n        s.onerror = () => reject(`Error loading script: ${paths[lib]}`);\n        document.getElementsByTagName(\"head\")[0].appendChild(s);\n      });\n    }\n\n    function showError(err) {\n      outputDiv.innerHTML = `<div class=\"error\" style=\"color:red;\">${err}</div>`;\n      throw err;\n    }\n\n    function displayChart(vegaEmbed) {\n      vegaEmbed(outputDiv, spec, embedOpt)\n        .catch(err => showError(`Javascript Error: ${err.message}<br>This usually means there's a typo in your chart specification. See the javascript console for the full traceback.`));\n    }\n\n    if(typeof define === \"function\" && define.amd) {\n      requirejs.config({paths});\n      require([\"vega-embed\"], displayChart, err => showError(`Error loading script: ${err.message}`));\n    } else if (typeof vegaEmbed === \"function\") {\n      displayChart(vegaEmbed);\n    } else {\n      loadScript(\"vega\")\n        .then(() => loadScript(\"vega-lite\"))\n        .then(() => loadScript(\"vega-embed\"))\n        .catch(showError)\n        .then(() => displayChart(vegaEmbed));\n    }\n  })({\"config\": {\"view\": {\"continuousWidth\": 400, \"continuousHeight\": 300}, \"area\": {\"fill\": \"#51C0E9\"}, \"axis\": {\"labelFont\": \"Inter, sans-serif\", \"labelFontSize\": 12, \"labelFontWeight\": \"normal\", \"labelLimit\": 60, \"labelOverlap\": \"greedy\", \"titleFont\": \"Inter, sans-serif\", \"titleFontSize\": 12, \"titleFontWeight\": \"bold\"}, \"background\": \"#ffffff\", \"legend\": {\"labelFont\": \"Inter, sans-serif\", \"labelFontSize\": 12, \"titleFont\": \"Inter, sans-serif\", \"titleFontSize\": 12, \"titleFontWeight\": \"bold\"}, \"line\": {\"stroke\": \"#51C0E9\", \"strokeWidth\": 2}, \"rect\": {\"fill\": \"#51C0E9\"}, \"title\": {\"anchor\": \"start\", \"color\": \"#000000\", \"font\": \"Inter, sans-serif\", \"fontSize\": 22, \"fontWeight\": \"normal\"}}, \"data\": {\"name\": \"data-166b9d8ea8ad74822a9357ea1e3f8934\"}, \"mark\": {\"type\": \"bar\", \"tooltip\": {\"content\": \"data\"}}, \"autosize\": {\"type\": \"fit\"}, \"encoding\": {\"color\": {\"type\": \"nominal\", \"field\": \"role\", \"scale\": {\"type\": \"linear\", \"zero\": false}, \"sort\": null}, \"x\": {\"type\": \"quantitative\", \"field\": \"expected_bonus\", \"scale\": {\"type\": \"linear\", \"zero\": false}, \"sort\": null}, \"y\": {\"type\": \"nominal\", \"field\": \"player\", \"scale\": {\"type\": \"linear\", \"zero\": true}, \"sort\": null}}, \"height\": 300, \"width\": \"container\", \"$schema\": \"https://vega.github.io/schema/vega-lite/v4.json\", \"datasets\": {\"data-166b9d8ea8ad74822a9357ea1e3f8934\": [{\"role\": \"D\", \"player\": \"Calabria\", \"home_team\": \"AC Milan\", \"away_team\": \"Juventus\", \"expected_bonus\": 0.4306632876396179}, {\"role\": \"D\", \"player\": \"Sandro\", \"home_team\": \"AC Milan\", \"away_team\": \"Juventus\", \"expected_bonus\": 0.31981348991394043}, {\"role\": \"D\", \"player\": \"Ligt\", \"home_team\": \"AC Milan\", \"away_team\": \"Juventus\", \"expected_bonus\": 0.3063674569129944}, {\"role\": \"D\", \"player\": \"Odriozola\", \"home_team\": \"Cagliari\", \"away_team\": \"Fiorentina\", \"expected_bonus\": 0.29637810587882996}, {\"role\": \"D\", \"player\": \"Florenzi\", \"home_team\": \"AC Milan\", \"away_team\": \"Juventus\", \"expected_bonus\": 0.26762378215789795}, {\"role\": \"D\", \"player\": \"Larsen\", \"home_team\": \"Genoa\", \"away_team\": \"Udinese\", \"expected_bonus\": 0.25069040060043335}, {\"role\": \"D\", \"player\": \"Dalbert\", \"home_team\": \"Cagliari\", \"away_team\": \"Fiorentina\", \"expected_bonus\": 0.1862601935863495}, {\"role\": \"C\", \"player\": \"Calhanoglu\", \"home_team\": \"Inter\", \"away_team\": \"Venezia\", \"expected_bonus\": 0.9552688598632812}, {\"role\": \"C\", \"player\": \"Malinovskiy\", \"home_team\": \"Lazio\", \"away_team\": \"Atalanta\", \"expected_bonus\": 0.935515820980072}, {\"role\": \"C\", \"player\": \"Aramu\", \"home_team\": \"Inter\", \"away_team\": \"Venezia\", \"expected_bonus\": 0.5752679705619812}, {\"role\": \"C\", \"player\": \"Thorsby\", \"home_team\": \"Spezia\", \"away_team\": \"Sampdoria\", \"expected_bonus\": 0.3463541865348816}, {\"role\": \"C\", \"player\": \"Marin\", \"home_team\": \"Cagliari\", \"away_team\": \"Fiorentina\", \"expected_bonus\": 0.3241105377674103}, {\"role\": \"C\", \"player\": \"N\\u00e1ndez\", \"home_team\": \"Cagliari\", \"away_team\": \"Fiorentina\", \"expected_bonus\": 0.2615000903606415}, {\"role\": \"A\", \"player\": \"Muriel\", \"home_team\": \"Lazio\", \"away_team\": \"Atalanta\", \"expected_bonus\": 1.4515697956085205}, {\"role\": \"A\", \"player\": \"Giroud\", \"home_team\": \"AC Milan\", \"away_team\": \"Juventus\", \"expected_bonus\": 1.1373100280761719}, {\"role\": \"A\", \"player\": \"Belotti\", \"home_team\": \"Torino\", \"away_team\": \"Sassuolo\", \"expected_bonus\": 1.020117998123169}, {\"role\": \"A\", \"player\": \"Henry\", \"home_team\": \"Inter\", \"away_team\": \"Venezia\", \"expected_bonus\": 0.5887283682823181}, {\"role\": \"A\", \"player\": \"Verde\", \"home_team\": \"Spezia\", \"away_team\": \"Sampdoria\", \"expected_bonus\": 0.562435507774353}, {\"role\": \"A\", \"player\": \"Boga\", \"home_team\": \"Torino\", \"away_team\": \"Sassuolo\", \"expected_bonus\": 0.46787381172180176}]}}, {\"actions\": false, \"mode\": \"vega-lite\"});\n</script>",
      "text/plain": "alt.Chart(...)"
     },
     "metadata": {}
    }
   ]
  },
  {
   "cell_type": "code",
   "metadata": {
    "cell_id": "13d0bf2b-fdc5-48b9-bce5-90758d2c61a4",
    "tags": [],
    "deepnote_to_be_reexecuted": false,
    "source_hash": "364e1920",
    "execution_start": 1642861478356,
    "execution_millis": 5,
    "deepnote_table_state": {
     "pageSize": 25,
     "pageIndex": 0,
     "filters": [],
     "sortBy": []
    },
    "deepnote_table_loading": false,
    "allow_embed": "output",
    "deepnote_cell_type": "code"
   },
   "source": "fanta_team, index = display_fanta_squad(final, fanta_squads, index)",
   "execution_count": null,
   "outputs": [
    {
     "name": "stderr",
     "text": "\nA value is trying to be set on a copy of a slice from a DataFrame.\nTry using .loc[row_indexer,col_indexer] = value instead\n\nSee the caveats in the documentation: https://pandas.pydata.org/pandas-docs/stable/user_guide/indexing.html#returning-a-view-versus-a-copy\n",
     "output_type": "stream"
    }
   ]
  },
  {
   "cell_type": "code",
   "source": "_deepnote_run_altair(fanta_team, \"\"\"{\"$schema\":\"https://vega.github.io/schema/vega-lite/v4.json\",\"mark\":{\"type\":\"bar\",\"tooltip\":{\"content\":\"data\"}},\"height\":220,\"autosize\":{\"type\":\"fit\"},\"data\":{\"name\":\"placeholder\"},\"encoding\":{\"x\":{\"field\":\"expected_bonus\",\"type\":\"quantitative\",\"sort\":null,\"scale\":{\"type\":\"linear\",\"zero\":false}},\"y\":{\"field\":\"player\",\"type\":\"nominal\",\"sort\":null,\"scale\":{\"type\":\"linear\",\"zero\":true}},\"color\":{\"field\":\"role\",\"type\":\"nominal\",\"sort\":null,\"scale\":{\"type\":\"linear\",\"zero\":false}}}}\"\"\")",
   "metadata": {
    "cell_id": "00007-b7cc33ae-aa66-4722-9569-3de6f853c290",
    "deepnote_variable_name": "fanta_team",
    "deepnote_visualization_spec": {
     "$schema": "https://vega.github.io/schema/vega-lite/v4.json",
     "mark": {
      "type": "bar",
      "tooltip": {
       "content": "data"
      }
     },
     "height": 220,
     "autosize": {
      "type": "fit"
     },
     "data": {
      "name": "placeholder"
     },
     "encoding": {
      "x": {
       "field": "expected_bonus",
       "type": "quantitative",
       "sort": null,
       "scale": {
        "type": "linear",
        "zero": false
       }
      },
      "y": {
       "field": "player",
       "type": "nominal",
       "sort": null,
       "scale": {
        "type": "linear",
        "zero": true
       }
      },
      "color": {
       "field": "role",
       "type": "nominal",
       "sort": null,
       "scale": {
        "type": "linear",
        "zero": false
       }
      }
     }
    },
    "deepnote_to_be_reexecuted": false,
    "source_hash": "c7286491",
    "deepnote_output_heights": [
     314
    ],
    "allow_embed": "output",
    "execution_start": 1642861503590,
    "execution_millis": 173,
    "deepnote_cell_type": "visualization"
   },
   "execution_count": null,
   "outputs": [
    {
     "output_type": "execute_result",
     "execution_count": 122,
     "data": {
      "text/html": "\n<div id=\"altair-viz-fba1d18058a3440db6a76a224b68fc79\"></div>\n<script type=\"text/javascript\">\n  (function(spec, embedOpt){\n    let outputDiv = document.currentScript.previousElementSibling;\n    if (outputDiv.id !== \"altair-viz-fba1d18058a3440db6a76a224b68fc79\") {\n      outputDiv = document.getElementById(\"altair-viz-fba1d18058a3440db6a76a224b68fc79\");\n    }\n    const paths = {\n      \"vega\": \"https://cdn.jsdelivr.net/npm//vega@5?noext\",\n      \"vega-lib\": \"https://cdn.jsdelivr.net/npm//vega-lib?noext\",\n      \"vega-lite\": \"https://cdn.jsdelivr.net/npm//vega-lite@4.8.1?noext\",\n      \"vega-embed\": \"https://cdn.jsdelivr.net/npm//vega-embed@6?noext\",\n    };\n\n    function loadScript(lib) {\n      return new Promise(function(resolve, reject) {\n        var s = document.createElement('script');\n        s.src = paths[lib];\n        s.async = true;\n        s.onload = () => resolve(paths[lib]);\n        s.onerror = () => reject(`Error loading script: ${paths[lib]}`);\n        document.getElementsByTagName(\"head\")[0].appendChild(s);\n      });\n    }\n\n    function showError(err) {\n      outputDiv.innerHTML = `<div class=\"error\" style=\"color:red;\">${err}</div>`;\n      throw err;\n    }\n\n    function displayChart(vegaEmbed) {\n      vegaEmbed(outputDiv, spec, embedOpt)\n        .catch(err => showError(`Javascript Error: ${err.message}<br>This usually means there's a typo in your chart specification. See the javascript console for the full traceback.`));\n    }\n\n    if(typeof define === \"function\" && define.amd) {\n      requirejs.config({paths});\n      require([\"vega-embed\"], displayChart, err => showError(`Error loading script: ${err.message}`));\n    } else if (typeof vegaEmbed === \"function\") {\n      displayChart(vegaEmbed);\n    } else {\n      loadScript(\"vega\")\n        .then(() => loadScript(\"vega-lite\"))\n        .then(() => loadScript(\"vega-embed\"))\n        .catch(showError)\n        .then(() => displayChart(vegaEmbed));\n    }\n  })({\"config\": {\"view\": {\"continuousWidth\": 400, \"continuousHeight\": 300}, \"area\": {\"fill\": \"#51C0E9\"}, \"axis\": {\"labelFont\": \"Inter, sans-serif\", \"labelFontSize\": 12, \"labelFontWeight\": \"normal\", \"labelLimit\": 60, \"labelOverlap\": \"greedy\", \"titleFont\": \"Inter, sans-serif\", \"titleFontSize\": 12, \"titleFontWeight\": \"bold\"}, \"background\": \"#ffffff\", \"legend\": {\"labelFont\": \"Inter, sans-serif\", \"labelFontSize\": 12, \"titleFont\": \"Inter, sans-serif\", \"titleFontSize\": 12, \"titleFontWeight\": \"bold\"}, \"line\": {\"stroke\": \"#51C0E9\", \"strokeWidth\": 2}, \"rect\": {\"fill\": \"#51C0E9\"}, \"title\": {\"anchor\": \"start\", \"color\": \"#000000\", \"font\": \"Inter, sans-serif\", \"fontSize\": 22, \"fontWeight\": \"normal\"}}, \"data\": {\"name\": \"data-335f236ba6ecd306b51db46e64ae79a7\"}, \"mark\": {\"type\": \"bar\", \"tooltip\": {\"content\": \"data\"}}, \"autosize\": {\"type\": \"fit\"}, \"encoding\": {\"color\": {\"type\": \"nominal\", \"field\": \"role\", \"scale\": {\"type\": \"linear\", \"zero\": false}, \"sort\": null}, \"x\": {\"type\": \"quantitative\", \"field\": \"expected_bonus\", \"scale\": {\"type\": \"linear\", \"zero\": false}, \"sort\": null}, \"y\": {\"type\": \"nominal\", \"field\": \"player\", \"scale\": {\"type\": \"linear\", \"zero\": true}, \"sort\": null}}, \"height\": 300, \"width\": \"container\", \"$schema\": \"https://vega.github.io/schema/vega-lite/v4.json\", \"datasets\": {\"data-335f236ba6ecd306b51db46e64ae79a7\": [{\"role\": \"D\", \"player\": \"Gosens\", \"home_team\": \"Lazio\", \"away_team\": \"Atalanta\", \"expected_bonus\": 0.6031079292297363}, {\"role\": \"D\", \"player\": \"Rrahmani\", \"home_team\": \"Napoli\", \"away_team\": \"Salernitana\", \"expected_bonus\": 0.39615482091903687}, {\"role\": \"D\", \"player\": \"Darmian\", \"home_team\": \"Inter\", \"away_team\": \"Venezia\", \"expected_bonus\": 0.37486445903778076}, {\"role\": \"D\", \"player\": \"Skriniar\", \"home_team\": \"Inter\", \"away_team\": \"Venezia\", \"expected_bonus\": 0.35966867208480835}, {\"role\": \"D\", \"player\": \"Manolas\", \"home_team\": \"Napoli\", \"away_team\": \"Salernitana\", \"expected_bonus\": 0.2642872929573059}, {\"role\": \"D\", \"player\": \"Augello\", \"home_team\": \"Spezia\", \"away_team\": \"Sampdoria\", \"expected_bonus\": 0.14619265496730804}, {\"role\": \"D\", \"player\": \"Haps\", \"home_team\": \"Inter\", \"away_team\": \"Venezia\", \"expected_bonus\": 0.05608595162630081}, {\"role\": \"C\", \"player\": \"Candreva\", \"home_team\": \"Spezia\", \"away_team\": \"Sampdoria\", \"expected_bonus\": 0.6557035446166992}, {\"role\": \"C\", \"player\": \"Bonaventura\", \"home_team\": \"Cagliari\", \"away_team\": \"Fiorentina\", \"expected_bonus\": 0.63484126329422}, {\"role\": \"C\", \"player\": \"Brozovic\", \"home_team\": \"Inter\", \"away_team\": \"Venezia\", \"expected_bonus\": 0.3730717897415161}, {\"role\": \"C\", \"player\": \"Locatelli\", \"home_team\": \"AC Milan\", \"away_team\": \"Juventus\", \"expected_bonus\": 0.37138789892196655}, {\"role\": \"C\", \"player\": \"Maggiore\", \"home_team\": \"Spezia\", \"away_team\": \"Sampdoria\", \"expected_bonus\": 0.35120126605033875}, {\"role\": \"C\", \"player\": \"Miranchuk\", \"home_team\": \"Lazio\", \"away_team\": \"Atalanta\", \"expected_bonus\": 0.3411710262298584}, {\"role\": \"A\", \"player\": \"Vlahovic\", \"home_team\": \"Cagliari\", \"away_team\": \"Fiorentina\", \"expected_bonus\": 2.1284537315368652}, {\"role\": \"A\", \"player\": \"Zapata\", \"home_team\": \"Lazio\", \"away_team\": \"Atalanta\", \"expected_bonus\": 2.0470025539398193}, {\"role\": \"A\", \"player\": \"Beto\", \"home_team\": \"Genoa\", \"away_team\": \"Udinese\", \"expected_bonus\": 1.0631210803985596}, {\"role\": \"A\", \"player\": \"Caputo\", \"home_team\": \"Spezia\", \"away_team\": \"Sampdoria\", \"expected_bonus\": 1.0228075981140137}, {\"role\": \"A\", \"player\": \"Lozano\", \"home_team\": \"Napoli\", \"away_team\": \"Salernitana\", \"expected_bonus\": 0.8597063422203064}, {\"role\": \"A\", \"player\": \"Mancuso\", \"home_team\": \"Empoli\", \"away_team\": \"Roma\", \"expected_bonus\": 0.6889322400093079}]}}, {\"actions\": false, \"mode\": \"vega-lite\"});\n</script>",
      "text/plain": "alt.Chart(...)"
     },
     "metadata": {}
    }
   ]
  },
  {
   "cell_type": "code",
   "metadata": {
    "cell_id": "2d11ff00-63c6-4c2a-bbce-01a45ce406b2",
    "tags": [],
    "deepnote_to_be_reexecuted": false,
    "source_hash": "364e1920",
    "execution_start": 1642861695116,
    "execution_millis": 2,
    "deepnote_table_state": {
     "pageSize": 25,
     "pageIndex": 0,
     "filters": [],
     "sortBy": []
    },
    "deepnote_table_loading": false,
    "allow_embed": "output",
    "deepnote_cell_type": "code"
   },
   "source": "fanta_team, index = display_fanta_squad(final, fanta_squads, index)",
   "execution_count": null,
   "outputs": [
    {
     "name": "stderr",
     "text": "\nA value is trying to be set on a copy of a slice from a DataFrame.\nTry using .loc[row_indexer,col_indexer] = value instead\n\nSee the caveats in the documentation: https://pandas.pydata.org/pandas-docs/stable/user_guide/indexing.html#returning-a-view-versus-a-copy\n",
     "output_type": "stream"
    }
   ]
  },
  {
   "cell_type": "code",
   "source": "_deepnote_run_altair(fanta_team, \"\"\"{\"$schema\":\"https://vega.github.io/schema/vega-lite/v4.json\",\"mark\":{\"type\":\"bar\",\"tooltip\":{\"content\":\"data\"}},\"height\":220,\"autosize\":{\"type\":\"fit\"},\"data\":{\"name\":\"placeholder\"},\"encoding\":{\"x\":{\"field\":\"expected_bonus\",\"type\":\"quantitative\",\"sort\":null,\"scale\":{\"type\":\"linear\",\"zero\":false}},\"y\":{\"field\":\"player\",\"type\":\"nominal\",\"sort\":null,\"scale\":{\"type\":\"linear\",\"zero\":true}},\"color\":{\"field\":\"role\",\"type\":\"nominal\",\"sort\":null,\"scale\":{\"type\":\"linear\",\"zero\":false}}}}\"\"\")",
   "metadata": {
    "cell_id": "00010-6d24f88b-89bc-4e46-980c-20a9c67b71d5",
    "deepnote_variable_name": "fanta_team",
    "deepnote_visualization_spec": {
     "$schema": "https://vega.github.io/schema/vega-lite/v4.json",
     "mark": {
      "type": "bar",
      "tooltip": {
       "content": "data"
      }
     },
     "height": 220,
     "autosize": {
      "type": "fit"
     },
     "data": {
      "name": "placeholder"
     },
     "encoding": {
      "x": {
       "field": "expected_bonus",
       "type": "quantitative",
       "sort": null,
       "scale": {
        "type": "linear",
        "zero": false
       }
      },
      "y": {
       "field": "player",
       "type": "nominal",
       "sort": null,
       "scale": {
        "type": "linear",
        "zero": true
       }
      },
      "color": {
       "field": "role",
       "type": "nominal",
       "sort": null,
       "scale": {
        "type": "linear",
        "zero": false
       }
      }
     }
    },
    "deepnote_to_be_reexecuted": false,
    "source_hash": "c7286491",
    "deepnote_output_heights": [
     314
    ],
    "allow_embed": "output",
    "execution_start": 1642861706546,
    "execution_millis": 210,
    "deepnote_cell_type": "visualization"
   },
   "execution_count": null,
   "outputs": [
    {
     "output_type": "execute_result",
     "execution_count": 125,
     "data": {
      "text/html": "\n<div id=\"altair-viz-28738e474cca4f9ca2e3896f746f099a\"></div>\n<script type=\"text/javascript\">\n  (function(spec, embedOpt){\n    let outputDiv = document.currentScript.previousElementSibling;\n    if (outputDiv.id !== \"altair-viz-28738e474cca4f9ca2e3896f746f099a\") {\n      outputDiv = document.getElementById(\"altair-viz-28738e474cca4f9ca2e3896f746f099a\");\n    }\n    const paths = {\n      \"vega\": \"https://cdn.jsdelivr.net/npm//vega@5?noext\",\n      \"vega-lib\": \"https://cdn.jsdelivr.net/npm//vega-lib?noext\",\n      \"vega-lite\": \"https://cdn.jsdelivr.net/npm//vega-lite@4.8.1?noext\",\n      \"vega-embed\": \"https://cdn.jsdelivr.net/npm//vega-embed@6?noext\",\n    };\n\n    function loadScript(lib) {\n      return new Promise(function(resolve, reject) {\n        var s = document.createElement('script');\n        s.src = paths[lib];\n        s.async = true;\n        s.onload = () => resolve(paths[lib]);\n        s.onerror = () => reject(`Error loading script: ${paths[lib]}`);\n        document.getElementsByTagName(\"head\")[0].appendChild(s);\n      });\n    }\n\n    function showError(err) {\n      outputDiv.innerHTML = `<div class=\"error\" style=\"color:red;\">${err}</div>`;\n      throw err;\n    }\n\n    function displayChart(vegaEmbed) {\n      vegaEmbed(outputDiv, spec, embedOpt)\n        .catch(err => showError(`Javascript Error: ${err.message}<br>This usually means there's a typo in your chart specification. See the javascript console for the full traceback.`));\n    }\n\n    if(typeof define === \"function\" && define.amd) {\n      requirejs.config({paths});\n      require([\"vega-embed\"], displayChart, err => showError(`Error loading script: ${err.message}`));\n    } else if (typeof vegaEmbed === \"function\") {\n      displayChart(vegaEmbed);\n    } else {\n      loadScript(\"vega\")\n        .then(() => loadScript(\"vega-lite\"))\n        .then(() => loadScript(\"vega-embed\"))\n        .catch(showError)\n        .then(() => displayChart(vegaEmbed));\n    }\n  })({\"config\": {\"view\": {\"continuousWidth\": 400, \"continuousHeight\": 300}, \"area\": {\"fill\": \"#51C0E9\"}, \"axis\": {\"labelFont\": \"Inter, sans-serif\", \"labelFontSize\": 12, \"labelFontWeight\": \"normal\", \"labelLimit\": 60, \"labelOverlap\": \"greedy\", \"titleFont\": \"Inter, sans-serif\", \"titleFontSize\": 12, \"titleFontWeight\": \"bold\"}, \"background\": \"#ffffff\", \"legend\": {\"labelFont\": \"Inter, sans-serif\", \"labelFontSize\": 12, \"titleFont\": \"Inter, sans-serif\", \"titleFontSize\": 12, \"titleFontWeight\": \"bold\"}, \"line\": {\"stroke\": \"#51C0E9\", \"strokeWidth\": 2}, \"rect\": {\"fill\": \"#51C0E9\"}, \"title\": {\"anchor\": \"start\", \"color\": \"#000000\", \"font\": \"Inter, sans-serif\", \"fontSize\": 22, \"fontWeight\": \"normal\"}}, \"data\": {\"name\": \"data-41c0b33bc2655a26b287662f3cfdeb30\"}, \"mark\": {\"type\": \"bar\", \"tooltip\": {\"content\": \"data\"}}, \"autosize\": {\"type\": \"fit\"}, \"encoding\": {\"color\": {\"type\": \"nominal\", \"field\": \"role\", \"scale\": {\"type\": \"linear\", \"zero\": false}, \"sort\": null}, \"x\": {\"type\": \"quantitative\", \"field\": \"expected_bonus\", \"scale\": {\"type\": \"linear\", \"zero\": false}, \"sort\": null}, \"y\": {\"type\": \"nominal\", \"field\": \"player\", \"scale\": {\"type\": \"linear\", \"zero\": true}, \"sort\": null}}, \"height\": 300, \"width\": \"container\", \"$schema\": \"https://vega.github.io/schema/vega-lite/v4.json\", \"datasets\": {\"data-41c0b33bc2655a26b287662f3cfdeb30\": [{\"role\": \"D\", \"player\": \"Dimarco\", \"home_team\": \"Inter\", \"away_team\": \"Venezia\", \"expected_bonus\": 0.5619069933891296}, {\"role\": \"D\", \"player\": \"Cuadrado\", \"home_team\": \"AC Milan\", \"away_team\": \"Juventus\", \"expected_bonus\": 0.419509619474411}, {\"role\": \"D\", \"player\": \"Lorenzo\", \"home_team\": \"Napoli\", \"away_team\": \"Salernitana\", \"expected_bonus\": 0.36023077368736267}, {\"role\": \"D\", \"player\": \"Bastoni\", \"home_team\": \"Inter\", \"away_team\": \"Venezia\", \"expected_bonus\": 0.28993478417396545}, {\"role\": \"D\", \"player\": \"Romagnoli\", \"home_team\": \"AC Milan\", \"away_team\": \"Juventus\", \"expected_bonus\": 0.14226672053337097}, {\"role\": \"D\", \"player\": \"Kjaer\", \"home_team\": \"AC Milan\", \"away_team\": \"Juventus\", \"expected_bonus\": 0.11540741473436356}, {\"role\": \"D\", \"player\": \"Nuytinck\", \"home_team\": \"Genoa\", \"away_team\": \"Udinese\", \"expected_bonus\": 0.09354344010353088}, {\"role\": \"C\", \"player\": \"Zielinski\", \"home_team\": \"Napoli\", \"away_team\": \"Salernitana\", \"expected_bonus\": 1.3872019052505493}, {\"role\": \"C\", \"player\": \"Praet\", \"home_team\": \"Torino\", \"away_team\": \"Sassuolo\", \"expected_bonus\": 1.3280516862869263}, {\"role\": \"C\", \"player\": \"Callej\\u00f3n\", \"home_team\": \"Cagliari\", \"away_team\": \"Fiorentina\", \"expected_bonus\": 0.9479858875274658}, {\"role\": \"C\", \"player\": \"Kessi\\u00e9\", \"home_team\": \"AC Milan\", \"away_team\": \"Juventus\", \"expected_bonus\": 0.7218831181526184}, {\"role\": \"C\", \"player\": \"Alberto\", \"home_team\": \"Lazio\", \"away_team\": \"Atalanta\", \"expected_bonus\": 0.6074389219284058}, {\"role\": \"C\", \"player\": \"Elmas\", \"home_team\": \"Napoli\", \"away_team\": \"Salernitana\", \"expected_bonus\": 0.2808399796485901}, {\"role\": \"C\", \"player\": \"Kulusevski\", \"home_team\": \"AC Milan\", \"away_team\": \"Juventus\", \"expected_bonus\": 0.23312683403491974}, {\"role\": \"A\", \"player\": \"Gonz\\u00e1lez\", \"home_team\": \"Cagliari\", \"away_team\": \"Fiorentina\", \"expected_bonus\": 2.116549015045166}, {\"role\": \"A\", \"player\": \"Mart\\u00ednez\", \"home_team\": \"Inter\", \"away_team\": \"Venezia\", \"expected_bonus\": 1.9500982761383057}, {\"role\": \"A\", \"player\": \"Berardi\", \"home_team\": \"Torino\", \"away_team\": \"Sassuolo\", \"expected_bonus\": 0.9792872667312622}, {\"role\": \"A\", \"player\": \"Mertens\", \"home_team\": \"Napoli\", \"away_team\": \"Salernitana\", \"expected_bonus\": 0.8834396004676819}, {\"role\": \"A\", \"player\": \"Nzola\", \"home_team\": \"Spezia\", \"away_team\": \"Sampdoria\", \"expected_bonus\": 0.5402315855026245}]}}, {\"actions\": false, \"mode\": \"vega-lite\"});\n</script>",
      "text/plain": "alt.Chart(...)"
     },
     "metadata": {}
    }
   ]
  },
  {
   "cell_type": "code",
   "metadata": {
    "cell_id": "b99b9137-101d-4d0d-9fcd-1595ceabfec3",
    "tags": [],
    "deepnote_to_be_reexecuted": false,
    "source_hash": "364e1920",
    "execution_start": 1642861744454,
    "execution_millis": 17,
    "deepnote_table_state": {
     "pageSize": 25,
     "pageIndex": 0,
     "filters": [],
     "sortBy": []
    },
    "deepnote_table_loading": false,
    "allow_embed": "output",
    "deepnote_cell_type": "code"
   },
   "source": "fanta_team, index = display_fanta_squad(final, fanta_squads, index)",
   "execution_count": null,
   "outputs": [
    {
     "name": "stderr",
     "text": "\nA value is trying to be set on a copy of a slice from a DataFrame.\nTry using .loc[row_indexer,col_indexer] = value instead\n\nSee the caveats in the documentation: https://pandas.pydata.org/pandas-docs/stable/user_guide/indexing.html#returning-a-view-versus-a-copy\n",
     "output_type": "stream"
    }
   ]
  },
  {
   "cell_type": "code",
   "source": "_deepnote_run_altair(fanta_team, \"\"\"{\"$schema\":\"https://vega.github.io/schema/vega-lite/v4.json\",\"mark\":{\"type\":\"bar\",\"tooltip\":{\"content\":\"data\"}},\"height\":220,\"autosize\":{\"type\":\"fit\"},\"data\":{\"name\":\"placeholder\"},\"encoding\":{\"x\":{\"field\":\"expected_bonus\",\"type\":\"quantitative\",\"sort\":null,\"scale\":{\"type\":\"linear\",\"zero\":false}},\"y\":{\"field\":\"player\",\"type\":\"nominal\",\"sort\":null,\"scale\":{\"type\":\"linear\",\"zero\":true}},\"color\":{\"field\":\"role\",\"type\":\"nominal\",\"sort\":null,\"scale\":{\"type\":\"linear\",\"zero\":false}}}}\"\"\")",
   "metadata": {
    "cell_id": "00012-ea49fc2d-2cbb-4970-8d2c-fa9a8dff5c4e",
    "deepnote_variable_name": "fanta_team",
    "deepnote_visualization_spec": {
     "$schema": "https://vega.github.io/schema/vega-lite/v4.json",
     "mark": {
      "type": "bar",
      "tooltip": {
       "content": "data"
      }
     },
     "height": 220,
     "autosize": {
      "type": "fit"
     },
     "data": {
      "name": "placeholder"
     },
     "encoding": {
      "x": {
       "field": "expected_bonus",
       "type": "quantitative",
       "sort": null,
       "scale": {
        "type": "linear",
        "zero": false
       }
      },
      "y": {
       "field": "player",
       "type": "nominal",
       "sort": null,
       "scale": {
        "type": "linear",
        "zero": true
       }
      },
      "color": {
       "field": "role",
       "type": "nominal",
       "sort": null,
       "scale": {
        "type": "linear",
        "zero": false
       }
      }
     }
    },
    "deepnote_to_be_reexecuted": false,
    "source_hash": "c7286491",
    "deepnote_output_heights": [
     314
    ],
    "allow_embed": "output",
    "execution_start": 1642861778736,
    "execution_millis": 149,
    "deepnote_cell_type": "visualization"
   },
   "execution_count": null,
   "outputs": [
    {
     "output_type": "execute_result",
     "execution_count": 127,
     "data": {
      "text/html": "\n<div id=\"altair-viz-9c2879d4f8b247a99014f736aefa7e19\"></div>\n<script type=\"text/javascript\">\n  (function(spec, embedOpt){\n    let outputDiv = document.currentScript.previousElementSibling;\n    if (outputDiv.id !== \"altair-viz-9c2879d4f8b247a99014f736aefa7e19\") {\n      outputDiv = document.getElementById(\"altair-viz-9c2879d4f8b247a99014f736aefa7e19\");\n    }\n    const paths = {\n      \"vega\": \"https://cdn.jsdelivr.net/npm//vega@5?noext\",\n      \"vega-lib\": \"https://cdn.jsdelivr.net/npm//vega-lib?noext\",\n      \"vega-lite\": \"https://cdn.jsdelivr.net/npm//vega-lite@4.8.1?noext\",\n      \"vega-embed\": \"https://cdn.jsdelivr.net/npm//vega-embed@6?noext\",\n    };\n\n    function loadScript(lib) {\n      return new Promise(function(resolve, reject) {\n        var s = document.createElement('script');\n        s.src = paths[lib];\n        s.async = true;\n        s.onload = () => resolve(paths[lib]);\n        s.onerror = () => reject(`Error loading script: ${paths[lib]}`);\n        document.getElementsByTagName(\"head\")[0].appendChild(s);\n      });\n    }\n\n    function showError(err) {\n      outputDiv.innerHTML = `<div class=\"error\" style=\"color:red;\">${err}</div>`;\n      throw err;\n    }\n\n    function displayChart(vegaEmbed) {\n      vegaEmbed(outputDiv, spec, embedOpt)\n        .catch(err => showError(`Javascript Error: ${err.message}<br>This usually means there's a typo in your chart specification. See the javascript console for the full traceback.`));\n    }\n\n    if(typeof define === \"function\" && define.amd) {\n      requirejs.config({paths});\n      require([\"vega-embed\"], displayChart, err => showError(`Error loading script: ${err.message}`));\n    } else if (typeof vegaEmbed === \"function\") {\n      displayChart(vegaEmbed);\n    } else {\n      loadScript(\"vega\")\n        .then(() => loadScript(\"vega-lite\"))\n        .then(() => loadScript(\"vega-embed\"))\n        .catch(showError)\n        .then(() => displayChart(vegaEmbed));\n    }\n  })({\"config\": {\"view\": {\"continuousWidth\": 400, \"continuousHeight\": 300}, \"area\": {\"fill\": \"#51C0E9\"}, \"axis\": {\"labelFont\": \"Inter, sans-serif\", \"labelFontSize\": 12, \"labelFontWeight\": \"normal\", \"labelLimit\": 60, \"labelOverlap\": \"greedy\", \"titleFont\": \"Inter, sans-serif\", \"titleFontSize\": 12, \"titleFontWeight\": \"bold\"}, \"background\": \"#ffffff\", \"legend\": {\"labelFont\": \"Inter, sans-serif\", \"labelFontSize\": 12, \"titleFont\": \"Inter, sans-serif\", \"titleFontSize\": 12, \"titleFontWeight\": \"bold\"}, \"line\": {\"stroke\": \"#51C0E9\", \"strokeWidth\": 2}, \"rect\": {\"fill\": \"#51C0E9\"}, \"title\": {\"anchor\": \"start\", \"color\": \"#000000\", \"font\": \"Inter, sans-serif\", \"fontSize\": 22, \"fontWeight\": \"normal\"}}, \"data\": {\"name\": \"data-e25f7b74968e6f0248d6ad72d71f66ba\"}, \"mark\": {\"type\": \"bar\", \"tooltip\": {\"content\": \"data\"}}, \"autosize\": {\"type\": \"fit\"}, \"encoding\": {\"color\": {\"type\": \"nominal\", \"field\": \"role\", \"scale\": {\"type\": \"linear\", \"zero\": false}, \"sort\": null}, \"x\": {\"type\": \"quantitative\", \"field\": \"expected_bonus\", \"scale\": {\"type\": \"linear\", \"zero\": false}, \"sort\": null}, \"y\": {\"type\": \"nominal\", \"field\": \"player\", \"scale\": {\"type\": \"linear\", \"zero\": true}, \"sort\": null}}, \"height\": 300, \"width\": \"container\", \"$schema\": \"https://vega.github.io/schema/vega-lite/v4.json\", \"datasets\": {\"data-e25f7b74968e6f0248d6ad72d71f66ba\": [{\"role\": \"D\", \"player\": \"Nastasic\", \"home_team\": \"Cagliari\", \"away_team\": \"Fiorentina\", \"expected_bonus\": 0.44843441247940063}, {\"role\": \"D\", \"player\": \"Acerbi\", \"home_team\": \"Lazio\", \"away_team\": \"Atalanta\", \"expected_bonus\": 0.3752361834049225}, {\"role\": \"D\", \"player\": \"Chiellini\", \"home_team\": \"AC Milan\", \"away_team\": \"Juventus\", \"expected_bonus\": 0.3504130244255066}, {\"role\": \"D\", \"player\": \"Zappacosta\", \"home_team\": \"Lazio\", \"away_team\": \"Atalanta\", \"expected_bonus\": 0.28292563557624817}, {\"role\": \"D\", \"player\": \"Criscito\", \"home_team\": \"Genoa\", \"away_team\": \"Udinese\", \"expected_bonus\": 0.23811796307563782}, {\"role\": \"D\", \"player\": \"Vrij\", \"home_team\": \"Inter\", \"away_team\": \"Venezia\", \"expected_bonus\": 0.21557514369487762}, {\"role\": \"D\", \"player\": \"Bonucci\", \"home_team\": \"AC Milan\", \"away_team\": \"Juventus\", \"expected_bonus\": 0.21246403455734253}, {\"role\": \"D\", \"player\": \"Danilo\", \"home_team\": \"AC Milan\", \"away_team\": \"Juventus\", \"expected_bonus\": 0.1833137422800064}, {\"role\": \"C\", \"player\": \"McKennie\", \"home_team\": \"AC Milan\", \"away_team\": \"Juventus\", \"expected_bonus\": 0.7623729109764099}, {\"role\": \"C\", \"player\": \"Verdi\", \"home_team\": \"Torino\", \"away_team\": \"Sassuolo\", \"expected_bonus\": 0.7184188365936279}, {\"role\": \"C\", \"player\": \"Tonali\", \"home_team\": \"AC Milan\", \"away_team\": \"Juventus\", \"expected_bonus\": 0.4755006730556488}, {\"role\": \"C\", \"player\": \"Castrovilli\", \"home_team\": \"Cagliari\", \"away_team\": \"Fiorentina\", \"expected_bonus\": 0.45193159580230713}, {\"role\": \"C\", \"player\": \"Cristante\", \"home_team\": \"Empoli\", \"away_team\": \"Roma\", \"expected_bonus\": 0.4480248689651489}, {\"role\": \"C\", \"player\": \"Saelemaekers\", \"home_team\": \"AC Milan\", \"away_team\": \"Juventus\", \"expected_bonus\": 0.4010366201400757}, {\"role\": \"C\", \"player\": \"Pasalic\", \"home_team\": \"Lazio\", \"away_team\": \"Atalanta\", \"expected_bonus\": 0.38650625944137573}, {\"role\": \"C\", \"player\": \"Perisic\", \"home_team\": \"Inter\", \"away_team\": \"Venezia\", \"expected_bonus\": 0.36193740367889404}, {\"role\": \"A\", \"player\": \"Correa\", \"home_team\": \"Inter\", \"away_team\": \"Venezia\", \"expected_bonus\": 1.4870262145996094}, {\"role\": \"A\", \"player\": \"Dybala\", \"home_team\": \"AC Milan\", \"away_team\": \"Juventus\", \"expected_bonus\": 0.9357787370681763}, {\"role\": \"A\", \"player\": \"Quagliarella\", \"home_team\": \"Spezia\", \"away_team\": \"Sampdoria\", \"expected_bonus\": 0.8916912078857422}, {\"role\": \"A\", \"player\": \"Kean\", \"home_team\": \"AC Milan\", \"away_team\": \"Juventus\", \"expected_bonus\": 0.32371777296066284}, {\"role\": \"A\", \"player\": \"Rebic\", \"home_team\": \"AC Milan\", \"away_team\": \"Juventus\", \"expected_bonus\": 0.21905207633972168}]}}, {\"actions\": false, \"mode\": \"vega-lite\"});\n</script>",
      "text/plain": "alt.Chart(...)"
     },
     "metadata": {}
    }
   ]
  },
  {
   "cell_type": "code",
   "metadata": {
    "cell_id": "c0735c49-99c5-42f2-bb73-db6cd0884c6d",
    "tags": [],
    "deepnote_to_be_reexecuted": false,
    "source_hash": "364e1920",
    "execution_start": 1642861827492,
    "execution_millis": 2,
    "deepnote_table_state": {
     "pageSize": 25,
     "pageIndex": 0,
     "filters": [],
     "sortBy": []
    },
    "deepnote_table_loading": false,
    "deepnote_cell_type": "code"
   },
   "source": "fanta_team, index = display_fanta_squad(final, fanta_squads, index)",
   "execution_count": null,
   "outputs": [
    {
     "name": "stderr",
     "text": "\nA value is trying to be set on a copy of a slice from a DataFrame.\nTry using .loc[row_indexer,col_indexer] = value instead\n\nSee the caveats in the documentation: https://pandas.pydata.org/pandas-docs/stable/user_guide/indexing.html#returning-a-view-versus-a-copy\n",
     "output_type": "stream"
    }
   ]
  },
  {
   "cell_type": "code",
   "source": "_deepnote_run_altair(fanta_team, \"\"\"{\"$schema\":\"https://vega.github.io/schema/vega-lite/v4.json\",\"mark\":{\"type\":\"bar\",\"tooltip\":{\"content\":\"data\"}},\"height\":220,\"autosize\":{\"type\":\"fit\"},\"data\":{\"name\":\"placeholder\"},\"encoding\":{\"x\":{\"field\":\"expected_bonus\",\"type\":\"quantitative\",\"sort\":null,\"scale\":{\"type\":\"linear\",\"zero\":false}},\"y\":{\"field\":\"player\",\"type\":\"nominal\",\"sort\":null,\"scale\":{\"type\":\"linear\",\"zero\":true}},\"color\":{\"field\":\"role\",\"type\":\"nominal\",\"sort\":null,\"scale\":{\"type\":\"linear\",\"zero\":false}}}}\"\"\")",
   "metadata": {
    "cell_id": "00014-82a97577-566b-4a93-bab5-7e78ec80c61a",
    "deepnote_variable_name": "fanta_team",
    "deepnote_visualization_spec": {
     "$schema": "https://vega.github.io/schema/vega-lite/v4.json",
     "mark": {
      "type": "bar",
      "tooltip": {
       "content": "data"
      }
     },
     "height": 220,
     "autosize": {
      "type": "fit"
     },
     "data": {
      "name": "placeholder"
     },
     "encoding": {
      "x": {
       "field": "expected_bonus",
       "type": "quantitative",
       "sort": null,
       "scale": {
        "type": "linear",
        "zero": false
       }
      },
      "y": {
       "field": "player",
       "type": "nominal",
       "sort": null,
       "scale": {
        "type": "linear",
        "zero": true
       }
      },
      "color": {
       "field": "role",
       "type": "nominal",
       "sort": null,
       "scale": {
        "type": "linear",
        "zero": false
       }
      }
     }
    },
    "deepnote_to_be_reexecuted": false,
    "source_hash": "c7286491",
    "deepnote_output_heights": [
     314
    ],
    "allow_embed": "output",
    "execution_start": 1642861860395,
    "execution_millis": 164,
    "deepnote_cell_type": "visualization"
   },
   "execution_count": null,
   "outputs": [
    {
     "output_type": "execute_result",
     "execution_count": 129,
     "data": {
      "text/html": "\n<div id=\"altair-viz-877d8a66dae14fdc9809d47bcf11a2ed\"></div>\n<script type=\"text/javascript\">\n  (function(spec, embedOpt){\n    let outputDiv = document.currentScript.previousElementSibling;\n    if (outputDiv.id !== \"altair-viz-877d8a66dae14fdc9809d47bcf11a2ed\") {\n      outputDiv = document.getElementById(\"altair-viz-877d8a66dae14fdc9809d47bcf11a2ed\");\n    }\n    const paths = {\n      \"vega\": \"https://cdn.jsdelivr.net/npm//vega@5?noext\",\n      \"vega-lib\": \"https://cdn.jsdelivr.net/npm//vega-lib?noext\",\n      \"vega-lite\": \"https://cdn.jsdelivr.net/npm//vega-lite@4.8.1?noext\",\n      \"vega-embed\": \"https://cdn.jsdelivr.net/npm//vega-embed@6?noext\",\n    };\n\n    function loadScript(lib) {\n      return new Promise(function(resolve, reject) {\n        var s = document.createElement('script');\n        s.src = paths[lib];\n        s.async = true;\n        s.onload = () => resolve(paths[lib]);\n        s.onerror = () => reject(`Error loading script: ${paths[lib]}`);\n        document.getElementsByTagName(\"head\")[0].appendChild(s);\n      });\n    }\n\n    function showError(err) {\n      outputDiv.innerHTML = `<div class=\"error\" style=\"color:red;\">${err}</div>`;\n      throw err;\n    }\n\n    function displayChart(vegaEmbed) {\n      vegaEmbed(outputDiv, spec, embedOpt)\n        .catch(err => showError(`Javascript Error: ${err.message}<br>This usually means there's a typo in your chart specification. See the javascript console for the full traceback.`));\n    }\n\n    if(typeof define === \"function\" && define.amd) {\n      requirejs.config({paths});\n      require([\"vega-embed\"], displayChart, err => showError(`Error loading script: ${err.message}`));\n    } else if (typeof vegaEmbed === \"function\") {\n      displayChart(vegaEmbed);\n    } else {\n      loadScript(\"vega\")\n        .then(() => loadScript(\"vega-lite\"))\n        .then(() => loadScript(\"vega-embed\"))\n        .catch(showError)\n        .then(() => displayChart(vegaEmbed));\n    }\n  })({\"config\": {\"view\": {\"continuousWidth\": 400, \"continuousHeight\": 300}, \"area\": {\"fill\": \"#51C0E9\"}, \"axis\": {\"labelFont\": \"Inter, sans-serif\", \"labelFontSize\": 12, \"labelFontWeight\": \"normal\", \"labelLimit\": 60, \"labelOverlap\": \"greedy\", \"titleFont\": \"Inter, sans-serif\", \"titleFontSize\": 12, \"titleFontWeight\": \"bold\"}, \"background\": \"#ffffff\", \"legend\": {\"labelFont\": \"Inter, sans-serif\", \"labelFontSize\": 12, \"titleFont\": \"Inter, sans-serif\", \"titleFontSize\": 12, \"titleFontWeight\": \"bold\"}, \"line\": {\"stroke\": \"#51C0E9\", \"strokeWidth\": 2}, \"rect\": {\"fill\": \"#51C0E9\"}, \"title\": {\"anchor\": \"start\", \"color\": \"#000000\", \"font\": \"Inter, sans-serif\", \"fontSize\": 22, \"fontWeight\": \"normal\"}}, \"data\": {\"name\": \"data-b81cbe876429da75345a9fa20668f783\"}, \"mark\": {\"type\": \"bar\", \"tooltip\": {\"content\": \"data\"}}, \"autosize\": {\"type\": \"fit\"}, \"encoding\": {\"color\": {\"type\": \"nominal\", \"field\": \"role\", \"scale\": {\"type\": \"linear\", \"zero\": false}, \"sort\": null}, \"x\": {\"type\": \"quantitative\", \"field\": \"expected_bonus\", \"scale\": {\"type\": \"linear\", \"zero\": false}, \"sort\": null}, \"y\": {\"type\": \"nominal\", \"field\": \"player\", \"scale\": {\"type\": \"linear\", \"zero\": true}, \"sort\": null}}, \"height\": 300, \"width\": \"container\", \"$schema\": \"https://vega.github.io/schema/vega-lite/v4.json\", \"datasets\": {\"data-b81cbe876429da75345a9fa20668f783\": [{\"role\": \"D\", \"player\": \"Hern\\u00e1ndez\", \"home_team\": \"AC Milan\", \"away_team\": \"Juventus\", \"expected_bonus\": 0.4735173285007477}, {\"role\": \"D\", \"player\": \"Molina\", \"home_team\": \"Genoa\", \"away_team\": \"Udinese\", \"expected_bonus\": 0.4105371832847595}, {\"role\": \"D\", \"player\": \"Milenkovic\", \"home_team\": \"Cagliari\", \"away_team\": \"Fiorentina\", \"expected_bonus\": 0.26641005277633667}, {\"role\": \"D\", \"player\": \"Stojanovic\", \"home_team\": \"Empoli\", \"away_team\": \"Roma\", \"expected_bonus\": 0.17812439799308777}, {\"role\": \"D\", \"player\": \"Toloi\", \"home_team\": \"Lazio\", \"away_team\": \"Atalanta\", \"expected_bonus\": 0.15591266751289368}, {\"role\": \"D\", \"player\": \"Ferrari\", \"home_team\": \"Torino\", \"away_team\": \"Sassuolo\", \"expected_bonus\": 0.15398868918418884}, {\"role\": \"D\", \"player\": \"God\\u00edn\", \"home_team\": \"Cagliari\", \"away_team\": \"Fiorentina\", \"expected_bonus\": 0.15079927444458008}, {\"role\": \"D\", \"player\": \"Ruggeri\", \"home_team\": \"Napoli\", \"away_team\": \"Salernitana\", \"expected_bonus\": 0.06932523846626282}, {\"role\": \"C\", \"player\": \"Milinkovic-Savic\", \"home_team\": \"Lazio\", \"away_team\": \"Atalanta\", \"expected_bonus\": 0.7720431685447693}, {\"role\": \"C\", \"player\": \"Veretout\", \"home_team\": \"Empoli\", \"away_team\": \"Roma\", \"expected_bonus\": 0.765505313873291}, {\"role\": \"C\", \"player\": \"Bajrami\", \"home_team\": \"Empoli\", \"away_team\": \"Roma\", \"expected_bonus\": 0.7482807636260986}, {\"role\": \"C\", \"player\": \"Barella\", \"home_team\": \"Inter\", \"away_team\": \"Venezia\", \"expected_bonus\": 0.706283450126648}, {\"role\": \"C\", \"player\": \"Djuricic\", \"home_team\": \"Torino\", \"away_team\": \"Sassuolo\", \"expected_bonus\": 0.7060574889183044}, {\"role\": \"C\", \"player\": \"Pobega\", \"home_team\": \"Torino\", \"away_team\": \"Sassuolo\", \"expected_bonus\": 0.5300190448760986}, {\"role\": \"C\", \"player\": \"Maleh\", \"home_team\": \"Cagliari\", \"away_team\": \"Fiorentina\", \"expected_bonus\": 0.41046208143234253}, {\"role\": \"C\", \"player\": \"Roon\", \"home_team\": \"Lazio\", \"away_team\": \"Atalanta\", \"expected_bonus\": 0.16787774860858917}, {\"role\": \"A\", \"player\": \"Insigne\", \"home_team\": \"Napoli\", \"away_team\": \"Salernitana\", \"expected_bonus\": 2.191857099533081}, {\"role\": \"A\", \"player\": \"Abraham\", \"home_team\": \"Empoli\", \"away_team\": \"Roma\", \"expected_bonus\": 2.0169875621795654}, {\"role\": \"A\", \"player\": \"Brekalo\", \"home_team\": \"Torino\", \"away_team\": \"Sassuolo\", \"expected_bonus\": 0.8626707196235657}, {\"role\": \"A\", \"player\": \"Cutrone\", \"home_team\": \"Empoli\", \"away_team\": \"Roma\", \"expected_bonus\": 0.8421030640602112}, {\"role\": \"A\", \"player\": \"Pussetto\", \"home_team\": \"Genoa\", \"away_team\": \"Udinese\", \"expected_bonus\": 0.30733832716941833}]}}, {\"actions\": false, \"mode\": \"vega-lite\"});\n</script>",
      "text/plain": "alt.Chart(...)"
     },
     "metadata": {}
    }
   ]
  },
  {
   "cell_type": "code",
   "metadata": {
    "cell_id": "8ea1b7e7-a745-4218-a613-50deb664b7a0",
    "tags": [],
    "deepnote_to_be_reexecuted": false,
    "source_hash": "364e1920",
    "execution_start": 1642861893630,
    "execution_millis": 33,
    "deepnote_table_state": {
     "pageSize": 25,
     "pageIndex": 0,
     "filters": [],
     "sortBy": []
    },
    "deepnote_table_loading": false,
    "deepnote_cell_type": "code"
   },
   "source": "fanta_team, index = display_fanta_squad(final, fanta_squads, index)",
   "execution_count": null,
   "outputs": [
    {
     "name": "stderr",
     "text": "\nA value is trying to be set on a copy of a slice from a DataFrame.\nTry using .loc[row_indexer,col_indexer] = value instead\n\nSee the caveats in the documentation: https://pandas.pydata.org/pandas-docs/stable/user_guide/indexing.html#returning-a-view-versus-a-copy\n",
     "output_type": "stream"
    }
   ]
  },
  {
   "cell_type": "code",
   "source": "_deepnote_run_altair(fanta_team, \"\"\"{\"$schema\":\"https://vega.github.io/schema/vega-lite/v4.json\",\"mark\":{\"type\":\"bar\",\"tooltip\":{\"content\":\"data\"}},\"height\":220,\"autosize\":{\"type\":\"fit\"},\"data\":{\"name\":\"placeholder\"},\"encoding\":{\"x\":{\"field\":\"expected_bonus\",\"type\":\"quantitative\",\"sort\":null,\"scale\":{\"type\":\"linear\",\"zero\":false}},\"y\":{\"field\":\"player\",\"type\":\"nominal\",\"sort\":null,\"scale\":{\"type\":\"linear\",\"zero\":true}},\"color\":{\"field\":\"role\",\"type\":\"nominal\",\"sort\":null,\"scale\":{\"type\":\"linear\",\"zero\":false}}}}\"\"\")",
   "metadata": {
    "cell_id": "00016-928f99ec-67c2-47e0-a0b8-234dc83f8e73",
    "deepnote_variable_name": "fanta_team",
    "deepnote_visualization_spec": {
     "$schema": "https://vega.github.io/schema/vega-lite/v4.json",
     "mark": {
      "type": "bar",
      "tooltip": {
       "content": "data"
      }
     },
     "height": 220,
     "autosize": {
      "type": "fit"
     },
     "data": {
      "name": "placeholder"
     },
     "encoding": {
      "x": {
       "field": "expected_bonus",
       "type": "quantitative",
       "sort": null,
       "scale": {
        "type": "linear",
        "zero": false
       }
      },
      "y": {
       "field": "player",
       "type": "nominal",
       "sort": null,
       "scale": {
        "type": "linear",
        "zero": true
       }
      },
      "color": {
       "field": "role",
       "type": "nominal",
       "sort": null,
       "scale": {
        "type": "linear",
        "zero": false
       }
      }
     }
    },
    "deepnote_to_be_reexecuted": false,
    "source_hash": "c7286491",
    "deepnote_output_heights": [
     314
    ],
    "allow_embed": "output",
    "execution_start": 1642861956471,
    "execution_millis": 177,
    "deepnote_cell_type": "visualization"
   },
   "execution_count": null,
   "outputs": [
    {
     "output_type": "execute_result",
     "execution_count": 133,
     "data": {
      "text/html": "\n<div id=\"altair-viz-5a7eb8d8602245bb85a808d9c804f132\"></div>\n<script type=\"text/javascript\">\n  (function(spec, embedOpt){\n    let outputDiv = document.currentScript.previousElementSibling;\n    if (outputDiv.id !== \"altair-viz-5a7eb8d8602245bb85a808d9c804f132\") {\n      outputDiv = document.getElementById(\"altair-viz-5a7eb8d8602245bb85a808d9c804f132\");\n    }\n    const paths = {\n      \"vega\": \"https://cdn.jsdelivr.net/npm//vega@5?noext\",\n      \"vega-lib\": \"https://cdn.jsdelivr.net/npm//vega-lib?noext\",\n      \"vega-lite\": \"https://cdn.jsdelivr.net/npm//vega-lite@4.8.1?noext\",\n      \"vega-embed\": \"https://cdn.jsdelivr.net/npm//vega-embed@6?noext\",\n    };\n\n    function loadScript(lib) {\n      return new Promise(function(resolve, reject) {\n        var s = document.createElement('script');\n        s.src = paths[lib];\n        s.async = true;\n        s.onload = () => resolve(paths[lib]);\n        s.onerror = () => reject(`Error loading script: ${paths[lib]}`);\n        document.getElementsByTagName(\"head\")[0].appendChild(s);\n      });\n    }\n\n    function showError(err) {\n      outputDiv.innerHTML = `<div class=\"error\" style=\"color:red;\">${err}</div>`;\n      throw err;\n    }\n\n    function displayChart(vegaEmbed) {\n      vegaEmbed(outputDiv, spec, embedOpt)\n        .catch(err => showError(`Javascript Error: ${err.message}<br>This usually means there's a typo in your chart specification. See the javascript console for the full traceback.`));\n    }\n\n    if(typeof define === \"function\" && define.amd) {\n      requirejs.config({paths});\n      require([\"vega-embed\"], displayChart, err => showError(`Error loading script: ${err.message}`));\n    } else if (typeof vegaEmbed === \"function\") {\n      displayChart(vegaEmbed);\n    } else {\n      loadScript(\"vega\")\n        .then(() => loadScript(\"vega-lite\"))\n        .then(() => loadScript(\"vega-embed\"))\n        .catch(showError)\n        .then(() => displayChart(vegaEmbed));\n    }\n  })({\"config\": {\"view\": {\"continuousWidth\": 400, \"continuousHeight\": 300}, \"area\": {\"fill\": \"#51C0E9\"}, \"axis\": {\"labelFont\": \"Inter, sans-serif\", \"labelFontSize\": 12, \"labelFontWeight\": \"normal\", \"labelLimit\": 60, \"labelOverlap\": \"greedy\", \"titleFont\": \"Inter, sans-serif\", \"titleFontSize\": 12, \"titleFontWeight\": \"bold\"}, \"background\": \"#ffffff\", \"legend\": {\"labelFont\": \"Inter, sans-serif\", \"labelFontSize\": 12, \"titleFont\": \"Inter, sans-serif\", \"titleFontSize\": 12, \"titleFontWeight\": \"bold\"}, \"line\": {\"stroke\": \"#51C0E9\", \"strokeWidth\": 2}, \"rect\": {\"fill\": \"#51C0E9\"}, \"title\": {\"anchor\": \"start\", \"color\": \"#000000\", \"font\": \"Inter, sans-serif\", \"fontSize\": 22, \"fontWeight\": \"normal\"}}, \"data\": {\"name\": \"data-71b63fd9f9c48bf75f3db46441d12830\"}, \"mark\": {\"type\": \"bar\", \"tooltip\": {\"content\": \"data\"}}, \"autosize\": {\"type\": \"fit\"}, \"encoding\": {\"color\": {\"type\": \"nominal\", \"field\": \"role\", \"scale\": {\"type\": \"linear\", \"zero\": false}, \"sort\": null}, \"x\": {\"type\": \"quantitative\", \"field\": \"expected_bonus\", \"scale\": {\"type\": \"linear\", \"zero\": false}, \"sort\": null}, \"y\": {\"type\": \"nominal\", \"field\": \"player\", \"scale\": {\"type\": \"linear\", \"zero\": true}, \"sort\": null}}, \"height\": 300, \"width\": \"container\", \"$schema\": \"https://vega.github.io/schema/vega-lite/v4.json\", \"datasets\": {\"data-71b63fd9f9c48bf75f3db46441d12830\": [{\"role\": \"D\", \"player\": \"Biraghi\", \"home_team\": \"Cagliari\", \"away_team\": \"Fiorentina\", \"expected_bonus\": 0.5233888626098633}, {\"role\": \"D\", \"player\": \"Singo\", \"home_team\": \"Torino\", \"away_team\": \"Sassuolo\", \"expected_bonus\": 0.46215060353279114}, {\"role\": \"D\", \"player\": \"Bremer\", \"home_team\": \"Torino\", \"away_team\": \"Sassuolo\", \"expected_bonus\": 0.418840616941452}, {\"role\": \"D\", \"player\": \"Bastoni\", \"home_team\": \"Spezia\", \"away_team\": \"Sampdoria\", \"expected_bonus\": 0.3487822115421295}, {\"role\": \"D\", \"player\": \"Maehle\", \"home_team\": \"Lazio\", \"away_team\": \"Atalanta\", \"expected_bonus\": 0.32265838980674744}, {\"role\": \"D\", \"player\": \"Vi\\u00f1a\", \"home_team\": \"Empoli\", \"away_team\": \"Roma\", \"expected_bonus\": 0.2416878640651703}, {\"role\": \"D\", \"player\": \"Mancini\", \"home_team\": \"Empoli\", \"away_team\": \"Roma\", \"expected_bonus\": 0.22618639469146729}, {\"role\": \"D\", \"player\": \"Udogie\", \"home_team\": \"Genoa\", \"away_team\": \"Udinese\", \"expected_bonus\": 0.1413959562778473}, {\"role\": \"C\", \"player\": \"Pellegrini\", \"home_team\": \"Empoli\", \"away_team\": \"Roma\", \"expected_bonus\": 1.3343018293380737}, {\"role\": \"C\", \"player\": \"Zaniolo\", \"home_team\": \"Empoli\", \"away_team\": \"Roma\", \"expected_bonus\": 0.9121341109275818}, {\"role\": \"C\", \"player\": \"Anderson\", \"home_team\": \"Lazio\", \"away_team\": \"Atalanta\", \"expected_bonus\": 0.5589703321456909}, {\"role\": \"C\", \"player\": \"Vidal\", \"home_team\": \"Inter\", \"away_team\": \"Venezia\", \"expected_bonus\": 0.5495327115058899}, {\"role\": \"C\", \"player\": \"Frattesi\", \"home_team\": \"Torino\", \"away_team\": \"Sassuolo\", \"expected_bonus\": 0.4837909936904907}, {\"role\": \"C\", \"player\": \"Damsgaard\", \"home_team\": \"Spezia\", \"away_team\": \"Sampdoria\", \"expected_bonus\": 0.2647736072540283}, {\"role\": \"C\", \"player\": \"Kovalenko\", \"home_team\": \"Spezia\", \"away_team\": \"Sampdoria\", \"expected_bonus\": 0.2503216564655304}, {\"role\": \"C\", \"player\": \"Strootman\", \"home_team\": \"Cagliari\", \"away_team\": \"Fiorentina\", \"expected_bonus\": 0.18302597105503082}, {\"role\": \"A\", \"player\": \"Dzeko\", \"home_team\": \"Inter\", \"away_team\": \"Venezia\", \"expected_bonus\": 2.2372617721557617}, {\"role\": \"A\", \"player\": \"Ibrahimovic\", \"home_team\": \"AC Milan\", \"away_team\": \"Juventus\", \"expected_bonus\": 1.445559024810791}, {\"role\": \"A\", \"player\": \"Morata\", \"home_team\": \"AC Milan\", \"away_team\": \"Juventus\", \"expected_bonus\": 0.9456921219825745}, {\"role\": \"A\", \"player\": \"Raspadori\", \"home_team\": \"Torino\", \"away_team\": \"Sassuolo\", \"expected_bonus\": 0.7814487218856812}, {\"role\": \"A\", \"player\": \"Pedro\", \"home_team\": \"Lazio\", \"away_team\": \"Atalanta\", \"expected_bonus\": 0.7209830284118652}, {\"role\": \"A\", \"player\": \"Shomurodov\", \"home_team\": \"Empoli\", \"away_team\": \"Roma\", \"expected_bonus\": 0.5386471748352051}]}}, {\"actions\": false, \"mode\": \"vega-lite\"});\n</script>",
      "text/plain": "alt.Chart(...)"
     },
     "metadata": {}
    }
   ]
  },
  {
   "cell_type": "code",
   "metadata": {
    "cell_id": "b58c355f-05eb-4bb6-8357-43257d9bde01",
    "tags": [],
    "deepnote_to_be_reexecuted": false,
    "source_hash": "364e1920",
    "execution_start": 1642862000650,
    "execution_millis": 11,
    "deepnote_table_state": {
     "pageSize": 25,
     "pageIndex": 0,
     "filters": [],
     "sortBy": []
    },
    "deepnote_table_loading": false,
    "deepnote_cell_type": "code"
   },
   "source": "fanta_team, index = display_fanta_squad(final, fanta_squads, index)",
   "execution_count": null,
   "outputs": [
    {
     "name": "stderr",
     "text": "\nA value is trying to be set on a copy of a slice from a DataFrame.\nTry using .loc[row_indexer,col_indexer] = value instead\n\nSee the caveats in the documentation: https://pandas.pydata.org/pandas-docs/stable/user_guide/indexing.html#returning-a-view-versus-a-copy\n",
     "output_type": "stream"
    }
   ]
  },
  {
   "cell_type": "code",
   "source": "_deepnote_run_altair(fanta_team, \"\"\"{\"$schema\":\"https://vega.github.io/schema/vega-lite/v4.json\",\"mark\":{\"type\":\"bar\",\"tooltip\":{\"content\":\"data\"}},\"height\":220,\"autosize\":{\"type\":\"fit\"},\"data\":{\"name\":\"placeholder\"},\"encoding\":{\"x\":{\"field\":\"expected_bonus\",\"type\":\"quantitative\",\"sort\":null,\"scale\":{\"type\":\"linear\",\"zero\":false}},\"y\":{\"field\":\"player\",\"type\":\"nominal\",\"sort\":null,\"scale\":{\"type\":\"linear\",\"zero\":true}},\"color\":{\"field\":\"role\",\"type\":\"nominal\",\"sort\":null,\"scale\":{\"type\":\"linear\",\"zero\":false}}}}\"\"\")",
   "metadata": {
    "cell_id": "00018-aa716c4e-f186-47e0-8b97-c4fee5e8441c",
    "deepnote_variable_name": "fanta_team",
    "deepnote_visualization_spec": {
     "$schema": "https://vega.github.io/schema/vega-lite/v4.json",
     "mark": {
      "type": "bar",
      "tooltip": {
       "content": "data"
      }
     },
     "height": 220,
     "autosize": {
      "type": "fit"
     },
     "data": {
      "name": "placeholder"
     },
     "encoding": {
      "x": {
       "field": "expected_bonus",
       "type": "quantitative",
       "sort": null,
       "scale": {
        "type": "linear",
        "zero": false
       }
      },
      "y": {
       "field": "player",
       "type": "nominal",
       "sort": null,
       "scale": {
        "type": "linear",
        "zero": true
       }
      },
      "color": {
       "field": "role",
       "type": "nominal",
       "sort": null,
       "scale": {
        "type": "linear",
        "zero": false
       }
      }
     }
    },
    "deepnote_to_be_reexecuted": false,
    "source_hash": "c7286491",
    "deepnote_output_heights": [
     314
    ],
    "allow_embed": "output",
    "execution_start": 1642862051306,
    "execution_millis": 156,
    "deepnote_cell_type": "visualization"
   },
   "execution_count": null,
   "outputs": [
    {
     "output_type": "execute_result",
     "execution_count": 136,
     "data": {
      "text/html": "\n<div id=\"altair-viz-7f3debcbcad74968b9bc87d758891f6d\"></div>\n<script type=\"text/javascript\">\n  (function(spec, embedOpt){\n    let outputDiv = document.currentScript.previousElementSibling;\n    if (outputDiv.id !== \"altair-viz-7f3debcbcad74968b9bc87d758891f6d\") {\n      outputDiv = document.getElementById(\"altair-viz-7f3debcbcad74968b9bc87d758891f6d\");\n    }\n    const paths = {\n      \"vega\": \"https://cdn.jsdelivr.net/npm//vega@5?noext\",\n      \"vega-lib\": \"https://cdn.jsdelivr.net/npm//vega-lib?noext\",\n      \"vega-lite\": \"https://cdn.jsdelivr.net/npm//vega-lite@4.8.1?noext\",\n      \"vega-embed\": \"https://cdn.jsdelivr.net/npm//vega-embed@6?noext\",\n    };\n\n    function loadScript(lib) {\n      return new Promise(function(resolve, reject) {\n        var s = document.createElement('script');\n        s.src = paths[lib];\n        s.async = true;\n        s.onload = () => resolve(paths[lib]);\n        s.onerror = () => reject(`Error loading script: ${paths[lib]}`);\n        document.getElementsByTagName(\"head\")[0].appendChild(s);\n      });\n    }\n\n    function showError(err) {\n      outputDiv.innerHTML = `<div class=\"error\" style=\"color:red;\">${err}</div>`;\n      throw err;\n    }\n\n    function displayChart(vegaEmbed) {\n      vegaEmbed(outputDiv, spec, embedOpt)\n        .catch(err => showError(`Javascript Error: ${err.message}<br>This usually means there's a typo in your chart specification. See the javascript console for the full traceback.`));\n    }\n\n    if(typeof define === \"function\" && define.amd) {\n      requirejs.config({paths});\n      require([\"vega-embed\"], displayChart, err => showError(`Error loading script: ${err.message}`));\n    } else if (typeof vegaEmbed === \"function\") {\n      displayChart(vegaEmbed);\n    } else {\n      loadScript(\"vega\")\n        .then(() => loadScript(\"vega-lite\"))\n        .then(() => loadScript(\"vega-embed\"))\n        .catch(showError)\n        .then(() => displayChart(vegaEmbed));\n    }\n  })({\"config\": {\"view\": {\"continuousWidth\": 400, \"continuousHeight\": 300}, \"area\": {\"fill\": \"#51C0E9\"}, \"axis\": {\"labelFont\": \"Inter, sans-serif\", \"labelFontSize\": 12, \"labelFontWeight\": \"normal\", \"labelLimit\": 60, \"labelOverlap\": \"greedy\", \"titleFont\": \"Inter, sans-serif\", \"titleFontSize\": 12, \"titleFontWeight\": \"bold\"}, \"background\": \"#ffffff\", \"legend\": {\"labelFont\": \"Inter, sans-serif\", \"labelFontSize\": 12, \"titleFont\": \"Inter, sans-serif\", \"titleFontSize\": 12, \"titleFontWeight\": \"bold\"}, \"line\": {\"stroke\": \"#51C0E9\", \"strokeWidth\": 2}, \"rect\": {\"fill\": \"#51C0E9\"}, \"title\": {\"anchor\": \"start\", \"color\": \"#000000\", \"font\": \"Inter, sans-serif\", \"fontSize\": 22, \"fontWeight\": \"normal\"}}, \"data\": {\"name\": \"data-7c144e0dd9ef64d6c7e496086a96309a\"}, \"mark\": {\"type\": \"bar\", \"tooltip\": {\"content\": \"data\"}}, \"autosize\": {\"type\": \"fit\"}, \"encoding\": {\"color\": {\"type\": \"nominal\", \"field\": \"role\", \"scale\": {\"type\": \"linear\", \"zero\": false}, \"sort\": null}, \"x\": {\"type\": \"quantitative\", \"field\": \"expected_bonus\", \"scale\": {\"type\": \"linear\", \"zero\": false}, \"sort\": null}, \"y\": {\"type\": \"nominal\", \"field\": \"player\", \"scale\": {\"type\": \"linear\", \"zero\": true}, \"sort\": null}}, \"height\": 300, \"width\": \"container\", \"$schema\": \"https://vega.github.io/schema/vega-lite/v4.json\", \"datasets\": {\"data-7c144e0dd9ef64d6c7e496086a96309a\": [{\"role\": \"D\", \"player\": \"Koulibaly\", \"home_team\": \"Napoli\", \"away_team\": \"Salernitana\", \"expected_bonus\": 0.3754033148288727}, {\"role\": \"D\", \"player\": \"Vojvoda\", \"home_team\": \"Torino\", \"away_team\": \"Sassuolo\", \"expected_bonus\": 0.3749156892299652}, {\"role\": \"D\", \"player\": \"Demiral\", \"home_team\": \"Lazio\", \"away_team\": \"Atalanta\", \"expected_bonus\": 0.24888396263122559}, {\"role\": \"D\", \"player\": \"Karsdorp\", \"home_team\": \"Empoli\", \"away_team\": \"Roma\", \"expected_bonus\": 0.22465300559997559}, {\"role\": \"D\", \"player\": \"Hysaj\", \"home_team\": \"Lazio\", \"away_team\": \"Atalanta\", \"expected_bonus\": 0.18797650933265686}, {\"role\": \"D\", \"player\": \"Ghiglione\", \"home_team\": \"Genoa\", \"away_team\": \"Udinese\", \"expected_bonus\": 0.1560533493757248}, {\"role\": \"D\", \"player\": \"Zappa\", \"home_team\": \"Cagliari\", \"away_team\": \"Fiorentina\", \"expected_bonus\": 0.15053898096084595}, {\"role\": \"D\", \"player\": \"Maksimovic\", \"home_team\": \"Genoa\", \"away_team\": \"Udinese\", \"expected_bonus\": 0.08796397596597672}, {\"role\": \"C\", \"player\": \"Diaz\", \"home_team\": \"AC Milan\", \"away_team\": \"Juventus\", \"expected_bonus\": 0.6400080919265747}, {\"role\": \"C\", \"player\": \"Pessina\", \"home_team\": \"Lazio\", \"away_team\": \"Atalanta\", \"expected_bonus\": 0.588080883026123}, {\"role\": \"C\", \"player\": \"Zaccagni\", \"home_team\": \"Lazio\", \"away_team\": \"Atalanta\", \"expected_bonus\": 0.3143397867679596}, {\"role\": \"C\", \"player\": \"Messias\", \"home_team\": \"AC Milan\", \"away_team\": \"Juventus\", \"expected_bonus\": 0.3097139596939087}, {\"role\": \"C\", \"player\": \"Traore\", \"home_team\": \"Torino\", \"away_team\": \"Sassuolo\", \"expected_bonus\": 0.15302318334579468}, {\"role\": \"C\", \"player\": \"Hernani\", \"home_team\": \"Genoa\", \"away_team\": \"Udinese\", \"expected_bonus\": 0.10016010701656342}, {\"role\": \"C\", \"player\": \"Sigurdsson\", \"home_team\": \"Inter\", \"away_team\": \"Venezia\", \"expected_bonus\": -0.00043594781891442835}, {\"role\": \"A\", \"player\": \"Immobile\", \"home_team\": \"Lazio\", \"away_team\": \"Atalanta\", \"expected_bonus\": 2.235358238220215}, {\"role\": \"A\", \"player\": \"Scamacca\", \"home_team\": \"Torino\", \"away_team\": \"Sassuolo\", \"expected_bonus\": 1.2342476844787598}, {\"role\": \"A\", \"player\": \"Pedro\", \"home_team\": \"Cagliari\", \"away_team\": \"Fiorentina\", \"expected_bonus\": 1.0665740966796875}, {\"role\": \"A\", \"player\": \"Le\\u00e3o\", \"home_team\": \"AC Milan\", \"away_team\": \"Juventus\", \"expected_bonus\": 0.741421639919281}, {\"role\": \"A\", \"player\": \"Simy\", \"home_team\": \"Napoli\", \"away_team\": \"Salernitana\", \"expected_bonus\": 0.6147742867469788}, {\"role\": \"A\", \"player\": \"Caicedo\", \"home_team\": \"Genoa\", \"away_team\": \"Udinese\", \"expected_bonus\": 0.34999769926071167}]}}, {\"actions\": false, \"mode\": \"vega-lite\"});\n</script>",
      "text/plain": "alt.Chart(...)"
     },
     "metadata": {}
    }
   ]
  },
  {
   "cell_type": "code",
   "metadata": {
    "cell_id": "1470dac8-b59a-42a4-a0f9-04afc7623681",
    "tags": [],
    "deepnote_to_be_reexecuted": false,
    "source_hash": "364e1920",
    "execution_start": 1642862127127,
    "execution_millis": 3,
    "deepnote_table_state": {
     "pageSize": 25,
     "pageIndex": 0,
     "filters": [],
     "sortBy": []
    },
    "deepnote_table_loading": false,
    "deepnote_cell_type": "code"
   },
   "source": "fanta_team, index = display_fanta_squad(final, fanta_squads, index)",
   "execution_count": null,
   "outputs": [
    {
     "name": "stderr",
     "text": "\nA value is trying to be set on a copy of a slice from a DataFrame.\nTry using .loc[row_indexer,col_indexer] = value instead\n\nSee the caveats in the documentation: https://pandas.pydata.org/pandas-docs/stable/user_guide/indexing.html#returning-a-view-versus-a-copy\n",
     "output_type": "stream"
    }
   ]
  },
  {
   "cell_type": "code",
   "source": "_deepnote_run_altair(fanta_team, \"\"\"{\"$schema\":\"https://vega.github.io/schema/vega-lite/v4.json\",\"mark\":{\"type\":\"bar\",\"tooltip\":{\"content\":\"data\"}},\"height\":220,\"autosize\":{\"type\":\"fit\"},\"data\":{\"name\":\"placeholder\"},\"encoding\":{\"x\":{\"field\":\"expected_bonus\",\"type\":\"quantitative\",\"sort\":null,\"scale\":{\"type\":\"linear\",\"zero\":false}},\"y\":{\"field\":\"player\",\"type\":\"nominal\",\"sort\":null,\"scale\":{\"type\":\"linear\",\"zero\":true}},\"color\":{\"field\":\"role\",\"type\":\"nominal\",\"sort\":null,\"scale\":{\"type\":\"linear\",\"zero\":false}}}}\"\"\")",
   "metadata": {
    "cell_id": "00020-647d66fe-48bd-42b9-82f8-f9b2b4883976",
    "deepnote_variable_name": "fanta_team",
    "deepnote_visualization_spec": {
     "$schema": "https://vega.github.io/schema/vega-lite/v4.json",
     "mark": {
      "type": "bar",
      "tooltip": {
       "content": "data"
      }
     },
     "height": 220,
     "autosize": {
      "type": "fit"
     },
     "data": {
      "name": "placeholder"
     },
     "encoding": {
      "x": {
       "field": "expected_bonus",
       "type": "quantitative",
       "sort": null,
       "scale": {
        "type": "linear",
        "zero": false
       }
      },
      "y": {
       "field": "player",
       "type": "nominal",
       "sort": null,
       "scale": {
        "type": "linear",
        "zero": true
       }
      },
      "color": {
       "field": "role",
       "type": "nominal",
       "sort": null,
       "scale": {
        "type": "linear",
        "zero": false
       }
      }
     }
    },
    "deepnote_to_be_reexecuted": false,
    "source_hash": "c7286491",
    "deepnote_output_heights": [
     314
    ],
    "allow_embed": "output",
    "execution_start": 1642862142808,
    "execution_millis": 169,
    "deepnote_cell_type": "visualization"
   },
   "execution_count": null,
   "outputs": [
    {
     "output_type": "execute_result",
     "execution_count": 139,
     "data": {
      "text/html": "\n<div id=\"altair-viz-9ad961a36b134246b8a61bc04d3498dd\"></div>\n<script type=\"text/javascript\">\n  (function(spec, embedOpt){\n    let outputDiv = document.currentScript.previousElementSibling;\n    if (outputDiv.id !== \"altair-viz-9ad961a36b134246b8a61bc04d3498dd\") {\n      outputDiv = document.getElementById(\"altair-viz-9ad961a36b134246b8a61bc04d3498dd\");\n    }\n    const paths = {\n      \"vega\": \"https://cdn.jsdelivr.net/npm//vega@5?noext\",\n      \"vega-lib\": \"https://cdn.jsdelivr.net/npm//vega-lib?noext\",\n      \"vega-lite\": \"https://cdn.jsdelivr.net/npm//vega-lite@4.8.1?noext\",\n      \"vega-embed\": \"https://cdn.jsdelivr.net/npm//vega-embed@6?noext\",\n    };\n\n    function loadScript(lib) {\n      return new Promise(function(resolve, reject) {\n        var s = document.createElement('script');\n        s.src = paths[lib];\n        s.async = true;\n        s.onload = () => resolve(paths[lib]);\n        s.onerror = () => reject(`Error loading script: ${paths[lib]}`);\n        document.getElementsByTagName(\"head\")[0].appendChild(s);\n      });\n    }\n\n    function showError(err) {\n      outputDiv.innerHTML = `<div class=\"error\" style=\"color:red;\">${err}</div>`;\n      throw err;\n    }\n\n    function displayChart(vegaEmbed) {\n      vegaEmbed(outputDiv, spec, embedOpt)\n        .catch(err => showError(`Javascript Error: ${err.message}<br>This usually means there's a typo in your chart specification. See the javascript console for the full traceback.`));\n    }\n\n    if(typeof define === \"function\" && define.amd) {\n      requirejs.config({paths});\n      require([\"vega-embed\"], displayChart, err => showError(`Error loading script: ${err.message}`));\n    } else if (typeof vegaEmbed === \"function\") {\n      displayChart(vegaEmbed);\n    } else {\n      loadScript(\"vega\")\n        .then(() => loadScript(\"vega-lite\"))\n        .then(() => loadScript(\"vega-embed\"))\n        .catch(showError)\n        .then(() => displayChart(vegaEmbed));\n    }\n  })({\"config\": {\"view\": {\"continuousWidth\": 400, \"continuousHeight\": 300}, \"area\": {\"fill\": \"#51C0E9\"}, \"axis\": {\"labelFont\": \"Inter, sans-serif\", \"labelFontSize\": 12, \"labelFontWeight\": \"normal\", \"labelLimit\": 60, \"labelOverlap\": \"greedy\", \"titleFont\": \"Inter, sans-serif\", \"titleFontSize\": 12, \"titleFontWeight\": \"bold\"}, \"background\": \"#ffffff\", \"legend\": {\"labelFont\": \"Inter, sans-serif\", \"labelFontSize\": 12, \"titleFont\": \"Inter, sans-serif\", \"titleFontSize\": 12, \"titleFontWeight\": \"bold\"}, \"line\": {\"stroke\": \"#51C0E9\", \"strokeWidth\": 2}, \"rect\": {\"fill\": \"#51C0E9\"}, \"title\": {\"anchor\": \"start\", \"color\": \"#000000\", \"font\": \"Inter, sans-serif\", \"fontSize\": 22, \"fontWeight\": \"normal\"}}, \"data\": {\"name\": \"data-02bba2c9ea6de45723e81999c2cde6e9\"}, \"mark\": {\"type\": \"bar\", \"tooltip\": {\"content\": \"data\"}}, \"autosize\": {\"type\": \"fit\"}, \"encoding\": {\"color\": {\"type\": \"nominal\", \"field\": \"role\", \"scale\": {\"type\": \"linear\", \"zero\": false}, \"sort\": null}, \"x\": {\"type\": \"quantitative\", \"field\": \"expected_bonus\", \"scale\": {\"type\": \"linear\", \"zero\": false}, \"sort\": null}, \"y\": {\"type\": \"nominal\", \"field\": \"player\", \"scale\": {\"type\": \"linear\", \"zero\": true}, \"sort\": null}}, \"height\": 300, \"width\": \"container\", \"$schema\": \"https://vega.github.io/schema/vega-lite/v4.json\", \"datasets\": {\"data-02bba2c9ea6de45723e81999c2cde6e9\": [{\"role\": \"D\", \"player\": \"Gjimshiti\", \"home_team\": \"Lazio\", \"away_team\": \"Atalanta\", \"expected_bonus\": 0.6641607880592346}, {\"role\": \"D\", \"player\": \"Tomori\", \"home_team\": \"AC Milan\", \"away_team\": \"Juventus\", \"expected_bonus\": 0.6325387358665466}, {\"role\": \"D\", \"player\": \"Felipe\", \"home_team\": \"Lazio\", \"away_team\": \"Atalanta\", \"expected_bonus\": 0.41820624470710754}, {\"role\": \"D\", \"player\": \"Rui\", \"home_team\": \"Napoli\", \"away_team\": \"Salernitana\", \"expected_bonus\": 0.3537508547306061}, {\"role\": \"D\", \"player\": \"Dumfries\", \"home_team\": \"Inter\", \"away_team\": \"Venezia\", \"expected_bonus\": 0.302652508020401}, {\"role\": \"D\", \"player\": \"Iba\\u00f1ez\", \"home_team\": \"Empoli\", \"away_team\": \"Roma\", \"expected_bonus\": 0.1624433398246765}, {\"role\": \"D\", \"player\": \"Lazzari\", \"home_team\": \"Lazio\", \"away_team\": \"Atalanta\", \"expected_bonus\": 0.09277738630771637}, {\"role\": \"D\", \"player\": \"Smalling\", \"home_team\": \"Empoli\", \"away_team\": \"Roma\", \"expected_bonus\": 0.09063220769166946}, {\"role\": \"C\", \"player\": \"Mkhitaryan\", \"home_team\": \"Empoli\", \"away_team\": \"Roma\", \"expected_bonus\": 0.985738217830658}, {\"role\": \"C\", \"player\": \"Torreira\", \"home_team\": \"Cagliari\", \"away_team\": \"Fiorentina\", \"expected_bonus\": 0.9848358035087585}, {\"role\": \"C\", \"player\": \"Chiesa\", \"home_team\": \"AC Milan\", \"away_team\": \"Juventus\", \"expected_bonus\": 0.6876211762428284}, {\"role\": \"C\", \"player\": \"Fabi\\u00e1n\", \"home_team\": \"Napoli\", \"away_team\": \"Salernitana\", \"expected_bonus\": 0.36647266149520874}, {\"role\": \"C\", \"player\": \"Pereyra\", \"home_team\": \"Genoa\", \"away_team\": \"Udinese\", \"expected_bonus\": 0.33188602328300476}, {\"role\": \"C\", \"player\": \"Lopez\", \"home_team\": \"Torino\", \"away_team\": \"Sassuolo\", \"expected_bonus\": 0.3292502760887146}, {\"role\": \"C\", \"player\": \"Freuler\", \"home_team\": \"Lazio\", \"away_team\": \"Atalanta\", \"expected_bonus\": 0.1425045281648636}, {\"role\": \"A\", \"player\": \"Osimhen\", \"home_team\": \"Napoli\", \"away_team\": \"Salernitana\", \"expected_bonus\": 1.4971483945846558}, {\"role\": \"A\", \"player\": \"Bonazzoli\", \"home_team\": \"Napoli\", \"away_team\": \"Salernitana\", \"expected_bonus\": 1.2538243532180786}, {\"role\": \"A\", \"player\": \"Rib\\u00e9ry\", \"home_team\": \"Napoli\", \"away_team\": \"Salernitana\", \"expected_bonus\": 0.500808835029602}, {\"role\": \"A\", \"player\": \"Ilicic\", \"home_team\": \"Lazio\", \"away_team\": \"Atalanta\", \"expected_bonus\": 0.36247920989990234}, {\"role\": \"A\", \"player\": \"Politano\", \"home_team\": \"Napoli\", \"away_team\": \"Salernitana\", \"expected_bonus\": 0.27746444940567017}, {\"role\": \"A\", \"player\": \"Pavoletti\", \"home_team\": \"Cagliari\", \"away_team\": \"Fiorentina\", \"expected_bonus\": 0.19769147038459778}]}}, {\"actions\": false, \"mode\": \"vega-lite\"});\n</script>",
      "text/plain": "alt.Chart(...)"
     },
     "metadata": {}
    }
   ]
  },
  {
   "cell_type": "markdown",
   "source": "<a style='text-decoration:none;line-height:16px;display:flex;color:#5B5B62;padding:10px;justify-content:end;' href='https://deepnote.com?utm_source=created-in-deepnote-cell&projectId=33032a6a-2897-47b4-aea1-17273889d7eb' target=\"_blank\">\n<img alt='Created in deepnote.com' style='display:inline;max-height:16px;margin:0px;margin-right:7.5px;' src='data:image/svg+xml;base64,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' > </img>\nCreated in <span style='font-weight:600;margin-left:4px;'>Deepnote</span></a>",
   "metadata": {
    "tags": [],
    "created_in_deepnote_cell": true,
    "deepnote_cell_type": "markdown"
   }
  }
 ],
 "nbformat": 4,
 "nbformat_minor": 5,
 "metadata": {
  "kernelspec": {
   "display_name": "Python 3 (ipykernel)",
   "language": "python",
   "name": "python3"
  },
  "language_info": {
   "codemirror_mode": {
    "name": "ipython",
    "version": 3
   },
   "file_extension": ".py",
   "mimetype": "text/x-python",
   "name": "python",
   "nbconvert_exporter": "python",
   "pygments_lexer": "ipython3",
   "version": "3.8.5"
  },
  "deepnote_notebook_id": "79264bc8-73b3-48ee-abb1-098e9cb2daec",
  "deepnote": {},
  "deepnote_execution_queue": []
 }
}