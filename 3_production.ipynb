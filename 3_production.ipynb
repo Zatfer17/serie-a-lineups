{
 "cells": [
  {
   "cell_type": "code",
   "execution_count": 1,
   "id": "bed70e0e-789a-4ff0-ab9f-fa59576a0a28",
   "metadata": {},
   "outputs": [],
   "source": [
    "import json\n",
    "import pandas as pd\n",
    "\n",
    "from datetime import datetime\n",
    "from modules.scoring import get_scoring_set, get_features, score\n",
    "from modules.training import split_data, transform_data"
   ]
  },
  {
   "cell_type": "code",
   "execution_count": 2,
   "id": "cc266696-1c9c-47bf-b4f0-49b59d877e98",
   "metadata": {},
   "outputs": [
    {
     "name": "stderr",
     "output_type": "stream",
     "text": [
      "  0%|                                                                                                                                                                                                              | 0/20 [00:00<?, ?it/s]"
     ]
    },
    {
     "name": "stdout",
     "output_type": "stream",
     "text": [
      "2022-01-22 14:22:13 -> Loading config ...\n",
      "2022-01-22 14:22:13 -> Loading config done!\n",
      "2022-01-22 14:22:13 -> Getting scoring set ...\n"
     ]
    },
    {
     "name": "stderr",
     "output_type": "stream",
     "text": [
      "100%|█████████████████████████████████████████████████████████████████████████████████████████████████████████████████████████████████████████████████████████████████████████████████████████████████████| 20/20 [00:11<00:00,  1.81it/s]\n",
      "100%|███████████████████████████████████████████████████████████████████████████████████████████████████████████████████████████████████████████████████████████████████████████████████████████████████| 176/176 [02:23<00:00,  1.22it/s]\n",
      "100%|███████████████████████████████████████████████████████████████████████████████████████████████████████████████████████████████████████████████████████████████████████████████████████████████████| 174/174 [00:05<00:00, 29.29it/s]"
     ]
    },
    {
     "name": "stdout",
     "output_type": "stream",
     "text": [
      "2022-01-22 14:24:54 -> Getting scoring set done!\n",
      "2022-01-22 14:24:54 -> Processing features ...\n",
      "2022-01-22 14:24:54 -> Processing features done!\n",
      "2022-01-22 14:24:54 -> Scoring ...\n",
      "2022-01-22 14:24:54 -> Scoring done!\n"
     ]
    },
    {
     "name": "stderr",
     "output_type": "stream",
     "text": [
      "\n"
     ]
    }
   ],
   "source": [
    "try:\n",
    "    \n",
    "    ###############################################################################################\n",
    "    status = 'Loading config ...'\n",
    "    print('{} -> {}'.format(datetime.now().strftime('%Y-%m-%d %H:%M:%S'), status))\n",
    "    with open('config/config.json') as config:\n",
    "        config = json.load(config)\n",
    "    status = 'Loading config done!'\n",
    "    print('{} -> {}'.format(datetime.now().strftime('%Y-%m-%d %H:%M:%S'), status))\n",
    "    ###############################################################################################\n",
    "    \n",
    "    ###############################################################################################\n",
    "    status = 'Getting scoring set ...'\n",
    "    print('{} -> {}'.format(datetime.now().strftime('%Y-%m-%d %H:%M:%S'), status))\n",
    "    scoring_set = get_scoring_set(config['league_name'])\n",
    "    scoring_set = get_features(scoring_set, config['league_name'])\n",
    "    scoring_set = scoring_set[~scoring_set.home_team.isin(['Bologna', 'Verona'])]\n",
    "    scoring_set = scoring_set[~scoring_set.away_team.isin(['Bologna', 'Verona'])]\n",
    "    X_raw, metadata = split_data(scoring_set, metadata_columns=['fanta_team', 'date', 'role', 'player_id', 'player','team'], production=True)\n",
    "    status = 'Getting scoring set done!'\n",
    "    print('{} -> {}'.format(datetime.now().strftime('%Y-%m-%d %H:%M:%S'), status))\n",
    "    ###############################################################################################\n",
    "    \n",
    "    ###############################################################################################\n",
    "    status = 'Processing features ...'\n",
    "    print('{} -> {}'.format(datetime.now().strftime('%Y-%m-%d %H:%M:%S'), status))\n",
    "    X = transform_data(X_test_raw=X_raw, categorical_columns=['home_team', 'away_team', 'is_home', 'season', 'month', 'day', 'hour', 'week_day', 'position'], production=True)\n",
    "    status = 'Processing features done!'\n",
    "    print('{} -> {}'.format(datetime.now().strftime('%Y-%m-%d %H:%M:%S'), status))\n",
    "    ###############################################################################################\n",
    "\n",
    "    ###############################################################################################\n",
    "    status = 'Scoring ...'\n",
    "    print('{} -> {}'.format(datetime.now().strftime('%Y-%m-%d %H:%M:%S'), status))\n",
    "    score(X, scoring_set, config['league_name'])\n",
    "    status = 'Scoring done!'\n",
    "    print('{} -> {}'.format(datetime.now().strftime('%Y-%m-%d %H:%M:%S'), status))\n",
    "    ###############################################################################################\n",
    "    \n",
    "except Exception as e:\n",
    "    print('Exception: {}'.format(e))\n",
    "    print('Errored out during: {}'.format(status))"
   ]
  }
 ],
 "metadata": {
  "kernelspec": {
   "display_name": "Python 3 (ipykernel)",
   "language": "python",
   "name": "python3"
  },
  "language_info": {
   "codemirror_mode": {
    "name": "ipython",
    "version": 3
   },
   "file_extension": ".py",
   "mimetype": "text/x-python",
   "name": "python",
   "nbconvert_exporter": "python",
   "pygments_lexer": "ipython3",
   "version": "3.8.5"
  }
 },
 "nbformat": 4,
 "nbformat_minor": 5
}
