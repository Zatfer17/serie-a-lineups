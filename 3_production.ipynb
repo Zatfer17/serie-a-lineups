{
 "cells": [
  {
   "cell_type": "code",
   "execution_count": 1,
   "id": "470cd072",
   "metadata": {
    "cell_id": "c4903b31-7a7e-4488-a25d-25ed0ed0a931",
    "deepnote_cell_type": "code",
    "deepnote_to_be_reexecuted": false,
    "execution_millis": 4432,
    "execution_start": 1642858975255,
    "source_hash": "57da8c0c"
   },
   "outputs": [],
   "source": [
    "import json\n",
    "import pandas as pd\n",
    "\n",
    "from datetime import datetime\n",
    "from modules.scoring import get_scoring_set, get_features, score\n",
    "from modules.training import split_data, transform_data"
   ]
  },
  {
   "cell_type": "code",
   "execution_count": 2,
   "id": "de7f7261",
   "metadata": {
    "cell_id": "dd988580-2d0a-4bf9-9237-f2f68d8d9741",
    "deepnote_cell_type": "code",
    "deepnote_to_be_reexecuted": false,
    "execution_millis": 11,
    "execution_start": 1642861401186,
    "source_hash": "91c57bed",
    "tags": []
   },
   "outputs": [],
   "source": [
    "def display_fanta_squad(final, fanta_squads, index):\n",
    "    fanta_team = final[final.fanta_team == fanta_squads[index]]\n",
    "    fanta_team['player'] = fanta_team['player'].apply(lambda x: x.split(' ')[-1])\n",
    "    fanta_team = fanta_team[['role', 'player', 'home_team', 'away_team', 'expected_bonus']].sort_values(by=['role', 'expected_bonus'], ascending=False)\n",
    "    return fanta_team, index+1    "
   ]
  },
  {
   "cell_type": "code",
   "execution_count": 3,
   "id": "c09fbff8",
   "metadata": {
    "cell_id": "00001-0a436633-c7d2-4b26-be2d-7654d021102b",
    "deepnote_cell_type": "code",
    "deepnote_to_be_reexecuted": false,
    "execution_millis": 242399,
    "execution_start": 1642858979687,
    "source_hash": "8e4d0298"
   },
   "outputs": [
    {
     "name": "stdout",
     "output_type": "stream",
     "text": [
      "2022-01-22 23:09:26 -> Loading config ...\n",
      "2022-01-22 23:09:26 -> Loading config done!\n",
      "2022-01-22 23:09:26 -> Getting scoring set ...\n"
     ]
    },
    {
     "name": "stderr",
     "output_type": "stream",
     "text": [
      "100%|█████████████████████████████████████████████████████████████████████████████████████████████████████████████████████████████████████████████████████████████████████████████████████████████████████| 20/20 [00:14<00:00,  1.41it/s]\n",
      "100%|███████████████████████████████████████████████████████████████████████████████████████████████████████████████████████████████████████████████████████████████████████████████████████████████████| 176/176 [02:56<00:00,  1.00s/it]\n",
      "100%|███████████████████████████████████████████████████████████████████████████████████████████████████████████████████████████████████████████████████████████████████████████████████████████████████| 174/174 [00:05<00:00, 33.87it/s]\n"
     ]
    },
    {
     "name": "stdout",
     "output_type": "stream",
     "text": [
      "2022-01-22 23:12:42 -> Getting scoring set done!\n",
      "2022-01-22 23:12:42 -> Processing features ...\n",
      "2022-01-22 23:12:42 -> Processing features done!\n",
      "2022-01-22 23:12:42 -> Scoring ...\n",
      "2022-01-22 23:12:42 -> Scoring done!\n"
     ]
    }
   ],
   "source": [
    "try:\n",
    "    \n",
    "    ###############################################################################################\n",
    "    status = 'Loading config ...'\n",
    "    print('{} -> {}'.format(datetime.now().strftime('%Y-%m-%d %H:%M:%S'), status))\n",
    "    with open('config/config.json') as config:\n",
    "        config = json.load(config)\n",
    "    status = 'Loading config done!'\n",
    "    print('{} -> {}'.format(datetime.now().strftime('%Y-%m-%d %H:%M:%S'), status))\n",
    "    ###############################################################################################\n",
    "    \n",
    "    ###############################################################################################\n",
    "    status = 'Getting scoring set ...'\n",
    "    print('{} -> {}'.format(datetime.now().strftime('%Y-%m-%d %H:%M:%S'), status))\n",
    "    scoring_set = get_scoring_set(config['league_name'])\n",
    "    scoring_set = get_features(scoring_set, config['league_name'])\n",
    "    scoring_set = scoring_set[~scoring_set.home_team.isin(['Bologna', 'Verona', 'Lazio', 'Atalanta', 'Genoa', 'Udinese', 'Inter', 'Venezia'])]\n",
    "    scoring_set = scoring_set[~scoring_set.away_team.isin(['Bologna', 'Verona', 'Lazio', 'Atalanta', 'Genoa', 'Udinese', 'Inter', 'Venezia'])]\n",
    "    X_raw, metadata = split_data(scoring_set, metadata_columns=['fanta_team', 'date', 'role', 'player_id', 'player','team'], production=True)\n",
    "    status = 'Getting scoring set done!'\n",
    "    print('{} -> {}'.format(datetime.now().strftime('%Y-%m-%d %H:%M:%S'), status))\n",
    "    ###############################################################################################\n",
    "    \n",
    "    ###############################################################################################\n",
    "    status = 'Processing features ...'\n",
    "    print('{} -> {}'.format(datetime.now().strftime('%Y-%m-%d %H:%M:%S'), status))\n",
    "    X = transform_data(X_test_raw=X_raw, categorical_columns=['home_team', 'away_team', 'is_home', 'season', 'month', 'day', 'hour', 'week_day', 'position'], production=True)\n",
    "    status = 'Processing features done!'\n",
    "    print('{} -> {}'.format(datetime.now().strftime('%Y-%m-%d %H:%M:%S'), status))\n",
    "    ###############################################################################################\n",
    "\n",
    "    ###############################################################################################\n",
    "    status = 'Scoring ...'\n",
    "    print('{} -> {}'.format(datetime.now().strftime('%Y-%m-%d %H:%M:%S'), status))\n",
    "    final = score(X, scoring_set, config['league_name'])\n",
    "    status = 'Scoring done!'\n",
    "    print('{} -> {}'.format(datetime.now().strftime('%Y-%m-%d %H:%M:%S'), status))\n",
    "    ###############################################################################################\n",
    "    \n",
    "except Exception as e:\n",
    "    print('Exception: {}'.format(e))\n",
    "    print('Errored out during: {}'.format(status))"
   ]
  }
 ],
 "metadata": {
  "deepnote": {},
  "deepnote_execution_queue": [],
  "deepnote_notebook_id": "79264bc8-73b3-48ee-abb1-098e9cb2daec",
  "kernelspec": {
   "display_name": "Python 3 (ipykernel)",
   "language": "python",
   "name": "python3"
  },
  "language_info": {
   "codemirror_mode": {
    "name": "ipython",
    "version": 3
   },
   "file_extension": ".py",
   "mimetype": "text/x-python",
   "name": "python",
   "nbconvert_exporter": "python",
   "pygments_lexer": "ipython3",
   "version": "3.8.12"
  }
 },
 "nbformat": 4,
 "nbformat_minor": 5
}
